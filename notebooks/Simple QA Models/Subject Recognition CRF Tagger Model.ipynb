{
 "cells": [
  {
   "cell_type": "markdown",
   "metadata": {},
   "source": [
    "# Subject Recognition CRF Tagger Model"
   ]
  },
  {
   "cell_type": "code",
   "execution_count": 1,
   "metadata": {},
   "outputs": [],
   "source": [
    "import sys\n",
    "sys.path.insert(0, '../../../allennlp')\n",
    "sys.path.insert(0, '../../')"
   ]
  },
  {
   "cell_type": "code",
   "execution_count": 2,
   "metadata": {},
   "outputs": [],
   "source": [
    "import os\n",
    "from allennlp.common.params import Params\n",
    "\n",
    "crf_tagger = {\n",
    "    \"dataset_reader\": {\n",
    "        \"type\": \"sequence_tagging\",\n",
    "        \"word_tag_delimiter\": \"/\",\n",
    "        \"token_indexers\": {\n",
    "            \"tokens\": {\n",
    "                \"type\": \"single_id\",\n",
    "                \"lowercase_tokens\": True\n",
    "            },\n",
    "            \"token_characters\": {\n",
    "                \"type\": \"characters\",\n",
    "                \"character_tokenizer\": {\n",
    "                    \"end_tokens\": [\"@@PADDING@@\", \"@@PADDING@@\", \"@@PADDING@@\", \"@@PADDING@@\"]\n",
    "                }\n",
    "            }\n",
    "        }\n",
    "    },\n",
    "    \"pytorch_seed\": 4006490763, # 0.957081 Other random seeds ranged from 0.954 - 0.956\n",
    "    \"numpy_seed\": 4006490763,\n",
    "    \"random_seed\": 4006490763,\n",
    "    # TODO: Update this to the location for subject name recognition training data\n",
    "    \"train_data_path\": './../../data/subject_recognition/train.txt',\n",
    "    \"validation_data_path\": './../../data/subject_recognition/dev.txt',\n",
    "    \"model\": {\n",
    "        \"type\": \"crf_tagger\",\n",
    "        \"text_field_embedder\": {\n",
    "            \"tokens\": {\n",
    "                \"type\":\n",
    "                    \"embedding\",\n",
    "                \"pretrained_file\":\n",
    "                    \"https://s3-us-west-2.amazonaws.com/allennlp/datasets/glove/glove.6B.100d.txt.gz\",\n",
    "                \"embedding_dim\":\n",
    "                    100,\n",
    "                \"trainable\":\n",
    "                    False\n",
    "            },\n",
    "            \"token_characters\": {\n",
    "                \"type\": \"character_encoding\",\n",
    "                \"embedding\": {\n",
    "                    \"embedding_dim\": 25\n",
    "                },\n",
    "                \"encoder\": {\n",
    "                    \"type\": \"cnn\",\n",
    "                    \"embedding_dim\": 25,\n",
    "                    \"num_filters\": 100,\n",
    "                    \"ngram_filter_sizes\": [5]\n",
    "                },\n",
    "                \"dropout\": 0.25\n",
    "            }\n",
    "        },\n",
    "        \"encoder\": {\n",
    "            \"type\": \"lstm\",\n",
    "            \"input_size\": 200,\n",
    "            \"hidden_size\": 600,\n",
    "            \"num_layers\": 3,\n",
    "            \"dropout\": 0.25,\n",
    "            \"bidirectional\": True\n",
    "        },\n",
    "        \"regularizer\": [[\"transitions$\", {\"type\": \"l2\", \"alpha\": 0.01}]],\n",
    "    },\n",
    "    \"iterator\": {\n",
    "        \"type\": \"bucket\",\n",
    "        \"sorting_keys\": [[\"tokens\", \"num_tokens\"]],\n",
    "        \"padding_noise\": 0.3,\n",
    "        \"batch_size\": 64,\n",
    "    },\n",
    "    \"trainer\": {\n",
    "        \"num_epochs\": 100,\n",
    "        \"cuda_device\": 0,\n",
    "        \"patience\": 6,\n",
    "        \"optimizer\": {\n",
    "            \"type\": \"adam\",\n",
    "            \"amsgrad\": False,\n",
    "        },\n",
    "        \"validation_metric\": \"+accuracy\",\n",
    "        \"learning_rate_scheduler\":  {\n",
    "          \"type\": \"reduce_on_plateau\",\n",
    "          \"factor\": 0.5,\n",
    "          \"mode\": \"max\",\n",
    "          \"patience\": 2,\n",
    "        },\n",
    "    }\n",
    "}"
   ]
  },
  {
   "cell_type": "markdown",
   "metadata": {},
   "source": [
    "## Single Run"
   ]
  },
  {
   "cell_type": "code",
   "execution_count": 3,
   "metadata": {},
   "outputs": [],
   "source": [
    "# from lib.utils import config_logging\n",
    "# from lib.utils import new_experiment_folder\n",
    "# from allennlp.commands.train import train_model\n",
    "\n",
    "# config_logging()\n",
    "# experiment_folder = new_experiment_folder(label='subject_recognition', parent_directory='../../experiments/')\n",
    "# # experiment_folder = '../../experiments/subject_recognition.02_11_08:21:07'\n",
    "# params = Params(crf_tagger)\n",
    "# print('Serialization Directory:', experiment_folder)\n",
    "# train_model(params=params, serialization_dir=experiment_folder)"
   ]
  },
  {
   "cell_type": "markdown",
   "metadata": {},
   "source": [
    "## Grid Search"
   ]
  },
  {
   "cell_type": "code",
   "execution_count": 4,
   "metadata": {},
   "outputs": [],
   "source": [
    "from copy import deepcopy\n",
    "import itertools\n",
    "\n",
    "token_characters_ = []\n",
    "# base_rnn_token_characters = {\n",
    "#     \"type\": \"character_encoding\",\n",
    "#     \"embedding\": {\n",
    "#         \"embedding_dim\": 25\n",
    "#     },\n",
    "#     \"encoder\": {\n",
    "#         \"type\": \"gru\",\n",
    "#         \"input_size\": 25,\n",
    "#         \"hidden_size\": 50,\n",
    "#         \"num_layers\": 2,\n",
    "#         \"dropout\": 0.25,\n",
    "#         \"bidirectional\": True\n",
    "#     },\n",
    "#     \"dropout\": 0.25,\n",
    "# }\n",
    "# rnn_token_characters_space = [[0.0, 0.25, 0.5], [1, 2, 3], ['gru', 'lstm']]\n",
    "# for dropout, num_layers, type_ in list(itertools.product(*rnn_token_characters_space)):\n",
    "#     copy = deepcopy(base_rnn_token_characters)\n",
    "#     copy['encoder']['dropout'] = dropout\n",
    "#     copy['dropout'] = dropout\n",
    "#     copy['encoder']['num_layers'] = num_layers\n",
    "#     copy['encoder']['type'] = type_\n",
    "#     token_characters_.append(copy)\n",
    "\n",
    "base_cnn_token_characters = {\n",
    "    \"type\": \"character_encoding\",\n",
    "    \"embedding\": {\n",
    "        \"embedding_dim\": 25\n",
    "    },\n",
    "    \"encoder\": {\n",
    "        \"type\": \"cnn\",\n",
    "        \"embedding_dim\": 25,\n",
    "        \"num_filters\": 100,\n",
    "        \"ngram_filter_sizes\": [5]\n",
    "    },\n",
    "    \"dropout\": 0.25,\n",
    "}\n",
    "cnn_token_characters_space = [[0.25]]\n",
    "for dropout, in list(itertools.product(*cnn_token_characters_space)):\n",
    "    copy = deepcopy(base_cnn_token_characters)\n",
    "    copy['dropout'] = dropout\n",
    "    token_characters_.append(copy)\n",
    "\n",
    "encoders = []\n",
    "base_encoder = {\n",
    "    \"type\": \"lstm\",\n",
    "    \"input_size\": 200,\n",
    "    \"hidden_size\": 200,\n",
    "    \"num_layers\": 3,\n",
    "    \"dropout\": 0.25,\n",
    "    \"bidirectional\": True\n",
    "}\n",
    "encoder_space = [[0.25], [2, 3, 4, 5], [600, 800, 1000], ['lstm']]\n",
    "encoder_points = list(itertools.product(*encoder_space))\n",
    "for dropout, num_layers, hidden_size, type_ in encoder_points:\n",
    "    copy = deepcopy(base_encoder)\n",
    "    copy['dropout'] = dropout\n",
    "    copy['num_layers'] = num_layers\n",
    "    copy['hidden_size'] = hidden_size\n",
    "    copy['type'] = type_\n",
    "    encoders.append(copy)"
   ]
  },
  {
   "cell_type": "code",
   "execution_count": 5,
   "metadata": {},
   "outputs": [
    {
     "name": "stdout",
     "output_type": "stream",
     "text": [
      "Number of points: 32\n"
     ]
    }
   ],
   "source": [
    "import itertools\n",
    "import random\n",
    "space = [[random.randint(0, 2**32) for i in range(32)]]\n",
    "points = list(itertools.product(*space))\n",
    "random.shuffle(points)\n",
    "print('Number of points: %d' % len(points))"
   ]
  },
  {
   "cell_type": "code",
   "execution_count": 6,
   "metadata": {},
   "outputs": [
    {
     "name": "stdout",
     "output_type": "stream",
     "text": [
      "––––––––––––––––––––––––––––––––––––––––––––––––––––––––––––––––––––––––––––––––––––––––––––––––––––\n",
      "Seed: 3626764237\n",
      "Serialization Directory: ../../experiments/subject_recognition_grid_search_0.02_11_19:16:28\n",
      "[2018-02-11 19:16:28,991][MainProcess][allennlp.common.params][INFO] random_seed = 3626764237\n",
      "[2018-02-11 19:16:28,991][MainProcess][allennlp.common.params][INFO] numpy_seed = 3626764237\n",
      "[2018-02-11 19:16:28,992][MainProcess][allennlp.common.params][INFO] pytorch_seed = 3626764237\n",
      "[2018-02-11 19:16:28,994][MainProcess][allennlp.common.checks][INFO] Pytorch version: 0.3.0.post4\n",
      "[2018-02-11 19:16:28,997][MainProcess][allennlp.common.params][INFO] dataset_reader.type = sequence_tagging\n",
      "[2018-02-11 19:16:28,998][MainProcess][allennlp.common.params][INFO] dataset_reader.token_indexers.tokens.type = single_id\n",
      "[2018-02-11 19:16:28,999][MainProcess][allennlp.common.params][INFO] dataset_reader.token_indexers.tokens.namespace = tokens\n",
      "[2018-02-11 19:16:29,000][MainProcess][allennlp.common.params][INFO] dataset_reader.token_indexers.tokens.lowercase_tokens = True\n",
      "[2018-02-11 19:16:29,000][MainProcess][allennlp.common.params][INFO] dataset_reader.token_indexers.token_characters.type = characters\n",
      "[2018-02-11 19:16:29,001][MainProcess][allennlp.common.params][INFO] dataset_reader.token_indexers.token_characters.namespace = token_characters\n",
      "[2018-02-11 19:16:29,001][MainProcess][allennlp.common.params][INFO] dataset_reader.token_indexers.token_characters.character_tokenizer.byte_encoding = None\n",
      "[2018-02-11 19:16:29,002][MainProcess][allennlp.common.params][INFO] dataset_reader.token_indexers.token_characters.character_tokenizer.lowercase_characters = False\n",
      "[2018-02-11 19:16:29,002][MainProcess][allennlp.common.params][INFO] dataset_reader.token_indexers.token_characters.character_tokenizer.start_tokens = None\n",
      "[2018-02-11 19:16:29,003][MainProcess][allennlp.common.params][INFO] dataset_reader.token_indexers.token_characters.character_tokenizer.end_tokens = ['@@PADDING@@', '@@PADDING@@', '@@PADDING@@', '@@PADDING@@']\n",
      "[2018-02-11 19:16:29,003][MainProcess][allennlp.common.params][INFO] dataset_reader.word_tag_delimiter = /\n",
      "[2018-02-11 19:16:29,004][MainProcess][allennlp.common.params][INFO] dataset_reader.token_delimiter = None\n",
      "[2018-02-11 19:16:29,004][MainProcess][allennlp.common.params][INFO] train_data_path = ./../../data/subject_recognition/train.txt\n",
      "[2018-02-11 19:16:29,005][MainProcess][allennlp.commands.train][INFO] Reading training data from ./../../data/subject_recognition/train.txt\n",
      "[2018-02-11 19:16:29,005][MainProcess][allennlp.data.dataset_readers.sequence_tagging][INFO] Reading instances from lines in file at: ./../../data/subject_recognition/train.txt\n"
     ]
    },
    {
     "name": "stderr",
     "output_type": "stream",
     "text": [
      "74520it [00:02, 30378.12it/s]"
     ]
    },
    {
     "name": "stdout",
     "output_type": "stream",
     "text": [
      "[2018-02-11 19:16:31,528][MainProcess][allennlp.common.params][INFO] validation_data_path = ./../../data/subject_recognition/dev.txt\n",
      "[2018-02-11 19:16:31,528][MainProcess][allennlp.commands.train][INFO] Reading validation data from ./../../data/subject_recognition/dev.txt\n",
      "[2018-02-11 19:16:31,529][MainProcess][allennlp.data.dataset_readers.sequence_tagging][INFO] Reading instances from lines in file at: ./../../data/subject_recognition/dev.txt\n"
     ]
    },
    {
     "name": "stderr",
     "output_type": "stream",
     "text": [
      "\n",
      "10648it [00:00, 53691.03it/s]"
     ]
    },
    {
     "name": "stdout",
     "output_type": "stream",
     "text": [
      "[2018-02-11 19:16:31,739][MainProcess][allennlp.common.params][INFO] test_data_path = None\n",
      "[2018-02-11 19:16:31,740][MainProcess][allennlp.commands.train][INFO] Creating a vocabulary using train, validation data.\n",
      "[2018-02-11 19:16:31,831][MainProcess][allennlp.common.params][INFO] vocabulary.directory_path = None\n"
     ]
    },
    {
     "name": "stderr",
     "output_type": "stream",
     "text": [
      "\n"
     ]
    },
    {
     "name": "stdout",
     "output_type": "stream",
     "text": [
      "[2018-02-11 19:16:31,832][MainProcess][allennlp.common.params][INFO] vocabulary.min_count = 1\n",
      "[2018-02-11 19:16:31,832][MainProcess][allennlp.common.params][INFO] vocabulary.max_vocab_size = None\n",
      "[2018-02-11 19:16:31,833][MainProcess][allennlp.common.params][INFO] vocabulary.non_padded_namespaces = ('*tags', '*labels')\n",
      "[2018-02-11 19:16:31,833][MainProcess][allennlp.common.params][INFO] vocabulary.only_include_pretrained_words = False\n",
      "[2018-02-11 19:16:31,834][MainProcess][allennlp.data.vocabulary][INFO] Fitting token dictionary from dataset.\n"
     ]
    },
    {
     "name": "stderr",
     "output_type": "stream",
     "text": [
      "100%|##########| 85168/85168 [00:06<00:00, 12597.38it/s]\n"
     ]
    },
    {
     "name": "stdout",
     "output_type": "stream",
     "text": [
      "[2018-02-11 19:16:38,777][MainProcess][allennlp.common.params][INFO] model.type = crf_tagger\n",
      "[2018-02-11 19:16:38,778][MainProcess][allennlp.common.params][INFO] model.text_field_embedder.type = basic\n",
      "[2018-02-11 19:16:38,778][MainProcess][allennlp.common.params][INFO] model.text_field_embedder.tokens.type = embedding\n",
      "[2018-02-11 19:16:38,779][MainProcess][allennlp.common.params][INFO] model.text_field_embedder.tokens.num_embeddings = None\n",
      "[2018-02-11 19:16:38,779][MainProcess][allennlp.common.params][INFO] model.text_field_embedder.tokens.vocab_namespace = tokens\n",
      "[2018-02-11 19:16:38,780][MainProcess][allennlp.common.params][INFO] model.text_field_embedder.tokens.embedding_dim = 100\n",
      "[2018-02-11 19:16:38,780][MainProcess][allennlp.common.params][INFO] model.text_field_embedder.tokens.pretrained_file = https://s3-us-west-2.amazonaws.com/allennlp/datasets/glove/glove.6B.100d.txt.gz\n",
      "[2018-02-11 19:16:38,781][MainProcess][allennlp.common.params][INFO] model.text_field_embedder.tokens.projection_dim = None\n",
      "[2018-02-11 19:16:38,782][MainProcess][allennlp.common.params][INFO] model.text_field_embedder.tokens.trainable = False\n",
      "[2018-02-11 19:16:38,782][MainProcess][allennlp.common.params][INFO] model.text_field_embedder.tokens.padding_index = None\n",
      "[2018-02-11 19:16:38,783][MainProcess][allennlp.common.params][INFO] model.text_field_embedder.tokens.max_norm = None\n",
      "[2018-02-11 19:16:38,783][MainProcess][allennlp.common.params][INFO] model.text_field_embedder.tokens.norm_type = 2.0\n",
      "[2018-02-11 19:16:38,784][MainProcess][allennlp.common.params][INFO] model.text_field_embedder.tokens.scale_grad_by_freq = False\n",
      "[2018-02-11 19:16:38,785][MainProcess][allennlp.common.params][INFO] model.text_field_embedder.tokens.sparse = False\n",
      "[2018-02-11 19:16:38,789][MainProcess][allennlp.modules.token_embedders.embedding][INFO] Reading embeddings from file\n",
      "[2018-02-11 19:16:44,056][MainProcess][allennlp.modules.token_embedders.embedding][INFO] Initializing pre-trained embedding layer\n",
      "[2018-02-11 19:16:44,498][MainProcess][allennlp.common.params][INFO] model.text_field_embedder.token_characters.type = character_encoding\n",
      "[2018-02-11 19:16:44,499][MainProcess][allennlp.common.params][INFO] model.text_field_embedder.token_characters.embedding.num_embeddings = None\n",
      "[2018-02-11 19:16:44,500][MainProcess][allennlp.common.params][INFO] model.text_field_embedder.token_characters.embedding.vocab_namespace = token_characters\n",
      "[2018-02-11 19:16:44,501][MainProcess][allennlp.common.params][INFO] model.text_field_embedder.token_characters.embedding.embedding_dim = 25\n",
      "[2018-02-11 19:16:44,501][MainProcess][allennlp.common.params][INFO] model.text_field_embedder.token_characters.embedding.pretrained_file = None\n",
      "[2018-02-11 19:16:44,502][MainProcess][allennlp.common.params][INFO] model.text_field_embedder.token_characters.embedding.projection_dim = None\n",
      "[2018-02-11 19:16:44,502][MainProcess][allennlp.common.params][INFO] model.text_field_embedder.token_characters.embedding.trainable = True\n",
      "[2018-02-11 19:16:44,502][MainProcess][allennlp.common.params][INFO] model.text_field_embedder.token_characters.embedding.padding_index = None\n",
      "[2018-02-11 19:16:44,503][MainProcess][allennlp.common.params][INFO] model.text_field_embedder.token_characters.embedding.max_norm = None\n",
      "[2018-02-11 19:16:44,503][MainProcess][allennlp.common.params][INFO] model.text_field_embedder.token_characters.embedding.norm_type = 2.0\n",
      "[2018-02-11 19:16:44,504][MainProcess][allennlp.common.params][INFO] model.text_field_embedder.token_characters.embedding.scale_grad_by_freq = False\n",
      "[2018-02-11 19:16:44,504][MainProcess][allennlp.common.params][INFO] model.text_field_embedder.token_characters.embedding.sparse = False\n",
      "[2018-02-11 19:16:44,506][MainProcess][allennlp.common.params][INFO] model.text_field_embedder.token_characters.encoder.type = cnn\n",
      "[2018-02-11 19:16:44,506][MainProcess][allennlp.common.params][INFO] model.text_field_embedder.token_characters.encoder.embedding_dim = 25\n",
      "[2018-02-11 19:16:44,506][MainProcess][allennlp.common.params][INFO] model.text_field_embedder.token_characters.encoder.output_dim = None\n",
      "[2018-02-11 19:16:44,507][MainProcess][allennlp.common.params][INFO] model.text_field_embedder.token_characters.encoder.num_filters = 100\n",
      "[2018-02-11 19:16:44,507][MainProcess][allennlp.common.params][INFO] model.text_field_embedder.token_characters.encoder.conv_layer_activation = relu\n",
      "[2018-02-11 19:16:44,508][MainProcess][allennlp.common.params][INFO] model.text_field_embedder.token_characters.encoder.ngram_filter_sizes = [5]\n",
      "[2018-02-11 19:16:44,510][MainProcess][allennlp.common.params][INFO] model.text_field_embedder.token_characters.dropout = 0.25\n",
      "[2018-02-11 19:16:44,511][MainProcess][allennlp.common.params][INFO] model.encoder.type = lstm\n",
      "[2018-02-11 19:16:44,512][MainProcess][allennlp.common.params][INFO] model.encoder.batch_first = True\n",
      "[2018-02-11 19:16:44,513][MainProcess][allennlp.common.params][INFO] Converting Params object to dict; logging of default values will not occur when dictionary parameters are used subsequently.\n",
      "[2018-02-11 19:16:44,514][MainProcess][allennlp.common.params][INFO] CURRENTLY DEFINED PARAMETERS: \n",
      "[2018-02-11 19:16:44,515][MainProcess][allennlp.common.params][INFO] model.encoder.input_size = 200\n",
      "[2018-02-11 19:16:44,516][MainProcess][allennlp.common.params][INFO] model.encoder.hidden_size = 600\n",
      "[2018-02-11 19:16:44,517][MainProcess][allennlp.common.params][INFO] model.encoder.num_layers = 3\n",
      "[2018-02-11 19:16:44,518][MainProcess][allennlp.common.params][INFO] model.encoder.dropout = 0.25\n",
      "[2018-02-11 19:16:44,518][MainProcess][allennlp.common.params][INFO] model.encoder.bidirectional = True\n",
      "[2018-02-11 19:16:44,519][MainProcess][allennlp.common.params][INFO] model.encoder.batch_first = True\n",
      "[2018-02-11 19:16:44,649][MainProcess][allennlp.common.params][INFO] model.label_namespace = labels\n",
      "[2018-02-11 19:16:44,650][MainProcess][allennlp.common.params][INFO] model.initializer = []\n",
      "[2018-02-11 19:16:44,650][MainProcess][allennlp.common.params][INFO] model.regularizer = [['transitions$', {'type': 'l2', 'alpha': 0.01}]]\n",
      "[2018-02-11 19:16:44,651][MainProcess][allennlp.common.params][INFO] model.regularizer.list.list.type = l2\n",
      "[2018-02-11 19:16:44,652][MainProcess][allennlp.nn.initializers][INFO] Initializing parameters\n",
      "[2018-02-11 19:16:44,652][MainProcess][allennlp.nn.initializers][INFO] Done initializing parameters; the following parameters are using their default initialization from their code\n",
      "[2018-02-11 19:16:44,653][MainProcess][allennlp.nn.initializers][INFO]    crf.end_transitions\n",
      "[2018-02-11 19:16:44,654][MainProcess][allennlp.nn.initializers][INFO]    crf.start_transitions\n",
      "[2018-02-11 19:16:44,654][MainProcess][allennlp.nn.initializers][INFO]    crf.transitions\n",
      "[2018-02-11 19:16:44,655][MainProcess][allennlp.nn.initializers][INFO]    encoder._module.bias_hh_l0\n",
      "[2018-02-11 19:16:44,655][MainProcess][allennlp.nn.initializers][INFO]    encoder._module.bias_hh_l0_reverse\n",
      "[2018-02-11 19:16:44,656][MainProcess][allennlp.nn.initializers][INFO]    encoder._module.bias_hh_l1\n",
      "[2018-02-11 19:16:44,656][MainProcess][allennlp.nn.initializers][INFO]    encoder._module.bias_hh_l1_reverse\n",
      "[2018-02-11 19:16:44,656][MainProcess][allennlp.nn.initializers][INFO]    encoder._module.bias_hh_l2\n",
      "[2018-02-11 19:16:44,657][MainProcess][allennlp.nn.initializers][INFO]    encoder._module.bias_hh_l2_reverse\n",
      "[2018-02-11 19:16:44,658][MainProcess][allennlp.nn.initializers][INFO]    encoder._module.bias_ih_l0\n",
      "[2018-02-11 19:16:44,658][MainProcess][allennlp.nn.initializers][INFO]    encoder._module.bias_ih_l0_reverse\n",
      "[2018-02-11 19:16:44,659][MainProcess][allennlp.nn.initializers][INFO]    encoder._module.bias_ih_l1\n",
      "[2018-02-11 19:16:44,659][MainProcess][allennlp.nn.initializers][INFO]    encoder._module.bias_ih_l1_reverse\n",
      "[2018-02-11 19:16:44,660][MainProcess][allennlp.nn.initializers][INFO]    encoder._module.bias_ih_l2\n",
      "[2018-02-11 19:16:44,660][MainProcess][allennlp.nn.initializers][INFO]    encoder._module.bias_ih_l2_reverse\n",
      "[2018-02-11 19:16:44,661][MainProcess][allennlp.nn.initializers][INFO]    encoder._module.weight_hh_l0\n",
      "[2018-02-11 19:16:44,661][MainProcess][allennlp.nn.initializers][INFO]    encoder._module.weight_hh_l0_reverse\n"
     ]
    },
    {
     "name": "stdout",
     "output_type": "stream",
     "text": [
      "[2018-02-11 19:16:44,662][MainProcess][allennlp.nn.initializers][INFO]    encoder._module.weight_hh_l1\n",
      "[2018-02-11 19:16:44,662][MainProcess][allennlp.nn.initializers][INFO]    encoder._module.weight_hh_l1_reverse\n",
      "[2018-02-11 19:16:44,663][MainProcess][allennlp.nn.initializers][INFO]    encoder._module.weight_hh_l2\n",
      "[2018-02-11 19:16:44,663][MainProcess][allennlp.nn.initializers][INFO]    encoder._module.weight_hh_l2_reverse\n",
      "[2018-02-11 19:16:44,664][MainProcess][allennlp.nn.initializers][INFO]    encoder._module.weight_ih_l0\n",
      "[2018-02-11 19:16:44,664][MainProcess][allennlp.nn.initializers][INFO]    encoder._module.weight_ih_l0_reverse\n",
      "[2018-02-11 19:16:44,665][MainProcess][allennlp.nn.initializers][INFO]    encoder._module.weight_ih_l1\n",
      "[2018-02-11 19:16:44,665][MainProcess][allennlp.nn.initializers][INFO]    encoder._module.weight_ih_l1_reverse\n",
      "[2018-02-11 19:16:44,666][MainProcess][allennlp.nn.initializers][INFO]    encoder._module.weight_ih_l2\n",
      "[2018-02-11 19:16:44,666][MainProcess][allennlp.nn.initializers][INFO]    encoder._module.weight_ih_l2_reverse\n",
      "[2018-02-11 19:16:44,667][MainProcess][allennlp.nn.initializers][INFO]    tag_projection_layer._module.bias\n",
      "[2018-02-11 19:16:44,667][MainProcess][allennlp.nn.initializers][INFO]    tag_projection_layer._module.weight\n",
      "[2018-02-11 19:16:44,668][MainProcess][allennlp.nn.initializers][INFO]    text_field_embedder.token_embedder_token_characters._embedding._module.weight\n",
      "[2018-02-11 19:16:44,668][MainProcess][allennlp.nn.initializers][INFO]    text_field_embedder.token_embedder_token_characters._encoder._module.conv_layer_0.bias\n",
      "[2018-02-11 19:16:44,669][MainProcess][allennlp.nn.initializers][INFO]    text_field_embedder.token_embedder_token_characters._encoder._module.conv_layer_0.weight\n",
      "[2018-02-11 19:16:44,669][MainProcess][allennlp.nn.initializers][INFO]    text_field_embedder.token_embedder_tokens.weight\n",
      "[2018-02-11 19:16:44,670][MainProcess][allennlp.common.params][INFO] iterator.type = bucket\n",
      "[2018-02-11 19:16:44,670][MainProcess][allennlp.common.params][INFO] iterator.sorting_keys = [['tokens', 'num_tokens']]\n",
      "[2018-02-11 19:16:44,671][MainProcess][allennlp.common.params][INFO] iterator.padding_noise = 0.3\n",
      "[2018-02-11 19:16:44,671][MainProcess][allennlp.common.params][INFO] iterator.biggest_batch_first = False\n",
      "[2018-02-11 19:16:44,672][MainProcess][allennlp.common.params][INFO] iterator.batch_size = 64\n",
      "[2018-02-11 19:16:44,672][MainProcess][allennlp.data.dataset][INFO] Indexing dataset\n"
     ]
    },
    {
     "name": "stderr",
     "output_type": "stream",
     "text": [
      "100%|##########| 74520/74520 [00:09<00:00, 7628.00it/s]"
     ]
    },
    {
     "name": "stdout",
     "output_type": "stream",
     "text": [
      "[2018-02-11 19:16:54,443][MainProcess][allennlp.data.dataset][INFO] Indexing dataset\n"
     ]
    },
    {
     "name": "stderr",
     "output_type": "stream",
     "text": [
      "\n",
      "100%|##########| 10648/10648 [00:01<00:00, 8271.62it/s]"
     ]
    },
    {
     "name": "stdout",
     "output_type": "stream",
     "text": [
      "[2018-02-11 19:16:55,733][MainProcess][allennlp.common.params][INFO] trainer.patience = 10\n",
      "[2018-02-11 19:16:55,734][MainProcess][allennlp.common.params][INFO] trainer.validation_metric = +accuracy\n",
      "[2018-02-11 19:16:55,734][MainProcess][allennlp.common.params][INFO] trainer.num_epochs = 100\n",
      "[2018-02-11 19:16:55,735][MainProcess][allennlp.common.params][INFO] trainer.cuda_device = 0\n",
      "[2018-02-11 19:16:55,736][MainProcess][allennlp.common.params][INFO] trainer.grad_norm = None\n",
      "[2018-02-11 19:16:55,736][MainProcess][allennlp.common.params][INFO] trainer.grad_clipping = None\n"
     ]
    },
    {
     "name": "stderr",
     "output_type": "stream",
     "text": [
      "\n"
     ]
    },
    {
     "name": "stdout",
     "output_type": "stream",
     "text": [
      "[2018-02-11 19:16:58,267][MainProcess][allennlp.common.params][INFO] trainer.optimizer.type = adam\n",
      "[2018-02-11 19:16:58,268][MainProcess][allennlp.common.params][INFO] Converting Params object to dict; logging of default values will not occur when dictionary parameters are used subsequently.\n",
      "[2018-02-11 19:16:58,268][MainProcess][allennlp.common.params][INFO] CURRENTLY DEFINED PARAMETERS: \n",
      "[2018-02-11 19:16:58,269][MainProcess][allennlp.common.params][INFO] trainer.optimizer.amsgrad = False\n",
      "[2018-02-11 19:16:58,270][MainProcess][allennlp.common.params][INFO] trainer.learning_rate_scheduler.type = reduce_on_plateau\n",
      "[2018-02-11 19:16:58,271][MainProcess][allennlp.common.params][INFO] Converting Params object to dict; logging of default values will not occur when dictionary parameters are used subsequently.\n",
      "[2018-02-11 19:16:58,272][MainProcess][allennlp.common.params][INFO] CURRENTLY DEFINED PARAMETERS: \n",
      "[2018-02-11 19:16:58,272][MainProcess][allennlp.common.params][INFO] trainer.learning_rate_scheduler.factor = 0.5\n",
      "[2018-02-11 19:16:58,273][MainProcess][allennlp.common.params][INFO] trainer.learning_rate_scheduler.mode = max\n",
      "[2018-02-11 19:16:58,274][MainProcess][allennlp.common.params][INFO] trainer.learning_rate_scheduler.patience = 2\n",
      "[2018-02-11 19:16:58,274][MainProcess][allennlp.common.params][INFO] trainer.no_tqdm = False\n",
      "[2018-02-11 19:16:58,282][MainProcess][allennlp.common.params][INFO] evaluate_on_test = False\n",
      "[2018-02-11 19:16:58,283][MainProcess][allennlp.training.trainer][INFO] Beginning training.\n",
      "[2018-02-11 19:16:58,283][MainProcess][allennlp.training.trainer][INFO] Epoch 0/99\n"
     ]
    },
    {
     "name": "stderr",
     "output_type": "stream",
     "text": [
      "\r",
      "  0%|          | 0/1165 [00:00<?, ?it/s]"
     ]
    },
    {
     "name": "stdout",
     "output_type": "stream",
     "text": [
      "[2018-02-11 19:16:58,285][MainProcess][allennlp.training.trainer][INFO] Training\n"
     ]
    },
    {
     "name": "stderr",
     "output_type": "stream",
     "text": [
      "token_accuracy: 0.95, accuracy: 0.83, loss: 48.29 ||: 100%|##########| 1165/1165 [01:12<00:00, 16.05it/s]"
     ]
    },
    {
     "name": "stdout",
     "output_type": "stream",
     "text": [
      "[2018-02-11 19:18:10,868][MainProcess][allennlp.training.trainer][INFO] Validating\n"
     ]
    },
    {
     "name": "stderr",
     "output_type": "stream",
     "text": [
      "\n",
      "token_accuracy: 0.98, accuracy: 0.91, loss: 26.14 ||: 100%|##########| 167/167 [00:05<00:00, 29.47it/s]\n"
     ]
    },
    {
     "name": "stdout",
     "output_type": "stream",
     "text": [
      "[2018-02-11 19:18:16,749][MainProcess][allennlp.training.trainer][INFO] Best validation performance so far. Copying weights to '../../experiments/subject_recognition_grid_search_0.02_11_19:16:28/best.th'.\n",
      "[2018-02-11 19:18:16,823][MainProcess][allennlp.training.trainer][INFO] Training token_accuracy : 0.953987    Validation token_accuracy : 0.977495 \n",
      "[2018-02-11 19:18:16,824][MainProcess][allennlp.training.trainer][INFO] Training accuracy : 0.830864    Validation accuracy : 0.910312 \n",
      "[2018-02-11 19:18:16,824][MainProcess][allennlp.training.trainer][INFO] Training loss : 48.292557    Validation loss : 26.144926 \n",
      "[2018-02-11 19:18:16,825][MainProcess][allennlp.training.trainer][INFO] Epoch duration: 00:01:18\n",
      "[2018-02-11 19:18:16,826][MainProcess][allennlp.training.trainer][INFO] Estimated training time remaining: 02:09:35\n",
      "[2018-02-11 19:18:16,826][MainProcess][allennlp.training.trainer][INFO] Epoch 1/99\n"
     ]
    },
    {
     "name": "stderr",
     "output_type": "stream",
     "text": [
      "\r",
      "  0%|          | 0/1165 [00:00<?, ?it/s]"
     ]
    },
    {
     "name": "stdout",
     "output_type": "stream",
     "text": [
      "[2018-02-11 19:18:16,828][MainProcess][allennlp.training.trainer][INFO] Training\n"
     ]
    },
    {
     "name": "stderr",
     "output_type": "stream",
     "text": [
      "token_accuracy: 0.98, accuracy: 0.92, loss: 21.27 ||: 100%|##########| 1165/1165 [01:10<00:00, 16.46it/s]"
     ]
    },
    {
     "name": "stdout",
     "output_type": "stream",
     "text": [
      "[2018-02-11 19:19:27,602][MainProcess][allennlp.training.trainer][INFO] Validating\n"
     ]
    },
    {
     "name": "stderr",
     "output_type": "stream",
     "text": [
      "\n",
      "token_accuracy: 0.98, accuracy: 0.93, loss: 19.59 ||: 100%|##########| 167/167 [00:05<00:00, 29.82it/s]\n"
     ]
    },
    {
     "name": "stdout",
     "output_type": "stream",
     "text": [
      "[2018-02-11 19:19:33,412][MainProcess][allennlp.training.trainer][INFO] Best validation performance so far. Copying weights to '../../experiments/subject_recognition_grid_search_0.02_11_19:16:28/best.th'.\n",
      "[2018-02-11 19:19:33,599][MainProcess][allennlp.training.trainer][INFO] Training token_accuracy : 0.978401    Validation token_accuracy : 0.980674 \n",
      "[2018-02-11 19:19:33,604][MainProcess][allennlp.training.trainer][INFO] Training accuracy : 0.924047    Validation accuracy : 0.931724 \n",
      "[2018-02-11 19:19:33,606][MainProcess][allennlp.training.trainer][INFO] Training loss : 21.274599    Validation loss : 19.592215 \n",
      "[2018-02-11 19:19:33,614][MainProcess][allennlp.training.trainer][INFO] Epoch duration: 00:01:16\n",
      "[2018-02-11 19:19:33,616][MainProcess][allennlp.training.trainer][INFO] Estimated training time remaining: 02:06:51\n",
      "[2018-02-11 19:19:33,620][MainProcess][allennlp.training.trainer][INFO] Epoch 2/99\n"
     ]
    },
    {
     "name": "stderr",
     "output_type": "stream",
     "text": [
      "\r",
      "  0%|          | 0/1165 [00:00<?, ?it/s]"
     ]
    },
    {
     "name": "stdout",
     "output_type": "stream",
     "text": [
      "[2018-02-11 19:19:33,624][MainProcess][allennlp.training.trainer][INFO] Training\n"
     ]
    },
    {
     "name": "stderr",
     "output_type": "stream",
     "text": [
      "token_accuracy: 0.98, accuracy: 0.94, loss: 15.38 ||: 100%|##########| 1165/1165 [01:11<00:00, 16.35it/s]"
     ]
    },
    {
     "name": "stdout",
     "output_type": "stream",
     "text": [
      "[2018-02-11 19:20:44,888][MainProcess][allennlp.training.trainer][INFO] Validating\n"
     ]
    },
    {
     "name": "stderr",
     "output_type": "stream",
     "text": [
      "\n",
      "token_accuracy: 0.98, accuracy: 0.94, loss: 16.66 ||: 100%|##########| 167/167 [00:05<00:00, 29.48it/s]\n"
     ]
    },
    {
     "name": "stdout",
     "output_type": "stream",
     "text": [
      "[2018-02-11 19:20:50,764][MainProcess][allennlp.training.trainer][INFO] Best validation performance so far. Copying weights to '../../experiments/subject_recognition_grid_search_0.02_11_19:16:28/best.th'.\n",
      "[2018-02-11 19:20:50,945][MainProcess][allennlp.training.trainer][INFO] Training token_accuracy : 0.981677    Validation token_accuracy : 0.980443 \n",
      "[2018-02-11 19:20:50,950][MainProcess][allennlp.training.trainer][INFO] Training accuracy : 0.943223    Validation accuracy : 0.940552 \n",
      "[2018-02-11 19:20:50,953][MainProcess][allennlp.training.trainer][INFO] Training loss : 15.380945    Validation loss : 16.655161 \n",
      "[2018-02-11 19:20:50,956][MainProcess][allennlp.training.trainer][INFO] Epoch duration: 00:01:17\n",
      "[2018-02-11 19:20:50,958][MainProcess][allennlp.training.trainer][INFO] Estimated training time remaining: 02:05:23\n",
      "[2018-02-11 19:20:50,961][MainProcess][allennlp.training.trainer][INFO] Epoch 3/99\n"
     ]
    },
    {
     "name": "stderr",
     "output_type": "stream",
     "text": [
      "\r",
      "  0%|          | 0/1165 [00:00<?, ?it/s]"
     ]
    },
    {
     "name": "stdout",
     "output_type": "stream",
     "text": [
      "[2018-02-11 19:20:50,966][MainProcess][allennlp.training.trainer][INFO] Training\n"
     ]
    },
    {
     "name": "stderr",
     "output_type": "stream",
     "text": [
      "token_accuracy: 0.98, accuracy: 0.95, loss: 12.08 ||: 100%|##########| 1165/1165 [01:10<00:00, 16.42it/s]"
     ]
    },
    {
     "name": "stdout",
     "output_type": "stream",
     "text": [
      "[2018-02-11 19:22:01,932][MainProcess][allennlp.training.trainer][INFO] Validating\n"
     ]
    },
    {
     "name": "stderr",
     "output_type": "stream",
     "text": [
      "\n",
      "token_accuracy: 0.98, accuracy: 0.94, loss: 17.17 ||: 100%|##########| 167/167 [00:05<00:00, 29.64it/s]\n"
     ]
    },
    {
     "name": "stdout",
     "output_type": "stream",
     "text": [
      "[2018-02-11 19:22:07,778][MainProcess][allennlp.training.trainer][INFO] Training token_accuracy : 0.982778    Validation token_accuracy : 0.976942 \n",
      "[2018-02-11 19:22:07,780][MainProcess][allennlp.training.trainer][INFO] Training accuracy : 0.954106    Validation accuracy : 0.939050 \n",
      "[2018-02-11 19:22:07,780][MainProcess][allennlp.training.trainer][INFO] Training loss : 12.078075    Validation loss : 17.170883 \n",
      "[2018-02-11 19:22:07,780][MainProcess][allennlp.training.trainer][INFO] Epoch duration: 00:01:16\n",
      "[2018-02-11 19:22:07,781][MainProcess][allennlp.training.trainer][INFO] Estimated training time remaining: 02:03:47\n",
      "[2018-02-11 19:22:07,782][MainProcess][allennlp.training.trainer][INFO] Epoch 4/99\n"
     ]
    },
    {
     "name": "stderr",
     "output_type": "stream",
     "text": [
      "\r",
      "  0%|          | 0/1165 [00:00<?, ?it/s]"
     ]
    },
    {
     "name": "stdout",
     "output_type": "stream",
     "text": [
      "[2018-02-11 19:22:07,783][MainProcess][allennlp.training.trainer][INFO] Training\n"
     ]
    },
    {
     "name": "stderr",
     "output_type": "stream",
     "text": [
      "token_accuracy: 0.99, accuracy: 0.96, loss: 9.41 ||: 100%|##########| 1165/1165 [01:10<00:00, 16.51it/s]"
     ]
    },
    {
     "name": "stdout",
     "output_type": "stream",
     "text": [
      "[2018-02-11 19:23:18,347][MainProcess][allennlp.training.trainer][INFO] Validating\n"
     ]
    },
    {
     "name": "stderr",
     "output_type": "stream",
     "text": [
      "\n",
      "token_accuracy: 0.98, accuracy: 0.94, loss: 17.91 ||: 100%|##########| 167/167 [00:05<00:00, 29.69it/s]\n"
     ]
    },
    {
     "name": "stdout",
     "output_type": "stream",
     "text": [
      "[2018-02-11 19:23:24,186][MainProcess][allennlp.training.trainer][INFO] Best validation performance so far. Copying weights to '../../experiments/subject_recognition_grid_search_0.02_11_19:16:28/best.th'.\n",
      "[2018-02-11 19:23:24,362][MainProcess][allennlp.training.trainer][INFO] Training token_accuracy : 0.985148    Validation token_accuracy : 0.982770 \n",
      "[2018-02-11 19:23:24,366][MainProcess][allennlp.training.trainer][INFO] Training accuracy : 0.962305    Validation accuracy : 0.942337 \n",
      "[2018-02-11 19:23:24,369][MainProcess][allennlp.training.trainer][INFO] Training loss : 9.409449    Validation loss : 17.906866 \n",
      "[2018-02-11 19:23:24,370][MainProcess][allennlp.training.trainer][INFO] Epoch duration: 00:01:16\n",
      "[2018-02-11 19:23:24,372][MainProcess][allennlp.training.trainer][INFO] Estimated training time remaining: 02:02:15\n",
      "[2018-02-11 19:23:24,374][MainProcess][allennlp.training.trainer][INFO] Epoch 5/99\n"
     ]
    },
    {
     "name": "stderr",
     "output_type": "stream",
     "text": [
      "\r",
      "  0%|          | 0/1165 [00:00<?, ?it/s]"
     ]
    },
    {
     "name": "stdout",
     "output_type": "stream",
     "text": [
      "[2018-02-11 19:23:24,379][MainProcess][allennlp.training.trainer][INFO] Training\n"
     ]
    },
    {
     "name": "stderr",
     "output_type": "stream",
     "text": [
      "token_accuracy: 0.99, accuracy: 0.97, loss: 7.47 ||: 100%|##########| 1165/1165 [01:11<00:00, 16.36it/s]"
     ]
    },
    {
     "name": "stdout",
     "output_type": "stream",
     "text": [
      "[2018-02-11 19:24:35,610][MainProcess][allennlp.training.trainer][INFO] Validating\n"
     ]
    },
    {
     "name": "stderr",
     "output_type": "stream",
     "text": [
      "\n",
      "token_accuracy: 0.98, accuracy: 0.95, loss: 16.45 ||: 100%|##########| 167/167 [00:05<00:00, 29.71it/s]\n"
     ]
    },
    {
     "name": "stdout",
     "output_type": "stream",
     "text": [
      "[2018-02-11 19:24:41,444][MainProcess][allennlp.training.trainer][INFO] Best validation performance so far. Copying weights to '../../experiments/subject_recognition_grid_search_0.02_11_19:16:28/best.th'.\n",
      "[2018-02-11 19:24:41,629][MainProcess][allennlp.training.trainer][INFO] Training token_accuracy : 0.986985    Validation token_accuracy : 0.980881 \n",
      "[2018-02-11 19:24:41,633][MainProcess][allennlp.training.trainer][INFO] Training accuracy : 0.969418    Validation accuracy : 0.948817 \n",
      "[2018-02-11 19:24:41,636][MainProcess][allennlp.training.trainer][INFO] Training loss : 7.466612    Validation loss : 16.449406 \n",
      "[2018-02-11 19:24:41,638][MainProcess][allennlp.training.trainer][INFO] Epoch duration: 00:01:17\n",
      "[2018-02-11 19:24:41,640][MainProcess][allennlp.training.trainer][INFO] Estimated training time remaining: 02:00:59\n",
      "[2018-02-11 19:24:41,641][MainProcess][allennlp.training.trainer][INFO] Epoch 6/99\n"
     ]
    },
    {
     "name": "stderr",
     "output_type": "stream",
     "text": [
      "\r",
      "  0%|          | 0/1165 [00:00<?, ?it/s]"
     ]
    },
    {
     "name": "stdout",
     "output_type": "stream",
     "text": [
      "[2018-02-11 19:24:41,645][MainProcess][allennlp.training.trainer][INFO] Training\n"
     ]
    },
    {
     "name": "stderr",
     "output_type": "stream",
     "text": [
      "token_accuracy: 0.99, accuracy: 0.98, loss: 6.08 ||: 100%|##########| 1165/1165 [01:10<00:00, 16.48it/s]"
     ]
    },
    {
     "name": "stdout",
     "output_type": "stream",
     "text": [
      "[2018-02-11 19:25:52,346][MainProcess][allennlp.training.trainer][INFO] Validating\n"
     ]
    },
    {
     "name": "stderr",
     "output_type": "stream",
     "text": [
      "\n",
      "token_accuracy: 0.98, accuracy: 0.95, loss: 18.46 ||: 100%|##########| 167/167 [00:05<00:00, 29.64it/s]\n"
     ]
    },
    {
     "name": "stdout",
     "output_type": "stream",
     "text": [
      "[2018-02-11 19:25:58,196][MainProcess][allennlp.training.trainer][INFO] Best validation performance so far. Copying weights to '../../experiments/subject_recognition_grid_search_0.02_11_19:16:28/best.th'.\n",
      "[2018-02-11 19:25:58,377][MainProcess][allennlp.training.trainer][INFO] Training token_accuracy : 0.988406    Validation token_accuracy : 0.981722 \n",
      "[2018-02-11 19:25:58,381][MainProcess][allennlp.training.trainer][INFO] Training accuracy : 0.975429    Validation accuracy : 0.949380 \n",
      "[2018-02-11 19:25:58,383][MainProcess][allennlp.training.trainer][INFO] Training loss : 6.084135    Validation loss : 18.460310 \n",
      "[2018-02-11 19:25:58,386][MainProcess][allennlp.training.trainer][INFO] Epoch duration: 00:01:16\n",
      "[2018-02-11 19:25:58,388][MainProcess][allennlp.training.trainer][INFO] Estimated training time remaining: 01:59:35\n",
      "[2018-02-11 19:25:58,390][MainProcess][allennlp.training.trainer][INFO] Epoch 7/99\n"
     ]
    },
    {
     "name": "stderr",
     "output_type": "stream",
     "text": [
      "\r",
      "  0%|          | 0/1165 [00:00<?, ?it/s]"
     ]
    },
    {
     "name": "stdout",
     "output_type": "stream",
     "text": [
      "[2018-02-11 19:25:58,395][MainProcess][allennlp.training.trainer][INFO] Training\n"
     ]
    },
    {
     "name": "stderr",
     "output_type": "stream",
     "text": [
      "token_accuracy: 0.99, accuracy: 0.98, loss: 4.86 ||: 100%|##########| 1165/1165 [01:11<00:00, 16.25it/s]"
     ]
    },
    {
     "name": "stdout",
     "output_type": "stream",
     "text": [
      "[2018-02-11 19:27:10,101][MainProcess][allennlp.training.trainer][INFO] Validating\n"
     ]
    },
    {
     "name": "stderr",
     "output_type": "stream",
     "text": [
      "\n",
      "token_accuracy: 0.98, accuracy: 0.95, loss: 16.66 ||: 100%|##########| 167/167 [00:05<00:00, 29.56it/s]\n"
     ]
    },
    {
     "name": "stdout",
     "output_type": "stream",
     "text": [
      "[2018-02-11 19:27:15,963][MainProcess][allennlp.training.trainer][INFO] Training token_accuracy : 0.990121    Validation token_accuracy : 0.982021 \n",
      "[2018-02-11 19:27:15,964][MainProcess][allennlp.training.trainer][INFO] Training accuracy : 0.979509    Validation accuracy : 0.947408 \n",
      "[2018-02-11 19:27:15,965][MainProcess][allennlp.training.trainer][INFO] Training loss : 4.862239    Validation loss : 16.663370 \n",
      "[2018-02-11 19:27:15,965][MainProcess][allennlp.training.trainer][INFO] Epoch duration: 00:01:17\n",
      "[2018-02-11 19:27:15,966][MainProcess][allennlp.training.trainer][INFO] Estimated training time remaining: 01:58:23\n",
      "[2018-02-11 19:27:15,966][MainProcess][allennlp.training.trainer][INFO] Epoch 8/99\n"
     ]
    },
    {
     "name": "stderr",
     "output_type": "stream",
     "text": [
      "\r",
      "  0%|          | 0/1165 [00:00<?, ?it/s]"
     ]
    },
    {
     "name": "stdout",
     "output_type": "stream",
     "text": [
      "[2018-02-11 19:27:15,968][MainProcess][allennlp.training.trainer][INFO] Training\n"
     ]
    },
    {
     "name": "stderr",
     "output_type": "stream",
     "text": [
      "token_accuracy: 0.99, accuracy: 0.98, loss: 3.92 ||: 100%|##########| 1165/1165 [01:10<00:00, 16.50it/s]"
     ]
    },
    {
     "name": "stdout",
     "output_type": "stream",
     "text": [
      "[2018-02-11 19:28:26,584][MainProcess][allennlp.training.trainer][INFO] Validating\n"
     ]
    },
    {
     "name": "stderr",
     "output_type": "stream",
     "text": [
      "\n",
      "token_accuracy: 0.99, accuracy: 0.95, loss: 19.30 ||: 100%|##########| 167/167 [00:05<00:00, 29.64it/s]\n"
     ]
    },
    {
     "name": "stdout",
     "output_type": "stream",
     "text": [
      "[2018-02-11 19:28:32,429][MainProcess][allennlp.training.trainer][INFO] Best validation performance so far. Copying weights to '../../experiments/subject_recognition_grid_search_0.02_11_19:16:28/best.th'.\n",
      "[2018-02-11 19:28:32,607][MainProcess][allennlp.training.trainer][INFO] Training token_accuracy : 0.990854    Validation token_accuracy : 0.985522 \n",
      "[2018-02-11 19:28:32,611][MainProcess][allennlp.training.trainer][INFO] Training accuracy : 0.984206    Validation accuracy : 0.952855 \n",
      "[2018-02-11 19:28:32,614][MainProcess][allennlp.training.trainer][INFO] Training loss : 3.922895    Validation loss : 19.301270 \n",
      "[2018-02-11 19:28:32,618][MainProcess][allennlp.training.trainer][INFO] Epoch duration: 00:01:16\n",
      "[2018-02-11 19:28:32,621][MainProcess][allennlp.training.trainer][INFO] Estimated training time remaining: 01:57:00\n",
      "[2018-02-11 19:28:32,624][MainProcess][allennlp.training.trainer][INFO] Epoch 9/99\n"
     ]
    },
    {
     "name": "stderr",
     "output_type": "stream",
     "text": [
      "\r",
      "  0%|          | 0/1165 [00:00<?, ?it/s]"
     ]
    },
    {
     "name": "stdout",
     "output_type": "stream",
     "text": [
      "[2018-02-11 19:28:32,633][MainProcess][allennlp.training.trainer][INFO] Training\n"
     ]
    },
    {
     "name": "stderr",
     "output_type": "stream",
     "text": [
      "token_accuracy: 0.99, accuracy: 0.99, loss: 3.31 ||: 100%|##########| 1165/1165 [01:10<00:00, 16.49it/s]"
     ]
    },
    {
     "name": "stdout",
     "output_type": "stream",
     "text": [
      "[2018-02-11 19:29:43,272][MainProcess][allennlp.training.trainer][INFO] Validating\n"
     ]
    },
    {
     "name": "stderr",
     "output_type": "stream",
     "text": [
      "\n",
      "token_accuracy: 0.98, accuracy: 0.95, loss: 19.87 ||: 100%|##########| 167/167 [00:05<00:00, 29.56it/s]\n"
     ]
    },
    {
     "name": "stdout",
     "output_type": "stream",
     "text": [
      "[2018-02-11 19:29:49,136][MainProcess][allennlp.training.trainer][INFO] Training token_accuracy : 0.992959    Validation token_accuracy : 0.984578 \n",
      "[2018-02-11 19:29:49,137][MainProcess][allennlp.training.trainer][INFO] Training accuracy : 0.986299    Validation accuracy : 0.947690 \n",
      "[2018-02-11 19:29:49,137][MainProcess][allennlp.training.trainer][INFO] Training loss : 3.312272    Validation loss : 19.872379 \n",
      "[2018-02-11 19:29:49,138][MainProcess][allennlp.training.trainer][INFO] Epoch duration: 00:01:16\n",
      "[2018-02-11 19:29:49,139][MainProcess][allennlp.training.trainer][INFO] Estimated training time remaining: 01:55:37\n",
      "[2018-02-11 19:29:49,139][MainProcess][allennlp.training.trainer][INFO] Epoch 10/99\n"
     ]
    },
    {
     "name": "stderr",
     "output_type": "stream",
     "text": [
      "\r",
      "  0%|          | 0/1165 [00:00<?, ?it/s]"
     ]
    },
    {
     "name": "stdout",
     "output_type": "stream",
     "text": [
      "[2018-02-11 19:29:49,142][MainProcess][allennlp.training.trainer][INFO] Training\n"
     ]
    },
    {
     "name": "stderr",
     "output_type": "stream",
     "text": [
      "token_accuracy: 0.99, accuracy: 0.99, loss: 2.76 ||: 100%|##########| 1165/1165 [01:11<00:00, 16.40it/s]"
     ]
    },
    {
     "name": "stdout",
     "output_type": "stream",
     "text": [
      "[2018-02-11 19:31:00,201][MainProcess][allennlp.training.trainer][INFO] Validating\n"
     ]
    },
    {
     "name": "stderr",
     "output_type": "stream",
     "text": [
      "\n",
      "token_accuracy: 0.99, accuracy: 0.95, loss: 23.82 ||: 100%|##########| 167/167 [00:05<00:00, 29.69it/s]\n"
     ]
    },
    {
     "name": "stdout",
     "output_type": "stream",
     "text": [
      "[2018-02-11 19:31:06,041][MainProcess][allennlp.training.trainer][INFO] Training token_accuracy : 0.993440    Validation token_accuracy : 0.986375 \n",
      "[2018-02-11 19:31:06,042][MainProcess][allennlp.training.trainer][INFO] Training accuracy : 0.988795    Validation accuracy : 0.950131 \n",
      "[2018-02-11 19:31:06,043][MainProcess][allennlp.training.trainer][INFO] Training loss : 2.755665    Validation loss : 23.824238 \n",
      "[2018-02-11 19:31:06,044][MainProcess][allennlp.training.trainer][INFO] Epoch duration: 00:01:16\n",
      "[2018-02-11 19:31:06,044][MainProcess][allennlp.training.trainer][INFO] Estimated training time remaining: 01:54:19\n",
      "[2018-02-11 19:31:06,045][MainProcess][allennlp.training.trainer][INFO] Epoch 11/99\n"
     ]
    },
    {
     "name": "stderr",
     "output_type": "stream",
     "text": [
      "\r",
      "  0%|          | 0/1165 [00:00<?, ?it/s]"
     ]
    },
    {
     "name": "stdout",
     "output_type": "stream",
     "text": [
      "[2018-02-11 19:31:06,049][MainProcess][allennlp.training.trainer][INFO] Training\n"
     ]
    },
    {
     "name": "stderr",
     "output_type": "stream",
     "text": [
      "token_accuracy: 0.99, accuracy: 0.99, loss: 2.40 ||: 100%|##########| 1165/1165 [01:10<00:00, 16.62it/s]"
     ]
    },
    {
     "name": "stdout",
     "output_type": "stream",
     "text": [
      "[2018-02-11 19:32:16,128][MainProcess][allennlp.training.trainer][INFO] Validating\n"
     ]
    },
    {
     "name": "stderr",
     "output_type": "stream",
     "text": [
      "\n",
      "token_accuracy: 0.98, accuracy: 0.95, loss: 21.75 ||: 100%|##########| 167/167 [00:05<00:00, 30.16it/s]\n"
     ]
    },
    {
     "name": "stdout",
     "output_type": "stream",
     "text": [
      "[2018-02-11 19:32:21,879][MainProcess][allennlp.training.trainer][INFO] Training token_accuracy : 0.994651    Validation token_accuracy : 0.983622 \n",
      "[2018-02-11 19:32:21,880][MainProcess][allennlp.training.trainer][INFO] Training accuracy : 0.989895    Validation accuracy : 0.948253 \n",
      "[2018-02-11 19:32:21,880][MainProcess][allennlp.training.trainer][INFO] Training loss : 2.399737    Validation loss : 21.745028 \n",
      "[2018-02-11 19:32:21,881][MainProcess][allennlp.training.trainer][INFO] Epoch duration: 00:01:15\n",
      "[2018-02-11 19:32:21,881][MainProcess][allennlp.training.trainer][INFO] Estimated training time remaining: 01:52:53\n",
      "[2018-02-11 19:32:21,882][MainProcess][allennlp.training.trainer][INFO] Epoch 12/99\n"
     ]
    },
    {
     "name": "stderr",
     "output_type": "stream",
     "text": [
      "\r",
      "  0%|          | 0/1165 [00:00<?, ?it/s]"
     ]
    },
    {
     "name": "stdout",
     "output_type": "stream",
     "text": [
      "[2018-02-11 19:32:21,883][MainProcess][allennlp.training.trainer][INFO] Training\n"
     ]
    },
    {
     "name": "stderr",
     "output_type": "stream",
     "text": [
      "token_accuracy: 1.00, accuracy: 1.00, loss: 1.21 ||: 100%|##########| 1165/1165 [01:09<00:00, 16.73it/s]"
     ]
    },
    {
     "name": "stdout",
     "output_type": "stream",
     "text": [
      "[2018-02-11 19:33:31,525][MainProcess][allennlp.training.trainer][INFO] Validating\n"
     ]
    },
    {
     "name": "stderr",
     "output_type": "stream",
     "text": [
      "\n",
      "token_accuracy: 0.99, accuracy: 0.95, loss: 25.47 ||: 100%|##########| 167/167 [00:05<00:00, 27.87it/s]\n"
     ]
    },
    {
     "name": "stdout",
     "output_type": "stream",
     "text": [
      "[2018-02-11 19:33:37,729][MainProcess][allennlp.training.trainer][INFO] Best validation performance so far. Copying weights to '../../experiments/subject_recognition_grid_search_0.02_11_19:16:28/best.th'.\n",
      "[2018-02-11 19:33:37,956][MainProcess][allennlp.training.trainer][INFO] Training token_accuracy : 0.996979    Validation token_accuracy : 0.987803 \n",
      "[2018-02-11 19:33:37,961][MainProcess][allennlp.training.trainer][INFO] Training accuracy : 0.995317    Validation accuracy : 0.953888 \n",
      "[2018-02-11 19:33:37,963][MainProcess][allennlp.training.trainer][INFO] Training loss : 1.206317    Validation loss : 25.473074 \n",
      "[2018-02-11 19:33:37,965][MainProcess][allennlp.training.trainer][INFO] Epoch duration: 00:01:16\n",
      "[2018-02-11 19:33:37,967][MainProcess][allennlp.training.trainer][INFO] Estimated training time remaining: 01:51:30\n",
      "[2018-02-11 19:33:37,969][MainProcess][allennlp.training.trainer][INFO] Epoch 13/99\n"
     ]
    },
    {
     "name": "stderr",
     "output_type": "stream",
     "text": [
      "\r",
      "  0%|          | 0/1165 [00:00<?, ?it/s]"
     ]
    },
    {
     "name": "stdout",
     "output_type": "stream",
     "text": [
      "[2018-02-11 19:33:37,975][MainProcess][allennlp.training.trainer][INFO] Training\n"
     ]
    },
    {
     "name": "stderr",
     "output_type": "stream",
     "text": [
      "token_accuracy: 1.00, accuracy: 1.00, loss: 0.85 ||: 100%|##########| 1165/1165 [01:09<00:00, 16.75it/s]"
     ]
    },
    {
     "name": "stdout",
     "output_type": "stream",
     "text": [
      "[2018-02-11 19:34:47,550][MainProcess][allennlp.training.trainer][INFO] Validating\n"
     ]
    },
    {
     "name": "stderr",
     "output_type": "stream",
     "text": [
      "\n",
      "token_accuracy: 0.99, accuracy: 0.95, loss: 26.10 ||: 100%|##########| 167/167 [00:05<00:00, 30.43it/s]\n"
     ]
    },
    {
     "name": "stdout",
     "output_type": "stream",
     "text": [
      "[2018-02-11 19:34:53,253][MainProcess][allennlp.training.trainer][INFO] Training token_accuracy : 0.998238    Validation token_accuracy : 0.987826 \n",
      "[2018-02-11 19:34:53,254][MainProcess][allennlp.training.trainer][INFO] Training accuracy : 0.996900    Validation accuracy : 0.952667 \n",
      "[2018-02-11 19:34:53,255][MainProcess][allennlp.training.trainer][INFO] Training loss : 0.852936    Validation loss : 26.101101 \n",
      "[2018-02-11 19:34:53,255][MainProcess][allennlp.training.trainer][INFO] Epoch duration: 00:01:15\n",
      "[2018-02-11 19:34:53,256][MainProcess][allennlp.training.trainer][INFO] Estimated training time remaining: 01:50:03\n",
      "[2018-02-11 19:34:53,257][MainProcess][allennlp.training.trainer][INFO] Epoch 14/99\n"
     ]
    },
    {
     "name": "stderr",
     "output_type": "stream",
     "text": [
      "\r",
      "  0%|          | 0/1165 [00:00<?, ?it/s]"
     ]
    },
    {
     "name": "stdout",
     "output_type": "stream",
     "text": [
      "[2018-02-11 19:34:53,262][MainProcess][allennlp.training.trainer][INFO] Training\n"
     ]
    },
    {
     "name": "stderr",
     "output_type": "stream",
     "text": [
      "token_accuracy: 1.00, accuracy: 1.00, loss: 0.80 ||: 100%|##########| 1165/1165 [01:09<00:00, 16.74it/s]"
     ]
    },
    {
     "name": "stdout",
     "output_type": "stream",
     "text": [
      "[2018-02-11 19:36:02,853][MainProcess][allennlp.training.trainer][INFO] Validating\n"
     ]
    },
    {
     "name": "stderr",
     "output_type": "stream",
     "text": [
      "\n",
      "token_accuracy: 0.99, accuracy: 0.95, loss: 27.90 ||: 100%|##########| 167/167 [00:05<00:00, 30.30it/s]\n"
     ]
    },
    {
     "name": "stdout",
     "output_type": "stream",
     "text": [
      "[2018-02-11 19:36:08,577][MainProcess][allennlp.training.trainer][INFO] Training token_accuracy : 0.998440    Validation token_accuracy : 0.988148 \n",
      "[2018-02-11 19:36:08,578][MainProcess][allennlp.training.trainer][INFO] Training accuracy : 0.997155    Validation accuracy : 0.951634 \n",
      "[2018-02-11 19:36:08,579][MainProcess][allennlp.training.trainer][INFO] Training loss : 0.800461    Validation loss : 27.899574 \n",
      "[2018-02-11 19:36:08,580][MainProcess][allennlp.training.trainer][INFO] Epoch duration: 00:01:15\n",
      "[2018-02-11 19:36:08,580][MainProcess][allennlp.training.trainer][INFO] Estimated training time remaining: 01:48:38\n",
      "[2018-02-11 19:36:08,580][MainProcess][allennlp.training.trainer][INFO] Epoch 15/99\n"
     ]
    },
    {
     "name": "stderr",
     "output_type": "stream",
     "text": [
      "\r",
      "  0%|          | 0/1165 [00:00<?, ?it/s]"
     ]
    },
    {
     "name": "stdout",
     "output_type": "stream",
     "text": [
      "[2018-02-11 19:36:08,584][MainProcess][allennlp.training.trainer][INFO] Training\n"
     ]
    },
    {
     "name": "stderr",
     "output_type": "stream",
     "text": [
      "token_accuracy: 1.00, accuracy: 1.00, loss: 0.77 ||: 100%|##########| 1165/1165 [01:12<00:00, 16.17it/s]"
     ]
    },
    {
     "name": "stdout",
     "output_type": "stream",
     "text": [
      "[2018-02-11 19:37:20,643][MainProcess][allennlp.training.trainer][INFO] Validating\n"
     ]
    },
    {
     "name": "stderr",
     "output_type": "stream",
     "text": [
      "\n",
      "token_accuracy: 0.99, accuracy: 0.95, loss: 26.07 ||: 100%|##########| 167/167 [00:05<00:00, 29.23it/s]\n"
     ]
    },
    {
     "name": "stdout",
     "output_type": "stream",
     "text": [
      "[2018-02-11 19:37:26,573][MainProcess][allennlp.training.trainer][INFO] Training token_accuracy : 0.998669    Validation token_accuracy : 0.987227 \n",
      "[2018-02-11 19:37:26,574][MainProcess][allennlp.training.trainer][INFO] Training accuracy : 0.997222    Validation accuracy : 0.952385 \n",
      "[2018-02-11 19:37:26,575][MainProcess][allennlp.training.trainer][INFO] Training loss : 0.767742    Validation loss : 26.068523 \n",
      "[2018-02-11 19:37:26,575][MainProcess][allennlp.training.trainer][INFO] Epoch duration: 00:01:17\n",
      "[2018-02-11 19:37:26,576][MainProcess][allennlp.training.trainer][INFO] Estimated training time remaining: 01:47:28\n",
      "[2018-02-11 19:37:26,576][MainProcess][allennlp.training.trainer][INFO] Epoch 16/99\n"
     ]
    },
    {
     "name": "stderr",
     "output_type": "stream",
     "text": [
      "\r",
      "  0%|          | 0/1165 [00:00<?, ?it/s]"
     ]
    },
    {
     "name": "stdout",
     "output_type": "stream",
     "text": [
      "[2018-02-11 19:37:26,578][MainProcess][allennlp.training.trainer][INFO] Training\n"
     ]
    },
    {
     "name": "stderr",
     "output_type": "stream",
     "text": [
      "token_accuracy: 1.00, accuracy: 1.00, loss: 0.45 ||: 100%|##########| 1165/1165 [01:13<00:00, 15.94it/s]"
     ]
    },
    {
     "name": "stdout",
     "output_type": "stream",
     "text": [
      "[2018-02-11 19:38:39,673][MainProcess][allennlp.training.trainer][INFO] Validating\n"
     ]
    },
    {
     "name": "stderr",
     "output_type": "stream",
     "text": [
      "\n",
      "token_accuracy: 0.99, accuracy: 0.95, loss: 28.88 ||: 100%|##########| 167/167 [00:05<00:00, 29.13it/s]\n"
     ]
    },
    {
     "name": "stdout",
     "output_type": "stream",
     "text": [
      "[2018-02-11 19:38:45,618][MainProcess][allennlp.training.trainer][INFO] Best validation performance so far. Copying weights to '../../experiments/subject_recognition_grid_search_0.02_11_19:16:28/best.th'.\n",
      "[2018-02-11 19:38:45,810][MainProcess][allennlp.training.trainer][INFO] Training token_accuracy : 0.999158    Validation token_accuracy : 0.988713 \n",
      "[2018-02-11 19:38:45,814][MainProcess][allennlp.training.trainer][INFO] Training accuracy : 0.998671    Validation accuracy : 0.954545 \n",
      "[2018-02-11 19:38:45,815][MainProcess][allennlp.training.trainer][INFO] Training loss : 0.445250    Validation loss : 28.884449 \n",
      "[2018-02-11 19:38:45,818][MainProcess][allennlp.training.trainer][INFO] Epoch duration: 00:01:19\n",
      "[2018-02-11 19:38:45,820][MainProcess][allennlp.training.trainer][INFO] Estimated training time remaining: 01:46:23\n",
      "[2018-02-11 19:38:45,822][MainProcess][allennlp.training.trainer][INFO] Epoch 17/99\n"
     ]
    },
    {
     "name": "stderr",
     "output_type": "stream",
     "text": [
      "\r",
      "  0%|          | 0/1165 [00:00<?, ?it/s]"
     ]
    },
    {
     "name": "stdout",
     "output_type": "stream",
     "text": [
      "[2018-02-11 19:38:45,826][MainProcess][allennlp.training.trainer][INFO] Training\n"
     ]
    },
    {
     "name": "stderr",
     "output_type": "stream",
     "text": [
      "token_accuracy: 1.00, accuracy: 1.00, loss: 0.27 ||: 100%|##########| 1165/1165 [01:12<00:00, 16.17it/s]"
     ]
    },
    {
     "name": "stdout",
     "output_type": "stream",
     "text": [
      "[2018-02-11 19:39:57,876][MainProcess][allennlp.training.trainer][INFO] Validating\n"
     ]
    },
    {
     "name": "stderr",
     "output_type": "stream",
     "text": [
      "\n",
      "token_accuracy: 0.99, accuracy: 0.95, loss: 33.52 ||: 100%|##########| 167/167 [00:05<00:00, 29.63it/s]\n"
     ]
    },
    {
     "name": "stdout",
     "output_type": "stream",
     "text": [
      "[2018-02-11 19:40:03,727][MainProcess][allennlp.training.trainer][INFO] Training token_accuracy : 0.999521    Validation token_accuracy : 0.988816 \n",
      "[2018-02-11 19:40:03,728][MainProcess][allennlp.training.trainer][INFO] Training accuracy : 0.999208    Validation accuracy : 0.953137 \n",
      "[2018-02-11 19:40:03,729][MainProcess][allennlp.training.trainer][INFO] Training loss : 0.273809    Validation loss : 33.517086 \n",
      "[2018-02-11 19:40:03,729][MainProcess][allennlp.training.trainer][INFO] Epoch duration: 00:01:17\n",
      "[2018-02-11 19:40:03,730][MainProcess][allennlp.training.trainer][INFO] Estimated training time remaining: 01:45:11\n",
      "[2018-02-11 19:40:03,730][MainProcess][allennlp.training.trainer][INFO] Epoch 18/99\n"
     ]
    },
    {
     "name": "stderr",
     "output_type": "stream",
     "text": [
      "\r",
      "  0%|          | 0/1165 [00:00<?, ?it/s]"
     ]
    },
    {
     "name": "stdout",
     "output_type": "stream",
     "text": [
      "[2018-02-11 19:40:03,735][MainProcess][allennlp.training.trainer][INFO] Training\n"
     ]
    },
    {
     "name": "stderr",
     "output_type": "stream",
     "text": [
      "token_accuracy: 1.00, accuracy: 1.00, loss: 0.28 ||: 100%|##########| 1165/1165 [01:10<00:00, 16.41it/s]"
     ]
    },
    {
     "name": "stdout",
     "output_type": "stream",
     "text": [
      "[2018-02-11 19:41:14,733][MainProcess][allennlp.training.trainer][INFO] Validating\n"
     ]
    },
    {
     "name": "stderr",
     "output_type": "stream",
     "text": [
      "\n",
      "token_accuracy: 0.99, accuracy: 0.95, loss: 31.94 ||: 100%|##########| 167/167 [00:05<00:00, 29.80it/s]\n"
     ]
    },
    {
     "name": "stdout",
     "output_type": "stream",
     "text": [
      "[2018-02-11 19:41:20,548][MainProcess][allennlp.training.trainer][INFO] Best validation performance so far. Copying weights to '../../experiments/subject_recognition_grid_search_0.02_11_19:16:28/best.th'.\n",
      "[2018-02-11 19:41:20,769][MainProcess][allennlp.training.trainer][INFO] Training token_accuracy : 0.999696    Validation token_accuracy : 0.988747 \n",
      "[2018-02-11 19:41:20,774][MainProcess][allennlp.training.trainer][INFO] Training accuracy : 0.999329    Validation accuracy : 0.954921 \n",
      "[2018-02-11 19:41:20,776][MainProcess][allennlp.training.trainer][INFO] Training loss : 0.283927    Validation loss : 31.941723 \n",
      "[2018-02-11 19:41:20,778][MainProcess][allennlp.training.trainer][INFO] Epoch duration: 00:01:17\n",
      "[2018-02-11 19:41:20,780][MainProcess][allennlp.training.trainer][INFO] Estimated training time remaining: 01:43:54\n",
      "[2018-02-11 19:41:20,783][MainProcess][allennlp.training.trainer][INFO] Epoch 19/99\n"
     ]
    },
    {
     "name": "stderr",
     "output_type": "stream",
     "text": [
      "\r",
      "  0%|          | 0/1165 [00:00<?, ?it/s]"
     ]
    },
    {
     "name": "stdout",
     "output_type": "stream",
     "text": [
      "[2018-02-11 19:41:20,787][MainProcess][allennlp.training.trainer][INFO] Training\n"
     ]
    },
    {
     "name": "stderr",
     "output_type": "stream",
     "text": [
      "token_accuracy: 1.00, accuracy: 1.00, loss: 0.28 ||: 100%|##########| 1165/1165 [01:10<00:00, 16.48it/s]"
     ]
    },
    {
     "name": "stdout",
     "output_type": "stream",
     "text": [
      "[2018-02-11 19:42:31,490][MainProcess][allennlp.training.trainer][INFO] Validating\n"
     ]
    },
    {
     "name": "stderr",
     "output_type": "stream",
     "text": [
      "\n",
      "token_accuracy: 0.99, accuracy: 0.95, loss: 35.42 ||: 100%|##########| 167/167 [00:05<00:00, 29.67it/s]\n"
     ]
    },
    {
     "name": "stdout",
     "output_type": "stream",
     "text": [
      "[2018-02-11 19:42:37,333][MainProcess][allennlp.training.trainer][INFO] Training token_accuracy : 0.999729    Validation token_accuracy : 0.988678 \n",
      "[2018-02-11 19:42:37,334][MainProcess][allennlp.training.trainer][INFO] Training accuracy : 0.999249    Validation accuracy : 0.954076 \n",
      "[2018-02-11 19:42:37,335][MainProcess][allennlp.training.trainer][INFO] Training loss : 0.276512    Validation loss : 35.422745 \n",
      "[2018-02-11 19:42:37,336][MainProcess][allennlp.training.trainer][INFO] Epoch duration: 00:01:16\n",
      "[2018-02-11 19:42:37,336][MainProcess][allennlp.training.trainer][INFO] Estimated training time remaining: 01:42:36\n",
      "[2018-02-11 19:42:37,337][MainProcess][allennlp.training.trainer][INFO] Epoch 20/99\n"
     ]
    },
    {
     "name": "stderr",
     "output_type": "stream",
     "text": [
      "\r",
      "  0%|          | 0/1165 [00:00<?, ?it/s]"
     ]
    },
    {
     "name": "stdout",
     "output_type": "stream",
     "text": [
      "[2018-02-11 19:42:37,344][MainProcess][allennlp.training.trainer][INFO] Training\n"
     ]
    },
    {
     "name": "stderr",
     "output_type": "stream",
     "text": [
      "token_accuracy: 1.00, accuracy: 1.00, loss: 0.21 ||: 100%|##########| 1165/1165 [01:11<00:00, 16.40it/s]"
     ]
    },
    {
     "name": "stdout",
     "output_type": "stream",
     "text": [
      "[2018-02-11 19:43:48,370][MainProcess][allennlp.training.trainer][INFO] Validating\n"
     ]
    },
    {
     "name": "stderr",
     "output_type": "stream",
     "text": [
      "\n",
      "token_accuracy: 0.99, accuracy: 0.95, loss: 37.51 ||: 100%|##########| 167/167 [00:05<00:00, 29.75it/s]\n"
     ]
    },
    {
     "name": "stdout",
     "output_type": "stream",
     "text": [
      "[2018-02-11 19:43:54,197][MainProcess][allennlp.training.trainer][INFO] Training token_accuracy : 0.999798    Validation token_accuracy : 0.989058 \n",
      "[2018-02-11 19:43:54,198][MainProcess][allennlp.training.trainer][INFO] Training accuracy : 0.999396    Validation accuracy : 0.954170 \n",
      "[2018-02-11 19:43:54,199][MainProcess][allennlp.training.trainer][INFO] Training loss : 0.208338    Validation loss : 37.512852 \n",
      "[2018-02-11 19:43:54,200][MainProcess][allennlp.training.trainer][INFO] Epoch duration: 00:01:16\n",
      "[2018-02-11 19:43:54,200][MainProcess][allennlp.training.trainer][INFO] Estimated training time remaining: 01:41:18\n",
      "[2018-02-11 19:43:54,201][MainProcess][allennlp.training.trainer][INFO] Epoch 21/99\n"
     ]
    },
    {
     "name": "stderr",
     "output_type": "stream",
     "text": [
      "\r",
      "  0%|          | 0/1165 [00:00<?, ?it/s]"
     ]
    },
    {
     "name": "stdout",
     "output_type": "stream",
     "text": [
      "[2018-02-11 19:43:54,202][MainProcess][allennlp.training.trainer][INFO] Training\n"
     ]
    },
    {
     "name": "stderr",
     "output_type": "stream",
     "text": [
      "token_accuracy: 1.00, accuracy: 1.00, loss: 0.21 ||: 100%|##########| 1165/1165 [01:10<00:00, 16.58it/s]"
     ]
    },
    {
     "name": "stdout",
     "output_type": "stream",
     "text": [
      "[2018-02-11 19:45:04,483][MainProcess][allennlp.training.trainer][INFO] Validating\n"
     ]
    },
    {
     "name": "stderr",
     "output_type": "stream",
     "text": [
      "\n",
      "token_accuracy: 0.99, accuracy: 0.96, loss: 37.41 ||: 100%|##########| 167/167 [00:05<00:00, 30.42it/s]\n"
     ]
    },
    {
     "name": "stdout",
     "output_type": "stream",
     "text": [
      "[2018-02-11 19:45:10,185][MainProcess][allennlp.training.trainer][INFO] Best validation performance so far. Copying weights to '../../experiments/subject_recognition_grid_search_0.02_11_19:16:28/best.th'.\n",
      "[2018-02-11 19:45:10,401][MainProcess][allennlp.training.trainer][INFO] Training token_accuracy : 0.999838    Validation token_accuracy : 0.989197 \n",
      "[2018-02-11 19:45:10,405][MainProcess][allennlp.training.trainer][INFO] Training accuracy : 0.999302    Validation accuracy : 0.955485 \n",
      "[2018-02-11 19:45:10,407][MainProcess][allennlp.training.trainer][INFO] Training loss : 0.208011    Validation loss : 37.414906 \n",
      "[2018-02-11 19:45:10,410][MainProcess][allennlp.training.trainer][INFO] Epoch duration: 00:01:16\n",
      "[2018-02-11 19:45:10,412][MainProcess][allennlp.training.trainer][INFO] Estimated training time remaining: 01:39:59\n",
      "[2018-02-11 19:45:10,416][MainProcess][allennlp.training.trainer][INFO] Epoch 22/99\n"
     ]
    },
    {
     "name": "stderr",
     "output_type": "stream",
     "text": [
      "\r",
      "  0%|          | 0/1165 [00:00<?, ?it/s]"
     ]
    },
    {
     "name": "stdout",
     "output_type": "stream",
     "text": [
      "[2018-02-11 19:45:10,422][MainProcess][allennlp.training.trainer][INFO] Training\n"
     ]
    },
    {
     "name": "stderr",
     "output_type": "stream",
     "text": [
      "token_accuracy: 1.00, accuracy: 1.00, loss: 0.27 ||: 100%|##########| 1165/1165 [01:09<00:00, 16.75it/s]"
     ]
    },
    {
     "name": "stdout",
     "output_type": "stream",
     "text": [
      "[2018-02-11 19:46:19,988][MainProcess][allennlp.training.trainer][INFO] Validating\n"
     ]
    },
    {
     "name": "stderr",
     "output_type": "stream",
     "text": [
      "\n",
      "token_accuracy: 0.99, accuracy: 0.95, loss: 35.49 ||: 100%|##########| 167/167 [00:05<00:00, 30.31it/s]\n"
     ]
    },
    {
     "name": "stdout",
     "output_type": "stream",
     "text": [
      "[2018-02-11 19:46:25,711][MainProcess][allennlp.training.trainer][INFO] Training token_accuracy : 0.999788    Validation token_accuracy : 0.989231 \n",
      "[2018-02-11 19:46:25,712][MainProcess][allennlp.training.trainer][INFO] Training accuracy : 0.999101    Validation accuracy : 0.954639 \n",
      "[2018-02-11 19:46:25,712][MainProcess][allennlp.training.trainer][INFO] Training loss : 0.271162    Validation loss : 35.493694 \n",
      "[2018-02-11 19:46:25,713][MainProcess][allennlp.training.trainer][INFO] Epoch duration: 00:01:15\n",
      "[2018-02-11 19:46:25,713][MainProcess][allennlp.training.trainer][INFO] Estimated training time remaining: 01:38:37\n",
      "[2018-02-11 19:46:25,714][MainProcess][allennlp.training.trainer][INFO] Epoch 23/99\n"
     ]
    },
    {
     "name": "stderr",
     "output_type": "stream",
     "text": [
      "\r",
      "  0%|          | 0/1165 [00:00<?, ?it/s]"
     ]
    },
    {
     "name": "stdout",
     "output_type": "stream",
     "text": [
      "[2018-02-11 19:46:25,719][MainProcess][allennlp.training.trainer][INFO] Training\n"
     ]
    },
    {
     "name": "stderr",
     "output_type": "stream",
     "text": [
      "token_accuracy: 1.00, accuracy: 1.00, loss: 0.22 ||: 100%|##########| 1165/1165 [01:09<00:00, 16.65it/s]"
     ]
    },
    {
     "name": "stdout",
     "output_type": "stream",
     "text": [
      "[2018-02-11 19:47:35,677][MainProcess][allennlp.training.trainer][INFO] Validating\n"
     ]
    },
    {
     "name": "stderr",
     "output_type": "stream",
     "text": [
      "\n",
      "token_accuracy: 0.99, accuracy: 0.95, loss: 37.84 ||: 100%|##########| 167/167 [00:05<00:00, 30.27it/s]\n"
     ]
    },
    {
     "name": "stdout",
     "output_type": "stream",
     "text": [
      "[2018-02-11 19:47:41,406][MainProcess][allennlp.training.trainer][INFO] Training token_accuracy : 0.999810    Validation token_accuracy : 0.989104 \n",
      "[2018-02-11 19:47:41,407][MainProcess][allennlp.training.trainer][INFO] Training accuracy : 0.999235    Validation accuracy : 0.954358 \n",
      "[2018-02-11 19:47:41,407][MainProcess][allennlp.training.trainer][INFO] Training loss : 0.222799    Validation loss : 37.838116 \n",
      "[2018-02-11 19:47:41,408][MainProcess][allennlp.training.trainer][INFO] Epoch duration: 00:01:15\n",
      "[2018-02-11 19:47:41,408][MainProcess][allennlp.training.trainer][INFO] Estimated training time remaining: 01:37:16\n",
      "[2018-02-11 19:47:41,409][MainProcess][allennlp.training.trainer][INFO] Epoch 24/99\n"
     ]
    },
    {
     "name": "stderr",
     "output_type": "stream",
     "text": [
      "\r",
      "  0%|          | 0/1165 [00:00<?, ?it/s]"
     ]
    },
    {
     "name": "stdout",
     "output_type": "stream",
     "text": [
      "[2018-02-11 19:47:41,410][MainProcess][allennlp.training.trainer][INFO] Training\n"
     ]
    },
    {
     "name": "stderr",
     "output_type": "stream",
     "text": [
      "token_accuracy: 1.00, accuracy: 1.00, loss: 0.23 ||: 100%|##########| 1165/1165 [01:09<00:00, 16.75it/s]"
     ]
    },
    {
     "name": "stdout",
     "output_type": "stream",
     "text": [
      "[2018-02-11 19:48:50,947][MainProcess][allennlp.training.trainer][INFO] Validating\n"
     ]
    },
    {
     "name": "stderr",
     "output_type": "stream",
     "text": [
      "\n",
      "token_accuracy: 0.99, accuracy: 0.95, loss: 38.68 ||: 100%|##########| 167/167 [00:05<00:00, 30.33it/s]\n"
     ]
    },
    {
     "name": "stdout",
     "output_type": "stream",
     "text": [
      "[2018-02-11 19:48:56,666][MainProcess][allennlp.training.trainer][INFO] Training token_accuracy : 0.999806    Validation token_accuracy : 0.989127 \n",
      "[2018-02-11 19:48:56,667][MainProcess][allennlp.training.trainer][INFO] Training accuracy : 0.999302    Validation accuracy : 0.952479 \n",
      "[2018-02-11 19:48:56,667][MainProcess][allennlp.training.trainer][INFO] Training loss : 0.233174    Validation loss : 38.681438 \n",
      "[2018-02-11 19:48:56,668][MainProcess][allennlp.training.trainer][INFO] Epoch duration: 00:01:15\n",
      "[2018-02-11 19:48:56,668][MainProcess][allennlp.training.trainer][INFO] Estimated training time remaining: 01:35:55\n",
      "[2018-02-11 19:48:56,669][MainProcess][allennlp.training.trainer][INFO] Epoch 25/99\n"
     ]
    },
    {
     "name": "stderr",
     "output_type": "stream",
     "text": [
      "\r",
      "  0%|          | 0/1165 [00:00<?, ?it/s]"
     ]
    },
    {
     "name": "stdout",
     "output_type": "stream",
     "text": [
      "[2018-02-11 19:48:56,670][MainProcess][allennlp.training.trainer][INFO] Training\n"
     ]
    },
    {
     "name": "stderr",
     "output_type": "stream",
     "text": [
      "token_accuracy: 1.00, accuracy: 1.00, loss: 0.17 ||: 100%|##########| 1165/1165 [01:10<00:00, 16.64it/s]"
     ]
    },
    {
     "name": "stdout",
     "output_type": "stream",
     "text": [
      "[2018-02-11 19:50:06,679][MainProcess][allennlp.training.trainer][INFO] Validating\n"
     ]
    },
    {
     "name": "stderr",
     "output_type": "stream",
     "text": [
      "\n",
      "token_accuracy: 0.99, accuracy: 0.95, loss: 38.40 ||: 100%|##########| 167/167 [00:05<00:00, 30.25it/s]\n"
     ]
    },
    {
     "name": "stdout",
     "output_type": "stream",
     "text": [
      "[2018-02-11 19:50:12,414][MainProcess][allennlp.training.trainer][INFO] Training token_accuracy : 0.999885    Validation token_accuracy : 0.989231 \n",
      "[2018-02-11 19:50:12,415][MainProcess][allennlp.training.trainer][INFO] Training accuracy : 0.999544    Validation accuracy : 0.954076 \n",
      "[2018-02-11 19:50:12,415][MainProcess][allennlp.training.trainer][INFO] Training loss : 0.166340    Validation loss : 38.403534 \n",
      "[2018-02-11 19:50:12,416][MainProcess][allennlp.training.trainer][INFO] Epoch duration: 00:01:15\n",
      "[2018-02-11 19:50:12,416][MainProcess][allennlp.training.trainer][INFO] Estimated training time remaining: 01:34:35\n",
      "[2018-02-11 19:50:12,417][MainProcess][allennlp.training.trainer][INFO] Epoch 26/99\n"
     ]
    },
    {
     "name": "stderr",
     "output_type": "stream",
     "text": [
      "\r",
      "  0%|          | 0/1165 [00:00<?, ?it/s]"
     ]
    },
    {
     "name": "stdout",
     "output_type": "stream",
     "text": [
      "[2018-02-11 19:50:12,418][MainProcess][allennlp.training.trainer][INFO] Training\n"
     ]
    },
    {
     "name": "stderr",
     "output_type": "stream",
     "text": [
      "token_accuracy: 1.00, accuracy: 1.00, loss: 0.12 ||: 100%|##########| 1165/1165 [01:09<00:00, 16.72it/s]"
     ]
    },
    {
     "name": "stdout",
     "output_type": "stream",
     "text": [
      "[2018-02-11 19:51:22,114][MainProcess][allennlp.training.trainer][INFO] Validating\n"
     ]
    },
    {
     "name": "stderr",
     "output_type": "stream",
     "text": [
      "\n",
      "token_accuracy: 0.99, accuracy: 0.96, loss: 38.04 ||: 100%|##########| 167/167 [00:05<00:00, 30.27it/s]\n"
     ]
    },
    {
     "name": "stdout",
     "output_type": "stream",
     "text": [
      "[2018-02-11 19:51:27,845][MainProcess][allennlp.training.trainer][INFO] Best validation performance so far. Copying weights to '../../experiments/subject_recognition_grid_search_0.02_11_19:16:28/best.th'.\n",
      "[2018-02-11 19:51:28,040][MainProcess][allennlp.training.trainer][INFO] Training token_accuracy : 0.999923    Validation token_accuracy : 0.989450 \n",
      "[2018-02-11 19:51:28,044][MainProcess][allennlp.training.trainer][INFO] Training accuracy : 0.999678    Validation accuracy : 0.955672 \n",
      "[2018-02-11 19:51:28,047][MainProcess][allennlp.training.trainer][INFO] Training loss : 0.123388    Validation loss : 38.044796 \n",
      "[2018-02-11 19:51:28,055][MainProcess][allennlp.training.trainer][INFO] Epoch duration: 00:01:15\n",
      "[2018-02-11 19:51:28,057][MainProcess][allennlp.training.trainer][INFO] Estimated training time remaining: 01:33:16\n",
      "[2018-02-11 19:51:28,060][MainProcess][allennlp.training.trainer][INFO] Epoch 27/99\n"
     ]
    },
    {
     "name": "stderr",
     "output_type": "stream",
     "text": [
      "\r",
      "  0%|          | 0/1165 [00:00<?, ?it/s]"
     ]
    },
    {
     "name": "stdout",
     "output_type": "stream",
     "text": [
      "[2018-02-11 19:51:28,064][MainProcess][allennlp.training.trainer][INFO] Training\n"
     ]
    },
    {
     "name": "stderr",
     "output_type": "stream",
     "text": [
      "token_accuracy: 1.00, accuracy: 1.00, loss: 0.08 ||: 100%|##########| 1165/1165 [01:09<00:00, 16.75it/s]"
     ]
    },
    {
     "name": "stdout",
     "output_type": "stream",
     "text": [
      "[2018-02-11 19:52:37,603][MainProcess][allennlp.training.trainer][INFO] Validating\n"
     ]
    },
    {
     "name": "stderr",
     "output_type": "stream",
     "text": [
      "\n",
      "token_accuracy: 0.99, accuracy: 0.96, loss: 41.17 ||: 100%|##########| 167/167 [00:05<00:00, 30.23it/s]\n"
     ]
    },
    {
     "name": "stdout",
     "output_type": "stream",
     "text": [
      "[2018-02-11 19:52:43,344][MainProcess][allennlp.training.trainer][INFO] Best validation performance so far. Copying weights to '../../experiments/subject_recognition_grid_search_0.02_11_19:16:28/best.th'.\n",
      "[2018-02-11 19:52:43,572][MainProcess][allennlp.training.trainer][INFO] Training token_accuracy : 0.999949    Validation token_accuracy : 0.989300 \n",
      "[2018-02-11 19:52:43,577][MainProcess][allennlp.training.trainer][INFO] Training accuracy : 0.999758    Validation accuracy : 0.955766 \n",
      "[2018-02-11 19:52:43,579][MainProcess][allennlp.training.trainer][INFO] Training loss : 0.083334    Validation loss : 41.166630 \n",
      "[2018-02-11 19:52:43,581][MainProcess][allennlp.training.trainer][INFO] Epoch duration: 00:01:15\n",
      "[2018-02-11 19:52:43,584][MainProcess][allennlp.training.trainer][INFO] Estimated training time remaining: 01:31:56\n",
      "[2018-02-11 19:52:43,586][MainProcess][allennlp.training.trainer][INFO] Epoch 28/99\n"
     ]
    },
    {
     "name": "stderr",
     "output_type": "stream",
     "text": [
      "\r",
      "  0%|          | 0/1165 [00:00<?, ?it/s]"
     ]
    },
    {
     "name": "stdout",
     "output_type": "stream",
     "text": [
      "[2018-02-11 19:52:43,596][MainProcess][allennlp.training.trainer][INFO] Training\n"
     ]
    },
    {
     "name": "stderr",
     "output_type": "stream",
     "text": [
      "token_accuracy: 1.00, accuracy: 1.00, loss: 0.08 ||: 100%|##########| 1165/1165 [01:10<00:00, 16.62it/s]"
     ]
    },
    {
     "name": "stdout",
     "output_type": "stream",
     "text": [
      "[2018-02-11 19:53:53,672][MainProcess][allennlp.training.trainer][INFO] Validating\n"
     ]
    },
    {
     "name": "stderr",
     "output_type": "stream",
     "text": [
      "\n",
      "token_accuracy: 0.99, accuracy: 0.96, loss: 42.69 ||: 100%|##########| 167/167 [00:05<00:00, 30.08it/s]\n"
     ]
    },
    {
     "name": "stdout",
     "output_type": "stream",
     "text": [
      "[2018-02-11 19:53:59,437][MainProcess][allennlp.training.trainer][INFO] Training token_accuracy : 0.999964    Validation token_accuracy : 0.989150 \n",
      "[2018-02-11 19:53:59,438][MainProcess][allennlp.training.trainer][INFO] Training accuracy : 0.999799    Validation accuracy : 0.955109 \n",
      "[2018-02-11 19:53:59,438][MainProcess][allennlp.training.trainer][INFO] Training loss : 0.075164    Validation loss : 42.691036 \n",
      "[2018-02-11 19:53:59,439][MainProcess][allennlp.training.trainer][INFO] Epoch duration: 00:01:15\n",
      "[2018-02-11 19:53:59,440][MainProcess][allennlp.training.trainer][INFO] Estimated training time remaining: 01:30:38\n",
      "[2018-02-11 19:53:59,440][MainProcess][allennlp.training.trainer][INFO] Epoch 29/99\n"
     ]
    },
    {
     "name": "stderr",
     "output_type": "stream",
     "text": [
      "\r",
      "  0%|          | 0/1165 [00:00<?, ?it/s]"
     ]
    },
    {
     "name": "stdout",
     "output_type": "stream",
     "text": [
      "[2018-02-11 19:53:59,441][MainProcess][allennlp.training.trainer][INFO] Training\n"
     ]
    },
    {
     "name": "stderr",
     "output_type": "stream",
     "text": [
      "token_accuracy: 1.00, accuracy: 1.00, loss: 0.09 ||: 100%|##########| 1165/1165 [01:11<00:00, 16.33it/s]"
     ]
    },
    {
     "name": "stdout",
     "output_type": "stream",
     "text": [
      "[2018-02-11 19:55:10,777][MainProcess][allennlp.training.trainer][INFO] Validating\n"
     ]
    },
    {
     "name": "stderr",
     "output_type": "stream",
     "text": [
      "\n",
      "token_accuracy: 0.99, accuracy: 0.95, loss: 44.96 ||: 100%|##########| 167/167 [00:05<00:00, 29.66it/s]\n"
     ]
    },
    {
     "name": "stdout",
     "output_type": "stream",
     "text": [
      "[2018-02-11 19:55:16,622][MainProcess][allennlp.training.trainer][INFO] Training token_accuracy : 0.999954    Validation token_accuracy : 0.989300 \n",
      "[2018-02-11 19:55:16,623][MainProcess][allennlp.training.trainer][INFO] Training accuracy : 0.999745    Validation accuracy : 0.954452 \n",
      "[2018-02-11 19:55:16,623][MainProcess][allennlp.training.trainer][INFO] Training loss : 0.086905    Validation loss : 44.962688 \n",
      "[2018-02-11 19:55:16,624][MainProcess][allennlp.training.trainer][INFO] Epoch duration: 00:01:17\n",
      "[2018-02-11 19:55:16,624][MainProcess][allennlp.training.trainer][INFO] Estimated training time remaining: 01:29:22\n",
      "[2018-02-11 19:55:16,625][MainProcess][allennlp.training.trainer][INFO] Epoch 30/99\n"
     ]
    },
    {
     "name": "stderr",
     "output_type": "stream",
     "text": [
      "\r",
      "  0%|          | 0/1165 [00:00<?, ?it/s]"
     ]
    },
    {
     "name": "stdout",
     "output_type": "stream",
     "text": [
      "[2018-02-11 19:55:16,628][MainProcess][allennlp.training.trainer][INFO] Training\n"
     ]
    },
    {
     "name": "stderr",
     "output_type": "stream",
     "text": [
      "token_accuracy: 1.00, accuracy: 1.00, loss: 0.08 ||: 100%|##########| 1165/1165 [01:10<00:00, 16.47it/s]"
     ]
    },
    {
     "name": "stdout",
     "output_type": "stream",
     "text": [
      "[2018-02-11 19:56:27,362][MainProcess][allennlp.training.trainer][INFO] Validating\n"
     ]
    },
    {
     "name": "stderr",
     "output_type": "stream",
     "text": [
      "\n",
      "token_accuracy: 0.99, accuracy: 0.95, loss: 45.24 ||: 100%|##########| 167/167 [00:06<00:00, 27.18it/s]\n"
     ]
    },
    {
     "name": "stdout",
     "output_type": "stream",
     "text": [
      "[2018-02-11 19:56:33,720][MainProcess][allennlp.training.trainer][INFO] Training token_accuracy : 0.999961    Validation token_accuracy : 0.989266 \n",
      "[2018-02-11 19:56:33,721][MainProcess][allennlp.training.trainer][INFO] Training accuracy : 0.999799    Validation accuracy : 0.953606 \n",
      "[2018-02-11 19:56:33,722][MainProcess][allennlp.training.trainer][INFO] Training loss : 0.076140    Validation loss : 45.240387 \n",
      "[2018-02-11 19:56:33,722][MainProcess][allennlp.training.trainer][INFO] Epoch duration: 00:01:17\n",
      "[2018-02-11 19:56:33,723][MainProcess][allennlp.training.trainer][INFO] Estimated training time remaining: 01:28:07\n",
      "[2018-02-11 19:56:33,723][MainProcess][allennlp.training.trainer][INFO] Epoch 31/99\n"
     ]
    },
    {
     "name": "stderr",
     "output_type": "stream",
     "text": [
      "\r",
      "  0%|          | 0/1165 [00:00<?, ?it/s]"
     ]
    },
    {
     "name": "stdout",
     "output_type": "stream",
     "text": [
      "[2018-02-11 19:56:33,726][MainProcess][allennlp.training.trainer][INFO] Training\n"
     ]
    },
    {
     "name": "stderr",
     "output_type": "stream",
     "text": [
      "token_accuracy: 1.00, accuracy: 1.00, loss: 0.06 ||: 100%|##########| 1165/1165 [01:10<00:00, 16.47it/s]"
     ]
    },
    {
     "name": "stdout",
     "output_type": "stream",
     "text": [
      "[2018-02-11 19:57:44,475][MainProcess][allennlp.training.trainer][INFO] Validating\n"
     ]
    },
    {
     "name": "stderr",
     "output_type": "stream",
     "text": [
      "\n",
      "token_accuracy: 0.99, accuracy: 0.95, loss: 47.06 ||: 100%|##########| 167/167 [00:05<00:00, 29.36it/s]\n"
     ]
    },
    {
     "name": "stdout",
     "output_type": "stream",
     "text": [
      "[2018-02-11 19:57:50,377][MainProcess][allennlp.training.trainer][INFO] Training token_accuracy : 0.999969    Validation token_accuracy : 0.989208 \n",
      "[2018-02-11 19:57:50,378][MainProcess][allennlp.training.trainer][INFO] Training accuracy : 0.999879    Validation accuracy : 0.953325 \n",
      "[2018-02-11 19:57:50,378][MainProcess][allennlp.training.trainer][INFO] Training loss : 0.056262    Validation loss : 47.057301 \n",
      "[2018-02-11 19:57:50,379][MainProcess][allennlp.training.trainer][INFO] Epoch duration: 00:01:16\n",
      "[2018-02-11 19:57:50,380][MainProcess][allennlp.training.trainer][INFO] Estimated training time remaining: 01:26:50\n",
      "[2018-02-11 19:57:50,380][MainProcess][allennlp.training.trainer][INFO] Epoch 32/99\n"
     ]
    },
    {
     "name": "stderr",
     "output_type": "stream",
     "text": [
      "\r",
      "  0%|          | 0/1165 [00:00<?, ?it/s]"
     ]
    },
    {
     "name": "stdout",
     "output_type": "stream",
     "text": [
      "[2018-02-11 19:57:50,387][MainProcess][allennlp.training.trainer][INFO] Training\n"
     ]
    },
    {
     "name": "stderr",
     "output_type": "stream",
     "text": [
      "token_accuracy: 1.00, accuracy: 1.00, loss: 0.06 ||: 100%|##########| 1165/1165 [01:11<00:00, 16.36it/s]"
     ]
    },
    {
     "name": "stdout",
     "output_type": "stream",
     "text": [
      "[2018-02-11 19:59:01,599][MainProcess][allennlp.training.trainer][INFO] Validating\n"
     ]
    },
    {
     "name": "stderr",
     "output_type": "stream",
     "text": [
      "\n",
      "token_accuracy: 0.99, accuracy: 0.95, loss: 46.94 ||: 100%|##########| 167/167 [00:05<00:00, 29.55it/s]\n"
     ]
    },
    {
     "name": "stdout",
     "output_type": "stream",
     "text": [
      "[2018-02-11 19:59:07,463][MainProcess][allennlp.training.trainer][INFO] Training token_accuracy : 0.999964    Validation token_accuracy : 0.989208 \n",
      "[2018-02-11 19:59:07,464][MainProcess][allennlp.training.trainer][INFO] Training accuracy : 0.999812    Validation accuracy : 0.954170 \n",
      "[2018-02-11 19:59:07,465][MainProcess][allennlp.training.trainer][INFO] Training loss : 0.063808    Validation loss : 46.936317 \n",
      "[2018-02-11 19:59:07,465][MainProcess][allennlp.training.trainer][INFO] Epoch duration: 00:01:17\n",
      "[2018-02-11 19:59:07,466][MainProcess][allennlp.training.trainer][INFO] Estimated training time remaining: 01:25:35\n",
      "[2018-02-11 19:59:07,466][MainProcess][allennlp.training.trainer][INFO] Epoch 33/99\n"
     ]
    },
    {
     "name": "stderr",
     "output_type": "stream",
     "text": [
      "\r",
      "  0%|          | 0/1165 [00:00<?, ?it/s]"
     ]
    },
    {
     "name": "stdout",
     "output_type": "stream",
     "text": [
      "[2018-02-11 19:59:07,471][MainProcess][allennlp.training.trainer][INFO] Training\n"
     ]
    },
    {
     "name": "stderr",
     "output_type": "stream",
     "text": [
      "token_accuracy: 1.00, accuracy: 1.00, loss: 0.06 ||: 100%|##########| 1165/1165 [01:11<00:00, 16.34it/s]"
     ]
    },
    {
     "name": "stdout",
     "output_type": "stream",
     "text": [
      "[2018-02-11 20:00:18,751][MainProcess][allennlp.training.trainer][INFO] Validating\n"
     ]
    },
    {
     "name": "stderr",
     "output_type": "stream",
     "text": [
      "\n",
      "token_accuracy: 0.99, accuracy: 0.95, loss: 47.38 ||: 100%|##########| 167/167 [00:05<00:00, 29.50it/s]\n"
     ]
    },
    {
     "name": "stdout",
     "output_type": "stream",
     "text": [
      "[2018-02-11 20:00:24,628][MainProcess][allennlp.training.trainer][INFO] Training token_accuracy : 0.999975    Validation token_accuracy : 0.989243 \n",
      "[2018-02-11 20:00:24,629][MainProcess][allennlp.training.trainer][INFO] Training accuracy : 0.999839    Validation accuracy : 0.954733 \n",
      "[2018-02-11 20:00:24,629][MainProcess][allennlp.training.trainer][INFO] Training loss : 0.058309    Validation loss : 47.384548 \n",
      "[2018-02-11 20:00:24,630][MainProcess][allennlp.training.trainer][INFO] Epoch duration: 00:01:17\n",
      "[2018-02-11 20:00:24,630][MainProcess][allennlp.training.trainer][INFO] Estimated training time remaining: 01:24:19\n",
      "[2018-02-11 20:00:24,631][MainProcess][allennlp.training.trainer][INFO] Epoch 34/99\n"
     ]
    },
    {
     "name": "stderr",
     "output_type": "stream",
     "text": [
      "\r",
      "  0%|          | 0/1165 [00:00<?, ?it/s]"
     ]
    },
    {
     "name": "stdout",
     "output_type": "stream",
     "text": [
      "[2018-02-11 20:00:24,634][MainProcess][allennlp.training.trainer][INFO] Training\n"
     ]
    },
    {
     "name": "stderr",
     "output_type": "stream",
     "text": [
      "token_accuracy: 1.00, accuracy: 1.00, loss: 0.05 ||: 100%|##########| 1165/1165 [01:11<00:00, 16.33it/s]"
     ]
    },
    {
     "name": "stdout",
     "output_type": "stream",
     "text": [
      "[2018-02-11 20:01:35,975][MainProcess][allennlp.training.trainer][INFO] Validating\n"
     ]
    },
    {
     "name": "stderr",
     "output_type": "stream",
     "text": [
      "\n",
      "token_accuracy: 0.99, accuracy: 0.95, loss: 47.95 ||: 100%|##########| 167/167 [00:05<00:00, 29.60it/s]\n"
     ]
    },
    {
     "name": "stdout",
     "output_type": "stream",
     "text": [
      "[2018-02-11 20:01:41,829][MainProcess][allennlp.training.trainer][INFO] Training token_accuracy : 0.999977    Validation token_accuracy : 0.989208 \n",
      "[2018-02-11 20:01:41,830][MainProcess][allennlp.training.trainer][INFO] Training accuracy : 0.999852    Validation accuracy : 0.954358 \n",
      "[2018-02-11 20:01:41,831][MainProcess][allennlp.training.trainer][INFO] Training loss : 0.048487    Validation loss : 47.951134 \n",
      "[2018-02-11 20:01:41,832][MainProcess][allennlp.training.trainer][INFO] Epoch duration: 00:01:17\n",
      "[2018-02-11 20:01:41,833][MainProcess][allennlp.training.trainer][INFO] Estimated training time remaining: 01:23:03\n",
      "[2018-02-11 20:01:41,834][MainProcess][allennlp.training.trainer][INFO] Epoch 35/99\n"
     ]
    },
    {
     "name": "stderr",
     "output_type": "stream",
     "text": [
      "\r",
      "  0%|          | 0/1165 [00:00<?, ?it/s]"
     ]
    },
    {
     "name": "stdout",
     "output_type": "stream",
     "text": [
      "[2018-02-11 20:01:41,835][MainProcess][allennlp.training.trainer][INFO] Training\n"
     ]
    },
    {
     "name": "stderr",
     "output_type": "stream",
     "text": [
      "token_accuracy: 1.00, accuracy: 1.00, loss: 0.05 ||: 100%|##########| 1165/1165 [01:10<00:00, 16.46it/s]"
     ]
    },
    {
     "name": "stdout",
     "output_type": "stream",
     "text": [
      "[2018-02-11 20:02:52,607][MainProcess][allennlp.training.trainer][INFO] Validating\n"
     ]
    },
    {
     "name": "stderr",
     "output_type": "stream",
     "text": [
      "\n",
      "token_accuracy: 0.99, accuracy: 0.95, loss: 48.32 ||: 100%|##########| 167/167 [00:05<00:00, 29.57it/s]\n"
     ]
    },
    {
     "name": "stdout",
     "output_type": "stream",
     "text": [
      "[2018-02-11 20:02:58,469][MainProcess][allennlp.training.trainer][INFO] Training token_accuracy : 0.999980    Validation token_accuracy : 0.989208 \n",
      "[2018-02-11 20:02:58,470][MainProcess][allennlp.training.trainer][INFO] Training accuracy : 0.999893    Validation accuracy : 0.954452 \n",
      "[2018-02-11 20:02:58,470][MainProcess][allennlp.training.trainer][INFO] Training loss : 0.047784    Validation loss : 48.320683 \n",
      "[2018-02-11 20:02:58,471][MainProcess][allennlp.training.trainer][INFO] Epoch duration: 00:01:16\n",
      "[2018-02-11 20:02:58,472][MainProcess][allennlp.training.trainer][INFO] Estimated training time remaining: 01:21:47\n",
      "[2018-02-11 20:02:58,472][MainProcess][allennlp.training.trainer][INFO] Epoch 36/99\n"
     ]
    },
    {
     "name": "stderr",
     "output_type": "stream",
     "text": [
      "\r",
      "  0%|          | 0/1165 [00:00<?, ?it/s]"
     ]
    },
    {
     "name": "stdout",
     "output_type": "stream",
     "text": [
      "[2018-02-11 20:02:58,480][MainProcess][allennlp.training.trainer][INFO] Training\n"
     ]
    },
    {
     "name": "stderr",
     "output_type": "stream",
     "text": [
      "token_accuracy: 1.00, accuracy: 1.00, loss: 0.05 ||: 100%|##########| 1165/1165 [01:11<00:00, 16.20it/s]"
     ]
    },
    {
     "name": "stdout",
     "output_type": "stream",
     "text": [
      "[2018-02-11 20:04:10,389][MainProcess][allennlp.training.trainer][INFO] Validating\n"
     ]
    },
    {
     "name": "stderr",
     "output_type": "stream",
     "text": [
      "\n",
      "token_accuracy: 0.99, accuracy: 0.95, loss: 48.71 ||: 100%|##########| 167/167 [00:05<00:00, 29.39it/s]\n"
     ]
    },
    {
     "name": "stdout",
     "output_type": "stream",
     "text": [
      "[2018-02-11 20:04:16,287][MainProcess][allennlp.training.trainer][INFO] Training token_accuracy : 0.999975    Validation token_accuracy : 0.989185 \n",
      "[2018-02-11 20:04:16,288][MainProcess][allennlp.training.trainer][INFO] Training accuracy : 0.999866    Validation accuracy : 0.953700 \n",
      "[2018-02-11 20:04:16,288][MainProcess][allennlp.training.trainer][INFO] Training loss : 0.053902    Validation loss : 48.708637 \n",
      "[2018-02-11 20:04:16,289][MainProcess][allennlp.training.trainer][INFO] Epoch duration: 00:01:17\n",
      "[2018-02-11 20:04:16,289][MainProcess][allennlp.training.trainer][INFO] Estimated training time remaining: 01:20:32\n",
      "[2018-02-11 20:04:16,290][MainProcess][allennlp.training.trainer][INFO] Epoch 37/99\n"
     ]
    },
    {
     "name": "stderr",
     "output_type": "stream",
     "text": [
      "\r",
      "  0%|          | 0/1165 [00:00<?, ?it/s]"
     ]
    },
    {
     "name": "stdout",
     "output_type": "stream",
     "text": [
      "[2018-02-11 20:04:16,294][MainProcess][allennlp.training.trainer][INFO] Training\n"
     ]
    },
    {
     "name": "stderr",
     "output_type": "stream",
     "text": [
      "token_accuracy: 1.00, accuracy: 1.00, loss: 0.05 ||: 100%|##########| 1165/1165 [01:11<00:00, 16.30it/s]\n"
     ]
    },
    {
     "name": "stdout",
     "output_type": "stream",
     "text": [
      "[2018-02-11 20:05:27,752][MainProcess][allennlp.training.trainer][INFO] Validating\n"
     ]
    },
    {
     "name": "stderr",
     "output_type": "stream",
     "text": [
      "token_accuracy: 0.99, accuracy: 0.95, loss: 48.91 ||: 100%|##########| 167/167 [00:05<00:00, 29.55it/s]"
     ]
    },
    {
     "name": "stdout",
     "output_type": "stream",
     "text": [
      "[2018-02-11 20:05:33,407][MainProcess][allennlp.training.trainer][INFO] Ran out of patience.  Stopping training.\n",
      "[2018-02-11 20:05:33,407][MainProcess][allennlp.models.archival][INFO] archiving weights and vocabulary to ../../experiments/subject_recognition_grid_search_0.02_11_19:16:28/model.tar.gz\n"
     ]
    },
    {
     "name": "stderr",
     "output_type": "stream",
     "text": [
      "\n"
     ]
    },
    {
     "name": "stdout",
     "output_type": "stream",
     "text": [
      "––––––––––––––––––––––––––––––––––––––––––––––––––––––––––––––––––––––––––––––––––––––––––––––––––––\n",
      "Seed: 2351240810\n",
      "Serialization Directory: ../../experiments/subject_recognition_grid_search_1.02_11_20:05:37\n",
      "[2018-02-11 20:05:37,549][MainProcess][allennlp.common.params][INFO] random_seed = 2351240810\n",
      "[2018-02-11 20:05:37,550][MainProcess][allennlp.common.params][INFO] numpy_seed = 2351240810\n",
      "[2018-02-11 20:05:37,551][MainProcess][allennlp.common.params][INFO] pytorch_seed = 2351240810\n",
      "[2018-02-11 20:05:37,554][MainProcess][allennlp.common.checks][INFO] Pytorch version: 0.3.0.post4\n",
      "[2018-02-11 20:05:37,555][MainProcess][allennlp.common.params][INFO] dataset_reader.type = sequence_tagging\n",
      "[2018-02-11 20:05:37,556][MainProcess][allennlp.common.params][INFO] dataset_reader.token_indexers.tokens.type = single_id\n",
      "[2018-02-11 20:05:37,556][MainProcess][allennlp.common.params][INFO] dataset_reader.token_indexers.tokens.namespace = tokens\n",
      "[2018-02-11 20:05:37,560][MainProcess][allennlp.common.params][INFO] dataset_reader.token_indexers.tokens.lowercase_tokens = True\n",
      "[2018-02-11 20:05:37,563][MainProcess][allennlp.common.params][INFO] dataset_reader.token_indexers.token_characters.type = characters\n",
      "[2018-02-11 20:05:37,564][MainProcess][allennlp.common.params][INFO] dataset_reader.token_indexers.token_characters.namespace = token_characters\n",
      "[2018-02-11 20:05:37,566][MainProcess][allennlp.common.params][INFO] dataset_reader.token_indexers.token_characters.character_tokenizer.byte_encoding = None\n",
      "[2018-02-11 20:05:37,566][MainProcess][allennlp.common.params][INFO] dataset_reader.token_indexers.token_characters.character_tokenizer.lowercase_characters = False\n",
      "[2018-02-11 20:05:37,567][MainProcess][allennlp.common.params][INFO] dataset_reader.token_indexers.token_characters.character_tokenizer.start_tokens = None\n",
      "[2018-02-11 20:05:37,567][MainProcess][allennlp.common.params][INFO] dataset_reader.token_indexers.token_characters.character_tokenizer.end_tokens = ['@@PADDING@@', '@@PADDING@@', '@@PADDING@@', '@@PADDING@@']\n",
      "[2018-02-11 20:05:37,569][MainProcess][allennlp.common.params][INFO] dataset_reader.word_tag_delimiter = /\n",
      "[2018-02-11 20:05:37,569][MainProcess][allennlp.common.params][INFO] dataset_reader.token_delimiter = None\n",
      "[2018-02-11 20:05:37,570][MainProcess][allennlp.common.params][INFO] train_data_path = ./../../data/subject_recognition/train.txt\n",
      "[2018-02-11 20:05:37,571][MainProcess][allennlp.commands.train][INFO] Reading training data from ./../../data/subject_recognition/train.txt\n",
      "[2018-02-11 20:05:37,572][MainProcess][allennlp.data.dataset_readers.sequence_tagging][INFO] Reading instances from lines in file at: ./../../data/subject_recognition/train.txt\n"
     ]
    },
    {
     "name": "stderr",
     "output_type": "stream",
     "text": [
      "74520it [00:02, 32065.29it/s]"
     ]
    },
    {
     "name": "stdout",
     "output_type": "stream",
     "text": [
      "[2018-02-11 20:05:39,967][MainProcess][allennlp.common.params][INFO] validation_data_path = ./../../data/subject_recognition/dev.txt\n",
      "[2018-02-11 20:05:39,968][MainProcess][allennlp.commands.train][INFO] Reading validation data from ./../../data/subject_recognition/dev.txt\n",
      "[2018-02-11 20:05:39,969][MainProcess][allennlp.data.dataset_readers.sequence_tagging][INFO] Reading instances from lines in file at: ./../../data/subject_recognition/dev.txt\n"
     ]
    },
    {
     "name": "stderr",
     "output_type": "stream",
     "text": [
      "\n",
      "10648it [00:00, 52350.20it/s]"
     ]
    },
    {
     "name": "stdout",
     "output_type": "stream",
     "text": [
      "[2018-02-11 20:05:40,184][MainProcess][allennlp.common.params][INFO] test_data_path = None\n",
      "[2018-02-11 20:05:40,185][MainProcess][allennlp.commands.train][INFO] Creating a vocabulary using train, validation data.\n"
     ]
    },
    {
     "name": "stderr",
     "output_type": "stream",
     "text": [
      "\n"
     ]
    },
    {
     "name": "stdout",
     "output_type": "stream",
     "text": [
      "[2018-02-11 20:05:40,275][MainProcess][allennlp.common.params][INFO] vocabulary.directory_path = None\n",
      "[2018-02-11 20:05:40,276][MainProcess][allennlp.common.params][INFO] vocabulary.min_count = 1\n",
      "[2018-02-11 20:05:40,277][MainProcess][allennlp.common.params][INFO] vocabulary.max_vocab_size = None\n",
      "[2018-02-11 20:05:40,278][MainProcess][allennlp.common.params][INFO] vocabulary.non_padded_namespaces = ('*tags', '*labels')\n",
      "[2018-02-11 20:05:40,279][MainProcess][allennlp.common.params][INFO] vocabulary.only_include_pretrained_words = False\n",
      "[2018-02-11 20:05:40,279][MainProcess][allennlp.data.vocabulary][INFO] Fitting token dictionary from dataset.\n"
     ]
    },
    {
     "name": "stderr",
     "output_type": "stream",
     "text": [
      "100%|##########| 85168/85168 [00:06<00:00, 12643.07it/s]\n"
     ]
    },
    {
     "name": "stdout",
     "output_type": "stream",
     "text": [
      "[2018-02-11 20:05:47,200][MainProcess][allennlp.common.params][INFO] model.type = crf_tagger\n",
      "[2018-02-11 20:05:47,201][MainProcess][allennlp.common.params][INFO] model.text_field_embedder.type = basic\n",
      "[2018-02-11 20:05:47,201][MainProcess][allennlp.common.params][INFO] model.text_field_embedder.tokens.type = embedding\n",
      "[2018-02-11 20:05:47,202][MainProcess][allennlp.common.params][INFO] model.text_field_embedder.tokens.num_embeddings = None\n",
      "[2018-02-11 20:05:47,202][MainProcess][allennlp.common.params][INFO] model.text_field_embedder.tokens.vocab_namespace = tokens\n",
      "[2018-02-11 20:05:47,203][MainProcess][allennlp.common.params][INFO] model.text_field_embedder.tokens.embedding_dim = 100\n",
      "[2018-02-11 20:05:47,203][MainProcess][allennlp.common.params][INFO] model.text_field_embedder.tokens.pretrained_file = https://s3-us-west-2.amazonaws.com/allennlp/datasets/glove/glove.6B.100d.txt.gz\n",
      "[2018-02-11 20:05:47,204][MainProcess][allennlp.common.params][INFO] model.text_field_embedder.tokens.projection_dim = None\n",
      "[2018-02-11 20:05:47,204][MainProcess][allennlp.common.params][INFO] model.text_field_embedder.tokens.trainable = False\n",
      "[2018-02-11 20:05:47,205][MainProcess][allennlp.common.params][INFO] model.text_field_embedder.tokens.padding_index = None\n",
      "[2018-02-11 20:05:47,205][MainProcess][allennlp.common.params][INFO] model.text_field_embedder.tokens.max_norm = None\n",
      "[2018-02-11 20:05:47,206][MainProcess][allennlp.common.params][INFO] model.text_field_embedder.tokens.norm_type = 2.0\n",
      "[2018-02-11 20:05:47,206][MainProcess][allennlp.common.params][INFO] model.text_field_embedder.tokens.scale_grad_by_freq = False\n",
      "[2018-02-11 20:05:47,207][MainProcess][allennlp.common.params][INFO] model.text_field_embedder.tokens.sparse = False\n",
      "[2018-02-11 20:05:47,211][MainProcess][allennlp.modules.token_embedders.embedding][INFO] Reading embeddings from file\n",
      "[2018-02-11 20:05:52,516][MainProcess][allennlp.modules.token_embedders.embedding][INFO] Initializing pre-trained embedding layer\n",
      "[2018-02-11 20:05:52,908][MainProcess][allennlp.common.params][INFO] model.text_field_embedder.token_characters.type = character_encoding\n",
      "[2018-02-11 20:05:52,909][MainProcess][allennlp.common.params][INFO] model.text_field_embedder.token_characters.embedding.num_embeddings = None\n",
      "[2018-02-11 20:05:52,910][MainProcess][allennlp.common.params][INFO] model.text_field_embedder.token_characters.embedding.vocab_namespace = token_characters\n",
      "[2018-02-11 20:05:52,910][MainProcess][allennlp.common.params][INFO] model.text_field_embedder.token_characters.embedding.embedding_dim = 25\n",
      "[2018-02-11 20:05:52,911][MainProcess][allennlp.common.params][INFO] model.text_field_embedder.token_characters.embedding.pretrained_file = None\n",
      "[2018-02-11 20:05:52,912][MainProcess][allennlp.common.params][INFO] model.text_field_embedder.token_characters.embedding.projection_dim = None\n",
      "[2018-02-11 20:05:52,912][MainProcess][allennlp.common.params][INFO] model.text_field_embedder.token_characters.embedding.trainable = True\n",
      "[2018-02-11 20:05:52,913][MainProcess][allennlp.common.params][INFO] model.text_field_embedder.token_characters.embedding.padding_index = None\n",
      "[2018-02-11 20:05:52,913][MainProcess][allennlp.common.params][INFO] model.text_field_embedder.token_characters.embedding.max_norm = None\n",
      "[2018-02-11 20:05:52,914][MainProcess][allennlp.common.params][INFO] model.text_field_embedder.token_characters.embedding.norm_type = 2.0\n",
      "[2018-02-11 20:05:52,914][MainProcess][allennlp.common.params][INFO] model.text_field_embedder.token_characters.embedding.scale_grad_by_freq = False\n",
      "[2018-02-11 20:05:52,915][MainProcess][allennlp.common.params][INFO] model.text_field_embedder.token_characters.embedding.sparse = False\n",
      "[2018-02-11 20:05:52,915][MainProcess][allennlp.common.params][INFO] model.text_field_embedder.token_characters.encoder.type = cnn\n",
      "[2018-02-11 20:05:52,916][MainProcess][allennlp.common.params][INFO] model.text_field_embedder.token_characters.encoder.embedding_dim = 25\n",
      "[2018-02-11 20:05:52,916][MainProcess][allennlp.common.params][INFO] model.text_field_embedder.token_characters.encoder.output_dim = None\n",
      "[2018-02-11 20:05:52,917][MainProcess][allennlp.common.params][INFO] model.text_field_embedder.token_characters.encoder.num_filters = 100\n",
      "[2018-02-11 20:05:52,917][MainProcess][allennlp.common.params][INFO] model.text_field_embedder.token_characters.encoder.conv_layer_activation = relu\n",
      "[2018-02-11 20:05:52,918][MainProcess][allennlp.common.params][INFO] model.text_field_embedder.token_characters.encoder.ngram_filter_sizes = [5]\n",
      "[2018-02-11 20:05:52,918][MainProcess][allennlp.common.params][INFO] model.text_field_embedder.token_characters.dropout = 0.25\n",
      "[2018-02-11 20:05:52,919][MainProcess][allennlp.common.params][INFO] model.encoder.type = lstm\n",
      "[2018-02-11 20:05:52,920][MainProcess][allennlp.common.params][INFO] model.encoder.batch_first = True\n",
      "[2018-02-11 20:05:52,920][MainProcess][allennlp.common.params][INFO] Converting Params object to dict; logging of default values will not occur when dictionary parameters are used subsequently.\n",
      "[2018-02-11 20:05:52,921][MainProcess][allennlp.common.params][INFO] CURRENTLY DEFINED PARAMETERS: \n",
      "[2018-02-11 20:05:52,921][MainProcess][allennlp.common.params][INFO] model.encoder.input_size = 200\n",
      "[2018-02-11 20:05:52,922][MainProcess][allennlp.common.params][INFO] model.encoder.hidden_size = 600\n",
      "[2018-02-11 20:05:52,922][MainProcess][allennlp.common.params][INFO] model.encoder.num_layers = 3\n",
      "[2018-02-11 20:05:52,923][MainProcess][allennlp.common.params][INFO] model.encoder.dropout = 0.25\n",
      "[2018-02-11 20:05:52,923][MainProcess][allennlp.common.params][INFO] model.encoder.bidirectional = True\n",
      "[2018-02-11 20:05:52,924][MainProcess][allennlp.common.params][INFO] model.encoder.batch_first = True\n",
      "[2018-02-11 20:05:53,040][MainProcess][allennlp.common.params][INFO] model.label_namespace = labels\n",
      "[2018-02-11 20:05:53,041][MainProcess][allennlp.common.params][INFO] model.initializer = []\n",
      "[2018-02-11 20:05:53,042][MainProcess][allennlp.common.params][INFO] model.regularizer = [['transitions$', {'type': 'l2', 'alpha': 0.01}]]\n",
      "[2018-02-11 20:05:53,042][MainProcess][allennlp.common.params][INFO] model.regularizer.list.list.type = l2\n",
      "[2018-02-11 20:05:53,043][MainProcess][allennlp.nn.initializers][INFO] Initializing parameters\n",
      "[2018-02-11 20:05:53,044][MainProcess][allennlp.nn.initializers][INFO] Done initializing parameters; the following parameters are using their default initialization from their code\n",
      "[2018-02-11 20:05:53,045][MainProcess][allennlp.nn.initializers][INFO]    crf.end_transitions\n",
      "[2018-02-11 20:05:53,045][MainProcess][allennlp.nn.initializers][INFO]    crf.start_transitions\n",
      "[2018-02-11 20:05:53,046][MainProcess][allennlp.nn.initializers][INFO]    crf.transitions\n",
      "[2018-02-11 20:05:53,047][MainProcess][allennlp.nn.initializers][INFO]    encoder._module.bias_hh_l0\n",
      "[2018-02-11 20:05:53,047][MainProcess][allennlp.nn.initializers][INFO]    encoder._module.bias_hh_l0_reverse\n",
      "[2018-02-11 20:05:53,048][MainProcess][allennlp.nn.initializers][INFO]    encoder._module.bias_hh_l1\n",
      "[2018-02-11 20:05:53,049][MainProcess][allennlp.nn.initializers][INFO]    encoder._module.bias_hh_l1_reverse\n",
      "[2018-02-11 20:05:53,049][MainProcess][allennlp.nn.initializers][INFO]    encoder._module.bias_hh_l2\n",
      "[2018-02-11 20:05:53,050][MainProcess][allennlp.nn.initializers][INFO]    encoder._module.bias_hh_l2_reverse\n",
      "[2018-02-11 20:05:53,050][MainProcess][allennlp.nn.initializers][INFO]    encoder._module.bias_ih_l0\n",
      "[2018-02-11 20:05:53,051][MainProcess][allennlp.nn.initializers][INFO]    encoder._module.bias_ih_l0_reverse\n",
      "[2018-02-11 20:05:53,051][MainProcess][allennlp.nn.initializers][INFO]    encoder._module.bias_ih_l1\n",
      "[2018-02-11 20:05:53,052][MainProcess][allennlp.nn.initializers][INFO]    encoder._module.bias_ih_l1_reverse\n",
      "[2018-02-11 20:05:53,052][MainProcess][allennlp.nn.initializers][INFO]    encoder._module.bias_ih_l2\n",
      "[2018-02-11 20:05:53,053][MainProcess][allennlp.nn.initializers][INFO]    encoder._module.bias_ih_l2_reverse\n",
      "[2018-02-11 20:05:53,053][MainProcess][allennlp.nn.initializers][INFO]    encoder._module.weight_hh_l0\n",
      "[2018-02-11 20:05:53,054][MainProcess][allennlp.nn.initializers][INFO]    encoder._module.weight_hh_l0_reverse\n"
     ]
    },
    {
     "name": "stdout",
     "output_type": "stream",
     "text": [
      "[2018-02-11 20:05:53,054][MainProcess][allennlp.nn.initializers][INFO]    encoder._module.weight_hh_l1\n",
      "[2018-02-11 20:05:53,055][MainProcess][allennlp.nn.initializers][INFO]    encoder._module.weight_hh_l1_reverse\n",
      "[2018-02-11 20:05:53,055][MainProcess][allennlp.nn.initializers][INFO]    encoder._module.weight_hh_l2\n",
      "[2018-02-11 20:05:53,056][MainProcess][allennlp.nn.initializers][INFO]    encoder._module.weight_hh_l2_reverse\n",
      "[2018-02-11 20:05:53,056][MainProcess][allennlp.nn.initializers][INFO]    encoder._module.weight_ih_l0\n",
      "[2018-02-11 20:05:53,057][MainProcess][allennlp.nn.initializers][INFO]    encoder._module.weight_ih_l0_reverse\n",
      "[2018-02-11 20:05:53,057][MainProcess][allennlp.nn.initializers][INFO]    encoder._module.weight_ih_l1\n",
      "[2018-02-11 20:05:53,058][MainProcess][allennlp.nn.initializers][INFO]    encoder._module.weight_ih_l1_reverse\n",
      "[2018-02-11 20:05:53,058][MainProcess][allennlp.nn.initializers][INFO]    encoder._module.weight_ih_l2\n",
      "[2018-02-11 20:05:53,059][MainProcess][allennlp.nn.initializers][INFO]    encoder._module.weight_ih_l2_reverse\n",
      "[2018-02-11 20:05:53,059][MainProcess][allennlp.nn.initializers][INFO]    tag_projection_layer._module.bias\n",
      "[2018-02-11 20:05:53,060][MainProcess][allennlp.nn.initializers][INFO]    tag_projection_layer._module.weight\n",
      "[2018-02-11 20:05:53,060][MainProcess][allennlp.nn.initializers][INFO]    text_field_embedder.token_embedder_token_characters._embedding._module.weight\n",
      "[2018-02-11 20:05:53,061][MainProcess][allennlp.nn.initializers][INFO]    text_field_embedder.token_embedder_token_characters._encoder._module.conv_layer_0.bias\n",
      "[2018-02-11 20:05:53,061][MainProcess][allennlp.nn.initializers][INFO]    text_field_embedder.token_embedder_token_characters._encoder._module.conv_layer_0.weight\n",
      "[2018-02-11 20:05:53,062][MainProcess][allennlp.nn.initializers][INFO]    text_field_embedder.token_embedder_tokens.weight\n",
      "[2018-02-11 20:05:53,062][MainProcess][allennlp.common.params][INFO] iterator.type = bucket\n",
      "[2018-02-11 20:05:53,063][MainProcess][allennlp.common.params][INFO] iterator.sorting_keys = [['tokens', 'num_tokens']]\n",
      "[2018-02-11 20:05:53,064][MainProcess][allennlp.common.params][INFO] iterator.padding_noise = 0.3\n",
      "[2018-02-11 20:05:53,065][MainProcess][allennlp.common.params][INFO] iterator.biggest_batch_first = False\n",
      "[2018-02-11 20:05:53,065][MainProcess][allennlp.common.params][INFO] iterator.batch_size = 64\n",
      "[2018-02-11 20:05:53,066][MainProcess][allennlp.data.dataset][INFO] Indexing dataset\n"
     ]
    },
    {
     "name": "stderr",
     "output_type": "stream",
     "text": [
      "100%|##########| 74520/74520 [00:09<00:00, 7598.22it/s]"
     ]
    },
    {
     "name": "stdout",
     "output_type": "stream",
     "text": [
      "[2018-02-11 20:06:02,880][MainProcess][allennlp.data.dataset][INFO] Indexing dataset\n"
     ]
    },
    {
     "name": "stderr",
     "output_type": "stream",
     "text": [
      "\n",
      "100%|##########| 10648/10648 [00:01<00:00, 8363.49it/s]"
     ]
    },
    {
     "name": "stdout",
     "output_type": "stream",
     "text": [
      "[2018-02-11 20:06:04,157][MainProcess][allennlp.common.params][INFO] trainer.patience = 10\n",
      "[2018-02-11 20:06:04,158][MainProcess][allennlp.common.params][INFO] trainer.validation_metric = +accuracy\n",
      "[2018-02-11 20:06:04,159][MainProcess][allennlp.common.params][INFO] trainer.num_epochs = 100\n",
      "[2018-02-11 20:06:04,159][MainProcess][allennlp.common.params][INFO] trainer.cuda_device = 0\n",
      "[2018-02-11 20:06:04,160][MainProcess][allennlp.common.params][INFO] trainer.grad_norm = None\n",
      "[2018-02-11 20:06:04,160][MainProcess][allennlp.common.params][INFO] trainer.grad_clipping = None\n"
     ]
    },
    {
     "name": "stderr",
     "output_type": "stream",
     "text": [
      "\n"
     ]
    },
    {
     "name": "stdout",
     "output_type": "stream",
     "text": [
      "[2018-02-11 20:06:04,201][MainProcess][allennlp.common.params][INFO] trainer.optimizer.type = adam\n",
      "[2018-02-11 20:06:04,202][MainProcess][allennlp.common.params][INFO] Converting Params object to dict; logging of default values will not occur when dictionary parameters are used subsequently.\n",
      "[2018-02-11 20:06:04,202][MainProcess][allennlp.common.params][INFO] CURRENTLY DEFINED PARAMETERS: \n",
      "[2018-02-11 20:06:04,203][MainProcess][allennlp.common.params][INFO] trainer.optimizer.amsgrad = False\n",
      "[2018-02-11 20:06:04,204][MainProcess][allennlp.common.params][INFO] trainer.learning_rate_scheduler.type = reduce_on_plateau\n",
      "[2018-02-11 20:06:04,204][MainProcess][allennlp.common.params][INFO] Converting Params object to dict; logging of default values will not occur when dictionary parameters are used subsequently.\n",
      "[2018-02-11 20:06:04,205][MainProcess][allennlp.common.params][INFO] CURRENTLY DEFINED PARAMETERS: \n",
      "[2018-02-11 20:06:04,205][MainProcess][allennlp.common.params][INFO] trainer.learning_rate_scheduler.factor = 0.5\n",
      "[2018-02-11 20:06:04,206][MainProcess][allennlp.common.params][INFO] trainer.learning_rate_scheduler.mode = max\n",
      "[2018-02-11 20:06:04,206][MainProcess][allennlp.common.params][INFO] trainer.learning_rate_scheduler.patience = 2\n",
      "[2018-02-11 20:06:04,206][MainProcess][allennlp.common.params][INFO] trainer.no_tqdm = False\n",
      "[2018-02-11 20:06:04,211][MainProcess][allennlp.common.params][INFO] evaluate_on_test = False\n",
      "[2018-02-11 20:06:04,212][MainProcess][allennlp.training.trainer][INFO] Beginning training.\n",
      "[2018-02-11 20:06:04,213][MainProcess][allennlp.training.trainer][INFO] Epoch 0/99\n"
     ]
    },
    {
     "name": "stderr",
     "output_type": "stream",
     "text": [
      "\r",
      "  0%|          | 0/1165 [00:00<?, ?it/s]"
     ]
    },
    {
     "name": "stdout",
     "output_type": "stream",
     "text": [
      "[2018-02-11 20:06:04,216][MainProcess][allennlp.training.trainer][INFO] Training\n"
     ]
    },
    {
     "name": "stderr",
     "output_type": "stream",
     "text": [
      "token_accuracy: 0.95, accuracy: 0.80, loss: 64.83 ||: 100%|##########| 1165/1165 [01:11<00:00, 16.35it/s]"
     ]
    },
    {
     "name": "stdout",
     "output_type": "stream",
     "text": [
      "[2018-02-11 20:07:15,477][MainProcess][allennlp.training.trainer][INFO] Validating\n"
     ]
    },
    {
     "name": "stderr",
     "output_type": "stream",
     "text": [
      "\n",
      "token_accuracy: 0.98, accuracy: 0.90, loss: 29.63 ||: 100%|##########| 167/167 [00:05<00:00, 29.53it/s]\n"
     ]
    },
    {
     "name": "stdout",
     "output_type": "stream",
     "text": [
      "[2018-02-11 20:07:21,345][MainProcess][allennlp.training.trainer][INFO] Best validation performance so far. Copying weights to '../../experiments/subject_recognition_grid_search_1.02_11_20:05:37/best.th'.\n",
      "[2018-02-11 20:07:21,420][MainProcess][allennlp.training.trainer][INFO] Training token_accuracy : 0.954247    Validation token_accuracy : 0.980006 \n",
      "[2018-02-11 20:07:21,421][MainProcess][allennlp.training.trainer][INFO] Training accuracy : 0.802120    Validation accuracy : 0.903832 \n",
      "[2018-02-11 20:07:21,422][MainProcess][allennlp.training.trainer][INFO] Training loss : 64.827492    Validation loss : 29.631638 \n",
      "[2018-02-11 20:07:21,422][MainProcess][allennlp.training.trainer][INFO] Epoch duration: 00:01:17\n",
      "[2018-02-11 20:07:21,423][MainProcess][allennlp.training.trainer][INFO] Estimated training time remaining: 02:07:23\n",
      "[2018-02-11 20:07:21,423][MainProcess][allennlp.training.trainer][INFO] Epoch 1/99\n"
     ]
    },
    {
     "name": "stderr",
     "output_type": "stream",
     "text": [
      "\r",
      "  0%|          | 0/1165 [00:00<?, ?it/s]"
     ]
    },
    {
     "name": "stdout",
     "output_type": "stream",
     "text": [
      "[2018-02-11 20:07:21,426][MainProcess][allennlp.training.trainer][INFO] Training\n"
     ]
    },
    {
     "name": "stderr",
     "output_type": "stream",
     "text": [
      "token_accuracy: 0.98, accuracy: 0.92, loss: 25.16 ||: 100%|##########| 1165/1165 [01:09<00:00, 16.66it/s]"
     ]
    },
    {
     "name": "stdout",
     "output_type": "stream",
     "text": [
      "[2018-02-11 20:08:31,351][MainProcess][allennlp.training.trainer][INFO] Validating\n"
     ]
    },
    {
     "name": "stderr",
     "output_type": "stream",
     "text": [
      "\n",
      "token_accuracy: 0.98, accuracy: 0.93, loss: 21.40 ||: 100%|##########| 167/167 [00:05<00:00, 29.62it/s]\n"
     ]
    },
    {
     "name": "stdout",
     "output_type": "stream",
     "text": [
      "[2018-02-11 20:08:37,205][MainProcess][allennlp.training.trainer][INFO] Best validation performance so far. Copying weights to '../../experiments/subject_recognition_grid_search_1.02_11_20:05:37/best.th'.\n",
      "[2018-02-11 20:08:37,463][MainProcess][allennlp.training.trainer][INFO] Training token_accuracy : 0.982583    Validation token_accuracy : 0.984140 \n",
      "[2018-02-11 20:08:37,467][MainProcess][allennlp.training.trainer][INFO] Training accuracy : 0.918116    Validation accuracy : 0.928625 \n",
      "[2018-02-11 20:08:37,470][MainProcess][allennlp.training.trainer][INFO] Training loss : 25.159161    Validation loss : 21.401978 \n",
      "[2018-02-11 20:08:37,472][MainProcess][allennlp.training.trainer][INFO] Epoch duration: 00:01:16\n",
      "[2018-02-11 20:08:37,475][MainProcess][allennlp.training.trainer][INFO] Estimated training time remaining: 02:05:09\n",
      "[2018-02-11 20:08:37,478][MainProcess][allennlp.training.trainer][INFO] Epoch 2/99\n"
     ]
    },
    {
     "name": "stderr",
     "output_type": "stream",
     "text": [
      "\r",
      "  0%|          | 0/1165 [00:00<?, ?it/s]"
     ]
    },
    {
     "name": "stdout",
     "output_type": "stream",
     "text": [
      "[2018-02-11 20:08:37,487][MainProcess][allennlp.training.trainer][INFO] Training\n"
     ]
    },
    {
     "name": "stderr",
     "output_type": "stream",
     "text": [
      "token_accuracy: 0.99, accuracy: 0.94, loss: 17.82 ||: 100%|##########| 1165/1165 [01:09<00:00, 16.67it/s]"
     ]
    },
    {
     "name": "stdout",
     "output_type": "stream",
     "text": [
      "[2018-02-11 20:09:47,360][MainProcess][allennlp.training.trainer][INFO] Validating\n"
     ]
    },
    {
     "name": "stderr",
     "output_type": "stream",
     "text": [
      "\n",
      "token_accuracy: 0.99, accuracy: 0.93, loss: 19.47 ||: 100%|##########| 167/167 [00:05<00:00, 29.65it/s]\n"
     ]
    },
    {
     "name": "stdout",
     "output_type": "stream",
     "text": [
      "[2018-02-11 20:09:53,214][MainProcess][allennlp.training.trainer][INFO] Best validation performance so far. Copying weights to '../../experiments/subject_recognition_grid_search_1.02_11_20:05:37/best.th'.\n",
      "[2018-02-11 20:09:53,496][MainProcess][allennlp.training.trainer][INFO] Training token_accuracy : 0.986509    Validation token_accuracy : 0.985569 \n",
      "[2018-02-11 20:09:53,501][MainProcess][allennlp.training.trainer][INFO] Training accuracy : 0.938513    Validation accuracy : 0.932476 \n",
      "[2018-02-11 20:09:53,503][MainProcess][allennlp.training.trainer][INFO] Training loss : 17.822716    Validation loss : 19.470613 \n",
      "[2018-02-11 20:09:53,505][MainProcess][allennlp.training.trainer][INFO] Epoch duration: 00:01:16\n",
      "[2018-02-11 20:09:53,507][MainProcess][allennlp.training.trainer][INFO] Estimated training time remaining: 02:03:33\n",
      "[2018-02-11 20:09:53,509][MainProcess][allennlp.training.trainer][INFO] Epoch 3/99\n"
     ]
    },
    {
     "name": "stderr",
     "output_type": "stream",
     "text": [
      "\r",
      "  0%|          | 0/1165 [00:00<?, ?it/s]"
     ]
    },
    {
     "name": "stdout",
     "output_type": "stream",
     "text": [
      "[2018-02-11 20:09:53,513][MainProcess][allennlp.training.trainer][INFO] Training\n"
     ]
    },
    {
     "name": "stderr",
     "output_type": "stream",
     "text": [
      "token_accuracy: 0.99, accuracy: 0.95, loss: 13.55 ||: 100%|##########| 1165/1165 [01:10<00:00, 16.57it/s]"
     ]
    },
    {
     "name": "stdout",
     "output_type": "stream",
     "text": [
      "[2018-02-11 20:11:03,840][MainProcess][allennlp.training.trainer][INFO] Validating\n"
     ]
    },
    {
     "name": "stderr",
     "output_type": "stream",
     "text": [
      "\n",
      "token_accuracy: 0.99, accuracy: 0.94, loss: 17.08 ||: 100%|##########| 167/167 [00:05<00:00, 29.62it/s]\n"
     ]
    },
    {
     "name": "stdout",
     "output_type": "stream",
     "text": [
      "[2018-02-11 20:11:09,693][MainProcess][allennlp.training.trainer][INFO] Best validation performance so far. Copying weights to '../../experiments/subject_recognition_grid_search_1.02_11_20:05:37/best.th'.\n",
      "[2018-02-11 20:11:09,900][MainProcess][allennlp.training.trainer][INFO] Training token_accuracy : 0.988326    Validation token_accuracy : 0.985396 \n",
      "[2018-02-11 20:11:09,905][MainProcess][allennlp.training.trainer][INFO] Training accuracy : 0.951959    Validation accuracy : 0.943557 \n",
      "[2018-02-11 20:11:09,908][MainProcess][allennlp.training.trainer][INFO] Training loss : 13.546611    Validation loss : 17.080341 \n",
      "[2018-02-11 20:11:09,910][MainProcess][allennlp.training.trainer][INFO] Epoch duration: 00:01:16\n",
      "[2018-02-11 20:11:09,913][MainProcess][allennlp.training.trainer][INFO] Estimated training time remaining: 02:02:16\n",
      "[2018-02-11 20:11:09,914][MainProcess][allennlp.training.trainer][INFO] Epoch 4/99\n"
     ]
    },
    {
     "name": "stderr",
     "output_type": "stream",
     "text": [
      "\r",
      "  0%|          | 0/1165 [00:00<?, ?it/s]"
     ]
    },
    {
     "name": "stdout",
     "output_type": "stream",
     "text": [
      "[2018-02-11 20:11:09,918][MainProcess][allennlp.training.trainer][INFO] Training\n"
     ]
    },
    {
     "name": "stderr",
     "output_type": "stream",
     "text": [
      "token_accuracy: 0.99, accuracy: 0.96, loss: 10.47 ||: 100%|##########| 1165/1165 [01:09<00:00, 16.77it/s]"
     ]
    },
    {
     "name": "stdout",
     "output_type": "stream",
     "text": [
      "[2018-02-11 20:12:19,388][MainProcess][allennlp.training.trainer][INFO] Validating\n"
     ]
    },
    {
     "name": "stderr",
     "output_type": "stream",
     "text": [
      "\n",
      "token_accuracy: 0.98, accuracy: 0.94, loss: 17.55 ||: 100%|##########| 167/167 [00:05<00:00, 30.35it/s]\n"
     ]
    },
    {
     "name": "stdout",
     "output_type": "stream",
     "text": [
      "[2018-02-11 20:12:25,101][MainProcess][allennlp.training.trainer][INFO] Training token_accuracy : 0.989568    Validation token_accuracy : 0.983092 \n",
      "[2018-02-11 20:12:25,102][MainProcess][allennlp.training.trainer][INFO] Training accuracy : 0.960319    Validation accuracy : 0.943276 \n",
      "[2018-02-11 20:12:25,103][MainProcess][allennlp.training.trainer][INFO] Training loss : 10.473481    Validation loss : 17.552313 \n",
      "[2018-02-11 20:12:25,103][MainProcess][allennlp.training.trainer][INFO] Epoch duration: 00:01:15\n",
      "[2018-02-11 20:12:25,104][MainProcess][allennlp.training.trainer][INFO] Estimated training time remaining: 02:00:36\n",
      "[2018-02-11 20:12:25,104][MainProcess][allennlp.training.trainer][INFO] Epoch 5/99\n"
     ]
    },
    {
     "name": "stderr",
     "output_type": "stream",
     "text": [
      "\r",
      "  0%|          | 0/1165 [00:00<?, ?it/s]"
     ]
    },
    {
     "name": "stdout",
     "output_type": "stream",
     "text": [
      "[2018-02-11 20:12:25,108][MainProcess][allennlp.training.trainer][INFO] Training\n"
     ]
    },
    {
     "name": "stderr",
     "output_type": "stream",
     "text": [
      "token_accuracy: 0.99, accuracy: 0.97, loss: 8.27 ||: 100%|##########| 1165/1165 [01:09<00:00, 16.82it/s]"
     ]
    },
    {
     "name": "stdout",
     "output_type": "stream",
     "text": [
      "[2018-02-11 20:13:34,376][MainProcess][allennlp.training.trainer][INFO] Validating\n"
     ]
    },
    {
     "name": "stderr",
     "output_type": "stream",
     "text": [
      "\n",
      "token_accuracy: 0.99, accuracy: 0.95, loss: 17.20 ||: 100%|##########| 167/167 [00:05<00:00, 30.36it/s]\n"
     ]
    },
    {
     "name": "stdout",
     "output_type": "stream",
     "text": [
      "[2018-02-11 20:13:40,098][MainProcess][allennlp.training.trainer][INFO] Best validation performance so far. Copying weights to '../../experiments/subject_recognition_grid_search_1.02_11_20:05:37/best.th'.\n",
      "[2018-02-11 20:13:40,337][MainProcess][allennlp.training.trainer][INFO] Training token_accuracy : 0.990520    Validation token_accuracy : 0.985949 \n",
      "[2018-02-11 20:13:40,342][MainProcess][allennlp.training.trainer][INFO] Training accuracy : 0.967848    Validation accuracy : 0.945530 \n",
      "[2018-02-11 20:13:40,344][MainProcess][allennlp.training.trainer][INFO] Training loss : 8.268951    Validation loss : 17.197765 \n",
      "[2018-02-11 20:13:40,346][MainProcess][allennlp.training.trainer][INFO] Epoch duration: 00:01:15\n",
      "[2018-02-11 20:13:40,348][MainProcess][allennlp.training.trainer][INFO] Estimated training time remaining: 01:59:06\n",
      "[2018-02-11 20:13:40,351][MainProcess][allennlp.training.trainer][INFO] Epoch 6/99\n"
     ]
    },
    {
     "name": "stderr",
     "output_type": "stream",
     "text": [
      "\r",
      "  0%|          | 0/1165 [00:00<?, ?it/s]"
     ]
    },
    {
     "name": "stdout",
     "output_type": "stream",
     "text": [
      "[2018-02-11 20:13:40,356][MainProcess][allennlp.training.trainer][INFO] Training\n"
     ]
    },
    {
     "name": "stderr",
     "output_type": "stream",
     "text": [
      "token_accuracy: 0.99, accuracy: 0.97, loss: 6.57 ||: 100%|##########| 1165/1165 [01:08<00:00, 16.94it/s]"
     ]
    },
    {
     "name": "stdout",
     "output_type": "stream",
     "text": [
      "[2018-02-11 20:14:49,110][MainProcess][allennlp.training.trainer][INFO] Validating\n"
     ]
    },
    {
     "name": "stderr",
     "output_type": "stream",
     "text": [
      "\n",
      "token_accuracy: 0.99, accuracy: 0.95, loss: 16.68 ||: 100%|##########| 167/167 [00:05<00:00, 30.30it/s]\n"
     ]
    },
    {
     "name": "stdout",
     "output_type": "stream",
     "text": [
      "[2018-02-11 20:14:54,836][MainProcess][allennlp.training.trainer][INFO] Best validation performance so far. Copying weights to '../../experiments/subject_recognition_grid_search_1.02_11_20:05:37/best.th'.\n",
      "[2018-02-11 20:14:55,060][MainProcess][allennlp.training.trainer][INFO] Training token_accuracy : 0.991322    Validation token_accuracy : 0.985246 \n",
      "[2018-02-11 20:14:55,064][MainProcess][allennlp.training.trainer][INFO] Training accuracy : 0.973859    Validation accuracy : 0.948817 \n",
      "[2018-02-11 20:14:55,067][MainProcess][allennlp.training.trainer][INFO] Training loss : 6.574027    Validation loss : 16.684671 \n",
      "[2018-02-11 20:14:55,069][MainProcess][allennlp.training.trainer][INFO] Epoch duration: 00:01:14\n",
      "[2018-02-11 20:14:55,071][MainProcess][allennlp.training.trainer][INFO] Estimated training time remaining: 01:57:32\n",
      "[2018-02-11 20:14:55,074][MainProcess][allennlp.training.trainer][INFO] Epoch 7/99\n"
     ]
    },
    {
     "name": "stderr",
     "output_type": "stream",
     "text": [
      "\r",
      "  0%|          | 0/1165 [00:00<?, ?it/s]"
     ]
    },
    {
     "name": "stdout",
     "output_type": "stream",
     "text": [
      "[2018-02-11 20:14:55,079][MainProcess][allennlp.training.trainer][INFO] Training\n"
     ]
    },
    {
     "name": "stderr",
     "output_type": "stream",
     "text": [
      "token_accuracy: 0.99, accuracy: 0.98, loss: 5.18 ||: 100%|##########| 1165/1165 [01:08<00:00, 16.91it/s]"
     ]
    },
    {
     "name": "stdout",
     "output_type": "stream",
     "text": [
      "[2018-02-11 20:16:03,992][MainProcess][allennlp.training.trainer][INFO] Validating\n"
     ]
    },
    {
     "name": "stderr",
     "output_type": "stream",
     "text": [
      "\n",
      "token_accuracy: 0.98, accuracy: 0.95, loss: 16.93 ||: 100%|##########| 167/167 [00:05<00:00, 30.33it/s]\n"
     ]
    },
    {
     "name": "stdout",
     "output_type": "stream",
     "text": [
      "[2018-02-11 20:16:09,712][MainProcess][allennlp.training.trainer][INFO] Best validation performance so far. Copying weights to '../../experiments/subject_recognition_grid_search_1.02_11_20:05:37/best.th'.\n",
      "[2018-02-11 20:16:09,894][MainProcess][allennlp.training.trainer][INFO] Training token_accuracy : 0.992502    Validation token_accuracy : 0.984279 \n",
      "[2018-02-11 20:16:09,898][MainProcess][allennlp.training.trainer][INFO] Training accuracy : 0.979173    Validation accuracy : 0.949756 \n",
      "[2018-02-11 20:16:09,901][MainProcess][allennlp.training.trainer][INFO] Training loss : 5.179773    Validation loss : 16.927109 \n",
      "[2018-02-11 20:16:09,903][MainProcess][allennlp.training.trainer][INFO] Epoch duration: 00:01:14\n",
      "[2018-02-11 20:16:09,906][MainProcess][allennlp.training.trainer][INFO] Estimated training time remaining: 01:56:05\n",
      "[2018-02-11 20:16:09,908][MainProcess][allennlp.training.trainer][INFO] Epoch 8/99\n"
     ]
    },
    {
     "name": "stderr",
     "output_type": "stream",
     "text": [
      "\r",
      "  0%|          | 0/1165 [00:00<?, ?it/s]"
     ]
    },
    {
     "name": "stdout",
     "output_type": "stream",
     "text": [
      "[2018-02-11 20:16:09,924][MainProcess][allennlp.training.trainer][INFO] Training\n"
     ]
    },
    {
     "name": "stderr",
     "output_type": "stream",
     "text": [
      "token_accuracy: 0.99, accuracy: 0.98, loss: 4.12 ||: 100%|##########| 1165/1165 [01:09<00:00, 16.80it/s]"
     ]
    },
    {
     "name": "stdout",
     "output_type": "stream",
     "text": [
      "[2018-02-11 20:17:19,263][MainProcess][allennlp.training.trainer][INFO] Validating\n"
     ]
    },
    {
     "name": "stderr",
     "output_type": "stream",
     "text": [
      "\n",
      "token_accuracy: 0.99, accuracy: 0.95, loss: 18.90 ||: 100%|##########| 167/167 [00:05<00:00, 29.35it/s]\n"
     ]
    },
    {
     "name": "stdout",
     "output_type": "stream",
     "text": [
      "[2018-02-11 20:17:25,174][MainProcess][allennlp.training.trainer][INFO] Best validation performance so far. Copying weights to '../../experiments/subject_recognition_grid_search_1.02_11_20:05:37/best.th'.\n",
      "[2018-02-11 20:17:25,371][MainProcess][allennlp.training.trainer][INFO] Training token_accuracy : 0.993501    Validation token_accuracy : 0.985430 \n",
      "[2018-02-11 20:17:25,376][MainProcess][allennlp.training.trainer][INFO] Training accuracy : 0.983213    Validation accuracy : 0.951258 \n",
      "[2018-02-11 20:17:25,378][MainProcess][allennlp.training.trainer][INFO] Training loss : 4.119500    Validation loss : 18.901075 \n",
      "[2018-02-11 20:17:25,380][MainProcess][allennlp.training.trainer][INFO] Epoch duration: 00:01:15\n",
      "[2018-02-11 20:17:25,381][MainProcess][allennlp.training.trainer][INFO] Estimated training time remaining: 01:54:47\n",
      "[2018-02-11 20:17:25,382][MainProcess][allennlp.training.trainer][INFO] Epoch 9/99\n"
     ]
    },
    {
     "name": "stderr",
     "output_type": "stream",
     "text": [
      "\r",
      "  0%|          | 0/1165 [00:00<?, ?it/s]"
     ]
    },
    {
     "name": "stdout",
     "output_type": "stream",
     "text": [
      "[2018-02-11 20:17:25,389][MainProcess][allennlp.training.trainer][INFO] Training\n"
     ]
    },
    {
     "name": "stderr",
     "output_type": "stream",
     "text": [
      "token_accuracy: 0.99, accuracy: 0.98, loss: 3.59 ||: 100%|##########| 1165/1165 [01:10<00:00, 16.53it/s]"
     ]
    },
    {
     "name": "stdout",
     "output_type": "stream",
     "text": [
      "[2018-02-11 20:18:35,847][MainProcess][allennlp.training.trainer][INFO] Validating\n"
     ]
    },
    {
     "name": "stderr",
     "output_type": "stream",
     "text": [
      "\n",
      "token_accuracy: 0.98, accuracy: 0.95, loss: 20.23 ||: 100%|##########| 167/167 [00:05<00:00, 30.02it/s]\n"
     ]
    },
    {
     "name": "stdout",
     "output_type": "stream",
     "text": [
      "[2018-02-11 20:18:41,633][MainProcess][allennlp.training.trainer][INFO] Training token_accuracy : 0.993594    Validation token_accuracy : 0.984728 \n",
      "[2018-02-11 20:18:41,634][MainProcess][allennlp.training.trainer][INFO] Training accuracy : 0.984407    Validation accuracy : 0.946469 \n",
      "[2018-02-11 20:18:41,634][MainProcess][allennlp.training.trainer][INFO] Training loss : 3.593660    Validation loss : 20.232275 \n",
      "[2018-02-11 20:18:41,635][MainProcess][allennlp.training.trainer][INFO] Epoch duration: 00:01:16\n",
      "[2018-02-11 20:18:41,635][MainProcess][allennlp.training.trainer][INFO] Estimated training time remaining: 01:53:36\n",
      "[2018-02-11 20:18:41,636][MainProcess][allennlp.training.trainer][INFO] Epoch 10/99\n"
     ]
    },
    {
     "name": "stderr",
     "output_type": "stream",
     "text": [
      "\r",
      "  0%|          | 0/1165 [00:00<?, ?it/s]"
     ]
    },
    {
     "name": "stdout",
     "output_type": "stream",
     "text": [
      "[2018-02-11 20:18:41,640][MainProcess][allennlp.training.trainer][INFO] Training\n"
     ]
    },
    {
     "name": "stderr",
     "output_type": "stream",
     "text": [
      "token_accuracy: 0.99, accuracy: 0.99, loss: 2.83 ||: 100%|##########| 1165/1165 [01:09<00:00, 16.67it/s]"
     ]
    },
    {
     "name": "stdout",
     "output_type": "stream",
     "text": [
      "[2018-02-11 20:19:51,513][MainProcess][allennlp.training.trainer][INFO] Validating\n"
     ]
    },
    {
     "name": "stderr",
     "output_type": "stream",
     "text": [
      "\n",
      "token_accuracy: 0.99, accuracy: 0.95, loss: 23.04 ||: 100%|##########| 167/167 [00:06<00:00, 27.31it/s]\n"
     ]
    },
    {
     "name": "stdout",
     "output_type": "stream",
     "text": [
      "[2018-02-11 20:19:57,841][MainProcess][allennlp.training.trainer][INFO] Training token_accuracy : 0.994597    Validation token_accuracy : 0.986340 \n",
      "[2018-02-11 20:19:57,842][MainProcess][allennlp.training.trainer][INFO] Training accuracy : 0.987856    Validation accuracy : 0.948253 \n",
      "[2018-02-11 20:19:57,843][MainProcess][allennlp.training.trainer][INFO] Training loss : 2.827111    Validation loss : 23.040001 \n",
      "[2018-02-11 20:19:57,843][MainProcess][allennlp.training.trainer][INFO] Epoch duration: 00:01:16\n",
      "[2018-02-11 20:19:57,844][MainProcess][allennlp.training.trainer][INFO] Estimated training time remaining: 01:52:24\n",
      "[2018-02-11 20:19:57,844][MainProcess][allennlp.training.trainer][INFO] Epoch 11/99\n"
     ]
    },
    {
     "name": "stderr",
     "output_type": "stream",
     "text": [
      "\r",
      "  0%|          | 0/1165 [00:00<?, ?it/s]"
     ]
    },
    {
     "name": "stdout",
     "output_type": "stream",
     "text": [
      "[2018-02-11 20:19:57,848][MainProcess][allennlp.training.trainer][INFO] Training\n"
     ]
    },
    {
     "name": "stderr",
     "output_type": "stream",
     "text": [
      "token_accuracy: 1.00, accuracy: 0.99, loss: 2.44 ||: 100%|##########| 1165/1165 [01:10<00:00, 16.49it/s]"
     ]
    },
    {
     "name": "stdout",
     "output_type": "stream",
     "text": [
      "[2018-02-11 20:21:08,495][MainProcess][allennlp.training.trainer][INFO] Validating\n"
     ]
    },
    {
     "name": "stderr",
     "output_type": "stream",
     "text": [
      "\n",
      "token_accuracy: 0.99, accuracy: 0.95, loss: 23.64 ||: 100%|##########| 167/167 [00:05<00:00, 29.54it/s]\n"
     ]
    },
    {
     "name": "stdout",
     "output_type": "stream",
     "text": [
      "[2018-02-11 20:21:14,360][MainProcess][allennlp.training.trainer][INFO] Training token_accuracy : 0.995399    Validation token_accuracy : 0.986294 \n",
      "[2018-02-11 20:21:14,361][MainProcess][allennlp.training.trainer][INFO] Training accuracy : 0.989600    Validation accuracy : 0.951165 \n",
      "[2018-02-11 20:21:14,361][MainProcess][allennlp.training.trainer][INFO] Training loss : 2.438469    Validation loss : 23.640600 \n",
      "[2018-02-11 20:21:14,362][MainProcess][allennlp.training.trainer][INFO] Epoch duration: 00:01:16\n",
      "[2018-02-11 20:21:14,363][MainProcess][allennlp.training.trainer][INFO] Estimated training time remaining: 01:51:14\n",
      "[2018-02-11 20:21:14,363][MainProcess][allennlp.training.trainer][INFO] Epoch 12/99\n"
     ]
    },
    {
     "name": "stderr",
     "output_type": "stream",
     "text": [
      "\r",
      "  0%|          | 0/1165 [00:00<?, ?it/s]"
     ]
    },
    {
     "name": "stdout",
     "output_type": "stream",
     "text": [
      "[2018-02-11 20:21:14,364][MainProcess][allennlp.training.trainer][INFO] Training\n"
     ]
    },
    {
     "name": "stderr",
     "output_type": "stream",
     "text": [
      "token_accuracy: 1.00, accuracy: 1.00, loss: 1.20 ||: 100%|##########| 1165/1165 [01:09<00:00, 16.69it/s]"
     ]
    },
    {
     "name": "stdout",
     "output_type": "stream",
     "text": [
      "[2018-02-11 20:22:24,166][MainProcess][allennlp.training.trainer][INFO] Validating\n"
     ]
    },
    {
     "name": "stderr",
     "output_type": "stream",
     "text": [
      "\n",
      "token_accuracy: 0.99, accuracy: 0.95, loss: 26.17 ||: 100%|##########| 167/167 [00:05<00:00, 29.53it/s]\n"
     ]
    },
    {
     "name": "stdout",
     "output_type": "stream",
     "text": [
      "[2018-02-11 20:22:30,040][MainProcess][allennlp.training.trainer][INFO] Training token_accuracy : 0.997531    Validation token_accuracy : 0.987584 \n",
      "[2018-02-11 20:22:30,041][MainProcess][allennlp.training.trainer][INFO] Training accuracy : 0.995411    Validation accuracy : 0.950225 \n",
      "[2018-02-11 20:22:30,041][MainProcess][allennlp.training.trainer][INFO] Training loss : 1.195488    Validation loss : 26.167246 \n",
      "[2018-02-11 20:22:30,042][MainProcess][allennlp.training.trainer][INFO] Epoch duration: 00:01:15\n",
      "[2018-02-11 20:22:30,042][MainProcess][allennlp.training.trainer][INFO] Estimated training time remaining: 01:49:57\n",
      "[2018-02-11 20:22:30,043][MainProcess][allennlp.training.trainer][INFO] Epoch 13/99\n"
     ]
    },
    {
     "name": "stderr",
     "output_type": "stream",
     "text": [
      "\r",
      "  0%|          | 0/1165 [00:00<?, ?it/s]"
     ]
    },
    {
     "name": "stdout",
     "output_type": "stream",
     "text": [
      "[2018-02-11 20:22:30,044][MainProcess][allennlp.training.trainer][INFO] Training\n"
     ]
    },
    {
     "name": "stderr",
     "output_type": "stream",
     "text": [
      "token_accuracy: 1.00, accuracy: 1.00, loss: 0.85 ||: 100%|##########| 1165/1165 [01:10<00:00, 16.59it/s]"
     ]
    },
    {
     "name": "stdout",
     "output_type": "stream",
     "text": [
      "[2018-02-11 20:23:40,260][MainProcess][allennlp.training.trainer][INFO] Validating\n"
     ]
    },
    {
     "name": "stderr",
     "output_type": "stream",
     "text": [
      "\n",
      "token_accuracy: 0.99, accuracy: 0.95, loss: 26.19 ||: 100%|##########| 167/167 [00:05<00:00, 29.70it/s]\n"
     ]
    },
    {
     "name": "stdout",
     "output_type": "stream",
     "text": [
      "[2018-02-11 20:23:46,109][MainProcess][allennlp.training.trainer][INFO] Best validation performance so far. Copying weights to '../../experiments/subject_recognition_grid_search_1.02_11_20:05:37/best.th'.\n",
      "[2018-02-11 20:23:46,317][MainProcess][allennlp.training.trainer][INFO] Training token_accuracy : 0.998558    Validation token_accuracy : 0.988218 \n",
      "[2018-02-11 20:23:46,322][MainProcess][allennlp.training.trainer][INFO] Training accuracy : 0.996820    Validation accuracy : 0.953794 \n",
      "[2018-02-11 20:23:46,324][MainProcess][allennlp.training.trainer][INFO] Training loss : 0.846924    Validation loss : 26.190424 \n",
      "[2018-02-11 20:23:46,326][MainProcess][allennlp.training.trainer][INFO] Epoch duration: 00:01:16\n",
      "[2018-02-11 20:23:46,328][MainProcess][allennlp.training.trainer][INFO] Estimated training time remaining: 01:48:44\n",
      "[2018-02-11 20:23:46,330][MainProcess][allennlp.training.trainer][INFO] Epoch 14/99\n"
     ]
    },
    {
     "name": "stderr",
     "output_type": "stream",
     "text": [
      "\r",
      "  0%|          | 0/1165 [00:00<?, ?it/s]"
     ]
    },
    {
     "name": "stdout",
     "output_type": "stream",
     "text": [
      "[2018-02-11 20:23:46,334][MainProcess][allennlp.training.trainer][INFO] Training\n"
     ]
    },
    {
     "name": "stderr",
     "output_type": "stream",
     "text": [
      "token_accuracy: 1.00, accuracy: 1.00, loss: 0.85 ||: 100%|##########| 1165/1165 [01:09<00:00, 16.68it/s]"
     ]
    },
    {
     "name": "stdout",
     "output_type": "stream",
     "text": [
      "[2018-02-11 20:24:56,189][MainProcess][allennlp.training.trainer][INFO] Validating\n"
     ]
    },
    {
     "name": "stderr",
     "output_type": "stream",
     "text": [
      "\n",
      "token_accuracy: 0.99, accuracy: 0.95, loss: 27.94 ||: 100%|##########| 167/167 [00:05<00:00, 29.58it/s]\n"
     ]
    },
    {
     "name": "stdout",
     "output_type": "stream",
     "text": [
      "[2018-02-11 20:25:02,055][MainProcess][allennlp.training.trainer][INFO] Training token_accuracy : 0.998490    Validation token_accuracy : 0.987308 \n",
      "[2018-02-11 20:25:02,056][MainProcess][allennlp.training.trainer][INFO] Training accuracy : 0.996914    Validation accuracy : 0.950319 \n",
      "[2018-02-11 20:25:02,057][MainProcess][allennlp.training.trainer][INFO] Training loss : 0.848451    Validation loss : 27.941854 \n",
      "[2018-02-11 20:25:02,057][MainProcess][allennlp.training.trainer][INFO] Epoch duration: 00:01:15\n",
      "[2018-02-11 20:25:02,058][MainProcess][allennlp.training.trainer][INFO] Estimated training time remaining: 01:47:27\n",
      "[2018-02-11 20:25:02,059][MainProcess][allennlp.training.trainer][INFO] Epoch 15/99\n"
     ]
    },
    {
     "name": "stderr",
     "output_type": "stream",
     "text": [
      "\r",
      "  0%|          | 0/1165 [00:00<?, ?it/s]"
     ]
    },
    {
     "name": "stdout",
     "output_type": "stream",
     "text": [
      "[2018-02-11 20:25:02,064][MainProcess][allennlp.training.trainer][INFO] Training\n"
     ]
    },
    {
     "name": "stderr",
     "output_type": "stream",
     "text": [
      "token_accuracy: 1.00, accuracy: 1.00, loss: 0.68 ||: 100%|##########| 1165/1165 [01:09<00:00, 16.72it/s]"
     ]
    },
    {
     "name": "stdout",
     "output_type": "stream",
     "text": [
      "[2018-02-11 20:26:11,731][MainProcess][allennlp.training.trainer][INFO] Validating\n"
     ]
    },
    {
     "name": "stderr",
     "output_type": "stream",
     "text": [
      "\n",
      "token_accuracy: 0.99, accuracy: 0.95, loss: 30.45 ||: 100%|##########| 167/167 [00:05<00:00, 30.19it/s]\n"
     ]
    },
    {
     "name": "stdout",
     "output_type": "stream",
     "text": [
      "[2018-02-11 20:26:17,476][MainProcess][allennlp.training.trainer][INFO] Training token_accuracy : 0.998860    Validation token_accuracy : 0.987930 \n",
      "[2018-02-11 20:26:17,478][MainProcess][allennlp.training.trainer][INFO] Training accuracy : 0.997611    Validation accuracy : 0.952761 \n",
      "[2018-02-11 20:26:17,478][MainProcess][allennlp.training.trainer][INFO] Training loss : 0.684621    Validation loss : 30.454870 \n",
      "[2018-02-11 20:26:17,479][MainProcess][allennlp.training.trainer][INFO] Epoch duration: 00:01:15\n",
      "[2018-02-11 20:26:17,479][MainProcess][allennlp.training.trainer][INFO] Estimated training time remaining: 01:46:09\n",
      "[2018-02-11 20:26:17,480][MainProcess][allennlp.training.trainer][INFO] Epoch 16/99\n"
     ]
    },
    {
     "name": "stderr",
     "output_type": "stream",
     "text": [
      "\r",
      "  0%|          | 0/1165 [00:00<?, ?it/s]"
     ]
    },
    {
     "name": "stdout",
     "output_type": "stream",
     "text": [
      "[2018-02-11 20:26:17,481][MainProcess][allennlp.training.trainer][INFO] Training\n"
     ]
    },
    {
     "name": "stderr",
     "output_type": "stream",
     "text": [
      "token_accuracy: 1.00, accuracy: 1.00, loss: 0.60 ||: 100%|##########| 1165/1165 [01:09<00:00, 16.81it/s]"
     ]
    },
    {
     "name": "stdout",
     "output_type": "stream",
     "text": [
      "[2018-02-11 20:27:26,783][MainProcess][allennlp.training.trainer][INFO] Validating\n"
     ]
    },
    {
     "name": "stderr",
     "output_type": "stream",
     "text": [
      "\n",
      "token_accuracy: 0.99, accuracy: 0.95, loss: 29.47 ||: 100%|##########| 167/167 [00:05<00:00, 30.25it/s]\n"
     ]
    },
    {
     "name": "stdout",
     "output_type": "stream",
     "text": [
      "[2018-02-11 20:27:32,519][MainProcess][allennlp.training.trainer][INFO] Training token_accuracy : 0.999153    Validation token_accuracy : 0.987780 \n",
      "[2018-02-11 20:27:32,520][MainProcess][allennlp.training.trainer][INFO] Training accuracy : 0.997853    Validation accuracy : 0.953231 \n",
      "[2018-02-11 20:27:32,522][MainProcess][allennlp.training.trainer][INFO] Training loss : 0.600556    Validation loss : 29.466341 \n",
      "[2018-02-11 20:27:32,522][MainProcess][allennlp.training.trainer][INFO] Epoch duration: 00:01:15\n",
      "[2018-02-11 20:27:32,523][MainProcess][allennlp.training.trainer][INFO] Estimated training time remaining: 01:44:49\n",
      "[2018-02-11 20:27:32,524][MainProcess][allennlp.training.trainer][INFO] Epoch 17/99\n"
     ]
    },
    {
     "name": "stderr",
     "output_type": "stream",
     "text": [
      "\r",
      "  0%|          | 0/1165 [00:00<?, ?it/s]"
     ]
    },
    {
     "name": "stdout",
     "output_type": "stream",
     "text": [
      "[2018-02-11 20:27:32,525][MainProcess][allennlp.training.trainer][INFO] Training\n"
     ]
    },
    {
     "name": "stderr",
     "output_type": "stream",
     "text": [
      "token_accuracy: 1.00, accuracy: 1.00, loss: 0.48 ||: 100%|##########| 1165/1165 [01:08<00:00, 16.91it/s]"
     ]
    },
    {
     "name": "stdout",
     "output_type": "stream",
     "text": [
      "[2018-02-11 20:28:41,422][MainProcess][allennlp.training.trainer][INFO] Validating\n"
     ]
    },
    {
     "name": "stderr",
     "output_type": "stream",
     "text": [
      "\n",
      "token_accuracy: 0.99, accuracy: 0.95, loss: 30.26 ||: 100%|##########| 167/167 [00:05<00:00, 30.19it/s]\n"
     ]
    },
    {
     "name": "stdout",
     "output_type": "stream",
     "text": [
      "[2018-02-11 20:28:47,169][MainProcess][allennlp.training.trainer][INFO] Best validation performance so far. Copying weights to '../../experiments/subject_recognition_grid_search_1.02_11_20:05:37/best.th'.\n",
      "[2018-02-11 20:28:47,362][MainProcess][allennlp.training.trainer][INFO] Training token_accuracy : 0.999245    Validation token_accuracy : 0.988218 \n",
      "[2018-02-11 20:28:47,366][MainProcess][allennlp.training.trainer][INFO] Training accuracy : 0.998524    Validation accuracy : 0.954170 \n",
      "[2018-02-11 20:28:47,369][MainProcess][allennlp.training.trainer][INFO] Training loss : 0.477823    Validation loss : 30.261143 \n",
      "[2018-02-11 20:28:47,371][MainProcess][allennlp.training.trainer][INFO] Epoch duration: 00:01:14\n",
      "[2018-02-11 20:28:47,374][MainProcess][allennlp.training.trainer][INFO] Estimated training time remaining: 01:43:29\n",
      "[2018-02-11 20:28:47,376][MainProcess][allennlp.training.trainer][INFO] Epoch 18/99\n"
     ]
    },
    {
     "name": "stderr",
     "output_type": "stream",
     "text": [
      "\r",
      "  0%|          | 0/1165 [00:00<?, ?it/s]"
     ]
    },
    {
     "name": "stdout",
     "output_type": "stream",
     "text": [
      "[2018-02-11 20:28:47,384][MainProcess][allennlp.training.trainer][INFO] Training\n"
     ]
    },
    {
     "name": "stderr",
     "output_type": "stream",
     "text": [
      "token_accuracy: 1.00, accuracy: 1.00, loss: 0.24 ||: 100%|##########| 1165/1165 [01:09<00:00, 16.80it/s]"
     ]
    },
    {
     "name": "stdout",
     "output_type": "stream",
     "text": [
      "[2018-02-11 20:29:56,728][MainProcess][allennlp.training.trainer][INFO] Validating\n"
     ]
    },
    {
     "name": "stderr",
     "output_type": "stream",
     "text": [
      "\n",
      "token_accuracy: 0.99, accuracy: 0.95, loss: 35.73 ||: 100%|##########| 167/167 [00:05<00:00, 30.13it/s]\n"
     ]
    },
    {
     "name": "stdout",
     "output_type": "stream",
     "text": [
      "[2018-02-11 20:30:02,483][MainProcess][allennlp.training.trainer][INFO] Training token_accuracy : 0.999634    Validation token_accuracy : 0.988310 \n",
      "[2018-02-11 20:30:02,484][MainProcess][allennlp.training.trainer][INFO] Training accuracy : 0.999168    Validation accuracy : 0.952949 \n",
      "[2018-02-11 20:30:02,485][MainProcess][allennlp.training.trainer][INFO] Training loss : 0.238198    Validation loss : 35.727577 \n",
      "[2018-02-11 20:30:02,485][MainProcess][allennlp.training.trainer][INFO] Epoch duration: 00:01:15\n",
      "[2018-02-11 20:30:02,486][MainProcess][allennlp.training.trainer][INFO] Estimated training time remaining: 01:42:11\n",
      "[2018-02-11 20:30:02,487][MainProcess][allennlp.training.trainer][INFO] Epoch 19/99\n"
     ]
    },
    {
     "name": "stderr",
     "output_type": "stream",
     "text": [
      "\r",
      "  0%|          | 0/1165 [00:00<?, ?it/s]"
     ]
    },
    {
     "name": "stdout",
     "output_type": "stream",
     "text": [
      "[2018-02-11 20:30:02,488][MainProcess][allennlp.training.trainer][INFO] Training\n"
     ]
    },
    {
     "name": "stderr",
     "output_type": "stream",
     "text": [
      "token_accuracy: 1.00, accuracy: 1.00, loss: 0.23 ||: 100%|##########| 1165/1165 [01:08<00:00, 16.91it/s]"
     ]
    },
    {
     "name": "stdout",
     "output_type": "stream",
     "text": [
      "[2018-02-11 20:31:11,397][MainProcess][allennlp.training.trainer][INFO] Validating\n"
     ]
    },
    {
     "name": "stderr",
     "output_type": "stream",
     "text": [
      "\n",
      "token_accuracy: 0.99, accuracy: 0.95, loss: 38.79 ||: 100%|##########| 167/167 [00:05<00:00, 30.35it/s]\n"
     ]
    },
    {
     "name": "stdout",
     "output_type": "stream",
     "text": [
      "[2018-02-11 20:31:17,117][MainProcess][allennlp.training.trainer][INFO] Training token_accuracy : 0.999728    Validation token_accuracy : 0.988241 \n",
      "[2018-02-11 20:31:17,118][MainProcess][allennlp.training.trainer][INFO] Training accuracy : 0.999275    Validation accuracy : 0.953888 \n",
      "[2018-02-11 20:31:17,119][MainProcess][allennlp.training.trainer][INFO] Training loss : 0.227060    Validation loss : 38.793816 \n",
      "[2018-02-11 20:31:17,119][MainProcess][allennlp.training.trainer][INFO] Epoch duration: 00:01:14\n",
      "[2018-02-11 20:31:17,120][MainProcess][allennlp.training.trainer][INFO] Estimated training time remaining: 01:40:51\n",
      "[2018-02-11 20:31:17,121][MainProcess][allennlp.training.trainer][INFO] Epoch 20/99\n"
     ]
    },
    {
     "name": "stderr",
     "output_type": "stream",
     "text": [
      "\r",
      "  0%|          | 0/1165 [00:00<?, ?it/s]"
     ]
    },
    {
     "name": "stdout",
     "output_type": "stream",
     "text": [
      "[2018-02-11 20:31:17,125][MainProcess][allennlp.training.trainer][INFO] Training\n"
     ]
    },
    {
     "name": "stderr",
     "output_type": "stream",
     "text": [
      "token_accuracy: 1.00, accuracy: 1.00, loss: 0.19 ||: 100%|##########| 1165/1165 [01:08<00:00, 16.92it/s]"
     ]
    },
    {
     "name": "stdout",
     "output_type": "stream",
     "text": [
      "[2018-02-11 20:32:25,976][MainProcess][allennlp.training.trainer][INFO] Validating\n"
     ]
    },
    {
     "name": "stderr",
     "output_type": "stream",
     "text": [
      "\n",
      "token_accuracy: 0.99, accuracy: 0.95, loss: 39.54 ||: 100%|##########| 167/167 [00:05<00:00, 30.19it/s]\n"
     ]
    },
    {
     "name": "stdout",
     "output_type": "stream",
     "text": [
      "[2018-02-11 20:32:31,723][MainProcess][allennlp.training.trainer][INFO] Training token_accuracy : 0.999801    Validation token_accuracy : 0.988195 \n",
      "[2018-02-11 20:32:31,725][MainProcess][allennlp.training.trainer][INFO] Training accuracy : 0.999329    Validation accuracy : 0.951822 \n",
      "[2018-02-11 20:32:31,725][MainProcess][allennlp.training.trainer][INFO] Training loss : 0.193334    Validation loss : 39.543079 \n",
      "[2018-02-11 20:32:31,726][MainProcess][allennlp.training.trainer][INFO] Epoch duration: 00:01:14\n",
      "[2018-02-11 20:32:31,727][MainProcess][allennlp.training.trainer][INFO] Estimated training time remaining: 01:39:32\n",
      "[2018-02-11 20:32:31,727][MainProcess][allennlp.training.trainer][INFO] Epoch 21/99\n"
     ]
    },
    {
     "name": "stderr",
     "output_type": "stream",
     "text": [
      "\r",
      "  0%|          | 0/1165 [00:00<?, ?it/s]"
     ]
    },
    {
     "name": "stdout",
     "output_type": "stream",
     "text": [
      "[2018-02-11 20:32:31,733][MainProcess][allennlp.training.trainer][INFO] Training\n"
     ]
    },
    {
     "name": "stderr",
     "output_type": "stream",
     "text": [
      "token_accuracy: 1.00, accuracy: 1.00, loss: 0.16 ||: 100%|##########| 1165/1165 [01:09<00:00, 16.82it/s]"
     ]
    },
    {
     "name": "stdout",
     "output_type": "stream",
     "text": [
      "[2018-02-11 20:33:41,011][MainProcess][allennlp.training.trainer][INFO] Validating\n"
     ]
    },
    {
     "name": "stderr",
     "output_type": "stream",
     "text": [
      "\n",
      "token_accuracy: 0.99, accuracy: 0.95, loss: 40.55 ||: 100%|##########| 167/167 [00:05<00:00, 30.39it/s]\n"
     ]
    },
    {
     "name": "stdout",
     "output_type": "stream",
     "text": [
      "[2018-02-11 20:33:46,721][MainProcess][allennlp.training.trainer][INFO] Best validation performance so far. Copying weights to '../../experiments/subject_recognition_grid_search_1.02_11_20:05:37/best.th'.\n",
      "[2018-02-11 20:33:46,866][MainProcess][allennlp.training.trainer][INFO] Training token_accuracy : 0.999851    Validation token_accuracy : 0.988713 \n",
      "[2018-02-11 20:33:46,870][MainProcess][allennlp.training.trainer][INFO] Training accuracy : 0.999396    Validation accuracy : 0.954170 \n",
      "[2018-02-11 20:33:46,872][MainProcess][allennlp.training.trainer][INFO] Training loss : 0.161104    Validation loss : 40.553249 \n",
      "[2018-02-11 20:33:46,873][MainProcess][allennlp.training.trainer][INFO] Epoch duration: 00:01:15\n",
      "[2018-02-11 20:33:46,874][MainProcess][allennlp.training.trainer][INFO] Estimated training time remaining: 01:38:14\n",
      "[2018-02-11 20:33:46,875][MainProcess][allennlp.training.trainer][INFO] Epoch 22/99\n"
     ]
    },
    {
     "name": "stderr",
     "output_type": "stream",
     "text": [
      "\r",
      "  0%|          | 0/1165 [00:00<?, ?it/s]"
     ]
    },
    {
     "name": "stdout",
     "output_type": "stream",
     "text": [
      "[2018-02-11 20:33:46,877][MainProcess][allennlp.training.trainer][INFO] Training\n"
     ]
    },
    {
     "name": "stderr",
     "output_type": "stream",
     "text": [
      "token_accuracy: 1.00, accuracy: 1.00, loss: 0.13 ||: 100%|##########| 1165/1165 [01:08<00:00, 16.91it/s]"
     ]
    },
    {
     "name": "stdout",
     "output_type": "stream",
     "text": [
      "[2018-02-11 20:34:55,762][MainProcess][allennlp.training.trainer][INFO] Validating\n"
     ]
    },
    {
     "name": "stderr",
     "output_type": "stream",
     "text": [
      "\n",
      "token_accuracy: 0.99, accuracy: 0.95, loss: 44.12 ||: 100%|##########| 167/167 [00:05<00:00, 29.88it/s]\n"
     ]
    },
    {
     "name": "stdout",
     "output_type": "stream",
     "text": [
      "[2018-02-11 20:35:01,567][MainProcess][allennlp.training.trainer][INFO] Training token_accuracy : 0.999911    Validation token_accuracy : 0.988713 \n",
      "[2018-02-11 20:35:01,568][MainProcess][allennlp.training.trainer][INFO] Training accuracy : 0.999557    Validation accuracy : 0.952198 \n",
      "[2018-02-11 20:35:01,569][MainProcess][allennlp.training.trainer][INFO] Training loss : 0.127537    Validation loss : 44.119057 \n",
      "[2018-02-11 20:35:01,569][MainProcess][allennlp.training.trainer][INFO] Epoch duration: 00:01:14\n",
      "[2018-02-11 20:35:01,570][MainProcess][allennlp.training.trainer][INFO] Estimated training time remaining: 01:36:56\n",
      "[2018-02-11 20:35:01,576][MainProcess][allennlp.training.trainer][INFO] Epoch 23/99\n"
     ]
    },
    {
     "name": "stderr",
     "output_type": "stream",
     "text": [
      "\r",
      "  0%|          | 0/1165 [00:00<?, ?it/s]"
     ]
    },
    {
     "name": "stdout",
     "output_type": "stream",
     "text": [
      "[2018-02-11 20:35:01,579][MainProcess][allennlp.training.trainer][INFO] Training\n"
     ]
    },
    {
     "name": "stderr",
     "output_type": "stream",
     "text": [
      "token_accuracy: 1.00, accuracy: 1.00, loss: 0.15 ||: 100%|##########| 1165/1165 [01:09<00:00, 16.79it/s]"
     ]
    },
    {
     "name": "stdout",
     "output_type": "stream",
     "text": [
      "[2018-02-11 20:36:10,969][MainProcess][allennlp.training.trainer][INFO] Validating\n"
     ]
    },
    {
     "name": "stderr",
     "output_type": "stream",
     "text": [
      "\n",
      "token_accuracy: 0.99, accuracy: 0.95, loss: 42.33 ||: 100%|##########| 167/167 [00:05<00:00, 30.29it/s]\n"
     ]
    },
    {
     "name": "stdout",
     "output_type": "stream",
     "text": [
      "[2018-02-11 20:36:16,695][MainProcess][allennlp.training.trainer][INFO] Training token_accuracy : 0.999874    Validation token_accuracy : 0.989035 \n",
      "[2018-02-11 20:36:16,696][MainProcess][allennlp.training.trainer][INFO] Training accuracy : 0.999503    Validation accuracy : 0.953700 \n",
      "[2018-02-11 20:36:16,696][MainProcess][allennlp.training.trainer][INFO] Training loss : 0.146810    Validation loss : 42.330513 \n",
      "[2018-02-11 20:36:16,697][MainProcess][allennlp.training.trainer][INFO] Epoch duration: 00:01:15\n",
      "[2018-02-11 20:36:16,698][MainProcess][allennlp.training.trainer][INFO] Estimated training time remaining: 01:35:39\n",
      "[2018-02-11 20:36:16,698][MainProcess][allennlp.training.trainer][INFO] Epoch 24/99\n"
     ]
    },
    {
     "name": "stderr",
     "output_type": "stream",
     "text": [
      "\r",
      "  0%|          | 0/1165 [00:00<?, ?it/s]"
     ]
    },
    {
     "name": "stdout",
     "output_type": "stream",
     "text": [
      "[2018-02-11 20:36:16,704][MainProcess][allennlp.training.trainer][INFO] Training\n"
     ]
    },
    {
     "name": "stderr",
     "output_type": "stream",
     "text": [
      "token_accuracy: 1.00, accuracy: 1.00, loss: 0.11 ||: 100%|##########| 1165/1165 [01:08<00:00, 16.92it/s]"
     ]
    },
    {
     "name": "stdout",
     "output_type": "stream",
     "text": [
      "[2018-02-11 20:37:25,573][MainProcess][allennlp.training.trainer][INFO] Validating\n"
     ]
    },
    {
     "name": "stderr",
     "output_type": "stream",
     "text": [
      "\n",
      "token_accuracy: 0.99, accuracy: 0.95, loss: 42.66 ||: 100%|##########| 167/167 [00:05<00:00, 30.35it/s]\n"
     ]
    },
    {
     "name": "stdout",
     "output_type": "stream",
     "text": [
      "[2018-02-11 20:37:31,290][MainProcess][allennlp.training.trainer][INFO] Best validation performance so far. Copying weights to '../../experiments/subject_recognition_grid_search_1.02_11_20:05:37/best.th'.\n",
      "[2018-02-11 20:37:31,437][MainProcess][allennlp.training.trainer][INFO] Training token_accuracy : 0.999938    Validation token_accuracy : 0.989012 \n",
      "[2018-02-11 20:37:31,442][MainProcess][allennlp.training.trainer][INFO] Training accuracy : 0.999732    Validation accuracy : 0.954452 \n",
      "[2018-02-11 20:37:31,443][MainProcess][allennlp.training.trainer][INFO] Training loss : 0.106528    Validation loss : 42.657074 \n",
      "[2018-02-11 20:37:31,445][MainProcess][allennlp.training.trainer][INFO] Epoch duration: 00:01:14\n",
      "[2018-02-11 20:37:31,446][MainProcess][allennlp.training.trainer][INFO] Estimated training time remaining: 01:34:21\n",
      "[2018-02-11 20:37:31,448][MainProcess][allennlp.training.trainer][INFO] Epoch 25/99\n"
     ]
    },
    {
     "name": "stderr",
     "output_type": "stream",
     "text": [
      "\r",
      "  0%|          | 0/1165 [00:00<?, ?it/s]"
     ]
    },
    {
     "name": "stdout",
     "output_type": "stream",
     "text": [
      "[2018-02-11 20:37:31,452][MainProcess][allennlp.training.trainer][INFO] Training\n"
     ]
    },
    {
     "name": "stderr",
     "output_type": "stream",
     "text": [
      "token_accuracy: 1.00, accuracy: 1.00, loss: 0.10 ||: 100%|##########| 1165/1165 [01:08<00:00, 16.92it/s]"
     ]
    },
    {
     "name": "stdout",
     "output_type": "stream",
     "text": [
      "[2018-02-11 20:38:40,320][MainProcess][allennlp.training.trainer][INFO] Validating\n"
     ]
    },
    {
     "name": "stderr",
     "output_type": "stream",
     "text": [
      "\n",
      "token_accuracy: 0.99, accuracy: 0.95, loss: 44.01 ||: 100%|##########| 167/167 [00:05<00:00, 30.28it/s]\n"
     ]
    },
    {
     "name": "stdout",
     "output_type": "stream",
     "text": [
      "[2018-02-11 20:38:46,050][MainProcess][allennlp.training.trainer][INFO] Training token_accuracy : 0.999944    Validation token_accuracy : 0.989127 \n",
      "[2018-02-11 20:38:46,051][MainProcess][allennlp.training.trainer][INFO] Training accuracy : 0.999732    Validation accuracy : 0.954170 \n",
      "[2018-02-11 20:38:46,052][MainProcess][allennlp.training.trainer][INFO] Training loss : 0.097441    Validation loss : 44.012909 \n",
      "[2018-02-11 20:38:46,053][MainProcess][allennlp.training.trainer][INFO] Epoch duration: 00:01:14\n",
      "[2018-02-11 20:38:46,054][MainProcess][allennlp.training.trainer][INFO] Estimated training time remaining: 01:33:03\n",
      "[2018-02-11 20:38:46,054][MainProcess][allennlp.training.trainer][INFO] Epoch 26/99\n"
     ]
    },
    {
     "name": "stderr",
     "output_type": "stream",
     "text": [
      "\r",
      "  0%|          | 0/1165 [00:00<?, ?it/s]"
     ]
    },
    {
     "name": "stdout",
     "output_type": "stream",
     "text": [
      "[2018-02-11 20:38:46,055][MainProcess][allennlp.training.trainer][INFO] Training\n"
     ]
    },
    {
     "name": "stderr",
     "output_type": "stream",
     "text": [
      "token_accuracy: 1.00, accuracy: 1.00, loss: 0.09 ||: 100%|##########| 1165/1165 [01:09<00:00, 16.79it/s]"
     ]
    },
    {
     "name": "stdout",
     "output_type": "stream",
     "text": [
      "[2018-02-11 20:39:55,449][MainProcess][allennlp.training.trainer][INFO] Validating\n"
     ]
    },
    {
     "name": "stderr",
     "output_type": "stream",
     "text": [
      "\n",
      "token_accuracy: 0.99, accuracy: 0.95, loss: 45.68 ||: 100%|##########| 167/167 [00:05<00:00, 30.23it/s]\n"
     ]
    },
    {
     "name": "stdout",
     "output_type": "stream",
     "text": [
      "[2018-02-11 20:40:01,190][MainProcess][allennlp.training.trainer][INFO] Best validation performance so far. Copying weights to '../../experiments/subject_recognition_grid_search_1.02_11_20:05:37/best.th'.\n",
      "[2018-02-11 20:40:01,598][MainProcess][allennlp.training.trainer][INFO] Training token_accuracy : 0.999941    Validation token_accuracy : 0.989127 \n",
      "[2018-02-11 20:40:01,603][MainProcess][allennlp.training.trainer][INFO] Training accuracy : 0.999705    Validation accuracy : 0.954733 \n",
      "[2018-02-11 20:40:01,606][MainProcess][allennlp.training.trainer][INFO] Training loss : 0.092171    Validation loss : 45.683323 \n",
      "[2018-02-11 20:40:01,608][MainProcess][allennlp.training.trainer][INFO] Epoch duration: 00:01:15\n",
      "[2018-02-11 20:40:01,609][MainProcess][allennlp.training.trainer][INFO] Estimated training time remaining: 01:31:48\n",
      "[2018-02-11 20:40:01,610][MainProcess][allennlp.training.trainer][INFO] Epoch 27/99\n"
     ]
    },
    {
     "name": "stderr",
     "output_type": "stream",
     "text": [
      "\r",
      "  0%|          | 0/1165 [00:00<?, ?it/s]"
     ]
    },
    {
     "name": "stdout",
     "output_type": "stream",
     "text": [
      "[2018-02-11 20:40:01,614][MainProcess][allennlp.training.trainer][INFO] Training\n"
     ]
    },
    {
     "name": "stderr",
     "output_type": "stream",
     "text": [
      "token_accuracy: 1.00, accuracy: 1.00, loss: 0.10 ||: 100%|##########| 1165/1165 [01:08<00:00, 16.91it/s]"
     ]
    },
    {
     "name": "stdout",
     "output_type": "stream",
     "text": [
      "[2018-02-11 20:41:10,521][MainProcess][allennlp.training.trainer][INFO] Validating\n"
     ]
    },
    {
     "name": "stderr",
     "output_type": "stream",
     "text": [
      "\n",
      "token_accuracy: 0.99, accuracy: 0.95, loss: 45.61 ||: 100%|##########| 167/167 [00:05<00:00, 30.15it/s]\n"
     ]
    },
    {
     "name": "stdout",
     "output_type": "stream",
     "text": [
      "[2018-02-11 20:41:16,274][MainProcess][allennlp.training.trainer][INFO] Training token_accuracy : 0.999951    Validation token_accuracy : 0.988989 \n",
      "[2018-02-11 20:41:16,275][MainProcess][allennlp.training.trainer][INFO] Training accuracy : 0.999745    Validation accuracy : 0.954264 \n",
      "[2018-02-11 20:41:16,275][MainProcess][allennlp.training.trainer][INFO] Training loss : 0.095828    Validation loss : 45.606140 \n",
      "[2018-02-11 20:41:16,276][MainProcess][allennlp.training.trainer][INFO] Epoch duration: 00:01:14\n",
      "[2018-02-11 20:41:16,278][MainProcess][allennlp.training.trainer][INFO] Estimated training time remaining: 01:30:31\n",
      "[2018-02-11 20:41:16,278][MainProcess][allennlp.training.trainer][INFO] Epoch 28/99\n"
     ]
    },
    {
     "name": "stderr",
     "output_type": "stream",
     "text": [
      "\r",
      "  0%|          | 0/1165 [00:00<?, ?it/s]"
     ]
    },
    {
     "name": "stdout",
     "output_type": "stream",
     "text": [
      "[2018-02-11 20:41:16,280][MainProcess][allennlp.training.trainer][INFO] Training\n"
     ]
    },
    {
     "name": "stderr",
     "output_type": "stream",
     "text": [
      "token_accuracy: 1.00, accuracy: 1.00, loss: 0.08 ||: 100%|##########| 1165/1165 [01:08<00:00, 16.89it/s]"
     ]
    },
    {
     "name": "stdout",
     "output_type": "stream",
     "text": [
      "[2018-02-11 20:42:25,244][MainProcess][allennlp.training.trainer][INFO] Validating\n"
     ]
    },
    {
     "name": "stderr",
     "output_type": "stream",
     "text": [
      "\n",
      "token_accuracy: 0.99, accuracy: 0.95, loss: 46.54 ||: 100%|##########| 167/167 [00:06<00:00, 27.82it/s]\n"
     ]
    },
    {
     "name": "stdout",
     "output_type": "stream",
     "text": [
      "[2018-02-11 20:42:31,462][MainProcess][allennlp.training.trainer][INFO] Training token_accuracy : 0.999961    Validation token_accuracy : 0.988909 \n",
      "[2018-02-11 20:42:31,463][MainProcess][allennlp.training.trainer][INFO] Training accuracy : 0.999812    Validation accuracy : 0.954358 \n",
      "[2018-02-11 20:42:31,464][MainProcess][allennlp.training.trainer][INFO] Training loss : 0.082356    Validation loss : 46.540306 \n",
      "[2018-02-11 20:42:31,464][MainProcess][allennlp.training.trainer][INFO] Epoch duration: 00:01:15\n",
      "[2018-02-11 20:42:31,465][MainProcess][allennlp.training.trainer][INFO] Estimated training time remaining: 01:29:14\n",
      "[2018-02-11 20:42:31,465][MainProcess][allennlp.training.trainer][INFO] Epoch 29/99\n"
     ]
    },
    {
     "name": "stderr",
     "output_type": "stream",
     "text": [
      "\r",
      "  0%|          | 0/1165 [00:00<?, ?it/s]"
     ]
    },
    {
     "name": "stdout",
     "output_type": "stream",
     "text": [
      "[2018-02-11 20:42:31,469][MainProcess][allennlp.training.trainer][INFO] Training\n"
     ]
    },
    {
     "name": "stderr",
     "output_type": "stream",
     "text": [
      "token_accuracy: 1.00, accuracy: 1.00, loss: 0.08 ||: 100%|##########| 1165/1165 [01:08<00:00, 16.91it/s]"
     ]
    },
    {
     "name": "stdout",
     "output_type": "stream",
     "text": [
      "[2018-02-11 20:43:40,347][MainProcess][allennlp.training.trainer][INFO] Validating\n"
     ]
    },
    {
     "name": "stderr",
     "output_type": "stream",
     "text": [
      "\n",
      "token_accuracy: 0.99, accuracy: 0.96, loss: 46.67 ||: 100%|##########| 167/167 [00:05<00:00, 30.21it/s]\n"
     ]
    },
    {
     "name": "stdout",
     "output_type": "stream",
     "text": [
      "[2018-02-11 20:43:46,091][MainProcess][allennlp.training.trainer][INFO] Best validation performance so far. Copying weights to '../../experiments/subject_recognition_grid_search_1.02_11_20:05:37/best.th'.\n",
      "[2018-02-11 20:43:46,246][MainProcess][allennlp.training.trainer][INFO] Training token_accuracy : 0.999962    Validation token_accuracy : 0.989162 \n",
      "[2018-02-11 20:43:46,251][MainProcess][allennlp.training.trainer][INFO] Training accuracy : 0.999785    Validation accuracy : 0.955297 \n",
      "[2018-02-11 20:43:46,254][MainProcess][allennlp.training.trainer][INFO] Training loss : 0.079698    Validation loss : 46.668385 \n",
      "[2018-02-11 20:43:46,257][MainProcess][allennlp.training.trainer][INFO] Epoch duration: 00:01:14\n",
      "[2018-02-11 20:43:46,259][MainProcess][allennlp.training.trainer][INFO] Estimated training time remaining: 01:27:58\n",
      "[2018-02-11 20:43:46,261][MainProcess][allennlp.training.trainer][INFO] Epoch 30/99\n"
     ]
    },
    {
     "name": "stderr",
     "output_type": "stream",
     "text": [
      "\r",
      "  0%|          | 0/1165 [00:00<?, ?it/s]"
     ]
    },
    {
     "name": "stdout",
     "output_type": "stream",
     "text": [
      "[2018-02-11 20:43:46,266][MainProcess][allennlp.training.trainer][INFO] Training\n"
     ]
    },
    {
     "name": "stderr",
     "output_type": "stream",
     "text": [
      "token_accuracy: 1.00, accuracy: 1.00, loss: 0.08 ||: 100%|##########| 1165/1165 [01:08<00:00, 16.90it/s]"
     ]
    },
    {
     "name": "stdout",
     "output_type": "stream",
     "text": [
      "[2018-02-11 20:44:55,202][MainProcess][allennlp.training.trainer][INFO] Validating\n"
     ]
    },
    {
     "name": "stderr",
     "output_type": "stream",
     "text": [
      "\n",
      "token_accuracy: 0.99, accuracy: 0.95, loss: 48.06 ||: 100%|##########| 167/167 [00:05<00:00, 30.08it/s]\n"
     ]
    },
    {
     "name": "stdout",
     "output_type": "stream",
     "text": [
      "[2018-02-11 20:45:00,962][MainProcess][allennlp.training.trainer][INFO] Training token_accuracy : 0.999967    Validation token_accuracy : 0.989024 \n",
      "[2018-02-11 20:45:00,963][MainProcess][allennlp.training.trainer][INFO] Training accuracy : 0.999785    Validation accuracy : 0.954358 \n",
      "[2018-02-11 20:45:00,964][MainProcess][allennlp.training.trainer][INFO] Training loss : 0.082550    Validation loss : 48.061588 \n",
      "[2018-02-11 20:45:00,964][MainProcess][allennlp.training.trainer][INFO] Epoch duration: 00:01:14\n",
      "[2018-02-11 20:45:00,965][MainProcess][allennlp.training.trainer][INFO] Estimated training time remaining: 01:26:41\n",
      "[2018-02-11 20:45:00,966][MainProcess][allennlp.training.trainer][INFO] Epoch 31/99\n"
     ]
    },
    {
     "name": "stderr",
     "output_type": "stream",
     "text": [
      "\r",
      "  0%|          | 0/1165 [00:00<?, ?it/s]"
     ]
    },
    {
     "name": "stdout",
     "output_type": "stream",
     "text": [
      "[2018-02-11 20:45:00,971][MainProcess][allennlp.training.trainer][INFO] Training\n"
     ]
    },
    {
     "name": "stderr",
     "output_type": "stream",
     "text": [
      "token_accuracy: 1.00, accuracy: 1.00, loss: 0.07 ||: 100%|##########| 1165/1165 [01:09<00:00, 16.78it/s]"
     ]
    },
    {
     "name": "stdout",
     "output_type": "stream",
     "text": [
      "[2018-02-11 20:46:10,386][MainProcess][allennlp.training.trainer][INFO] Validating\n"
     ]
    },
    {
     "name": "stderr",
     "output_type": "stream",
     "text": [
      "\n",
      "token_accuracy: 0.99, accuracy: 0.95, loss: 48.91 ||: 100%|##########| 167/167 [00:05<00:00, 30.18it/s]\n"
     ]
    },
    {
     "name": "stdout",
     "output_type": "stream",
     "text": [
      "[2018-02-11 20:46:16,137][MainProcess][allennlp.training.trainer][INFO] Training token_accuracy : 0.999970    Validation token_accuracy : 0.989139 \n",
      "[2018-02-11 20:46:16,138][MainProcess][allennlp.training.trainer][INFO] Training accuracy : 0.999799    Validation accuracy : 0.954170 \n",
      "[2018-02-11 20:46:16,138][MainProcess][allennlp.training.trainer][INFO] Training loss : 0.069604    Validation loss : 48.906242 \n",
      "[2018-02-11 20:46:16,139][MainProcess][allennlp.training.trainer][INFO] Epoch duration: 00:01:15\n",
      "[2018-02-11 20:46:16,139][MainProcess][allennlp.training.trainer][INFO] Estimated training time remaining: 01:25:25\n",
      "[2018-02-11 20:46:16,140][MainProcess][allennlp.training.trainer][INFO] Epoch 32/99\n"
     ]
    },
    {
     "name": "stderr",
     "output_type": "stream",
     "text": [
      "\r",
      "  0%|          | 0/1165 [00:00<?, ?it/s]"
     ]
    },
    {
     "name": "stdout",
     "output_type": "stream",
     "text": [
      "[2018-02-11 20:46:16,142][MainProcess][allennlp.training.trainer][INFO] Training\n"
     ]
    },
    {
     "name": "stderr",
     "output_type": "stream",
     "text": [
      "token_accuracy: 1.00, accuracy: 1.00, loss: 0.06 ||: 100%|##########| 1165/1165 [01:08<00:00, 16.89it/s]"
     ]
    },
    {
     "name": "stdout",
     "output_type": "stream",
     "text": [
      "[2018-02-11 20:47:25,120][MainProcess][allennlp.training.trainer][INFO] Validating\n"
     ]
    },
    {
     "name": "stderr",
     "output_type": "stream",
     "text": [
      "\n",
      "token_accuracy: 0.99, accuracy: 0.95, loss: 50.16 ||: 100%|##########| 167/167 [00:05<00:00, 30.29it/s]\n"
     ]
    },
    {
     "name": "stdout",
     "output_type": "stream",
     "text": [
      "[2018-02-11 20:47:30,846][MainProcess][allennlp.training.trainer][INFO] Training token_accuracy : 0.999970    Validation token_accuracy : 0.989208 \n",
      "[2018-02-11 20:47:30,847][MainProcess][allennlp.training.trainer][INFO] Training accuracy : 0.999866    Validation accuracy : 0.954358 \n",
      "[2018-02-11 20:47:30,847][MainProcess][allennlp.training.trainer][INFO] Training loss : 0.063045    Validation loss : 50.163635 \n",
      "[2018-02-11 20:47:30,848][MainProcess][allennlp.training.trainer][INFO] Epoch duration: 00:01:14\n",
      "[2018-02-11 20:47:30,849][MainProcess][allennlp.training.trainer][INFO] Estimated training time remaining: 01:24:08\n",
      "[2018-02-11 20:47:30,849][MainProcess][allennlp.training.trainer][INFO] Epoch 33/99\n"
     ]
    },
    {
     "name": "stderr",
     "output_type": "stream",
     "text": [
      "\r",
      "  0%|          | 0/1165 [00:00<?, ?it/s]"
     ]
    },
    {
     "name": "stdout",
     "output_type": "stream",
     "text": [
      "[2018-02-11 20:47:30,853][MainProcess][allennlp.training.trainer][INFO] Training\n"
     ]
    },
    {
     "name": "stderr",
     "output_type": "stream",
     "text": [
      "token_accuracy: 1.00, accuracy: 1.00, loss: 0.06 ||: 100%|##########| 1165/1165 [01:08<00:00, 16.89it/s]"
     ]
    },
    {
     "name": "stdout",
     "output_type": "stream",
     "text": [
      "[2018-02-11 20:48:39,846][MainProcess][allennlp.training.trainer][INFO] Validating\n"
     ]
    },
    {
     "name": "stderr",
     "output_type": "stream",
     "text": [
      "\n",
      "token_accuracy: 0.99, accuracy: 0.95, loss: 50.73 ||: 100%|##########| 167/167 [00:05<00:00, 30.32it/s]\n"
     ]
    },
    {
     "name": "stdout",
     "output_type": "stream",
     "text": [
      "[2018-02-11 20:48:45,568][MainProcess][allennlp.training.trainer][INFO] Training token_accuracy : 0.999975    Validation token_accuracy : 0.989162 \n",
      "[2018-02-11 20:48:45,569][MainProcess][allennlp.training.trainer][INFO] Training accuracy : 0.999812    Validation accuracy : 0.954639 \n",
      "[2018-02-11 20:48:45,570][MainProcess][allennlp.training.trainer][INFO] Training loss : 0.061468    Validation loss : 50.734619 \n",
      "[2018-02-11 20:48:45,570][MainProcess][allennlp.training.trainer][INFO] Epoch duration: 00:01:14\n",
      "[2018-02-11 20:48:45,571][MainProcess][allennlp.training.trainer][INFO] Estimated training time remaining: 01:22:52\n",
      "[2018-02-11 20:48:45,572][MainProcess][allennlp.training.trainer][INFO] Epoch 34/99\n"
     ]
    },
    {
     "name": "stderr",
     "output_type": "stream",
     "text": [
      "\r",
      "  0%|          | 0/1165 [00:00<?, ?it/s]"
     ]
    },
    {
     "name": "stdout",
     "output_type": "stream",
     "text": [
      "[2018-02-11 20:48:45,575][MainProcess][allennlp.training.trainer][INFO] Training\n"
     ]
    },
    {
     "name": "stderr",
     "output_type": "stream",
     "text": [
      "token_accuracy: 1.00, accuracy: 1.00, loss: 0.06 ||: 100%|##########| 1165/1165 [01:09<00:00, 16.78it/s]"
     ]
    },
    {
     "name": "stdout",
     "output_type": "stream",
     "text": [
      "[2018-02-11 20:49:55,017][MainProcess][allennlp.training.trainer][INFO] Validating\n"
     ]
    },
    {
     "name": "stderr",
     "output_type": "stream",
     "text": [
      "\n",
      "token_accuracy: 0.99, accuracy: 0.96, loss: 51.32 ||: 100%|##########| 167/167 [00:05<00:00, 30.22it/s]\n"
     ]
    },
    {
     "name": "stdout",
     "output_type": "stream",
     "text": [
      "[2018-02-11 20:50:00,761][MainProcess][allennlp.training.trainer][INFO] Training token_accuracy : 0.999975    Validation token_accuracy : 0.989300 \n",
      "[2018-02-11 20:50:00,762][MainProcess][allennlp.training.trainer][INFO] Training accuracy : 0.999812    Validation accuracy : 0.955203 \n",
      "[2018-02-11 20:50:00,762][MainProcess][allennlp.training.trainer][INFO] Training loss : 0.064521    Validation loss : 51.316036 \n",
      "[2018-02-11 20:50:00,763][MainProcess][allennlp.training.trainer][INFO] Epoch duration: 00:01:15\n",
      "[2018-02-11 20:50:00,763][MainProcess][allennlp.training.trainer][INFO] Estimated training time remaining: 01:21:36\n",
      "[2018-02-11 20:50:00,765][MainProcess][allennlp.training.trainer][INFO] Epoch 35/99\n"
     ]
    },
    {
     "name": "stderr",
     "output_type": "stream",
     "text": [
      "\r",
      "  0%|          | 0/1165 [00:00<?, ?it/s]"
     ]
    },
    {
     "name": "stdout",
     "output_type": "stream",
     "text": [
      "[2018-02-11 20:50:00,768][MainProcess][allennlp.training.trainer][INFO] Training\n"
     ]
    },
    {
     "name": "stderr",
     "output_type": "stream",
     "text": [
      "token_accuracy: 1.00, accuracy: 1.00, loss: 0.06 ||: 100%|##########| 1165/1165 [01:08<00:00, 16.90it/s]"
     ]
    },
    {
     "name": "stdout",
     "output_type": "stream",
     "text": [
      "[2018-02-11 20:51:09,690][MainProcess][allennlp.training.trainer][INFO] Validating\n"
     ]
    },
    {
     "name": "stderr",
     "output_type": "stream",
     "text": [
      "\n",
      "token_accuracy: 0.99, accuracy: 0.95, loss: 51.02 ||: 100%|##########| 167/167 [00:05<00:00, 30.27it/s]\n"
     ]
    },
    {
     "name": "stdout",
     "output_type": "stream",
     "text": [
      "[2018-02-11 20:51:15,424][MainProcess][allennlp.training.trainer][INFO] Training token_accuracy : 0.999974    Validation token_accuracy : 0.989231 \n",
      "[2018-02-11 20:51:15,425][MainProcess][allennlp.training.trainer][INFO] Training accuracy : 0.999826    Validation accuracy : 0.954921 \n",
      "[2018-02-11 20:51:15,426][MainProcess][allennlp.training.trainer][INFO] Training loss : 0.061363    Validation loss : 51.017864 \n",
      "[2018-02-11 20:51:15,427][MainProcess][allennlp.training.trainer][INFO] Epoch duration: 00:01:14\n",
      "[2018-02-11 20:51:15,427][MainProcess][allennlp.training.trainer][INFO] Estimated training time remaining: 01:20:19\n",
      "[2018-02-11 20:51:15,428][MainProcess][allennlp.training.trainer][INFO] Epoch 36/99\n"
     ]
    },
    {
     "name": "stderr",
     "output_type": "stream",
     "text": [
      "\r",
      "  0%|          | 0/1165 [00:00<?, ?it/s]"
     ]
    },
    {
     "name": "stdout",
     "output_type": "stream",
     "text": [
      "[2018-02-11 20:51:15,431][MainProcess][allennlp.training.trainer][INFO] Training\n"
     ]
    },
    {
     "name": "stderr",
     "output_type": "stream",
     "text": [
      "token_accuracy: 1.00, accuracy: 1.00, loss: 0.05 ||: 100%|##########| 1165/1165 [01:09<00:00, 16.80it/s]"
     ]
    },
    {
     "name": "stdout",
     "output_type": "stream",
     "text": [
      "[2018-02-11 20:52:24,763][MainProcess][allennlp.training.trainer][INFO] Validating\n"
     ]
    },
    {
     "name": "stderr",
     "output_type": "stream",
     "text": [
      "\n",
      "token_accuracy: 0.99, accuracy: 0.95, loss: 51.33 ||: 100%|##########| 167/167 [00:05<00:00, 30.25it/s]\n"
     ]
    },
    {
     "name": "stdout",
     "output_type": "stream",
     "text": [
      "[2018-02-11 20:52:30,499][MainProcess][allennlp.training.trainer][INFO] Training token_accuracy : 0.999984    Validation token_accuracy : 0.989220 \n",
      "[2018-02-11 20:52:30,500][MainProcess][allennlp.training.trainer][INFO] Training accuracy : 0.999893    Validation accuracy : 0.954921 \n",
      "[2018-02-11 20:52:30,501][MainProcess][allennlp.training.trainer][INFO] Training loss : 0.053034    Validation loss : 51.333336 \n",
      "[2018-02-11 20:52:30,501][MainProcess][allennlp.training.trainer][INFO] Epoch duration: 00:01:15\n",
      "[2018-02-11 20:52:30,502][MainProcess][allennlp.training.trainer][INFO] Estimated training time remaining: 01:19:04\n",
      "[2018-02-11 20:52:30,503][MainProcess][allennlp.training.trainer][INFO] Epoch 37/99\n"
     ]
    },
    {
     "name": "stderr",
     "output_type": "stream",
     "text": [
      "\r",
      "  0%|          | 0/1165 [00:00<?, ?it/s]"
     ]
    },
    {
     "name": "stdout",
     "output_type": "stream",
     "text": [
      "[2018-02-11 20:52:30,508][MainProcess][allennlp.training.trainer][INFO] Training\n"
     ]
    },
    {
     "name": "stderr",
     "output_type": "stream",
     "text": [
      "token_accuracy: 1.00, accuracy: 1.00, loss: 0.06 ||: 100%|##########| 1165/1165 [01:08<00:00, 16.92it/s]"
     ]
    },
    {
     "name": "stdout",
     "output_type": "stream",
     "text": [
      "[2018-02-11 20:53:39,381][MainProcess][allennlp.training.trainer][INFO] Validating\n"
     ]
    },
    {
     "name": "stderr",
     "output_type": "stream",
     "text": [
      "\n",
      "token_accuracy: 0.99, accuracy: 0.95, loss: 51.73 ||: 100%|##########| 167/167 [00:05<00:00, 30.27it/s]\n"
     ]
    },
    {
     "name": "stdout",
     "output_type": "stream",
     "text": [
      "[2018-02-11 20:53:45,114][MainProcess][allennlp.training.trainer][INFO] Training token_accuracy : 0.999984    Validation token_accuracy : 0.989266 \n",
      "[2018-02-11 20:53:45,116][MainProcess][allennlp.training.trainer][INFO] Training accuracy : 0.999852    Validation accuracy : 0.954921 \n",
      "[2018-02-11 20:53:45,117][MainProcess][allennlp.training.trainer][INFO] Training loss : 0.060369    Validation loss : 51.731586 \n",
      "[2018-02-11 20:53:45,119][MainProcess][allennlp.training.trainer][INFO] Epoch duration: 00:01:14\n",
      "[2018-02-11 20:53:45,120][MainProcess][allennlp.training.trainer][INFO] Estimated training time remaining: 01:17:47\n",
      "[2018-02-11 20:53:45,121][MainProcess][allennlp.training.trainer][INFO] Epoch 38/99\n"
     ]
    },
    {
     "name": "stderr",
     "output_type": "stream",
     "text": [
      "\r",
      "  0%|          | 0/1165 [00:00<?, ?it/s]"
     ]
    },
    {
     "name": "stdout",
     "output_type": "stream",
     "text": [
      "[2018-02-11 20:53:45,122][MainProcess][allennlp.training.trainer][INFO] Training\n"
     ]
    },
    {
     "name": "stderr",
     "output_type": "stream",
     "text": [
      "token_accuracy: 1.00, accuracy: 1.00, loss: 0.05 ||: 100%|##########| 1165/1165 [01:08<00:00, 16.92it/s]"
     ]
    },
    {
     "name": "stdout",
     "output_type": "stream",
     "text": [
      "[2018-02-11 20:54:53,962][MainProcess][allennlp.training.trainer][INFO] Validating\n"
     ]
    },
    {
     "name": "stderr",
     "output_type": "stream",
     "text": [
      "\n",
      "token_accuracy: 0.99, accuracy: 0.95, loss: 52.37 ||: 100%|##########| 167/167 [00:05<00:00, 29.86it/s]\n"
     ]
    },
    {
     "name": "stdout",
     "output_type": "stream",
     "text": [
      "[2018-02-11 20:54:59,770][MainProcess][allennlp.training.trainer][INFO] Training token_accuracy : 0.999982    Validation token_accuracy : 0.989323 \n",
      "[2018-02-11 20:54:59,771][MainProcess][allennlp.training.trainer][INFO] Training accuracy : 0.999879    Validation accuracy : 0.954827 \n",
      "[2018-02-11 20:54:59,773][MainProcess][allennlp.training.trainer][INFO] Training loss : 0.051885    Validation loss : 52.370152 \n",
      "[2018-02-11 20:54:59,774][MainProcess][allennlp.training.trainer][INFO] Epoch duration: 00:01:14\n",
      "[2018-02-11 20:54:59,774][MainProcess][allennlp.training.trainer][INFO] Estimated training time remaining: 01:16:31\n",
      "[2018-02-11 20:54:59,775][MainProcess][allennlp.training.trainer][INFO] Epoch 39/99\n"
     ]
    },
    {
     "name": "stderr",
     "output_type": "stream",
     "text": [
      "\r",
      "  0%|          | 0/1165 [00:00<?, ?it/s]"
     ]
    },
    {
     "name": "stdout",
     "output_type": "stream",
     "text": [
      "[2018-02-11 20:54:59,776][MainProcess][allennlp.training.trainer][INFO] Training\n"
     ]
    },
    {
     "name": "stderr",
     "output_type": "stream",
     "text": [
      "token_accuracy: 1.00, accuracy: 1.00, loss: 0.06 ||: 100%|##########| 1165/1165 [01:09<00:00, 16.79it/s]"
     ]
    },
    {
     "name": "stdout",
     "output_type": "stream",
     "text": [
      "[2018-02-11 20:56:09,174][MainProcess][allennlp.training.trainer][INFO] Validating\n"
     ]
    },
    {
     "name": "stderr",
     "output_type": "stream",
     "text": [
      "\n",
      "token_accuracy: 0.99, accuracy: 0.96, loss: 52.42 ||: 100%|##########| 167/167 [00:05<00:00, 30.29it/s]"
     ]
    },
    {
     "name": "stdout",
     "output_type": "stream",
     "text": [
      "[2018-02-11 20:56:14,689][MainProcess][allennlp.training.trainer][INFO] Ran out of patience.  Stopping training.\n",
      "[2018-02-11 20:56:14,690][MainProcess][allennlp.models.archival][INFO] archiving weights and vocabulary to ../../experiments/subject_recognition_grid_search_1.02_11_20:05:37/model.tar.gz\n"
     ]
    },
    {
     "name": "stderr",
     "output_type": "stream",
     "text": [
      "\n"
     ]
    },
    {
     "name": "stdout",
     "output_type": "stream",
     "text": [
      "––––––––––––––––––––––––––––––––––––––––––––––––––––––––––––––––––––––––––––––––––––––––––––––––––––\n",
      "Seed: 4006490763\n",
      "Serialization Directory: ../../experiments/subject_recognition_grid_search_2.02_11_20:56:18\n",
      "[2018-02-11 20:56:18,810][MainProcess][allennlp.common.params][INFO] random_seed = 4006490763\n",
      "[2018-02-11 20:56:18,811][MainProcess][allennlp.common.params][INFO] numpy_seed = 4006490763\n",
      "[2018-02-11 20:56:18,811][MainProcess][allennlp.common.params][INFO] pytorch_seed = 4006490763\n",
      "[2018-02-11 20:56:18,814][MainProcess][allennlp.common.checks][INFO] Pytorch version: 0.3.0.post4\n",
      "[2018-02-11 20:56:18,816][MainProcess][allennlp.common.params][INFO] dataset_reader.type = sequence_tagging\n",
      "[2018-02-11 20:56:18,817][MainProcess][allennlp.common.params][INFO] dataset_reader.token_indexers.tokens.type = single_id\n",
      "[2018-02-11 20:56:18,818][MainProcess][allennlp.common.params][INFO] dataset_reader.token_indexers.tokens.namespace = tokens\n",
      "[2018-02-11 20:56:18,818][MainProcess][allennlp.common.params][INFO] dataset_reader.token_indexers.tokens.lowercase_tokens = True\n",
      "[2018-02-11 20:56:18,819][MainProcess][allennlp.common.params][INFO] dataset_reader.token_indexers.token_characters.type = characters\n",
      "[2018-02-11 20:56:18,820][MainProcess][allennlp.common.params][INFO] dataset_reader.token_indexers.token_characters.namespace = token_characters\n",
      "[2018-02-11 20:56:18,820][MainProcess][allennlp.common.params][INFO] dataset_reader.token_indexers.token_characters.character_tokenizer.byte_encoding = None\n",
      "[2018-02-11 20:56:18,821][MainProcess][allennlp.common.params][INFO] dataset_reader.token_indexers.token_characters.character_tokenizer.lowercase_characters = False\n",
      "[2018-02-11 20:56:18,822][MainProcess][allennlp.common.params][INFO] dataset_reader.token_indexers.token_characters.character_tokenizer.start_tokens = None\n",
      "[2018-02-11 20:56:18,822][MainProcess][allennlp.common.params][INFO] dataset_reader.token_indexers.token_characters.character_tokenizer.end_tokens = ['@@PADDING@@', '@@PADDING@@', '@@PADDING@@', '@@PADDING@@']\n",
      "[2018-02-11 20:56:18,823][MainProcess][allennlp.common.params][INFO] dataset_reader.word_tag_delimiter = /\n",
      "[2018-02-11 20:56:18,824][MainProcess][allennlp.common.params][INFO] dataset_reader.token_delimiter = None\n",
      "[2018-02-11 20:56:18,825][MainProcess][allennlp.common.params][INFO] train_data_path = ./../../data/subject_recognition/train.txt\n",
      "[2018-02-11 20:56:18,825][MainProcess][allennlp.commands.train][INFO] Reading training data from ./../../data/subject_recognition/train.txt\n",
      "[2018-02-11 20:56:18,826][MainProcess][allennlp.data.dataset_readers.sequence_tagging][INFO] Reading instances from lines in file at: ./../../data/subject_recognition/train.txt\n"
     ]
    },
    {
     "name": "stderr",
     "output_type": "stream",
     "text": [
      "74520it [00:01, 37407.34it/s]\n"
     ]
    },
    {
     "name": "stdout",
     "output_type": "stream",
     "text": [
      "[2018-02-11 20:56:20,887][MainProcess][allennlp.common.params][INFO] validation_data_path = ./../../data/subject_recognition/dev.txt\n",
      "[2018-02-11 20:56:20,888][MainProcess][allennlp.commands.train][INFO] Reading validation data from ./../../data/subject_recognition/dev.txt\n",
      "[2018-02-11 20:56:20,889][MainProcess][allennlp.data.dataset_readers.sequence_tagging][INFO] Reading instances from lines in file at: ./../../data/subject_recognition/dev.txt\n"
     ]
    },
    {
     "name": "stderr",
     "output_type": "stream",
     "text": [
      "10648it [00:00, 52514.24it/s]\n"
     ]
    },
    {
     "name": "stdout",
     "output_type": "stream",
     "text": [
      "[2018-02-11 20:56:21,454][MainProcess][allennlp.common.params][INFO] test_data_path = None\n",
      "[2018-02-11 20:56:21,455][MainProcess][allennlp.commands.train][INFO] Creating a vocabulary using train, validation data.\n",
      "[2018-02-11 20:56:21,545][MainProcess][allennlp.common.params][INFO] vocabulary.directory_path = None\n",
      "[2018-02-11 20:56:21,546][MainProcess][allennlp.common.params][INFO] vocabulary.min_count = 1\n",
      "[2018-02-11 20:56:21,547][MainProcess][allennlp.common.params][INFO] vocabulary.max_vocab_size = None\n",
      "[2018-02-11 20:56:21,548][MainProcess][allennlp.common.params][INFO] vocabulary.non_padded_namespaces = ('*tags', '*labels')\n",
      "[2018-02-11 20:56:21,548][MainProcess][allennlp.common.params][INFO] vocabulary.only_include_pretrained_words = False\n",
      "[2018-02-11 20:56:21,549][MainProcess][allennlp.data.vocabulary][INFO] Fitting token dictionary from dataset.\n"
     ]
    },
    {
     "name": "stderr",
     "output_type": "stream",
     "text": [
      "100%|##########| 85168/85168 [00:06<00:00, 12635.35it/s]\n"
     ]
    },
    {
     "name": "stdout",
     "output_type": "stream",
     "text": [
      "[2018-02-11 20:56:28,472][MainProcess][allennlp.common.params][INFO] model.type = crf_tagger\n",
      "[2018-02-11 20:56:28,473][MainProcess][allennlp.common.params][INFO] model.text_field_embedder.type = basic\n",
      "[2018-02-11 20:56:28,473][MainProcess][allennlp.common.params][INFO] model.text_field_embedder.tokens.type = embedding\n",
      "[2018-02-11 20:56:28,474][MainProcess][allennlp.common.params][INFO] model.text_field_embedder.tokens.num_embeddings = None\n",
      "[2018-02-11 20:56:28,474][MainProcess][allennlp.common.params][INFO] model.text_field_embedder.tokens.vocab_namespace = tokens\n",
      "[2018-02-11 20:56:28,475][MainProcess][allennlp.common.params][INFO] model.text_field_embedder.tokens.embedding_dim = 100\n",
      "[2018-02-11 20:56:28,475][MainProcess][allennlp.common.params][INFO] model.text_field_embedder.tokens.pretrained_file = https://s3-us-west-2.amazonaws.com/allennlp/datasets/glove/glove.6B.100d.txt.gz\n",
      "[2018-02-11 20:56:28,476][MainProcess][allennlp.common.params][INFO] model.text_field_embedder.tokens.projection_dim = None\n",
      "[2018-02-11 20:56:28,476][MainProcess][allennlp.common.params][INFO] model.text_field_embedder.tokens.trainable = False\n",
      "[2018-02-11 20:56:28,477][MainProcess][allennlp.common.params][INFO] model.text_field_embedder.tokens.padding_index = None\n",
      "[2018-02-11 20:56:28,477][MainProcess][allennlp.common.params][INFO] model.text_field_embedder.tokens.max_norm = None\n",
      "[2018-02-11 20:56:28,478][MainProcess][allennlp.common.params][INFO] model.text_field_embedder.tokens.norm_type = 2.0\n",
      "[2018-02-11 20:56:28,478][MainProcess][allennlp.common.params][INFO] model.text_field_embedder.tokens.scale_grad_by_freq = False\n",
      "[2018-02-11 20:56:28,479][MainProcess][allennlp.common.params][INFO] model.text_field_embedder.tokens.sparse = False\n",
      "[2018-02-11 20:56:28,481][MainProcess][allennlp.modules.token_embedders.embedding][INFO] Reading embeddings from file\n",
      "[2018-02-11 20:56:34,148][MainProcess][allennlp.modules.token_embedders.embedding][INFO] Initializing pre-trained embedding layer\n",
      "[2018-02-11 20:56:34,533][MainProcess][allennlp.common.params][INFO] model.text_field_embedder.token_characters.type = character_encoding\n",
      "[2018-02-11 20:56:34,534][MainProcess][allennlp.common.params][INFO] model.text_field_embedder.token_characters.embedding.num_embeddings = None\n",
      "[2018-02-11 20:56:34,534][MainProcess][allennlp.common.params][INFO] model.text_field_embedder.token_characters.embedding.vocab_namespace = token_characters\n",
      "[2018-02-11 20:56:34,535][MainProcess][allennlp.common.params][INFO] model.text_field_embedder.token_characters.embedding.embedding_dim = 25\n",
      "[2018-02-11 20:56:34,535][MainProcess][allennlp.common.params][INFO] model.text_field_embedder.token_characters.embedding.pretrained_file = None\n",
      "[2018-02-11 20:56:34,536][MainProcess][allennlp.common.params][INFO] model.text_field_embedder.token_characters.embedding.projection_dim = None\n",
      "[2018-02-11 20:56:34,536][MainProcess][allennlp.common.params][INFO] model.text_field_embedder.token_characters.embedding.trainable = True\n",
      "[2018-02-11 20:56:34,537][MainProcess][allennlp.common.params][INFO] model.text_field_embedder.token_characters.embedding.padding_index = None\n",
      "[2018-02-11 20:56:34,537][MainProcess][allennlp.common.params][INFO] model.text_field_embedder.token_characters.embedding.max_norm = None\n",
      "[2018-02-11 20:56:34,538][MainProcess][allennlp.common.params][INFO] model.text_field_embedder.token_characters.embedding.norm_type = 2.0\n",
      "[2018-02-11 20:56:34,538][MainProcess][allennlp.common.params][INFO] model.text_field_embedder.token_characters.embedding.scale_grad_by_freq = False\n",
      "[2018-02-11 20:56:34,539][MainProcess][allennlp.common.params][INFO] model.text_field_embedder.token_characters.embedding.sparse = False\n",
      "[2018-02-11 20:56:34,540][MainProcess][allennlp.common.params][INFO] model.text_field_embedder.token_characters.encoder.type = cnn\n",
      "[2018-02-11 20:56:34,540][MainProcess][allennlp.common.params][INFO] model.text_field_embedder.token_characters.encoder.embedding_dim = 25\n",
      "[2018-02-11 20:56:34,541][MainProcess][allennlp.common.params][INFO] model.text_field_embedder.token_characters.encoder.output_dim = None\n",
      "[2018-02-11 20:56:34,541][MainProcess][allennlp.common.params][INFO] model.text_field_embedder.token_characters.encoder.num_filters = 100\n",
      "[2018-02-11 20:56:34,541][MainProcess][allennlp.common.params][INFO] model.text_field_embedder.token_characters.encoder.conv_layer_activation = relu\n",
      "[2018-02-11 20:56:34,542][MainProcess][allennlp.common.params][INFO] model.text_field_embedder.token_characters.encoder.ngram_filter_sizes = [5]\n",
      "[2018-02-11 20:56:34,543][MainProcess][allennlp.common.params][INFO] model.text_field_embedder.token_characters.dropout = 0.25\n",
      "[2018-02-11 20:56:34,543][MainProcess][allennlp.common.params][INFO] model.encoder.type = lstm\n",
      "[2018-02-11 20:56:34,544][MainProcess][allennlp.common.params][INFO] model.encoder.batch_first = True\n",
      "[2018-02-11 20:56:34,544][MainProcess][allennlp.common.params][INFO] Converting Params object to dict; logging of default values will not occur when dictionary parameters are used subsequently.\n",
      "[2018-02-11 20:56:34,545][MainProcess][allennlp.common.params][INFO] CURRENTLY DEFINED PARAMETERS: \n",
      "[2018-02-11 20:56:34,546][MainProcess][allennlp.common.params][INFO] model.encoder.input_size = 200\n",
      "[2018-02-11 20:56:34,546][MainProcess][allennlp.common.params][INFO] model.encoder.hidden_size = 600\n",
      "[2018-02-11 20:56:34,547][MainProcess][allennlp.common.params][INFO] model.encoder.num_layers = 3\n",
      "[2018-02-11 20:56:34,547][MainProcess][allennlp.common.params][INFO] model.encoder.dropout = 0.25\n",
      "[2018-02-11 20:56:34,548][MainProcess][allennlp.common.params][INFO] model.encoder.bidirectional = True\n",
      "[2018-02-11 20:56:34,549][MainProcess][allennlp.common.params][INFO] model.encoder.batch_first = True\n",
      "[2018-02-11 20:56:34,654][MainProcess][allennlp.common.params][INFO] model.label_namespace = labels\n",
      "[2018-02-11 20:56:34,655][MainProcess][allennlp.common.params][INFO] model.initializer = []\n",
      "[2018-02-11 20:56:34,655][MainProcess][allennlp.common.params][INFO] model.regularizer = [['transitions$', {'type': 'l2', 'alpha': 0.01}]]\n",
      "[2018-02-11 20:56:34,656][MainProcess][allennlp.common.params][INFO] model.regularizer.list.list.type = l2\n",
      "[2018-02-11 20:56:34,657][MainProcess][allennlp.nn.initializers][INFO] Initializing parameters\n",
      "[2018-02-11 20:56:34,657][MainProcess][allennlp.nn.initializers][INFO] Done initializing parameters; the following parameters are using their default initialization from their code\n",
      "[2018-02-11 20:56:34,658][MainProcess][allennlp.nn.initializers][INFO]    crf.end_transitions\n",
      "[2018-02-11 20:56:34,659][MainProcess][allennlp.nn.initializers][INFO]    crf.start_transitions\n",
      "[2018-02-11 20:56:34,659][MainProcess][allennlp.nn.initializers][INFO]    crf.transitions\n",
      "[2018-02-11 20:56:34,660][MainProcess][allennlp.nn.initializers][INFO]    encoder._module.bias_hh_l0\n",
      "[2018-02-11 20:56:34,660][MainProcess][allennlp.nn.initializers][INFO]    encoder._module.bias_hh_l0_reverse\n",
      "[2018-02-11 20:56:34,661][MainProcess][allennlp.nn.initializers][INFO]    encoder._module.bias_hh_l1\n",
      "[2018-02-11 20:56:34,662][MainProcess][allennlp.nn.initializers][INFO]    encoder._module.bias_hh_l1_reverse\n",
      "[2018-02-11 20:56:34,662][MainProcess][allennlp.nn.initializers][INFO]    encoder._module.bias_hh_l2\n",
      "[2018-02-11 20:56:34,663][MainProcess][allennlp.nn.initializers][INFO]    encoder._module.bias_hh_l2_reverse\n",
      "[2018-02-11 20:56:34,664][MainProcess][allennlp.nn.initializers][INFO]    encoder._module.bias_ih_l0\n",
      "[2018-02-11 20:56:34,664][MainProcess][allennlp.nn.initializers][INFO]    encoder._module.bias_ih_l0_reverse\n",
      "[2018-02-11 20:56:34,665][MainProcess][allennlp.nn.initializers][INFO]    encoder._module.bias_ih_l1\n",
      "[2018-02-11 20:56:34,666][MainProcess][allennlp.nn.initializers][INFO]    encoder._module.bias_ih_l1_reverse\n",
      "[2018-02-11 20:56:34,666][MainProcess][allennlp.nn.initializers][INFO]    encoder._module.bias_ih_l2\n",
      "[2018-02-11 20:56:34,667][MainProcess][allennlp.nn.initializers][INFO]    encoder._module.bias_ih_l2_reverse\n",
      "[2018-02-11 20:56:34,667][MainProcess][allennlp.nn.initializers][INFO]    encoder._module.weight_hh_l0\n",
      "[2018-02-11 20:56:34,668][MainProcess][allennlp.nn.initializers][INFO]    encoder._module.weight_hh_l0_reverse\n"
     ]
    },
    {
     "name": "stdout",
     "output_type": "stream",
     "text": [
      "[2018-02-11 20:56:34,669][MainProcess][allennlp.nn.initializers][INFO]    encoder._module.weight_hh_l1\n",
      "[2018-02-11 20:56:34,669][MainProcess][allennlp.nn.initializers][INFO]    encoder._module.weight_hh_l1_reverse\n",
      "[2018-02-11 20:56:34,670][MainProcess][allennlp.nn.initializers][INFO]    encoder._module.weight_hh_l2\n",
      "[2018-02-11 20:56:34,670][MainProcess][allennlp.nn.initializers][INFO]    encoder._module.weight_hh_l2_reverse\n",
      "[2018-02-11 20:56:34,671][MainProcess][allennlp.nn.initializers][INFO]    encoder._module.weight_ih_l0\n",
      "[2018-02-11 20:56:34,672][MainProcess][allennlp.nn.initializers][INFO]    encoder._module.weight_ih_l0_reverse\n",
      "[2018-02-11 20:56:34,672][MainProcess][allennlp.nn.initializers][INFO]    encoder._module.weight_ih_l1\n",
      "[2018-02-11 20:56:34,673][MainProcess][allennlp.nn.initializers][INFO]    encoder._module.weight_ih_l1_reverse\n",
      "[2018-02-11 20:56:34,674][MainProcess][allennlp.nn.initializers][INFO]    encoder._module.weight_ih_l2\n",
      "[2018-02-11 20:56:34,674][MainProcess][allennlp.nn.initializers][INFO]    encoder._module.weight_ih_l2_reverse\n",
      "[2018-02-11 20:56:34,675][MainProcess][allennlp.nn.initializers][INFO]    tag_projection_layer._module.bias\n",
      "[2018-02-11 20:56:34,675][MainProcess][allennlp.nn.initializers][INFO]    tag_projection_layer._module.weight\n",
      "[2018-02-11 20:56:34,676][MainProcess][allennlp.nn.initializers][INFO]    text_field_embedder.token_embedder_token_characters._embedding._module.weight\n",
      "[2018-02-11 20:56:34,677][MainProcess][allennlp.nn.initializers][INFO]    text_field_embedder.token_embedder_token_characters._encoder._module.conv_layer_0.bias\n",
      "[2018-02-11 20:56:34,677][MainProcess][allennlp.nn.initializers][INFO]    text_field_embedder.token_embedder_token_characters._encoder._module.conv_layer_0.weight\n",
      "[2018-02-11 20:56:34,678][MainProcess][allennlp.nn.initializers][INFO]    text_field_embedder.token_embedder_tokens.weight\n",
      "[2018-02-11 20:56:34,678][MainProcess][allennlp.common.params][INFO] iterator.type = bucket\n",
      "[2018-02-11 20:56:34,679][MainProcess][allennlp.common.params][INFO] iterator.sorting_keys = [['tokens', 'num_tokens']]\n",
      "[2018-02-11 20:56:34,679][MainProcess][allennlp.common.params][INFO] iterator.padding_noise = 0.3\n",
      "[2018-02-11 20:56:34,680][MainProcess][allennlp.common.params][INFO] iterator.biggest_batch_first = False\n",
      "[2018-02-11 20:56:34,681][MainProcess][allennlp.common.params][INFO] iterator.batch_size = 64\n",
      "[2018-02-11 20:56:34,681][MainProcess][allennlp.data.dataset][INFO] Indexing dataset\n"
     ]
    },
    {
     "name": "stderr",
     "output_type": "stream",
     "text": [
      "100%|##########| 74520/74520 [00:09<00:00, 8114.31it/s]"
     ]
    },
    {
     "name": "stdout",
     "output_type": "stream",
     "text": [
      "[2018-02-11 20:56:43,867][MainProcess][allennlp.data.dataset][INFO] Indexing dataset\n"
     ]
    },
    {
     "name": "stderr",
     "output_type": "stream",
     "text": [
      "\n",
      "100%|##########| 10648/10648 [00:01<00:00, 6132.43it/s]"
     ]
    },
    {
     "name": "stdout",
     "output_type": "stream",
     "text": [
      "[2018-02-11 20:56:45,606][MainProcess][allennlp.common.params][INFO] trainer.patience = 10\n",
      "[2018-02-11 20:56:45,607][MainProcess][allennlp.common.params][INFO] trainer.validation_metric = +accuracy\n",
      "[2018-02-11 20:56:45,608][MainProcess][allennlp.common.params][INFO] trainer.num_epochs = 100\n",
      "[2018-02-11 20:56:45,608][MainProcess][allennlp.common.params][INFO] trainer.cuda_device = 0\n",
      "[2018-02-11 20:56:45,609][MainProcess][allennlp.common.params][INFO] trainer.grad_norm = None\n",
      "[2018-02-11 20:56:45,610][MainProcess][allennlp.common.params][INFO] trainer.grad_clipping = None\n",
      "[2018-02-11 20:56:45,653][MainProcess][allennlp.common.params][INFO] trainer.optimizer.type = adam\n",
      "[2018-02-11 20:56:45,654][MainProcess][allennlp.common.params][INFO] Converting Params object to dict; logging of default values will not occur when dictionary parameters are used subsequently.\n",
      "[2018-02-11 20:56:45,654][MainProcess][allennlp.common.params][INFO] CURRENTLY DEFINED PARAMETERS: \n",
      "[2018-02-11 20:56:45,655][MainProcess][allennlp.common.params][INFO] trainer.optimizer.amsgrad = False\n",
      "[2018-02-11 20:56:45,656][MainProcess][allennlp.common.params][INFO] trainer.learning_rate_scheduler.type = reduce_on_plateau\n",
      "[2018-02-11 20:56:45,656][MainProcess][allennlp.common.params][INFO] Converting Params object to dict; logging of default values will not occur when dictionary parameters are used subsequently.\n",
      "[2018-02-11 20:56:45,657][MainProcess][allennlp.common.params][INFO] CURRENTLY DEFINED PARAMETERS: \n",
      "[2018-02-11 20:56:45,658][MainProcess][allennlp.common.params][INFO] trainer.learning_rate_scheduler.factor = 0.5\n",
      "[2018-02-11 20:56:45,658][MainProcess][allennlp.common.params][INFO] trainer.learning_rate_scheduler.mode = max\n",
      "[2018-02-11 20:56:45,659][MainProcess][allennlp.common.params][INFO] trainer.learning_rate_scheduler.patience = 2\n",
      "[2018-02-11 20:56:45,660][MainProcess][allennlp.common.params][INFO] trainer.no_tqdm = False\n",
      "[2018-02-11 20:56:45,665][MainProcess][allennlp.common.params][INFO] evaluate_on_test = False\n",
      "[2018-02-11 20:56:45,666][MainProcess][allennlp.training.trainer][INFO] Beginning training.\n",
      "[2018-02-11 20:56:45,666][MainProcess][allennlp.training.trainer][INFO] Epoch 0/99\n"
     ]
    },
    {
     "name": "stderr",
     "output_type": "stream",
     "text": [
      "\n",
      "\r",
      "  0%|          | 0/1165 [00:00<?, ?it/s]"
     ]
    },
    {
     "name": "stdout",
     "output_type": "stream",
     "text": [
      "[2018-02-11 20:56:45,668][MainProcess][allennlp.training.trainer][INFO] Training\n"
     ]
    },
    {
     "name": "stderr",
     "output_type": "stream",
     "text": [
      "token_accuracy: 0.96, accuracy: 0.82, loss: 55.61 ||: 100%|##########| 1165/1165 [01:08<00:00, 16.93it/s]"
     ]
    },
    {
     "name": "stdout",
     "output_type": "stream",
     "text": [
      "[2018-02-11 20:57:54,463][MainProcess][allennlp.training.trainer][INFO] Validating\n"
     ]
    },
    {
     "name": "stderr",
     "output_type": "stream",
     "text": [
      "\n",
      "token_accuracy: 0.98, accuracy: 0.91, loss: 30.69 ||: 100%|##########| 167/167 [00:05<00:00, 30.18it/s]\n"
     ]
    },
    {
     "name": "stdout",
     "output_type": "stream",
     "text": [
      "[2018-02-11 20:58:00,216][MainProcess][allennlp.training.trainer][INFO] Best validation performance so far. Copying weights to '../../experiments/subject_recognition_grid_search_2.02_11_20:56:18/best.th'.\n",
      "[2018-02-11 20:58:00,295][MainProcess][allennlp.training.trainer][INFO] Training token_accuracy : 0.960590    Validation token_accuracy : 0.979994 \n",
      "[2018-02-11 20:58:00,296][MainProcess][allennlp.training.trainer][INFO] Training accuracy : 0.817673    Validation accuracy : 0.910312 \n",
      "[2018-02-11 20:58:00,296][MainProcess][allennlp.training.trainer][INFO] Training loss : 55.612679    Validation loss : 30.685207 \n",
      "[2018-02-11 20:58:00,297][MainProcess][allennlp.training.trainer][INFO] Epoch duration: 00:01:14\n",
      "[2018-02-11 20:58:00,297][MainProcess][allennlp.training.trainer][INFO] Estimated training time remaining: 02:03:08\n",
      "[2018-02-11 20:58:00,298][MainProcess][allennlp.training.trainer][INFO] Epoch 1/99\n"
     ]
    },
    {
     "name": "stderr",
     "output_type": "stream",
     "text": [
      "\r",
      "  0%|          | 0/1165 [00:00<?, ?it/s]"
     ]
    },
    {
     "name": "stdout",
     "output_type": "stream",
     "text": [
      "[2018-02-11 20:58:00,299][MainProcess][allennlp.training.trainer][INFO] Training\n"
     ]
    },
    {
     "name": "stderr",
     "output_type": "stream",
     "text": [
      "token_accuracy: 0.98, accuracy: 0.92, loss: 23.83 ||: 100%|##########| 1165/1165 [01:08<00:00, 16.93it/s]"
     ]
    },
    {
     "name": "stdout",
     "output_type": "stream",
     "text": [
      "[2018-02-11 20:59:09,107][MainProcess][allennlp.training.trainer][INFO] Validating\n"
     ]
    },
    {
     "name": "stderr",
     "output_type": "stream",
     "text": [
      "\n",
      "token_accuracy: 0.98, accuracy: 0.93, loss: 22.35 ||: 100%|##########| 167/167 [00:05<00:00, 30.34it/s]\n"
     ]
    },
    {
     "name": "stdout",
     "output_type": "stream",
     "text": [
      "[2018-02-11 20:59:14,828][MainProcess][allennlp.training.trainer][INFO] Best validation performance so far. Copying weights to '../../experiments/subject_recognition_grid_search_2.02_11_20:56:18/best.th'.\n",
      "[2018-02-11 20:59:15,004][MainProcess][allennlp.training.trainer][INFO] Training token_accuracy : 0.983016    Validation token_accuracy : 0.984014 \n",
      "[2018-02-11 20:59:15,011][MainProcess][allennlp.training.trainer][INFO] Training accuracy : 0.919901    Validation accuracy : 0.927498 \n",
      "[2018-02-11 20:59:15,013][MainProcess][allennlp.training.trainer][INFO] Training loss : 23.827997    Validation loss : 22.352943 \n",
      "[2018-02-11 20:59:15,015][MainProcess][allennlp.training.trainer][INFO] Epoch duration: 00:01:14\n",
      "[2018-02-11 20:59:15,016][MainProcess][allennlp.training.trainer][INFO] Estimated training time remaining: 02:01:58\n",
      "[2018-02-11 20:59:15,017][MainProcess][allennlp.training.trainer][INFO] Epoch 2/99\n"
     ]
    },
    {
     "name": "stderr",
     "output_type": "stream",
     "text": [
      "\r",
      "  0%|          | 0/1165 [00:00<?, ?it/s]"
     ]
    },
    {
     "name": "stdout",
     "output_type": "stream",
     "text": [
      "[2018-02-11 20:59:15,020][MainProcess][allennlp.training.trainer][INFO] Training\n"
     ]
    },
    {
     "name": "stderr",
     "output_type": "stream",
     "text": [
      "token_accuracy: 0.99, accuracy: 0.94, loss: 16.81 ||: 100%|##########| 1165/1165 [01:09<00:00, 16.83it/s]"
     ]
    },
    {
     "name": "stdout",
     "output_type": "stream",
     "text": [
      "[2018-02-11 21:00:24,248][MainProcess][allennlp.training.trainer][INFO] Validating\n"
     ]
    },
    {
     "name": "stderr",
     "output_type": "stream",
     "text": [
      "\n",
      "token_accuracy: 0.98, accuracy: 0.94, loss: 18.61 ||: 100%|##########| 167/167 [00:05<00:00, 30.36it/s]\n"
     ]
    },
    {
     "name": "stdout",
     "output_type": "stream",
     "text": [
      "[2018-02-11 21:00:29,963][MainProcess][allennlp.training.trainer][INFO] Best validation performance so far. Copying weights to '../../experiments/subject_recognition_grid_search_2.02_11_20:56:18/best.th'.\n",
      "[2018-02-11 21:00:30,136][MainProcess][allennlp.training.trainer][INFO] Training token_accuracy : 0.986783    Validation token_accuracy : 0.984474 \n",
      "[2018-02-11 21:00:30,140][MainProcess][allennlp.training.trainer][INFO] Training accuracy : 0.940754    Validation accuracy : 0.939331 \n",
      "[2018-02-11 21:00:30,143][MainProcess][allennlp.training.trainer][INFO] Training loss : 16.814615    Validation loss : 18.611708 \n",
      "[2018-02-11 21:00:30,146][MainProcess][allennlp.training.trainer][INFO] Epoch duration: 00:01:15\n",
      "[2018-02-11 21:00:30,148][MainProcess][allennlp.training.trainer][INFO] Estimated training time remaining: 02:00:58\n",
      "[2018-02-11 21:00:30,151][MainProcess][allennlp.training.trainer][INFO] Epoch 3/99\n"
     ]
    },
    {
     "name": "stderr",
     "output_type": "stream",
     "text": [
      "\r",
      "  0%|          | 0/1165 [00:00<?, ?it/s]"
     ]
    },
    {
     "name": "stdout",
     "output_type": "stream",
     "text": [
      "[2018-02-11 21:00:30,159][MainProcess][allennlp.training.trainer][INFO] Training\n"
     ]
    },
    {
     "name": "stderr",
     "output_type": "stream",
     "text": [
      "token_accuracy: 0.99, accuracy: 0.95, loss: 12.82 ||: 100%|##########| 1165/1165 [01:08<00:00, 16.91it/s]"
     ]
    },
    {
     "name": "stdout",
     "output_type": "stream",
     "text": [
      "[2018-02-11 21:01:39,046][MainProcess][allennlp.training.trainer][INFO] Validating\n"
     ]
    },
    {
     "name": "stderr",
     "output_type": "stream",
     "text": [
      "\n",
      "token_accuracy: 0.99, accuracy: 0.94, loss: 16.33 ||: 100%|##########| 167/167 [00:05<00:00, 30.22it/s]\n"
     ]
    },
    {
     "name": "stdout",
     "output_type": "stream",
     "text": [
      "[2018-02-11 21:01:44,784][MainProcess][allennlp.training.trainer][INFO] Best validation performance so far. Copying weights to '../../experiments/subject_recognition_grid_search_2.02_11_20:56:18/best.th'.\n",
      "[2018-02-11 21:01:44,972][MainProcess][allennlp.training.trainer][INFO] Training token_accuracy : 0.988626    Validation token_accuracy : 0.985131 \n",
      "[2018-02-11 21:01:44,975][MainProcess][allennlp.training.trainer][INFO] Training accuracy : 0.952925    Validation accuracy : 0.942431 \n",
      "[2018-02-11 21:01:44,977][MainProcess][allennlp.training.trainer][INFO] Training loss : 12.821217    Validation loss : 16.327457 \n",
      "[2018-02-11 21:01:44,979][MainProcess][allennlp.training.trainer][INFO] Epoch duration: 00:01:14\n",
      "[2018-02-11 21:01:44,980][MainProcess][allennlp.training.trainer][INFO] Estimated training time remaining: 01:59:43\n",
      "[2018-02-11 21:01:44,982][MainProcess][allennlp.training.trainer][INFO] Epoch 4/99\n"
     ]
    },
    {
     "name": "stderr",
     "output_type": "stream",
     "text": [
      "\r",
      "  0%|          | 0/1165 [00:00<?, ?it/s]"
     ]
    },
    {
     "name": "stdout",
     "output_type": "stream",
     "text": [
      "[2018-02-11 21:01:44,985][MainProcess][allennlp.training.trainer][INFO] Training\n"
     ]
    },
    {
     "name": "stderr",
     "output_type": "stream",
     "text": [
      "token_accuracy: 0.99, accuracy: 0.96, loss: 10.12 ||: 100%|##########| 1165/1165 [01:09<00:00, 16.80it/s]"
     ]
    },
    {
     "name": "stdout",
     "output_type": "stream",
     "text": [
      "[2018-02-11 21:02:54,331][MainProcess][allennlp.training.trainer][INFO] Validating\n"
     ]
    },
    {
     "name": "stderr",
     "output_type": "stream",
     "text": [
      "\n",
      "token_accuracy: 0.98, accuracy: 0.94, loss: 15.27 ||: 100%|##########| 167/167 [00:05<00:00, 30.27it/s]\n"
     ]
    },
    {
     "name": "stdout",
     "output_type": "stream",
     "text": [
      "[2018-02-11 21:03:00,063][MainProcess][allennlp.training.trainer][INFO] Best validation performance so far. Copying weights to '../../experiments/subject_recognition_grid_search_2.02_11_20:56:18/best.th'.\n",
      "[2018-02-11 21:03:00,257][MainProcess][allennlp.training.trainer][INFO] Training token_accuracy : 0.989653    Validation token_accuracy : 0.984198 \n",
      "[2018-02-11 21:03:00,262][MainProcess][allennlp.training.trainer][INFO] Training accuracy : 0.961755    Validation accuracy : 0.943933 \n",
      "[2018-02-11 21:03:00,264][MainProcess][allennlp.training.trainer][INFO] Training loss : 10.124290    Validation loss : 15.274381 \n",
      "[2018-02-11 21:03:00,267][MainProcess][allennlp.training.trainer][INFO] Epoch duration: 00:01:15\n",
      "[2018-02-11 21:03:00,270][MainProcess][allennlp.training.trainer][INFO] Estimated training time remaining: 01:58:37\n",
      "[2018-02-11 21:03:00,272][MainProcess][allennlp.training.trainer][INFO] Epoch 5/99\n"
     ]
    },
    {
     "name": "stderr",
     "output_type": "stream",
     "text": [
      "\r",
      "  0%|          | 0/1165 [00:00<?, ?it/s]"
     ]
    },
    {
     "name": "stdout",
     "output_type": "stream",
     "text": [
      "[2018-02-11 21:03:00,281][MainProcess][allennlp.training.trainer][INFO] Training\n"
     ]
    },
    {
     "name": "stderr",
     "output_type": "stream",
     "text": [
      "token_accuracy: 0.99, accuracy: 0.97, loss: 7.79 ||: 100%|##########| 1165/1165 [01:08<00:00, 16.92it/s]"
     ]
    },
    {
     "name": "stdout",
     "output_type": "stream",
     "text": [
      "[2018-02-11 21:04:09,129][MainProcess][allennlp.training.trainer][INFO] Validating\n"
     ]
    },
    {
     "name": "stderr",
     "output_type": "stream",
     "text": [
      "\n",
      "token_accuracy: 0.98, accuracy: 0.95, loss: 18.22 ||: 100%|##########| 167/167 [00:05<00:00, 30.19it/s]\n"
     ]
    },
    {
     "name": "stdout",
     "output_type": "stream",
     "text": [
      "[2018-02-11 21:04:14,878][MainProcess][allennlp.training.trainer][INFO] Best validation performance so far. Copying weights to '../../experiments/subject_recognition_grid_search_2.02_11_20:56:18/best.th'.\n",
      "[2018-02-11 21:04:15,041][MainProcess][allennlp.training.trainer][INFO] Training token_accuracy : 0.990508    Validation token_accuracy : 0.983161 \n",
      "[2018-02-11 21:04:15,046][MainProcess][allennlp.training.trainer][INFO] Training accuracy : 0.969176    Validation accuracy : 0.945154 \n",
      "[2018-02-11 21:04:15,049][MainProcess][allennlp.training.trainer][INFO] Training loss : 7.791410    Validation loss : 18.217968 \n",
      "[2018-02-11 21:04:15,052][MainProcess][allennlp.training.trainer][INFO] Epoch duration: 00:01:14\n",
      "[2018-02-11 21:04:15,054][MainProcess][allennlp.training.trainer][INFO] Estimated training time remaining: 01:57:20\n",
      "[2018-02-11 21:04:15,056][MainProcess][allennlp.training.trainer][INFO] Epoch 6/99\n"
     ]
    },
    {
     "name": "stderr",
     "output_type": "stream",
     "text": [
      "\r",
      "  0%|          | 0/1165 [00:00<?, ?it/s]"
     ]
    },
    {
     "name": "stdout",
     "output_type": "stream",
     "text": [
      "[2018-02-11 21:04:15,061][MainProcess][allennlp.training.trainer][INFO] Training\n"
     ]
    },
    {
     "name": "stderr",
     "output_type": "stream",
     "text": [
      "token_accuracy: 0.99, accuracy: 0.98, loss: 6.16 ||: 100%|##########| 1165/1165 [01:08<00:00, 16.90it/s]"
     ]
    },
    {
     "name": "stdout",
     "output_type": "stream",
     "text": [
      "[2018-02-11 21:05:24,006][MainProcess][allennlp.training.trainer][INFO] Validating\n"
     ]
    },
    {
     "name": "stderr",
     "output_type": "stream",
     "text": [
      "\n",
      "token_accuracy: 0.98, accuracy: 0.95, loss: 16.50 ||: 100%|##########| 167/167 [00:05<00:00, 30.18it/s]\n"
     ]
    },
    {
     "name": "stdout",
     "output_type": "stream",
     "text": [
      "[2018-02-11 21:05:29,753][MainProcess][allennlp.training.trainer][INFO] Best validation performance so far. Copying weights to '../../experiments/subject_recognition_grid_search_2.02_11_20:56:18/best.th'.\n",
      "[2018-02-11 21:05:29,912][MainProcess][allennlp.training.trainer][INFO] Training token_accuracy : 0.991532    Validation token_accuracy : 0.984302 \n",
      "[2018-02-11 21:05:29,916][MainProcess][allennlp.training.trainer][INFO] Training accuracy : 0.975550    Validation accuracy : 0.947408 \n",
      "[2018-02-11 21:05:29,918][MainProcess][allennlp.training.trainer][INFO] Training loss : 6.159894    Validation loss : 16.503849 \n",
      "[2018-02-11 21:05:29,921][MainProcess][allennlp.training.trainer][INFO] Epoch duration: 00:01:14\n",
      "[2018-02-11 21:05:29,923][MainProcess][allennlp.training.trainer][INFO] Estimated training time remaining: 01:56:05\n",
      "[2018-02-11 21:05:29,925][MainProcess][allennlp.training.trainer][INFO] Epoch 7/99\n"
     ]
    },
    {
     "name": "stderr",
     "output_type": "stream",
     "text": [
      "\r",
      "  0%|          | 0/1165 [00:00<?, ?it/s]"
     ]
    },
    {
     "name": "stdout",
     "output_type": "stream",
     "text": [
      "[2018-02-11 21:05:29,930][MainProcess][allennlp.training.trainer][INFO] Training\n"
     ]
    },
    {
     "name": "stderr",
     "output_type": "stream",
     "text": [
      "token_accuracy: 0.99, accuracy: 0.98, loss: 4.99 ||: 100%|##########| 1165/1165 [01:09<00:00, 16.81it/s]"
     ]
    },
    {
     "name": "stdout",
     "output_type": "stream",
     "text": [
      "[2018-02-11 21:06:39,229][MainProcess][allennlp.training.trainer][INFO] Validating\n"
     ]
    },
    {
     "name": "stderr",
     "output_type": "stream",
     "text": [
      "\n",
      "token_accuracy: 0.98, accuracy: 0.95, loss: 17.39 ||: 100%|##########| 167/167 [00:05<00:00, 30.37it/s]\n"
     ]
    },
    {
     "name": "stdout",
     "output_type": "stream",
     "text": [
      "[2018-02-11 21:06:44,946][MainProcess][allennlp.training.trainer][INFO] Best validation performance so far. Copying weights to '../../experiments/subject_recognition_grid_search_2.02_11_20:56:18/best.th'.\n",
      "[2018-02-11 21:06:45,128][MainProcess][allennlp.training.trainer][INFO] Training token_accuracy : 0.992349    Validation token_accuracy : 0.983852 \n",
      "[2018-02-11 21:06:45,133][MainProcess][allennlp.training.trainer][INFO] Training accuracy : 0.979361    Validation accuracy : 0.947502 \n",
      "[2018-02-11 21:06:45,135][MainProcess][allennlp.training.trainer][INFO] Training loss : 4.985567    Validation loss : 17.390350 \n",
      "[2018-02-11 21:06:45,137][MainProcess][allennlp.training.trainer][INFO] Epoch duration: 00:01:15\n",
      "[2018-02-11 21:06:45,140][MainProcess][allennlp.training.trainer][INFO] Estimated training time remaining: 01:54:53\n",
      "[2018-02-11 21:06:45,142][MainProcess][allennlp.training.trainer][INFO] Epoch 8/99\n"
     ]
    },
    {
     "name": "stderr",
     "output_type": "stream",
     "text": [
      "\r",
      "  0%|          | 0/1165 [00:00<?, ?it/s]"
     ]
    },
    {
     "name": "stdout",
     "output_type": "stream",
     "text": [
      "[2018-02-11 21:06:45,148][MainProcess][allennlp.training.trainer][INFO] Training\n"
     ]
    },
    {
     "name": "stderr",
     "output_type": "stream",
     "text": [
      "token_accuracy: 0.99, accuracy: 0.98, loss: 4.17 ||: 100%|##########| 1165/1165 [01:08<00:00, 16.97it/s]"
     ]
    },
    {
     "name": "stdout",
     "output_type": "stream",
     "text": [
      "[2018-02-11 21:07:53,819][MainProcess][allennlp.training.trainer][INFO] Validating\n"
     ]
    },
    {
     "name": "stderr",
     "output_type": "stream",
     "text": [
      "\n",
      "token_accuracy: 0.98, accuracy: 0.95, loss: 19.63 ||: 100%|##########| 167/167 [00:05<00:00, 30.18it/s]\n"
     ]
    },
    {
     "name": "stdout",
     "output_type": "stream",
     "text": [
      "[2018-02-11 21:07:59,572][MainProcess][allennlp.training.trainer][INFO] Training token_accuracy : 0.993079    Validation token_accuracy : 0.984705 \n",
      "[2018-02-11 21:07:59,573][MainProcess][allennlp.training.trainer][INFO] Training accuracy : 0.983454    Validation accuracy : 0.947408 \n",
      "[2018-02-11 21:07:59,574][MainProcess][allennlp.training.trainer][INFO] Training loss : 4.173982    Validation loss : 19.633358 \n",
      "[2018-02-11 21:07:59,575][MainProcess][allennlp.training.trainer][INFO] Epoch duration: 00:01:14\n",
      "[2018-02-11 21:07:59,575][MainProcess][allennlp.training.trainer][INFO] Estimated training time remaining: 01:53:33\n",
      "[2018-02-11 21:07:59,576][MainProcess][allennlp.training.trainer][INFO] Epoch 9/99\n"
     ]
    },
    {
     "name": "stderr",
     "output_type": "stream",
     "text": [
      "\r",
      "  0%|          | 0/1165 [00:00<?, ?it/s]"
     ]
    },
    {
     "name": "stdout",
     "output_type": "stream",
     "text": [
      "[2018-02-11 21:07:59,577][MainProcess][allennlp.training.trainer][INFO] Training\n"
     ]
    },
    {
     "name": "stderr",
     "output_type": "stream",
     "text": [
      "token_accuracy: 0.99, accuracy: 0.99, loss: 3.36 ||: 100%|##########| 1165/1165 [01:09<00:00, 16.77it/s]"
     ]
    },
    {
     "name": "stdout",
     "output_type": "stream",
     "text": [
      "[2018-02-11 21:09:09,065][MainProcess][allennlp.training.trainer][INFO] Validating\n"
     ]
    },
    {
     "name": "stderr",
     "output_type": "stream",
     "text": [
      "\n",
      "token_accuracy: 0.98, accuracy: 0.95, loss: 20.44 ||: 100%|##########| 167/167 [00:05<00:00, 30.28it/s]\n"
     ]
    },
    {
     "name": "stdout",
     "output_type": "stream",
     "text": [
      "[2018-02-11 21:09:14,795][MainProcess][allennlp.training.trainer][INFO] Best validation performance so far. Copying weights to '../../experiments/subject_recognition_grid_search_2.02_11_20:56:18/best.th'.\n",
      "[2018-02-11 21:09:14,963][MainProcess][allennlp.training.trainer][INFO] Training token_accuracy : 0.994059    Validation token_accuracy : 0.984232 \n",
      "[2018-02-11 21:09:14,968][MainProcess][allennlp.training.trainer][INFO] Training accuracy : 0.985507    Validation accuracy : 0.948065 \n",
      "[2018-02-11 21:09:14,970][MainProcess][allennlp.training.trainer][INFO] Training loss : 3.358122    Validation loss : 20.444872 \n",
      "[2018-02-11 21:09:14,973][MainProcess][allennlp.training.trainer][INFO] Epoch duration: 00:01:15\n",
      "[2018-02-11 21:09:14,975][MainProcess][allennlp.training.trainer][INFO] Estimated training time remaining: 01:52:23\n",
      "[2018-02-11 21:09:14,980][MainProcess][allennlp.training.trainer][INFO] Epoch 10/99\n"
     ]
    },
    {
     "name": "stderr",
     "output_type": "stream",
     "text": [
      "\r",
      "  0%|          | 0/1165 [00:00<?, ?it/s]"
     ]
    },
    {
     "name": "stdout",
     "output_type": "stream",
     "text": [
      "[2018-02-11 21:09:14,986][MainProcess][allennlp.training.trainer][INFO] Training\n"
     ]
    },
    {
     "name": "stderr",
     "output_type": "stream",
     "text": [
      "token_accuracy: 1.00, accuracy: 0.99, loss: 2.76 ||: 100%|##########| 1165/1165 [01:08<00:00, 16.92it/s]"
     ]
    },
    {
     "name": "stdout",
     "output_type": "stream",
     "text": [
      "[2018-02-11 21:10:23,840][MainProcess][allennlp.training.trainer][INFO] Validating\n"
     ]
    },
    {
     "name": "stderr",
     "output_type": "stream",
     "text": [
      "\n",
      "token_accuracy: 0.99, accuracy: 0.95, loss: 21.90 ||: 100%|##########| 167/167 [00:05<00:00, 30.07it/s]\n"
     ]
    },
    {
     "name": "stdout",
     "output_type": "stream",
     "text": [
      "[2018-02-11 21:10:29,607][MainProcess][allennlp.training.trainer][INFO] Best validation performance so far. Copying weights to '../../experiments/subject_recognition_grid_search_2.02_11_20:56:18/best.th'.\n",
      "[2018-02-11 21:10:29,781][MainProcess][allennlp.training.trainer][INFO] Training token_accuracy : 0.995166    Validation token_accuracy : 0.986835 \n",
      "[2018-02-11 21:10:29,785][MainProcess][allennlp.training.trainer][INFO] Training accuracy : 0.987923    Validation accuracy : 0.950789 \n",
      "[2018-02-11 21:10:29,787][MainProcess][allennlp.training.trainer][INFO] Training loss : 2.760710    Validation loss : 21.904991 \n",
      "[2018-02-11 21:10:29,789][MainProcess][allennlp.training.trainer][INFO] Epoch duration: 00:01:14\n",
      "[2018-02-11 21:10:29,790][MainProcess][allennlp.training.trainer][INFO] Estimated training time remaining: 01:51:07\n",
      "[2018-02-11 21:10:29,791][MainProcess][allennlp.training.trainer][INFO] Epoch 11/99\n"
     ]
    },
    {
     "name": "stderr",
     "output_type": "stream",
     "text": [
      "\r",
      "  0%|          | 0/1165 [00:00<?, ?it/s]"
     ]
    },
    {
     "name": "stdout",
     "output_type": "stream",
     "text": [
      "[2018-02-11 21:10:29,797][MainProcess][allennlp.training.trainer][INFO] Training\n"
     ]
    },
    {
     "name": "stderr",
     "output_type": "stream",
     "text": [
      "token_accuracy: 1.00, accuracy: 0.99, loss: 2.50 ||: 100%|##########| 1165/1165 [01:08<00:00, 16.90it/s]"
     ]
    },
    {
     "name": "stdout",
     "output_type": "stream",
     "text": [
      "[2018-02-11 21:11:38,728][MainProcess][allennlp.training.trainer][INFO] Validating\n"
     ]
    },
    {
     "name": "stderr",
     "output_type": "stream",
     "text": [
      "\n",
      "token_accuracy: 0.99, accuracy: 0.95, loss: 21.72 ||: 100%|##########| 167/167 [00:05<00:00, 30.48it/s]\n"
     ]
    },
    {
     "name": "stdout",
     "output_type": "stream",
     "text": [
      "[2018-02-11 21:11:44,416][MainProcess][allennlp.training.trainer][INFO] Training token_accuracy : 0.995440    Validation token_accuracy : 0.985108 \n",
      "[2018-02-11 21:11:44,418][MainProcess][allennlp.training.trainer][INFO] Training accuracy : 0.989694    Validation accuracy : 0.947971 \n",
      "[2018-02-11 21:11:44,418][MainProcess][allennlp.training.trainer][INFO] Training loss : 2.498984    Validation loss : 21.721426 \n",
      "[2018-02-11 21:11:44,419][MainProcess][allennlp.training.trainer][INFO] Epoch duration: 00:01:14\n",
      "[2018-02-11 21:11:44,420][MainProcess][allennlp.training.trainer][INFO] Estimated training time remaining: 01:49:50\n",
      "[2018-02-11 21:11:44,420][MainProcess][allennlp.training.trainer][INFO] Epoch 12/99\n"
     ]
    },
    {
     "name": "stderr",
     "output_type": "stream",
     "text": [
      "\r",
      "  0%|          | 0/1165 [00:00<?, ?it/s]"
     ]
    },
    {
     "name": "stdout",
     "output_type": "stream",
     "text": [
      "[2018-02-11 21:11:44,422][MainProcess][allennlp.training.trainer][INFO] Training\n"
     ]
    },
    {
     "name": "stderr",
     "output_type": "stream",
     "text": [
      "token_accuracy: 1.00, accuracy: 0.99, loss: 2.18 ||: 100%|##########| 1165/1165 [01:09<00:00, 16.80it/s]"
     ]
    },
    {
     "name": "stdout",
     "output_type": "stream",
     "text": [
      "[2018-02-11 21:12:53,782][MainProcess][allennlp.training.trainer][INFO] Validating\n"
     ]
    },
    {
     "name": "stderr",
     "output_type": "stream",
     "text": [
      "\n",
      "token_accuracy: 0.99, accuracy: 0.95, loss: 21.34 ||: 100%|##########| 167/167 [00:05<00:00, 30.26it/s]\n"
     ]
    },
    {
     "name": "stdout",
     "output_type": "stream",
     "text": [
      "[2018-02-11 21:12:59,517][MainProcess][allennlp.training.trainer][INFO] Training token_accuracy : 0.995910    Validation token_accuracy : 0.986006 \n",
      "[2018-02-11 21:12:59,519][MainProcess][allennlp.training.trainer][INFO] Training accuracy : 0.990996    Validation accuracy : 0.949756 \n",
      "[2018-02-11 21:12:59,519][MainProcess][allennlp.training.trainer][INFO] Training loss : 2.175278    Validation loss : 21.339138 \n",
      "[2018-02-11 21:12:59,520][MainProcess][allennlp.training.trainer][INFO] Epoch duration: 00:01:15\n",
      "[2018-02-11 21:12:59,521][MainProcess][allennlp.training.trainer][INFO] Estimated training time remaining: 01:48:37\n",
      "[2018-02-11 21:12:59,521][MainProcess][allennlp.training.trainer][INFO] Epoch 13/99\n"
     ]
    },
    {
     "name": "stderr",
     "output_type": "stream",
     "text": [
      "\r",
      "  0%|          | 0/1165 [00:00<?, ?it/s]"
     ]
    },
    {
     "name": "stdout",
     "output_type": "stream",
     "text": [
      "[2018-02-11 21:12:59,525][MainProcess][allennlp.training.trainer][INFO] Training\n"
     ]
    },
    {
     "name": "stderr",
     "output_type": "stream",
     "text": [
      "token_accuracy: 1.00, accuracy: 0.99, loss: 1.86 ||: 100%|##########| 1165/1165 [01:09<00:00, 16.88it/s]"
     ]
    },
    {
     "name": "stdout",
     "output_type": "stream",
     "text": [
      "[2018-02-11 21:14:08,532][MainProcess][allennlp.training.trainer][INFO] Validating\n"
     ]
    },
    {
     "name": "stderr",
     "output_type": "stream",
     "text": [
      "\n",
      "token_accuracy: 0.99, accuracy: 0.95, loss: 22.73 ||: 100%|##########| 167/167 [00:05<00:00, 30.19it/s]\n"
     ]
    },
    {
     "name": "stdout",
     "output_type": "stream",
     "text": [
      "[2018-02-11 21:14:14,285][MainProcess][allennlp.training.trainer][INFO] Training token_accuracy : 0.996590    Validation token_accuracy : 0.986467 \n",
      "[2018-02-11 21:14:14,286][MainProcess][allennlp.training.trainer][INFO] Training accuracy : 0.991895    Validation accuracy : 0.950319 \n",
      "[2018-02-11 21:14:14,286][MainProcess][allennlp.training.trainer][INFO] Training loss : 1.861929    Validation loss : 22.733257 \n",
      "[2018-02-11 21:14:14,287][MainProcess][allennlp.training.trainer][INFO] Epoch duration: 00:01:14\n",
      "[2018-02-11 21:14:14,288][MainProcess][allennlp.training.trainer][INFO] Estimated training time remaining: 01:47:21\n",
      "[2018-02-11 21:14:14,289][MainProcess][allennlp.training.trainer][INFO] Epoch 14/99\n"
     ]
    },
    {
     "name": "stderr",
     "output_type": "stream",
     "text": [
      "\r",
      "  0%|          | 0/1165 [00:00<?, ?it/s]"
     ]
    },
    {
     "name": "stdout",
     "output_type": "stream",
     "text": [
      "[2018-02-11 21:14:14,290][MainProcess][allennlp.training.trainer][INFO] Training\n"
     ]
    },
    {
     "name": "stderr",
     "output_type": "stream",
     "text": [
      "token_accuracy: 1.00, accuracy: 1.00, loss: 0.94 ||: 100%|##########| 1165/1165 [01:10<00:00, 16.53it/s]"
     ]
    },
    {
     "name": "stdout",
     "output_type": "stream",
     "text": [
      "[2018-02-11 21:15:24,757][MainProcess][allennlp.training.trainer][INFO] Validating\n"
     ]
    },
    {
     "name": "stderr",
     "output_type": "stream",
     "text": [
      "\n",
      "token_accuracy: 0.99, accuracy: 0.95, loss: 28.06 ||: 100%|##########| 167/167 [00:05<00:00, 29.82it/s]\n"
     ]
    },
    {
     "name": "stdout",
     "output_type": "stream",
     "text": [
      "[2018-02-11 21:15:30,573][MainProcess][allennlp.training.trainer][INFO] Training token_accuracy : 0.998131    Validation token_accuracy : 0.987722 \n",
      "[2018-02-11 21:15:30,574][MainProcess][allennlp.training.trainer][INFO] Training accuracy : 0.996337    Validation accuracy : 0.950413 \n",
      "[2018-02-11 21:15:30,575][MainProcess][allennlp.training.trainer][INFO] Training loss : 0.940635    Validation loss : 28.056225 \n",
      "[2018-02-11 21:15:30,575][MainProcess][allennlp.training.trainer][INFO] Epoch duration: 00:01:16\n",
      "[2018-02-11 21:15:30,576][MainProcess][allennlp.training.trainer][INFO] Estimated training time remaining: 01:46:14\n",
      "[2018-02-11 21:15:30,576][MainProcess][allennlp.training.trainer][INFO] Epoch 15/99\n"
     ]
    },
    {
     "name": "stderr",
     "output_type": "stream",
     "text": [
      "\r",
      "  0%|          | 0/1165 [00:00<?, ?it/s]"
     ]
    },
    {
     "name": "stdout",
     "output_type": "stream",
     "text": [
      "[2018-02-11 21:15:30,578][MainProcess][allennlp.training.trainer][INFO] Training\n"
     ]
    },
    {
     "name": "stderr",
     "output_type": "stream",
     "text": [
      "token_accuracy: 1.00, accuracy: 1.00, loss: 0.53 ||: 100%|##########| 1165/1165 [01:12<00:00, 16.11it/s]"
     ]
    },
    {
     "name": "stdout",
     "output_type": "stream",
     "text": [
      "[2018-02-11 21:16:42,891][MainProcess][allennlp.training.trainer][INFO] Validating\n"
     ]
    },
    {
     "name": "stderr",
     "output_type": "stream",
     "text": [
      "\n",
      "token_accuracy: 0.99, accuracy: 0.95, loss: 28.82 ||: 100%|##########| 167/167 [00:05<00:00, 29.56it/s]\n"
     ]
    },
    {
     "name": "stdout",
     "output_type": "stream",
     "text": [
      "[2018-02-11 21:16:48,758][MainProcess][allennlp.training.trainer][INFO] Best validation performance so far. Copying weights to '../../experiments/subject_recognition_grid_search_2.02_11_20:56:18/best.th'.\n",
      "[2018-02-11 21:16:48,948][MainProcess][allennlp.training.trainer][INFO] Training token_accuracy : 0.998979    Validation token_accuracy : 0.987688 \n",
      "[2018-02-11 21:16:48,953][MainProcess][allennlp.training.trainer][INFO] Training accuracy : 0.997947    Validation accuracy : 0.952292 \n",
      "[2018-02-11 21:16:48,957][MainProcess][allennlp.training.trainer][INFO] Training loss : 0.526364    Validation loss : 28.819132 \n",
      "[2018-02-11 21:16:48,959][MainProcess][allennlp.training.trainer][INFO] Epoch duration: 00:01:18\n",
      "[2018-02-11 21:16:48,962][MainProcess][allennlp.training.trainer][INFO] Estimated training time remaining: 01:45:17\n",
      "[2018-02-11 21:16:48,964][MainProcess][allennlp.training.trainer][INFO] Epoch 16/99\n"
     ]
    },
    {
     "name": "stderr",
     "output_type": "stream",
     "text": [
      "\r",
      "  0%|          | 0/1165 [00:00<?, ?it/s]"
     ]
    },
    {
     "name": "stdout",
     "output_type": "stream",
     "text": [
      "[2018-02-11 21:16:48,973][MainProcess][allennlp.training.trainer][INFO] Training\n"
     ]
    },
    {
     "name": "stderr",
     "output_type": "stream",
     "text": [
      "token_accuracy: 1.00, accuracy: 1.00, loss: 0.60 ||: 100%|##########| 1165/1165 [01:09<00:00, 16.69it/s]"
     ]
    },
    {
     "name": "stdout",
     "output_type": "stream",
     "text": [
      "[2018-02-11 21:17:58,760][MainProcess][allennlp.training.trainer][INFO] Validating\n"
     ]
    },
    {
     "name": "stderr",
     "output_type": "stream",
     "text": [
      "\n",
      "token_accuracy: 0.99, accuracy: 0.95, loss: 28.94 ||: 100%|##########| 167/167 [00:05<00:00, 30.32it/s]\n"
     ]
    },
    {
     "name": "stdout",
     "output_type": "stream",
     "text": [
      "[2018-02-11 21:18:04,482][MainProcess][allennlp.training.trainer][INFO] Best validation performance so far. Copying weights to '../../experiments/subject_recognition_grid_search_2.02_11_20:56:18/best.th'.\n",
      "[2018-02-11 21:18:04,654][MainProcess][allennlp.training.trainer][INFO] Training token_accuracy : 0.999109    Validation token_accuracy : 0.988367 \n",
      "[2018-02-11 21:18:04,656][MainProcess][allennlp.training.trainer][INFO] Training accuracy : 0.997678    Validation accuracy : 0.952479 \n",
      "[2018-02-11 21:18:04,657][MainProcess][allennlp.training.trainer][INFO] Training loss : 0.596444    Validation loss : 28.935150 \n",
      "[2018-02-11 21:18:04,659][MainProcess][allennlp.training.trainer][INFO] Epoch duration: 00:01:15\n",
      "[2018-02-11 21:18:04,660][MainProcess][allennlp.training.trainer][INFO] Estimated training time remaining: 01:44:04\n",
      "[2018-02-11 21:18:04,661][MainProcess][allennlp.training.trainer][INFO] Epoch 17/99\n"
     ]
    },
    {
     "name": "stderr",
     "output_type": "stream",
     "text": [
      "\r",
      "  0%|          | 0/1165 [00:00<?, ?it/s]"
     ]
    },
    {
     "name": "stdout",
     "output_type": "stream",
     "text": [
      "[2018-02-11 21:18:04,665][MainProcess][allennlp.training.trainer][INFO] Training\n"
     ]
    },
    {
     "name": "stderr",
     "output_type": "stream",
     "text": [
      "token_accuracy: 1.00, accuracy: 1.00, loss: 0.49 ||: 100%|##########| 1165/1165 [01:09<00:00, 16.67it/s]"
     ]
    },
    {
     "name": "stdout",
     "output_type": "stream",
     "text": [
      "[2018-02-11 21:19:14,544][MainProcess][allennlp.training.trainer][INFO] Validating\n"
     ]
    },
    {
     "name": "stderr",
     "output_type": "stream",
     "text": [
      "\n",
      "token_accuracy: 0.99, accuracy: 0.95, loss: 33.67 ||: 100%|##########| 167/167 [00:05<00:00, 30.98it/s]\n"
     ]
    },
    {
     "name": "stdout",
     "output_type": "stream",
     "text": [
      "[2018-02-11 21:19:20,148][MainProcess][allennlp.training.trainer][INFO] Best validation performance so far. Copying weights to '../../experiments/subject_recognition_grid_search_2.02_11_20:56:18/best.th'.\n",
      "[2018-02-11 21:19:20,291][MainProcess][allennlp.training.trainer][INFO] Training token_accuracy : 0.999230    Validation token_accuracy : 0.988713 \n",
      "[2018-02-11 21:19:20,292][MainProcess][allennlp.training.trainer][INFO] Training accuracy : 0.998054    Validation accuracy : 0.953512 \n",
      "[2018-02-11 21:19:20,295][MainProcess][allennlp.training.trainer][INFO] Training loss : 0.491459    Validation loss : 33.668362 \n",
      "[2018-02-11 21:19:20,296][MainProcess][allennlp.training.trainer][INFO] Epoch duration: 00:01:15\n",
      "[2018-02-11 21:19:20,298][MainProcess][allennlp.training.trainer][INFO] Estimated training time remaining: 01:42:51\n",
      "[2018-02-11 21:19:20,298][MainProcess][allennlp.training.trainer][INFO] Epoch 18/99\n"
     ]
    },
    {
     "name": "stderr",
     "output_type": "stream",
     "text": [
      "\r",
      "  0%|          | 0/1165 [00:00<?, ?it/s]"
     ]
    },
    {
     "name": "stdout",
     "output_type": "stream",
     "text": [
      "[2018-02-11 21:19:20,301][MainProcess][allennlp.training.trainer][INFO] Training\n"
     ]
    },
    {
     "name": "stderr",
     "output_type": "stream",
     "text": [
      "token_accuracy: 1.00, accuracy: 1.00, loss: 0.47 ||: 100%|##########| 1165/1165 [01:08<00:00, 17.11it/s]"
     ]
    },
    {
     "name": "stdout",
     "output_type": "stream",
     "text": [
      "[2018-02-11 21:20:28,390][MainProcess][allennlp.training.trainer][INFO] Validating\n"
     ]
    },
    {
     "name": "stderr",
     "output_type": "stream",
     "text": [
      "\n",
      "token_accuracy: 0.99, accuracy: 0.95, loss: 33.33 ||: 100%|##########| 167/167 [00:05<00:00, 31.18it/s]\n"
     ]
    },
    {
     "name": "stdout",
     "output_type": "stream",
     "text": [
      "[2018-02-11 21:20:33,977][MainProcess][allennlp.training.trainer][INFO] Training token_accuracy : 0.999329    Validation token_accuracy : 0.988379 \n",
      "[2018-02-11 21:20:33,978][MainProcess][allennlp.training.trainer][INFO] Training accuracy : 0.998094    Validation accuracy : 0.952855 \n",
      "[2018-02-11 21:20:33,979][MainProcess][allennlp.training.trainer][INFO] Training loss : 0.467782    Validation loss : 33.327091 \n",
      "[2018-02-11 21:20:33,979][MainProcess][allennlp.training.trainer][INFO] Epoch duration: 00:01:13\n",
      "[2018-02-11 21:20:33,980][MainProcess][allennlp.training.trainer][INFO] Estimated training time remaining: 01:41:29\n",
      "[2018-02-11 21:20:33,981][MainProcess][allennlp.training.trainer][INFO] Epoch 19/99\n"
     ]
    },
    {
     "name": "stderr",
     "output_type": "stream",
     "text": [
      "\r",
      "  0%|          | 0/1165 [00:00<?, ?it/s]"
     ]
    },
    {
     "name": "stdout",
     "output_type": "stream",
     "text": [
      "[2018-02-11 21:20:33,984][MainProcess][allennlp.training.trainer][INFO] Training\n"
     ]
    },
    {
     "name": "stderr",
     "output_type": "stream",
     "text": [
      "token_accuracy: 1.00, accuracy: 1.00, loss: 0.67 ||: 100%|##########| 1165/1165 [01:10<00:00, 16.47it/s]"
     ]
    },
    {
     "name": "stdout",
     "output_type": "stream",
     "text": [
      "[2018-02-11 21:21:44,717][MainProcess][allennlp.training.trainer][INFO] Validating\n"
     ]
    },
    {
     "name": "stderr",
     "output_type": "stream",
     "text": [
      "\n",
      "token_accuracy: 0.99, accuracy: 0.95, loss: 30.70 ||: 100%|##########| 167/167 [00:06<00:00, 27.56it/s]\n"
     ]
    },
    {
     "name": "stdout",
     "output_type": "stream",
     "text": [
      "[2018-02-11 21:21:51,024][MainProcess][allennlp.training.trainer][INFO] Best validation performance so far. Copying weights to '../../experiments/subject_recognition_grid_search_2.02_11_20:56:18/best.th'.\n",
      "[2018-02-11 21:21:51,354][MainProcess][allennlp.training.trainer][INFO] Training token_accuracy : 0.999080    Validation token_accuracy : 0.988482 \n",
      "[2018-02-11 21:21:51,360][MainProcess][allennlp.training.trainer][INFO] Training accuracy : 0.997692    Validation accuracy : 0.953700 \n",
      "[2018-02-11 21:21:51,365][MainProcess][allennlp.training.trainer][INFO] Training loss : 0.671886    Validation loss : 30.703651 \n",
      "[2018-02-11 21:21:51,380][MainProcess][allennlp.training.trainer][INFO] Epoch duration: 00:01:17\n",
      "[2018-02-11 21:21:51,384][MainProcess][allennlp.training.trainer][INFO] Estimated training time remaining: 01:40:22\n",
      "[2018-02-11 21:21:51,389][MainProcess][allennlp.training.trainer][INFO] Epoch 20/99\n"
     ]
    },
    {
     "name": "stderr",
     "output_type": "stream",
     "text": [
      "\r",
      "  0%|          | 0/1165 [00:00<?, ?it/s]"
     ]
    },
    {
     "name": "stdout",
     "output_type": "stream",
     "text": [
      "[2018-02-11 21:21:51,399][MainProcess][allennlp.training.trainer][INFO] Training\n"
     ]
    },
    {
     "name": "stderr",
     "output_type": "stream",
     "text": [
      "token_accuracy: 1.00, accuracy: 1.00, loss: 0.50 ||: 100%|##########| 1165/1165 [01:11<00:00, 16.34it/s]"
     ]
    },
    {
     "name": "stdout",
     "output_type": "stream",
     "text": [
      "[2018-02-11 21:23:02,695][MainProcess][allennlp.training.trainer][INFO] Validating\n"
     ]
    },
    {
     "name": "stderr",
     "output_type": "stream",
     "text": [
      "\n",
      "token_accuracy: 0.99, accuracy: 0.95, loss: 30.67 ||: 100%|##########| 167/167 [00:05<00:00, 28.58it/s]\n"
     ]
    },
    {
     "name": "stdout",
     "output_type": "stream",
     "text": [
      "[2018-02-11 21:23:08,762][MainProcess][allennlp.training.trainer][INFO] Training token_accuracy : 0.999367    Validation token_accuracy : 0.988148 \n",
      "[2018-02-11 21:23:08,764][MainProcess][allennlp.training.trainer][INFO] Training accuracy : 0.998229    Validation accuracy : 0.951822 \n",
      "[2018-02-11 21:23:08,764][MainProcess][allennlp.training.trainer][INFO] Training loss : 0.504250    Validation loss : 30.672091 \n",
      "[2018-02-11 21:23:08,765][MainProcess][allennlp.training.trainer][INFO] Epoch duration: 00:01:17\n",
      "[2018-02-11 21:23:08,765][MainProcess][allennlp.training.trainer][INFO] Estimated training time remaining: 01:39:15\n",
      "[2018-02-11 21:23:08,766][MainProcess][allennlp.training.trainer][INFO] Epoch 21/99\n"
     ]
    },
    {
     "name": "stderr",
     "output_type": "stream",
     "text": [
      "\r",
      "  0%|          | 0/1165 [00:00<?, ?it/s]"
     ]
    },
    {
     "name": "stdout",
     "output_type": "stream",
     "text": [
      "[2018-02-11 21:23:08,770][MainProcess][allennlp.training.trainer][INFO] Training\n"
     ]
    },
    {
     "name": "stderr",
     "output_type": "stream",
     "text": [
      "token_accuracy: 1.00, accuracy: 1.00, loss: 0.32 ||: 100%|##########| 1165/1165 [01:12<00:00, 16.13it/s]"
     ]
    },
    {
     "name": "stdout",
     "output_type": "stream",
     "text": [
      "[2018-02-11 21:24:21,014][MainProcess][allennlp.training.trainer][INFO] Validating\n"
     ]
    },
    {
     "name": "stderr",
     "output_type": "stream",
     "text": [
      "\n",
      "token_accuracy: 0.99, accuracy: 0.95, loss: 37.28 ||: 100%|##########| 167/167 [00:05<00:00, 31.31it/s]\n"
     ]
    },
    {
     "name": "stdout",
     "output_type": "stream",
     "text": [
      "[2018-02-11 21:24:26,564][MainProcess][allennlp.training.trainer][INFO] Training token_accuracy : 0.999577    Validation token_accuracy : 0.988333 \n",
      "[2018-02-11 21:24:26,565][MainProcess][allennlp.training.trainer][INFO] Training accuracy : 0.998940    Validation accuracy : 0.951540 \n",
      "[2018-02-11 21:24:26,565][MainProcess][allennlp.training.trainer][INFO] Training loss : 0.319507    Validation loss : 37.278984 \n",
      "[2018-02-11 21:24:26,566][MainProcess][allennlp.training.trainer][INFO] Epoch duration: 00:01:17\n",
      "[2018-02-11 21:24:26,566][MainProcess][allennlp.training.trainer][INFO] Estimated training time remaining: 01:38:08\n",
      "[2018-02-11 21:24:26,567][MainProcess][allennlp.training.trainer][INFO] Epoch 22/99\n"
     ]
    },
    {
     "name": "stderr",
     "output_type": "stream",
     "text": [
      "\r",
      "  0%|          | 0/1165 [00:00<?, ?it/s]"
     ]
    },
    {
     "name": "stdout",
     "output_type": "stream",
     "text": [
      "[2018-02-11 21:24:26,568][MainProcess][allennlp.training.trainer][INFO] Training\n"
     ]
    },
    {
     "name": "stderr",
     "output_type": "stream",
     "text": [
      "token_accuracy: 1.00, accuracy: 1.00, loss: 0.58 ||: 100%|##########| 1165/1165 [01:07<00:00, 17.27it/s]"
     ]
    },
    {
     "name": "stdout",
     "output_type": "stream",
     "text": [
      "[2018-02-11 21:25:34,035][MainProcess][allennlp.training.trainer][INFO] Validating\n"
     ]
    },
    {
     "name": "stderr",
     "output_type": "stream",
     "text": [
      "\n",
      "token_accuracy: 0.99, accuracy: 0.95, loss: 30.07 ||: 100%|##########| 167/167 [00:05<00:00, 30.91it/s]\n"
     ]
    },
    {
     "name": "stdout",
     "output_type": "stream",
     "text": [
      "[2018-02-11 21:25:39,654][MainProcess][allennlp.training.trainer][INFO] Training token_accuracy : 0.999281    Validation token_accuracy : 0.987884 \n",
      "[2018-02-11 21:25:39,655][MainProcess][allennlp.training.trainer][INFO] Training accuracy : 0.998135    Validation accuracy : 0.951822 \n",
      "[2018-02-11 21:25:39,655][MainProcess][allennlp.training.trainer][INFO] Training loss : 0.576324    Validation loss : 30.069164 \n",
      "[2018-02-11 21:25:39,656][MainProcess][allennlp.training.trainer][INFO] Epoch duration: 00:01:13\n",
      "[2018-02-11 21:25:39,657][MainProcess][allennlp.training.trainer][INFO] Estimated training time remaining: 01:36:45\n",
      "[2018-02-11 21:25:39,657][MainProcess][allennlp.training.trainer][INFO] Epoch 23/99\n"
     ]
    },
    {
     "name": "stderr",
     "output_type": "stream",
     "text": [
      "\r",
      "  0%|          | 0/1165 [00:00<?, ?it/s]"
     ]
    },
    {
     "name": "stdout",
     "output_type": "stream",
     "text": [
      "[2018-02-11 21:25:39,660][MainProcess][allennlp.training.trainer][INFO] Training\n"
     ]
    },
    {
     "name": "stderr",
     "output_type": "stream",
     "text": [
      "token_accuracy: 1.00, accuracy: 1.00, loss: 0.31 ||: 100%|##########| 1165/1165 [01:07<00:00, 17.22it/s]"
     ]
    },
    {
     "name": "stdout",
     "output_type": "stream",
     "text": [
      "[2018-02-11 21:26:47,334][MainProcess][allennlp.training.trainer][INFO] Validating\n"
     ]
    },
    {
     "name": "stderr",
     "output_type": "stream",
     "text": [
      "\n",
      "token_accuracy: 0.99, accuracy: 0.95, loss: 33.05 ||: 100%|##########| 167/167 [00:05<00:00, 28.77it/s]\n"
     ]
    },
    {
     "name": "stdout",
     "output_type": "stream",
     "text": [
      "[2018-02-11 21:26:53,355][MainProcess][allennlp.training.trainer][INFO] Training token_accuracy : 0.999593    Validation token_accuracy : 0.988552 \n",
      "[2018-02-11 21:26:53,356][MainProcess][allennlp.training.trainer][INFO] Training accuracy : 0.999114    Validation accuracy : 0.952573 \n",
      "[2018-02-11 21:26:53,357][MainProcess][allennlp.training.trainer][INFO] Training loss : 0.310068    Validation loss : 33.045235 \n",
      "[2018-02-11 21:26:53,357][MainProcess][allennlp.training.trainer][INFO] Epoch duration: 00:01:13\n",
      "[2018-02-11 21:26:53,358][MainProcess][allennlp.training.trainer][INFO] Estimated training time remaining: 01:35:24\n",
      "[2018-02-11 21:26:53,359][MainProcess][allennlp.training.trainer][INFO] Epoch 24/99\n"
     ]
    },
    {
     "name": "stderr",
     "output_type": "stream",
     "text": [
      "\r",
      "  0%|          | 0/1165 [00:00<?, ?it/s]"
     ]
    },
    {
     "name": "stdout",
     "output_type": "stream",
     "text": [
      "[2018-02-11 21:26:53,362][MainProcess][allennlp.training.trainer][INFO] Training\n"
     ]
    },
    {
     "name": "stderr",
     "output_type": "stream",
     "text": [
      "token_accuracy: 1.00, accuracy: 1.00, loss: 0.25 ||: 100%|##########| 1165/1165 [01:11<00:00, 16.40it/s]"
     ]
    },
    {
     "name": "stdout",
     "output_type": "stream",
     "text": [
      "[2018-02-11 21:28:04,408][MainProcess][allennlp.training.trainer][INFO] Validating\n"
     ]
    },
    {
     "name": "stderr",
     "output_type": "stream",
     "text": [
      "\n",
      "token_accuracy: 0.99, accuracy: 0.96, loss: 33.94 ||: 100%|##########| 167/167 [00:06<00:00, 26.21it/s]\n"
     ]
    },
    {
     "name": "stdout",
     "output_type": "stream",
     "text": [
      "[2018-02-11 21:28:11,045][MainProcess][allennlp.training.trainer][INFO] Best validation performance so far. Copying weights to '../../experiments/subject_recognition_grid_search_2.02_11_20:56:18/best.th'.\n",
      "[2018-02-11 21:28:11,289][MainProcess][allennlp.training.trainer][INFO] Training token_accuracy : 0.999700    Validation token_accuracy : 0.989116 \n",
      "[2018-02-11 21:28:11,294][MainProcess][allennlp.training.trainer][INFO] Training accuracy : 0.999222    Validation accuracy : 0.955485 \n",
      "[2018-02-11 21:28:11,297][MainProcess][allennlp.training.trainer][INFO] Training loss : 0.250021    Validation loss : 33.942677 \n",
      "[2018-02-11 21:28:11,299][MainProcess][allennlp.training.trainer][INFO] Epoch duration: 00:01:17\n",
      "[2018-02-11 21:28:11,302][MainProcess][allennlp.training.trainer][INFO] Estimated training time remaining: 01:34:16\n",
      "[2018-02-11 21:28:11,305][MainProcess][allennlp.training.trainer][INFO] Epoch 25/99\n"
     ]
    },
    {
     "name": "stderr",
     "output_type": "stream",
     "text": [
      "\r",
      "  0%|          | 0/1165 [00:00<?, ?it/s]"
     ]
    },
    {
     "name": "stdout",
     "output_type": "stream",
     "text": [
      "[2018-02-11 21:28:11,311][MainProcess][allennlp.training.trainer][INFO] Training\n"
     ]
    },
    {
     "name": "stderr",
     "output_type": "stream",
     "text": [
      "token_accuracy: 1.00, accuracy: 1.00, loss: 0.17 ||: 100%|##########| 1165/1165 [01:10<00:00, 16.46it/s]"
     ]
    },
    {
     "name": "stdout",
     "output_type": "stream",
     "text": [
      "[2018-02-11 21:29:22,079][MainProcess][allennlp.training.trainer][INFO] Validating\n"
     ]
    },
    {
     "name": "stderr",
     "output_type": "stream",
     "text": [
      "\n",
      "token_accuracy: 0.99, accuracy: 0.95, loss: 37.23 ||: 100%|##########| 167/167 [00:05<00:00, 30.34it/s]\n"
     ]
    },
    {
     "name": "stdout",
     "output_type": "stream",
     "text": [
      "[2018-02-11 21:29:27,801][MainProcess][allennlp.training.trainer][INFO] Training token_accuracy : 0.999838    Validation token_accuracy : 0.988816 \n",
      "[2018-02-11 21:29:27,802][MainProcess][allennlp.training.trainer][INFO] Training accuracy : 0.999477    Validation accuracy : 0.953418 \n",
      "[2018-02-11 21:29:27,803][MainProcess][allennlp.training.trainer][INFO] Training loss : 0.168433    Validation loss : 37.228634 \n",
      "[2018-02-11 21:29:27,803][MainProcess][allennlp.training.trainer][INFO] Epoch duration: 00:01:16\n",
      "[2018-02-11 21:29:27,804][MainProcess][allennlp.training.trainer][INFO] Estimated training time remaining: 01:33:04\n",
      "[2018-02-11 21:29:27,804][MainProcess][allennlp.training.trainer][INFO] Epoch 26/99\n"
     ]
    },
    {
     "name": "stderr",
     "output_type": "stream",
     "text": [
      "\r",
      "  0%|          | 0/1165 [00:00<?, ?it/s]"
     ]
    },
    {
     "name": "stdout",
     "output_type": "stream",
     "text": [
      "[2018-02-11 21:29:27,808][MainProcess][allennlp.training.trainer][INFO] Training\n"
     ]
    },
    {
     "name": "stderr",
     "output_type": "stream",
     "text": [
      "token_accuracy: 1.00, accuracy: 1.00, loss: 0.15 ||: 100%|##########| 1165/1165 [01:09<00:00, 16.67it/s]"
     ]
    },
    {
     "name": "stdout",
     "output_type": "stream",
     "text": [
      "[2018-02-11 21:30:37,700][MainProcess][allennlp.training.trainer][INFO] Validating\n"
     ]
    },
    {
     "name": "stderr",
     "output_type": "stream",
     "text": [
      "\n",
      "token_accuracy: 0.99, accuracy: 0.95, loss: 38.93 ||: 100%|##########| 167/167 [00:05<00:00, 31.50it/s]\n"
     ]
    },
    {
     "name": "stdout",
     "output_type": "stream",
     "text": [
      "[2018-02-11 21:30:43,213][MainProcess][allennlp.training.trainer][INFO] Training token_accuracy : 0.999888    Validation token_accuracy : 0.988932 \n",
      "[2018-02-11 21:30:43,214][MainProcess][allennlp.training.trainer][INFO] Training accuracy : 0.999517    Validation accuracy : 0.954733 \n",
      "[2018-02-11 21:30:43,214][MainProcess][allennlp.training.trainer][INFO] Training loss : 0.149872    Validation loss : 38.925598 \n",
      "[2018-02-11 21:30:43,215][MainProcess][allennlp.training.trainer][INFO] Epoch duration: 00:01:15\n",
      "[2018-02-11 21:30:43,215][MainProcess][allennlp.training.trainer][INFO] Estimated training time remaining: 01:31:48\n",
      "[2018-02-11 21:30:43,216][MainProcess][allennlp.training.trainer][INFO] Epoch 27/99\n"
     ]
    },
    {
     "name": "stderr",
     "output_type": "stream",
     "text": [
      "\r",
      "  0%|          | 0/1165 [00:00<?, ?it/s]"
     ]
    },
    {
     "name": "stdout",
     "output_type": "stream",
     "text": [
      "[2018-02-11 21:30:43,219][MainProcess][allennlp.training.trainer][INFO] Training\n"
     ]
    },
    {
     "name": "stderr",
     "output_type": "stream",
     "text": [
      "token_accuracy: 1.00, accuracy: 1.00, loss: 0.19 ||: 100%|##########| 1165/1165 [01:07<00:00, 17.23it/s]"
     ]
    },
    {
     "name": "stdout",
     "output_type": "stream",
     "text": [
      "[2018-02-11 21:31:50,819][MainProcess][allennlp.training.trainer][INFO] Validating\n"
     ]
    },
    {
     "name": "stderr",
     "output_type": "stream",
     "text": [
      "\n",
      "token_accuracy: 0.99, accuracy: 0.96, loss: 36.60 ||: 100%|##########| 167/167 [00:05<00:00, 31.39it/s]\n"
     ]
    },
    {
     "name": "stdout",
     "output_type": "stream",
     "text": [
      "[2018-02-11 21:31:56,350][MainProcess][allennlp.training.trainer][INFO] Best validation performance so far. Copying weights to '../../experiments/subject_recognition_grid_search_2.02_11_20:56:18/best.th'.\n",
      "[2018-02-11 21:31:56,519][MainProcess][allennlp.training.trainer][INFO] Training token_accuracy : 0.999885    Validation token_accuracy : 0.989035 \n",
      "[2018-02-11 21:31:56,523][MainProcess][allennlp.training.trainer][INFO] Training accuracy : 0.999503    Validation accuracy : 0.955579 \n",
      "[2018-02-11 21:31:56,526][MainProcess][allennlp.training.trainer][INFO] Training loss : 0.185355    Validation loss : 36.599079 \n",
      "[2018-02-11 21:31:56,531][MainProcess][allennlp.training.trainer][INFO] Epoch duration: 00:01:13\n",
      "[2018-02-11 21:31:56,539][MainProcess][allennlp.training.trainer][INFO] Estimated training time remaining: 01:30:27\n",
      "[2018-02-11 21:31:56,549][MainProcess][allennlp.training.trainer][INFO] Epoch 28/99\n"
     ]
    },
    {
     "name": "stderr",
     "output_type": "stream",
     "text": [
      "\r",
      "  0%|          | 0/1165 [00:00<?, ?it/s]"
     ]
    },
    {
     "name": "stdout",
     "output_type": "stream",
     "text": [
      "[2018-02-11 21:31:56,554][MainProcess][allennlp.training.trainer][INFO] Training\n"
     ]
    },
    {
     "name": "stderr",
     "output_type": "stream",
     "text": [
      "token_accuracy: 1.00, accuracy: 1.00, loss: 0.13 ||: 100%|##########| 1165/1165 [01:06<00:00, 17.41it/s]"
     ]
    },
    {
     "name": "stdout",
     "output_type": "stream",
     "text": [
      "[2018-02-11 21:33:03,464][MainProcess][allennlp.training.trainer][INFO] Validating\n"
     ]
    },
    {
     "name": "stderr",
     "output_type": "stream",
     "text": [
      "\n",
      "token_accuracy: 0.99, accuracy: 0.96, loss: 38.80 ||: 100%|##########| 167/167 [00:05<00:00, 31.41it/s]\n"
     ]
    },
    {
     "name": "stdout",
     "output_type": "stream",
     "text": [
      "[2018-02-11 21:33:08,995][MainProcess][allennlp.training.trainer][INFO] Training token_accuracy : 0.999902    Validation token_accuracy : 0.988839 \n",
      "[2018-02-11 21:33:08,998][MainProcess][allennlp.training.trainer][INFO] Training accuracy : 0.999611    Validation accuracy : 0.955297 \n",
      "[2018-02-11 21:33:08,998][MainProcess][allennlp.training.trainer][INFO] Training loss : 0.133027    Validation loss : 38.797356 \n",
      "[2018-02-11 21:33:08,999][MainProcess][allennlp.training.trainer][INFO] Epoch duration: 00:01:12\n",
      "[2018-02-11 21:33:08,999][MainProcess][allennlp.training.trainer][INFO] Estimated training time remaining: 01:29:05\n",
      "[2018-02-11 21:33:09,000][MainProcess][allennlp.training.trainer][INFO] Epoch 29/99\n"
     ]
    },
    {
     "name": "stderr",
     "output_type": "stream",
     "text": [
      "\r",
      "  0%|          | 0/1165 [00:00<?, ?it/s]"
     ]
    },
    {
     "name": "stdout",
     "output_type": "stream",
     "text": [
      "[2018-02-11 21:33:09,002][MainProcess][allennlp.training.trainer][INFO] Training\n"
     ]
    },
    {
     "name": "stderr",
     "output_type": "stream",
     "text": [
      "token_accuracy: 1.00, accuracy: 1.00, loss: 0.12 ||: 100%|##########| 1165/1165 [01:09<00:00, 16.74it/s]"
     ]
    },
    {
     "name": "stdout",
     "output_type": "stream",
     "text": [
      "[2018-02-11 21:34:18,613][MainProcess][allennlp.training.trainer][INFO] Validating\n"
     ]
    },
    {
     "name": "stderr",
     "output_type": "stream",
     "text": [
      "\n",
      "token_accuracy: 0.99, accuracy: 0.96, loss: 40.84 ||: 100%|##########| 167/167 [00:05<00:00, 31.13it/s]\n"
     ]
    },
    {
     "name": "stdout",
     "output_type": "stream",
     "text": [
      "[2018-02-11 21:34:24,195][MainProcess][allennlp.training.trainer][INFO] Best validation performance so far. Copying weights to '../../experiments/subject_recognition_grid_search_2.02_11_20:56:18/best.th'.\n",
      "[2018-02-11 21:34:24,392][MainProcess][allennlp.training.trainer][INFO] Training token_accuracy : 0.999931    Validation token_accuracy : 0.989312 \n",
      "[2018-02-11 21:34:24,398][MainProcess][allennlp.training.trainer][INFO] Training accuracy : 0.999544    Validation accuracy : 0.956048 \n",
      "[2018-02-11 21:34:24,400][MainProcess][allennlp.training.trainer][INFO] Training loss : 0.120942    Validation loss : 40.836670 \n",
      "[2018-02-11 21:34:24,402][MainProcess][allennlp.training.trainer][INFO] Epoch duration: 00:01:15\n",
      "[2018-02-11 21:34:24,405][MainProcess][allennlp.training.trainer][INFO] Estimated training time remaining: 01:27:50\n",
      "[2018-02-11 21:34:24,407][MainProcess][allennlp.training.trainer][INFO] Epoch 30/99\n"
     ]
    },
    {
     "name": "stderr",
     "output_type": "stream",
     "text": [
      "\r",
      "  0%|          | 0/1165 [00:00<?, ?it/s]"
     ]
    },
    {
     "name": "stdout",
     "output_type": "stream",
     "text": [
      "[2018-02-11 21:34:24,412][MainProcess][allennlp.training.trainer][INFO] Training\n"
     ]
    },
    {
     "name": "stderr",
     "output_type": "stream",
     "text": [
      "token_accuracy: 1.00, accuracy: 1.00, loss: 0.08 ||: 100%|##########| 1165/1165 [01:07<00:00, 17.29it/s]\n"
     ]
    },
    {
     "name": "stdout",
     "output_type": "stream",
     "text": [
      "[2018-02-11 21:35:31,797][MainProcess][allennlp.training.trainer][INFO] Validating\n"
     ]
    },
    {
     "name": "stderr",
     "output_type": "stream",
     "text": [
      "token_accuracy: 0.99, accuracy: 0.96, loss: 44.30 ||: 100%|##########| 167/167 [00:05<00:00, 31.42it/s]\n"
     ]
    },
    {
     "name": "stdout",
     "output_type": "stream",
     "text": [
      "[2018-02-11 21:35:37,327][MainProcess][allennlp.training.trainer][INFO] Best validation performance so far. Copying weights to '../../experiments/subject_recognition_grid_search_2.02_11_20:56:18/best.th'.\n",
      "[2018-02-11 21:35:37,471][MainProcess][allennlp.training.trainer][INFO] Training token_accuracy : 0.999956    Validation token_accuracy : 0.989266 \n",
      "[2018-02-11 21:35:37,475][MainProcess][allennlp.training.trainer][INFO] Training accuracy : 0.999799    Validation accuracy : 0.956612 \n",
      "[2018-02-11 21:35:37,478][MainProcess][allennlp.training.trainer][INFO] Training loss : 0.081031    Validation loss : 44.295952 \n",
      "[2018-02-11 21:35:37,481][MainProcess][allennlp.training.trainer][INFO] Epoch duration: 00:01:13\n",
      "[2018-02-11 21:35:37,483][MainProcess][allennlp.training.trainer][INFO] Estimated training time remaining: 01:26:30\n",
      "[2018-02-11 21:35:37,486][MainProcess][allennlp.training.trainer][INFO] Epoch 31/99\n"
     ]
    },
    {
     "name": "stderr",
     "output_type": "stream",
     "text": [
      "\r",
      "  0%|          | 0/1165 [00:00<?, ?it/s]"
     ]
    },
    {
     "name": "stdout",
     "output_type": "stream",
     "text": [
      "[2018-02-11 21:35:37,491][MainProcess][allennlp.training.trainer][INFO] Training\n"
     ]
    },
    {
     "name": "stderr",
     "output_type": "stream",
     "text": [
      "token_accuracy: 1.00, accuracy: 1.00, loss: 0.11 ||: 100%|##########| 1165/1165 [01:06<00:00, 17.40it/s]"
     ]
    },
    {
     "name": "stdout",
     "output_type": "stream",
     "text": [
      "[2018-02-11 21:36:44,457][MainProcess][allennlp.training.trainer][INFO] Validating\n"
     ]
    },
    {
     "name": "stderr",
     "output_type": "stream",
     "text": [
      "\n",
      "token_accuracy: 0.99, accuracy: 0.96, loss: 42.98 ||: 100%|##########| 167/167 [00:05<00:00, 31.33it/s]\n"
     ]
    },
    {
     "name": "stdout",
     "output_type": "stream",
     "text": [
      "[2018-02-11 21:36:50,007][MainProcess][allennlp.training.trainer][INFO] Training token_accuracy : 0.999947    Validation token_accuracy : 0.989300 \n",
      "[2018-02-11 21:36:50,008][MainProcess][allennlp.training.trainer][INFO] Training accuracy : 0.999772    Validation accuracy : 0.956236 \n",
      "[2018-02-11 21:36:50,009][MainProcess][allennlp.training.trainer][INFO] Training loss : 0.114862    Validation loss : 42.976654 \n",
      "[2018-02-11 21:36:50,010][MainProcess][allennlp.training.trainer][INFO] Epoch duration: 00:01:12\n",
      "[2018-02-11 21:36:50,011][MainProcess][allennlp.training.trainer][INFO] Estimated training time remaining: 01:25:09\n",
      "[2018-02-11 21:36:50,011][MainProcess][allennlp.training.trainer][INFO] Epoch 32/99\n"
     ]
    },
    {
     "name": "stderr",
     "output_type": "stream",
     "text": [
      "\r",
      "  0%|          | 0/1165 [00:00<?, ?it/s]"
     ]
    },
    {
     "name": "stdout",
     "output_type": "stream",
     "text": [
      "[2018-02-11 21:36:50,012][MainProcess][allennlp.training.trainer][INFO] Training\n"
     ]
    },
    {
     "name": "stderr",
     "output_type": "stream",
     "text": [
      "token_accuracy: 1.00, accuracy: 1.00, loss: 0.07 ||: 100%|##########| 1165/1165 [01:09<00:00, 16.68it/s]"
     ]
    },
    {
     "name": "stdout",
     "output_type": "stream",
     "text": [
      "[2018-02-11 21:37:59,869][MainProcess][allennlp.training.trainer][INFO] Validating\n"
     ]
    },
    {
     "name": "stderr",
     "output_type": "stream",
     "text": [
      "\n",
      "token_accuracy: 0.99, accuracy: 0.96, loss: 43.87 ||: 100%|##########| 167/167 [00:05<00:00, 28.82it/s]\n"
     ]
    },
    {
     "name": "stdout",
     "output_type": "stream",
     "text": [
      "[2018-02-11 21:38:05,919][MainProcess][allennlp.training.trainer][INFO] Best validation performance so far. Copying weights to '../../experiments/subject_recognition_grid_search_2.02_11_20:56:18/best.th'.\n",
      "[2018-02-11 21:38:06,087][MainProcess][allennlp.training.trainer][INFO] Training token_accuracy : 0.999964    Validation token_accuracy : 0.989335 \n",
      "[2018-02-11 21:38:06,093][MainProcess][allennlp.training.trainer][INFO] Training accuracy : 0.999826    Validation accuracy : 0.956799 \n",
      "[2018-02-11 21:38:06,095][MainProcess][allennlp.training.trainer][INFO] Training loss : 0.074109    Validation loss : 43.873150 \n",
      "[2018-02-11 21:38:06,098][MainProcess][allennlp.training.trainer][INFO] Epoch duration: 00:01:16\n",
      "[2018-02-11 21:38:06,100][MainProcess][allennlp.training.trainer][INFO] Estimated training time remaining: 01:23:56\n",
      "[2018-02-11 21:38:06,102][MainProcess][allennlp.training.trainer][INFO] Epoch 33/99\n"
     ]
    },
    {
     "name": "stderr",
     "output_type": "stream",
     "text": [
      "\r",
      "  0%|          | 0/1165 [00:00<?, ?it/s]"
     ]
    },
    {
     "name": "stdout",
     "output_type": "stream",
     "text": [
      "[2018-02-11 21:38:06,108][MainProcess][allennlp.training.trainer][INFO] Training\n"
     ]
    },
    {
     "name": "stderr",
     "output_type": "stream",
     "text": [
      "token_accuracy: 1.00, accuracy: 1.00, loss: 0.07 ||: 100%|##########| 1165/1165 [01:09<00:00, 16.79it/s]"
     ]
    },
    {
     "name": "stdout",
     "output_type": "stream",
     "text": [
      "[2018-02-11 21:39:15,487][MainProcess][allennlp.training.trainer][INFO] Validating\n"
     ]
    },
    {
     "name": "stderr",
     "output_type": "stream",
     "text": [
      "\n",
      "token_accuracy: 0.99, accuracy: 0.96, loss: 45.31 ||: 100%|##########| 167/167 [00:05<00:00, 30.27it/s]\n"
     ]
    },
    {
     "name": "stdout",
     "output_type": "stream",
     "text": [
      "[2018-02-11 21:39:21,242][MainProcess][allennlp.training.trainer][INFO] Training token_accuracy : 0.999961    Validation token_accuracy : 0.989335 \n",
      "[2018-02-11 21:39:21,243][MainProcess][allennlp.training.trainer][INFO] Training accuracy : 0.999799    Validation accuracy : 0.955579 \n",
      "[2018-02-11 21:39:21,244][MainProcess][allennlp.training.trainer][INFO] Training loss : 0.074493    Validation loss : 45.307610 \n",
      "[2018-02-11 21:39:21,244][MainProcess][allennlp.training.trainer][INFO] Epoch duration: 00:01:15\n",
      "[2018-02-11 21:39:21,245][MainProcess][allennlp.training.trainer][INFO] Estimated training time remaining: 01:22:40\n",
      "[2018-02-11 21:39:21,245][MainProcess][allennlp.training.trainer][INFO] Epoch 34/99\n"
     ]
    },
    {
     "name": "stderr",
     "output_type": "stream",
     "text": [
      "\r",
      "  0%|          | 0/1165 [00:00<?, ?it/s]"
     ]
    },
    {
     "name": "stdout",
     "output_type": "stream",
     "text": [
      "[2018-02-11 21:39:21,249][MainProcess][allennlp.training.trainer][INFO] Training\n"
     ]
    },
    {
     "name": "stderr",
     "output_type": "stream",
     "text": [
      "token_accuracy: 1.00, accuracy: 1.00, loss: 0.09 ||: 100%|##########| 1165/1165 [01:09<00:00, 16.72it/s]"
     ]
    },
    {
     "name": "stdout",
     "output_type": "stream",
     "text": [
      "[2018-02-11 21:40:30,948][MainProcess][allennlp.training.trainer][INFO] Validating\n"
     ]
    },
    {
     "name": "stderr",
     "output_type": "stream",
     "text": [
      "\n",
      "token_accuracy: 0.99, accuracy: 0.96, loss: 45.41 ||: 100%|##########| 167/167 [00:05<00:00, 28.32it/s]\n"
     ]
    },
    {
     "name": "stdout",
     "output_type": "stream",
     "text": [
      "[2018-02-11 21:40:37,071][MainProcess][allennlp.training.trainer][INFO] Training token_accuracy : 0.999954    Validation token_accuracy : 0.989438 \n",
      "[2018-02-11 21:40:37,073][MainProcess][allennlp.training.trainer][INFO] Training accuracy : 0.999826    Validation accuracy : 0.956142 \n",
      "[2018-02-11 21:40:37,073][MainProcess][allennlp.training.trainer][INFO] Training loss : 0.086281    Validation loss : 45.406082 \n",
      "[2018-02-11 21:40:37,074][MainProcess][allennlp.training.trainer][INFO] Epoch duration: 00:01:15\n",
      "[2018-02-11 21:40:37,074][MainProcess][allennlp.training.trainer][INFO] Estimated training time remaining: 01:21:26\n",
      "[2018-02-11 21:40:37,075][MainProcess][allennlp.training.trainer][INFO] Epoch 35/99\n"
     ]
    },
    {
     "name": "stderr",
     "output_type": "stream",
     "text": [
      "\r",
      "  0%|          | 0/1165 [00:00<?, ?it/s]"
     ]
    },
    {
     "name": "stdout",
     "output_type": "stream",
     "text": [
      "[2018-02-11 21:40:37,076][MainProcess][allennlp.training.trainer][INFO] Training\n"
     ]
    },
    {
     "name": "stderr",
     "output_type": "stream",
     "text": [
      "token_accuracy: 1.00, accuracy: 1.00, loss: 0.07 ||: 100%|##########| 1165/1165 [01:11<00:00, 16.36it/s]\n"
     ]
    },
    {
     "name": "stdout",
     "output_type": "stream",
     "text": [
      "[2018-02-11 21:41:48,268][MainProcess][allennlp.training.trainer][INFO] Validating\n"
     ]
    },
    {
     "name": "stderr",
     "output_type": "stream",
     "text": [
      "token_accuracy: 0.99, accuracy: 0.96, loss: 45.19 ||: 100%|##########| 167/167 [00:05<00:00, 31.07it/s]\n"
     ]
    },
    {
     "name": "stdout",
     "output_type": "stream",
     "text": [
      "[2018-02-11 21:41:53,863][MainProcess][allennlp.training.trainer][INFO] Training token_accuracy : 0.999969    Validation token_accuracy : 0.989185 \n",
      "[2018-02-11 21:41:53,864][MainProcess][allennlp.training.trainer][INFO] Training accuracy : 0.999839    Validation accuracy : 0.956048 \n",
      "[2018-02-11 21:41:53,865][MainProcess][allennlp.training.trainer][INFO] Training loss : 0.072804    Validation loss : 45.186161 \n",
      "[2018-02-11 21:41:53,865][MainProcess][allennlp.training.trainer][INFO] Epoch duration: 00:01:16\n",
      "[2018-02-11 21:41:53,866][MainProcess][allennlp.training.trainer][INFO] Estimated training time remaining: 01:20:14\n",
      "[2018-02-11 21:41:53,867][MainProcess][allennlp.training.trainer][INFO] Epoch 36/99\n"
     ]
    },
    {
     "name": "stderr",
     "output_type": "stream",
     "text": [
      "\r",
      "  0%|          | 0/1165 [00:00<?, ?it/s]"
     ]
    },
    {
     "name": "stdout",
     "output_type": "stream",
     "text": [
      "[2018-02-11 21:41:53,871][MainProcess][allennlp.training.trainer][INFO] Training\n"
     ]
    },
    {
     "name": "stderr",
     "output_type": "stream",
     "text": [
      "token_accuracy: 1.00, accuracy: 1.00, loss: 0.07 ||: 100%|##########| 1165/1165 [01:10<00:00, 16.48it/s]"
     ]
    },
    {
     "name": "stdout",
     "output_type": "stream",
     "text": [
      "[2018-02-11 21:43:04,566][MainProcess][allennlp.training.trainer][INFO] Validating\n"
     ]
    },
    {
     "name": "stderr",
     "output_type": "stream",
     "text": [
      "\n",
      "token_accuracy: 0.99, accuracy: 0.96, loss: 45.50 ||: 100%|##########| 167/167 [00:05<00:00, 29.89it/s]\n"
     ]
    },
    {
     "name": "stdout",
     "output_type": "stream",
     "text": [
      "[2018-02-11 21:43:10,368][MainProcess][allennlp.training.trainer][INFO] Training token_accuracy : 0.999966    Validation token_accuracy : 0.989392 \n",
      "[2018-02-11 21:43:10,369][MainProcess][allennlp.training.trainer][INFO] Training accuracy : 0.999799    Validation accuracy : 0.955672 \n",
      "[2018-02-11 21:43:10,369][MainProcess][allennlp.training.trainer][INFO] Training loss : 0.074123    Validation loss : 45.500435 \n",
      "[2018-02-11 21:43:10,371][MainProcess][allennlp.training.trainer][INFO] Epoch duration: 00:01:16\n",
      "[2018-02-11 21:43:10,371][MainProcess][allennlp.training.trainer][INFO] Estimated training time remaining: 01:19:01\n",
      "[2018-02-11 21:43:10,372][MainProcess][allennlp.training.trainer][INFO] Epoch 37/99\n"
     ]
    },
    {
     "name": "stderr",
     "output_type": "stream",
     "text": [
      "\r",
      "  0%|          | 0/1165 [00:00<?, ?it/s]"
     ]
    },
    {
     "name": "stdout",
     "output_type": "stream",
     "text": [
      "[2018-02-11 21:43:10,374][MainProcess][allennlp.training.trainer][INFO] Training\n"
     ]
    },
    {
     "name": "stderr",
     "output_type": "stream",
     "text": [
      "token_accuracy: 1.00, accuracy: 1.00, loss: 0.06 ||: 100%|##########| 1165/1165 [01:08<00:00, 17.01it/s]"
     ]
    },
    {
     "name": "stdout",
     "output_type": "stream",
     "text": [
      "[2018-02-11 21:44:18,886][MainProcess][allennlp.training.trainer][INFO] Validating\n"
     ]
    },
    {
     "name": "stderr",
     "output_type": "stream",
     "text": [
      "\n",
      "token_accuracy: 0.99, accuracy: 0.96, loss: 45.97 ||: 100%|##########| 167/167 [00:05<00:00, 28.25it/s]\n"
     ]
    },
    {
     "name": "stdout",
     "output_type": "stream",
     "text": [
      "[2018-02-11 21:44:25,014][MainProcess][allennlp.training.trainer][INFO] Training token_accuracy : 0.999969    Validation token_accuracy : 0.989508 \n",
      "[2018-02-11 21:44:25,016][MainProcess][allennlp.training.trainer][INFO] Training accuracy : 0.999826    Validation accuracy : 0.956705 \n",
      "[2018-02-11 21:44:25,016][MainProcess][allennlp.training.trainer][INFO] Training loss : 0.056192    Validation loss : 45.974815 \n",
      "[2018-02-11 21:44:25,017][MainProcess][allennlp.training.trainer][INFO] Epoch duration: 00:01:14\n",
      "[2018-02-11 21:44:25,017][MainProcess][allennlp.training.trainer][INFO] Estimated training time remaining: 01:17:45\n",
      "[2018-02-11 21:44:25,018][MainProcess][allennlp.training.trainer][INFO] Epoch 38/99\n"
     ]
    },
    {
     "name": "stderr",
     "output_type": "stream",
     "text": [
      "\r",
      "  0%|          | 0/1165 [00:00<?, ?it/s]"
     ]
    },
    {
     "name": "stdout",
     "output_type": "stream",
     "text": [
      "[2018-02-11 21:44:25,019][MainProcess][allennlp.training.trainer][INFO] Training\n"
     ]
    },
    {
     "name": "stderr",
     "output_type": "stream",
     "text": [
      "token_accuracy: 1.00, accuracy: 1.00, loss: 0.07 ||: 100%|##########| 1165/1165 [01:08<00:00, 17.01it/s]"
     ]
    },
    {
     "name": "stdout",
     "output_type": "stream",
     "text": [
      "[2018-02-11 21:45:33,492][MainProcess][allennlp.training.trainer][INFO] Validating\n"
     ]
    },
    {
     "name": "stderr",
     "output_type": "stream",
     "text": [
      "\n",
      "token_accuracy: 0.99, accuracy: 0.96, loss: 46.44 ||: 100%|##########| 167/167 [00:05<00:00, 31.07it/s]\n"
     ]
    },
    {
     "name": "stdout",
     "output_type": "stream",
     "text": [
      "[2018-02-11 21:45:39,089][MainProcess][allennlp.training.trainer][INFO] Training token_accuracy : 0.999969    Validation token_accuracy : 0.989484 \n",
      "[2018-02-11 21:45:39,090][MainProcess][allennlp.training.trainer][INFO] Training accuracy : 0.999785    Validation accuracy : 0.956518 \n",
      "[2018-02-11 21:45:39,091][MainProcess][allennlp.training.trainer][INFO] Training loss : 0.067937    Validation loss : 46.440575 \n",
      "[2018-02-11 21:45:39,091][MainProcess][allennlp.training.trainer][INFO] Epoch duration: 00:01:14\n",
      "[2018-02-11 21:45:39,092][MainProcess][allennlp.training.trainer][INFO] Estimated training time remaining: 01:16:28\n",
      "[2018-02-11 21:45:39,092][MainProcess][allennlp.training.trainer][INFO] Epoch 39/99\n"
     ]
    },
    {
     "name": "stderr",
     "output_type": "stream",
     "text": [
      "\r",
      "  0%|          | 0/1165 [00:00<?, ?it/s]"
     ]
    },
    {
     "name": "stdout",
     "output_type": "stream",
     "text": [
      "[2018-02-11 21:45:39,096][MainProcess][allennlp.training.trainer][INFO] Training\n"
     ]
    },
    {
     "name": "stderr",
     "output_type": "stream",
     "text": [
      "token_accuracy: 1.00, accuracy: 1.00, loss: 0.07 ||: 100%|##########| 1165/1165 [01:12<00:00, 16.14it/s]"
     ]
    },
    {
     "name": "stdout",
     "output_type": "stream",
     "text": [
      "[2018-02-11 21:46:51,259][MainProcess][allennlp.training.trainer][INFO] Validating\n"
     ]
    },
    {
     "name": "stderr",
     "output_type": "stream",
     "text": [
      "\n",
      "token_accuracy: 0.99, accuracy: 0.96, loss: 46.66 ||: 100%|##########| 167/167 [00:05<00:00, 30.18it/s]\n"
     ]
    },
    {
     "name": "stdout",
     "output_type": "stream",
     "text": [
      "[2018-02-11 21:46:57,024][MainProcess][allennlp.training.trainer][INFO] Best validation performance so far. Copying weights to '../../experiments/subject_recognition_grid_search_2.02_11_20:56:18/best.th'.\n",
      "[2018-02-11 21:46:57,219][MainProcess][allennlp.training.trainer][INFO] Training token_accuracy : 0.999972    Validation token_accuracy : 0.989531 \n",
      "[2018-02-11 21:46:57,222][MainProcess][allennlp.training.trainer][INFO] Training accuracy : 0.999826    Validation accuracy : 0.956893 \n",
      "[2018-02-11 21:46:57,224][MainProcess][allennlp.training.trainer][INFO] Training loss : 0.066118    Validation loss : 46.657604 \n",
      "[2018-02-11 21:46:57,226][MainProcess][allennlp.training.trainer][INFO] Epoch duration: 00:01:18\n",
      "[2018-02-11 21:46:57,227][MainProcess][allennlp.training.trainer][INFO] Estimated training time remaining: 01:15:17\n",
      "[2018-02-11 21:46:57,228][MainProcess][allennlp.training.trainer][INFO] Epoch 40/99\n"
     ]
    },
    {
     "name": "stderr",
     "output_type": "stream",
     "text": [
      "\r",
      "  0%|          | 0/1165 [00:00<?, ?it/s]"
     ]
    },
    {
     "name": "stdout",
     "output_type": "stream",
     "text": [
      "[2018-02-11 21:46:57,231][MainProcess][allennlp.training.trainer][INFO] Training\n"
     ]
    },
    {
     "name": "stderr",
     "output_type": "stream",
     "text": [
      "token_accuracy: 1.00, accuracy: 1.00, loss: 0.04 ||: 100%|##########| 1165/1165 [01:12<00:00, 15.99it/s]"
     ]
    },
    {
     "name": "stdout",
     "output_type": "stream",
     "text": [
      "[2018-02-11 21:48:10,089][MainProcess][allennlp.training.trainer][INFO] Validating\n"
     ]
    },
    {
     "name": "stderr",
     "output_type": "stream",
     "text": [
      "\n",
      "token_accuracy: 0.99, accuracy: 0.96, loss: 47.25 ||: 100%|##########| 167/167 [00:05<00:00, 30.79it/s]\n"
     ]
    },
    {
     "name": "stdout",
     "output_type": "stream",
     "text": [
      "[2018-02-11 21:48:15,739][MainProcess][allennlp.training.trainer][INFO] Training token_accuracy : 0.999975    Validation token_accuracy : 0.989450 \n",
      "[2018-02-11 21:48:15,740][MainProcess][allennlp.training.trainer][INFO] Training accuracy : 0.999866    Validation accuracy : 0.956799 \n",
      "[2018-02-11 21:48:15,741][MainProcess][allennlp.training.trainer][INFO] Training loss : 0.042770    Validation loss : 47.251183 \n",
      "[2018-02-11 21:48:15,741][MainProcess][allennlp.training.trainer][INFO] Epoch duration: 00:01:18\n",
      "[2018-02-11 21:48:15,744][MainProcess][allennlp.training.trainer][INFO] Estimated training time remaining: 01:14:06\n",
      "[2018-02-11 21:48:15,745][MainProcess][allennlp.training.trainer][INFO] Epoch 41/99\n"
     ]
    },
    {
     "name": "stderr",
     "output_type": "stream",
     "text": [
      "\r",
      "  0%|          | 0/1165 [00:00<?, ?it/s]"
     ]
    },
    {
     "name": "stdout",
     "output_type": "stream",
     "text": [
      "[2018-02-11 21:48:15,746][MainProcess][allennlp.training.trainer][INFO] Training\n"
     ]
    },
    {
     "name": "stderr",
     "output_type": "stream",
     "text": [
      "token_accuracy: 1.00, accuracy: 1.00, loss: 0.05 ||: 100%|##########| 1165/1165 [01:08<00:00, 17.11it/s]"
     ]
    },
    {
     "name": "stdout",
     "output_type": "stream",
     "text": [
      "[2018-02-11 21:49:23,844][MainProcess][allennlp.training.trainer][INFO] Validating\n"
     ]
    },
    {
     "name": "stderr",
     "output_type": "stream",
     "text": [
      "\n",
      "token_accuracy: 0.99, accuracy: 0.96, loss: 47.74 ||: 100%|##########| 167/167 [00:05<00:00, 31.41it/s]\n"
     ]
    },
    {
     "name": "stdout",
     "output_type": "stream",
     "text": [
      "[2018-02-11 21:49:29,376][MainProcess][allennlp.training.trainer][INFO] Training token_accuracy : 0.999979    Validation token_accuracy : 0.989461 \n",
      "[2018-02-11 21:49:29,377][MainProcess][allennlp.training.trainer][INFO] Training accuracy : 0.999879    Validation accuracy : 0.956424 \n",
      "[2018-02-11 21:49:29,379][MainProcess][allennlp.training.trainer][INFO] Training loss : 0.049252    Validation loss : 47.736164 \n",
      "[2018-02-11 21:49:29,380][MainProcess][allennlp.training.trainer][INFO] Epoch duration: 00:01:13\n",
      "[2018-02-11 21:49:29,380][MainProcess][allennlp.training.trainer][INFO] Estimated training time remaining: 01:12:48\n",
      "[2018-02-11 21:49:29,381][MainProcess][allennlp.training.trainer][INFO] Epoch 42/99\n"
     ]
    },
    {
     "name": "stderr",
     "output_type": "stream",
     "text": [
      "\r",
      "  0%|          | 0/1165 [00:00<?, ?it/s]"
     ]
    },
    {
     "name": "stdout",
     "output_type": "stream",
     "text": [
      "[2018-02-11 21:49:29,382][MainProcess][allennlp.training.trainer][INFO] Training\n"
     ]
    },
    {
     "name": "stderr",
     "output_type": "stream",
     "text": [
      "token_accuracy: 1.00, accuracy: 1.00, loss: 0.04 ||: 100%|##########| 1165/1165 [01:10<00:00, 16.58it/s]"
     ]
    },
    {
     "name": "stdout",
     "output_type": "stream",
     "text": [
      "[2018-02-11 21:50:39,660][MainProcess][allennlp.training.trainer][INFO] Validating\n"
     ]
    },
    {
     "name": "stderr",
     "output_type": "stream",
     "text": [
      "\n",
      "token_accuracy: 0.99, accuracy: 0.96, loss: 48.05 ||: 100%|##########| 167/167 [00:05<00:00, 29.56it/s]\n"
     ]
    },
    {
     "name": "stdout",
     "output_type": "stream",
     "text": [
      "[2018-02-11 21:50:45,536][MainProcess][allennlp.training.trainer][INFO] Training token_accuracy : 0.999982    Validation token_accuracy : 0.989542 \n",
      "[2018-02-11 21:50:45,537][MainProcess][allennlp.training.trainer][INFO] Training accuracy : 0.999879    Validation accuracy : 0.956518 \n",
      "[2018-02-11 21:50:45,538][MainProcess][allennlp.training.trainer][INFO] Training loss : 0.042734    Validation loss : 48.052311 \n",
      "[2018-02-11 21:50:45,538][MainProcess][allennlp.training.trainer][INFO] Epoch duration: 00:01:16\n",
      "[2018-02-11 21:50:45,539][MainProcess][allennlp.training.trainer][INFO] Estimated training time remaining: 01:11:34\n",
      "[2018-02-11 21:50:45,539][MainProcess][allennlp.training.trainer][INFO] Epoch 43/99\n"
     ]
    },
    {
     "name": "stderr",
     "output_type": "stream",
     "text": [
      "\r",
      "  0%|          | 0/1165 [00:00<?, ?it/s]"
     ]
    },
    {
     "name": "stdout",
     "output_type": "stream",
     "text": [
      "[2018-02-11 21:50:45,541][MainProcess][allennlp.training.trainer][INFO] Training\n"
     ]
    },
    {
     "name": "stderr",
     "output_type": "stream",
     "text": [
      "token_accuracy: 1.00, accuracy: 1.00, loss: 0.04 ||: 100%|##########| 1165/1165 [01:09<00:00, 16.66it/s]"
     ]
    },
    {
     "name": "stdout",
     "output_type": "stream",
     "text": [
      "[2018-02-11 21:51:55,474][MainProcess][allennlp.training.trainer][INFO] Validating\n"
     ]
    },
    {
     "name": "stderr",
     "output_type": "stream",
     "text": [
      "\n",
      "token_accuracy: 0.99, accuracy: 0.96, loss: 48.46 ||: 100%|##########| 167/167 [00:06<00:00, 27.26it/s]\n"
     ]
    },
    {
     "name": "stdout",
     "output_type": "stream",
     "text": [
      "[2018-02-11 21:52:01,853][MainProcess][allennlp.training.trainer][INFO] Training token_accuracy : 0.999979    Validation token_accuracy : 0.989519 \n",
      "[2018-02-11 21:52:01,858][MainProcess][allennlp.training.trainer][INFO] Training accuracy : 0.999879    Validation accuracy : 0.956424 \n",
      "[2018-02-11 21:52:01,860][MainProcess][allennlp.training.trainer][INFO] Training loss : 0.040285    Validation loss : 48.460487 \n",
      "[2018-02-11 21:52:01,861][MainProcess][allennlp.training.trainer][INFO] Epoch duration: 00:01:16\n",
      "[2018-02-11 21:52:01,862][MainProcess][allennlp.training.trainer][INFO] Estimated training time remaining: 01:10:20\n",
      "[2018-02-11 21:52:01,864][MainProcess][allennlp.training.trainer][INFO] Epoch 44/99\n"
     ]
    },
    {
     "name": "stderr",
     "output_type": "stream",
     "text": [
      "\r",
      "  0%|          | 0/1165 [00:00<?, ?it/s]"
     ]
    },
    {
     "name": "stdout",
     "output_type": "stream",
     "text": [
      "[2018-02-11 21:52:01,868][MainProcess][allennlp.training.trainer][INFO] Training\n"
     ]
    },
    {
     "name": "stderr",
     "output_type": "stream",
     "text": [
      "token_accuracy: 1.00, accuracy: 1.00, loss: 0.04 ||: 100%|##########| 1165/1165 [01:11<00:00, 16.36it/s]"
     ]
    },
    {
     "name": "stdout",
     "output_type": "stream",
     "text": [
      "[2018-02-11 21:53:13,083][MainProcess][allennlp.training.trainer][INFO] Validating\n"
     ]
    },
    {
     "name": "stderr",
     "output_type": "stream",
     "text": [
      "\n",
      "token_accuracy: 0.99, accuracy: 0.96, loss: 48.89 ||: 100%|##########| 167/167 [00:06<00:00, 27.80it/s]\n"
     ]
    },
    {
     "name": "stdout",
     "output_type": "stream",
     "text": [
      "[2018-02-11 21:53:19,334][MainProcess][allennlp.training.trainer][INFO] Training token_accuracy : 0.999980    Validation token_accuracy : 0.989508 \n",
      "[2018-02-11 21:53:19,335][MainProcess][allennlp.training.trainer][INFO] Training accuracy : 0.999866    Validation accuracy : 0.956612 \n",
      "[2018-02-11 21:53:19,336][MainProcess][allennlp.training.trainer][INFO] Training loss : 0.042240    Validation loss : 48.885368 \n",
      "[2018-02-11 21:53:19,336][MainProcess][allennlp.training.trainer][INFO] Epoch duration: 00:01:17\n",
      "[2018-02-11 21:53:19,337][MainProcess][allennlp.training.trainer][INFO] Estimated training time remaining: 01:09:07\n",
      "[2018-02-11 21:53:19,337][MainProcess][allennlp.training.trainer][INFO] Epoch 45/99\n"
     ]
    },
    {
     "name": "stderr",
     "output_type": "stream",
     "text": [
      "\r",
      "  0%|          | 0/1165 [00:00<?, ?it/s]"
     ]
    },
    {
     "name": "stdout",
     "output_type": "stream",
     "text": [
      "[2018-02-11 21:53:19,344][MainProcess][allennlp.training.trainer][INFO] Training\n"
     ]
    },
    {
     "name": "stderr",
     "output_type": "stream",
     "text": [
      "token_accuracy: 1.00, accuracy: 1.00, loss: 0.04 ||: 100%|##########| 1165/1165 [01:14<00:00, 15.61it/s]"
     ]
    },
    {
     "name": "stdout",
     "output_type": "stream",
     "text": [
      "[2018-02-11 21:54:33,973][MainProcess][allennlp.training.trainer][INFO] Validating\n"
     ]
    },
    {
     "name": "stderr",
     "output_type": "stream",
     "text": [
      "\n",
      "token_accuracy: 0.99, accuracy: 0.96, loss: 49.03 ||: 100%|##########| 167/167 [00:06<00:00, 27.35it/s]\n"
     ]
    },
    {
     "name": "stdout",
     "output_type": "stream",
     "text": [
      "[2018-02-11 21:54:40,343][MainProcess][allennlp.training.trainer][INFO] Training token_accuracy : 0.999982    Validation token_accuracy : 0.989565 \n",
      "[2018-02-11 21:54:40,344][MainProcess][allennlp.training.trainer][INFO] Training accuracy : 0.999866    Validation accuracy : 0.956799 \n",
      "[2018-02-11 21:54:40,345][MainProcess][allennlp.training.trainer][INFO] Training loss : 0.041955    Validation loss : 49.026157 \n",
      "[2018-02-11 21:54:40,346][MainProcess][allennlp.training.trainer][INFO] Epoch duration: 00:01:21\n",
      "[2018-02-11 21:54:40,347][MainProcess][allennlp.training.trainer][INFO] Estimated training time remaining: 01:07:58\n",
      "[2018-02-11 21:54:40,347][MainProcess][allennlp.training.trainer][INFO] Epoch 46/99\n"
     ]
    },
    {
     "name": "stderr",
     "output_type": "stream",
     "text": [
      "\r",
      "  0%|          | 0/1165 [00:00<?, ?it/s]"
     ]
    },
    {
     "name": "stdout",
     "output_type": "stream",
     "text": [
      "[2018-02-11 21:54:40,349][MainProcess][allennlp.training.trainer][INFO] Training\n"
     ]
    },
    {
     "name": "stderr",
     "output_type": "stream",
     "text": [
      "token_accuracy: 1.00, accuracy: 1.00, loss: 0.04 ||: 100%|##########| 1165/1165 [01:10<00:00, 16.51it/s]"
     ]
    },
    {
     "name": "stdout",
     "output_type": "stream",
     "text": [
      "[2018-02-11 21:55:50,928][MainProcess][allennlp.training.trainer][INFO] Validating\n"
     ]
    },
    {
     "name": "stderr",
     "output_type": "stream",
     "text": [
      "\n",
      "token_accuracy: 0.99, accuracy: 0.96, loss: 49.16 ||: 100%|##########| 167/167 [00:05<00:00, 28.85it/s]\n"
     ]
    },
    {
     "name": "stdout",
     "output_type": "stream",
     "text": [
      "[2018-02-11 21:55:56,942][MainProcess][allennlp.training.trainer][INFO] Training token_accuracy : 0.999982    Validation token_accuracy : 0.989600 \n",
      "[2018-02-11 21:55:56,943][MainProcess][allennlp.training.trainer][INFO] Training accuracy : 0.999852    Validation accuracy : 0.956799 \n",
      "[2018-02-11 21:55:56,943][MainProcess][allennlp.training.trainer][INFO] Training loss : 0.042707    Validation loss : 49.160339 \n",
      "[2018-02-11 21:55:56,944][MainProcess][allennlp.training.trainer][INFO] Epoch duration: 00:01:16\n",
      "[2018-02-11 21:55:56,945][MainProcess][allennlp.training.trainer][INFO] Estimated training time remaining: 01:06:44\n",
      "[2018-02-11 21:55:56,945][MainProcess][allennlp.training.trainer][INFO] Epoch 47/99\n"
     ]
    },
    {
     "name": "stderr",
     "output_type": "stream",
     "text": [
      "\r",
      "  0%|          | 0/1165 [00:00<?, ?it/s]"
     ]
    },
    {
     "name": "stdout",
     "output_type": "stream",
     "text": [
      "[2018-02-11 21:55:56,947][MainProcess][allennlp.training.trainer][INFO] Training\n"
     ]
    },
    {
     "name": "stderr",
     "output_type": "stream",
     "text": [
      "token_accuracy: 1.00, accuracy: 1.00, loss: 0.04 ||: 100%|##########| 1165/1165 [01:13<00:00, 15.75it/s]"
     ]
    },
    {
     "name": "stdout",
     "output_type": "stream",
     "text": [
      "[2018-02-11 21:57:10,929][MainProcess][allennlp.training.trainer][INFO] Validating\n"
     ]
    },
    {
     "name": "stderr",
     "output_type": "stream",
     "text": [
      "\n",
      "token_accuracy: 0.99, accuracy: 0.96, loss: 49.43 ||: 100%|##########| 167/167 [00:05<00:00, 28.50it/s]\n"
     ]
    },
    {
     "name": "stdout",
     "output_type": "stream",
     "text": [
      "[2018-02-11 21:57:17,026][MainProcess][allennlp.training.trainer][INFO] Best validation performance so far. Copying weights to '../../experiments/subject_recognition_grid_search_2.02_11_20:56:18/best.th'.\n",
      "[2018-02-11 21:57:17,191][MainProcess][allennlp.training.trainer][INFO] Training token_accuracy : 0.999984    Validation token_accuracy : 0.989646 \n",
      "[2018-02-11 21:57:17,193][MainProcess][allennlp.training.trainer][INFO] Training accuracy : 0.999893    Validation accuracy : 0.956893 \n",
      "[2018-02-11 21:57:17,194][MainProcess][allennlp.training.trainer][INFO] Training loss : 0.037558    Validation loss : 49.433262 \n",
      "[2018-02-11 21:57:17,204][MainProcess][allennlp.training.trainer][INFO] Epoch duration: 00:01:20\n",
      "[2018-02-11 21:57:17,210][MainProcess][allennlp.training.trainer][INFO] Estimated training time remaining: 01:05:34\n",
      "[2018-02-11 21:57:17,214][MainProcess][allennlp.training.trainer][INFO] Epoch 48/99\n"
     ]
    },
    {
     "name": "stderr",
     "output_type": "stream",
     "text": [
      "\r",
      "  0%|          | 0/1165 [00:00<?, ?it/s]"
     ]
    },
    {
     "name": "stdout",
     "output_type": "stream",
     "text": [
      "[2018-02-11 21:57:17,218][MainProcess][allennlp.training.trainer][INFO] Training\n"
     ]
    },
    {
     "name": "stderr",
     "output_type": "stream",
     "text": [
      "token_accuracy: 1.00, accuracy: 1.00, loss: 0.04 ||: 100%|##########| 1165/1165 [01:12<00:00, 16.16it/s]"
     ]
    },
    {
     "name": "stdout",
     "output_type": "stream",
     "text": [
      "[2018-02-11 21:58:29,306][MainProcess][allennlp.training.trainer][INFO] Validating\n"
     ]
    },
    {
     "name": "stderr",
     "output_type": "stream",
     "text": [
      "\n",
      "token_accuracy: 0.99, accuracy: 0.96, loss: 49.58 ||: 100%|##########| 167/167 [00:05<00:00, 31.29it/s]\n"
     ]
    },
    {
     "name": "stdout",
     "output_type": "stream",
     "text": [
      "[2018-02-11 21:58:34,867][MainProcess][allennlp.training.trainer][INFO] Best validation performance so far. Copying weights to '../../experiments/subject_recognition_grid_search_2.02_11_20:56:18/best.th'.\n",
      "[2018-02-11 21:58:35,030][MainProcess][allennlp.training.trainer][INFO] Training token_accuracy : 0.999984    Validation token_accuracy : 0.989669 \n",
      "[2018-02-11 21:58:35,031][MainProcess][allennlp.training.trainer][INFO] Training accuracy : 0.999893    Validation accuracy : 0.956893 \n",
      "[2018-02-11 21:58:35,032][MainProcess][allennlp.training.trainer][INFO] Training loss : 0.036419    Validation loss : 49.576214 \n",
      "[2018-02-11 21:58:35,032][MainProcess][allennlp.training.trainer][INFO] Epoch duration: 00:01:17\n",
      "[2018-02-11 21:58:35,033][MainProcess][allennlp.training.trainer][INFO] Estimated training time remaining: 01:04:20\n",
      "[2018-02-11 21:58:35,033][MainProcess][allennlp.training.trainer][INFO] Epoch 49/99\n"
     ]
    },
    {
     "name": "stderr",
     "output_type": "stream",
     "text": [
      "\r",
      "  0%|          | 0/1165 [00:00<?, ?it/s]"
     ]
    },
    {
     "name": "stdout",
     "output_type": "stream",
     "text": [
      "[2018-02-11 21:58:35,034][MainProcess][allennlp.training.trainer][INFO] Training\n"
     ]
    },
    {
     "name": "stderr",
     "output_type": "stream",
     "text": [
      "token_accuracy: 1.00, accuracy: 1.00, loss: 0.05 ||: 100%|##########| 1165/1165 [01:11<00:00, 16.30it/s]"
     ]
    },
    {
     "name": "stdout",
     "output_type": "stream",
     "text": [
      "[2018-02-11 21:59:46,504][MainProcess][allennlp.training.trainer][INFO] Validating\n"
     ]
    },
    {
     "name": "stderr",
     "output_type": "stream",
     "text": [
      "\n",
      "token_accuracy: 0.99, accuracy: 0.96, loss: 49.68 ||: 100%|##########| 167/167 [00:05<00:00, 29.82it/s]\n"
     ]
    },
    {
     "name": "stdout",
     "output_type": "stream",
     "text": [
      "[2018-02-11 21:59:52,343][MainProcess][allennlp.training.trainer][INFO] Best validation performance so far. Copying weights to '../../experiments/subject_recognition_grid_search_2.02_11_20:56:18/best.th'.\n",
      "[2018-02-11 21:59:52,493][MainProcess][allennlp.training.trainer][INFO] Training token_accuracy : 0.999979    Validation token_accuracy : 0.989646 \n",
      "[2018-02-11 21:59:52,494][MainProcess][allennlp.training.trainer][INFO] Training accuracy : 0.999852    Validation accuracy : 0.956893 \n",
      "[2018-02-11 21:59:52,495][MainProcess][allennlp.training.trainer][INFO] Training loss : 0.045263    Validation loss : 49.684578 \n",
      "[2018-02-11 21:59:52,496][MainProcess][allennlp.training.trainer][INFO] Epoch duration: 00:01:17\n",
      "[2018-02-11 21:59:52,496][MainProcess][allennlp.training.trainer][INFO] Estimated training time remaining: 01:03:06\n",
      "[2018-02-11 21:59:52,496][MainProcess][allennlp.training.trainer][INFO] Epoch 50/99\n"
     ]
    },
    {
     "name": "stderr",
     "output_type": "stream",
     "text": [
      "\r",
      "  0%|          | 0/1165 [00:00<?, ?it/s]"
     ]
    },
    {
     "name": "stdout",
     "output_type": "stream",
     "text": [
      "[2018-02-11 21:59:52,500][MainProcess][allennlp.training.trainer][INFO] Training\n"
     ]
    },
    {
     "name": "stderr",
     "output_type": "stream",
     "text": [
      "token_accuracy: 1.00, accuracy: 1.00, loss: 0.04 ||: 100%|##########| 1165/1165 [01:10<00:00, 16.62it/s]"
     ]
    },
    {
     "name": "stdout",
     "output_type": "stream",
     "text": [
      "[2018-02-11 22:01:02,612][MainProcess][allennlp.training.trainer][INFO] Validating\n"
     ]
    },
    {
     "name": "stderr",
     "output_type": "stream",
     "text": [
      "\n",
      "token_accuracy: 0.99, accuracy: 0.96, loss: 49.81 ||: 100%|##########| 167/167 [00:05<00:00, 28.95it/s]\n"
     ]
    },
    {
     "name": "stdout",
     "output_type": "stream",
     "text": [
      "[2018-02-11 22:01:08,603][MainProcess][allennlp.training.trainer][INFO] Best validation performance so far. Copying weights to '../../experiments/subject_recognition_grid_search_2.02_11_20:56:18/best.th'.\n",
      "[2018-02-11 22:01:08,776][MainProcess][allennlp.training.trainer][INFO] Training token_accuracy : 0.999982    Validation token_accuracy : 0.989703 \n",
      "[2018-02-11 22:01:08,781][MainProcess][allennlp.training.trainer][INFO] Training accuracy : 0.999893    Validation accuracy : 0.957081 \n",
      "[2018-02-11 22:01:08,783][MainProcess][allennlp.training.trainer][INFO] Training loss : 0.040500    Validation loss : 49.808559 \n",
      "[2018-02-11 22:01:08,785][MainProcess][allennlp.training.trainer][INFO] Epoch duration: 00:01:16\n",
      "[2018-02-11 22:01:08,788][MainProcess][allennlp.training.trainer][INFO] Estimated training time remaining: 01:01:51\n",
      "[2018-02-11 22:01:08,790][MainProcess][allennlp.training.trainer][INFO] Epoch 51/99\n"
     ]
    },
    {
     "name": "stderr",
     "output_type": "stream",
     "text": [
      "\r",
      "  0%|          | 0/1165 [00:00<?, ?it/s]"
     ]
    },
    {
     "name": "stdout",
     "output_type": "stream",
     "text": [
      "[2018-02-11 22:01:08,795][MainProcess][allennlp.training.trainer][INFO] Training\n"
     ]
    },
    {
     "name": "stderr",
     "output_type": "stream",
     "text": [
      "token_accuracy: 1.00, accuracy: 1.00, loss: 0.04 ||: 100%|##########| 1165/1165 [01:10<00:00, 16.42it/s]"
     ]
    },
    {
     "name": "stdout",
     "output_type": "stream",
     "text": [
      "[2018-02-11 22:02:19,748][MainProcess][allennlp.training.trainer][INFO] Validating\n"
     ]
    },
    {
     "name": "stderr",
     "output_type": "stream",
     "text": [
      "\n",
      "token_accuracy: 0.99, accuracy: 0.96, loss: 49.94 ||: 100%|##########| 167/167 [00:05<00:00, 29.15it/s]\n"
     ]
    },
    {
     "name": "stdout",
     "output_type": "stream",
     "text": [
      "[2018-02-11 22:02:25,708][MainProcess][allennlp.training.trainer][INFO] Best validation performance so far. Copying weights to '../../experiments/subject_recognition_grid_search_2.02_11_20:56:18/best.th'.\n",
      "[2018-02-11 22:02:25,926][MainProcess][allennlp.training.trainer][INFO] Training token_accuracy : 0.999987    Validation token_accuracy : 0.989726 \n",
      "[2018-02-11 22:02:25,934][MainProcess][allennlp.training.trainer][INFO] Training accuracy : 0.999906    Validation accuracy : 0.957081 \n",
      "[2018-02-11 22:02:25,942][MainProcess][allennlp.training.trainer][INFO] Training loss : 0.036781    Validation loss : 49.940247 \n",
      "[2018-02-11 22:02:25,947][MainProcess][allennlp.training.trainer][INFO] Epoch duration: 00:01:17\n",
      "[2018-02-11 22:02:25,952][MainProcess][allennlp.training.trainer][INFO] Estimated training time remaining: 01:00:37\n",
      "[2018-02-11 22:02:25,955][MainProcess][allennlp.training.trainer][INFO] Epoch 52/99\n"
     ]
    },
    {
     "name": "stderr",
     "output_type": "stream",
     "text": [
      "\r",
      "  0%|          | 0/1165 [00:00<?, ?it/s]"
     ]
    },
    {
     "name": "stdout",
     "output_type": "stream",
     "text": [
      "[2018-02-11 22:02:25,963][MainProcess][allennlp.training.trainer][INFO] Training\n"
     ]
    },
    {
     "name": "stderr",
     "output_type": "stream",
     "text": [
      "token_accuracy: 1.00, accuracy: 1.00, loss: 0.04 ||: 100%|##########| 1165/1165 [01:11<00:00, 16.36it/s]"
     ]
    },
    {
     "name": "stdout",
     "output_type": "stream",
     "text": [
      "[2018-02-11 22:03:37,185][MainProcess][allennlp.training.trainer][INFO] Validating\n"
     ]
    },
    {
     "name": "stderr",
     "output_type": "stream",
     "text": [
      "\n",
      "token_accuracy: 0.99, accuracy: 0.96, loss: 50.09 ||: 100%|##########| 167/167 [00:05<00:00, 28.91it/s]\n"
     ]
    },
    {
     "name": "stdout",
     "output_type": "stream",
     "text": [
      "[2018-02-11 22:03:43,192][MainProcess][allennlp.training.trainer][INFO] Training token_accuracy : 0.999982    Validation token_accuracy : 0.989657 \n",
      "[2018-02-11 22:03:43,193][MainProcess][allennlp.training.trainer][INFO] Training accuracy : 0.999866    Validation accuracy : 0.956987 \n",
      "[2018-02-11 22:03:43,193][MainProcess][allennlp.training.trainer][INFO] Training loss : 0.038654    Validation loss : 50.088627 \n",
      "[2018-02-11 22:03:43,194][MainProcess][allennlp.training.trainer][INFO] Epoch duration: 00:01:17\n",
      "[2018-02-11 22:03:43,194][MainProcess][allennlp.training.trainer][INFO] Estimated training time remaining: 00:59:22\n",
      "[2018-02-11 22:03:43,195][MainProcess][allennlp.training.trainer][INFO] Epoch 53/99\n"
     ]
    },
    {
     "name": "stderr",
     "output_type": "stream",
     "text": [
      "\r",
      "  0%|          | 0/1165 [00:00<?, ?it/s]"
     ]
    },
    {
     "name": "stdout",
     "output_type": "stream",
     "text": [
      "[2018-02-11 22:03:43,199][MainProcess][allennlp.training.trainer][INFO] Training\n"
     ]
    },
    {
     "name": "stderr",
     "output_type": "stream",
     "text": [
      "token_accuracy: 1.00, accuracy: 1.00, loss: 0.04 ||: 100%|##########| 1165/1165 [01:10<00:00, 16.50it/s]"
     ]
    },
    {
     "name": "stdout",
     "output_type": "stream",
     "text": [
      "[2018-02-11 22:04:53,820][MainProcess][allennlp.training.trainer][INFO] Validating\n"
     ]
    },
    {
     "name": "stderr",
     "output_type": "stream",
     "text": [
      "\n",
      "token_accuracy: 0.99, accuracy: 0.96, loss: 50.20 ||: 100%|##########| 167/167 [00:05<00:00, 30.61it/s]\n"
     ]
    },
    {
     "name": "stdout",
     "output_type": "stream",
     "text": [
      "[2018-02-11 22:04:59,511][MainProcess][allennlp.training.trainer][INFO] Best validation performance so far. Copying weights to '../../experiments/subject_recognition_grid_search_2.02_11_20:56:18/best.th'.\n",
      "[2018-02-11 22:04:59,637][MainProcess][allennlp.training.trainer][INFO] Training token_accuracy : 0.999982    Validation token_accuracy : 0.989703 \n",
      "[2018-02-11 22:04:59,689][MainProcess][allennlp.training.trainer][INFO] Training accuracy : 0.999852    Validation accuracy : 0.957081 \n",
      "[2018-02-11 22:04:59,690][MainProcess][allennlp.training.trainer][INFO] Training loss : 0.042956    Validation loss : 50.200966 \n",
      "[2018-02-11 22:04:59,692][MainProcess][allennlp.training.trainer][INFO] Epoch duration: 00:01:16\n",
      "[2018-02-11 22:04:59,693][MainProcess][allennlp.training.trainer][INFO] Estimated training time remaining: 00:58:07\n",
      "[2018-02-11 22:04:59,694][MainProcess][allennlp.training.trainer][INFO] Epoch 54/99\n"
     ]
    },
    {
     "name": "stderr",
     "output_type": "stream",
     "text": [
      "\r",
      "  0%|          | 0/1165 [00:00<?, ?it/s]"
     ]
    },
    {
     "name": "stdout",
     "output_type": "stream",
     "text": [
      "[2018-02-11 22:04:59,697][MainProcess][allennlp.training.trainer][INFO] Training\n"
     ]
    },
    {
     "name": "stderr",
     "output_type": "stream",
     "text": [
      "token_accuracy: 1.00, accuracy: 1.00, loss: 0.04 ||: 100%|##########| 1165/1165 [01:10<00:00, 16.51it/s]"
     ]
    },
    {
     "name": "stdout",
     "output_type": "stream",
     "text": [
      "[2018-02-11 22:06:10,262][MainProcess][allennlp.training.trainer][INFO] Validating\n"
     ]
    },
    {
     "name": "stderr",
     "output_type": "stream",
     "text": [
      "\n",
      "token_accuracy: 0.99, accuracy: 0.96, loss: 50.26 ||: 100%|##########| 167/167 [00:05<00:00, 28.96it/s]\n"
     ]
    },
    {
     "name": "stdout",
     "output_type": "stream",
     "text": [
      "[2018-02-11 22:06:16,255][MainProcess][allennlp.training.trainer][INFO] Best validation performance so far. Copying weights to '../../experiments/subject_recognition_grid_search_2.02_11_20:56:18/best.th'.\n",
      "[2018-02-11 22:06:16,469][MainProcess][allennlp.training.trainer][INFO] Training token_accuracy : 0.999980    Validation token_accuracy : 0.989715 \n",
      "[2018-02-11 22:06:16,472][MainProcess][allennlp.training.trainer][INFO] Training accuracy : 0.999866    Validation accuracy : 0.957081 \n",
      "[2018-02-11 22:06:16,474][MainProcess][allennlp.training.trainer][INFO] Training loss : 0.040747    Validation loss : 50.256165 \n",
      "[2018-02-11 22:06:16,475][MainProcess][allennlp.training.trainer][INFO] Epoch duration: 00:01:16\n",
      "[2018-02-11 22:06:16,476][MainProcess][allennlp.training.trainer][INFO] Estimated training time remaining: 00:56:52\n",
      "[2018-02-11 22:06:16,477][MainProcess][allennlp.training.trainer][INFO] Epoch 55/99\n"
     ]
    },
    {
     "name": "stderr",
     "output_type": "stream",
     "text": [
      "\r",
      "  0%|          | 0/1165 [00:00<?, ?it/s]"
     ]
    },
    {
     "name": "stdout",
     "output_type": "stream",
     "text": [
      "[2018-02-11 22:06:16,483][MainProcess][allennlp.training.trainer][INFO] Training\n"
     ]
    },
    {
     "name": "stderr",
     "output_type": "stream",
     "text": [
      "token_accuracy: 1.00, accuracy: 1.00, loss: 0.04 ||: 100%|##########| 1165/1165 [01:14<00:00, 15.72it/s]"
     ]
    },
    {
     "name": "stdout",
     "output_type": "stream",
     "text": [
      "[2018-02-11 22:07:30,582][MainProcess][allennlp.training.trainer][INFO] Validating\n"
     ]
    },
    {
     "name": "stderr",
     "output_type": "stream",
     "text": [
      "\n",
      "token_accuracy: 0.99, accuracy: 0.96, loss: 50.30 ||: 100%|##########| 167/167 [00:06<00:00, 26.58it/s]\n"
     ]
    },
    {
     "name": "stdout",
     "output_type": "stream",
     "text": [
      "[2018-02-11 22:07:37,109][MainProcess][allennlp.training.trainer][INFO] Best validation performance so far. Copying weights to '../../experiments/subject_recognition_grid_search_2.02_11_20:56:18/best.th'.\n",
      "[2018-02-11 22:07:37,354][MainProcess][allennlp.training.trainer][INFO] Training token_accuracy : 0.999984    Validation token_accuracy : 0.989669 \n",
      "[2018-02-11 22:07:37,358][MainProcess][allennlp.training.trainer][INFO] Training accuracy : 0.999879    Validation accuracy : 0.957081 \n",
      "[2018-02-11 22:07:37,361][MainProcess][allennlp.training.trainer][INFO] Training loss : 0.041478    Validation loss : 50.296669 \n",
      "[2018-02-11 22:07:37,364][MainProcess][allennlp.training.trainer][INFO] Epoch duration: 00:01:20\n",
      "[2018-02-11 22:07:37,367][MainProcess][allennlp.training.trainer][INFO] Estimated training time remaining: 00:55:40\n",
      "[2018-02-11 22:07:37,369][MainProcess][allennlp.training.trainer][INFO] Epoch 56/99\n"
     ]
    },
    {
     "name": "stderr",
     "output_type": "stream",
     "text": [
      "\r",
      "  0%|          | 0/1165 [00:00<?, ?it/s]"
     ]
    },
    {
     "name": "stdout",
     "output_type": "stream",
     "text": [
      "[2018-02-11 22:07:37,376][MainProcess][allennlp.training.trainer][INFO] Training\n"
     ]
    },
    {
     "name": "stderr",
     "output_type": "stream",
     "text": [
      "token_accuracy: 1.00, accuracy: 1.00, loss: 0.04 ||: 100%|##########| 1165/1165 [01:12<00:00, 15.96it/s]"
     ]
    },
    {
     "name": "stdout",
     "output_type": "stream",
     "text": [
      "[2018-02-11 22:08:50,364][MainProcess][allennlp.training.trainer][INFO] Validating\n"
     ]
    },
    {
     "name": "stderr",
     "output_type": "stream",
     "text": [
      "\n",
      "token_accuracy: 0.99, accuracy: 0.96, loss: 50.34 ||: 100%|##########| 167/167 [00:06<00:00, 27.82it/s]\n"
     ]
    },
    {
     "name": "stdout",
     "output_type": "stream",
     "text": [
      "[2018-02-11 22:08:56,761][MainProcess][allennlp.training.trainer][INFO] Training token_accuracy : 0.999982    Validation token_accuracy : 0.989657 \n",
      "[2018-02-11 22:08:56,764][MainProcess][allennlp.training.trainer][INFO] Training accuracy : 0.999906    Validation accuracy : 0.956893 \n",
      "[2018-02-11 22:08:56,764][MainProcess][allennlp.training.trainer][INFO] Training loss : 0.040896    Validation loss : 50.338722 \n",
      "[2018-02-11 22:08:56,765][MainProcess][allennlp.training.trainer][INFO] Epoch duration: 00:01:19\n",
      "[2018-02-11 22:08:56,766][MainProcess][allennlp.training.trainer][INFO] Estimated training time remaining: 00:54:27\n",
      "[2018-02-11 22:08:56,766][MainProcess][allennlp.training.trainer][INFO] Epoch 57/99\n"
     ]
    },
    {
     "name": "stderr",
     "output_type": "stream",
     "text": [
      "\r",
      "  0%|          | 0/1165 [00:00<?, ?it/s]"
     ]
    },
    {
     "name": "stdout",
     "output_type": "stream",
     "text": [
      "[2018-02-11 22:08:56,773][MainProcess][allennlp.training.trainer][INFO] Training\n"
     ]
    },
    {
     "name": "stderr",
     "output_type": "stream",
     "text": [
      "token_accuracy: 1.00, accuracy: 1.00, loss: 0.04 ||: 100%|##########| 1165/1165 [01:15<00:00, 15.41it/s]"
     ]
    },
    {
     "name": "stdout",
     "output_type": "stream",
     "text": [
      "[2018-02-11 22:10:12,389][MainProcess][allennlp.training.trainer][INFO] Validating\n"
     ]
    },
    {
     "name": "stderr",
     "output_type": "stream",
     "text": [
      "\n",
      "token_accuracy: 0.99, accuracy: 0.96, loss: 50.37 ||: 100%|##########| 167/167 [00:05<00:00, 29.21it/s]\n"
     ]
    },
    {
     "name": "stdout",
     "output_type": "stream",
     "text": [
      "[2018-02-11 22:10:18,366][MainProcess][allennlp.training.trainer][INFO] Training token_accuracy : 0.999984    Validation token_accuracy : 0.989657 \n",
      "[2018-02-11 22:10:18,368][MainProcess][allennlp.training.trainer][INFO] Training accuracy : 0.999879    Validation accuracy : 0.956893 \n",
      "[2018-02-11 22:10:18,368][MainProcess][allennlp.training.trainer][INFO] Training loss : 0.037655    Validation loss : 50.365051 \n",
      "[2018-02-11 22:10:18,369][MainProcess][allennlp.training.trainer][INFO] Epoch duration: 00:01:21\n",
      "[2018-02-11 22:10:18,369][MainProcess][allennlp.training.trainer][INFO] Estimated training time remaining: 00:53:15\n",
      "[2018-02-11 22:10:18,370][MainProcess][allennlp.training.trainer][INFO] Epoch 58/99\n"
     ]
    },
    {
     "name": "stderr",
     "output_type": "stream",
     "text": [
      "\r",
      "  0%|          | 0/1165 [00:00<?, ?it/s]"
     ]
    },
    {
     "name": "stdout",
     "output_type": "stream",
     "text": [
      "[2018-02-11 22:10:18,371][MainProcess][allennlp.training.trainer][INFO] Training\n"
     ]
    },
    {
     "name": "stderr",
     "output_type": "stream",
     "text": [
      "token_accuracy: 1.00, accuracy: 1.00, loss: 0.03 ||: 100%|##########| 1165/1165 [01:11<00:00, 16.30it/s]"
     ]
    },
    {
     "name": "stdout",
     "output_type": "stream",
     "text": [
      "[2018-02-11 22:11:29,852][MainProcess][allennlp.training.trainer][INFO] Validating\n"
     ]
    },
    {
     "name": "stderr",
     "output_type": "stream",
     "text": [
      "\n",
      "token_accuracy: 0.99, accuracy: 0.96, loss: 50.42 ||: 100%|##########| 167/167 [00:05<00:00, 31.09it/s]\n"
     ]
    },
    {
     "name": "stdout",
     "output_type": "stream",
     "text": [
      "[2018-02-11 22:11:35,451][MainProcess][allennlp.training.trainer][INFO] Training token_accuracy : 0.999984    Validation token_accuracy : 0.989669 \n",
      "[2018-02-11 22:11:35,452][MainProcess][allennlp.training.trainer][INFO] Training accuracy : 0.999893    Validation accuracy : 0.956893 \n",
      "[2018-02-11 22:11:35,452][MainProcess][allennlp.training.trainer][INFO] Training loss : 0.033884    Validation loss : 50.417740 \n",
      "[2018-02-11 22:11:35,453][MainProcess][allennlp.training.trainer][INFO] Epoch duration: 00:01:17\n",
      "[2018-02-11 22:11:35,454][MainProcess][allennlp.training.trainer][INFO] Estimated training time remaining: 00:52:00\n",
      "[2018-02-11 22:11:35,454][MainProcess][allennlp.training.trainer][INFO] Epoch 59/99\n"
     ]
    },
    {
     "name": "stderr",
     "output_type": "stream",
     "text": [
      "\r",
      "  0%|          | 0/1165 [00:00<?, ?it/s]"
     ]
    },
    {
     "name": "stdout",
     "output_type": "stream",
     "text": [
      "[2018-02-11 22:11:35,458][MainProcess][allennlp.training.trainer][INFO] Training\n"
     ]
    },
    {
     "name": "stderr",
     "output_type": "stream",
     "text": [
      "token_accuracy: 1.00, accuracy: 1.00, loss: 0.04 ||: 100%|##########| 1165/1165 [01:09<00:00, 16.88it/s]"
     ]
    },
    {
     "name": "stdout",
     "output_type": "stream",
     "text": [
      "[2018-02-11 22:12:44,469][MainProcess][allennlp.training.trainer][INFO] Validating\n"
     ]
    },
    {
     "name": "stderr",
     "output_type": "stream",
     "text": [
      "\n",
      "token_accuracy: 0.99, accuracy: 0.96, loss: 50.47 ||: 100%|##########| 167/167 [00:05<00:00, 28.79it/s]\n"
     ]
    },
    {
     "name": "stdout",
     "output_type": "stream",
     "text": [
      "[2018-02-11 22:12:50,520][MainProcess][allennlp.training.trainer][INFO] Training token_accuracy : 0.999987    Validation token_accuracy : 0.989669 \n",
      "[2018-02-11 22:12:50,521][MainProcess][allennlp.training.trainer][INFO] Training accuracy : 0.999893    Validation accuracy : 0.956893 \n",
      "[2018-02-11 22:12:50,522][MainProcess][allennlp.training.trainer][INFO] Training loss : 0.036271    Validation loss : 50.474213 \n",
      "[2018-02-11 22:12:50,523][MainProcess][allennlp.training.trainer][INFO] Epoch duration: 00:01:15\n",
      "[2018-02-11 22:12:50,523][MainProcess][allennlp.training.trainer][INFO] Estimated training time remaining: 00:50:43\n",
      "[2018-02-11 22:12:50,523][MainProcess][allennlp.training.trainer][INFO] Epoch 60/99\n"
     ]
    },
    {
     "name": "stderr",
     "output_type": "stream",
     "text": [
      "\r",
      "  0%|          | 0/1165 [00:00<?, ?it/s]"
     ]
    },
    {
     "name": "stdout",
     "output_type": "stream",
     "text": [
      "[2018-02-11 22:12:50,528][MainProcess][allennlp.training.trainer][INFO] Training\n"
     ]
    },
    {
     "name": "stderr",
     "output_type": "stream",
     "text": [
      "token_accuracy: 1.00, accuracy: 1.00, loss: 0.02 ||:   5%|5         | 60/1165 [00:04<01:32, 12.01it/s]"
     ]
    },
    {
     "ename": "KeyboardInterrupt",
     "evalue": "",
     "output_type": "error",
     "traceback": [
      "\u001b[0;31m---------------------------------------------------------------------------\u001b[0m",
      "\u001b[0;31mKeyboardInterrupt\u001b[0m                         Traceback (most recent call last)",
      "\u001b[0;32m<ipython-input-6-735a5a67806d>\u001b[0m in \u001b[0;36m<module>\u001b[0;34m()\u001b[0m\n\u001b[1;32m     20\u001b[0m     \u001b[0mprint\u001b[0m\u001b[0;34m(\u001b[0m\u001b[0;34m'Serialization Directory:'\u001b[0m\u001b[0;34m,\u001b[0m \u001b[0mexperiment_folder\u001b[0m\u001b[0;34m)\u001b[0m\u001b[0;34m\u001b[0m\u001b[0m\n\u001b[1;32m     21\u001b[0m     \u001b[0mparams\u001b[0m \u001b[0;34m=\u001b[0m \u001b[0mParams\u001b[0m\u001b[0;34m(\u001b[0m\u001b[0mhyperparameters\u001b[0m\u001b[0;34m)\u001b[0m\u001b[0;34m\u001b[0m\u001b[0m\n\u001b[0;32m---> 22\u001b[0;31m     \u001b[0mtrain_model\u001b[0m\u001b[0;34m(\u001b[0m\u001b[0mparams\u001b[0m\u001b[0;34m=\u001b[0m\u001b[0mparams\u001b[0m\u001b[0;34m,\u001b[0m \u001b[0mserialization_dir\u001b[0m\u001b[0;34m=\u001b[0m\u001b[0mexperiment_folder\u001b[0m\u001b[0;34m)\u001b[0m\u001b[0;34m\u001b[0m\u001b[0m\n\u001b[0m\u001b[1;32m     23\u001b[0m     \u001b[0mshutil\u001b[0m\u001b[0;34m.\u001b[0m\u001b[0mrmtree\u001b[0m\u001b[0;34m(\u001b[0m\u001b[0mexperiment_folder\u001b[0m\u001b[0;34m)\u001b[0m\u001b[0;34m\u001b[0m\u001b[0m\n\u001b[1;32m     24\u001b[0m     \u001b[0mparams\u001b[0m \u001b[0;34m=\u001b[0m \u001b[0;32mNone\u001b[0m\u001b[0;34m\u001b[0m\u001b[0m\n",
      "\u001b[0;32m~/Desktop/allennlp/allennlp/commands/train.py\u001b[0m in \u001b[0;36mtrain_model\u001b[0;34m(params, serialization_dir)\u001b[0m\n\u001b[1;32m    181\u001b[0m     \u001b[0mevaluate_on_test\u001b[0m \u001b[0;34m=\u001b[0m \u001b[0mparams\u001b[0m\u001b[0;34m.\u001b[0m\u001b[0mpop_bool\u001b[0m\u001b[0;34m(\u001b[0m\u001b[0;34m\"evaluate_on_test\"\u001b[0m\u001b[0;34m,\u001b[0m \u001b[0;32mFalse\u001b[0m\u001b[0;34m)\u001b[0m\u001b[0;34m\u001b[0m\u001b[0m\n\u001b[1;32m    182\u001b[0m     \u001b[0mparams\u001b[0m\u001b[0;34m.\u001b[0m\u001b[0massert_empty\u001b[0m\u001b[0;34m(\u001b[0m\u001b[0;34m'base train command'\u001b[0m\u001b[0;34m)\u001b[0m\u001b[0;34m\u001b[0m\u001b[0m\n\u001b[0;32m--> 183\u001b[0;31m     \u001b[0mtrainer\u001b[0m\u001b[0;34m.\u001b[0m\u001b[0mtrain\u001b[0m\u001b[0;34m(\u001b[0m\u001b[0;34m)\u001b[0m\u001b[0;34m\u001b[0m\u001b[0m\n\u001b[0m\u001b[1;32m    184\u001b[0m \u001b[0;34m\u001b[0m\u001b[0m\n\u001b[1;32m    185\u001b[0m     \u001b[0;31m# Now tar up results\u001b[0m\u001b[0;34m\u001b[0m\u001b[0;34m\u001b[0m\u001b[0m\n",
      "\u001b[0;32m~/Desktop/allennlp/allennlp/training/trainer.py\u001b[0m in \u001b[0;36mtrain\u001b[0;34m(self)\u001b[0m\n\u001b[1;32m    372\u001b[0m         \u001b[0;32mfor\u001b[0m \u001b[0mepoch\u001b[0m \u001b[0;32min\u001b[0m \u001b[0mrange\u001b[0m\u001b[0;34m(\u001b[0m\u001b[0mepoch_counter\u001b[0m\u001b[0;34m,\u001b[0m \u001b[0mself\u001b[0m\u001b[0;34m.\u001b[0m\u001b[0m_num_epochs\u001b[0m\u001b[0;34m)\u001b[0m\u001b[0;34m:\u001b[0m\u001b[0;34m\u001b[0m\u001b[0m\n\u001b[1;32m    373\u001b[0m             \u001b[0mepoch_start_time\u001b[0m \u001b[0;34m=\u001b[0m \u001b[0mtime\u001b[0m\u001b[0;34m.\u001b[0m\u001b[0mtime\u001b[0m\u001b[0;34m(\u001b[0m\u001b[0;34m)\u001b[0m\u001b[0;34m\u001b[0m\u001b[0m\n\u001b[0;32m--> 374\u001b[0;31m             \u001b[0mtrain_metrics\u001b[0m \u001b[0;34m=\u001b[0m \u001b[0mself\u001b[0m\u001b[0;34m.\u001b[0m\u001b[0m_train_epoch\u001b[0m\u001b[0;34m(\u001b[0m\u001b[0mepoch\u001b[0m\u001b[0;34m)\u001b[0m\u001b[0;34m\u001b[0m\u001b[0m\n\u001b[0m\u001b[1;32m    375\u001b[0m \u001b[0;34m\u001b[0m\u001b[0m\n\u001b[1;32m    376\u001b[0m             \u001b[0;32mif\u001b[0m \u001b[0mself\u001b[0m\u001b[0;34m.\u001b[0m\u001b[0m_validation_dataset\u001b[0m \u001b[0;32mis\u001b[0m \u001b[0;32mnot\u001b[0m \u001b[0;32mNone\u001b[0m\u001b[0;34m:\u001b[0m\u001b[0;34m\u001b[0m\u001b[0m\n",
      "\u001b[0;32m~/Desktop/allennlp/allennlp/training/trainer.py\u001b[0m in \u001b[0;36m_train_epoch\u001b[0;34m(self, epoch)\u001b[0m\n\u001b[1;32m    217\u001b[0m \u001b[0;34m\u001b[0m\u001b[0m\n\u001b[1;32m    218\u001b[0m         \u001b[0mlogger\u001b[0m\u001b[0;34m.\u001b[0m\u001b[0minfo\u001b[0m\u001b[0;34m(\u001b[0m\u001b[0;34m\"Training\"\u001b[0m\u001b[0;34m)\u001b[0m\u001b[0;34m\u001b[0m\u001b[0m\n\u001b[0;32m--> 219\u001b[0;31m         \u001b[0;32mfor\u001b[0m \u001b[0mbatch\u001b[0m \u001b[0;32min\u001b[0m \u001b[0mtrain_generator_tqdm\u001b[0m\u001b[0;34m:\u001b[0m\u001b[0;34m\u001b[0m\u001b[0m\n\u001b[0m\u001b[1;32m    220\u001b[0m             \u001b[0mbatch_num\u001b[0m \u001b[0;34m+=\u001b[0m \u001b[0;36m1\u001b[0m\u001b[0;34m\u001b[0m\u001b[0m\n\u001b[1;32m    221\u001b[0m             \u001b[0mself\u001b[0m\u001b[0;34m.\u001b[0m\u001b[0m_optimizer\u001b[0m\u001b[0;34m.\u001b[0m\u001b[0mzero_grad\u001b[0m\u001b[0;34m(\u001b[0m\u001b[0;34m)\u001b[0m\u001b[0;34m\u001b[0m\u001b[0m\n",
      "\u001b[0;32m/usr/local/lib/python3.6/dist-packages/tqdm/_tqdm.py\u001b[0m in \u001b[0;36m__iter__\u001b[0;34m(self)\u001b[0m\n\u001b[1;32m    951\u001b[0m \"\"\", fp_write=getattr(self.fp, 'write', sys.stderr.write))\n\u001b[1;32m    952\u001b[0m \u001b[0;34m\u001b[0m\u001b[0m\n\u001b[0;32m--> 953\u001b[0;31m             \u001b[0;32mfor\u001b[0m \u001b[0mobj\u001b[0m \u001b[0;32min\u001b[0m \u001b[0miterable\u001b[0m\u001b[0;34m:\u001b[0m\u001b[0;34m\u001b[0m\u001b[0m\n\u001b[0m\u001b[1;32m    954\u001b[0m                 \u001b[0;32myield\u001b[0m \u001b[0mobj\u001b[0m\u001b[0;34m\u001b[0m\u001b[0m\n\u001b[1;32m    955\u001b[0m                 \u001b[0;31m# Update and possibly print the progressbar.\u001b[0m\u001b[0;34m\u001b[0m\u001b[0;34m\u001b[0m\u001b[0m\n",
      "\u001b[0;32m~/Desktop/allennlp/allennlp/data/iterators/data_iterator.py\u001b[0m in \u001b[0;36m__call__\u001b[0;34m(self, dataset, num_epochs, shuffle, cuda_device, for_training)\u001b[0m\n\u001b[1;32m     52\u001b[0m         \u001b[0;32melse\u001b[0m\u001b[0;34m:\u001b[0m\u001b[0;34m\u001b[0m\u001b[0m\n\u001b[1;32m     53\u001b[0m             \u001b[0;32mfor\u001b[0m \u001b[0m_\u001b[0m \u001b[0;32min\u001b[0m \u001b[0mrange\u001b[0m\u001b[0;34m(\u001b[0m\u001b[0mnum_epochs\u001b[0m\u001b[0;34m)\u001b[0m\u001b[0;34m:\u001b[0m\u001b[0;34m\u001b[0m\u001b[0m\n\u001b[0;32m---> 54\u001b[0;31m                 \u001b[0;32myield\u001b[0m \u001b[0;32mfrom\u001b[0m \u001b[0mself\u001b[0m\u001b[0;34m.\u001b[0m\u001b[0m_yield_one_epoch\u001b[0m\u001b[0;34m(\u001b[0m\u001b[0mdataset\u001b[0m\u001b[0;34m,\u001b[0m \u001b[0mshuffle\u001b[0m\u001b[0;34m,\u001b[0m \u001b[0mcuda_device\u001b[0m\u001b[0;34m,\u001b[0m \u001b[0mfor_training\u001b[0m\u001b[0;34m)\u001b[0m\u001b[0;34m\u001b[0m\u001b[0m\n\u001b[0m\u001b[1;32m     55\u001b[0m \u001b[0;34m\u001b[0m\u001b[0m\n\u001b[1;32m     56\u001b[0m     \u001b[0;32mdef\u001b[0m \u001b[0mget_num_batches\u001b[0m\u001b[0;34m(\u001b[0m\u001b[0mself\u001b[0m\u001b[0;34m,\u001b[0m \u001b[0mdataset\u001b[0m\u001b[0;34m:\u001b[0m \u001b[0mDataset\u001b[0m\u001b[0;34m)\u001b[0m \u001b[0;34m->\u001b[0m \u001b[0mint\u001b[0m\u001b[0;34m:\u001b[0m\u001b[0;34m\u001b[0m\u001b[0m\n",
      "\u001b[0;32m~/Desktop/allennlp/allennlp/data/iterators/data_iterator.py\u001b[0m in \u001b[0;36m_yield_one_epoch\u001b[0;34m(self, dataset, shuffle, cuda_device, for_training)\u001b[0m\n\u001b[1;32m     71\u001b[0m             yield batch.as_tensor_dict(padding_lengths,\n\u001b[1;32m     72\u001b[0m                                        \u001b[0mcuda_device\u001b[0m\u001b[0;34m=\u001b[0m\u001b[0mcuda_device\u001b[0m\u001b[0;34m,\u001b[0m\u001b[0;34m\u001b[0m\u001b[0m\n\u001b[0;32m---> 73\u001b[0;31m                                        for_training=for_training)\n\u001b[0m\u001b[1;32m     74\u001b[0m \u001b[0;34m\u001b[0m\u001b[0m\n\u001b[1;32m     75\u001b[0m     \u001b[0;32mdef\u001b[0m \u001b[0m_create_batches\u001b[0m\u001b[0;34m(\u001b[0m\u001b[0mself\u001b[0m\u001b[0;34m,\u001b[0m \u001b[0mdataset\u001b[0m\u001b[0;34m:\u001b[0m \u001b[0mDataset\u001b[0m\u001b[0;34m,\u001b[0m \u001b[0mshuffle\u001b[0m\u001b[0;34m:\u001b[0m \u001b[0mbool\u001b[0m\u001b[0;34m)\u001b[0m \u001b[0;34m->\u001b[0m \u001b[0mList\u001b[0m\u001b[0;34m[\u001b[0m\u001b[0mList\u001b[0m\u001b[0;34m[\u001b[0m\u001b[0mInstance\u001b[0m\u001b[0;34m]\u001b[0m\u001b[0;34m]\u001b[0m\u001b[0;34m:\u001b[0m\u001b[0;34m\u001b[0m\u001b[0m\n",
      "\u001b[0;32m~/Desktop/allennlp/allennlp/data/dataset.py\u001b[0m in \u001b[0;36mas_tensor_dict\u001b[0;34m(self, padding_lengths, cuda_device, for_training, verbose)\u001b[0m\n\u001b[1;32m    164\u001b[0m             \u001b[0mlogger\u001b[0m\u001b[0;34m.\u001b[0m\u001b[0minfo\u001b[0m\u001b[0;34m(\u001b[0m\u001b[0;34m\"Now actually padding instances to length: %s\"\u001b[0m\u001b[0;34m,\u001b[0m \u001b[0mstr\u001b[0m\u001b[0;34m(\u001b[0m\u001b[0mlengths_to_use\u001b[0m\u001b[0;34m)\u001b[0m\u001b[0;34m)\u001b[0m\u001b[0;34m\u001b[0m\u001b[0m\n\u001b[1;32m    165\u001b[0m         \u001b[0;32mfor\u001b[0m \u001b[0minstance\u001b[0m \u001b[0;32min\u001b[0m \u001b[0mself\u001b[0m\u001b[0;34m.\u001b[0m\u001b[0minstances\u001b[0m\u001b[0;34m:\u001b[0m\u001b[0;34m\u001b[0m\u001b[0m\n\u001b[0;32m--> 166\u001b[0;31m             \u001b[0;32mfor\u001b[0m \u001b[0mfield\u001b[0m\u001b[0;34m,\u001b[0m \u001b[0mtensors\u001b[0m \u001b[0;32min\u001b[0m \u001b[0minstance\u001b[0m\u001b[0;34m.\u001b[0m\u001b[0mas_tensor_dict\u001b[0m\u001b[0;34m(\u001b[0m\u001b[0mlengths_to_use\u001b[0m\u001b[0;34m,\u001b[0m \u001b[0mcuda_device\u001b[0m\u001b[0;34m,\u001b[0m \u001b[0mfor_training\u001b[0m\u001b[0;34m)\u001b[0m\u001b[0;34m.\u001b[0m\u001b[0mitems\u001b[0m\u001b[0;34m(\u001b[0m\u001b[0;34m)\u001b[0m\u001b[0;34m:\u001b[0m\u001b[0;34m\u001b[0m\u001b[0m\n\u001b[0m\u001b[1;32m    167\u001b[0m                 \u001b[0mfield_tensors\u001b[0m\u001b[0;34m[\u001b[0m\u001b[0mfield\u001b[0m\u001b[0;34m]\u001b[0m\u001b[0;34m.\u001b[0m\u001b[0mappend\u001b[0m\u001b[0;34m(\u001b[0m\u001b[0mtensors\u001b[0m\u001b[0;34m)\u001b[0m\u001b[0;34m\u001b[0m\u001b[0m\n\u001b[1;32m    168\u001b[0m \u001b[0;34m\u001b[0m\u001b[0m\n",
      "\u001b[0;32m~/Desktop/allennlp/allennlp/data/instance.py\u001b[0m in \u001b[0;36mas_tensor_dict\u001b[0;34m(self, padding_lengths, cuda_device, for_training)\u001b[0m\n\u001b[1;32m     69\u001b[0m             tensors[field_name] = field.as_tensor(padding_lengths[field_name],\n\u001b[1;32m     70\u001b[0m                                                   \u001b[0mcuda_device\u001b[0m\u001b[0;34m=\u001b[0m\u001b[0mcuda_device\u001b[0m\u001b[0;34m,\u001b[0m\u001b[0;34m\u001b[0m\u001b[0m\n\u001b[0;32m---> 71\u001b[0;31m                                                   for_training=for_training)\n\u001b[0m\u001b[1;32m     72\u001b[0m         \u001b[0;32mreturn\u001b[0m \u001b[0mtensors\u001b[0m\u001b[0;34m\u001b[0m\u001b[0m\n",
      "\u001b[0;32m~/Desktop/allennlp/allennlp/data/fields/text_field.py\u001b[0m in \u001b[0;36mas_tensor\u001b[0;34m(self, padding_lengths, cuda_device, for_training)\u001b[0m\n\u001b[1;32m    108\u001b[0m         \u001b[0mdesired_num_tokens\u001b[0m \u001b[0;34m=\u001b[0m \u001b[0mpadding_lengths\u001b[0m\u001b[0;34m[\u001b[0m\u001b[0;34m'num_tokens'\u001b[0m\u001b[0;34m]\u001b[0m\u001b[0;34m\u001b[0m\u001b[0m\n\u001b[1;32m    109\u001b[0m         \u001b[0;32mfor\u001b[0m \u001b[0mindexer_name\u001b[0m\u001b[0;34m,\u001b[0m \u001b[0mindexer\u001b[0m \u001b[0;32min\u001b[0m \u001b[0mself\u001b[0m\u001b[0;34m.\u001b[0m\u001b[0m_token_indexers\u001b[0m\u001b[0;34m.\u001b[0m\u001b[0mitems\u001b[0m\u001b[0;34m(\u001b[0m\u001b[0;34m)\u001b[0m\u001b[0;34m:\u001b[0m\u001b[0;34m\u001b[0m\u001b[0m\n\u001b[0;32m--> 110\u001b[0;31m             padded_array = indexer.pad_token_sequence(self._indexed_tokens[indexer_name],\n\u001b[0m\u001b[1;32m    111\u001b[0m                                                       desired_num_tokens, padding_lengths)\n\u001b[1;32m    112\u001b[0m             \u001b[0;31m# We use the key of the indexer to recognise what the tensor corresponds to within the\u001b[0m\u001b[0;34m\u001b[0m\u001b[0;34m\u001b[0m\u001b[0m\n",
      "\u001b[0;31mKeyboardInterrupt\u001b[0m: "
     ]
    },
    {
     "name": "stderr",
     "output_type": "stream",
     "text": [
      "\r",
      "token_accuracy: 1.00, accuracy: 1.00, loss: 0.02 ||:   5%|5         | 60/1165 [00:20<06:08,  3.00it/s]"
     ]
    },
    {
     "name": "stdout",
     "output_type": "stream",
     "text": [
      "[2018-02-11 22:13:34,463][MainProcess][allennlp.models.archival][INFO] archiving weights and vocabulary to ../../experiments/subject_recognition_grid_search_2.02_11_20:56:18/model.tar.gz\n"
     ]
    }
   ],
   "source": [
    "import torch\n",
    "from lib.utils import config_logging\n",
    "from lib.utils import new_experiment_folder\n",
    "from allennlp.commands.train import train_model\n",
    "import json\n",
    "import copy\n",
    "import shutil\n",
    "\n",
    "\n",
    "\n",
    "config_logging()\n",
    "\n",
    "for i, (rand_int,) in enumerate(points):\n",
    "    hyperparameters = copy.deepcopy(crf_tagger)\n",
    "    hyperparameters['pytorch_seed'] = rand_int\n",
    "    hyperparameters['numpy_seed'] = rand_int\n",
    "    hyperparameters['random_seed'] = rand_int\n",
    "    print('–' * 100)\n",
    "    experiment_folder = new_experiment_folder(label='subject_recognition_grid_search_' + str(i),\n",
    "                                          parent_directory='../../experiments/')\n",
    "    print('Seed: %s' % rand_int)\n",
    "    print('Serialization Directory:', experiment_folder)\n",
    "    params = Params(hyperparameters)\n",
    "    train_model(params=params, serialization_dir=experiment_folder)\n",
    "    shutil.rmtree(experiment_folder)\n",
    "    params = None\n",
    "    torch.cuda.empty_cache()"
   ]
  }
 ],
 "metadata": {
  "kernelspec": {
   "display_name": "Python 3",
   "language": "python",
   "name": "python3"
  },
  "language_info": {
   "codemirror_mode": {
    "name": "ipython",
    "version": 3
   },
   "file_extension": ".py",
   "mimetype": "text/x-python",
   "name": "python",
   "nbconvert_exporter": "python",
   "pygments_lexer": "ipython3",
   "version": "3.6.4"
  }
 },
 "nbformat": 4,
 "nbformat_minor": 2
}
