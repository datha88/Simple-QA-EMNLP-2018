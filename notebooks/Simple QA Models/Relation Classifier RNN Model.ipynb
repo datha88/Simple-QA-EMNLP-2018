{
 "cells": [
  {
   "cell_type": "markdown",
   "metadata": {},
   "source": [
    "# Relation Classifier RNN Model\n",
    "\n",
    "Our goal here is to implement a relation model. Our goal is to do basic relation classification.\n",
    "\n",
    "First things first, set up the initial configuration."
   ]
  },
  {
   "cell_type": "code",
   "execution_count": 61,
   "metadata": {},
   "outputs": [],
   "source": [
    "import sys\n",
    "sys.path.insert(0, '../../')"
   ]
  },
  {
   "cell_type": "code",
   "execution_count": 62,
   "metadata": {},
   "outputs": [
    {
     "name": "stderr",
     "output_type": "stream",
     "text": [
      "/mount/arbeitsdaten46/projekte/dialog-1/kanjurva/Simple-QA-EMNLP-2018/venv2/lib/python3.6/site-packages/ipykernel_launcher.py:4: TqdmDeprecationWarning: This function will be removed in tqdm==5.0.0\n",
      "Please use `tqdm.notebook.tqdm` instead of `tqdm.tqdm_notebook`\n",
      "  after removing the cwd from sys.path.\n"
     ]
    },
    {
     "data": {
      "application/vnd.jupyter.widget-view+json": {
       "model_id": "",
       "version_major": 2,
       "version_minor": 0
      },
      "text/plain": [
       "HBox(children=(HTML(value=''), FloatProgress(value=1.0, bar_style='info', layout=Layout(width='20px'), max=1.0…"
      ]
     },
     "metadata": {},
     "output_type": "display_data"
    }
   ],
   "source": [
    "from tqdm import tqdm_notebook\n",
    "from functools import partial\n",
    "tqdm_notebook = partial(tqdm_notebook, leave=False)\n",
    "tqdm_notebook().pandas()"
   ]
  },
  {
   "cell_type": "code",
   "execution_count": 63,
   "metadata": {},
   "outputs": [
    {
     "name": "stdout",
     "output_type": "stream",
     "text": [
      "Experiment Folder: ../../experiments/relation_classifier.11_22_09:44:26\n",
      "[2020-11-22 09:44:26,990][MainProcess][__main__][INFO] Device: 0\n",
      "[2020-11-22 09:44:26,999][MainProcess][lib.utils][INFO] Seed: 1212212\n"
     ]
    }
   ],
   "source": [
    "import logging\n",
    "\n",
    "from lib.utils import config_logging\n",
    "from lib.utils import new_experiment_folder\n",
    "from lib.utils import seed\n",
    "from lib.utils import save_standard_streams\n",
    "from lib.utils import device_default\n",
    "\n",
    "experiment_folder = new_experiment_folder(label='relation_classifier', parent_directory='../../experiments/')\n",
    "print('Experiment Folder: %s' % experiment_folder)\n",
    "save_standard_streams(experiment_folder) # Copy Stdout and Stderr to experiments folder\n",
    "\n",
    "config_logging()\n",
    "logger = logging.getLogger(__name__)\n",
    "\n",
    "device = device_default(device=0)\n",
    "logger.info('Device: %d', device)\n",
    "is_cuda = device >= 0\n",
    "cuda = lambda t: t.cuda(device=device) if is_cuda else t\n",
    "\n",
    "random_seed = 1212212 #123 #457 #1212212\n",
    "seed(random_seed, is_cuda=is_cuda)\n",
    "\n",
    "# Async minibatch allocation for speed\n",
    "# Reference: http://timdettmers.com/2015/03/09/deep-learning-hardware-guide/\n",
    "cuda_async = lambda t: t.cuda(device=device, async=True) if is_cuda else t"
   ]
  },
  {
   "cell_type": "markdown",
   "metadata": {},
   "source": [
    "## Dataset\n",
    "\n",
    "Load our dataset. Log a couple rows."
   ]
  },
  {
   "cell_type": "code",
   "execution_count": 64,
   "metadata": {},
   "outputs": [],
   "source": [
    "import os\n",
    "import pandas as pd\n",
    "from tqdm import tqdm_notebook\n",
    "from torchnlp.datasets import Dataset\n",
    "\n",
    "def simple_qa_predicate(directory='../../data/relation_ranking/',\n",
    "               train=False,\n",
    "               dev=False,\n",
    "               test=False,\n",
    "               train_filename='train.txt',\n",
    "               dev_filename='dev.txt',\n",
    "               test_filename=''):\n",
    "    \"\"\"\n",
    "    Example line example: \n",
    "        film/film/country\tfilm/film/country film/film/genre film/film/language\twhat country is <e> from ?\n",
    "    Vocab example: \n",
    "        /film/film/genre\n",
    "    \n",
    "    Sample Data:\n",
    "        Question: 'which genre of album is #head_entity# ?'\n",
    "        True Relation: '/music/album/genre'\n",
    "        False Relation Pool: ['/music/album/release_type', '/music/album/genre', '/music/album/artist']\n",
    "    \"\"\"\n",
    "    ret = []\n",
    "    datasets = [(train, train_filename), (dev, dev_filename), (test, test_filename)]\n",
    "    for is_requested, filename in datasets:\n",
    "        if not is_requested:\n",
    "            continue\n",
    "            \n",
    "        file_path = os.path.join(directory, filename)\n",
    "        data = pd.read_table(file_path, header=None, names=['True Relation', 'Relation Pool', 'Question', 'Entity'])\n",
    "        rows = []\n",
    "        for i, row in tqdm_notebook(data.iterrows(), total=data.shape[0]):\n",
    "            relation_pool = list(set(row['Relation Pool'].split()))\n",
    "            rows.append({\n",
    "                'text': row['Question'].strip(),\n",
    "                'relation': row['True Relation'],\n",
    "                'pool': relation_pool,\n",
    "                'entity': row['Entity'].strip()})\n",
    "            \n",
    "        ret.append(Dataset(rows))\n",
    "\n",
    "    if len(ret) == 1:\n",
    "        return ret[0]\n",
    "    else:\n",
    "        return tuple(ret)"
   ]
  },
  {
   "cell_type": "code",
   "execution_count": 65,
   "metadata": {},
   "outputs": [
    {
     "name": "stderr",
     "output_type": "stream",
     "text": [
      "/mount/arbeitsdaten46/projekte/dialog-1/kanjurva/Simple-QA-EMNLP-2018/venv2/lib/python3.6/site-packages/ipykernel_launcher.py:33: TqdmDeprecationWarning: This function will be removed in tqdm==5.0.0\n",
      "Please use `tqdm.notebook.tqdm` instead of `tqdm.tqdm_notebook`\n"
     ]
    },
    {
     "data": {
      "application/vnd.jupyter.widget-view+json": {
       "model_id": "611d6ca6c8cf4744960e9755e680fcea",
       "version_major": 2,
       "version_minor": 0
      },
      "text/plain": [
       "HBox(children=(HTML(value=''), FloatProgress(value=0.0, max=75900.0), HTML(value='')))"
      ]
     },
     "metadata": {},
     "output_type": "display_data"
    },
    {
     "name": "stdout",
     "output_type": "stream",
     "text": [
      "\n"
     ]
    },
    {
     "data": {
      "application/vnd.jupyter.widget-view+json": {
       "model_id": "bcad106194ac438ab9a3ab80069c8aed",
       "version_major": 2,
       "version_minor": 0
      },
      "text/plain": [
       "HBox(children=(HTML(value=''), FloatProgress(value=0.0, max=10845.0), HTML(value='')))"
      ]
     },
     "metadata": {},
     "output_type": "display_data"
    },
    {
     "name": "stdout",
     "output_type": "stream",
     "text": [
      "\n",
      "Num Training Data: 75900\n",
      "Train Sample:\n"
     ]
    },
    {
     "data": {
      "text/html": [
       "<div>\n",
       "<style>\n",
       "    .dataframe thead tr:only-child th {\n",
       "        text-align: right;\n",
       "    }\n",
       "\n",
       "    .dataframe thead th {\n",
       "        text-align: left;\n",
       "    }\n",
       "\n",
       "    .dataframe tbody tr th {\n",
       "        vertical-align: top;\n",
       "    }\n",
       "</style>\n",
       "<table border=\"1\" class=\"dataframe\">\n",
       "  <thead>\n",
       "    <tr style=\"text-align: right;\">\n",
       "      <th></th>\n",
       "      <th>entity</th>\n",
       "      <th>pool</th>\n",
       "      <th>relation</th>\n",
       "      <th>text</th>\n",
       "    </tr>\n",
       "  </thead>\n",
       "  <tbody>\n",
       "    <tr>\n",
       "      <th>0</th>\n",
       "      <td>e</td>\n",
       "      <td>[music/performance_role/regular_performances, ...</td>\n",
       "      <td>book/written_work/subjects</td>\n",
       "      <td>what is the book &lt;e&gt; about</td>\n",
       "    </tr>\n",
       "    <tr>\n",
       "      <th>1</th>\n",
       "      <td>cardiac arrest</td>\n",
       "      <td>[music/recording/canonical_version, music/albu...</td>\n",
       "      <td>music/release_track/release</td>\n",
       "      <td>to what release does the release track &lt;e&gt; com...</td>\n",
       "    </tr>\n",
       "    <tr>\n",
       "      <th>2</th>\n",
       "      <td>the debt</td>\n",
       "      <td>[film/film/production_companies, music/album/r...</td>\n",
       "      <td>film/film/country</td>\n",
       "      <td>what country was the film &lt;e&gt; from</td>\n",
       "    </tr>\n",
       "    <tr>\n",
       "      <th>3</th>\n",
       "      <td>nobuo uematsu</td>\n",
       "      <td>[people/person/nationality, music/lyricist/lyr...</td>\n",
       "      <td>music/producer/tracks_produced</td>\n",
       "      <td>what songs have &lt;e&gt; produced ?</td>\n",
       "    </tr>\n",
       "    <tr>\n",
       "      <th>4</th>\n",
       "      <td>eve - olution</td>\n",
       "      <td>[music/album/release_type, music/album/artist,...</td>\n",
       "      <td>music/release/producers</td>\n",
       "      <td>who produced &lt;e&gt; ?</td>\n",
       "    </tr>\n",
       "  </tbody>\n",
       "</table>\n",
       "</div>"
      ],
      "text/plain": [
       "           entity                                               pool  \\\n",
       "0               e  [music/performance_role/regular_performances, ...   \n",
       "1  cardiac arrest  [music/recording/canonical_version, music/albu...   \n",
       "2        the debt  [film/film/production_companies, music/album/r...   \n",
       "3   nobuo uematsu  [people/person/nationality, music/lyricist/lyr...   \n",
       "4   eve - olution  [music/album/release_type, music/album/artist,...   \n",
       "\n",
       "                         relation  \\\n",
       "0      book/written_work/subjects   \n",
       "1     music/release_track/release   \n",
       "2               film/film/country   \n",
       "3  music/producer/tracks_produced   \n",
       "4         music/release/producers   \n",
       "\n",
       "                                                text  \n",
       "0                         what is the book <e> about  \n",
       "1  to what release does the release track <e> com...  \n",
       "2                 what country was the film <e> from  \n",
       "3                     what songs have <e> produced ?  \n",
       "4                                 who produced <e> ?  "
      ]
     },
     "metadata": {},
     "output_type": "display_data"
    },
    {
     "name": "stdout",
     "output_type": "stream",
     "text": [
      "Num Development Data: 10845\n",
      "Development Sample:\n"
     ]
    },
    {
     "data": {
      "text/html": [
       "<div>\n",
       "<style>\n",
       "    .dataframe thead tr:only-child th {\n",
       "        text-align: right;\n",
       "    }\n",
       "\n",
       "    .dataframe thead th {\n",
       "        text-align: left;\n",
       "    }\n",
       "\n",
       "    .dataframe tbody tr th {\n",
       "        vertical-align: top;\n",
       "    }\n",
       "</style>\n",
       "<table border=\"1\" class=\"dataframe\">\n",
       "  <thead>\n",
       "    <tr style=\"text-align: right;\">\n",
       "      <th></th>\n",
       "      <th>entity</th>\n",
       "      <th>pool</th>\n",
       "      <th>relation</th>\n",
       "      <th>text</th>\n",
       "    </tr>\n",
       "  </thead>\n",
       "  <tbody>\n",
       "    <tr>\n",
       "      <th>0</th>\n",
       "      <td>american</td>\n",
       "      <td>[people/ethnicity/people, dining/cuisine/ingre...</td>\n",
       "      <td>biology/organism_classification/organisms_of_t...</td>\n",
       "      <td>name an &lt;e&gt; thoroughbread racehorse</td>\n",
       "    </tr>\n",
       "    <tr>\n",
       "      <th>1</th>\n",
       "      <td>vision racing driving simulator</td>\n",
       "      <td>[cvg/computer_videogame/cvg_genre, cvg/compute...</td>\n",
       "      <td>cvg/computer_videogame/cvg_genre</td>\n",
       "      <td>what kind of game is &lt;e&gt; ?</td>\n",
       "    </tr>\n",
       "    <tr>\n",
       "      <th>2</th>\n",
       "      <td>romance film</td>\n",
       "      <td>[film/film_subject/films, film/film_genre/film...</td>\n",
       "      <td>tv/tv_genre/programs</td>\n",
       "      <td>what tv program is &lt;e&gt;</td>\n",
       "    </tr>\n",
       "    <tr>\n",
       "      <th>3</th>\n",
       "      <td>polaski</td>\n",
       "      <td>[location/location/containedby]</td>\n",
       "      <td>location/location/containedby</td>\n",
       "      <td>what state is &lt;e&gt; located in</td>\n",
       "    </tr>\n",
       "    <tr>\n",
       "      <th>4</th>\n",
       "      <td>fern emmett</td>\n",
       "      <td>[people/person/place_of_birth, people/person/p...</td>\n",
       "      <td>people/deceased_person/cause_of_death</td>\n",
       "      <td>what disease claimed the life of &lt;e&gt;</td>\n",
       "    </tr>\n",
       "  </tbody>\n",
       "</table>\n",
       "</div>"
      ],
      "text/plain": [
       "                            entity  \\\n",
       "0                         american   \n",
       "1  vision racing driving simulator   \n",
       "2                     romance film   \n",
       "3                          polaski   \n",
       "4                      fern emmett   \n",
       "\n",
       "                                                pool  \\\n",
       "0  [people/ethnicity/people, dining/cuisine/ingre...   \n",
       "1  [cvg/computer_videogame/cvg_genre, cvg/compute...   \n",
       "2  [film/film_subject/films, film/film_genre/film...   \n",
       "3                    [location/location/containedby]   \n",
       "4  [people/person/place_of_birth, people/person/p...   \n",
       "\n",
       "                                            relation  \\\n",
       "0  biology/organism_classification/organisms_of_t...   \n",
       "1                   cvg/computer_videogame/cvg_genre   \n",
       "2                               tv/tv_genre/programs   \n",
       "3                      location/location/containedby   \n",
       "4              people/deceased_person/cause_of_death   \n",
       "\n",
       "                                   text  \n",
       "0   name an <e> thoroughbread racehorse  \n",
       "1            what kind of game is <e> ?  \n",
       "2                what tv program is <e>  \n",
       "3          what state is <e> located in  \n",
       "4  what disease claimed the life of <e>  "
      ]
     },
     "metadata": {},
     "output_type": "display_data"
    }
   ],
   "source": [
    "train_dataset, dev_dataset = simple_qa_predicate(train=True, dev=True, test=False)\n",
    "\n",
    "print('Num Training Data: %d' % len(train_dataset))\n",
    "print('Train Sample:')\n",
    "display(pd.DataFrame(train_dataset[:5]))\n",
    "print('Num Development Data: %d' % len(dev_dataset))\n",
    "print('Development Sample:')\n",
    "display(pd.DataFrame(dev_dataset[:5]))"
   ]
  },
  {
   "cell_type": "markdown",
   "metadata": {},
   "source": [
    "## Dataset Iterators\n",
    "\n",
    "Load our dataset. Log a couple rows."
   ]
  },
  {
   "cell_type": "code",
   "execution_count": 66,
   "metadata": {},
   "outputs": [],
   "source": [
    "import torch\n",
    "from torch.autograd import Variable\n",
    "from torchnlp.utils import pad_batch\n",
    "\n",
    "# Defines how to combine a batch of rows into a tensor\n",
    "def collate_fn(batch, train=True):\n",
    "    \"\"\" list of tensors to a batch variable \"\"\"\n",
    "    # PyTorch RNN requires sorting decreasing size\n",
    "    batch = sorted(batch, key=lambda row: len(row['text']), reverse=True)\n",
    "    input_batch, _ = pad_batch([row['text'] for row in batch])\n",
    "    relations = [row['relation'] for row in batch]\n",
    "    mask = Variable(torch.stack([row['mask'] for row in batch]), volatile=not train)\n",
    "    # PyTorch RNN requires batches to be transposed for speed and integration with CUDA\n",
    "    to_variable = (\n",
    "        lambda b: Variable(torch.stack(tuple(b)).t_().squeeze(0).contiguous(), volatile=not train))\n",
    "\n",
    "    return (to_variable(input_batch), to_variable(relations), mask)"
   ]
  },
  {
   "cell_type": "code",
   "execution_count": 67,
   "metadata": {},
   "outputs": [],
   "source": [
    "from functools import partial\n",
    "from torchnlp.samplers import NoisySortedBatchSampler\n",
    "from torchnlp.samplers import SortedSampler\n",
    "\n",
    "\n",
    "sort_key = lambda r: r['text'].size()[0]\n",
    "\n",
    "def get_iterator(dataset, batch_size, train=False):\n",
    "    # Use bucket sampling to group similar sized text but with noise + random\n",
    "    drop_last=True\n",
    "    batch_sampler = NoisySortedBatchSampler(dataset, batch_size, drop_last, sort_key, sort_key_noise=0.5)\n",
    "    return DataLoader(\n",
    "        dataset,\n",
    "        batch_sampler=batch_sampler,\n",
    "        collate_fn=partial(collate_fn, train=train),\n",
    "        pin_memory=is_cuda,\n",
    "        num_workers=0)"
   ]
  },
  {
   "cell_type": "markdown",
   "metadata": {},
   "source": [
    "## Encode Text\n",
    "\n",
    "Here we encode our data into a numerical format. "
   ]
  },
  {
   "cell_type": "code",
   "execution_count": 68,
   "metadata": {
    "scrolled": true
   },
   "outputs": [
    {
     "name": "stdout",
     "output_type": "stream",
     "text": [
      "Text encoder vocab size: 6899\n",
      "Relation encoder vocab size: 1703\n"
     ]
    },
    {
     "name": "stderr",
     "output_type": "stream",
     "text": [
      "/mount/arbeitsdaten46/projekte/dialog-1/kanjurva/Simple-QA-EMNLP-2018/venv2/lib/python3.6/site-packages/ipykernel_launcher.py:13: TqdmDeprecationWarning: This function will be removed in tqdm==5.0.0\n",
      "Please use `tqdm.notebook.tqdm` instead of `tqdm.tqdm_notebook`\n",
      "  del sys.path[0]\n"
     ]
    },
    {
     "data": {
      "application/vnd.jupyter.widget-view+json": {
       "model_id": "01e1572d36a84b2a9fe2fc014a062f3e",
       "version_major": 2,
       "version_minor": 0
      },
      "text/plain": [
       "HBox(children=(HTML(value=''), FloatProgress(value=0.0, max=75900.0), HTML(value='')))"
      ]
     },
     "metadata": {},
     "output_type": "display_data"
    },
    {
     "name": "stdout",
     "output_type": "stream",
     "text": [
      "\n"
     ]
    },
    {
     "data": {
      "application/vnd.jupyter.widget-view+json": {
       "model_id": "7fd7416477f54097959873d87624aa4f",
       "version_major": 2,
       "version_minor": 0
      },
      "text/plain": [
       "HBox(children=(HTML(value=''), FloatProgress(value=0.0, max=10845.0), HTML(value='')))"
      ]
     },
     "metadata": {},
     "output_type": "display_data"
    },
    {
     "name": "stdout",
     "output_type": "stream",
     "text": [
      "\n"
     ]
    }
   ],
   "source": [
    "import torch\n",
    "from torchnlp.text_encoders import IdentityEncoder\n",
    "from torchnlp.text_encoders import WhitespaceEncoder\n",
    "\n",
    "# NOTE: Given the development vocab might be cheating if we use any statistics from that...\n",
    "text_data = [t.lower() for t in train_dataset['text'] + dev_dataset['text']]\n",
    "text_encoder = WhitespaceEncoder(text_data, append_eos=False)\n",
    "print('Text encoder vocab size: %d' % text_encoder.vocab_size)\n",
    "relation_encoder = IdentityEncoder(train_dataset['relation'] + dev_dataset['relation'])\n",
    "print('Relation encoder vocab size: %d' % relation_encoder.vocab_size)\n",
    "\n",
    "for dataset in [train_dataset, dev_dataset]:\n",
    "    for row in tqdm_notebook(dataset):\n",
    "        row['text'] = text_encoder.encode(row['text'])\n",
    "        row['relation'] = relation_encoder.encode(row['relation'])\n",
    "        row['pool'] = [relation_encoder.encode(r)[0] for r in row['pool']]\n",
    "        pool = set(row['pool'])\n",
    "        row['mask'] = torch.FloatTensor([1 if i in pool else 0 for i in range(relation_encoder.vocab_size)])"
   ]
  },
  {
   "cell_type": "markdown",
   "metadata": {},
   "source": [
    "# Model\n",
    "\n",
    "Instantiate the model."
   ]
  },
  {
   "cell_type": "code",
   "execution_count": 69,
   "metadata": {
    "scrolled": true
   },
   "outputs": [
    {
     "name": "stdout",
     "output_type": "stream",
     "text": [
      "[2020-11-22 09:45:11,692][MainProcess][torchnlp.word_to_vector.pretrained_word_vectors][INFO] Loading vectors from ./../../.pretrained_embeddings_cache/wiki.en.vec\n"
     ]
    },
    {
     "name": "stderr",
     "output_type": "stream",
     "text": [
      "\r",
      "  0%|          | 0/2519371 [00:00<?, ?it/s]"
     ]
    },
    {
     "name": "stdout",
     "output_type": "stream",
     "text": [
      "[2020-11-22 09:45:11,696][MainProcess][torchnlp.word_to_vector.pretrained_word_vectors][WARNING] Skipping token 2519370 with 1-dimensional vector ['300']; likely a header\n"
     ]
    },
    {
     "name": "stderr",
     "output_type": "stream",
     "text": [
      "100%|██████████| 2519371/2519371 [00:47<00:00, 52862.56it/s]\n"
     ]
    },
    {
     "name": "stdout",
     "output_type": "stream",
     "text": [
      "[2020-11-22 09:45:59,387][MainProcess][torchnlp.word_to_vector.pretrained_word_vectors][INFO] Saving vectors to ./../../.pretrained_embeddings_cache/wiki.en.vec.pt\n"
     ]
    }
   ],
   "source": [
    "import torch\n",
    "from torchnlp.word_to_vector import FastText\n",
    "\n",
    "# Load embeddings\n",
    "unk_init = lambda t: torch.FloatTensor(t).uniform_(-0.1, 0.1)\n",
    "vocab = set(text_encoder.vocab)\n",
    "pretrained_embedding = FastText(language='en',\n",
    "                                cache='./../../.pretrained_embeddings_cache',\n",
    "                                is_include=lambda w: w in vocab)\n",
    "embedding_weights = torch.Tensor(text_encoder.vocab_size, pretrained_embedding.dim)\n",
    "for i, token in enumerate(text_encoder.vocab):\n",
    "    embedding_weights[i] = pretrained_embedding[token]"
   ]
  },
  {
   "cell_type": "code",
   "execution_count": 70,
   "metadata": {},
   "outputs": [],
   "source": [
    "from lib.nn import SeqToLabel\n",
    "\n",
    "def make_model():\n",
    "    # `embedding_size=300` is required by FastText\n",
    "    model = SeqToLabel(text_encoder.vocab_size, relation_encoder.vocab_size, embedding_size=300)\n",
    "    for param in model.parameters():\n",
    "        param.data.uniform_(-0.1, 0.1)\n",
    "\n",
    "    model.encoder.embedding.weight.data.copy_(embedding_weights)\n",
    "\n",
    "    cuda(model)\n",
    "    return model"
   ]
  },
  {
   "cell_type": "markdown",
   "metadata": {},
   "source": [
    "## Evaluate\n",
    "\n",
    "Instantiate a function that evaluates a model. Our evaluation is the same as \"Step 3 - Predict Relation and Finish\" to ensure consistency."
   ]
  },
  {
   "cell_type": "code",
   "execution_count": 71,
   "metadata": {},
   "outputs": [],
   "source": [
    "from tqdm import tqdm_notebook\n",
    "from torch.autograd import Variable\n",
    "import random\n",
    "import math\n",
    "from lib.utils import batch\n",
    "from torchnlp.utils import pad_batch\n",
    "\n",
    "# NOTE: Relation Ranking dataset has a pool of possible relations similar to `Step 3 - Predict Relation and Finish`\n",
    "\n",
    "def get_softmax_relation_score(model, question_batch, mask_batch, relation_pool_batch):\n",
    "    question_batch, _ = pad_batch(question_batch)\n",
    "    question_batch = cuda(Variable(torch.stack(tuple(question_batch)).t_().squeeze(0).contiguous(), volatile=True))\n",
    "    mask_batch = cuda(torch.stack(mask_batch))\n",
    "    output = model(question_batch, Variable(mask_batch, volatile=True)).exp_().data\n",
    "    \n",
    "    batch_size = output.size()[0]\n",
    "    ret = []\n",
    "    for i in range(batch_size):\n",
    "        ret.append([output[i][j] for j in relation_pool_batch[i]])\n",
    "    return ret\n",
    "\n",
    "def evaluate_pool(dataset, model, batch_size=1):\n",
    "    logger.info('Evaluating...')\n",
    "    \n",
    "    model.train(False)\n",
    "    scores = []\n",
    "    for batched in tqdm_notebook(batch(dataset, batch_size), total=math.ceil(len(dataset) / batch_size)):\n",
    "        question_batch = [row['text'] for row in batched]\n",
    "        mask_batch = [row['mask'] for row in batched]\n",
    "        relation_pool_batch = [row['pool'] for row in batched]\n",
    "        scores.extend(get_softmax_relation_score(model, question_batch, mask_batch, relation_pool_batch))\n",
    "    model.train(True) # No side affects\n",
    "    cnt = 0\n",
    "    correct = 0\n",
    "    for i, row in tqdm_notebook(enumerate(dataset)):\n",
    "        max_score = max(scores[i])\n",
    "        # NOTE: Pool may have multiple <unk> tags\n",
    "        top_relations = set([r for j, r in enumerate(row['pool']) if scores[i][j] == max_score])\n",
    "        predicted_relation = random.choice(list(top_relations))        \n",
    "\n",
    "        if predicted_relation == row['relation'][0]:\n",
    "            correct += 1\n",
    "\n",
    "    accuracy = correct / len(dataset)\n",
    "    logger.info('Relation Accuracy (SOTA 88.4%%): %f [%d of %d]', accuracy, correct, len(dataset))\n",
    "    return accuracy"
   ]
  },
  {
   "cell_type": "markdown",
   "metadata": {},
   "source": [
    "Similar evaluation metric to our training regime. Training the loss should directly affect this metric."
   ]
  },
  {
   "cell_type": "code",
   "execution_count": 72,
   "metadata": {},
   "outputs": [],
   "source": [
    "from lib.metrics import print_random_sample\n",
    "from lib.metrics import get_accuracy\n",
    "from torch.nn.modules.loss import NLLLoss\n",
    "\n",
    "def evaluate_softmax(dataset, model, batch_size=1):\n",
    "    # Evaluate\n",
    "    model.train(mode=False)\n",
    "    criterion = cuda(NLLLoss())\n",
    "    texts, relations, outputs = [], [], []\n",
    "    total_loss = 0\n",
    "    dev_iterator = get_iterator(dataset, batch_size)\n",
    "    \n",
    "    for text, relation, mask in tqdm_notebook(dev_iterator):\n",
    "        output = model(cuda_async(text), cuda_async(mask))\n",
    "        # Compute metrics\n",
    "        total_loss += criterion(output, cuda_async(relation)).data[0] * relation.size()[0]\n",
    "        # Prevent memory leak by moving output from variable to tensor\n",
    "        texts.extend(text.data.cpu().transpose(0, 1).split(split_size=1, dim=0))\n",
    "        relations.extend(relation.data.cpu().split(split_size=1, dim=0))\n",
    "        outputs.extend(output.data.cpu().split(split_size=1, dim=0))\n",
    "    model.train(True) # No side affects\n",
    "    # Print metrics\n",
    "    #print_random_sample(texts, relations, outputs, text_encoder, relation_encoder, n_samples=1)\n",
    "    logger.info('NLLLoss: %.03f', (total_loss / len(dataset)))\n",
    "    #logger.info(relations)\n",
    "    #logger.info(outputs)\n",
    "            \n",
    "    return get_accuracy(relations, outputs, print_=True)[0]"
   ]
  },
  {
   "cell_type": "markdown",
   "metadata": {},
   "source": [
    "## Hyperparameters\n",
    "\n",
    "Set up the hyperparameters for our model. We use `lib.configurable` to setup arguments."
   ]
  },
  {
   "cell_type": "code",
   "execution_count": 73,
   "metadata": {},
   "outputs": [
    {
     "name": "stdout",
     "output_type": "stream",
     "text": [
      "[2020-11-22 09:46:00,786][MainProcess][lib.configurable][INFO] Checking configuration...\n",
      "[2020-11-22 09:46:00,789][MainProcess][lib.configurable][WARNING] Path ['lib', 'optim', 'Optimizer', '__init__', 'max_grad_norm'] does not contain @configurable.\n",
      "NOTE: Due to Python remaining the __main__ module, this check can be ignored here.\n",
      "NOTE: _check_configuration can be ignored for external libraries.\n",
      "[2020-11-22 09:46:00,791][MainProcess][lib.configurable][INFO] Configuration checked.\n",
      "[2020-11-22 09:46:00,791][MainProcess][lib.configurable][INFO] Global configuration:\n",
      "[2020-11-22 09:46:00,793][MainProcess][root][INFO] {   'lib': {   'nn': {   'seq_to_label': {   'SeqToLabel': {   '__init__': {   'bidirectional': True,\n",
      "                                                                               'decode_dropout': 0.6,\n",
      "                                                                               'embedding_dropout': 0.3,\n",
      "                                                                               'embedding_size': 300,\n",
      "                                                                               'freeze_embeddings': True,\n",
      "                                                                               'rnn_cell': 'gru',\n",
      "                                                                               'rnn_dropout': 0.8,\n",
      "                                                                               'rnn_layers': 1,\n",
      "                                                                               'rnn_size': 450,\n",
      "                                                                               'rnn_variational_dropout': 0.0}}}},\n",
      "               'optim': {   'Optimizer': {'__init__': {'max_grad_norm': None}},\n",
      "                            'adam': {'Adam': {'__init__': {'amsgrad': True}}}},\n",
      "               'optimizer': {   'Optimizer': {   '__init__': {   'max_grad_norm': 0.240322220938819}}}}}\n"
     ]
    }
   ],
   "source": [
    "from lib.optim import Adam\n",
    "from lib.configurable import configurable\n",
    "from lib.configurable import add_config\n",
    "from lib.configurable import log_config\n",
    "\n",
    "Adam.__init__ = configurable(Adam.__init__)\n",
    "\n",
    "# Hyperparameters achieve 0.881564349112426%\n",
    "# Following the evaluation of 150 random models\n",
    "\n",
    "add_config({\n",
    "    'lib': {\n",
    "        'nn.seq_to_label.SeqToLabel.__init__': {\n",
    "            'bidirectional': True,\n",
    "            'embedding_size': 300,\n",
    "            'rnn_size': 450,\n",
    "            'freeze_embeddings': True,\n",
    "            'rnn_cell': 'gru',\n",
    "            'decode_dropout': 0.6,  # dropout before fully connected layer in RNN\n",
    "            'rnn_layers': 1,\n",
    "            'rnn_variational_dropout': 0.0,\n",
    "            'rnn_dropout': 0.8,\n",
    "            'embedding_dropout': 0.3\n",
    "        },\n",
    "        'optim.Optimizer.__init__.max_grad_norm': None,\n",
    "    },\n",
    "    'lib.optim.adam.Adam.__init__': {\n",
    "        'amsgrad': True\n",
    "    }\n",
    "})\n",
    "\n",
    "log_config()"
   ]
  },
  {
   "cell_type": "markdown",
   "metadata": {},
   "source": [
    "## Training Loop\n",
    "\n",
    "Below here, we do a training loop over a number of epochs."
   ]
  },
  {
   "cell_type": "code",
   "execution_count": 74,
   "metadata": {
    "scrolled": true
   },
   "outputs": [],
   "source": [
    "from tqdm import tqdm_notebook\n",
    "import random\n",
    "\n",
    "from torch.utils.data import DataLoader\n",
    "from torch.nn.modules.loss import NLLLoss\n",
    "from lib.optim import Adam\n",
    "from functools import partial\n",
    "\n",
    "from lib.checkpoint import Checkpoint\n",
    "from lib.utils import get_total_parameters\n",
    "from lib.utils import resplit_datasets\n",
    "from lib.optimizer import Optimizer\n",
    "\n",
    "# TODO: Try to concat multiple templated questions together and do a multi label classifier.\n",
    "\n",
    "def train(resources=30, checkpoint=None, **kwargs):\n",
    "    \n",
    "    if isinstance(checkpoint, str):\n",
    "        checkpoint = Checkpoint(checkpoint)\n",
    "        model = checkpoint.model\n",
    "        train_batch_size = checkpoint.train_batch_size\n",
    "        optimizer = checkpoint.optimizer\n",
    "        n_bad_epochs = checkpoint.n_bad_epochs\n",
    "        max_score = checkpoint.max_score\n",
    "    else:\n",
    "        model = make_model()\n",
    "        train_batch_size = 32\n",
    "        # NOTE: https://github.com/pytorch/pytorch/issues/679\n",
    "        params = filter(lambda p: p.requires_grad, model.parameters())\n",
    "        optimizer = Optimizer(Adam(params=params))\n",
    "        n_bad_epochs = 0\n",
    "        max_score = 0\n",
    "\n",
    "    # NOTE: Because the training dataset was used to train the subject recongition, its better; therefore,\n",
    "    # we cannot mix them\n",
    "    epochs = max(round(resources), 1)\n",
    "    train_max_batch_size = 1024\n",
    "    patience = 3\n",
    "    criterion = cuda(NLLLoss())\n",
    "    logger.info('Epochs: %d', epochs)\n",
    "    logger.info('Train Dataset Size: %d', len(train_dataset))\n",
    "    logger.info('Dev Dataset Size: %d', len(dev_dataset))\n",
    "    logger.info('Train Batch Size: %d', train_batch_size)\n",
    "    logger.info('Train Max Batch Size: %d', train_max_batch_size)\n",
    "    logger.info('Total Parameters: %d', get_total_parameters(model))\n",
    "    logger.info('Model:\\n%s' % model)\n",
    "\n",
    "    # Train!\n",
    "    \n",
    "    for epoch in range(epochs):\n",
    "        logger.info('Epoch: %d', epoch)\n",
    "\n",
    "        # Iterate over the training data\n",
    "        logger.info('Training...')\n",
    "        model.train(mode=True)\n",
    "        train_iterator = get_iterator(train_dataset, train_batch_size, train=True)\n",
    "        for text, relation, mask in tqdm_notebook(train_iterator):\n",
    "            optimizer.zero_grad()\n",
    "            output = model(cuda_async(text), cuda_async(mask))\n",
    "            #model(cuda_async(text), cuda_async(mask)).exp_().data \n",
    "            \n",
    "            loss = criterion(output, cuda_async(relation))\n",
    "            #loss = criterion(output, cuda_async(relation)).data[0] * relation.size()[0]\n",
    "            # Backward propagation\n",
    "            loss.backward()\n",
    "            optimizer.step()\n",
    "\n",
    "        # Save checkpoint\n",
    "        checkpoint_path = None\n",
    "        checkpoint_path = Checkpoint.save(\n",
    "            experiment_folder,\n",
    "            {\n",
    "                'model': model,\n",
    "                'optimizer': optimizer,\n",
    "                'relation_encoder': relation_encoder,\n",
    "                'text_encoder': text_encoder,\n",
    "                'train_batch_size': train_batch_size,\n",
    "                'n_bad_epochs': n_bad_epochs,\n",
    "                'max_score': max_score\n",
    "            },\n",
    "            device=device)\n",
    "        \n",
    "        # Evaluate\n",
    "        score = evaluate_softmax(dev_dataset, model, 4096)\n",
    "        #score = evaluate_pool(dev_dataset, model, 4096)\n",
    "        \n",
    "        # Scheduler for increasing batch_size inspired by this paper:\n",
    "        # https://openreview.net/forum?id=B1Yy1BxCZ\n",
    "        if max_score > score:\n",
    "            n_bad_epochs += 1\n",
    "        else:\n",
    "            n_bad_epochs = 0\n",
    "            max_score = score\n",
    "\n",
    "        if n_bad_epochs >= patience:\n",
    "            train_batch_size = min(train_max_batch_size, train_batch_size * 2)\n",
    "            logger.info('Ran out of patience, increasing train batch size to: %d', train_batch_size)\n",
    "\n",
    "        print('–' * 100)\n",
    "        \n",
    "    return -max_score, checkpoint_path"
   ]
  },
  {
   "cell_type": "code",
   "execution_count": 75,
   "metadata": {},
   "outputs": [
    {
     "name": "stdout",
     "output_type": "stream",
     "text": [
      "[2020-11-22 09:46:00,825][MainProcess][lib.configurable][INFO] seq_to_label.SeqToLabel.__init__ was configured with:\n",
      "{   'bidirectional': True,\n",
      "    'decode_dropout': 0.6,\n",
      "    'embedding_dropout': 0.3,\n",
      "    'embedding_size': 300,\n",
      "    'freeze_embeddings': True,\n",
      "    'input_vocab_size': 6899,\n",
      "    'output_vocab_size': 1703,\n",
      "    'rnn_cell': 'gru',\n",
      "    'rnn_dropout': 0.8,\n",
      "    'rnn_layers': 1,\n",
      "    'rnn_size': 450,\n",
      "    'rnn_variational_dropout': 0.0}\n",
      "[2020-11-22 09:46:00,827][MainProcess][lib.configurable][INFO] seq_encoder.SeqEncoder.__init__ no config for: lib.nn.seq_encoder.SeqEncoder.__init__\n",
      "[2020-11-22 09:46:00,829][MainProcess][lib.configurable][INFO] seq_encoder.SeqEncoder.__init__ was configured with:\n",
      "{   'bidirectional': True,\n",
      "    'embedding_dropout': 0.3,\n",
      "    'embedding_size': 300,\n",
      "    'freeze_embeddings': True,\n",
      "    'n_layers': 1,\n",
      "    'rnn_cell': 'gru',\n",
      "    'rnn_dropout': 0.8,\n",
      "    'rnn_size': 450,\n",
      "    'rnn_variational_dropout': 0.0,\n",
      "    'vocab_size': 6899}\n",
      "[2020-11-22 09:46:00,978][MainProcess][lib.configurable][INFO] adam.Adam.__init__ was configured with:\n",
      "{'amsgrad': True, 'params': <filter object at 0x7f3c819a4c18>}\n",
      "[2020-11-22 09:46:00,980][MainProcess][lib.configurable][INFO] adam.Adam.__init__ was configured with:\n",
      "{'amsgrad': True, 'params': <filter object at 0x7f3c819a4c18>}\n",
      "[2020-11-22 09:46:00,981][MainProcess][lib.configurable][INFO] adam.Adam.__init__ was configured with:\n",
      "{'amsgrad': True, 'params': <filter object at 0x7f3c819a4c18>}\n",
      "[2020-11-22 09:46:00,982][MainProcess][lib.configurable][INFO] adam.Adam.__init__ was configured with:\n",
      "{'amsgrad': True, 'params': <filter object at 0x7f3c819a4c18>}\n",
      "[2020-11-22 09:46:00,982][MainProcess][lib.configurable][INFO] adam.Adam.__init__ was configured with:\n",
      "{'amsgrad': True, 'params': <filter object at 0x7f3c819a4c18>}\n",
      "[2020-11-22 09:46:00,983][MainProcess][lib.configurable][INFO] optimizer.Optimizer.__init__ was configured with:\n",
      "{   'max_grad_norm': 0.240322220938819,\n",
      "    'optim': <lib.optim.adam.Adam object at 0x7f3c819a4b38>}\n",
      "[2020-11-22 09:46:00,984][MainProcess][__main__][INFO] Epochs: 30\n",
      "[2020-11-22 09:46:00,985][MainProcess][__main__][INFO] Train Dataset Size: 75900\n",
      "[2020-11-22 09:46:00,985][MainProcess][__main__][INFO] Dev Dataset Size: 10845\n",
      "[2020-11-22 09:46:00,986][MainProcess][__main__][INFO] Train Batch Size: 32\n",
      "[2020-11-22 09:46:00,986][MainProcess][__main__][INFO] Train Max Batch Size: 1024\n",
      "[2020-11-22 09:46:00,987][MainProcess][__main__][INFO] Total Parameters: 1683353\n",
      "[2020-11-22 09:46:00,988][MainProcess][__main__][INFO] Model:\n",
      "SeqToLabel(\n",
      "  (encoder): SeqEncoder(\n",
      "    (embedding): Embedding(6899, 300, padding_idx=0)\n",
      "    (rnn): GRU(300, 225, bidirectional=True)\n",
      "    (rnn_dropout): LockedDropout(p=0.8)\n",
      "    (embedding_dropout): Dropout(p=0.3)\n",
      "  )\n",
      "  (out): Sequential(\n",
      "    (0): Linear(in_features=450, out_features=450, bias=True)\n",
      "    (1): BatchNorm1d(450, eps=1e-05, momentum=0.1, affine=True)\n",
      "    (2): ReLU()\n",
      "    (3): Dropout(p=0.6)\n",
      "    (4): Linear(in_features=450, out_features=1703, bias=True)\n",
      "  )\n",
      ")\n",
      "[2020-11-22 09:46:00,991][MainProcess][__main__][INFO] Epoch: 0\n",
      "[2020-11-22 09:46:00,992][MainProcess][__main__][INFO] Training...\n"
     ]
    },
    {
     "name": "stderr",
     "output_type": "stream",
     "text": [
      "/mount/arbeitsdaten46/projekte/dialog-1/kanjurva/Simple-QA-EMNLP-2018/venv2/lib/python3.6/site-packages/ipykernel_launcher.py:57: TqdmDeprecationWarning: This function will be removed in tqdm==5.0.0\n",
      "Please use `tqdm.notebook.tqdm` instead of `tqdm.tqdm_notebook`\n"
     ]
    },
    {
     "data": {
      "application/vnd.jupyter.widget-view+json": {
       "model_id": "cfc99e4d09fa485a85ef9378508823f4",
       "version_major": 2,
       "version_minor": 0
      },
      "text/plain": [
       "HBox(children=(HTML(value=''), FloatProgress(value=0.0, max=2371.0), HTML(value='')))"
      ]
     },
     "metadata": {},
     "output_type": "display_data"
    },
    {
     "name": "stdout",
     "output_type": "stream",
     "text": [
      "\n",
      "[2020-11-22 09:46:20,838][MainProcess][lib.checkpoint][INFO] Saving checkpoint: ../../experiments/relation_classifier.11_22_09:44:26/126130.pt\n"
     ]
    },
    {
     "name": "stderr",
     "output_type": "stream",
     "text": [
      "/mount/arbeitsdaten46/projekte/dialog-1/kanjurva/Simple-QA-EMNLP-2018/venv2/lib/python3.6/site-packages/ipykernel_launcher.py:13: TqdmDeprecationWarning: This function will be removed in tqdm==5.0.0\n",
      "Please use `tqdm.notebook.tqdm` instead of `tqdm.tqdm_notebook`\n",
      "  del sys.path[0]\n"
     ]
    },
    {
     "data": {
      "application/vnd.jupyter.widget-view+json": {
       "model_id": "10ab0cf41646463f82d8e79ff3e22441",
       "version_major": 2,
       "version_minor": 0
      },
      "text/plain": [
       "HBox(children=(HTML(value=''), FloatProgress(value=0.0, max=2.0), HTML(value='')))"
      ]
     },
     "metadata": {},
     "output_type": "display_data"
    },
    {
     "name": "stdout",
     "output_type": "stream",
     "text": [
      "\n",
      "[2020-11-22 09:46:22,896][MainProcess][__main__][INFO] NLLLoss: 0.623\n",
      "[2020-11-22 09:46:22,950][MainProcess][lib.metrics.accuracy][INFO] Accuracy: 0.84814453125 [6948 of 8192]\n",
      "––––––––––––––––––––––––––––––––––––––––––––––––––––––––––––––––––––––––––––––––––––––––––––––––––––\n",
      "[2020-11-22 09:46:22,955][MainProcess][__main__][INFO] Epoch: 1\n",
      "[2020-11-22 09:46:22,956][MainProcess][__main__][INFO] Training...\n"
     ]
    },
    {
     "data": {
      "application/vnd.jupyter.widget-view+json": {
       "model_id": "3d49625ae5a84f9bab720e624b45a6c2",
       "version_major": 2,
       "version_minor": 0
      },
      "text/plain": [
       "HBox(children=(HTML(value=''), FloatProgress(value=0.0, max=2371.0), HTML(value='')))"
      ]
     },
     "metadata": {},
     "output_type": "display_data"
    },
    {
     "name": "stdout",
     "output_type": "stream",
     "text": [
      "\n",
      "[2020-11-22 09:46:42,553][MainProcess][lib.checkpoint][INFO] Saving checkpoint: ../../experiments/relation_classifier.11_22_09:44:26/126152.pt\n"
     ]
    },
    {
     "data": {
      "application/vnd.jupyter.widget-view+json": {
       "model_id": "236224b001664f9fa8eb8628dd8f5c1a",
       "version_major": 2,
       "version_minor": 0
      },
      "text/plain": [
       "HBox(children=(HTML(value=''), FloatProgress(value=0.0, max=2.0), HTML(value='')))"
      ]
     },
     "metadata": {},
     "output_type": "display_data"
    },
    {
     "name": "stdout",
     "output_type": "stream",
     "text": [
      "\n",
      "[2020-11-22 09:46:43,796][MainProcess][__main__][INFO] NLLLoss: 0.530\n",
      "[2020-11-22 09:46:43,847][MainProcess][lib.metrics.accuracy][INFO] Accuracy: 0.86279296875 [7068 of 8192]\n",
      "––––––––––––––––––––––––––––––––––––––––––––––––––––––––––––––––––––––––––––––––––––––––––––––––––––\n",
      "[2020-11-22 09:46:43,852][MainProcess][__main__][INFO] Epoch: 2\n",
      "[2020-11-22 09:46:43,853][MainProcess][__main__][INFO] Training...\n"
     ]
    },
    {
     "data": {
      "application/vnd.jupyter.widget-view+json": {
       "model_id": "2823bca863f54d17a5ec153032fc3891",
       "version_major": 2,
       "version_minor": 0
      },
      "text/plain": [
       "HBox(children=(HTML(value=''), FloatProgress(value=0.0, max=2371.0), HTML(value='')))"
      ]
     },
     "metadata": {},
     "output_type": "display_data"
    },
    {
     "name": "stdout",
     "output_type": "stream",
     "text": [
      "\n",
      "[2020-11-22 09:47:03,427][MainProcess][lib.checkpoint][INFO] Saving checkpoint: ../../experiments/relation_classifier.11_22_09:44:26/126173.pt\n"
     ]
    },
    {
     "data": {
      "application/vnd.jupyter.widget-view+json": {
       "model_id": "6cf434de960f455397b73eb402b0a855",
       "version_major": 2,
       "version_minor": 0
      },
      "text/plain": [
       "HBox(children=(HTML(value=''), FloatProgress(value=0.0, max=2.0), HTML(value='')))"
      ]
     },
     "metadata": {},
     "output_type": "display_data"
    },
    {
     "name": "stdout",
     "output_type": "stream",
     "text": [
      "\n",
      "[2020-11-22 09:47:04,538][MainProcess][__main__][INFO] NLLLoss: 0.489\n",
      "[2020-11-22 09:47:04,591][MainProcess][lib.metrics.accuracy][INFO] Accuracy: 0.8739013671875 [7159 of 8192]\n",
      "––––––––––––––––––––––––––––––––––––––––––––––––––––––––––––––––––––––––––––––––––––––––––––––––––––\n",
      "[2020-11-22 09:47:04,596][MainProcess][__main__][INFO] Epoch: 3\n",
      "[2020-11-22 09:47:04,597][MainProcess][__main__][INFO] Training...\n"
     ]
    },
    {
     "data": {
      "application/vnd.jupyter.widget-view+json": {
       "model_id": "e836ddb948294d2585efd44a40102367",
       "version_major": 2,
       "version_minor": 0
      },
      "text/plain": [
       "HBox(children=(HTML(value=''), FloatProgress(value=0.0, max=2371.0), HTML(value='')))"
      ]
     },
     "metadata": {},
     "output_type": "display_data"
    },
    {
     "name": "stdout",
     "output_type": "stream",
     "text": [
      "\n",
      "[2020-11-22 09:47:24,013][MainProcess][lib.checkpoint][INFO] Saving checkpoint: ../../experiments/relation_classifier.11_22_09:44:26/126193.pt\n"
     ]
    },
    {
     "data": {
      "application/vnd.jupyter.widget-view+json": {
       "model_id": "7729b7c93887473d85a73104ab406c5c",
       "version_major": 2,
       "version_minor": 0
      },
      "text/plain": [
       "HBox(children=(HTML(value=''), FloatProgress(value=0.0, max=2.0), HTML(value='')))"
      ]
     },
     "metadata": {},
     "output_type": "display_data"
    },
    {
     "name": "stdout",
     "output_type": "stream",
     "text": [
      "\n",
      "[2020-11-22 09:47:25,111][MainProcess][__main__][INFO] NLLLoss: 0.471\n",
      "[2020-11-22 09:47:25,163][MainProcess][lib.metrics.accuracy][INFO] Accuracy: 0.878662109375 [7198 of 8192]\n",
      "––––––––––––––––––––––––––––––––––––––––––––––––––––––––––––––––––––––––––––––––––––––––––––––––––––\n",
      "[2020-11-22 09:47:25,168][MainProcess][__main__][INFO] Epoch: 4\n",
      "[2020-11-22 09:47:25,169][MainProcess][__main__][INFO] Training...\n"
     ]
    },
    {
     "data": {
      "application/vnd.jupyter.widget-view+json": {
       "model_id": "375959d148fa400e84b37e0c7f417eb6",
       "version_major": 2,
       "version_minor": 0
      },
      "text/plain": [
       "HBox(children=(HTML(value=''), FloatProgress(value=0.0, max=2371.0), HTML(value='')))"
      ]
     },
     "metadata": {},
     "output_type": "display_data"
    },
    {
     "name": "stdout",
     "output_type": "stream",
     "text": [
      "\n",
      "[2020-11-22 09:47:44,844][MainProcess][lib.checkpoint][INFO] Saving checkpoint: ../../experiments/relation_classifier.11_22_09:44:26/126214.pt\n"
     ]
    },
    {
     "data": {
      "application/vnd.jupyter.widget-view+json": {
       "model_id": "e54906dfa59a4ac6a86b7f92a2c92a74",
       "version_major": 2,
       "version_minor": 0
      },
      "text/plain": [
       "HBox(children=(HTML(value=''), FloatProgress(value=0.0, max=2.0), HTML(value='')))"
      ]
     },
     "metadata": {},
     "output_type": "display_data"
    },
    {
     "name": "stdout",
     "output_type": "stream",
     "text": [
      "\n",
      "[2020-11-22 09:47:45,995][MainProcess][__main__][INFO] NLLLoss: 0.467\n",
      "[2020-11-22 09:47:46,049][MainProcess][lib.metrics.accuracy][INFO] Accuracy: 0.8780517578125 [7193 of 8192]\n",
      "––––––––––––––––––––––––––––––––––––––––––––––––––––––––––––––––––––––––––––––––––––––––––––––––––––\n",
      "[2020-11-22 09:47:46,054][MainProcess][__main__][INFO] Epoch: 5\n",
      "[2020-11-22 09:47:46,055][MainProcess][__main__][INFO] Training...\n"
     ]
    },
    {
     "data": {
      "application/vnd.jupyter.widget-view+json": {
       "model_id": "8f35af9815e74d47a6375e7fb13ac102",
       "version_major": 2,
       "version_minor": 0
      },
      "text/plain": [
       "HBox(children=(HTML(value=''), FloatProgress(value=0.0, max=2371.0), HTML(value='')))"
      ]
     },
     "metadata": {},
     "output_type": "display_data"
    },
    {
     "name": "stdout",
     "output_type": "stream",
     "text": [
      "\n",
      "[2020-11-22 09:48:05,347][MainProcess][lib.checkpoint][INFO] Saving checkpoint: ../../experiments/relation_classifier.11_22_09:44:26/126235.pt\n"
     ]
    },
    {
     "data": {
      "application/vnd.jupyter.widget-view+json": {
       "model_id": "01fc21d7744c4a8185a96aded7718770",
       "version_major": 2,
       "version_minor": 0
      },
      "text/plain": [
       "HBox(children=(HTML(value=''), FloatProgress(value=0.0, max=2.0), HTML(value='')))"
      ]
     },
     "metadata": {},
     "output_type": "display_data"
    },
    {
     "name": "stdout",
     "output_type": "stream",
     "text": [
      "\n",
      "[2020-11-22 09:48:06,626][MainProcess][__main__][INFO] NLLLoss: 0.440\n",
      "[2020-11-22 09:48:06,678][MainProcess][lib.metrics.accuracy][INFO] Accuracy: 0.8858642578125 [7257 of 8192]\n",
      "––––––––––––––––––––––––––––––––––––––––––––––––––––––––––––––––––––––––––––––––––––––––––––––––––––\n",
      "[2020-11-22 09:48:06,683][MainProcess][__main__][INFO] Epoch: 6\n",
      "[2020-11-22 09:48:06,684][MainProcess][__main__][INFO] Training...\n"
     ]
    },
    {
     "data": {
      "application/vnd.jupyter.widget-view+json": {
       "model_id": "8ea0a65fad774e89a5eb5e8a50fb456b",
       "version_major": 2,
       "version_minor": 0
      },
      "text/plain": [
       "HBox(children=(HTML(value=''), FloatProgress(value=0.0, max=2371.0), HTML(value='')))"
      ]
     },
     "metadata": {},
     "output_type": "display_data"
    },
    {
     "name": "stdout",
     "output_type": "stream",
     "text": [
      "\n",
      "[2020-11-22 09:48:26,145][MainProcess][lib.checkpoint][INFO] Saving checkpoint: ../../experiments/relation_classifier.11_22_09:44:26/126255.pt\n"
     ]
    },
    {
     "data": {
      "application/vnd.jupyter.widget-view+json": {
       "model_id": "0f735ad345e74a1abd58c2a16388ca55",
       "version_major": 2,
       "version_minor": 0
      },
      "text/plain": [
       "HBox(children=(HTML(value=''), FloatProgress(value=0.0, max=2.0), HTML(value='')))"
      ]
     },
     "metadata": {},
     "output_type": "display_data"
    },
    {
     "name": "stdout",
     "output_type": "stream",
     "text": [
      "\n",
      "[2020-11-22 09:48:27,564][MainProcess][__main__][INFO] NLLLoss: 0.459\n",
      "[2020-11-22 09:48:27,619][MainProcess][lib.metrics.accuracy][INFO] Accuracy: 0.8824462890625 [7229 of 8192]\n",
      "––––––––––––––––––––––––––––––––––––––––––––––––––––––––––––––––––––––––––––––––––––––––––––––––––––\n",
      "[2020-11-22 09:48:27,624][MainProcess][__main__][INFO] Epoch: 7\n",
      "[2020-11-22 09:48:27,626][MainProcess][__main__][INFO] Training...\n"
     ]
    },
    {
     "data": {
      "application/vnd.jupyter.widget-view+json": {
       "model_id": "0fa221ef913e4efd9c021673b57296e4",
       "version_major": 2,
       "version_minor": 0
      },
      "text/plain": [
       "HBox(children=(HTML(value=''), FloatProgress(value=0.0, max=2371.0), HTML(value='')))"
      ]
     },
     "metadata": {},
     "output_type": "display_data"
    },
    {
     "name": "stdout",
     "output_type": "stream",
     "text": [
      "\n",
      "[2020-11-22 09:48:47,294][MainProcess][lib.checkpoint][INFO] Saving checkpoint: ../../experiments/relation_classifier.11_22_09:44:26/126277.pt\n"
     ]
    },
    {
     "data": {
      "application/vnd.jupyter.widget-view+json": {
       "model_id": "1ce878357b224514a4b605516979ff1b",
       "version_major": 2,
       "version_minor": 0
      },
      "text/plain": [
       "HBox(children=(HTML(value=''), FloatProgress(value=0.0, max=2.0), HTML(value='')))"
      ]
     },
     "metadata": {},
     "output_type": "display_data"
    },
    {
     "name": "stdout",
     "output_type": "stream",
     "text": [
      "\n",
      "[2020-11-22 09:48:48,595][MainProcess][__main__][INFO] NLLLoss: 0.471\n",
      "[2020-11-22 09:48:48,647][MainProcess][lib.metrics.accuracy][INFO] Accuracy: 0.885986328125 [7258 of 8192]\n",
      "––––––––––––––––––––––––––––––––––––––––––––––––––––––––––––––––––––––––––––––––––––––––––––––––––––\n",
      "[2020-11-22 09:48:48,652][MainProcess][__main__][INFO] Epoch: 8\n",
      "[2020-11-22 09:48:48,653][MainProcess][__main__][INFO] Training...\n"
     ]
    },
    {
     "data": {
      "application/vnd.jupyter.widget-view+json": {
       "model_id": "63b957e15e6e4da3b0b3459b5677bf69",
       "version_major": 2,
       "version_minor": 0
      },
      "text/plain": [
       "HBox(children=(HTML(value=''), FloatProgress(value=0.0, max=2371.0), HTML(value='')))"
      ]
     },
     "metadata": {},
     "output_type": "display_data"
    },
    {
     "name": "stdout",
     "output_type": "stream",
     "text": [
      "\n",
      "[2020-11-22 09:49:09,474][MainProcess][lib.checkpoint][INFO] Saving checkpoint: ../../experiments/relation_classifier.11_22_09:44:26/126299.pt\n"
     ]
    },
    {
     "data": {
      "application/vnd.jupyter.widget-view+json": {
       "model_id": "af2bd90a5f7143b1882d70849739d7c9",
       "version_major": 2,
       "version_minor": 0
      },
      "text/plain": [
       "HBox(children=(HTML(value=''), FloatProgress(value=0.0, max=2.0), HTML(value='')))"
      ]
     },
     "metadata": {},
     "output_type": "display_data"
    },
    {
     "name": "stdout",
     "output_type": "stream",
     "text": [
      "\n",
      "[2020-11-22 09:49:11,507][MainProcess][__main__][INFO] NLLLoss: 0.453\n",
      "[2020-11-22 09:49:11,562][MainProcess][lib.metrics.accuracy][INFO] Accuracy: 0.8856201171875 [7255 of 8192]\n",
      "––––––––––––––––––––––––––––––––––––––––––––––––––––––––––––––––––––––––––––––––––––––––––––––––––––\n",
      "[2020-11-22 09:49:11,568][MainProcess][__main__][INFO] Epoch: 9\n",
      "[2020-11-22 09:49:11,569][MainProcess][__main__][INFO] Training...\n"
     ]
    },
    {
     "data": {
      "application/vnd.jupyter.widget-view+json": {
       "model_id": "544dac2b6fd740579194005d7d82056b",
       "version_major": 2,
       "version_minor": 0
      },
      "text/plain": [
       "HBox(children=(HTML(value=''), FloatProgress(value=0.0, max=2371.0), HTML(value='')))"
      ]
     },
     "metadata": {},
     "output_type": "display_data"
    },
    {
     "name": "stdout",
     "output_type": "stream",
     "text": [
      "\n",
      "[2020-11-22 09:49:32,774][MainProcess][lib.checkpoint][INFO] Saving checkpoint: ../../experiments/relation_classifier.11_22_09:44:26/126322.pt\n"
     ]
    },
    {
     "data": {
      "application/vnd.jupyter.widget-view+json": {
       "model_id": "84d6c3db8da54207a94adbcbde9ed79d",
       "version_major": 2,
       "version_minor": 0
      },
      "text/plain": [
       "HBox(children=(HTML(value=''), FloatProgress(value=0.0, max=2.0), HTML(value='')))"
      ]
     },
     "metadata": {},
     "output_type": "display_data"
    },
    {
     "name": "stdout",
     "output_type": "stream",
     "text": [
      "\n",
      "[2020-11-22 09:49:34,291][MainProcess][__main__][INFO] NLLLoss: 0.466\n",
      "[2020-11-22 09:49:34,347][MainProcess][lib.metrics.accuracy][INFO] Accuracy: 0.879638671875 [7206 of 8192]\n",
      "––––––––––––––––––––––––––––––––––––––––––––––––––––––––––––––––––––––––––––––––––––––––––––––––––––\n",
      "[2020-11-22 09:49:34,353][MainProcess][__main__][INFO] Epoch: 10\n",
      "[2020-11-22 09:49:34,354][MainProcess][__main__][INFO] Training...\n"
     ]
    },
    {
     "data": {
      "application/vnd.jupyter.widget-view+json": {
       "model_id": "848b1616f3b24358ba444685a9feba5d",
       "version_major": 2,
       "version_minor": 0
      },
      "text/plain": [
       "HBox(children=(HTML(value=''), FloatProgress(value=0.0, max=2371.0), HTML(value='')))"
      ]
     },
     "metadata": {},
     "output_type": "display_data"
    },
    {
     "name": "stdout",
     "output_type": "stream",
     "text": [
      "\n",
      "[2020-11-22 09:49:55,681][MainProcess][lib.checkpoint][INFO] Saving checkpoint: ../../experiments/relation_classifier.11_22_09:44:26/126345.pt\n"
     ]
    },
    {
     "data": {
      "application/vnd.jupyter.widget-view+json": {
       "model_id": "32f8980def8f440fb942c54dd5dc566a",
       "version_major": 2,
       "version_minor": 0
      },
      "text/plain": [
       "HBox(children=(HTML(value=''), FloatProgress(value=0.0, max=2.0), HTML(value='')))"
      ]
     },
     "metadata": {},
     "output_type": "display_data"
    },
    {
     "name": "stdout",
     "output_type": "stream",
     "text": [
      "\n",
      "[2020-11-22 09:49:56,827][MainProcess][__main__][INFO] NLLLoss: 0.455\n",
      "[2020-11-22 09:49:56,886][MainProcess][lib.metrics.accuracy][INFO] Accuracy: 0.881103515625 [7218 of 8192]\n",
      "[2020-11-22 09:49:56,892][MainProcess][__main__][INFO] Ran out of patience, increasing train batch size to: 64\n",
      "––––––––––––––––––––––––––––––––––––––––––––––––––––––––––––––––––––––––––––––––––––––––––––––––––––\n",
      "[2020-11-22 09:49:56,893][MainProcess][__main__][INFO] Epoch: 11\n",
      "[2020-11-22 09:49:56,894][MainProcess][__main__][INFO] Training...\n"
     ]
    },
    {
     "data": {
      "application/vnd.jupyter.widget-view+json": {
       "model_id": "e129abd622ef4c7190c7df769aaa5c15",
       "version_major": 2,
       "version_minor": 0
      },
      "text/plain": [
       "HBox(children=(HTML(value=''), FloatProgress(value=0.0, max=1185.0), HTML(value='')))"
      ]
     },
     "metadata": {},
     "output_type": "display_data"
    },
    {
     "name": "stdout",
     "output_type": "stream",
     "text": [
      "\n",
      "[2020-11-22 09:50:08,591][MainProcess][lib.checkpoint][INFO] Saving checkpoint: ../../experiments/relation_classifier.11_22_09:44:26/126358.pt\n"
     ]
    },
    {
     "data": {
      "application/vnd.jupyter.widget-view+json": {
       "model_id": "f1bd1b52e38c45c5a42821abb2ddc6cf",
       "version_major": 2,
       "version_minor": 0
      },
      "text/plain": [
       "HBox(children=(HTML(value=''), FloatProgress(value=0.0, max=2.0), HTML(value='')))"
      ]
     },
     "metadata": {},
     "output_type": "display_data"
    },
    {
     "name": "stdout",
     "output_type": "stream",
     "text": [
      "\n",
      "[2020-11-22 09:50:09,663][MainProcess][__main__][INFO] NLLLoss: 0.451\n",
      "[2020-11-22 09:50:09,717][MainProcess][lib.metrics.accuracy][INFO] Accuracy: 0.88671875 [7264 of 8192]\n",
      "––––––––––––––––––––––––––––––––––––––––––––––––––––––––––––––––––––––––––––––––––––––––––––––––––––\n",
      "[2020-11-22 09:50:09,723][MainProcess][__main__][INFO] Epoch: 12\n",
      "[2020-11-22 09:50:09,724][MainProcess][__main__][INFO] Training...\n"
     ]
    },
    {
     "data": {
      "application/vnd.jupyter.widget-view+json": {
       "model_id": "a18f6cd87cd8451190dfe2d54e688877",
       "version_major": 2,
       "version_minor": 0
      },
      "text/plain": [
       "HBox(children=(HTML(value=''), FloatProgress(value=0.0, max=1185.0), HTML(value='')))"
      ]
     },
     "metadata": {},
     "output_type": "display_data"
    },
    {
     "name": "stdout",
     "output_type": "stream",
     "text": [
      "\n",
      "[2020-11-22 09:50:21,428][MainProcess][lib.checkpoint][INFO] Saving checkpoint: ../../experiments/relation_classifier.11_22_09:44:26/126371.pt\n"
     ]
    },
    {
     "data": {
      "application/vnd.jupyter.widget-view+json": {
       "model_id": "dafd7bb07aef45b48e034d689a4c5a9f",
       "version_major": 2,
       "version_minor": 0
      },
      "text/plain": [
       "HBox(children=(HTML(value=''), FloatProgress(value=0.0, max=2.0), HTML(value='')))"
      ]
     },
     "metadata": {},
     "output_type": "display_data"
    },
    {
     "name": "stdout",
     "output_type": "stream",
     "text": [
      "\n",
      "[2020-11-22 09:50:22,794][MainProcess][__main__][INFO] NLLLoss: 0.455\n",
      "[2020-11-22 09:50:22,851][MainProcess][lib.metrics.accuracy][INFO] Accuracy: 0.8857421875 [7256 of 8192]\n",
      "––––––––––––––––––––––––––––––––––––––––––––––––––––––––––––––––––––––––––––––––––––––––––––––––––––\n",
      "[2020-11-22 09:50:22,857][MainProcess][__main__][INFO] Epoch: 13\n",
      "[2020-11-22 09:50:22,858][MainProcess][__main__][INFO] Training...\n"
     ]
    },
    {
     "data": {
      "application/vnd.jupyter.widget-view+json": {
       "model_id": "75cb33fe5bcc4aa285fc6318f48f6f00",
       "version_major": 2,
       "version_minor": 0
      },
      "text/plain": [
       "HBox(children=(HTML(value=''), FloatProgress(value=0.0, max=1185.0), HTML(value='')))"
      ]
     },
     "metadata": {},
     "output_type": "display_data"
    },
    {
     "name": "stdout",
     "output_type": "stream",
     "text": [
      "\n",
      "[2020-11-22 09:50:35,082][MainProcess][lib.checkpoint][INFO] Saving checkpoint: ../../experiments/relation_classifier.11_22_09:44:26/126384.pt\n"
     ]
    },
    {
     "data": {
      "application/vnd.jupyter.widget-view+json": {
       "model_id": "823542954da541f68eb871dec7f2c791",
       "version_major": 2,
       "version_minor": 0
      },
      "text/plain": [
       "HBox(children=(HTML(value=''), FloatProgress(value=0.0, max=2.0), HTML(value='')))"
      ]
     },
     "metadata": {},
     "output_type": "display_data"
    },
    {
     "name": "stdout",
     "output_type": "stream",
     "text": [
      "\n",
      "[2020-11-22 09:50:36,495][MainProcess][__main__][INFO] NLLLoss: 0.464\n",
      "[2020-11-22 09:50:36,550][MainProcess][lib.metrics.accuracy][INFO] Accuracy: 0.8858642578125 [7257 of 8192]\n",
      "––––––––––––––––––––––––––––––––––––––––––––––––––––––––––––––––––––––––––––––––––––––––––––––––––––\n",
      "[2020-11-22 09:50:36,556][MainProcess][__main__][INFO] Epoch: 14\n",
      "[2020-11-22 09:50:36,557][MainProcess][__main__][INFO] Training...\n"
     ]
    },
    {
     "data": {
      "application/vnd.jupyter.widget-view+json": {
       "model_id": "81c2c3eb3ace43ca9027ab8f226dff92",
       "version_major": 2,
       "version_minor": 0
      },
      "text/plain": [
       "HBox(children=(HTML(value=''), FloatProgress(value=0.0, max=1185.0), HTML(value='')))"
      ]
     },
     "metadata": {},
     "output_type": "display_data"
    },
    {
     "name": "stdout",
     "output_type": "stream",
     "text": [
      "\n",
      "[2020-11-22 09:50:48,592][MainProcess][lib.checkpoint][INFO] Saving checkpoint: ../../experiments/relation_classifier.11_22_09:44:26/126398.pt\n"
     ]
    },
    {
     "data": {
      "application/vnd.jupyter.widget-view+json": {
       "model_id": "0daa598da050441ea3e767782d1627c2",
       "version_major": 2,
       "version_minor": 0
      },
      "text/plain": [
       "HBox(children=(HTML(value=''), FloatProgress(value=0.0, max=2.0), HTML(value='')))"
      ]
     },
     "metadata": {},
     "output_type": "display_data"
    },
    {
     "name": "stdout",
     "output_type": "stream",
     "text": [
      "\n",
      "[2020-11-22 09:50:49,732][MainProcess][__main__][INFO] NLLLoss: 0.456\n",
      "[2020-11-22 09:50:49,790][MainProcess][lib.metrics.accuracy][INFO] Accuracy: 0.88525390625 [7252 of 8192]\n",
      "[2020-11-22 09:50:49,796][MainProcess][__main__][INFO] Ran out of patience, increasing train batch size to: 128\n",
      "––––––––––––––––––––––––––––––––––––––––––––––––––––––––––––––––––––––––––––––––––––––––––––––––––––\n",
      "[2020-11-22 09:50:49,798][MainProcess][__main__][INFO] Epoch: 15\n",
      "[2020-11-22 09:50:49,798][MainProcess][__main__][INFO] Training...\n"
     ]
    },
    {
     "data": {
      "application/vnd.jupyter.widget-view+json": {
       "model_id": "1f7adf8da02f46aeb820f73f7e53bc32",
       "version_major": 2,
       "version_minor": 0
      },
      "text/plain": [
       "HBox(children=(HTML(value=''), FloatProgress(value=0.0, max=592.0), HTML(value='')))"
      ]
     },
     "metadata": {},
     "output_type": "display_data"
    },
    {
     "name": "stdout",
     "output_type": "stream",
     "text": [
      "\n",
      "[2020-11-22 09:50:56,972][MainProcess][lib.checkpoint][INFO] Saving checkpoint: ../../experiments/relation_classifier.11_22_09:44:26/126406.pt\n"
     ]
    },
    {
     "data": {
      "application/vnd.jupyter.widget-view+json": {
       "model_id": "7a5cd128854e4586b83e03362d2e4773",
       "version_major": 2,
       "version_minor": 0
      },
      "text/plain": [
       "HBox(children=(HTML(value=''), FloatProgress(value=0.0, max=2.0), HTML(value='')))"
      ]
     },
     "metadata": {},
     "output_type": "display_data"
    },
    {
     "name": "stdout",
     "output_type": "stream",
     "text": [
      "\n",
      "[2020-11-22 09:50:58,267][MainProcess][__main__][INFO] NLLLoss: 0.478\n",
      "[2020-11-22 09:50:58,324][MainProcess][lib.metrics.accuracy][INFO] Accuracy: 0.88134765625 [7220 of 8192]\n",
      "[2020-11-22 09:50:58,330][MainProcess][__main__][INFO] Ran out of patience, increasing train batch size to: 256\n",
      "––––––––––––––––––––––––––––––––––––––––––––––––––––––––––––––––––––––––––––––––––––––––––––––––––––\n",
      "[2020-11-22 09:50:58,331][MainProcess][__main__][INFO] Epoch: 16\n",
      "[2020-11-22 09:50:58,332][MainProcess][__main__][INFO] Training...\n"
     ]
    },
    {
     "data": {
      "application/vnd.jupyter.widget-view+json": {
       "model_id": "eeb03c6a42064455a4adfbe267a53698",
       "version_major": 2,
       "version_minor": 0
      },
      "text/plain": [
       "HBox(children=(HTML(value=''), FloatProgress(value=0.0, max=296.0), HTML(value='')))"
      ]
     },
     "metadata": {},
     "output_type": "display_data"
    },
    {
     "name": "stdout",
     "output_type": "stream",
     "text": [
      "\n",
      "[2020-11-22 09:51:03,428][MainProcess][lib.checkpoint][INFO] Saving checkpoint: ../../experiments/relation_classifier.11_22_09:44:26/126413.pt\n"
     ]
    },
    {
     "data": {
      "application/vnd.jupyter.widget-view+json": {
       "model_id": "132821b235ae47c3b1c55c50dc1ee694",
       "version_major": 2,
       "version_minor": 0
      },
      "text/plain": [
       "HBox(children=(HTML(value=''), FloatProgress(value=0.0, max=2.0), HTML(value='')))"
      ]
     },
     "metadata": {},
     "output_type": "display_data"
    },
    {
     "name": "stdout",
     "output_type": "stream",
     "text": [
      "\n",
      "[2020-11-22 09:51:04,635][MainProcess][__main__][INFO] NLLLoss: 0.460\n",
      "[2020-11-22 09:51:04,694][MainProcess][lib.metrics.accuracy][INFO] Accuracy: 0.88232421875 [7228 of 8192]\n",
      "[2020-11-22 09:51:04,700][MainProcess][__main__][INFO] Ran out of patience, increasing train batch size to: 512\n",
      "––––––––––––––––––––––––––––––––––––––––––––––––––––––––––––––––––––––––––––––––––––––––––––––––––––\n",
      "[2020-11-22 09:51:04,702][MainProcess][__main__][INFO] Epoch: 17\n",
      "[2020-11-22 09:51:04,703][MainProcess][__main__][INFO] Training...\n"
     ]
    },
    {
     "data": {
      "application/vnd.jupyter.widget-view+json": {
       "model_id": "08b3db3dbfcc4a2993925086df96f808",
       "version_major": 2,
       "version_minor": 0
      },
      "text/plain": [
       "HBox(children=(HTML(value=''), FloatProgress(value=0.0, max=148.0), HTML(value='')))"
      ]
     },
     "metadata": {},
     "output_type": "display_data"
    },
    {
     "name": "stdout",
     "output_type": "stream",
     "text": [
      "\n",
      "[2020-11-22 09:51:08,528][MainProcess][lib.checkpoint][INFO] Saving checkpoint: ../../experiments/relation_classifier.11_22_09:44:26/126418.pt\n"
     ]
    },
    {
     "data": {
      "application/vnd.jupyter.widget-view+json": {
       "model_id": "940ea9f325e94a38ad088a1cf2c52f0d",
       "version_major": 2,
       "version_minor": 0
      },
      "text/plain": [
       "HBox(children=(HTML(value=''), FloatProgress(value=0.0, max=2.0), HTML(value='')))"
      ]
     },
     "metadata": {},
     "output_type": "display_data"
    },
    {
     "name": "stdout",
     "output_type": "stream",
     "text": [
      "\n",
      "[2020-11-22 09:51:10,615][MainProcess][__main__][INFO] NLLLoss: 0.453\n",
      "[2020-11-22 09:51:10,672][MainProcess][lib.metrics.accuracy][INFO] Accuracy: 0.8863525390625 [7261 of 8192]\n",
      "[2020-11-22 09:51:10,679][MainProcess][__main__][INFO] Ran out of patience, increasing train batch size to: 1024\n",
      "––––––––––––––––––––––––––––––––––––––––––––––––––––––––––––––––––––––––––––––––––––––––––––––––––––\n",
      "[2020-11-22 09:51:10,680][MainProcess][__main__][INFO] Epoch: 18\n",
      "[2020-11-22 09:51:10,681][MainProcess][__main__][INFO] Training...\n"
     ]
    },
    {
     "data": {
      "application/vnd.jupyter.widget-view+json": {
       "model_id": "669ee4ad5a0e49b3991c4646d33842ea",
       "version_major": 2,
       "version_minor": 0
      },
      "text/plain": [
       "HBox(children=(HTML(value=''), FloatProgress(value=0.0, max=74.0), HTML(value='')))"
      ]
     },
     "metadata": {},
     "output_type": "display_data"
    },
    {
     "name": "stdout",
     "output_type": "stream",
     "text": [
      "\n",
      "[2020-11-22 09:51:14,368][MainProcess][lib.checkpoint][INFO] Saving checkpoint: ../../experiments/relation_classifier.11_22_09:44:26/126424.pt\n"
     ]
    },
    {
     "data": {
      "application/vnd.jupyter.widget-view+json": {
       "model_id": "fc83450b4f744d688fa0573a606831ca",
       "version_major": 2,
       "version_minor": 0
      },
      "text/plain": [
       "HBox(children=(HTML(value=''), FloatProgress(value=0.0, max=2.0), HTML(value='')))"
      ]
     },
     "metadata": {},
     "output_type": "display_data"
    },
    {
     "name": "stdout",
     "output_type": "stream",
     "text": [
      "\n",
      "[2020-11-22 09:51:16,374][MainProcess][__main__][INFO] NLLLoss: 0.461\n",
      "[2020-11-22 09:51:16,431][MainProcess][lib.metrics.accuracy][INFO] Accuracy: 0.88671875 [7264 of 8192]\n",
      "––––––––––––––––––––––––––––––––––––––––––––––––––––––––––––––––––––––––––––––––––––––––––––––––––––\n",
      "[2020-11-22 09:51:16,437][MainProcess][__main__][INFO] Epoch: 19\n",
      "[2020-11-22 09:51:16,438][MainProcess][__main__][INFO] Training...\n"
     ]
    },
    {
     "data": {
      "application/vnd.jupyter.widget-view+json": {
       "model_id": "240a8c2e4e134700aef2e8dbb028f780",
       "version_major": 2,
       "version_minor": 0
      },
      "text/plain": [
       "HBox(children=(HTML(value=''), FloatProgress(value=0.0, max=74.0), HTML(value='')))"
      ]
     },
     "metadata": {},
     "output_type": "display_data"
    },
    {
     "name": "stdout",
     "output_type": "stream",
     "text": [
      "\n",
      "[2020-11-22 09:51:20,037][MainProcess][lib.checkpoint][INFO] Saving checkpoint: ../../experiments/relation_classifier.11_22_09:44:26/126429.pt\n"
     ]
    },
    {
     "data": {
      "application/vnd.jupyter.widget-view+json": {
       "model_id": "4a2fbad73b62491e87fa984aed602df8",
       "version_major": 2,
       "version_minor": 0
      },
      "text/plain": [
       "HBox(children=(HTML(value=''), FloatProgress(value=0.0, max=2.0), HTML(value='')))"
      ]
     },
     "metadata": {},
     "output_type": "display_data"
    },
    {
     "name": "stdout",
     "output_type": "stream",
     "text": [
      "\n",
      "[2020-11-22 09:51:21,354][MainProcess][__main__][INFO] NLLLoss: 0.457\n",
      "[2020-11-22 09:51:21,412][MainProcess][lib.metrics.accuracy][INFO] Accuracy: 0.886474609375 [7262 of 8192]\n",
      "––––––––––––––––––––––––––––––––––––––––––––––––––––––––––––––––––––––––––––––––––––––––––––––––––––\n",
      "[2020-11-22 09:51:21,418][MainProcess][__main__][INFO] Epoch: 20\n",
      "[2020-11-22 09:51:21,419][MainProcess][__main__][INFO] Training...\n"
     ]
    },
    {
     "data": {
      "application/vnd.jupyter.widget-view+json": {
       "model_id": "2bf22f6c797749bd9456a367106539b4",
       "version_major": 2,
       "version_minor": 0
      },
      "text/plain": [
       "HBox(children=(HTML(value=''), FloatProgress(value=0.0, max=74.0), HTML(value='')))"
      ]
     },
     "metadata": {},
     "output_type": "display_data"
    },
    {
     "name": "stdout",
     "output_type": "stream",
     "text": [
      "\n",
      "[2020-11-22 09:51:24,964][MainProcess][lib.checkpoint][INFO] Saving checkpoint: ../../experiments/relation_classifier.11_22_09:44:26/126434.pt\n"
     ]
    },
    {
     "data": {
      "application/vnd.jupyter.widget-view+json": {
       "model_id": "ffacbd2e07d74ee19221a6ffa9c9ccb3",
       "version_major": 2,
       "version_minor": 0
      },
      "text/plain": [
       "HBox(children=(HTML(value=''), FloatProgress(value=0.0, max=2.0), HTML(value='')))"
      ]
     },
     "metadata": {},
     "output_type": "display_data"
    },
    {
     "name": "stdout",
     "output_type": "stream",
     "text": [
      "\n",
      "[2020-11-22 09:51:26,155][MainProcess][__main__][INFO] NLLLoss: 0.455\n",
      "[2020-11-22 09:51:26,211][MainProcess][lib.metrics.accuracy][INFO] Accuracy: 0.8890380859375 [7283 of 8192]\n",
      "––––––––––––––––––––––––––––––––––––––––––––––––––––––––––––––––––––––––––––––––––––––––––––––––––––\n",
      "[2020-11-22 09:51:26,218][MainProcess][__main__][INFO] Epoch: 21\n",
      "[2020-11-22 09:51:26,219][MainProcess][__main__][INFO] Training...\n"
     ]
    },
    {
     "data": {
      "application/vnd.jupyter.widget-view+json": {
       "model_id": "56b0de28b5a8453d83c1845e8d883bb9",
       "version_major": 2,
       "version_minor": 0
      },
      "text/plain": [
       "HBox(children=(HTML(value=''), FloatProgress(value=0.0, max=74.0), HTML(value='')))"
      ]
     },
     "metadata": {},
     "output_type": "display_data"
    },
    {
     "name": "stdout",
     "output_type": "stream",
     "text": [
      "\n",
      "[2020-11-22 09:51:29,794][MainProcess][lib.checkpoint][INFO] Saving checkpoint: ../../experiments/relation_classifier.11_22_09:44:26/126439.pt\n"
     ]
    },
    {
     "data": {
      "application/vnd.jupyter.widget-view+json": {
       "model_id": "66ee07d06f774668b5e0d6efd43daba9",
       "version_major": 2,
       "version_minor": 0
      },
      "text/plain": [
       "HBox(children=(HTML(value=''), FloatProgress(value=0.0, max=2.0), HTML(value='')))"
      ]
     },
     "metadata": {},
     "output_type": "display_data"
    },
    {
     "name": "stdout",
     "output_type": "stream",
     "text": [
      "\n",
      "[2020-11-22 09:51:30,941][MainProcess][__main__][INFO] NLLLoss: 0.454\n",
      "[2020-11-22 09:51:30,998][MainProcess][lib.metrics.accuracy][INFO] Accuracy: 0.8885498046875 [7279 of 8192]\n",
      "––––––––––––––––––––––––––––––––––––––––––––––––––––––––––––––––––––––––––––––––––––––––––––––––––––\n",
      "[2020-11-22 09:51:31,005][MainProcess][__main__][INFO] Epoch: 22\n",
      "[2020-11-22 09:51:31,006][MainProcess][__main__][INFO] Training...\n"
     ]
    },
    {
     "data": {
      "application/vnd.jupyter.widget-view+json": {
       "model_id": "f70f557b5eab4c43b0a2b10935fa564f",
       "version_major": 2,
       "version_minor": 0
      },
      "text/plain": [
       "HBox(children=(HTML(value=''), FloatProgress(value=0.0, max=74.0), HTML(value='')))"
      ]
     },
     "metadata": {},
     "output_type": "display_data"
    },
    {
     "name": "stdout",
     "output_type": "stream",
     "text": [
      "\n",
      "[2020-11-22 09:51:35,514][MainProcess][lib.checkpoint][INFO] Saving checkpoint: ../../experiments/relation_classifier.11_22_09:44:26/126445.pt\n"
     ]
    },
    {
     "data": {
      "application/vnd.jupyter.widget-view+json": {
       "model_id": "7c147f17ed454e89ba1ae423f763329c",
       "version_major": 2,
       "version_minor": 0
      },
      "text/plain": [
       "HBox(children=(HTML(value=''), FloatProgress(value=0.0, max=2.0), HTML(value='')))"
      ]
     },
     "metadata": {},
     "output_type": "display_data"
    },
    {
     "name": "stdout",
     "output_type": "stream",
     "text": [
      "\n",
      "[2020-11-22 09:51:36,613][MainProcess][__main__][INFO] NLLLoss: 0.475\n",
      "[2020-11-22 09:51:36,673][MainProcess][lib.metrics.accuracy][INFO] Accuracy: 0.8846435546875 [7247 of 8192]\n",
      "––––––––––––––––––––––––––––––––––––––––––––––––––––––––––––––––––––––––––––––––––––––––––––––––––––\n",
      "[2020-11-22 09:51:36,680][MainProcess][__main__][INFO] Epoch: 23\n",
      "[2020-11-22 09:51:36,681][MainProcess][__main__][INFO] Training...\n"
     ]
    },
    {
     "data": {
      "application/vnd.jupyter.widget-view+json": {
       "model_id": "83bb1b915e414f14b19fbd343439e7ce",
       "version_major": 2,
       "version_minor": 0
      },
      "text/plain": [
       "HBox(children=(HTML(value=''), FloatProgress(value=0.0, max=74.0), HTML(value='')))"
      ]
     },
     "metadata": {},
     "output_type": "display_data"
    },
    {
     "name": "stdout",
     "output_type": "stream",
     "text": [
      "\n",
      "[2020-11-22 09:51:40,424][MainProcess][lib.checkpoint][INFO] Saving checkpoint: ../../experiments/relation_classifier.11_22_09:44:26/126450.pt\n"
     ]
    },
    {
     "data": {
      "application/vnd.jupyter.widget-view+json": {
       "model_id": "d21b3d16cc2c4a308ac6a1ac23aca391",
       "version_major": 2,
       "version_minor": 0
      },
      "text/plain": [
       "HBox(children=(HTML(value=''), FloatProgress(value=0.0, max=2.0), HTML(value='')))"
      ]
     },
     "metadata": {},
     "output_type": "display_data"
    },
    {
     "name": "stdout",
     "output_type": "stream",
     "text": [
      "\n",
      "[2020-11-22 09:51:41,509][MainProcess][__main__][INFO] NLLLoss: 0.458\n",
      "[2020-11-22 09:51:41,568][MainProcess][lib.metrics.accuracy][INFO] Accuracy: 0.8887939453125 [7281 of 8192]\n",
      "[2020-11-22 09:51:41,574][MainProcess][__main__][INFO] Ran out of patience, increasing train batch size to: 1024\n",
      "––––––––––––––––––––––––––––––––––––––––––––––––––––––––––––––––––––––––––––––––––––––––––––––––––––\n",
      "[2020-11-22 09:51:41,576][MainProcess][__main__][INFO] Epoch: 24\n",
      "[2020-11-22 09:51:41,577][MainProcess][__main__][INFO] Training...\n"
     ]
    },
    {
     "data": {
      "application/vnd.jupyter.widget-view+json": {
       "model_id": "f9875ad096bf418da099cbb5cc626aa0",
       "version_major": 2,
       "version_minor": 0
      },
      "text/plain": [
       "HBox(children=(HTML(value=''), FloatProgress(value=0.0, max=74.0), HTML(value='')))"
      ]
     },
     "metadata": {},
     "output_type": "display_data"
    },
    {
     "name": "stdout",
     "output_type": "stream",
     "text": [
      "\n",
      "[2020-11-22 09:51:45,222][MainProcess][lib.checkpoint][INFO] Saving checkpoint: ../../experiments/relation_classifier.11_22_09:44:26/126454.pt\n"
     ]
    },
    {
     "data": {
      "application/vnd.jupyter.widget-view+json": {
       "model_id": "cdaf9d4501ad484d863616e0caf05a5b",
       "version_major": 2,
       "version_minor": 0
      },
      "text/plain": [
       "HBox(children=(HTML(value=''), FloatProgress(value=0.0, max=2.0), HTML(value='')))"
      ]
     },
     "metadata": {},
     "output_type": "display_data"
    },
    {
     "name": "stdout",
     "output_type": "stream",
     "text": [
      "\n",
      "[2020-11-22 09:51:46,442][MainProcess][__main__][INFO] NLLLoss: 0.467\n",
      "[2020-11-22 09:51:46,503][MainProcess][lib.metrics.accuracy][INFO] Accuracy: 0.8853759765625 [7253 of 8192]\n",
      "[2020-11-22 09:51:46,509][MainProcess][__main__][INFO] Ran out of patience, increasing train batch size to: 1024\n",
      "––––––––––––––––––––––––––––––––––––––––––––––––––––––––––––––––––––––––––––––––––––––––––––––––––––\n",
      "[2020-11-22 09:51:46,511][MainProcess][__main__][INFO] Epoch: 25\n",
      "[2020-11-22 09:51:46,512][MainProcess][__main__][INFO] Training...\n"
     ]
    },
    {
     "data": {
      "application/vnd.jupyter.widget-view+json": {
       "model_id": "cc49467d98cf4ac689bd287e830250ad",
       "version_major": 2,
       "version_minor": 0
      },
      "text/plain": [
       "HBox(children=(HTML(value=''), FloatProgress(value=0.0, max=74.0), HTML(value='')))"
      ]
     },
     "metadata": {},
     "output_type": "display_data"
    },
    {
     "name": "stdout",
     "output_type": "stream",
     "text": [
      "\n",
      "[2020-11-22 09:51:50,143][MainProcess][lib.checkpoint][INFO] Saving checkpoint: ../../experiments/relation_classifier.11_22_09:44:26/126459.pt\n"
     ]
    },
    {
     "data": {
      "application/vnd.jupyter.widget-view+json": {
       "model_id": "f0ca6e2411324d69b31f7e88acb761aa",
       "version_major": 2,
       "version_minor": 0
      },
      "text/plain": [
       "HBox(children=(HTML(value=''), FloatProgress(value=0.0, max=2.0), HTML(value='')))"
      ]
     },
     "metadata": {},
     "output_type": "display_data"
    },
    {
     "name": "stdout",
     "output_type": "stream",
     "text": [
      "\n",
      "[2020-11-22 09:51:51,251][MainProcess][__main__][INFO] NLLLoss: 0.476\n",
      "[2020-11-22 09:51:51,310][MainProcess][lib.metrics.accuracy][INFO] Accuracy: 0.88720703125 [7268 of 8192]\n",
      "[2020-11-22 09:51:51,316][MainProcess][__main__][INFO] Ran out of patience, increasing train batch size to: 1024\n",
      "––––––––––––––––––––––––––––––––––––––––––––––––––––––––––––––––––––––––––––––––––––––––––––––––––––\n",
      "[2020-11-22 09:51:51,318][MainProcess][__main__][INFO] Epoch: 26\n",
      "[2020-11-22 09:51:51,319][MainProcess][__main__][INFO] Training...\n"
     ]
    },
    {
     "data": {
      "application/vnd.jupyter.widget-view+json": {
       "model_id": "3d0f1301321f47c6b87c3624c7463e50",
       "version_major": 2,
       "version_minor": 0
      },
      "text/plain": [
       "HBox(children=(HTML(value=''), FloatProgress(value=0.0, max=74.0), HTML(value='')))"
      ]
     },
     "metadata": {},
     "output_type": "display_data"
    },
    {
     "name": "stdout",
     "output_type": "stream",
     "text": [
      "\n",
      "[2020-11-22 09:51:54,963][MainProcess][lib.checkpoint][INFO] Saving checkpoint: ../../experiments/relation_classifier.11_22_09:44:26/126464.pt\n"
     ]
    },
    {
     "data": {
      "application/vnd.jupyter.widget-view+json": {
       "model_id": "d6ea0215218e44b9a3cb37d47e6398bf",
       "version_major": 2,
       "version_minor": 0
      },
      "text/plain": [
       "HBox(children=(HTML(value=''), FloatProgress(value=0.0, max=2.0), HTML(value='')))"
      ]
     },
     "metadata": {},
     "output_type": "display_data"
    },
    {
     "name": "stdout",
     "output_type": "stream",
     "text": [
      "\n",
      "[2020-11-22 09:51:56,714][MainProcess][__main__][INFO] NLLLoss: 0.473\n",
      "[2020-11-22 09:51:56,770][MainProcess][lib.metrics.accuracy][INFO] Accuracy: 0.88525390625 [7252 of 8192]\n",
      "[2020-11-22 09:51:56,776][MainProcess][__main__][INFO] Ran out of patience, increasing train batch size to: 1024\n",
      "––––––––––––––––––––––––––––––––––––––––––––––––––––––––––––––––––––––––––––––––––––––––––––––––––––\n",
      "[2020-11-22 09:51:56,778][MainProcess][__main__][INFO] Epoch: 27\n",
      "[2020-11-22 09:51:56,779][MainProcess][__main__][INFO] Training...\n"
     ]
    },
    {
     "data": {
      "application/vnd.jupyter.widget-view+json": {
       "model_id": "71a55114da6b42cd831f9f21ef95313b",
       "version_major": 2,
       "version_minor": 0
      },
      "text/plain": [
       "HBox(children=(HTML(value=''), FloatProgress(value=0.0, max=74.0), HTML(value='')))"
      ]
     },
     "metadata": {},
     "output_type": "display_data"
    },
    {
     "name": "stdout",
     "output_type": "stream",
     "text": [
      "\n",
      "[2020-11-22 09:52:00,452][MainProcess][lib.checkpoint][INFO] Saving checkpoint: ../../experiments/relation_classifier.11_22_09:44:26/126470.pt\n"
     ]
    },
    {
     "data": {
      "application/vnd.jupyter.widget-view+json": {
       "model_id": "34b2776fef904f9faafdaaa288267574",
       "version_major": 2,
       "version_minor": 0
      },
      "text/plain": [
       "HBox(children=(HTML(value=''), FloatProgress(value=0.0, max=2.0), HTML(value='')))"
      ]
     },
     "metadata": {},
     "output_type": "display_data"
    },
    {
     "name": "stdout",
     "output_type": "stream",
     "text": [
      "\n",
      "[2020-11-22 09:52:01,512][MainProcess][__main__][INFO] NLLLoss: 0.465\n",
      "[2020-11-22 09:52:01,569][MainProcess][lib.metrics.accuracy][INFO] Accuracy: 0.88671875 [7264 of 8192]\n",
      "[2020-11-22 09:52:01,575][MainProcess][__main__][INFO] Ran out of patience, increasing train batch size to: 1024\n",
      "––––––––––––––––––––––––––––––––––––––––––––––––––––––––––––––––––––––––––––––––––––––––––––––––––––\n",
      "[2020-11-22 09:52:01,576][MainProcess][__main__][INFO] Epoch: 28\n",
      "[2020-11-22 09:52:01,578][MainProcess][__main__][INFO] Training...\n"
     ]
    },
    {
     "data": {
      "application/vnd.jupyter.widget-view+json": {
       "model_id": "4bc0b86780854a9e92981ae32e81caa1",
       "version_major": 2,
       "version_minor": 0
      },
      "text/plain": [
       "HBox(children=(HTML(value=''), FloatProgress(value=0.0, max=74.0), HTML(value='')))"
      ]
     },
     "metadata": {},
     "output_type": "display_data"
    },
    {
     "name": "stdout",
     "output_type": "stream",
     "text": [
      "\n",
      "[2020-11-22 09:52:05,203][MainProcess][lib.checkpoint][INFO] Saving checkpoint: ../../experiments/relation_classifier.11_22_09:44:26/126474.pt\n"
     ]
    },
    {
     "data": {
      "application/vnd.jupyter.widget-view+json": {
       "model_id": "f9d8d96413b743b091f7422d01feb9b3",
       "version_major": 2,
       "version_minor": 0
      },
      "text/plain": [
       "HBox(children=(HTML(value=''), FloatProgress(value=0.0, max=2.0), HTML(value='')))"
      ]
     },
     "metadata": {},
     "output_type": "display_data"
    },
    {
     "name": "stdout",
     "output_type": "stream",
     "text": [
      "\n",
      "[2020-11-22 09:52:06,358][MainProcess][__main__][INFO] NLLLoss: 0.471\n",
      "[2020-11-22 09:52:06,426][MainProcess][lib.metrics.accuracy][INFO] Accuracy: 0.8875732421875 [7271 of 8192]\n",
      "[2020-11-22 09:52:06,432][MainProcess][__main__][INFO] Ran out of patience, increasing train batch size to: 1024\n",
      "––––––––––––––––––––––––––––––––––––––––––––––––––––––––––––––––––––––––––––––––––––––––––––––––––––\n",
      "[2020-11-22 09:52:06,433][MainProcess][__main__][INFO] Epoch: 29\n",
      "[2020-11-22 09:52:06,434][MainProcess][__main__][INFO] Training...\n"
     ]
    },
    {
     "data": {
      "application/vnd.jupyter.widget-view+json": {
       "model_id": "b2419b78a0734c6f96ce74de7078852e",
       "version_major": 2,
       "version_minor": 0
      },
      "text/plain": [
       "HBox(children=(HTML(value=''), FloatProgress(value=0.0, max=74.0), HTML(value='')))"
      ]
     },
     "metadata": {},
     "output_type": "display_data"
    },
    {
     "name": "stdout",
     "output_type": "stream",
     "text": [
      "\n",
      "[2020-11-22 09:52:10,085][MainProcess][lib.checkpoint][INFO] Saving checkpoint: ../../experiments/relation_classifier.11_22_09:44:26/126479.pt\n"
     ]
    },
    {
     "data": {
      "application/vnd.jupyter.widget-view+json": {
       "model_id": "7da5d5e754be41cf8fbea09ba360c15b",
       "version_major": 2,
       "version_minor": 0
      },
      "text/plain": [
       "HBox(children=(HTML(value=''), FloatProgress(value=0.0, max=2.0), HTML(value='')))"
      ]
     },
     "metadata": {},
     "output_type": "display_data"
    },
    {
     "name": "stdout",
     "output_type": "stream",
     "text": [
      "\n",
      "[2020-11-22 09:52:11,223][MainProcess][__main__][INFO] NLLLoss: 0.467\n",
      "[2020-11-22 09:52:11,279][MainProcess][lib.metrics.accuracy][INFO] Accuracy: 0.886474609375 [7262 of 8192]\n",
      "[2020-11-22 09:52:11,286][MainProcess][__main__][INFO] Ran out of patience, increasing train batch size to: 1024\n",
      "––––––––––––––––––––––––––––––––––––––––––––––––––––––––––––––––––––––––––––––––––––––––––––––––––––\n"
     ]
    }
   ],
   "source": [
    "train()\n",
    "torch.cuda.synchronize()"
   ]
  },
  {
   "cell_type": "markdown",
   "metadata": {},
   "source": [
    "## Hyperparameter Optimization"
   ]
  },
  {
   "cell_type": "code",
   "execution_count": null,
   "metadata": {},
   "outputs": [
    {
     "name": "stderr",
     "output_type": "stream",
     "text": [
      "\r",
      "  0%|          | 0/1000.0 [00:00<?, ?it/s]"
     ]
    },
    {
     "name": "stdout",
     "output_type": "stream",
     "text": [
      "[2020-11-21 20:15:31,544][MainProcess][lib.configurable][INFO] Checking configuration...\n",
      "[2020-11-21 20:15:31,546][MainProcess][lib.configurable][INFO] Configuration checked.\n",
      "[2020-11-21 20:15:31,547][MainProcess][lib.configurable][INFO] seq_to_label.SeqToLabel.__init__ was configured with:\n",
      "{   'bidirectional': True,\n",
      "    'decode_dropout': 0.8127909947506516,\n",
      "    'embedding_dropout': 0.6515867123508061,\n",
      "    'embedding_size': 300,\n",
      "    'freeze_embeddings': True,\n",
      "    'input_vocab_size': 6899,\n",
      "    'output_vocab_size': 1703,\n",
      "    'rnn_cell': 'lstm',\n",
      "    'rnn_dropout': 0.3928209455749294,\n",
      "    'rnn_layers': 1,\n",
      "    'rnn_size': 190,\n",
      "    'rnn_variational_dropout': 0.442645517078333}\n",
      "[2020-11-21 20:15:31,548][MainProcess][lib.configurable][INFO] seq_encoder.SeqEncoder.__init__ no config for: lib.nn.seq_encoder.SeqEncoder.__init__\n",
      "[2020-11-21 20:15:31,549][MainProcess][lib.configurable][INFO] seq_encoder.SeqEncoder.__init__ was configured with:\n",
      "{   'bidirectional': True,\n",
      "    'embedding_dropout': 0.6515867123508061,\n",
      "    'embedding_size': 300,\n",
      "    'freeze_embeddings': True,\n",
      "    'n_layers': 1,\n",
      "    'rnn_cell': 'lstm',\n",
      "    'rnn_dropout': 0.3928209455749294,\n",
      "    'rnn_size': 190,\n",
      "    'rnn_variational_dropout': 0.442645517078333,\n",
      "    'vocab_size': 6899}\n",
      "[2020-11-21 20:15:31,721][MainProcess][lib.configurable][INFO] adam.Adam.__init__ was configured with:\n",
      "{'amsgrad': True, 'params': <filter object at 0x7f3c2fbb8860>}\n",
      "[2020-11-21 20:15:31,723][MainProcess][lib.configurable][INFO] adam.Adam.__init__ was configured with:\n",
      "{'amsgrad': True, 'params': <filter object at 0x7f3c2fbb8860>}\n",
      "[2020-11-21 20:15:31,724][MainProcess][lib.configurable][INFO] optimizer.Optimizer.__init__ was configured with:\n",
      "{   'max_grad_norm': 0.21026490434294223,\n",
      "    'optim': <lib.optim.adam.Adam object at 0x7f3c2a3970f0>}\n",
      "[2020-11-21 20:15:31,725][MainProcess][__main__][INFO] Epochs: 1\n",
      "[2020-11-21 20:15:31,726][MainProcess][__main__][INFO] Train Dataset Size: 75900\n",
      "[2020-11-21 20:15:31,727][MainProcess][__main__][INFO] Dev Dataset Size: 10845\n",
      "[2020-11-21 20:15:31,728][MainProcess][__main__][INFO] Train Batch Size: 32\n",
      "[2020-11-21 20:15:31,728][MainProcess][__main__][INFO] Train Max Batch Size: 1024\n",
      "[2020-11-21 20:15:31,729][MainProcess][__main__][INFO] Total Parameters: 663663\n",
      "[2020-11-21 20:15:31,730][MainProcess][__main__][INFO] Model:\n",
      "SeqToLabel(\n",
      "  (encoder): SeqEncoder(\n",
      "    (embedding): Embedding(6899, 300, padding_idx=0)\n",
      "    (rnn): LSTM(300, 95, dropout=0.442645517078333, bidirectional=True)\n",
      "    (rnn_dropout): LockedDropout(p=0.3928209455749294)\n",
      "    (embedding_dropout): Dropout(p=0.6515867123508061)\n",
      "  )\n",
      "  (out): Sequential(\n",
      "    (0): Linear(in_features=190, out_features=190, bias=True)\n",
      "    (1): BatchNorm1d(190, eps=1e-05, momentum=0.1, affine=True)\n",
      "    (2): ReLU()\n",
      "    (3): Dropout(p=0.8127909947506516)\n",
      "    (4): Linear(in_features=190, out_features=1703, bias=True)\n",
      "  )\n",
      ")\n",
      "[2020-11-21 20:15:31,731][MainProcess][__main__][INFO] Epoch: 0\n",
      "[2020-11-21 20:15:31,734][MainProcess][__main__][INFO] Training...\n"
     ]
    },
    {
     "name": "stderr",
     "output_type": "stream",
     "text": [
      "/mount/arbeitsdaten46/projekte/dialog-1/kanjurva/Simple-QA-EMNLP-2018/venv2/lib/python3.6/site-packages/ipykernel_launcher.py:57: TqdmDeprecationWarning: This function will be removed in tqdm==5.0.0\n",
      "Please use `tqdm.notebook.tqdm` instead of `tqdm.tqdm_notebook`\n"
     ]
    },
    {
     "data": {
      "application/vnd.jupyter.widget-view+json": {
       "model_id": "bf83a05c591d4850abc4e2e51ae47f30",
       "version_major": 2,
       "version_minor": 0
      },
      "text/plain": [
       "HBox(children=(HTML(value=''), FloatProgress(value=0.0, max=2371.0), HTML(value='')))"
      ]
     },
     "metadata": {},
     "output_type": "display_data"
    },
    {
     "name": "stdout",
     "output_type": "stream",
     "text": [
      "\n",
      "[2020-11-21 20:15:56,648][MainProcess][lib.checkpoint][INFO] Saving checkpoint: ../../experiments/relation_classifier.11_21_20:05:46/77506.pt\n"
     ]
    },
    {
     "name": "stderr",
     "output_type": "stream",
     "text": [
      "/mount/arbeitsdaten46/projekte/dialog-1/kanjurva/Simple-QA-EMNLP-2018/venv2/lib/python3.6/site-packages/ipykernel_launcher.py:13: TqdmDeprecationWarning: This function will be removed in tqdm==5.0.0\n",
      "Please use `tqdm.notebook.tqdm` instead of `tqdm.tqdm_notebook`\n",
      "  del sys.path[0]\n"
     ]
    },
    {
     "data": {
      "application/vnd.jupyter.widget-view+json": {
       "model_id": "6847bc6d3a01412caa83583c22212b31",
       "version_major": 2,
       "version_minor": 0
      },
      "text/plain": [
       "HBox(children=(HTML(value=''), FloatProgress(value=0.0, max=2.0), HTML(value='')))"
      ]
     },
     "metadata": {},
     "output_type": "display_data"
    },
    {
     "name": "stdout",
     "output_type": "stream",
     "text": [
      "\n",
      "[2020-11-21 20:15:57,704][MainProcess][__main__][INFO] NLLLoss: 1.161\n",
      "[2020-11-21 20:15:57,763][MainProcess][lib.metrics.accuracy][INFO] Accuracy: 0.71923828125 [5892 of 8192]\n"
     ]
    },
    {
     "name": "stderr",
     "output_type": "stream",
     "text": [
      "  0%|          | 1.1111111111111112/1000.0 [00:26<6:33:49, 23.66s/it, min_score=-.719, models_evaluated=0]"
     ]
    },
    {
     "name": "stdout",
     "output_type": "stream",
     "text": [
      "––––––––––––––––––––––––––––––––––––––––––––––––––––––––––––––––––––––––––––––––––––––––––––––––––––\n",
      "====================================================================================================\n",
      "[2020-11-21 20:15:57,826][MainProcess][lib.configurable][INFO] Checking configuration...\n",
      "[2020-11-21 20:15:57,828][MainProcess][lib.configurable][INFO] Configuration checked.\n",
      "[2020-11-21 20:15:57,829][MainProcess][lib.configurable][INFO] seq_to_label.SeqToLabel.__init__ was configured with:\n",
      "{   'bidirectional': True,\n",
      "    'decode_dropout': 0.11619191891233355,\n",
      "    'embedding_dropout': 0.005555191868468435,\n",
      "    'embedding_size': 300,\n",
      "    'freeze_embeddings': True,\n",
      "    'input_vocab_size': 6899,\n",
      "    'output_vocab_size': 1703,\n",
      "    'rnn_cell': 'lstm',\n",
      "    'rnn_dropout': 0.2606334235685574,\n",
      "    'rnn_layers': 3,\n",
      "    'rnn_size': 166,\n",
      "    'rnn_variational_dropout': 0.525973750342211}\n",
      "[2020-11-21 20:15:57,830][MainProcess][lib.configurable][INFO] seq_encoder.SeqEncoder.__init__ no config for: lib.nn.seq_encoder.SeqEncoder.__init__\n",
      "[2020-11-21 20:15:57,831][MainProcess][lib.configurable][INFO] seq_encoder.SeqEncoder.__init__ was configured with:\n",
      "{   'bidirectional': True,\n",
      "    'embedding_dropout': 0.005555191868468435,\n",
      "    'embedding_size': 300,\n",
      "    'freeze_embeddings': True,\n",
      "    'n_layers': 3,\n",
      "    'rnn_cell': 'lstm',\n",
      "    'rnn_dropout': 0.2606334235685574,\n",
      "    'rnn_size': 166,\n",
      "    'rnn_variational_dropout': 0.525973750342211,\n",
      "    'vocab_size': 6899}\n",
      "[2020-11-21 20:15:58,025][MainProcess][lib.configurable][INFO] adam.Adam.__init__ was configured with:\n",
      "{'amsgrad': True, 'params': <filter object at 0x7f3c2fb961d0>}\n",
      "[2020-11-21 20:15:58,027][MainProcess][lib.configurable][INFO] adam.Adam.__init__ was configured with:\n",
      "{'amsgrad': True, 'params': <filter object at 0x7f3c2fb961d0>}\n",
      "[2020-11-21 20:15:58,028][MainProcess][lib.configurable][INFO] optimizer.Optimizer.__init__ was configured with:\n",
      "{   'max_grad_norm': 4.4103362440965705,\n",
      "    'optim': <lib.optim.adam.Adam object at 0x7f3c2fb96780>}\n",
      "[2020-11-21 20:15:58,029][MainProcess][__main__][INFO] Epochs: 1\n",
      "[2020-11-21 20:15:58,030][MainProcess][__main__][INFO] Train Dataset Size: 75900\n",
      "[2020-11-21 20:15:58,032][MainProcess][__main__][INFO] Dev Dataset Size: 10845\n",
      "[2020-11-21 20:15:58,033][MainProcess][__main__][INFO] Train Batch Size: 32\n",
      "[2020-11-21 20:15:58,034][MainProcess][__main__][INFO] Train Max Batch Size: 1024\n",
      "[2020-11-21 20:15:58,035][MainProcess][__main__][INFO] Total Parameters: 901423\n",
      "[2020-11-21 20:15:58,036][MainProcess][__main__][INFO] Model:\n",
      "SeqToLabel(\n",
      "  (encoder): SeqEncoder(\n",
      "    (embedding): Embedding(6899, 300, padding_idx=0)\n",
      "    (rnn): LSTM(300, 83, num_layers=3, dropout=0.525973750342211, bidirectional=True)\n",
      "    (rnn_dropout): LockedDropout(p=0.2606334235685574)\n",
      "    (embedding_dropout): Dropout(p=0.005555191868468435)\n",
      "  )\n",
      "  (out): Sequential(\n",
      "    (0): Linear(in_features=166, out_features=166, bias=True)\n",
      "    (1): BatchNorm1d(166, eps=1e-05, momentum=0.1, affine=True)\n",
      "    (2): ReLU()\n",
      "    (3): Dropout(p=0.11619191891233355)\n",
      "    (4): Linear(in_features=166, out_features=1703, bias=True)\n",
      "  )\n",
      ")\n",
      "[2020-11-21 20:15:58,037][MainProcess][__main__][INFO] Epoch: 0\n",
      "[2020-11-21 20:15:58,039][MainProcess][__main__][INFO] Training...\n"
     ]
    },
    {
     "name": "stderr",
     "output_type": "stream",
     "text": [
      "/mount/arbeitsdaten46/projekte/dialog-1/kanjurva/Simple-QA-EMNLP-2018/venv2/lib/python3.6/site-packages/ipykernel_launcher.py:57: TqdmDeprecationWarning: This function will be removed in tqdm==5.0.0\n",
      "Please use `tqdm.notebook.tqdm` instead of `tqdm.tqdm_notebook`\n"
     ]
    },
    {
     "data": {
      "application/vnd.jupyter.widget-view+json": {
       "model_id": "affd13fc3c4d4af9921c082964377363",
       "version_major": 2,
       "version_minor": 0
      },
      "text/plain": [
       "HBox(children=(HTML(value=''), FloatProgress(value=0.0, max=2371.0), HTML(value='')))"
      ]
     },
     "metadata": {},
     "output_type": "display_data"
    },
    {
     "name": "stdout",
     "output_type": "stream",
     "text": [
      "\n",
      "[2020-11-21 20:16:41,565][MainProcess][lib.checkpoint][INFO] Saving checkpoint: ../../experiments/relation_classifier.11_21_20:05:46/77551.pt\n"
     ]
    },
    {
     "name": "stderr",
     "output_type": "stream",
     "text": [
      "/mount/arbeitsdaten46/projekte/dialog-1/kanjurva/Simple-QA-EMNLP-2018/venv2/lib/python3.6/site-packages/ipykernel_launcher.py:13: TqdmDeprecationWarning: This function will be removed in tqdm==5.0.0\n",
      "Please use `tqdm.notebook.tqdm` instead of `tqdm.tqdm_notebook`\n",
      "  del sys.path[0]\n"
     ]
    },
    {
     "data": {
      "application/vnd.jupyter.widget-view+json": {
       "model_id": "a8d2d11630974c2cb1301fbffdd97ddf",
       "version_major": 2,
       "version_minor": 0
      },
      "text/plain": [
       "HBox(children=(HTML(value=''), FloatProgress(value=0.0, max=2.0), HTML(value='')))"
      ]
     },
     "metadata": {},
     "output_type": "display_data"
    },
    {
     "name": "stdout",
     "output_type": "stream",
     "text": [
      "\n",
      "[2020-11-21 20:16:42,436][MainProcess][__main__][INFO] NLLLoss: 0.648\n",
      "[2020-11-21 20:16:42,498][MainProcess][lib.metrics.accuracy][INFO] Accuracy: 0.8297119140625 [6797 of 8192]\n"
     ]
    },
    {
     "name": "stderr",
     "output_type": "stream",
     "text": [
      "  0%|          | 2.2222222222222223/1000.0 [01:10<7:56:05, 28.63s/it, min_score=-.83, models_evaluated=0] "
     ]
    },
    {
     "name": "stdout",
     "output_type": "stream",
     "text": [
      "––––––––––––––––––––––––––––––––––––––––––––––––––––––––––––––––––––––––––––––––––––––––––––––––––––\n",
      "====================================================================================================\n",
      "[2020-11-21 20:16:42,530][MainProcess][lib.configurable][INFO] Checking configuration...\n",
      "[2020-11-21 20:16:42,531][MainProcess][lib.configurable][INFO] Configuration checked.\n",
      "[2020-11-21 20:16:42,533][MainProcess][lib.configurable][INFO] seq_to_label.SeqToLabel.__init__ was configured with:\n",
      "{   'bidirectional': True,\n",
      "    'decode_dropout': 0.8440162644035514,\n",
      "    'embedding_dropout': 0.08361837669610996,\n",
      "    'embedding_size': 300,\n",
      "    'freeze_embeddings': False,\n",
      "    'input_vocab_size': 6899,\n",
      "    'output_vocab_size': 1703,\n",
      "    'rnn_cell': 'gru',\n",
      "    'rnn_dropout': 0.0201856480150056,\n",
      "    'rnn_layers': 1,\n",
      "    'rnn_size': 238,\n",
      "    'rnn_variational_dropout': 0.19008964694214328}\n",
      "[2020-11-21 20:16:42,534][MainProcess][lib.configurable][INFO] seq_encoder.SeqEncoder.__init__ no config for: lib.nn.seq_encoder.SeqEncoder.__init__\n",
      "[2020-11-21 20:16:42,535][MainProcess][lib.configurable][INFO] seq_encoder.SeqEncoder.__init__ was configured with:\n",
      "{   'bidirectional': True,\n",
      "    'embedding_dropout': 0.08361837669610996,\n",
      "    'embedding_size': 300,\n",
      "    'freeze_embeddings': False,\n",
      "    'n_layers': 1,\n",
      "    'rnn_cell': 'gru',\n",
      "    'rnn_dropout': 0.0201856480150056,\n",
      "    'rnn_size': 238,\n",
      "    'rnn_variational_dropout': 0.19008964694214328,\n",
      "    'vocab_size': 6899}\n",
      "[2020-11-21 20:16:42,714][MainProcess][lib.configurable][INFO] adam.Adam.__init__ was configured with:\n",
      "{'amsgrad': True, 'params': <filter object at 0x7f3c27e5cf28>}\n",
      "[2020-11-21 20:16:42,715][MainProcess][lib.configurable][INFO] adam.Adam.__init__ was configured with:\n",
      "{'amsgrad': True, 'params': <filter object at 0x7f3c27e5cf28>}\n",
      "[2020-11-21 20:16:42,717][MainProcess][lib.configurable][INFO] optimizer.Optimizer.__init__ was configured with:\n",
      "{   'max_grad_norm': 4.120218438292414,\n",
      "    'optim': <lib.optim.adam.Adam object at 0x7f3c2a3970f0>}\n",
      "[2020-11-21 20:16:42,718][MainProcess][__main__][INFO] Epochs: 1\n",
      "[2020-11-21 20:16:42,718][MainProcess][__main__][INFO] Train Dataset Size: 75900\n",
      "[2020-11-21 20:16:42,720][MainProcess][__main__][INFO] Dev Dataset Size: 10845\n",
      "[2020-11-21 20:16:42,721][MainProcess][__main__][INFO] Train Batch Size: 32\n",
      "[2020-11-21 20:16:42,721][MainProcess][__main__][INFO] Train Max Batch Size: 1024\n",
      "[2020-11-21 20:16:42,722][MainProcess][__main__][INFO] Total Parameters: 2834669\n",
      "[2020-11-21 20:16:42,724][MainProcess][__main__][INFO] Model:\n",
      "SeqToLabel(\n",
      "  (encoder): SeqEncoder(\n",
      "    (embedding): Embedding(6899, 300, padding_idx=0)\n",
      "    (rnn): GRU(300, 119, dropout=0.19008964694214328, bidirectional=True)\n",
      "    (rnn_dropout): LockedDropout(p=0.0201856480150056)\n",
      "    (embedding_dropout): Dropout(p=0.08361837669610996)\n",
      "  )\n",
      "  (out): Sequential(\n",
      "    (0): Linear(in_features=238, out_features=238, bias=True)\n",
      "    (1): BatchNorm1d(238, eps=1e-05, momentum=0.1, affine=True)\n",
      "    (2): ReLU()\n",
      "    (3): Dropout(p=0.8440162644035514)\n",
      "    (4): Linear(in_features=238, out_features=1703, bias=True)\n",
      "  )\n",
      ")\n",
      "[2020-11-21 20:16:42,725][MainProcess][__main__][INFO] Epoch: 0\n",
      "[2020-11-21 20:16:42,725][MainProcess][__main__][INFO] Training...\n"
     ]
    },
    {
     "name": "stderr",
     "output_type": "stream",
     "text": [
      "/mount/arbeitsdaten46/projekte/dialog-1/kanjurva/Simple-QA-EMNLP-2018/venv2/lib/python3.6/site-packages/ipykernel_launcher.py:57: TqdmDeprecationWarning: This function will be removed in tqdm==5.0.0\n",
      "Please use `tqdm.notebook.tqdm` instead of `tqdm.tqdm_notebook`\n"
     ]
    },
    {
     "data": {
      "application/vnd.jupyter.widget-view+json": {
       "model_id": "433af9df7ae6498c833f7345821526b8",
       "version_major": 2,
       "version_minor": 0
      },
      "text/plain": [
       "HBox(children=(HTML(value=''), FloatProgress(value=0.0, max=2371.0), HTML(value='')))"
      ]
     },
     "metadata": {},
     "output_type": "display_data"
    },
    {
     "name": "stdout",
     "output_type": "stream",
     "text": [
      "\n",
      "[2020-11-21 20:17:05,909][MainProcess][lib.checkpoint][INFO] Saving checkpoint: ../../experiments/relation_classifier.11_21_20:05:46/77575.pt\n"
     ]
    },
    {
     "name": "stderr",
     "output_type": "stream",
     "text": [
      "/mount/arbeitsdaten46/projekte/dialog-1/kanjurva/Simple-QA-EMNLP-2018/venv2/lib/python3.6/site-packages/ipykernel_launcher.py:13: TqdmDeprecationWarning: This function will be removed in tqdm==5.0.0\n",
      "Please use `tqdm.notebook.tqdm` instead of `tqdm.tqdm_notebook`\n",
      "  del sys.path[0]\n"
     ]
    },
    {
     "data": {
      "application/vnd.jupyter.widget-view+json": {
       "model_id": "50df9ca5ba6f48a88f77f4a2d631816b",
       "version_major": 2,
       "version_minor": 0
      },
      "text/plain": [
       "HBox(children=(HTML(value=''), FloatProgress(value=0.0, max=2.0), HTML(value='')))"
      ]
     },
     "metadata": {},
     "output_type": "display_data"
    },
    {
     "name": "stdout",
     "output_type": "stream",
     "text": [
      "\n",
      "[2020-11-21 20:17:06,931][MainProcess][__main__][INFO] NLLLoss: 1.039\n",
      "[2020-11-21 20:17:07,004][MainProcess][lib.metrics.accuracy][INFO] Accuracy: 0.78515625 [6432 of 8192]\n"
     ]
    },
    {
     "name": "stderr",
     "output_type": "stream",
     "text": [
      "\r",
      "  0%|          | 3.3333333333333335/1000.0 [01:35<7:22:50, 26.66s/it, min_score=-.83, models_evaluated=0]"
     ]
    },
    {
     "name": "stdout",
     "output_type": "stream",
     "text": [
      "––––––––––––––––––––––––––––––––––––––––––––––––––––––––––––––––––––––––––––––––––––––––––––––––––––\n",
      "====================================================================================================\n",
      "[2020-11-21 20:17:07,044][MainProcess][lib.configurable][INFO] Checking configuration...\n",
      "[2020-11-21 20:17:07,046][MainProcess][lib.configurable][INFO] Configuration checked.\n",
      "[2020-11-21 20:17:07,047][MainProcess][lib.configurable][INFO] seq_to_label.SeqToLabel.__init__ was configured with:\n",
      "{   'bidirectional': False,\n",
      "    'decode_dropout': 0.6717132467337811,\n",
      "    'embedding_dropout': 0.05355101188667266,\n",
      "    'embedding_size': 300,\n",
      "    'freeze_embeddings': False,\n",
      "    'input_vocab_size': 6899,\n",
      "    'output_vocab_size': 1703,\n",
      "    'rnn_cell': 'lstm',\n",
      "    'rnn_dropout': 0.7069731624878834,\n",
      "    'rnn_layers': 3,\n",
      "    'rnn_size': 204,\n",
      "    'rnn_variational_dropout': 0.8643617122314707}\n",
      "[2020-11-21 20:17:07,048][MainProcess][lib.configurable][INFO] seq_encoder.SeqEncoder.__init__ no config for: lib.nn.seq_encoder.SeqEncoder.__init__\n",
      "[2020-11-21 20:17:07,049][MainProcess][lib.configurable][INFO] seq_encoder.SeqEncoder.__init__ was configured with:\n",
      "{   'bidirectional': False,\n",
      "    'embedding_dropout': 0.05355101188667266,\n",
      "    'embedding_size': 300,\n",
      "    'freeze_embeddings': False,\n",
      "    'n_layers': 3,\n",
      "    'rnn_cell': 'lstm',\n",
      "    'rnn_dropout': 0.7069731624878834,\n",
      "    'rnn_size': 204,\n",
      "    'rnn_variational_dropout': 0.8643617122314707,\n",
      "    'vocab_size': 6899}\n",
      "[2020-11-21 20:17:07,239][MainProcess][lib.configurable][INFO] adam.Adam.__init__ was configured with:\n",
      "{'amsgrad': True, 'params': <filter object at 0x7f3c2fb96198>}\n",
      "[2020-11-21 20:17:07,240][MainProcess][lib.configurable][INFO] adam.Adam.__init__ was configured with:\n",
      "{'amsgrad': True, 'params': <filter object at 0x7f3c2fb96198>}\n",
      "[2020-11-21 20:17:07,241][MainProcess][lib.configurable][INFO] optimizer.Optimizer.__init__ was configured with:\n",
      "{   'max_grad_norm': 1.2229103362431855,\n",
      "    'optim': <lib.optim.adam.Adam object at 0x7f3c2f7adba8>}\n",
      "[2020-11-21 20:17:07,242][MainProcess][__main__][INFO] Epochs: 1\n",
      "[2020-11-21 20:17:07,243][MainProcess][__main__][INFO] Train Dataset Size: 75900\n",
      "[2020-11-21 20:17:07,244][MainProcess][__main__][INFO] Dev Dataset Size: 10845\n",
      "[2020-11-21 20:17:07,244][MainProcess][__main__][INFO] Train Batch Size: 32\n",
      "[2020-11-21 20:17:07,245][MainProcess][__main__][INFO] Train Max Batch Size: 1024\n",
      "[2020-11-21 20:17:07,245][MainProcess][__main__][INFO] Total Parameters: 3543059\n",
      "[2020-11-21 20:17:07,246][MainProcess][__main__][INFO] Model:\n",
      "SeqToLabel(\n",
      "  (encoder): SeqEncoder(\n",
      "    (embedding): Embedding(6899, 300, padding_idx=0)\n",
      "    (rnn): LSTM(300, 204, num_layers=3, dropout=0.8643617122314707)\n",
      "    (rnn_dropout): LockedDropout(p=0.7069731624878834)\n",
      "    (embedding_dropout): Dropout(p=0.05355101188667266)\n",
      "  )\n",
      "  (out): Sequential(\n",
      "    (0): Linear(in_features=204, out_features=204, bias=True)\n",
      "    (1): BatchNorm1d(204, eps=1e-05, momentum=0.1, affine=True)\n",
      "    (2): ReLU()\n",
      "    (3): Dropout(p=0.6717132467337811)\n",
      "    (4): Linear(in_features=204, out_features=1703, bias=True)\n",
      "  )\n",
      ")\n",
      "[2020-11-21 20:17:07,247][MainProcess][__main__][INFO] Epoch: 0\n",
      "[2020-11-21 20:17:07,249][MainProcess][__main__][INFO] Training...\n"
     ]
    },
    {
     "name": "stderr",
     "output_type": "stream",
     "text": [
      "/mount/arbeitsdaten46/projekte/dialog-1/kanjurva/Simple-QA-EMNLP-2018/venv2/lib/python3.6/site-packages/ipykernel_launcher.py:57: TqdmDeprecationWarning: This function will be removed in tqdm==5.0.0\n",
      "Please use `tqdm.notebook.tqdm` instead of `tqdm.tqdm_notebook`\n"
     ]
    },
    {
     "data": {
      "application/vnd.jupyter.widget-view+json": {
       "model_id": "537c137a569c4426ac81a41b25524f29",
       "version_major": 2,
       "version_minor": 0
      },
      "text/plain": [
       "HBox(children=(HTML(value=''), FloatProgress(value=0.0, max=2371.0), HTML(value='')))"
      ]
     },
     "metadata": {},
     "output_type": "display_data"
    },
    {
     "name": "stdout",
     "output_type": "stream",
     "text": [
      "\n",
      "[2020-11-21 20:17:35,407][MainProcess][lib.checkpoint][INFO] Saving checkpoint: ../../experiments/relation_classifier.11_21_20:05:46/77605.pt\n"
     ]
    },
    {
     "name": "stderr",
     "output_type": "stream",
     "text": [
      "/mount/arbeitsdaten46/projekte/dialog-1/kanjurva/Simple-QA-EMNLP-2018/venv2/lib/python3.6/site-packages/ipykernel_launcher.py:13: TqdmDeprecationWarning: This function will be removed in tqdm==5.0.0\n",
      "Please use `tqdm.notebook.tqdm` instead of `tqdm.tqdm_notebook`\n",
      "  del sys.path[0]\n"
     ]
    },
    {
     "data": {
      "application/vnd.jupyter.widget-view+json": {
       "model_id": "582d485847954ec591d9553f2a6d0bf7",
       "version_major": 2,
       "version_minor": 0
      },
      "text/plain": [
       "HBox(children=(HTML(value=''), FloatProgress(value=0.0, max=2.0), HTML(value='')))"
      ]
     },
     "metadata": {},
     "output_type": "display_data"
    },
    {
     "name": "stdout",
     "output_type": "stream",
     "text": [
      "\n",
      "[2020-11-21 20:17:36,605][MainProcess][__main__][INFO] NLLLoss: 0.980\n",
      "[2020-11-21 20:17:36,668][MainProcess][lib.metrics.accuracy][INFO] Accuracy: 0.7376708984375 [6043 of 8192]\n"
     ]
    },
    {
     "name": "stderr",
     "output_type": "stream",
     "text": [
      "\r",
      "  0%|          | 4.444444444444445/1000.0 [02:05<7:22:31, 26.67s/it, min_score=-.83, models_evaluated=0] "
     ]
    },
    {
     "name": "stdout",
     "output_type": "stream",
     "text": [
      "––––––––––––––––––––––––––––––––––––––––––––––––––––––––––––––––––––––––––––––––––––––––––––––––––––\n",
      "====================================================================================================\n",
      "[2020-11-21 20:17:36,706][MainProcess][lib.configurable][INFO] Checking configuration...\n",
      "[2020-11-21 20:17:36,707][MainProcess][lib.configurable][INFO] Configuration checked.\n",
      "[2020-11-21 20:17:36,710][MainProcess][lib.configurable][INFO] seq_to_label.SeqToLabel.__init__ was configured with:\n",
      "{   'bidirectional': True,\n",
      "    'decode_dropout': 0.3034536851271252,\n",
      "    'embedding_dropout': 0.132455209477978,\n",
      "    'embedding_size': 300,\n",
      "    'freeze_embeddings': True,\n",
      "    'input_vocab_size': 6899,\n",
      "    'output_vocab_size': 1703,\n",
      "    'rnn_cell': 'lstm',\n",
      "    'rnn_dropout': 0.3802148169861541,\n",
      "    'rnn_layers': 2,\n",
      "    'rnn_size': 106,\n",
      "    'rnn_variational_dropout': 0.1521782351869115}\n",
      "[2020-11-21 20:17:36,711][MainProcess][lib.configurable][INFO] seq_encoder.SeqEncoder.__init__ no config for: lib.nn.seq_encoder.SeqEncoder.__init__\n",
      "[2020-11-21 20:17:36,713][MainProcess][lib.configurable][INFO] seq_encoder.SeqEncoder.__init__ was configured with:\n",
      "{   'bidirectional': True,\n",
      "    'embedding_dropout': 0.132455209477978,\n",
      "    'embedding_size': 300,\n",
      "    'freeze_embeddings': True,\n",
      "    'n_layers': 2,\n",
      "    'rnn_cell': 'lstm',\n",
      "    'rnn_dropout': 0.3802148169861541,\n",
      "    'rnn_size': 106,\n",
      "    'rnn_variational_dropout': 0.1521782351869115,\n",
      "    'vocab_size': 6899}\n",
      "[2020-11-21 20:17:36,881][MainProcess][lib.configurable][INFO] adam.Adam.__init__ was configured with:\n",
      "{'amsgrad': True, 'params': <filter object at 0x7f3c2da19dd8>}\n",
      "[2020-11-21 20:17:36,882][MainProcess][lib.configurable][INFO] adam.Adam.__init__ was configured with:\n",
      "{'amsgrad': True, 'params': <filter object at 0x7f3c2da19dd8>}\n",
      "[2020-11-21 20:17:36,883][MainProcess][lib.configurable][INFO] optimizer.Optimizer.__init__ was configured with:\n",
      "{   'max_grad_norm': 0.4373260812349528,\n",
      "    'optim': <lib.optim.adam.Adam object at 0x7f3c2da19da0>}\n",
      "[2020-11-21 20:17:36,884][MainProcess][__main__][INFO] Epochs: 1\n",
      "[2020-11-21 20:17:36,885][MainProcess][__main__][INFO] Train Dataset Size: 75900\n",
      "[2020-11-21 20:17:36,886][MainProcess][__main__][INFO] Dev Dataset Size: 10845\n",
      "[2020-11-21 20:17:36,886][MainProcess][__main__][INFO] Train Batch Size: 32\n",
      "[2020-11-21 20:17:36,888][MainProcess][__main__][INFO] Train Max Batch Size: 1024\n",
      "[2020-11-21 20:17:36,889][MainProcess][__main__][INFO] Total Parameters: 412559\n",
      "[2020-11-21 20:17:36,891][MainProcess][__main__][INFO] Model:\n",
      "SeqToLabel(\n",
      "  (encoder): SeqEncoder(\n",
      "    (embedding): Embedding(6899, 300, padding_idx=0)\n",
      "    (rnn): LSTM(300, 53, num_layers=2, dropout=0.1521782351869115, bidirectional=True)\n",
      "    (rnn_dropout): LockedDropout(p=0.3802148169861541)\n",
      "    (embedding_dropout): Dropout(p=0.132455209477978)\n",
      "  )\n",
      "  (out): Sequential(\n",
      "    (0): Linear(in_features=106, out_features=106, bias=True)\n",
      "    (1): BatchNorm1d(106, eps=1e-05, momentum=0.1, affine=True)\n",
      "    (2): ReLU()\n",
      "    (3): Dropout(p=0.3034536851271252)\n",
      "    (4): Linear(in_features=106, out_features=1703, bias=True)\n",
      "  )\n",
      ")\n",
      "[2020-11-21 20:17:36,892][MainProcess][__main__][INFO] Epoch: 0\n",
      "[2020-11-21 20:17:36,892][MainProcess][__main__][INFO] Training...\n"
     ]
    },
    {
     "name": "stderr",
     "output_type": "stream",
     "text": [
      "/mount/arbeitsdaten46/projekte/dialog-1/kanjurva/Simple-QA-EMNLP-2018/venv2/lib/python3.6/site-packages/ipykernel_launcher.py:57: TqdmDeprecationWarning: This function will be removed in tqdm==5.0.0\n",
      "Please use `tqdm.notebook.tqdm` instead of `tqdm.tqdm_notebook`\n"
     ]
    },
    {
     "data": {
      "application/vnd.jupyter.widget-view+json": {
       "model_id": "db1f7573fed6486a8ffbe2840eff0945",
       "version_major": 2,
       "version_minor": 0
      },
      "text/plain": [
       "HBox(children=(HTML(value=''), FloatProgress(value=0.0, max=2371.0), HTML(value='')))"
      ]
     },
     "metadata": {},
     "output_type": "display_data"
    },
    {
     "name": "stdout",
     "output_type": "stream",
     "text": [
      "\n",
      "[2020-11-21 20:18:06,771][MainProcess][lib.checkpoint][INFO] Saving checkpoint: ../../experiments/relation_classifier.11_21_20:05:46/77636.pt\n"
     ]
    },
    {
     "name": "stderr",
     "output_type": "stream",
     "text": [
      "/mount/arbeitsdaten46/projekte/dialog-1/kanjurva/Simple-QA-EMNLP-2018/venv2/lib/python3.6/site-packages/ipykernel_launcher.py:13: TqdmDeprecationWarning: This function will be removed in tqdm==5.0.0\n",
      "Please use `tqdm.notebook.tqdm` instead of `tqdm.tqdm_notebook`\n",
      "  del sys.path[0]\n"
     ]
    },
    {
     "data": {
      "application/vnd.jupyter.widget-view+json": {
       "model_id": "6e2326e8d4b6420db90c390a366902ad",
       "version_major": 2,
       "version_minor": 0
      },
      "text/plain": [
       "HBox(children=(HTML(value=''), FloatProgress(value=0.0, max=2.0), HTML(value='')))"
      ]
     },
     "metadata": {},
     "output_type": "display_data"
    },
    {
     "name": "stdout",
     "output_type": "stream",
     "text": [
      "\n",
      "[2020-11-21 20:18:07,565][MainProcess][__main__][INFO] NLLLoss: 0.708\n",
      "[2020-11-21 20:18:07,628][MainProcess][lib.metrics.accuracy][INFO] Accuracy: 0.82373046875 [6748 of 8192]\n"
     ]
    },
    {
     "name": "stderr",
     "output_type": "stream",
     "text": [
      "\r",
      "  1%|          | 5.555555555555555/1000.0 [02:36<7:27:58, 27.03s/it, min_score=-.83, models_evaluated=0]"
     ]
    },
    {
     "name": "stdout",
     "output_type": "stream",
     "text": [
      "––––––––––––––––––––––––––––––––––––––––––––––––––––––––––––––––––––––––––––––––––––––––––––––––––––\n",
      "====================================================================================================\n",
      "[2020-11-21 20:18:07,665][MainProcess][lib.configurable][INFO] Checking configuration...\n",
      "[2020-11-21 20:18:07,666][MainProcess][lib.configurable][INFO] Configuration checked.\n",
      "[2020-11-21 20:18:07,667][MainProcess][lib.configurable][INFO] seq_to_label.SeqToLabel.__init__ was configured with:\n",
      "{   'bidirectional': True,\n",
      "    'decode_dropout': 0.8900871014715266,\n",
      "    'embedding_dropout': 0.6417980567833685,\n",
      "    'embedding_size': 300,\n",
      "    'freeze_embeddings': True,\n",
      "    'input_vocab_size': 6899,\n",
      "    'output_vocab_size': 1703,\n",
      "    'rnn_cell': 'lstm',\n",
      "    'rnn_dropout': 0.27038061658093326,\n",
      "    'rnn_layers': 1,\n",
      "    'rnn_size': 114,\n",
      "    'rnn_variational_dropout': 0.11828059377664457}\n",
      "[2020-11-21 20:18:07,668][MainProcess][lib.configurable][INFO] seq_encoder.SeqEncoder.__init__ no config for: lib.nn.seq_encoder.SeqEncoder.__init__\n",
      "[2020-11-21 20:18:07,669][MainProcess][lib.configurable][INFO] seq_encoder.SeqEncoder.__init__ was configured with:\n",
      "{   'bidirectional': True,\n",
      "    'embedding_dropout': 0.6417980567833685,\n",
      "    'embedding_size': 300,\n",
      "    'freeze_embeddings': True,\n",
      "    'n_layers': 1,\n",
      "    'rnn_cell': 'lstm',\n",
      "    'rnn_dropout': 0.27038061658093326,\n",
      "    'rnn_size': 114,\n",
      "    'rnn_variational_dropout': 0.11828059377664457,\n",
      "    'vocab_size': 6899}\n",
      "[2020-11-21 20:18:07,835][MainProcess][lib.configurable][INFO] adam.Adam.__init__ was configured with:\n",
      "{'amsgrad': True, 'params': <filter object at 0x7f3c2ebd5ba8>}\n",
      "[2020-11-21 20:18:07,836][MainProcess][lib.configurable][INFO] adam.Adam.__init__ was configured with:\n",
      "{'amsgrad': True, 'params': <filter object at 0x7f3c2ebd5ba8>}\n",
      "[2020-11-21 20:18:07,837][MainProcess][lib.configurable][INFO] optimizer.Optimizer.__init__ was configured with:\n",
      "{   'max_grad_norm': 2.4850228544391144,\n",
      "    'optim': <lib.optim.adam.Adam object at 0x7f3c2ebd5ac8>}\n",
      "[2020-11-21 20:18:07,838][MainProcess][__main__][INFO] Epochs: 1\n",
      "[2020-11-21 20:18:07,839][MainProcess][__main__][INFO] Train Dataset Size: 75900\n",
      "[2020-11-21 20:18:07,840][MainProcess][__main__][INFO] Dev Dataset Size: 10845\n",
      "[2020-11-21 20:18:07,841][MainProcess][__main__][INFO] Train Batch Size: 32\n",
      "[2020-11-21 20:18:07,841][MainProcess][__main__][INFO] Train Max Batch Size: 1024\n",
      "[2020-11-21 20:18:07,842][MainProcess][__main__][INFO] Total Parameters: 372887\n",
      "[2020-11-21 20:18:07,843][MainProcess][__main__][INFO] Model:\n",
      "SeqToLabel(\n",
      "  (encoder): SeqEncoder(\n",
      "    (embedding): Embedding(6899, 300, padding_idx=0)\n",
      "    (rnn): LSTM(300, 57, dropout=0.11828059377664457, bidirectional=True)\n",
      "    (rnn_dropout): LockedDropout(p=0.27038061658093326)\n",
      "    (embedding_dropout): Dropout(p=0.6417980567833685)\n",
      "  )\n",
      "  (out): Sequential(\n",
      "    (0): Linear(in_features=114, out_features=114, bias=True)\n",
      "    (1): BatchNorm1d(114, eps=1e-05, momentum=0.1, affine=True)\n",
      "    (2): ReLU()\n",
      "    (3): Dropout(p=0.8900871014715266)\n",
      "    (4): Linear(in_features=114, out_features=1703, bias=True)\n",
      "  )\n",
      ")\n",
      "[2020-11-21 20:18:07,844][MainProcess][__main__][INFO] Epoch: 0\n",
      "[2020-11-21 20:18:07,845][MainProcess][__main__][INFO] Training...\n"
     ]
    },
    {
     "name": "stderr",
     "output_type": "stream",
     "text": [
      "/mount/arbeitsdaten46/projekte/dialog-1/kanjurva/Simple-QA-EMNLP-2018/venv2/lib/python3.6/site-packages/ipykernel_launcher.py:57: TqdmDeprecationWarning: This function will be removed in tqdm==5.0.0\n",
      "Please use `tqdm.notebook.tqdm` instead of `tqdm.tqdm_notebook`\n"
     ]
    },
    {
     "data": {
      "application/vnd.jupyter.widget-view+json": {
       "model_id": "1a5346f378e243768c672e8767a6acaf",
       "version_major": 2,
       "version_minor": 0
      },
      "text/plain": [
       "HBox(children=(HTML(value=''), FloatProgress(value=0.0, max=2371.0), HTML(value='')))"
      ]
     },
     "metadata": {},
     "output_type": "display_data"
    },
    {
     "name": "stdout",
     "output_type": "stream",
     "text": [
      "\n",
      "[2020-11-21 20:18:30,561][MainProcess][lib.checkpoint][INFO] Saving checkpoint: ../../experiments/relation_classifier.11_21_20:05:46/77660.pt\n"
     ]
    },
    {
     "name": "stderr",
     "output_type": "stream",
     "text": [
      "/mount/arbeitsdaten46/projekte/dialog-1/kanjurva/Simple-QA-EMNLP-2018/venv2/lib/python3.6/site-packages/ipykernel_launcher.py:13: TqdmDeprecationWarning: This function will be removed in tqdm==5.0.0\n",
      "Please use `tqdm.notebook.tqdm` instead of `tqdm.tqdm_notebook`\n",
      "  del sys.path[0]\n"
     ]
    },
    {
     "data": {
      "application/vnd.jupyter.widget-view+json": {
       "model_id": "0fe35f13df454ef7983619b2b73cb59b",
       "version_major": 2,
       "version_minor": 0
      },
      "text/plain": [
       "HBox(children=(HTML(value=''), FloatProgress(value=0.0, max=2.0), HTML(value='')))"
      ]
     },
     "metadata": {},
     "output_type": "display_data"
    },
    {
     "name": "stdout",
     "output_type": "stream",
     "text": [
      "\n",
      "[2020-11-21 20:18:31,799][MainProcess][__main__][INFO] NLLLoss: 1.742\n",
      "[2020-11-21 20:18:31,855][MainProcess][lib.metrics.accuracy][INFO] Accuracy: 0.617919921875 [5062 of 8192]\n"
     ]
    },
    {
     "name": "stderr",
     "output_type": "stream",
     "text": [
      "\r",
      "  1%|          | 6.666666666666666/1000.0 [03:00<7:01:30, 25.46s/it, min_score=-.83, models_evaluated=0]"
     ]
    },
    {
     "name": "stdout",
     "output_type": "stream",
     "text": [
      "––––––––––––––––––––––––––––––––––––––––––––––––––––––––––––––––––––––––––––––––––––––––––––––––––––\n",
      "====================================================================================================\n",
      "[2020-11-21 20:18:31,889][MainProcess][lib.configurable][INFO] Checking configuration...\n",
      "[2020-11-21 20:18:31,891][MainProcess][lib.configurable][INFO] Configuration checked.\n",
      "[2020-11-21 20:18:31,892][MainProcess][lib.configurable][INFO] seq_to_label.SeqToLabel.__init__ was configured with:\n",
      "{   'bidirectional': True,\n",
      "    'decode_dropout': 0.5315719542764269,\n",
      "    'embedding_dropout': 0.24312656079062211,\n",
      "    'embedding_size': 300,\n",
      "    'freeze_embeddings': False,\n",
      "    'input_vocab_size': 6899,\n",
      "    'output_vocab_size': 1703,\n",
      "    'rnn_cell': 'gru',\n",
      "    'rnn_dropout': 0.7722312690371741,\n",
      "    'rnn_layers': 2,\n",
      "    'rnn_size': 210,\n",
      "    'rnn_variational_dropout': 0.4571121478577711}\n",
      "[2020-11-21 20:18:31,893][MainProcess][lib.configurable][INFO] seq_encoder.SeqEncoder.__init__ no config for: lib.nn.seq_encoder.SeqEncoder.__init__\n",
      "[2020-11-21 20:18:31,893][MainProcess][lib.configurable][INFO] seq_encoder.SeqEncoder.__init__ was configured with:\n",
      "{   'bidirectional': True,\n",
      "    'embedding_dropout': 0.24312656079062211,\n",
      "    'embedding_size': 300,\n",
      "    'freeze_embeddings': False,\n",
      "    'n_layers': 2,\n",
      "    'rnn_cell': 'gru',\n",
      "    'rnn_dropout': 0.7722312690371741,\n",
      "    'rnn_size': 210,\n",
      "    'rnn_variational_dropout': 0.4571121478577711,\n",
      "    'vocab_size': 6899}\n",
      "[2020-11-21 20:18:32,073][MainProcess][lib.configurable][INFO] adam.Adam.__init__ was configured with:\n",
      "{'amsgrad': True, 'params': <filter object at 0x7f3c28072710>}\n",
      "[2020-11-21 20:18:32,074][MainProcess][lib.configurable][INFO] adam.Adam.__init__ was configured with:\n",
      "{'amsgrad': True, 'params': <filter object at 0x7f3c28072710>}\n",
      "[2020-11-21 20:18:32,075][MainProcess][lib.configurable][INFO] optimizer.Optimizer.__init__ was configured with:\n",
      "{   'max_grad_norm': 2.870624146023702,\n",
      "    'optim': <lib.optim.adam.Adam object at 0x7f3c280727b8>}\n",
      "[2020-11-21 20:18:32,076][MainProcess][__main__][INFO] Epochs: 1\n",
      "[2020-11-21 20:18:32,077][MainProcess][__main__][INFO] Train Dataset Size: 75900\n",
      "[2020-11-21 20:18:32,078][MainProcess][__main__][INFO] Dev Dataset Size: 10845\n",
      "[2020-11-21 20:18:32,079][MainProcess][__main__][INFO] Train Batch Size: 32\n",
      "[2020-11-21 20:18:32,079][MainProcess][__main__][INFO] Train Max Batch Size: 1024\n",
      "[2020-11-21 20:18:32,080][MainProcess][__main__][INFO] Total Parameters: 2929883\n",
      "[2020-11-21 20:18:32,082][MainProcess][__main__][INFO] Model:\n",
      "SeqToLabel(\n",
      "  (encoder): SeqEncoder(\n",
      "    (embedding): Embedding(6899, 300, padding_idx=0)\n",
      "    (rnn): GRU(300, 105, num_layers=2, dropout=0.4571121478577711, bidirectional=True)\n",
      "    (rnn_dropout): LockedDropout(p=0.7722312690371741)\n",
      "    (embedding_dropout): Dropout(p=0.24312656079062211)\n",
      "  )\n",
      "  (out): Sequential(\n",
      "    (0): Linear(in_features=210, out_features=210, bias=True)\n",
      "    (1): BatchNorm1d(210, eps=1e-05, momentum=0.1, affine=True)\n",
      "    (2): ReLU()\n",
      "    (3): Dropout(p=0.5315719542764269)\n",
      "    (4): Linear(in_features=210, out_features=1703, bias=True)\n",
      "  )\n",
      ")\n",
      "[2020-11-21 20:18:32,083][MainProcess][__main__][INFO] Epoch: 0\n",
      "[2020-11-21 20:18:32,084][MainProcess][__main__][INFO] Training...\n"
     ]
    },
    {
     "name": "stderr",
     "output_type": "stream",
     "text": [
      "/mount/arbeitsdaten46/projekte/dialog-1/kanjurva/Simple-QA-EMNLP-2018/venv2/lib/python3.6/site-packages/ipykernel_launcher.py:57: TqdmDeprecationWarning: This function will be removed in tqdm==5.0.0\n",
      "Please use `tqdm.notebook.tqdm` instead of `tqdm.tqdm_notebook`\n"
     ]
    },
    {
     "data": {
      "application/vnd.jupyter.widget-view+json": {
       "model_id": "f1f55740d6fa4b758538d05b7cbe2b95",
       "version_major": 2,
       "version_minor": 0
      },
      "text/plain": [
       "HBox(children=(HTML(value=''), FloatProgress(value=0.0, max=2371.0), HTML(value='')))"
      ]
     },
     "metadata": {},
     "output_type": "display_data"
    },
    {
     "name": "stdout",
     "output_type": "stream",
     "text": [
      "\n",
      "[2020-11-21 20:19:02,321][MainProcess][lib.checkpoint][INFO] Saving checkpoint: ../../experiments/relation_classifier.11_21_20:05:46/77692.pt\n"
     ]
    },
    {
     "name": "stderr",
     "output_type": "stream",
     "text": [
      "/mount/arbeitsdaten46/projekte/dialog-1/kanjurva/Simple-QA-EMNLP-2018/venv2/lib/python3.6/site-packages/ipykernel_launcher.py:13: TqdmDeprecationWarning: This function will be removed in tqdm==5.0.0\n",
      "Please use `tqdm.notebook.tqdm` instead of `tqdm.tqdm_notebook`\n",
      "  del sys.path[0]\n"
     ]
    },
    {
     "data": {
      "application/vnd.jupyter.widget-view+json": {
       "model_id": "811e1aa81dce432f946ac8f3517095ff",
       "version_major": 2,
       "version_minor": 0
      },
      "text/plain": [
       "HBox(children=(HTML(value=''), FloatProgress(value=0.0, max=2.0), HTML(value='')))"
      ]
     },
     "metadata": {},
     "output_type": "display_data"
    },
    {
     "name": "stdout",
     "output_type": "stream",
     "text": [
      "\n",
      "[2020-11-21 20:19:03,436][MainProcess][__main__][INFO] NLLLoss: 0.711\n",
      "[2020-11-21 20:19:03,493][MainProcess][lib.metrics.accuracy][INFO] Accuracy: 0.8333740234375 [6827 of 8192]\n"
     ]
    },
    {
     "name": "stderr",
     "output_type": "stream",
     "text": [
      "  1%|          | 7.777777777777777/1000.0 [03:31<7:16:00, 26.37s/it, min_score=-.833, models_evaluated=0]"
     ]
    },
    {
     "name": "stdout",
     "output_type": "stream",
     "text": [
      "––––––––––––––––––––––––––––––––––––––––––––––––––––––––––––––––––––––––––––––––––––––––––––––––––––\n",
      "====================================================================================================\n",
      "[2020-11-21 20:19:03,531][MainProcess][lib.configurable][INFO] Checking configuration...\n",
      "[2020-11-21 20:19:03,533][MainProcess][lib.configurable][INFO] Configuration checked.\n",
      "[2020-11-21 20:19:03,534][MainProcess][lib.configurable][INFO] seq_to_label.SeqToLabel.__init__ was configured with:\n",
      "{   'bidirectional': True,\n",
      "    'decode_dropout': 0.4448360149471741,\n",
      "    'embedding_dropout': 0.6816764389110425,\n",
      "    'embedding_size': 300,\n",
      "    'freeze_embeddings': True,\n",
      "    'input_vocab_size': 6899,\n",
      "    'output_vocab_size': 1703,\n",
      "    'rnn_cell': 'gru',\n",
      "    'rnn_dropout': 0.2463431085818325,\n",
      "    'rnn_layers': 3,\n",
      "    'rnn_size': 140,\n",
      "    'rnn_variational_dropout': 0.7235799889234673}\n",
      "[2020-11-21 20:19:03,535][MainProcess][lib.configurable][INFO] seq_encoder.SeqEncoder.__init__ no config for: lib.nn.seq_encoder.SeqEncoder.__init__\n",
      "[2020-11-21 20:19:03,536][MainProcess][lib.configurable][INFO] seq_encoder.SeqEncoder.__init__ was configured with:\n",
      "{   'bidirectional': True,\n",
      "    'embedding_dropout': 0.6816764389110425,\n",
      "    'embedding_size': 300,\n",
      "    'freeze_embeddings': True,\n",
      "    'n_layers': 3,\n",
      "    'rnn_cell': 'gru',\n",
      "    'rnn_dropout': 0.2463431085818325,\n",
      "    'rnn_size': 140,\n",
      "    'rnn_variational_dropout': 0.7235799889234673,\n",
      "    'vocab_size': 6899}\n",
      "[2020-11-21 20:19:03,700][MainProcess][lib.configurable][INFO] adam.Adam.__init__ was configured with:\n",
      "{'amsgrad': True, 'params': <filter object at 0x7f3c30d7b828>}\n",
      "[2020-11-21 20:19:03,701][MainProcess][lib.configurable][INFO] adam.Adam.__init__ was configured with:\n",
      "{'amsgrad': True, 'params': <filter object at 0x7f3c30d7b828>}\n",
      "[2020-11-21 20:19:03,702][MainProcess][lib.configurable][INFO] optimizer.Optimizer.__init__ was configured with:\n",
      "{   'max_grad_norm': 2.291923752098846,\n",
      "    'optim': <lib.optim.adam.Adam object at 0x7f3c28072b38>}\n",
      "[2020-11-21 20:19:03,703][MainProcess][__main__][INFO] Epochs: 1\n",
      "[2020-11-21 20:19:03,704][MainProcess][__main__][INFO] Train Dataset Size: 75900\n",
      "[2020-11-21 20:19:03,704][MainProcess][__main__][INFO] Dev Dataset Size: 10845\n",
      "[2020-11-21 20:19:03,705][MainProcess][__main__][INFO] Train Batch Size: 32\n",
      "[2020-11-21 20:19:03,705][MainProcess][__main__][INFO] Train Max Batch Size: 1024\n",
      "[2020-11-21 20:19:03,706][MainProcess][__main__][INFO] Total Parameters: 594463\n",
      "[2020-11-21 20:19:03,707][MainProcess][__main__][INFO] Model:\n",
      "SeqToLabel(\n",
      "  (encoder): SeqEncoder(\n",
      "    (embedding): Embedding(6899, 300, padding_idx=0)\n",
      "    (rnn): GRU(300, 70, num_layers=3, dropout=0.7235799889234673, bidirectional=True)\n",
      "    (rnn_dropout): LockedDropout(p=0.2463431085818325)\n",
      "    (embedding_dropout): Dropout(p=0.6816764389110425)\n",
      "  )\n",
      "  (out): Sequential(\n",
      "    (0): Linear(in_features=140, out_features=140, bias=True)\n",
      "    (1): BatchNorm1d(140, eps=1e-05, momentum=0.1, affine=True)\n",
      "    (2): ReLU()\n",
      "    (3): Dropout(p=0.4448360149471741)\n",
      "    (4): Linear(in_features=140, out_features=1703, bias=True)\n",
      "  )\n",
      ")\n",
      "[2020-11-21 20:19:03,708][MainProcess][__main__][INFO] Epoch: 0\n",
      "[2020-11-21 20:19:03,708][MainProcess][__main__][INFO] Training...\n"
     ]
    },
    {
     "name": "stderr",
     "output_type": "stream",
     "text": [
      "/mount/arbeitsdaten46/projekte/dialog-1/kanjurva/Simple-QA-EMNLP-2018/venv2/lib/python3.6/site-packages/ipykernel_launcher.py:57: TqdmDeprecationWarning: This function will be removed in tqdm==5.0.0\n",
      "Please use `tqdm.notebook.tqdm` instead of `tqdm.tqdm_notebook`\n"
     ]
    },
    {
     "data": {
      "application/vnd.jupyter.widget-view+json": {
       "model_id": "4326fc4b99f14d238632474618db5721",
       "version_major": 2,
       "version_minor": 0
      },
      "text/plain": [
       "HBox(children=(HTML(value=''), FloatProgress(value=0.0, max=2371.0), HTML(value='')))"
      ]
     },
     "metadata": {},
     "output_type": "display_data"
    },
    {
     "name": "stdout",
     "output_type": "stream",
     "text": [
      "\n",
      "[2020-11-21 20:20:03,395][MainProcess][lib.checkpoint][INFO] Saving checkpoint: ../../experiments/relation_classifier.11_21_20:05:46/77753.pt\n"
     ]
    },
    {
     "name": "stderr",
     "output_type": "stream",
     "text": [
      "/mount/arbeitsdaten46/projekte/dialog-1/kanjurva/Simple-QA-EMNLP-2018/venv2/lib/python3.6/site-packages/ipykernel_launcher.py:13: TqdmDeprecationWarning: This function will be removed in tqdm==5.0.0\n",
      "Please use `tqdm.notebook.tqdm` instead of `tqdm.tqdm_notebook`\n",
      "  del sys.path[0]\n"
     ]
    },
    {
     "data": {
      "application/vnd.jupyter.widget-view+json": {
       "model_id": "09d5b680ae204388a5abbb26cffeb66a",
       "version_major": 2,
       "version_minor": 0
      },
      "text/plain": [
       "HBox(children=(HTML(value=''), FloatProgress(value=0.0, max=2.0), HTML(value='')))"
      ]
     },
     "metadata": {},
     "output_type": "display_data"
    },
    {
     "name": "stdout",
     "output_type": "stream",
     "text": [
      "\n",
      "[2020-11-21 20:20:04,226][MainProcess][__main__][INFO] NLLLoss: 0.902\n",
      "[2020-11-21 20:20:04,288][MainProcess][lib.metrics.accuracy][INFO] Accuracy: 0.75 [6144 of 8192]\n"
     ]
    },
    {
     "name": "stderr",
     "output_type": "stream",
     "text": [
      "\r",
      "  1%|          | 8.888888888888888/1000.0 [04:32<9:35:57, 34.87s/it, min_score=-.833, models_evaluated=0]"
     ]
    },
    {
     "name": "stdout",
     "output_type": "stream",
     "text": [
      "––––––––––––––––––––––––––––––––––––––––––––––––––––––––––––––––––––––––––––––––––––––––––––––––––––\n",
      "====================================================================================================\n",
      "[2020-11-21 20:20:04,313][MainProcess][lib.configurable][INFO] Checking configuration...\n",
      "[2020-11-21 20:20:04,315][MainProcess][lib.configurable][INFO] Configuration checked.\n",
      "[2020-11-21 20:20:04,316][MainProcess][lib.configurable][INFO] seq_to_label.SeqToLabel.__init__ was configured with:\n",
      "{   'bidirectional': True,\n",
      "    'decode_dropout': 0.3207305655402868,\n",
      "    'embedding_dropout': 0.2718200178506121,\n",
      "    'embedding_size': 300,\n",
      "    'freeze_embeddings': False,\n",
      "    'input_vocab_size': 6899,\n",
      "    'output_vocab_size': 1703,\n",
      "    'rnn_cell': 'lstm',\n",
      "    'rnn_dropout': 0.20491794582014097,\n",
      "    'rnn_layers': 3,\n",
      "    'rnn_size': 230,\n",
      "    'rnn_variational_dropout': 0.2951359137069116}\n",
      "[2020-11-21 20:20:04,317][MainProcess][lib.configurable][INFO] seq_encoder.SeqEncoder.__init__ no config for: lib.nn.seq_encoder.SeqEncoder.__init__\n",
      "[2020-11-21 20:20:04,318][MainProcess][lib.configurable][INFO] seq_encoder.SeqEncoder.__init__ was configured with:\n",
      "{   'bidirectional': True,\n",
      "    'embedding_dropout': 0.2718200178506121,\n",
      "    'embedding_size': 300,\n",
      "    'freeze_embeddings': False,\n",
      "    'n_layers': 3,\n",
      "    'rnn_cell': 'lstm',\n",
      "    'rnn_dropout': 0.20491794582014097,\n",
      "    'rnn_size': 230,\n",
      "    'rnn_variational_dropout': 0.2951359137069116,\n",
      "    'vocab_size': 6899}\n",
      "[2020-11-21 20:20:04,530][MainProcess][lib.configurable][INFO] adam.Adam.__init__ was configured with:\n",
      "{'amsgrad': True, 'params': <filter object at 0x7f3c2ebcc748>}\n",
      "[2020-11-21 20:20:04,531][MainProcess][lib.configurable][INFO] adam.Adam.__init__ was configured with:\n",
      "{'amsgrad': True, 'params': <filter object at 0x7f3c2ebcc748>}\n",
      "[2020-11-21 20:20:04,532][MainProcess][lib.configurable][INFO] optimizer.Optimizer.__init__ was configured with:\n",
      "{   'max_grad_norm': 1.711743545422507,\n",
      "    'optim': <lib.optim.adam.Adam object at 0x7f3c2ebcc400>}\n",
      "[2020-11-21 20:20:04,533][MainProcess][__main__][INFO] Epochs: 1\n",
      "[2020-11-21 20:20:04,534][MainProcess][__main__][INFO] Train Dataset Size: 75900\n",
      "[2020-11-21 20:20:04,534][MainProcess][__main__][INFO] Dev Dataset Size: 10845\n",
      "[2020-11-21 20:20:04,535][MainProcess][__main__][INFO] Train Batch Size: 32\n",
      "[2020-11-21 20:20:04,536][MainProcess][__main__][INFO] Train Max Batch Size: 1024\n",
      "[2020-11-21 20:20:04,536][MainProcess][__main__][INFO] Total Parameters: 3538803\n",
      "[2020-11-21 20:20:04,537][MainProcess][__main__][INFO] Model:\n",
      "SeqToLabel(\n",
      "  (encoder): SeqEncoder(\n",
      "    (embedding): Embedding(6899, 300, padding_idx=0)\n",
      "    (rnn): LSTM(300, 115, num_layers=3, dropout=0.2951359137069116, bidirectional=True)\n",
      "    (rnn_dropout): LockedDropout(p=0.20491794582014097)\n",
      "    (embedding_dropout): Dropout(p=0.2718200178506121)\n",
      "  )\n",
      "  (out): Sequential(\n",
      "    (0): Linear(in_features=230, out_features=230, bias=True)\n",
      "    (1): BatchNorm1d(230, eps=1e-05, momentum=0.1, affine=True)\n",
      "    (2): ReLU()\n",
      "    (3): Dropout(p=0.3207305655402868)\n",
      "    (4): Linear(in_features=230, out_features=1703, bias=True)\n",
      "  )\n",
      ")\n",
      "[2020-11-21 20:20:04,538][MainProcess][__main__][INFO] Epoch: 0\n",
      "[2020-11-21 20:20:04,541][MainProcess][__main__][INFO] Training...\n"
     ]
    },
    {
     "name": "stderr",
     "output_type": "stream",
     "text": [
      "/mount/arbeitsdaten46/projekte/dialog-1/kanjurva/Simple-QA-EMNLP-2018/venv2/lib/python3.6/site-packages/ipykernel_launcher.py:57: TqdmDeprecationWarning: This function will be removed in tqdm==5.0.0\n",
      "Please use `tqdm.notebook.tqdm` instead of `tqdm.tqdm_notebook`\n"
     ]
    },
    {
     "data": {
      "application/vnd.jupyter.widget-view+json": {
       "model_id": "94853da6ad624e419d97a62b1dcbb5a6",
       "version_major": 2,
       "version_minor": 0
      },
      "text/plain": [
       "HBox(children=(HTML(value=''), FloatProgress(value=0.0, max=2371.0), HTML(value='')))"
      ]
     },
     "metadata": {},
     "output_type": "display_data"
    },
    {
     "name": "stdout",
     "output_type": "stream",
     "text": [
      "\n",
      "[2020-11-21 20:21:47,807][MainProcess][lib.checkpoint][INFO] Saving checkpoint: ../../experiments/relation_classifier.11_21_20:05:46/77857.pt\n"
     ]
    },
    {
     "name": "stderr",
     "output_type": "stream",
     "text": [
      "/mount/arbeitsdaten46/projekte/dialog-1/kanjurva/Simple-QA-EMNLP-2018/venv2/lib/python3.6/site-packages/ipykernel_launcher.py:13: TqdmDeprecationWarning: This function will be removed in tqdm==5.0.0\n",
      "Please use `tqdm.notebook.tqdm` instead of `tqdm.tqdm_notebook`\n",
      "  del sys.path[0]\n"
     ]
    },
    {
     "data": {
      "application/vnd.jupyter.widget-view+json": {
       "model_id": "30595621f4f9416783cb3bf38d177eb6",
       "version_major": 2,
       "version_minor": 0
      },
      "text/plain": [
       "HBox(children=(HTML(value=''), FloatProgress(value=0.0, max=2.0), HTML(value='')))"
      ]
     },
     "metadata": {},
     "output_type": "display_data"
    },
    {
     "name": "stdout",
     "output_type": "stream",
     "text": [
      "\n",
      "[2020-11-21 20:21:51,330][MainProcess][__main__][INFO] NLLLoss: 0.635\n",
      "[2020-11-21 20:21:51,449][MainProcess][lib.metrics.accuracy][INFO] Accuracy: 0.8309326171875 [6807 of 8192]\n"
     ]
    },
    {
     "name": "stderr",
     "output_type": "stream",
     "text": [
      "\r",
      "  1%|          | 9.999999999999998/1000.0 [06:19<14:40:13, 53.35s/it, min_score=-.833, models_evaluated=0]"
     ]
    },
    {
     "name": "stdout",
     "output_type": "stream",
     "text": [
      "––––––––––––––––––––––––––––––––––––––––––––––––––––––––––––––––––––––––––––––––––––––––––––––––––––\n",
      "====================================================================================================\n",
      "[2020-11-21 20:21:51,498][MainProcess][lib.configurable][INFO] Checking configuration...\n",
      "[2020-11-21 20:21:51,500][MainProcess][lib.configurable][INFO] Configuration checked.\n",
      "[2020-11-21 20:21:51,502][MainProcess][lib.configurable][INFO] seq_to_label.SeqToLabel.__init__ was configured with:\n",
      "{   'bidirectional': False,\n",
      "    'decode_dropout': 0.5103175542599827,\n",
      "    'embedding_dropout': 0.42103862478470255,\n",
      "    'embedding_size': 300,\n",
      "    'freeze_embeddings': False,\n",
      "    'input_vocab_size': 6899,\n",
      "    'output_vocab_size': 1703,\n",
      "    'rnn_cell': 'gru',\n",
      "    'rnn_dropout': 0.03673962615980539,\n",
      "    'rnn_layers': 3,\n",
      "    'rnn_size': 224,\n",
      "    'rnn_variational_dropout': 0.7482562623992541}\n",
      "[2020-11-21 20:21:51,504][MainProcess][lib.configurable][INFO] seq_encoder.SeqEncoder.__init__ no config for: lib.nn.seq_encoder.SeqEncoder.__init__\n",
      "[2020-11-21 20:21:51,505][MainProcess][lib.configurable][INFO] seq_encoder.SeqEncoder.__init__ was configured with:\n",
      "{   'bidirectional': False,\n",
      "    'embedding_dropout': 0.42103862478470255,\n",
      "    'embedding_size': 300,\n",
      "    'freeze_embeddings': False,\n",
      "    'n_layers': 3,\n",
      "    'rnn_cell': 'gru',\n",
      "    'rnn_dropout': 0.03673962615980539,\n",
      "    'rnn_size': 224,\n",
      "    'rnn_variational_dropout': 0.7482562623992541,\n",
      "    'vocab_size': 6899}\n",
      "[2020-11-21 20:21:51,722][MainProcess][lib.configurable][INFO] adam.Adam.__init__ was configured with:\n",
      "{'amsgrad': True, 'params': <filter object at 0x7f3c2f782e80>}\n",
      "[2020-11-21 20:21:51,723][MainProcess][lib.configurable][INFO] adam.Adam.__init__ was configured with:\n",
      "{'amsgrad': True, 'params': <filter object at 0x7f3c2f782e80>}\n",
      "[2020-11-21 20:21:51,725][MainProcess][lib.configurable][INFO] optimizer.Optimizer.__init__ was configured with:\n",
      "{   'max_grad_norm': 0.4489114806368711,\n",
      "    'optim': <lib.optim.adam.Adam object at 0x7f3c28072438>}\n",
      "[2020-11-21 20:21:51,726][MainProcess][__main__][INFO] Epochs: 1\n",
      "[2020-11-21 20:21:51,727][MainProcess][__main__][INFO] Train Dataset Size: 75900\n",
      "[2020-11-21 20:21:51,729][MainProcess][__main__][INFO] Dev Dataset Size: 10845\n",
      "[2020-11-21 20:21:51,729][MainProcess][__main__][INFO] Train Batch Size: 32\n",
      "[2020-11-21 20:21:51,730][MainProcess][__main__][INFO] Train Max Batch Size: 1024\n",
      "[2020-11-21 20:21:51,731][MainProcess][__main__][INFO] Total Parameters: 3461995\n",
      "[2020-11-21 20:21:51,732][MainProcess][__main__][INFO] Model:\n",
      "SeqToLabel(\n",
      "  (encoder): SeqEncoder(\n",
      "    (embedding): Embedding(6899, 300, padding_idx=0)\n",
      "    (rnn): GRU(300, 224, num_layers=3, dropout=0.7482562623992541)\n",
      "    (rnn_dropout): LockedDropout(p=0.03673962615980539)\n",
      "    (embedding_dropout): Dropout(p=0.42103862478470255)\n",
      "  )\n",
      "  (out): Sequential(\n",
      "    (0): Linear(in_features=224, out_features=224, bias=True)\n",
      "    (1): BatchNorm1d(224, eps=1e-05, momentum=0.1, affine=True)\n",
      "    (2): ReLU()\n",
      "    (3): Dropout(p=0.5103175542599827)\n",
      "    (4): Linear(in_features=224, out_features=1703, bias=True)\n",
      "  )\n",
      ")\n",
      "[2020-11-21 20:21:51,732][MainProcess][__main__][INFO] Epoch: 0\n",
      "[2020-11-21 20:21:51,733][MainProcess][__main__][INFO] Training...\n"
     ]
    },
    {
     "name": "stderr",
     "output_type": "stream",
     "text": [
      "/mount/arbeitsdaten46/projekte/dialog-1/kanjurva/Simple-QA-EMNLP-2018/venv2/lib/python3.6/site-packages/ipykernel_launcher.py:57: TqdmDeprecationWarning: This function will be removed in tqdm==5.0.0\n",
      "Please use `tqdm.notebook.tqdm` instead of `tqdm.tqdm_notebook`\n"
     ]
    },
    {
     "data": {
      "application/vnd.jupyter.widget-view+json": {
       "model_id": "72fb9f6958a44114b2567f26456d1772",
       "version_major": 2,
       "version_minor": 0
      },
      "text/plain": [
       "HBox(children=(HTML(value=''), FloatProgress(value=0.0, max=2371.0), HTML(value='')))"
      ]
     },
     "metadata": {},
     "output_type": "display_data"
    },
    {
     "name": "stdout",
     "output_type": "stream",
     "text": [
      "\n",
      "[2020-11-21 20:23:01,450][MainProcess][lib.checkpoint][INFO] Saving checkpoint: ../../experiments/relation_classifier.11_21_20:05:46/77931.pt\n"
     ]
    },
    {
     "name": "stderr",
     "output_type": "stream",
     "text": [
      "/mount/arbeitsdaten46/projekte/dialog-1/kanjurva/Simple-QA-EMNLP-2018/venv2/lib/python3.6/site-packages/ipykernel_launcher.py:13: TqdmDeprecationWarning: This function will be removed in tqdm==5.0.0\n",
      "Please use `tqdm.notebook.tqdm` instead of `tqdm.tqdm_notebook`\n",
      "  del sys.path[0]\n"
     ]
    },
    {
     "data": {
      "application/vnd.jupyter.widget-view+json": {
       "model_id": "6fe01a3f610d4fe2874faf4e31806a98",
       "version_major": 2,
       "version_minor": 0
      },
      "text/plain": [
       "HBox(children=(HTML(value=''), FloatProgress(value=0.0, max=2.0), HTML(value='')))"
      ]
     },
     "metadata": {},
     "output_type": "display_data"
    },
    {
     "name": "stdout",
     "output_type": "stream",
     "text": [
      "\n",
      "[2020-11-21 20:23:03,089][MainProcess][__main__][INFO] NLLLoss: 0.796\n",
      "[2020-11-21 20:23:03,150][MainProcess][lib.metrics.accuracy][INFO] Accuracy: 0.7928466796875 [6495 of 8192]\n"
     ]
    },
    {
     "name": "stderr",
     "output_type": "stream",
     "text": [
      "\r",
      "  1%|          | 11.111111111111109/1000.0 [07:31<15:34:29, 56.70s/it, min_score=-.833, models_evaluated=0]"
     ]
    },
    {
     "name": "stdout",
     "output_type": "stream",
     "text": [
      "––––––––––––––––––––––––––––––––––––––––––––––––––––––––––––––––––––––––––––––––––––––––––––––––––––\n",
      "====================================================================================================\n",
      "[2020-11-21 20:23:03,191][MainProcess][lib.configurable][INFO] Checking configuration...\n",
      "[2020-11-21 20:23:03,193][MainProcess][lib.configurable][INFO] Configuration checked.\n",
      "[2020-11-21 20:23:03,195][MainProcess][lib.configurable][INFO] seq_to_label.SeqToLabel.__init__ was configured with:\n",
      "{   'bidirectional': True,\n",
      "    'decode_dropout': 0.26601793472217133,\n",
      "    'embedding_dropout': 0.1328317932646346,\n",
      "    'embedding_size': 300,\n",
      "    'freeze_embeddings': True,\n",
      "    'input_vocab_size': 6899,\n",
      "    'output_vocab_size': 1703,\n",
      "    'rnn_cell': 'gru',\n",
      "    'rnn_dropout': 0.37102923897101064,\n",
      "    'rnn_layers': 3,\n",
      "    'rnn_size': 448,\n",
      "    'rnn_variational_dropout': 0.5750157262298873}\n",
      "[2020-11-21 20:23:03,196][MainProcess][lib.configurable][INFO] seq_encoder.SeqEncoder.__init__ no config for: lib.nn.seq_encoder.SeqEncoder.__init__\n",
      "[2020-11-21 20:23:03,197][MainProcess][lib.configurable][INFO] seq_encoder.SeqEncoder.__init__ was configured with:\n",
      "{   'bidirectional': True,\n",
      "    'embedding_dropout': 0.1328317932646346,\n",
      "    'embedding_size': 300,\n",
      "    'freeze_embeddings': True,\n",
      "    'n_layers': 3,\n",
      "    'rnn_cell': 'gru',\n",
      "    'rnn_dropout': 0.37102923897101064,\n",
      "    'rnn_size': 448,\n",
      "    'rnn_variational_dropout': 0.5750157262298873,\n",
      "    'vocab_size': 6899}\n",
      "[2020-11-21 20:23:03,576][MainProcess][lib.configurable][INFO] adam.Adam.__init__ was configured with:\n",
      "{'amsgrad': True, 'params': <filter object at 0x7f3c2ebcc748>}\n",
      "[2020-11-21 20:23:03,578][MainProcess][lib.configurable][INFO] adam.Adam.__init__ was configured with:\n",
      "{'amsgrad': True, 'params': <filter object at 0x7f3c2ebcc748>}\n",
      "[2020-11-21 20:23:03,579][MainProcess][lib.configurable][INFO] optimizer.Optimizer.__init__ was configured with:\n",
      "{   'max_grad_norm': 0.06886514734204376,\n",
      "    'optim': <lib.optim.adam.Adam object at 0x7f3c2ebcc0b8>}\n",
      "[2020-11-21 20:23:03,580][MainProcess][__main__][INFO] Epochs: 1\n",
      "[2020-11-21 20:23:03,581][MainProcess][__main__][INFO] Train Dataset Size: 75900\n",
      "[2020-11-21 20:23:03,582][MainProcess][__main__][INFO] Dev Dataset Size: 10845\n",
      "[2020-11-21 20:23:03,583][MainProcess][__main__][INFO] Train Batch Size: 32\n",
      "[2020-11-21 20:23:03,584][MainProcess][__main__][INFO] Train Max Batch Size: 1024\n",
      "[2020-11-21 20:23:03,585][MainProcess][__main__][INFO] Total Parameters: 3485351\n",
      "[2020-11-21 20:23:03,586][MainProcess][__main__][INFO] Model:\n",
      "SeqToLabel(\n",
      "  (encoder): SeqEncoder(\n",
      "    (embedding): Embedding(6899, 300, padding_idx=0)\n",
      "    (rnn): GRU(300, 224, num_layers=3, dropout=0.5750157262298873, bidirectional=True)\n",
      "    (rnn_dropout): LockedDropout(p=0.37102923897101064)\n",
      "    (embedding_dropout): Dropout(p=0.1328317932646346)\n",
      "  )\n",
      "  (out): Sequential(\n",
      "    (0): Linear(in_features=448, out_features=448, bias=True)\n",
      "    (1): BatchNorm1d(448, eps=1e-05, momentum=0.1, affine=True)\n",
      "    (2): ReLU()\n",
      "    (3): Dropout(p=0.26601793472217133)\n",
      "    (4): Linear(in_features=448, out_features=1703, bias=True)\n",
      "  )\n",
      ")\n",
      "[2020-11-21 20:23:03,590][MainProcess][__main__][INFO] Epoch: 0\n",
      "[2020-11-21 20:23:03,591][MainProcess][__main__][INFO] Training...\n"
     ]
    },
    {
     "name": "stderr",
     "output_type": "stream",
     "text": [
      "/mount/arbeitsdaten46/projekte/dialog-1/kanjurva/Simple-QA-EMNLP-2018/venv2/lib/python3.6/site-packages/ipykernel_launcher.py:57: TqdmDeprecationWarning: This function will be removed in tqdm==5.0.0\n",
      "Please use `tqdm.notebook.tqdm` instead of `tqdm.tqdm_notebook`\n"
     ]
    },
    {
     "data": {
      "application/vnd.jupyter.widget-view+json": {
       "model_id": "a06c29f1078e439b92b077c433a73165",
       "version_major": 2,
       "version_minor": 0
      },
      "text/plain": [
       "HBox(children=(HTML(value=''), FloatProgress(value=0.0, max=2371.0), HTML(value='')))"
      ]
     },
     "metadata": {},
     "output_type": "display_data"
    },
    {
     "name": "stdout",
     "output_type": "stream",
     "text": [
      "\n",
      "[2020-11-21 20:24:44,927][MainProcess][lib.checkpoint][INFO] Saving checkpoint: ../../experiments/relation_classifier.11_21_20:05:46/78034.pt\n"
     ]
    },
    {
     "name": "stderr",
     "output_type": "stream",
     "text": [
      "/mount/arbeitsdaten46/projekte/dialog-1/kanjurva/Simple-QA-EMNLP-2018/venv2/lib/python3.6/site-packages/ipykernel_launcher.py:13: TqdmDeprecationWarning: This function will be removed in tqdm==5.0.0\n",
      "Please use `tqdm.notebook.tqdm` instead of `tqdm.tqdm_notebook`\n",
      "  del sys.path[0]\n"
     ]
    },
    {
     "data": {
      "application/vnd.jupyter.widget-view+json": {
       "model_id": "ef998b9bbba0462bae6ff383951037c8",
       "version_major": 2,
       "version_minor": 0
      },
      "text/plain": [
       "HBox(children=(HTML(value=''), FloatProgress(value=0.0, max=2.0), HTML(value='')))"
      ]
     },
     "metadata": {},
     "output_type": "display_data"
    },
    {
     "name": "stdout",
     "output_type": "stream",
     "text": [
      "\n",
      "[2020-11-21 20:24:46,702][MainProcess][__main__][INFO] NLLLoss: 0.596\n",
      "[2020-11-21 20:24:46,821][MainProcess][lib.metrics.accuracy][INFO] Accuracy: 0.834228515625 [6834 of 8192]\n"
     ]
    },
    {
     "name": "stderr",
     "output_type": "stream",
     "text": [
      "  1%|          | 12.22222222222222/1000.0 [09:15<18:34:16, 67.68s/it, min_score=-.834, models_evaluated=0] "
     ]
    },
    {
     "name": "stdout",
     "output_type": "stream",
     "text": [
      "––––––––––––––––––––––––––––––––––––––––––––––––––––––––––––––––––––––––––––––––––––––––––––––––––––\n",
      "====================================================================================================\n",
      "[2020-11-21 20:24:46,875][MainProcess][lib.configurable][INFO] Checking configuration...\n",
      "[2020-11-21 20:24:46,876][MainProcess][lib.configurable][INFO] Configuration checked.\n",
      "[2020-11-21 20:24:46,878][MainProcess][lib.configurable][INFO] seq_to_label.SeqToLabel.__init__ was configured with:\n",
      "{   'bidirectional': False,\n",
      "    'decode_dropout': 0.6436009851307126,\n",
      "    'embedding_dropout': 0.16245894838572783,\n",
      "    'embedding_size': 300,\n",
      "    'freeze_embeddings': False,\n",
      "    'input_vocab_size': 6899,\n",
      "    'output_vocab_size': 1703,\n",
      "    'rnn_cell': 'gru',\n",
      "    'rnn_dropout': 0.8862234565809236,\n",
      "    'rnn_layers': 3,\n",
      "    'rnn_size': 292,\n",
      "    'rnn_variational_dropout': 0.3076047620451202}\n",
      "[2020-11-21 20:24:46,879][MainProcess][lib.configurable][INFO] seq_encoder.SeqEncoder.__init__ no config for: lib.nn.seq_encoder.SeqEncoder.__init__\n",
      "[2020-11-21 20:24:46,880][MainProcess][lib.configurable][INFO] seq_encoder.SeqEncoder.__init__ was configured with:\n",
      "{   'bidirectional': False,\n",
      "    'embedding_dropout': 0.16245894838572783,\n",
      "    'embedding_size': 300,\n",
      "    'freeze_embeddings': False,\n",
      "    'n_layers': 3,\n",
      "    'rnn_cell': 'gru',\n",
      "    'rnn_dropout': 0.8862234565809236,\n",
      "    'rnn_size': 292,\n",
      "    'rnn_variational_dropout': 0.3076047620451202,\n",
      "    'vocab_size': 6899}\n",
      "[2020-11-21 20:24:47,211][MainProcess][lib.configurable][INFO] adam.Adam.__init__ was configured with:\n",
      "{'amsgrad': True, 'params': <filter object at 0x7f3c2ba8b2b0>}\n",
      "[2020-11-21 20:24:47,213][MainProcess][lib.configurable][INFO] adam.Adam.__init__ was configured with:\n",
      "{'amsgrad': True, 'params': <filter object at 0x7f3c2ba8b2b0>}\n",
      "[2020-11-21 20:24:47,214][MainProcess][lib.configurable][INFO] optimizer.Optimizer.__init__ was configured with:\n",
      "{   'max_grad_norm': 2.0786656457207573,\n",
      "    'optim': <lib.optim.adam.Adam object at 0x7f3c2ba8ba58>}\n",
      "[2020-11-21 20:24:47,215][MainProcess][__main__][INFO] Epochs: 1\n",
      "[2020-11-21 20:24:47,216][MainProcess][__main__][INFO] Train Dataset Size: 75900\n",
      "[2020-11-21 20:24:47,217][MainProcess][__main__][INFO] Dev Dataset Size: 10845\n",
      "[2020-11-21 20:24:47,218][MainProcess][__main__][INFO] Train Batch Size: 32\n",
      "[2020-11-21 20:24:47,219][MainProcess][__main__][INFO] Train Max Batch Size: 1024\n",
      "[2020-11-21 20:24:47,220][MainProcess][__main__][INFO] Total Parameters: 4201835\n",
      "[2020-11-21 20:24:47,221][MainProcess][__main__][INFO] Model:\n",
      "SeqToLabel(\n",
      "  (encoder): SeqEncoder(\n",
      "    (embedding): Embedding(6899, 300, padding_idx=0)\n",
      "    (rnn): GRU(300, 292, num_layers=3, dropout=0.3076047620451202)\n",
      "    (rnn_dropout): LockedDropout(p=0.8862234565809236)\n",
      "    (embedding_dropout): Dropout(p=0.16245894838572783)\n",
      "  )\n",
      "  (out): Sequential(\n",
      "    (0): Linear(in_features=292, out_features=292, bias=True)\n",
      "    (1): BatchNorm1d(292, eps=1e-05, momentum=0.1, affine=True)\n",
      "    (2): ReLU()\n",
      "    (3): Dropout(p=0.6436009851307126)\n",
      "    (4): Linear(in_features=292, out_features=1703, bias=True)\n",
      "  )\n",
      ")\n",
      "[2020-11-21 20:24:47,221][MainProcess][__main__][INFO] Epoch: 0\n",
      "[2020-11-21 20:24:47,222][MainProcess][__main__][INFO] Training...\n"
     ]
    },
    {
     "name": "stderr",
     "output_type": "stream",
     "text": [
      "/mount/arbeitsdaten46/projekte/dialog-1/kanjurva/Simple-QA-EMNLP-2018/venv2/lib/python3.6/site-packages/ipykernel_launcher.py:57: TqdmDeprecationWarning: This function will be removed in tqdm==5.0.0\n",
      "Please use `tqdm.notebook.tqdm` instead of `tqdm.tqdm_notebook`\n"
     ]
    },
    {
     "data": {
      "application/vnd.jupyter.widget-view+json": {
       "model_id": "ad80c8be69124dc08c6136a55e96f558",
       "version_major": 2,
       "version_minor": 0
      },
      "text/plain": [
       "HBox(children=(HTML(value=''), FloatProgress(value=0.0, max=2371.0), HTML(value='')))"
      ]
     },
     "metadata": {},
     "output_type": "display_data"
    },
    {
     "name": "stdout",
     "output_type": "stream",
     "text": [
      "\n",
      "[2020-11-21 20:26:06,382][MainProcess][lib.checkpoint][INFO] Saving checkpoint: ../../experiments/relation_classifier.11_21_20:05:46/78116.pt\n"
     ]
    },
    {
     "name": "stderr",
     "output_type": "stream",
     "text": [
      "/mount/arbeitsdaten46/projekte/dialog-1/kanjurva/Simple-QA-EMNLP-2018/venv2/lib/python3.6/site-packages/ipykernel_launcher.py:13: TqdmDeprecationWarning: This function will be removed in tqdm==5.0.0\n",
      "Please use `tqdm.notebook.tqdm` instead of `tqdm.tqdm_notebook`\n",
      "  del sys.path[0]\n"
     ]
    },
    {
     "data": {
      "application/vnd.jupyter.widget-view+json": {
       "model_id": "8691269c9fca47d2a3950bb1b374294d",
       "version_major": 2,
       "version_minor": 0
      },
      "text/plain": [
       "HBox(children=(HTML(value=''), FloatProgress(value=0.0, max=2.0), HTML(value='')))"
      ]
     },
     "metadata": {},
     "output_type": "display_data"
    },
    {
     "name": "stdout",
     "output_type": "stream",
     "text": [
      "\n",
      "[2020-11-21 20:26:08,728][MainProcess][__main__][INFO] NLLLoss: 0.793\n",
      "[2020-11-21 20:26:08,788][MainProcess][lib.metrics.accuracy][INFO] Accuracy: 0.81298828125 [6660 of 8192]\n"
     ]
    },
    {
     "name": "stderr",
     "output_type": "stream",
     "text": [
      "\r",
      "  1%|▏         | 13.33333333333333/1000.0 [10:37<19:03:00, 69.51s/it, min_score=-.834, models_evaluated=0]"
     ]
    },
    {
     "name": "stdout",
     "output_type": "stream",
     "text": [
      "––––––––––––––––––––––––––––––––––––––––––––––––––––––––––––––––––––––––––––––––––––––––––––––––––––\n",
      "====================================================================================================\n",
      "[2020-11-21 20:26:08,829][MainProcess][lib.configurable][INFO] Checking configuration...\n",
      "[2020-11-21 20:26:08,830][MainProcess][lib.configurable][INFO] Configuration checked.\n",
      "[2020-11-21 20:26:08,832][MainProcess][lib.configurable][INFO] seq_to_label.SeqToLabel.__init__ was configured with:\n",
      "{   'bidirectional': False,\n",
      "    'decode_dropout': 0.6278472118754116,\n",
      "    'embedding_dropout': 0.07464782961076252,\n",
      "    'embedding_size': 300,\n",
      "    'freeze_embeddings': True,\n",
      "    'input_vocab_size': 6899,\n",
      "    'output_vocab_size': 1703,\n",
      "    'rnn_cell': 'gru',\n",
      "    'rnn_dropout': 0.6971584609830495,\n",
      "    'rnn_layers': 3,\n",
      "    'rnn_size': 378,\n",
      "    'rnn_variational_dropout': 0.5553882361391608}\n",
      "[2020-11-21 20:26:08,833][MainProcess][lib.configurable][INFO] seq_encoder.SeqEncoder.__init__ no config for: lib.nn.seq_encoder.SeqEncoder.__init__\n",
      "[2020-11-21 20:26:08,835][MainProcess][lib.configurable][INFO] seq_encoder.SeqEncoder.__init__ was configured with:\n",
      "{   'bidirectional': False,\n",
      "    'embedding_dropout': 0.07464782961076252,\n",
      "    'embedding_size': 300,\n",
      "    'freeze_embeddings': True,\n",
      "    'n_layers': 3,\n",
      "    'rnn_cell': 'gru',\n",
      "    'rnn_dropout': 0.6971584609830495,\n",
      "    'rnn_size': 378,\n",
      "    'rnn_variational_dropout': 0.5553882361391608,\n",
      "    'vocab_size': 6899}\n",
      "[2020-11-21 20:26:09,069][MainProcess][lib.configurable][INFO] adam.Adam.__init__ was configured with:\n",
      "{'amsgrad': True, 'params': <filter object at 0x7f3c2afa4940>}\n",
      "[2020-11-21 20:26:09,070][MainProcess][lib.configurable][INFO] adam.Adam.__init__ was configured with:\n",
      "{'amsgrad': True, 'params': <filter object at 0x7f3c2afa4940>}\n",
      "[2020-11-21 20:26:09,072][MainProcess][lib.configurable][INFO] optimizer.Optimizer.__init__ was configured with:\n",
      "{   'max_grad_norm': 4.575918201748919,\n",
      "    'optim': <lib.optim.adam.Adam object at 0x7f3c2f1c41d0>}\n",
      "[2020-11-21 20:26:09,073][MainProcess][__main__][INFO] Epochs: 1\n",
      "[2020-11-21 20:26:09,074][MainProcess][__main__][INFO] Train Dataset Size: 75900\n",
      "[2020-11-21 20:26:09,075][MainProcess][__main__][INFO] Dev Dataset Size: 10845\n",
      "[2020-11-21 20:26:09,076][MainProcess][__main__][INFO] Train Batch Size: 32\n",
      "[2020-11-21 20:26:09,078][MainProcess][__main__][INFO] Train Max Batch Size: 1024\n",
      "[2020-11-21 20:26:09,079][MainProcess][__main__][INFO] Total Parameters: 3279719\n",
      "[2020-11-21 20:26:09,081][MainProcess][__main__][INFO] Model:\n",
      "SeqToLabel(\n",
      "  (encoder): SeqEncoder(\n",
      "    (embedding): Embedding(6899, 300, padding_idx=0)\n",
      "    (rnn): GRU(300, 378, num_layers=3, dropout=0.5553882361391608)\n",
      "    (rnn_dropout): LockedDropout(p=0.6971584609830495)\n",
      "    (embedding_dropout): Dropout(p=0.07464782961076252)\n",
      "  )\n",
      "  (out): Sequential(\n",
      "    (0): Linear(in_features=378, out_features=378, bias=True)\n",
      "    (1): BatchNorm1d(378, eps=1e-05, momentum=0.1, affine=True)\n",
      "    (2): ReLU()\n",
      "    (3): Dropout(p=0.6278472118754116)\n",
      "    (4): Linear(in_features=378, out_features=1703, bias=True)\n",
      "  )\n",
      ")\n",
      "[2020-11-21 20:26:09,082][MainProcess][__main__][INFO] Epoch: 0\n",
      "[2020-11-21 20:26:09,083][MainProcess][__main__][INFO] Training...\n"
     ]
    },
    {
     "name": "stderr",
     "output_type": "stream",
     "text": [
      "/mount/arbeitsdaten46/projekte/dialog-1/kanjurva/Simple-QA-EMNLP-2018/venv2/lib/python3.6/site-packages/ipykernel_launcher.py:57: TqdmDeprecationWarning: This function will be removed in tqdm==5.0.0\n",
      "Please use `tqdm.notebook.tqdm` instead of `tqdm.tqdm_notebook`\n"
     ]
    },
    {
     "data": {
      "application/vnd.jupyter.widget-view+json": {
       "model_id": "3c350f9606904944990663785d8216a2",
       "version_major": 2,
       "version_minor": 0
      },
      "text/plain": [
       "HBox(children=(HTML(value=''), FloatProgress(value=0.0, max=2371.0), HTML(value='')))"
      ]
     },
     "metadata": {},
     "output_type": "display_data"
    },
    {
     "name": "stdout",
     "output_type": "stream",
     "text": [
      "\n",
      "[2020-11-21 20:27:16,927][MainProcess][lib.checkpoint][INFO] Saving checkpoint: ../../experiments/relation_classifier.11_21_20:05:46/78186.pt\n"
     ]
    },
    {
     "name": "stderr",
     "output_type": "stream",
     "text": [
      "/mount/arbeitsdaten46/projekte/dialog-1/kanjurva/Simple-QA-EMNLP-2018/venv2/lib/python3.6/site-packages/ipykernel_launcher.py:13: TqdmDeprecationWarning: This function will be removed in tqdm==5.0.0\n",
      "Please use `tqdm.notebook.tqdm` instead of `tqdm.tqdm_notebook`\n",
      "  del sys.path[0]\n"
     ]
    },
    {
     "data": {
      "application/vnd.jupyter.widget-view+json": {
       "model_id": "b90d9393b6cb48e08474214c3383ea7a",
       "version_major": 2,
       "version_minor": 0
      },
      "text/plain": [
       "HBox(children=(HTML(value=''), FloatProgress(value=0.0, max=2.0), HTML(value='')))"
      ]
     },
     "metadata": {},
     "output_type": "display_data"
    },
    {
     "name": "stdout",
     "output_type": "stream",
     "text": [
      "\n",
      "[2020-11-21 20:27:18,509][MainProcess][__main__][INFO] NLLLoss: 0.744\n",
      "[2020-11-21 20:27:18,569][MainProcess][lib.metrics.accuracy][INFO] Accuracy: 0.8187255859375 [6707 of 8192]\n"
     ]
    },
    {
     "name": "stderr",
     "output_type": "stream",
     "text": [
      "\r",
      "  1%|▏         | 14.444444444444441/1000.0 [11:47<18:28:40, 67.50s/it, min_score=-.834, models_evaluated=0]"
     ]
    },
    {
     "name": "stdout",
     "output_type": "stream",
     "text": [
      "––––––––––––––––––––––––––––––––––––––––––––––––––––––––––––––––––––––––––––––––––––––––––––––––––––\n",
      "====================================================================================================\n",
      "[2020-11-21 20:27:18,608][MainProcess][lib.configurable][INFO] Checking configuration...\n",
      "[2020-11-21 20:27:18,609][MainProcess][lib.configurable][INFO] Configuration checked.\n",
      "[2020-11-21 20:27:18,610][MainProcess][lib.configurable][INFO] seq_to_label.SeqToLabel.__init__ was configured with:\n",
      "{   'bidirectional': False,\n",
      "    'decode_dropout': 0.5705270634858157,\n",
      "    'embedding_dropout': 0.6962188438506063,\n",
      "    'embedding_size': 300,\n",
      "    'freeze_embeddings': False,\n",
      "    'input_vocab_size': 6899,\n",
      "    'output_vocab_size': 1703,\n",
      "    'rnn_cell': 'lstm',\n",
      "    'rnn_dropout': 0.23399952824236808,\n",
      "    'rnn_layers': 1,\n",
      "    'rnn_size': 334,\n",
      "    'rnn_variational_dropout': 0.22544719853313588}\n",
      "[2020-11-21 20:27:18,611][MainProcess][lib.configurable][INFO] seq_encoder.SeqEncoder.__init__ no config for: lib.nn.seq_encoder.SeqEncoder.__init__\n",
      "[2020-11-21 20:27:18,612][MainProcess][lib.configurable][INFO] seq_encoder.SeqEncoder.__init__ was configured with:\n",
      "{   'bidirectional': False,\n",
      "    'embedding_dropout': 0.6962188438506063,\n",
      "    'embedding_size': 300,\n",
      "    'freeze_embeddings': False,\n",
      "    'n_layers': 1,\n",
      "    'rnn_cell': 'lstm',\n",
      "    'rnn_dropout': 0.23399952824236808,\n",
      "    'rnn_size': 334,\n",
      "    'rnn_variational_dropout': 0.22544719853313588,\n",
      "    'vocab_size': 6899}\n",
      "[2020-11-21 20:27:18,804][MainProcess][lib.configurable][INFO] adam.Adam.__init__ was configured with:\n",
      "{'amsgrad': True, 'params': <filter object at 0x7f3c2da19978>}\n",
      "[2020-11-21 20:27:18,805][MainProcess][lib.configurable][INFO] adam.Adam.__init__ was configured with:\n",
      "{'amsgrad': True, 'params': <filter object at 0x7f3c2da19978>}\n",
      "[2020-11-21 20:27:18,806][MainProcess][lib.configurable][INFO] optimizer.Optimizer.__init__ was configured with:\n",
      "{   'max_grad_norm': 0.08944868076229463,\n",
      "    'optim': <lib.optim.adam.Adam object at 0x7f3c2fbb8588>}\n",
      "[2020-11-21 20:27:18,807][MainProcess][__main__][INFO] Epochs: 1\n",
      "[2020-11-21 20:27:18,808][MainProcess][__main__][INFO] Train Dataset Size: 75900\n",
      "[2020-11-21 20:27:18,811][MainProcess][__main__][INFO] Dev Dataset Size: 10845\n",
      "[2020-11-21 20:27:18,811][MainProcess][__main__][INFO] Train Batch Size: 32\n",
      "[2020-11-21 20:27:18,813][MainProcess][__main__][INFO] Train Max Batch Size: 1024\n",
      "[2020-11-21 20:27:18,814][MainProcess][__main__][INFO] Total Parameters: 3602459\n",
      "[2020-11-21 20:27:18,815][MainProcess][__main__][INFO] Model:\n",
      "SeqToLabel(\n",
      "  (encoder): SeqEncoder(\n",
      "    (embedding): Embedding(6899, 300, padding_idx=0)\n",
      "    (rnn): LSTM(300, 334, dropout=0.22544719853313588)\n",
      "    (rnn_dropout): LockedDropout(p=0.23399952824236808)\n",
      "    (embedding_dropout): Dropout(p=0.6962188438506063)\n",
      "  )\n",
      "  (out): Sequential(\n",
      "    (0): Linear(in_features=334, out_features=334, bias=True)\n",
      "    (1): BatchNorm1d(334, eps=1e-05, momentum=0.1, affine=True)\n",
      "    (2): ReLU()\n",
      "    (3): Dropout(p=0.5705270634858157)\n",
      "    (4): Linear(in_features=334, out_features=1703, bias=True)\n",
      "  )\n",
      ")\n",
      "[2020-11-21 20:27:18,816][MainProcess][__main__][INFO] Epoch: 0\n",
      "[2020-11-21 20:27:18,817][MainProcess][__main__][INFO] Training...\n"
     ]
    },
    {
     "name": "stderr",
     "output_type": "stream",
     "text": [
      "/mount/arbeitsdaten46/projekte/dialog-1/kanjurva/Simple-QA-EMNLP-2018/venv2/lib/python3.6/site-packages/ipykernel_launcher.py:57: TqdmDeprecationWarning: This function will be removed in tqdm==5.0.0\n",
      "Please use `tqdm.notebook.tqdm` instead of `tqdm.tqdm_notebook`\n"
     ]
    },
    {
     "data": {
      "application/vnd.jupyter.widget-view+json": {
       "model_id": "ccd8da04a9d648fb842a7aed854a36b3",
       "version_major": 2,
       "version_minor": 0
      },
      "text/plain": [
       "HBox(children=(HTML(value=''), FloatProgress(value=0.0, max=2371.0), HTML(value='')))"
      ]
     },
     "metadata": {},
     "output_type": "display_data"
    },
    {
     "name": "stdout",
     "output_type": "stream",
     "text": [
      "\n",
      "[2020-11-21 20:28:06,645][MainProcess][lib.checkpoint][INFO] Saving checkpoint: ../../experiments/relation_classifier.11_21_20:05:46/78236.pt\n"
     ]
    },
    {
     "name": "stderr",
     "output_type": "stream",
     "text": [
      "/mount/arbeitsdaten46/projekte/dialog-1/kanjurva/Simple-QA-EMNLP-2018/venv2/lib/python3.6/site-packages/ipykernel_launcher.py:13: TqdmDeprecationWarning: This function will be removed in tqdm==5.0.0\n",
      "Please use `tqdm.notebook.tqdm` instead of `tqdm.tqdm_notebook`\n",
      "  del sys.path[0]\n"
     ]
    },
    {
     "data": {
      "application/vnd.jupyter.widget-view+json": {
       "model_id": "ebc6b1dedcde4d1fa0d38c93a84802fa",
       "version_major": 2,
       "version_minor": 0
      },
      "text/plain": [
       "HBox(children=(HTML(value=''), FloatProgress(value=0.0, max=2.0), HTML(value='')))"
      ]
     },
     "metadata": {},
     "output_type": "display_data"
    },
    {
     "name": "stdout",
     "output_type": "stream",
     "text": [
      "\n",
      "[2020-11-21 20:28:07,919][MainProcess][__main__][INFO] NLLLoss: 0.721\n",
      "[2020-11-21 20:28:08,024][MainProcess][lib.metrics.accuracy][INFO] Accuracy: 0.809814453125 [6634 of 8192]\n"
     ]
    },
    {
     "name": "stderr",
     "output_type": "stream",
     "text": [
      "\r",
      "  2%|▏         | 15.555555555555552/1000.0 [12:36<16:34:17, 60.60s/it, min_score=-.834, models_evaluated=0]"
     ]
    },
    {
     "name": "stdout",
     "output_type": "stream",
     "text": [
      "––––––––––––––––––––––––––––––––––––––––––––––––––––––––––––––––––––––––––––––––––––––––––––––––––––\n",
      "====================================================================================================\n",
      "[2020-11-21 20:28:08,065][MainProcess][lib.configurable][INFO] Checking configuration...\n",
      "[2020-11-21 20:28:08,067][MainProcess][lib.configurable][INFO] Configuration checked.\n",
      "[2020-11-21 20:28:08,068][MainProcess][lib.configurable][INFO] seq_to_label.SeqToLabel.__init__ was configured with:\n",
      "{   'bidirectional': False,\n",
      "    'decode_dropout': 0.7617672176996272,\n",
      "    'embedding_dropout': 0.7723226229513828,\n",
      "    'embedding_size': 300,\n",
      "    'freeze_embeddings': True,\n",
      "    'input_vocab_size': 6899,\n",
      "    'output_vocab_size': 1703,\n",
      "    'rnn_cell': 'lstm',\n",
      "    'rnn_dropout': 0.5688873142156442,\n",
      "    'rnn_layers': 1,\n",
      "    'rnn_size': 362,\n",
      "    'rnn_variational_dropout': 0.8005213090396872}\n",
      "[2020-11-21 20:28:08,070][MainProcess][lib.configurable][INFO] seq_encoder.SeqEncoder.__init__ no config for: lib.nn.seq_encoder.SeqEncoder.__init__\n",
      "[2020-11-21 20:28:08,072][MainProcess][lib.configurable][INFO] seq_encoder.SeqEncoder.__init__ was configured with:\n",
      "{   'bidirectional': False,\n",
      "    'embedding_dropout': 0.7723226229513828,\n",
      "    'embedding_size': 300,\n",
      "    'freeze_embeddings': True,\n",
      "    'n_layers': 1,\n",
      "    'rnn_cell': 'lstm',\n",
      "    'rnn_dropout': 0.5688873142156442,\n",
      "    'rnn_size': 362,\n",
      "    'rnn_variational_dropout': 0.8005213090396872,\n",
      "    'vocab_size': 6899}\n",
      "[2020-11-21 20:28:08,377][MainProcess][lib.configurable][INFO] adam.Adam.__init__ was configured with:\n",
      "{'amsgrad': True, 'params': <filter object at 0x7f3c2f1c41d0>}\n",
      "[2020-11-21 20:28:08,378][MainProcess][lib.configurable][INFO] adam.Adam.__init__ was configured with:\n",
      "{'amsgrad': True, 'params': <filter object at 0x7f3c2f1c41d0>}\n",
      "[2020-11-21 20:28:08,380][MainProcess][lib.configurable][INFO] optimizer.Optimizer.__init__ was configured with:\n",
      "{   'max_grad_norm': 4.718215056749709,\n",
      "    'optim': <lib.optim.adam.Adam object at 0x7f3c27ebfa90>}\n",
      "[2020-11-21 20:28:08,381][MainProcess][__main__][INFO] Epochs: 1\n",
      "[2020-11-21 20:28:08,382][MainProcess][__main__][INFO] Train Dataset Size: 75900\n",
      "[2020-11-21 20:28:08,384][MainProcess][__main__][INFO] Dev Dataset Size: 10845\n",
      "[2020-11-21 20:28:08,385][MainProcess][__main__][INFO] Train Batch Size: 32\n",
      "[2020-11-21 20:28:08,386][MainProcess][__main__][INFO] Train Max Batch Size: 1024\n",
      "[2020-11-21 20:28:08,388][MainProcess][__main__][INFO] Total Parameters: 1711791\n",
      "[2020-11-21 20:28:08,389][MainProcess][__main__][INFO] Model:\n",
      "SeqToLabel(\n",
      "  (encoder): SeqEncoder(\n",
      "    (embedding): Embedding(6899, 300, padding_idx=0)\n",
      "    (rnn): LSTM(300, 362, dropout=0.8005213090396872)\n",
      "    (rnn_dropout): LockedDropout(p=0.5688873142156442)\n",
      "    (embedding_dropout): Dropout(p=0.7723226229513828)\n",
      "  )\n",
      "  (out): Sequential(\n",
      "    (0): Linear(in_features=362, out_features=362, bias=True)\n",
      "    (1): BatchNorm1d(362, eps=1e-05, momentum=0.1, affine=True)\n",
      "    (2): ReLU()\n",
      "    (3): Dropout(p=0.7617672176996272)\n",
      "    (4): Linear(in_features=362, out_features=1703, bias=True)\n",
      "  )\n",
      ")\n",
      "[2020-11-21 20:28:08,390][MainProcess][__main__][INFO] Epoch: 0\n",
      "[2020-11-21 20:28:08,391][MainProcess][__main__][INFO] Training...\n"
     ]
    },
    {
     "name": "stderr",
     "output_type": "stream",
     "text": [
      "/mount/arbeitsdaten46/projekte/dialog-1/kanjurva/Simple-QA-EMNLP-2018/venv2/lib/python3.6/site-packages/ipykernel_launcher.py:57: TqdmDeprecationWarning: This function will be removed in tqdm==5.0.0\n",
      "Please use `tqdm.notebook.tqdm` instead of `tqdm.tqdm_notebook`\n"
     ]
    },
    {
     "data": {
      "application/vnd.jupyter.widget-view+json": {
       "model_id": "9c3fc2d176084097b2b3997b64121fb6",
       "version_major": 2,
       "version_minor": 0
      },
      "text/plain": [
       "HBox(children=(HTML(value=''), FloatProgress(value=0.0, max=2371.0), HTML(value='')))"
      ]
     },
     "metadata": {},
     "output_type": "display_data"
    },
    {
     "name": "stdout",
     "output_type": "stream",
     "text": [
      "\n",
      "[2020-11-21 20:28:54,796][MainProcess][lib.checkpoint][INFO] Saving checkpoint: ../../experiments/relation_classifier.11_21_20:05:46/78284.pt\n"
     ]
    },
    {
     "name": "stderr",
     "output_type": "stream",
     "text": [
      "/mount/arbeitsdaten46/projekte/dialog-1/kanjurva/Simple-QA-EMNLP-2018/venv2/lib/python3.6/site-packages/ipykernel_launcher.py:13: TqdmDeprecationWarning: This function will be removed in tqdm==5.0.0\n",
      "Please use `tqdm.notebook.tqdm` instead of `tqdm.tqdm_notebook`\n",
      "  del sys.path[0]\n"
     ]
    },
    {
     "data": {
      "application/vnd.jupyter.widget-view+json": {
       "model_id": "b358505ea006418ba4ab7d5b3771fd0b",
       "version_major": 2,
       "version_minor": 0
      },
      "text/plain": [
       "HBox(children=(HTML(value=''), FloatProgress(value=0.0, max=2.0), HTML(value='')))"
      ]
     },
     "metadata": {},
     "output_type": "display_data"
    },
    {
     "name": "stdout",
     "output_type": "stream",
     "text": [
      "\n",
      "[2020-11-21 20:28:55,973][MainProcess][__main__][INFO] NLLLoss: 1.007\n",
      "[2020-11-21 20:28:56,031][MainProcess][lib.metrics.accuracy][INFO] Accuracy: 0.7296142578125 [5977 of 8192]\n"
     ]
    },
    {
     "name": "stderr",
     "output_type": "stream",
     "text": [
      "\r",
      "  2%|▏         | 16.666666666666664/1000.0 [13:24<15:07:37, 55.38s/it, min_score=-.834, models_evaluated=0]"
     ]
    },
    {
     "name": "stdout",
     "output_type": "stream",
     "text": [
      "––––––––––––––––––––––––––––––––––––––––––––––––––––––––––––––––––––––––––––––––––––––––––––––––––––\n",
      "====================================================================================================\n",
      "[2020-11-21 20:28:56,065][MainProcess][lib.configurable][INFO] Checking configuration...\n",
      "[2020-11-21 20:28:56,067][MainProcess][lib.configurable][INFO] Configuration checked.\n",
      "[2020-11-21 20:28:56,068][MainProcess][lib.configurable][INFO] seq_to_label.SeqToLabel.__init__ was configured with:\n",
      "{   'bidirectional': False,\n",
      "    'decode_dropout': 0.5119137192012607,\n",
      "    'embedding_dropout': 0.778263988315103,\n",
      "    'embedding_size': 300,\n",
      "    'freeze_embeddings': True,\n",
      "    'input_vocab_size': 6899,\n",
      "    'output_vocab_size': 1703,\n",
      "    'rnn_cell': 'gru',\n",
      "    'rnn_dropout': 0.33740508632730115,\n",
      "    'rnn_layers': 2,\n",
      "    'rnn_size': 284,\n",
      "    'rnn_variational_dropout': 0.4663117264959536}\n",
      "[2020-11-21 20:28:56,070][MainProcess][lib.configurable][INFO] seq_encoder.SeqEncoder.__init__ no config for: lib.nn.seq_encoder.SeqEncoder.__init__\n",
      "[2020-11-21 20:28:56,071][MainProcess][lib.configurable][INFO] seq_encoder.SeqEncoder.__init__ was configured with:\n",
      "{   'bidirectional': False,\n",
      "    'embedding_dropout': 0.778263988315103,\n",
      "    'embedding_size': 300,\n",
      "    'freeze_embeddings': True,\n",
      "    'n_layers': 2,\n",
      "    'rnn_cell': 'gru',\n",
      "    'rnn_dropout': 0.33740508632730115,\n",
      "    'rnn_size': 284,\n",
      "    'rnn_variational_dropout': 0.4663117264959536,\n",
      "    'vocab_size': 6899}\n",
      "[2020-11-21 20:28:56,370][MainProcess][lib.configurable][INFO] adam.Adam.__init__ was configured with:\n",
      "{'amsgrad': True, 'params': <filter object at 0x7f3c2ba8b6d8>}\n",
      "[2020-11-21 20:28:56,371][MainProcess][lib.configurable][INFO] adam.Adam.__init__ was configured with:\n",
      "{'amsgrad': True, 'params': <filter object at 0x7f3c2ba8b6d8>}\n",
      "[2020-11-21 20:28:56,373][MainProcess][lib.configurable][INFO] optimizer.Optimizer.__init__ was configured with:\n",
      "{   'max_grad_norm': 0.015657831072474763,\n",
      "    'optim': <lib.optim.adam.Adam object at 0x7f3c27ebfa90>}\n",
      "[2020-11-21 20:28:56,374][MainProcess][__main__][INFO] Epochs: 1\n",
      "[2020-11-21 20:28:56,375][MainProcess][__main__][INFO] Train Dataset Size: 75900\n",
      "[2020-11-21 20:28:56,376][MainProcess][__main__][INFO] Dev Dataset Size: 10845\n",
      "[2020-11-21 20:28:56,377][MainProcess][__main__][INFO] Train Batch Size: 32\n",
      "[2020-11-21 20:28:56,377][MainProcess][__main__][INFO] Train Max Batch Size: 1024\n",
      "[2020-11-21 20:28:56,380][MainProcess][__main__][INFO] Total Parameters: 1551775\n",
      "[2020-11-21 20:28:56,380][MainProcess][__main__][INFO] Model:\n",
      "SeqToLabel(\n",
      "  (encoder): SeqEncoder(\n",
      "    (embedding): Embedding(6899, 300, padding_idx=0)\n",
      "    (rnn): GRU(300, 284, num_layers=2, dropout=0.4663117264959536)\n",
      "    (rnn_dropout): LockedDropout(p=0.33740508632730115)\n",
      "    (embedding_dropout): Dropout(p=0.778263988315103)\n",
      "  )\n",
      "  (out): Sequential(\n",
      "    (0): Linear(in_features=284, out_features=284, bias=True)\n",
      "    (1): BatchNorm1d(284, eps=1e-05, momentum=0.1, affine=True)\n",
      "    (2): ReLU()\n",
      "    (3): Dropout(p=0.5119137192012607)\n",
      "    (4): Linear(in_features=284, out_features=1703, bias=True)\n",
      "  )\n",
      ")\n",
      "[2020-11-21 20:28:56,381][MainProcess][__main__][INFO] Epoch: 0\n",
      "[2020-11-21 20:28:56,382][MainProcess][__main__][INFO] Training...\n"
     ]
    },
    {
     "name": "stderr",
     "output_type": "stream",
     "text": [
      "/mount/arbeitsdaten46/projekte/dialog-1/kanjurva/Simple-QA-EMNLP-2018/venv2/lib/python3.6/site-packages/ipykernel_launcher.py:57: TqdmDeprecationWarning: This function will be removed in tqdm==5.0.0\n",
      "Please use `tqdm.notebook.tqdm` instead of `tqdm.tqdm_notebook`\n"
     ]
    },
    {
     "data": {
      "application/vnd.jupyter.widget-view+json": {
       "model_id": "21a6d6912b4946b59a30997253522dde",
       "version_major": 2,
       "version_minor": 0
      },
      "text/plain": [
       "HBox(children=(HTML(value=''), FloatProgress(value=0.0, max=2371.0), HTML(value='')))"
      ]
     },
     "metadata": {},
     "output_type": "display_data"
    },
    {
     "name": "stdout",
     "output_type": "stream",
     "text": [
      "\n",
      "[2020-11-21 20:29:48,689][MainProcess][lib.checkpoint][INFO] Saving checkpoint: ../../experiments/relation_classifier.11_21_20:05:46/78338.pt\n"
     ]
    },
    {
     "name": "stderr",
     "output_type": "stream",
     "text": [
      "/mount/arbeitsdaten46/projekte/dialog-1/kanjurva/Simple-QA-EMNLP-2018/venv2/lib/python3.6/site-packages/ipykernel_launcher.py:13: TqdmDeprecationWarning: This function will be removed in tqdm==5.0.0\n",
      "Please use `tqdm.notebook.tqdm` instead of `tqdm.tqdm_notebook`\n",
      "  del sys.path[0]\n"
     ]
    },
    {
     "data": {
      "application/vnd.jupyter.widget-view+json": {
       "model_id": "ffafe2708c3a4a2a83dcab0914ad8d19",
       "version_major": 2,
       "version_minor": 0
      },
      "text/plain": [
       "HBox(children=(HTML(value=''), FloatProgress(value=0.0, max=2.0), HTML(value='')))"
      ]
     },
     "metadata": {},
     "output_type": "display_data"
    },
    {
     "name": "stdout",
     "output_type": "stream",
     "text": [
      "\n",
      "[2020-11-21 20:29:51,095][MainProcess][__main__][INFO] NLLLoss: 0.728\n",
      "[2020-11-21 20:29:51,158][MainProcess][lib.metrics.accuracy][INFO] Accuracy: 0.79150390625 [6484 of 8192]\n"
     ]
    },
    {
     "name": "stderr",
     "output_type": "stream",
     "text": [
      "\r",
      "  2%|▏         | 17.777777777777775/1000.0 [14:19<14:38:17, 53.65s/it, min_score=-.834, models_evaluated=0]"
     ]
    },
    {
     "name": "stdout",
     "output_type": "stream",
     "text": [
      "––––––––––––––––––––––––––––––––––––––––––––––––––––––––––––––––––––––––––––––––––––––––––––––––––––\n",
      "====================================================================================================\n",
      "[2020-11-21 20:29:51,196][MainProcess][lib.configurable][INFO] Checking configuration...\n",
      "[2020-11-21 20:29:51,197][MainProcess][lib.configurable][INFO] Configuration checked.\n",
      "[2020-11-21 20:29:51,200][MainProcess][lib.configurable][INFO] seq_to_label.SeqToLabel.__init__ was configured with:\n",
      "{   'bidirectional': False,\n",
      "    'decode_dropout': 0.4984412118762657,\n",
      "    'embedding_dropout': 0.16061587602141839,\n",
      "    'embedding_size': 300,\n",
      "    'freeze_embeddings': False,\n",
      "    'input_vocab_size': 6899,\n",
      "    'output_vocab_size': 1703,\n",
      "    'rnn_cell': 'lstm',\n",
      "    'rnn_dropout': 0.5736655628224125,\n",
      "    'rnn_layers': 1,\n",
      "    'rnn_size': 308,\n",
      "    'rnn_variational_dropout': 0.8172045803993682}\n",
      "[2020-11-21 20:29:51,201][MainProcess][lib.configurable][INFO] seq_encoder.SeqEncoder.__init__ no config for: lib.nn.seq_encoder.SeqEncoder.__init__\n",
      "[2020-11-21 20:29:51,202][MainProcess][lib.configurable][INFO] seq_encoder.SeqEncoder.__init__ was configured with:\n",
      "{   'bidirectional': False,\n",
      "    'embedding_dropout': 0.16061587602141839,\n",
      "    'embedding_size': 300,\n",
      "    'freeze_embeddings': False,\n",
      "    'n_layers': 1,\n",
      "    'rnn_cell': 'lstm',\n",
      "    'rnn_dropout': 0.5736655628224125,\n",
      "    'rnn_size': 308,\n",
      "    'rnn_variational_dropout': 0.8172045803993682,\n",
      "    'vocab_size': 6899}\n",
      "[2020-11-21 20:29:51,396][MainProcess][lib.configurable][INFO] adam.Adam.__init__ was configured with:\n",
      "{'amsgrad': True, 'params': <filter object at 0x7f3c2da19978>}\n",
      "[2020-11-21 20:29:51,398][MainProcess][lib.configurable][INFO] adam.Adam.__init__ was configured with:\n",
      "{'amsgrad': True, 'params': <filter object at 0x7f3c2da19978>}\n",
      "[2020-11-21 20:29:51,400][MainProcess][lib.configurable][INFO] optimizer.Optimizer.__init__ was configured with:\n",
      "{   'max_grad_norm': 0.9028152415137903,\n",
      "    'optim': <lib.optim.adam.Adam object at 0x7f3c2f782cc0>}\n",
      "[2020-11-21 20:29:51,401][MainProcess][__main__][INFO] Epochs: 1\n",
      "[2020-11-21 20:29:51,403][MainProcess][__main__][INFO] Train Dataset Size: 75900\n",
      "[2020-11-21 20:29:51,404][MainProcess][__main__][INFO] Dev Dataset Size: 10845\n",
      "[2020-11-21 20:29:51,404][MainProcess][__main__][INFO] Train Batch Size: 32\n",
      "[2020-11-21 20:29:51,405][MainProcess][__main__][INFO] Train Max Batch Size: 1024\n",
      "[2020-11-21 20:29:51,406][MainProcess][__main__][INFO] Total Parameters: 3443235\n",
      "[2020-11-21 20:29:51,407][MainProcess][__main__][INFO] Model:\n",
      "SeqToLabel(\n",
      "  (encoder): SeqEncoder(\n",
      "    (embedding): Embedding(6899, 300, padding_idx=0)\n",
      "    (rnn): LSTM(300, 308, dropout=0.8172045803993682)\n",
      "    (rnn_dropout): LockedDropout(p=0.5736655628224125)\n",
      "    (embedding_dropout): Dropout(p=0.16061587602141839)\n",
      "  )\n",
      "  (out): Sequential(\n",
      "    (0): Linear(in_features=308, out_features=308, bias=True)\n",
      "    (1): BatchNorm1d(308, eps=1e-05, momentum=0.1, affine=True)\n",
      "    (2): ReLU()\n",
      "    (3): Dropout(p=0.4984412118762657)\n",
      "    (4): Linear(in_features=308, out_features=1703, bias=True)\n",
      "  )\n",
      ")\n",
      "[2020-11-21 20:29:51,408][MainProcess][__main__][INFO] Epoch: 0\n",
      "[2020-11-21 20:29:51,409][MainProcess][__main__][INFO] Training...\n"
     ]
    },
    {
     "name": "stderr",
     "output_type": "stream",
     "text": [
      "/mount/arbeitsdaten46/projekte/dialog-1/kanjurva/Simple-QA-EMNLP-2018/venv2/lib/python3.6/site-packages/ipykernel_launcher.py:57: TqdmDeprecationWarning: This function will be removed in tqdm==5.0.0\n",
      "Please use `tqdm.notebook.tqdm` instead of `tqdm.tqdm_notebook`\n"
     ]
    },
    {
     "data": {
      "application/vnd.jupyter.widget-view+json": {
       "model_id": "bd45116614514e7cb2bceb9beaa9a92b",
       "version_major": 2,
       "version_minor": 0
      },
      "text/plain": [
       "HBox(children=(HTML(value=''), FloatProgress(value=0.0, max=2371.0), HTML(value='')))"
      ]
     },
     "metadata": {},
     "output_type": "display_data"
    },
    {
     "name": "stdout",
     "output_type": "stream",
     "text": [
      "\n",
      "[2020-11-21 20:30:36,444][MainProcess][lib.checkpoint][INFO] Saving checkpoint: ../../experiments/relation_classifier.11_21_20:05:46/78386.pt\n"
     ]
    },
    {
     "name": "stderr",
     "output_type": "stream",
     "text": [
      "/mount/arbeitsdaten46/projekte/dialog-1/kanjurva/Simple-QA-EMNLP-2018/venv2/lib/python3.6/site-packages/ipykernel_launcher.py:13: TqdmDeprecationWarning: This function will be removed in tqdm==5.0.0\n",
      "Please use `tqdm.notebook.tqdm` instead of `tqdm.tqdm_notebook`\n",
      "  del sys.path[0]\n"
     ]
    },
    {
     "data": {
      "application/vnd.jupyter.widget-view+json": {
       "model_id": "a58f71e6007f4411a896e4af972f04bc",
       "version_major": 2,
       "version_minor": 0
      },
      "text/plain": [
       "HBox(children=(HTML(value=''), FloatProgress(value=0.0, max=2.0), HTML(value='')))"
      ]
     },
     "metadata": {},
     "output_type": "display_data"
    },
    {
     "name": "stdout",
     "output_type": "stream",
     "text": [
      "\n",
      "[2020-11-21 20:30:37,696][MainProcess][__main__][INFO] NLLLoss: 0.692\n",
      "[2020-11-21 20:30:37,765][MainProcess][lib.metrics.accuracy][INFO] Accuracy: 0.831298828125 [6810 of 8192]\n"
     ]
    },
    {
     "name": "stderr",
     "output_type": "stream",
     "text": [
      "\r",
      "  2%|▏         | 18.888888888888886/1000.0 [15:06<13:39:52, 50.14s/it, min_score=-.834, models_evaluated=0]"
     ]
    },
    {
     "name": "stdout",
     "output_type": "stream",
     "text": [
      "––––––––––––––––––––––––––––––––––––––––––––––––––––––––––––––––––––––––––––––––––––––––––––––––––––\n",
      "====================================================================================================\n",
      "[2020-11-21 20:30:37,802][MainProcess][lib.configurable][INFO] Checking configuration...\n",
      "[2020-11-21 20:30:37,803][MainProcess][lib.configurable][INFO] Configuration checked.\n",
      "[2020-11-21 20:30:37,805][MainProcess][lib.configurable][INFO] seq_to_label.SeqToLabel.__init__ was configured with:\n",
      "{   'bidirectional': False,\n",
      "    'decode_dropout': 0.5903918427165705,\n",
      "    'embedding_dropout': 0.676899199638435,\n",
      "    'embedding_size': 300,\n",
      "    'freeze_embeddings': False,\n",
      "    'input_vocab_size': 6899,\n",
      "    'output_vocab_size': 1703,\n",
      "    'rnn_cell': 'gru',\n",
      "    'rnn_dropout': 0.5358226021083772,\n",
      "    'rnn_layers': 1,\n",
      "    'rnn_size': 458,\n",
      "    'rnn_variational_dropout': 0.4389654779235106}\n",
      "[2020-11-21 20:30:37,808][MainProcess][lib.configurable][INFO] seq_encoder.SeqEncoder.__init__ no config for: lib.nn.seq_encoder.SeqEncoder.__init__\n",
      "[2020-11-21 20:30:37,809][MainProcess][lib.configurable][INFO] seq_encoder.SeqEncoder.__init__ was configured with:\n",
      "{   'bidirectional': False,\n",
      "    'embedding_dropout': 0.676899199638435,\n",
      "    'embedding_size': 300,\n",
      "    'freeze_embeddings': False,\n",
      "    'n_layers': 1,\n",
      "    'rnn_cell': 'gru',\n",
      "    'rnn_dropout': 0.5358226021083772,\n",
      "    'rnn_size': 458,\n",
      "    'rnn_variational_dropout': 0.4389654779235106,\n",
      "    'vocab_size': 6899}\n",
      "[2020-11-21 20:30:38,017][MainProcess][lib.configurable][INFO] adam.Adam.__init__ was configured with:\n",
      "{'amsgrad': True, 'params': <filter object at 0x7f3c2f80b390>}\n",
      "[2020-11-21 20:30:38,019][MainProcess][lib.configurable][INFO] adam.Adam.__init__ was configured with:\n",
      "{'amsgrad': True, 'params': <filter object at 0x7f3c2f80b390>}\n",
      "[2020-11-21 20:30:38,021][MainProcess][lib.configurable][INFO] optimizer.Optimizer.__init__ was configured with:\n",
      "{   'max_grad_norm': 4.281622334653986,\n",
      "    'optim': <lib.optim.adam.Adam object at 0x7f3c2ebcc470>}\n",
      "[2020-11-21 20:30:38,022][MainProcess][__main__][INFO] Epochs: 1\n",
      "[2020-11-21 20:30:38,023][MainProcess][__main__][INFO] Train Dataset Size: 75900\n",
      "[2020-11-21 20:30:38,024][MainProcess][__main__][INFO] Dev Dataset Size: 10845\n",
      "[2020-11-21 20:30:38,025][MainProcess][__main__][INFO] Train Batch Size: 32\n",
      "[2020-11-21 20:30:38,026][MainProcess][__main__][INFO] Train Max Batch Size: 1024\n",
      "[2020-11-21 20:30:38,028][MainProcess][__main__][INFO] Total Parameters: 4106755\n",
      "[2020-11-21 20:30:38,029][MainProcess][__main__][INFO] Model:\n",
      "SeqToLabel(\n",
      "  (encoder): SeqEncoder(\n",
      "    (embedding): Embedding(6899, 300, padding_idx=0)\n",
      "    (rnn): GRU(300, 458, dropout=0.4389654779235106)\n",
      "    (rnn_dropout): LockedDropout(p=0.5358226021083772)\n",
      "    (embedding_dropout): Dropout(p=0.676899199638435)\n",
      "  )\n",
      "  (out): Sequential(\n",
      "    (0): Linear(in_features=458, out_features=458, bias=True)\n",
      "    (1): BatchNorm1d(458, eps=1e-05, momentum=0.1, affine=True)\n",
      "    (2): ReLU()\n",
      "    (3): Dropout(p=0.5903918427165705)\n",
      "    (4): Linear(in_features=458, out_features=1703, bias=True)\n",
      "  )\n",
      ")\n",
      "[2020-11-21 20:30:38,030][MainProcess][__main__][INFO] Epoch: 0\n",
      "[2020-11-21 20:30:38,031][MainProcess][__main__][INFO] Training...\n"
     ]
    },
    {
     "name": "stderr",
     "output_type": "stream",
     "text": [
      "/mount/arbeitsdaten46/projekte/dialog-1/kanjurva/Simple-QA-EMNLP-2018/venv2/lib/python3.6/site-packages/ipykernel_launcher.py:57: TqdmDeprecationWarning: This function will be removed in tqdm==5.0.0\n",
      "Please use `tqdm.notebook.tqdm` instead of `tqdm.tqdm_notebook`\n"
     ]
    },
    {
     "data": {
      "application/vnd.jupyter.widget-view+json": {
       "model_id": "b2cff386b49540719388090f2c5193f0",
       "version_major": 2,
       "version_minor": 0
      },
      "text/plain": [
       "HBox(children=(HTML(value=''), FloatProgress(value=0.0, max=2371.0), HTML(value='')))"
      ]
     },
     "metadata": {},
     "output_type": "display_data"
    },
    {
     "name": "stdout",
     "output_type": "stream",
     "text": [
      "\n",
      "[2020-11-21 20:31:26,077][MainProcess][lib.checkpoint][INFO] Saving checkpoint: ../../experiments/relation_classifier.11_21_20:05:46/78435.pt\n"
     ]
    },
    {
     "name": "stderr",
     "output_type": "stream",
     "text": [
      "/mount/arbeitsdaten46/projekte/dialog-1/kanjurva/Simple-QA-EMNLP-2018/venv2/lib/python3.6/site-packages/ipykernel_launcher.py:13: TqdmDeprecationWarning: This function will be removed in tqdm==5.0.0\n",
      "Please use `tqdm.notebook.tqdm` instead of `tqdm.tqdm_notebook`\n",
      "  del sys.path[0]\n"
     ]
    },
    {
     "data": {
      "application/vnd.jupyter.widget-view+json": {
       "model_id": "838e13357ba1436496910cc9954d7e9c",
       "version_major": 2,
       "version_minor": 0
      },
      "text/plain": [
       "HBox(children=(HTML(value=''), FloatProgress(value=0.0, max=2.0), HTML(value='')))"
      ]
     },
     "metadata": {},
     "output_type": "display_data"
    },
    {
     "name": "stdout",
     "output_type": "stream",
     "text": [
      "\n",
      "[2020-11-21 20:31:28,033][MainProcess][__main__][INFO] NLLLoss: 0.704\n",
      "[2020-11-21 20:31:28,097][MainProcess][lib.metrics.accuracy][INFO] Accuracy: 0.8232421875 [6744 of 8192]\n"
     ]
    },
    {
     "name": "stderr",
     "output_type": "stream",
     "text": [
      "\r",
      "  2%|▏         | 19.999999999999996/1000.0 [15:56<13:15:16, 48.69s/it, min_score=-.834, models_evaluated=0]"
     ]
    },
    {
     "name": "stdout",
     "output_type": "stream",
     "text": [
      "––––––––––––––––––––––––––––––––––––––––––––––––––––––––––––––––––––––––––––––––––––––––––––––––––––\n",
      "====================================================================================================\n",
      "[2020-11-21 20:31:28,146][MainProcess][lib.configurable][INFO] Checking configuration...\n",
      "[2020-11-21 20:31:28,148][MainProcess][lib.configurable][INFO] Configuration checked.\n",
      "[2020-11-21 20:31:28,149][MainProcess][lib.configurable][INFO] seq_to_label.SeqToLabel.__init__ was configured with:\n",
      "{   'bidirectional': True,\n",
      "    'decode_dropout': 0.263638835280829,\n",
      "    'embedding_dropout': 0.7139639369560445,\n",
      "    'embedding_size': 300,\n",
      "    'freeze_embeddings': True,\n",
      "    'input_vocab_size': 6899,\n",
      "    'output_vocab_size': 1703,\n",
      "    'rnn_cell': 'lstm',\n",
      "    'rnn_dropout': 0.10882877979103978,\n",
      "    'rnn_layers': 3,\n",
      "    'rnn_size': 344,\n",
      "    'rnn_variational_dropout': 0.0937179087167758}\n",
      "[2020-11-21 20:31:28,149][MainProcess][lib.configurable][INFO] seq_encoder.SeqEncoder.__init__ no config for: lib.nn.seq_encoder.SeqEncoder.__init__\n",
      "[2020-11-21 20:31:28,150][MainProcess][lib.configurable][INFO] seq_encoder.SeqEncoder.__init__ was configured with:\n",
      "{   'bidirectional': True,\n",
      "    'embedding_dropout': 0.7139639369560445,\n",
      "    'embedding_size': 300,\n",
      "    'freeze_embeddings': True,\n",
      "    'n_layers': 3,\n",
      "    'rnn_cell': 'lstm',\n",
      "    'rnn_dropout': 0.10882877979103978,\n",
      "    'rnn_size': 344,\n",
      "    'rnn_variational_dropout': 0.0937179087167758,\n",
      "    'vocab_size': 6899}\n",
      "[2020-11-21 20:31:28,376][MainProcess][lib.configurable][INFO] adam.Adam.__init__ was configured with:\n",
      "{'amsgrad': True, 'params': <filter object at 0x7f3c2e5a6f28>}\n",
      "[2020-11-21 20:31:28,377][MainProcess][lib.configurable][INFO] adam.Adam.__init__ was configured with:\n",
      "{'amsgrad': True, 'params': <filter object at 0x7f3c2e5a6f28>}\n",
      "[2020-11-21 20:31:28,379][MainProcess][lib.configurable][INFO] optimizer.Optimizer.__init__ was configured with:\n",
      "{   'max_grad_norm': 2.029866553422793,\n",
      "    'optim': <lib.optim.adam.Adam object at 0x7f3c2e5a6860>}\n",
      "[2020-11-21 20:31:28,380][MainProcess][__main__][INFO] Epochs: 1\n",
      "[2020-11-21 20:31:28,380][MainProcess][__main__][INFO] Train Dataset Size: 75900\n",
      "[2020-11-21 20:31:28,381][MainProcess][__main__][INFO] Dev Dataset Size: 10845\n",
      "[2020-11-21 20:31:28,381][MainProcess][__main__][INFO] Train Batch Size: 32\n",
      "[2020-11-21 20:31:28,382][MainProcess][__main__][INFO] Train Max Batch Size: 1024\n",
      "[2020-11-21 20:31:28,383][MainProcess][__main__][INFO] Total Parameters: 2784663\n",
      "[2020-11-21 20:31:28,384][MainProcess][__main__][INFO] Model:\n",
      "SeqToLabel(\n",
      "  (encoder): SeqEncoder(\n",
      "    (embedding): Embedding(6899, 300, padding_idx=0)\n",
      "    (rnn): LSTM(300, 172, num_layers=3, dropout=0.0937179087167758, bidirectional=True)\n",
      "    (rnn_dropout): LockedDropout(p=0.10882877979103978)\n",
      "    (embedding_dropout): Dropout(p=0.7139639369560445)\n",
      "  )\n",
      "  (out): Sequential(\n",
      "    (0): Linear(in_features=344, out_features=344, bias=True)\n",
      "    (1): BatchNorm1d(344, eps=1e-05, momentum=0.1, affine=True)\n",
      "    (2): ReLU()\n",
      "    (3): Dropout(p=0.263638835280829)\n",
      "    (4): Linear(in_features=344, out_features=1703, bias=True)\n",
      "  )\n",
      ")\n",
      "[2020-11-21 20:31:28,387][MainProcess][__main__][INFO] Epoch: 0\n",
      "[2020-11-21 20:31:28,388][MainProcess][__main__][INFO] Training...\n"
     ]
    },
    {
     "name": "stderr",
     "output_type": "stream",
     "text": [
      "/mount/arbeitsdaten46/projekte/dialog-1/kanjurva/Simple-QA-EMNLP-2018/venv2/lib/python3.6/site-packages/ipykernel_launcher.py:57: TqdmDeprecationWarning: This function will be removed in tqdm==5.0.0\n",
      "Please use `tqdm.notebook.tqdm` instead of `tqdm.tqdm_notebook`\n"
     ]
    },
    {
     "data": {
      "application/vnd.jupyter.widget-view+json": {
       "model_id": "6532f97a55af45efad592b263166513a",
       "version_major": 2,
       "version_minor": 0
      },
      "text/plain": [
       "HBox(children=(HTML(value=''), FloatProgress(value=0.0, max=2371.0), HTML(value='')))"
      ]
     },
     "metadata": {},
     "output_type": "display_data"
    },
    {
     "name": "stdout",
     "output_type": "stream",
     "text": [
      "\n",
      "[2020-11-21 20:33:03,191][MainProcess][lib.checkpoint][INFO] Saving checkpoint: ../../experiments/relation_classifier.11_21_20:05:46/78532.pt\n"
     ]
    },
    {
     "name": "stderr",
     "output_type": "stream",
     "text": [
      "/mount/arbeitsdaten46/projekte/dialog-1/kanjurva/Simple-QA-EMNLP-2018/venv2/lib/python3.6/site-packages/ipykernel_launcher.py:13: TqdmDeprecationWarning: This function will be removed in tqdm==5.0.0\n",
      "Please use `tqdm.notebook.tqdm` instead of `tqdm.tqdm_notebook`\n",
      "  del sys.path[0]\n"
     ]
    },
    {
     "data": {
      "application/vnd.jupyter.widget-view+json": {
       "model_id": "9cc50447682541bcb8df05639ebe2fb1",
       "version_major": 2,
       "version_minor": 0
      },
      "text/plain": [
       "HBox(children=(HTML(value=''), FloatProgress(value=0.0, max=2.0), HTML(value='')))"
      ]
     },
     "metadata": {},
     "output_type": "display_data"
    },
    {
     "name": "stdout",
     "output_type": "stream",
     "text": [
      "\n",
      "[2020-11-21 20:33:04,697][MainProcess][__main__][INFO] NLLLoss: 0.682\n",
      "[2020-11-21 20:33:04,755][MainProcess][lib.metrics.accuracy][INFO] Accuracy: 0.8131103515625 [6661 of 8192]\n"
     ]
    },
    {
     "name": "stderr",
     "output_type": "stream",
     "text": [
      "\r",
      "  2%|▏         | 21.111111111111107/1000.0 [17:33<16:21:48, 60.18s/it, min_score=-.834, models_evaluated=0]"
     ]
    },
    {
     "name": "stdout",
     "output_type": "stream",
     "text": [
      "––––––––––––––––––––––––––––––––––––––––––––––––––––––––––––––––––––––––––––––––––––––––––––––––––––\n",
      "====================================================================================================\n",
      "[2020-11-21 20:33:04,798][MainProcess][lib.configurable][INFO] Checking configuration...\n",
      "[2020-11-21 20:33:04,799][MainProcess][lib.configurable][INFO] Configuration checked.\n",
      "[2020-11-21 20:33:04,800][MainProcess][lib.configurable][INFO] seq_to_label.SeqToLabel.__init__ was configured with:\n",
      "{   'bidirectional': True,\n",
      "    'decode_dropout': 0.86048940505725,\n",
      "    'embedding_dropout': 0.6028615740611678,\n",
      "    'embedding_size': 300,\n",
      "    'freeze_embeddings': False,\n",
      "    'input_vocab_size': 6899,\n",
      "    'output_vocab_size': 1703,\n",
      "    'rnn_cell': 'gru',\n",
      "    'rnn_dropout': 0.25000136968692754,\n",
      "    'rnn_layers': 2,\n",
      "    'rnn_size': 178,\n",
      "    'rnn_variational_dropout': 0.8017129861300903}\n",
      "[2020-11-21 20:33:04,801][MainProcess][lib.configurable][INFO] seq_encoder.SeqEncoder.__init__ no config for: lib.nn.seq_encoder.SeqEncoder.__init__\n",
      "[2020-11-21 20:33:04,802][MainProcess][lib.configurable][INFO] seq_encoder.SeqEncoder.__init__ was configured with:\n",
      "{   'bidirectional': True,\n",
      "    'embedding_dropout': 0.6028615740611678,\n",
      "    'embedding_size': 300,\n",
      "    'freeze_embeddings': False,\n",
      "    'n_layers': 2,\n",
      "    'rnn_cell': 'gru',\n",
      "    'rnn_dropout': 0.25000136968692754,\n",
      "    'rnn_size': 178,\n",
      "    'rnn_variational_dropout': 0.8017129861300903,\n",
      "    'vocab_size': 6899}\n",
      "[2020-11-21 20:33:04,983][MainProcess][lib.configurable][INFO] adam.Adam.__init__ was configured with:\n",
      "{'amsgrad': True, 'params': <filter object at 0x7f3c3024e860>}\n",
      "[2020-11-21 20:33:04,984][MainProcess][lib.configurable][INFO] adam.Adam.__init__ was configured with:\n",
      "{'amsgrad': True, 'params': <filter object at 0x7f3c3024e860>}\n",
      "[2020-11-21 20:33:04,986][MainProcess][lib.configurable][INFO] optimizer.Optimizer.__init__ was configured with:\n",
      "{   'max_grad_norm': 0.48772443151887346,\n",
      "    'optim': <lib.optim.adam.Adam object at 0x7f3c3024e780>}\n",
      "[2020-11-21 20:33:04,987][MainProcess][__main__][INFO] Epochs: 1\n",
      "[2020-11-21 20:33:04,987][MainProcess][__main__][INFO] Train Dataset Size: 75900\n",
      "[2020-11-21 20:33:04,988][MainProcess][__main__][INFO] Dev Dataset Size: 10845\n",
      "[2020-11-21 20:33:04,990][MainProcess][__main__][INFO] Train Batch Size: 32\n",
      "[2020-11-21 20:33:04,991][MainProcess][__main__][INFO] Train Max Batch Size: 1024\n",
      "[2020-11-21 20:33:04,992][MainProcess][__main__][INFO] Total Parameters: 2759195\n",
      "[2020-11-21 20:33:04,993][MainProcess][__main__][INFO] Model:\n",
      "SeqToLabel(\n",
      "  (encoder): SeqEncoder(\n",
      "    (embedding): Embedding(6899, 300, padding_idx=0)\n",
      "    (rnn): GRU(300, 89, num_layers=2, dropout=0.8017129861300903, bidirectional=True)\n",
      "    (rnn_dropout): LockedDropout(p=0.25000136968692754)\n",
      "    (embedding_dropout): Dropout(p=0.6028615740611678)\n",
      "  )\n",
      "  (out): Sequential(\n",
      "    (0): Linear(in_features=178, out_features=178, bias=True)\n",
      "    (1): BatchNorm1d(178, eps=1e-05, momentum=0.1, affine=True)\n",
      "    (2): ReLU()\n",
      "    (3): Dropout(p=0.86048940505725)\n",
      "    (4): Linear(in_features=178, out_features=1703, bias=True)\n",
      "  )\n",
      ")\n",
      "[2020-11-21 20:33:04,995][MainProcess][__main__][INFO] Epoch: 0\n",
      "[2020-11-21 20:33:04,996][MainProcess][__main__][INFO] Training...\n"
     ]
    },
    {
     "name": "stderr",
     "output_type": "stream",
     "text": [
      "/mount/arbeitsdaten46/projekte/dialog-1/kanjurva/Simple-QA-EMNLP-2018/venv2/lib/python3.6/site-packages/ipykernel_launcher.py:57: TqdmDeprecationWarning: This function will be removed in tqdm==5.0.0\n",
      "Please use `tqdm.notebook.tqdm` instead of `tqdm.tqdm_notebook`\n"
     ]
    },
    {
     "data": {
      "application/vnd.jupyter.widget-view+json": {
       "model_id": "d00919c520a143b3a12f4f061217e49c",
       "version_major": 2,
       "version_minor": 0
      },
      "text/plain": [
       "HBox(children=(HTML(value=''), FloatProgress(value=0.0, max=2371.0), HTML(value='')))"
      ]
     },
     "metadata": {},
     "output_type": "display_data"
    },
    {
     "name": "stdout",
     "output_type": "stream",
     "text": [
      "\n",
      "[2020-11-21 20:34:29,264][MainProcess][lib.checkpoint][INFO] Saving checkpoint: ../../experiments/relation_classifier.11_21_20:05:46/78618.pt\n"
     ]
    },
    {
     "name": "stderr",
     "output_type": "stream",
     "text": [
      "/mount/arbeitsdaten46/projekte/dialog-1/kanjurva/Simple-QA-EMNLP-2018/venv2/lib/python3.6/site-packages/ipykernel_launcher.py:13: TqdmDeprecationWarning: This function will be removed in tqdm==5.0.0\n",
      "Please use `tqdm.notebook.tqdm` instead of `tqdm.tqdm_notebook`\n",
      "  del sys.path[0]\n"
     ]
    },
    {
     "data": {
      "application/vnd.jupyter.widget-view+json": {
       "model_id": "f5d6869a288c48eeaeff59e536f413ff",
       "version_major": 2,
       "version_minor": 0
      },
      "text/plain": [
       "HBox(children=(HTML(value=''), FloatProgress(value=0.0, max=2.0), HTML(value='')))"
      ]
     },
     "metadata": {},
     "output_type": "display_data"
    },
    {
     "name": "stdout",
     "output_type": "stream",
     "text": [
      "\n",
      "[2020-11-21 20:34:30,551][MainProcess][__main__][INFO] NLLLoss: 1.420\n",
      "[2020-11-21 20:34:30,622][MainProcess][lib.metrics.accuracy][INFO] Accuracy: 0.6632080078125 [5433 of 8192]\n"
     ]
    },
    {
     "name": "stderr",
     "output_type": "stream",
     "text": [
      "\r",
      "  2%|▏         | 22.222222222222218/1000.0 [18:59<17:44:16, 65.31s/it, min_score=-.834, models_evaluated=0]"
     ]
    },
    {
     "name": "stdout",
     "output_type": "stream",
     "text": [
      "––––––––––––––––––––––––––––––––––––––––––––––––––––––––––––––––––––––––––––––––––––––––––––––––––––\n",
      "====================================================================================================\n",
      "[2020-11-21 20:34:30,656][MainProcess][lib.configurable][INFO] Checking configuration...\n",
      "[2020-11-21 20:34:30,658][MainProcess][lib.configurable][INFO] Configuration checked.\n",
      "[2020-11-21 20:34:30,660][MainProcess][lib.configurable][INFO] seq_to_label.SeqToLabel.__init__ was configured with:\n",
      "{   'bidirectional': True,\n",
      "    'decode_dropout': 0.6514682031378239,\n",
      "    'embedding_dropout': 0.025330257044873065,\n",
      "    'embedding_size': 300,\n",
      "    'freeze_embeddings': True,\n",
      "    'input_vocab_size': 6899,\n",
      "    'output_vocab_size': 1703,\n",
      "    'rnn_cell': 'gru',\n",
      "    'rnn_dropout': 0.055205829645816405,\n",
      "    'rnn_layers': 1,\n",
      "    'rnn_size': 500,\n",
      "    'rnn_variational_dropout': 0.6253026676582191}\n",
      "[2020-11-21 20:34:30,661][MainProcess][lib.configurable][INFO] seq_encoder.SeqEncoder.__init__ no config for: lib.nn.seq_encoder.SeqEncoder.__init__\n",
      "[2020-11-21 20:34:30,663][MainProcess][lib.configurable][INFO] seq_encoder.SeqEncoder.__init__ was configured with:\n",
      "{   'bidirectional': True,\n",
      "    'embedding_dropout': 0.025330257044873065,\n",
      "    'embedding_size': 300,\n",
      "    'freeze_embeddings': True,\n",
      "    'n_layers': 1,\n",
      "    'rnn_cell': 'gru',\n",
      "    'rnn_dropout': 0.055205829645816405,\n",
      "    'rnn_size': 500,\n",
      "    'rnn_variational_dropout': 0.6253026676582191,\n",
      "    'vocab_size': 6899}\n",
      "[2020-11-21 20:34:30,937][MainProcess][lib.configurable][INFO] adam.Adam.__init__ was configured with:\n",
      "{'amsgrad': True, 'params': <filter object at 0x7f3c2f7a00b8>}\n",
      "[2020-11-21 20:34:30,938][MainProcess][lib.configurable][INFO] adam.Adam.__init__ was configured with:\n",
      "{'amsgrad': True, 'params': <filter object at 0x7f3c2f7a00b8>}\n",
      "[2020-11-21 20:34:30,940][MainProcess][lib.configurable][INFO] optimizer.Optimizer.__init__ was configured with:\n",
      "{   'max_grad_norm': 4.450389417840439,\n",
      "    'optim': <lib.optim.adam.Adam object at 0x7f3c2990fe10>}\n",
      "[2020-11-21 20:34:30,941][MainProcess][__main__][INFO] Epochs: 1\n",
      "[2020-11-21 20:34:30,942][MainProcess][__main__][INFO] Train Dataset Size: 75900\n",
      "[2020-11-21 20:34:30,943][MainProcess][__main__][INFO] Dev Dataset Size: 10845\n",
      "[2020-11-21 20:34:30,944][MainProcess][__main__][INFO] Train Batch Size: 32\n",
      "[2020-11-21 20:34:30,945][MainProcess][__main__][INFO] Train Max Batch Size: 1024\n",
      "[2020-11-21 20:34:30,946][MainProcess][__main__][INFO] Total Parameters: 1932703\n",
      "[2020-11-21 20:34:30,948][MainProcess][__main__][INFO] Model:\n",
      "SeqToLabel(\n",
      "  (encoder): SeqEncoder(\n",
      "    (embedding): Embedding(6899, 300, padding_idx=0)\n",
      "    (rnn): GRU(300, 250, dropout=0.6253026676582191, bidirectional=True)\n",
      "    (rnn_dropout): LockedDropout(p=0.055205829645816405)\n",
      "    (embedding_dropout): Dropout(p=0.025330257044873065)\n",
      "  )\n",
      "  (out): Sequential(\n",
      "    (0): Linear(in_features=500, out_features=500, bias=True)\n",
      "    (1): BatchNorm1d(500, eps=1e-05, momentum=0.1, affine=True)\n",
      "    (2): ReLU()\n",
      "    (3): Dropout(p=0.6514682031378239)\n",
      "    (4): Linear(in_features=500, out_features=1703, bias=True)\n",
      "  )\n",
      ")\n",
      "[2020-11-21 20:34:30,949][MainProcess][__main__][INFO] Epoch: 0\n",
      "[2020-11-21 20:34:30,950][MainProcess][__main__][INFO] Training...\n"
     ]
    },
    {
     "name": "stderr",
     "output_type": "stream",
     "text": [
      "/mount/arbeitsdaten46/projekte/dialog-1/kanjurva/Simple-QA-EMNLP-2018/venv2/lib/python3.6/site-packages/ipykernel_launcher.py:57: TqdmDeprecationWarning: This function will be removed in tqdm==5.0.0\n",
      "Please use `tqdm.notebook.tqdm` instead of `tqdm.tqdm_notebook`\n"
     ]
    },
    {
     "data": {
      "application/vnd.jupyter.widget-view+json": {
       "model_id": "6caf29808fbd4c0d9cec112b3e229f9e",
       "version_major": 2,
       "version_minor": 0
      },
      "text/plain": [
       "HBox(children=(HTML(value=''), FloatProgress(value=0.0, max=2371.0), HTML(value='')))"
      ]
     },
     "metadata": {},
     "output_type": "display_data"
    },
    {
     "name": "stdout",
     "output_type": "stream",
     "text": [
      "\n",
      "[2020-11-21 20:35:19,249][MainProcess][lib.checkpoint][INFO] Saving checkpoint: ../../experiments/relation_classifier.11_21_20:05:46/78668.pt\n"
     ]
    },
    {
     "name": "stderr",
     "output_type": "stream",
     "text": [
      "/mount/arbeitsdaten46/projekte/dialog-1/kanjurva/Simple-QA-EMNLP-2018/venv2/lib/python3.6/site-packages/ipykernel_launcher.py:13: TqdmDeprecationWarning: This function will be removed in tqdm==5.0.0\n",
      "Please use `tqdm.notebook.tqdm` instead of `tqdm.tqdm_notebook`\n",
      "  del sys.path[0]\n"
     ]
    },
    {
     "data": {
      "application/vnd.jupyter.widget-view+json": {
       "model_id": "683069e28bff43da8ee47cba4d666c35",
       "version_major": 2,
       "version_minor": 0
      },
      "text/plain": [
       "HBox(children=(HTML(value=''), FloatProgress(value=0.0, max=2.0), HTML(value='')))"
      ]
     },
     "metadata": {},
     "output_type": "display_data"
    },
    {
     "name": "stdout",
     "output_type": "stream",
     "text": [
      "\n",
      "[2020-11-21 20:35:20,354][MainProcess][__main__][INFO] NLLLoss: 0.662\n",
      "[2020-11-21 20:35:20,414][MainProcess][lib.metrics.accuracy][INFO] Accuracy: 0.843994140625 [6914 of 8192]\n"
     ]
    },
    {
     "name": "stderr",
     "output_type": "stream",
     "text": [
      "  2%|▏         | 23.33333333333333/1000.0 [19:48<16:03:01, 59.16s/it, min_score=-.844, models_evaluated=0] "
     ]
    },
    {
     "name": "stdout",
     "output_type": "stream",
     "text": [
      "––––––––––––––––––––––––––––––––––––––––––––––––––––––––––––––––––––––––––––––––––––––––––––––––––––\n",
      "====================================================================================================\n",
      "[2020-11-21 20:35:20,458][MainProcess][lib.configurable][INFO] Checking configuration...\n",
      "[2020-11-21 20:35:20,459][MainProcess][lib.configurable][INFO] Configuration checked.\n",
      "[2020-11-21 20:35:20,461][MainProcess][lib.configurable][INFO] seq_to_label.SeqToLabel.__init__ was configured with:\n",
      "{   'bidirectional': True,\n",
      "    'decode_dropout': 0.5930918118894832,\n",
      "    'embedding_dropout': 0.25227000338870686,\n",
      "    'embedding_size': 300,\n",
      "    'freeze_embeddings': True,\n",
      "    'input_vocab_size': 6899,\n",
      "    'output_vocab_size': 1703,\n",
      "    'rnn_cell': 'gru',\n",
      "    'rnn_dropout': 0.4056000588968817,\n",
      "    'rnn_layers': 3,\n",
      "    'rnn_size': 190,\n",
      "    'rnn_variational_dropout': 0.822567658816028}\n",
      "[2020-11-21 20:35:20,462][MainProcess][lib.configurable][INFO] seq_encoder.SeqEncoder.__init__ no config for: lib.nn.seq_encoder.SeqEncoder.__init__\n",
      "[2020-11-21 20:35:20,463][MainProcess][lib.configurable][INFO] seq_encoder.SeqEncoder.__init__ was configured with:\n",
      "{   'bidirectional': True,\n",
      "    'embedding_dropout': 0.25227000338870686,\n",
      "    'embedding_size': 300,\n",
      "    'freeze_embeddings': True,\n",
      "    'n_layers': 3,\n",
      "    'rnn_cell': 'gru',\n",
      "    'rnn_dropout': 0.4056000588968817,\n",
      "    'rnn_size': 190,\n",
      "    'rnn_variational_dropout': 0.822567658816028,\n",
      "    'vocab_size': 6899}\n",
      "[2020-11-21 20:35:20,661][MainProcess][lib.configurable][INFO] adam.Adam.__init__ was configured with:\n",
      "{'amsgrad': True, 'params': <filter object at 0x7f3c3066aef0>}\n",
      "[2020-11-21 20:35:20,662][MainProcess][lib.configurable][INFO] adam.Adam.__init__ was configured with:\n",
      "{'amsgrad': True, 'params': <filter object at 0x7f3c3066aef0>}\n",
      "[2020-11-21 20:35:20,663][MainProcess][lib.configurable][INFO] optimizer.Optimizer.__init__ was configured with:\n",
      "{   'max_grad_norm': 2.7099391585451946,\n",
      "    'optim': <lib.optim.adam.Adam object at 0x7f3c2b52b1d0>}\n",
      "[2020-11-21 20:35:20,664][MainProcess][__main__][INFO] Epochs: 1\n",
      "[2020-11-21 20:35:20,665][MainProcess][__main__][INFO] Train Dataset Size: 75900\n",
      "[2020-11-21 20:35:20,666][MainProcess][__main__][INFO] Dev Dataset Size: 10845\n",
      "[2020-11-21 20:35:20,667][MainProcess][__main__][INFO] Train Batch Size: 32\n",
      "[2020-11-21 20:35:20,668][MainProcess][__main__][INFO] Train Max Batch Size: 1024\n",
      "[2020-11-21 20:35:20,669][MainProcess][__main__][INFO] Total Parameters: 915413\n",
      "[2020-11-21 20:35:20,670][MainProcess][__main__][INFO] Model:\n",
      "SeqToLabel(\n",
      "  (encoder): SeqEncoder(\n",
      "    (embedding): Embedding(6899, 300, padding_idx=0)\n",
      "    (rnn): GRU(300, 95, num_layers=3, dropout=0.822567658816028, bidirectional=True)\n",
      "    (rnn_dropout): LockedDropout(p=0.4056000588968817)\n",
      "    (embedding_dropout): Dropout(p=0.25227000338870686)\n",
      "  )\n",
      "  (out): Sequential(\n",
      "    (0): Linear(in_features=190, out_features=190, bias=True)\n",
      "    (1): BatchNorm1d(190, eps=1e-05, momentum=0.1, affine=True)\n",
      "    (2): ReLU()\n",
      "    (3): Dropout(p=0.5930918118894832)\n",
      "    (4): Linear(in_features=190, out_features=1703, bias=True)\n",
      "  )\n",
      ")\n",
      "[2020-11-21 20:35:20,671][MainProcess][__main__][INFO] Epoch: 0\n",
      "[2020-11-21 20:35:20,672][MainProcess][__main__][INFO] Training...\n"
     ]
    },
    {
     "name": "stderr",
     "output_type": "stream",
     "text": [
      "/mount/arbeitsdaten46/projekte/dialog-1/kanjurva/Simple-QA-EMNLP-2018/venv2/lib/python3.6/site-packages/ipykernel_launcher.py:57: TqdmDeprecationWarning: This function will be removed in tqdm==5.0.0\n",
      "Please use `tqdm.notebook.tqdm` instead of `tqdm.tqdm_notebook`\n"
     ]
    },
    {
     "data": {
      "application/vnd.jupyter.widget-view+json": {
       "model_id": "5e702cffb7d94e788915629e2544e74b",
       "version_major": 2,
       "version_minor": 0
      },
      "text/plain": [
       "HBox(children=(HTML(value=''), FloatProgress(value=0.0, max=2371.0), HTML(value='')))"
      ]
     },
     "metadata": {},
     "output_type": "display_data"
    },
    {
     "name": "stdout",
     "output_type": "stream",
     "text": [
      "\n",
      "[2020-11-21 20:37:03,147][MainProcess][lib.checkpoint][INFO] Saving checkpoint: ../../experiments/relation_classifier.11_21_20:05:46/78772.pt\n"
     ]
    },
    {
     "name": "stderr",
     "output_type": "stream",
     "text": [
      "/mount/arbeitsdaten46/projekte/dialog-1/kanjurva/Simple-QA-EMNLP-2018/venv2/lib/python3.6/site-packages/ipykernel_launcher.py:13: TqdmDeprecationWarning: This function will be removed in tqdm==5.0.0\n",
      "Please use `tqdm.notebook.tqdm` instead of `tqdm.tqdm_notebook`\n",
      "  del sys.path[0]\n"
     ]
    },
    {
     "data": {
      "application/vnd.jupyter.widget-view+json": {
       "model_id": "d8a5eba5c7c34f05a9b6117760ac95e2",
       "version_major": 2,
       "version_minor": 0
      },
      "text/plain": [
       "HBox(children=(HTML(value=''), FloatProgress(value=0.0, max=2.0), HTML(value='')))"
      ]
     },
     "metadata": {},
     "output_type": "display_data"
    },
    {
     "name": "stdout",
     "output_type": "stream",
     "text": [
      "\n",
      "[2020-11-21 20:37:04,021][MainProcess][__main__][INFO] NLLLoss: 0.909\n",
      "[2020-11-21 20:37:04,080][MainProcess][lib.metrics.accuracy][INFO] Accuracy: 0.765625 [6272 of 8192]\n"
     ]
    },
    {
     "name": "stderr",
     "output_type": "stream",
     "text": [
      "\r",
      "  2%|▏         | 24.44444444444444/1000.0 [21:32<18:48:22, 69.40s/it, min_score=-.844, models_evaluated=0]"
     ]
    },
    {
     "name": "stdout",
     "output_type": "stream",
     "text": [
      "––––––––––––––––––––––––––––––––––––––––––––––––––––––––––––––––––––––––––––––––––––––––––––––––––––\n",
      "====================================================================================================\n",
      "[2020-11-21 20:37:04,107][MainProcess][lib.configurable][INFO] Checking configuration...\n",
      "[2020-11-21 20:37:04,108][MainProcess][lib.configurable][INFO] Configuration checked.\n",
      "[2020-11-21 20:37:04,110][MainProcess][lib.configurable][INFO] seq_to_label.SeqToLabel.__init__ was configured with:\n",
      "{   'bidirectional': True,\n",
      "    'decode_dropout': 0.6702413869680481,\n",
      "    'embedding_dropout': 0.5809568306667782,\n",
      "    'embedding_size': 300,\n",
      "    'freeze_embeddings': False,\n",
      "    'input_vocab_size': 6899,\n",
      "    'output_vocab_size': 1703,\n",
      "    'rnn_cell': 'lstm',\n",
      "    'rnn_dropout': 0.8018485432358412,\n",
      "    'rnn_layers': 3,\n",
      "    'rnn_size': 412,\n",
      "    'rnn_variational_dropout': 0.5848678402828847}\n",
      "[2020-11-21 20:37:04,110][MainProcess][lib.configurable][INFO] seq_encoder.SeqEncoder.__init__ no config for: lib.nn.seq_encoder.SeqEncoder.__init__\n",
      "[2020-11-21 20:37:04,111][MainProcess][lib.configurable][INFO] seq_encoder.SeqEncoder.__init__ was configured with:\n",
      "{   'bidirectional': True,\n",
      "    'embedding_dropout': 0.5809568306667782,\n",
      "    'embedding_size': 300,\n",
      "    'freeze_embeddings': False,\n",
      "    'n_layers': 3,\n",
      "    'rnn_cell': 'lstm',\n",
      "    'rnn_dropout': 0.8018485432358412,\n",
      "    'rnn_size': 412,\n",
      "    'rnn_variational_dropout': 0.5848678402828847,\n",
      "    'vocab_size': 6899}\n",
      "[2020-11-21 20:37:04,356][MainProcess][lib.configurable][INFO] adam.Adam.__init__ was configured with:\n",
      "{'amsgrad': True, 'params': <filter object at 0x7f3c2b52b278>}\n",
      "[2020-11-21 20:37:04,358][MainProcess][lib.configurable][INFO] adam.Adam.__init__ was configured with:\n",
      "{'amsgrad': True, 'params': <filter object at 0x7f3c2b52b278>}\n",
      "[2020-11-21 20:37:04,359][MainProcess][lib.configurable][INFO] optimizer.Optimizer.__init__ was configured with:\n",
      "{   'max_grad_norm': 4.416571182238425,\n",
      "    'optim': <lib.optim.adam.Adam object at 0x7f3c2b52b978>}\n",
      "[2020-11-21 20:37:04,360][MainProcess][__main__][INFO] Epochs: 1\n",
      "[2020-11-21 20:37:04,360][MainProcess][__main__][INFO] Train Dataset Size: 75900\n",
      "[2020-11-21 20:37:04,362][MainProcess][__main__][INFO] Dev Dataset Size: 10845\n",
      "[2020-11-21 20:37:04,363][MainProcess][__main__][INFO] Train Batch Size: 32\n",
      "[2020-11-21 20:37:04,363][MainProcess][__main__][INFO] Train Max Batch Size: 1024\n",
      "[2020-11-21 20:37:04,365][MainProcess][__main__][INFO] Total Parameters: 5824723\n",
      "[2020-11-21 20:37:04,366][MainProcess][__main__][INFO] Model:\n",
      "SeqToLabel(\n",
      "  (encoder): SeqEncoder(\n",
      "    (embedding): Embedding(6899, 300, padding_idx=0)\n",
      "    (rnn): LSTM(300, 206, num_layers=3, dropout=0.5848678402828847, bidirectional=True)\n",
      "    (rnn_dropout): LockedDropout(p=0.8018485432358412)\n",
      "    (embedding_dropout): Dropout(p=0.5809568306667782)\n",
      "  )\n",
      "  (out): Sequential(\n",
      "    (0): Linear(in_features=412, out_features=412, bias=True)\n",
      "    (1): BatchNorm1d(412, eps=1e-05, momentum=0.1, affine=True)\n",
      "    (2): ReLU()\n",
      "    (3): Dropout(p=0.6702413869680481)\n",
      "    (4): Linear(in_features=412, out_features=1703, bias=True)\n",
      "  )\n",
      ")\n",
      "[2020-11-21 20:37:04,367][MainProcess][__main__][INFO] Epoch: 0\n",
      "[2020-11-21 20:37:04,368][MainProcess][__main__][INFO] Training...\n"
     ]
    },
    {
     "name": "stderr",
     "output_type": "stream",
     "text": [
      "/mount/arbeitsdaten46/projekte/dialog-1/kanjurva/Simple-QA-EMNLP-2018/venv2/lib/python3.6/site-packages/ipykernel_launcher.py:57: TqdmDeprecationWarning: This function will be removed in tqdm==5.0.0\n",
      "Please use `tqdm.notebook.tqdm` instead of `tqdm.tqdm_notebook`\n"
     ]
    },
    {
     "data": {
      "application/vnd.jupyter.widget-view+json": {
       "model_id": "e11a129b21cc47e490f549ad827d8bd9",
       "version_major": 2,
       "version_minor": 0
      },
      "text/plain": [
       "HBox(children=(HTML(value=''), FloatProgress(value=0.0, max=2371.0), HTML(value='')))"
      ]
     },
     "metadata": {},
     "output_type": "display_data"
    },
    {
     "name": "stdout",
     "output_type": "stream",
     "text": [
      "\n",
      "[2020-11-21 20:38:39,864][MainProcess][lib.checkpoint][INFO] Saving checkpoint: ../../experiments/relation_classifier.11_21_20:05:46/78869.pt\n"
     ]
    },
    {
     "name": "stderr",
     "output_type": "stream",
     "text": [
      "/mount/arbeitsdaten46/projekte/dialog-1/kanjurva/Simple-QA-EMNLP-2018/venv2/lib/python3.6/site-packages/ipykernel_launcher.py:13: TqdmDeprecationWarning: This function will be removed in tqdm==5.0.0\n",
      "Please use `tqdm.notebook.tqdm` instead of `tqdm.tqdm_notebook`\n",
      "  del sys.path[0]\n"
     ]
    },
    {
     "data": {
      "application/vnd.jupyter.widget-view+json": {
       "model_id": "fbc2872fc8a344e4a8248c7d5b9085f8",
       "version_major": 2,
       "version_minor": 0
      },
      "text/plain": [
       "HBox(children=(HTML(value=''), FloatProgress(value=0.0, max=2.0), HTML(value='')))"
      ]
     },
     "metadata": {},
     "output_type": "display_data"
    },
    {
     "name": "stdout",
     "output_type": "stream",
     "text": [
      "\n",
      "[2020-11-21 20:38:42,931][MainProcess][__main__][INFO] NLLLoss: 0.816\n",
      "[2020-11-21 20:38:42,987][MainProcess][lib.metrics.accuracy][INFO] Accuracy: 0.7984619140625 [6541 of 8192]\n"
     ]
    },
    {
     "name": "stderr",
     "output_type": "stream",
     "text": [
      "\r",
      "  3%|▎         | 25.55555555555555/1000.0 [23:11<20:22:45, 75.29s/it, min_score=-.844, models_evaluated=0]"
     ]
    },
    {
     "name": "stdout",
     "output_type": "stream",
     "text": [
      "––––––––––––––––––––––––––––––––––––––––––––––––––––––––––––––––––––––––––––––––––––––––––––––––––––\n",
      "====================================================================================================\n",
      "[2020-11-21 20:38:43,033][MainProcess][lib.configurable][INFO] Checking configuration...\n",
      "[2020-11-21 20:38:43,035][MainProcess][lib.configurable][INFO] Configuration checked.\n",
      "[2020-11-21 20:38:43,036][MainProcess][lib.configurable][INFO] seq_to_label.SeqToLabel.__init__ was configured with:\n",
      "{   'bidirectional': True,\n",
      "    'decode_dropout': 0.82601280943983,\n",
      "    'embedding_dropout': 0.540854899771329,\n",
      "    'embedding_size': 300,\n",
      "    'freeze_embeddings': True,\n",
      "    'input_vocab_size': 6899,\n",
      "    'output_vocab_size': 1703,\n",
      "    'rnn_cell': 'lstm',\n",
      "    'rnn_dropout': 0.6438010400967317,\n",
      "    'rnn_layers': 3,\n",
      "    'rnn_size': 456,\n",
      "    'rnn_variational_dropout': 0.824826380453253}\n",
      "[2020-11-21 20:38:43,037][MainProcess][lib.configurable][INFO] seq_encoder.SeqEncoder.__init__ no config for: lib.nn.seq_encoder.SeqEncoder.__init__\n",
      "[2020-11-21 20:38:43,038][MainProcess][lib.configurable][INFO] seq_encoder.SeqEncoder.__init__ was configured with:\n",
      "{   'bidirectional': True,\n",
      "    'embedding_dropout': 0.540854899771329,\n",
      "    'embedding_size': 300,\n",
      "    'freeze_embeddings': True,\n",
      "    'n_layers': 3,\n",
      "    'rnn_cell': 'lstm',\n",
      "    'rnn_dropout': 0.6438010400967317,\n",
      "    'rnn_size': 456,\n",
      "    'rnn_variational_dropout': 0.824826380453253,\n",
      "    'vocab_size': 6899}\n",
      "[2020-11-21 20:38:43,293][MainProcess][lib.configurable][INFO] adam.Adam.__init__ was configured with:\n",
      "{'amsgrad': True, 'params': <filter object at 0x7f3c2b52b978>}\n",
      "[2020-11-21 20:38:43,294][MainProcess][lib.configurable][INFO] adam.Adam.__init__ was configured with:\n",
      "{'amsgrad': True, 'params': <filter object at 0x7f3c2b52b978>}\n",
      "[2020-11-21 20:38:43,296][MainProcess][lib.configurable][INFO] optimizer.Optimizer.__init__ was configured with:\n",
      "{   'max_grad_norm': 3.925334112507023,\n",
      "    'optim': <lib.optim.adam.Adam object at 0x7f3c2b52b1d0>}\n",
      "[2020-11-21 20:38:43,297][MainProcess][__main__][INFO] Epochs: 1\n",
      "[2020-11-21 20:38:43,299][MainProcess][__main__][INFO] Train Dataset Size: 75900\n",
      "[2020-11-21 20:38:43,299][MainProcess][__main__][INFO] Dev Dataset Size: 10845\n",
      "[2020-11-21 20:38:43,300][MainProcess][__main__][INFO] Train Batch Size: 32\n",
      "[2020-11-21 20:38:43,300][MainProcess][__main__][INFO] Train Max Batch Size: 1024\n",
      "[2020-11-21 20:38:43,301][MainProcess][__main__][INFO] Total Parameters: 4456823\n",
      "[2020-11-21 20:38:43,303][MainProcess][__main__][INFO] Model:\n",
      "SeqToLabel(\n",
      "  (encoder): SeqEncoder(\n",
      "    (embedding): Embedding(6899, 300, padding_idx=0)\n",
      "    (rnn): LSTM(300, 228, num_layers=3, dropout=0.824826380453253, bidirectional=True)\n",
      "    (rnn_dropout): LockedDropout(p=0.6438010400967317)\n",
      "    (embedding_dropout): Dropout(p=0.540854899771329)\n",
      "  )\n",
      "  (out): Sequential(\n",
      "    (0): Linear(in_features=456, out_features=456, bias=True)\n",
      "    (1): BatchNorm1d(456, eps=1e-05, momentum=0.1, affine=True)\n",
      "    (2): ReLU()\n",
      "    (3): Dropout(p=0.82601280943983)\n",
      "    (4): Linear(in_features=456, out_features=1703, bias=True)\n",
      "  )\n",
      ")\n",
      "[2020-11-21 20:38:43,303][MainProcess][__main__][INFO] Epoch: 0\n",
      "[2020-11-21 20:38:43,304][MainProcess][__main__][INFO] Training...\n"
     ]
    },
    {
     "name": "stderr",
     "output_type": "stream",
     "text": [
      "/mount/arbeitsdaten46/projekte/dialog-1/kanjurva/Simple-QA-EMNLP-2018/venv2/lib/python3.6/site-packages/ipykernel_launcher.py:57: TqdmDeprecationWarning: This function will be removed in tqdm==5.0.0\n",
      "Please use `tqdm.notebook.tqdm` instead of `tqdm.tqdm_notebook`\n"
     ]
    },
    {
     "data": {
      "application/vnd.jupyter.widget-view+json": {
       "model_id": "f15d426d126a4f3fae26b72f4dbd23a4",
       "version_major": 2,
       "version_minor": 0
      },
      "text/plain": [
       "HBox(children=(HTML(value=''), FloatProgress(value=0.0, max=2371.0), HTML(value='')))"
      ]
     },
     "metadata": {},
     "output_type": "display_data"
    },
    {
     "name": "stdout",
     "output_type": "stream",
     "text": [
      "\n",
      "[2020-11-21 20:40:21,361][MainProcess][lib.checkpoint][INFO] Saving checkpoint: ../../experiments/relation_classifier.11_21_20:05:46/78971.pt\n"
     ]
    },
    {
     "name": "stderr",
     "output_type": "stream",
     "text": [
      "/mount/arbeitsdaten46/projekte/dialog-1/kanjurva/Simple-QA-EMNLP-2018/venv2/lib/python3.6/site-packages/ipykernel_launcher.py:13: TqdmDeprecationWarning: This function will be removed in tqdm==5.0.0\n",
      "Please use `tqdm.notebook.tqdm` instead of `tqdm.tqdm_notebook`\n",
      "  del sys.path[0]\n"
     ]
    },
    {
     "data": {
      "application/vnd.jupyter.widget-view+json": {
       "model_id": "f0b6cf83bdd7407e856b540ad272383c",
       "version_major": 2,
       "version_minor": 0
      },
      "text/plain": [
       "HBox(children=(HTML(value=''), FloatProgress(value=0.0, max=2.0), HTML(value='')))"
      ]
     },
     "metadata": {},
     "output_type": "display_data"
    },
    {
     "name": "stdout",
     "output_type": "stream",
     "text": [
      "\n",
      "[2020-11-21 20:40:23,646][MainProcess][__main__][INFO] NLLLoss: 1.152\n",
      "[2020-11-21 20:40:23,700][MainProcess][lib.metrics.accuracy][INFO] Accuracy: 0.698486328125 [5722 of 8192]\n"
     ]
    },
    {
     "name": "stderr",
     "output_type": "stream",
     "text": [
      "\r",
      "  3%|▎         | 26.66666666666666/1000.0 [24:52<21:36:04, 79.89s/it, min_score=-.844, models_evaluated=0]"
     ]
    },
    {
     "name": "stdout",
     "output_type": "stream",
     "text": [
      "––––––––––––––––––––––––––––––––––––––––––––––––––––––––––––––––––––––––––––––––––––––––––––––––––––\n",
      "====================================================================================================\n",
      "[2020-11-21 20:40:23,745][MainProcess][lib.configurable][INFO] Checking configuration...\n",
      "[2020-11-21 20:40:23,746][MainProcess][lib.configurable][INFO] Configuration checked.\n",
      "[2020-11-21 20:40:23,747][MainProcess][lib.configurable][INFO] seq_to_label.SeqToLabel.__init__ was configured with:\n",
      "{   'bidirectional': True,\n",
      "    'decode_dropout': 0.41635024256343817,\n",
      "    'embedding_dropout': 0.38381753945918523,\n",
      "    'embedding_size': 300,\n",
      "    'freeze_embeddings': False,\n",
      "    'input_vocab_size': 6899,\n",
      "    'output_vocab_size': 1703,\n",
      "    'rnn_cell': 'lstm',\n",
      "    'rnn_dropout': 0.15886298661703058,\n",
      "    'rnn_layers': 3,\n",
      "    'rnn_size': 166,\n",
      "    'rnn_variational_dropout': 0.7389256269961053}\n",
      "[2020-11-21 20:40:23,749][MainProcess][lib.configurable][INFO] seq_encoder.SeqEncoder.__init__ no config for: lib.nn.seq_encoder.SeqEncoder.__init__\n",
      "[2020-11-21 20:40:23,750][MainProcess][lib.configurable][INFO] seq_encoder.SeqEncoder.__init__ was configured with:\n",
      "{   'bidirectional': True,\n",
      "    'embedding_dropout': 0.38381753945918523,\n",
      "    'embedding_size': 300,\n",
      "    'freeze_embeddings': False,\n",
      "    'n_layers': 3,\n",
      "    'rnn_cell': 'lstm',\n",
      "    'rnn_dropout': 0.15886298661703058,\n",
      "    'rnn_size': 166,\n",
      "    'rnn_variational_dropout': 0.7389256269961053,\n",
      "    'vocab_size': 6899}\n",
      "[2020-11-21 20:40:23,914][MainProcess][lib.configurable][INFO] adam.Adam.__init__ was configured with:\n",
      "{'amsgrad': True, 'params': <filter object at 0x7f3c28f14390>}\n",
      "[2020-11-21 20:40:23,915][MainProcess][lib.configurable][INFO] adam.Adam.__init__ was configured with:\n",
      "{'amsgrad': True, 'params': <filter object at 0x7f3c28f14390>}\n",
      "[2020-11-21 20:40:23,917][MainProcess][lib.configurable][INFO] optimizer.Optimizer.__init__ was configured with:\n",
      "{   'max_grad_norm': 3.9211854008529357,\n",
      "    'optim': <lib.optim.adam.Adam object at 0x7f3c28f145f8>}\n",
      "[2020-11-21 20:40:23,918][MainProcess][__main__][INFO] Epochs: 1\n",
      "[2020-11-21 20:40:23,919][MainProcess][__main__][INFO] Train Dataset Size: 75900\n",
      "[2020-11-21 20:40:23,919][MainProcess][__main__][INFO] Dev Dataset Size: 10845\n",
      "[2020-11-21 20:40:23,920][MainProcess][__main__][INFO] Train Batch Size: 32\n",
      "[2020-11-21 20:40:23,921][MainProcess][__main__][INFO] Train Max Batch Size: 1024\n",
      "[2020-11-21 20:40:23,921][MainProcess][__main__][INFO] Total Parameters: 2971123\n",
      "[2020-11-21 20:40:23,922][MainProcess][__main__][INFO] Model:\n",
      "SeqToLabel(\n",
      "  (encoder): SeqEncoder(\n",
      "    (embedding): Embedding(6899, 300, padding_idx=0)\n",
      "    (rnn): LSTM(300, 83, num_layers=3, dropout=0.7389256269961053, bidirectional=True)\n",
      "    (rnn_dropout): LockedDropout(p=0.15886298661703058)\n",
      "    (embedding_dropout): Dropout(p=0.38381753945918523)\n",
      "  )\n",
      "  (out): Sequential(\n",
      "    (0): Linear(in_features=166, out_features=166, bias=True)\n",
      "    (1): BatchNorm1d(166, eps=1e-05, momentum=0.1, affine=True)\n",
      "    (2): ReLU()\n",
      "    (3): Dropout(p=0.41635024256343817)\n",
      "    (4): Linear(in_features=166, out_features=1703, bias=True)\n",
      "  )\n",
      ")\n",
      "[2020-11-21 20:40:23,925][MainProcess][__main__][INFO] Epoch: 0\n",
      "[2020-11-21 20:40:23,925][MainProcess][__main__][INFO] Training...\n"
     ]
    },
    {
     "name": "stderr",
     "output_type": "stream",
     "text": [
      "/mount/arbeitsdaten46/projekte/dialog-1/kanjurva/Simple-QA-EMNLP-2018/venv2/lib/python3.6/site-packages/ipykernel_launcher.py:57: TqdmDeprecationWarning: This function will be removed in tqdm==5.0.0\n",
      "Please use `tqdm.notebook.tqdm` instead of `tqdm.tqdm_notebook`\n"
     ]
    },
    {
     "data": {
      "application/vnd.jupyter.widget-view+json": {
       "model_id": "72350723e6c745d9ad2f96dc69801e1d",
       "version_major": 2,
       "version_minor": 0
      },
      "text/plain": [
       "HBox(children=(HTML(value=''), FloatProgress(value=0.0, max=2371.0), HTML(value='')))"
      ]
     },
     "metadata": {},
     "output_type": "display_data"
    },
    {
     "name": "stdout",
     "output_type": "stream",
     "text": [
      "\n",
      "[2020-11-21 20:42:04,403][MainProcess][lib.checkpoint][INFO] Saving checkpoint: ../../experiments/relation_classifier.11_21_20:05:46/79074.pt\n"
     ]
    },
    {
     "name": "stderr",
     "output_type": "stream",
     "text": [
      "/mount/arbeitsdaten46/projekte/dialog-1/kanjurva/Simple-QA-EMNLP-2018/venv2/lib/python3.6/site-packages/ipykernel_launcher.py:13: TqdmDeprecationWarning: This function will be removed in tqdm==5.0.0\n",
      "Please use `tqdm.notebook.tqdm` instead of `tqdm.tqdm_notebook`\n",
      "  del sys.path[0]\n"
     ]
    },
    {
     "data": {
      "application/vnd.jupyter.widget-view+json": {
       "model_id": "9d581b2418364eaa93318dc40605cc72",
       "version_major": 2,
       "version_minor": 0
      },
      "text/plain": [
       "HBox(children=(HTML(value=''), FloatProgress(value=0.0, max=2.0), HTML(value='')))"
      ]
     },
     "metadata": {},
     "output_type": "display_data"
    },
    {
     "name": "stdout",
     "output_type": "stream",
     "text": [
      "\n",
      "[2020-11-21 20:42:05,568][MainProcess][__main__][INFO] NLLLoss: 0.794\n",
      "[2020-11-21 20:42:05,624][MainProcess][lib.metrics.accuracy][INFO] Accuracy: 0.7979736328125 [6537 of 8192]\n"
     ]
    },
    {
     "name": "stderr",
     "output_type": "stream",
     "text": [
      "\r",
      "  3%|▎         | 27.77777777777777/1000.0 [26:34<22:32:04, 83.44s/it, min_score=-.844, models_evaluated=0]"
     ]
    },
    {
     "name": "stdout",
     "output_type": "stream",
     "text": [
      "––––––––––––––––––––––––––––––––––––––––––––––––––––––––––––––––––––––––––––––––––––––––––––––––––––\n",
      "====================================================================================================\n",
      "[2020-11-21 20:42:05,656][MainProcess][lib.configurable][INFO] Checking configuration...\n",
      "[2020-11-21 20:42:05,658][MainProcess][lib.configurable][INFO] Configuration checked.\n",
      "[2020-11-21 20:42:05,659][MainProcess][lib.configurable][INFO] seq_to_label.SeqToLabel.__init__ was configured with:\n",
      "{   'bidirectional': True,\n",
      "    'decode_dropout': 0.34505203520914157,\n",
      "    'embedding_dropout': 0.19863375994026808,\n",
      "    'embedding_size': 300,\n",
      "    'freeze_embeddings': False,\n",
      "    'input_vocab_size': 6899,\n",
      "    'output_vocab_size': 1703,\n",
      "    'rnn_cell': 'gru',\n",
      "    'rnn_dropout': 0.8018937052707213,\n",
      "    'rnn_layers': 3,\n",
      "    'rnn_size': 480,\n",
      "    'rnn_variational_dropout': 0.6172336541314215}\n",
      "[2020-11-21 20:42:05,660][MainProcess][lib.configurable][INFO] seq_encoder.SeqEncoder.__init__ no config for: lib.nn.seq_encoder.SeqEncoder.__init__\n",
      "[2020-11-21 20:42:05,660][MainProcess][lib.configurable][INFO] seq_encoder.SeqEncoder.__init__ was configured with:\n",
      "{   'bidirectional': True,\n",
      "    'embedding_dropout': 0.19863375994026808,\n",
      "    'embedding_size': 300,\n",
      "    'freeze_embeddings': False,\n",
      "    'n_layers': 3,\n",
      "    'rnn_cell': 'gru',\n",
      "    'rnn_dropout': 0.8018937052707213,\n",
      "    'rnn_size': 480,\n",
      "    'rnn_variational_dropout': 0.6172336541314215,\n",
      "    'vocab_size': 6899}\n",
      "[2020-11-21 20:42:05,939][MainProcess][lib.configurable][INFO] adam.Adam.__init__ was configured with:\n",
      "{'amsgrad': True, 'params': <filter object at 0x7f3c31838ba8>}\n",
      "[2020-11-21 20:42:05,940][MainProcess][lib.configurable][INFO] adam.Adam.__init__ was configured with:\n",
      "{'amsgrad': True, 'params': <filter object at 0x7f3c31838ba8>}\n",
      "[2020-11-21 20:42:05,942][MainProcess][lib.configurable][INFO] optimizer.Optimizer.__init__ was configured with:\n",
      "{   'max_grad_norm': 1.856979553311505,\n",
      "    'optim': <lib.optim.adam.Adam object at 0x7f3c2ebd5d30>}\n",
      "[2020-11-21 20:42:05,943][MainProcess][__main__][INFO] Epochs: 1\n",
      "[2020-11-21 20:42:05,944][MainProcess][__main__][INFO] Train Dataset Size: 75900\n",
      "[2020-11-21 20:42:05,945][MainProcess][__main__][INFO] Dev Dataset Size: 10845\n",
      "[2020-11-21 20:42:05,946][MainProcess][__main__][INFO] Train Batch Size: 32\n",
      "[2020-11-21 20:42:05,947][MainProcess][__main__][INFO] Train Max Batch Size: 1024\n",
      "[2020-11-21 20:42:05,948][MainProcess][__main__][INFO] Total Parameters: 5980523\n",
      "[2020-11-21 20:42:05,948][MainProcess][__main__][INFO] Model:\n",
      "SeqToLabel(\n",
      "  (encoder): SeqEncoder(\n",
      "    (embedding): Embedding(6899, 300, padding_idx=0)\n",
      "    (rnn): GRU(300, 240, num_layers=3, dropout=0.6172336541314215, bidirectional=True)\n",
      "    (rnn_dropout): LockedDropout(p=0.8018937052707213)\n",
      "    (embedding_dropout): Dropout(p=0.19863375994026808)\n",
      "  )\n",
      "  (out): Sequential(\n",
      "    (0): Linear(in_features=480, out_features=480, bias=True)\n",
      "    (1): BatchNorm1d(480, eps=1e-05, momentum=0.1, affine=True)\n",
      "    (2): ReLU()\n",
      "    (3): Dropout(p=0.34505203520914157)\n",
      "    (4): Linear(in_features=480, out_features=1703, bias=True)\n",
      "  )\n",
      ")\n",
      "[2020-11-21 20:42:05,950][MainProcess][__main__][INFO] Epoch: 0\n",
      "[2020-11-21 20:42:05,950][MainProcess][__main__][INFO] Training...\n"
     ]
    },
    {
     "name": "stderr",
     "output_type": "stream",
     "text": [
      "/mount/arbeitsdaten46/projekte/dialog-1/kanjurva/Simple-QA-EMNLP-2018/venv2/lib/python3.6/site-packages/ipykernel_launcher.py:57: TqdmDeprecationWarning: This function will be removed in tqdm==5.0.0\n",
      "Please use `tqdm.notebook.tqdm` instead of `tqdm.tqdm_notebook`\n"
     ]
    },
    {
     "data": {
      "application/vnd.jupyter.widget-view+json": {
       "model_id": "92cc9260082244e39d422ce086f385de",
       "version_major": 2,
       "version_minor": 0
      },
      "text/plain": [
       "HBox(children=(HTML(value=''), FloatProgress(value=0.0, max=2371.0), HTML(value='')))"
      ]
     },
     "metadata": {},
     "output_type": "display_data"
    },
    {
     "name": "stdout",
     "output_type": "stream",
     "text": [
      "\n",
      "[2020-11-21 20:43:34,931][MainProcess][lib.checkpoint][INFO] Saving checkpoint: ../../experiments/relation_classifier.11_21_20:05:46/79164.pt\n"
     ]
    },
    {
     "name": "stderr",
     "output_type": "stream",
     "text": [
      "/mount/arbeitsdaten46/projekte/dialog-1/kanjurva/Simple-QA-EMNLP-2018/venv2/lib/python3.6/site-packages/ipykernel_launcher.py:13: TqdmDeprecationWarning: This function will be removed in tqdm==5.0.0\n",
      "Please use `tqdm.notebook.tqdm` instead of `tqdm.tqdm_notebook`\n",
      "  del sys.path[0]\n"
     ]
    },
    {
     "data": {
      "application/vnd.jupyter.widget-view+json": {
       "model_id": "fff144fecdb14111b0db461e8feb72ec",
       "version_major": 2,
       "version_minor": 0
      },
      "text/plain": [
       "HBox(children=(HTML(value=''), FloatProgress(value=0.0, max=2.0), HTML(value='')))"
      ]
     },
     "metadata": {},
     "output_type": "display_data"
    },
    {
     "name": "stdout",
     "output_type": "stream",
     "text": [
      "\n",
      "[2020-11-21 20:43:37,291][MainProcess][__main__][INFO] NLLLoss: 0.591\n",
      "[2020-11-21 20:43:37,496][MainProcess][lib.metrics.accuracy][INFO] Accuracy: 0.8499755859375 [6963 of 8192]\n"
     ]
    },
    {
     "name": "stderr",
     "output_type": "stream",
     "text": [
      "  3%|▎         | 28.888888888888882/1000.0 [28:06<22:26:59, 83.22s/it, min_score=-.85, models_evaluated=0] "
     ]
    },
    {
     "name": "stdout",
     "output_type": "stream",
     "text": [
      "––––––––––––––––––––––––––––––––––––––––––––––––––––––––––––––––––––––––––––––––––––––––––––––––––––\n",
      "====================================================================================================\n",
      "[2020-11-21 20:43:37,561][MainProcess][lib.configurable][INFO] Checking configuration...\n",
      "[2020-11-21 20:43:37,562][MainProcess][lib.configurable][INFO] Configuration checked.\n",
      "[2020-11-21 20:43:37,565][MainProcess][lib.configurable][INFO] seq_to_label.SeqToLabel.__init__ was configured with:\n",
      "{   'bidirectional': False,\n",
      "    'decode_dropout': 0.5655497478645602,\n",
      "    'embedding_dropout': 0.4349088260711158,\n",
      "    'embedding_size': 300,\n",
      "    'freeze_embeddings': True,\n",
      "    'input_vocab_size': 6899,\n",
      "    'output_vocab_size': 1703,\n",
      "    'rnn_cell': 'gru',\n",
      "    'rnn_dropout': 0.321027633051451,\n",
      "    'rnn_layers': 1,\n",
      "    'rnn_size': 386,\n",
      "    'rnn_variational_dropout': 0.10931089375643677}\n",
      "[2020-11-21 20:43:37,566][MainProcess][lib.configurable][INFO] seq_encoder.SeqEncoder.__init__ no config for: lib.nn.seq_encoder.SeqEncoder.__init__\n",
      "[2020-11-21 20:43:37,567][MainProcess][lib.configurable][INFO] seq_encoder.SeqEncoder.__init__ was configured with:\n",
      "{   'bidirectional': False,\n",
      "    'embedding_dropout': 0.4349088260711158,\n",
      "    'embedding_size': 300,\n",
      "    'freeze_embeddings': True,\n",
      "    'n_layers': 1,\n",
      "    'rnn_cell': 'gru',\n",
      "    'rnn_dropout': 0.321027633051451,\n",
      "    'rnn_size': 386,\n",
      "    'rnn_variational_dropout': 0.10931089375643677,\n",
      "    'vocab_size': 6899}\n",
      "[2020-11-21 20:43:37,885][MainProcess][lib.configurable][INFO] adam.Adam.__init__ was configured with:\n",
      "{'amsgrad': True, 'params': <filter object at 0x7f3c2ebd5e48>}\n",
      "[2020-11-21 20:43:37,887][MainProcess][lib.configurable][INFO] adam.Adam.__init__ was configured with:\n",
      "{'amsgrad': True, 'params': <filter object at 0x7f3c2ebd5e48>}\n",
      "[2020-11-21 20:43:37,888][MainProcess][lib.configurable][INFO] optimizer.Optimizer.__init__ was configured with:\n",
      "{   'max_grad_norm': 0.5768722778824499,\n",
      "    'optim': <lib.optim.adam.Adam object at 0x7f3ca4f844e0>}\n",
      "[2020-11-21 20:43:37,890][MainProcess][__main__][INFO] Epochs: 1\n",
      "[2020-11-21 20:43:37,890][MainProcess][__main__][INFO] Train Dataset Size: 75900\n",
      "[2020-11-21 20:43:37,891][MainProcess][__main__][INFO] Dev Dataset Size: 10845\n",
      "[2020-11-21 20:43:37,893][MainProcess][__main__][INFO] Train Batch Size: 32\n",
      "[2020-11-21 20:43:37,893][MainProcess][__main__][INFO] Train Max Batch Size: 1024\n",
      "[2020-11-21 20:43:37,894][MainProcess][__main__][INFO] Total Parameters: 1605919\n",
      "[2020-11-21 20:43:37,895][MainProcess][__main__][INFO] Model:\n",
      "SeqToLabel(\n",
      "  (encoder): SeqEncoder(\n",
      "    (embedding): Embedding(6899, 300, padding_idx=0)\n",
      "    (rnn): GRU(300, 386, dropout=0.10931089375643677)\n",
      "    (rnn_dropout): LockedDropout(p=0.321027633051451)\n",
      "    (embedding_dropout): Dropout(p=0.4349088260711158)\n",
      "  )\n",
      "  (out): Sequential(\n",
      "    (0): Linear(in_features=386, out_features=386, bias=True)\n",
      "    (1): BatchNorm1d(386, eps=1e-05, momentum=0.1, affine=True)\n",
      "    (2): ReLU()\n",
      "    (3): Dropout(p=0.5655497478645602)\n",
      "    (4): Linear(in_features=386, out_features=1703, bias=True)\n",
      "  )\n",
      ")\n",
      "[2020-11-21 20:43:37,896][MainProcess][__main__][INFO] Epoch: 0\n",
      "[2020-11-21 20:43:37,898][MainProcess][__main__][INFO] Training...\n"
     ]
    },
    {
     "name": "stderr",
     "output_type": "stream",
     "text": [
      "/mount/arbeitsdaten46/projekte/dialog-1/kanjurva/Simple-QA-EMNLP-2018/venv2/lib/python3.6/site-packages/ipykernel_launcher.py:57: TqdmDeprecationWarning: This function will be removed in tqdm==5.0.0\n",
      "Please use `tqdm.notebook.tqdm` instead of `tqdm.tqdm_notebook`\n"
     ]
    },
    {
     "data": {
      "application/vnd.jupyter.widget-view+json": {
       "model_id": "37d57115a0f1438999c73e96accfbce6",
       "version_major": 2,
       "version_minor": 0
      },
      "text/plain": [
       "HBox(children=(HTML(value=''), FloatProgress(value=0.0, max=2371.0), HTML(value='')))"
      ]
     },
     "metadata": {},
     "output_type": "display_data"
    },
    {
     "name": "stdout",
     "output_type": "stream",
     "text": [
      "\n",
      "[2020-11-21 20:44:21,969][MainProcess][lib.checkpoint][INFO] Saving checkpoint: ../../experiments/relation_classifier.11_21_20:05:46/79211.pt\n"
     ]
    },
    {
     "name": "stderr",
     "output_type": "stream",
     "text": [
      "/mount/arbeitsdaten46/projekte/dialog-1/kanjurva/Simple-QA-EMNLP-2018/venv2/lib/python3.6/site-packages/ipykernel_launcher.py:13: TqdmDeprecationWarning: This function will be removed in tqdm==5.0.0\n",
      "Please use `tqdm.notebook.tqdm` instead of `tqdm.tqdm_notebook`\n",
      "  del sys.path[0]\n"
     ]
    },
    {
     "data": {
      "application/vnd.jupyter.widget-view+json": {
       "model_id": "560bbe5d5ab64dd3b737bcc0516928c4",
       "version_major": 2,
       "version_minor": 0
      },
      "text/plain": [
       "HBox(children=(HTML(value=''), FloatProgress(value=0.0, max=2.0), HTML(value='')))"
      ]
     },
     "metadata": {},
     "output_type": "display_data"
    },
    {
     "name": "stdout",
     "output_type": "stream",
     "text": [
      "\n",
      "[2020-11-21 20:44:23,024][MainProcess][__main__][INFO] NLLLoss: 0.701\n",
      "[2020-11-21 20:44:23,086][MainProcess][lib.metrics.accuracy][INFO] Accuracy: 0.822509765625 [6738 of 8192]\n"
     ]
    },
    {
     "name": "stderr",
     "output_type": "stream",
     "text": [
      "\r",
      "  3%|▎         | 29.999999999999993/1000.0 [28:51<19:00:41, 70.56s/it, min_score=-.85, models_evaluated=0]"
     ]
    },
    {
     "name": "stdout",
     "output_type": "stream",
     "text": [
      "––––––––––––––––––––––––––––––––––––––––––––––––––––––––––––––––––––––––––––––––––––––––––––––––––––\n",
      "====================================================================================================\n",
      "[2020-11-21 20:44:23,124][MainProcess][lib.configurable][INFO] Checking configuration...\n",
      "[2020-11-21 20:44:23,125][MainProcess][lib.configurable][INFO] Configuration checked.\n",
      "[2020-11-21 20:44:23,127][MainProcess][lib.configurable][INFO] seq_to_label.SeqToLabel.__init__ was configured with:\n",
      "{   'bidirectional': True,\n",
      "    'decode_dropout': 0.6357658283620264,\n",
      "    'embedding_dropout': 0.5581518376219109,\n",
      "    'embedding_size': 300,\n",
      "    'freeze_embeddings': True,\n",
      "    'input_vocab_size': 6899,\n",
      "    'output_vocab_size': 1703,\n",
      "    'rnn_cell': 'lstm',\n",
      "    'rnn_dropout': 0.4212510643908896,\n",
      "    'rnn_layers': 3,\n",
      "    'rnn_size': 110,\n",
      "    'rnn_variational_dropout': 0.8354058547149344}\n",
      "[2020-11-21 20:44:23,128][MainProcess][lib.configurable][INFO] seq_encoder.SeqEncoder.__init__ no config for: lib.nn.seq_encoder.SeqEncoder.__init__\n",
      "[2020-11-21 20:44:23,129][MainProcess][lib.configurable][INFO] seq_encoder.SeqEncoder.__init__ was configured with:\n",
      "{   'bidirectional': True,\n",
      "    'embedding_dropout': 0.5581518376219109,\n",
      "    'embedding_size': 300,\n",
      "    'freeze_embeddings': True,\n",
      "    'n_layers': 3,\n",
      "    'rnn_cell': 'lstm',\n",
      "    'rnn_dropout': 0.4212510643908896,\n",
      "    'rnn_size': 110,\n",
      "    'rnn_variational_dropout': 0.8354058547149344,\n",
      "    'vocab_size': 6899}\n",
      "[2020-11-21 20:44:23,314][MainProcess][lib.configurable][INFO] adam.Adam.__init__ was configured with:\n",
      "{'amsgrad': True, 'params': <filter object at 0x7f3c2f80b7b8>}\n",
      "[2020-11-21 20:44:23,316][MainProcess][lib.configurable][INFO] adam.Adam.__init__ was configured with:\n",
      "{'amsgrad': True, 'params': <filter object at 0x7f3c2f80b7b8>}\n",
      "[2020-11-21 20:44:23,317][MainProcess][lib.configurable][INFO] optimizer.Optimizer.__init__ was configured with:\n",
      "{   'max_grad_norm': 0.6224998602734517,\n",
      "    'optim': <lib.optim.adam.Adam object at 0x7f3c2a4b4390>}\n",
      "[2020-11-21 20:44:23,318][MainProcess][__main__][INFO] Epochs: 1\n",
      "[2020-11-21 20:44:23,319][MainProcess][__main__][INFO] Train Dataset Size: 75900\n",
      "[2020-11-21 20:44:23,319][MainProcess][__main__][INFO] Dev Dataset Size: 10845\n",
      "[2020-11-21 20:44:23,320][MainProcess][__main__][INFO] Train Batch Size: 32\n",
      "[2020-11-21 20:44:23,320][MainProcess][__main__][INFO] Train Max Batch Size: 1024\n",
      "[2020-11-21 20:44:23,321][MainProcess][__main__][INFO] Total Parameters: 505503\n",
      "[2020-11-21 20:44:23,322][MainProcess][__main__][INFO] Model:\n",
      "SeqToLabel(\n",
      "  (encoder): SeqEncoder(\n",
      "    (embedding): Embedding(6899, 300, padding_idx=0)\n",
      "    (rnn): LSTM(300, 55, num_layers=3, dropout=0.8354058547149344, bidirectional=True)\n",
      "    (rnn_dropout): LockedDropout(p=0.4212510643908896)\n",
      "    (embedding_dropout): Dropout(p=0.5581518376219109)\n",
      "  )\n",
      "  (out): Sequential(\n",
      "    (0): Linear(in_features=110, out_features=110, bias=True)\n",
      "    (1): BatchNorm1d(110, eps=1e-05, momentum=0.1, affine=True)\n",
      "    (2): ReLU()\n",
      "    (3): Dropout(p=0.6357658283620264)\n",
      "    (4): Linear(in_features=110, out_features=1703, bias=True)\n",
      "  )\n",
      ")\n",
      "[2020-11-21 20:44:23,323][MainProcess][__main__][INFO] Epoch: 0\n",
      "[2020-11-21 20:44:23,323][MainProcess][__main__][INFO] Training...\n"
     ]
    },
    {
     "name": "stderr",
     "output_type": "stream",
     "text": [
      "/mount/arbeitsdaten46/projekte/dialog-1/kanjurva/Simple-QA-EMNLP-2018/venv2/lib/python3.6/site-packages/ipykernel_launcher.py:57: TqdmDeprecationWarning: This function will be removed in tqdm==5.0.0\n",
      "Please use `tqdm.notebook.tqdm` instead of `tqdm.tqdm_notebook`\n"
     ]
    },
    {
     "data": {
      "application/vnd.jupyter.widget-view+json": {
       "model_id": "21da70ad5c3d435388c7e4e83be1bdba",
       "version_major": 2,
       "version_minor": 0
      },
      "text/plain": [
       "HBox(children=(HTML(value=''), FloatProgress(value=0.0, max=2371.0), HTML(value='')))"
      ]
     },
     "metadata": {},
     "output_type": "display_data"
    },
    {
     "name": "stdout",
     "output_type": "stream",
     "text": [
      "\n",
      "[2020-11-21 20:45:52,215][MainProcess][lib.checkpoint][INFO] Saving checkpoint: ../../experiments/relation_classifier.11_21_20:05:46/79301.pt\n"
     ]
    },
    {
     "name": "stderr",
     "output_type": "stream",
     "text": [
      "/mount/arbeitsdaten46/projekte/dialog-1/kanjurva/Simple-QA-EMNLP-2018/venv2/lib/python3.6/site-packages/ipykernel_launcher.py:13: TqdmDeprecationWarning: This function will be removed in tqdm==5.0.0\n",
      "Please use `tqdm.notebook.tqdm` instead of `tqdm.tqdm_notebook`\n",
      "  del sys.path[0]\n"
     ]
    },
    {
     "data": {
      "application/vnd.jupyter.widget-view+json": {
       "model_id": "880f1de614a6474da40a063eee523e8a",
       "version_major": 2,
       "version_minor": 0
      },
      "text/plain": [
       "HBox(children=(HTML(value=''), FloatProgress(value=0.0, max=2.0), HTML(value='')))"
      ]
     },
     "metadata": {},
     "output_type": "display_data"
    },
    {
     "name": "stdout",
     "output_type": "stream",
     "text": [
      "\n",
      "[2020-11-21 20:45:52,965][MainProcess][__main__][INFO] NLLLoss: 1.197\n",
      "[2020-11-21 20:45:53,023][MainProcess][lib.metrics.accuracy][INFO] Accuracy: 0.658935546875 [5398 of 8192]\n"
     ]
    },
    {
     "name": "stderr",
     "output_type": "stream",
     "text": [
      "\r",
      "  3%|▎         | 31.111111111111104/1000.0 [30:21<19:49:39, 73.67s/it, min_score=-.85, models_evaluated=0]"
     ]
    },
    {
     "name": "stdout",
     "output_type": "stream",
     "text": [
      "––––––––––––––––––––––––––––––––––––––––––––––––––––––––––––––––––––––––––––––––––––––––––––––––––––\n",
      "====================================================================================================\n",
      "[2020-11-21 20:45:53,050][MainProcess][lib.configurable][INFO] Checking configuration...\n",
      "[2020-11-21 20:45:53,051][MainProcess][lib.configurable][INFO] Configuration checked.\n",
      "[2020-11-21 20:45:53,053][MainProcess][lib.configurable][INFO] seq_to_label.SeqToLabel.__init__ was configured with:\n",
      "{   'bidirectional': False,\n",
      "    'decode_dropout': 0.6104704714323437,\n",
      "    'embedding_dropout': 0.6236746809527772,\n",
      "    'embedding_size': 300,\n",
      "    'freeze_embeddings': True,\n",
      "    'input_vocab_size': 6899,\n",
      "    'output_vocab_size': 1703,\n",
      "    'rnn_cell': 'lstm',\n",
      "    'rnn_dropout': 0.11519124623237935,\n",
      "    'rnn_layers': 2,\n",
      "    'rnn_size': 196,\n",
      "    'rnn_variational_dropout': 0.13600739196221334}\n",
      "[2020-11-21 20:45:53,054][MainProcess][lib.configurable][INFO] seq_encoder.SeqEncoder.__init__ no config for: lib.nn.seq_encoder.SeqEncoder.__init__\n",
      "[2020-11-21 20:45:53,055][MainProcess][lib.configurable][INFO] seq_encoder.SeqEncoder.__init__ was configured with:\n",
      "{   'bidirectional': False,\n",
      "    'embedding_dropout': 0.6236746809527772,\n",
      "    'embedding_size': 300,\n",
      "    'freeze_embeddings': True,\n",
      "    'n_layers': 2,\n",
      "    'rnn_cell': 'lstm',\n",
      "    'rnn_dropout': 0.11519124623237935,\n",
      "    'rnn_size': 196,\n",
      "    'rnn_variational_dropout': 0.13600739196221334,\n",
      "    'vocab_size': 6899}\n",
      "[2020-11-21 20:45:53,237][MainProcess][lib.configurable][INFO] adam.Adam.__init__ was configured with:\n",
      "{'amsgrad': True, 'params': <filter object at 0x7f3c3024e710>}\n",
      "[2020-11-21 20:45:53,238][MainProcess][lib.configurable][INFO] adam.Adam.__init__ was configured with:\n",
      "{'amsgrad': True, 'params': <filter object at 0x7f3c3024e710>}\n",
      "[2020-11-21 20:45:53,239][MainProcess][lib.configurable][INFO] optimizer.Optimizer.__init__ was configured with:\n",
      "{   'max_grad_norm': 1.950302180155779,\n",
      "    'optim': <lib.optim.adam.Adam object at 0x7f3c2ebd5e48>}\n",
      "[2020-11-21 20:45:53,240][MainProcess][__main__][INFO] Epochs: 1\n",
      "[2020-11-21 20:45:53,241][MainProcess][__main__][INFO] Train Dataset Size: 75900\n",
      "[2020-11-21 20:45:53,243][MainProcess][__main__][INFO] Dev Dataset Size: 10845\n",
      "[2020-11-21 20:45:53,243][MainProcess][__main__][INFO] Train Batch Size: 32\n",
      "[2020-11-21 20:45:53,244][MainProcess][__main__][INFO] Train Max Batch Size: 1024\n",
      "[2020-11-21 20:45:53,245][MainProcess][__main__][INFO] Total Parameters: 1073823\n",
      "[2020-11-21 20:45:53,246][MainProcess][__main__][INFO] Model:\n",
      "SeqToLabel(\n",
      "  (encoder): SeqEncoder(\n",
      "    (embedding): Embedding(6899, 300, padding_idx=0)\n",
      "    (rnn): LSTM(300, 196, num_layers=2, dropout=0.13600739196221334)\n",
      "    (rnn_dropout): LockedDropout(p=0.11519124623237935)\n",
      "    (embedding_dropout): Dropout(p=0.6236746809527772)\n",
      "  )\n",
      "  (out): Sequential(\n",
      "    (0): Linear(in_features=196, out_features=196, bias=True)\n",
      "    (1): BatchNorm1d(196, eps=1e-05, momentum=0.1, affine=True)\n",
      "    (2): ReLU()\n",
      "    (3): Dropout(p=0.6104704714323437)\n",
      "    (4): Linear(in_features=196, out_features=1703, bias=True)\n",
      "  )\n",
      ")\n",
      "[2020-11-21 20:45:53,247][MainProcess][__main__][INFO] Epoch: 0\n",
      "[2020-11-21 20:45:53,248][MainProcess][__main__][INFO] Training...\n"
     ]
    },
    {
     "name": "stderr",
     "output_type": "stream",
     "text": [
      "/mount/arbeitsdaten46/projekte/dialog-1/kanjurva/Simple-QA-EMNLP-2018/venv2/lib/python3.6/site-packages/ipykernel_launcher.py:57: TqdmDeprecationWarning: This function will be removed in tqdm==5.0.0\n",
      "Please use `tqdm.notebook.tqdm` instead of `tqdm.tqdm_notebook`\n"
     ]
    },
    {
     "data": {
      "application/vnd.jupyter.widget-view+json": {
       "model_id": "fa641a40d09d4b50b8581cc7118494a7",
       "version_major": 2,
       "version_minor": 0
      },
      "text/plain": [
       "HBox(children=(HTML(value=''), FloatProgress(value=0.0, max=2371.0), HTML(value='')))"
      ]
     },
     "metadata": {},
     "output_type": "display_data"
    },
    {
     "name": "stdout",
     "output_type": "stream",
     "text": [
      "\n",
      "[2020-11-21 20:46:49,462][MainProcess][lib.checkpoint][INFO] Saving checkpoint: ../../experiments/relation_classifier.11_21_20:05:46/79359.pt\n"
     ]
    },
    {
     "name": "stderr",
     "output_type": "stream",
     "text": [
      "/mount/arbeitsdaten46/projekte/dialog-1/kanjurva/Simple-QA-EMNLP-2018/venv2/lib/python3.6/site-packages/ipykernel_launcher.py:13: TqdmDeprecationWarning: This function will be removed in tqdm==5.0.0\n",
      "Please use `tqdm.notebook.tqdm` instead of `tqdm.tqdm_notebook`\n",
      "  del sys.path[0]\n"
     ]
    },
    {
     "data": {
      "application/vnd.jupyter.widget-view+json": {
       "model_id": "660b7296a9d440e585a1c7d640df04ff",
       "version_major": 2,
       "version_minor": 0
      },
      "text/plain": [
       "HBox(children=(HTML(value=''), FloatProgress(value=0.0, max=2.0), HTML(value='')))"
      ]
     },
     "metadata": {},
     "output_type": "display_data"
    },
    {
     "name": "stdout",
     "output_type": "stream",
     "text": [
      "\n",
      "[2020-11-21 20:46:50,303][MainProcess][__main__][INFO] NLLLoss: 0.877\n",
      "[2020-11-21 20:46:50,364][MainProcess][lib.metrics.accuracy][INFO] Accuracy: 0.7672119140625 [6285 of 8192]\n"
     ]
    },
    {
     "name": "stderr",
     "output_type": "stream",
     "text": [
      "\r",
      "  3%|▎         | 32.222222222222214/1000.0 [31:18<18:01:33, 67.05s/it, min_score=-.85, models_evaluated=0]"
     ]
    },
    {
     "name": "stdout",
     "output_type": "stream",
     "text": [
      "––––––––––––––––––––––––––––––––––––––––––––––––––––––––––––––––––––––––––––––––––––––––––––––––––––\n",
      "====================================================================================================\n",
      "[2020-11-21 20:46:50,397][MainProcess][lib.configurable][INFO] Checking configuration...\n",
      "[2020-11-21 20:46:50,399][MainProcess][lib.configurable][INFO] Configuration checked.\n",
      "[2020-11-21 20:46:50,400][MainProcess][lib.configurable][INFO] seq_to_label.SeqToLabel.__init__ was configured with:\n",
      "{   'bidirectional': True,\n",
      "    'decode_dropout': 0.8844618467756483,\n",
      "    'embedding_dropout': 0.22413194530080477,\n",
      "    'embedding_size': 300,\n",
      "    'freeze_embeddings': True,\n",
      "    'input_vocab_size': 6899,\n",
      "    'output_vocab_size': 1703,\n",
      "    'rnn_cell': 'gru',\n",
      "    'rnn_dropout': 0.047063486489042225,\n",
      "    'rnn_layers': 3,\n",
      "    'rnn_size': 364,\n",
      "    'rnn_variational_dropout': 0.4867121447695831}\n",
      "[2020-11-21 20:46:50,401][MainProcess][lib.configurable][INFO] seq_encoder.SeqEncoder.__init__ no config for: lib.nn.seq_encoder.SeqEncoder.__init__\n",
      "[2020-11-21 20:46:50,402][MainProcess][lib.configurable][INFO] seq_encoder.SeqEncoder.__init__ was configured with:\n",
      "{   'bidirectional': True,\n",
      "    'embedding_dropout': 0.22413194530080477,\n",
      "    'embedding_size': 300,\n",
      "    'freeze_embeddings': True,\n",
      "    'n_layers': 3,\n",
      "    'rnn_cell': 'gru',\n",
      "    'rnn_dropout': 0.047063486489042225,\n",
      "    'rnn_size': 364,\n",
      "    'rnn_variational_dropout': 0.4867121447695831,\n",
      "    'vocab_size': 6899}\n",
      "[2020-11-21 20:46:50,612][MainProcess][lib.configurable][INFO] adam.Adam.__init__ was configured with:\n",
      "{'amsgrad': True, 'params': <filter object at 0x7f3c320e7860>}\n",
      "[2020-11-21 20:46:50,613][MainProcess][lib.configurable][INFO] adam.Adam.__init__ was configured with:\n",
      "{'amsgrad': True, 'params': <filter object at 0x7f3c320e7860>}\n",
      "[2020-11-21 20:46:50,615][MainProcess][lib.configurable][INFO] optimizer.Optimizer.__init__ was configured with:\n",
      "{   'max_grad_norm': 1.3190729967287615,\n",
      "    'optim': <lib.optim.adam.Adam object at 0x7f3c320e7390>}\n",
      "[2020-11-21 20:46:50,616][MainProcess][__main__][INFO] Epochs: 1\n",
      "[2020-11-21 20:46:50,616][MainProcess][__main__][INFO] Train Dataset Size: 75900\n",
      "[2020-11-21 20:46:50,617][MainProcess][__main__][INFO] Dev Dataset Size: 10845\n",
      "[2020-11-21 20:46:50,617][MainProcess][__main__][INFO] Train Batch Size: 32\n",
      "[2020-11-21 20:46:50,618][MainProcess][__main__][INFO] Train Max Batch Size: 1024\n",
      "[2020-11-21 20:46:50,619][MainProcess][__main__][INFO] Total Parameters: 2480543\n",
      "[2020-11-21 20:46:50,619][MainProcess][__main__][INFO] Model:\n",
      "SeqToLabel(\n",
      "  (encoder): SeqEncoder(\n",
      "    (embedding): Embedding(6899, 300, padding_idx=0)\n",
      "    (rnn): GRU(300, 182, num_layers=3, dropout=0.4867121447695831, bidirectional=True)\n",
      "    (rnn_dropout): LockedDropout(p=0.047063486489042225)\n",
      "    (embedding_dropout): Dropout(p=0.22413194530080477)\n",
      "  )\n",
      "  (out): Sequential(\n",
      "    (0): Linear(in_features=364, out_features=364, bias=True)\n",
      "    (1): BatchNorm1d(364, eps=1e-05, momentum=0.1, affine=True)\n",
      "    (2): ReLU()\n",
      "    (3): Dropout(p=0.8844618467756483)\n",
      "    (4): Linear(in_features=364, out_features=1703, bias=True)\n",
      "  )\n",
      ")\n",
      "[2020-11-21 20:46:50,622][MainProcess][__main__][INFO] Epoch: 0\n",
      "[2020-11-21 20:46:50,622][MainProcess][__main__][INFO] Training...\n"
     ]
    },
    {
     "name": "stderr",
     "output_type": "stream",
     "text": [
      "/mount/arbeitsdaten46/projekte/dialog-1/kanjurva/Simple-QA-EMNLP-2018/venv2/lib/python3.6/site-packages/ipykernel_launcher.py:57: TqdmDeprecationWarning: This function will be removed in tqdm==5.0.0\n",
      "Please use `tqdm.notebook.tqdm` instead of `tqdm.tqdm_notebook`\n"
     ]
    },
    {
     "data": {
      "application/vnd.jupyter.widget-view+json": {
       "model_id": "564fafba9db44364920792a0310f8a33",
       "version_major": 2,
       "version_minor": 0
      },
      "text/plain": [
       "HBox(children=(HTML(value=''), FloatProgress(value=0.0, max=2371.0), HTML(value='')))"
      ]
     },
     "metadata": {},
     "output_type": "display_data"
    },
    {
     "name": "stdout",
     "output_type": "stream",
     "text": [
      "\n",
      "[2020-11-21 20:48:16,212][MainProcess][lib.checkpoint][INFO] Saving checkpoint: ../../experiments/relation_classifier.11_21_20:05:46/79445.pt\n"
     ]
    },
    {
     "name": "stderr",
     "output_type": "stream",
     "text": [
      "/mount/arbeitsdaten46/projekte/dialog-1/kanjurva/Simple-QA-EMNLP-2018/venv2/lib/python3.6/site-packages/ipykernel_launcher.py:13: TqdmDeprecationWarning: This function will be removed in tqdm==5.0.0\n",
      "Please use `tqdm.notebook.tqdm` instead of `tqdm.tqdm_notebook`\n",
      "  del sys.path[0]\n"
     ]
    },
    {
     "data": {
      "application/vnd.jupyter.widget-view+json": {
       "model_id": "9f90e1a95b124b22857ce56250714075",
       "version_major": 2,
       "version_minor": 0
      },
      "text/plain": [
       "HBox(children=(HTML(value=''), FloatProgress(value=0.0, max=2.0), HTML(value='')))"
      ]
     },
     "metadata": {},
     "output_type": "display_data"
    },
    {
     "name": "stdout",
     "output_type": "stream",
     "text": [
      "\n",
      "[2020-11-21 20:48:17,976][MainProcess][__main__][INFO] NLLLoss: 1.274\n",
      "[2020-11-21 20:48:18,033][MainProcess][lib.metrics.accuracy][INFO] Accuracy: 0.734375 [6016 of 8192]\n"
     ]
    },
    {
     "name": "stderr",
     "output_type": "stream",
     "text": [
      "\r",
      "  3%|▎         | 33.33333333333333/1000.0 [32:46<18:57:36, 70.61s/it, min_score=-.85, models_evaluated=0] "
     ]
    },
    {
     "name": "stdout",
     "output_type": "stream",
     "text": [
      "––––––––––––––––––––––––––––––––––––––––––––––––––––––––––––––––––––––––––––––––––––––––––––––––––––\n",
      "====================================================================================================\n",
      "[2020-11-21 20:48:18,075][MainProcess][lib.configurable][INFO] Checking configuration...\n",
      "[2020-11-21 20:48:18,077][MainProcess][lib.configurable][INFO] Configuration checked.\n",
      "[2020-11-21 20:48:18,078][MainProcess][lib.configurable][INFO] seq_to_label.SeqToLabel.__init__ was configured with:\n",
      "{   'bidirectional': True,\n",
      "    'decode_dropout': 0.5759912222481826,\n",
      "    'embedding_dropout': 0.2364422117044623,\n",
      "    'embedding_size': 300,\n",
      "    'freeze_embeddings': True,\n",
      "    'input_vocab_size': 6899,\n",
      "    'output_vocab_size': 1703,\n",
      "    'rnn_cell': 'gru',\n",
      "    'rnn_dropout': 0.4190508636275304,\n",
      "    'rnn_layers': 1,\n",
      "    'rnn_size': 154,\n",
      "    'rnn_variational_dropout': 0.6498269815026569}\n",
      "[2020-11-21 20:48:18,079][MainProcess][lib.configurable][INFO] seq_encoder.SeqEncoder.__init__ no config for: lib.nn.seq_encoder.SeqEncoder.__init__\n",
      "[2020-11-21 20:48:18,080][MainProcess][lib.configurable][INFO] seq_encoder.SeqEncoder.__init__ was configured with:\n",
      "{   'bidirectional': True,\n",
      "    'embedding_dropout': 0.2364422117044623,\n",
      "    'embedding_size': 300,\n",
      "    'freeze_embeddings': True,\n",
      "    'n_layers': 1,\n",
      "    'rnn_cell': 'gru',\n",
      "    'rnn_dropout': 0.4190508636275304,\n",
      "    'rnn_size': 154,\n",
      "    'rnn_variational_dropout': 0.6498269815026569,\n",
      "    'vocab_size': 6899}\n",
      "[2020-11-21 20:48:18,258][MainProcess][lib.configurable][INFO] adam.Adam.__init__ was configured with:\n",
      "{'amsgrad': True, 'params': <filter object at 0x7f3c2fb96048>}\n",
      "[2020-11-21 20:48:18,259][MainProcess][lib.configurable][INFO] adam.Adam.__init__ was configured with:\n",
      "{'amsgrad': True, 'params': <filter object at 0x7f3c2fb96048>}\n",
      "[2020-11-21 20:48:18,260][MainProcess][lib.configurable][INFO] optimizer.Optimizer.__init__ was configured with:\n",
      "{   'max_grad_norm': 3.329867073453649,\n",
      "    'optim': <lib.optim.adam.Adam object at 0x7f3c2990fe10>}\n",
      "[2020-11-21 20:48:18,261][MainProcess][__main__][INFO] Epochs: 1\n",
      "[2020-11-21 20:48:18,262][MainProcess][__main__][INFO] Train Dataset Size: 75900\n",
      "[2020-11-21 20:48:18,263][MainProcess][__main__][INFO] Dev Dataset Size: 10845\n",
      "[2020-11-21 20:48:18,264][MainProcess][__main__][INFO] Train Batch Size: 32\n",
      "[2020-11-21 20:48:18,265][MainProcess][__main__][INFO] Train Max Batch Size: 1024\n",
      "[2020-11-21 20:48:18,265][MainProcess][__main__][INFO] Total Parameters: 463241\n",
      "[2020-11-21 20:48:18,266][MainProcess][__main__][INFO] Model:\n",
      "SeqToLabel(\n",
      "  (encoder): SeqEncoder(\n",
      "    (embedding): Embedding(6899, 300, padding_idx=0)\n",
      "    (rnn): GRU(300, 77, dropout=0.6498269815026569, bidirectional=True)\n",
      "    (rnn_dropout): LockedDropout(p=0.4190508636275304)\n",
      "    (embedding_dropout): Dropout(p=0.2364422117044623)\n",
      "  )\n",
      "  (out): Sequential(\n",
      "    (0): Linear(in_features=154, out_features=154, bias=True)\n",
      "    (1): BatchNorm1d(154, eps=1e-05, momentum=0.1, affine=True)\n",
      "    (2): ReLU()\n",
      "    (3): Dropout(p=0.5759912222481826)\n",
      "    (4): Linear(in_features=154, out_features=1703, bias=True)\n",
      "  )\n",
      ")\n",
      "[2020-11-21 20:48:18,267][MainProcess][__main__][INFO] Epoch: 0\n",
      "[2020-11-21 20:48:18,268][MainProcess][__main__][INFO] Training...\n"
     ]
    },
    {
     "name": "stderr",
     "output_type": "stream",
     "text": [
      "/mount/arbeitsdaten46/projekte/dialog-1/kanjurva/Simple-QA-EMNLP-2018/venv2/lib/python3.6/site-packages/ipykernel_launcher.py:57: TqdmDeprecationWarning: This function will be removed in tqdm==5.0.0\n",
      "Please use `tqdm.notebook.tqdm` instead of `tqdm.tqdm_notebook`\n"
     ]
    },
    {
     "data": {
      "application/vnd.jupyter.widget-view+json": {
       "model_id": "13ca7ecdf3344d78a9b6487a122be353",
       "version_major": 2,
       "version_minor": 0
      },
      "text/plain": [
       "HBox(children=(HTML(value=''), FloatProgress(value=0.0, max=2371.0), HTML(value='')))"
      ]
     },
     "metadata": {},
     "output_type": "display_data"
    },
    {
     "name": "stdout",
     "output_type": "stream",
     "text": [
      "\n",
      "[2020-11-21 20:49:11,321][MainProcess][lib.checkpoint][INFO] Saving checkpoint: ../../experiments/relation_classifier.11_21_20:05:46/79501.pt\n"
     ]
    },
    {
     "name": "stderr",
     "output_type": "stream",
     "text": [
      "/mount/arbeitsdaten46/projekte/dialog-1/kanjurva/Simple-QA-EMNLP-2018/venv2/lib/python3.6/site-packages/ipykernel_launcher.py:13: TqdmDeprecationWarning: This function will be removed in tqdm==5.0.0\n",
      "Please use `tqdm.notebook.tqdm` instead of `tqdm.tqdm_notebook`\n",
      "  del sys.path[0]\n"
     ]
    },
    {
     "data": {
      "application/vnd.jupyter.widget-view+json": {
       "model_id": "7fbd552d8ccd4eea9245d62c9c792048",
       "version_major": 2,
       "version_minor": 0
      },
      "text/plain": [
       "HBox(children=(HTML(value=''), FloatProgress(value=0.0, max=2.0), HTML(value='')))"
      ]
     },
     "metadata": {},
     "output_type": "display_data"
    },
    {
     "name": "stdout",
     "output_type": "stream",
     "text": [
      "\n",
      "[2020-11-21 20:49:12,043][MainProcess][__main__][INFO] NLLLoss: 0.741\n",
      "[2020-11-21 20:49:12,106][MainProcess][lib.metrics.accuracy][INFO] Accuracy: 0.830078125 [6800 of 8192]\n"
     ]
    },
    {
     "name": "stderr",
     "output_type": "stream",
     "text": [
      "\r",
      "  3%|▎         | 34.44444444444444/1000.0 [33:40<17:10:17, 64.02s/it, min_score=-.85, models_evaluated=0]"
     ]
    },
    {
     "name": "stdout",
     "output_type": "stream",
     "text": [
      "––––––––––––––––––––––––––––––––––––––––––––––––––––––––––––––––––––––––––––––––––––––––––––––––––––\n",
      "====================================================================================================\n",
      "[2020-11-21 20:49:12,131][MainProcess][lib.configurable][INFO] Checking configuration...\n",
      "[2020-11-21 20:49:12,133][MainProcess][lib.configurable][INFO] Configuration checked.\n",
      "[2020-11-21 20:49:12,135][MainProcess][lib.configurable][INFO] seq_to_label.SeqToLabel.__init__ was configured with:\n",
      "{   'bidirectional': True,\n",
      "    'decode_dropout': 0.025175215010546228,\n",
      "    'embedding_dropout': 0.33002744510469584,\n",
      "    'embedding_size': 300,\n",
      "    'freeze_embeddings': True,\n",
      "    'input_vocab_size': 6899,\n",
      "    'output_vocab_size': 1703,\n",
      "    'rnn_cell': 'lstm',\n",
      "    'rnn_dropout': 0.3443932522401566,\n",
      "    'rnn_layers': 2,\n",
      "    'rnn_size': 232,\n",
      "    'rnn_variational_dropout': 0.46608847167393613}\n",
      "[2020-11-21 20:49:12,138][MainProcess][lib.configurable][INFO] seq_encoder.SeqEncoder.__init__ no config for: lib.nn.seq_encoder.SeqEncoder.__init__\n",
      "[2020-11-21 20:49:12,140][MainProcess][lib.configurable][INFO] seq_encoder.SeqEncoder.__init__ was configured with:\n",
      "{   'bidirectional': True,\n",
      "    'embedding_dropout': 0.33002744510469584,\n",
      "    'embedding_size': 300,\n",
      "    'freeze_embeddings': True,\n",
      "    'n_layers': 2,\n",
      "    'rnn_cell': 'lstm',\n",
      "    'rnn_dropout': 0.3443932522401566,\n",
      "    'rnn_size': 232,\n",
      "    'rnn_variational_dropout': 0.46608847167393613,\n",
      "    'vocab_size': 6899}\n",
      "[2020-11-21 20:49:12,352][MainProcess][lib.configurable][INFO] adam.Adam.__init__ was configured with:\n",
      "{'amsgrad': True, 'params': <filter object at 0x7f3c29d60b38>}\n",
      "[2020-11-21 20:49:12,354][MainProcess][lib.configurable][INFO] adam.Adam.__init__ was configured with:\n",
      "{'amsgrad': True, 'params': <filter object at 0x7f3c29d60b38>}\n",
      "[2020-11-21 20:49:12,355][MainProcess][lib.configurable][INFO] optimizer.Optimizer.__init__ was configured with:\n",
      "{   'max_grad_norm': 3.8401264494701715,\n",
      "    'optim': <lib.optim.adam.Adam object at 0x7f3c2b52b6d8>}\n",
      "[2020-11-21 20:49:12,356][MainProcess][__main__][INFO] Epochs: 1\n",
      "[2020-11-21 20:49:12,358][MainProcess][__main__][INFO] Train Dataset Size: 75900\n",
      "[2020-11-21 20:49:12,359][MainProcess][__main__][INFO] Dev Dataset Size: 10845\n",
      "[2020-11-21 20:49:12,360][MainProcess][__main__][INFO] Train Batch Size: 32\n",
      "[2020-11-21 20:49:12,362][MainProcess][__main__][INFO] Train Max Batch Size: 1024\n",
      "[2020-11-21 20:49:12,363][MainProcess][__main__][INFO] Total Parameters: 1164023\n",
      "[2020-11-21 20:49:12,365][MainProcess][__main__][INFO] Model:\n",
      "SeqToLabel(\n",
      "  (encoder): SeqEncoder(\n",
      "    (embedding): Embedding(6899, 300, padding_idx=0)\n",
      "    (rnn): LSTM(300, 116, num_layers=2, dropout=0.46608847167393613, bidirectional=True)\n",
      "    (rnn_dropout): LockedDropout(p=0.3443932522401566)\n",
      "    (embedding_dropout): Dropout(p=0.33002744510469584)\n",
      "  )\n",
      "  (out): Sequential(\n",
      "    (0): Linear(in_features=232, out_features=232, bias=True)\n",
      "    (1): BatchNorm1d(232, eps=1e-05, momentum=0.1, affine=True)\n",
      "    (2): ReLU()\n",
      "    (3): Dropout(p=0.025175215010546228)\n",
      "    (4): Linear(in_features=232, out_features=1703, bias=True)\n",
      "  )\n",
      ")\n",
      "[2020-11-21 20:49:12,366][MainProcess][__main__][INFO] Epoch: 0\n",
      "[2020-11-21 20:49:12,367][MainProcess][__main__][INFO] Training...\n"
     ]
    },
    {
     "name": "stderr",
     "output_type": "stream",
     "text": [
      "/mount/arbeitsdaten46/projekte/dialog-1/kanjurva/Simple-QA-EMNLP-2018/venv2/lib/python3.6/site-packages/ipykernel_launcher.py:57: TqdmDeprecationWarning: This function will be removed in tqdm==5.0.0\n",
      "Please use `tqdm.notebook.tqdm` instead of `tqdm.tqdm_notebook`\n"
     ]
    },
    {
     "data": {
      "application/vnd.jupyter.widget-view+json": {
       "model_id": "519c8c2f72e343ed938398bfd47c17ae",
       "version_major": 2,
       "version_minor": 0
      },
      "text/plain": [
       "HBox(children=(HTML(value=''), FloatProgress(value=0.0, max=2371.0), HTML(value='')))"
      ]
     },
     "metadata": {},
     "output_type": "display_data"
    },
    {
     "name": "stdout",
     "output_type": "stream",
     "text": [
      "\n",
      "[2020-11-21 20:50:31,402][MainProcess][lib.checkpoint][INFO] Saving checkpoint: ../../experiments/relation_classifier.11_21_20:05:46/79581.pt\n"
     ]
    },
    {
     "name": "stderr",
     "output_type": "stream",
     "text": [
      "/mount/arbeitsdaten46/projekte/dialog-1/kanjurva/Simple-QA-EMNLP-2018/venv2/lib/python3.6/site-packages/ipykernel_launcher.py:13: TqdmDeprecationWarning: This function will be removed in tqdm==5.0.0\n",
      "Please use `tqdm.notebook.tqdm` instead of `tqdm.tqdm_notebook`\n",
      "  del sys.path[0]\n"
     ]
    },
    {
     "data": {
      "application/vnd.jupyter.widget-view+json": {
       "model_id": "01aca10770304b518e3de9245cc11919",
       "version_major": 2,
       "version_minor": 0
      },
      "text/plain": [
       "HBox(children=(HTML(value=''), FloatProgress(value=0.0, max=2.0), HTML(value='')))"
      ]
     },
     "metadata": {},
     "output_type": "display_data"
    },
    {
     "name": "stdout",
     "output_type": "stream",
     "text": [
      "\n",
      "[2020-11-21 20:50:32,287][MainProcess][__main__][INFO] NLLLoss: 0.607\n",
      "[2020-11-21 20:50:32,344][MainProcess][lib.metrics.accuracy][INFO] Accuracy: 0.8414306640625 [6893 of 8192]\n"
     ]
    },
    {
     "name": "stderr",
     "output_type": "stream",
     "text": [
      "\r",
      "  4%|▎         | 35.55555555555556/1000.0 [35:00<17:48:37, 66.48s/it, min_score=-.85, models_evaluated=0]"
     ]
    },
    {
     "name": "stdout",
     "output_type": "stream",
     "text": [
      "––––––––––––––––––––––––––––––––––––––––––––––––––––––––––––––––––––––––––––––––––––––––––––––––––––\n",
      "====================================================================================================\n",
      "[2020-11-21 20:50:32,376][MainProcess][lib.configurable][INFO] Checking configuration...\n",
      "[2020-11-21 20:50:32,377][MainProcess][lib.configurable][INFO] Configuration checked.\n",
      "[2020-11-21 20:50:32,380][MainProcess][lib.configurable][INFO] seq_to_label.SeqToLabel.__init__ was configured with:\n",
      "{   'bidirectional': True,\n",
      "    'decode_dropout': 0.27056259641812086,\n",
      "    'embedding_dropout': 0.8838023572012477,\n",
      "    'embedding_size': 300,\n",
      "    'freeze_embeddings': False,\n",
      "    'input_vocab_size': 6899,\n",
      "    'output_vocab_size': 1703,\n",
      "    'rnn_cell': 'gru',\n",
      "    'rnn_dropout': 0.4528139378924821,\n",
      "    'rnn_layers': 3,\n",
      "    'rnn_size': 256,\n",
      "    'rnn_variational_dropout': 0.38914604979841105}\n",
      "[2020-11-21 20:50:32,381][MainProcess][lib.configurable][INFO] seq_encoder.SeqEncoder.__init__ no config for: lib.nn.seq_encoder.SeqEncoder.__init__\n",
      "[2020-11-21 20:50:32,382][MainProcess][lib.configurable][INFO] seq_encoder.SeqEncoder.__init__ was configured with:\n",
      "{   'bidirectional': True,\n",
      "    'embedding_dropout': 0.8838023572012477,\n",
      "    'embedding_size': 300,\n",
      "    'freeze_embeddings': False,\n",
      "    'n_layers': 3,\n",
      "    'rnn_cell': 'gru',\n",
      "    'rnn_dropout': 0.4528139378924821,\n",
      "    'rnn_size': 256,\n",
      "    'rnn_variational_dropout': 0.38914604979841105,\n",
      "    'vocab_size': 6899}\n",
      "[2020-11-21 20:50:32,563][MainProcess][lib.configurable][INFO] adam.Adam.__init__ was configured with:\n",
      "{'amsgrad': True, 'params': <filter object at 0x7f3c3024e710>}\n",
      "[2020-11-21 20:50:32,565][MainProcess][lib.configurable][INFO] adam.Adam.__init__ was configured with:\n",
      "{'amsgrad': True, 'params': <filter object at 0x7f3c3024e710>}\n",
      "[2020-11-21 20:50:32,566][MainProcess][lib.configurable][INFO] optimizer.Optimizer.__init__ was configured with:\n",
      "{   'max_grad_norm': 0.947649567528607,\n",
      "    'optim': <lib.optim.adam.Adam object at 0x7f3c2990fe10>}\n",
      "[2020-11-21 20:50:32,568][MainProcess][__main__][INFO] Epochs: 1\n",
      "[2020-11-21 20:50:32,569][MainProcess][__main__][INFO] Train Dataset Size: 75900\n",
      "[2020-11-21 20:50:32,571][MainProcess][__main__][INFO] Dev Dataset Size: 10845\n",
      "[2020-11-21 20:50:32,572][MainProcess][__main__][INFO] Train Batch Size: 32\n",
      "[2020-11-21 20:50:32,573][MainProcess][__main__][INFO] Train Max Batch Size: 1024\n",
      "[2020-11-21 20:50:32,574][MainProcess][__main__][INFO] Total Parameters: 3496811\n",
      "[2020-11-21 20:50:32,575][MainProcess][__main__][INFO] Model:\n",
      "SeqToLabel(\n",
      "  (encoder): SeqEncoder(\n",
      "    (embedding): Embedding(6899, 300, padding_idx=0)\n",
      "    (rnn): GRU(300, 128, num_layers=3, dropout=0.38914604979841105, bidirectional=True)\n",
      "    (rnn_dropout): LockedDropout(p=0.4528139378924821)\n",
      "    (embedding_dropout): Dropout(p=0.8838023572012477)\n",
      "  )\n",
      "  (out): Sequential(\n",
      "    (0): Linear(in_features=256, out_features=256, bias=True)\n",
      "    (1): BatchNorm1d(256, eps=1e-05, momentum=0.1, affine=True)\n",
      "    (2): ReLU()\n",
      "    (3): Dropout(p=0.27056259641812086)\n",
      "    (4): Linear(in_features=256, out_features=1703, bias=True)\n",
      "  )\n",
      ")\n",
      "[2020-11-21 20:50:32,575][MainProcess][__main__][INFO] Epoch: 0\n",
      "[2020-11-21 20:50:32,576][MainProcess][__main__][INFO] Training...\n"
     ]
    },
    {
     "name": "stderr",
     "output_type": "stream",
     "text": [
      "/mount/arbeitsdaten46/projekte/dialog-1/kanjurva/Simple-QA-EMNLP-2018/venv2/lib/python3.6/site-packages/ipykernel_launcher.py:57: TqdmDeprecationWarning: This function will be removed in tqdm==5.0.0\n",
      "Please use `tqdm.notebook.tqdm` instead of `tqdm.tqdm_notebook`\n"
     ]
    },
    {
     "data": {
      "application/vnd.jupyter.widget-view+json": {
       "model_id": "13b1676f688e46a7b2e388f2803a24dc",
       "version_major": 2,
       "version_minor": 0
      },
      "text/plain": [
       "HBox(children=(HTML(value=''), FloatProgress(value=0.0, max=2371.0), HTML(value='')))"
      ]
     },
     "metadata": {},
     "output_type": "display_data"
    },
    {
     "name": "stdout",
     "output_type": "stream",
     "text": [
      "\n",
      "[2020-11-21 20:51:10,857][MainProcess][lib.checkpoint][INFO] Saving checkpoint: ../../experiments/relation_classifier.11_21_20:05:46/79620.pt\n"
     ]
    },
    {
     "name": "stderr",
     "output_type": "stream",
     "text": [
      "/mount/arbeitsdaten46/projekte/dialog-1/kanjurva/Simple-QA-EMNLP-2018/venv2/lib/python3.6/site-packages/ipykernel_launcher.py:13: TqdmDeprecationWarning: This function will be removed in tqdm==5.0.0\n",
      "Please use `tqdm.notebook.tqdm` instead of `tqdm.tqdm_notebook`\n",
      "  del sys.path[0]\n"
     ]
    },
    {
     "data": {
      "application/vnd.jupyter.widget-view+json": {
       "model_id": "097c1542650847f28f8eb9bb1bf58f7c",
       "version_major": 2,
       "version_minor": 0
      },
      "text/plain": [
       "HBox(children=(HTML(value=''), FloatProgress(value=0.0, max=2.0), HTML(value='')))"
      ]
     },
     "metadata": {},
     "output_type": "display_data"
    },
    {
     "name": "stdout",
     "output_type": "stream",
     "text": [
      "\n",
      "[2020-11-21 20:51:12,435][MainProcess][__main__][INFO] NLLLoss: 0.774\n",
      "[2020-11-21 20:51:12,498][MainProcess][lib.metrics.accuracy][INFO] Accuracy: 0.7740478515625 [6341 of 8192]\n"
     ]
    },
    {
     "name": "stderr",
     "output_type": "stream",
     "text": [
      "\r",
      "  4%|▎         | 36.66666666666667/1000.0 [35:40<15:21:17, 57.38s/it, min_score=-.85, models_evaluated=0]"
     ]
    },
    {
     "name": "stdout",
     "output_type": "stream",
     "text": [
      "––––––––––––––––––––––––––––––––––––––––––––––––––––––––––––––––––––––––––––––––––––––––––––––––––––\n",
      "====================================================================================================\n",
      "[2020-11-21 20:51:12,540][MainProcess][lib.configurable][INFO] Checking configuration...\n",
      "[2020-11-21 20:51:12,541][MainProcess][lib.configurable][INFO] Configuration checked.\n",
      "[2020-11-21 20:51:12,543][MainProcess][lib.configurable][INFO] seq_to_label.SeqToLabel.__init__ was configured with:\n",
      "{   'bidirectional': False,\n",
      "    'decode_dropout': 0.7554909761823363,\n",
      "    'embedding_dropout': 0.6670594445834788,\n",
      "    'embedding_size': 300,\n",
      "    'freeze_embeddings': True,\n",
      "    'input_vocab_size': 6899,\n",
      "    'output_vocab_size': 1703,\n",
      "    'rnn_cell': 'gru',\n",
      "    'rnn_dropout': 0.446750950483694,\n",
      "    'rnn_layers': 1,\n",
      "    'rnn_size': 274,\n",
      "    'rnn_variational_dropout': 0.705887276073605}\n",
      "[2020-11-21 20:51:12,545][MainProcess][lib.configurable][INFO] seq_encoder.SeqEncoder.__init__ no config for: lib.nn.seq_encoder.SeqEncoder.__init__\n",
      "[2020-11-21 20:51:12,546][MainProcess][lib.configurable][INFO] seq_encoder.SeqEncoder.__init__ was configured with:\n",
      "{   'bidirectional': False,\n",
      "    'embedding_dropout': 0.6670594445834788,\n",
      "    'embedding_size': 300,\n",
      "    'freeze_embeddings': True,\n",
      "    'n_layers': 1,\n",
      "    'rnn_cell': 'gru',\n",
      "    'rnn_dropout': 0.446750950483694,\n",
      "    'rnn_size': 274,\n",
      "    'rnn_variational_dropout': 0.705887276073605,\n",
      "    'vocab_size': 6899}\n",
      "[2020-11-21 20:51:12,726][MainProcess][lib.configurable][INFO] adam.Adam.__init__ was configured with:\n",
      "{'amsgrad': True, 'params': <filter object at 0x7f3ccf738710>}\n",
      "[2020-11-21 20:51:12,729][MainProcess][lib.configurable][INFO] adam.Adam.__init__ was configured with:\n",
      "{'amsgrad': True, 'params': <filter object at 0x7f3ccf738710>}\n",
      "[2020-11-21 20:51:12,730][MainProcess][lib.configurable][INFO] optimizer.Optimizer.__init__ was configured with:\n",
      "{   'max_grad_norm': 2.605225682100577,\n",
      "    'optim': <lib.optim.adam.Adam object at 0x7f3ccf738748>}\n",
      "[2020-11-21 20:51:12,731][MainProcess][__main__][INFO] Epochs: 1\n",
      "[2020-11-21 20:51:12,732][MainProcess][__main__][INFO] Train Dataset Size: 75900\n",
      "[2020-11-21 20:51:12,732][MainProcess][__main__][INFO] Dev Dataset Size: 10845\n",
      "[2020-11-21 20:51:12,733][MainProcess][__main__][INFO] Train Batch Size: 32\n",
      "[2020-11-21 20:51:12,734][MainProcess][__main__][INFO] Train Max Batch Size: 1024\n",
      "[2020-11-21 20:51:12,735][MainProcess][__main__][INFO] Total Parameters: 1017695\n",
      "[2020-11-21 20:51:12,736][MainProcess][__main__][INFO] Model:\n",
      "SeqToLabel(\n",
      "  (encoder): SeqEncoder(\n",
      "    (embedding): Embedding(6899, 300, padding_idx=0)\n",
      "    (rnn): GRU(300, 274, dropout=0.705887276073605)\n",
      "    (rnn_dropout): LockedDropout(p=0.446750950483694)\n",
      "    (embedding_dropout): Dropout(p=0.6670594445834788)\n",
      "  )\n",
      "  (out): Sequential(\n",
      "    (0): Linear(in_features=274, out_features=274, bias=True)\n",
      "    (1): BatchNorm1d(274, eps=1e-05, momentum=0.1, affine=True)\n",
      "    (2): ReLU()\n",
      "    (3): Dropout(p=0.7554909761823363)\n",
      "    (4): Linear(in_features=274, out_features=1703, bias=True)\n",
      "  )\n",
      ")\n",
      "[2020-11-21 20:51:12,737][MainProcess][__main__][INFO] Epoch: 0\n",
      "[2020-11-21 20:51:12,737][MainProcess][__main__][INFO] Training...\n"
     ]
    },
    {
     "name": "stderr",
     "output_type": "stream",
     "text": [
      "/mount/arbeitsdaten46/projekte/dialog-1/kanjurva/Simple-QA-EMNLP-2018/venv2/lib/python3.6/site-packages/ipykernel_launcher.py:57: TqdmDeprecationWarning: This function will be removed in tqdm==5.0.0\n",
      "Please use `tqdm.notebook.tqdm` instead of `tqdm.tqdm_notebook`\n"
     ]
    },
    {
     "data": {
      "application/vnd.jupyter.widget-view+json": {
       "model_id": "de3b7548830946ea80a354c8fe77044e",
       "version_major": 2,
       "version_minor": 0
      },
      "text/plain": [
       "HBox(children=(HTML(value=''), FloatProgress(value=0.0, max=2371.0), HTML(value='')))"
      ]
     },
     "metadata": {},
     "output_type": "display_data"
    },
    {
     "name": "stdout",
     "output_type": "stream",
     "text": [
      "\n",
      "[2020-11-21 20:51:29,402][MainProcess][lib.checkpoint][INFO] Saving checkpoint: ../../experiments/relation_classifier.11_21_20:05:46/79639.pt\n"
     ]
    },
    {
     "name": "stderr",
     "output_type": "stream",
     "text": [
      "/mount/arbeitsdaten46/projekte/dialog-1/kanjurva/Simple-QA-EMNLP-2018/venv2/lib/python3.6/site-packages/ipykernel_launcher.py:13: TqdmDeprecationWarning: This function will be removed in tqdm==5.0.0\n",
      "Please use `tqdm.notebook.tqdm` instead of `tqdm.tqdm_notebook`\n",
      "  del sys.path[0]\n"
     ]
    },
    {
     "data": {
      "application/vnd.jupyter.widget-view+json": {
       "model_id": "d88544c9fae54a0284ebe1994281589d",
       "version_major": 2,
       "version_minor": 0
      },
      "text/plain": [
       "HBox(children=(HTML(value=''), FloatProgress(value=0.0, max=2.0), HTML(value='')))"
      ]
     },
     "metadata": {},
     "output_type": "display_data"
    },
    {
     "name": "stdout",
     "output_type": "stream",
     "text": [
      "\n",
      "[2020-11-21 20:51:30,334][MainProcess][__main__][INFO] NLLLoss: 0.951\n",
      "[2020-11-21 20:51:30,396][MainProcess][lib.metrics.accuracy][INFO] Accuracy: 0.7579345703125 [6209 of 8192]\n"
     ]
    },
    {
     "name": "stderr",
     "output_type": "stream",
     "text": [
      "\r",
      "  4%|▍         | 37.777777777777786/1000.0 [35:58<12:01:38, 45.00s/it, min_score=-.85, models_evaluated=0]"
     ]
    },
    {
     "name": "stdout",
     "output_type": "stream",
     "text": [
      "––––––––––––––––––––––––––––––––––––––––––––––––––––––––––––––––––––––––––––––––––––––––––––––––––––\n",
      "====================================================================================================\n",
      "[2020-11-21 20:51:30,433][MainProcess][lib.configurable][INFO] Checking configuration...\n",
      "[2020-11-21 20:51:30,435][MainProcess][lib.configurable][INFO] Configuration checked.\n",
      "[2020-11-21 20:51:30,436][MainProcess][lib.configurable][INFO] seq_to_label.SeqToLabel.__init__ was configured with:\n",
      "{   'bidirectional': True,\n",
      "    'decode_dropout': 0.7999893104070022,\n",
      "    'embedding_dropout': 0.10756465001906793,\n",
      "    'embedding_size': 300,\n",
      "    'freeze_embeddings': False,\n",
      "    'input_vocab_size': 6899,\n",
      "    'output_vocab_size': 1703,\n",
      "    'rnn_cell': 'gru',\n",
      "    'rnn_dropout': 0.8523783999350372,\n",
      "    'rnn_layers': 1,\n",
      "    'rnn_size': 116,\n",
      "    'rnn_variational_dropout': 0.1174717919759896}\n",
      "[2020-11-21 20:51:30,437][MainProcess][lib.configurable][INFO] seq_encoder.SeqEncoder.__init__ no config for: lib.nn.seq_encoder.SeqEncoder.__init__\n",
      "[2020-11-21 20:51:30,438][MainProcess][lib.configurable][INFO] seq_encoder.SeqEncoder.__init__ was configured with:\n",
      "{   'bidirectional': True,\n",
      "    'embedding_dropout': 0.10756465001906793,\n",
      "    'embedding_size': 300,\n",
      "    'freeze_embeddings': False,\n",
      "    'n_layers': 1,\n",
      "    'rnn_cell': 'gru',\n",
      "    'rnn_dropout': 0.8523783999350372,\n",
      "    'rnn_size': 116,\n",
      "    'rnn_variational_dropout': 0.1174717919759896,\n",
      "    'vocab_size': 6899}\n",
      "[2020-11-21 20:51:30,605][MainProcess][lib.configurable][INFO] adam.Adam.__init__ was configured with:\n",
      "{'amsgrad': True, 'params': <filter object at 0x7f3c301877b8>}\n",
      "[2020-11-21 20:51:30,606][MainProcess][lib.configurable][INFO] adam.Adam.__init__ was configured with:\n",
      "{'amsgrad': True, 'params': <filter object at 0x7f3c301877b8>}\n",
      "[2020-11-21 20:51:30,607][MainProcess][lib.configurable][INFO] optimizer.Optimizer.__init__ was configured with:\n",
      "{   'max_grad_norm': 4.234759393183486,\n",
      "    'optim': <lib.optim.adam.Adam object at 0x7f3c301879e8>}\n",
      "[2020-11-21 20:51:30,608][MainProcess][__main__][INFO] Epochs: 1\n",
      "[2020-11-21 20:51:30,610][MainProcess][__main__][INFO] Train Dataset Size: 75900\n",
      "[2020-11-21 20:51:30,611][MainProcess][__main__][INFO] Dev Dataset Size: 10845\n",
      "[2020-11-21 20:51:30,611][MainProcess][__main__][INFO] Train Batch Size: 32\n",
      "[2020-11-21 20:51:30,612][MainProcess][__main__][INFO] Train Max Batch Size: 1024\n",
      "[2020-11-21 20:51:30,612][MainProcess][__main__][INFO] Total Parameters: 2408035\n",
      "[2020-11-21 20:51:30,613][MainProcess][__main__][INFO] Model:\n",
      "SeqToLabel(\n",
      "  (encoder): SeqEncoder(\n",
      "    (embedding): Embedding(6899, 300, padding_idx=0)\n",
      "    (rnn): GRU(300, 58, dropout=0.1174717919759896, bidirectional=True)\n",
      "    (rnn_dropout): LockedDropout(p=0.8523783999350372)\n",
      "    (embedding_dropout): Dropout(p=0.10756465001906793)\n",
      "  )\n",
      "  (out): Sequential(\n",
      "    (0): Linear(in_features=116, out_features=116, bias=True)\n",
      "    (1): BatchNorm1d(116, eps=1e-05, momentum=0.1, affine=True)\n",
      "    (2): ReLU()\n",
      "    (3): Dropout(p=0.7999893104070022)\n",
      "    (4): Linear(in_features=116, out_features=1703, bias=True)\n",
      "  )\n",
      ")\n",
      "[2020-11-21 20:51:30,614][MainProcess][__main__][INFO] Epoch: 0\n",
      "[2020-11-21 20:51:30,614][MainProcess][__main__][INFO] Training...\n"
     ]
    },
    {
     "name": "stderr",
     "output_type": "stream",
     "text": [
      "/mount/arbeitsdaten46/projekte/dialog-1/kanjurva/Simple-QA-EMNLP-2018/venv2/lib/python3.6/site-packages/ipykernel_launcher.py:57: TqdmDeprecationWarning: This function will be removed in tqdm==5.0.0\n",
      "Please use `tqdm.notebook.tqdm` instead of `tqdm.tqdm_notebook`\n"
     ]
    },
    {
     "data": {
      "application/vnd.jupyter.widget-view+json": {
       "model_id": "30e5b434744d4774b0f4de6363f3cd78",
       "version_major": 2,
       "version_minor": 0
      },
      "text/plain": [
       "HBox(children=(HTML(value=''), FloatProgress(value=0.0, max=2371.0), HTML(value='')))"
      ]
     },
     "metadata": {},
     "output_type": "display_data"
    },
    {
     "name": "stdout",
     "output_type": "stream",
     "text": [
      "\n",
      "[2020-11-21 20:51:52,946][MainProcess][lib.checkpoint][INFO] Saving checkpoint: ../../experiments/relation_classifier.11_21_20:05:46/79662.pt\n"
     ]
    },
    {
     "name": "stderr",
     "output_type": "stream",
     "text": [
      "/mount/arbeitsdaten46/projekte/dialog-1/kanjurva/Simple-QA-EMNLP-2018/venv2/lib/python3.6/site-packages/ipykernel_launcher.py:13: TqdmDeprecationWarning: This function will be removed in tqdm==5.0.0\n",
      "Please use `tqdm.notebook.tqdm` instead of `tqdm.tqdm_notebook`\n",
      "  del sys.path[0]\n"
     ]
    },
    {
     "data": {
      "application/vnd.jupyter.widget-view+json": {
       "model_id": "4f7ad58e46d34959a075e368125864e5",
       "version_major": 2,
       "version_minor": 0
      },
      "text/plain": [
       "HBox(children=(HTML(value=''), FloatProgress(value=0.0, max=2.0), HTML(value='')))"
      ]
     },
     "metadata": {},
     "output_type": "display_data"
    },
    {
     "name": "stdout",
     "output_type": "stream",
     "text": [
      "\n",
      "[2020-11-21 20:51:54,000][MainProcess][__main__][INFO] NLLLoss: 1.079\n",
      "[2020-11-21 20:51:54,062][MainProcess][lib.metrics.accuracy][INFO] Accuracy: 0.77001953125 [6308 of 8192]\n"
     ]
    },
    {
     "name": "stderr",
     "output_type": "stream",
     "text": [
      "\r",
      "  4%|▍         | 38.8888888888889/1000.0 [36:22<10:06:54, 37.89s/it, min_score=-.85, models_evaluated=0]  "
     ]
    },
    {
     "name": "stdout",
     "output_type": "stream",
     "text": [
      "––––––––––––––––––––––––––––––––––––––––––––––––––––––––––––––––––––––––––––––––––––––––––––––––––––\n",
      "====================================================================================================\n",
      "[2020-11-21 20:51:54,097][MainProcess][lib.configurable][INFO] Checking configuration...\n",
      "[2020-11-21 20:51:54,099][MainProcess][lib.configurable][INFO] Configuration checked.\n",
      "[2020-11-21 20:51:54,100][MainProcess][lib.configurable][INFO] seq_to_label.SeqToLabel.__init__ was configured with:\n",
      "{   'bidirectional': False,\n",
      "    'decode_dropout': 0.647317532271539,\n",
      "    'embedding_dropout': 0.13319460774925324,\n",
      "    'embedding_size': 300,\n",
      "    'freeze_embeddings': False,\n",
      "    'input_vocab_size': 6899,\n",
      "    'output_vocab_size': 1703,\n",
      "    'rnn_cell': 'gru',\n",
      "    'rnn_dropout': 0.28591695227792596,\n",
      "    'rnn_layers': 3,\n",
      "    'rnn_size': 292,\n",
      "    'rnn_variational_dropout': 0.2823089424994861}\n",
      "[2020-11-21 20:51:54,101][MainProcess][lib.configurable][INFO] seq_encoder.SeqEncoder.__init__ no config for: lib.nn.seq_encoder.SeqEncoder.__init__\n",
      "[2020-11-21 20:51:54,101][MainProcess][lib.configurable][INFO] seq_encoder.SeqEncoder.__init__ was configured with:\n",
      "{   'bidirectional': False,\n",
      "    'embedding_dropout': 0.13319460774925324,\n",
      "    'embedding_size': 300,\n",
      "    'freeze_embeddings': False,\n",
      "    'n_layers': 3,\n",
      "    'rnn_cell': 'gru',\n",
      "    'rnn_dropout': 0.28591695227792596,\n",
      "    'rnn_size': 292,\n",
      "    'rnn_variational_dropout': 0.2823089424994861,\n",
      "    'vocab_size': 6899}\n",
      "[2020-11-21 20:51:54,308][MainProcess][lib.configurable][INFO] adam.Adam.__init__ was configured with:\n",
      "{'amsgrad': True, 'params': <filter object at 0x7f3c30187278>}\n",
      "[2020-11-21 20:51:54,310][MainProcess][lib.configurable][INFO] adam.Adam.__init__ was configured with:\n",
      "{'amsgrad': True, 'params': <filter object at 0x7f3c30187278>}\n",
      "[2020-11-21 20:51:54,311][MainProcess][lib.configurable][INFO] optimizer.Optimizer.__init__ was configured with:\n",
      "{   'max_grad_norm': 0.4026088241228049,\n",
      "    'optim': <lib.optim.adam.Adam object at 0x7f3c301879e8>}\n",
      "[2020-11-21 20:51:54,312][MainProcess][__main__][INFO] Epochs: 1\n",
      "[2020-11-21 20:51:54,313][MainProcess][__main__][INFO] Train Dataset Size: 75900\n",
      "[2020-11-21 20:51:54,314][MainProcess][__main__][INFO] Dev Dataset Size: 10845\n",
      "[2020-11-21 20:51:54,315][MainProcess][__main__][INFO] Train Batch Size: 32\n",
      "[2020-11-21 20:51:54,315][MainProcess][__main__][INFO] Train Max Batch Size: 1024\n",
      "[2020-11-21 20:51:54,316][MainProcess][__main__][INFO] Total Parameters: 4201835\n",
      "[2020-11-21 20:51:54,317][MainProcess][__main__][INFO] Model:\n",
      "SeqToLabel(\n",
      "  (encoder): SeqEncoder(\n",
      "    (embedding): Embedding(6899, 300, padding_idx=0)\n",
      "    (rnn): GRU(300, 292, num_layers=3, dropout=0.2823089424994861)\n",
      "    (rnn_dropout): LockedDropout(p=0.28591695227792596)\n",
      "    (embedding_dropout): Dropout(p=0.13319460774925324)\n",
      "  )\n",
      "  (out): Sequential(\n",
      "    (0): Linear(in_features=292, out_features=292, bias=True)\n",
      "    (1): BatchNorm1d(292, eps=1e-05, momentum=0.1, affine=True)\n",
      "    (2): ReLU()\n",
      "    (3): Dropout(p=0.647317532271539)\n",
      "    (4): Linear(in_features=292, out_features=1703, bias=True)\n",
      "  )\n",
      ")\n",
      "[2020-11-21 20:51:54,317][MainProcess][__main__][INFO] Epoch: 0\n",
      "[2020-11-21 20:51:54,318][MainProcess][__main__][INFO] Training...\n"
     ]
    },
    {
     "name": "stderr",
     "output_type": "stream",
     "text": [
      "/mount/arbeitsdaten46/projekte/dialog-1/kanjurva/Simple-QA-EMNLP-2018/venv2/lib/python3.6/site-packages/ipykernel_launcher.py:57: TqdmDeprecationWarning: This function will be removed in tqdm==5.0.0\n",
      "Please use `tqdm.notebook.tqdm` instead of `tqdm.tqdm_notebook`\n"
     ]
    },
    {
     "data": {
      "application/vnd.jupyter.widget-view+json": {
       "model_id": "37082d266c854e0391c637ec357fb18d",
       "version_major": 2,
       "version_minor": 0
      },
      "text/plain": [
       "HBox(children=(HTML(value=''), FloatProgress(value=0.0, max=2371.0), HTML(value='')))"
      ]
     },
     "metadata": {},
     "output_type": "display_data"
    },
    {
     "name": "stdout",
     "output_type": "stream",
     "text": [
      "\n",
      "[2020-11-21 20:52:20,929][MainProcess][lib.checkpoint][INFO] Saving checkpoint: ../../experiments/relation_classifier.11_21_20:05:46/79690.pt\n"
     ]
    },
    {
     "name": "stderr",
     "output_type": "stream",
     "text": [
      "/mount/arbeitsdaten46/projekte/dialog-1/kanjurva/Simple-QA-EMNLP-2018/venv2/lib/python3.6/site-packages/ipykernel_launcher.py:13: TqdmDeprecationWarning: This function will be removed in tqdm==5.0.0\n",
      "Please use `tqdm.notebook.tqdm` instead of `tqdm.tqdm_notebook`\n",
      "  del sys.path[0]\n"
     ]
    },
    {
     "data": {
      "application/vnd.jupyter.widget-view+json": {
       "model_id": "3551774022eb45b990435c879f52a7ec",
       "version_major": 2,
       "version_minor": 0
      },
      "text/plain": [
       "HBox(children=(HTML(value=''), FloatProgress(value=0.0, max=2.0), HTML(value='')))"
      ]
     },
     "metadata": {},
     "output_type": "display_data"
    },
    {
     "name": "stdout",
     "output_type": "stream",
     "text": [
      "\n",
      "[2020-11-21 20:52:22,764][MainProcess][__main__][INFO] NLLLoss: 0.763\n",
      "[2020-11-21 20:52:22,820][MainProcess][lib.metrics.accuracy][INFO] Accuracy: 0.8134765625 [6664 of 8192]\n"
     ]
    },
    {
     "name": "stderr",
     "output_type": "stream",
     "text": [
      "\r",
      "  4%|▍         | 40.000000000000014/1000.0 [36:51<9:08:38, 34.29s/it, min_score=-.85, models_evaluated=0]"
     ]
    },
    {
     "name": "stdout",
     "output_type": "stream",
     "text": [
      "––––––––––––––––––––––––––––––––––––––––––––––––––––––––––––––––––––––––––––––––––––––––––––––––––––\n",
      "====================================================================================================\n",
      "[2020-11-21 20:52:22,869][MainProcess][lib.configurable][INFO] Checking configuration...\n",
      "[2020-11-21 20:52:22,870][MainProcess][lib.configurable][INFO] Configuration checked.\n",
      "[2020-11-21 20:52:22,872][MainProcess][lib.configurable][INFO] seq_to_label.SeqToLabel.__init__ was configured with:\n",
      "{   'bidirectional': False,\n",
      "    'decode_dropout': 0.4063639541475585,\n",
      "    'embedding_dropout': 0.28115255187526816,\n",
      "    'embedding_size': 300,\n",
      "    'freeze_embeddings': False,\n",
      "    'input_vocab_size': 6899,\n",
      "    'output_vocab_size': 1703,\n",
      "    'rnn_cell': 'lstm',\n",
      "    'rnn_dropout': 0.6980313563659972,\n",
      "    'rnn_layers': 1,\n",
      "    'rnn_size': 340,\n",
      "    'rnn_variational_dropout': 0.09659281711524169}\n",
      "[2020-11-21 20:52:22,873][MainProcess][lib.configurable][INFO] seq_encoder.SeqEncoder.__init__ no config for: lib.nn.seq_encoder.SeqEncoder.__init__\n",
      "[2020-11-21 20:52:22,874][MainProcess][lib.configurable][INFO] seq_encoder.SeqEncoder.__init__ was configured with:\n",
      "{   'bidirectional': False,\n",
      "    'embedding_dropout': 0.28115255187526816,\n",
      "    'embedding_size': 300,\n",
      "    'freeze_embeddings': False,\n",
      "    'n_layers': 1,\n",
      "    'rnn_cell': 'lstm',\n",
      "    'rnn_dropout': 0.6980313563659972,\n",
      "    'rnn_size': 340,\n",
      "    'rnn_variational_dropout': 0.09659281711524169,\n",
      "    'vocab_size': 6899}\n",
      "[2020-11-21 20:52:23,060][MainProcess][lib.configurable][INFO] adam.Adam.__init__ was configured with:\n",
      "{'amsgrad': True, 'params': <filter object at 0x7f3c2f7a00f0>}\n",
      "[2020-11-21 20:52:23,061][MainProcess][lib.configurable][INFO] adam.Adam.__init__ was configured with:\n",
      "{'amsgrad': True, 'params': <filter object at 0x7f3c2f7a00f0>}\n",
      "[2020-11-21 20:52:23,062][MainProcess][lib.configurable][INFO] optimizer.Optimizer.__init__ was configured with:\n",
      "{   'max_grad_norm': 2.9776140339041284,\n",
      "    'optim': <lib.optim.adam.Adam object at 0x7f3c2f7a0748>}\n",
      "[2020-11-21 20:52:23,063][MainProcess][__main__][INFO] Epochs: 1\n",
      "[2020-11-21 20:52:23,064][MainProcess][__main__][INFO] Train Dataset Size: 75900\n",
      "[2020-11-21 20:52:23,065][MainProcess][__main__][INFO] Dev Dataset Size: 10845\n",
      "[2020-11-21 20:52:23,066][MainProcess][__main__][INFO] Train Batch Size: 32\n",
      "[2020-11-21 20:52:23,066][MainProcess][__main__][INFO] Train Max Batch Size: 1024\n",
      "[2020-11-21 20:52:23,067][MainProcess][__main__][INFO] Total Parameters: 3640163\n",
      "[2020-11-21 20:52:23,069][MainProcess][__main__][INFO] Model:\n",
      "SeqToLabel(\n",
      "  (encoder): SeqEncoder(\n",
      "    (embedding): Embedding(6899, 300, padding_idx=0)\n",
      "    (rnn): LSTM(300, 340, dropout=0.09659281711524169)\n",
      "    (rnn_dropout): LockedDropout(p=0.6980313563659972)\n",
      "    (embedding_dropout): Dropout(p=0.28115255187526816)\n",
      "  )\n",
      "  (out): Sequential(\n",
      "    (0): Linear(in_features=340, out_features=340, bias=True)\n",
      "    (1): BatchNorm1d(340, eps=1e-05, momentum=0.1, affine=True)\n",
      "    (2): ReLU()\n",
      "    (3): Dropout(p=0.4063639541475585)\n",
      "    (4): Linear(in_features=340, out_features=1703, bias=True)\n",
      "  )\n",
      ")\n",
      "[2020-11-21 20:52:23,070][MainProcess][__main__][INFO] Epoch: 0\n",
      "[2020-11-21 20:52:23,070][MainProcess][__main__][INFO] Training...\n"
     ]
    },
    {
     "name": "stderr",
     "output_type": "stream",
     "text": [
      "/mount/arbeitsdaten46/projekte/dialog-1/kanjurva/Simple-QA-EMNLP-2018/venv2/lib/python3.6/site-packages/ipykernel_launcher.py:57: TqdmDeprecationWarning: This function will be removed in tqdm==5.0.0\n",
      "Please use `tqdm.notebook.tqdm` instead of `tqdm.tqdm_notebook`\n"
     ]
    },
    {
     "data": {
      "application/vnd.jupyter.widget-view+json": {
       "model_id": "4801169a9b964242acda61b7de5c5bcf",
       "version_major": 2,
       "version_minor": 0
      },
      "text/plain": [
       "HBox(children=(HTML(value=''), FloatProgress(value=0.0, max=2371.0), HTML(value='')))"
      ]
     },
     "metadata": {},
     "output_type": "display_data"
    },
    {
     "name": "stdout",
     "output_type": "stream",
     "text": [
      "\n",
      "[2020-11-21 20:52:40,844][MainProcess][lib.checkpoint][INFO] Saving checkpoint: ../../experiments/relation_classifier.11_21_20:05:46/79710.pt\n"
     ]
    },
    {
     "name": "stderr",
     "output_type": "stream",
     "text": [
      "/mount/arbeitsdaten46/projekte/dialog-1/kanjurva/Simple-QA-EMNLP-2018/venv2/lib/python3.6/site-packages/ipykernel_launcher.py:13: TqdmDeprecationWarning: This function will be removed in tqdm==5.0.0\n",
      "Please use `tqdm.notebook.tqdm` instead of `tqdm.tqdm_notebook`\n",
      "  del sys.path[0]\n"
     ]
    },
    {
     "data": {
      "application/vnd.jupyter.widget-view+json": {
       "model_id": "31a7056ade9c48578380174a102e51e3",
       "version_major": 2,
       "version_minor": 0
      },
      "text/plain": [
       "HBox(children=(HTML(value=''), FloatProgress(value=0.0, max=2.0), HTML(value='')))"
      ]
     },
     "metadata": {},
     "output_type": "display_data"
    },
    {
     "name": "stdout",
     "output_type": "stream",
     "text": [
      "\n",
      "[2020-11-21 20:52:42,881][MainProcess][__main__][INFO] NLLLoss: 0.677\n",
      "[2020-11-21 20:52:42,943][MainProcess][lib.metrics.accuracy][INFO] Accuracy: 0.8284912109375 [6787 of 8192]\n"
     ]
    },
    {
     "name": "stderr",
     "output_type": "stream",
     "text": [
      "\r",
      "  4%|▍         | 41.11111111111113/1000.0 [37:11<7:50:22, 29.43s/it, min_score=-.85, models_evaluated=0] "
     ]
    },
    {
     "name": "stdout",
     "output_type": "stream",
     "text": [
      "––––––––––––––––––––––––––––––––––––––––––––––––––––––––––––––––––––––––––––––––––––––––––––––––––––\n",
      "====================================================================================================\n",
      "[2020-11-21 20:52:42,980][MainProcess][lib.configurable][INFO] Checking configuration...\n",
      "[2020-11-21 20:52:42,982][MainProcess][lib.configurable][INFO] Configuration checked.\n",
      "[2020-11-21 20:52:42,984][MainProcess][lib.configurable][INFO] seq_to_label.SeqToLabel.__init__ was configured with:\n",
      "{   'bidirectional': True,\n",
      "    'decode_dropout': 0.6503186710666162,\n",
      "    'embedding_dropout': 0.7303724039989055,\n",
      "    'embedding_size': 300,\n",
      "    'freeze_embeddings': True,\n",
      "    'input_vocab_size': 6899,\n",
      "    'output_vocab_size': 1703,\n",
      "    'rnn_cell': 'lstm',\n",
      "    'rnn_dropout': 0.8885270332114718,\n",
      "    'rnn_layers': 2,\n",
      "    'rnn_size': 178,\n",
      "    'rnn_variational_dropout': 0.048918416843873956}\n",
      "[2020-11-21 20:52:42,985][MainProcess][lib.configurable][INFO] seq_encoder.SeqEncoder.__init__ no config for: lib.nn.seq_encoder.SeqEncoder.__init__\n",
      "[2020-11-21 20:52:42,986][MainProcess][lib.configurable][INFO] seq_encoder.SeqEncoder.__init__ was configured with:\n",
      "{   'bidirectional': True,\n",
      "    'embedding_dropout': 0.7303724039989055,\n",
      "    'embedding_size': 300,\n",
      "    'freeze_embeddings': True,\n",
      "    'n_layers': 2,\n",
      "    'rnn_cell': 'lstm',\n",
      "    'rnn_dropout': 0.8885270332114718,\n",
      "    'rnn_size': 178,\n",
      "    'rnn_variational_dropout': 0.048918416843873956,\n",
      "    'vocab_size': 6899}\n",
      "[2020-11-21 20:52:43,186][MainProcess][lib.configurable][INFO] adam.Adam.__init__ was configured with:\n",
      "{'amsgrad': True, 'params': <filter object at 0x7f3c28073908>}\n",
      "[2020-11-21 20:52:43,187][MainProcess][lib.configurable][INFO] adam.Adam.__init__ was configured with:\n",
      "{'amsgrad': True, 'params': <filter object at 0x7f3c28073908>}\n",
      "[2020-11-21 20:52:43,188][MainProcess][lib.configurable][INFO] optimizer.Optimizer.__init__ was configured with:\n",
      "{   'max_grad_norm': 4.404244463878298,\n",
      "    'optim': <lib.optim.adam.Adam object at 0x7f3c280736a0>}\n",
      "[2020-11-21 20:52:43,189][MainProcess][__main__][INFO] Epochs: 1\n",
      "[2020-11-21 20:52:43,190][MainProcess][__main__][INFO] Train Dataset Size: 75900\n",
      "[2020-11-21 20:52:43,191][MainProcess][__main__][INFO] Dev Dataset Size: 10845\n",
      "[2020-11-21 20:52:43,192][MainProcess][__main__][INFO] Train Batch Size: 32\n",
      "[2020-11-21 20:52:43,193][MainProcess][__main__][INFO] Train Max Batch Size: 1024\n",
      "[2020-11-21 20:52:43,193][MainProcess][__main__][INFO] Total Parameters: 806975\n",
      "[2020-11-21 20:52:43,194][MainProcess][__main__][INFO] Model:\n",
      "SeqToLabel(\n",
      "  (encoder): SeqEncoder(\n",
      "    (embedding): Embedding(6899, 300, padding_idx=0)\n",
      "    (rnn): LSTM(300, 89, num_layers=2, dropout=0.048918416843873956, bidirectional=True)\n",
      "    (rnn_dropout): LockedDropout(p=0.8885270332114718)\n",
      "    (embedding_dropout): Dropout(p=0.7303724039989055)\n",
      "  )\n",
      "  (out): Sequential(\n",
      "    (0): Linear(in_features=178, out_features=178, bias=True)\n",
      "    (1): BatchNorm1d(178, eps=1e-05, momentum=0.1, affine=True)\n",
      "    (2): ReLU()\n",
      "    (3): Dropout(p=0.6503186710666162)\n",
      "    (4): Linear(in_features=178, out_features=1703, bias=True)\n",
      "  )\n",
      ")\n",
      "[2020-11-21 20:52:43,196][MainProcess][__main__][INFO] Epoch: 0\n",
      "[2020-11-21 20:52:43,197][MainProcess][__main__][INFO] Training...\n"
     ]
    },
    {
     "name": "stderr",
     "output_type": "stream",
     "text": [
      "/mount/arbeitsdaten46/projekte/dialog-1/kanjurva/Simple-QA-EMNLP-2018/venv2/lib/python3.6/site-packages/ipykernel_launcher.py:57: TqdmDeprecationWarning: This function will be removed in tqdm==5.0.0\n",
      "Please use `tqdm.notebook.tqdm` instead of `tqdm.tqdm_notebook`\n"
     ]
    },
    {
     "data": {
      "application/vnd.jupyter.widget-view+json": {
       "model_id": "584f6127d051414bb0f60987c375ee8b",
       "version_major": 2,
       "version_minor": 0
      },
      "text/plain": [
       "HBox(children=(HTML(value=''), FloatProgress(value=0.0, max=2371.0), HTML(value='')))"
      ]
     },
     "metadata": {},
     "output_type": "display_data"
    },
    {
     "name": "stdout",
     "output_type": "stream",
     "text": [
      "\n",
      "[2020-11-21 20:53:12,687][MainProcess][lib.checkpoint][INFO] Saving checkpoint: ../../experiments/relation_classifier.11_21_20:05:46/79742.pt\n"
     ]
    },
    {
     "name": "stderr",
     "output_type": "stream",
     "text": [
      "/mount/arbeitsdaten46/projekte/dialog-1/kanjurva/Simple-QA-EMNLP-2018/venv2/lib/python3.6/site-packages/ipykernel_launcher.py:13: TqdmDeprecationWarning: This function will be removed in tqdm==5.0.0\n",
      "Please use `tqdm.notebook.tqdm` instead of `tqdm.tqdm_notebook`\n",
      "  del sys.path[0]\n"
     ]
    },
    {
     "data": {
      "application/vnd.jupyter.widget-view+json": {
       "model_id": "0efaf5146e40427f905d9173e328d410",
       "version_major": 2,
       "version_minor": 0
      },
      "text/plain": [
       "HBox(children=(HTML(value=''), FloatProgress(value=0.0, max=2.0), HTML(value='')))"
      ]
     },
     "metadata": {},
     "output_type": "display_data"
    },
    {
     "name": "stdout",
     "output_type": "stream",
     "text": [
      "\n",
      "[2020-11-21 20:53:13,813][MainProcess][__main__][INFO] NLLLoss: 0.886\n",
      "[2020-11-21 20:53:13,873][MainProcess][lib.metrics.accuracy][INFO] Accuracy: 0.7777099609375 [6371 of 8192]\n"
     ]
    },
    {
     "name": "stderr",
     "output_type": "stream",
     "text": [
      "\r",
      "  4%|▍         | 42.22222222222224/1000.0 [37:42<7:42:11, 28.95s/it, min_score=-.85, models_evaluated=0]"
     ]
    },
    {
     "name": "stdout",
     "output_type": "stream",
     "text": [
      "––––––––––––––––––––––––––––––––––––––––––––––––––––––––––––––––––––––––––––––––––––––––––––––––––––\n",
      "====================================================================================================\n",
      "[2020-11-21 20:53:13,912][MainProcess][lib.configurable][INFO] Checking configuration...\n",
      "[2020-11-21 20:53:13,914][MainProcess][lib.configurable][INFO] Configuration checked.\n",
      "[2020-11-21 20:53:13,916][MainProcess][lib.configurable][INFO] seq_to_label.SeqToLabel.__init__ was configured with:\n",
      "{   'bidirectional': False,\n",
      "    'decode_dropout': 0.12042613400992064,\n",
      "    'embedding_dropout': 0.03917265988393023,\n",
      "    'embedding_size': 300,\n",
      "    'freeze_embeddings': True,\n",
      "    'input_vocab_size': 6899,\n",
      "    'output_vocab_size': 1703,\n",
      "    'rnn_cell': 'gru',\n",
      "    'rnn_dropout': 0.6639322109860698,\n",
      "    'rnn_layers': 3,\n",
      "    'rnn_size': 158,\n",
      "    'rnn_variational_dropout': 0.5374791417201902}\n",
      "[2020-11-21 20:53:13,917][MainProcess][lib.configurable][INFO] seq_encoder.SeqEncoder.__init__ no config for: lib.nn.seq_encoder.SeqEncoder.__init__\n",
      "[2020-11-21 20:53:13,917][MainProcess][lib.configurable][INFO] seq_encoder.SeqEncoder.__init__ was configured with:\n",
      "{   'bidirectional': False,\n",
      "    'embedding_dropout': 0.03917265988393023,\n",
      "    'embedding_size': 300,\n",
      "    'freeze_embeddings': True,\n",
      "    'n_layers': 3,\n",
      "    'rnn_cell': 'gru',\n",
      "    'rnn_dropout': 0.6639322109860698,\n",
      "    'rnn_size': 158,\n",
      "    'rnn_variational_dropout': 0.5374791417201902,\n",
      "    'vocab_size': 6899}\n",
      "[2020-11-21 20:53:14,097][MainProcess][lib.configurable][INFO] adam.Adam.__init__ was configured with:\n",
      "{'amsgrad': True, 'params': <filter object at 0x7f3c28073908>}\n",
      "[2020-11-21 20:53:14,099][MainProcess][lib.configurable][INFO] adam.Adam.__init__ was configured with:\n",
      "{'amsgrad': True, 'params': <filter object at 0x7f3c28073908>}\n",
      "[2020-11-21 20:53:14,100][MainProcess][lib.configurable][INFO] optimizer.Optimizer.__init__ was configured with:\n",
      "{   'max_grad_norm': 4.9198095564603905,\n",
      "    'optim': <lib.optim.adam.Adam object at 0x7f3c280736a0>}\n",
      "[2020-11-21 20:53:14,101][MainProcess][__main__][INFO] Epochs: 1\n",
      "[2020-11-21 20:53:14,103][MainProcess][__main__][INFO] Train Dataset Size: 75900\n",
      "[2020-11-21 20:53:14,104][MainProcess][__main__][INFO] Dev Dataset Size: 10845\n",
      "[2020-11-21 20:53:14,105][MainProcess][__main__][INFO] Train Batch Size: 32\n",
      "[2020-11-21 20:53:14,105][MainProcess][__main__][INFO] Train Max Batch Size: 1024\n",
      "[2020-11-21 20:53:14,106][MainProcess][__main__][INFO] Total Parameters: 815719\n",
      "[2020-11-21 20:53:14,107][MainProcess][__main__][INFO] Model:\n",
      "SeqToLabel(\n",
      "  (encoder): SeqEncoder(\n",
      "    (embedding): Embedding(6899, 300, padding_idx=0)\n",
      "    (rnn): GRU(300, 158, num_layers=3, dropout=0.5374791417201902)\n",
      "    (rnn_dropout): LockedDropout(p=0.6639322109860698)\n",
      "    (embedding_dropout): Dropout(p=0.03917265988393023)\n",
      "  )\n",
      "  (out): Sequential(\n",
      "    (0): Linear(in_features=158, out_features=158, bias=True)\n",
      "    (1): BatchNorm1d(158, eps=1e-05, momentum=0.1, affine=True)\n",
      "    (2): ReLU()\n",
      "    (3): Dropout(p=0.12042613400992064)\n",
      "    (4): Linear(in_features=158, out_features=1703, bias=True)\n",
      "  )\n",
      ")\n",
      "[2020-11-21 20:53:14,108][MainProcess][__main__][INFO] Epoch: 0\n",
      "[2020-11-21 20:53:14,109][MainProcess][__main__][INFO] Training...\n"
     ]
    },
    {
     "name": "stderr",
     "output_type": "stream",
     "text": [
      "/mount/arbeitsdaten46/projekte/dialog-1/kanjurva/Simple-QA-EMNLP-2018/venv2/lib/python3.6/site-packages/ipykernel_launcher.py:57: TqdmDeprecationWarning: This function will be removed in tqdm==5.0.0\n",
      "Please use `tqdm.notebook.tqdm` instead of `tqdm.tqdm_notebook`\n"
     ]
    },
    {
     "data": {
      "application/vnd.jupyter.widget-view+json": {
       "model_id": "f925e7bc7f5a49c7a53201c9d10552dd",
       "version_major": 2,
       "version_minor": 0
      },
      "text/plain": [
       "HBox(children=(HTML(value=''), FloatProgress(value=0.0, max=2371.0), HTML(value='')))"
      ]
     },
     "metadata": {},
     "output_type": "display_data"
    },
    {
     "name": "stdout",
     "output_type": "stream",
     "text": [
      "\n",
      "[2020-11-21 20:53:39,506][MainProcess][lib.checkpoint][INFO] Saving checkpoint: ../../experiments/relation_classifier.11_21_20:05:46/79769.pt\n"
     ]
    },
    {
     "name": "stderr",
     "output_type": "stream",
     "text": [
      "/mount/arbeitsdaten46/projekte/dialog-1/kanjurva/Simple-QA-EMNLP-2018/venv2/lib/python3.6/site-packages/ipykernel_launcher.py:13: TqdmDeprecationWarning: This function will be removed in tqdm==5.0.0\n",
      "Please use `tqdm.notebook.tqdm` instead of `tqdm.tqdm_notebook`\n",
      "  del sys.path[0]\n"
     ]
    },
    {
     "data": {
      "application/vnd.jupyter.widget-view+json": {
       "model_id": "d0287b906be74e5d9e4faa293825752a",
       "version_major": 2,
       "version_minor": 0
      },
      "text/plain": [
       "HBox(children=(HTML(value=''), FloatProgress(value=0.0, max=2.0), HTML(value='')))"
      ]
     },
     "metadata": {},
     "output_type": "display_data"
    },
    {
     "name": "stdout",
     "output_type": "stream",
     "text": [
      "\n",
      "[2020-11-21 20:53:40,402][MainProcess][__main__][INFO] NLLLoss: 0.661\n",
      "[2020-11-21 20:53:40,463][MainProcess][lib.metrics.accuracy][INFO] Accuracy: 0.8284912109375 [6787 of 8192]\n"
     ]
    },
    {
     "name": "stderr",
     "output_type": "stream",
     "text": [
      "\r",
      "  4%|▍         | 43.33333333333336/1000.0 [38:08<7:17:37, 27.45s/it, min_score=-.85, models_evaluated=0]"
     ]
    },
    {
     "name": "stdout",
     "output_type": "stream",
     "text": [
      "––––––––––––––––––––––––––––––––––––––––––––––––––––––––––––––––––––––––––––––––––––––––––––––––––––\n",
      "====================================================================================================\n",
      "[2020-11-21 20:53:40,499][MainProcess][lib.configurable][INFO] Checking configuration...\n",
      "[2020-11-21 20:53:40,501][MainProcess][lib.configurable][INFO] Configuration checked.\n",
      "[2020-11-21 20:53:40,502][MainProcess][lib.configurable][INFO] seq_to_label.SeqToLabel.__init__ was configured with:\n",
      "{   'bidirectional': True,\n",
      "    'decode_dropout': 0.1980974989254489,\n",
      "    'embedding_dropout': 0.7658095356534548,\n",
      "    'embedding_size': 300,\n",
      "    'freeze_embeddings': True,\n",
      "    'input_vocab_size': 6899,\n",
      "    'output_vocab_size': 1703,\n",
      "    'rnn_cell': 'gru',\n",
      "    'rnn_dropout': 0.18570748735514955,\n",
      "    'rnn_layers': 1,\n",
      "    'rnn_size': 100,\n",
      "    'rnn_variational_dropout': 0.45885369644682383}\n",
      "[2020-11-21 20:53:40,503][MainProcess][lib.configurable][INFO] seq_encoder.SeqEncoder.__init__ no config for: lib.nn.seq_encoder.SeqEncoder.__init__\n",
      "[2020-11-21 20:53:40,504][MainProcess][lib.configurable][INFO] seq_encoder.SeqEncoder.__init__ was configured with:\n",
      "{   'bidirectional': True,\n",
      "    'embedding_dropout': 0.7658095356534548,\n",
      "    'embedding_size': 300,\n",
      "    'freeze_embeddings': True,\n",
      "    'n_layers': 1,\n",
      "    'rnn_cell': 'gru',\n",
      "    'rnn_dropout': 0.18570748735514955,\n",
      "    'rnn_size': 100,\n",
      "    'rnn_variational_dropout': 0.45885369644682383,\n",
      "    'vocab_size': 6899}\n",
      "[2020-11-21 20:53:40,670][MainProcess][lib.configurable][INFO] adam.Adam.__init__ was configured with:\n",
      "{'amsgrad': True, 'params': <filter object at 0x7f3ca703ccc0>}\n",
      "[2020-11-21 20:53:40,671][MainProcess][lib.configurable][INFO] adam.Adam.__init__ was configured with:\n",
      "{'amsgrad': True, 'params': <filter object at 0x7f3ca703ccc0>}\n",
      "[2020-11-21 20:53:40,673][MainProcess][lib.configurable][INFO] optimizer.Optimizer.__init__ was configured with:\n",
      "{   'max_grad_norm': 4.096284595303692,\n",
      "    'optim': <lib.optim.adam.Adam object at 0x7f3c9fe59860>}\n",
      "[2020-11-21 20:53:40,674][MainProcess][__main__][INFO] Epochs: 1\n",
      "[2020-11-21 20:53:40,674][MainProcess][__main__][INFO] Train Dataset Size: 75900\n",
      "[2020-11-21 20:53:40,675][MainProcess][__main__][INFO] Dev Dataset Size: 10845\n",
      "[2020-11-21 20:53:40,676][MainProcess][__main__][INFO] Train Batch Size: 32\n",
      "[2020-11-21 20:53:40,678][MainProcess][__main__][INFO] Train Max Batch Size: 1024\n",
      "[2020-11-21 20:53:40,679][MainProcess][__main__][INFO] Total Parameters: 287903\n",
      "[2020-11-21 20:53:40,680][MainProcess][__main__][INFO] Model:\n",
      "SeqToLabel(\n",
      "  (encoder): SeqEncoder(\n",
      "    (embedding): Embedding(6899, 300, padding_idx=0)\n",
      "    (rnn): GRU(300, 50, dropout=0.45885369644682383, bidirectional=True)\n",
      "    (rnn_dropout): LockedDropout(p=0.18570748735514955)\n",
      "    (embedding_dropout): Dropout(p=0.7658095356534548)\n",
      "  )\n",
      "  (out): Sequential(\n",
      "    (0): Linear(in_features=100, out_features=100, bias=True)\n",
      "    (1): BatchNorm1d(100, eps=1e-05, momentum=0.1, affine=True)\n",
      "    (2): ReLU()\n",
      "    (3): Dropout(p=0.1980974989254489)\n",
      "    (4): Linear(in_features=100, out_features=1703, bias=True)\n",
      "  )\n",
      ")\n",
      "[2020-11-21 20:53:40,681][MainProcess][__main__][INFO] Epoch: 0\n",
      "[2020-11-21 20:53:40,681][MainProcess][__main__][INFO] Training...\n"
     ]
    },
    {
     "name": "stderr",
     "output_type": "stream",
     "text": [
      "/mount/arbeitsdaten46/projekte/dialog-1/kanjurva/Simple-QA-EMNLP-2018/venv2/lib/python3.6/site-packages/ipykernel_launcher.py:57: TqdmDeprecationWarning: This function will be removed in tqdm==5.0.0\n",
      "Please use `tqdm.notebook.tqdm` instead of `tqdm.tqdm_notebook`\n"
     ]
    },
    {
     "data": {
      "application/vnd.jupyter.widget-view+json": {
       "model_id": "e486cccf69d6495d880214cecc955ba0",
       "version_major": 2,
       "version_minor": 0
      },
      "text/plain": [
       "HBox(children=(HTML(value=''), FloatProgress(value=0.0, max=2371.0), HTML(value='')))"
      ]
     },
     "metadata": {},
     "output_type": "display_data"
    },
    {
     "name": "stdout",
     "output_type": "stream",
     "text": [
      "\n",
      "[2020-11-21 20:54:01,508][MainProcess][lib.checkpoint][INFO] Saving checkpoint: ../../experiments/relation_classifier.11_21_20:05:46/79791.pt\n"
     ]
    },
    {
     "name": "stderr",
     "output_type": "stream",
     "text": [
      "/mount/arbeitsdaten46/projekte/dialog-1/kanjurva/Simple-QA-EMNLP-2018/venv2/lib/python3.6/site-packages/ipykernel_launcher.py:13: TqdmDeprecationWarning: This function will be removed in tqdm==5.0.0\n",
      "Please use `tqdm.notebook.tqdm` instead of `tqdm.tqdm_notebook`\n",
      "  del sys.path[0]\n"
     ]
    },
    {
     "data": {
      "application/vnd.jupyter.widget-view+json": {
       "model_id": "b7de8f662673422fa6a6f53626e49da3",
       "version_major": 2,
       "version_minor": 0
      },
      "text/plain": [
       "HBox(children=(HTML(value=''), FloatProgress(value=0.0, max=2.0), HTML(value='')))"
      ]
     },
     "metadata": {},
     "output_type": "display_data"
    },
    {
     "name": "stdout",
     "output_type": "stream",
     "text": [
      "\n",
      "[2020-11-21 20:54:02,371][MainProcess][__main__][INFO] NLLLoss: 0.837\n",
      "[2020-11-21 20:54:02,441][MainProcess][lib.metrics.accuracy][INFO] Accuracy: 0.7738037109375 [6339 of 8192]\n"
     ]
    },
    {
     "name": "stderr",
     "output_type": "stream",
     "text": [
      "\r",
      "  4%|▍         | 44.44444444444447/1000.0 [38:30<6:40:28, 25.15s/it, min_score=-.85, models_evaluated=0]"
     ]
    },
    {
     "name": "stdout",
     "output_type": "stream",
     "text": [
      "––––––––––––––––––––––––––––––––––––––––––––––––––––––––––––––––––––––––––––––––––––––––––––––––––––\n",
      "====================================================================================================\n",
      "[2020-11-21 20:54:02,473][MainProcess][lib.configurable][INFO] Checking configuration...\n",
      "[2020-11-21 20:54:02,475][MainProcess][lib.configurable][INFO] Configuration checked.\n",
      "[2020-11-21 20:54:02,476][MainProcess][lib.configurable][INFO] seq_to_label.SeqToLabel.__init__ was configured with:\n",
      "{   'bidirectional': False,\n",
      "    'decode_dropout': 0.1530157702554208,\n",
      "    'embedding_dropout': 0.4322695048214004,\n",
      "    'embedding_size': 300,\n",
      "    'freeze_embeddings': True,\n",
      "    'input_vocab_size': 6899,\n",
      "    'output_vocab_size': 1703,\n",
      "    'rnn_cell': 'gru',\n",
      "    'rnn_dropout': 0.3635258074488042,\n",
      "    'rnn_layers': 2,\n",
      "    'rnn_size': 434,\n",
      "    'rnn_variational_dropout': 0.09731885926345377}\n",
      "[2020-11-21 20:54:02,477][MainProcess][lib.configurable][INFO] seq_encoder.SeqEncoder.__init__ no config for: lib.nn.seq_encoder.SeqEncoder.__init__\n",
      "[2020-11-21 20:54:02,478][MainProcess][lib.configurable][INFO] seq_encoder.SeqEncoder.__init__ was configured with:\n",
      "{   'bidirectional': False,\n",
      "    'embedding_dropout': 0.4322695048214004,\n",
      "    'embedding_size': 300,\n",
      "    'freeze_embeddings': True,\n",
      "    'n_layers': 2,\n",
      "    'rnn_cell': 'gru',\n",
      "    'rnn_dropout': 0.3635258074488042,\n",
      "    'rnn_size': 434,\n",
      "    'rnn_variational_dropout': 0.09731885926345377,\n",
      "    'vocab_size': 6899}\n",
      "[2020-11-21 20:54:02,704][MainProcess][lib.configurable][INFO] adam.Adam.__init__ was configured with:\n",
      "{'amsgrad': True, 'params': <filter object at 0x7f3ca240bef0>}\n",
      "[2020-11-21 20:54:02,705][MainProcess][lib.configurable][INFO] adam.Adam.__init__ was configured with:\n",
      "{'amsgrad': True, 'params': <filter object at 0x7f3ca240bef0>}\n",
      "[2020-11-21 20:54:02,707][MainProcess][lib.configurable][INFO] optimizer.Optimizer.__init__ was configured with:\n",
      "{   'max_grad_norm': 4.990882532580449,\n",
      "    'optim': <lib.optim.adam.Adam object at 0x7f3ca240b4e0>}\n",
      "[2020-11-21 20:54:02,707][MainProcess][__main__][INFO] Epochs: 1\n",
      "[2020-11-21 20:54:02,709][MainProcess][__main__][INFO] Train Dataset Size: 75900\n",
      "[2020-11-21 20:54:02,709][MainProcess][__main__][INFO] Dev Dataset Size: 10845\n",
      "[2020-11-21 20:54:02,710][MainProcess][__main__][INFO] Train Batch Size: 32\n",
      "[2020-11-21 20:54:02,711][MainProcess][__main__][INFO] Train Max Batch Size: 1024\n",
      "[2020-11-21 20:54:02,712][MainProcess][__main__][INFO] Total Parameters: 3021475\n",
      "[2020-11-21 20:54:02,712][MainProcess][__main__][INFO] Model:\n",
      "SeqToLabel(\n",
      "  (encoder): SeqEncoder(\n",
      "    (embedding): Embedding(6899, 300, padding_idx=0)\n",
      "    (rnn): GRU(300, 434, num_layers=2, dropout=0.09731885926345377)\n",
      "    (rnn_dropout): LockedDropout(p=0.3635258074488042)\n",
      "    (embedding_dropout): Dropout(p=0.4322695048214004)\n",
      "  )\n",
      "  (out): Sequential(\n",
      "    (0): Linear(in_features=434, out_features=434, bias=True)\n",
      "    (1): BatchNorm1d(434, eps=1e-05, momentum=0.1, affine=True)\n",
      "    (2): ReLU()\n",
      "    (3): Dropout(p=0.1530157702554208)\n",
      "    (4): Linear(in_features=434, out_features=1703, bias=True)\n",
      "  )\n",
      ")\n",
      "[2020-11-21 20:54:02,713][MainProcess][__main__][INFO] Epoch: 0\n",
      "[2020-11-21 20:54:02,714][MainProcess][__main__][INFO] Training...\n"
     ]
    },
    {
     "name": "stderr",
     "output_type": "stream",
     "text": [
      "/mount/arbeitsdaten46/projekte/dialog-1/kanjurva/Simple-QA-EMNLP-2018/venv2/lib/python3.6/site-packages/ipykernel_launcher.py:57: TqdmDeprecationWarning: This function will be removed in tqdm==5.0.0\n",
      "Please use `tqdm.notebook.tqdm` instead of `tqdm.tqdm_notebook`\n"
     ]
    },
    {
     "data": {
      "application/vnd.jupyter.widget-view+json": {
       "model_id": "afab3baf61474f3ab5ec5ddd4004d8a1",
       "version_major": 2,
       "version_minor": 0
      },
      "text/plain": [
       "HBox(children=(HTML(value=''), FloatProgress(value=0.0, max=2371.0), HTML(value='')))"
      ]
     },
     "metadata": {},
     "output_type": "display_data"
    },
    {
     "name": "stdout",
     "output_type": "stream",
     "text": [
      "\n",
      "[2020-11-21 20:54:24,402][MainProcess][lib.checkpoint][INFO] Saving checkpoint: ../../experiments/relation_classifier.11_21_20:05:46/79814.pt\n"
     ]
    },
    {
     "name": "stderr",
     "output_type": "stream",
     "text": [
      "/mount/arbeitsdaten46/projekte/dialog-1/kanjurva/Simple-QA-EMNLP-2018/venv2/lib/python3.6/site-packages/ipykernel_launcher.py:13: TqdmDeprecationWarning: This function will be removed in tqdm==5.0.0\n",
      "Please use `tqdm.notebook.tqdm` instead of `tqdm.tqdm_notebook`\n",
      "  del sys.path[0]\n"
     ]
    },
    {
     "data": {
      "application/vnd.jupyter.widget-view+json": {
       "model_id": "0628025c7baf4f389c864eaf12e4312f",
       "version_major": 2,
       "version_minor": 0
      },
      "text/plain": [
       "HBox(children=(HTML(value=''), FloatProgress(value=0.0, max=2.0), HTML(value='')))"
      ]
     },
     "metadata": {},
     "output_type": "display_data"
    },
    {
     "name": "stdout",
     "output_type": "stream",
     "text": [
      "\n",
      "[2020-11-21 20:54:25,877][MainProcess][__main__][INFO] NLLLoss: 0.596\n",
      "[2020-11-21 20:54:25,936][MainProcess][lib.metrics.accuracy][INFO] Accuracy: 0.8446044921875 [6919 of 8192]\n"
     ]
    },
    {
     "name": "stderr",
     "output_type": "stream",
     "text": [
      "\r",
      "  5%|▍         | 45.555555555555586/1000.0 [38:54<6:20:58, 23.95s/it, min_score=-.85, models_evaluated=0]"
     ]
    },
    {
     "name": "stdout",
     "output_type": "stream",
     "text": [
      "––––––––––––––––––––––––––––––––––––––––––––––––––––––––––––––––––––––––––––––––––––––––––––––––––––\n",
      "====================================================================================================\n",
      "[2020-11-21 20:54:25,984][MainProcess][lib.configurable][INFO] Checking configuration...\n",
      "[2020-11-21 20:54:25,985][MainProcess][lib.configurable][INFO] Configuration checked.\n",
      "[2020-11-21 20:54:25,988][MainProcess][lib.configurable][INFO] seq_to_label.SeqToLabel.__init__ was configured with:\n",
      "{   'bidirectional': True,\n",
      "    'decode_dropout': 0.7220702976371701,\n",
      "    'embedding_dropout': 0.311912520000008,\n",
      "    'embedding_size': 300,\n",
      "    'freeze_embeddings': False,\n",
      "    'input_vocab_size': 6899,\n",
      "    'output_vocab_size': 1703,\n",
      "    'rnn_cell': 'lstm',\n",
      "    'rnn_dropout': 0.5041694775110531,\n",
      "    'rnn_layers': 3,\n",
      "    'rnn_size': 446,\n",
      "    'rnn_variational_dropout': 0.25973202477381374}\n",
      "[2020-11-21 20:54:25,989][MainProcess][lib.configurable][INFO] seq_encoder.SeqEncoder.__init__ no config for: lib.nn.seq_encoder.SeqEncoder.__init__\n",
      "[2020-11-21 20:54:25,990][MainProcess][lib.configurable][INFO] seq_encoder.SeqEncoder.__init__ was configured with:\n",
      "{   'bidirectional': True,\n",
      "    'embedding_dropout': 0.311912520000008,\n",
      "    'embedding_size': 300,\n",
      "    'freeze_embeddings': False,\n",
      "    'n_layers': 3,\n",
      "    'rnn_cell': 'lstm',\n",
      "    'rnn_dropout': 0.5041694775110531,\n",
      "    'rnn_size': 446,\n",
      "    'rnn_variational_dropout': 0.25973202477381374,\n",
      "    'vocab_size': 6899}\n",
      "[2020-11-21 20:54:26,273][MainProcess][lib.configurable][INFO] adam.Adam.__init__ was configured with:\n",
      "{'amsgrad': True, 'params': <filter object at 0x7f3ca240bef0>}\n",
      "[2020-11-21 20:54:26,275][MainProcess][lib.configurable][INFO] adam.Adam.__init__ was configured with:\n",
      "{'amsgrad': True, 'params': <filter object at 0x7f3ca240bef0>}\n",
      "[2020-11-21 20:54:26,277][MainProcess][lib.configurable][INFO] optimizer.Optimizer.__init__ was configured with:\n",
      "{   'max_grad_norm': 4.968507670163135,\n",
      "    'optim': <lib.optim.adam.Adam object at 0x7f3ca240b978>}\n",
      "[2020-11-21 20:54:26,278][MainProcess][__main__][INFO] Epochs: 1\n",
      "[2020-11-21 20:54:26,279][MainProcess][__main__][INFO] Train Dataset Size: 75900\n",
      "[2020-11-21 20:54:26,280][MainProcess][__main__][INFO] Dev Dataset Size: 10845\n",
      "[2020-11-21 20:54:26,280][MainProcess][__main__][INFO] Train Batch Size: 32\n",
      "[2020-11-21 20:54:26,282][MainProcess][__main__][INFO] Train Max Batch Size: 1024\n",
      "[2020-11-21 20:54:26,282][MainProcess][__main__][INFO] Total Parameters: 6361923\n",
      "[2020-11-21 20:54:26,284][MainProcess][__main__][INFO] Model:\n",
      "SeqToLabel(\n",
      "  (encoder): SeqEncoder(\n",
      "    (embedding): Embedding(6899, 300, padding_idx=0)\n",
      "    (rnn): LSTM(300, 223, num_layers=3, dropout=0.25973202477381374, bidirectional=True)\n",
      "    (rnn_dropout): LockedDropout(p=0.5041694775110531)\n",
      "    (embedding_dropout): Dropout(p=0.311912520000008)\n",
      "  )\n",
      "  (out): Sequential(\n",
      "    (0): Linear(in_features=446, out_features=446, bias=True)\n",
      "    (1): BatchNorm1d(446, eps=1e-05, momentum=0.1, affine=True)\n",
      "    (2): ReLU()\n",
      "    (3): Dropout(p=0.7220702976371701)\n",
      "    (4): Linear(in_features=446, out_features=1703, bias=True)\n",
      "  )\n",
      ")\n",
      "[2020-11-21 20:54:26,284][MainProcess][__main__][INFO] Epoch: 0\n",
      "[2020-11-21 20:54:26,285][MainProcess][__main__][INFO] Training...\n"
     ]
    },
    {
     "name": "stderr",
     "output_type": "stream",
     "text": [
      "/mount/arbeitsdaten46/projekte/dialog-1/kanjurva/Simple-QA-EMNLP-2018/venv2/lib/python3.6/site-packages/ipykernel_launcher.py:57: TqdmDeprecationWarning: This function will be removed in tqdm==5.0.0\n",
      "Please use `tqdm.notebook.tqdm` instead of `tqdm.tqdm_notebook`\n"
     ]
    },
    {
     "data": {
      "application/vnd.jupyter.widget-view+json": {
       "model_id": "cc07d2db97d542deb50ea32ee5467a76",
       "version_major": 2,
       "version_minor": 0
      },
      "text/plain": [
       "HBox(children=(HTML(value=''), FloatProgress(value=0.0, max=2371.0), HTML(value='')))"
      ]
     },
     "metadata": {},
     "output_type": "display_data"
    },
    {
     "name": "stdout",
     "output_type": "stream",
     "text": [
      "\n",
      "[2020-11-21 20:55:06,274][MainProcess][lib.checkpoint][INFO] Saving checkpoint: ../../experiments/relation_classifier.11_21_20:05:46/79856.pt\n"
     ]
    },
    {
     "name": "stderr",
     "output_type": "stream",
     "text": [
      "/mount/arbeitsdaten46/projekte/dialog-1/kanjurva/Simple-QA-EMNLP-2018/venv2/lib/python3.6/site-packages/ipykernel_launcher.py:13: TqdmDeprecationWarning: This function will be removed in tqdm==5.0.0\n",
      "Please use `tqdm.notebook.tqdm` instead of `tqdm.tqdm_notebook`\n",
      "  del sys.path[0]\n"
     ]
    },
    {
     "data": {
      "application/vnd.jupyter.widget-view+json": {
       "model_id": "43e6bf4f3755404e902237b536dbb955",
       "version_major": 2,
       "version_minor": 0
      },
      "text/plain": [
       "HBox(children=(HTML(value=''), FloatProgress(value=0.0, max=2.0), HTML(value='')))"
      ]
     },
     "metadata": {},
     "output_type": "display_data"
    },
    {
     "name": "stdout",
     "output_type": "stream",
     "text": [
      "\n",
      "[2020-11-21 20:55:09,003][MainProcess][__main__][INFO] NLLLoss: 0.794\n",
      "[2020-11-21 20:55:09,062][MainProcess][lib.metrics.accuracy][INFO] Accuracy: 0.8062744140625 [6605 of 8192]\n"
     ]
    },
    {
     "name": "stderr",
     "output_type": "stream",
     "text": [
      "\r",
      "  5%|▍         | 46.6666666666667/1000.0 [39:37<7:31:29, 28.42s/it, min_score=-.85, models_evaluated=0]  "
     ]
    },
    {
     "name": "stdout",
     "output_type": "stream",
     "text": [
      "––––––––––––––––––––––––––––––––––––––––––––––––––––––––––––––––––––––––––––––––––––––––––––––––––––\n",
      "====================================================================================================\n",
      "[2020-11-21 20:55:09,134][MainProcess][lib.configurable][INFO] Checking configuration...\n",
      "[2020-11-21 20:55:09,136][MainProcess][lib.configurable][INFO] Configuration checked.\n",
      "[2020-11-21 20:55:09,137][MainProcess][lib.configurable][INFO] seq_to_label.SeqToLabel.__init__ was configured with:\n",
      "{   'bidirectional': True,\n",
      "    'decode_dropout': 0.7212463701677514,\n",
      "    'embedding_dropout': 0.044798783023296825,\n",
      "    'embedding_size': 300,\n",
      "    'freeze_embeddings': False,\n",
      "    'input_vocab_size': 6899,\n",
      "    'output_vocab_size': 1703,\n",
      "    'rnn_cell': 'gru',\n",
      "    'rnn_dropout': 0.7255416172777367,\n",
      "    'rnn_layers': 3,\n",
      "    'rnn_size': 328,\n",
      "    'rnn_variational_dropout': 0.869134792960497}\n",
      "[2020-11-21 20:55:09,138][MainProcess][lib.configurable][INFO] seq_encoder.SeqEncoder.__init__ no config for: lib.nn.seq_encoder.SeqEncoder.__init__\n",
      "[2020-11-21 20:55:09,139][MainProcess][lib.configurable][INFO] seq_encoder.SeqEncoder.__init__ was configured with:\n",
      "{   'bidirectional': True,\n",
      "    'embedding_dropout': 0.044798783023296825,\n",
      "    'embedding_size': 300,\n",
      "    'freeze_embeddings': False,\n",
      "    'n_layers': 3,\n",
      "    'rnn_cell': 'gru',\n",
      "    'rnn_dropout': 0.7255416172777367,\n",
      "    'rnn_size': 328,\n",
      "    'rnn_variational_dropout': 0.869134792960497,\n",
      "    'vocab_size': 6899}\n",
      "[2020-11-21 20:55:09,350][MainProcess][lib.configurable][INFO] adam.Adam.__init__ was configured with:\n",
      "{'amsgrad': True, 'params': <filter object at 0x7f3c2f782828>}\n",
      "[2020-11-21 20:55:09,351][MainProcess][lib.configurable][INFO] adam.Adam.__init__ was configured with:\n",
      "{'amsgrad': True, 'params': <filter object at 0x7f3c2f782828>}\n",
      "[2020-11-21 20:55:09,352][MainProcess][lib.configurable][INFO] optimizer.Optimizer.__init__ was configured with:\n",
      "{   'max_grad_norm': 4.489648731339276,\n",
      "    'optim': <lib.optim.adam.Adam object at 0x7f3c3066a748>}\n",
      "[2020-11-21 20:55:09,353][MainProcess][__main__][INFO] Epochs: 1\n",
      "[2020-11-21 20:55:09,354][MainProcess][__main__][INFO] Train Dataset Size: 75900\n",
      "[2020-11-21 20:55:09,355][MainProcess][__main__][INFO] Dev Dataset Size: 10845\n",
      "[2020-11-21 20:55:09,356][MainProcess][__main__][INFO] Train Batch Size: 32\n",
      "[2020-11-21 20:55:09,357][MainProcess][__main__][INFO] Train Max Batch Size: 1024\n",
      "[2020-11-21 20:55:09,358][MainProcess][__main__][INFO] Total Parameters: 4169291\n",
      "[2020-11-21 20:55:09,359][MainProcess][__main__][INFO] Model:\n",
      "SeqToLabel(\n",
      "  (encoder): SeqEncoder(\n",
      "    (embedding): Embedding(6899, 300, padding_idx=0)\n",
      "    (rnn): GRU(300, 164, num_layers=3, dropout=0.869134792960497, bidirectional=True)\n",
      "    (rnn_dropout): LockedDropout(p=0.7255416172777367)\n",
      "    (embedding_dropout): Dropout(p=0.044798783023296825)\n",
      "  )\n",
      "  (out): Sequential(\n",
      "    (0): Linear(in_features=328, out_features=328, bias=True)\n",
      "    (1): BatchNorm1d(328, eps=1e-05, momentum=0.1, affine=True)\n",
      "    (2): ReLU()\n",
      "    (3): Dropout(p=0.7212463701677514)\n",
      "    (4): Linear(in_features=328, out_features=1703, bias=True)\n",
      "  )\n",
      ")\n",
      "[2020-11-21 20:55:09,359][MainProcess][__main__][INFO] Epoch: 0\n",
      "[2020-11-21 20:55:09,360][MainProcess][__main__][INFO] Training...\n"
     ]
    },
    {
     "name": "stderr",
     "output_type": "stream",
     "text": [
      "/mount/arbeitsdaten46/projekte/dialog-1/kanjurva/Simple-QA-EMNLP-2018/venv2/lib/python3.6/site-packages/ipykernel_launcher.py:57: TqdmDeprecationWarning: This function will be removed in tqdm==5.0.0\n",
      "Please use `tqdm.notebook.tqdm` instead of `tqdm.tqdm_notebook`\n"
     ]
    },
    {
     "data": {
      "application/vnd.jupyter.widget-view+json": {
       "model_id": "175de3229ff24c90a44fb8e49b5a9d63",
       "version_major": 2,
       "version_minor": 0
      },
      "text/plain": [
       "HBox(children=(HTML(value=''), FloatProgress(value=0.0, max=2371.0), HTML(value='')))"
      ]
     },
     "metadata": {},
     "output_type": "display_data"
    },
    {
     "name": "stdout",
     "output_type": "stream",
     "text": [
      "\n",
      "[2020-11-21 20:55:47,526][MainProcess][lib.checkpoint][INFO] Saving checkpoint: ../../experiments/relation_classifier.11_21_20:05:46/79897.pt\n"
     ]
    },
    {
     "name": "stderr",
     "output_type": "stream",
     "text": [
      "/mount/arbeitsdaten46/projekte/dialog-1/kanjurva/Simple-QA-EMNLP-2018/venv2/lib/python3.6/site-packages/ipykernel_launcher.py:13: TqdmDeprecationWarning: This function will be removed in tqdm==5.0.0\n",
      "Please use `tqdm.notebook.tqdm` instead of `tqdm.tqdm_notebook`\n",
      "  del sys.path[0]\n"
     ]
    },
    {
     "data": {
      "application/vnd.jupyter.widget-view+json": {
       "model_id": "b0788b578fb0413d8cfe54c4f762c4b5",
       "version_major": 2,
       "version_minor": 0
      },
      "text/plain": [
       "HBox(children=(HTML(value=''), FloatProgress(value=0.0, max=2.0), HTML(value='')))"
      ]
     },
     "metadata": {},
     "output_type": "display_data"
    },
    {
     "name": "stdout",
     "output_type": "stream",
     "text": [
      "\n",
      "[2020-11-21 20:55:49,277][MainProcess][__main__][INFO] NLLLoss: 1.008\n",
      "[2020-11-21 20:55:49,346][MainProcess][lib.metrics.accuracy][INFO] Accuracy: 0.74072265625 [6068 of 8192]\n"
     ]
    },
    {
     "name": "stderr",
     "output_type": "stream",
     "text": [
      "\r",
      "  5%|▍         | 47.777777777777814/1000.0 [40:17<8:08:12, 30.76s/it, min_score=-.85, models_evaluated=0]"
     ]
    },
    {
     "name": "stdout",
     "output_type": "stream",
     "text": [
      "––––––––––––––––––––––––––––––––––––––––––––––––––––––––––––––––––––––––––––––––––––––––––––––––––––\n",
      "====================================================================================================\n",
      "[2020-11-21 20:55:49,399][MainProcess][lib.configurable][INFO] Checking configuration...\n",
      "[2020-11-21 20:55:49,402][MainProcess][lib.configurable][INFO] Configuration checked.\n",
      "[2020-11-21 20:55:49,403][MainProcess][lib.configurable][INFO] seq_to_label.SeqToLabel.__init__ was configured with:\n",
      "{   'bidirectional': False,\n",
      "    'decode_dropout': 0.21165645185190285,\n",
      "    'embedding_dropout': 0.5632805511518368,\n",
      "    'embedding_size': 300,\n",
      "    'freeze_embeddings': False,\n",
      "    'input_vocab_size': 6899,\n",
      "    'output_vocab_size': 1703,\n",
      "    'rnn_cell': 'lstm',\n",
      "    'rnn_dropout': 0.769252266138796,\n",
      "    'rnn_layers': 2,\n",
      "    'rnn_size': 306,\n",
      "    'rnn_variational_dropout': 0.4604276244030241}\n",
      "[2020-11-21 20:55:49,404][MainProcess][lib.configurable][INFO] seq_encoder.SeqEncoder.__init__ no config for: lib.nn.seq_encoder.SeqEncoder.__init__\n",
      "[2020-11-21 20:55:49,405][MainProcess][lib.configurable][INFO] seq_encoder.SeqEncoder.__init__ was configured with:\n",
      "{   'bidirectional': False,\n",
      "    'embedding_dropout': 0.5632805511518368,\n",
      "    'embedding_size': 300,\n",
      "    'freeze_embeddings': False,\n",
      "    'n_layers': 2,\n",
      "    'rnn_cell': 'lstm',\n",
      "    'rnn_dropout': 0.769252266138796,\n",
      "    'rnn_size': 306,\n",
      "    'rnn_variational_dropout': 0.4604276244030241,\n",
      "    'vocab_size': 6899}\n",
      "[2020-11-21 20:55:49,614][MainProcess][lib.configurable][INFO] adam.Adam.__init__ was configured with:\n",
      "{'amsgrad': True, 'params': <filter object at 0x7f3caeeda358>}\n",
      "[2020-11-21 20:55:49,615][MainProcess][lib.configurable][INFO] adam.Adam.__init__ was configured with:\n",
      "{'amsgrad': True, 'params': <filter object at 0x7f3caeeda358>}\n",
      "[2020-11-21 20:55:49,617][MainProcess][lib.configurable][INFO] optimizer.Optimizer.__init__ was configured with:\n",
      "{   'max_grad_norm': 1.478669247848722,\n",
      "    'optim': <lib.optim.adam.Adam object at 0x7f3caeeda978>}\n",
      "[2020-11-21 20:55:49,618][MainProcess][__main__][INFO] Epochs: 1\n",
      "[2020-11-21 20:55:49,619][MainProcess][__main__][INFO] Train Dataset Size: 75900\n",
      "[2020-11-21 20:55:49,619][MainProcess][__main__][INFO] Dev Dataset Size: 10845\n",
      "[2020-11-21 20:55:49,621][MainProcess][__main__][INFO] Train Batch Size: 32\n",
      "[2020-11-21 20:55:49,622][MainProcess][__main__][INFO] Train Max Batch Size: 1024\n",
      "[2020-11-21 20:55:49,623][MainProcess][__main__][INFO] Total Parameters: 4182803\n",
      "[2020-11-21 20:55:49,624][MainProcess][__main__][INFO] Model:\n",
      "SeqToLabel(\n",
      "  (encoder): SeqEncoder(\n",
      "    (embedding): Embedding(6899, 300, padding_idx=0)\n",
      "    (rnn): LSTM(300, 306, num_layers=2, dropout=0.4604276244030241)\n",
      "    (rnn_dropout): LockedDropout(p=0.769252266138796)\n",
      "    (embedding_dropout): Dropout(p=0.5632805511518368)\n",
      "  )\n",
      "  (out): Sequential(\n",
      "    (0): Linear(in_features=306, out_features=306, bias=True)\n",
      "    (1): BatchNorm1d(306, eps=1e-05, momentum=0.1, affine=True)\n",
      "    (2): ReLU()\n",
      "    (3): Dropout(p=0.21165645185190285)\n",
      "    (4): Linear(in_features=306, out_features=1703, bias=True)\n",
      "  )\n",
      ")\n",
      "[2020-11-21 20:55:49,625][MainProcess][__main__][INFO] Epoch: 0\n",
      "[2020-11-21 20:55:49,626][MainProcess][__main__][INFO] Training...\n"
     ]
    },
    {
     "name": "stderr",
     "output_type": "stream",
     "text": [
      "/mount/arbeitsdaten46/projekte/dialog-1/kanjurva/Simple-QA-EMNLP-2018/venv2/lib/python3.6/site-packages/ipykernel_launcher.py:57: TqdmDeprecationWarning: This function will be removed in tqdm==5.0.0\n",
      "Please use `tqdm.notebook.tqdm` instead of `tqdm.tqdm_notebook`\n"
     ]
    },
    {
     "data": {
      "application/vnd.jupyter.widget-view+json": {
       "model_id": "82b4f6e7784d43eb955056b664e46324",
       "version_major": 2,
       "version_minor": 0
      },
      "text/plain": [
       "HBox(children=(HTML(value=''), FloatProgress(value=0.0, max=2371.0), HTML(value='')))"
      ]
     },
     "metadata": {},
     "output_type": "display_data"
    },
    {
     "name": "stdout",
     "output_type": "stream",
     "text": [
      "\n",
      "[2020-11-21 20:56:13,784][MainProcess][lib.checkpoint][INFO] Saving checkpoint: ../../experiments/relation_classifier.11_21_20:05:46/79923.pt\n"
     ]
    },
    {
     "name": "stderr",
     "output_type": "stream",
     "text": [
      "/mount/arbeitsdaten46/projekte/dialog-1/kanjurva/Simple-QA-EMNLP-2018/venv2/lib/python3.6/site-packages/ipykernel_launcher.py:13: TqdmDeprecationWarning: This function will be removed in tqdm==5.0.0\n",
      "Please use `tqdm.notebook.tqdm` instead of `tqdm.tqdm_notebook`\n",
      "  del sys.path[0]\n"
     ]
    },
    {
     "data": {
      "application/vnd.jupyter.widget-view+json": {
       "model_id": "df901d03e4024f598925a338f60cf8a8",
       "version_major": 2,
       "version_minor": 0
      },
      "text/plain": [
       "HBox(children=(HTML(value=''), FloatProgress(value=0.0, max=2.0), HTML(value='')))"
      ]
     },
     "metadata": {},
     "output_type": "display_data"
    },
    {
     "name": "stdout",
     "output_type": "stream",
     "text": [
      "\n",
      "[2020-11-21 20:56:16,904][MainProcess][__main__][INFO] NLLLoss: 0.638\n",
      "[2020-11-21 20:56:16,968][MainProcess][lib.metrics.accuracy][INFO] Accuracy: 0.827880859375 [6782 of 8192]\n"
     ]
    },
    {
     "name": "stderr",
     "output_type": "stream",
     "text": [
      "\r",
      "  5%|▍         | 48.88888888888893/1000.0 [40:45<7:39:31, 28.99s/it, min_score=-.85, models_evaluated=0] "
     ]
    },
    {
     "name": "stdout",
     "output_type": "stream",
     "text": [
      "––––––––––––––––––––––––––––––––––––––––––––––––––––––––––––––––––––––––––––––––––––––––––––––––––––\n",
      "====================================================================================================\n",
      "[2020-11-21 20:56:17,009][MainProcess][lib.configurable][INFO] Checking configuration...\n",
      "[2020-11-21 20:56:17,011][MainProcess][lib.configurable][INFO] Configuration checked.\n",
      "[2020-11-21 20:56:17,012][MainProcess][lib.configurable][INFO] seq_to_label.SeqToLabel.__init__ was configured with:\n",
      "{   'bidirectional': False,\n",
      "    'decode_dropout': 0.897876277005428,\n",
      "    'embedding_dropout': 0.8871031626567412,\n",
      "    'embedding_size': 300,\n",
      "    'freeze_embeddings': True,\n",
      "    'input_vocab_size': 6899,\n",
      "    'output_vocab_size': 1703,\n",
      "    'rnn_cell': 'gru',\n",
      "    'rnn_dropout': 0.09978727453653967,\n",
      "    'rnn_layers': 2,\n",
      "    'rnn_size': 372,\n",
      "    'rnn_variational_dropout': 0.2052381850534688}\n",
      "[2020-11-21 20:56:17,013][MainProcess][lib.configurable][INFO] seq_encoder.SeqEncoder.__init__ no config for: lib.nn.seq_encoder.SeqEncoder.__init__\n",
      "[2020-11-21 20:56:17,014][MainProcess][lib.configurable][INFO] seq_encoder.SeqEncoder.__init__ was configured with:\n",
      "{   'bidirectional': False,\n",
      "    'embedding_dropout': 0.8871031626567412,\n",
      "    'embedding_size': 300,\n",
      "    'freeze_embeddings': True,\n",
      "    'n_layers': 2,\n",
      "    'rnn_cell': 'gru',\n",
      "    'rnn_dropout': 0.09978727453653967,\n",
      "    'rnn_size': 372,\n",
      "    'rnn_variational_dropout': 0.2052381850534688,\n",
      "    'vocab_size': 6899}\n",
      "[2020-11-21 20:56:17,213][MainProcess][lib.configurable][INFO] adam.Adam.__init__ was configured with:\n",
      "{'amsgrad': True, 'params': <filter object at 0x7f3c29d69b70>}\n",
      "[2020-11-21 20:56:17,215][MainProcess][lib.configurable][INFO] adam.Adam.__init__ was configured with:\n",
      "{'amsgrad': True, 'params': <filter object at 0x7f3c29d69b70>}\n",
      "[2020-11-21 20:56:17,216][MainProcess][lib.configurable][INFO] optimizer.Optimizer.__init__ was configured with:\n",
      "{   'max_grad_norm': 4.063507368766887,\n",
      "    'optim': <lib.optim.adam.Adam object at 0x7f3c29d695f8>}\n",
      "[2020-11-21 20:56:17,217][MainProcess][__main__][INFO] Epochs: 1\n",
      "[2020-11-21 20:56:17,218][MainProcess][__main__][INFO] Train Dataset Size: 75900\n",
      "[2020-11-21 20:56:17,219][MainProcess][__main__][INFO] Dev Dataset Size: 10845\n",
      "[2020-11-21 20:56:17,220][MainProcess][__main__][INFO] Train Batch Size: 32\n",
      "[2020-11-21 20:56:17,220][MainProcess][__main__][INFO] Train Max Batch Size: 1024\n",
      "[2020-11-21 20:56:17,221][MainProcess][__main__][INFO] Total Parameters: 2359439\n",
      "[2020-11-21 20:56:17,222][MainProcess][__main__][INFO] Model:\n",
      "SeqToLabel(\n",
      "  (encoder): SeqEncoder(\n",
      "    (embedding): Embedding(6899, 300, padding_idx=0)\n",
      "    (rnn): GRU(300, 372, num_layers=2, dropout=0.2052381850534688)\n",
      "    (rnn_dropout): LockedDropout(p=0.09978727453653967)\n",
      "    (embedding_dropout): Dropout(p=0.8871031626567412)\n",
      "  )\n",
      "  (out): Sequential(\n",
      "    (0): Linear(in_features=372, out_features=372, bias=True)\n",
      "    (1): BatchNorm1d(372, eps=1e-05, momentum=0.1, affine=True)\n",
      "    (2): ReLU()\n",
      "    (3): Dropout(p=0.897876277005428)\n",
      "    (4): Linear(in_features=372, out_features=1703, bias=True)\n",
      "  )\n",
      ")\n",
      "[2020-11-21 20:56:17,222][MainProcess][__main__][INFO] Epoch: 0\n",
      "[2020-11-21 20:56:17,223][MainProcess][__main__][INFO] Training...\n"
     ]
    },
    {
     "name": "stderr",
     "output_type": "stream",
     "text": [
      "/mount/arbeitsdaten46/projekte/dialog-1/kanjurva/Simple-QA-EMNLP-2018/venv2/lib/python3.6/site-packages/ipykernel_launcher.py:57: TqdmDeprecationWarning: This function will be removed in tqdm==5.0.0\n",
      "Please use `tqdm.notebook.tqdm` instead of `tqdm.tqdm_notebook`\n"
     ]
    },
    {
     "data": {
      "application/vnd.jupyter.widget-view+json": {
       "model_id": "d700c020356e4a9e80a2bb310036b08a",
       "version_major": 2,
       "version_minor": 0
      },
      "text/plain": [
       "HBox(children=(HTML(value=''), FloatProgress(value=0.0, max=2371.0), HTML(value='')))"
      ]
     },
     "metadata": {},
     "output_type": "display_data"
    },
    {
     "name": "stdout",
     "output_type": "stream",
     "text": [
      "\n",
      "[2020-11-21 20:56:39,034][MainProcess][lib.checkpoint][INFO] Saving checkpoint: ../../experiments/relation_classifier.11_21_20:05:46/79948.pt\n"
     ]
    },
    {
     "name": "stderr",
     "output_type": "stream",
     "text": [
      "/mount/arbeitsdaten46/projekte/dialog-1/kanjurva/Simple-QA-EMNLP-2018/venv2/lib/python3.6/site-packages/ipykernel_launcher.py:13: TqdmDeprecationWarning: This function will be removed in tqdm==5.0.0\n",
      "Please use `tqdm.notebook.tqdm` instead of `tqdm.tqdm_notebook`\n",
      "  del sys.path[0]\n"
     ]
    },
    {
     "data": {
      "application/vnd.jupyter.widget-view+json": {
       "model_id": "45ca6ed6641c45f9a0e48214f78ea17a",
       "version_major": 2,
       "version_minor": 0
      },
      "text/plain": [
       "HBox(children=(HTML(value=''), FloatProgress(value=0.0, max=2.0), HTML(value='')))"
      ]
     },
     "metadata": {},
     "output_type": "display_data"
    },
    {
     "name": "stdout",
     "output_type": "stream",
     "text": [
      "\n",
      "[2020-11-21 20:56:40,567][MainProcess][__main__][INFO] NLLLoss: 1.608\n",
      "[2020-11-21 20:56:40,627][MainProcess][lib.metrics.accuracy][INFO] Accuracy: 0.61767578125 [5060 of 8192]\n"
     ]
    },
    {
     "name": "stderr",
     "output_type": "stream",
     "text": [
      "\r",
      "  5%|▌         | 50.00000000000004/1000.0 [41:09<7:02:25, 26.68s/it, min_score=-.85, models_evaluated=0]"
     ]
    },
    {
     "name": "stdout",
     "output_type": "stream",
     "text": [
      "––––––––––––––––––––––––––––––––––––––––––––––––––––––––––––––––––––––––––––––––––––––––––––––––––––\n",
      "====================================================================================================\n",
      "[2020-11-21 20:56:40,668][MainProcess][lib.configurable][INFO] Checking configuration...\n",
      "[2020-11-21 20:56:40,669][MainProcess][lib.configurable][INFO] Configuration checked.\n",
      "[2020-11-21 20:56:40,671][MainProcess][lib.configurable][INFO] seq_to_label.SeqToLabel.__init__ was configured with:\n",
      "{   'bidirectional': False,\n",
      "    'decode_dropout': 0.5614630781078221,\n",
      "    'embedding_dropout': 0.648289166169863,\n",
      "    'embedding_size': 300,\n",
      "    'freeze_embeddings': True,\n",
      "    'input_vocab_size': 6899,\n",
      "    'output_vocab_size': 1703,\n",
      "    'rnn_cell': 'lstm',\n",
      "    'rnn_dropout': 0.02200828362887029,\n",
      "    'rnn_layers': 2,\n",
      "    'rnn_size': 428,\n",
      "    'rnn_variational_dropout': 0.3328934757274172}\n",
      "[2020-11-21 20:56:40,672][MainProcess][lib.configurable][INFO] seq_encoder.SeqEncoder.__init__ no config for: lib.nn.seq_encoder.SeqEncoder.__init__\n",
      "[2020-11-21 20:56:40,673][MainProcess][lib.configurable][INFO] seq_encoder.SeqEncoder.__init__ was configured with:\n",
      "{   'bidirectional': False,\n",
      "    'embedding_dropout': 0.648289166169863,\n",
      "    'embedding_size': 300,\n",
      "    'freeze_embeddings': True,\n",
      "    'n_layers': 2,\n",
      "    'rnn_cell': 'lstm',\n",
      "    'rnn_dropout': 0.02200828362887029,\n",
      "    'rnn_size': 428,\n",
      "    'rnn_variational_dropout': 0.3328934757274172,\n",
      "    'vocab_size': 6899}\n",
      "[2020-11-21 20:56:40,900][MainProcess][lib.configurable][INFO] adam.Adam.__init__ was configured with:\n",
      "{'amsgrad': True, 'params': <filter object at 0x7f3c2f80b7b8>}\n",
      "[2020-11-21 20:56:40,901][MainProcess][lib.configurable][INFO] adam.Adam.__init__ was configured with:\n",
      "{'amsgrad': True, 'params': <filter object at 0x7f3c2f80b7b8>}\n",
      "[2020-11-21 20:56:40,903][MainProcess][lib.configurable][INFO] optimizer.Optimizer.__init__ was configured with:\n",
      "{   'max_grad_norm': 0.1266847532228871,\n",
      "    'optim': <lib.optim.adam.Adam object at 0x7f3c2f80b3c8>}\n",
      "[2020-11-21 20:56:40,903][MainProcess][__main__][INFO] Epochs: 1\n",
      "[2020-11-21 20:56:40,905][MainProcess][__main__][INFO] Train Dataset Size: 75900\n",
      "[2020-11-21 20:56:40,906][MainProcess][__main__][INFO] Dev Dataset Size: 10845\n",
      "[2020-11-21 20:56:40,906][MainProcess][__main__][INFO] Train Batch Size: 32\n",
      "[2020-11-21 20:56:40,907][MainProcess][__main__][INFO] Train Max Batch Size: 1024\n",
      "[2020-11-21 20:56:40,908][MainProcess][__main__][INFO] Total Parameters: 3633711\n",
      "[2020-11-21 20:56:40,910][MainProcess][__main__][INFO] Model:\n",
      "SeqToLabel(\n",
      "  (encoder): SeqEncoder(\n",
      "    (embedding): Embedding(6899, 300, padding_idx=0)\n",
      "    (rnn): LSTM(300, 428, num_layers=2, dropout=0.3328934757274172)\n",
      "    (rnn_dropout): LockedDropout(p=0.02200828362887029)\n",
      "    (embedding_dropout): Dropout(p=0.648289166169863)\n",
      "  )\n",
      "  (out): Sequential(\n",
      "    (0): Linear(in_features=428, out_features=428, bias=True)\n",
      "    (1): BatchNorm1d(428, eps=1e-05, momentum=0.1, affine=True)\n",
      "    (2): ReLU()\n",
      "    (3): Dropout(p=0.5614630781078221)\n",
      "    (4): Linear(in_features=428, out_features=1703, bias=True)\n",
      "  )\n",
      ")\n",
      "[2020-11-21 20:56:40,910][MainProcess][__main__][INFO] Epoch: 0\n",
      "[2020-11-21 20:56:40,911][MainProcess][__main__][INFO] Training...\n"
     ]
    },
    {
     "name": "stderr",
     "output_type": "stream",
     "text": [
      "/mount/arbeitsdaten46/projekte/dialog-1/kanjurva/Simple-QA-EMNLP-2018/venv2/lib/python3.6/site-packages/ipykernel_launcher.py:57: TqdmDeprecationWarning: This function will be removed in tqdm==5.0.0\n",
      "Please use `tqdm.notebook.tqdm` instead of `tqdm.tqdm_notebook`\n"
     ]
    },
    {
     "data": {
      "application/vnd.jupyter.widget-view+json": {
       "model_id": "3550a5d97c36488a862f437cc39d84e2",
       "version_major": 2,
       "version_minor": 0
      },
      "text/plain": [
       "HBox(children=(HTML(value=''), FloatProgress(value=0.0, max=2371.0), HTML(value='')))"
      ]
     },
     "metadata": {},
     "output_type": "display_data"
    },
    {
     "name": "stdout",
     "output_type": "stream",
     "text": [
      "\n",
      "[2020-11-21 20:57:04,072][MainProcess][lib.checkpoint][INFO] Saving checkpoint: ../../experiments/relation_classifier.11_21_20:05:46/79973.pt\n"
     ]
    },
    {
     "name": "stderr",
     "output_type": "stream",
     "text": [
      "/mount/arbeitsdaten46/projekte/dialog-1/kanjurva/Simple-QA-EMNLP-2018/venv2/lib/python3.6/site-packages/ipykernel_launcher.py:13: TqdmDeprecationWarning: This function will be removed in tqdm==5.0.0\n",
      "Please use `tqdm.notebook.tqdm` instead of `tqdm.tqdm_notebook`\n",
      "  del sys.path[0]\n"
     ]
    },
    {
     "data": {
      "application/vnd.jupyter.widget-view+json": {
       "model_id": "cdca088c023a4d9682862c2abfdd1246",
       "version_major": 2,
       "version_minor": 0
      },
      "text/plain": [
       "HBox(children=(HTML(value=''), FloatProgress(value=0.0, max=2.0), HTML(value='')))"
      ]
     },
     "metadata": {},
     "output_type": "display_data"
    },
    {
     "name": "stdout",
     "output_type": "stream",
     "text": [
      "\n",
      "[2020-11-21 20:57:05,539][MainProcess][__main__][INFO] NLLLoss: 0.726\n",
      "[2020-11-21 20:57:05,601][MainProcess][lib.metrics.accuracy][INFO] Accuracy: 0.7965087890625 [6525 of 8192]\n"
     ]
    },
    {
     "name": "stderr",
     "output_type": "stream",
     "text": [
      "\r",
      "  5%|▌         | 51.11111111111116/1000.0 [41:34<6:42:00, 25.42s/it, min_score=-.85, models_evaluated=0]"
     ]
    },
    {
     "name": "stdout",
     "output_type": "stream",
     "text": [
      "––––––––––––––––––––––––––––––––––––––––––––––––––––––––––––––––––––––––––––––––––––––––––––––––––––\n",
      "====================================================================================================\n",
      "[2020-11-21 20:57:05,645][MainProcess][lib.configurable][INFO] Checking configuration...\n",
      "[2020-11-21 20:57:05,648][MainProcess][lib.configurable][INFO] Configuration checked.\n",
      "[2020-11-21 20:57:05,650][MainProcess][lib.configurable][INFO] seq_to_label.SeqToLabel.__init__ was configured with:\n",
      "{   'bidirectional': False,\n",
      "    'decode_dropout': 0.2139961401009709,\n",
      "    'embedding_dropout': 0.7862718333077784,\n",
      "    'embedding_size': 300,\n",
      "    'freeze_embeddings': True,\n",
      "    'input_vocab_size': 6899,\n",
      "    'output_vocab_size': 1703,\n",
      "    'rnn_cell': 'lstm',\n",
      "    'rnn_dropout': 0.11647735156589059,\n",
      "    'rnn_layers': 3,\n",
      "    'rnn_size': 378,\n",
      "    'rnn_variational_dropout': 0.10290832609529758}\n",
      "[2020-11-21 20:57:05,651][MainProcess][lib.configurable][INFO] seq_encoder.SeqEncoder.__init__ no config for: lib.nn.seq_encoder.SeqEncoder.__init__\n",
      "[2020-11-21 20:57:05,652][MainProcess][lib.configurable][INFO] seq_encoder.SeqEncoder.__init__ was configured with:\n",
      "{   'bidirectional': False,\n",
      "    'embedding_dropout': 0.7862718333077784,\n",
      "    'embedding_size': 300,\n",
      "    'freeze_embeddings': True,\n",
      "    'n_layers': 3,\n",
      "    'rnn_cell': 'lstm',\n",
      "    'rnn_dropout': 0.11647735156589059,\n",
      "    'rnn_size': 378,\n",
      "    'rnn_variational_dropout': 0.10290832609529758,\n",
      "    'vocab_size': 6899}\n",
      "[2020-11-21 20:57:05,879][MainProcess][lib.configurable][INFO] adam.Adam.__init__ was configured with:\n",
      "{'amsgrad': True, 'params': <filter object at 0x7f3c2f80b7b8>}\n",
      "[2020-11-21 20:57:05,880][MainProcess][lib.configurable][INFO] adam.Adam.__init__ was configured with:\n",
      "{'amsgrad': True, 'params': <filter object at 0x7f3c2f80b7b8>}\n",
      "[2020-11-21 20:57:05,882][MainProcess][lib.configurable][INFO] optimizer.Optimizer.__init__ was configured with:\n",
      "{   'max_grad_norm': 4.7250384867118775,\n",
      "    'optim': <lib.optim.adam.Adam object at 0x7f3c2f7a03c8>}\n",
      "[2020-11-21 20:57:05,883][MainProcess][__main__][INFO] Epochs: 1\n",
      "[2020-11-21 20:57:05,885][MainProcess][__main__][INFO] Train Dataset Size: 75900\n",
      "[2020-11-21 20:57:05,886][MainProcess][__main__][INFO] Dev Dataset Size: 10845\n",
      "[2020-11-21 20:57:05,887][MainProcess][__main__][INFO] Train Batch Size: 32\n",
      "[2020-11-21 20:57:05,887][MainProcess][__main__][INFO] Train Max Batch Size: 1024\n",
      "[2020-11-21 20:57:05,889][MainProcess][__main__][INFO] Total Parameters: 4109807\n",
      "[2020-11-21 20:57:05,890][MainProcess][__main__][INFO] Model:\n",
      "SeqToLabel(\n",
      "  (encoder): SeqEncoder(\n",
      "    (embedding): Embedding(6899, 300, padding_idx=0)\n",
      "    (rnn): LSTM(300, 378, num_layers=3, dropout=0.10290832609529758)\n",
      "    (rnn_dropout): LockedDropout(p=0.11647735156589059)\n",
      "    (embedding_dropout): Dropout(p=0.7862718333077784)\n",
      "  )\n",
      "  (out): Sequential(\n",
      "    (0): Linear(in_features=378, out_features=378, bias=True)\n",
      "    (1): BatchNorm1d(378, eps=1e-05, momentum=0.1, affine=True)\n",
      "    (2): ReLU()\n",
      "    (3): Dropout(p=0.2139961401009709)\n",
      "    (4): Linear(in_features=378, out_features=1703, bias=True)\n",
      "  )\n",
      ")\n",
      "[2020-11-21 20:57:05,891][MainProcess][__main__][INFO] Epoch: 0\n",
      "[2020-11-21 20:57:05,892][MainProcess][__main__][INFO] Training...\n"
     ]
    },
    {
     "name": "stderr",
     "output_type": "stream",
     "text": [
      "/mount/arbeitsdaten46/projekte/dialog-1/kanjurva/Simple-QA-EMNLP-2018/venv2/lib/python3.6/site-packages/ipykernel_launcher.py:57: TqdmDeprecationWarning: This function will be removed in tqdm==5.0.0\n",
      "Please use `tqdm.notebook.tqdm` instead of `tqdm.tqdm_notebook`\n"
     ]
    },
    {
     "data": {
      "application/vnd.jupyter.widget-view+json": {
       "model_id": "284fbbec998e4e7da03ba4f48eed8f1c",
       "version_major": 2,
       "version_minor": 0
      },
      "text/plain": [
       "HBox(children=(HTML(value=''), FloatProgress(value=0.0, max=2371.0), HTML(value='')))"
      ]
     },
     "metadata": {},
     "output_type": "display_data"
    },
    {
     "name": "stdout",
     "output_type": "stream",
     "text": [
      "\n",
      "[2020-11-21 20:57:33,552][MainProcess][lib.checkpoint][INFO] Saving checkpoint: ../../experiments/relation_classifier.11_21_20:05:46/80003.pt\n"
     ]
    },
    {
     "name": "stderr",
     "output_type": "stream",
     "text": [
      "/mount/arbeitsdaten46/projekte/dialog-1/kanjurva/Simple-QA-EMNLP-2018/venv2/lib/python3.6/site-packages/ipykernel_launcher.py:13: TqdmDeprecationWarning: This function will be removed in tqdm==5.0.0\n",
      "Please use `tqdm.notebook.tqdm` instead of `tqdm.tqdm_notebook`\n",
      "  del sys.path[0]\n"
     ]
    },
    {
     "data": {
      "application/vnd.jupyter.widget-view+json": {
       "model_id": "791f2e4dd08641018f6f263e79b4a597",
       "version_major": 2,
       "version_minor": 0
      },
      "text/plain": [
       "HBox(children=(HTML(value=''), FloatProgress(value=0.0, max=2.0), HTML(value='')))"
      ]
     },
     "metadata": {},
     "output_type": "display_data"
    },
    {
     "name": "stdout",
     "output_type": "stream",
     "text": [
      "\n",
      "[2020-11-21 20:57:35,364][MainProcess][__main__][INFO] NLLLoss: 0.775\n",
      "[2020-11-21 20:57:35,422][MainProcess][lib.metrics.accuracy][INFO] Accuracy: 0.763671875 [6256 of 8192]\n"
     ]
    },
    {
     "name": "stderr",
     "output_type": "stream",
     "text": [
      "\r",
      "  5%|▌         | 52.22222222222227/1000.0 [42:03<6:48:17, 25.85s/it, min_score=-.85, models_evaluated=0]"
     ]
    },
    {
     "name": "stdout",
     "output_type": "stream",
     "text": [
      "––––––––––––––––––––––––––––––––––––––––––––––––––––––––––––––––––––––––––––––––––––––––––––––––––––\n",
      "====================================================================================================\n",
      "[2020-11-21 20:57:35,474][MainProcess][lib.configurable][INFO] Checking configuration...\n",
      "[2020-11-21 20:57:35,476][MainProcess][lib.configurable][INFO] Configuration checked.\n",
      "[2020-11-21 20:57:35,477][MainProcess][lib.configurable][INFO] seq_to_label.SeqToLabel.__init__ was configured with:\n",
      "{   'bidirectional': True,\n",
      "    'decode_dropout': 0.7057041188134285,\n",
      "    'embedding_dropout': 0.5793115386197799,\n",
      "    'embedding_size': 300,\n",
      "    'freeze_embeddings': True,\n",
      "    'input_vocab_size': 6899,\n",
      "    'output_vocab_size': 1703,\n",
      "    'rnn_cell': 'lstm',\n",
      "    'rnn_dropout': 0.08538611991263746,\n",
      "    'rnn_layers': 2,\n",
      "    'rnn_size': 478,\n",
      "    'rnn_variational_dropout': 0.5471954040231498}\n",
      "[2020-11-21 20:57:35,478][MainProcess][lib.configurable][INFO] seq_encoder.SeqEncoder.__init__ no config for: lib.nn.seq_encoder.SeqEncoder.__init__\n",
      "[2020-11-21 20:57:35,479][MainProcess][lib.configurable][INFO] seq_encoder.SeqEncoder.__init__ was configured with:\n",
      "{   'bidirectional': True,\n",
      "    'embedding_dropout': 0.5793115386197799,\n",
      "    'embedding_size': 300,\n",
      "    'freeze_embeddings': True,\n",
      "    'n_layers': 2,\n",
      "    'rnn_cell': 'lstm',\n",
      "    'rnn_dropout': 0.08538611991263746,\n",
      "    'rnn_size': 478,\n",
      "    'rnn_variational_dropout': 0.5471954040231498,\n",
      "    'vocab_size': 6899}\n",
      "[2020-11-21 20:57:35,698][MainProcess][lib.configurable][INFO] adam.Adam.__init__ was configured with:\n",
      "{'amsgrad': True, 'params': <filter object at 0x7f3cb13af710>}\n",
      "[2020-11-21 20:57:35,699][MainProcess][lib.configurable][INFO] adam.Adam.__init__ was configured with:\n",
      "{'amsgrad': True, 'params': <filter object at 0x7f3cb13af710>}\n",
      "[2020-11-21 20:57:35,701][MainProcess][lib.configurable][INFO] optimizer.Optimizer.__init__ was configured with:\n",
      "{   'max_grad_norm': 4.428920839092172,\n",
      "    'optim': <lib.optim.adam.Adam object at 0x7f3caeeda978>}\n",
      "[2020-11-21 20:57:35,702][MainProcess][__main__][INFO] Epochs: 1\n",
      "[2020-11-21 20:57:35,702][MainProcess][__main__][INFO] Train Dataset Size: 75900\n",
      "[2020-11-21 20:57:35,703][MainProcess][__main__][INFO] Dev Dataset Size: 10845\n",
      "[2020-11-21 20:57:35,704][MainProcess][__main__][INFO] Train Batch Size: 32\n",
      "[2020-11-21 20:57:35,704][MainProcess][__main__][INFO] Train Max Batch Size: 1024\n",
      "[2020-11-21 20:57:35,705][MainProcess][__main__][INFO] Total Parameters: 3454775\n",
      "[2020-11-21 20:57:35,706][MainProcess][__main__][INFO] Model:\n",
      "SeqToLabel(\n",
      "  (encoder): SeqEncoder(\n",
      "    (embedding): Embedding(6899, 300, padding_idx=0)\n",
      "    (rnn): LSTM(300, 239, num_layers=2, dropout=0.5471954040231498, bidirectional=True)\n",
      "    (rnn_dropout): LockedDropout(p=0.08538611991263746)\n",
      "    (embedding_dropout): Dropout(p=0.5793115386197799)\n",
      "  )\n",
      "  (out): Sequential(\n",
      "    (0): Linear(in_features=478, out_features=478, bias=True)\n",
      "    (1): BatchNorm1d(478, eps=1e-05, momentum=0.1, affine=True)\n",
      "    (2): ReLU()\n",
      "    (3): Dropout(p=0.7057041188134285)\n",
      "    (4): Linear(in_features=478, out_features=1703, bias=True)\n",
      "  )\n",
      ")\n",
      "[2020-11-21 20:57:35,706][MainProcess][__main__][INFO] Epoch: 0\n",
      "[2020-11-21 20:57:35,707][MainProcess][__main__][INFO] Training...\n"
     ]
    },
    {
     "name": "stderr",
     "output_type": "stream",
     "text": [
      "/mount/arbeitsdaten46/projekte/dialog-1/kanjurva/Simple-QA-EMNLP-2018/venv2/lib/python3.6/site-packages/ipykernel_launcher.py:57: TqdmDeprecationWarning: This function will be removed in tqdm==5.0.0\n",
      "Please use `tqdm.notebook.tqdm` instead of `tqdm.tqdm_notebook`\n"
     ]
    },
    {
     "data": {
      "application/vnd.jupyter.widget-view+json": {
       "model_id": "128bec2b7df24414b42e4d18fd5cca20",
       "version_major": 2,
       "version_minor": 0
      },
      "text/plain": [
       "HBox(children=(HTML(value=''), FloatProgress(value=0.0, max=2371.0), HTML(value='')))"
      ]
     },
     "metadata": {},
     "output_type": "display_data"
    },
    {
     "name": "stdout",
     "output_type": "stream",
     "text": [
      "\n",
      "[2020-11-21 20:58:06,161][MainProcess][lib.checkpoint][INFO] Saving checkpoint: ../../experiments/relation_classifier.11_21_20:05:46/80035.pt\n"
     ]
    },
    {
     "name": "stderr",
     "output_type": "stream",
     "text": [
      "/mount/arbeitsdaten46/projekte/dialog-1/kanjurva/Simple-QA-EMNLP-2018/venv2/lib/python3.6/site-packages/ipykernel_launcher.py:13: TqdmDeprecationWarning: This function will be removed in tqdm==5.0.0\n",
      "Please use `tqdm.notebook.tqdm` instead of `tqdm.tqdm_notebook`\n",
      "  del sys.path[0]\n"
     ]
    },
    {
     "data": {
      "application/vnd.jupyter.widget-view+json": {
       "model_id": "0797c1314db344a1a52be2151f5b89ae",
       "version_major": 2,
       "version_minor": 0
      },
      "text/plain": [
       "HBox(children=(HTML(value=''), FloatProgress(value=0.0, max=2.0), HTML(value='')))"
      ]
     },
     "metadata": {},
     "output_type": "display_data"
    },
    {
     "name": "stdout",
     "output_type": "stream",
     "text": [
      "\n",
      "[2020-11-21 20:58:08,361][MainProcess][__main__][INFO] NLLLoss: 0.808\n",
      "[2020-11-21 20:58:08,418][MainProcess][lib.metrics.accuracy][INFO] Accuracy: 0.8055419921875 [6599 of 8192]\n"
     ]
    },
    {
     "name": "stderr",
     "output_type": "stream",
     "text": [
      "\r",
      "  5%|▌         | 53.333333333333385/1000.0 [42:36<7:06:01, 27.00s/it, min_score=-.85, models_evaluated=0]"
     ]
    },
    {
     "name": "stdout",
     "output_type": "stream",
     "text": [
      "––––––––––––––––––––––––––––––––––––––––––––––––––––––––––––––––––––––––––––––––––––––––––––––––––––\n",
      "====================================================================================================\n",
      "[2020-11-21 20:58:08,467][MainProcess][lib.configurable][INFO] Checking configuration...\n",
      "[2020-11-21 20:58:08,469][MainProcess][lib.configurable][INFO] Configuration checked.\n",
      "[2020-11-21 20:58:08,470][MainProcess][lib.configurable][INFO] seq_to_label.SeqToLabel.__init__ was configured with:\n",
      "{   'bidirectional': False,\n",
      "    'decode_dropout': 0.3454151498109633,\n",
      "    'embedding_dropout': 0.2739921929165717,\n",
      "    'embedding_size': 300,\n",
      "    'freeze_embeddings': True,\n",
      "    'input_vocab_size': 6899,\n",
      "    'output_vocab_size': 1703,\n",
      "    'rnn_cell': 'gru',\n",
      "    'rnn_dropout': 0.7572798758858026,\n",
      "    'rnn_layers': 2,\n",
      "    'rnn_size': 114,\n",
      "    'rnn_variational_dropout': 0.0019945156936703404}\n",
      "[2020-11-21 20:58:08,471][MainProcess][lib.configurable][INFO] seq_encoder.SeqEncoder.__init__ no config for: lib.nn.seq_encoder.SeqEncoder.__init__\n",
      "[2020-11-21 20:58:08,472][MainProcess][lib.configurable][INFO] seq_encoder.SeqEncoder.__init__ was configured with:\n",
      "{   'bidirectional': False,\n",
      "    'embedding_dropout': 0.2739921929165717,\n",
      "    'embedding_size': 300,\n",
      "    'freeze_embeddings': True,\n",
      "    'n_layers': 2,\n",
      "    'rnn_cell': 'gru',\n",
      "    'rnn_dropout': 0.7572798758858026,\n",
      "    'rnn_size': 114,\n",
      "    'rnn_variational_dropout': 0.0019945156936703404,\n",
      "    'vocab_size': 6899}\n",
      "[2020-11-21 20:58:08,631][MainProcess][lib.configurable][INFO] adam.Adam.__init__ was configured with:\n",
      "{'amsgrad': True, 'params': <filter object at 0x7f3c28073908>}\n",
      "[2020-11-21 20:58:08,633][MainProcess][lib.configurable][INFO] adam.Adam.__init__ was configured with:\n",
      "{'amsgrad': True, 'params': <filter object at 0x7f3c28073908>}\n",
      "[2020-11-21 20:58:08,634][MainProcess][lib.configurable][INFO] optimizer.Optimizer.__init__ was configured with:\n",
      "{   'max_grad_norm': 2.0044171525489345,\n",
      "    'optim': <lib.optim.adam.Adam object at 0x7f3c28073f98>}\n",
      "[2020-11-21 20:58:08,635][MainProcess][__main__][INFO] Epochs: 1\n",
      "[2020-11-21 20:58:08,636][MainProcess][__main__][INFO] Train Dataset Size: 75900\n",
      "[2020-11-21 20:58:08,637][MainProcess][__main__][INFO] Dev Dataset Size: 10845\n",
      "[2020-11-21 20:58:08,637][MainProcess][__main__][INFO] Train Batch Size: 32\n",
      "[2020-11-21 20:58:08,638][MainProcess][__main__][INFO] Train Max Batch Size: 1024\n",
      "[2020-11-21 20:58:08,639][MainProcess][__main__][INFO] Total Parameters: 430115\n",
      "[2020-11-21 20:58:08,640][MainProcess][__main__][INFO] Model:\n",
      "SeqToLabel(\n",
      "  (encoder): SeqEncoder(\n",
      "    (embedding): Embedding(6899, 300, padding_idx=0)\n",
      "    (rnn): GRU(300, 114, num_layers=2, dropout=0.0019945156936703404)\n",
      "    (rnn_dropout): LockedDropout(p=0.7572798758858026)\n",
      "    (embedding_dropout): Dropout(p=0.2739921929165717)\n",
      "  )\n",
      "  (out): Sequential(\n",
      "    (0): Linear(in_features=114, out_features=114, bias=True)\n",
      "    (1): BatchNorm1d(114, eps=1e-05, momentum=0.1, affine=True)\n",
      "    (2): ReLU()\n",
      "    (3): Dropout(p=0.3454151498109633)\n",
      "    (4): Linear(in_features=114, out_features=1703, bias=True)\n",
      "  )\n",
      ")\n",
      "[2020-11-21 20:58:08,640][MainProcess][__main__][INFO] Epoch: 0\n",
      "[2020-11-21 20:58:08,641][MainProcess][__main__][INFO] Training...\n"
     ]
    },
    {
     "name": "stderr",
     "output_type": "stream",
     "text": [
      "/mount/arbeitsdaten46/projekte/dialog-1/kanjurva/Simple-QA-EMNLP-2018/venv2/lib/python3.6/site-packages/ipykernel_launcher.py:57: TqdmDeprecationWarning: This function will be removed in tqdm==5.0.0\n",
      "Please use `tqdm.notebook.tqdm` instead of `tqdm.tqdm_notebook`\n"
     ]
    },
    {
     "data": {
      "application/vnd.jupyter.widget-view+json": {
       "model_id": "e07da1c65fbd473894b638e24cdbecab",
       "version_major": 2,
       "version_minor": 0
      },
      "text/plain": [
       "HBox(children=(HTML(value=''), FloatProgress(value=0.0, max=2371.0), HTML(value='')))"
      ]
     },
     "metadata": {},
     "output_type": "display_data"
    },
    {
     "name": "stdout",
     "output_type": "stream",
     "text": [
      "\n",
      "[2020-11-21 20:58:28,600][MainProcess][lib.checkpoint][INFO] Saving checkpoint: ../../experiments/relation_classifier.11_21_20:05:46/80058.pt\n"
     ]
    },
    {
     "name": "stderr",
     "output_type": "stream",
     "text": [
      "/mount/arbeitsdaten46/projekte/dialog-1/kanjurva/Simple-QA-EMNLP-2018/venv2/lib/python3.6/site-packages/ipykernel_launcher.py:13: TqdmDeprecationWarning: This function will be removed in tqdm==5.0.0\n",
      "Please use `tqdm.notebook.tqdm` instead of `tqdm.tqdm_notebook`\n",
      "  del sys.path[0]\n"
     ]
    },
    {
     "data": {
      "application/vnd.jupyter.widget-view+json": {
       "model_id": "89e2d3758dbd4d65be5f4052f5b90a45",
       "version_major": 2,
       "version_minor": 0
      },
      "text/plain": [
       "HBox(children=(HTML(value=''), FloatProgress(value=0.0, max=2.0), HTML(value='')))"
      ]
     },
     "metadata": {},
     "output_type": "display_data"
    },
    {
     "name": "stdout",
     "output_type": "stream",
     "text": [
      "\n",
      "[2020-11-21 20:58:29,348][MainProcess][__main__][INFO] NLLLoss: 0.699\n",
      "[2020-11-21 20:58:29,412][MainProcess][lib.metrics.accuracy][INFO] Accuracy: 0.830322265625 [6802 of 8192]\n"
     ]
    },
    {
     "name": "stderr",
     "output_type": "stream",
     "text": [
      "\r",
      "  5%|▌         | 54.4444444444445/1000.0 [42:57<6:27:07, 24.57s/it, min_score=-.85, models_evaluated=0]  "
     ]
    },
    {
     "name": "stdout",
     "output_type": "stream",
     "text": [
      "––––––––––––––––––––––––––––––––––––––––––––––––––––––––––––––––––––––––––––––––––––––––––––––––––––\n",
      "====================================================================================================\n",
      "[2020-11-21 20:58:29,446][MainProcess][lib.configurable][INFO] Checking configuration...\n",
      "[2020-11-21 20:58:29,448][MainProcess][lib.configurable][INFO] Configuration checked.\n",
      "[2020-11-21 20:58:29,449][MainProcess][lib.configurable][INFO] seq_to_label.SeqToLabel.__init__ was configured with:\n",
      "{   'bidirectional': False,\n",
      "    'decode_dropout': 0.06297496200573396,\n",
      "    'embedding_dropout': 0.29588972200996544,\n",
      "    'embedding_size': 300,\n",
      "    'freeze_embeddings': True,\n",
      "    'input_vocab_size': 6899,\n",
      "    'output_vocab_size': 1703,\n",
      "    'rnn_cell': 'gru',\n",
      "    'rnn_dropout': 0.25900830224557775,\n",
      "    'rnn_layers': 1,\n",
      "    'rnn_size': 398,\n",
      "    'rnn_variational_dropout': 0.014078954309710958}\n",
      "[2020-11-21 20:58:29,450][MainProcess][lib.configurable][INFO] seq_encoder.SeqEncoder.__init__ no config for: lib.nn.seq_encoder.SeqEncoder.__init__\n",
      "[2020-11-21 20:58:29,452][MainProcess][lib.configurable][INFO] seq_encoder.SeqEncoder.__init__ was configured with:\n",
      "{   'bidirectional': False,\n",
      "    'embedding_dropout': 0.29588972200996544,\n",
      "    'embedding_size': 300,\n",
      "    'freeze_embeddings': True,\n",
      "    'n_layers': 1,\n",
      "    'rnn_cell': 'gru',\n",
      "    'rnn_dropout': 0.25900830224557775,\n",
      "    'rnn_size': 398,\n",
      "    'rnn_variational_dropout': 0.014078954309710958,\n",
      "    'vocab_size': 6899}\n",
      "[2020-11-21 20:58:29,650][MainProcess][lib.configurable][INFO] adam.Adam.__init__ was configured with:\n",
      "{'amsgrad': True, 'params': <filter object at 0x7f3c2a4b4828>}\n",
      "[2020-11-21 20:58:29,651][MainProcess][lib.configurable][INFO] adam.Adam.__init__ was configured with:\n",
      "{'amsgrad': True, 'params': <filter object at 0x7f3c2a4b4828>}\n",
      "[2020-11-21 20:58:29,653][MainProcess][lib.configurable][INFO] optimizer.Optimizer.__init__ was configured with:\n",
      "{   'max_grad_norm': 4.313948875879646,\n",
      "    'optim': <lib.optim.adam.Adam object at 0x7f3c2a4b4940>}\n",
      "[2020-11-21 20:58:29,654][MainProcess][__main__][INFO] Epochs: 1\n",
      "[2020-11-21 20:58:29,655][MainProcess][__main__][INFO] Train Dataset Size: 75900\n",
      "[2020-11-21 20:58:29,655][MainProcess][__main__][INFO] Dev Dataset Size: 10845\n",
      "[2020-11-21 20:58:29,656][MainProcess][__main__][INFO] Train Batch Size: 32\n",
      "[2020-11-21 20:58:29,656][MainProcess][__main__][INFO] Train Max Batch Size: 1024\n",
      "[2020-11-21 20:58:29,657][MainProcess][__main__][INFO] Total Parameters: 1674895\n",
      "[2020-11-21 20:58:29,658][MainProcess][__main__][INFO] Model:\n",
      "SeqToLabel(\n",
      "  (encoder): SeqEncoder(\n",
      "    (embedding): Embedding(6899, 300, padding_idx=0)\n",
      "    (rnn): GRU(300, 398, dropout=0.014078954309710958)\n",
      "    (rnn_dropout): LockedDropout(p=0.25900830224557775)\n",
      "    (embedding_dropout): Dropout(p=0.29588972200996544)\n",
      "  )\n",
      "  (out): Sequential(\n",
      "    (0): Linear(in_features=398, out_features=398, bias=True)\n",
      "    (1): BatchNorm1d(398, eps=1e-05, momentum=0.1, affine=True)\n",
      "    (2): ReLU()\n",
      "    (3): Dropout(p=0.06297496200573396)\n",
      "    (4): Linear(in_features=398, out_features=1703, bias=True)\n",
      "  )\n",
      ")\n",
      "[2020-11-21 20:58:29,659][MainProcess][__main__][INFO] Epoch: 0\n",
      "[2020-11-21 20:58:29,660][MainProcess][__main__][INFO] Training...\n"
     ]
    },
    {
     "name": "stderr",
     "output_type": "stream",
     "text": [
      "/mount/arbeitsdaten46/projekte/dialog-1/kanjurva/Simple-QA-EMNLP-2018/venv2/lib/python3.6/site-packages/ipykernel_launcher.py:57: TqdmDeprecationWarning: This function will be removed in tqdm==5.0.0\n",
      "Please use `tqdm.notebook.tqdm` instead of `tqdm.tqdm_notebook`\n"
     ]
    },
    {
     "data": {
      "application/vnd.jupyter.widget-view+json": {
       "model_id": "cb47d1cc10d9493eb7ea04eea3790743",
       "version_major": 2,
       "version_minor": 0
      },
      "text/plain": [
       "HBox(children=(HTML(value=''), FloatProgress(value=0.0, max=2371.0), HTML(value='')))"
      ]
     },
     "metadata": {},
     "output_type": "display_data"
    },
    {
     "name": "stdout",
     "output_type": "stream",
     "text": [
      "\n",
      "[2020-11-21 20:58:46,205][MainProcess][lib.checkpoint][INFO] Saving checkpoint: ../../experiments/relation_classifier.11_21_20:05:46/80075.pt\n"
     ]
    },
    {
     "name": "stderr",
     "output_type": "stream",
     "text": [
      "/mount/arbeitsdaten46/projekte/dialog-1/kanjurva/Simple-QA-EMNLP-2018/venv2/lib/python3.6/site-packages/ipykernel_launcher.py:13: TqdmDeprecationWarning: This function will be removed in tqdm==5.0.0\n",
      "Please use `tqdm.notebook.tqdm` instead of `tqdm.tqdm_notebook`\n",
      "  del sys.path[0]\n"
     ]
    },
    {
     "data": {
      "application/vnd.jupyter.widget-view+json": {
       "model_id": "90ef76bdd24a470ca59be9937b9e7381",
       "version_major": 2,
       "version_minor": 0
      },
      "text/plain": [
       "HBox(children=(HTML(value=''), FloatProgress(value=0.0, max=2.0), HTML(value='')))"
      ]
     },
     "metadata": {},
     "output_type": "display_data"
    },
    {
     "name": "stdout",
     "output_type": "stream",
     "text": [
      "\n",
      "[2020-11-21 20:58:47,952][MainProcess][__main__][INFO] NLLLoss: 0.541\n",
      "[2020-11-21 20:58:48,010][MainProcess][lib.metrics.accuracy][INFO] Accuracy: 0.8526611328125 [6985 of 8192]\n"
     ]
    },
    {
     "name": "stderr",
     "output_type": "stream",
     "text": [
      "  6%|▌         | 55.555555555555614/1000.0 [43:16<5:49:44, 22.22s/it, min_score=-.853, models_evaluated=0]"
     ]
    },
    {
     "name": "stdout",
     "output_type": "stream",
     "text": [
      "––––––––––––––––––––––––––––––––––––––––––––––––––––––––––––––––––––––––––––––––––––––––––––––––––––\n",
      "====================================================================================================\n",
      "[2020-11-21 20:58:48,052][MainProcess][lib.configurable][INFO] Checking configuration...\n",
      "[2020-11-21 20:58:48,054][MainProcess][lib.configurable][INFO] Configuration checked.\n",
      "[2020-11-21 20:58:48,055][MainProcess][lib.configurable][INFO] seq_to_label.SeqToLabel.__init__ was configured with:\n",
      "{   'bidirectional': False,\n",
      "    'decode_dropout': 0.5951350728985371,\n",
      "    'embedding_dropout': 0.1053481474411706,\n",
      "    'embedding_size': 300,\n",
      "    'freeze_embeddings': True,\n",
      "    'input_vocab_size': 6899,\n",
      "    'output_vocab_size': 1703,\n",
      "    'rnn_cell': 'lstm',\n",
      "    'rnn_dropout': 0.32160103100126913,\n",
      "    'rnn_layers': 1,\n",
      "    'rnn_size': 488,\n",
      "    'rnn_variational_dropout': 0.09522070249868723}\n",
      "[2020-11-21 20:58:48,056][MainProcess][lib.configurable][INFO] seq_encoder.SeqEncoder.__init__ no config for: lib.nn.seq_encoder.SeqEncoder.__init__\n",
      "[2020-11-21 20:58:48,057][MainProcess][lib.configurable][INFO] seq_encoder.SeqEncoder.__init__ was configured with:\n",
      "{   'bidirectional': False,\n",
      "    'embedding_dropout': 0.1053481474411706,\n",
      "    'embedding_size': 300,\n",
      "    'freeze_embeddings': True,\n",
      "    'n_layers': 1,\n",
      "    'rnn_cell': 'lstm',\n",
      "    'rnn_dropout': 0.32160103100126913,\n",
      "    'rnn_size': 488,\n",
      "    'rnn_variational_dropout': 0.09522070249868723,\n",
      "    'vocab_size': 6899}\n",
      "[2020-11-21 20:58:48,273][MainProcess][lib.configurable][INFO] adam.Adam.__init__ was configured with:\n",
      "{'amsgrad': True, 'params': <filter object at 0x7f3c29d695f8>}\n",
      "[2020-11-21 20:58:48,275][MainProcess][lib.configurable][INFO] adam.Adam.__init__ was configured with:\n",
      "{'amsgrad': True, 'params': <filter object at 0x7f3c29d695f8>}\n",
      "[2020-11-21 20:58:48,276][MainProcess][lib.configurable][INFO] optimizer.Optimizer.__init__ was configured with:\n",
      "{   'max_grad_norm': 4.233985496338158,\n",
      "    'optim': <lib.optim.adam.Adam object at 0x7f3c2a4b4828>}\n",
      "[2020-11-21 20:58:48,277][MainProcess][__main__][INFO] Epochs: 1\n",
      "[2020-11-21 20:58:48,278][MainProcess][__main__][INFO] Train Dataset Size: 75900\n",
      "[2020-11-21 20:58:48,279][MainProcess][__main__][INFO] Dev Dataset Size: 10845\n",
      "[2020-11-21 20:58:48,279][MainProcess][__main__][INFO] Train Batch Size: 32\n",
      "[2020-11-21 20:58:48,280][MainProcess][__main__][INFO] Train Max Batch Size: 1024\n",
      "[2020-11-21 20:58:48,280][MainProcess][__main__][INFO] Total Parameters: 2614455\n",
      "[2020-11-21 20:58:48,281][MainProcess][__main__][INFO] Model:\n",
      "SeqToLabel(\n",
      "  (encoder): SeqEncoder(\n",
      "    (embedding): Embedding(6899, 300, padding_idx=0)\n",
      "    (rnn): LSTM(300, 488, dropout=0.09522070249868723)\n",
      "    (rnn_dropout): LockedDropout(p=0.32160103100126913)\n",
      "    (embedding_dropout): Dropout(p=0.1053481474411706)\n",
      "  )\n",
      "  (out): Sequential(\n",
      "    (0): Linear(in_features=488, out_features=488, bias=True)\n",
      "    (1): BatchNorm1d(488, eps=1e-05, momentum=0.1, affine=True)\n",
      "    (2): ReLU()\n",
      "    (3): Dropout(p=0.5951350728985371)\n",
      "    (4): Linear(in_features=488, out_features=1703, bias=True)\n",
      "  )\n",
      ")\n",
      "[2020-11-21 20:58:48,282][MainProcess][__main__][INFO] Epoch: 0\n",
      "[2020-11-21 20:58:48,282][MainProcess][__main__][INFO] Training...\n"
     ]
    },
    {
     "name": "stderr",
     "output_type": "stream",
     "text": [
      "/mount/arbeitsdaten46/projekte/dialog-1/kanjurva/Simple-QA-EMNLP-2018/venv2/lib/python3.6/site-packages/ipykernel_launcher.py:57: TqdmDeprecationWarning: This function will be removed in tqdm==5.0.0\n",
      "Please use `tqdm.notebook.tqdm` instead of `tqdm.tqdm_notebook`\n"
     ]
    },
    {
     "data": {
      "application/vnd.jupyter.widget-view+json": {
       "model_id": "3df7694ff06a4e97bba771caad87fea6",
       "version_major": 2,
       "version_minor": 0
      },
      "text/plain": [
       "HBox(children=(HTML(value=''), FloatProgress(value=0.0, max=2371.0), HTML(value='')))"
      ]
     },
     "metadata": {},
     "output_type": "display_data"
    },
    {
     "name": "stdout",
     "output_type": "stream",
     "text": [
      "\n",
      "[2020-11-21 20:59:05,539][MainProcess][lib.checkpoint][INFO] Saving checkpoint: ../../experiments/relation_classifier.11_21_20:05:46/80095.pt\n"
     ]
    },
    {
     "name": "stderr",
     "output_type": "stream",
     "text": [
      "/mount/arbeitsdaten46/projekte/dialog-1/kanjurva/Simple-QA-EMNLP-2018/venv2/lib/python3.6/site-packages/ipykernel_launcher.py:13: TqdmDeprecationWarning: This function will be removed in tqdm==5.0.0\n",
      "Please use `tqdm.notebook.tqdm` instead of `tqdm.tqdm_notebook`\n",
      "  del sys.path[0]\n"
     ]
    },
    {
     "data": {
      "application/vnd.jupyter.widget-view+json": {
       "model_id": "bdc6e5cf488048fda10bfc379a9e0dfb",
       "version_major": 2,
       "version_minor": 0
      },
      "text/plain": [
       "HBox(children=(HTML(value=''), FloatProgress(value=0.0, max=2.0), HTML(value='')))"
      ]
     },
     "metadata": {},
     "output_type": "display_data"
    },
    {
     "name": "stdout",
     "output_type": "stream",
     "text": [
      "\n",
      "[2020-11-21 20:59:07,147][MainProcess][__main__][INFO] NLLLoss: 0.711\n",
      "[2020-11-21 20:59:07,211][MainProcess][lib.metrics.accuracy][INFO] Accuracy: 0.827392578125 [6778 of 8192]\n"
     ]
    },
    {
     "name": "stderr",
     "output_type": "stream",
     "text": [
      "\r",
      "  6%|▌         | 56.66666666666673/1000.0 [43:35<5:26:04, 20.74s/it, min_score=-.853, models_evaluated=0] "
     ]
    },
    {
     "name": "stdout",
     "output_type": "stream",
     "text": [
      "––––––––––––––––––––––––––––––––––––––––––––––––––––––––––––––––––––––––––––––––––––––––––––––––––––\n",
      "====================================================================================================\n",
      "[2020-11-21 20:59:07,260][MainProcess][lib.configurable][INFO] Checking configuration...\n",
      "[2020-11-21 20:59:07,261][MainProcess][lib.configurable][INFO] Configuration checked.\n",
      "[2020-11-21 20:59:07,262][MainProcess][lib.configurable][INFO] seq_to_label.SeqToLabel.__init__ was configured with:\n",
      "{   'bidirectional': False,\n",
      "    'decode_dropout': 0.6356865510806823,\n",
      "    'embedding_dropout': 0.7079999427228586,\n",
      "    'embedding_size': 300,\n",
      "    'freeze_embeddings': False,\n",
      "    'input_vocab_size': 6899,\n",
      "    'output_vocab_size': 1703,\n",
      "    'rnn_cell': 'gru',\n",
      "    'rnn_dropout': 0.19413869849811713,\n",
      "    'rnn_layers': 1,\n",
      "    'rnn_size': 286,\n",
      "    'rnn_variational_dropout': 0.48783408876779183}\n",
      "[2020-11-21 20:59:07,263][MainProcess][lib.configurable][INFO] seq_encoder.SeqEncoder.__init__ no config for: lib.nn.seq_encoder.SeqEncoder.__init__\n",
      "[2020-11-21 20:59:07,264][MainProcess][lib.configurable][INFO] seq_encoder.SeqEncoder.__init__ was configured with:\n",
      "{   'bidirectional': False,\n",
      "    'embedding_dropout': 0.7079999427228586,\n",
      "    'embedding_size': 300,\n",
      "    'freeze_embeddings': False,\n",
      "    'n_layers': 1,\n",
      "    'rnn_cell': 'gru',\n",
      "    'rnn_dropout': 0.19413869849811713,\n",
      "    'rnn_size': 286,\n",
      "    'rnn_variational_dropout': 0.48783408876779183,\n",
      "    'vocab_size': 6899}\n",
      "[2020-11-21 20:59:07,444][MainProcess][lib.configurable][INFO] adam.Adam.__init__ was configured with:\n",
      "{'amsgrad': True, 'params': <filter object at 0x7f3c2e92ceb8>}\n",
      "[2020-11-21 20:59:07,446][MainProcess][lib.configurable][INFO] adam.Adam.__init__ was configured with:\n",
      "{'amsgrad': True, 'params': <filter object at 0x7f3c2e92ceb8>}\n",
      "[2020-11-21 20:59:07,447][MainProcess][lib.configurable][INFO] optimizer.Optimizer.__init__ was configured with:\n",
      "{   'max_grad_norm': 3.4123971867537817,\n",
      "    'optim': <lib.optim.adam.Adam object at 0x7f3c2e92c128>}\n",
      "[2020-11-21 20:59:07,449][MainProcess][__main__][INFO] Epochs: 1\n",
      "[2020-11-21 20:59:07,449][MainProcess][__main__][INFO] Train Dataset Size: 75900\n",
      "[2020-11-21 20:59:07,450][MainProcess][__main__][INFO] Dev Dataset Size: 10845\n",
      "[2020-11-21 20:59:07,451][MainProcess][__main__][INFO] Train Batch Size: 32\n",
      "[2020-11-21 20:59:07,451][MainProcess][__main__][INFO] Train Max Batch Size: 1024\n",
      "[2020-11-21 20:59:07,452][MainProcess][__main__][INFO] Total Parameters: 3145619\n",
      "[2020-11-21 20:59:07,453][MainProcess][__main__][INFO] Model:\n",
      "SeqToLabel(\n",
      "  (encoder): SeqEncoder(\n",
      "    (embedding): Embedding(6899, 300, padding_idx=0)\n",
      "    (rnn): GRU(300, 286, dropout=0.48783408876779183)\n",
      "    (rnn_dropout): LockedDropout(p=0.19413869849811713)\n",
      "    (embedding_dropout): Dropout(p=0.7079999427228586)\n",
      "  )\n",
      "  (out): Sequential(\n",
      "    (0): Linear(in_features=286, out_features=286, bias=True)\n",
      "    (1): BatchNorm1d(286, eps=1e-05, momentum=0.1, affine=True)\n",
      "    (2): ReLU()\n",
      "    (3): Dropout(p=0.6356865510806823)\n",
      "    (4): Linear(in_features=286, out_features=1703, bias=True)\n",
      "  )\n",
      ")\n",
      "[2020-11-21 20:59:07,453][MainProcess][__main__][INFO] Epoch: 0\n",
      "[2020-11-21 20:59:07,454][MainProcess][__main__][INFO] Training...\n"
     ]
    },
    {
     "name": "stderr",
     "output_type": "stream",
     "text": [
      "/mount/arbeitsdaten46/projekte/dialog-1/kanjurva/Simple-QA-EMNLP-2018/venv2/lib/python3.6/site-packages/ipykernel_launcher.py:57: TqdmDeprecationWarning: This function will be removed in tqdm==5.0.0\n",
      "Please use `tqdm.notebook.tqdm` instead of `tqdm.tqdm_notebook`\n"
     ]
    },
    {
     "data": {
      "application/vnd.jupyter.widget-view+json": {
       "model_id": "1e5b5ac8ae684266b30c232fb4cc2f82",
       "version_major": 2,
       "version_minor": 0
      },
      "text/plain": [
       "HBox(children=(HTML(value=''), FloatProgress(value=0.0, max=2371.0), HTML(value='')))"
      ]
     },
     "metadata": {},
     "output_type": "display_data"
    },
    {
     "name": "stdout",
     "output_type": "stream",
     "text": [
      "\n",
      "[2020-11-21 20:59:24,973][MainProcess][lib.checkpoint][INFO] Saving checkpoint: ../../experiments/relation_classifier.11_21_20:05:46/80114.pt\n"
     ]
    },
    {
     "name": "stderr",
     "output_type": "stream",
     "text": [
      "/mount/arbeitsdaten46/projekte/dialog-1/kanjurva/Simple-QA-EMNLP-2018/venv2/lib/python3.6/site-packages/ipykernel_launcher.py:13: TqdmDeprecationWarning: This function will be removed in tqdm==5.0.0\n",
      "Please use `tqdm.notebook.tqdm` instead of `tqdm.tqdm_notebook`\n",
      "  del sys.path[0]\n"
     ]
    },
    {
     "data": {
      "application/vnd.jupyter.widget-view+json": {
       "model_id": "a61886b3d3104a5e90bde0aef12cfa73",
       "version_major": 2,
       "version_minor": 0
      },
      "text/plain": [
       "HBox(children=(HTML(value=''), FloatProgress(value=0.0, max=2.0), HTML(value='')))"
      ]
     },
     "metadata": {},
     "output_type": "display_data"
    },
    {
     "name": "stdout",
     "output_type": "stream",
     "text": [
      "\n",
      "[2020-11-21 20:59:26,510][MainProcess][__main__][INFO] NLLLoss: 0.823\n",
      "[2020-11-21 20:59:26,569][MainProcess][lib.metrics.accuracy][INFO] Accuracy: 0.80078125 [6560 of 8192]\n"
     ]
    },
    {
     "name": "stderr",
     "output_type": "stream",
     "text": [
      "\r",
      "  6%|▌         | 57.77777777777784/1000.0 [43:55<5:10:01, 19.74s/it, min_score=-.853, models_evaluated=0]"
     ]
    },
    {
     "name": "stdout",
     "output_type": "stream",
     "text": [
      "––––––––––––––––––––––––––––––––––––––––––––––––––––––––––––––––––––––––––––––––––––––––––––––––––––\n",
      "====================================================================================================\n",
      "[2020-11-21 20:59:26,609][MainProcess][lib.configurable][INFO] Checking configuration...\n",
      "[2020-11-21 20:59:26,610][MainProcess][lib.configurable][INFO] Configuration checked.\n",
      "[2020-11-21 20:59:26,612][MainProcess][lib.configurable][INFO] seq_to_label.SeqToLabel.__init__ was configured with:\n",
      "{   'bidirectional': False,\n",
      "    'decode_dropout': 0.015329851849453782,\n",
      "    'embedding_dropout': 0.899577647233932,\n",
      "    'embedding_size': 300,\n",
      "    'freeze_embeddings': False,\n",
      "    'input_vocab_size': 6899,\n",
      "    'output_vocab_size': 1703,\n",
      "    'rnn_cell': 'lstm',\n",
      "    'rnn_dropout': 0.6401291573657947,\n",
      "    'rnn_layers': 2,\n",
      "    'rnn_size': 430,\n",
      "    'rnn_variational_dropout': 0.6435181111592447}\n",
      "[2020-11-21 20:59:26,613][MainProcess][lib.configurable][INFO] seq_encoder.SeqEncoder.__init__ no config for: lib.nn.seq_encoder.SeqEncoder.__init__\n",
      "[2020-11-21 20:59:26,615][MainProcess][lib.configurable][INFO] seq_encoder.SeqEncoder.__init__ was configured with:\n",
      "{   'bidirectional': False,\n",
      "    'embedding_dropout': 0.899577647233932,\n",
      "    'embedding_size': 300,\n",
      "    'freeze_embeddings': False,\n",
      "    'n_layers': 2,\n",
      "    'rnn_cell': 'lstm',\n",
      "    'rnn_dropout': 0.6401291573657947,\n",
      "    'rnn_size': 430,\n",
      "    'rnn_variational_dropout': 0.6435181111592447,\n",
      "    'vocab_size': 6899}\n",
      "[2020-11-21 20:59:26,848][MainProcess][lib.configurable][INFO] adam.Adam.__init__ was configured with:\n",
      "{'amsgrad': True, 'params': <filter object at 0x7f3c28073908>}\n",
      "[2020-11-21 20:59:26,849][MainProcess][lib.configurable][INFO] adam.Adam.__init__ was configured with:\n",
      "{'amsgrad': True, 'params': <filter object at 0x7f3c28073908>}\n",
      "[2020-11-21 20:59:26,851][MainProcess][lib.configurable][INFO] optimizer.Optimizer.__init__ was configured with:\n",
      "{   'max_grad_norm': 1.6227349898476064,\n",
      "    'optim': <lib.optim.adam.Adam object at 0x7f3c2f80b3c8>}\n",
      "[2020-11-21 20:59:26,852][MainProcess][__main__][INFO] Epochs: 1\n",
      "[2020-11-21 20:59:26,853][MainProcess][__main__][INFO] Train Dataset Size: 75900\n",
      "[2020-11-21 20:59:26,854][MainProcess][__main__][INFO] Dev Dataset Size: 10845\n",
      "[2020-11-21 20:59:26,854][MainProcess][__main__][INFO] Train Batch Size: 32\n",
      "[2020-11-21 20:59:26,856][MainProcess][__main__][INFO] Train Max Batch Size: 1024\n",
      "[2020-11-21 20:59:26,857][MainProcess][__main__][INFO] Total Parameters: 5731563\n",
      "[2020-11-21 20:59:26,858][MainProcess][__main__][INFO] Model:\n",
      "SeqToLabel(\n",
      "  (encoder): SeqEncoder(\n",
      "    (embedding): Embedding(6899, 300, padding_idx=0)\n",
      "    (rnn): LSTM(300, 430, num_layers=2, dropout=0.6435181111592447)\n",
      "    (rnn_dropout): LockedDropout(p=0.6401291573657947)\n",
      "    (embedding_dropout): Dropout(p=0.899577647233932)\n",
      "  )\n",
      "  (out): Sequential(\n",
      "    (0): Linear(in_features=430, out_features=430, bias=True)\n",
      "    (1): BatchNorm1d(430, eps=1e-05, momentum=0.1, affine=True)\n",
      "    (2): ReLU()\n",
      "    (3): Dropout(p=0.015329851849453782)\n",
      "    (4): Linear(in_features=430, out_features=1703, bias=True)\n",
      "  )\n",
      ")\n",
      "[2020-11-21 20:59:26,859][MainProcess][__main__][INFO] Epoch: 0\n",
      "[2020-11-21 20:59:26,859][MainProcess][__main__][INFO] Training...\n"
     ]
    },
    {
     "name": "stderr",
     "output_type": "stream",
     "text": [
      "/mount/arbeitsdaten46/projekte/dialog-1/kanjurva/Simple-QA-EMNLP-2018/venv2/lib/python3.6/site-packages/ipykernel_launcher.py:57: TqdmDeprecationWarning: This function will be removed in tqdm==5.0.0\n",
      "Please use `tqdm.notebook.tqdm` instead of `tqdm.tqdm_notebook`\n"
     ]
    },
    {
     "data": {
      "application/vnd.jupyter.widget-view+json": {
       "model_id": "8c96fe6c24654c9d83e1d40a3dc07612",
       "version_major": 2,
       "version_minor": 0
      },
      "text/plain": [
       "HBox(children=(HTML(value=''), FloatProgress(value=0.0, max=2371.0), HTML(value='')))"
      ]
     },
     "metadata": {},
     "output_type": "display_data"
    },
    {
     "name": "stdout",
     "output_type": "stream",
     "text": [
      "\n",
      "[2020-11-21 20:59:51,437][MainProcess][lib.checkpoint][INFO] Saving checkpoint: ../../experiments/relation_classifier.11_21_20:05:46/80141.pt\n"
     ]
    },
    {
     "name": "stderr",
     "output_type": "stream",
     "text": [
      "/mount/arbeitsdaten46/projekte/dialog-1/kanjurva/Simple-QA-EMNLP-2018/venv2/lib/python3.6/site-packages/ipykernel_launcher.py:13: TqdmDeprecationWarning: This function will be removed in tqdm==5.0.0\n",
      "Please use `tqdm.notebook.tqdm` instead of `tqdm.tqdm_notebook`\n",
      "  del sys.path[0]\n"
     ]
    },
    {
     "data": {
      "application/vnd.jupyter.widget-view+json": {
       "model_id": "1748055d81d546398a2b5ad48c6ad81c",
       "version_major": 2,
       "version_minor": 0
      },
      "text/plain": [
       "HBox(children=(HTML(value=''), FloatProgress(value=0.0, max=2.0), HTML(value='')))"
      ]
     },
     "metadata": {},
     "output_type": "display_data"
    },
    {
     "name": "stdout",
     "output_type": "stream",
     "text": [
      "\n",
      "[2020-11-21 20:59:57,585][MainProcess][__main__][INFO] NLLLoss: 0.763\n",
      "[2020-11-21 20:59:57,642][MainProcess][lib.metrics.accuracy][INFO] Accuracy: 0.7620849609375 [6243 of 8192]\n"
     ]
    },
    {
     "name": "stderr",
     "output_type": "stream",
     "text": [
      "\r",
      "  6%|▌         | 58.88888888888896/1000.0 [44:26<5:48:27, 22.22s/it, min_score=-.853, models_evaluated=0]"
     ]
    },
    {
     "name": "stdout",
     "output_type": "stream",
     "text": [
      "––––––––––––––––––––––––––––––––––––––––––––––––––––––––––––––––––––––––––––––––––––––––––––––––––––\n",
      "====================================================================================================\n",
      "[2020-11-21 20:59:57,707][MainProcess][lib.configurable][INFO] Checking configuration...\n",
      "[2020-11-21 20:59:57,709][MainProcess][lib.configurable][INFO] Configuration checked.\n",
      "[2020-11-21 20:59:57,711][MainProcess][lib.configurable][INFO] seq_to_label.SeqToLabel.__init__ was configured with:\n",
      "{   'bidirectional': True,\n",
      "    'decode_dropout': 0.10480601214987847,\n",
      "    'embedding_dropout': 0.5322115913866177,\n",
      "    'embedding_size': 300,\n",
      "    'freeze_embeddings': True,\n",
      "    'input_vocab_size': 6899,\n",
      "    'output_vocab_size': 1703,\n",
      "    'rnn_cell': 'gru',\n",
      "    'rnn_dropout': 0.21148135207058458,\n",
      "    'rnn_layers': 3,\n",
      "    'rnn_size': 160,\n",
      "    'rnn_variational_dropout': 0.08679215660651032}\n",
      "[2020-11-21 20:59:57,712][MainProcess][lib.configurable][INFO] seq_encoder.SeqEncoder.__init__ no config for: lib.nn.seq_encoder.SeqEncoder.__init__\n",
      "[2020-11-21 20:59:57,713][MainProcess][lib.configurable][INFO] seq_encoder.SeqEncoder.__init__ was configured with:\n",
      "{   'bidirectional': True,\n",
      "    'embedding_dropout': 0.5322115913866177,\n",
      "    'embedding_size': 300,\n",
      "    'freeze_embeddings': True,\n",
      "    'n_layers': 3,\n",
      "    'rnn_cell': 'gru',\n",
      "    'rnn_dropout': 0.21148135207058458,\n",
      "    'rnn_size': 160,\n",
      "    'rnn_variational_dropout': 0.08679215660651032,\n",
      "    'vocab_size': 6899}\n",
      "[2020-11-21 20:59:57,889][MainProcess][lib.configurable][INFO] adam.Adam.__init__ was configured with:\n",
      "{'amsgrad': True, 'params': <filter object at 0x7f3c28073908>}\n",
      "[2020-11-21 20:59:57,890][MainProcess][lib.configurable][INFO] adam.Adam.__init__ was configured with:\n",
      "{'amsgrad': True, 'params': <filter object at 0x7f3c28073908>}\n",
      "[2020-11-21 20:59:57,891][MainProcess][lib.configurable][INFO] optimizer.Optimizer.__init__ was configured with:\n",
      "{   'max_grad_norm': 1.8640791382935349,\n",
      "    'optim': <lib.optim.adam.Adam object at 0x7f3c2a4b4828>}\n",
      "[2020-11-21 20:59:57,893][MainProcess][__main__][INFO] Epochs: 1\n",
      "[2020-11-21 20:59:57,893][MainProcess][__main__][INFO] Train Dataset Size: 75900\n",
      "[2020-11-21 20:59:57,895][MainProcess][__main__][INFO] Dev Dataset Size: 10845\n",
      "[2020-11-21 20:59:57,895][MainProcess][__main__][INFO] Train Batch Size: 32\n",
      "[2020-11-21 20:59:57,896][MainProcess][__main__][INFO] Train Max Batch Size: 1024\n",
      "[2020-11-21 20:59:57,897][MainProcess][__main__][INFO] Total Parameters: 715943\n",
      "[2020-11-21 20:59:57,897][MainProcess][__main__][INFO] Model:\n",
      "SeqToLabel(\n",
      "  (encoder): SeqEncoder(\n",
      "    (embedding): Embedding(6899, 300, padding_idx=0)\n",
      "    (rnn): GRU(300, 80, num_layers=3, dropout=0.08679215660651032, bidirectional=True)\n",
      "    (rnn_dropout): LockedDropout(p=0.21148135207058458)\n",
      "    (embedding_dropout): Dropout(p=0.5322115913866177)\n",
      "  )\n",
      "  (out): Sequential(\n",
      "    (0): Linear(in_features=160, out_features=160, bias=True)\n",
      "    (1): BatchNorm1d(160, eps=1e-05, momentum=0.1, affine=True)\n",
      "    (2): ReLU()\n",
      "    (3): Dropout(p=0.10480601214987847)\n",
      "    (4): Linear(in_features=160, out_features=1703, bias=True)\n",
      "  )\n",
      ")\n",
      "[2020-11-21 20:59:57,898][MainProcess][__main__][INFO] Epoch: 0\n",
      "[2020-11-21 20:59:57,899][MainProcess][__main__][INFO] Training...\n"
     ]
    },
    {
     "name": "stderr",
     "output_type": "stream",
     "text": [
      "/mount/arbeitsdaten46/projekte/dialog-1/kanjurva/Simple-QA-EMNLP-2018/venv2/lib/python3.6/site-packages/ipykernel_launcher.py:57: TqdmDeprecationWarning: This function will be removed in tqdm==5.0.0\n",
      "Please use `tqdm.notebook.tqdm` instead of `tqdm.tqdm_notebook`\n"
     ]
    },
    {
     "data": {
      "application/vnd.jupyter.widget-view+json": {
       "model_id": "7e6a9ab598b54af5a12605bcb97726ed",
       "version_major": 2,
       "version_minor": 0
      },
      "text/plain": [
       "HBox(children=(HTML(value=''), FloatProgress(value=0.0, max=2371.0), HTML(value='')))"
      ]
     },
     "metadata": {},
     "output_type": "display_data"
    },
    {
     "name": "stdout",
     "output_type": "stream",
     "text": [
      "\n",
      "[2020-11-21 21:00:33,059][MainProcess][lib.checkpoint][INFO] Saving checkpoint: ../../experiments/relation_classifier.11_21_20:05:46/80182.pt\n"
     ]
    },
    {
     "name": "stderr",
     "output_type": "stream",
     "text": [
      "/mount/arbeitsdaten46/projekte/dialog-1/kanjurva/Simple-QA-EMNLP-2018/venv2/lib/python3.6/site-packages/ipykernel_launcher.py:13: TqdmDeprecationWarning: This function will be removed in tqdm==5.0.0\n",
      "Please use `tqdm.notebook.tqdm` instead of `tqdm.tqdm_notebook`\n",
      "  del sys.path[0]\n"
     ]
    },
    {
     "data": {
      "application/vnd.jupyter.widget-view+json": {
       "model_id": "60b3bc179ce34bbd85cb09b4f9546314",
       "version_major": 2,
       "version_minor": 0
      },
      "text/plain": [
       "HBox(children=(HTML(value=''), FloatProgress(value=0.0, max=2.0), HTML(value='')))"
      ]
     },
     "metadata": {},
     "output_type": "display_data"
    },
    {
     "name": "stdout",
     "output_type": "stream",
     "text": [
      "\n",
      "[2020-11-21 21:00:34,748][MainProcess][__main__][INFO] NLLLoss: 0.645\n",
      "[2020-11-21 21:00:34,809][MainProcess][lib.metrics.accuracy][INFO] Accuracy: 0.830810546875 [6806 of 8192]\n"
     ]
    },
    {
     "name": "stderr",
     "output_type": "stream",
     "text": [
      "\r",
      "  6%|▌         | 60.00000000000007/1000.0 [45:03<6:40:41, 25.58s/it, min_score=-.853, models_evaluated=0]"
     ]
    },
    {
     "name": "stdout",
     "output_type": "stream",
     "text": [
      "––––––––––––––––––––––––––––––––––––––––––––––––––––––––––––––––––––––––––––––––––––––––––––––––––––\n",
      "====================================================================================================\n",
      "[2020-11-21 21:00:34,838][MainProcess][lib.configurable][INFO] Checking configuration...\n",
      "[2020-11-21 21:00:34,839][MainProcess][lib.configurable][INFO] Configuration checked.\n",
      "[2020-11-21 21:00:34,840][MainProcess][lib.configurable][INFO] seq_to_label.SeqToLabel.__init__ was configured with:\n",
      "{   'bidirectional': False,\n",
      "    'decode_dropout': 0.456136503383446,\n",
      "    'embedding_dropout': 0.7779914001823591,\n",
      "    'embedding_size': 300,\n",
      "    'freeze_embeddings': True,\n",
      "    'input_vocab_size': 6899,\n",
      "    'output_vocab_size': 1703,\n",
      "    'rnn_cell': 'lstm',\n",
      "    'rnn_dropout': 0.5185693187006523,\n",
      "    'rnn_layers': 2,\n",
      "    'rnn_size': 322,\n",
      "    'rnn_variational_dropout': 0.307496280866969}\n",
      "[2020-11-21 21:00:34,841][MainProcess][lib.configurable][INFO] seq_encoder.SeqEncoder.__init__ no config for: lib.nn.seq_encoder.SeqEncoder.__init__\n",
      "[2020-11-21 21:00:34,842][MainProcess][lib.configurable][INFO] seq_encoder.SeqEncoder.__init__ was configured with:\n",
      "{   'bidirectional': False,\n",
      "    'embedding_dropout': 0.7779914001823591,\n",
      "    'embedding_size': 300,\n",
      "    'freeze_embeddings': True,\n",
      "    'n_layers': 2,\n",
      "    'rnn_cell': 'lstm',\n",
      "    'rnn_dropout': 0.5185693187006523,\n",
      "    'rnn_size': 322,\n",
      "    'rnn_variational_dropout': 0.307496280866969,\n",
      "    'vocab_size': 6899}\n",
      "[2020-11-21 21:00:35,035][MainProcess][lib.configurable][INFO] adam.Adam.__init__ was configured with:\n",
      "{'amsgrad': True, 'params': <filter object at 0x7f3c2f7a0dd8>}\n",
      "[2020-11-21 21:00:35,036][MainProcess][lib.configurable][INFO] adam.Adam.__init__ was configured with:\n",
      "{'amsgrad': True, 'params': <filter object at 0x7f3c2f7a0dd8>}\n",
      "[2020-11-21 21:00:35,038][MainProcess][lib.configurable][INFO] optimizer.Optimizer.__init__ was configured with:\n",
      "{   'max_grad_norm': 2.278819717169717,\n",
      "    'optim': <lib.optim.adam.Adam object at 0x7f3cb13afc88>}\n",
      "[2020-11-21 21:00:35,040][MainProcess][__main__][INFO] Epochs: 1\n",
      "[2020-11-21 21:00:35,041][MainProcess][__main__][INFO] Train Dataset Size: 75900\n",
      "[2020-11-21 21:00:35,042][MainProcess][__main__][INFO] Dev Dataset Size: 10845\n",
      "[2020-11-21 21:00:35,043][MainProcess][__main__][INFO] Train Batch Size: 32\n",
      "[2020-11-21 21:00:35,043][MainProcess][__main__][INFO] Train Max Batch Size: 1024\n",
      "[2020-11-21 21:00:35,044][MainProcess][__main__][INFO] Total Parameters: 2290479\n",
      "[2020-11-21 21:00:35,045][MainProcess][__main__][INFO] Model:\n",
      "SeqToLabel(\n",
      "  (encoder): SeqEncoder(\n",
      "    (embedding): Embedding(6899, 300, padding_idx=0)\n",
      "    (rnn): LSTM(300, 322, num_layers=2, dropout=0.307496280866969)\n",
      "    (rnn_dropout): LockedDropout(p=0.5185693187006523)\n",
      "    (embedding_dropout): Dropout(p=0.7779914001823591)\n",
      "  )\n",
      "  (out): Sequential(\n",
      "    (0): Linear(in_features=322, out_features=322, bias=True)\n",
      "    (1): BatchNorm1d(322, eps=1e-05, momentum=0.1, affine=True)\n",
      "    (2): ReLU()\n",
      "    (3): Dropout(p=0.456136503383446)\n",
      "    (4): Linear(in_features=322, out_features=1703, bias=True)\n",
      "  )\n",
      ")\n",
      "[2020-11-21 21:00:35,045][MainProcess][__main__][INFO] Epoch: 0\n",
      "[2020-11-21 21:00:35,046][MainProcess][__main__][INFO] Training...\n"
     ]
    },
    {
     "name": "stderr",
     "output_type": "stream",
     "text": [
      "/mount/arbeitsdaten46/projekte/dialog-1/kanjurva/Simple-QA-EMNLP-2018/venv2/lib/python3.6/site-packages/ipykernel_launcher.py:57: TqdmDeprecationWarning: This function will be removed in tqdm==5.0.0\n",
      "Please use `tqdm.notebook.tqdm` instead of `tqdm.tqdm_notebook`\n"
     ]
    },
    {
     "data": {
      "application/vnd.jupyter.widget-view+json": {
       "model_id": "8aad81d7e58a4028a3632275f2a0a428",
       "version_major": 2,
       "version_minor": 0
      },
      "text/plain": [
       "HBox(children=(HTML(value=''), FloatProgress(value=0.0, max=2371.0), HTML(value='')))"
      ]
     },
     "metadata": {},
     "output_type": "display_data"
    },
    {
     "name": "stdout",
     "output_type": "stream",
     "text": [
      "\n",
      "[2020-11-21 21:00:56,524][MainProcess][lib.checkpoint][INFO] Saving checkpoint: ../../experiments/relation_classifier.11_21_20:05:46/80206.pt\n"
     ]
    },
    {
     "name": "stderr",
     "output_type": "stream",
     "text": [
      "/mount/arbeitsdaten46/projekte/dialog-1/kanjurva/Simple-QA-EMNLP-2018/venv2/lib/python3.6/site-packages/ipykernel_launcher.py:13: TqdmDeprecationWarning: This function will be removed in tqdm==5.0.0\n",
      "Please use `tqdm.notebook.tqdm` instead of `tqdm.tqdm_notebook`\n",
      "  del sys.path[0]\n"
     ]
    },
    {
     "data": {
      "application/vnd.jupyter.widget-view+json": {
       "model_id": "162e139f908a4dfe90d19fe32e5050a1",
       "version_major": 2,
       "version_minor": 0
      },
      "text/plain": [
       "HBox(children=(HTML(value=''), FloatProgress(value=0.0, max=2.0), HTML(value='')))"
      ]
     },
     "metadata": {},
     "output_type": "display_data"
    },
    {
     "name": "stdout",
     "output_type": "stream",
     "text": [
      "\n",
      "[2020-11-21 21:00:57,849][MainProcess][__main__][INFO] NLLLoss: 0.807\n",
      "[2020-11-21 21:00:57,908][MainProcess][lib.metrics.accuracy][INFO] Accuracy: 0.7659912109375 [6275 of 8192]\n"
     ]
    },
    {
     "name": "stderr",
     "output_type": "stream",
     "text": [
      "\r",
      "  6%|▌         | 61.111111111111185/1000.0 [45:26<6:17:48, 24.14s/it, min_score=-.853, models_evaluated=0]"
     ]
    },
    {
     "name": "stdout",
     "output_type": "stream",
     "text": [
      "––––––––––––––––––––––––––––––––––––––––––––––––––––––––––––––––––––––––––––––––––––––––––––––––––––\n",
      "====================================================================================================\n",
      "[2020-11-21 21:00:57,950][MainProcess][lib.configurable][INFO] Checking configuration...\n",
      "[2020-11-21 21:00:57,951][MainProcess][lib.configurable][INFO] Configuration checked.\n",
      "[2020-11-21 21:00:57,953][MainProcess][lib.configurable][INFO] seq_to_label.SeqToLabel.__init__ was configured with:\n",
      "{   'bidirectional': True,\n",
      "    'decode_dropout': 0.6240329288270713,\n",
      "    'embedding_dropout': 0.5587173411042812,\n",
      "    'embedding_size': 300,\n",
      "    'freeze_embeddings': True,\n",
      "    'input_vocab_size': 6899,\n",
      "    'output_vocab_size': 1703,\n",
      "    'rnn_cell': 'gru',\n",
      "    'rnn_dropout': 0.8643728948874805,\n",
      "    'rnn_layers': 2,\n",
      "    'rnn_size': 154,\n",
      "    'rnn_variational_dropout': 0.36231389554609095}\n",
      "[2020-11-21 21:00:57,954][MainProcess][lib.configurable][INFO] seq_encoder.SeqEncoder.__init__ no config for: lib.nn.seq_encoder.SeqEncoder.__init__\n",
      "[2020-11-21 21:00:57,956][MainProcess][lib.configurable][INFO] seq_encoder.SeqEncoder.__init__ was configured with:\n",
      "{   'bidirectional': True,\n",
      "    'embedding_dropout': 0.5587173411042812,\n",
      "    'embedding_size': 300,\n",
      "    'freeze_embeddings': True,\n",
      "    'n_layers': 2,\n",
      "    'rnn_cell': 'gru',\n",
      "    'rnn_dropout': 0.8643728948874805,\n",
      "    'rnn_size': 154,\n",
      "    'rnn_variational_dropout': 0.36231389554609095,\n",
      "    'vocab_size': 6899}\n",
      "[2020-11-21 21:00:58,126][MainProcess][lib.configurable][INFO] adam.Adam.__init__ was configured with:\n",
      "{'amsgrad': True, 'params': <filter object at 0x7f3c9ffe6c50>}\n",
      "[2020-11-21 21:00:58,127][MainProcess][lib.configurable][INFO] adam.Adam.__init__ was configured with:\n",
      "{'amsgrad': True, 'params': <filter object at 0x7f3c9ffe6c50>}\n",
      "[2020-11-21 21:00:58,128][MainProcess][lib.configurable][INFO] optimizer.Optimizer.__init__ was configured with:\n",
      "{   'max_grad_norm': 0.19818951942411014,\n",
      "    'optim': <lib.optim.adam.Adam object at 0x7f3c9ffe62e8>}\n",
      "[2020-11-21 21:00:58,129][MainProcess][__main__][INFO] Epochs: 1\n",
      "[2020-11-21 21:00:58,130][MainProcess][__main__][INFO] Train Dataset Size: 75900\n",
      "[2020-11-21 21:00:58,131][MainProcess][__main__][INFO] Dev Dataset Size: 10845\n",
      "[2020-11-21 21:00:58,132][MainProcess][__main__][INFO] Train Batch Size: 32\n",
      "[2020-11-21 21:00:58,133][MainProcess][__main__][INFO] Train Max Batch Size: 1024\n",
      "[2020-11-21 21:00:58,134][MainProcess][__main__][INFO] Total Parameters: 570887\n",
      "[2020-11-21 21:00:58,134][MainProcess][__main__][INFO] Model:\n",
      "SeqToLabel(\n",
      "  (encoder): SeqEncoder(\n",
      "    (embedding): Embedding(6899, 300, padding_idx=0)\n",
      "    (rnn): GRU(300, 77, num_layers=2, dropout=0.36231389554609095, bidirectional=True)\n",
      "    (rnn_dropout): LockedDropout(p=0.8643728948874805)\n",
      "    (embedding_dropout): Dropout(p=0.5587173411042812)\n",
      "  )\n",
      "  (out): Sequential(\n",
      "    (0): Linear(in_features=154, out_features=154, bias=True)\n",
      "    (1): BatchNorm1d(154, eps=1e-05, momentum=0.1, affine=True)\n",
      "    (2): ReLU()\n",
      "    (3): Dropout(p=0.6240329288270713)\n",
      "    (4): Linear(in_features=154, out_features=1703, bias=True)\n",
      "  )\n",
      ")\n",
      "[2020-11-21 21:00:58,135][MainProcess][__main__][INFO] Epoch: 0\n",
      "[2020-11-21 21:00:58,136][MainProcess][__main__][INFO] Training...\n"
     ]
    },
    {
     "name": "stderr",
     "output_type": "stream",
     "text": [
      "/mount/arbeitsdaten46/projekte/dialog-1/kanjurva/Simple-QA-EMNLP-2018/venv2/lib/python3.6/site-packages/ipykernel_launcher.py:57: TqdmDeprecationWarning: This function will be removed in tqdm==5.0.0\n",
      "Please use `tqdm.notebook.tqdm` instead of `tqdm.tqdm_notebook`\n"
     ]
    },
    {
     "data": {
      "application/vnd.jupyter.widget-view+json": {
       "model_id": "6307574d69a14598b67f37b9af553e5b",
       "version_major": 2,
       "version_minor": 0
      },
      "text/plain": [
       "HBox(children=(HTML(value=''), FloatProgress(value=0.0, max=2371.0), HTML(value='')))"
      ]
     },
     "metadata": {},
     "output_type": "display_data"
    },
    {
     "name": "stdout",
     "output_type": "stream",
     "text": [
      "\n",
      "[2020-11-21 21:01:25,897][MainProcess][lib.checkpoint][INFO] Saving checkpoint: ../../experiments/relation_classifier.11_21_20:05:46/80235.pt\n"
     ]
    },
    {
     "name": "stderr",
     "output_type": "stream",
     "text": [
      "/mount/arbeitsdaten46/projekte/dialog-1/kanjurva/Simple-QA-EMNLP-2018/venv2/lib/python3.6/site-packages/ipykernel_launcher.py:13: TqdmDeprecationWarning: This function will be removed in tqdm==5.0.0\n",
      "Please use `tqdm.notebook.tqdm` instead of `tqdm.tqdm_notebook`\n",
      "  del sys.path[0]\n"
     ]
    },
    {
     "data": {
      "application/vnd.jupyter.widget-view+json": {
       "model_id": "bcaf4e400eee40aca993f9fce2e11d50",
       "version_major": 2,
       "version_minor": 0
      },
      "text/plain": [
       "HBox(children=(HTML(value=''), FloatProgress(value=0.0, max=2.0), HTML(value='')))"
      ]
     },
     "metadata": {},
     "output_type": "display_data"
    },
    {
     "name": "stdout",
     "output_type": "stream",
     "text": [
      "\n",
      "[2020-11-21 21:01:30,291][MainProcess][__main__][INFO] NLLLoss: 0.863\n",
      "[2020-11-21 21:01:30,350][MainProcess][lib.metrics.accuracy][INFO] Accuracy: 0.78125 [6400 of 8192]\n"
     ]
    },
    {
     "name": "stderr",
     "output_type": "stream",
     "text": [
      "\r",
      "  6%|▌         | 62.2222222222223/1000.0 [45:58<6:41:01, 25.66s/it, min_score=-.853, models_evaluated=0]  "
     ]
    },
    {
     "name": "stdout",
     "output_type": "stream",
     "text": [
      "––––––––––––––––––––––––––––––––––––––––––––––––––––––––––––––––––––––––––––––––––––––––––––––––––––\n",
      "====================================================================================================\n",
      "[2020-11-21 21:01:30,385][MainProcess][lib.configurable][INFO] Checking configuration...\n",
      "[2020-11-21 21:01:30,387][MainProcess][lib.configurable][INFO] Configuration checked.\n",
      "[2020-11-21 21:01:30,388][MainProcess][lib.configurable][INFO] seq_to_label.SeqToLabel.__init__ was configured with:\n",
      "{   'bidirectional': True,\n",
      "    'decode_dropout': 0.045148316497501326,\n",
      "    'embedding_dropout': 0.6672970516929403,\n",
      "    'embedding_size': 300,\n",
      "    'freeze_embeddings': True,\n",
      "    'input_vocab_size': 6899,\n",
      "    'output_vocab_size': 1703,\n",
      "    'rnn_cell': 'lstm',\n",
      "    'rnn_dropout': 0.687688961406731,\n",
      "    'rnn_layers': 2,\n",
      "    'rnn_size': 150,\n",
      "    'rnn_variational_dropout': 0.33789498679184976}\n",
      "[2020-11-21 21:01:30,389][MainProcess][lib.configurable][INFO] seq_encoder.SeqEncoder.__init__ no config for: lib.nn.seq_encoder.SeqEncoder.__init__\n",
      "[2020-11-21 21:01:30,391][MainProcess][lib.configurable][INFO] seq_encoder.SeqEncoder.__init__ was configured with:\n",
      "{   'bidirectional': True,\n",
      "    'embedding_dropout': 0.6672970516929403,\n",
      "    'embedding_size': 300,\n",
      "    'freeze_embeddings': True,\n",
      "    'n_layers': 2,\n",
      "    'rnn_cell': 'lstm',\n",
      "    'rnn_dropout': 0.687688961406731,\n",
      "    'rnn_size': 150,\n",
      "    'rnn_variational_dropout': 0.33789498679184976,\n",
      "    'vocab_size': 6899}\n",
      "[2020-11-21 21:01:30,562][MainProcess][lib.configurable][INFO] adam.Adam.__init__ was configured with:\n",
      "{'amsgrad': True, 'params': <filter object at 0x7f3c2f7a0a20>}\n",
      "[2020-11-21 21:01:30,563][MainProcess][lib.configurable][INFO] adam.Adam.__init__ was configured with:\n",
      "{'amsgrad': True, 'params': <filter object at 0x7f3c2f7a0a20>}\n",
      "[2020-11-21 21:01:30,565][MainProcess][lib.configurable][INFO] optimizer.Optimizer.__init__ was configured with:\n",
      "{   'max_grad_norm': 0.5995311631316637,\n",
      "    'optim': <lib.optim.adam.Adam object at 0x7f3c2f7a0dd8>}\n",
      "[2020-11-21 21:01:30,565][MainProcess][__main__][INFO] Epochs: 1\n",
      "[2020-11-21 21:01:30,566][MainProcess][__main__][INFO] Train Dataset Size: 75900\n",
      "[2020-11-21 21:01:30,567][MainProcess][__main__][INFO] Dev Dataset Size: 10845\n",
      "[2020-11-21 21:01:30,568][MainProcess][__main__][INFO] Train Batch Size: 32\n",
      "[2020-11-21 21:01:30,569][MainProcess][__main__][INFO] Train Max Batch Size: 1024\n",
      "[2020-11-21 21:01:30,570][MainProcess][__main__][INFO] Total Parameters: 642503\n",
      "[2020-11-21 21:01:30,570][MainProcess][__main__][INFO] Model:\n",
      "SeqToLabel(\n",
      "  (encoder): SeqEncoder(\n",
      "    (embedding): Embedding(6899, 300, padding_idx=0)\n",
      "    (rnn): LSTM(300, 75, num_layers=2, dropout=0.33789498679184976, bidirectional=True)\n",
      "    (rnn_dropout): LockedDropout(p=0.687688961406731)\n",
      "    (embedding_dropout): Dropout(p=0.6672970516929403)\n",
      "  )\n",
      "  (out): Sequential(\n",
      "    (0): Linear(in_features=150, out_features=150, bias=True)\n",
      "    (1): BatchNorm1d(150, eps=1e-05, momentum=0.1, affine=True)\n",
      "    (2): ReLU()\n",
      "    (3): Dropout(p=0.045148316497501326)\n",
      "    (4): Linear(in_features=150, out_features=1703, bias=True)\n",
      "  )\n",
      ")\n",
      "[2020-11-21 21:01:30,571][MainProcess][__main__][INFO] Epoch: 0\n",
      "[2020-11-21 21:01:30,572][MainProcess][__main__][INFO] Training...\n"
     ]
    },
    {
     "name": "stderr",
     "output_type": "stream",
     "text": [
      "/mount/arbeitsdaten46/projekte/dialog-1/kanjurva/Simple-QA-EMNLP-2018/venv2/lib/python3.6/site-packages/ipykernel_launcher.py:57: TqdmDeprecationWarning: This function will be removed in tqdm==5.0.0\n",
      "Please use `tqdm.notebook.tqdm` instead of `tqdm.tqdm_notebook`\n"
     ]
    },
    {
     "data": {
      "application/vnd.jupyter.widget-view+json": {
       "model_id": "bb2c43548aee44ce9176cbc7bc7cf5a8",
       "version_major": 2,
       "version_minor": 0
      },
      "text/plain": [
       "HBox(children=(HTML(value=''), FloatProgress(value=0.0, max=2371.0), HTML(value='')))"
      ]
     },
     "metadata": {},
     "output_type": "display_data"
    },
    {
     "name": "stdout",
     "output_type": "stream",
     "text": [
      "\n",
      "[2020-11-21 21:02:00,059][MainProcess][lib.checkpoint][INFO] Saving checkpoint: ../../experiments/relation_classifier.11_21_20:05:46/80269.pt\n"
     ]
    },
    {
     "name": "stderr",
     "output_type": "stream",
     "text": [
      "/mount/arbeitsdaten46/projekte/dialog-1/kanjurva/Simple-QA-EMNLP-2018/venv2/lib/python3.6/site-packages/ipykernel_launcher.py:13: TqdmDeprecationWarning: This function will be removed in tqdm==5.0.0\n",
      "Please use `tqdm.notebook.tqdm` instead of `tqdm.tqdm_notebook`\n",
      "  del sys.path[0]\n"
     ]
    },
    {
     "data": {
      "application/vnd.jupyter.widget-view+json": {
       "model_id": "e699f5316ea34e2189b20f83c843892d",
       "version_major": 2,
       "version_minor": 0
      },
      "text/plain": [
       "HBox(children=(HTML(value=''), FloatProgress(value=0.0, max=2.0), HTML(value='')))"
      ]
     },
     "metadata": {},
     "output_type": "display_data"
    },
    {
     "name": "stdout",
     "output_type": "stream",
     "text": [
      "\n",
      "[2020-11-21 21:02:05,097][MainProcess][__main__][INFO] NLLLoss: 0.664\n",
      "[2020-11-21 21:02:05,150][MainProcess][lib.metrics.accuracy][INFO] Accuracy: 0.8201904296875 [6719 of 8192]\n"
     ]
    },
    {
     "name": "stderr",
     "output_type": "stream",
     "text": [
      "\r",
      "  6%|▋         | 63.333333333333414/1000.0 [46:33<7:07:04, 27.36s/it, min_score=-.853, models_evaluated=0]"
     ]
    },
    {
     "name": "stdout",
     "output_type": "stream",
     "text": [
      "––––––––––––––––––––––––––––––––––––––––––––––––––––––––––––––––––––––––––––––––––––––––––––––––––––\n",
      "====================================================================================================\n",
      "[2020-11-21 21:02:05,186][MainProcess][lib.configurable][INFO] Checking configuration...\n",
      "[2020-11-21 21:02:05,188][MainProcess][lib.configurable][INFO] Configuration checked.\n",
      "[2020-11-21 21:02:05,189][MainProcess][lib.configurable][INFO] seq_to_label.SeqToLabel.__init__ was configured with:\n",
      "{   'bidirectional': False,\n",
      "    'decode_dropout': 0.22172024549477254,\n",
      "    'embedding_dropout': 0.706783270221966,\n",
      "    'embedding_size': 300,\n",
      "    'freeze_embeddings': False,\n",
      "    'input_vocab_size': 6899,\n",
      "    'output_vocab_size': 1703,\n",
      "    'rnn_cell': 'lstm',\n",
      "    'rnn_dropout': 0.681229275398168,\n",
      "    'rnn_layers': 1,\n",
      "    'rnn_size': 448,\n",
      "    'rnn_variational_dropout': 0.8749776551242499}\n",
      "[2020-11-21 21:02:05,190][MainProcess][lib.configurable][INFO] seq_encoder.SeqEncoder.__init__ no config for: lib.nn.seq_encoder.SeqEncoder.__init__\n",
      "[2020-11-21 21:02:05,191][MainProcess][lib.configurable][INFO] seq_encoder.SeqEncoder.__init__ was configured with:\n",
      "{   'bidirectional': False,\n",
      "    'embedding_dropout': 0.706783270221966,\n",
      "    'embedding_size': 300,\n",
      "    'freeze_embeddings': False,\n",
      "    'n_layers': 1,\n",
      "    'rnn_cell': 'lstm',\n",
      "    'rnn_dropout': 0.681229275398168,\n",
      "    'rnn_size': 448,\n",
      "    'rnn_variational_dropout': 0.8749776551242499,\n",
      "    'vocab_size': 6899}\n",
      "[2020-11-21 21:02:05,380][MainProcess][lib.configurable][INFO] adam.Adam.__init__ was configured with:\n",
      "{'amsgrad': True, 'params': <filter object at 0x7f3c2f80b3c8>}\n",
      "[2020-11-21 21:02:05,381][MainProcess][lib.configurable][INFO] adam.Adam.__init__ was configured with:\n",
      "{'amsgrad': True, 'params': <filter object at 0x7f3c2f80b3c8>}\n",
      "[2020-11-21 21:02:05,382][MainProcess][lib.configurable][INFO] optimizer.Optimizer.__init__ was configured with:\n",
      "{   'max_grad_norm': 0.5248673447125181,\n",
      "    'optim': <lib.optim.adam.Adam object at 0x7f3ca240b048>}\n",
      "[2020-11-21 21:02:05,383][MainProcess][__main__][INFO] Epochs: 1\n",
      "[2020-11-21 21:02:05,384][MainProcess][__main__][INFO] Train Dataset Size: 75900\n",
      "[2020-11-21 21:02:05,385][MainProcess][__main__][INFO] Dev Dataset Size: 10845\n",
      "[2020-11-21 21:02:05,385][MainProcess][__main__][INFO] Train Batch Size: 32\n",
      "[2020-11-21 21:02:05,386][MainProcess][__main__][INFO] Train Max Batch Size: 1024\n",
      "[2020-11-21 21:02:05,387][MainProcess][__main__][INFO] Total Parameters: 4380395\n",
      "[2020-11-21 21:02:05,387][MainProcess][__main__][INFO] Model:\n",
      "SeqToLabel(\n",
      "  (encoder): SeqEncoder(\n",
      "    (embedding): Embedding(6899, 300, padding_idx=0)\n",
      "    (rnn): LSTM(300, 448, dropout=0.8749776551242499)\n",
      "    (rnn_dropout): LockedDropout(p=0.681229275398168)\n",
      "    (embedding_dropout): Dropout(p=0.706783270221966)\n",
      "  )\n",
      "  (out): Sequential(\n",
      "    (0): Linear(in_features=448, out_features=448, bias=True)\n",
      "    (1): BatchNorm1d(448, eps=1e-05, momentum=0.1, affine=True)\n",
      "    (2): ReLU()\n",
      "    (3): Dropout(p=0.22172024549477254)\n",
      "    (4): Linear(in_features=448, out_features=1703, bias=True)\n",
      "  )\n",
      ")\n",
      "[2020-11-21 21:02:05,388][MainProcess][__main__][INFO] Epoch: 0\n",
      "[2020-11-21 21:02:05,389][MainProcess][__main__][INFO] Training...\n"
     ]
    },
    {
     "name": "stderr",
     "output_type": "stream",
     "text": [
      "/mount/arbeitsdaten46/projekte/dialog-1/kanjurva/Simple-QA-EMNLP-2018/venv2/lib/python3.6/site-packages/ipykernel_launcher.py:57: TqdmDeprecationWarning: This function will be removed in tqdm==5.0.0\n",
      "Please use `tqdm.notebook.tqdm` instead of `tqdm.tqdm_notebook`\n"
     ]
    },
    {
     "data": {
      "application/vnd.jupyter.widget-view+json": {
       "model_id": "01651e59e807427ca6f8a2a51d933388",
       "version_major": 2,
       "version_minor": 0
      },
      "text/plain": [
       "HBox(children=(HTML(value=''), FloatProgress(value=0.0, max=2371.0), HTML(value='')))"
      ]
     },
     "metadata": {},
     "output_type": "display_data"
    },
    {
     "name": "stdout",
     "output_type": "stream",
     "text": [
      "\n",
      "[2020-11-21 21:02:23,812][MainProcess][lib.checkpoint][INFO] Saving checkpoint: ../../experiments/relation_classifier.11_21_20:05:46/80293.pt\n"
     ]
    },
    {
     "name": "stderr",
     "output_type": "stream",
     "text": [
      "/mount/arbeitsdaten46/projekte/dialog-1/kanjurva/Simple-QA-EMNLP-2018/venv2/lib/python3.6/site-packages/ipykernel_launcher.py:13: TqdmDeprecationWarning: This function will be removed in tqdm==5.0.0\n",
      "Please use `tqdm.notebook.tqdm` instead of `tqdm.tqdm_notebook`\n",
      "  del sys.path[0]\n"
     ]
    },
    {
     "data": {
      "application/vnd.jupyter.widget-view+json": {
       "model_id": "603eb7f4016a45e59f60f1c8ef7c340b",
       "version_major": 2,
       "version_minor": 0
      },
      "text/plain": [
       "HBox(children=(HTML(value=''), FloatProgress(value=0.0, max=2.0), HTML(value='')))"
      ]
     },
     "metadata": {},
     "output_type": "display_data"
    },
    {
     "name": "stdout",
     "output_type": "stream",
     "text": [
      "\n",
      "[2020-11-21 21:02:25,876][MainProcess][__main__][INFO] NLLLoss: 0.632\n",
      "[2020-11-21 21:02:25,941][MainProcess][lib.metrics.accuracy][INFO] Accuracy: 0.8233642578125 [6745 of 8192]\n"
     ]
    },
    {
     "name": "stderr",
     "output_type": "stream",
     "text": [
      "\r",
      "  6%|▋         | 64.44444444444453/1000.0 [46:54<6:26:11, 24.77s/it, min_score=-.853, models_evaluated=0] "
     ]
    },
    {
     "name": "stdout",
     "output_type": "stream",
     "text": [
      "––––––––––––––––––––––––––––––––––––––––––––––––––––––––––––––––––––––––––––––––––––––––––––––––––––\n",
      "====================================================================================================\n",
      "[2020-11-21 21:02:25,991][MainProcess][lib.configurable][INFO] Checking configuration...\n",
      "[2020-11-21 21:02:25,993][MainProcess][lib.configurable][INFO] Configuration checked.\n",
      "[2020-11-21 21:02:25,994][MainProcess][lib.configurable][INFO] seq_to_label.SeqToLabel.__init__ was configured with:\n",
      "{   'bidirectional': False,\n",
      "    'decode_dropout': 0.864889163303834,\n",
      "    'embedding_dropout': 0.0018476416553346755,\n",
      "    'embedding_size': 300,\n",
      "    'freeze_embeddings': True,\n",
      "    'input_vocab_size': 6899,\n",
      "    'output_vocab_size': 1703,\n",
      "    'rnn_cell': 'gru',\n",
      "    'rnn_dropout': 0.05954922487519151,\n",
      "    'rnn_layers': 3,\n",
      "    'rnn_size': 406,\n",
      "    'rnn_variational_dropout': 0.16919207760514962}\n",
      "[2020-11-21 21:02:25,996][MainProcess][lib.configurable][INFO] seq_encoder.SeqEncoder.__init__ no config for: lib.nn.seq_encoder.SeqEncoder.__init__\n",
      "[2020-11-21 21:02:25,997][MainProcess][lib.configurable][INFO] seq_encoder.SeqEncoder.__init__ was configured with:\n",
      "{   'bidirectional': False,\n",
      "    'embedding_dropout': 0.0018476416553346755,\n",
      "    'embedding_size': 300,\n",
      "    'freeze_embeddings': True,\n",
      "    'n_layers': 3,\n",
      "    'rnn_cell': 'gru',\n",
      "    'rnn_dropout': 0.05954922487519151,\n",
      "    'rnn_size': 406,\n",
      "    'rnn_variational_dropout': 0.16919207760514962,\n",
      "    'vocab_size': 6899}\n",
      "[2020-11-21 21:02:26,225][MainProcess][lib.configurable][INFO] adam.Adam.__init__ was configured with:\n",
      "{'amsgrad': True, 'params': <filter object at 0x7f3c2decde10>}\n",
      "[2020-11-21 21:02:26,226][MainProcess][lib.configurable][INFO] adam.Adam.__init__ was configured with:\n",
      "{'amsgrad': True, 'params': <filter object at 0x7f3c2decde10>}\n",
      "[2020-11-21 21:02:26,227][MainProcess][lib.configurable][INFO] optimizer.Optimizer.__init__ was configured with:\n",
      "{   'max_grad_norm': 4.709227799959024,\n",
      "    'optim': <lib.optim.adam.Adam object at 0x7f3c2f7a0048>}\n",
      "[2020-11-21 21:02:26,228][MainProcess][__main__][INFO] Epochs: 1\n",
      "[2020-11-21 21:02:26,229][MainProcess][__main__][INFO] Train Dataset Size: 75900\n",
      "[2020-11-21 21:02:26,231][MainProcess][__main__][INFO] Dev Dataset Size: 10845\n",
      "[2020-11-21 21:02:26,232][MainProcess][__main__][INFO] Train Batch Size: 32\n",
      "[2020-11-21 21:02:26,233][MainProcess][__main__][INFO] Train Max Batch Size: 1024\n",
      "[2020-11-21 21:02:26,234][MainProcess][__main__][INFO] Total Parameters: 3704423\n",
      "[2020-11-21 21:02:26,235][MainProcess][__main__][INFO] Model:\n",
      "SeqToLabel(\n",
      "  (encoder): SeqEncoder(\n",
      "    (embedding): Embedding(6899, 300, padding_idx=0)\n",
      "    (rnn): GRU(300, 406, num_layers=3, dropout=0.16919207760514962)\n",
      "    (rnn_dropout): LockedDropout(p=0.05954922487519151)\n",
      "    (embedding_dropout): Dropout(p=0.0018476416553346755)\n",
      "  )\n",
      "  (out): Sequential(\n",
      "    (0): Linear(in_features=406, out_features=406, bias=True)\n",
      "    (1): BatchNorm1d(406, eps=1e-05, momentum=0.1, affine=True)\n",
      "    (2): ReLU()\n",
      "    (3): Dropout(p=0.864889163303834)\n",
      "    (4): Linear(in_features=406, out_features=1703, bias=True)\n",
      "  )\n",
      ")\n",
      "[2020-11-21 21:02:26,236][MainProcess][__main__][INFO] Epoch: 0\n",
      "[2020-11-21 21:02:26,237][MainProcess][__main__][INFO] Training...\n"
     ]
    },
    {
     "name": "stderr",
     "output_type": "stream",
     "text": [
      "/mount/arbeitsdaten46/projekte/dialog-1/kanjurva/Simple-QA-EMNLP-2018/venv2/lib/python3.6/site-packages/ipykernel_launcher.py:57: TqdmDeprecationWarning: This function will be removed in tqdm==5.0.0\n",
      "Please use `tqdm.notebook.tqdm` instead of `tqdm.tqdm_notebook`\n"
     ]
    },
    {
     "data": {
      "application/vnd.jupyter.widget-view+json": {
       "model_id": "aa3050008708464c97d35a5875dc0142",
       "version_major": 2,
       "version_minor": 0
      },
      "text/plain": [
       "HBox(children=(HTML(value=''), FloatProgress(value=0.0, max=2371.0), HTML(value='')))"
      ]
     },
     "metadata": {},
     "output_type": "display_data"
    },
    {
     "name": "stdout",
     "output_type": "stream",
     "text": [
      "\n",
      "[2020-11-21 21:02:52,900][MainProcess][lib.checkpoint][INFO] Saving checkpoint: ../../experiments/relation_classifier.11_21_20:05:46/80322.pt\n"
     ]
    },
    {
     "name": "stderr",
     "output_type": "stream",
     "text": [
      "/mount/arbeitsdaten46/projekte/dialog-1/kanjurva/Simple-QA-EMNLP-2018/venv2/lib/python3.6/site-packages/ipykernel_launcher.py:13: TqdmDeprecationWarning: This function will be removed in tqdm==5.0.0\n",
      "Please use `tqdm.notebook.tqdm` instead of `tqdm.tqdm_notebook`\n",
      "  del sys.path[0]\n"
     ]
    },
    {
     "data": {
      "application/vnd.jupyter.widget-view+json": {
       "model_id": "62b3da0d22444cccbf6a03ca62a8c86f",
       "version_major": 2,
       "version_minor": 0
      },
      "text/plain": [
       "HBox(children=(HTML(value=''), FloatProgress(value=0.0, max=2.0), HTML(value='')))"
      ]
     },
     "metadata": {},
     "output_type": "display_data"
    },
    {
     "name": "stdout",
     "output_type": "stream",
     "text": [
      "\n",
      "[2020-11-21 21:02:56,519][MainProcess][__main__][INFO] NLLLoss: 1.134\n",
      "[2020-11-21 21:02:56,578][MainProcess][lib.metrics.accuracy][INFO] Accuracy: 0.76220703125 [6244 of 8192]\n"
     ]
    },
    {
     "name": "stderr",
     "output_type": "stream",
     "text": [
      "\r",
      "  7%|▋         | 65.55555555555564/1000.0 [47:25<6:38:51, 25.61s/it, min_score=-.853, models_evaluated=0]"
     ]
    },
    {
     "name": "stdout",
     "output_type": "stream",
     "text": [
      "––––––––––––––––––––––––––––––––––––––––––––––––––––––––––––––––––––––––––––––––––––––––––––––––––––\n",
      "====================================================================================================\n",
      "[2020-11-21 21:02:56,634][MainProcess][lib.configurable][INFO] Checking configuration...\n",
      "[2020-11-21 21:02:56,636][MainProcess][lib.configurable][INFO] Configuration checked.\n",
      "[2020-11-21 21:02:56,638][MainProcess][lib.configurable][INFO] seq_to_label.SeqToLabel.__init__ was configured with:\n",
      "{   'bidirectional': True,\n",
      "    'decode_dropout': 0.46788071955941857,\n",
      "    'embedding_dropout': 0.23415847224979006,\n",
      "    'embedding_size': 300,\n",
      "    'freeze_embeddings': True,\n",
      "    'input_vocab_size': 6899,\n",
      "    'output_vocab_size': 1703,\n",
      "    'rnn_cell': 'gru',\n",
      "    'rnn_dropout': 0.07740256936047965,\n",
      "    'rnn_layers': 3,\n",
      "    'rnn_size': 272,\n",
      "    'rnn_variational_dropout': 0.49926878171920946}\n",
      "[2020-11-21 21:02:56,639][MainProcess][lib.configurable][INFO] seq_encoder.SeqEncoder.__init__ no config for: lib.nn.seq_encoder.SeqEncoder.__init__\n",
      "[2020-11-21 21:02:56,639][MainProcess][lib.configurable][INFO] seq_encoder.SeqEncoder.__init__ was configured with:\n",
      "{   'bidirectional': True,\n",
      "    'embedding_dropout': 0.23415847224979006,\n",
      "    'embedding_size': 300,\n",
      "    'freeze_embeddings': True,\n",
      "    'n_layers': 3,\n",
      "    'rnn_cell': 'gru',\n",
      "    'rnn_dropout': 0.07740256936047965,\n",
      "    'rnn_size': 272,\n",
      "    'rnn_variational_dropout': 0.49926878171920946,\n",
      "    'vocab_size': 6899}\n",
      "[2020-11-21 21:02:56,852][MainProcess][lib.configurable][INFO] adam.Adam.__init__ was configured with:\n",
      "{'amsgrad': True, 'params': <filter object at 0x7f3c2decd780>}\n",
      "[2020-11-21 21:02:56,853][MainProcess][lib.configurable][INFO] adam.Adam.__init__ was configured with:\n",
      "{'amsgrad': True, 'params': <filter object at 0x7f3c2decd780>}\n",
      "[2020-11-21 21:02:56,854][MainProcess][lib.configurable][INFO] optimizer.Optimizer.__init__ was configured with:\n",
      "{   'max_grad_norm': 2.327243696171588,\n",
      "    'optim': <lib.optim.adam.Adam object at 0x7f3c2decde10>}\n",
      "[2020-11-21 21:02:56,855][MainProcess][__main__][INFO] Epochs: 1\n",
      "[2020-11-21 21:02:56,856][MainProcess][__main__][INFO] Train Dataset Size: 75900\n",
      "[2020-11-21 21:02:56,857][MainProcess][__main__][INFO] Dev Dataset Size: 10845\n",
      "[2020-11-21 21:02:56,858][MainProcess][__main__][INFO] Train Batch Size: 32\n",
      "[2020-11-21 21:02:56,859][MainProcess][__main__][INFO] Train Max Batch Size: 1024\n",
      "[2020-11-21 21:02:56,861][MainProcess][__main__][INFO] Total Parameters: 1566247\n",
      "[2020-11-21 21:02:56,862][MainProcess][__main__][INFO] Model:\n",
      "SeqToLabel(\n",
      "  (encoder): SeqEncoder(\n",
      "    (embedding): Embedding(6899, 300, padding_idx=0)\n",
      "    (rnn): GRU(300, 136, num_layers=3, dropout=0.49926878171920946, bidirectional=True)\n",
      "    (rnn_dropout): LockedDropout(p=0.07740256936047965)\n",
      "    (embedding_dropout): Dropout(p=0.23415847224979006)\n",
      "  )\n",
      "  (out): Sequential(\n",
      "    (0): Linear(in_features=272, out_features=272, bias=True)\n",
      "    (1): BatchNorm1d(272, eps=1e-05, momentum=0.1, affine=True)\n",
      "    (2): ReLU()\n",
      "    (3): Dropout(p=0.46788071955941857)\n",
      "    (4): Linear(in_features=272, out_features=1703, bias=True)\n",
      "  )\n",
      ")\n",
      "[2020-11-21 21:02:56,863][MainProcess][__main__][INFO] Epoch: 0\n",
      "[2020-11-21 21:02:56,864][MainProcess][__main__][INFO] Training...\n"
     ]
    },
    {
     "name": "stderr",
     "output_type": "stream",
     "text": [
      "/mount/arbeitsdaten46/projekte/dialog-1/kanjurva/Simple-QA-EMNLP-2018/venv2/lib/python3.6/site-packages/ipykernel_launcher.py:57: TqdmDeprecationWarning: This function will be removed in tqdm==5.0.0\n",
      "Please use `tqdm.notebook.tqdm` instead of `tqdm.tqdm_notebook`\n"
     ]
    },
    {
     "data": {
      "application/vnd.jupyter.widget-view+json": {
       "model_id": "77893ea3e35c4a78bbd8f93277f896c4",
       "version_major": 2,
       "version_minor": 0
      },
      "text/plain": [
       "HBox(children=(HTML(value=''), FloatProgress(value=0.0, max=2371.0), HTML(value='')))"
      ]
     },
     "metadata": {},
     "output_type": "display_data"
    },
    {
     "name": "stdout",
     "output_type": "stream",
     "text": [
      "\n",
      "[2020-11-21 21:03:32,087][MainProcess][lib.checkpoint][INFO] Saving checkpoint: ../../experiments/relation_classifier.11_21_20:05:46/80361.pt\n"
     ]
    },
    {
     "name": "stderr",
     "output_type": "stream",
     "text": [
      "/mount/arbeitsdaten46/projekte/dialog-1/kanjurva/Simple-QA-EMNLP-2018/venv2/lib/python3.6/site-packages/ipykernel_launcher.py:13: TqdmDeprecationWarning: This function will be removed in tqdm==5.0.0\n",
      "Please use `tqdm.notebook.tqdm` instead of `tqdm.tqdm_notebook`\n",
      "  del sys.path[0]\n"
     ]
    },
    {
     "data": {
      "application/vnd.jupyter.widget-view+json": {
       "model_id": "d147d7d732f74dbbb0429f9f2057a59a",
       "version_major": 2,
       "version_minor": 0
      },
      "text/plain": [
       "HBox(children=(HTML(value=''), FloatProgress(value=0.0, max=2.0), HTML(value='')))"
      ]
     },
     "metadata": {},
     "output_type": "display_data"
    },
    {
     "name": "stdout",
     "output_type": "stream",
     "text": [
      "\n",
      "[2020-11-21 21:03:36,487][MainProcess][__main__][INFO] NLLLoss: 0.694\n",
      "[2020-11-21 21:03:36,547][MainProcess][lib.metrics.accuracy][INFO] Accuracy: 0.8251953125 [6760 of 8192]\n"
     ]
    },
    {
     "name": "stderr",
     "output_type": "stream",
     "text": [
      "\r",
      "  7%|▋         | 66.66666666666676/1000.0 [48:05<7:26:39, 28.71s/it, min_score=-.853, models_evaluated=0]"
     ]
    },
    {
     "name": "stdout",
     "output_type": "stream",
     "text": [
      "––––––––––––––––––––––––––––––––––––––––––––––––––––––––––––––––––––––––––––––––––––––––––––––––––––\n",
      "====================================================================================================\n",
      "[2020-11-21 21:03:36,584][MainProcess][lib.configurable][INFO] Checking configuration...\n",
      "[2020-11-21 21:03:36,586][MainProcess][lib.configurable][INFO] Configuration checked.\n",
      "[2020-11-21 21:03:36,587][MainProcess][lib.configurable][INFO] seq_to_label.SeqToLabel.__init__ was configured with:\n",
      "{   'bidirectional': True,\n",
      "    'decode_dropout': 0.2883984593195552,\n",
      "    'embedding_dropout': 0.17292333663111237,\n",
      "    'embedding_size': 300,\n",
      "    'freeze_embeddings': False,\n",
      "    'input_vocab_size': 6899,\n",
      "    'output_vocab_size': 1703,\n",
      "    'rnn_cell': 'lstm',\n",
      "    'rnn_dropout': 0.4354494568099671,\n",
      "    'rnn_layers': 2,\n",
      "    'rnn_size': 332,\n",
      "    'rnn_variational_dropout': 0.26953343187028944}\n",
      "[2020-11-21 21:03:36,588][MainProcess][lib.configurable][INFO] seq_encoder.SeqEncoder.__init__ no config for: lib.nn.seq_encoder.SeqEncoder.__init__\n",
      "[2020-11-21 21:03:36,589][MainProcess][lib.configurable][INFO] seq_encoder.SeqEncoder.__init__ was configured with:\n",
      "{   'bidirectional': True,\n",
      "    'embedding_dropout': 0.17292333663111237,\n",
      "    'embedding_size': 300,\n",
      "    'freeze_embeddings': False,\n",
      "    'n_layers': 2,\n",
      "    'rnn_cell': 'lstm',\n",
      "    'rnn_dropout': 0.4354494568099671,\n",
      "    'rnn_size': 332,\n",
      "    'rnn_variational_dropout': 0.26953343187028944,\n",
      "    'vocab_size': 6899}\n",
      "[2020-11-21 21:03:36,788][MainProcess][lib.configurable][INFO] adam.Adam.__init__ was configured with:\n",
      "{'amsgrad': True, 'params': <filter object at 0x7f3c2ba8b940>}\n",
      "[2020-11-21 21:03:36,789][MainProcess][lib.configurable][INFO] adam.Adam.__init__ was configured with:\n",
      "{'amsgrad': True, 'params': <filter object at 0x7f3c2ba8b940>}\n",
      "[2020-11-21 21:03:36,790][MainProcess][lib.configurable][INFO] optimizer.Optimizer.__init__ was configured with:\n",
      "{   'max_grad_norm': 1.5769936915311702,\n",
      "    'optim': <lib.optim.adam.Adam object at 0x7f3c2b52b550>}\n",
      "[2020-11-21 21:03:36,791][MainProcess][__main__][INFO] Epochs: 1\n",
      "[2020-11-21 21:03:36,792][MainProcess][__main__][INFO] Train Dataset Size: 75900\n",
      "[2020-11-21 21:03:36,793][MainProcess][__main__][INFO] Dev Dataset Size: 10845\n",
      "[2020-11-21 21:03:36,794][MainProcess][__main__][INFO] Train Batch Size: 32\n",
      "[2020-11-21 21:03:36,795][MainProcess][__main__][INFO] Train Max Batch Size: 1024\n",
      "[2020-11-21 21:03:36,797][MainProcess][__main__][INFO] Total Parameters: 4033523\n",
      "[2020-11-21 21:03:36,798][MainProcess][__main__][INFO] Model:\n",
      "SeqToLabel(\n",
      "  (encoder): SeqEncoder(\n",
      "    (embedding): Embedding(6899, 300, padding_idx=0)\n",
      "    (rnn): LSTM(300, 166, num_layers=2, dropout=0.26953343187028944, bidirectional=True)\n",
      "    (rnn_dropout): LockedDropout(p=0.4354494568099671)\n",
      "    (embedding_dropout): Dropout(p=0.17292333663111237)\n",
      "  )\n",
      "  (out): Sequential(\n",
      "    (0): Linear(in_features=332, out_features=332, bias=True)\n",
      "    (1): BatchNorm1d(332, eps=1e-05, momentum=0.1, affine=True)\n",
      "    (2): ReLU()\n",
      "    (3): Dropout(p=0.2883984593195552)\n",
      "    (4): Linear(in_features=332, out_features=1703, bias=True)\n",
      "  )\n",
      ")\n",
      "[2020-11-21 21:03:36,799][MainProcess][__main__][INFO] Epoch: 0\n",
      "[2020-11-21 21:03:36,800][MainProcess][__main__][INFO] Training...\n"
     ]
    },
    {
     "name": "stderr",
     "output_type": "stream",
     "text": [
      "/mount/arbeitsdaten46/projekte/dialog-1/kanjurva/Simple-QA-EMNLP-2018/venv2/lib/python3.6/site-packages/ipykernel_launcher.py:57: TqdmDeprecationWarning: This function will be removed in tqdm==5.0.0\n",
      "Please use `tqdm.notebook.tqdm` instead of `tqdm.tqdm_notebook`\n"
     ]
    },
    {
     "data": {
      "application/vnd.jupyter.widget-view+json": {
       "model_id": "cff6c84a7b1b40f4b1802478ec5a80ae",
       "version_major": 2,
       "version_minor": 0
      },
      "text/plain": [
       "HBox(children=(HTML(value=''), FloatProgress(value=0.0, max=2371.0), HTML(value='')))"
      ]
     },
     "metadata": {},
     "output_type": "display_data"
    },
    {
     "name": "stdout",
     "output_type": "stream",
     "text": [
      "\n",
      "[2020-11-21 21:04:07,855][MainProcess][lib.checkpoint][INFO] Saving checkpoint: ../../experiments/relation_classifier.11_21_20:05:46/80397.pt\n"
     ]
    },
    {
     "name": "stderr",
     "output_type": "stream",
     "text": [
      "/mount/arbeitsdaten46/projekte/dialog-1/kanjurva/Simple-QA-EMNLP-2018/venv2/lib/python3.6/site-packages/ipykernel_launcher.py:13: TqdmDeprecationWarning: This function will be removed in tqdm==5.0.0\n",
      "Please use `tqdm.notebook.tqdm` instead of `tqdm.tqdm_notebook`\n",
      "  del sys.path[0]\n"
     ]
    },
    {
     "data": {
      "application/vnd.jupyter.widget-view+json": {
       "model_id": "6bfafee3761341939ede87f46579b67a",
       "version_major": 2,
       "version_minor": 0
      },
      "text/plain": [
       "HBox(children=(HTML(value=''), FloatProgress(value=0.0, max=2.0), HTML(value='')))"
      ]
     },
     "metadata": {},
     "output_type": "display_data"
    },
    {
     "name": "stdout",
     "output_type": "stream",
     "text": [
      "\n",
      "[2020-11-21 21:04:09,507][MainProcess][__main__][INFO] NLLLoss: 0.559\n",
      "[2020-11-21 21:04:09,566][MainProcess][lib.metrics.accuracy][INFO] Accuracy: 0.8582763671875 [7031 of 8192]\n"
     ]
    },
    {
     "name": "stderr",
     "output_type": "stream",
     "text": [
      "  7%|▋         | 67.77777777777787/1000.0 [48:38<7:30:50, 29.02s/it, min_score=-.858, models_evaluated=0]"
     ]
    },
    {
     "name": "stdout",
     "output_type": "stream",
     "text": [
      "––––––––––––––––––––––––––––––––––––––––––––––––––––––––––––––––––––––––––––––––––––––––––––––––––––\n",
      "====================================================================================================\n",
      "[2020-11-21 21:04:09,612][MainProcess][lib.configurable][INFO] Checking configuration...\n",
      "[2020-11-21 21:04:09,613][MainProcess][lib.configurable][INFO] Configuration checked.\n",
      "[2020-11-21 21:04:09,614][MainProcess][lib.configurable][INFO] seq_to_label.SeqToLabel.__init__ was configured with:\n",
      "{   'bidirectional': False,\n",
      "    'decode_dropout': 0.5112518669114036,\n",
      "    'embedding_dropout': 0.8940039820616288,\n",
      "    'embedding_size': 300,\n",
      "    'freeze_embeddings': False,\n",
      "    'input_vocab_size': 6899,\n",
      "    'output_vocab_size': 1703,\n",
      "    'rnn_cell': 'gru',\n",
      "    'rnn_dropout': 0.6434968800574296,\n",
      "    'rnn_layers': 3,\n",
      "    'rnn_size': 484,\n",
      "    'rnn_variational_dropout': 0.4493660924665695}\n",
      "[2020-11-21 21:04:09,615][MainProcess][lib.configurable][INFO] seq_encoder.SeqEncoder.__init__ no config for: lib.nn.seq_encoder.SeqEncoder.__init__\n",
      "[2020-11-21 21:04:09,616][MainProcess][lib.configurable][INFO] seq_encoder.SeqEncoder.__init__ was configured with:\n",
      "{   'bidirectional': False,\n",
      "    'embedding_dropout': 0.8940039820616288,\n",
      "    'embedding_size': 300,\n",
      "    'freeze_embeddings': False,\n",
      "    'n_layers': 3,\n",
      "    'rnn_cell': 'gru',\n",
      "    'rnn_dropout': 0.6434968800574296,\n",
      "    'rnn_size': 484,\n",
      "    'rnn_variational_dropout': 0.4493660924665695,\n",
      "    'vocab_size': 6899}\n",
      "[2020-11-21 21:04:09,866][MainProcess][lib.configurable][INFO] adam.Adam.__init__ was configured with:\n",
      "{'amsgrad': True, 'params': <filter object at 0x7f3c2b52b550>}\n",
      "[2020-11-21 21:04:09,867][MainProcess][lib.configurable][INFO] adam.Adam.__init__ was configured with:\n",
      "{'amsgrad': True, 'params': <filter object at 0x7f3c2b52b550>}\n",
      "[2020-11-21 21:04:09,868][MainProcess][lib.configurable][INFO] optimizer.Optimizer.__init__ was configured with:\n",
      "{   'max_grad_norm': 1.5138639165648928,\n",
      "    'optim': <lib.optim.adam.Adam object at 0x7f3c29d69d68>}\n",
      "[2020-11-21 21:04:09,869][MainProcess][__main__][INFO] Epochs: 1\n",
      "[2020-11-21 21:04:09,870][MainProcess][__main__][INFO] Train Dataset Size: 75900\n",
      "[2020-11-21 21:04:09,871][MainProcess][__main__][INFO] Dev Dataset Size: 10845\n",
      "[2020-11-21 21:04:09,872][MainProcess][__main__][INFO] Train Batch Size: 32\n",
      "[2020-11-21 21:04:09,874][MainProcess][__main__][INFO] Train Max Batch Size: 1024\n",
      "[2020-11-21 21:04:09,875][MainProcess][__main__][INFO] Total Parameters: 7089515\n",
      "[2020-11-21 21:04:09,876][MainProcess][__main__][INFO] Model:\n",
      "SeqToLabel(\n",
      "  (encoder): SeqEncoder(\n",
      "    (embedding): Embedding(6899, 300, padding_idx=0)\n",
      "    (rnn): GRU(300, 484, num_layers=3, dropout=0.4493660924665695)\n",
      "    (rnn_dropout): LockedDropout(p=0.6434968800574296)\n",
      "    (embedding_dropout): Dropout(p=0.8940039820616288)\n",
      "  )\n",
      "  (out): Sequential(\n",
      "    (0): Linear(in_features=484, out_features=484, bias=True)\n",
      "    (1): BatchNorm1d(484, eps=1e-05, momentum=0.1, affine=True)\n",
      "    (2): ReLU()\n",
      "    (3): Dropout(p=0.5112518669114036)\n",
      "    (4): Linear(in_features=484, out_features=1703, bias=True)\n",
      "  )\n",
      ")\n",
      "[2020-11-21 21:04:09,877][MainProcess][__main__][INFO] Epoch: 0\n",
      "[2020-11-21 21:04:09,877][MainProcess][__main__][INFO] Training...\n"
     ]
    },
    {
     "name": "stderr",
     "output_type": "stream",
     "text": [
      "/mount/arbeitsdaten46/projekte/dialog-1/kanjurva/Simple-QA-EMNLP-2018/venv2/lib/python3.6/site-packages/ipykernel_launcher.py:57: TqdmDeprecationWarning: This function will be removed in tqdm==5.0.0\n",
      "Please use `tqdm.notebook.tqdm` instead of `tqdm.tqdm_notebook`\n"
     ]
    },
    {
     "data": {
      "application/vnd.jupyter.widget-view+json": {
       "model_id": "2414440b3a63400189aae3b03bc36634",
       "version_major": 2,
       "version_minor": 0
      },
      "text/plain": [
       "HBox(children=(HTML(value=''), FloatProgress(value=0.0, max=2371.0), HTML(value='')))"
      ]
     },
     "metadata": {},
     "output_type": "display_data"
    },
    {
     "name": "stdout",
     "output_type": "stream",
     "text": [
      "\n",
      "[2020-11-21 21:04:39,239][MainProcess][lib.checkpoint][INFO] Saving checkpoint: ../../experiments/relation_classifier.11_21_20:05:46/80428.pt\n"
     ]
    },
    {
     "name": "stderr",
     "output_type": "stream",
     "text": [
      "/mount/arbeitsdaten46/projekte/dialog-1/kanjurva/Simple-QA-EMNLP-2018/venv2/lib/python3.6/site-packages/ipykernel_launcher.py:13: TqdmDeprecationWarning: This function will be removed in tqdm==5.0.0\n",
      "Please use `tqdm.notebook.tqdm` instead of `tqdm.tqdm_notebook`\n",
      "  del sys.path[0]\n"
     ]
    },
    {
     "data": {
      "application/vnd.jupyter.widget-view+json": {
       "model_id": "ce39e9dec8a942358b53c9e17cd347e7",
       "version_major": 2,
       "version_minor": 0
      },
      "text/plain": [
       "HBox(children=(HTML(value=''), FloatProgress(value=0.0, max=2.0), HTML(value='')))"
      ]
     },
     "metadata": {},
     "output_type": "display_data"
    },
    {
     "name": "stdout",
     "output_type": "stream",
     "text": [
      "\n",
      "[2020-11-21 21:04:45,746][MainProcess][__main__][INFO] NLLLoss: 0.853\n",
      "[2020-11-21 21:04:45,802][MainProcess][lib.metrics.accuracy][INFO] Accuracy: 0.739501953125 [6058 of 8192]\n"
     ]
    },
    {
     "name": "stderr",
     "output_type": "stream",
     "text": [
      "\r",
      "  7%|▋         | 68.88888888888899/1000.0 [49:14<7:47:06, 30.10s/it, min_score=-.858, models_evaluated=0]"
     ]
    },
    {
     "name": "stdout",
     "output_type": "stream",
     "text": [
      "––––––––––––––––––––––––––––––––––––––––––––––––––––––––––––––––––––––––––––––––––––––––––––––––––––\n",
      "====================================================================================================\n",
      "[2020-11-21 21:04:45,864][MainProcess][lib.configurable][INFO] Checking configuration...\n",
      "[2020-11-21 21:04:45,866][MainProcess][lib.configurable][INFO] Configuration checked.\n",
      "[2020-11-21 21:04:45,868][MainProcess][lib.configurable][INFO] seq_to_label.SeqToLabel.__init__ was configured with:\n",
      "{   'bidirectional': False,\n",
      "    'decode_dropout': 0.8906153593980742,\n",
      "    'embedding_dropout': 0.8562947838428612,\n",
      "    'embedding_size': 300,\n",
      "    'freeze_embeddings': True,\n",
      "    'input_vocab_size': 6899,\n",
      "    'output_vocab_size': 1703,\n",
      "    'rnn_cell': 'gru',\n",
      "    'rnn_dropout': 0.5317221134593852,\n",
      "    'rnn_layers': 1,\n",
      "    'rnn_size': 386,\n",
      "    'rnn_variational_dropout': 0.1043419048634364}\n",
      "[2020-11-21 21:04:45,869][MainProcess][lib.configurable][INFO] seq_encoder.SeqEncoder.__init__ no config for: lib.nn.seq_encoder.SeqEncoder.__init__\n",
      "[2020-11-21 21:04:45,870][MainProcess][lib.configurable][INFO] seq_encoder.SeqEncoder.__init__ was configured with:\n",
      "{   'bidirectional': False,\n",
      "    'embedding_dropout': 0.8562947838428612,\n",
      "    'embedding_size': 300,\n",
      "    'freeze_embeddings': True,\n",
      "    'n_layers': 1,\n",
      "    'rnn_cell': 'gru',\n",
      "    'rnn_dropout': 0.5317221134593852,\n",
      "    'rnn_size': 386,\n",
      "    'rnn_variational_dropout': 0.1043419048634364,\n",
      "    'vocab_size': 6899}\n",
      "[2020-11-21 21:04:46,054][MainProcess][lib.configurable][INFO] adam.Adam.__init__ was configured with:\n",
      "{'amsgrad': True, 'params': <filter object at 0x7f3c2ebccef0>}\n",
      "[2020-11-21 21:04:46,055][MainProcess][lib.configurable][INFO] adam.Adam.__init__ was configured with:\n",
      "{'amsgrad': True, 'params': <filter object at 0x7f3c2ebccef0>}\n",
      "[2020-11-21 21:04:46,057][MainProcess][lib.configurable][INFO] optimizer.Optimizer.__init__ was configured with:\n",
      "{   'max_grad_norm': 0.6730517299417689,\n",
      "    'optim': <lib.optim.adam.Adam object at 0x7f3c2f78ee80>}\n",
      "[2020-11-21 21:04:46,058][MainProcess][__main__][INFO] Epochs: 1\n",
      "[2020-11-21 21:04:46,058][MainProcess][__main__][INFO] Train Dataset Size: 75900\n",
      "[2020-11-21 21:04:46,059][MainProcess][__main__][INFO] Dev Dataset Size: 10845\n",
      "[2020-11-21 21:04:46,060][MainProcess][__main__][INFO] Train Batch Size: 32\n",
      "[2020-11-21 21:04:46,060][MainProcess][__main__][INFO] Train Max Batch Size: 1024\n",
      "[2020-11-21 21:04:46,061][MainProcess][__main__][INFO] Total Parameters: 1605919\n",
      "[2020-11-21 21:04:46,062][MainProcess][__main__][INFO] Model:\n",
      "SeqToLabel(\n",
      "  (encoder): SeqEncoder(\n",
      "    (embedding): Embedding(6899, 300, padding_idx=0)\n",
      "    (rnn): GRU(300, 386, dropout=0.1043419048634364)\n",
      "    (rnn_dropout): LockedDropout(p=0.5317221134593852)\n",
      "    (embedding_dropout): Dropout(p=0.8562947838428612)\n",
      "  )\n",
      "  (out): Sequential(\n",
      "    (0): Linear(in_features=386, out_features=386, bias=True)\n",
      "    (1): BatchNorm1d(386, eps=1e-05, momentum=0.1, affine=True)\n",
      "    (2): ReLU()\n",
      "    (3): Dropout(p=0.8906153593980742)\n",
      "    (4): Linear(in_features=386, out_features=1703, bias=True)\n",
      "  )\n",
      ")\n",
      "[2020-11-21 21:04:46,062][MainProcess][__main__][INFO] Epoch: 0\n",
      "[2020-11-21 21:04:46,063][MainProcess][__main__][INFO] Training...\n"
     ]
    },
    {
     "name": "stderr",
     "output_type": "stream",
     "text": [
      "/mount/arbeitsdaten46/projekte/dialog-1/kanjurva/Simple-QA-EMNLP-2018/venv2/lib/python3.6/site-packages/ipykernel_launcher.py:57: TqdmDeprecationWarning: This function will be removed in tqdm==5.0.0\n",
      "Please use `tqdm.notebook.tqdm` instead of `tqdm.tqdm_notebook`\n"
     ]
    },
    {
     "data": {
      "application/vnd.jupyter.widget-view+json": {
       "model_id": "71a3db12792b47fd84e5267f1887044a",
       "version_major": 2,
       "version_minor": 0
      },
      "text/plain": [
       "HBox(children=(HTML(value=''), FloatProgress(value=0.0, max=2371.0), HTML(value='')))"
      ]
     },
     "metadata": {},
     "output_type": "display_data"
    },
    {
     "name": "stdout",
     "output_type": "stream",
     "text": [
      "\n",
      "[2020-11-21 21:05:02,038][MainProcess][lib.checkpoint][INFO] Saving checkpoint: ../../experiments/relation_classifier.11_21_20:05:46/80451.pt\n"
     ]
    },
    {
     "name": "stderr",
     "output_type": "stream",
     "text": [
      "/mount/arbeitsdaten46/projekte/dialog-1/kanjurva/Simple-QA-EMNLP-2018/venv2/lib/python3.6/site-packages/ipykernel_launcher.py:13: TqdmDeprecationWarning: This function will be removed in tqdm==5.0.0\n",
      "Please use `tqdm.notebook.tqdm` instead of `tqdm.tqdm_notebook`\n",
      "  del sys.path[0]\n"
     ]
    },
    {
     "data": {
      "application/vnd.jupyter.widget-view+json": {
       "model_id": "81c50aa72be146ccaa3ef9436738577f",
       "version_major": 2,
       "version_minor": 0
      },
      "text/plain": [
       "HBox(children=(HTML(value=''), FloatProgress(value=0.0, max=2.0), HTML(value='')))"
      ]
     },
     "metadata": {},
     "output_type": "display_data"
    },
    {
     "name": "stdout",
     "output_type": "stream",
     "text": [
      "\n",
      "[2020-11-21 21:05:03,343][MainProcess][__main__][INFO] NLLLoss: 1.486\n",
      "[2020-11-21 21:05:03,401][MainProcess][lib.metrics.accuracy][INFO] Accuracy: 0.6461181640625 [5293 of 8192]\n"
     ]
    },
    {
     "name": "stderr",
     "output_type": "stream",
     "text": [
      "\r",
      "  7%|▋         | 70.0000000000001/1000.0 [49:31<6:40:08, 25.82s/it, min_score=-.858, models_evaluated=0] "
     ]
    },
    {
     "name": "stdout",
     "output_type": "stream",
     "text": [
      "––––––––––––––––––––––––––––––––––––––––––––––––––––––––––––––––––––––––––––––––––––––––––––––––––––\n",
      "====================================================================================================\n",
      "[2020-11-21 21:05:03,440][MainProcess][lib.configurable][INFO] Checking configuration...\n",
      "[2020-11-21 21:05:03,442][MainProcess][lib.configurable][INFO] Configuration checked.\n",
      "[2020-11-21 21:05:03,444][MainProcess][lib.configurable][INFO] seq_to_label.SeqToLabel.__init__ was configured with:\n",
      "{   'bidirectional': True,\n",
      "    'decode_dropout': 0.3644137126927828,\n",
      "    'embedding_dropout': 0.5479454181691622,\n",
      "    'embedding_size': 300,\n",
      "    'freeze_embeddings': True,\n",
      "    'input_vocab_size': 6899,\n",
      "    'output_vocab_size': 1703,\n",
      "    'rnn_cell': 'gru',\n",
      "    'rnn_dropout': 0.4961595443662393,\n",
      "    'rnn_layers': 2,\n",
      "    'rnn_size': 372,\n",
      "    'rnn_variational_dropout': 0.6898344632763894}\n",
      "[2020-11-21 21:05:03,445][MainProcess][lib.configurable][INFO] seq_encoder.SeqEncoder.__init__ no config for: lib.nn.seq_encoder.SeqEncoder.__init__\n",
      "[2020-11-21 21:05:03,446][MainProcess][lib.configurable][INFO] seq_encoder.SeqEncoder.__init__ was configured with:\n",
      "{   'bidirectional': True,\n",
      "    'embedding_dropout': 0.5479454181691622,\n",
      "    'embedding_size': 300,\n",
      "    'freeze_embeddings': True,\n",
      "    'n_layers': 2,\n",
      "    'rnn_cell': 'gru',\n",
      "    'rnn_dropout': 0.4961595443662393,\n",
      "    'rnn_size': 372,\n",
      "    'rnn_variational_dropout': 0.6898344632763894,\n",
      "    'vocab_size': 6899}\n",
      "[2020-11-21 21:05:03,662][MainProcess][lib.configurable][INFO] adam.Adam.__init__ was configured with:\n",
      "{'amsgrad': True, 'params': <filter object at 0x7f3ca21959b0>}\n",
      "[2020-11-21 21:05:03,663][MainProcess][lib.configurable][INFO] adam.Adam.__init__ was configured with:\n",
      "{'amsgrad': True, 'params': <filter object at 0x7f3ca21959b0>}\n",
      "[2020-11-21 21:05:03,664][MainProcess][lib.configurable][INFO] optimizer.Optimizer.__init__ was configured with:\n",
      "{   'max_grad_norm': 4.0892931833853075,\n",
      "    'optim': <lib.optim.adam.Adam object at 0x7f3c2c921ba8>}\n",
      "[2020-11-21 21:05:03,665][MainProcess][__main__][INFO] Epochs: 1\n",
      "[2020-11-21 21:05:03,666][MainProcess][__main__][INFO] Train Dataset Size: 75900\n",
      "[2020-11-21 21:05:03,667][MainProcess][__main__][INFO] Dev Dataset Size: 10845\n",
      "[2020-11-21 21:05:03,667][MainProcess][__main__][INFO] Train Batch Size: 32\n",
      "[2020-11-21 21:05:03,668][MainProcess][__main__][INFO] Train Max Batch Size: 1024\n",
      "[2020-11-21 21:05:03,669][MainProcess][__main__][INFO] Total Parameters: 1944287\n",
      "[2020-11-21 21:05:03,670][MainProcess][__main__][INFO] Model:\n",
      "SeqToLabel(\n",
      "  (encoder): SeqEncoder(\n",
      "    (embedding): Embedding(6899, 300, padding_idx=0)\n",
      "    (rnn): GRU(300, 186, num_layers=2, dropout=0.6898344632763894, bidirectional=True)\n",
      "    (rnn_dropout): LockedDropout(p=0.4961595443662393)\n",
      "    (embedding_dropout): Dropout(p=0.5479454181691622)\n",
      "  )\n",
      "  (out): Sequential(\n",
      "    (0): Linear(in_features=372, out_features=372, bias=True)\n",
      "    (1): BatchNorm1d(372, eps=1e-05, momentum=0.1, affine=True)\n",
      "    (2): ReLU()\n",
      "    (3): Dropout(p=0.3644137126927828)\n",
      "    (4): Linear(in_features=372, out_features=1703, bias=True)\n",
      "  )\n",
      ")\n",
      "[2020-11-21 21:05:03,670][MainProcess][__main__][INFO] Epoch: 0\n",
      "[2020-11-21 21:05:03,671][MainProcess][__main__][INFO] Training...\n"
     ]
    },
    {
     "name": "stderr",
     "output_type": "stream",
     "text": [
      "/mount/arbeitsdaten46/projekte/dialog-1/kanjurva/Simple-QA-EMNLP-2018/venv2/lib/python3.6/site-packages/ipykernel_launcher.py:57: TqdmDeprecationWarning: This function will be removed in tqdm==5.0.0\n",
      "Please use `tqdm.notebook.tqdm` instead of `tqdm.tqdm_notebook`\n"
     ]
    },
    {
     "data": {
      "application/vnd.jupyter.widget-view+json": {
       "model_id": "156fc719208d4ec9b83f90922a94182c",
       "version_major": 2,
       "version_minor": 0
      },
      "text/plain": [
       "HBox(children=(HTML(value=''), FloatProgress(value=0.0, max=2371.0), HTML(value='')))"
      ]
     },
     "metadata": {},
     "output_type": "display_data"
    },
    {
     "name": "stdout",
     "output_type": "stream",
     "text": [
      "\n",
      "[2020-11-21 21:05:31,863][MainProcess][lib.checkpoint][INFO] Saving checkpoint: ../../experiments/relation_classifier.11_21_20:05:46/80481.pt\n"
     ]
    },
    {
     "name": "stderr",
     "output_type": "stream",
     "text": [
      "/mount/arbeitsdaten46/projekte/dialog-1/kanjurva/Simple-QA-EMNLP-2018/venv2/lib/python3.6/site-packages/ipykernel_launcher.py:13: TqdmDeprecationWarning: This function will be removed in tqdm==5.0.0\n",
      "Please use `tqdm.notebook.tqdm` instead of `tqdm.tqdm_notebook`\n",
      "  del sys.path[0]\n"
     ]
    },
    {
     "data": {
      "application/vnd.jupyter.widget-view+json": {
       "model_id": "96f1652269c346db874c4a88e094eb52",
       "version_major": 2,
       "version_minor": 0
      },
      "text/plain": [
       "HBox(children=(HTML(value=''), FloatProgress(value=0.0, max=2.0), HTML(value='')))"
      ]
     },
     "metadata": {},
     "output_type": "display_data"
    },
    {
     "name": "stdout",
     "output_type": "stream",
     "text": [
      "\n",
      "[2020-11-21 21:05:36,526][MainProcess][__main__][INFO] NLLLoss: 0.659\n",
      "[2020-11-21 21:05:36,588][MainProcess][lib.metrics.accuracy][INFO] Accuracy: 0.8306884765625 [6805 of 8192]\n"
     ]
    },
    {
     "name": "stderr",
     "output_type": "stream",
     "text": [
      "\r",
      "  7%|▋         | 71.11111111111121/1000.0 [50:05<6:58:29, 27.03s/it, min_score=-.858, models_evaluated=0]"
     ]
    },
    {
     "name": "stdout",
     "output_type": "stream",
     "text": [
      "––––––––––––––––––––––––––––––––––––––––––––––––––––––––––––––––––––––––––––––––––––––––––––––––––––\n",
      "====================================================================================================\n",
      "[2020-11-21 21:05:36,629][MainProcess][lib.configurable][INFO] Checking configuration...\n",
      "[2020-11-21 21:05:36,631][MainProcess][lib.configurable][INFO] Configuration checked.\n",
      "[2020-11-21 21:05:36,632][MainProcess][lib.configurable][INFO] seq_to_label.SeqToLabel.__init__ was configured with:\n",
      "{   'bidirectional': False,\n",
      "    'decode_dropout': 0.573268279718157,\n",
      "    'embedding_dropout': 0.8598737981325214,\n",
      "    'embedding_size': 300,\n",
      "    'freeze_embeddings': False,\n",
      "    'input_vocab_size': 6899,\n",
      "    'output_vocab_size': 1703,\n",
      "    'rnn_cell': 'gru',\n",
      "    'rnn_dropout': 0.07268983578470974,\n",
      "    'rnn_layers': 2,\n",
      "    'rnn_size': 282,\n",
      "    'rnn_variational_dropout': 0.5983474769578501}\n",
      "[2020-11-21 21:05:36,634][MainProcess][lib.configurable][INFO] seq_encoder.SeqEncoder.__init__ no config for: lib.nn.seq_encoder.SeqEncoder.__init__\n",
      "[2020-11-21 21:05:36,635][MainProcess][lib.configurable][INFO] seq_encoder.SeqEncoder.__init__ was configured with:\n",
      "{   'bidirectional': False,\n",
      "    'embedding_dropout': 0.8598737981325214,\n",
      "    'embedding_size': 300,\n",
      "    'freeze_embeddings': False,\n",
      "    'n_layers': 2,\n",
      "    'rnn_cell': 'gru',\n",
      "    'rnn_dropout': 0.07268983578470974,\n",
      "    'rnn_size': 282,\n",
      "    'rnn_variational_dropout': 0.5983474769578501,\n",
      "    'vocab_size': 6899}\n",
      "[2020-11-21 21:05:36,825][MainProcess][lib.configurable][INFO] adam.Adam.__init__ was configured with:\n",
      "{'amsgrad': True, 'params': <filter object at 0x7f3c2ea095c0>}\n",
      "[2020-11-21 21:05:36,826][MainProcess][lib.configurable][INFO] adam.Adam.__init__ was configured with:\n",
      "{'amsgrad': True, 'params': <filter object at 0x7f3c2ea095c0>}\n",
      "[2020-11-21 21:05:36,828][MainProcess][lib.configurable][INFO] optimizer.Optimizer.__init__ was configured with:\n",
      "{   'max_grad_norm': 4.84865645001397,\n",
      "    'optim': <lib.optim.adam.Adam object at 0x7f3c2ea09860>}\n",
      "[2020-11-21 21:05:36,828][MainProcess][__main__][INFO] Epochs: 1\n",
      "[2020-11-21 21:05:36,830][MainProcess][__main__][INFO] Train Dataset Size: 75900\n",
      "[2020-11-21 21:05:36,831][MainProcess][__main__][INFO] Dev Dataset Size: 10845\n",
      "[2020-11-21 21:05:36,832][MainProcess][__main__][INFO] Train Batch Size: 32\n",
      "[2020-11-21 21:05:36,833][MainProcess][__main__][INFO] Train Max Batch Size: 1024\n",
      "[2020-11-21 21:05:36,835][MainProcess][__main__][INFO] Total Parameters: 3604919\n",
      "[2020-11-21 21:05:36,836][MainProcess][__main__][INFO] Model:\n",
      "SeqToLabel(\n",
      "  (encoder): SeqEncoder(\n",
      "    (embedding): Embedding(6899, 300, padding_idx=0)\n",
      "    (rnn): GRU(300, 282, num_layers=2, dropout=0.5983474769578501)\n",
      "    (rnn_dropout): LockedDropout(p=0.07268983578470974)\n",
      "    (embedding_dropout): Dropout(p=0.8598737981325214)\n",
      "  )\n",
      "  (out): Sequential(\n",
      "    (0): Linear(in_features=282, out_features=282, bias=True)\n",
      "    (1): BatchNorm1d(282, eps=1e-05, momentum=0.1, affine=True)\n",
      "    (2): ReLU()\n",
      "    (3): Dropout(p=0.573268279718157)\n",
      "    (4): Linear(in_features=282, out_features=1703, bias=True)\n",
      "  )\n",
      ")\n",
      "[2020-11-21 21:05:36,837][MainProcess][__main__][INFO] Epoch: 0\n",
      "[2020-11-21 21:05:36,838][MainProcess][__main__][INFO] Training...\n"
     ]
    },
    {
     "name": "stderr",
     "output_type": "stream",
     "text": [
      "/mount/arbeitsdaten46/projekte/dialog-1/kanjurva/Simple-QA-EMNLP-2018/venv2/lib/python3.6/site-packages/ipykernel_launcher.py:57: TqdmDeprecationWarning: This function will be removed in tqdm==5.0.0\n",
      "Please use `tqdm.notebook.tqdm` instead of `tqdm.tqdm_notebook`\n"
     ]
    },
    {
     "data": {
      "application/vnd.jupyter.widget-view+json": {
       "model_id": "ff35d696a76445bca9647a45f17c2f66",
       "version_major": 2,
       "version_minor": 0
      },
      "text/plain": [
       "HBox(children=(HTML(value=''), FloatProgress(value=0.0, max=2371.0), HTML(value='')))"
      ]
     },
     "metadata": {},
     "output_type": "display_data"
    },
    {
     "name": "stdout",
     "output_type": "stream",
     "text": [
      "\n",
      "[2020-11-21 21:05:57,911][MainProcess][lib.checkpoint][INFO] Saving checkpoint: ../../experiments/relation_classifier.11_21_20:05:46/80507.pt\n"
     ]
    },
    {
     "name": "stderr",
     "output_type": "stream",
     "text": [
      "/mount/arbeitsdaten46/projekte/dialog-1/kanjurva/Simple-QA-EMNLP-2018/venv2/lib/python3.6/site-packages/ipykernel_launcher.py:13: TqdmDeprecationWarning: This function will be removed in tqdm==5.0.0\n",
      "Please use `tqdm.notebook.tqdm` instead of `tqdm.tqdm_notebook`\n",
      "  del sys.path[0]\n"
     ]
    },
    {
     "data": {
      "application/vnd.jupyter.widget-view+json": {
       "model_id": "4c304a2d31fc4f74812be7189474327d",
       "version_major": 2,
       "version_minor": 0
      },
      "text/plain": [
       "HBox(children=(HTML(value=''), FloatProgress(value=0.0, max=2.0), HTML(value='')))"
      ]
     },
     "metadata": {},
     "output_type": "display_data"
    },
    {
     "name": "stdout",
     "output_type": "stream",
     "text": [
      "\n",
      "[2020-11-21 21:06:05,250][MainProcess][__main__][INFO] NLLLoss: 0.898\n",
      "[2020-11-21 21:06:05,314][MainProcess][lib.metrics.accuracy][INFO] Accuracy: 0.7435302734375 [6091 of 8192]\n"
     ]
    },
    {
     "name": "stderr",
     "output_type": "stream",
     "text": [
      "\r",
      "  7%|▋         | 72.22222222222233/1000.0 [50:33<6:52:32, 26.68s/it, min_score=-.858, models_evaluated=0]"
     ]
    },
    {
     "name": "stdout",
     "output_type": "stream",
     "text": [
      "––––––––––––––––––––––––––––––––––––––––––––––––––––––––––––––––––––––––––––––––––––––––––––––––––––\n",
      "====================================================================================================\n",
      "[2020-11-21 21:06:05,361][MainProcess][lib.configurable][INFO] Checking configuration...\n",
      "[2020-11-21 21:06:05,362][MainProcess][lib.configurable][INFO] Configuration checked.\n",
      "[2020-11-21 21:06:05,363][MainProcess][lib.configurable][INFO] seq_to_label.SeqToLabel.__init__ was configured with:\n",
      "{   'bidirectional': True,\n",
      "    'decode_dropout': 0.8964156982670552,\n",
      "    'embedding_dropout': 0.21034173412010582,\n",
      "    'embedding_size': 300,\n",
      "    'freeze_embeddings': True,\n",
      "    'input_vocab_size': 6899,\n",
      "    'output_vocab_size': 1703,\n",
      "    'rnn_cell': 'lstm',\n",
      "    'rnn_dropout': 0.016868978109155667,\n",
      "    'rnn_layers': 2,\n",
      "    'rnn_size': 286,\n",
      "    'rnn_variational_dropout': 0.5054504998046889}\n",
      "[2020-11-21 21:06:05,365][MainProcess][lib.configurable][INFO] seq_encoder.SeqEncoder.__init__ no config for: lib.nn.seq_encoder.SeqEncoder.__init__\n",
      "[2020-11-21 21:06:05,366][MainProcess][lib.configurable][INFO] seq_encoder.SeqEncoder.__init__ was configured with:\n",
      "{   'bidirectional': True,\n",
      "    'embedding_dropout': 0.21034173412010582,\n",
      "    'embedding_size': 300,\n",
      "    'freeze_embeddings': True,\n",
      "    'n_layers': 2,\n",
      "    'rnn_cell': 'lstm',\n",
      "    'rnn_dropout': 0.016868978109155667,\n",
      "    'rnn_size': 286,\n",
      "    'rnn_variational_dropout': 0.5054504998046889,\n",
      "    'vocab_size': 6899}\n",
      "[2020-11-21 21:06:05,553][MainProcess][lib.configurable][INFO] adam.Adam.__init__ was configured with:\n",
      "{'amsgrad': True, 'params': <filter object at 0x7f3c2cb15d68>}\n",
      "[2020-11-21 21:06:05,554][MainProcess][lib.configurable][INFO] adam.Adam.__init__ was configured with:\n",
      "{'amsgrad': True, 'params': <filter object at 0x7f3c2cb15d68>}\n",
      "[2020-11-21 21:06:05,556][MainProcess][lib.configurable][INFO] optimizer.Optimizer.__init__ was configured with:\n",
      "{   'max_grad_norm': 3.109057139265699,\n",
      "    'optim': <lib.optim.adam.Adam object at 0x7f3c2cb154e0>}\n",
      "[2020-11-21 21:06:05,557][MainProcess][__main__][INFO] Epochs: 1\n",
      "[2020-11-21 21:06:05,558][MainProcess][__main__][INFO] Train Dataset Size: 75900\n",
      "[2020-11-21 21:06:05,559][MainProcess][__main__][INFO] Dev Dataset Size: 10845\n",
      "[2020-11-21 21:06:05,560][MainProcess][__main__][INFO] Train Batch Size: 32\n",
      "[2020-11-21 21:06:05,561][MainProcess][__main__][INFO] Train Max Batch Size: 1024\n",
      "[2020-11-21 21:06:05,562][MainProcess][__main__][INFO] Total Parameters: 1573559\n",
      "[2020-11-21 21:06:05,562][MainProcess][__main__][INFO] Model:\n",
      "SeqToLabel(\n",
      "  (encoder): SeqEncoder(\n",
      "    (embedding): Embedding(6899, 300, padding_idx=0)\n",
      "    (rnn): LSTM(300, 143, num_layers=2, dropout=0.5054504998046889, bidirectional=True)\n",
      "    (rnn_dropout): LockedDropout(p=0.016868978109155667)\n",
      "    (embedding_dropout): Dropout(p=0.21034173412010582)\n",
      "  )\n",
      "  (out): Sequential(\n",
      "    (0): Linear(in_features=286, out_features=286, bias=True)\n",
      "    (1): BatchNorm1d(286, eps=1e-05, momentum=0.1, affine=True)\n",
      "    (2): ReLU()\n",
      "    (3): Dropout(p=0.8964156982670552)\n",
      "    (4): Linear(in_features=286, out_features=1703, bias=True)\n",
      "  )\n",
      ")\n",
      "[2020-11-21 21:06:05,564][MainProcess][__main__][INFO] Epoch: 0\n",
      "[2020-11-21 21:06:05,564][MainProcess][__main__][INFO] Training...\n"
     ]
    },
    {
     "name": "stderr",
     "output_type": "stream",
     "text": [
      "/mount/arbeitsdaten46/projekte/dialog-1/kanjurva/Simple-QA-EMNLP-2018/venv2/lib/python3.6/site-packages/ipykernel_launcher.py:57: TqdmDeprecationWarning: This function will be removed in tqdm==5.0.0\n",
      "Please use `tqdm.notebook.tqdm` instead of `tqdm.tqdm_notebook`\n"
     ]
    },
    {
     "data": {
      "application/vnd.jupyter.widget-view+json": {
       "model_id": "626dddc81fa3464f92101ed053f45afb",
       "version_major": 2,
       "version_minor": 0
      },
      "text/plain": [
       "HBox(children=(HTML(value=''), FloatProgress(value=0.0, max=2371.0), HTML(value='')))"
      ]
     },
     "metadata": {},
     "output_type": "display_data"
    },
    {
     "name": "stdout",
     "output_type": "stream",
     "text": [
      "\n",
      "[2020-11-21 21:06:35,208][MainProcess][lib.checkpoint][INFO] Saving checkpoint: ../../experiments/relation_classifier.11_21_20:05:46/80544.pt\n"
     ]
    },
    {
     "name": "stderr",
     "output_type": "stream",
     "text": [
      "/mount/arbeitsdaten46/projekte/dialog-1/kanjurva/Simple-QA-EMNLP-2018/venv2/lib/python3.6/site-packages/ipykernel_launcher.py:13: TqdmDeprecationWarning: This function will be removed in tqdm==5.0.0\n",
      "Please use `tqdm.notebook.tqdm` instead of `tqdm.tqdm_notebook`\n",
      "  del sys.path[0]\n"
     ]
    },
    {
     "data": {
      "application/vnd.jupyter.widget-view+json": {
       "model_id": "93c08c3d33dc4ea19af425f06a040db7",
       "version_major": 2,
       "version_minor": 0
      },
      "text/plain": [
       "HBox(children=(HTML(value=''), FloatProgress(value=0.0, max=2.0), HTML(value='')))"
      ]
     },
     "metadata": {},
     "output_type": "display_data"
    },
    {
     "name": "stdout",
     "output_type": "stream",
     "text": [
      "\n",
      "[2020-11-21 21:06:36,982][MainProcess][__main__][INFO] NLLLoss: 1.406\n",
      "[2020-11-21 21:06:37,045][MainProcess][lib.metrics.accuracy][INFO] Accuracy: 0.71337890625 [5844 of 8192]\n"
     ]
    },
    {
     "name": "stderr",
     "output_type": "stream",
     "text": [
      "\r",
      "  7%|▋         | 73.33333333333344/1000.0 [51:05<7:00:42, 27.24s/it, min_score=-.858, models_evaluated=0]"
     ]
    },
    {
     "name": "stdout",
     "output_type": "stream",
     "text": [
      "––––––––––––––––––––––––––––––––––––––––––––––––––––––––––––––––––––––––––––––––––––––––––––––––––––\n",
      "====================================================================================================\n",
      "[2020-11-21 21:06:37,079][MainProcess][lib.configurable][INFO] Checking configuration...\n",
      "[2020-11-21 21:06:37,081][MainProcess][lib.configurable][INFO] Configuration checked.\n",
      "[2020-11-21 21:06:37,083][MainProcess][lib.configurable][INFO] seq_to_label.SeqToLabel.__init__ was configured with:\n",
      "{   'bidirectional': False,\n",
      "    'decode_dropout': 0.4406247156382894,\n",
      "    'embedding_dropout': 0.42876024243172123,\n",
      "    'embedding_size': 300,\n",
      "    'freeze_embeddings': False,\n",
      "    'input_vocab_size': 6899,\n",
      "    'output_vocab_size': 1703,\n",
      "    'rnn_cell': 'lstm',\n",
      "    'rnn_dropout': 0.8628003498227347,\n",
      "    'rnn_layers': 3,\n",
      "    'rnn_size': 138,\n",
      "    'rnn_variational_dropout': 0.7598641483398093}\n",
      "[2020-11-21 21:06:37,084][MainProcess][lib.configurable][INFO] seq_encoder.SeqEncoder.__init__ no config for: lib.nn.seq_encoder.SeqEncoder.__init__\n",
      "[2020-11-21 21:06:37,084][MainProcess][lib.configurable][INFO] seq_encoder.SeqEncoder.__init__ was configured with:\n",
      "{   'bidirectional': False,\n",
      "    'embedding_dropout': 0.42876024243172123,\n",
      "    'embedding_size': 300,\n",
      "    'freeze_embeddings': False,\n",
      "    'n_layers': 3,\n",
      "    'rnn_cell': 'lstm',\n",
      "    'rnn_dropout': 0.8628003498227347,\n",
      "    'rnn_size': 138,\n",
      "    'rnn_variational_dropout': 0.7598641483398093,\n",
      "    'vocab_size': 6899}\n",
      "[2020-11-21 21:06:37,257][MainProcess][lib.configurable][INFO] adam.Adam.__init__ was configured with:\n",
      "{'amsgrad': True, 'params': <filter object at 0x7f3c2f7ad588>}\n",
      "[2020-11-21 21:06:37,258][MainProcess][lib.configurable][INFO] adam.Adam.__init__ was configured with:\n",
      "{'amsgrad': True, 'params': <filter object at 0x7f3c2f7ad588>}\n",
      "[2020-11-21 21:06:37,259][MainProcess][lib.configurable][INFO] optimizer.Optimizer.__init__ was configured with:\n",
      "{   'max_grad_norm': 2.1039826490321754,\n",
      "    'optim': <lib.optim.adam.Adam object at 0x7f3c2f7ad908>}\n",
      "[2020-11-21 21:06:37,261][MainProcess][__main__][INFO] Epochs: 1\n",
      "[2020-11-21 21:06:37,262][MainProcess][__main__][INFO] Train Dataset Size: 75900\n",
      "[2020-11-21 21:06:37,262][MainProcess][__main__][INFO] Dev Dataset Size: 10845\n",
      "[2020-11-21 21:06:37,263][MainProcess][__main__][INFO] Train Batch Size: 32\n",
      "[2020-11-21 21:06:37,263][MainProcess][__main__][INFO] Train Max Batch Size: 1024\n",
      "[2020-11-21 21:06:37,264][MainProcess][__main__][INFO] Total Parameters: 2875667\n",
      "[2020-11-21 21:06:37,265][MainProcess][__main__][INFO] Model:\n",
      "SeqToLabel(\n",
      "  (encoder): SeqEncoder(\n",
      "    (embedding): Embedding(6899, 300, padding_idx=0)\n",
      "    (rnn): LSTM(300, 138, num_layers=3, dropout=0.7598641483398093)\n",
      "    (rnn_dropout): LockedDropout(p=0.8628003498227347)\n",
      "    (embedding_dropout): Dropout(p=0.42876024243172123)\n",
      "  )\n",
      "  (out): Sequential(\n",
      "    (0): Linear(in_features=138, out_features=138, bias=True)\n",
      "    (1): BatchNorm1d(138, eps=1e-05, momentum=0.1, affine=True)\n",
      "    (2): ReLU()\n",
      "    (3): Dropout(p=0.4406247156382894)\n",
      "    (4): Linear(in_features=138, out_features=1703, bias=True)\n",
      "  )\n",
      ")\n",
      "[2020-11-21 21:06:37,265][MainProcess][__main__][INFO] Epoch: 0\n",
      "[2020-11-21 21:06:37,266][MainProcess][__main__][INFO] Training...\n"
     ]
    },
    {
     "name": "stderr",
     "output_type": "stream",
     "text": [
      "/mount/arbeitsdaten46/projekte/dialog-1/kanjurva/Simple-QA-EMNLP-2018/venv2/lib/python3.6/site-packages/ipykernel_launcher.py:57: TqdmDeprecationWarning: This function will be removed in tqdm==5.0.0\n",
      "Please use `tqdm.notebook.tqdm` instead of `tqdm.tqdm_notebook`\n"
     ]
    },
    {
     "data": {
      "application/vnd.jupyter.widget-view+json": {
       "model_id": "5d507432088641ae8c9b4b4a4c33b34b",
       "version_major": 2,
       "version_minor": 0
      },
      "text/plain": [
       "HBox(children=(HTML(value=''), FloatProgress(value=0.0, max=2371.0), HTML(value='')))"
      ]
     },
     "metadata": {},
     "output_type": "display_data"
    },
    {
     "name": "stdout",
     "output_type": "stream",
     "text": [
      "\n",
      "[2020-11-21 21:07:03,182][MainProcess][lib.checkpoint][INFO] Saving checkpoint: ../../experiments/relation_classifier.11_21_20:05:46/80572.pt\n"
     ]
    },
    {
     "name": "stderr",
     "output_type": "stream",
     "text": [
      "/mount/arbeitsdaten46/projekte/dialog-1/kanjurva/Simple-QA-EMNLP-2018/venv2/lib/python3.6/site-packages/ipykernel_launcher.py:13: TqdmDeprecationWarning: This function will be removed in tqdm==5.0.0\n",
      "Please use `tqdm.notebook.tqdm` instead of `tqdm.tqdm_notebook`\n",
      "  del sys.path[0]\n"
     ]
    },
    {
     "data": {
      "application/vnd.jupyter.widget-view+json": {
       "model_id": "b791f85672624d1086add9dd275c4c4b",
       "version_major": 2,
       "version_minor": 0
      },
      "text/plain": [
       "HBox(children=(HTML(value=''), FloatProgress(value=0.0, max=2.0), HTML(value='')))"
      ]
     },
     "metadata": {},
     "output_type": "display_data"
    },
    {
     "name": "stdout",
     "output_type": "stream",
     "text": [
      "\n",
      "[2020-11-21 21:07:07,975][MainProcess][__main__][INFO] NLLLoss: 0.928\n",
      "[2020-11-21 21:07:08,039][MainProcess][lib.metrics.accuracy][INFO] Accuracy: 0.7457275390625 [6109 of 8192]\n"
     ]
    },
    {
     "name": "stderr",
     "output_type": "stream",
     "text": [
      "\r",
      "  7%|▋         | 74.44444444444456/1000.0 [51:36<7:03:15, 27.44s/it, min_score=-.858, models_evaluated=0]"
     ]
    },
    {
     "name": "stdout",
     "output_type": "stream",
     "text": [
      "––––––––––––––––––––––––––––––––––––––––––––––––––––––––––––––––––––––––––––––––––––––––––––––––––––\n",
      "====================================================================================================\n",
      "[2020-11-21 21:07:08,081][MainProcess][lib.configurable][INFO] Checking configuration...\n",
      "[2020-11-21 21:07:08,082][MainProcess][lib.configurable][INFO] Configuration checked.\n",
      "[2020-11-21 21:07:08,084][MainProcess][lib.configurable][INFO] seq_to_label.SeqToLabel.__init__ was configured with:\n",
      "{   'bidirectional': False,\n",
      "    'decode_dropout': 0.8925064655329431,\n",
      "    'embedding_dropout': 0.3111571861842625,\n",
      "    'embedding_size': 300,\n",
      "    'freeze_embeddings': False,\n",
      "    'input_vocab_size': 6899,\n",
      "    'output_vocab_size': 1703,\n",
      "    'rnn_cell': 'lstm',\n",
      "    'rnn_dropout': 0.18546028763182254,\n",
      "    'rnn_layers': 1,\n",
      "    'rnn_size': 298,\n",
      "    'rnn_variational_dropout': 0.4048984728927616}\n",
      "[2020-11-21 21:07:08,085][MainProcess][lib.configurable][INFO] seq_encoder.SeqEncoder.__init__ no config for: lib.nn.seq_encoder.SeqEncoder.__init__\n",
      "[2020-11-21 21:07:08,085][MainProcess][lib.configurable][INFO] seq_encoder.SeqEncoder.__init__ was configured with:\n",
      "{   'bidirectional': False,\n",
      "    'embedding_dropout': 0.3111571861842625,\n",
      "    'embedding_size': 300,\n",
      "    'freeze_embeddings': False,\n",
      "    'n_layers': 1,\n",
      "    'rnn_cell': 'lstm',\n",
      "    'rnn_dropout': 0.18546028763182254,\n",
      "    'rnn_size': 298,\n",
      "    'rnn_variational_dropout': 0.4048984728927616,\n",
      "    'vocab_size': 6899}\n",
      "[2020-11-21 21:07:08,275][MainProcess][lib.configurable][INFO] adam.Adam.__init__ was configured with:\n",
      "{'amsgrad': True, 'params': <filter object at 0x7f3ccf738748>}\n",
      "[2020-11-21 21:07:08,276][MainProcess][lib.configurable][INFO] adam.Adam.__init__ was configured with:\n",
      "{'amsgrad': True, 'params': <filter object at 0x7f3ccf738748>}\n",
      "[2020-11-21 21:07:08,277][MainProcess][lib.configurable][INFO] optimizer.Optimizer.__init__ was configured with:\n",
      "{   'max_grad_norm': 1.2112246574716514,\n",
      "    'optim': <lib.optim.adam.Adam object at 0x7f3c2f7ad588>}\n",
      "[2020-11-21 21:07:08,278][MainProcess][__main__][INFO] Epochs: 1\n",
      "[2020-11-21 21:07:08,280][MainProcess][__main__][INFO] Train Dataset Size: 75900\n",
      "[2020-11-21 21:07:08,281][MainProcess][__main__][INFO] Dev Dataset Size: 10845\n",
      "[2020-11-21 21:07:08,282][MainProcess][__main__][INFO] Train Batch Size: 32\n",
      "[2020-11-21 21:07:08,282][MainProcess][__main__][INFO] Train Max Batch Size: 1024\n",
      "[2020-11-21 21:07:08,283][MainProcess][__main__][INFO] Total Parameters: 3383795\n",
      "[2020-11-21 21:07:08,284][MainProcess][__main__][INFO] Model:\n",
      "SeqToLabel(\n",
      "  (encoder): SeqEncoder(\n",
      "    (embedding): Embedding(6899, 300, padding_idx=0)\n",
      "    (rnn): LSTM(300, 298, dropout=0.4048984728927616)\n",
      "    (rnn_dropout): LockedDropout(p=0.18546028763182254)\n",
      "    (embedding_dropout): Dropout(p=0.3111571861842625)\n",
      "  )\n",
      "  (out): Sequential(\n",
      "    (0): Linear(in_features=298, out_features=298, bias=True)\n",
      "    (1): BatchNorm1d(298, eps=1e-05, momentum=0.1, affine=True)\n",
      "    (2): ReLU()\n",
      "    (3): Dropout(p=0.8925064655329431)\n",
      "    (4): Linear(in_features=298, out_features=1703, bias=True)\n",
      "  )\n",
      ")\n",
      "[2020-11-21 21:07:08,285][MainProcess][__main__][INFO] Epoch: 0\n",
      "[2020-11-21 21:07:08,286][MainProcess][__main__][INFO] Training...\n"
     ]
    },
    {
     "name": "stderr",
     "output_type": "stream",
     "text": [
      "/mount/arbeitsdaten46/projekte/dialog-1/kanjurva/Simple-QA-EMNLP-2018/venv2/lib/python3.6/site-packages/ipykernel_launcher.py:57: TqdmDeprecationWarning: This function will be removed in tqdm==5.0.0\n",
      "Please use `tqdm.notebook.tqdm` instead of `tqdm.tqdm_notebook`\n"
     ]
    },
    {
     "data": {
      "application/vnd.jupyter.widget-view+json": {
       "model_id": "2e4f96e9356f4ababb0b1f6915ca78d4",
       "version_major": 2,
       "version_minor": 0
      },
      "text/plain": [
       "HBox(children=(HTML(value=''), FloatProgress(value=0.0, max=2371.0), HTML(value='')))"
      ]
     },
     "metadata": {},
     "output_type": "display_data"
    },
    {
     "name": "stdout",
     "output_type": "stream",
     "text": [
      "\n",
      "[2020-11-21 21:07:25,800][MainProcess][lib.checkpoint][INFO] Saving checkpoint: ../../experiments/relation_classifier.11_21_20:05:46/80595.pt\n"
     ]
    },
    {
     "name": "stderr",
     "output_type": "stream",
     "text": [
      "/mount/arbeitsdaten46/projekte/dialog-1/kanjurva/Simple-QA-EMNLP-2018/venv2/lib/python3.6/site-packages/ipykernel_launcher.py:13: TqdmDeprecationWarning: This function will be removed in tqdm==5.0.0\n",
      "Please use `tqdm.notebook.tqdm` instead of `tqdm.tqdm_notebook`\n",
      "  del sys.path[0]\n"
     ]
    },
    {
     "data": {
      "application/vnd.jupyter.widget-view+json": {
       "model_id": "cd9c2b0af837433a865bf0e6a1d373a5",
       "version_major": 2,
       "version_minor": 0
      },
      "text/plain": [
       "HBox(children=(HTML(value=''), FloatProgress(value=0.0, max=2.0), HTML(value='')))"
      ]
     },
     "metadata": {},
     "output_type": "display_data"
    },
    {
     "name": "stdout",
     "output_type": "stream",
     "text": [
      "\n",
      "[2020-11-21 21:07:28,427][MainProcess][__main__][INFO] NLLLoss: 1.412\n",
      "[2020-11-21 21:07:28,491][MainProcess][lib.metrics.accuracy][INFO] Accuracy: 0.7091064453125 [5809 of 8192]\n"
     ]
    },
    {
     "name": "stderr",
     "output_type": "stream",
     "text": [
      "\r",
      "  8%|▊         | 75.55555555555567/1000.0 [51:56<6:20:59, 24.73s/it, min_score=-.858, models_evaluated=0]"
     ]
    },
    {
     "name": "stdout",
     "output_type": "stream",
     "text": [
      "––––––––––––––––––––––––––––––––––––––––––––––––––––––––––––––––––––––––––––––––––––––––––––––––––––\n",
      "====================================================================================================\n",
      "[2020-11-21 21:07:28,529][MainProcess][lib.configurable][INFO] Checking configuration...\n",
      "[2020-11-21 21:07:28,530][MainProcess][lib.configurable][INFO] Configuration checked.\n",
      "[2020-11-21 21:07:28,531][MainProcess][lib.configurable][INFO] seq_to_label.SeqToLabel.__init__ was configured with:\n",
      "{   'bidirectional': False,\n",
      "    'decode_dropout': 0.4789181136450609,\n",
      "    'embedding_dropout': 0.07994967794075833,\n",
      "    'embedding_size': 300,\n",
      "    'freeze_embeddings': False,\n",
      "    'input_vocab_size': 6899,\n",
      "    'output_vocab_size': 1703,\n",
      "    'rnn_cell': 'lstm',\n",
      "    'rnn_dropout': 0.42908375201332216,\n",
      "    'rnn_layers': 2,\n",
      "    'rnn_size': 168,\n",
      "    'rnn_variational_dropout': 0.2769529759060436}\n",
      "[2020-11-21 21:07:28,532][MainProcess][lib.configurable][INFO] seq_encoder.SeqEncoder.__init__ no config for: lib.nn.seq_encoder.SeqEncoder.__init__\n",
      "[2020-11-21 21:07:28,533][MainProcess][lib.configurable][INFO] seq_encoder.SeqEncoder.__init__ was configured with:\n",
      "{   'bidirectional': False,\n",
      "    'embedding_dropout': 0.07994967794075833,\n",
      "    'embedding_size': 300,\n",
      "    'freeze_embeddings': False,\n",
      "    'n_layers': 2,\n",
      "    'rnn_cell': 'lstm',\n",
      "    'rnn_dropout': 0.42908375201332216,\n",
      "    'rnn_size': 168,\n",
      "    'rnn_variational_dropout': 0.2769529759060436,\n",
      "    'vocab_size': 6899}\n",
      "[2020-11-21 21:07:28,711][MainProcess][lib.configurable][INFO] adam.Adam.__init__ was configured with:\n",
      "{'amsgrad': True, 'params': <filter object at 0x7f3ccf738748>}\n",
      "[2020-11-21 21:07:28,713][MainProcess][lib.configurable][INFO] adam.Adam.__init__ was configured with:\n",
      "{'amsgrad': True, 'params': <filter object at 0x7f3ccf738748>}\n",
      "[2020-11-21 21:07:28,714][MainProcess][lib.configurable][INFO] optimizer.Optimizer.__init__ was configured with:\n",
      "{   'max_grad_norm': 0.3503634347140378,\n",
      "    'optim': <lib.optim.adam.Adam object at 0x7f3c2f7ad588>}\n",
      "[2020-11-21 21:07:28,715][MainProcess][__main__][INFO] Epochs: 1\n",
      "[2020-11-21 21:07:28,716][MainProcess][__main__][INFO] Train Dataset Size: 75900\n",
      "[2020-11-21 21:07:28,717][MainProcess][__main__][INFO] Dev Dataset Size: 10845\n",
      "[2020-11-21 21:07:28,717][MainProcess][__main__][INFO] Train Batch Size: 32\n",
      "[2020-11-21 21:07:28,718][MainProcess][__main__][INFO] Train Max Batch Size: 1024\n",
      "[2020-11-21 21:07:28,719][MainProcess][__main__][INFO] Total Parameters: 2929211\n",
      "[2020-11-21 21:07:28,719][MainProcess][__main__][INFO] Model:\n",
      "SeqToLabel(\n",
      "  (encoder): SeqEncoder(\n",
      "    (embedding): Embedding(6899, 300, padding_idx=0)\n",
      "    (rnn): LSTM(300, 168, num_layers=2, dropout=0.2769529759060436)\n",
      "    (rnn_dropout): LockedDropout(p=0.42908375201332216)\n",
      "    (embedding_dropout): Dropout(p=0.07994967794075833)\n",
      "  )\n",
      "  (out): Sequential(\n",
      "    (0): Linear(in_features=168, out_features=168, bias=True)\n",
      "    (1): BatchNorm1d(168, eps=1e-05, momentum=0.1, affine=True)\n",
      "    (2): ReLU()\n",
      "    (3): Dropout(p=0.4789181136450609)\n",
      "    (4): Linear(in_features=168, out_features=1703, bias=True)\n",
      "  )\n",
      ")\n",
      "[2020-11-21 21:07:28,720][MainProcess][__main__][INFO] Epoch: 0\n",
      "[2020-11-21 21:07:28,720][MainProcess][__main__][INFO] Training...\n"
     ]
    },
    {
     "name": "stderr",
     "output_type": "stream",
     "text": [
      "/mount/arbeitsdaten46/projekte/dialog-1/kanjurva/Simple-QA-EMNLP-2018/venv2/lib/python3.6/site-packages/ipykernel_launcher.py:57: TqdmDeprecationWarning: This function will be removed in tqdm==5.0.0\n",
      "Please use `tqdm.notebook.tqdm` instead of `tqdm.tqdm_notebook`\n"
     ]
    },
    {
     "data": {
      "application/vnd.jupyter.widget-view+json": {
       "model_id": "2bd0e27a1f0646f59daefa6f8937abb7",
       "version_major": 2,
       "version_minor": 0
      },
      "text/plain": [
       "HBox(children=(HTML(value=''), FloatProgress(value=0.0, max=2371.0), HTML(value='')))"
      ]
     },
     "metadata": {},
     "output_type": "display_data"
    },
    {
     "name": "stdout",
     "output_type": "stream",
     "text": [
      "\n",
      "[2020-11-21 21:07:51,009][MainProcess][lib.checkpoint][INFO] Saving checkpoint: ../../experiments/relation_classifier.11_21_20:05:46/80620.pt\n"
     ]
    },
    {
     "name": "stderr",
     "output_type": "stream",
     "text": [
      "/mount/arbeitsdaten46/projekte/dialog-1/kanjurva/Simple-QA-EMNLP-2018/venv2/lib/python3.6/site-packages/ipykernel_launcher.py:13: TqdmDeprecationWarning: This function will be removed in tqdm==5.0.0\n",
      "Please use `tqdm.notebook.tqdm` instead of `tqdm.tqdm_notebook`\n",
      "  del sys.path[0]\n"
     ]
    },
    {
     "data": {
      "application/vnd.jupyter.widget-view+json": {
       "model_id": "9066b929329a417e8845c5aa901ffb36",
       "version_major": 2,
       "version_minor": 0
      },
      "text/plain": [
       "HBox(children=(HTML(value=''), FloatProgress(value=0.0, max=2.0), HTML(value='')))"
      ]
     },
     "metadata": {},
     "output_type": "display_data"
    },
    {
     "name": "stdout",
     "output_type": "stream",
     "text": [
      "\n",
      "[2020-11-21 21:07:54,515][MainProcess][__main__][INFO] NLLLoss: 0.709\n",
      "[2020-11-21 21:07:54,575][MainProcess][lib.metrics.accuracy][INFO] Accuracy: 0.82275390625 [6740 of 8192]\n"
     ]
    },
    {
     "name": "stderr",
     "output_type": "stream",
     "text": [
      "\r",
      "  8%|▊         | 76.66666666666679/1000.0 [52:23<6:14:45, 24.35s/it, min_score=-.858, models_evaluated=0]"
     ]
    },
    {
     "name": "stdout",
     "output_type": "stream",
     "text": [
      "––––––––––––––––––––––––––––––––––––––––––––––––––––––––––––––––––––––––––––––––––––––––––––––––––––\n",
      "====================================================================================================\n",
      "[2020-11-21 21:07:54,616][MainProcess][lib.configurable][INFO] Checking configuration...\n",
      "[2020-11-21 21:07:54,617][MainProcess][lib.configurable][INFO] Configuration checked.\n",
      "[2020-11-21 21:07:54,618][MainProcess][lib.configurable][INFO] seq_to_label.SeqToLabel.__init__ was configured with:\n",
      "{   'bidirectional': False,\n",
      "    'decode_dropout': 0.7340270255274864,\n",
      "    'embedding_dropout': 0.8881274254995403,\n",
      "    'embedding_size': 300,\n",
      "    'freeze_embeddings': True,\n",
      "    'input_vocab_size': 6899,\n",
      "    'output_vocab_size': 1703,\n",
      "    'rnn_cell': 'gru',\n",
      "    'rnn_dropout': 0.012485243234614508,\n",
      "    'rnn_layers': 3,\n",
      "    'rnn_size': 284,\n",
      "    'rnn_variational_dropout': 0.8148932503201742}\n",
      "[2020-11-21 21:07:54,620][MainProcess][lib.configurable][INFO] seq_encoder.SeqEncoder.__init__ no config for: lib.nn.seq_encoder.SeqEncoder.__init__\n",
      "[2020-11-21 21:07:54,621][MainProcess][lib.configurable][INFO] seq_encoder.SeqEncoder.__init__ was configured with:\n",
      "{   'bidirectional': False,\n",
      "    'embedding_dropout': 0.8881274254995403,\n",
      "    'embedding_size': 300,\n",
      "    'freeze_embeddings': True,\n",
      "    'n_layers': 3,\n",
      "    'rnn_cell': 'gru',\n",
      "    'rnn_dropout': 0.012485243234614508,\n",
      "    'rnn_size': 284,\n",
      "    'rnn_variational_dropout': 0.8148932503201742,\n",
      "    'vocab_size': 6899}\n",
      "[2020-11-21 21:07:54,810][MainProcess][lib.configurable][INFO] adam.Adam.__init__ was configured with:\n",
      "{'amsgrad': True, 'params': <filter object at 0x7f3c2ebcc908>}\n",
      "[2020-11-21 21:07:54,811][MainProcess][lib.configurable][INFO] adam.Adam.__init__ was configured with:\n",
      "{'amsgrad': True, 'params': <filter object at 0x7f3c2ebcc908>}\n",
      "[2020-11-21 21:07:54,813][MainProcess][lib.configurable][INFO] optimizer.Optimizer.__init__ was configured with:\n",
      "{   'max_grad_norm': 1.930565013657478,\n",
      "    'optim': <lib.optim.adam.Adam object at 0x7f3c2f7ad588>}\n",
      "[2020-11-21 21:07:54,814][MainProcess][__main__][INFO] Epochs: 1\n",
      "[2020-11-21 21:07:54,814][MainProcess][__main__][INFO] Train Dataset Size: 75900\n",
      "[2020-11-21 21:07:54,815][MainProcess][__main__][INFO] Dev Dataset Size: 10845\n",
      "[2020-11-21 21:07:54,816][MainProcess][__main__][INFO] Train Batch Size: 32\n",
      "[2020-11-21 21:07:54,816][MainProcess][__main__][INFO] Train Max Batch Size: 1024\n",
      "[2020-11-21 21:07:54,817][MainProcess][__main__][INFO] Total Parameters: 2037415\n",
      "[2020-11-21 21:07:54,818][MainProcess][__main__][INFO] Model:\n",
      "SeqToLabel(\n",
      "  (encoder): SeqEncoder(\n",
      "    (embedding): Embedding(6899, 300, padding_idx=0)\n",
      "    (rnn): GRU(300, 284, num_layers=3, dropout=0.8148932503201742)\n",
      "    (rnn_dropout): LockedDropout(p=0.012485243234614508)\n",
      "    (embedding_dropout): Dropout(p=0.8881274254995403)\n",
      "  )\n",
      "  (out): Sequential(\n",
      "    (0): Linear(in_features=284, out_features=284, bias=True)\n",
      "    (1): BatchNorm1d(284, eps=1e-05, momentum=0.1, affine=True)\n",
      "    (2): ReLU()\n",
      "    (3): Dropout(p=0.7340270255274864)\n",
      "    (4): Linear(in_features=284, out_features=1703, bias=True)\n",
      "  )\n",
      ")\n",
      "[2020-11-21 21:07:54,818][MainProcess][__main__][INFO] Epoch: 0\n",
      "[2020-11-21 21:07:54,819][MainProcess][__main__][INFO] Training...\n"
     ]
    },
    {
     "name": "stderr",
     "output_type": "stream",
     "text": [
      "/mount/arbeitsdaten46/projekte/dialog-1/kanjurva/Simple-QA-EMNLP-2018/venv2/lib/python3.6/site-packages/ipykernel_launcher.py:57: TqdmDeprecationWarning: This function will be removed in tqdm==5.0.0\n",
      "Please use `tqdm.notebook.tqdm` instead of `tqdm.tqdm_notebook`\n"
     ]
    },
    {
     "data": {
      "application/vnd.jupyter.widget-view+json": {
       "model_id": "f57f8497311840109739a2fb5a1e6505",
       "version_major": 2,
       "version_minor": 0
      },
      "text/plain": [
       "HBox(children=(HTML(value=''), FloatProgress(value=0.0, max=2371.0), HTML(value='')))"
      ]
     },
     "metadata": {},
     "output_type": "display_data"
    },
    {
     "name": "stdout",
     "output_type": "stream",
     "text": [
      "\n",
      "[2020-11-21 21:08:19,352][MainProcess][lib.checkpoint][INFO] Saving checkpoint: ../../experiments/relation_classifier.11_21_20:05:46/80649.pt\n"
     ]
    },
    {
     "name": "stderr",
     "output_type": "stream",
     "text": [
      "/mount/arbeitsdaten46/projekte/dialog-1/kanjurva/Simple-QA-EMNLP-2018/venv2/lib/python3.6/site-packages/ipykernel_launcher.py:13: TqdmDeprecationWarning: This function will be removed in tqdm==5.0.0\n",
      "Please use `tqdm.notebook.tqdm` instead of `tqdm.tqdm_notebook`\n",
      "  del sys.path[0]\n"
     ]
    },
    {
     "data": {
      "application/vnd.jupyter.widget-view+json": {
       "model_id": "20b9554b69ee403f89dc294ed68d8c88",
       "version_major": 2,
       "version_minor": 0
      },
      "text/plain": [
       "HBox(children=(HTML(value=''), FloatProgress(value=0.0, max=2.0), HTML(value='')))"
      ]
     },
     "metadata": {},
     "output_type": "display_data"
    },
    {
     "name": "stdout",
     "output_type": "stream",
     "text": [
      "\n",
      "[2020-11-21 21:08:20,815][MainProcess][__main__][INFO] NLLLoss: 1.370\n",
      "[2020-11-21 21:08:20,878][MainProcess][lib.metrics.accuracy][INFO] Accuracy: 0.593017578125 [4858 of 8192]\n"
     ]
    },
    {
     "name": "stderr",
     "output_type": "stream",
     "text": [
      "\r",
      "  8%|▊         | 77.7777777777779/1000.0 [52:49<6:11:11, 24.15s/it, min_score=-.858, models_evaluated=0] "
     ]
    },
    {
     "name": "stdout",
     "output_type": "stream",
     "text": [
      "––––––––––––––––––––––––––––––––––––––––––––––––––––––––––––––––––––––––––––––––––––––––––––––––––––\n",
      "====================================================================================================\n",
      "[2020-11-21 21:08:20,921][MainProcess][lib.configurable][INFO] Checking configuration...\n",
      "[2020-11-21 21:08:20,923][MainProcess][lib.configurable][INFO] Configuration checked.\n",
      "[2020-11-21 21:08:20,925][MainProcess][lib.configurable][INFO] seq_to_label.SeqToLabel.__init__ was configured with:\n",
      "{   'bidirectional': True,\n",
      "    'decode_dropout': 0.06434283965769873,\n",
      "    'embedding_dropout': 0.752848537163361,\n",
      "    'embedding_size': 300,\n",
      "    'freeze_embeddings': True,\n",
      "    'input_vocab_size': 6899,\n",
      "    'output_vocab_size': 1703,\n",
      "    'rnn_cell': 'lstm',\n",
      "    'rnn_dropout': 0.3240377443663119,\n",
      "    'rnn_layers': 2,\n",
      "    'rnn_size': 166,\n",
      "    'rnn_variational_dropout': 0.6992593051108338}\n",
      "[2020-11-21 21:08:20,926][MainProcess][lib.configurable][INFO] seq_encoder.SeqEncoder.__init__ no config for: lib.nn.seq_encoder.SeqEncoder.__init__\n",
      "[2020-11-21 21:08:20,928][MainProcess][lib.configurable][INFO] seq_encoder.SeqEncoder.__init__ was configured with:\n",
      "{   'bidirectional': True,\n",
      "    'embedding_dropout': 0.752848537163361,\n",
      "    'embedding_size': 300,\n",
      "    'freeze_embeddings': True,\n",
      "    'n_layers': 2,\n",
      "    'rnn_cell': 'lstm',\n",
      "    'rnn_dropout': 0.3240377443663119,\n",
      "    'rnn_size': 166,\n",
      "    'rnn_variational_dropout': 0.6992593051108338,\n",
      "    'vocab_size': 6899}\n",
      "[2020-11-21 21:08:21,138][MainProcess][lib.configurable][INFO] adam.Adam.__init__ was configured with:\n",
      "{'amsgrad': True, 'params': <filter object at 0x7f3c2ebcc908>}\n",
      "[2020-11-21 21:08:21,140][MainProcess][lib.configurable][INFO] adam.Adam.__init__ was configured with:\n",
      "{'amsgrad': True, 'params': <filter object at 0x7f3c2ebcc908>}\n",
      "[2020-11-21 21:08:21,142][MainProcess][lib.configurable][INFO] optimizer.Optimizer.__init__ was configured with:\n",
      "{   'max_grad_norm': 0.2249863803884389,\n",
      "    'optim': <lib.optim.adam.Adam object at 0x7f3cb66000b8>}\n",
      "[2020-11-21 21:08:21,143][MainProcess][__main__][INFO] Epochs: 1\n",
      "[2020-11-21 21:08:21,143][MainProcess][__main__][INFO] Train Dataset Size: 75900\n",
      "[2020-11-21 21:08:21,144][MainProcess][__main__][INFO] Dev Dataset Size: 10845\n",
      "[2020-11-21 21:08:21,145][MainProcess][__main__][INFO] Train Batch Size: 32\n",
      "[2020-11-21 21:08:21,145][MainProcess][__main__][INFO] Train Max Batch Size: 1024\n",
      "[2020-11-21 21:08:21,146][MainProcess][__main__][INFO] Total Parameters: 734759\n",
      "[2020-11-21 21:08:21,147][MainProcess][__main__][INFO] Model:\n",
      "SeqToLabel(\n",
      "  (encoder): SeqEncoder(\n",
      "    (embedding): Embedding(6899, 300, padding_idx=0)\n",
      "    (rnn): LSTM(300, 83, num_layers=2, dropout=0.6992593051108338, bidirectional=True)\n",
      "    (rnn_dropout): LockedDropout(p=0.3240377443663119)\n",
      "    (embedding_dropout): Dropout(p=0.752848537163361)\n",
      "  )\n",
      "  (out): Sequential(\n",
      "    (0): Linear(in_features=166, out_features=166, bias=True)\n",
      "    (1): BatchNorm1d(166, eps=1e-05, momentum=0.1, affine=True)\n",
      "    (2): ReLU()\n",
      "    (3): Dropout(p=0.06434283965769873)\n",
      "    (4): Linear(in_features=166, out_features=1703, bias=True)\n",
      "  )\n",
      ")\n",
      "[2020-11-21 21:08:21,148][MainProcess][__main__][INFO] Epoch: 0\n",
      "[2020-11-21 21:08:21,149][MainProcess][__main__][INFO] Training...\n"
     ]
    },
    {
     "name": "stderr",
     "output_type": "stream",
     "text": [
      "/mount/arbeitsdaten46/projekte/dialog-1/kanjurva/Simple-QA-EMNLP-2018/venv2/lib/python3.6/site-packages/ipykernel_launcher.py:57: TqdmDeprecationWarning: This function will be removed in tqdm==5.0.0\n",
      "Please use `tqdm.notebook.tqdm` instead of `tqdm.tqdm_notebook`\n"
     ]
    },
    {
     "data": {
      "application/vnd.jupyter.widget-view+json": {
       "model_id": "42dec638bed746a083776cd21c804a9c",
       "version_major": 2,
       "version_minor": 0
      },
      "text/plain": [
       "HBox(children=(HTML(value=''), FloatProgress(value=0.0, max=2371.0), HTML(value='')))"
      ]
     },
     "metadata": {},
     "output_type": "display_data"
    },
    {
     "name": "stdout",
     "output_type": "stream",
     "text": [
      "\n",
      "[2020-11-21 21:08:51,100][MainProcess][lib.checkpoint][INFO] Saving checkpoint: ../../experiments/relation_classifier.11_21_20:05:46/80680.pt\n"
     ]
    },
    {
     "name": "stderr",
     "output_type": "stream",
     "text": [
      "/mount/arbeitsdaten46/projekte/dialog-1/kanjurva/Simple-QA-EMNLP-2018/venv2/lib/python3.6/site-packages/ipykernel_launcher.py:13: TqdmDeprecationWarning: This function will be removed in tqdm==5.0.0\n",
      "Please use `tqdm.notebook.tqdm` instead of `tqdm.tqdm_notebook`\n",
      "  del sys.path[0]\n"
     ]
    },
    {
     "data": {
      "application/vnd.jupyter.widget-view+json": {
       "model_id": "03127baec530417780ee4acd49c9448f",
       "version_major": 2,
       "version_minor": 0
      },
      "text/plain": [
       "HBox(children=(HTML(value=''), FloatProgress(value=0.0, max=2.0), HTML(value='')))"
      ]
     },
     "metadata": {},
     "output_type": "display_data"
    },
    {
     "name": "stdout",
     "output_type": "stream",
     "text": [
      "\n",
      "[2020-11-21 21:08:52,206][MainProcess][__main__][INFO] NLLLoss: 0.736\n",
      "[2020-11-21 21:08:52,263][MainProcess][lib.metrics.accuracy][INFO] Accuracy: 0.7855224609375 [6435 of 8192]\n"
     ]
    },
    {
     "name": "stderr",
     "output_type": "stream",
     "text": [
      "\r",
      "  8%|▊         | 78.88888888888901/1000.0 [53:20<6:29:34, 25.38s/it, min_score=-.858, models_evaluated=0]"
     ]
    },
    {
     "name": "stdout",
     "output_type": "stream",
     "text": [
      "––––––––––––––––––––––––––––––––––––––––––––––––––––––––––––––––––––––––––––––––––––––––––––––––––––\n",
      "====================================================================================================\n",
      "[2020-11-21 21:08:52,299][MainProcess][lib.configurable][INFO] Checking configuration...\n",
      "[2020-11-21 21:08:52,301][MainProcess][lib.configurable][INFO] Configuration checked.\n",
      "[2020-11-21 21:08:52,302][MainProcess][lib.configurable][INFO] seq_to_label.SeqToLabel.__init__ was configured with:\n",
      "{   'bidirectional': False,\n",
      "    'decode_dropout': 0.7072870320215838,\n",
      "    'embedding_dropout': 0.01908206990992686,\n",
      "    'embedding_size': 300,\n",
      "    'freeze_embeddings': False,\n",
      "    'input_vocab_size': 6899,\n",
      "    'output_vocab_size': 1703,\n",
      "    'rnn_cell': 'lstm',\n",
      "    'rnn_dropout': 0.27194427454088627,\n",
      "    'rnn_layers': 2,\n",
      "    'rnn_size': 310,\n",
      "    'rnn_variational_dropout': 0.5894743910233464}\n",
      "[2020-11-21 21:08:52,303][MainProcess][lib.configurable][INFO] seq_encoder.SeqEncoder.__init__ no config for: lib.nn.seq_encoder.SeqEncoder.__init__\n",
      "[2020-11-21 21:08:52,304][MainProcess][lib.configurable][INFO] seq_encoder.SeqEncoder.__init__ was configured with:\n",
      "{   'bidirectional': False,\n",
      "    'embedding_dropout': 0.01908206990992686,\n",
      "    'embedding_size': 300,\n",
      "    'freeze_embeddings': False,\n",
      "    'n_layers': 2,\n",
      "    'rnn_cell': 'lstm',\n",
      "    'rnn_dropout': 0.27194427454088627,\n",
      "    'rnn_size': 310,\n",
      "    'rnn_variational_dropout': 0.5894743910233464,\n",
      "    'vocab_size': 6899}\n",
      "[2020-11-21 21:08:52,488][MainProcess][lib.configurable][INFO] adam.Adam.__init__ was configured with:\n",
      "{'amsgrad': True, 'params': <filter object at 0x7f3c2e8bd048>}\n",
      "[2020-11-21 21:08:52,489][MainProcess][lib.configurable][INFO] adam.Adam.__init__ was configured with:\n",
      "{'amsgrad': True, 'params': <filter object at 0x7f3c2e8bd048>}\n",
      "[2020-11-21 21:08:52,491][MainProcess][lib.configurable][INFO] optimizer.Optimizer.__init__ was configured with:\n",
      "{   'max_grad_norm': 0.320664714062961,\n",
      "    'optim': <lib.optim.adam.Adam object at 0x7f3c2e8bd908>}\n",
      "[2020-11-21 21:08:52,492][MainProcess][__main__][INFO] Epochs: 1\n",
      "[2020-11-21 21:08:52,494][MainProcess][__main__][INFO] Train Dataset Size: 75900\n",
      "[2020-11-21 21:08:52,495][MainProcess][__main__][INFO] Dev Dataset Size: 10845\n",
      "[2020-11-21 21:08:52,495][MainProcess][__main__][INFO] Train Batch Size: 32\n",
      "[2020-11-21 21:08:52,496][MainProcess][__main__][INFO] Train Max Batch Size: 1024\n",
      "[2020-11-21 21:08:52,497][MainProcess][__main__][INFO] Total Parameters: 4226523\n",
      "[2020-11-21 21:08:52,498][MainProcess][__main__][INFO] Model:\n",
      "SeqToLabel(\n",
      "  (encoder): SeqEncoder(\n",
      "    (embedding): Embedding(6899, 300, padding_idx=0)\n",
      "    (rnn): LSTM(300, 310, num_layers=2, dropout=0.5894743910233464)\n",
      "    (rnn_dropout): LockedDropout(p=0.27194427454088627)\n",
      "    (embedding_dropout): Dropout(p=0.01908206990992686)\n",
      "  )\n",
      "  (out): Sequential(\n",
      "    (0): Linear(in_features=310, out_features=310, bias=True)\n",
      "    (1): BatchNorm1d(310, eps=1e-05, momentum=0.1, affine=True)\n",
      "    (2): ReLU()\n",
      "    (3): Dropout(p=0.7072870320215838)\n",
      "    (4): Linear(in_features=310, out_features=1703, bias=True)\n",
      "  )\n",
      ")\n",
      "[2020-11-21 21:08:52,499][MainProcess][__main__][INFO] Epoch: 0\n",
      "[2020-11-21 21:08:52,499][MainProcess][__main__][INFO] Training...\n"
     ]
    },
    {
     "name": "stderr",
     "output_type": "stream",
     "text": [
      "/mount/arbeitsdaten46/projekte/dialog-1/kanjurva/Simple-QA-EMNLP-2018/venv2/lib/python3.6/site-packages/ipykernel_launcher.py:57: TqdmDeprecationWarning: This function will be removed in tqdm==5.0.0\n",
      "Please use `tqdm.notebook.tqdm` instead of `tqdm.tqdm_notebook`\n"
     ]
    },
    {
     "data": {
      "application/vnd.jupyter.widget-view+json": {
       "model_id": "0e2e7c4e3081444881ac738e5b7fb3e5",
       "version_major": 2,
       "version_minor": 0
      },
      "text/plain": [
       "HBox(children=(HTML(value=''), FloatProgress(value=0.0, max=2371.0), HTML(value='')))"
      ]
     },
     "metadata": {},
     "output_type": "display_data"
    },
    {
     "name": "stdout",
     "output_type": "stream",
     "text": [
      "\n",
      "[2020-11-21 21:09:15,639][MainProcess][lib.checkpoint][INFO] Saving checkpoint: ../../experiments/relation_classifier.11_21_20:05:46/80705.pt\n"
     ]
    },
    {
     "name": "stderr",
     "output_type": "stream",
     "text": [
      "/mount/arbeitsdaten46/projekte/dialog-1/kanjurva/Simple-QA-EMNLP-2018/venv2/lib/python3.6/site-packages/ipykernel_launcher.py:13: TqdmDeprecationWarning: This function will be removed in tqdm==5.0.0\n",
      "Please use `tqdm.notebook.tqdm` instead of `tqdm.tqdm_notebook`\n",
      "  del sys.path[0]\n"
     ]
    },
    {
     "data": {
      "application/vnd.jupyter.widget-view+json": {
       "model_id": "520ae6b934ed4aa99d846f2556fe1f60",
       "version_major": 2,
       "version_minor": 0
      },
      "text/plain": [
       "HBox(children=(HTML(value=''), FloatProgress(value=0.0, max=2.0), HTML(value='')))"
      ]
     },
     "metadata": {},
     "output_type": "display_data"
    },
    {
     "name": "stdout",
     "output_type": "stream",
     "text": [
      "\n",
      "[2020-11-21 21:09:17,599][MainProcess][__main__][INFO] NLLLoss: 0.845\n",
      "[2020-11-21 21:09:17,655][MainProcess][lib.metrics.accuracy][INFO] Accuracy: 0.798095703125 [6538 of 8192]\n"
     ]
    },
    {
     "name": "stderr",
     "output_type": "stream",
     "text": [
      "\r",
      "  8%|▊         | 80.00000000000013/1000.0 [53:46<6:17:31, 24.62s/it, min_score=-.858, models_evaluated=0]"
     ]
    },
    {
     "name": "stdout",
     "output_type": "stream",
     "text": [
      "––––––––––––––––––––––––––––––––––––––––––––––––––––––––––––––––––––––––––––––––––––––––––––––––––––\n",
      "====================================================================================================\n",
      "[2020-11-21 21:09:17,697][MainProcess][lib.configurable][INFO] Checking configuration...\n",
      "[2020-11-21 21:09:17,698][MainProcess][lib.configurable][INFO] Configuration checked.\n",
      "[2020-11-21 21:09:17,700][MainProcess][lib.configurable][INFO] seq_to_label.SeqToLabel.__init__ was configured with:\n",
      "{   'bidirectional': False,\n",
      "    'decode_dropout': 0.7429473870229784,\n",
      "    'embedding_dropout': 0.6245064097537141,\n",
      "    'embedding_size': 300,\n",
      "    'freeze_embeddings': False,\n",
      "    'input_vocab_size': 6899,\n",
      "    'output_vocab_size': 1703,\n",
      "    'rnn_cell': 'lstm',\n",
      "    'rnn_dropout': 0.6380513403291778,\n",
      "    'rnn_layers': 2,\n",
      "    'rnn_size': 316,\n",
      "    'rnn_variational_dropout': 0.7249879786877806}\n",
      "[2020-11-21 21:09:17,701][MainProcess][lib.configurable][INFO] seq_encoder.SeqEncoder.__init__ no config for: lib.nn.seq_encoder.SeqEncoder.__init__\n",
      "[2020-11-21 21:09:17,703][MainProcess][lib.configurable][INFO] seq_encoder.SeqEncoder.__init__ was configured with:\n",
      "{   'bidirectional': False,\n",
      "    'embedding_dropout': 0.6245064097537141,\n",
      "    'embedding_size': 300,\n",
      "    'freeze_embeddings': False,\n",
      "    'n_layers': 2,\n",
      "    'rnn_cell': 'lstm',\n",
      "    'rnn_dropout': 0.6380513403291778,\n",
      "    'rnn_size': 316,\n",
      "    'rnn_variational_dropout': 0.7249879786877806,\n",
      "    'vocab_size': 6899}\n",
      "[2020-11-21 21:09:17,893][MainProcess][lib.configurable][INFO] adam.Adam.__init__ was configured with:\n",
      "{'amsgrad': True, 'params': <filter object at 0x7f3c2cb152b0>}\n",
      "[2020-11-21 21:09:17,894][MainProcess][lib.configurable][INFO] adam.Adam.__init__ was configured with:\n",
      "{'amsgrad': True, 'params': <filter object at 0x7f3c2cb152b0>}\n",
      "[2020-11-21 21:09:17,896][MainProcess][lib.configurable][INFO] optimizer.Optimizer.__init__ was configured with:\n",
      "{   'max_grad_norm': 0.9697753624576563,\n",
      "    'optim': <lib.optim.adam.Adam object at 0x7f3c2cb15978>}\n",
      "[2020-11-21 21:09:17,897][MainProcess][__main__][INFO] Epochs: 1\n",
      "[2020-11-21 21:09:17,898][MainProcess][__main__][INFO] Train Dataset Size: 75900\n",
      "[2020-11-21 21:09:17,898][MainProcess][__main__][INFO] Dev Dataset Size: 10845\n",
      "[2020-11-21 21:09:17,899][MainProcess][__main__][INFO] Train Batch Size: 32\n",
      "[2020-11-21 21:09:17,900][MainProcess][__main__][INFO] Train Max Batch Size: 1024\n",
      "[2020-11-21 21:09:17,900][MainProcess][__main__][INFO] Total Parameters: 4292883\n",
      "[2020-11-21 21:09:17,901][MainProcess][__main__][INFO] Model:\n",
      "SeqToLabel(\n",
      "  (encoder): SeqEncoder(\n",
      "    (embedding): Embedding(6899, 300, padding_idx=0)\n",
      "    (rnn): LSTM(300, 316, num_layers=2, dropout=0.7249879786877806)\n",
      "    (rnn_dropout): LockedDropout(p=0.6380513403291778)\n",
      "    (embedding_dropout): Dropout(p=0.6245064097537141)\n",
      "  )\n",
      "  (out): Sequential(\n",
      "    (0): Linear(in_features=316, out_features=316, bias=True)\n",
      "    (1): BatchNorm1d(316, eps=1e-05, momentum=0.1, affine=True)\n",
      "    (2): ReLU()\n",
      "    (3): Dropout(p=0.7429473870229784)\n",
      "    (4): Linear(in_features=316, out_features=1703, bias=True)\n",
      "  )\n",
      ")\n",
      "[2020-11-21 21:09:17,902][MainProcess][__main__][INFO] Epoch: 0\n",
      "[2020-11-21 21:09:17,902][MainProcess][__main__][INFO] Training...\n"
     ]
    },
    {
     "name": "stderr",
     "output_type": "stream",
     "text": [
      "/mount/arbeitsdaten46/projekte/dialog-1/kanjurva/Simple-QA-EMNLP-2018/venv2/lib/python3.6/site-packages/ipykernel_launcher.py:57: TqdmDeprecationWarning: This function will be removed in tqdm==5.0.0\n",
      "Please use `tqdm.notebook.tqdm` instead of `tqdm.tqdm_notebook`\n"
     ]
    },
    {
     "data": {
      "application/vnd.jupyter.widget-view+json": {
       "model_id": "d0145e64dad44e8395154c3a45ac2509",
       "version_major": 2,
       "version_minor": 0
      },
      "text/plain": [
       "HBox(children=(HTML(value=''), FloatProgress(value=0.0, max=2371.0), HTML(value='')))"
      ]
     },
     "metadata": {},
     "output_type": "display_data"
    },
    {
     "name": "stdout",
     "output_type": "stream",
     "text": [
      "\n",
      "[2020-11-21 21:09:40,508][MainProcess][lib.checkpoint][INFO] Saving checkpoint: ../../experiments/relation_classifier.11_21_20:05:46/80730.pt\n"
     ]
    },
    {
     "name": "stderr",
     "output_type": "stream",
     "text": [
      "/mount/arbeitsdaten46/projekte/dialog-1/kanjurva/Simple-QA-EMNLP-2018/venv2/lib/python3.6/site-packages/ipykernel_launcher.py:13: TqdmDeprecationWarning: This function will be removed in tqdm==5.0.0\n",
      "Please use `tqdm.notebook.tqdm` instead of `tqdm.tqdm_notebook`\n",
      "  del sys.path[0]\n"
     ]
    },
    {
     "data": {
      "application/vnd.jupyter.widget-view+json": {
       "model_id": "6880c438951d4878bc302ed1e7dd5531",
       "version_major": 2,
       "version_minor": 0
      },
      "text/plain": [
       "HBox(children=(HTML(value=''), FloatProgress(value=0.0, max=2.0), HTML(value='')))"
      ]
     },
     "metadata": {},
     "output_type": "display_data"
    },
    {
     "name": "stdout",
     "output_type": "stream",
     "text": [
      "\n",
      "[2020-11-21 21:09:43,237][MainProcess][__main__][INFO] NLLLoss: 0.956\n",
      "[2020-11-21 21:09:43,304][MainProcess][lib.metrics.accuracy][INFO] Accuracy: 0.7552490234375 [6187 of 8192]\n"
     ]
    },
    {
     "name": "stderr",
     "output_type": "stream",
     "text": [
      "\r",
      "  8%|▊         | 81.11111111111124/1000.0 [54:11<6:10:02, 24.16s/it, min_score=-.858, models_evaluated=0]"
     ]
    },
    {
     "name": "stdout",
     "output_type": "stream",
     "text": [
      "––––––––––––––––––––––––––––––––––––––––––––––––––––––––––––––––––––––––––––––––––––––––––––––––––––\n",
      "====================================================================================================\n",
      "[2020-11-21 21:09:43,354][MainProcess][lib.configurable][INFO] Checking configuration...\n",
      "[2020-11-21 21:09:43,355][MainProcess][lib.configurable][INFO] Configuration checked.\n",
      "[2020-11-21 21:09:43,356][MainProcess][lib.configurable][INFO] seq_to_label.SeqToLabel.__init__ was configured with:\n",
      "{   'bidirectional': True,\n",
      "    'decode_dropout': 0.6464779363929288,\n",
      "    'embedding_dropout': 0.34912697478333016,\n",
      "    'embedding_size': 300,\n",
      "    'freeze_embeddings': True,\n",
      "    'input_vocab_size': 6899,\n",
      "    'output_vocab_size': 1703,\n",
      "    'rnn_cell': 'gru',\n",
      "    'rnn_dropout': 0.4121832977908714,\n",
      "    'rnn_layers': 1,\n",
      "    'rnn_size': 394,\n",
      "    'rnn_variational_dropout': 0.09295961658586765}\n",
      "[2020-11-21 21:09:43,357][MainProcess][lib.configurable][INFO] seq_encoder.SeqEncoder.__init__ no config for: lib.nn.seq_encoder.SeqEncoder.__init__\n",
      "[2020-11-21 21:09:43,358][MainProcess][lib.configurable][INFO] seq_encoder.SeqEncoder.__init__ was configured with:\n",
      "{   'bidirectional': True,\n",
      "    'embedding_dropout': 0.34912697478333016,\n",
      "    'embedding_size': 300,\n",
      "    'freeze_embeddings': True,\n",
      "    'n_layers': 1,\n",
      "    'rnn_cell': 'gru',\n",
      "    'rnn_dropout': 0.4121832977908714,\n",
      "    'rnn_size': 394,\n",
      "    'rnn_variational_dropout': 0.09295961658586765,\n",
      "    'vocab_size': 6899}\n",
      "[2020-11-21 21:09:43,541][MainProcess][lib.configurable][INFO] adam.Adam.__init__ was configured with:\n",
      "{'amsgrad': True, 'params': <filter object at 0x7f3ca2195240>}\n",
      "[2020-11-21 21:09:43,543][MainProcess][lib.configurable][INFO] adam.Adam.__init__ was configured with:\n",
      "{'amsgrad': True, 'params': <filter object at 0x7f3ca2195240>}\n",
      "[2020-11-21 21:09:43,544][MainProcess][lib.configurable][INFO] optimizer.Optimizer.__init__ was configured with:\n",
      "{   'max_grad_norm': 2.6159413866570396,\n",
      "    'optim': <lib.optim.adam.Adam object at 0x7f3ca2195f98>}\n",
      "[2020-11-21 21:09:43,545][MainProcess][__main__][INFO] Epochs: 1\n",
      "[2020-11-21 21:09:43,546][MainProcess][__main__][INFO] Train Dataset Size: 75900\n",
      "[2020-11-21 21:09:43,548][MainProcess][__main__][INFO] Dev Dataset Size: 10845\n",
      "[2020-11-21 21:09:43,549][MainProcess][__main__][INFO] Train Batch Size: 32\n",
      "[2020-11-21 21:09:43,549][MainProcess][__main__][INFO] Train Max Batch Size: 1024\n",
      "[2020-11-21 21:09:43,550][MainProcess][__main__][INFO] Total Parameters: 1418921\n",
      "[2020-11-21 21:09:43,551][MainProcess][__main__][INFO] Model:\n",
      "SeqToLabel(\n",
      "  (encoder): SeqEncoder(\n",
      "    (embedding): Embedding(6899, 300, padding_idx=0)\n",
      "    (rnn): GRU(300, 197, dropout=0.09295961658586765, bidirectional=True)\n",
      "    (rnn_dropout): LockedDropout(p=0.4121832977908714)\n",
      "    (embedding_dropout): Dropout(p=0.34912697478333016)\n",
      "  )\n",
      "  (out): Sequential(\n",
      "    (0): Linear(in_features=394, out_features=394, bias=True)\n",
      "    (1): BatchNorm1d(394, eps=1e-05, momentum=0.1, affine=True)\n",
      "    (2): ReLU()\n",
      "    (3): Dropout(p=0.6464779363929288)\n",
      "    (4): Linear(in_features=394, out_features=1703, bias=True)\n",
      "  )\n",
      ")\n",
      "[2020-11-21 21:09:43,551][MainProcess][__main__][INFO] Epoch: 0\n",
      "[2020-11-21 21:09:43,552][MainProcess][__main__][INFO] Training...\n"
     ]
    },
    {
     "name": "stderr",
     "output_type": "stream",
     "text": [
      "/mount/arbeitsdaten46/projekte/dialog-1/kanjurva/Simple-QA-EMNLP-2018/venv2/lib/python3.6/site-packages/ipykernel_launcher.py:57: TqdmDeprecationWarning: This function will be removed in tqdm==5.0.0\n",
      "Please use `tqdm.notebook.tqdm` instead of `tqdm.tqdm_notebook`\n"
     ]
    },
    {
     "data": {
      "application/vnd.jupyter.widget-view+json": {
       "model_id": "07e1dc99348340ebbb1cb2bd2a7bc431",
       "version_major": 2,
       "version_minor": 0
      },
      "text/plain": [
       "HBox(children=(HTML(value=''), FloatProgress(value=0.0, max=2371.0), HTML(value='')))"
      ]
     },
     "metadata": {},
     "output_type": "display_data"
    },
    {
     "name": "stdout",
     "output_type": "stream",
     "text": [
      "\n",
      "[2020-11-21 21:10:03,580][MainProcess][lib.checkpoint][INFO] Saving checkpoint: ../../experiments/relation_classifier.11_21_20:05:46/80753.pt\n"
     ]
    },
    {
     "name": "stderr",
     "output_type": "stream",
     "text": [
      "/mount/arbeitsdaten46/projekte/dialog-1/kanjurva/Simple-QA-EMNLP-2018/venv2/lib/python3.6/site-packages/ipykernel_launcher.py:13: TqdmDeprecationWarning: This function will be removed in tqdm==5.0.0\n",
      "Please use `tqdm.notebook.tqdm` instead of `tqdm.tqdm_notebook`\n",
      "  del sys.path[0]\n"
     ]
    },
    {
     "data": {
      "application/vnd.jupyter.widget-view+json": {
       "model_id": "594e35c88f7e42a8905bada8c805272a",
       "version_major": 2,
       "version_minor": 0
      },
      "text/plain": [
       "HBox(children=(HTML(value=''), FloatProgress(value=0.0, max=2.0), HTML(value='')))"
      ]
     },
     "metadata": {},
     "output_type": "display_data"
    },
    {
     "name": "stdout",
     "output_type": "stream",
     "text": [
      "\n",
      "[2020-11-21 21:10:07,179][MainProcess][__main__][INFO] NLLLoss: 0.699\n",
      "[2020-11-21 21:10:07,239][MainProcess][lib.metrics.accuracy][INFO] Accuracy: 0.838134765625 [6866 of 8192]\n"
     ]
    },
    {
     "name": "stderr",
     "output_type": "stream",
     "text": [
      "\r",
      "  8%|▊         | 82.22222222222236/1000.0 [54:35<5:57:31, 23.37s/it, min_score=-.858, models_evaluated=0]"
     ]
    },
    {
     "name": "stdout",
     "output_type": "stream",
     "text": [
      "––––––––––––––––––––––––––––––––––––––––––––––––––––––––––––––––––––––––––––––––––––––––––––––––––––\n",
      "====================================================================================================\n",
      "[2020-11-21 21:10:07,279][MainProcess][lib.configurable][INFO] Checking configuration...\n",
      "[2020-11-21 21:10:07,280][MainProcess][lib.configurable][INFO] Configuration checked.\n",
      "[2020-11-21 21:10:07,281][MainProcess][lib.configurable][INFO] seq_to_label.SeqToLabel.__init__ was configured with:\n",
      "{   'bidirectional': False,\n",
      "    'decode_dropout': 0.23555474604078888,\n",
      "    'embedding_dropout': 0.3400759438631127,\n",
      "    'embedding_size': 300,\n",
      "    'freeze_embeddings': True,\n",
      "    'input_vocab_size': 6899,\n",
      "    'output_vocab_size': 1703,\n",
      "    'rnn_cell': 'gru',\n",
      "    'rnn_dropout': 0.7030952127500919,\n",
      "    'rnn_layers': 1,\n",
      "    'rnn_size': 366,\n",
      "    'rnn_variational_dropout': 0.7921394678329655}\n",
      "[2020-11-21 21:10:07,282][MainProcess][lib.configurable][INFO] seq_encoder.SeqEncoder.__init__ no config for: lib.nn.seq_encoder.SeqEncoder.__init__\n",
      "[2020-11-21 21:10:07,283][MainProcess][lib.configurable][INFO] seq_encoder.SeqEncoder.__init__ was configured with:\n",
      "{   'bidirectional': False,\n",
      "    'embedding_dropout': 0.3400759438631127,\n",
      "    'embedding_size': 300,\n",
      "    'freeze_embeddings': True,\n",
      "    'n_layers': 1,\n",
      "    'rnn_cell': 'gru',\n",
      "    'rnn_dropout': 0.7030952127500919,\n",
      "    'rnn_size': 366,\n",
      "    'rnn_variational_dropout': 0.7921394678329655,\n",
      "    'vocab_size': 6899}\n",
      "[2020-11-21 21:10:07,460][MainProcess][lib.configurable][INFO] adam.Adam.__init__ was configured with:\n",
      "{'amsgrad': True, 'params': <filter object at 0x7f3c2c9219e8>}\n",
      "[2020-11-21 21:10:07,461][MainProcess][lib.configurable][INFO] adam.Adam.__init__ was configured with:\n",
      "{'amsgrad': True, 'params': <filter object at 0x7f3c2c9219e8>}\n",
      "[2020-11-21 21:10:07,463][MainProcess][lib.configurable][INFO] optimizer.Optimizer.__init__ was configured with:\n",
      "{   'max_grad_norm': 4.377538138583807,\n",
      "    'optim': <lib.optim.adam.Adam object at 0x7f3c2c9215f8>}\n",
      "[2020-11-21 21:10:07,464][MainProcess][__main__][INFO] Epochs: 1\n",
      "[2020-11-21 21:10:07,464][MainProcess][__main__][INFO] Train Dataset Size: 75900\n",
      "[2020-11-21 21:10:07,465][MainProcess][__main__][INFO] Dev Dataset Size: 10845\n",
      "[2020-11-21 21:10:07,466][MainProcess][__main__][INFO] Train Batch Size: 32\n",
      "[2020-11-21 21:10:07,466][MainProcess][__main__][INFO] Train Max Batch Size: 1024\n",
      "[2020-11-21 21:10:07,467][MainProcess][__main__][INFO] Total Parameters: 1493519\n",
      "[2020-11-21 21:10:07,468][MainProcess][__main__][INFO] Model:\n",
      "SeqToLabel(\n",
      "  (encoder): SeqEncoder(\n",
      "    (embedding): Embedding(6899, 300, padding_idx=0)\n",
      "    (rnn): GRU(300, 366, dropout=0.7921394678329655)\n",
      "    (rnn_dropout): LockedDropout(p=0.7030952127500919)\n",
      "    (embedding_dropout): Dropout(p=0.3400759438631127)\n",
      "  )\n",
      "  (out): Sequential(\n",
      "    (0): Linear(in_features=366, out_features=366, bias=True)\n",
      "    (1): BatchNorm1d(366, eps=1e-05, momentum=0.1, affine=True)\n",
      "    (2): ReLU()\n",
      "    (3): Dropout(p=0.23555474604078888)\n",
      "    (4): Linear(in_features=366, out_features=1703, bias=True)\n",
      "  )\n",
      ")\n",
      "[2020-11-21 21:10:07,468][MainProcess][__main__][INFO] Epoch: 0\n",
      "[2020-11-21 21:10:07,469][MainProcess][__main__][INFO] Training...\n"
     ]
    },
    {
     "name": "stderr",
     "output_type": "stream",
     "text": [
      "/mount/arbeitsdaten46/projekte/dialog-1/kanjurva/Simple-QA-EMNLP-2018/venv2/lib/python3.6/site-packages/ipykernel_launcher.py:57: TqdmDeprecationWarning: This function will be removed in tqdm==5.0.0\n",
      "Please use `tqdm.notebook.tqdm` instead of `tqdm.tqdm_notebook`\n"
     ]
    },
    {
     "data": {
      "application/vnd.jupyter.widget-view+json": {
       "model_id": "0921476fddc64ca79ceb6dc2b8103e6b",
       "version_major": 2,
       "version_minor": 0
      },
      "text/plain": [
       "HBox(children=(HTML(value=''), FloatProgress(value=0.0, max=2371.0), HTML(value='')))"
      ]
     },
     "metadata": {},
     "output_type": "display_data"
    },
    {
     "name": "stdout",
     "output_type": "stream",
     "text": [
      "\n",
      "[2020-11-21 21:10:23,704][MainProcess][lib.checkpoint][INFO] Saving checkpoint: ../../experiments/relation_classifier.11_21_20:05:46/80773.pt\n"
     ]
    },
    {
     "name": "stderr",
     "output_type": "stream",
     "text": [
      "/mount/arbeitsdaten46/projekte/dialog-1/kanjurva/Simple-QA-EMNLP-2018/venv2/lib/python3.6/site-packages/ipykernel_launcher.py:13: TqdmDeprecationWarning: This function will be removed in tqdm==5.0.0\n",
      "Please use `tqdm.notebook.tqdm` instead of `tqdm.tqdm_notebook`\n",
      "  del sys.path[0]\n"
     ]
    },
    {
     "data": {
      "application/vnd.jupyter.widget-view+json": {
       "model_id": "f8f8378c01aa408b8f37fd411bb09b19",
       "version_major": 2,
       "version_minor": 0
      },
      "text/plain": [
       "HBox(children=(HTML(value=''), FloatProgress(value=0.0, max=2.0), HTML(value='')))"
      ]
     },
     "metadata": {},
     "output_type": "display_data"
    },
    {
     "name": "stdout",
     "output_type": "stream",
     "text": [
      "\n",
      "[2020-11-21 21:10:26,387][MainProcess][__main__][INFO] NLLLoss: 0.582\n",
      "[2020-11-21 21:10:26,443][MainProcess][lib.metrics.accuracy][INFO] Accuracy: 0.84814453125 [6948 of 8192]\n"
     ]
    },
    {
     "name": "stderr",
     "output_type": "stream",
     "text": [
      "\r",
      "  8%|▊         | 83.33333333333347/1000.0 [54:54<5:29:09, 21.55s/it, min_score=-.858, models_evaluated=0]"
     ]
    },
    {
     "name": "stdout",
     "output_type": "stream",
     "text": [
      "––––––––––––––––––––––––––––––––––––––––––––––––––––––––––––––––––––––––––––––––––––––––––––––––––––\n",
      "====================================================================================================\n",
      "[2020-11-21 21:10:26,478][MainProcess][lib.configurable][INFO] Checking configuration...\n",
      "[2020-11-21 21:10:26,480][MainProcess][lib.configurable][INFO] Configuration checked.\n",
      "[2020-11-21 21:10:26,481][MainProcess][lib.configurable][INFO] seq_to_label.SeqToLabel.__init__ was configured with:\n",
      "{   'bidirectional': False,\n",
      "    'decode_dropout': 0.5443602191422557,\n",
      "    'embedding_dropout': 0.612350963936672,\n",
      "    'embedding_size': 300,\n",
      "    'freeze_embeddings': False,\n",
      "    'input_vocab_size': 6899,\n",
      "    'output_vocab_size': 1703,\n",
      "    'rnn_cell': 'gru',\n",
      "    'rnn_dropout': 0.6598361138943714,\n",
      "    'rnn_layers': 3,\n",
      "    'rnn_size': 264,\n",
      "    'rnn_variational_dropout': 0.4861040043003783}\n",
      "[2020-11-21 21:10:26,482][MainProcess][lib.configurable][INFO] seq_encoder.SeqEncoder.__init__ no config for: lib.nn.seq_encoder.SeqEncoder.__init__\n",
      "[2020-11-21 21:10:26,483][MainProcess][lib.configurable][INFO] seq_encoder.SeqEncoder.__init__ was configured with:\n",
      "{   'bidirectional': False,\n",
      "    'embedding_dropout': 0.612350963936672,\n",
      "    'embedding_size': 300,\n",
      "    'freeze_embeddings': False,\n",
      "    'n_layers': 3,\n",
      "    'rnn_cell': 'gru',\n",
      "    'rnn_dropout': 0.6598361138943714,\n",
      "    'rnn_size': 264,\n",
      "    'rnn_variational_dropout': 0.4861040043003783,\n",
      "    'vocab_size': 6899}\n",
      "[2020-11-21 21:10:26,662][MainProcess][lib.configurable][INFO] adam.Adam.__init__ was configured with:\n",
      "{'amsgrad': True, 'params': <filter object at 0x7f3c2f7a01d0>}\n",
      "[2020-11-21 21:10:26,663][MainProcess][lib.configurable][INFO] adam.Adam.__init__ was configured with:\n",
      "{'amsgrad': True, 'params': <filter object at 0x7f3c2f7a01d0>}\n",
      "[2020-11-21 21:10:26,664][MainProcess][lib.configurable][INFO] optimizer.Optimizer.__init__ was configured with:\n",
      "{   'max_grad_norm': 4.233513715095441,\n",
      "    'optim': <lib.optim.adam.Adam object at 0x7f3c2f7a0c50>}\n",
      "[2020-11-21 21:10:26,665][MainProcess][__main__][INFO] Epochs: 1\n",
      "[2020-11-21 21:10:26,666][MainProcess][__main__][INFO] Train Dataset Size: 75900\n",
      "[2020-11-21 21:10:26,667][MainProcess][__main__][INFO] Dev Dataset Size: 10845\n",
      "[2020-11-21 21:10:26,667][MainProcess][__main__][INFO] Train Batch Size: 32\n",
      "[2020-11-21 21:10:26,668][MainProcess][__main__][INFO] Train Max Batch Size: 1024\n",
      "[2020-11-21 21:10:26,669][MainProcess][__main__][INFO] Total Parameters: 3879275\n",
      "[2020-11-21 21:10:26,671][MainProcess][__main__][INFO] Model:\n",
      "SeqToLabel(\n",
      "  (encoder): SeqEncoder(\n",
      "    (embedding): Embedding(6899, 300, padding_idx=0)\n",
      "    (rnn): GRU(300, 264, num_layers=3, dropout=0.4861040043003783)\n",
      "    (rnn_dropout): LockedDropout(p=0.6598361138943714)\n",
      "    (embedding_dropout): Dropout(p=0.612350963936672)\n",
      "  )\n",
      "  (out): Sequential(\n",
      "    (0): Linear(in_features=264, out_features=264, bias=True)\n",
      "    (1): BatchNorm1d(264, eps=1e-05, momentum=0.1, affine=True)\n",
      "    (2): ReLU()\n",
      "    (3): Dropout(p=0.5443602191422557)\n",
      "    (4): Linear(in_features=264, out_features=1703, bias=True)\n",
      "  )\n",
      ")\n",
      "[2020-11-21 21:10:26,671][MainProcess][__main__][INFO] Epoch: 0\n",
      "[2020-11-21 21:10:26,673][MainProcess][__main__][INFO] Training...\n"
     ]
    },
    {
     "name": "stderr",
     "output_type": "stream",
     "text": [
      "/mount/arbeitsdaten46/projekte/dialog-1/kanjurva/Simple-QA-EMNLP-2018/venv2/lib/python3.6/site-packages/ipykernel_launcher.py:57: TqdmDeprecationWarning: This function will be removed in tqdm==5.0.0\n",
      "Please use `tqdm.notebook.tqdm` instead of `tqdm.tqdm_notebook`\n"
     ]
    },
    {
     "data": {
      "application/vnd.jupyter.widget-view+json": {
       "model_id": "be72896a95a2462cadc3eb0c4c476fae",
       "version_major": 2,
       "version_minor": 0
      },
      "text/plain": [
       "HBox(children=(HTML(value=''), FloatProgress(value=0.0, max=2371.0), HTML(value='')))"
      ]
     },
     "metadata": {},
     "output_type": "display_data"
    },
    {
     "name": "stdout",
     "output_type": "stream",
     "text": [
      "\n",
      "[2020-11-21 21:10:52,144][MainProcess][lib.checkpoint][INFO] Saving checkpoint: ../../experiments/relation_classifier.11_21_20:05:46/80801.pt\n"
     ]
    },
    {
     "name": "stderr",
     "output_type": "stream",
     "text": [
      "/mount/arbeitsdaten46/projekte/dialog-1/kanjurva/Simple-QA-EMNLP-2018/venv2/lib/python3.6/site-packages/ipykernel_launcher.py:13: TqdmDeprecationWarning: This function will be removed in tqdm==5.0.0\n",
      "Please use `tqdm.notebook.tqdm` instead of `tqdm.tqdm_notebook`\n",
      "  del sys.path[0]\n"
     ]
    },
    {
     "data": {
      "application/vnd.jupyter.widget-view+json": {
       "model_id": "da9b83afcea34a80813b9e79bf3038c6",
       "version_major": 2,
       "version_minor": 0
      },
      "text/plain": [
       "HBox(children=(HTML(value=''), FloatProgress(value=0.0, max=2.0), HTML(value='')))"
      ]
     },
     "metadata": {},
     "output_type": "display_data"
    },
    {
     "name": "stdout",
     "output_type": "stream",
     "text": [
      "\n",
      "[2020-11-21 21:10:54,180][MainProcess][__main__][INFO] NLLLoss: 0.782\n",
      "[2020-11-21 21:10:54,240][MainProcess][lib.metrics.accuracy][INFO] Accuracy: 0.7996826171875 [6551 of 8192]\n"
     ]
    },
    {
     "name": "stderr",
     "output_type": "stream",
     "text": [
      "\r",
      "  8%|▊         | 84.44444444444458/1000.0 [55:22<5:44:40, 22.59s/it, min_score=-.858, models_evaluated=0]"
     ]
    },
    {
     "name": "stdout",
     "output_type": "stream",
     "text": [
      "––––––––––––––––––––––––––––––––––––––––––––––––––––––––––––––––––––––––––––––––––––––––––––––––––––\n",
      "====================================================================================================\n",
      "[2020-11-21 21:10:54,280][MainProcess][lib.configurable][INFO] Checking configuration...\n",
      "[2020-11-21 21:10:54,283][MainProcess][lib.configurable][INFO] Configuration checked.\n",
      "[2020-11-21 21:10:54,285][MainProcess][lib.configurable][INFO] seq_to_label.SeqToLabel.__init__ was configured with:\n",
      "{   'bidirectional': True,\n",
      "    'decode_dropout': 0.15496909771473838,\n",
      "    'embedding_dropout': 0.5996009308979044,\n",
      "    'embedding_size': 300,\n",
      "    'freeze_embeddings': True,\n",
      "    'input_vocab_size': 6899,\n",
      "    'output_vocab_size': 1703,\n",
      "    'rnn_cell': 'gru',\n",
      "    'rnn_dropout': 0.3148399109756613,\n",
      "    'rnn_layers': 3,\n",
      "    'rnn_size': 236,\n",
      "    'rnn_variational_dropout': 0.7065043915644438}\n",
      "[2020-11-21 21:10:54,285][MainProcess][lib.configurable][INFO] seq_encoder.SeqEncoder.__init__ no config for: lib.nn.seq_encoder.SeqEncoder.__init__\n",
      "[2020-11-21 21:10:54,286][MainProcess][lib.configurable][INFO] seq_encoder.SeqEncoder.__init__ was configured with:\n",
      "{   'bidirectional': True,\n",
      "    'embedding_dropout': 0.5996009308979044,\n",
      "    'embedding_size': 300,\n",
      "    'freeze_embeddings': True,\n",
      "    'n_layers': 3,\n",
      "    'rnn_cell': 'gru',\n",
      "    'rnn_dropout': 0.3148399109756613,\n",
      "    'rnn_size': 236,\n",
      "    'rnn_variational_dropout': 0.7065043915644438,\n",
      "    'vocab_size': 6899}\n",
      "[2020-11-21 21:10:54,460][MainProcess][lib.configurable][INFO] adam.Adam.__init__ was configured with:\n",
      "{'amsgrad': True, 'params': <filter object at 0x7f3c2cb15358>}\n",
      "[2020-11-21 21:10:54,461][MainProcess][lib.configurable][INFO] adam.Adam.__init__ was configured with:\n",
      "{'amsgrad': True, 'params': <filter object at 0x7f3c2cb15358>}\n",
      "[2020-11-21 21:10:54,462][MainProcess][lib.configurable][INFO] optimizer.Optimizer.__init__ was configured with:\n",
      "{   'max_grad_norm': 1.7715600509693472,\n",
      "    'optim': <lib.optim.adam.Adam object at 0x7f3c29c70048>}\n",
      "[2020-11-21 21:10:54,463][MainProcess][__main__][INFO] Epochs: 1\n",
      "[2020-11-21 21:10:54,464][MainProcess][__main__][INFO] Train Dataset Size: 75900\n",
      "[2020-11-21 21:10:54,465][MainProcess][__main__][INFO] Dev Dataset Size: 10845\n",
      "[2020-11-21 21:10:54,466][MainProcess][__main__][INFO] Train Batch Size: 32\n",
      "[2020-11-21 21:10:54,466][MainProcess][__main__][INFO] Train Max Batch Size: 1024\n",
      "[2020-11-21 21:10:54,468][MainProcess][__main__][INFO] Total Parameters: 1261471\n",
      "[2020-11-21 21:10:54,469][MainProcess][__main__][INFO] Model:\n",
      "SeqToLabel(\n",
      "  (encoder): SeqEncoder(\n",
      "    (embedding): Embedding(6899, 300, padding_idx=0)\n",
      "    (rnn): GRU(300, 118, num_layers=3, dropout=0.7065043915644438, bidirectional=True)\n",
      "    (rnn_dropout): LockedDropout(p=0.3148399109756613)\n",
      "    (embedding_dropout): Dropout(p=0.5996009308979044)\n",
      "  )\n",
      "  (out): Sequential(\n",
      "    (0): Linear(in_features=236, out_features=236, bias=True)\n",
      "    (1): BatchNorm1d(236, eps=1e-05, momentum=0.1, affine=True)\n",
      "    (2): ReLU()\n",
      "    (3): Dropout(p=0.15496909771473838)\n",
      "    (4): Linear(in_features=236, out_features=1703, bias=True)\n",
      "  )\n",
      ")\n",
      "[2020-11-21 21:10:54,469][MainProcess][__main__][INFO] Epoch: 0\n",
      "[2020-11-21 21:10:54,470][MainProcess][__main__][INFO] Training...\n"
     ]
    },
    {
     "name": "stderr",
     "output_type": "stream",
     "text": [
      "/mount/arbeitsdaten46/projekte/dialog-1/kanjurva/Simple-QA-EMNLP-2018/venv2/lib/python3.6/site-packages/ipykernel_launcher.py:57: TqdmDeprecationWarning: This function will be removed in tqdm==5.0.0\n",
      "Please use `tqdm.notebook.tqdm` instead of `tqdm.tqdm_notebook`\n"
     ]
    },
    {
     "data": {
      "application/vnd.jupyter.widget-view+json": {
       "model_id": "39dcc943f2e948b48c4e700d143aaa6d",
       "version_major": 2,
       "version_minor": 0
      },
      "text/plain": [
       "HBox(children=(HTML(value=''), FloatProgress(value=0.0, max=2371.0), HTML(value='')))"
      ]
     },
     "metadata": {},
     "output_type": "display_data"
    },
    {
     "name": "stdout",
     "output_type": "stream",
     "text": [
      "\n",
      "[2020-11-21 21:11:28,811][MainProcess][lib.checkpoint][INFO] Saving checkpoint: ../../experiments/relation_classifier.11_21_20:05:46/80838.pt\n"
     ]
    },
    {
     "name": "stderr",
     "output_type": "stream",
     "text": [
      "/mount/arbeitsdaten46/projekte/dialog-1/kanjurva/Simple-QA-EMNLP-2018/venv2/lib/python3.6/site-packages/ipykernel_launcher.py:13: TqdmDeprecationWarning: This function will be removed in tqdm==5.0.0\n",
      "Please use `tqdm.notebook.tqdm` instead of `tqdm.tqdm_notebook`\n",
      "  del sys.path[0]\n"
     ]
    },
    {
     "data": {
      "application/vnd.jupyter.widget-view+json": {
       "model_id": "7db6f67a6ed34c7c91ea270dcf6b5df6",
       "version_major": 2,
       "version_minor": 0
      },
      "text/plain": [
       "HBox(children=(HTML(value=''), FloatProgress(value=0.0, max=2.0), HTML(value='')))"
      ]
     },
     "metadata": {},
     "output_type": "display_data"
    },
    {
     "name": "stdout",
     "output_type": "stream",
     "text": [
      "\n",
      "[2020-11-21 21:11:29,941][MainProcess][__main__][INFO] NLLLoss: 0.679\n",
      "[2020-11-21 21:11:30,000][MainProcess][lib.metrics.accuracy][INFO] Accuracy: 0.8114013671875 [6647 of 8192]\n"
     ]
    },
    {
     "name": "stderr",
     "output_type": "stream",
     "text": [
      "\r",
      "  9%|▊         | 85.5555555555557/1000.0 [55:58<6:28:06, 25.46s/it, min_score=-.858, models_evaluated=0] "
     ]
    },
    {
     "name": "stdout",
     "output_type": "stream",
     "text": [
      "––––––––––––––––––––––––––––––––––––––––––––––––––––––––––––––––––––––––––––––––––––––––––––––––––––\n",
      "====================================================================================================\n",
      "[2020-11-21 21:11:30,032][MainProcess][lib.configurable][INFO] Checking configuration...\n",
      "[2020-11-21 21:11:30,033][MainProcess][lib.configurable][INFO] Configuration checked.\n",
      "[2020-11-21 21:11:30,035][MainProcess][lib.configurable][INFO] seq_to_label.SeqToLabel.__init__ was configured with:\n",
      "{   'bidirectional': True,\n",
      "    'decode_dropout': 0.07018155896637483,\n",
      "    'embedding_dropout': 0.23467352504073763,\n",
      "    'embedding_size': 300,\n",
      "    'freeze_embeddings': True,\n",
      "    'input_vocab_size': 6899,\n",
      "    'output_vocab_size': 1703,\n",
      "    'rnn_cell': 'lstm',\n",
      "    'rnn_dropout': 0.27905210131941377,\n",
      "    'rnn_layers': 2,\n",
      "    'rnn_size': 444,\n",
      "    'rnn_variational_dropout': 0.6341197534098317}\n",
      "[2020-11-21 21:11:30,036][MainProcess][lib.configurable][INFO] seq_encoder.SeqEncoder.__init__ no config for: lib.nn.seq_encoder.SeqEncoder.__init__\n",
      "[2020-11-21 21:11:30,036][MainProcess][lib.configurable][INFO] seq_encoder.SeqEncoder.__init__ was configured with:\n",
      "{   'bidirectional': True,\n",
      "    'embedding_dropout': 0.23467352504073763,\n",
      "    'embedding_size': 300,\n",
      "    'freeze_embeddings': True,\n",
      "    'n_layers': 2,\n",
      "    'rnn_cell': 'lstm',\n",
      "    'rnn_dropout': 0.27905210131941377,\n",
      "    'rnn_size': 444,\n",
      "    'rnn_variational_dropout': 0.6341197534098317,\n",
      "    'vocab_size': 6899}\n",
      "[2020-11-21 21:11:30,251][MainProcess][lib.configurable][INFO] adam.Adam.__init__ was configured with:\n",
      "{'amsgrad': True, 'params': <filter object at 0x7f3c29c70048>}\n",
      "[2020-11-21 21:11:30,252][MainProcess][lib.configurable][INFO] adam.Adam.__init__ was configured with:\n",
      "{'amsgrad': True, 'params': <filter object at 0x7f3c29c70048>}\n",
      "[2020-11-21 21:11:30,253][MainProcess][lib.configurable][INFO] optimizer.Optimizer.__init__ was configured with:\n",
      "{   'max_grad_norm': 0.38818356807325155,\n",
      "    'optim': <lib.optim.adam.Adam object at 0x7f3ca2195240>}\n",
      "[2020-11-21 21:11:30,254][MainProcess][__main__][INFO] Epochs: 1\n",
      "[2020-11-21 21:11:30,255][MainProcess][__main__][INFO] Train Dataset Size: 75900\n",
      "[2020-11-21 21:11:30,255][MainProcess][__main__][INFO] Dev Dataset Size: 10845\n",
      "[2020-11-21 21:11:30,256][MainProcess][__main__][INFO] Train Batch Size: 32\n",
      "[2020-11-21 21:11:30,256][MainProcess][__main__][INFO] Train Max Batch Size: 1024\n",
      "[2020-11-21 21:11:30,257][MainProcess][__main__][INFO] Total Parameters: 3073295\n",
      "[2020-11-21 21:11:30,259][MainProcess][__main__][INFO] Model:\n",
      "SeqToLabel(\n",
      "  (encoder): SeqEncoder(\n",
      "    (embedding): Embedding(6899, 300, padding_idx=0)\n",
      "    (rnn): LSTM(300, 222, num_layers=2, dropout=0.6341197534098317, bidirectional=True)\n",
      "    (rnn_dropout): LockedDropout(p=0.27905210131941377)\n",
      "    (embedding_dropout): Dropout(p=0.23467352504073763)\n",
      "  )\n",
      "  (out): Sequential(\n",
      "    (0): Linear(in_features=444, out_features=444, bias=True)\n",
      "    (1): BatchNorm1d(444, eps=1e-05, momentum=0.1, affine=True)\n",
      "    (2): ReLU()\n",
      "    (3): Dropout(p=0.07018155896637483)\n",
      "    (4): Linear(in_features=444, out_features=1703, bias=True)\n",
      "  )\n",
      ")\n",
      "[2020-11-21 21:11:30,260][MainProcess][__main__][INFO] Epoch: 0\n",
      "[2020-11-21 21:11:30,261][MainProcess][__main__][INFO] Training...\n"
     ]
    },
    {
     "name": "stderr",
     "output_type": "stream",
     "text": [
      "/mount/arbeitsdaten46/projekte/dialog-1/kanjurva/Simple-QA-EMNLP-2018/venv2/lib/python3.6/site-packages/ipykernel_launcher.py:57: TqdmDeprecationWarning: This function will be removed in tqdm==5.0.0\n",
      "Please use `tqdm.notebook.tqdm` instead of `tqdm.tqdm_notebook`\n"
     ]
    },
    {
     "data": {
      "application/vnd.jupyter.widget-view+json": {
       "model_id": "92e704d5f9bd4f43b74d46eaa2fe5f05",
       "version_major": 2,
       "version_minor": 0
      },
      "text/plain": [
       "HBox(children=(HTML(value=''), FloatProgress(value=0.0, max=2371.0), HTML(value='')))"
      ]
     },
     "metadata": {},
     "output_type": "display_data"
    },
    {
     "name": "stdout",
     "output_type": "stream",
     "text": [
      "\n",
      "[2020-11-21 21:12:00,847][MainProcess][lib.checkpoint][INFO] Saving checkpoint: ../../experiments/relation_classifier.11_21_20:05:46/80869.pt\n"
     ]
    },
    {
     "name": "stderr",
     "output_type": "stream",
     "text": [
      "/mount/arbeitsdaten46/projekte/dialog-1/kanjurva/Simple-QA-EMNLP-2018/venv2/lib/python3.6/site-packages/ipykernel_launcher.py:13: TqdmDeprecationWarning: This function will be removed in tqdm==5.0.0\n",
      "Please use `tqdm.notebook.tqdm` instead of `tqdm.tqdm_notebook`\n",
      "  del sys.path[0]\n"
     ]
    },
    {
     "data": {
      "application/vnd.jupyter.widget-view+json": {
       "model_id": "986fbf0e53004db39b45f1f2481c93df",
       "version_major": 2,
       "version_minor": 0
      },
      "text/plain": [
       "HBox(children=(HTML(value=''), FloatProgress(value=0.0, max=2.0), HTML(value='')))"
      ]
     },
     "metadata": {},
     "output_type": "display_data"
    },
    {
     "name": "stdout",
     "output_type": "stream",
     "text": [
      "\n",
      "[2020-11-21 21:12:02,531][MainProcess][__main__][INFO] NLLLoss: 0.575\n",
      "[2020-11-21 21:12:02,590][MainProcess][lib.metrics.accuracy][INFO] Accuracy: 0.84521484375 [6924 of 8192]\n"
     ]
    },
    {
     "name": "stderr",
     "output_type": "stream",
     "text": [
      "\r",
      "  9%|▊         | 86.66666666666681/1000.0 [56:31<6:45:20, 26.63s/it, min_score=-.858, models_evaluated=0]"
     ]
    },
    {
     "name": "stdout",
     "output_type": "stream",
     "text": [
      "––––––––––––––––––––––––––––––––––––––––––––––––––––––––––––––––––––––––––––––––––––––––––––––––––––\n",
      "====================================================================================================\n",
      "[2020-11-21 21:12:02,638][MainProcess][lib.configurable][INFO] Checking configuration...\n",
      "[2020-11-21 21:12:02,639][MainProcess][lib.configurable][INFO] Configuration checked.\n",
      "[2020-11-21 21:12:02,640][MainProcess][lib.configurable][INFO] seq_to_label.SeqToLabel.__init__ was configured with:\n",
      "{   'bidirectional': True,\n",
      "    'decode_dropout': 0.10641169653537777,\n",
      "    'embedding_dropout': 0.7621486470045867,\n",
      "    'embedding_size': 300,\n",
      "    'freeze_embeddings': False,\n",
      "    'input_vocab_size': 6899,\n",
      "    'output_vocab_size': 1703,\n",
      "    'rnn_cell': 'gru',\n",
      "    'rnn_dropout': 0.8653947703197653,\n",
      "    'rnn_layers': 3,\n",
      "    'rnn_size': 282,\n",
      "    'rnn_variational_dropout': 0.746574364521716}\n",
      "[2020-11-21 21:12:02,641][MainProcess][lib.configurable][INFO] seq_encoder.SeqEncoder.__init__ no config for: lib.nn.seq_encoder.SeqEncoder.__init__\n",
      "[2020-11-21 21:12:02,643][MainProcess][lib.configurable][INFO] seq_encoder.SeqEncoder.__init__ was configured with:\n",
      "{   'bidirectional': True,\n",
      "    'embedding_dropout': 0.7621486470045867,\n",
      "    'embedding_size': 300,\n",
      "    'freeze_embeddings': False,\n",
      "    'n_layers': 3,\n",
      "    'rnn_cell': 'gru',\n",
      "    'rnn_dropout': 0.8653947703197653,\n",
      "    'rnn_size': 282,\n",
      "    'rnn_variational_dropout': 0.746574364521716,\n",
      "    'vocab_size': 6899}\n",
      "[2020-11-21 21:12:02,826][MainProcess][lib.configurable][INFO] adam.Adam.__init__ was configured with:\n",
      "{'amsgrad': True, 'params': <filter object at 0x7f3c2ae23a20>}\n",
      "[2020-11-21 21:12:02,828][MainProcess][lib.configurable][INFO] adam.Adam.__init__ was configured with:\n",
      "{'amsgrad': True, 'params': <filter object at 0x7f3c2ae23a20>}\n",
      "[2020-11-21 21:12:02,829][MainProcess][lib.configurable][INFO] optimizer.Optimizer.__init__ was configured with:\n",
      "{   'max_grad_norm': 0.012134313813570443,\n",
      "    'optim': <lib.optim.adam.Adam object at 0x7f3c2ae23198>}\n",
      "[2020-11-21 21:12:02,830][MainProcess][__main__][INFO] Epochs: 1\n",
      "[2020-11-21 21:12:02,833][MainProcess][__main__][INFO] Train Dataset Size: 75900\n",
      "[2020-11-21 21:12:02,833][MainProcess][__main__][INFO] Dev Dataset Size: 10845\n",
      "[2020-11-21 21:12:02,834][MainProcess][__main__][INFO] Train Batch Size: 32\n",
      "[2020-11-21 21:12:02,835][MainProcess][__main__][INFO] Train Max Batch Size: 1024\n",
      "[2020-11-21 21:12:02,835][MainProcess][__main__][INFO] Total Parameters: 3725897\n",
      "[2020-11-21 21:12:02,837][MainProcess][__main__][INFO] Model:\n",
      "SeqToLabel(\n",
      "  (encoder): SeqEncoder(\n",
      "    (embedding): Embedding(6899, 300, padding_idx=0)\n",
      "    (rnn): GRU(300, 141, num_layers=3, dropout=0.746574364521716, bidirectional=True)\n",
      "    (rnn_dropout): LockedDropout(p=0.8653947703197653)\n",
      "    (embedding_dropout): Dropout(p=0.7621486470045867)\n",
      "  )\n",
      "  (out): Sequential(\n",
      "    (0): Linear(in_features=282, out_features=282, bias=True)\n",
      "    (1): BatchNorm1d(282, eps=1e-05, momentum=0.1, affine=True)\n",
      "    (2): ReLU()\n",
      "    (3): Dropout(p=0.10641169653537777)\n",
      "    (4): Linear(in_features=282, out_features=1703, bias=True)\n",
      "  )\n",
      ")\n",
      "[2020-11-21 21:12:02,838][MainProcess][__main__][INFO] Epoch: 0\n",
      "[2020-11-21 21:12:02,839][MainProcess][__main__][INFO] Training...\n"
     ]
    },
    {
     "name": "stderr",
     "output_type": "stream",
     "text": [
      "/mount/arbeitsdaten46/projekte/dialog-1/kanjurva/Simple-QA-EMNLP-2018/venv2/lib/python3.6/site-packages/ipykernel_launcher.py:57: TqdmDeprecationWarning: This function will be removed in tqdm==5.0.0\n",
      "Please use `tqdm.notebook.tqdm` instead of `tqdm.tqdm_notebook`\n"
     ]
    },
    {
     "data": {
      "application/vnd.jupyter.widget-view+json": {
       "model_id": "5c5ee8fdc3e14114810ea926602ceaea",
       "version_major": 2,
       "version_minor": 0
      },
      "text/plain": [
       "HBox(children=(HTML(value=''), FloatProgress(value=0.0, max=2371.0), HTML(value='')))"
      ]
     },
     "metadata": {},
     "output_type": "display_data"
    },
    {
     "name": "stdout",
     "output_type": "stream",
     "text": [
      "\n",
      "[2020-11-21 21:12:39,288][MainProcess][lib.checkpoint][INFO] Saving checkpoint: ../../experiments/relation_classifier.11_21_20:05:46/80909.pt\n"
     ]
    },
    {
     "name": "stderr",
     "output_type": "stream",
     "text": [
      "/mount/arbeitsdaten46/projekte/dialog-1/kanjurva/Simple-QA-EMNLP-2018/venv2/lib/python3.6/site-packages/ipykernel_launcher.py:13: TqdmDeprecationWarning: This function will be removed in tqdm==5.0.0\n",
      "Please use `tqdm.notebook.tqdm` instead of `tqdm.tqdm_notebook`\n",
      "  del sys.path[0]\n"
     ]
    },
    {
     "data": {
      "application/vnd.jupyter.widget-view+json": {
       "model_id": "e1ffd44947754461a9e5fd9ea48e843c",
       "version_major": 2,
       "version_minor": 0
      },
      "text/plain": [
       "HBox(children=(HTML(value=''), FloatProgress(value=0.0, max=2.0), HTML(value='')))"
      ]
     },
     "metadata": {},
     "output_type": "display_data"
    },
    {
     "name": "stdout",
     "output_type": "stream",
     "text": [
      "\n",
      "[2020-11-21 21:12:41,190][MainProcess][__main__][INFO] NLLLoss: 0.678\n",
      "[2020-11-21 21:12:41,249][MainProcess][lib.metrics.accuracy][INFO] Accuracy: 0.7977294921875 [6535 of 8192]\n"
     ]
    },
    {
     "name": "stderr",
     "output_type": "stream",
     "text": [
      "\r",
      "  9%|▉         | 87.77777777777793/1000.0 [57:09<7:22:04, 29.08s/it, min_score=-.858, models_evaluated=0]"
     ]
    },
    {
     "name": "stdout",
     "output_type": "stream",
     "text": [
      "––––––––––––––––––––––––––––––––––––––––––––––––––––––––––––––––––––––––––––––––––––––––––––––––––––\n",
      "====================================================================================================\n",
      "[2020-11-21 21:12:41,293][MainProcess][lib.configurable][INFO] Checking configuration...\n",
      "[2020-11-21 21:12:41,294][MainProcess][lib.configurable][INFO] Configuration checked.\n",
      "[2020-11-21 21:12:41,296][MainProcess][lib.configurable][INFO] seq_to_label.SeqToLabel.__init__ was configured with:\n",
      "{   'bidirectional': False,\n",
      "    'decode_dropout': 0.7235660933052179,\n",
      "    'embedding_dropout': 0.27737988918765877,\n",
      "    'embedding_size': 300,\n",
      "    'freeze_embeddings': True,\n",
      "    'input_vocab_size': 6899,\n",
      "    'output_vocab_size': 1703,\n",
      "    'rnn_cell': 'lstm',\n",
      "    'rnn_dropout': 0.34295518982539325,\n",
      "    'rnn_layers': 2,\n",
      "    'rnn_size': 458,\n",
      "    'rnn_variational_dropout': 0.7103732461633168}\n",
      "[2020-11-21 21:12:41,296][MainProcess][lib.configurable][INFO] seq_encoder.SeqEncoder.__init__ no config for: lib.nn.seq_encoder.SeqEncoder.__init__\n",
      "[2020-11-21 21:12:41,297][MainProcess][lib.configurable][INFO] seq_encoder.SeqEncoder.__init__ was configured with:\n",
      "{   'bidirectional': False,\n",
      "    'embedding_dropout': 0.27737988918765877,\n",
      "    'embedding_size': 300,\n",
      "    'freeze_embeddings': True,\n",
      "    'n_layers': 2,\n",
      "    'rnn_cell': 'lstm',\n",
      "    'rnn_dropout': 0.34295518982539325,\n",
      "    'rnn_size': 458,\n",
      "    'rnn_variational_dropout': 0.7103732461633168,\n",
      "    'vocab_size': 6899}\n",
      "[2020-11-21 21:12:41,528][MainProcess][lib.configurable][INFO] adam.Adam.__init__ was configured with:\n",
      "{'amsgrad': True, 'params': <filter object at 0x7f3c29198e10>}\n",
      "[2020-11-21 21:12:41,529][MainProcess][lib.configurable][INFO] adam.Adam.__init__ was configured with:\n",
      "{'amsgrad': True, 'params': <filter object at 0x7f3c29198e10>}\n",
      "[2020-11-21 21:12:41,531][MainProcess][lib.configurable][INFO] optimizer.Optimizer.__init__ was configured with:\n",
      "{   'max_grad_norm': 2.4699549605598183,\n",
      "    'optim': <lib.optim.adam.Adam object at 0x7f3c2fac7b70>}\n",
      "[2020-11-21 21:12:41,532][MainProcess][__main__][INFO] Epochs: 1\n",
      "[2020-11-21 21:12:41,533][MainProcess][__main__][INFO] Train Dataset Size: 75900\n",
      "[2020-11-21 21:12:41,534][MainProcess][__main__][INFO] Dev Dataset Size: 10845\n",
      "[2020-11-21 21:12:41,534][MainProcess][__main__][INFO] Train Batch Size: 32\n",
      "[2020-11-21 21:12:41,535][MainProcess][__main__][INFO] Train Max Batch Size: 1024\n",
      "[2020-11-21 21:12:41,535][MainProcess][__main__][INFO] Total Parameters: 4066911\n",
      "[2020-11-21 21:12:41,536][MainProcess][__main__][INFO] Model:\n",
      "SeqToLabel(\n",
      "  (encoder): SeqEncoder(\n",
      "    (embedding): Embedding(6899, 300, padding_idx=0)\n",
      "    (rnn): LSTM(300, 458, num_layers=2, dropout=0.7103732461633168)\n",
      "    (rnn_dropout): LockedDropout(p=0.34295518982539325)\n",
      "    (embedding_dropout): Dropout(p=0.27737988918765877)\n",
      "  )\n",
      "  (out): Sequential(\n",
      "    (0): Linear(in_features=458, out_features=458, bias=True)\n",
      "    (1): BatchNorm1d(458, eps=1e-05, momentum=0.1, affine=True)\n",
      "    (2): ReLU()\n",
      "    (3): Dropout(p=0.7235660933052179)\n",
      "    (4): Linear(in_features=458, out_features=1703, bias=True)\n",
      "  )\n",
      ")\n",
      "[2020-11-21 21:12:41,537][MainProcess][__main__][INFO] Epoch: 0\n",
      "[2020-11-21 21:12:41,537][MainProcess][__main__][INFO] Training...\n"
     ]
    },
    {
     "name": "stderr",
     "output_type": "stream",
     "text": [
      "/mount/arbeitsdaten46/projekte/dialog-1/kanjurva/Simple-QA-EMNLP-2018/venv2/lib/python3.6/site-packages/ipykernel_launcher.py:57: TqdmDeprecationWarning: This function will be removed in tqdm==5.0.0\n",
      "Please use `tqdm.notebook.tqdm` instead of `tqdm.tqdm_notebook`\n"
     ]
    },
    {
     "data": {
      "application/vnd.jupyter.widget-view+json": {
       "model_id": "9c4b922027484a39856364d722f9c4a3",
       "version_major": 2,
       "version_minor": 0
      },
      "text/plain": [
       "HBox(children=(HTML(value=''), FloatProgress(value=0.0, max=2371.0), HTML(value='')))"
      ]
     },
     "metadata": {},
     "output_type": "display_data"
    },
    {
     "name": "stdout",
     "output_type": "stream",
     "text": [
      "\n",
      "[2020-11-21 21:13:05,104][MainProcess][lib.checkpoint][INFO] Saving checkpoint: ../../experiments/relation_classifier.11_21_20:05:46/80934.pt\n"
     ]
    },
    {
     "name": "stderr",
     "output_type": "stream",
     "text": [
      "/mount/arbeitsdaten46/projekte/dialog-1/kanjurva/Simple-QA-EMNLP-2018/venv2/lib/python3.6/site-packages/ipykernel_launcher.py:13: TqdmDeprecationWarning: This function will be removed in tqdm==5.0.0\n",
      "Please use `tqdm.notebook.tqdm` instead of `tqdm.tqdm_notebook`\n",
      "  del sys.path[0]\n"
     ]
    },
    {
     "data": {
      "application/vnd.jupyter.widget-view+json": {
       "model_id": "2c42f689dc6d41f0863d7dc9136b5102",
       "version_major": 2,
       "version_minor": 0
      },
      "text/plain": [
       "HBox(children=(HTML(value=''), FloatProgress(value=0.0, max=2.0), HTML(value='')))"
      ]
     },
     "metadata": {},
     "output_type": "display_data"
    },
    {
     "name": "stdout",
     "output_type": "stream",
     "text": [
      "\n",
      "[2020-11-21 21:13:06,994][MainProcess][__main__][INFO] NLLLoss: 0.867\n",
      "[2020-11-21 21:13:07,054][MainProcess][lib.metrics.accuracy][INFO] Accuracy: 0.7939453125 [6504 of 8192]\n"
     ]
    },
    {
     "name": "stderr",
     "output_type": "stream",
     "text": [
      "\r",
      "  9%|▉         | 88.88888888888904/1000.0 [57:35<6:54:54, 27.32s/it, min_score=-.858, models_evaluated=0]"
     ]
    },
    {
     "name": "stdout",
     "output_type": "stream",
     "text": [
      "––––––––––––––––––––––––––––––––––––––––––––––––––––––––––––––––––––––––––––––––––––––––––––––––––––\n",
      "====================================================================================================\n",
      "[2020-11-21 21:13:07,106][MainProcess][lib.configurable][INFO] Checking configuration...\n",
      "[2020-11-21 21:13:07,108][MainProcess][lib.configurable][INFO] Configuration checked.\n",
      "[2020-11-21 21:13:07,110][MainProcess][lib.configurable][INFO] seq_to_label.SeqToLabel.__init__ was configured with:\n",
      "{   'bidirectional': False,\n",
      "    'decode_dropout': 0.8044857279901126,\n",
      "    'embedding_dropout': 0.1505807797091822,\n",
      "    'embedding_size': 300,\n",
      "    'freeze_embeddings': False,\n",
      "    'input_vocab_size': 6899,\n",
      "    'output_vocab_size': 1703,\n",
      "    'rnn_cell': 'gru',\n",
      "    'rnn_dropout': 0.4468314838379695,\n",
      "    'rnn_layers': 1,\n",
      "    'rnn_size': 254,\n",
      "    'rnn_variational_dropout': 0.6012993647348795}\n",
      "[2020-11-21 21:13:07,112][MainProcess][lib.configurable][INFO] seq_encoder.SeqEncoder.__init__ no config for: lib.nn.seq_encoder.SeqEncoder.__init__\n",
      "[2020-11-21 21:13:07,113][MainProcess][lib.configurable][INFO] seq_encoder.SeqEncoder.__init__ was configured with:\n",
      "{   'bidirectional': False,\n",
      "    'embedding_dropout': 0.1505807797091822,\n",
      "    'embedding_size': 300,\n",
      "    'freeze_embeddings': False,\n",
      "    'n_layers': 1,\n",
      "    'rnn_cell': 'gru',\n",
      "    'rnn_dropout': 0.4468314838379695,\n",
      "    'rnn_size': 254,\n",
      "    'rnn_variational_dropout': 0.6012993647348795,\n",
      "    'vocab_size': 6899}\n",
      "[2020-11-21 21:13:07,280][MainProcess][lib.configurable][INFO] adam.Adam.__init__ was configured with:\n",
      "{'amsgrad': True, 'params': <filter object at 0x7f3c2cb15358>}\n",
      "[2020-11-21 21:13:07,281][MainProcess][lib.configurable][INFO] adam.Adam.__init__ was configured with:\n",
      "{'amsgrad': True, 'params': <filter object at 0x7f3c2cb15358>}\n",
      "[2020-11-21 21:13:07,282][MainProcess][lib.configurable][INFO] optimizer.Optimizer.__init__ was configured with:\n",
      "{   'max_grad_norm': 0.9468582948993362,\n",
      "    'optim': <lib.optim.adam.Adam object at 0x7f3c2cb156a0>}\n",
      "[2020-11-21 21:13:07,283][MainProcess][__main__][INFO] Epochs: 1\n",
      "[2020-11-21 21:13:07,284][MainProcess][__main__][INFO] Train Dataset Size: 75900\n",
      "[2020-11-21 21:13:07,284][MainProcess][__main__][INFO] Dev Dataset Size: 10845\n",
      "[2020-11-21 21:13:07,285][MainProcess][__main__][INFO] Train Batch Size: 32\n",
      "[2020-11-21 21:13:07,285][MainProcess][__main__][INFO] Train Max Batch Size: 1024\n",
      "[2020-11-21 21:13:07,286][MainProcess][__main__][INFO] Total Parameters: 2992915\n",
      "[2020-11-21 21:13:07,287][MainProcess][__main__][INFO] Model:\n",
      "SeqToLabel(\n",
      "  (encoder): SeqEncoder(\n",
      "    (embedding): Embedding(6899, 300, padding_idx=0)\n",
      "    (rnn): GRU(300, 254, dropout=0.6012993647348795)\n",
      "    (rnn_dropout): LockedDropout(p=0.4468314838379695)\n",
      "    (embedding_dropout): Dropout(p=0.1505807797091822)\n",
      "  )\n",
      "  (out): Sequential(\n",
      "    (0): Linear(in_features=254, out_features=254, bias=True)\n",
      "    (1): BatchNorm1d(254, eps=1e-05, momentum=0.1, affine=True)\n",
      "    (2): ReLU()\n",
      "    (3): Dropout(p=0.8044857279901126)\n",
      "    (4): Linear(in_features=254, out_features=1703, bias=True)\n",
      "  )\n",
      ")\n",
      "[2020-11-21 21:13:07,287][MainProcess][__main__][INFO] Epoch: 0\n",
      "[2020-11-21 21:13:07,289][MainProcess][__main__][INFO] Training...\n"
     ]
    },
    {
     "name": "stderr",
     "output_type": "stream",
     "text": [
      "/mount/arbeitsdaten46/projekte/dialog-1/kanjurva/Simple-QA-EMNLP-2018/venv2/lib/python3.6/site-packages/ipykernel_launcher.py:57: TqdmDeprecationWarning: This function will be removed in tqdm==5.0.0\n",
      "Please use `tqdm.notebook.tqdm` instead of `tqdm.tqdm_notebook`\n"
     ]
    },
    {
     "data": {
      "application/vnd.jupyter.widget-view+json": {
       "model_id": "73f486daa24c42078d44856eeeeaa8f9",
       "version_major": 2,
       "version_minor": 0
      },
      "text/plain": [
       "HBox(children=(HTML(value=''), FloatProgress(value=0.0, max=2371.0), HTML(value='')))"
      ]
     },
     "metadata": {},
     "output_type": "display_data"
    },
    {
     "name": "stdout",
     "output_type": "stream",
     "text": [
      "\n",
      "[2020-11-21 21:13:24,776][MainProcess][lib.checkpoint][INFO] Saving checkpoint: ../../experiments/relation_classifier.11_21_20:05:46/80954.pt\n"
     ]
    },
    {
     "name": "stderr",
     "output_type": "stream",
     "text": [
      "/mount/arbeitsdaten46/projekte/dialog-1/kanjurva/Simple-QA-EMNLP-2018/venv2/lib/python3.6/site-packages/ipykernel_launcher.py:13: TqdmDeprecationWarning: This function will be removed in tqdm==5.0.0\n",
      "Please use `tqdm.notebook.tqdm` instead of `tqdm.tqdm_notebook`\n",
      "  del sys.path[0]\n"
     ]
    },
    {
     "data": {
      "application/vnd.jupyter.widget-view+json": {
       "model_id": "a881904cb23049b4937957bc98887976",
       "version_major": 2,
       "version_minor": 0
      },
      "text/plain": [
       "HBox(children=(HTML(value=''), FloatProgress(value=0.0, max=2.0), HTML(value='')))"
      ]
     },
     "metadata": {},
     "output_type": "display_data"
    },
    {
     "name": "stdout",
     "output_type": "stream",
     "text": [
      "\n",
      "[2020-11-21 21:13:26,117][MainProcess][__main__][INFO] NLLLoss: 0.966\n",
      "[2020-11-21 21:13:26,179][MainProcess][lib.metrics.accuracy][INFO] Accuracy: 0.7923583984375 [6491 of 8192]\n"
     ]
    },
    {
     "name": "stderr",
     "output_type": "stream",
     "text": [
      "\r",
      "  9%|▉         | 90.00000000000016/1000.0 [57:54<6:08:20, 24.29s/it, min_score=-.858, models_evaluated=0]"
     ]
    },
    {
     "name": "stdout",
     "output_type": "stream",
     "text": [
      "––––––––––––––––––––––––––––––––––––––––––––––––––––––––––––––––––––––––––––––––––––––––––––––––––––\n",
      "====================================================================================================\n",
      "[2020-11-21 21:13:26,216][MainProcess][lib.configurable][INFO] Checking configuration...\n",
      "[2020-11-21 21:13:26,217][MainProcess][lib.configurable][INFO] Configuration checked.\n",
      "[2020-11-21 21:13:26,220][MainProcess][lib.configurable][INFO] seq_to_label.SeqToLabel.__init__ was configured with:\n",
      "{   'bidirectional': True,\n",
      "    'decode_dropout': 0.1845747630318394,\n",
      "    'embedding_dropout': 0.16667700791626458,\n",
      "    'embedding_size': 300,\n",
      "    'freeze_embeddings': False,\n",
      "    'input_vocab_size': 6899,\n",
      "    'output_vocab_size': 1703,\n",
      "    'rnn_cell': 'gru',\n",
      "    'rnn_dropout': 0.49984624505914,\n",
      "    'rnn_layers': 1,\n",
      "    'rnn_size': 340,\n",
      "    'rnn_variational_dropout': 0.30506873629916886}\n",
      "[2020-11-21 21:13:26,221][MainProcess][lib.configurable][INFO] seq_encoder.SeqEncoder.__init__ no config for: lib.nn.seq_encoder.SeqEncoder.__init__\n",
      "[2020-11-21 21:13:26,222][MainProcess][lib.configurable][INFO] seq_encoder.SeqEncoder.__init__ was configured with:\n",
      "{   'bidirectional': True,\n",
      "    'embedding_dropout': 0.16667700791626458,\n",
      "    'embedding_size': 300,\n",
      "    'freeze_embeddings': False,\n",
      "    'n_layers': 1,\n",
      "    'rnn_cell': 'gru',\n",
      "    'rnn_dropout': 0.49984624505914,\n",
      "    'rnn_size': 340,\n",
      "    'rnn_variational_dropout': 0.30506873629916886,\n",
      "    'vocab_size': 6899}\n",
      "[2020-11-21 21:13:26,414][MainProcess][lib.configurable][INFO] adam.Adam.__init__ was configured with:\n",
      "{'amsgrad': True, 'params': <filter object at 0x7f3c29198588>}\n",
      "[2020-11-21 21:13:26,415][MainProcess][lib.configurable][INFO] adam.Adam.__init__ was configured with:\n",
      "{'amsgrad': True, 'params': <filter object at 0x7f3c29198588>}\n",
      "[2020-11-21 21:13:26,416][MainProcess][lib.configurable][INFO] optimizer.Optimizer.__init__ was configured with:\n",
      "{   'max_grad_norm': 3.512629819558801,\n",
      "    'optim': <lib.optim.adam.Adam object at 0x7f3c2cb15358>}\n",
      "[2020-11-21 21:13:26,417][MainProcess][__main__][INFO] Epochs: 1\n",
      "[2020-11-21 21:13:26,418][MainProcess][__main__][INFO] Train Dataset Size: 75900\n",
      "[2020-11-21 21:13:26,419][MainProcess][__main__][INFO] Dev Dataset Size: 10845\n",
      "[2020-11-21 21:13:26,420][MainProcess][__main__][INFO] Train Batch Size: 32\n",
      "[2020-11-21 21:13:26,420][MainProcess][__main__][INFO] Train Max Batch Size: 1024\n",
      "[2020-11-21 21:13:26,421][MainProcess][__main__][INFO] Total Parameters: 3248483\n",
      "[2020-11-21 21:13:26,422][MainProcess][__main__][INFO] Model:\n",
      "SeqToLabel(\n",
      "  (encoder): SeqEncoder(\n",
      "    (embedding): Embedding(6899, 300, padding_idx=0)\n",
      "    (rnn): GRU(300, 170, dropout=0.30506873629916886, bidirectional=True)\n",
      "    (rnn_dropout): LockedDropout(p=0.49984624505914)\n",
      "    (embedding_dropout): Dropout(p=0.16667700791626458)\n",
      "  )\n",
      "  (out): Sequential(\n",
      "    (0): Linear(in_features=340, out_features=340, bias=True)\n",
      "    (1): BatchNorm1d(340, eps=1e-05, momentum=0.1, affine=True)\n",
      "    (2): ReLU()\n",
      "    (3): Dropout(p=0.1845747630318394)\n",
      "    (4): Linear(in_features=340, out_features=1703, bias=True)\n",
      "  )\n",
      ")\n",
      "[2020-11-21 21:13:26,423][MainProcess][__main__][INFO] Epoch: 0\n",
      "[2020-11-21 21:13:26,424][MainProcess][__main__][INFO] Training...\n"
     ]
    },
    {
     "name": "stderr",
     "output_type": "stream",
     "text": [
      "/mount/arbeitsdaten46/projekte/dialog-1/kanjurva/Simple-QA-EMNLP-2018/venv2/lib/python3.6/site-packages/ipykernel_launcher.py:57: TqdmDeprecationWarning: This function will be removed in tqdm==5.0.0\n",
      "Please use `tqdm.notebook.tqdm` instead of `tqdm.tqdm_notebook`\n"
     ]
    },
    {
     "data": {
      "application/vnd.jupyter.widget-view+json": {
       "model_id": "f4834cae75a64918b0ff7cc309884bf1",
       "version_major": 2,
       "version_minor": 0
      },
      "text/plain": [
       "HBox(children=(HTML(value=''), FloatProgress(value=0.0, max=2371.0), HTML(value='')))"
      ]
     },
     "metadata": {},
     "output_type": "display_data"
    },
    {
     "name": "stdout",
     "output_type": "stream",
     "text": [
      "\n",
      "[2020-11-21 21:13:47,794][MainProcess][lib.checkpoint][INFO] Saving checkpoint: ../../experiments/relation_classifier.11_21_20:05:46/80977.pt\n"
     ]
    },
    {
     "name": "stderr",
     "output_type": "stream",
     "text": [
      "/mount/arbeitsdaten46/projekte/dialog-1/kanjurva/Simple-QA-EMNLP-2018/venv2/lib/python3.6/site-packages/ipykernel_launcher.py:13: TqdmDeprecationWarning: This function will be removed in tqdm==5.0.0\n",
      "Please use `tqdm.notebook.tqdm` instead of `tqdm.tqdm_notebook`\n",
      "  del sys.path[0]\n"
     ]
    },
    {
     "data": {
      "application/vnd.jupyter.widget-view+json": {
       "model_id": "fe463cd537c54851962c57f442569e9b",
       "version_major": 2,
       "version_minor": 0
      },
      "text/plain": [
       "HBox(children=(HTML(value=''), FloatProgress(value=0.0, max=2.0), HTML(value='')))"
      ]
     },
     "metadata": {},
     "output_type": "display_data"
    },
    {
     "name": "stdout",
     "output_type": "stream",
     "text": [
      "\n",
      "[2020-11-21 21:13:49,299][MainProcess][__main__][INFO] NLLLoss: 0.552\n",
      "[2020-11-21 21:13:49,357][MainProcess][lib.metrics.accuracy][INFO] Accuracy: 0.857666015625 [7026 of 8192]\n"
     ]
    },
    {
     "name": "stderr",
     "output_type": "stream",
     "text": [
      "\r",
      "  9%|▉         | 91.11111111111127/1000.0 [58:17<5:52:18, 23.26s/it, min_score=-.858, models_evaluated=0]"
     ]
    },
    {
     "name": "stdout",
     "output_type": "stream",
     "text": [
      "––––––––––––––––––––––––––––––––––––––––––––––––––––––––––––––––––––––––––––––––––––––––––––––––––––\n",
      "====================================================================================================\n",
      "[2020-11-21 21:13:49,390][MainProcess][lib.configurable][INFO] Checking configuration...\n",
      "[2020-11-21 21:13:49,392][MainProcess][lib.configurable][INFO] Configuration checked.\n",
      "[2020-11-21 21:13:49,393][MainProcess][lib.configurable][INFO] seq_to_label.SeqToLabel.__init__ was configured with:\n",
      "{   'bidirectional': True,\n",
      "    'decode_dropout': 0.6157429847181819,\n",
      "    'embedding_dropout': 0.06210384144126345,\n",
      "    'embedding_size': 300,\n",
      "    'freeze_embeddings': False,\n",
      "    'input_vocab_size': 6899,\n",
      "    'output_vocab_size': 1703,\n",
      "    'rnn_cell': 'gru',\n",
      "    'rnn_dropout': 0.3366455929066865,\n",
      "    'rnn_layers': 3,\n",
      "    'rnn_size': 122,\n",
      "    'rnn_variational_dropout': 0.09853358512688129}\n",
      "[2020-11-21 21:13:49,394][MainProcess][lib.configurable][INFO] seq_encoder.SeqEncoder.__init__ no config for: lib.nn.seq_encoder.SeqEncoder.__init__\n",
      "[2020-11-21 21:13:49,395][MainProcess][lib.configurable][INFO] seq_encoder.SeqEncoder.__init__ was configured with:\n",
      "{   'bidirectional': True,\n",
      "    'embedding_dropout': 0.06210384144126345,\n",
      "    'embedding_size': 300,\n",
      "    'freeze_embeddings': False,\n",
      "    'n_layers': 3,\n",
      "    'rnn_cell': 'gru',\n",
      "    'rnn_dropout': 0.3366455929066865,\n",
      "    'rnn_size': 122,\n",
      "    'rnn_variational_dropout': 0.09853358512688129,\n",
      "    'vocab_size': 6899}\n",
      "[2020-11-21 21:13:49,555][MainProcess][lib.configurable][INFO] adam.Adam.__init__ was configured with:\n",
      "{'amsgrad': True, 'params': <filter object at 0x7f3c9fe284e0>}\n",
      "[2020-11-21 21:13:49,557][MainProcess][lib.configurable][INFO] adam.Adam.__init__ was configured with:\n",
      "{'amsgrad': True, 'params': <filter object at 0x7f3c9fe284e0>}\n",
      "[2020-11-21 21:13:49,559][MainProcess][lib.configurable][INFO] optimizer.Optimizer.__init__ was configured with:\n",
      "{   'max_grad_norm': 3.457628135240816,\n",
      "    'optim': <lib.optim.adam.Adam object at 0x7f3c308d7320>}\n",
      "[2020-11-21 21:13:49,560][MainProcess][__main__][INFO] Epochs: 1\n",
      "[2020-11-21 21:13:49,561][MainProcess][__main__][INFO] Train Dataset Size: 75900\n",
      "[2020-11-21 21:13:49,562][MainProcess][__main__][INFO] Dev Dataset Size: 10845\n",
      "[2020-11-21 21:13:49,563][MainProcess][__main__][INFO] Train Batch Size: 32\n",
      "[2020-11-21 21:13:49,563][MainProcess][__main__][INFO] Train Max Batch Size: 1024\n",
      "[2020-11-21 21:13:49,564][MainProcess][__main__][INFO] Total Parameters: 2562697\n",
      "[2020-11-21 21:13:49,566][MainProcess][__main__][INFO] Model:\n",
      "SeqToLabel(\n",
      "  (encoder): SeqEncoder(\n",
      "    (embedding): Embedding(6899, 300, padding_idx=0)\n",
      "    (rnn): GRU(300, 61, num_layers=3, dropout=0.09853358512688129, bidirectional=True)\n",
      "    (rnn_dropout): LockedDropout(p=0.3366455929066865)\n",
      "    (embedding_dropout): Dropout(p=0.06210384144126345)\n",
      "  )\n",
      "  (out): Sequential(\n",
      "    (0): Linear(in_features=122, out_features=122, bias=True)\n",
      "    (1): BatchNorm1d(122, eps=1e-05, momentum=0.1, affine=True)\n",
      "    (2): ReLU()\n",
      "    (3): Dropout(p=0.6157429847181819)\n",
      "    (4): Linear(in_features=122, out_features=1703, bias=True)\n",
      "  )\n",
      ")\n",
      "[2020-11-21 21:13:49,567][MainProcess][__main__][INFO] Epoch: 0\n",
      "[2020-11-21 21:13:49,568][MainProcess][__main__][INFO] Training...\n"
     ]
    },
    {
     "name": "stderr",
     "output_type": "stream",
     "text": [
      "/mount/arbeitsdaten46/projekte/dialog-1/kanjurva/Simple-QA-EMNLP-2018/venv2/lib/python3.6/site-packages/ipykernel_launcher.py:57: TqdmDeprecationWarning: This function will be removed in tqdm==5.0.0\n",
      "Please use `tqdm.notebook.tqdm` instead of `tqdm.tqdm_notebook`\n"
     ]
    },
    {
     "data": {
      "application/vnd.jupyter.widget-view+json": {
       "model_id": "3e70838d40904bda8ad05312229aa69b",
       "version_major": 2,
       "version_minor": 0
      },
      "text/plain": [
       "HBox(children=(HTML(value=''), FloatProgress(value=0.0, max=2371.0), HTML(value='')))"
      ]
     },
     "metadata": {},
     "output_type": "display_data"
    },
    {
     "name": "stdout",
     "output_type": "stream",
     "text": [
      "\n",
      "[2020-11-21 21:16:07,056][MainProcess][lib.checkpoint][INFO] Saving checkpoint: ../../experiments/relation_classifier.11_21_20:05:46/81116.pt\n"
     ]
    },
    {
     "name": "stderr",
     "output_type": "stream",
     "text": [
      "/mount/arbeitsdaten46/projekte/dialog-1/kanjurva/Simple-QA-EMNLP-2018/venv2/lib/python3.6/site-packages/ipykernel_launcher.py:13: TqdmDeprecationWarning: This function will be removed in tqdm==5.0.0\n",
      "Please use `tqdm.notebook.tqdm` instead of `tqdm.tqdm_notebook`\n",
      "  del sys.path[0]\n"
     ]
    },
    {
     "data": {
      "application/vnd.jupyter.widget-view+json": {
       "model_id": "48868f143db740f4af5b04bc9c993c4f",
       "version_major": 2,
       "version_minor": 0
      },
      "text/plain": [
       "HBox(children=(HTML(value=''), FloatProgress(value=0.0, max=2.0), HTML(value='')))"
      ]
     },
     "metadata": {},
     "output_type": "display_data"
    },
    {
     "name": "stdout",
     "output_type": "stream",
     "text": [
      "\n",
      "[2020-11-21 21:16:09,506][MainProcess][__main__][INFO] NLLLoss: 0.816\n",
      "[2020-11-21 21:16:09,563][MainProcess][lib.metrics.accuracy][INFO] Accuracy: 0.8153076171875 [6679 of 8192]\n"
     ]
    },
    {
     "name": "stderr",
     "output_type": "stream",
     "text": [
      "  9%|▉         | 92.22222222222238/1000.0 [1:00:38<13:39:02, 54.13s/it, min_score=-.858, models_evaluated=55]"
     ]
    },
    {
     "name": "stdout",
     "output_type": "stream",
     "text": [
      "––––––––––––––––––––––––––––––––––––––––––––––––––––––––––––––––––––––––––––––––––––––––––––––––––––\n",
      "====================================================================================================\n",
      "[2020-11-21 21:16:09,594][MainProcess][lib.configurable][INFO] Checking configuration...\n",
      "[2020-11-21 21:16:09,595][MainProcess][lib.configurable][INFO] Configuration checked.\n",
      "[2020-11-21 21:16:09,596][MainProcess][lib.checkpoint][INFO] Loading checkpoints from ../../experiments/relation_classifier.11_21_20:05:46/80397.pt onto device 0\n",
      "[2020-11-21 21:16:09,722][MainProcess][__main__][INFO] Epochs: 2\n",
      "[2020-11-21 21:16:09,723][MainProcess][__main__][INFO] Train Dataset Size: 75900\n",
      "[2020-11-21 21:16:09,725][MainProcess][__main__][INFO] Dev Dataset Size: 10845\n",
      "[2020-11-21 21:16:09,726][MainProcess][__main__][INFO] Train Batch Size: 32\n",
      "[2020-11-21 21:16:09,727][MainProcess][__main__][INFO] Train Max Batch Size: 1024\n",
      "[2020-11-21 21:16:09,728][MainProcess][__main__][INFO] Total Parameters: 4033523\n",
      "[2020-11-21 21:16:09,729][MainProcess][__main__][INFO] Model:\n",
      "SeqToLabel(\n",
      "  (encoder): SeqEncoder(\n",
      "    (embedding): Embedding(6899, 300, padding_idx=0)\n",
      "    (rnn): LSTM(300, 166, num_layers=2, dropout=0.26953343187028944, bidirectional=True)\n",
      "    (rnn_dropout): LockedDropout(p=0.4354494568099671)\n",
      "    (embedding_dropout): Dropout(p=0.17292333663111237)\n",
      "  )\n",
      "  (out): Sequential(\n",
      "    (0): Linear(in_features=332, out_features=332, bias=True)\n",
      "    (1): BatchNorm1d(332, eps=1e-05, momentum=0.1, affine=True)\n",
      "    (2): ReLU()\n",
      "    (3): Dropout(p=0.2883984593195552)\n",
      "    (4): Linear(in_features=332, out_features=1703, bias=True)\n",
      "  )\n",
      ")\n",
      "[2020-11-21 21:16:09,730][MainProcess][__main__][INFO] Epoch: 0\n",
      "[2020-11-21 21:16:09,732][MainProcess][__main__][INFO] Training...\n"
     ]
    },
    {
     "data": {
      "application/vnd.jupyter.widget-view+json": {
       "model_id": "eb2730aa1a804b15b40aa1df116cb2c5",
       "version_major": 2,
       "version_minor": 0
      },
      "text/plain": [
       "HBox(children=(HTML(value=''), FloatProgress(value=0.0, max=2371.0), HTML(value='')))"
      ]
     },
     "metadata": {},
     "output_type": "display_data"
    },
    {
     "name": "stderr",
     "output_type": "stream",
     "text": [
      "../../lib/nn/seq_encoder.py:107: UserWarning: RNN module weights are not part of single contiguous chunk of memory. This means they need to be compacted at every call, possibly greatly increasing memory usage. To compact weights again call flatten_parameters().\n",
      "  output, hidden = self.rnn(embedded)\n"
     ]
    },
    {
     "name": "stdout",
     "output_type": "stream",
     "text": [
      "\n",
      "[2020-11-21 21:18:20,371][MainProcess][lib.checkpoint][INFO] Saving checkpoint: ../../experiments/relation_classifier.11_21_20:05:46/81250.pt\n"
     ]
    },
    {
     "data": {
      "application/vnd.jupyter.widget-view+json": {
       "model_id": "c3f0909fedff4ea598d0ae7bf493865a",
       "version_major": 2,
       "version_minor": 0
      },
      "text/plain": [
       "HBox(children=(HTML(value=''), FloatProgress(value=0.0, max=2.0), HTML(value='')))"
      ]
     },
     "metadata": {},
     "output_type": "display_data"
    },
    {
     "name": "stdout",
     "output_type": "stream",
     "text": [
      "\n",
      "[2020-11-21 21:18:22,601][MainProcess][__main__][INFO] NLLLoss: 0.498\n",
      "[2020-11-21 21:18:22,659][MainProcess][lib.metrics.accuracy][INFO] Accuracy: 0.865966796875 [7094 of 8192]\n",
      "––––––––––––––––––––––––––––––––––––––––––––––––––––––––––––––––––––––––––––––––––––––––––––––––––––\n",
      "[2020-11-21 21:18:22,667][MainProcess][__main__][INFO] Epoch: 1\n",
      "[2020-11-21 21:18:22,668][MainProcess][__main__][INFO] Training...\n"
     ]
    },
    {
     "data": {
      "application/vnd.jupyter.widget-view+json": {
       "model_id": "7d84681928154d59824e14c41dc5293b",
       "version_major": 2,
       "version_minor": 0
      },
      "text/plain": [
       "HBox(children=(HTML(value=''), FloatProgress(value=0.0, max=2371.0), HTML(value='')))"
      ]
     },
     "metadata": {},
     "output_type": "display_data"
    },
    {
     "name": "stdout",
     "output_type": "stream",
     "text": [
      "\n",
      "[2020-11-21 21:20:09,939][MainProcess][lib.checkpoint][INFO] Saving checkpoint: ../../experiments/relation_classifier.11_21_20:05:46/81359.pt\n"
     ]
    },
    {
     "data": {
      "application/vnd.jupyter.widget-view+json": {
       "model_id": "516bb9bcc59e430b96b198b4954d4d8e",
       "version_major": 2,
       "version_minor": 0
      },
      "text/plain": [
       "HBox(children=(HTML(value=''), FloatProgress(value=0.0, max=2.0), HTML(value='')))"
      ]
     },
     "metadata": {},
     "output_type": "display_data"
    },
    {
     "name": "stdout",
     "output_type": "stream",
     "text": [
      "\n",
      "[2020-11-21 21:20:12,251][MainProcess][__main__][INFO] NLLLoss: 0.466\n",
      "[2020-11-21 21:20:12,306][MainProcess][lib.metrics.accuracy][INFO] Accuracy: 0.880615234375 [7214 of 8192]\n"
     ]
    },
    {
     "name": "stderr",
     "output_type": "stream",
     "text": [
      "  9%|▉         | 94.44444444444461/1000.0 [1:04:40<17:46:32, 70.67s/it, min_score=-.881, models_evaluated=55]"
     ]
    },
    {
     "name": "stdout",
     "output_type": "stream",
     "text": [
      "––––––––––––––––––––––––––––––––––––––––––––––––––––––––––––––––––––––––––––––––––––––––––––––––––––\n",
      "====================================================================================================\n",
      "[2020-11-21 21:20:12,353][MainProcess][lib.configurable][INFO] Checking configuration...\n",
      "[2020-11-21 21:20:12,355][MainProcess][lib.configurable][INFO] Configuration checked.\n",
      "[2020-11-21 21:20:12,356][MainProcess][lib.checkpoint][INFO] Loading checkpoints from ../../experiments/relation_classifier.11_21_20:05:46/80977.pt onto device 0\n",
      "[2020-11-21 21:20:12,508][MainProcess][__main__][INFO] Epochs: 2\n",
      "[2020-11-21 21:20:12,509][MainProcess][__main__][INFO] Train Dataset Size: 75900\n",
      "[2020-11-21 21:20:12,510][MainProcess][__main__][INFO] Dev Dataset Size: 10845\n",
      "[2020-11-21 21:20:12,511][MainProcess][__main__][INFO] Train Batch Size: 32\n",
      "[2020-11-21 21:20:12,511][MainProcess][__main__][INFO] Train Max Batch Size: 1024\n",
      "[2020-11-21 21:20:12,512][MainProcess][__main__][INFO] Total Parameters: 3248483\n",
      "[2020-11-21 21:20:12,513][MainProcess][__main__][INFO] Model:\n",
      "SeqToLabel(\n",
      "  (encoder): SeqEncoder(\n",
      "    (embedding): Embedding(6899, 300, padding_idx=0)\n",
      "    (rnn): GRU(300, 170, dropout=0.30506873629916886, bidirectional=True)\n",
      "    (rnn_dropout): LockedDropout(p=0.49984624505914)\n",
      "    (embedding_dropout): Dropout(p=0.16667700791626458)\n",
      "  )\n",
      "  (out): Sequential(\n",
      "    (0): Linear(in_features=340, out_features=340, bias=True)\n",
      "    (1): BatchNorm1d(340, eps=1e-05, momentum=0.1, affine=True)\n",
      "    (2): ReLU()\n",
      "    (3): Dropout(p=0.1845747630318394)\n",
      "    (4): Linear(in_features=340, out_features=1703, bias=True)\n",
      "  )\n",
      ")\n",
      "[2020-11-21 21:20:12,515][MainProcess][__main__][INFO] Epoch: 0\n",
      "[2020-11-21 21:20:12,515][MainProcess][__main__][INFO] Training...\n"
     ]
    },
    {
     "data": {
      "application/vnd.jupyter.widget-view+json": {
       "model_id": "fa7b95545f2b4b78bb7893174a52f3f9",
       "version_major": 2,
       "version_minor": 0
      },
      "text/plain": [
       "HBox(children=(HTML(value=''), FloatProgress(value=0.0, max=2371.0), HTML(value='')))"
      ]
     },
     "metadata": {},
     "output_type": "display_data"
    },
    {
     "name": "stdout",
     "output_type": "stream",
     "text": [
      "\n",
      "[2020-11-21 21:21:17,027][MainProcess][lib.checkpoint][INFO] Saving checkpoint: ../../experiments/relation_classifier.11_21_20:05:46/81426.pt\n"
     ]
    },
    {
     "data": {
      "application/vnd.jupyter.widget-view+json": {
       "model_id": "4af8db5dce0746699cefc59347e01e39",
       "version_major": 2,
       "version_minor": 0
      },
      "text/plain": [
       "HBox(children=(HTML(value=''), FloatProgress(value=0.0, max=2.0), HTML(value='')))"
      ]
     },
     "metadata": {},
     "output_type": "display_data"
    },
    {
     "name": "stdout",
     "output_type": "stream",
     "text": [
      "\n",
      "[2020-11-21 21:21:18,793][MainProcess][__main__][INFO] NLLLoss: 0.470\n",
      "[2020-11-21 21:21:18,850][MainProcess][lib.metrics.accuracy][INFO] Accuracy: 0.869384765625 [7122 of 8192]\n",
      "––––––––––––––––––––––––––––––––––––––––––––––––––––––––––––––––––––––––––––––––––––––––––––––––––––\n",
      "[2020-11-21 21:21:18,858][MainProcess][__main__][INFO] Epoch: 1\n",
      "[2020-11-21 21:21:18,859][MainProcess][__main__][INFO] Training...\n"
     ]
    },
    {
     "data": {
      "application/vnd.jupyter.widget-view+json": {
       "model_id": "4daa7f0098754d56a0cb2e7e5a3ea60e",
       "version_major": 2,
       "version_minor": 0
      },
      "text/plain": [
       "HBox(children=(HTML(value=''), FloatProgress(value=0.0, max=2371.0), HTML(value='')))"
      ]
     },
     "metadata": {},
     "output_type": "display_data"
    },
    {
     "name": "stdout",
     "output_type": "stream",
     "text": [
      "\n",
      "[2020-11-21 21:22:45,237][MainProcess][lib.checkpoint][INFO] Saving checkpoint: ../../experiments/relation_classifier.11_21_20:05:46/81514.pt\n"
     ]
    },
    {
     "data": {
      "application/vnd.jupyter.widget-view+json": {
       "model_id": "a5ea1fd6d8dd475fb2ffc15d0c6d60c4",
       "version_major": 2,
       "version_minor": 0
      },
      "text/plain": [
       "HBox(children=(HTML(value=''), FloatProgress(value=0.0, max=2.0), HTML(value='')))"
      ]
     },
     "metadata": {},
     "output_type": "display_data"
    },
    {
     "name": "stdout",
     "output_type": "stream",
     "text": [
      "\n",
      "[2020-11-21 21:22:46,830][MainProcess][__main__][INFO] NLLLoss: 0.456\n",
      "[2020-11-21 21:22:46,885][MainProcess][lib.metrics.accuracy][INFO] Accuracy: 0.8790283203125 [7201 of 8192]\n"
     ]
    },
    {
     "name": "stderr",
     "output_type": "stream",
     "text": [
      "\r",
      " 10%|▉         | 96.66666666666684/1000.0 [1:07:15<17:38:55, 70.33s/it, min_score=-.881, models_evaluated=55]"
     ]
    },
    {
     "name": "stdout",
     "output_type": "stream",
     "text": [
      "––––––––––––––––––––––––––––––––––––––––––––––––––––––––––––––––––––––––––––––––––––––––––––––––––––\n",
      "====================================================================================================\n",
      "[2020-11-21 21:22:46,929][MainProcess][lib.configurable][INFO] Checking configuration...\n",
      "[2020-11-21 21:22:46,931][MainProcess][lib.configurable][INFO] Configuration checked.\n",
      "[2020-11-21 21:22:46,932][MainProcess][lib.checkpoint][INFO] Loading checkpoints from ../../experiments/relation_classifier.11_21_20:05:46/80075.pt onto device 0\n",
      "[2020-11-21 21:22:47,062][MainProcess][__main__][INFO] Epochs: 2\n",
      "[2020-11-21 21:22:47,063][MainProcess][__main__][INFO] Train Dataset Size: 75900\n",
      "[2020-11-21 21:22:47,064][MainProcess][__main__][INFO] Dev Dataset Size: 10845\n",
      "[2020-11-21 21:22:47,065][MainProcess][__main__][INFO] Train Batch Size: 32\n",
      "[2020-11-21 21:22:47,065][MainProcess][__main__][INFO] Train Max Batch Size: 1024\n",
      "[2020-11-21 21:22:47,066][MainProcess][__main__][INFO] Total Parameters: 1674895\n",
      "[2020-11-21 21:22:47,067][MainProcess][__main__][INFO] Model:\n",
      "SeqToLabel(\n",
      "  (encoder): SeqEncoder(\n",
      "    (embedding): Embedding(6899, 300, padding_idx=0)\n",
      "    (rnn): GRU(300, 398, dropout=0.014078954309710958)\n",
      "    (rnn_dropout): LockedDropout(p=0.25900830224557775)\n",
      "    (embedding_dropout): Dropout(p=0.29588972200996544)\n",
      "  )\n",
      "  (out): Sequential(\n",
      "    (0): Linear(in_features=398, out_features=398, bias=True)\n",
      "    (1): BatchNorm1d(398, eps=1e-05, momentum=0.1, affine=True)\n",
      "    (2): ReLU()\n",
      "    (3): Dropout(p=0.06297496200573396)\n",
      "    (4): Linear(in_features=398, out_features=1703, bias=True)\n",
      "  )\n",
      ")\n",
      "[2020-11-21 21:22:47,068][MainProcess][__main__][INFO] Epoch: 0\n",
      "[2020-11-21 21:22:47,068][MainProcess][__main__][INFO] Training...\n"
     ]
    },
    {
     "data": {
      "application/vnd.jupyter.widget-view+json": {
       "model_id": "421d4a949ddd4f19a3cda26d03d322ca",
       "version_major": 2,
       "version_minor": 0
      },
      "text/plain": [
       "HBox(children=(HTML(value=''), FloatProgress(value=0.0, max=2371.0), HTML(value='')))"
      ]
     },
     "metadata": {},
     "output_type": "display_data"
    },
    {
     "name": "stdout",
     "output_type": "stream",
     "text": [
      "\n",
      "[2020-11-21 21:23:29,515][MainProcess][lib.checkpoint][INFO] Saving checkpoint: ../../experiments/relation_classifier.11_21_20:05:46/81559.pt\n"
     ]
    },
    {
     "data": {
      "application/vnd.jupyter.widget-view+json": {
       "model_id": "f7e2a15ff6534515b24b798f1abb662d",
       "version_major": 2,
       "version_minor": 0
      },
      "text/plain": [
       "HBox(children=(HTML(value=''), FloatProgress(value=0.0, max=2.0), HTML(value='')))"
      ]
     },
     "metadata": {},
     "output_type": "display_data"
    },
    {
     "name": "stdout",
     "output_type": "stream",
     "text": [
      "\n",
      "[2020-11-21 21:23:30,956][MainProcess][__main__][INFO] NLLLoss: 0.474\n",
      "[2020-11-21 21:23:31,013][MainProcess][lib.metrics.accuracy][INFO] Accuracy: 0.8677978515625 [7109 of 8192]\n",
      "––––––––––––––––––––––––––––––––––––––––––––––––––––––––––––––––––––––––––––––––––––––––––––––––––––\n",
      "[2020-11-21 21:23:31,020][MainProcess][__main__][INFO] Epoch: 1\n",
      "[2020-11-21 21:23:31,021][MainProcess][__main__][INFO] Training...\n"
     ]
    },
    {
     "data": {
      "application/vnd.jupyter.widget-view+json": {
       "model_id": "6b91902203254e6888edd3e7c45333f2",
       "version_major": 2,
       "version_minor": 0
      },
      "text/plain": [
       "HBox(children=(HTML(value=''), FloatProgress(value=0.0, max=2371.0), HTML(value='')))"
      ]
     },
     "metadata": {},
     "output_type": "display_data"
    },
    {
     "name": "stdout",
     "output_type": "stream",
     "text": [
      "\n",
      "[2020-11-21 21:24:30,894][MainProcess][lib.checkpoint][INFO] Saving checkpoint: ../../experiments/relation_classifier.11_21_20:05:46/81620.pt\n"
     ]
    },
    {
     "data": {
      "application/vnd.jupyter.widget-view+json": {
       "model_id": "1f443e9783434a2b98b7d593fe851179",
       "version_major": 2,
       "version_minor": 0
      },
      "text/plain": [
       "HBox(children=(HTML(value=''), FloatProgress(value=0.0, max=2.0), HTML(value='')))"
      ]
     },
     "metadata": {},
     "output_type": "display_data"
    },
    {
     "name": "stdout",
     "output_type": "stream",
     "text": [
      "\n",
      "[2020-11-21 21:24:32,187][MainProcess][__main__][INFO] NLLLoss: 0.464\n",
      "[2020-11-21 21:24:32,242][MainProcess][lib.metrics.accuracy][INFO] Accuracy: 0.873046875 [7152 of 8192]\n"
     ]
    },
    {
     "name": "stderr",
     "output_type": "stream",
     "text": [
      "\r",
      " 10%|▉         | 98.88888888888907/1000.0 [1:09:00<15:53:01, 63.46s/it, min_score=-.881, models_evaluated=55]"
     ]
    },
    {
     "name": "stdout",
     "output_type": "stream",
     "text": [
      "––––––––––––––––––––––––––––––––––––––––––––––––––––––––––––––––––––––––––––––––––––––––––––––––––––\n",
      "====================================================================================================\n",
      "[2020-11-21 21:24:32,282][MainProcess][lib.configurable][INFO] Checking configuration...\n",
      "[2020-11-21 21:24:32,283][MainProcess][lib.configurable][INFO] Configuration checked.\n",
      "[2020-11-21 21:24:32,284][MainProcess][lib.checkpoint][INFO] Loading checkpoints from ../../experiments/relation_classifier.11_21_20:05:46/79164.pt onto device 0\n",
      "[2020-11-21 21:24:32,541][MainProcess][__main__][INFO] Epochs: 2\n",
      "[2020-11-21 21:24:32,542][MainProcess][__main__][INFO] Train Dataset Size: 75900\n",
      "[2020-11-21 21:24:32,543][MainProcess][__main__][INFO] Dev Dataset Size: 10845\n",
      "[2020-11-21 21:24:32,544][MainProcess][__main__][INFO] Train Batch Size: 32\n",
      "[2020-11-21 21:24:32,545][MainProcess][__main__][INFO] Train Max Batch Size: 1024\n",
      "[2020-11-21 21:24:32,546][MainProcess][__main__][INFO] Total Parameters: 5980523\n",
      "[2020-11-21 21:24:32,546][MainProcess][__main__][INFO] Model:\n",
      "SeqToLabel(\n",
      "  (encoder): SeqEncoder(\n",
      "    (embedding): Embedding(6899, 300, padding_idx=0)\n",
      "    (rnn): GRU(300, 240, num_layers=3, dropout=0.6172336541314215, bidirectional=True)\n",
      "    (rnn_dropout): LockedDropout(p=0.8018937052707213)\n",
      "    (embedding_dropout): Dropout(p=0.19863375994026808)\n",
      "  )\n",
      "  (out): Sequential(\n",
      "    (0): Linear(in_features=480, out_features=480, bias=True)\n",
      "    (1): BatchNorm1d(480, eps=1e-05, momentum=0.1, affine=True)\n",
      "    (2): ReLU()\n",
      "    (3): Dropout(p=0.34505203520914157)\n",
      "    (4): Linear(in_features=480, out_features=1703, bias=True)\n",
      "  )\n",
      ")\n",
      "[2020-11-21 21:24:32,547][MainProcess][__main__][INFO] Epoch: 0\n",
      "[2020-11-21 21:24:32,548][MainProcess][__main__][INFO] Training...\n"
     ]
    },
    {
     "data": {
      "application/vnd.jupyter.widget-view+json": {
       "model_id": "a1b2b1f870f4406faa2208a6fd76e75f",
       "version_major": 2,
       "version_minor": 0
      },
      "text/plain": [
       "HBox(children=(HTML(value=''), FloatProgress(value=0.0, max=2371.0), HTML(value='')))"
      ]
     },
     "metadata": {},
     "output_type": "display_data"
    },
    {
     "name": "stdout",
     "output_type": "stream",
     "text": [
      "\n",
      "[2020-11-21 21:27:08,637][MainProcess][lib.checkpoint][INFO] Saving checkpoint: ../../experiments/relation_classifier.11_21_20:05:46/81778.pt\n"
     ]
    },
    {
     "data": {
      "application/vnd.jupyter.widget-view+json": {
       "model_id": "057d63500fa849e5bce74793abd8fb25",
       "version_major": 2,
       "version_minor": 0
      },
      "text/plain": [
       "HBox(children=(HTML(value=''), FloatProgress(value=0.0, max=2.0), HTML(value='')))"
      ]
     },
     "metadata": {},
     "output_type": "display_data"
    },
    {
     "name": "stdout",
     "output_type": "stream",
     "text": [
      "\n",
      "[2020-11-21 21:27:11,332][MainProcess][__main__][INFO] NLLLoss: 0.519\n",
      "[2020-11-21 21:27:11,388][MainProcess][lib.metrics.accuracy][INFO] Accuracy: 0.8604736328125 [7049 of 8192]\n",
      "––––––––––––––––––––––––––––––––––––––––––––––––––––––––––––––––––––––––––––––––––––––––––––––––––––\n",
      "[2020-11-21 21:27:11,394][MainProcess][__main__][INFO] Epoch: 1\n",
      "[2020-11-21 21:27:11,395][MainProcess][__main__][INFO] Training...\n"
     ]
    },
    {
     "data": {
      "application/vnd.jupyter.widget-view+json": {
       "model_id": "2a75fd4ed07e42d3bffa1cda791db07f",
       "version_major": 2,
       "version_minor": 0
      },
      "text/plain": [
       "HBox(children=(HTML(value=''), FloatProgress(value=0.0, max=2371.0), HTML(value='')))"
      ]
     },
     "metadata": {},
     "output_type": "display_data"
    },
    {
     "name": "stdout",
     "output_type": "stream",
     "text": [
      "\n",
      "[2020-11-21 21:29:48,051][MainProcess][lib.checkpoint][INFO] Saving checkpoint: ../../experiments/relation_classifier.11_21_20:05:46/81937.pt\n"
     ]
    },
    {
     "data": {
      "application/vnd.jupyter.widget-view+json": {
       "model_id": "af34f01f15df417b85bf9a526aeb4796",
       "version_major": 2,
       "version_minor": 0
      },
      "text/plain": [
       "HBox(children=(HTML(value=''), FloatProgress(value=0.0, max=2.0), HTML(value='')))"
      ]
     },
     "metadata": {},
     "output_type": "display_data"
    },
    {
     "name": "stdout",
     "output_type": "stream",
     "text": [
      "\n",
      "[2020-11-21 21:29:51,368][MainProcess][__main__][INFO] NLLLoss: 0.487\n",
      "[2020-11-21 21:29:51,428][MainProcess][lib.metrics.accuracy][INFO] Accuracy: 0.870361328125 [7130 of 8192]\n"
     ]
    },
    {
     "name": "stderr",
     "output_type": "stream",
     "text": [
      "\r",
      " 10%|█         | 101.1111111111113/1000.0 [1:14:19<21:51:04, 87.51s/it, min_score=-.881, models_evaluated=55]"
     ]
    },
    {
     "name": "stdout",
     "output_type": "stream",
     "text": [
      "––––––––––––––––––––––––––––––––––––––––––––––––––––––––––––––––––––––––––––––––––––––––––––––––––––\n",
      "====================================================================================================\n",
      "[2020-11-21 21:29:51,495][MainProcess][lib.configurable][INFO] Checking configuration...\n",
      "[2020-11-21 21:29:51,496][MainProcess][lib.configurable][INFO] Configuration checked.\n",
      "[2020-11-21 21:29:51,497][MainProcess][lib.checkpoint][INFO] Loading checkpoints from ../../experiments/relation_classifier.11_21_20:05:46/80773.pt onto device 0\n",
      "[2020-11-21 21:29:51,681][MainProcess][__main__][INFO] Epochs: 2\n",
      "[2020-11-21 21:29:51,683][MainProcess][__main__][INFO] Train Dataset Size: 75900\n",
      "[2020-11-21 21:29:51,683][MainProcess][__main__][INFO] Dev Dataset Size: 10845\n",
      "[2020-11-21 21:29:51,684][MainProcess][__main__][INFO] Train Batch Size: 32\n",
      "[2020-11-21 21:29:51,685][MainProcess][__main__][INFO] Train Max Batch Size: 1024\n",
      "[2020-11-21 21:29:51,686][MainProcess][__main__][INFO] Total Parameters: 1493519\n",
      "[2020-11-21 21:29:51,687][MainProcess][__main__][INFO] Model:\n",
      "SeqToLabel(\n",
      "  (encoder): SeqEncoder(\n",
      "    (embedding): Embedding(6899, 300, padding_idx=0)\n",
      "    (rnn): GRU(300, 366, dropout=0.7921394678329655)\n",
      "    (rnn_dropout): LockedDropout(p=0.7030952127500919)\n",
      "    (embedding_dropout): Dropout(p=0.3400759438631127)\n",
      "  )\n",
      "  (out): Sequential(\n",
      "    (0): Linear(in_features=366, out_features=366, bias=True)\n",
      "    (1): BatchNorm1d(366, eps=1e-05, momentum=0.1, affine=True)\n",
      "    (2): ReLU()\n",
      "    (3): Dropout(p=0.23555474604078888)\n",
      "    (4): Linear(in_features=366, out_features=1703, bias=True)\n",
      "  )\n",
      ")\n",
      "[2020-11-21 21:29:51,688][MainProcess][__main__][INFO] Epoch: 0\n",
      "[2020-11-21 21:29:51,689][MainProcess][__main__][INFO] Training...\n"
     ]
    },
    {
     "data": {
      "application/vnd.jupyter.widget-view+json": {
       "model_id": "6d45e9d2a3c64597a09e01dcb11dcf01",
       "version_major": 2,
       "version_minor": 0
      },
      "text/plain": [
       "HBox(children=(HTML(value=''), FloatProgress(value=0.0, max=2371.0), HTML(value='')))"
      ]
     },
     "metadata": {},
     "output_type": "display_data"
    },
    {
     "name": "stdout",
     "output_type": "stream",
     "text": [
      "\n",
      "[2020-11-21 21:30:35,182][MainProcess][lib.checkpoint][INFO] Saving checkpoint: ../../experiments/relation_classifier.11_21_20:05:46/81984.pt\n"
     ]
    },
    {
     "data": {
      "application/vnd.jupyter.widget-view+json": {
       "model_id": "ec05565c6d31449f933b54a539746619",
       "version_major": 2,
       "version_minor": 0
      },
      "text/plain": [
       "HBox(children=(HTML(value=''), FloatProgress(value=0.0, max=2.0), HTML(value='')))"
      ]
     },
     "metadata": {},
     "output_type": "display_data"
    },
    {
     "name": "stdout",
     "output_type": "stream",
     "text": [
      "\n",
      "[2020-11-21 21:30:36,631][MainProcess][__main__][INFO] NLLLoss: 0.497\n",
      "[2020-11-21 21:30:36,689][MainProcess][lib.metrics.accuracy][INFO] Accuracy: 0.8646240234375 [7083 of 8192]\n",
      "––––––––––––––––––––––––––––––––––––––––––––––––––––––––––––––––––––––––––––––––––––––––––––––––––––\n",
      "[2020-11-21 21:30:36,695][MainProcess][__main__][INFO] Epoch: 1\n",
      "[2020-11-21 21:30:36,696][MainProcess][__main__][INFO] Training...\n"
     ]
    },
    {
     "data": {
      "application/vnd.jupyter.widget-view+json": {
       "model_id": "379fe5faa9ab4a9e9e379d2dbcd879e7",
       "version_major": 2,
       "version_minor": 0
      },
      "text/plain": [
       "HBox(children=(HTML(value=''), FloatProgress(value=0.0, max=2371.0), HTML(value='')))"
      ]
     },
     "metadata": {},
     "output_type": "display_data"
    },
    {
     "name": "stdout",
     "output_type": "stream",
     "text": [
      "\n",
      "[2020-11-21 21:31:40,810][MainProcess][lib.checkpoint][INFO] Saving checkpoint: ../../experiments/relation_classifier.11_21_20:05:46/82050.pt\n"
     ]
    },
    {
     "data": {
      "application/vnd.jupyter.widget-view+json": {
       "model_id": "6c8edccd1fc7465f967932796e6c122d",
       "version_major": 2,
       "version_minor": 0
      },
      "text/plain": [
       "HBox(children=(HTML(value=''), FloatProgress(value=0.0, max=2.0), HTML(value='')))"
      ]
     },
     "metadata": {},
     "output_type": "display_data"
    },
    {
     "name": "stdout",
     "output_type": "stream",
     "text": [
      "\n",
      "[2020-11-21 21:31:42,128][MainProcess][__main__][INFO] NLLLoss: 0.460\n",
      "[2020-11-21 21:31:42,185][MainProcess][lib.metrics.accuracy][INFO] Accuracy: 0.8759765625 [7176 of 8192]\n"
     ]
    },
    {
     "name": "stderr",
     "output_type": "stream",
     "text": [
      "\r",
      " 10%|█         | 103.33333333333353/1000.0 [1:16:10<18:58:53, 76.21s/it, min_score=-.881, models_evaluated=55]"
     ]
    },
    {
     "name": "stdout",
     "output_type": "stream",
     "text": [
      "––––––––––––––––––––––––––––––––––––––––––––––––––––––––––––––––––––––––––––––––––––––––––––––––––––\n",
      "====================================================================================================\n",
      "[2020-11-21 21:31:42,224][MainProcess][lib.configurable][INFO] Checking configuration...\n",
      "[2020-11-21 21:31:42,225][MainProcess][lib.configurable][INFO] Configuration checked.\n",
      "[2020-11-21 21:31:42,226][MainProcess][lib.checkpoint][INFO] Loading checkpoints from ../../experiments/relation_classifier.11_21_20:05:46/80869.pt onto device 0\n",
      "[2020-11-21 21:31:42,461][MainProcess][__main__][INFO] Epochs: 2\n",
      "[2020-11-21 21:31:42,463][MainProcess][__main__][INFO] Train Dataset Size: 75900\n",
      "[2020-11-21 21:31:42,464][MainProcess][__main__][INFO] Dev Dataset Size: 10845\n",
      "[2020-11-21 21:31:42,464][MainProcess][__main__][INFO] Train Batch Size: 32\n",
      "[2020-11-21 21:31:42,465][MainProcess][__main__][INFO] Train Max Batch Size: 1024\n",
      "[2020-11-21 21:31:42,466][MainProcess][__main__][INFO] Total Parameters: 3073295\n",
      "[2020-11-21 21:31:42,467][MainProcess][__main__][INFO] Model:\n",
      "SeqToLabel(\n",
      "  (encoder): SeqEncoder(\n",
      "    (embedding): Embedding(6899, 300, padding_idx=0)\n",
      "    (rnn): LSTM(300, 222, num_layers=2, dropout=0.6341197534098317, bidirectional=True)\n",
      "    (rnn_dropout): LockedDropout(p=0.27905210131941377)\n",
      "    (embedding_dropout): Dropout(p=0.23467352504073763)\n",
      "  )\n",
      "  (out): Sequential(\n",
      "    (0): Linear(in_features=444, out_features=444, bias=True)\n",
      "    (1): BatchNorm1d(444, eps=1e-05, momentum=0.1, affine=True)\n",
      "    (2): ReLU()\n",
      "    (3): Dropout(p=0.07018155896637483)\n",
      "    (4): Linear(in_features=444, out_features=1703, bias=True)\n",
      "  )\n",
      ")\n",
      "[2020-11-21 21:31:42,468][MainProcess][__main__][INFO] Epoch: 0\n",
      "[2020-11-21 21:31:42,469][MainProcess][__main__][INFO] Training...\n"
     ]
    },
    {
     "data": {
      "application/vnd.jupyter.widget-view+json": {
       "model_id": "92042d82520c4d04bcfc58b0af94c7de",
       "version_major": 2,
       "version_minor": 0
      },
      "text/plain": [
       "HBox(children=(HTML(value=''), FloatProgress(value=0.0, max=2371.0), HTML(value='')))"
      ]
     },
     "metadata": {},
     "output_type": "display_data"
    },
    {
     "name": "stdout",
     "output_type": "stream",
     "text": [
      "\n",
      "[2020-11-21 21:33:33,179][MainProcess][lib.checkpoint][INFO] Saving checkpoint: ../../experiments/relation_classifier.11_21_20:05:46/82162.pt\n"
     ]
    },
    {
     "data": {
      "application/vnd.jupyter.widget-view+json": {
       "model_id": "3699c5ac0a284e569b6abf1f1b879c5d",
       "version_major": 2,
       "version_minor": 0
      },
      "text/plain": [
       "HBox(children=(HTML(value=''), FloatProgress(value=0.0, max=2.0), HTML(value='')))"
      ]
     },
     "metadata": {},
     "output_type": "display_data"
    },
    {
     "name": "stdout",
     "output_type": "stream",
     "text": [
      "\n",
      "[2020-11-21 21:33:35,197][MainProcess][__main__][INFO] NLLLoss: 0.511\n",
      "[2020-11-21 21:33:35,251][MainProcess][lib.metrics.accuracy][INFO] Accuracy: 0.8616943359375 [7059 of 8192]\n",
      "––––––––––––––––––––––––––––––––––––––––––––––––––––––––––––––––––––––––––––––––––––––––––––––––––––\n",
      "[2020-11-21 21:33:35,258][MainProcess][__main__][INFO] Epoch: 1\n",
      "[2020-11-21 21:33:35,259][MainProcess][__main__][INFO] Training...\n"
     ]
    },
    {
     "data": {
      "application/vnd.jupyter.widget-view+json": {
       "model_id": "de6f1e6f41ba423bb37a27a51bf8c812",
       "version_major": 2,
       "version_minor": 0
      },
      "text/plain": [
       "HBox(children=(HTML(value=''), FloatProgress(value=0.0, max=2371.0), HTML(value='')))"
      ]
     },
     "metadata": {},
     "output_type": "display_data"
    },
    {
     "name": "stdout",
     "output_type": "stream",
     "text": [
      "\n",
      "[2020-11-21 21:35:23,042][MainProcess][lib.checkpoint][INFO] Saving checkpoint: ../../experiments/relation_classifier.11_21_20:05:46/82272.pt\n"
     ]
    },
    {
     "data": {
      "application/vnd.jupyter.widget-view+json": {
       "model_id": "64e21baefe9e4179b4773a19b8a25eb0",
       "version_major": 2,
       "version_minor": 0
      },
      "text/plain": [
       "HBox(children=(HTML(value=''), FloatProgress(value=0.0, max=2.0), HTML(value='')))"
      ]
     },
     "metadata": {},
     "output_type": "display_data"
    },
    {
     "name": "stdout",
     "output_type": "stream",
     "text": [
      "\n",
      "[2020-11-21 21:35:24,775][MainProcess][__main__][INFO] NLLLoss: 0.488\n",
      "[2020-11-21 21:35:24,838][MainProcess][lib.metrics.accuracy][INFO] Accuracy: 0.864501953125 [7082 of 8192]\n"
     ]
    },
    {
     "name": "stderr",
     "output_type": "stream",
     "text": [
      "\r",
      " 11%|█         | 105.55555555555576/1000.0 [1:19:53<20:43:20, 83.40s/it, min_score=-.881, models_evaluated=55]"
     ]
    },
    {
     "name": "stdout",
     "output_type": "stream",
     "text": [
      "––––––––––––––––––––––––––––––––––––––––––––––––––––––––––––––––––––––––––––––––––––––––––––––––––––\n",
      "====================================================================================================\n",
      "[2020-11-21 21:35:24,885][MainProcess][lib.configurable][INFO] Checking configuration...\n",
      "[2020-11-21 21:35:24,886][MainProcess][lib.configurable][INFO] Configuration checked.\n",
      "[2020-11-21 21:35:24,887][MainProcess][lib.checkpoint][INFO] Loading checkpoints from ../../experiments/relation_classifier.11_21_20:05:46/79814.pt onto device 0\n",
      "[2020-11-21 21:35:25,055][MainProcess][__main__][INFO] Epochs: 2\n",
      "[2020-11-21 21:35:25,056][MainProcess][__main__][INFO] Train Dataset Size: 75900\n",
      "[2020-11-21 21:35:25,057][MainProcess][__main__][INFO] Dev Dataset Size: 10845\n",
      "[2020-11-21 21:35:25,058][MainProcess][__main__][INFO] Train Batch Size: 32\n",
      "[2020-11-21 21:35:25,059][MainProcess][__main__][INFO] Train Max Batch Size: 1024\n",
      "[2020-11-21 21:35:25,059][MainProcess][__main__][INFO] Total Parameters: 3021475\n",
      "[2020-11-21 21:35:25,060][MainProcess][__main__][INFO] Model:\n",
      "SeqToLabel(\n",
      "  (encoder): SeqEncoder(\n",
      "    (embedding): Embedding(6899, 300, padding_idx=0)\n",
      "    (rnn): GRU(300, 434, num_layers=2, dropout=0.09731885926345377)\n",
      "    (rnn_dropout): LockedDropout(p=0.3635258074488042)\n",
      "    (embedding_dropout): Dropout(p=0.4322695048214004)\n",
      "  )\n",
      "  (out): Sequential(\n",
      "    (0): Linear(in_features=434, out_features=434, bias=True)\n",
      "    (1): BatchNorm1d(434, eps=1e-05, momentum=0.1, affine=True)\n",
      "    (2): ReLU()\n",
      "    (3): Dropout(p=0.1530157702554208)\n",
      "    (4): Linear(in_features=434, out_features=1703, bias=True)\n",
      "  )\n",
      ")\n",
      "[2020-11-21 21:35:25,061][MainProcess][__main__][INFO] Epoch: 0\n",
      "[2020-11-21 21:35:25,062][MainProcess][__main__][INFO] Training...\n"
     ]
    },
    {
     "data": {
      "application/vnd.jupyter.widget-view+json": {
       "model_id": "3cc53f1215214308bc4391dda34ba3b6",
       "version_major": 2,
       "version_minor": 0
      },
      "text/plain": [
       "HBox(children=(HTML(value=''), FloatProgress(value=0.0, max=2371.0), HTML(value='')))"
      ]
     },
     "metadata": {},
     "output_type": "display_data"
    },
    {
     "name": "stdout",
     "output_type": "stream",
     "text": [
      "\n",
      "[2020-11-21 21:36:59,082][MainProcess][lib.checkpoint][INFO] Saving checkpoint: ../../experiments/relation_classifier.11_21_20:05:46/82368.pt\n"
     ]
    },
    {
     "data": {
      "application/vnd.jupyter.widget-view+json": {
       "model_id": "59942e769b4d46f7ac23302e0b368001",
       "version_major": 2,
       "version_minor": 0
      },
      "text/plain": [
       "HBox(children=(HTML(value=''), FloatProgress(value=0.0, max=2.0), HTML(value='')))"
      ]
     },
     "metadata": {},
     "output_type": "display_data"
    },
    {
     "name": "stdout",
     "output_type": "stream",
     "text": [
      "\n",
      "[2020-11-21 21:37:01,107][MainProcess][__main__][INFO] NLLLoss: 0.514\n",
      "[2020-11-21 21:37:01,161][MainProcess][lib.metrics.accuracy][INFO] Accuracy: 0.858642578125 [7034 of 8192]\n",
      "––––––––––––––––––––––––––––––––––––––––––––––––––––––––––––––––––––––––––––––––––––––––––––––––––––\n",
      "[2020-11-21 21:37:01,168][MainProcess][__main__][INFO] Epoch: 1\n",
      "[2020-11-21 21:37:01,169][MainProcess][__main__][INFO] Training...\n"
     ]
    },
    {
     "data": {
      "application/vnd.jupyter.widget-view+json": {
       "model_id": "026fdbe7a21c459892133dd79e8b8857",
       "version_major": 2,
       "version_minor": 0
      },
      "text/plain": [
       "HBox(children=(HTML(value=''), FloatProgress(value=0.0, max=2371.0), HTML(value='')))"
      ]
     },
     "metadata": {},
     "output_type": "display_data"
    },
    {
     "name": "stdout",
     "output_type": "stream",
     "text": [
      "\n",
      "[2020-11-21 21:38:09,806][MainProcess][lib.checkpoint][INFO] Saving checkpoint: ../../experiments/relation_classifier.11_21_20:05:46/82439.pt\n"
     ]
    },
    {
     "data": {
      "application/vnd.jupyter.widget-view+json": {
       "model_id": "d6a23a8194a94a118dcb5d7a68035d76",
       "version_major": 2,
       "version_minor": 0
      },
      "text/plain": [
       "HBox(children=(HTML(value=''), FloatProgress(value=0.0, max=2.0), HTML(value='')))"
      ]
     },
     "metadata": {},
     "output_type": "display_data"
    },
    {
     "name": "stdout",
     "output_type": "stream",
     "text": [
      "\n",
      "[2020-11-21 21:38:11,845][MainProcess][__main__][INFO] NLLLoss: 0.486\n",
      "[2020-11-21 21:38:11,900][MainProcess][lib.metrics.accuracy][INFO] Accuracy: 0.867919921875 [7110 of 8192]\n"
     ]
    },
    {
     "name": "stderr",
     "output_type": "stream",
     "text": [
      "\r",
      " 11%|█         | 107.77777777777798/1000.0 [1:22:40<20:03:33, 80.94s/it, min_score=-.881, models_evaluated=55]"
     ]
    },
    {
     "name": "stdout",
     "output_type": "stream",
     "text": [
      "––––––––––––––––––––––––––––––––––––––––––––––––––––––––––––––––––––––––––––––––––––––––––––––––––––\n",
      "====================================================================================================\n",
      "[2020-11-21 21:38:11,970][MainProcess][lib.configurable][INFO] Checking configuration...\n",
      "[2020-11-21 21:38:11,972][MainProcess][lib.configurable][INFO] Configuration checked.\n",
      "[2020-11-21 21:38:11,973][MainProcess][lib.checkpoint][INFO] Loading checkpoints from ../../experiments/relation_classifier.11_21_20:05:46/78668.pt onto device 0\n",
      "[2020-11-21 21:38:12,130][MainProcess][__main__][INFO] Epochs: 2\n",
      "[2020-11-21 21:38:12,131][MainProcess][__main__][INFO] Train Dataset Size: 75900\n",
      "[2020-11-21 21:38:12,132][MainProcess][__main__][INFO] Dev Dataset Size: 10845\n",
      "[2020-11-21 21:38:12,133][MainProcess][__main__][INFO] Train Batch Size: 32\n",
      "[2020-11-21 21:38:12,134][MainProcess][__main__][INFO] Train Max Batch Size: 1024\n",
      "[2020-11-21 21:38:12,135][MainProcess][__main__][INFO] Total Parameters: 1932703\n",
      "[2020-11-21 21:38:12,136][MainProcess][__main__][INFO] Model:\n",
      "SeqToLabel(\n",
      "  (encoder): SeqEncoder(\n",
      "    (embedding): Embedding(6899, 300, padding_idx=0)\n",
      "    (rnn): GRU(300, 250, dropout=0.6253026676582191, bidirectional=True)\n",
      "    (rnn_dropout): LockedDropout(p=0.055205829645816405)\n",
      "    (embedding_dropout): Dropout(p=0.025330257044873065)\n",
      "  )\n",
      "  (out): Sequential(\n",
      "    (0): Linear(in_features=500, out_features=500, bias=True)\n",
      "    (1): BatchNorm1d(500, eps=1e-05, momentum=0.1, affine=True)\n",
      "    (2): ReLU()\n",
      "    (3): Dropout(p=0.6514682031378239)\n",
      "    (4): Linear(in_features=500, out_features=1703, bias=True)\n",
      "  )\n",
      ")\n",
      "[2020-11-21 21:38:12,138][MainProcess][__main__][INFO] Epoch: 0\n",
      "[2020-11-21 21:38:12,139][MainProcess][__main__][INFO] Training...\n"
     ]
    },
    {
     "data": {
      "application/vnd.jupyter.widget-view+json": {
       "model_id": "f3c3379d404348e184dfdca8659c9ae9",
       "version_major": 2,
       "version_minor": 0
      },
      "text/plain": [
       "HBox(children=(HTML(value=''), FloatProgress(value=0.0, max=2371.0), HTML(value='')))"
      ]
     },
     "metadata": {},
     "output_type": "display_data"
    },
    {
     "name": "stdout",
     "output_type": "stream",
     "text": [
      "\n",
      "[2020-11-21 21:39:32,781][MainProcess][lib.checkpoint][INFO] Saving checkpoint: ../../experiments/relation_classifier.11_21_20:05:46/82522.pt\n"
     ]
    },
    {
     "data": {
      "application/vnd.jupyter.widget-view+json": {
       "model_id": "27665703dfdc4bedbf1cd568ece31384",
       "version_major": 2,
       "version_minor": 0
      },
      "text/plain": [
       "HBox(children=(HTML(value=''), FloatProgress(value=0.0, max=2.0), HTML(value='')))"
      ]
     },
     "metadata": {},
     "output_type": "display_data"
    },
    {
     "name": "stdout",
     "output_type": "stream",
     "text": [
      "\n",
      "[2020-11-21 21:39:34,359][MainProcess][__main__][INFO] NLLLoss: 0.540\n",
      "[2020-11-21 21:39:34,415][MainProcess][lib.metrics.accuracy][INFO] Accuracy: 0.8663330078125 [7097 of 8192]\n",
      "––––––––––––––––––––––––––––––––––––––––––––––––––––––––––––––––––––––––––––––––––––––––––––––––––––\n",
      "[2020-11-21 21:39:34,421][MainProcess][__main__][INFO] Epoch: 1\n",
      "[2020-11-21 21:39:34,422][MainProcess][__main__][INFO] Training...\n"
     ]
    },
    {
     "data": {
      "application/vnd.jupyter.widget-view+json": {
       "model_id": "e7415a1387464d1285bca55cdec17853",
       "version_major": 2,
       "version_minor": 0
      },
      "text/plain": [
       "HBox(children=(HTML(value=''), FloatProgress(value=0.0, max=2371.0), HTML(value='')))"
      ]
     },
     "metadata": {},
     "output_type": "display_data"
    },
    {
     "name": "stdout",
     "output_type": "stream",
     "text": [
      "\n",
      "[2020-11-21 21:40:32,757][MainProcess][lib.checkpoint][INFO] Saving checkpoint: ../../experiments/relation_classifier.11_21_20:05:46/82582.pt\n"
     ]
    },
    {
     "data": {
      "application/vnd.jupyter.widget-view+json": {
       "model_id": "71caae3f43014eef90f2ece5d455a8e8",
       "version_major": 2,
       "version_minor": 0
      },
      "text/plain": [
       "HBox(children=(HTML(value=''), FloatProgress(value=0.0, max=2.0), HTML(value='')))"
      ]
     },
     "metadata": {},
     "output_type": "display_data"
    },
    {
     "name": "stdout",
     "output_type": "stream",
     "text": [
      "\n",
      "[2020-11-21 21:40:34,099][MainProcess][__main__][INFO] NLLLoss: 0.519\n",
      "[2020-11-21 21:40:34,156][MainProcess][lib.metrics.accuracy][INFO] Accuracy: 0.869140625 [7120 of 8192]\n"
     ]
    },
    {
     "name": "stderr",
     "output_type": "stream",
     "text": [
      "\r",
      " 11%|█         | 110.00000000000021/1000.0 [1:25:02<18:45:15, 75.86s/it, min_score=-.881, models_evaluated=55]"
     ]
    },
    {
     "name": "stdout",
     "output_type": "stream",
     "text": [
      "––––––––––––––––––––––––––––––––––––––––––––––––––––––––––––––––––––––––––––––––––––––––––––––––––––\n",
      "====================================================================================================\n",
      "[2020-11-21 21:40:34,201][MainProcess][lib.configurable][INFO] Checking configuration...\n",
      "[2020-11-21 21:40:34,202][MainProcess][lib.configurable][INFO] Configuration checked.\n",
      "[2020-11-21 21:40:34,202][MainProcess][lib.checkpoint][INFO] Loading checkpoints from ../../experiments/relation_classifier.11_21_20:05:46/79581.pt onto device 0\n",
      "[2020-11-21 21:40:34,434][MainProcess][__main__][INFO] Epochs: 2\n",
      "[2020-11-21 21:40:34,435][MainProcess][__main__][INFO] Train Dataset Size: 75900\n",
      "[2020-11-21 21:40:34,436][MainProcess][__main__][INFO] Dev Dataset Size: 10845\n",
      "[2020-11-21 21:40:34,437][MainProcess][__main__][INFO] Train Batch Size: 32\n",
      "[2020-11-21 21:40:34,438][MainProcess][__main__][INFO] Train Max Batch Size: 1024\n",
      "[2020-11-21 21:40:34,438][MainProcess][__main__][INFO] Total Parameters: 1164023\n",
      "[2020-11-21 21:40:34,440][MainProcess][__main__][INFO] Model:\n",
      "SeqToLabel(\n",
      "  (encoder): SeqEncoder(\n",
      "    (embedding): Embedding(6899, 300, padding_idx=0)\n",
      "    (rnn): LSTM(300, 116, num_layers=2, dropout=0.46608847167393613, bidirectional=True)\n",
      "    (rnn_dropout): LockedDropout(p=0.3443932522401566)\n",
      "    (embedding_dropout): Dropout(p=0.33002744510469584)\n",
      "  )\n",
      "  (out): Sequential(\n",
      "    (0): Linear(in_features=232, out_features=232, bias=True)\n",
      "    (1): BatchNorm1d(232, eps=1e-05, momentum=0.1, affine=True)\n",
      "    (2): ReLU()\n",
      "    (3): Dropout(p=0.025175215010546228)\n",
      "    (4): Linear(in_features=232, out_features=1703, bias=True)\n",
      "  )\n",
      ")\n",
      "[2020-11-21 21:40:34,441][MainProcess][__main__][INFO] Epoch: 0\n",
      "[2020-11-21 21:40:34,441][MainProcess][__main__][INFO] Training...\n"
     ]
    },
    {
     "data": {
      "application/vnd.jupyter.widget-view+json": {
       "model_id": "23d3537bee1b495795dc412726788fa0",
       "version_major": 2,
       "version_minor": 0
      },
      "text/plain": [
       "HBox(children=(HTML(value=''), FloatProgress(value=0.0, max=2371.0), HTML(value='')))"
      ]
     },
     "metadata": {},
     "output_type": "display_data"
    },
    {
     "name": "stdout",
     "output_type": "stream",
     "text": [
      "\n",
      "[2020-11-21 21:42:23,639][MainProcess][lib.checkpoint][INFO] Saving checkpoint: ../../experiments/relation_classifier.11_21_20:05:46/82693.pt\n"
     ]
    },
    {
     "data": {
      "application/vnd.jupyter.widget-view+json": {
       "model_id": "c14433fe77f14758b75e6df02cbd911e",
       "version_major": 2,
       "version_minor": 0
      },
      "text/plain": [
       "HBox(children=(HTML(value=''), FloatProgress(value=0.0, max=2.0), HTML(value='')))"
      ]
     },
     "metadata": {},
     "output_type": "display_data"
    },
    {
     "name": "stdout",
     "output_type": "stream",
     "text": [
      "\n",
      "[2020-11-21 21:42:25,428][MainProcess][__main__][INFO] NLLLoss: 0.505\n",
      "[2020-11-21 21:42:25,484][MainProcess][lib.metrics.accuracy][INFO] Accuracy: 0.8642578125 [7080 of 8192]\n",
      "––––––––––––––––––––––––––––––––––––––––––––––––––––––––––––––––––––––––––––––––––––––––––––––––––––\n",
      "[2020-11-21 21:42:25,490][MainProcess][__main__][INFO] Epoch: 1\n",
      "[2020-11-21 21:42:25,491][MainProcess][__main__][INFO] Training...\n"
     ]
    },
    {
     "data": {
      "application/vnd.jupyter.widget-view+json": {
       "model_id": "81e4867fdd2549d4965997914db8282f",
       "version_major": 2,
       "version_minor": 0
      },
      "text/plain": [
       "HBox(children=(HTML(value=''), FloatProgress(value=0.0, max=2371.0), HTML(value='')))"
      ]
     },
     "metadata": {},
     "output_type": "display_data"
    },
    {
     "name": "stdout",
     "output_type": "stream",
     "text": [
      "\n",
      "[2020-11-21 21:43:18,632][MainProcess][lib.checkpoint][INFO] Saving checkpoint: ../../experiments/relation_classifier.11_21_20:05:46/82748.pt\n"
     ]
    },
    {
     "data": {
      "application/vnd.jupyter.widget-view+json": {
       "model_id": "95c4caad8f204ea2a41d61ebbe93138e",
       "version_major": 2,
       "version_minor": 0
      },
      "text/plain": [
       "HBox(children=(HTML(value=''), FloatProgress(value=0.0, max=2.0), HTML(value='')))"
      ]
     },
     "metadata": {},
     "output_type": "display_data"
    },
    {
     "name": "stdout",
     "output_type": "stream",
     "text": [
      "\n",
      "[2020-11-21 21:43:19,541][MainProcess][__main__][INFO] NLLLoss: 0.468\n",
      "[2020-11-21 21:43:19,599][MainProcess][lib.metrics.accuracy][INFO] Accuracy: 0.86767578125 [7108 of 8192]\n"
     ]
    },
    {
     "name": "stderr",
     "output_type": "stream",
     "text": [
      "\r",
      " 11%|█         | 112.22222222222244/1000.0 [1:27:48<18:36:09, 75.43s/it, min_score=-.881, models_evaluated=55]"
     ]
    },
    {
     "name": "stdout",
     "output_type": "stream",
     "text": [
      "––––––––––––––––––––––––––––––––––––––––––––––––––––––––––––––––––––––––––––––––––––––––––––––––––––\n",
      "====================================================================================================\n",
      "[2020-11-21 21:43:19,627][MainProcess][lib.configurable][INFO] Checking configuration...\n",
      "[2020-11-21 21:43:19,629][MainProcess][lib.configurable][INFO] Configuration checked.\n",
      "[2020-11-21 21:43:19,629][MainProcess][lib.checkpoint][INFO] Loading checkpoints from ../../experiments/relation_classifier.11_21_20:05:46/80753.pt onto device 0\n",
      "[2020-11-21 21:43:19,726][MainProcess][__main__][INFO] Epochs: 2\n",
      "[2020-11-21 21:43:19,727][MainProcess][__main__][INFO] Train Dataset Size: 75900\n",
      "[2020-11-21 21:43:19,728][MainProcess][__main__][INFO] Dev Dataset Size: 10845\n",
      "[2020-11-21 21:43:19,729][MainProcess][__main__][INFO] Train Batch Size: 32\n",
      "[2020-11-21 21:43:19,730][MainProcess][__main__][INFO] Train Max Batch Size: 1024\n",
      "[2020-11-21 21:43:19,730][MainProcess][__main__][INFO] Total Parameters: 1418921\n",
      "[2020-11-21 21:43:19,731][MainProcess][__main__][INFO] Model:\n",
      "SeqToLabel(\n",
      "  (encoder): SeqEncoder(\n",
      "    (embedding): Embedding(6899, 300, padding_idx=0)\n",
      "    (rnn): GRU(300, 197, dropout=0.09295961658586765, bidirectional=True)\n",
      "    (rnn_dropout): LockedDropout(p=0.4121832977908714)\n",
      "    (embedding_dropout): Dropout(p=0.34912697478333016)\n",
      "  )\n",
      "  (out): Sequential(\n",
      "    (0): Linear(in_features=394, out_features=394, bias=True)\n",
      "    (1): BatchNorm1d(394, eps=1e-05, momentum=0.1, affine=True)\n",
      "    (2): ReLU()\n",
      "    (3): Dropout(p=0.6464779363929288)\n",
      "    (4): Linear(in_features=394, out_features=1703, bias=True)\n",
      "  )\n",
      ")\n",
      "[2020-11-21 21:43:19,732][MainProcess][__main__][INFO] Epoch: 0\n",
      "[2020-11-21 21:43:19,732][MainProcess][__main__][INFO] Training...\n"
     ]
    },
    {
     "data": {
      "application/vnd.jupyter.widget-view+json": {
       "model_id": "d19e871d0ea945f589e018a641353784",
       "version_major": 2,
       "version_minor": 0
      },
      "text/plain": [
       "HBox(children=(HTML(value=''), FloatProgress(value=0.0, max=2371.0), HTML(value='')))"
      ]
     },
     "metadata": {},
     "output_type": "display_data"
    },
    {
     "name": "stdout",
     "output_type": "stream",
     "text": [
      "\n",
      "[2020-11-21 21:44:04,500][MainProcess][lib.checkpoint][INFO] Saving checkpoint: ../../experiments/relation_classifier.11_21_20:05:46/82794.pt\n"
     ]
    },
    {
     "data": {
      "application/vnd.jupyter.widget-view+json": {
       "model_id": "011390b78ee84bc286f906f16ceee899",
       "version_major": 2,
       "version_minor": 0
      },
      "text/plain": [
       "HBox(children=(HTML(value=''), FloatProgress(value=0.0, max=2.0), HTML(value='')))"
      ]
     },
     "metadata": {},
     "output_type": "display_data"
    },
    {
     "name": "stdout",
     "output_type": "stream",
     "text": [
      "\n",
      "[2020-11-21 21:44:06,362][MainProcess][__main__][INFO] NLLLoss: 0.553\n",
      "[2020-11-21 21:44:06,421][MainProcess][lib.metrics.accuracy][INFO] Accuracy: 0.8671875 [7104 of 8192]\n",
      "––––––––––––––––––––––––––––––––––––––––––––––––––––––––––––––––––––––––––––––––––––––––––––––––––––\n",
      "[2020-11-21 21:44:06,429][MainProcess][__main__][INFO] Epoch: 1\n",
      "[2020-11-21 21:44:06,431][MainProcess][__main__][INFO] Training...\n"
     ]
    },
    {
     "data": {
      "application/vnd.jupyter.widget-view+json": {
       "model_id": "1cd3f96b154c47939818d0e7506afc50",
       "version_major": 2,
       "version_minor": 0
      },
      "text/plain": [
       "HBox(children=(HTML(value=''), FloatProgress(value=0.0, max=2371.0), HTML(value='')))"
      ]
     },
     "metadata": {},
     "output_type": "display_data"
    },
    {
     "name": "stdout",
     "output_type": "stream",
     "text": [
      "\n",
      "[2020-11-21 21:44:30,026][MainProcess][lib.checkpoint][INFO] Saving checkpoint: ../../experiments/relation_classifier.11_21_20:05:46/82819.pt\n"
     ]
    },
    {
     "data": {
      "application/vnd.jupyter.widget-view+json": {
       "model_id": "f70e064a2da942538768e0d12730dfec",
       "version_major": 2,
       "version_minor": 0
      },
      "text/plain": [
       "HBox(children=(HTML(value=''), FloatProgress(value=0.0, max=2.0), HTML(value='')))"
      ]
     },
     "metadata": {},
     "output_type": "display_data"
    },
    {
     "name": "stdout",
     "output_type": "stream",
     "text": [
      "\n",
      "[2020-11-21 21:44:30,948][MainProcess][__main__][INFO] NLLLoss: 0.503\n",
      "[2020-11-21 21:44:31,009][MainProcess][lib.metrics.accuracy][INFO] Accuracy: 0.872802734375 [7150 of 8192]\n"
     ]
    },
    {
     "name": "stderr",
     "output_type": "stream",
     "text": [
      "\r",
      " 11%|█▏        | 114.44444444444467/1000.0 [1:28:59<15:21:39, 62.45s/it, min_score=-.881, models_evaluated=55]"
     ]
    },
    {
     "name": "stdout",
     "output_type": "stream",
     "text": [
      "––––––––––––––––––––––––––––––––––––––––––––––––––––––––––––––––––––––––––––––––––––––––––––––––––––\n",
      "====================================================================================================\n",
      "[2020-11-21 21:44:31,050][MainProcess][lib.configurable][INFO] Checking configuration...\n",
      "[2020-11-21 21:44:31,052][MainProcess][lib.configurable][INFO] Configuration checked.\n",
      "[2020-11-21 21:44:31,054][MainProcess][lib.checkpoint][INFO] Loading checkpoints from ../../experiments/relation_classifier.11_21_20:05:46/78034.pt onto device 0\n",
      "[2020-11-21 21:44:31,145][MainProcess][__main__][INFO] Epochs: 2\n",
      "[2020-11-21 21:44:31,146][MainProcess][__main__][INFO] Train Dataset Size: 75900\n",
      "[2020-11-21 21:44:31,147][MainProcess][__main__][INFO] Dev Dataset Size: 10845\n",
      "[2020-11-21 21:44:31,149][MainProcess][__main__][INFO] Train Batch Size: 32\n",
      "[2020-11-21 21:44:31,150][MainProcess][__main__][INFO] Train Max Batch Size: 1024\n",
      "[2020-11-21 21:44:31,151][MainProcess][__main__][INFO] Total Parameters: 3485351\n",
      "[2020-11-21 21:44:31,152][MainProcess][__main__][INFO] Model:\n",
      "SeqToLabel(\n",
      "  (encoder): SeqEncoder(\n",
      "    (embedding): Embedding(6899, 300, padding_idx=0)\n",
      "    (rnn): GRU(300, 224, num_layers=3, dropout=0.5750157262298873, bidirectional=True)\n",
      "    (rnn_dropout): LockedDropout(p=0.37102923897101064)\n",
      "    (embedding_dropout): Dropout(p=0.1328317932646346)\n",
      "  )\n",
      "  (out): Sequential(\n",
      "    (0): Linear(in_features=448, out_features=448, bias=True)\n",
      "    (1): BatchNorm1d(448, eps=1e-05, momentum=0.1, affine=True)\n",
      "    (2): ReLU()\n",
      "    (3): Dropout(p=0.26601793472217133)\n",
      "    (4): Linear(in_features=448, out_features=1703, bias=True)\n",
      "  )\n",
      ")\n",
      "[2020-11-21 21:44:31,153][MainProcess][__main__][INFO] Epoch: 0\n",
      "[2020-11-21 21:44:31,154][MainProcess][__main__][INFO] Training...\n"
     ]
    },
    {
     "data": {
      "application/vnd.jupyter.widget-view+json": {
       "model_id": "eade3f47d9e742e3b327f433a63e3b55",
       "version_major": 2,
       "version_minor": 0
      },
      "text/plain": [
       "HBox(children=(HTML(value=''), FloatProgress(value=0.0, max=2371.0), HTML(value='')))"
      ]
     },
     "metadata": {},
     "output_type": "display_data"
    },
    {
     "name": "stdout",
     "output_type": "stream",
     "text": [
      "\n",
      "[2020-11-21 21:45:13,987][MainProcess][lib.checkpoint][INFO] Saving checkpoint: ../../experiments/relation_classifier.11_21_20:05:46/82863.pt\n"
     ]
    },
    {
     "data": {
      "application/vnd.jupyter.widget-view+json": {
       "model_id": "edf3d197470249769c944cbfa02074d7",
       "version_major": 2,
       "version_minor": 0
      },
      "text/plain": [
       "HBox(children=(HTML(value=''), FloatProgress(value=0.0, max=2.0), HTML(value='')))"
      ]
     },
     "metadata": {},
     "output_type": "display_data"
    },
    {
     "name": "stdout",
     "output_type": "stream",
     "text": [
      "\n",
      "[2020-11-21 21:45:15,664][MainProcess][__main__][INFO] NLLLoss: 0.522\n",
      "[2020-11-21 21:45:15,719][MainProcess][lib.metrics.accuracy][INFO] Accuracy: 0.85791015625 [7028 of 8192]\n",
      "––––––––––––––––––––––––––––––––––––––––––––––––––––––––––––––––––––––––––––––––––––––––––––––––––––\n",
      "[2020-11-21 21:45:15,725][MainProcess][__main__][INFO] Epoch: 1\n",
      "[2020-11-21 21:45:15,726][MainProcess][__main__][INFO] Training...\n"
     ]
    },
    {
     "data": {
      "application/vnd.jupyter.widget-view+json": {
       "model_id": "255685fc7cf742ddab7cd4ed558ea852",
       "version_major": 2,
       "version_minor": 0
      },
      "text/plain": [
       "HBox(children=(HTML(value=''), FloatProgress(value=0.0, max=2371.0), HTML(value='')))"
      ]
     },
     "metadata": {},
     "output_type": "display_data"
    },
    {
     "name": "stdout",
     "output_type": "stream",
     "text": [
      "\n",
      "[2020-11-21 21:45:57,995][MainProcess][lib.checkpoint][INFO] Saving checkpoint: ../../experiments/relation_classifier.11_21_20:05:46/82907.pt\n"
     ]
    },
    {
     "data": {
      "application/vnd.jupyter.widget-view+json": {
       "model_id": "3adef3e3e1d2400f9001f90467e4750a",
       "version_major": 2,
       "version_minor": 0
      },
      "text/plain": [
       "HBox(children=(HTML(value=''), FloatProgress(value=0.0, max=2.0), HTML(value='')))"
      ]
     },
     "metadata": {},
     "output_type": "display_data"
    },
    {
     "name": "stdout",
     "output_type": "stream",
     "text": [
      "\n",
      "[2020-11-21 21:45:59,492][MainProcess][__main__][INFO] NLLLoss: 0.469\n",
      "[2020-11-21 21:45:59,558][MainProcess][lib.metrics.accuracy][INFO] Accuracy: 0.869384765625 [7122 of 8192]\n"
     ]
    },
    {
     "name": "stderr",
     "output_type": "stream",
     "text": [
      "\r",
      " 12%|█▏        | 116.6666666666669/1000.0 [1:30:28<13:39:34, 55.67s/it, min_score=-.881, models_evaluated=55] "
     ]
    },
    {
     "name": "stdout",
     "output_type": "stream",
     "text": [
      "––––––––––––––––––––––––––––––––––––––––––––––––––––––––––––––––––––––––––––––––––––––––––––––––––––\n",
      "====================================================================================================\n",
      "[2020-11-21 21:45:59,624][MainProcess][lib.configurable][INFO] Checking configuration...\n",
      "[2020-11-21 21:45:59,625][MainProcess][lib.configurable][INFO] Configuration checked.\n",
      "[2020-11-21 21:45:59,626][MainProcess][lib.checkpoint][INFO] Loading checkpoints from ../../experiments/relation_classifier.11_21_20:05:46/77692.pt onto device 0\n",
      "[2020-11-21 21:45:59,709][MainProcess][__main__][INFO] Epochs: 2\n",
      "[2020-11-21 21:45:59,710][MainProcess][__main__][INFO] Train Dataset Size: 75900\n",
      "[2020-11-21 21:45:59,711][MainProcess][__main__][INFO] Dev Dataset Size: 10845\n",
      "[2020-11-21 21:45:59,712][MainProcess][__main__][INFO] Train Batch Size: 32\n",
      "[2020-11-21 21:45:59,713][MainProcess][__main__][INFO] Train Max Batch Size: 1024\n",
      "[2020-11-21 21:45:59,713][MainProcess][__main__][INFO] Total Parameters: 2929883\n",
      "[2020-11-21 21:45:59,714][MainProcess][__main__][INFO] Model:\n",
      "SeqToLabel(\n",
      "  (encoder): SeqEncoder(\n",
      "    (embedding): Embedding(6899, 300, padding_idx=0)\n",
      "    (rnn): GRU(300, 105, num_layers=2, dropout=0.4571121478577711, bidirectional=True)\n",
      "    (rnn_dropout): LockedDropout(p=0.7722312690371741)\n",
      "    (embedding_dropout): Dropout(p=0.24312656079062211)\n",
      "  )\n",
      "  (out): Sequential(\n",
      "    (0): Linear(in_features=210, out_features=210, bias=True)\n",
      "    (1): BatchNorm1d(210, eps=1e-05, momentum=0.1, affine=True)\n",
      "    (2): ReLU()\n",
      "    (3): Dropout(p=0.5315719542764269)\n",
      "    (4): Linear(in_features=210, out_features=1703, bias=True)\n",
      "  )\n",
      ")\n",
      "[2020-11-21 21:45:59,715][MainProcess][__main__][INFO] Epoch: 0\n",
      "[2020-11-21 21:45:59,715][MainProcess][__main__][INFO] Training...\n"
     ]
    },
    {
     "data": {
      "application/vnd.jupyter.widget-view+json": {
       "model_id": "332447492cfa44d998a33874344abb73",
       "version_major": 2,
       "version_minor": 0
      },
      "text/plain": [
       "HBox(children=(HTML(value=''), FloatProgress(value=0.0, max=2371.0), HTML(value='')))"
      ]
     },
     "metadata": {},
     "output_type": "display_data"
    },
    {
     "name": "stdout",
     "output_type": "stream",
     "text": [
      "\n",
      "[2020-11-21 21:46:32,837][MainProcess][lib.checkpoint][INFO] Saving checkpoint: ../../experiments/relation_classifier.11_21_20:05:46/82942.pt\n"
     ]
    },
    {
     "data": {
      "application/vnd.jupyter.widget-view+json": {
       "model_id": "bb13221dde3f45de8d920fb77ebb4585",
       "version_major": 2,
       "version_minor": 0
      },
      "text/plain": [
       "HBox(children=(HTML(value=''), FloatProgress(value=0.0, max=2.0), HTML(value='')))"
      ]
     },
     "metadata": {},
     "output_type": "display_data"
    },
    {
     "name": "stdout",
     "output_type": "stream",
     "text": [
      "\n",
      "[2020-11-21 21:46:34,088][MainProcess][__main__][INFO] NLLLoss: 0.551\n",
      "[2020-11-21 21:46:34,150][MainProcess][lib.metrics.accuracy][INFO] Accuracy: 0.8631591796875 [7071 of 8192]\n",
      "––––––––––––––––––––––––––––––––––––––––––––––––––––––––––––––––––––––––––––––––––––––––––––––––––––\n",
      "[2020-11-21 21:46:34,159][MainProcess][__main__][INFO] Epoch: 1\n",
      "[2020-11-21 21:46:34,160][MainProcess][__main__][INFO] Training...\n"
     ]
    },
    {
     "data": {
      "application/vnd.jupyter.widget-view+json": {
       "model_id": "6061c47851184175bfde9fcfb2d47a24",
       "version_major": 2,
       "version_minor": 0
      },
      "text/plain": [
       "HBox(children=(HTML(value=''), FloatProgress(value=0.0, max=2371.0), HTML(value='')))"
      ]
     },
     "metadata": {},
     "output_type": "display_data"
    },
    {
     "name": "stdout",
     "output_type": "stream",
     "text": [
      "\n",
      "[2020-11-21 21:47:07,556][MainProcess][lib.checkpoint][INFO] Saving checkpoint: ../../experiments/relation_classifier.11_21_20:05:46/82977.pt\n"
     ]
    },
    {
     "data": {
      "application/vnd.jupyter.widget-view+json": {
       "model_id": "dff044a7715b424884a4e71db8cb75b8",
       "version_major": 2,
       "version_minor": 0
      },
      "text/plain": [
       "HBox(children=(HTML(value=''), FloatProgress(value=0.0, max=2.0), HTML(value='')))"
      ]
     },
     "metadata": {},
     "output_type": "display_data"
    },
    {
     "name": "stdout",
     "output_type": "stream",
     "text": [
      "\n",
      "[2020-11-21 21:47:10,024][MainProcess][__main__][INFO] NLLLoss: 0.521\n",
      "[2020-11-21 21:47:10,089][MainProcess][lib.metrics.accuracy][INFO] Accuracy: 0.8692626953125 [7121 of 8192]\n"
     ]
    },
    {
     "name": "stderr",
     "output_type": "stream",
     "text": [
      "\r",
      " 12%|█▏        | 118.88888888888913/1000.0 [1:31:38<11:52:03, 48.49s/it, min_score=-.881, models_evaluated=55]"
     ]
    },
    {
     "name": "stdout",
     "output_type": "stream",
     "text": [
      "––––––––––––––––––––––––––––––––––––––––––––––––––––––––––––––––––––––––––––––––––––––––––––––––––––\n",
      "====================================================================================================\n",
      "[2020-11-21 21:47:10,134][MainProcess][lib.configurable][INFO] Checking configuration...\n",
      "[2020-11-21 21:47:10,136][MainProcess][lib.configurable][INFO] Configuration checked.\n",
      "[2020-11-21 21:47:10,136][MainProcess][lib.checkpoint][INFO] Loading checkpoints from ../../experiments/relation_classifier.11_21_20:05:46/78386.pt onto device 0\n",
      "[2020-11-21 21:47:10,257][MainProcess][__main__][INFO] Epochs: 2\n",
      "[2020-11-21 21:47:10,259][MainProcess][__main__][INFO] Train Dataset Size: 75900\n",
      "[2020-11-21 21:47:10,260][MainProcess][__main__][INFO] Dev Dataset Size: 10845\n",
      "[2020-11-21 21:47:10,261][MainProcess][__main__][INFO] Train Batch Size: 32\n",
      "[2020-11-21 21:47:10,261][MainProcess][__main__][INFO] Train Max Batch Size: 1024\n",
      "[2020-11-21 21:47:10,262][MainProcess][__main__][INFO] Total Parameters: 3443235\n",
      "[2020-11-21 21:47:10,263][MainProcess][__main__][INFO] Model:\n",
      "SeqToLabel(\n",
      "  (encoder): SeqEncoder(\n",
      "    (embedding): Embedding(6899, 300, padding_idx=0)\n",
      "    (rnn): LSTM(300, 308, dropout=0.8172045803993682)\n",
      "    (rnn_dropout): LockedDropout(p=0.5736655628224125)\n",
      "    (embedding_dropout): Dropout(p=0.16061587602141839)\n",
      "  )\n",
      "  (out): Sequential(\n",
      "    (0): Linear(in_features=308, out_features=308, bias=True)\n",
      "    (1): BatchNorm1d(308, eps=1e-05, momentum=0.1, affine=True)\n",
      "    (2): ReLU()\n",
      "    (3): Dropout(p=0.4984412118762657)\n",
      "    (4): Linear(in_features=308, out_features=1703, bias=True)\n",
      "  )\n",
      ")\n",
      "[2020-11-21 21:47:10,264][MainProcess][__main__][INFO] Epoch: 0\n",
      "[2020-11-21 21:47:10,264][MainProcess][__main__][INFO] Training...\n"
     ]
    },
    {
     "data": {
      "application/vnd.jupyter.widget-view+json": {
       "model_id": "34f9b99b85624cca94728adad9f349aa",
       "version_major": 2,
       "version_minor": 0
      },
      "text/plain": [
       "HBox(children=(HTML(value=''), FloatProgress(value=0.0, max=2371.0), HTML(value='')))"
      ]
     },
     "metadata": {},
     "output_type": "display_data"
    },
    {
     "name": "stdout",
     "output_type": "stream",
     "text": [
      "\n",
      "[2020-11-21 21:47:29,531][MainProcess][lib.checkpoint][INFO] Saving checkpoint: ../../experiments/relation_classifier.11_21_20:05:46/82999.pt\n"
     ]
    },
    {
     "data": {
      "application/vnd.jupyter.widget-view+json": {
       "model_id": "c29f7af342c04eb2892d56d9a58a5b5e",
       "version_major": 2,
       "version_minor": 0
      },
      "text/plain": [
       "HBox(children=(HTML(value=''), FloatProgress(value=0.0, max=2.0), HTML(value='')))"
      ]
     },
     "metadata": {},
     "output_type": "display_data"
    },
    {
     "name": "stdout",
     "output_type": "stream",
     "text": [
      "\n",
      "[2020-11-21 21:47:31,237][MainProcess][__main__][INFO] NLLLoss: 0.562\n",
      "[2020-11-21 21:47:31,295][MainProcess][lib.metrics.accuracy][INFO] Accuracy: 0.856201171875 [7014 of 8192]\n",
      "––––––––––––––––––––––––––––––––––––––––––––––––––––––––––––––––––––––––––––––––––––––––––––––––––––\n",
      "[2020-11-21 21:47:31,303][MainProcess][__main__][INFO] Epoch: 1\n",
      "[2020-11-21 21:47:31,304][MainProcess][__main__][INFO] Training...\n"
     ]
    },
    {
     "data": {
      "application/vnd.jupyter.widget-view+json": {
       "model_id": "f817cfa3352b4bfaa9d408d92fa010af",
       "version_major": 2,
       "version_minor": 0
      },
      "text/plain": [
       "HBox(children=(HTML(value=''), FloatProgress(value=0.0, max=2371.0), HTML(value='')))"
      ]
     },
     "metadata": {},
     "output_type": "display_data"
    },
    {
     "name": "stdout",
     "output_type": "stream",
     "text": [
      "\n",
      "[2020-11-21 21:47:50,859][MainProcess][lib.checkpoint][INFO] Saving checkpoint: ../../experiments/relation_classifier.11_21_20:05:46/83020.pt\n"
     ]
    },
    {
     "data": {
      "application/vnd.jupyter.widget-view+json": {
       "model_id": "408d62797b3d48d6bb3a8f3761c4750f",
       "version_major": 2,
       "version_minor": 0
      },
      "text/plain": [
       "HBox(children=(HTML(value=''), FloatProgress(value=0.0, max=2.0), HTML(value='')))"
      ]
     },
     "metadata": {},
     "output_type": "display_data"
    },
    {
     "name": "stdout",
     "output_type": "stream",
     "text": [
      "\n",
      "[2020-11-21 21:47:53,643][MainProcess][__main__][INFO] NLLLoss: 0.515\n",
      "[2020-11-21 21:47:53,699][MainProcess][lib.metrics.accuracy][INFO] Accuracy: 0.86962890625 [7124 of 8192]\n"
     ]
    },
    {
     "name": "stderr",
     "output_type": "stream",
     "text": [
      "\r",
      " 12%|█▏        | 121.11111111111136/1000.0 [1:32:22<9:43:25, 39.83s/it, min_score=-.881, models_evaluated=55] "
     ]
    },
    {
     "name": "stdout",
     "output_type": "stream",
     "text": [
      "––––––––––––––––––––––––––––––––––––––––––––––––––––––––––––––––––––––––––––––––––––––––––––––––––––\n",
      "====================================================================================================\n",
      "[2020-11-21 21:47:53,744][MainProcess][lib.configurable][INFO] Checking configuration...\n",
      "[2020-11-21 21:47:53,745][MainProcess][lib.configurable][INFO] Configuration checked.\n",
      "[2020-11-21 21:47:53,746][MainProcess][lib.checkpoint][INFO] Loading checkpoints from ../../experiments/relation_classifier.11_21_20:05:46/77857.pt onto device 0\n",
      "[2020-11-21 21:47:53,827][MainProcess][__main__][INFO] Epochs: 2\n",
      "[2020-11-21 21:47:53,828][MainProcess][__main__][INFO] Train Dataset Size: 75900\n",
      "[2020-11-21 21:47:53,829][MainProcess][__main__][INFO] Dev Dataset Size: 10845\n",
      "[2020-11-21 21:47:53,830][MainProcess][__main__][INFO] Train Batch Size: 32\n",
      "[2020-11-21 21:47:53,831][MainProcess][__main__][INFO] Train Max Batch Size: 1024\n",
      "[2020-11-21 21:47:53,832][MainProcess][__main__][INFO] Total Parameters: 3538803\n",
      "[2020-11-21 21:47:53,834][MainProcess][__main__][INFO] Model:\n",
      "SeqToLabel(\n",
      "  (encoder): SeqEncoder(\n",
      "    (embedding): Embedding(6899, 300, padding_idx=0)\n",
      "    (rnn): LSTM(300, 115, num_layers=3, dropout=0.2951359137069116, bidirectional=True)\n",
      "    (rnn_dropout): LockedDropout(p=0.20491794582014097)\n",
      "    (embedding_dropout): Dropout(p=0.2718200178506121)\n",
      "  )\n",
      "  (out): Sequential(\n",
      "    (0): Linear(in_features=230, out_features=230, bias=True)\n",
      "    (1): BatchNorm1d(230, eps=1e-05, momentum=0.1, affine=True)\n",
      "    (2): ReLU()\n",
      "    (3): Dropout(p=0.3207305655402868)\n",
      "    (4): Linear(in_features=230, out_features=1703, bias=True)\n",
      "  )\n",
      ")\n",
      "[2020-11-21 21:47:53,834][MainProcess][__main__][INFO] Epoch: 0\n",
      "[2020-11-21 21:47:53,835][MainProcess][__main__][INFO] Training...\n"
     ]
    },
    {
     "data": {
      "application/vnd.jupyter.widget-view+json": {
       "model_id": "c96623a47011466793f3e8f7dbb4646b",
       "version_major": 2,
       "version_minor": 0
      },
      "text/plain": [
       "HBox(children=(HTML(value=''), FloatProgress(value=0.0, max=2371.0), HTML(value='')))"
      ]
     },
     "metadata": {},
     "output_type": "display_data"
    },
    {
     "name": "stdout",
     "output_type": "stream",
     "text": [
      "\n",
      "[2020-11-21 21:48:31,956][MainProcess][lib.checkpoint][INFO] Saving checkpoint: ../../experiments/relation_classifier.11_21_20:05:46/83061.pt\n"
     ]
    },
    {
     "data": {
      "application/vnd.jupyter.widget-view+json": {
       "model_id": "5bc1ffa3a7b643f681d208e0ca53e6f4",
       "version_major": 2,
       "version_minor": 0
      },
      "text/plain": [
       "HBox(children=(HTML(value=''), FloatProgress(value=0.0, max=2.0), HTML(value='')))"
      ]
     },
     "metadata": {},
     "output_type": "display_data"
    },
    {
     "name": "stdout",
     "output_type": "stream",
     "text": [
      "\n",
      "[2020-11-21 21:48:33,720][MainProcess][__main__][INFO] NLLLoss: 0.541\n",
      "[2020-11-21 21:48:33,777][MainProcess][lib.metrics.accuracy][INFO] Accuracy: 0.8563232421875 [7015 of 8192]\n",
      "––––––––––––––––––––––––––––––––––––––––––––––––––––––––––––––––––––––––––––––––––––––––––––––––––––\n",
      "[2020-11-21 21:48:33,785][MainProcess][__main__][INFO] Epoch: 1\n",
      "[2020-11-21 21:48:33,786][MainProcess][__main__][INFO] Training...\n"
     ]
    },
    {
     "data": {
      "application/vnd.jupyter.widget-view+json": {
       "model_id": "ab53178d25ee4675a7b88b6c33b88e29",
       "version_major": 2,
       "version_minor": 0
      },
      "text/plain": [
       "HBox(children=(HTML(value=''), FloatProgress(value=0.0, max=2371.0), HTML(value='')))"
      ]
     },
     "metadata": {},
     "output_type": "display_data"
    },
    {
     "name": "stdout",
     "output_type": "stream",
     "text": [
      "\n",
      "[2020-11-21 21:49:11,580][MainProcess][lib.checkpoint][INFO] Saving checkpoint: ../../experiments/relation_classifier.11_21_20:05:46/83101.pt\n"
     ]
    },
    {
     "data": {
      "application/vnd.jupyter.widget-view+json": {
       "model_id": "f2407b93e34f4d339e7872e432878d85",
       "version_major": 2,
       "version_minor": 0
      },
      "text/plain": [
       "HBox(children=(HTML(value=''), FloatProgress(value=0.0, max=2.0), HTML(value='')))"
      ]
     },
     "metadata": {},
     "output_type": "display_data"
    },
    {
     "name": "stdout",
     "output_type": "stream",
     "text": [
      "\n",
      "[2020-11-21 21:49:13,507][MainProcess][__main__][INFO] NLLLoss: 0.500\n",
      "[2020-11-21 21:49:13,565][MainProcess][lib.metrics.accuracy][INFO] Accuracy: 0.864990234375 [7086 of 8192]\n"
     ]
    },
    {
     "name": "stderr",
     "output_type": "stream",
     "text": [
      "\r",
      " 12%|█▏        | 123.33333333333358/1000.0 [1:33:42<9:24:52, 38.66s/it, min_score=-.881, models_evaluated=55]"
     ]
    },
    {
     "name": "stdout",
     "output_type": "stream",
     "text": [
      "––––––––––––––––––––––––––––––––––––––––––––––––––––––––––––––––––––––––––––––––––––––––––––––––––––\n",
      "====================================================================================================\n",
      "[2020-11-21 21:49:13,604][MainProcess][lib.configurable][INFO] Checking configuration...\n",
      "[2020-11-21 21:49:13,606][MainProcess][lib.configurable][INFO] Configuration checked.\n",
      "[2020-11-21 21:49:13,607][MainProcess][lib.checkpoint][INFO] Loading checkpoints from ../../experiments/relation_classifier.11_21_20:05:46/80182.pt onto device 0\n",
      "[2020-11-21 21:49:13,666][MainProcess][__main__][INFO] Epochs: 2\n",
      "[2020-11-21 21:49:13,668][MainProcess][__main__][INFO] Train Dataset Size: 75900\n",
      "[2020-11-21 21:49:13,669][MainProcess][__main__][INFO] Dev Dataset Size: 10845\n",
      "[2020-11-21 21:49:13,670][MainProcess][__main__][INFO] Train Batch Size: 32\n",
      "[2020-11-21 21:49:13,670][MainProcess][__main__][INFO] Train Max Batch Size: 1024\n",
      "[2020-11-21 21:49:13,672][MainProcess][__main__][INFO] Total Parameters: 715943\n",
      "[2020-11-21 21:49:13,673][MainProcess][__main__][INFO] Model:\n",
      "SeqToLabel(\n",
      "  (encoder): SeqEncoder(\n",
      "    (embedding): Embedding(6899, 300, padding_idx=0)\n",
      "    (rnn): GRU(300, 80, num_layers=3, dropout=0.08679215660651032, bidirectional=True)\n",
      "    (rnn_dropout): LockedDropout(p=0.21148135207058458)\n",
      "    (embedding_dropout): Dropout(p=0.5322115913866177)\n",
      "  )\n",
      "  (out): Sequential(\n",
      "    (0): Linear(in_features=160, out_features=160, bias=True)\n",
      "    (1): BatchNorm1d(160, eps=1e-05, momentum=0.1, affine=True)\n",
      "    (2): ReLU()\n",
      "    (3): Dropout(p=0.10480601214987847)\n",
      "    (4): Linear(in_features=160, out_features=1703, bias=True)\n",
      "  )\n",
      ")\n",
      "[2020-11-21 21:49:13,674][MainProcess][__main__][INFO] Epoch: 0\n",
      "[2020-11-21 21:49:13,675][MainProcess][__main__][INFO] Training...\n"
     ]
    },
    {
     "data": {
      "application/vnd.jupyter.widget-view+json": {
       "model_id": "c5f5127a59ea413689342177b9313606",
       "version_major": 2,
       "version_minor": 0
      },
      "text/plain": [
       "HBox(children=(HTML(value=''), FloatProgress(value=0.0, max=2371.0), HTML(value='')))"
      ]
     },
     "metadata": {},
     "output_type": "display_data"
    },
    {
     "name": "stdout",
     "output_type": "stream",
     "text": [
      "\n",
      "[2020-11-21 21:49:55,111][MainProcess][lib.checkpoint][INFO] Saving checkpoint: ../../experiments/relation_classifier.11_21_20:05:46/83144.pt\n"
     ]
    },
    {
     "data": {
      "application/vnd.jupyter.widget-view+json": {
       "model_id": "82d758a5a8de47d9bfd7cfa52bddb33b",
       "version_major": 2,
       "version_minor": 0
      },
      "text/plain": [
       "HBox(children=(HTML(value=''), FloatProgress(value=0.0, max=2.0), HTML(value='')))"
      ]
     },
     "metadata": {},
     "output_type": "display_data"
    },
    {
     "name": "stdout",
     "output_type": "stream",
     "text": [
      "\n",
      "[2020-11-21 21:49:56,166][MainProcess][__main__][INFO] NLLLoss: 0.532\n",
      "[2020-11-21 21:49:56,225][MainProcess][lib.metrics.accuracy][INFO] Accuracy: 0.85791015625 [7028 of 8192]\n",
      "––––––––––––––––––––––––––––––––––––––––––––––––––––––––––––––––––––––––––––––––––––––––––––––––––––\n",
      "[2020-11-21 21:49:56,233][MainProcess][__main__][INFO] Epoch: 1\n",
      "[2020-11-21 21:49:56,235][MainProcess][__main__][INFO] Training...\n"
     ]
    },
    {
     "data": {
      "application/vnd.jupyter.widget-view+json": {
       "model_id": "7d0a0ee3a47e4b608398ab0d1d664a27",
       "version_major": 2,
       "version_minor": 0
      },
      "text/plain": [
       "HBox(children=(HTML(value=''), FloatProgress(value=0.0, max=2371.0), HTML(value='')))"
      ]
     },
     "metadata": {},
     "output_type": "display_data"
    },
    {
     "name": "stdout",
     "output_type": "stream",
     "text": [
      "\n",
      "[2020-11-21 21:50:39,434][MainProcess][lib.checkpoint][INFO] Saving checkpoint: ../../experiments/relation_classifier.11_21_20:05:46/83189.pt\n"
     ]
    },
    {
     "data": {
      "application/vnd.jupyter.widget-view+json": {
       "model_id": "1fb3178538e845b3b2de3c1a78078aa6",
       "version_major": 2,
       "version_minor": 0
      },
      "text/plain": [
       "HBox(children=(HTML(value=''), FloatProgress(value=0.0, max=2.0), HTML(value='')))"
      ]
     },
     "metadata": {},
     "output_type": "display_data"
    },
    {
     "name": "stdout",
     "output_type": "stream",
     "text": [
      "\n",
      "[2020-11-21 21:50:40,294][MainProcess][__main__][INFO] NLLLoss: 0.490\n",
      "[2020-11-21 21:50:40,351][MainProcess][lib.metrics.accuracy][INFO] Accuracy: 0.865234375 [7088 of 8192]\n"
     ]
    },
    {
     "name": "stderr",
     "output_type": "stream",
     "text": [
      "\r",
      " 13%|█▎        | 125.55555555555581/1000.0 [1:35:08<9:25:09, 38.78s/it, min_score=-.881, models_evaluated=55]"
     ]
    },
    {
     "name": "stdout",
     "output_type": "stream",
     "text": [
      "––––––––––––––––––––––––––––––––––––––––––––––––––––––––––––––––––––––––––––––––––––––––––––––––––––\n",
      "====================================================================================================\n",
      "[2020-11-21 21:50:40,390][MainProcess][lib.configurable][INFO] Checking configuration...\n",
      "[2020-11-21 21:50:40,391][MainProcess][lib.configurable][INFO] Configuration checked.\n",
      "[2020-11-21 21:50:40,392][MainProcess][lib.checkpoint][INFO] Loading checkpoints from ../../experiments/relation_classifier.11_21_20:05:46/80481.pt onto device 0\n",
      "[2020-11-21 21:50:40,469][MainProcess][__main__][INFO] Epochs: 2\n",
      "[2020-11-21 21:50:40,471][MainProcess][__main__][INFO] Train Dataset Size: 75900\n",
      "[2020-11-21 21:50:40,472][MainProcess][__main__][INFO] Dev Dataset Size: 10845\n",
      "[2020-11-21 21:50:40,472][MainProcess][__main__][INFO] Train Batch Size: 32\n",
      "[2020-11-21 21:50:40,474][MainProcess][__main__][INFO] Train Max Batch Size: 1024\n",
      "[2020-11-21 21:50:40,476][MainProcess][__main__][INFO] Total Parameters: 1944287\n",
      "[2020-11-21 21:50:40,477][MainProcess][__main__][INFO] Model:\n",
      "SeqToLabel(\n",
      "  (encoder): SeqEncoder(\n",
      "    (embedding): Embedding(6899, 300, padding_idx=0)\n",
      "    (rnn): GRU(300, 186, num_layers=2, dropout=0.6898344632763894, bidirectional=True)\n",
      "    (rnn_dropout): LockedDropout(p=0.4961595443662393)\n",
      "    (embedding_dropout): Dropout(p=0.5479454181691622)\n",
      "  )\n",
      "  (out): Sequential(\n",
      "    (0): Linear(in_features=372, out_features=372, bias=True)\n",
      "    (1): BatchNorm1d(372, eps=1e-05, momentum=0.1, affine=True)\n",
      "    (2): ReLU()\n",
      "    (3): Dropout(p=0.3644137126927828)\n",
      "    (4): Linear(in_features=372, out_features=1703, bias=True)\n",
      "  )\n",
      ")\n",
      "[2020-11-21 21:50:40,477][MainProcess][__main__][INFO] Epoch: 0\n",
      "[2020-11-21 21:50:40,478][MainProcess][__main__][INFO] Training...\n"
     ]
    },
    {
     "data": {
      "application/vnd.jupyter.widget-view+json": {
       "model_id": "e9fc11feb6d245af9752a833a55abaea",
       "version_major": 2,
       "version_minor": 0
      },
      "text/plain": [
       "HBox(children=(HTML(value=''), FloatProgress(value=0.0, max=2371.0), HTML(value='')))"
      ]
     },
     "metadata": {},
     "output_type": "display_data"
    },
    {
     "name": "stdout",
     "output_type": "stream",
     "text": [
      "\n",
      "[2020-11-21 21:51:13,523][MainProcess][lib.checkpoint][INFO] Saving checkpoint: ../../experiments/relation_classifier.11_21_20:05:46/83223.pt\n"
     ]
    },
    {
     "data": {
      "application/vnd.jupyter.widget-view+json": {
       "model_id": "3d1a2b3257e74768a1a3cc1d163d6fd4",
       "version_major": 2,
       "version_minor": 0
      },
      "text/plain": [
       "HBox(children=(HTML(value=''), FloatProgress(value=0.0, max=2.0), HTML(value='')))"
      ]
     },
     "metadata": {},
     "output_type": "display_data"
    },
    {
     "name": "stdout",
     "output_type": "stream",
     "text": [
      "\n",
      "[2020-11-21 21:51:14,669][MainProcess][__main__][INFO] NLLLoss: 0.558\n",
      "[2020-11-21 21:51:14,730][MainProcess][lib.metrics.accuracy][INFO] Accuracy: 0.856689453125 [7018 of 8192]\n",
      "––––––––––––––––––––––––––––––––––––––––––––––––––––––––––––––––––––––––––––––––––––––––––––––––––––\n",
      "[2020-11-21 21:51:14,739][MainProcess][__main__][INFO] Epoch: 1\n",
      "[2020-11-21 21:51:14,740][MainProcess][__main__][INFO] Training...\n"
     ]
    },
    {
     "data": {
      "application/vnd.jupyter.widget-view+json": {
       "model_id": "9fd38aea1e934fa48423d63af20ceda6",
       "version_major": 2,
       "version_minor": 0
      },
      "text/plain": [
       "HBox(children=(HTML(value=''), FloatProgress(value=0.0, max=2371.0), HTML(value='')))"
      ]
     },
     "metadata": {},
     "output_type": "display_data"
    },
    {
     "name": "stdout",
     "output_type": "stream",
     "text": [
      "\n",
      "[2020-11-21 21:51:48,779][MainProcess][lib.checkpoint][INFO] Saving checkpoint: ../../experiments/relation_classifier.11_21_20:05:46/83258.pt\n"
     ]
    },
    {
     "data": {
      "application/vnd.jupyter.widget-view+json": {
       "model_id": "e9acc68d43b2441297f8b2bd143c8ca1",
       "version_major": 2,
       "version_minor": 0
      },
      "text/plain": [
       "HBox(children=(HTML(value=''), FloatProgress(value=0.0, max=2.0), HTML(value='')))"
      ]
     },
     "metadata": {},
     "output_type": "display_data"
    },
    {
     "name": "stdout",
     "output_type": "stream",
     "text": [
      "\n",
      "[2020-11-21 21:51:50,435][MainProcess][__main__][INFO] NLLLoss: 0.517\n",
      "[2020-11-21 21:51:50,494][MainProcess][lib.metrics.accuracy][INFO] Accuracy: 0.86083984375 [7052 of 8192]\n"
     ]
    },
    {
     "name": "stderr",
     "output_type": "stream",
     "text": [
      "\r",
      " 13%|█▎        | 127.77777777777804/1000.0 [1:36:18<8:52:16, 36.62s/it, min_score=-.881, models_evaluated=55]"
     ]
    },
    {
     "name": "stdout",
     "output_type": "stream",
     "text": [
      "––––––––––––––––––––––––––––––––––––––––––––––––––––––––––––––––––––––––––––––––––––––––––––––––––––\n",
      "====================================================================================================\n",
      "[2020-11-21 21:51:50,539][MainProcess][lib.configurable][INFO] Checking configuration...\n",
      "[2020-11-21 21:51:50,540][MainProcess][lib.configurable][INFO] Configuration checked.\n",
      "[2020-11-21 21:51:50,541][MainProcess][lib.checkpoint][INFO] Loading checkpoints from ../../experiments/relation_classifier.11_21_20:05:46/80058.pt onto device 0\n",
      "[2020-11-21 21:51:50,599][MainProcess][__main__][INFO] Epochs: 2\n",
      "[2020-11-21 21:51:50,600][MainProcess][__main__][INFO] Train Dataset Size: 75900\n",
      "[2020-11-21 21:51:50,601][MainProcess][__main__][INFO] Dev Dataset Size: 10845\n",
      "[2020-11-21 21:51:50,602][MainProcess][__main__][INFO] Train Batch Size: 32\n",
      "[2020-11-21 21:51:50,602][MainProcess][__main__][INFO] Train Max Batch Size: 1024\n",
      "[2020-11-21 21:51:50,603][MainProcess][__main__][INFO] Total Parameters: 430115\n",
      "[2020-11-21 21:51:50,605][MainProcess][__main__][INFO] Model:\n",
      "SeqToLabel(\n",
      "  (encoder): SeqEncoder(\n",
      "    (embedding): Embedding(6899, 300, padding_idx=0)\n",
      "    (rnn): GRU(300, 114, num_layers=2, dropout=0.0019945156936703404)\n",
      "    (rnn_dropout): LockedDropout(p=0.7572798758858026)\n",
      "    (embedding_dropout): Dropout(p=0.2739921929165717)\n",
      "  )\n",
      "  (out): Sequential(\n",
      "    (0): Linear(in_features=114, out_features=114, bias=True)\n",
      "    (1): BatchNorm1d(114, eps=1e-05, momentum=0.1, affine=True)\n",
      "    (2): ReLU()\n",
      "    (3): Dropout(p=0.3454151498109633)\n",
      "    (4): Linear(in_features=114, out_features=1703, bias=True)\n",
      "  )\n",
      ")\n",
      "[2020-11-21 21:51:50,605][MainProcess][__main__][INFO] Epoch: 0\n",
      "[2020-11-21 21:51:50,606][MainProcess][__main__][INFO] Training...\n"
     ]
    },
    {
     "data": {
      "application/vnd.jupyter.widget-view+json": {
       "model_id": "c37fdbcefe874492971f81e59eb4da62",
       "version_major": 2,
       "version_minor": 0
      },
      "text/plain": [
       "HBox(children=(HTML(value=''), FloatProgress(value=0.0, max=2371.0), HTML(value='')))"
      ]
     },
     "metadata": {},
     "output_type": "display_data"
    },
    {
     "name": "stdout",
     "output_type": "stream",
     "text": [
      "\n",
      "[2020-11-21 21:52:13,940][MainProcess][lib.checkpoint][INFO] Saving checkpoint: ../../experiments/relation_classifier.11_21_20:05:46/83283.pt\n"
     ]
    },
    {
     "data": {
      "application/vnd.jupyter.widget-view+json": {
       "model_id": "e70393388f3f443bbbf91b43546a5f7c",
       "version_major": 2,
       "version_minor": 0
      },
      "text/plain": [
       "HBox(children=(HTML(value=''), FloatProgress(value=0.0, max=2.0), HTML(value='')))"
      ]
     },
     "metadata": {},
     "output_type": "display_data"
    },
    {
     "name": "stdout",
     "output_type": "stream",
     "text": [
      "\n",
      "[2020-11-21 21:52:14,666][MainProcess][__main__][INFO] NLLLoss: 0.554\n",
      "[2020-11-21 21:52:14,739][MainProcess][lib.metrics.accuracy][INFO] Accuracy: 0.8607177734375 [7051 of 8192]\n",
      "––––––––––––––––––––––––––––––––––––––––––––––––––––––––––––––––––––––––––––––––––––––––––––––––––––\n",
      "[2020-11-21 21:52:14,748][MainProcess][__main__][INFO] Epoch: 1\n",
      "[2020-11-21 21:52:14,750][MainProcess][__main__][INFO] Training...\n"
     ]
    },
    {
     "data": {
      "application/vnd.jupyter.widget-view+json": {
       "model_id": "5bea37bf499a4adf901e83c199fa8f9e",
       "version_major": 2,
       "version_minor": 0
      },
      "text/plain": [
       "HBox(children=(HTML(value=''), FloatProgress(value=0.0, max=2371.0), HTML(value='')))"
      ]
     },
     "metadata": {},
     "output_type": "display_data"
    },
    {
     "name": "stdout",
     "output_type": "stream",
     "text": [
      "\n",
      "[2020-11-21 21:52:38,005][MainProcess][lib.checkpoint][INFO] Saving checkpoint: ../../experiments/relation_classifier.11_21_20:05:46/83307.pt\n"
     ]
    },
    {
     "data": {
      "application/vnd.jupyter.widget-view+json": {
       "model_id": "2ef28680d1cc4b0e83f7262fa13cdee9",
       "version_major": 2,
       "version_minor": 0
      },
      "text/plain": [
       "HBox(children=(HTML(value=''), FloatProgress(value=0.0, max=2.0), HTML(value='')))"
      ]
     },
     "metadata": {},
     "output_type": "display_data"
    },
    {
     "name": "stdout",
     "output_type": "stream",
     "text": [
      "\n",
      "[2020-11-21 21:52:39,206][MainProcess][__main__][INFO] NLLLoss: 0.513\n",
      "[2020-11-21 21:52:39,325][MainProcess][lib.metrics.accuracy][INFO] Accuracy: 0.8665771484375 [7099 of 8192]\n"
     ]
    },
    {
     "name": "stderr",
     "output_type": "stream",
     "text": [
      "\r",
      " 13%|█▎        | 130.00000000000026/1000.0 [1:37:07<7:47:14, 32.22s/it, min_score=-.881, models_evaluated=55]"
     ]
    },
    {
     "name": "stdout",
     "output_type": "stream",
     "text": [
      "––––––––––––––––––––––––––––––––––––––––––––––––––––––––––––––––––––––––––––––––––––––––––––––––––––\n",
      "====================================================================================================\n",
      "[2020-11-21 21:52:39,375][MainProcess][lib.configurable][INFO] Checking configuration...\n",
      "[2020-11-21 21:52:39,376][MainProcess][lib.configurable][INFO] Configuration checked.\n",
      "[2020-11-21 21:52:39,377][MainProcess][lib.checkpoint][INFO] Loading checkpoints from ../../experiments/relation_classifier.11_21_20:05:46/79501.pt onto device 0\n",
      "[2020-11-21 21:52:39,420][MainProcess][__main__][INFO] Epochs: 2\n",
      "[2020-11-21 21:52:39,421][MainProcess][__main__][INFO] Train Dataset Size: 75900\n",
      "[2020-11-21 21:52:39,422][MainProcess][__main__][INFO] Dev Dataset Size: 10845\n",
      "[2020-11-21 21:52:39,422][MainProcess][__main__][INFO] Train Batch Size: 32\n",
      "[2020-11-21 21:52:39,423][MainProcess][__main__][INFO] Train Max Batch Size: 1024\n",
      "[2020-11-21 21:52:39,423][MainProcess][__main__][INFO] Total Parameters: 463241\n",
      "[2020-11-21 21:52:39,424][MainProcess][__main__][INFO] Model:\n",
      "SeqToLabel(\n",
      "  (encoder): SeqEncoder(\n",
      "    (embedding): Embedding(6899, 300, padding_idx=0)\n",
      "    (rnn): GRU(300, 77, dropout=0.6498269815026569, bidirectional=True)\n",
      "    (rnn_dropout): LockedDropout(p=0.4190508636275304)\n",
      "    (embedding_dropout): Dropout(p=0.2364422117044623)\n",
      "  )\n",
      "  (out): Sequential(\n",
      "    (0): Linear(in_features=154, out_features=154, bias=True)\n",
      "    (1): BatchNorm1d(154, eps=1e-05, momentum=0.1, affine=True)\n",
      "    (2): ReLU()\n",
      "    (3): Dropout(p=0.5759912222481826)\n",
      "    (4): Linear(in_features=154, out_features=1703, bias=True)\n",
      "  )\n",
      ")\n",
      "[2020-11-21 21:52:39,425][MainProcess][__main__][INFO] Epoch: 0\n",
      "[2020-11-21 21:52:39,426][MainProcess][__main__][INFO] Training...\n"
     ]
    },
    {
     "data": {
      "application/vnd.jupyter.widget-view+json": {
       "model_id": "451592fac2f9454d827d9bcd5b43f79b",
       "version_major": 2,
       "version_minor": 0
      },
      "text/plain": [
       "HBox(children=(HTML(value=''), FloatProgress(value=0.0, max=2371.0), HTML(value='')))"
      ]
     },
     "metadata": {},
     "output_type": "display_data"
    },
    {
     "name": "stdout",
     "output_type": "stream",
     "text": [
      "\n",
      "[2020-11-21 21:53:02,517][MainProcess][lib.checkpoint][INFO] Saving checkpoint: ../../experiments/relation_classifier.11_21_20:05:46/83332.pt\n"
     ]
    },
    {
     "data": {
      "application/vnd.jupyter.widget-view+json": {
       "model_id": "9ab7f0bdef28464089ada8088c9b3502",
       "version_major": 2,
       "version_minor": 0
      },
      "text/plain": [
       "HBox(children=(HTML(value=''), FloatProgress(value=0.0, max=2.0), HTML(value='')))"
      ]
     },
     "metadata": {},
     "output_type": "display_data"
    },
    {
     "name": "stdout",
     "output_type": "stream",
     "text": [
      "\n",
      "[2020-11-21 21:53:03,331][MainProcess][__main__][INFO] NLLLoss: 0.590\n",
      "[2020-11-21 21:53:03,389][MainProcess][lib.metrics.accuracy][INFO] Accuracy: 0.8551025390625 [7005 of 8192]\n",
      "––––––––––––––––––––––––––––––––––––––––––––––––––––––––––––––––––––––––––––––––––––––––––––––––––––\n",
      "[2020-11-21 21:53:03,396][MainProcess][__main__][INFO] Epoch: 1\n",
      "[2020-11-21 21:53:03,398][MainProcess][__main__][INFO] Training...\n"
     ]
    },
    {
     "data": {
      "application/vnd.jupyter.widget-view+json": {
       "model_id": "c60b494623ec41e09a86703a9a39d0f4",
       "version_major": 2,
       "version_minor": 0
      },
      "text/plain": [
       "HBox(children=(HTML(value=''), FloatProgress(value=0.0, max=2371.0), HTML(value='')))"
      ]
     },
     "metadata": {},
     "output_type": "display_data"
    },
    {
     "name": "stdout",
     "output_type": "stream",
     "text": [
      "\n",
      "[2020-11-21 21:53:27,476][MainProcess][lib.checkpoint][INFO] Saving checkpoint: ../../experiments/relation_classifier.11_21_20:05:46/83357.pt\n"
     ]
    },
    {
     "data": {
      "application/vnd.jupyter.widget-view+json": {
       "model_id": "e4f4626553364808801aeb5ab06e5505",
       "version_major": 2,
       "version_minor": 0
      },
      "text/plain": [
       "HBox(children=(HTML(value=''), FloatProgress(value=0.0, max=2.0), HTML(value='')))"
      ]
     },
     "metadata": {},
     "output_type": "display_data"
    },
    {
     "name": "stdout",
     "output_type": "stream",
     "text": [
      "\n",
      "[2020-11-21 21:53:28,259][MainProcess][__main__][INFO] NLLLoss: 0.536\n",
      "[2020-11-21 21:53:28,318][MainProcess][lib.metrics.accuracy][INFO] Accuracy: 0.866943359375 [7102 of 8192]\n"
     ]
    },
    {
     "name": "stderr",
     "output_type": "stream",
     "text": [
      "\r",
      " 13%|█▎        | 132.22222222222248/1000.0 [1:37:56<7:01:51, 29.17s/it, min_score=-.881, models_evaluated=55]"
     ]
    },
    {
     "name": "stdout",
     "output_type": "stream",
     "text": [
      "––––––––––––––––––––––––––––––––––––––––––––––––––––––––––––––––––––––––––––––––––––––––––––––––––––\n",
      "====================================================================================================\n",
      "[2020-11-21 21:53:28,354][MainProcess][lib.configurable][INFO] Checking configuration...\n",
      "[2020-11-21 21:53:28,356][MainProcess][lib.configurable][INFO] Configuration checked.\n",
      "[2020-11-21 21:53:28,357][MainProcess][lib.checkpoint][INFO] Loading checkpoints from ../../experiments/relation_classifier.11_21_20:05:46/77551.pt onto device 0\n",
      "[2020-11-21 21:53:28,411][MainProcess][__main__][INFO] Epochs: 2\n",
      "[2020-11-21 21:53:28,412][MainProcess][__main__][INFO] Train Dataset Size: 75900\n",
      "[2020-11-21 21:53:28,413][MainProcess][__main__][INFO] Dev Dataset Size: 10845\n",
      "[2020-11-21 21:53:28,414][MainProcess][__main__][INFO] Train Batch Size: 32\n",
      "[2020-11-21 21:53:28,415][MainProcess][__main__][INFO] Train Max Batch Size: 1024\n",
      "[2020-11-21 21:53:28,416][MainProcess][__main__][INFO] Total Parameters: 901423\n",
      "[2020-11-21 21:53:28,417][MainProcess][__main__][INFO] Model:\n",
      "SeqToLabel(\n",
      "  (encoder): SeqEncoder(\n",
      "    (embedding): Embedding(6899, 300, padding_idx=0)\n",
      "    (rnn): LSTM(300, 83, num_layers=3, dropout=0.525973750342211, bidirectional=True)\n",
      "    (rnn_dropout): LockedDropout(p=0.2606334235685574)\n",
      "    (embedding_dropout): Dropout(p=0.005555191868468435)\n",
      "  )\n",
      "  (out): Sequential(\n",
      "    (0): Linear(in_features=166, out_features=166, bias=True)\n",
      "    (1): BatchNorm1d(166, eps=1e-05, momentum=0.1, affine=True)\n",
      "    (2): ReLU()\n",
      "    (3): Dropout(p=0.11619191891233355)\n",
      "    (4): Linear(in_features=166, out_features=1703, bias=True)\n",
      "  )\n",
      ")\n",
      "[2020-11-21 21:53:28,419][MainProcess][__main__][INFO] Epoch: 0\n",
      "[2020-11-21 21:53:28,420][MainProcess][__main__][INFO] Training...\n"
     ]
    },
    {
     "data": {
      "application/vnd.jupyter.widget-view+json": {
       "model_id": "3d71fc71c6454436846562325c04f1d5",
       "version_major": 2,
       "version_minor": 0
      },
      "text/plain": [
       "HBox(children=(HTML(value=''), FloatProgress(value=0.0, max=2371.0), HTML(value='')))"
      ]
     },
     "metadata": {},
     "output_type": "display_data"
    },
    {
     "name": "stdout",
     "output_type": "stream",
     "text": [
      "\n",
      "[2020-11-21 21:54:13,161][MainProcess][lib.checkpoint][INFO] Saving checkpoint: ../../experiments/relation_classifier.11_21_20:05:46/83402.pt\n"
     ]
    },
    {
     "data": {
      "application/vnd.jupyter.widget-view+json": {
       "model_id": "5dbf1d5bb4f546d39f2bc1312c1255f2",
       "version_major": 2,
       "version_minor": 0
      },
      "text/plain": [
       "HBox(children=(HTML(value=''), FloatProgress(value=0.0, max=2.0), HTML(value='')))"
      ]
     },
     "metadata": {},
     "output_type": "display_data"
    },
    {
     "name": "stdout",
     "output_type": "stream",
     "text": [
      "\n",
      "[2020-11-21 21:54:14,098][MainProcess][__main__][INFO] NLLLoss: 0.531\n",
      "[2020-11-21 21:54:14,156][MainProcess][lib.metrics.accuracy][INFO] Accuracy: 0.8531494140625 [6989 of 8192]\n",
      "––––––––––––––––––––––––––––––––––––––––––––––––––––––––––––––––––––––––––––––––––––––––––––––––––––\n",
      "[2020-11-21 21:54:14,164][MainProcess][__main__][INFO] Epoch: 1\n",
      "[2020-11-21 21:54:14,165][MainProcess][__main__][INFO] Training...\n"
     ]
    },
    {
     "data": {
      "application/vnd.jupyter.widget-view+json": {
       "model_id": "7bec55f8c5ff4fd7ac95f9b3b4e38c8a",
       "version_major": 2,
       "version_minor": 0
      },
      "text/plain": [
       "HBox(children=(HTML(value=''), FloatProgress(value=0.0, max=2371.0), HTML(value='')))"
      ]
     },
     "metadata": {},
     "output_type": "display_data"
    },
    {
     "name": "stdout",
     "output_type": "stream",
     "text": [
      "\n",
      "[2020-11-21 21:54:59,442][MainProcess][lib.checkpoint][INFO] Saving checkpoint: ../../experiments/relation_classifier.11_21_20:05:46/83449.pt\n"
     ]
    },
    {
     "data": {
      "application/vnd.jupyter.widget-view+json": {
       "model_id": "21810b49bdd5474bbe40c7e03e20e644",
       "version_major": 2,
       "version_minor": 0
      },
      "text/plain": [
       "HBox(children=(HTML(value=''), FloatProgress(value=0.0, max=2.0), HTML(value='')))"
      ]
     },
     "metadata": {},
     "output_type": "display_data"
    },
    {
     "name": "stdout",
     "output_type": "stream",
     "text": [
      "\n",
      "[2020-11-21 21:55:01,494][MainProcess][__main__][INFO] NLLLoss: 0.498\n",
      "[2020-11-21 21:55:01,557][MainProcess][lib.metrics.accuracy][INFO] Accuracy: 0.86328125 [7072 of 8192]\n"
     ]
    },
    {
     "name": "stderr",
     "output_type": "stream",
     "text": [
      "\r",
      " 13%|█▎        | 134.4444444444447/1000.0 [1:39:30<7:56:08, 33.01s/it, min_score=-.881, models_evaluated=55] "
     ]
    },
    {
     "name": "stdout",
     "output_type": "stream",
     "text": [
      "––––––––––––––––––––––––––––––––––––––––––––––––––––––––––––––––––––––––––––––––––––––––––––––––––––\n",
      "====================================================================================================\n",
      "[2020-11-21 21:55:01,681][MainProcess][lib.configurable][INFO] Checking configuration...\n",
      "[2020-11-21 21:55:01,683][MainProcess][lib.configurable][INFO] Configuration checked.\n",
      "[2020-11-21 21:55:01,684][MainProcess][lib.checkpoint][INFO] Loading checkpoints from ../../experiments/relation_classifier.11_21_20:05:46/79710.pt onto device 0\n",
      "[2020-11-21 21:55:01,903][MainProcess][__main__][INFO] Epochs: 2\n",
      "[2020-11-21 21:55:01,905][MainProcess][__main__][INFO] Train Dataset Size: 75900\n",
      "[2020-11-21 21:55:01,906][MainProcess][__main__][INFO] Dev Dataset Size: 10845\n",
      "[2020-11-21 21:55:01,906][MainProcess][__main__][INFO] Train Batch Size: 32\n",
      "[2020-11-21 21:55:01,907][MainProcess][__main__][INFO] Train Max Batch Size: 1024\n",
      "[2020-11-21 21:55:01,909][MainProcess][__main__][INFO] Total Parameters: 3640163\n",
      "[2020-11-21 21:55:01,910][MainProcess][__main__][INFO] Model:\n",
      "SeqToLabel(\n",
      "  (encoder): SeqEncoder(\n",
      "    (embedding): Embedding(6899, 300, padding_idx=0)\n",
      "    (rnn): LSTM(300, 340, dropout=0.09659281711524169)\n",
      "    (rnn_dropout): LockedDropout(p=0.6980313563659972)\n",
      "    (embedding_dropout): Dropout(p=0.28115255187526816)\n",
      "  )\n",
      "  (out): Sequential(\n",
      "    (0): Linear(in_features=340, out_features=340, bias=True)\n",
      "    (1): BatchNorm1d(340, eps=1e-05, momentum=0.1, affine=True)\n",
      "    (2): ReLU()\n",
      "    (3): Dropout(p=0.4063639541475585)\n",
      "    (4): Linear(in_features=340, out_features=1703, bias=True)\n",
      "  )\n",
      ")\n",
      "[2020-11-21 21:55:01,911][MainProcess][__main__][INFO] Epoch: 0\n",
      "[2020-11-21 21:55:01,911][MainProcess][__main__][INFO] Training...\n"
     ]
    },
    {
     "data": {
      "application/vnd.jupyter.widget-view+json": {
       "model_id": "40ea5fee5d04489eb6a8869944976a30",
       "version_major": 2,
       "version_minor": 0
      },
      "text/plain": [
       "HBox(children=(HTML(value=''), FloatProgress(value=0.0, max=2371.0), HTML(value='')))"
      ]
     },
     "metadata": {},
     "output_type": "display_data"
    },
    {
     "name": "stdout",
     "output_type": "stream",
     "text": [
      "\n",
      "[2020-11-21 21:55:23,857][MainProcess][lib.checkpoint][INFO] Saving checkpoint: ../../experiments/relation_classifier.11_21_20:05:46/83473.pt\n"
     ]
    },
    {
     "data": {
      "application/vnd.jupyter.widget-view+json": {
       "model_id": "e6d1454684ff4e1f985d7e106fdc04e4",
       "version_major": 2,
       "version_minor": 0
      },
      "text/plain": [
       "HBox(children=(HTML(value=''), FloatProgress(value=0.0, max=2.0), HTML(value='')))"
      ]
     },
     "metadata": {},
     "output_type": "display_data"
    },
    {
     "name": "stdout",
     "output_type": "stream",
     "text": [
      "\n",
      "[2020-11-21 21:55:25,338][MainProcess][__main__][INFO] NLLLoss: 0.573\n",
      "[2020-11-21 21:55:25,495][MainProcess][lib.metrics.accuracy][INFO] Accuracy: 0.8548583984375 [7003 of 8192]\n",
      "––––––––––––––––––––––––––––––––––––––––––––––––––––––––––––––––––––––––––––––––––––––––––––––––––––\n",
      "[2020-11-21 21:55:25,506][MainProcess][__main__][INFO] Epoch: 1\n",
      "[2020-11-21 21:55:25,508][MainProcess][__main__][INFO] Training...\n"
     ]
    },
    {
     "data": {
      "application/vnd.jupyter.widget-view+json": {
       "model_id": "573b16ebd6f941c48c33c454c9cb7b98",
       "version_major": 2,
       "version_minor": 0
      },
      "text/plain": [
       "HBox(children=(HTML(value=''), FloatProgress(value=0.0, max=2371.0), HTML(value='')))"
      ]
     },
     "metadata": {},
     "output_type": "display_data"
    },
    {
     "name": "stdout",
     "output_type": "stream",
     "text": [
      "\n",
      "[2020-11-21 21:55:47,639][MainProcess][lib.checkpoint][INFO] Saving checkpoint: ../../experiments/relation_classifier.11_21_20:05:46/83497.pt\n"
     ]
    },
    {
     "data": {
      "application/vnd.jupyter.widget-view+json": {
       "model_id": "3d79201bd62248bd89757f5615117bfd",
       "version_major": 2,
       "version_minor": 0
      },
      "text/plain": [
       "HBox(children=(HTML(value=''), FloatProgress(value=0.0, max=2.0), HTML(value='')))"
      ]
     },
     "metadata": {},
     "output_type": "display_data"
    },
    {
     "name": "stdout",
     "output_type": "stream",
     "text": [
      "\n",
      "[2020-11-21 21:55:49,512][MainProcess][__main__][INFO] NLLLoss: 0.514\n",
      "[2020-11-21 21:55:49,571][MainProcess][lib.metrics.accuracy][INFO] Accuracy: 0.86572265625 [7092 of 8192]\n"
     ]
    },
    {
     "name": "stderr",
     "output_type": "stream",
     "text": [
      "\r",
      " 14%|█▎        | 136.66666666666694/1000.0 [1:40:18<7:05:42, 29.59s/it, min_score=-.881, models_evaluated=55]"
     ]
    },
    {
     "name": "stdout",
     "output_type": "stream",
     "text": [
      "––––––––––––––––––––––––––––––––––––––––––––––––––––––––––––––––––––––––––––––––––––––––––––––––––––\n",
      "====================================================================================================\n",
      "[2020-11-21 21:55:49,613][MainProcess][lib.configurable][INFO] Checking configuration...\n",
      "[2020-11-21 21:55:49,615][MainProcess][lib.configurable][INFO] Configuration checked.\n",
      "[2020-11-21 21:55:49,616][MainProcess][lib.checkpoint][INFO] Loading checkpoints from ../../experiments/relation_classifier.11_21_20:05:46/79769.pt onto device 0\n",
      "[2020-11-21 21:55:49,665][MainProcess][__main__][INFO] Epochs: 2\n",
      "[2020-11-21 21:55:49,666][MainProcess][__main__][INFO] Train Dataset Size: 75900\n",
      "[2020-11-21 21:55:49,667][MainProcess][__main__][INFO] Dev Dataset Size: 10845\n",
      "[2020-11-21 21:55:49,668][MainProcess][__main__][INFO] Train Batch Size: 32\n",
      "[2020-11-21 21:55:49,669][MainProcess][__main__][INFO] Train Max Batch Size: 1024\n",
      "[2020-11-21 21:55:49,670][MainProcess][__main__][INFO] Total Parameters: 815719\n",
      "[2020-11-21 21:55:49,671][MainProcess][__main__][INFO] Model:\n",
      "SeqToLabel(\n",
      "  (encoder): SeqEncoder(\n",
      "    (embedding): Embedding(6899, 300, padding_idx=0)\n",
      "    (rnn): GRU(300, 158, num_layers=3, dropout=0.5374791417201902)\n",
      "    (rnn_dropout): LockedDropout(p=0.6639322109860698)\n",
      "    (embedding_dropout): Dropout(p=0.03917265988393023)\n",
      "  )\n",
      "  (out): Sequential(\n",
      "    (0): Linear(in_features=158, out_features=158, bias=True)\n",
      "    (1): BatchNorm1d(158, eps=1e-05, momentum=0.1, affine=True)\n",
      "    (2): ReLU()\n",
      "    (3): Dropout(p=0.12042613400992064)\n",
      "    (4): Linear(in_features=158, out_features=1703, bias=True)\n",
      "  )\n",
      ")\n",
      "[2020-11-21 21:55:49,672][MainProcess][__main__][INFO] Epoch: 0\n",
      "[2020-11-21 21:55:49,673][MainProcess][__main__][INFO] Training...\n"
     ]
    },
    {
     "data": {
      "application/vnd.jupyter.widget-view+json": {
       "model_id": "3e9b3c82e6044a82ad295368fa686a54",
       "version_major": 2,
       "version_minor": 0
      },
      "text/plain": [
       "HBox(children=(HTML(value=''), FloatProgress(value=0.0, max=2371.0), HTML(value='')))"
      ]
     },
     "metadata": {},
     "output_type": "display_data"
    },
    {
     "name": "stdout",
     "output_type": "stream",
     "text": [
      "\n",
      "[2020-11-21 21:56:18,200][MainProcess][lib.checkpoint][INFO] Saving checkpoint: ../../experiments/relation_classifier.11_21_20:05:46/83527.pt\n"
     ]
    },
    {
     "data": {
      "application/vnd.jupyter.widget-view+json": {
       "model_id": "2ea8599028124bdab75b15669eddc99a",
       "version_major": 2,
       "version_minor": 0
      },
      "text/plain": [
       "HBox(children=(HTML(value=''), FloatProgress(value=0.0, max=2.0), HTML(value='')))"
      ]
     },
     "metadata": {},
     "output_type": "display_data"
    },
    {
     "name": "stdout",
     "output_type": "stream",
     "text": [
      "\n",
      "[2020-11-21 21:56:19,381][MainProcess][__main__][INFO] NLLLoss: 0.556\n",
      "[2020-11-21 21:56:19,537][MainProcess][lib.metrics.accuracy][INFO] Accuracy: 0.8470458984375 [6939 of 8192]\n",
      "––––––––––––––––––––––––––––––––––––––––––––––––––––––––––––––––––––––––––––––––––––––––––––––––––––\n",
      "[2020-11-21 21:56:19,550][MainProcess][__main__][INFO] Epoch: 1\n",
      "[2020-11-21 21:56:19,552][MainProcess][__main__][INFO] Training...\n"
     ]
    },
    {
     "data": {
      "application/vnd.jupyter.widget-view+json": {
       "model_id": "8b10e5d23b2d45d28fdfa37233bb585d",
       "version_major": 2,
       "version_minor": 0
      },
      "text/plain": [
       "HBox(children=(HTML(value=''), FloatProgress(value=0.0, max=2371.0), HTML(value='')))"
      ]
     },
     "metadata": {},
     "output_type": "display_data"
    },
    {
     "name": "stdout",
     "output_type": "stream",
     "text": [
      "\n",
      "[2020-11-21 21:56:47,991][MainProcess][lib.checkpoint][INFO] Saving checkpoint: ../../experiments/relation_classifier.11_21_20:05:46/83557.pt\n"
     ]
    },
    {
     "data": {
      "application/vnd.jupyter.widget-view+json": {
       "model_id": "26b12d51e9c44759887f492bf2a3cd29",
       "version_major": 2,
       "version_minor": 0
      },
      "text/plain": [
       "HBox(children=(HTML(value=''), FloatProgress(value=0.0, max=2.0), HTML(value='')))"
      ]
     },
     "metadata": {},
     "output_type": "display_data"
    },
    {
     "name": "stdout",
     "output_type": "stream",
     "text": [
      "\n",
      "[2020-11-21 21:56:49,210][MainProcess][__main__][INFO] NLLLoss: 0.503\n",
      "[2020-11-21 21:56:49,330][MainProcess][lib.metrics.accuracy][INFO] Accuracy: 0.86865234375 [7116 of 8192]\n"
     ]
    },
    {
     "name": "stderr",
     "output_type": "stream",
     "text": [
      "\r",
      " 14%|█▍        | 138.88888888888917/1000.0 [1:41:17<6:53:01, 28.78s/it, min_score=-.881, models_evaluated=55]"
     ]
    },
    {
     "name": "stdout",
     "output_type": "stream",
     "text": [
      "––––––––––––––––––––––––––––––––––––––––––––––––––––––––––––––––––––––––––––––––––––––––––––––––––––\n",
      "====================================================================================================\n",
      "[2020-11-21 21:56:49,375][MainProcess][lib.configurable][INFO] Checking configuration...\n",
      "[2020-11-21 21:56:49,376][MainProcess][lib.configurable][INFO] Configuration checked.\n",
      "[2020-11-21 21:56:49,377][MainProcess][lib.checkpoint][INFO] Loading checkpoints from ../../experiments/relation_classifier.11_21_20:05:46/79923.pt onto device 0\n",
      "[2020-11-21 21:56:49,468][MainProcess][__main__][INFO] Epochs: 2\n",
      "[2020-11-21 21:56:49,469][MainProcess][__main__][INFO] Train Dataset Size: 75900\n",
      "[2020-11-21 21:56:49,471][MainProcess][__main__][INFO] Dev Dataset Size: 10845\n",
      "[2020-11-21 21:56:49,472][MainProcess][__main__][INFO] Train Batch Size: 32\n",
      "[2020-11-21 21:56:49,473][MainProcess][__main__][INFO] Train Max Batch Size: 1024\n",
      "[2020-11-21 21:56:49,474][MainProcess][__main__][INFO] Total Parameters: 4182803\n",
      "[2020-11-21 21:56:49,475][MainProcess][__main__][INFO] Model:\n",
      "SeqToLabel(\n",
      "  (encoder): SeqEncoder(\n",
      "    (embedding): Embedding(6899, 300, padding_idx=0)\n",
      "    (rnn): LSTM(300, 306, num_layers=2, dropout=0.4604276244030241)\n",
      "    (rnn_dropout): LockedDropout(p=0.769252266138796)\n",
      "    (embedding_dropout): Dropout(p=0.5632805511518368)\n",
      "  )\n",
      "  (out): Sequential(\n",
      "    (0): Linear(in_features=306, out_features=306, bias=True)\n",
      "    (1): BatchNorm1d(306, eps=1e-05, momentum=0.1, affine=True)\n",
      "    (2): ReLU()\n",
      "    (3): Dropout(p=0.21165645185190285)\n",
      "    (4): Linear(in_features=306, out_features=1703, bias=True)\n",
      "  )\n",
      ")\n",
      "[2020-11-21 21:56:49,475][MainProcess][__main__][INFO] Epoch: 0\n",
      "[2020-11-21 21:56:49,476][MainProcess][__main__][INFO] Training...\n"
     ]
    },
    {
     "data": {
      "application/vnd.jupyter.widget-view+json": {
       "model_id": "6fef18f36ae14cce984fdcc8cf099a61",
       "version_major": 2,
       "version_minor": 0
      },
      "text/plain": [
       "HBox(children=(HTML(value=''), FloatProgress(value=0.0, max=2371.0), HTML(value='')))"
      ]
     },
     "metadata": {},
     "output_type": "display_data"
    },
    {
     "name": "stdout",
     "output_type": "stream",
     "text": [
      "\n",
      "[2020-11-21 21:57:15,374][MainProcess][lib.checkpoint][INFO] Saving checkpoint: ../../experiments/relation_classifier.11_21_20:05:46/83585.pt\n"
     ]
    },
    {
     "data": {
      "application/vnd.jupyter.widget-view+json": {
       "model_id": "1fb755669e864a12a74a6e7a9c70cf0d",
       "version_major": 2,
       "version_minor": 0
      },
      "text/plain": [
       "HBox(children=(HTML(value=''), FloatProgress(value=0.0, max=2.0), HTML(value='')))"
      ]
     },
     "metadata": {},
     "output_type": "display_data"
    },
    {
     "name": "stdout",
     "output_type": "stream",
     "text": [
      "\n",
      "[2020-11-21 21:57:17,610][MainProcess][__main__][INFO] NLLLoss: 0.537\n",
      "[2020-11-21 21:57:17,669][MainProcess][lib.metrics.accuracy][INFO] Accuracy: 0.8543701171875 [6999 of 8192]\n",
      "––––––––––––––––––––––––––––––––––––––––––––––––––––––––––––––––––––––––––––––––––––––––––––––––––––\n",
      "[2020-11-21 21:57:17,677][MainProcess][__main__][INFO] Epoch: 1\n",
      "[2020-11-21 21:57:17,678][MainProcess][__main__][INFO] Training...\n"
     ]
    },
    {
     "data": {
      "application/vnd.jupyter.widget-view+json": {
       "model_id": "c4d67b1330ba41b38f1622f968cbafc8",
       "version_major": 2,
       "version_minor": 0
      },
      "text/plain": [
       "HBox(children=(HTML(value=''), FloatProgress(value=0.0, max=2371.0), HTML(value='')))"
      ]
     },
     "metadata": {},
     "output_type": "display_data"
    },
    {
     "name": "stdout",
     "output_type": "stream",
     "text": [
      "\n",
      "[2020-11-21 21:57:45,783][MainProcess][lib.checkpoint][INFO] Saving checkpoint: ../../experiments/relation_classifier.11_21_20:05:46/83615.pt\n"
     ]
    },
    {
     "data": {
      "application/vnd.jupyter.widget-view+json": {
       "model_id": "4bd2ab3ec3a347c583513e7146e997d1",
       "version_major": 2,
       "version_minor": 0
      },
      "text/plain": [
       "HBox(children=(HTML(value=''), FloatProgress(value=0.0, max=2.0), HTML(value='')))"
      ]
     },
     "metadata": {},
     "output_type": "display_data"
    },
    {
     "name": "stdout",
     "output_type": "stream",
     "text": [
      "\n",
      "[2020-11-21 21:57:48,544][MainProcess][__main__][INFO] NLLLoss: 0.497\n",
      "[2020-11-21 21:57:48,603][MainProcess][lib.metrics.accuracy][INFO] Accuracy: 0.8692626953125 [7121 of 8192]\n"
     ]
    },
    {
     "name": "stderr",
     "output_type": "stream",
     "text": [
      "\r",
      " 14%|█▍        | 141.1111111111114/1000.0 [1:42:17<6:42:57, 28.15s/it, min_score=-.881, models_evaluated=55] "
     ]
    },
    {
     "name": "stdout",
     "output_type": "stream",
     "text": [
      "––––––––––––––––––––––––––––––––––––––––––––––––––––––––––––––––––––––––––––––––––––––––––––––––––––\n",
      "====================================================================================================\n",
      "[2020-11-21 21:57:48,669][MainProcess][lib.configurable][INFO] Checking configuration...\n",
      "[2020-11-21 21:57:48,671][MainProcess][lib.configurable][INFO] Configuration checked.\n",
      "[2020-11-21 21:57:48,672][MainProcess][lib.checkpoint][INFO] Loading checkpoints from ../../experiments/relation_classifier.11_21_20:05:46/80095.pt onto device 0\n",
      "[2020-11-21 21:57:48,772][MainProcess][__main__][INFO] Epochs: 2\n",
      "[2020-11-21 21:57:48,773][MainProcess][__main__][INFO] Train Dataset Size: 75900\n",
      "[2020-11-21 21:57:48,774][MainProcess][__main__][INFO] Dev Dataset Size: 10845\n",
      "[2020-11-21 21:57:48,775][MainProcess][__main__][INFO] Train Batch Size: 32\n",
      "[2020-11-21 21:57:48,776][MainProcess][__main__][INFO] Train Max Batch Size: 1024\n",
      "[2020-11-21 21:57:48,778][MainProcess][__main__][INFO] Total Parameters: 2614455\n",
      "[2020-11-21 21:57:48,779][MainProcess][__main__][INFO] Model:\n",
      "SeqToLabel(\n",
      "  (encoder): SeqEncoder(\n",
      "    (embedding): Embedding(6899, 300, padding_idx=0)\n",
      "    (rnn): LSTM(300, 488, dropout=0.09522070249868723)\n",
      "    (rnn_dropout): LockedDropout(p=0.32160103100126913)\n",
      "    (embedding_dropout): Dropout(p=0.1053481474411706)\n",
      "  )\n",
      "  (out): Sequential(\n",
      "    (0): Linear(in_features=488, out_features=488, bias=True)\n",
      "    (1): BatchNorm1d(488, eps=1e-05, momentum=0.1, affine=True)\n",
      "    (2): ReLU()\n",
      "    (3): Dropout(p=0.5951350728985371)\n",
      "    (4): Linear(in_features=488, out_features=1703, bias=True)\n",
      "  )\n",
      ")\n",
      "[2020-11-21 21:57:48,780][MainProcess][__main__][INFO] Epoch: 0\n",
      "[2020-11-21 21:57:48,781][MainProcess][__main__][INFO] Training...\n"
     ]
    },
    {
     "data": {
      "application/vnd.jupyter.widget-view+json": {
       "model_id": "ec0f569d1b604bb6ac574a6303ba1f2d",
       "version_major": 2,
       "version_minor": 0
      },
      "text/plain": [
       "HBox(children=(HTML(value=''), FloatProgress(value=0.0, max=2371.0), HTML(value='')))"
      ]
     },
     "metadata": {},
     "output_type": "display_data"
    },
    {
     "name": "stdout",
     "output_type": "stream",
     "text": [
      "\n",
      "[2020-11-21 21:58:09,416][MainProcess][lib.checkpoint][INFO] Saving checkpoint: ../../experiments/relation_classifier.11_21_20:05:46/83639.pt\n"
     ]
    },
    {
     "data": {
      "application/vnd.jupyter.widget-view+json": {
       "model_id": "3cad794e64d04db4a13ff2be0c17d269",
       "version_major": 2,
       "version_minor": 0
      },
      "text/plain": [
       "HBox(children=(HTML(value=''), FloatProgress(value=0.0, max=2.0), HTML(value='')))"
      ]
     },
     "metadata": {},
     "output_type": "display_data"
    },
    {
     "name": "stdout",
     "output_type": "stream",
     "text": [
      "\n",
      "[2020-11-21 21:58:11,446][MainProcess][__main__][INFO] NLLLoss: 0.578\n",
      "[2020-11-21 21:58:11,508][MainProcess][lib.metrics.accuracy][INFO] Accuracy: 0.856201171875 [7014 of 8192]\n",
      "––––––––––––––––––––––––––––––––––––––––––––––––––––––––––––––––––––––––––––––––––––––––––––––––––––\n",
      "[2020-11-21 21:58:11,517][MainProcess][__main__][INFO] Epoch: 1\n",
      "[2020-11-21 21:58:11,518][MainProcess][__main__][INFO] Training...\n"
     ]
    },
    {
     "data": {
      "application/vnd.jupyter.widget-view+json": {
       "model_id": "d095bfad57e84656b57ff9a923cd9c86",
       "version_major": 2,
       "version_minor": 0
      },
      "text/plain": [
       "HBox(children=(HTML(value=''), FloatProgress(value=0.0, max=2371.0), HTML(value='')))"
      ]
     },
     "metadata": {},
     "output_type": "display_data"
    },
    {
     "name": "stdout",
     "output_type": "stream",
     "text": [
      "\n",
      "[2020-11-21 21:58:31,323][MainProcess][lib.checkpoint][INFO] Saving checkpoint: ../../experiments/relation_classifier.11_21_20:05:46/83661.pt\n"
     ]
    },
    {
     "data": {
      "application/vnd.jupyter.widget-view+json": {
       "model_id": "6cecfb31602d46d6a8130e424380a04c",
       "version_major": 2,
       "version_minor": 0
      },
      "text/plain": [
       "HBox(children=(HTML(value=''), FloatProgress(value=0.0, max=2.0), HTML(value='')))"
      ]
     },
     "metadata": {},
     "output_type": "display_data"
    },
    {
     "name": "stdout",
     "output_type": "stream",
     "text": [
      "\n",
      "[2020-11-21 21:58:32,950][MainProcess][__main__][INFO] NLLLoss: 0.553\n",
      "[2020-11-21 21:58:33,009][MainProcess][lib.metrics.accuracy][INFO] Accuracy: 0.86181640625 [7060 of 8192]\n"
     ]
    },
    {
     "name": "stderr",
     "output_type": "stream",
     "text": [
      "\r",
      " 14%|█▍        | 143.33333333333363/1000.0 [1:43:01<6:06:54, 25.70s/it, min_score=-.881, models_evaluated=55]"
     ]
    },
    {
     "name": "stdout",
     "output_type": "stream",
     "text": [
      "––––––––––––––––––––––––––––––––––––––––––––––––––––––––––––––––––––––––––––––––––––––––––––––––––––\n",
      "====================================================================================================\n",
      "[2020-11-21 21:58:33,059][MainProcess][lib.configurable][INFO] Checking configuration...\n",
      "[2020-11-21 21:58:33,060][MainProcess][lib.configurable][INFO] Configuration checked.\n",
      "[2020-11-21 21:58:33,061][MainProcess][lib.checkpoint][INFO] Loading checkpoints from ../../experiments/relation_classifier.11_21_20:05:46/80361.pt onto device 0\n",
      "[2020-11-21 21:58:33,144][MainProcess][__main__][INFO] Epochs: 2\n",
      "[2020-11-21 21:58:33,145][MainProcess][__main__][INFO] Train Dataset Size: 75900\n",
      "[2020-11-21 21:58:33,146][MainProcess][__main__][INFO] Dev Dataset Size: 10845\n",
      "[2020-11-21 21:58:33,147][MainProcess][__main__][INFO] Train Batch Size: 32\n",
      "[2020-11-21 21:58:33,147][MainProcess][__main__][INFO] Train Max Batch Size: 1024\n",
      "[2020-11-21 21:58:33,148][MainProcess][__main__][INFO] Total Parameters: 1566247\n",
      "[2020-11-21 21:58:33,150][MainProcess][__main__][INFO] Model:\n",
      "SeqToLabel(\n",
      "  (encoder): SeqEncoder(\n",
      "    (embedding): Embedding(6899, 300, padding_idx=0)\n",
      "    (rnn): GRU(300, 136, num_layers=3, dropout=0.49926878171920946, bidirectional=True)\n",
      "    (rnn_dropout): LockedDropout(p=0.07740256936047965)\n",
      "    (embedding_dropout): Dropout(p=0.23415847224979006)\n",
      "  )\n",
      "  (out): Sequential(\n",
      "    (0): Linear(in_features=272, out_features=272, bias=True)\n",
      "    (1): BatchNorm1d(272, eps=1e-05, momentum=0.1, affine=True)\n",
      "    (2): ReLU()\n",
      "    (3): Dropout(p=0.46788071955941857)\n",
      "    (4): Linear(in_features=272, out_features=1703, bias=True)\n",
      "  )\n",
      ")\n",
      "[2020-11-21 21:58:33,151][MainProcess][__main__][INFO] Epoch: 0\n",
      "[2020-11-21 21:58:33,151][MainProcess][__main__][INFO] Training...\n"
     ]
    },
    {
     "data": {
      "application/vnd.jupyter.widget-view+json": {
       "model_id": "30a5ddabab1e4ddfb1951dcb7c496958",
       "version_major": 2,
       "version_minor": 0
      },
      "text/plain": [
       "HBox(children=(HTML(value=''), FloatProgress(value=0.0, max=2371.0), HTML(value='')))"
      ]
     },
     "metadata": {},
     "output_type": "display_data"
    },
    {
     "name": "stdout",
     "output_type": "stream",
     "text": [
      "\n",
      "[2020-11-21 21:59:11,189][MainProcess][lib.checkpoint][INFO] Saving checkpoint: ../../experiments/relation_classifier.11_21_20:05:46/83700.pt\n"
     ]
    },
    {
     "data": {
      "application/vnd.jupyter.widget-view+json": {
       "model_id": "b4010bb03b6a463f87531e88d3f6c7c9",
       "version_major": 2,
       "version_minor": 0
      },
      "text/plain": [
       "HBox(children=(HTML(value=''), FloatProgress(value=0.0, max=2.0), HTML(value='')))"
      ]
     },
     "metadata": {},
     "output_type": "display_data"
    },
    {
     "name": "stdout",
     "output_type": "stream",
     "text": [
      "\n",
      "[2020-11-21 21:59:12,848][MainProcess][__main__][INFO] NLLLoss: 0.551\n",
      "[2020-11-21 21:59:12,908][MainProcess][lib.metrics.accuracy][INFO] Accuracy: 0.855224609375 [7006 of 8192]\n",
      "––––––––––––––––––––––––––––––––––––––––––––––––––––––––––––––––––––––––––––––––––––––––––––––––––––\n",
      "[2020-11-21 21:59:12,916][MainProcess][__main__][INFO] Epoch: 1\n",
      "[2020-11-21 21:59:12,918][MainProcess][__main__][INFO] Training...\n"
     ]
    },
    {
     "data": {
      "application/vnd.jupyter.widget-view+json": {
       "model_id": "4b70ec305b40417295a662e78673e61c",
       "version_major": 2,
       "version_minor": 0
      },
      "text/plain": [
       "HBox(children=(HTML(value=''), FloatProgress(value=0.0, max=2371.0), HTML(value='')))"
      ]
     },
     "metadata": {},
     "output_type": "display_data"
    },
    {
     "name": "stdout",
     "output_type": "stream",
     "text": [
      "\n",
      "[2020-11-21 21:59:51,220][MainProcess][lib.checkpoint][INFO] Saving checkpoint: ../../experiments/relation_classifier.11_21_20:05:46/83740.pt\n"
     ]
    },
    {
     "data": {
      "application/vnd.jupyter.widget-view+json": {
       "model_id": "8b940cf4cf054652a98cbbf01daee765",
       "version_major": 2,
       "version_minor": 0
      },
      "text/plain": [
       "HBox(children=(HTML(value=''), FloatProgress(value=0.0, max=2.0), HTML(value='')))"
      ]
     },
     "metadata": {},
     "output_type": "display_data"
    },
    {
     "name": "stdout",
     "output_type": "stream",
     "text": [
      "\n",
      "[2020-11-21 21:59:53,203][MainProcess][__main__][INFO] NLLLoss: 0.526\n",
      "[2020-11-21 21:59:53,266][MainProcess][lib.metrics.accuracy][INFO] Accuracy: 0.8607177734375 [7051 of 8192]\n"
     ]
    },
    {
     "name": "stderr",
     "output_type": "stream",
     "text": [
      "\r",
      " 15%|█▍        | 145.55555555555586/1000.0 [1:44:21<6:50:28, 28.82s/it, min_score=-.881, models_evaluated=55]"
     ]
    },
    {
     "name": "stdout",
     "output_type": "stream",
     "text": [
      "––––––––––––––––––––––––––––––––––––––––––––––––––––––––––––––––––––––––––––––––––––––––––––––––––––\n",
      "====================================================================================================\n",
      "[2020-11-21 21:59:53,328][MainProcess][lib.configurable][INFO] Checking configuration...\n",
      "[2020-11-21 21:59:53,331][MainProcess][lib.configurable][INFO] Configuration checked.\n",
      "[2020-11-21 21:59:53,332][MainProcess][lib.checkpoint][INFO] Loading checkpoints from ../../experiments/relation_classifier.11_21_20:05:46/77636.pt onto device 0\n",
      "[2020-11-21 21:59:53,387][MainProcess][__main__][INFO] Epochs: 2\n",
      "[2020-11-21 21:59:53,388][MainProcess][__main__][INFO] Train Dataset Size: 75900\n",
      "[2020-11-21 21:59:53,389][MainProcess][__main__][INFO] Dev Dataset Size: 10845\n",
      "[2020-11-21 21:59:53,390][MainProcess][__main__][INFO] Train Batch Size: 32\n",
      "[2020-11-21 21:59:53,391][MainProcess][__main__][INFO] Train Max Batch Size: 1024\n",
      "[2020-11-21 21:59:53,392][MainProcess][__main__][INFO] Total Parameters: 412559\n",
      "[2020-11-21 21:59:53,394][MainProcess][__main__][INFO] Model:\n",
      "SeqToLabel(\n",
      "  (encoder): SeqEncoder(\n",
      "    (embedding): Embedding(6899, 300, padding_idx=0)\n",
      "    (rnn): LSTM(300, 53, num_layers=2, dropout=0.1521782351869115, bidirectional=True)\n",
      "    (rnn_dropout): LockedDropout(p=0.3802148169861541)\n",
      "    (embedding_dropout): Dropout(p=0.132455209477978)\n",
      "  )\n",
      "  (out): Sequential(\n",
      "    (0): Linear(in_features=106, out_features=106, bias=True)\n",
      "    (1): BatchNorm1d(106, eps=1e-05, momentum=0.1, affine=True)\n",
      "    (2): ReLU()\n",
      "    (3): Dropout(p=0.3034536851271252)\n",
      "    (4): Linear(in_features=106, out_features=1703, bias=True)\n",
      "  )\n",
      ")\n",
      "[2020-11-21 21:59:53,395][MainProcess][__main__][INFO] Epoch: 0\n",
      "[2020-11-21 21:59:53,395][MainProcess][__main__][INFO] Training...\n"
     ]
    },
    {
     "data": {
      "application/vnd.jupyter.widget-view+json": {
       "model_id": "5cf0c48d93cd44a4b1904cd1e6405e6f",
       "version_major": 2,
       "version_minor": 0
      },
      "text/plain": [
       "HBox(children=(HTML(value=''), FloatProgress(value=0.0, max=2371.0), HTML(value='')))"
      ]
     },
     "metadata": {},
     "output_type": "display_data"
    },
    {
     "name": "stdout",
     "output_type": "stream",
     "text": [
      "\n",
      "[2020-11-21 22:00:28,201][MainProcess][lib.checkpoint][INFO] Saving checkpoint: ../../experiments/relation_classifier.11_21_20:05:46/83777.pt\n"
     ]
    },
    {
     "data": {
      "application/vnd.jupyter.widget-view+json": {
       "model_id": "4c9c9942b07b4c4bb2a66fb9fa241fdf",
       "version_major": 2,
       "version_minor": 0
      },
      "text/plain": [
       "HBox(children=(HTML(value=''), FloatProgress(value=0.0, max=2.0), HTML(value='')))"
      ]
     },
     "metadata": {},
     "output_type": "display_data"
    },
    {
     "name": "stdout",
     "output_type": "stream",
     "text": [
      "\n",
      "[2020-11-21 22:00:28,967][MainProcess][__main__][INFO] NLLLoss: 0.559\n",
      "[2020-11-21 22:00:29,028][MainProcess][lib.metrics.accuracy][INFO] Accuracy: 0.8544921875 [7000 of 8192]\n",
      "––––––––––––––––––––––––––––––––––––––––––––––––––––––––––––––––––––––––––––––––––––––––––––––––––––\n",
      "[2020-11-21 22:00:29,036][MainProcess][__main__][INFO] Epoch: 1\n",
      "[2020-11-21 22:00:29,038][MainProcess][__main__][INFO] Training...\n"
     ]
    },
    {
     "data": {
      "application/vnd.jupyter.widget-view+json": {
       "model_id": "4ec1f8df853b4b05a8d7edc335ad8b39",
       "version_major": 2,
       "version_minor": 0
      },
      "text/plain": [
       "HBox(children=(HTML(value=''), FloatProgress(value=0.0, max=2371.0), HTML(value='')))"
      ]
     },
     "metadata": {},
     "output_type": "display_data"
    },
    {
     "name": "stdout",
     "output_type": "stream",
     "text": [
      "\n",
      "[2020-11-21 22:01:03,811][MainProcess][lib.checkpoint][INFO] Saving checkpoint: ../../experiments/relation_classifier.11_21_20:05:46/83813.pt\n"
     ]
    },
    {
     "data": {
      "application/vnd.jupyter.widget-view+json": {
       "model_id": "c3a437dd1c8f4fccb40f9d3d110800c5",
       "version_major": 2,
       "version_minor": 0
      },
      "text/plain": [
       "HBox(children=(HTML(value=''), FloatProgress(value=0.0, max=2.0), HTML(value='')))"
      ]
     },
     "metadata": {},
     "output_type": "display_data"
    },
    {
     "name": "stdout",
     "output_type": "stream",
     "text": [
      "\n",
      "[2020-11-21 22:01:05,061][MainProcess][__main__][INFO] NLLLoss: 0.518\n",
      "[2020-11-21 22:01:05,125][MainProcess][lib.metrics.accuracy][INFO] Accuracy: 0.864501953125 [7082 of 8192]\n"
     ]
    },
    {
     "name": "stderr",
     "output_type": "stream",
     "text": [
      "\r",
      " 15%|█▍        | 147.77777777777808/1000.0 [1:45:33<7:04:20, 29.88s/it, min_score=-.881, models_evaluated=55]"
     ]
    },
    {
     "name": "stdout",
     "output_type": "stream",
     "text": [
      "––––––––––––––––––––––––––––––––––––––––––––––––––––––––––––––––––––––––––––––––––––––––––––––––––––\n",
      "====================================================================================================\n",
      "[2020-11-21 22:01:05,165][MainProcess][lib.configurable][INFO] Checking configuration...\n",
      "[2020-11-21 22:01:05,167][MainProcess][lib.configurable][INFO] Configuration checked.\n",
      "[2020-11-21 22:01:05,167][MainProcess][lib.checkpoint][INFO] Loading checkpoints from ../../experiments/relation_classifier.11_21_20:05:46/80293.pt onto device 0\n",
      "[2020-11-21 22:01:05,241][MainProcess][__main__][INFO] Epochs: 2\n",
      "[2020-11-21 22:01:05,242][MainProcess][__main__][INFO] Train Dataset Size: 75900\n",
      "[2020-11-21 22:01:05,243][MainProcess][__main__][INFO] Dev Dataset Size: 10845\n",
      "[2020-11-21 22:01:05,243][MainProcess][__main__][INFO] Train Batch Size: 32\n",
      "[2020-11-21 22:01:05,244][MainProcess][__main__][INFO] Train Max Batch Size: 1024\n",
      "[2020-11-21 22:01:05,245][MainProcess][__main__][INFO] Total Parameters: 4380395\n",
      "[2020-11-21 22:01:05,245][MainProcess][__main__][INFO] Model:\n",
      "SeqToLabel(\n",
      "  (encoder): SeqEncoder(\n",
      "    (embedding): Embedding(6899, 300, padding_idx=0)\n",
      "    (rnn): LSTM(300, 448, dropout=0.8749776551242499)\n",
      "    (rnn_dropout): LockedDropout(p=0.681229275398168)\n",
      "    (embedding_dropout): Dropout(p=0.706783270221966)\n",
      "  )\n",
      "  (out): Sequential(\n",
      "    (0): Linear(in_features=448, out_features=448, bias=True)\n",
      "    (1): BatchNorm1d(448, eps=1e-05, momentum=0.1, affine=True)\n",
      "    (2): ReLU()\n",
      "    (3): Dropout(p=0.22172024549477254)\n",
      "    (4): Linear(in_features=448, out_features=1703, bias=True)\n",
      "  )\n",
      ")\n",
      "[2020-11-21 22:01:05,246][MainProcess][__main__][INFO] Epoch: 0\n",
      "[2020-11-21 22:01:05,247][MainProcess][__main__][INFO] Training...\n"
     ]
    },
    {
     "data": {
      "application/vnd.jupyter.widget-view+json": {
       "model_id": "0daa7222778a42fb8e6dcda9df8298d1",
       "version_major": 2,
       "version_minor": 0
      },
      "text/plain": [
       "HBox(children=(HTML(value=''), FloatProgress(value=0.0, max=2371.0), HTML(value='')))"
      ]
     },
     "metadata": {},
     "output_type": "display_data"
    },
    {
     "name": "stdout",
     "output_type": "stream",
     "text": [
      "\n",
      "[2020-11-21 22:01:25,685][MainProcess][lib.checkpoint][INFO] Saving checkpoint: ../../experiments/relation_classifier.11_21_20:05:46/83835.pt\n"
     ]
    },
    {
     "data": {
      "application/vnd.jupyter.widget-view+json": {
       "model_id": "64310fc5749e404387d8d296e890886a",
       "version_major": 2,
       "version_minor": 0
      },
      "text/plain": [
       "HBox(children=(HTML(value=''), FloatProgress(value=0.0, max=2.0), HTML(value='')))"
      ]
     },
     "metadata": {},
     "output_type": "display_data"
    },
    {
     "name": "stdout",
     "output_type": "stream",
     "text": [
      "\n",
      "[2020-11-21 22:01:27,178][MainProcess][__main__][INFO] NLLLoss: 0.534\n",
      "[2020-11-21 22:01:27,238][MainProcess][lib.metrics.accuracy][INFO] Accuracy: 0.8551025390625 [7005 of 8192]\n",
      "––––––––––––––––––––––––––––––––––––––––––––––––––––––––––––––––––––––––––––––––––––––––––––––––––––\n",
      "[2020-11-21 22:01:27,245][MainProcess][__main__][INFO] Epoch: 1\n",
      "[2020-11-21 22:01:27,247][MainProcess][__main__][INFO] Training...\n"
     ]
    },
    {
     "data": {
      "application/vnd.jupyter.widget-view+json": {
       "model_id": "86941b50c42d46579e63cb0e2673ccfc",
       "version_major": 2,
       "version_minor": 0
      },
      "text/plain": [
       "HBox(children=(HTML(value=''), FloatProgress(value=0.0, max=2371.0), HTML(value='')))"
      ]
     },
     "metadata": {},
     "output_type": "display_data"
    },
    {
     "name": "stdout",
     "output_type": "stream",
     "text": [
      "\n",
      "[2020-11-21 22:01:47,814][MainProcess][lib.checkpoint][INFO] Saving checkpoint: ../../experiments/relation_classifier.11_21_20:05:46/83857.pt\n"
     ]
    },
    {
     "data": {
      "application/vnd.jupyter.widget-view+json": {
       "model_id": "992de37097e84a499ffa975de86a90eb",
       "version_major": 2,
       "version_minor": 0
      },
      "text/plain": [
       "HBox(children=(HTML(value=''), FloatProgress(value=0.0, max=2.0), HTML(value='')))"
      ]
     },
     "metadata": {},
     "output_type": "display_data"
    },
    {
     "name": "stdout",
     "output_type": "stream",
     "text": [
      "\n",
      "[2020-11-21 22:01:49,591][MainProcess][__main__][INFO] NLLLoss: 0.516\n",
      "[2020-11-21 22:01:49,652][MainProcess][lib.metrics.accuracy][INFO] Accuracy: 0.8621826171875 [7063 of 8192]\n"
     ]
    },
    {
     "name": "stderr",
     "output_type": "stream",
     "text": [
      "\r",
      " 15%|█▌        | 150.0000000000003/1000.0 [1:46:18<6:21:25, 26.92s/it, min_score=-.881, models_evaluated=55] "
     ]
    },
    {
     "name": "stdout",
     "output_type": "stream",
     "text": [
      "––––––––––––––––––––––––––––––––––––––––––––––––––––––––––––––––––––––––––––––––––––––––––––––––––––\n",
      "====================================================================================================\n",
      "[2020-11-21 22:01:49,697][MainProcess][lib.configurable][INFO] Checking configuration...\n",
      "[2020-11-21 22:01:49,699][MainProcess][lib.configurable][INFO] Configuration checked.\n",
      "[2020-11-21 22:01:49,700][MainProcess][lib.checkpoint][INFO] Loading checkpoints from ../../experiments/relation_classifier.11_21_20:05:46/78435.pt onto device 0\n",
      "[2020-11-21 22:01:49,775][MainProcess][__main__][INFO] Epochs: 2\n",
      "[2020-11-21 22:01:49,776][MainProcess][__main__][INFO] Train Dataset Size: 75900\n",
      "[2020-11-21 22:01:49,777][MainProcess][__main__][INFO] Dev Dataset Size: 10845\n",
      "[2020-11-21 22:01:49,778][MainProcess][__main__][INFO] Train Batch Size: 32\n",
      "[2020-11-21 22:01:49,778][MainProcess][__main__][INFO] Train Max Batch Size: 1024\n",
      "[2020-11-21 22:01:49,780][MainProcess][__main__][INFO] Total Parameters: 4106755\n",
      "[2020-11-21 22:01:49,781][MainProcess][__main__][INFO] Model:\n",
      "SeqToLabel(\n",
      "  (encoder): SeqEncoder(\n",
      "    (embedding): Embedding(6899, 300, padding_idx=0)\n",
      "    (rnn): GRU(300, 458, dropout=0.4389654779235106)\n",
      "    (rnn_dropout): LockedDropout(p=0.5358226021083772)\n",
      "    (embedding_dropout): Dropout(p=0.676899199638435)\n",
      "  )\n",
      "  (out): Sequential(\n",
      "    (0): Linear(in_features=458, out_features=458, bias=True)\n",
      "    (1): BatchNorm1d(458, eps=1e-05, momentum=0.1, affine=True)\n",
      "    (2): ReLU()\n",
      "    (3): Dropout(p=0.5903918427165705)\n",
      "    (4): Linear(in_features=458, out_features=1703, bias=True)\n",
      "  )\n",
      ")\n",
      "[2020-11-21 22:01:49,782][MainProcess][__main__][INFO] Epoch: 0\n",
      "[2020-11-21 22:01:49,782][MainProcess][__main__][INFO] Training...\n"
     ]
    },
    {
     "data": {
      "application/vnd.jupyter.widget-view+json": {
       "model_id": "49567333e3ff4ef28f88f79710618405",
       "version_major": 2,
       "version_minor": 0
      },
      "text/plain": [
       "HBox(children=(HTML(value=''), FloatProgress(value=0.0, max=2371.0), HTML(value='')))"
      ]
     },
     "metadata": {},
     "output_type": "display_data"
    },
    {
     "name": "stdout",
     "output_type": "stream",
     "text": [
      "\n",
      "[2020-11-21 22:02:09,218][MainProcess][lib.checkpoint][INFO] Saving checkpoint: ../../experiments/relation_classifier.11_21_20:05:46/83878.pt\n"
     ]
    },
    {
     "data": {
      "application/vnd.jupyter.widget-view+json": {
       "model_id": "605d10ca9da44bf8a898ae89c1193e8a",
       "version_major": 2,
       "version_minor": 0
      },
      "text/plain": [
       "HBox(children=(HTML(value=''), FloatProgress(value=0.0, max=2.0), HTML(value='')))"
      ]
     },
     "metadata": {},
     "output_type": "display_data"
    },
    {
     "name": "stdout",
     "output_type": "stream",
     "text": [
      "\n",
      "[2020-11-21 22:02:10,756][MainProcess][__main__][INFO] NLLLoss: 0.570\n",
      "[2020-11-21 22:02:10,820][MainProcess][lib.metrics.accuracy][INFO] Accuracy: 0.85693359375 [7020 of 8192]\n",
      "––––––––––––––––––––––––––––––––––––––––––––––––––––––––––––––––––––––––––––––––––––––––––––––––––––\n",
      "[2020-11-21 22:02:10,829][MainProcess][__main__][INFO] Epoch: 1\n",
      "[2020-11-21 22:02:10,830][MainProcess][__main__][INFO] Training...\n"
     ]
    },
    {
     "data": {
      "application/vnd.jupyter.widget-view+json": {
       "model_id": "aee56c2e5c5c46988cf4fe734fdf72b0",
       "version_major": 2,
       "version_minor": 0
      },
      "text/plain": [
       "HBox(children=(HTML(value=''), FloatProgress(value=0.0, max=2371.0), HTML(value='')))"
      ]
     },
     "metadata": {},
     "output_type": "display_data"
    },
    {
     "name": "stdout",
     "output_type": "stream",
     "text": [
      "\n",
      "[2020-11-21 22:02:29,788][MainProcess][lib.checkpoint][INFO] Saving checkpoint: ../../experiments/relation_classifier.11_21_20:05:46/83899.pt\n"
     ]
    },
    {
     "data": {
      "application/vnd.jupyter.widget-view+json": {
       "model_id": "c6337d80ccf54c02bc478e5ed680489a",
       "version_major": 2,
       "version_minor": 0
      },
      "text/plain": [
       "HBox(children=(HTML(value=''), FloatProgress(value=0.0, max=2.0), HTML(value='')))"
      ]
     },
     "metadata": {},
     "output_type": "display_data"
    },
    {
     "name": "stdout",
     "output_type": "stream",
     "text": [
      "\n",
      "[2020-11-21 22:02:31,675][MainProcess][__main__][INFO] NLLLoss: 0.527\n",
      "[2020-11-21 22:02:31,735][MainProcess][lib.metrics.accuracy][INFO] Accuracy: 0.86572265625 [7092 of 8192]\n"
     ]
    },
    {
     "name": "stderr",
     "output_type": "stream",
     "text": [
      "\r",
      " 15%|█▌        | 152.22222222222254/1000.0 [1:47:00<5:46:35, 24.53s/it, min_score=-.881, models_evaluated=55]"
     ]
    },
    {
     "name": "stdout",
     "output_type": "stream",
     "text": [
      "––––––––––––––––––––––––––––––––––––––––––––––––––––––––––––––––––––––––––––––––––––––––––––––––––––\n",
      "====================================================================================================\n",
      "[2020-11-21 22:02:31,787][MainProcess][lib.configurable][INFO] Checking configuration...\n",
      "[2020-11-21 22:02:31,788][MainProcess][lib.configurable][INFO] Configuration checked.\n",
      "[2020-11-21 22:02:31,789][MainProcess][lib.checkpoint][INFO] Loading checkpoints from ../../experiments/relation_classifier.11_21_20:05:46/80620.pt onto device 0\n",
      "[2020-11-21 22:02:31,860][MainProcess][__main__][INFO] Epochs: 2\n",
      "[2020-11-21 22:02:31,861][MainProcess][__main__][INFO] Train Dataset Size: 75900\n",
      "[2020-11-21 22:02:31,861][MainProcess][__main__][INFO] Dev Dataset Size: 10845\n",
      "[2020-11-21 22:02:31,862][MainProcess][__main__][INFO] Train Batch Size: 32\n",
      "[2020-11-21 22:02:31,863][MainProcess][__main__][INFO] Train Max Batch Size: 1024\n",
      "[2020-11-21 22:02:31,864][MainProcess][__main__][INFO] Total Parameters: 2929211\n",
      "[2020-11-21 22:02:31,864][MainProcess][__main__][INFO] Model:\n",
      "SeqToLabel(\n",
      "  (encoder): SeqEncoder(\n",
      "    (embedding): Embedding(6899, 300, padding_idx=0)\n",
      "    (rnn): LSTM(300, 168, num_layers=2, dropout=0.2769529759060436)\n",
      "    (rnn_dropout): LockedDropout(p=0.42908375201332216)\n",
      "    (embedding_dropout): Dropout(p=0.07994967794075833)\n",
      "  )\n",
      "  (out): Sequential(\n",
      "    (0): Linear(in_features=168, out_features=168, bias=True)\n",
      "    (1): BatchNorm1d(168, eps=1e-05, momentum=0.1, affine=True)\n",
      "    (2): ReLU()\n",
      "    (3): Dropout(p=0.4789181136450609)\n",
      "    (4): Linear(in_features=168, out_features=1703, bias=True)\n",
      "  )\n",
      ")\n",
      "[2020-11-21 22:02:31,866][MainProcess][__main__][INFO] Epoch: 0\n",
      "[2020-11-21 22:02:31,867][MainProcess][__main__][INFO] Training...\n"
     ]
    },
    {
     "data": {
      "application/vnd.jupyter.widget-view+json": {
       "model_id": "02e128c216e243e9b94e6ae5ada058d9",
       "version_major": 2,
       "version_minor": 0
      },
      "text/plain": [
       "HBox(children=(HTML(value=''), FloatProgress(value=0.0, max=2371.0), HTML(value='')))"
      ]
     },
     "metadata": {},
     "output_type": "display_data"
    },
    {
     "name": "stdout",
     "output_type": "stream",
     "text": [
      "\n",
      "[2020-11-21 22:02:57,284][MainProcess][lib.checkpoint][INFO] Saving checkpoint: ../../experiments/relation_classifier.11_21_20:05:46/83927.pt\n"
     ]
    },
    {
     "data": {
      "application/vnd.jupyter.widget-view+json": {
       "model_id": "04e178575d304aac8c17f0c7f9847f3b",
       "version_major": 2,
       "version_minor": 0
      },
      "text/plain": [
       "HBox(children=(HTML(value=''), FloatProgress(value=0.0, max=2.0), HTML(value='')))"
      ]
     },
     "metadata": {},
     "output_type": "display_data"
    },
    {
     "name": "stdout",
     "output_type": "stream",
     "text": [
      "\n",
      "[2020-11-21 22:02:58,898][MainProcess][__main__][INFO] NLLLoss: 0.579\n",
      "[2020-11-21 22:02:58,957][MainProcess][lib.metrics.accuracy][INFO] Accuracy: 0.854736328125 [7002 of 8192]\n",
      "––––––––––––––––––––––––––––––––––––––––––––––––––––––––––––––––––––––––––––––––––––––––––––––––––––\n",
      "[2020-11-21 22:02:58,964][MainProcess][__main__][INFO] Epoch: 1\n",
      "[2020-11-21 22:02:58,966][MainProcess][__main__][INFO] Training...\n"
     ]
    },
    {
     "data": {
      "application/vnd.jupyter.widget-view+json": {
       "model_id": "87ff502ed2ad4fe587e2ab539e68a315",
       "version_major": 2,
       "version_minor": 0
      },
      "text/plain": [
       "HBox(children=(HTML(value=''), FloatProgress(value=0.0, max=2371.0), HTML(value='')))"
      ]
     },
     "metadata": {},
     "output_type": "display_data"
    },
    {
     "name": "stdout",
     "output_type": "stream",
     "text": [
      "\n",
      "[2020-11-21 22:03:24,267][MainProcess][lib.checkpoint][INFO] Saving checkpoint: ../../experiments/relation_classifier.11_21_20:05:46/83953.pt\n"
     ]
    },
    {
     "data": {
      "application/vnd.jupyter.widget-view+json": {
       "model_id": "24d28c2ef58946b4ba02c4660a1bd79d",
       "version_major": 2,
       "version_minor": 0
      },
      "text/plain": [
       "HBox(children=(HTML(value=''), FloatProgress(value=0.0, max=2.0), HTML(value='')))"
      ]
     },
     "metadata": {},
     "output_type": "display_data"
    },
    {
     "name": "stdout",
     "output_type": "stream",
     "text": [
      "\n",
      "[2020-11-21 22:03:25,689][MainProcess][__main__][INFO] NLLLoss: 0.534\n",
      "[2020-11-21 22:03:25,748][MainProcess][lib.metrics.accuracy][INFO] Accuracy: 0.8642578125 [7080 of 8192]\n"
     ]
    },
    {
     "name": "stderr",
     "output_type": "stream",
     "text": [
      " 15%|█▌        | 154.44444444444477/1000.0 [1:47:54<5:44:42, 24.46s/it, min_score=-.881, models_evaluated=74]"
     ]
    },
    {
     "name": "stdout",
     "output_type": "stream",
     "text": [
      "––––––––––––––––––––––––––––––––––––––––––––––––––––––––––––––––––––––––––––––––––––––––––––––––––––\n",
      "====================================================================================================\n",
      "[2020-11-21 22:03:25,791][MainProcess][lib.configurable][INFO] Checking configuration...\n",
      "[2020-11-21 22:03:25,792][MainProcess][lib.configurable][INFO] Configuration checked.\n",
      "[2020-11-21 22:03:25,793][MainProcess][lib.checkpoint][INFO] Loading checkpoints from ../../experiments/relation_classifier.11_21_20:05:46/81359.pt onto device 0\n",
      "[2020-11-21 22:03:25,866][MainProcess][__main__][INFO] Epochs: 7\n",
      "[2020-11-21 22:03:25,867][MainProcess][__main__][INFO] Train Dataset Size: 75900\n",
      "[2020-11-21 22:03:25,868][MainProcess][__main__][INFO] Dev Dataset Size: 10845\n",
      "[2020-11-21 22:03:25,869][MainProcess][__main__][INFO] Train Batch Size: 32\n",
      "[2020-11-21 22:03:25,870][MainProcess][__main__][INFO] Train Max Batch Size: 1024\n",
      "[2020-11-21 22:03:25,872][MainProcess][__main__][INFO] Total Parameters: 4033523\n",
      "[2020-11-21 22:03:25,874][MainProcess][__main__][INFO] Model:\n",
      "SeqToLabel(\n",
      "  (encoder): SeqEncoder(\n",
      "    (embedding): Embedding(6899, 300, padding_idx=0)\n",
      "    (rnn): LSTM(300, 166, num_layers=2, dropout=0.26953343187028944, bidirectional=True)\n",
      "    (rnn_dropout): LockedDropout(p=0.4354494568099671)\n",
      "    (embedding_dropout): Dropout(p=0.17292333663111237)\n",
      "  )\n",
      "  (out): Sequential(\n",
      "    (0): Linear(in_features=332, out_features=332, bias=True)\n",
      "    (1): BatchNorm1d(332, eps=1e-05, momentum=0.1, affine=True)\n",
      "    (2): ReLU()\n",
      "    (3): Dropout(p=0.2883984593195552)\n",
      "    (4): Linear(in_features=332, out_features=1703, bias=True)\n",
      "  )\n",
      ")\n",
      "[2020-11-21 22:03:25,874][MainProcess][__main__][INFO] Epoch: 0\n",
      "[2020-11-21 22:03:25,875][MainProcess][__main__][INFO] Training...\n"
     ]
    },
    {
     "data": {
      "application/vnd.jupyter.widget-view+json": {
       "model_id": "1ae6b42ec0cf4e8dadf9c5d7046e7498",
       "version_major": 2,
       "version_minor": 0
      },
      "text/plain": [
       "HBox(children=(HTML(value=''), FloatProgress(value=0.0, max=2371.0), HTML(value='')))"
      ]
     },
     "metadata": {},
     "output_type": "display_data"
    },
    {
     "name": "stdout",
     "output_type": "stream",
     "text": [
      "\n",
      "[2020-11-21 22:04:02,388][MainProcess][lib.checkpoint][INFO] Saving checkpoint: ../../experiments/relation_classifier.11_21_20:05:46/83992.pt\n"
     ]
    },
    {
     "data": {
      "application/vnd.jupyter.widget-view+json": {
       "model_id": "c2e0d2f4ac914eb9838976bec5a11427",
       "version_major": 2,
       "version_minor": 0
      },
      "text/plain": [
       "HBox(children=(HTML(value=''), FloatProgress(value=0.0, max=2.0), HTML(value='')))"
      ]
     },
     "metadata": {},
     "output_type": "display_data"
    },
    {
     "name": "stdout",
     "output_type": "stream",
     "text": [
      "\n",
      "[2020-11-21 22:04:04,720][MainProcess][__main__][INFO] NLLLoss: 0.474\n",
      "[2020-11-21 22:04:04,777][MainProcess][lib.metrics.accuracy][INFO] Accuracy: 0.875 [7168 of 8192]\n",
      "––––––––––––––––––––––––––––––––––––––––––––––––––––––––––––––––––––––––––––––––––––––––––––––––––––\n",
      "[2020-11-21 22:04:04,784][MainProcess][__main__][INFO] Epoch: 1\n",
      "[2020-11-21 22:04:04,785][MainProcess][__main__][INFO] Training...\n"
     ]
    },
    {
     "data": {
      "application/vnd.jupyter.widget-view+json": {
       "model_id": "2b64ebca362148f99895522ca5aa6c66",
       "version_major": 2,
       "version_minor": 0
      },
      "text/plain": [
       "HBox(children=(HTML(value=''), FloatProgress(value=0.0, max=2371.0), HTML(value='')))"
      ]
     },
     "metadata": {},
     "output_type": "display_data"
    },
    {
     "name": "stdout",
     "output_type": "stream",
     "text": [
      "\n",
      "[2020-11-21 22:04:41,038][MainProcess][lib.checkpoint][INFO] Saving checkpoint: ../../experiments/relation_classifier.11_21_20:05:46/84030.pt\n"
     ]
    },
    {
     "data": {
      "application/vnd.jupyter.widget-view+json": {
       "model_id": "3e08a3e36f8548b291e335631e7fb4d3",
       "version_major": 2,
       "version_minor": 0
      },
      "text/plain": [
       "HBox(children=(HTML(value=''), FloatProgress(value=0.0, max=2.0), HTML(value='')))"
      ]
     },
     "metadata": {},
     "output_type": "display_data"
    },
    {
     "name": "stdout",
     "output_type": "stream",
     "text": [
      "\n",
      "[2020-11-21 22:04:42,858][MainProcess][__main__][INFO] NLLLoss: 0.470\n",
      "[2020-11-21 22:04:42,915][MainProcess][lib.metrics.accuracy][INFO] Accuracy: 0.8790283203125 [7201 of 8192]\n",
      "––––––––––––––––––––––––––––––––––––––––––––––––––––––––––––––––––––––––––––––––––––––––––––––––––––\n",
      "[2020-11-21 22:04:42,921][MainProcess][__main__][INFO] Epoch: 2\n",
      "[2020-11-21 22:04:42,923][MainProcess][__main__][INFO] Training...\n"
     ]
    },
    {
     "data": {
      "application/vnd.jupyter.widget-view+json": {
       "model_id": "3b607a9930194773a0c6abee014728e3",
       "version_major": 2,
       "version_minor": 0
      },
      "text/plain": [
       "HBox(children=(HTML(value=''), FloatProgress(value=0.0, max=2371.0), HTML(value='')))"
      ]
     },
     "metadata": {},
     "output_type": "display_data"
    },
    {
     "name": "stdout",
     "output_type": "stream",
     "text": [
      "\n",
      "[2020-11-21 22:05:18,790][MainProcess][lib.checkpoint][INFO] Saving checkpoint: ../../experiments/relation_classifier.11_21_20:05:46/84068.pt\n"
     ]
    },
    {
     "data": {
      "application/vnd.jupyter.widget-view+json": {
       "model_id": "7800af65b6b34d4fb1d0103fcf0ee148",
       "version_major": 2,
       "version_minor": 0
      },
      "text/plain": [
       "HBox(children=(HTML(value=''), FloatProgress(value=0.0, max=2.0), HTML(value='')))"
      ]
     },
     "metadata": {},
     "output_type": "display_data"
    },
    {
     "name": "stdout",
     "output_type": "stream",
     "text": [
      "\n",
      "[2020-11-21 22:05:20,196][MainProcess][__main__][INFO] NLLLoss: 0.466\n",
      "[2020-11-21 22:05:20,248][MainProcess][lib.metrics.accuracy][INFO] Accuracy: 0.8760986328125 [7177 of 8192]\n",
      "––––––––––––––––––––––––––––––––––––––––––––––––––––––––––––––––––––––––––––––––––––––––––––––––––––\n",
      "[2020-11-21 22:05:20,254][MainProcess][__main__][INFO] Epoch: 3\n",
      "[2020-11-21 22:05:20,256][MainProcess][__main__][INFO] Training...\n"
     ]
    },
    {
     "data": {
      "application/vnd.jupyter.widget-view+json": {
       "model_id": "51fd727edcef43cba57a3729e75be233",
       "version_major": 2,
       "version_minor": 0
      },
      "text/plain": [
       "HBox(children=(HTML(value=''), FloatProgress(value=0.0, max=2371.0), HTML(value='')))"
      ]
     },
     "metadata": {},
     "output_type": "display_data"
    },
    {
     "name": "stdout",
     "output_type": "stream",
     "text": [
      "\n",
      "[2020-11-21 22:05:56,557][MainProcess][lib.checkpoint][INFO] Saving checkpoint: ../../experiments/relation_classifier.11_21_20:05:46/84106.pt\n"
     ]
    },
    {
     "data": {
      "application/vnd.jupyter.widget-view+json": {
       "model_id": "12422b9f195e49d2aa674b2a058884b4",
       "version_major": 2,
       "version_minor": 0
      },
      "text/plain": [
       "HBox(children=(HTML(value=''), FloatProgress(value=0.0, max=2.0), HTML(value='')))"
      ]
     },
     "metadata": {},
     "output_type": "display_data"
    },
    {
     "name": "stdout",
     "output_type": "stream",
     "text": [
      "\n",
      "[2020-11-21 22:05:58,154][MainProcess][__main__][INFO] NLLLoss: 0.487\n",
      "[2020-11-21 22:05:58,258][MainProcess][lib.metrics.accuracy][INFO] Accuracy: 0.8736572265625 [7157 of 8192]\n",
      "––––––––––––––––––––––––––––––––––––––––––––––––––––––––––––––––––––––––––––––––––––––––––––––––––––\n",
      "[2020-11-21 22:05:58,265][MainProcess][__main__][INFO] Epoch: 4\n",
      "[2020-11-21 22:05:58,267][MainProcess][__main__][INFO] Training...\n"
     ]
    },
    {
     "data": {
      "application/vnd.jupyter.widget-view+json": {
       "model_id": "4d7a878637534b38b2aa5bb9c0d5c91b",
       "version_major": 2,
       "version_minor": 0
      },
      "text/plain": [
       "HBox(children=(HTML(value=''), FloatProgress(value=0.0, max=2371.0), HTML(value='')))"
      ]
     },
     "metadata": {},
     "output_type": "display_data"
    },
    {
     "name": "stdout",
     "output_type": "stream",
     "text": [
      "\n",
      "[2020-11-21 22:06:35,206][MainProcess][lib.checkpoint][INFO] Saving checkpoint: ../../experiments/relation_classifier.11_21_20:05:46/84144.pt\n"
     ]
    },
    {
     "data": {
      "application/vnd.jupyter.widget-view+json": {
       "model_id": "d92f61a1cb4749f69363f25d1961fca1",
       "version_major": 2,
       "version_minor": 0
      },
      "text/plain": [
       "HBox(children=(HTML(value=''), FloatProgress(value=0.0, max=2.0), HTML(value='')))"
      ]
     },
     "metadata": {},
     "output_type": "display_data"
    },
    {
     "name": "stdout",
     "output_type": "stream",
     "text": [
      "\n",
      "[2020-11-21 22:06:37,081][MainProcess][__main__][INFO] NLLLoss: 0.490\n",
      "[2020-11-21 22:06:37,141][MainProcess][lib.metrics.accuracy][INFO] Accuracy: 0.875 [7168 of 8192]\n",
      "[2020-11-21 22:06:37,148][MainProcess][__main__][INFO] Ran out of patience, increasing train batch size to: 64\n",
      "––––––––––––––––––––––––––––––––––––––––––––––––––––––––––––––––––––––––––––––––––––––––––––––––––––\n",
      "[2020-11-21 22:06:37,150][MainProcess][__main__][INFO] Epoch: 5\n",
      "[2020-11-21 22:06:37,151][MainProcess][__main__][INFO] Training...\n"
     ]
    },
    {
     "data": {
      "application/vnd.jupyter.widget-view+json": {
       "model_id": "8060eba293074739846ea616653b453c",
       "version_major": 2,
       "version_minor": 0
      },
      "text/plain": [
       "HBox(children=(HTML(value=''), FloatProgress(value=0.0, max=1185.0), HTML(value='')))"
      ]
     },
     "metadata": {},
     "output_type": "display_data"
    },
    {
     "name": "stdout",
     "output_type": "stream",
     "text": [
      "\n",
      "[2020-11-21 22:06:57,182][MainProcess][lib.checkpoint][INFO] Saving checkpoint: ../../experiments/relation_classifier.11_21_20:05:46/84166.pt\n"
     ]
    },
    {
     "data": {
      "application/vnd.jupyter.widget-view+json": {
       "model_id": "6fb4e7d6ab544f7a87478ab2597f9bcc",
       "version_major": 2,
       "version_minor": 0
      },
      "text/plain": [
       "HBox(children=(HTML(value=''), FloatProgress(value=0.0, max=2.0), HTML(value='')))"
      ]
     },
     "metadata": {},
     "output_type": "display_data"
    },
    {
     "name": "stdout",
     "output_type": "stream",
     "text": [
      "\n",
      "[2020-11-21 22:06:59,326][MainProcess][__main__][INFO] NLLLoss: 0.479\n",
      "[2020-11-21 22:06:59,389][MainProcess][lib.metrics.accuracy][INFO] Accuracy: 0.88330078125 [7236 of 8192]\n",
      "––––––––––––––––––––––––––––––––––––––––––––––––––––––––––––––––––––––––––––––––––––––––––––––––––––\n",
      "[2020-11-21 22:06:59,397][MainProcess][__main__][INFO] Epoch: 6\n",
      "[2020-11-21 22:06:59,399][MainProcess][__main__][INFO] Training...\n"
     ]
    },
    {
     "data": {
      "application/vnd.jupyter.widget-view+json": {
       "model_id": "3ea8a8f5c9344f33ac522748060c7ea7",
       "version_major": 2,
       "version_minor": 0
      },
      "text/plain": [
       "HBox(children=(HTML(value=''), FloatProgress(value=0.0, max=1185.0), HTML(value='')))"
      ]
     },
     "metadata": {},
     "output_type": "display_data"
    },
    {
     "name": "stdout",
     "output_type": "stream",
     "text": [
      "\n",
      "[2020-11-21 22:07:19,327][MainProcess][lib.checkpoint][INFO] Saving checkpoint: ../../experiments/relation_classifier.11_21_20:05:46/84189.pt\n"
     ]
    },
    {
     "data": {
      "application/vnd.jupyter.widget-view+json": {
       "model_id": "c7f7b6df656b40a88bc5d7cd83869f6a",
       "version_major": 2,
       "version_minor": 0
      },
      "text/plain": [
       "HBox(children=(HTML(value=''), FloatProgress(value=0.0, max=2.0), HTML(value='')))"
      ]
     },
     "metadata": {},
     "output_type": "display_data"
    },
    {
     "name": "stdout",
     "output_type": "stream",
     "text": [
      "\n",
      "[2020-11-21 22:07:22,237][MainProcess][__main__][INFO] NLLLoss: 0.462\n",
      "[2020-11-21 22:07:22,298][MainProcess][lib.metrics.accuracy][INFO] Accuracy: 0.8787841796875 [7199 of 8192]\n",
      "––––––––––––––––––––––––––––––––––––––––––––––––––––––––––––––––––––––––––––––––––––––––––––––––––––\n",
      "====================================================================================================\n"
     ]
    },
    {
     "name": "stderr",
     "output_type": "stream",
     "text": [
      " 16%|█▌        | 161.11111111111143/1000.0 [1:51:50<6:28:14, 27.77s/it, min_score=-.883, models_evaluated=74]"
     ]
    },
    {
     "name": "stdout",
     "output_type": "stream",
     "text": [
      "[2020-11-21 22:07:22,449][MainProcess][lib.configurable][INFO] Checking configuration...\n",
      "[2020-11-21 22:07:22,451][MainProcess][lib.configurable][INFO] Configuration checked.\n",
      "[2020-11-21 22:07:22,452][MainProcess][lib.checkpoint][INFO] Loading checkpoints from ../../experiments/relation_classifier.11_21_20:05:46/81514.pt onto device 0\n",
      "[2020-11-21 22:07:22,607][MainProcess][__main__][INFO] Epochs: 7\n",
      "[2020-11-21 22:07:22,608][MainProcess][__main__][INFO] Train Dataset Size: 75900\n",
      "[2020-11-21 22:07:22,609][MainProcess][__main__][INFO] Dev Dataset Size: 10845\n",
      "[2020-11-21 22:07:22,611][MainProcess][__main__][INFO] Train Batch Size: 32\n",
      "[2020-11-21 22:07:22,611][MainProcess][__main__][INFO] Train Max Batch Size: 1024\n",
      "[2020-11-21 22:07:22,613][MainProcess][__main__][INFO] Total Parameters: 3248483\n",
      "[2020-11-21 22:07:22,614][MainProcess][__main__][INFO] Model:\n",
      "SeqToLabel(\n",
      "  (encoder): SeqEncoder(\n",
      "    (embedding): Embedding(6899, 300, padding_idx=0)\n",
      "    (rnn): GRU(300, 170, dropout=0.30506873629916886, bidirectional=True)\n",
      "    (rnn_dropout): LockedDropout(p=0.49984624505914)\n",
      "    (embedding_dropout): Dropout(p=0.16667700791626458)\n",
      "  )\n",
      "  (out): Sequential(\n",
      "    (0): Linear(in_features=340, out_features=340, bias=True)\n",
      "    (1): BatchNorm1d(340, eps=1e-05, momentum=0.1, affine=True)\n",
      "    (2): ReLU()\n",
      "    (3): Dropout(p=0.1845747630318394)\n",
      "    (4): Linear(in_features=340, out_features=1703, bias=True)\n",
      "  )\n",
      ")\n",
      "[2020-11-21 22:07:22,614][MainProcess][__main__][INFO] Epoch: 0\n",
      "[2020-11-21 22:07:22,615][MainProcess][__main__][INFO] Training...\n"
     ]
    },
    {
     "data": {
      "application/vnd.jupyter.widget-view+json": {
       "model_id": "a39433b3a91c413a8df726c1505bb7fb",
       "version_major": 2,
       "version_minor": 0
      },
      "text/plain": [
       "HBox(children=(HTML(value=''), FloatProgress(value=0.0, max=2371.0), HTML(value='')))"
      ]
     },
     "metadata": {},
     "output_type": "display_data"
    },
    {
     "name": "stdout",
     "output_type": "stream",
     "text": [
      "\n",
      "[2020-11-21 22:07:48,949][MainProcess][lib.checkpoint][INFO] Saving checkpoint: ../../experiments/relation_classifier.11_21_20:05:46/84218.pt\n"
     ]
    },
    {
     "data": {
      "application/vnd.jupyter.widget-view+json": {
       "model_id": "41fb6fb8183e49fba6bf817dfb234342",
       "version_major": 2,
       "version_minor": 0
      },
      "text/plain": [
       "HBox(children=(HTML(value=''), FloatProgress(value=0.0, max=2.0), HTML(value='')))"
      ]
     },
     "metadata": {},
     "output_type": "display_data"
    },
    {
     "name": "stdout",
     "output_type": "stream",
     "text": [
      "\n",
      "[2020-11-21 22:07:50,645][MainProcess][__main__][INFO] NLLLoss: 0.454\n",
      "[2020-11-21 22:07:50,707][MainProcess][lib.metrics.accuracy][INFO] Accuracy: 0.876953125 [7184 of 8192]\n",
      "––––––––––––––––––––––––––––––––––––––––––––––––––––––––––––––––––––––––––––––––––––––––––––––––––––\n",
      "[2020-11-21 22:07:50,716][MainProcess][__main__][INFO] Epoch: 1\n",
      "[2020-11-21 22:07:50,718][MainProcess][__main__][INFO] Training...\n"
     ]
    },
    {
     "data": {
      "application/vnd.jupyter.widget-view+json": {
       "model_id": "3bc76d28857947b1919c60e9e6513ebc",
       "version_major": 2,
       "version_minor": 0
      },
      "text/plain": [
       "HBox(children=(HTML(value=''), FloatProgress(value=0.0, max=2371.0), HTML(value='')))"
      ]
     },
     "metadata": {},
     "output_type": "display_data"
    },
    {
     "name": "stdout",
     "output_type": "stream",
     "text": [
      "\n",
      "[2020-11-21 22:08:16,512][MainProcess][lib.checkpoint][INFO] Saving checkpoint: ../../experiments/relation_classifier.11_21_20:05:46/84246.pt\n"
     ]
    },
    {
     "data": {
      "application/vnd.jupyter.widget-view+json": {
       "model_id": "6cd134e6412b41b8ad110e0eb2904707",
       "version_major": 2,
       "version_minor": 0
      },
      "text/plain": [
       "HBox(children=(HTML(value=''), FloatProgress(value=0.0, max=2.0), HTML(value='')))"
      ]
     },
     "metadata": {},
     "output_type": "display_data"
    },
    {
     "name": "stdout",
     "output_type": "stream",
     "text": [
      "\n",
      "[2020-11-21 22:08:18,276][MainProcess][__main__][INFO] NLLLoss: 0.436\n",
      "[2020-11-21 22:08:18,341][MainProcess][lib.metrics.accuracy][INFO] Accuracy: 0.88427734375 [7244 of 8192]\n",
      "––––––––––––––––––––––––––––––––––––––––––––––––––––––––––––––––––––––––––––––––––––––––––––––––––––\n",
      "[2020-11-21 22:08:18,350][MainProcess][__main__][INFO] Epoch: 2\n",
      "[2020-11-21 22:08:18,352][MainProcess][__main__][INFO] Training...\n"
     ]
    },
    {
     "data": {
      "application/vnd.jupyter.widget-view+json": {
       "model_id": "2df1beb727c64aa580a697674ea91a04",
       "version_major": 2,
       "version_minor": 0
      },
      "text/plain": [
       "HBox(children=(HTML(value=''), FloatProgress(value=0.0, max=2371.0), HTML(value='')))"
      ]
     },
     "metadata": {},
     "output_type": "display_data"
    },
    {
     "name": "stdout",
     "output_type": "stream",
     "text": [
      "\n",
      "[2020-11-21 22:08:43,446][MainProcess][lib.checkpoint][INFO] Saving checkpoint: ../../experiments/relation_classifier.11_21_20:05:46/84273.pt\n"
     ]
    },
    {
     "data": {
      "application/vnd.jupyter.widget-view+json": {
       "model_id": "612b7d3f85ab4bfda98d535190b9ce5b",
       "version_major": 2,
       "version_minor": 0
      },
      "text/plain": [
       "HBox(children=(HTML(value=''), FloatProgress(value=0.0, max=2.0), HTML(value='')))"
      ]
     },
     "metadata": {},
     "output_type": "display_data"
    },
    {
     "name": "stdout",
     "output_type": "stream",
     "text": [
      "\n",
      "[2020-11-21 22:08:45,098][MainProcess][__main__][INFO] NLLLoss: 0.468\n",
      "[2020-11-21 22:08:45,158][MainProcess][lib.metrics.accuracy][INFO] Accuracy: 0.880126953125 [7210 of 8192]\n",
      "––––––––––––––––––––––––––––––––––––––––––––––––––––––––––––––––––––––––––––––––––––––––––––––––––––\n",
      "[2020-11-21 22:08:45,166][MainProcess][__main__][INFO] Epoch: 3\n",
      "[2020-11-21 22:08:45,168][MainProcess][__main__][INFO] Training...\n"
     ]
    },
    {
     "data": {
      "application/vnd.jupyter.widget-view+json": {
       "model_id": "b77f8ffff2534cac9c7d2c75a5ff5fd4",
       "version_major": 2,
       "version_minor": 0
      },
      "text/plain": [
       "HBox(children=(HTML(value=''), FloatProgress(value=0.0, max=2371.0), HTML(value='')))"
      ]
     },
     "metadata": {},
     "output_type": "display_data"
    },
    {
     "name": "stdout",
     "output_type": "stream",
     "text": [
      "\n",
      "[2020-11-21 22:09:09,738][MainProcess][lib.checkpoint][INFO] Saving checkpoint: ../../experiments/relation_classifier.11_21_20:05:46/84299.pt\n"
     ]
    },
    {
     "data": {
      "application/vnd.jupyter.widget-view+json": {
       "model_id": "10f6c8a98c564671ae368aa33e61869e",
       "version_major": 2,
       "version_minor": 0
      },
      "text/plain": [
       "HBox(children=(HTML(value=''), FloatProgress(value=0.0, max=2.0), HTML(value='')))"
      ]
     },
     "metadata": {},
     "output_type": "display_data"
    },
    {
     "name": "stdout",
     "output_type": "stream",
     "text": [
      "\n",
      "[2020-11-21 22:09:11,321][MainProcess][__main__][INFO] NLLLoss: 0.463\n",
      "[2020-11-21 22:09:11,381][MainProcess][lib.metrics.accuracy][INFO] Accuracy: 0.8779296875 [7192 of 8192]\n",
      "––––––––––––––––––––––––––––––––––––––––––––––––––––––––––––––––––––––––––––––––––––––––––––––––––––\n",
      "[2020-11-21 22:09:11,389][MainProcess][__main__][INFO] Epoch: 4\n",
      "[2020-11-21 22:09:11,390][MainProcess][__main__][INFO] Training...\n"
     ]
    },
    {
     "data": {
      "application/vnd.jupyter.widget-view+json": {
       "model_id": "7e3e9c116b51437f9d3605394188700a",
       "version_major": 2,
       "version_minor": 0
      },
      "text/plain": [
       "HBox(children=(HTML(value=''), FloatProgress(value=0.0, max=2371.0), HTML(value='')))"
      ]
     },
     "metadata": {},
     "output_type": "display_data"
    },
    {
     "name": "stdout",
     "output_type": "stream",
     "text": [
      "\n",
      "[2020-11-21 22:09:35,933][MainProcess][lib.checkpoint][INFO] Saving checkpoint: ../../experiments/relation_classifier.11_21_20:05:46/84325.pt\n"
     ]
    },
    {
     "data": {
      "application/vnd.jupyter.widget-view+json": {
       "model_id": "ba13f58e18f3407287db8783eb7d4545",
       "version_major": 2,
       "version_minor": 0
      },
      "text/plain": [
       "HBox(children=(HTML(value=''), FloatProgress(value=0.0, max=2.0), HTML(value='')))"
      ]
     },
     "metadata": {},
     "output_type": "display_data"
    },
    {
     "name": "stdout",
     "output_type": "stream",
     "text": [
      "\n",
      "[2020-11-21 22:09:37,464][MainProcess][__main__][INFO] NLLLoss: 0.474\n",
      "[2020-11-21 22:09:37,526][MainProcess][lib.metrics.accuracy][INFO] Accuracy: 0.881103515625 [7218 of 8192]\n",
      "[2020-11-21 22:09:37,535][MainProcess][__main__][INFO] Ran out of patience, increasing train batch size to: 64\n",
      "––––––––––––––––––––––––––––––––––––––––––––––––––––––––––––––––––––––––––––––––––––––––––––––––––––\n",
      "[2020-11-21 22:09:37,536][MainProcess][__main__][INFO] Epoch: 5\n",
      "[2020-11-21 22:09:37,537][MainProcess][__main__][INFO] Training...\n"
     ]
    },
    {
     "data": {
      "application/vnd.jupyter.widget-view+json": {
       "model_id": "a719e1ad6b464899857f77a03e14ce08",
       "version_major": 2,
       "version_minor": 0
      },
      "text/plain": [
       "HBox(children=(HTML(value=''), FloatProgress(value=0.0, max=1185.0), HTML(value='')))"
      ]
     },
     "metadata": {},
     "output_type": "display_data"
    },
    {
     "name": "stdout",
     "output_type": "stream",
     "text": [
      "\n",
      "[2020-11-21 22:09:51,426][MainProcess][lib.checkpoint][INFO] Saving checkpoint: ../../experiments/relation_classifier.11_21_20:05:46/84341.pt\n"
     ]
    },
    {
     "data": {
      "application/vnd.jupyter.widget-view+json": {
       "model_id": "b075ff394cfc4167b58fa6196ee4862a",
       "version_major": 2,
       "version_minor": 0
      },
      "text/plain": [
       "HBox(children=(HTML(value=''), FloatProgress(value=0.0, max=2.0), HTML(value='')))"
      ]
     },
     "metadata": {},
     "output_type": "display_data"
    },
    {
     "name": "stdout",
     "output_type": "stream",
     "text": [
      "\n",
      "[2020-11-21 22:09:53,291][MainProcess][__main__][INFO] NLLLoss: 0.451\n",
      "[2020-11-21 22:09:53,354][MainProcess][lib.metrics.accuracy][INFO] Accuracy: 0.8843994140625 [7245 of 8192]\n",
      "––––––––––––––––––––––––––––––––––––––––––––––––––––––––––––––––––––––––––––––––––––––––––––––––––––\n",
      "[2020-11-21 22:09:53,362][MainProcess][__main__][INFO] Epoch: 6\n",
      "[2020-11-21 22:09:53,364][MainProcess][__main__][INFO] Training...\n"
     ]
    },
    {
     "data": {
      "application/vnd.jupyter.widget-view+json": {
       "model_id": "129c70eea4254000b07eaf29f37cdf1b",
       "version_major": 2,
       "version_minor": 0
      },
      "text/plain": [
       "HBox(children=(HTML(value=''), FloatProgress(value=0.0, max=1185.0), HTML(value='')))"
      ]
     },
     "metadata": {},
     "output_type": "display_data"
    },
    {
     "name": "stdout",
     "output_type": "stream",
     "text": [
      "\n",
      "[2020-11-21 22:10:07,785][MainProcess][lib.checkpoint][INFO] Saving checkpoint: ../../experiments/relation_classifier.11_21_20:05:46/84357.pt\n"
     ]
    },
    {
     "data": {
      "application/vnd.jupyter.widget-view+json": {
       "model_id": "40ee13539c4742d0a86dfc397b4c7091",
       "version_major": 2,
       "version_minor": 0
      },
      "text/plain": [
       "HBox(children=(HTML(value=''), FloatProgress(value=0.0, max=2.0), HTML(value='')))"
      ]
     },
     "metadata": {},
     "output_type": "display_data"
    },
    {
     "name": "stdout",
     "output_type": "stream",
     "text": [
      "\n",
      "[2020-11-21 22:10:09,060][MainProcess][__main__][INFO] NLLLoss: 0.455\n",
      "[2020-11-21 22:10:09,119][MainProcess][lib.metrics.accuracy][INFO] Accuracy: 0.885009765625 [7250 of 8192]\n"
     ]
    },
    {
     "name": "stderr",
     "output_type": "stream",
     "text": [
      " 17%|█▋        | 167.77777777777808/1000.0 [1:54:37<6:13:43, 26.94s/it, min_score=-.885, models_evaluated=74]"
     ]
    },
    {
     "name": "stdout",
     "output_type": "stream",
     "text": [
      "––––––––––––––––––––––––––––––––––––––––––––––––––––––––––––––––––––––––––––––––––––––––––––––––––––\n",
      "====================================================================================================\n",
      "[2020-11-21 22:10:09,170][MainProcess][lib.configurable][INFO] Checking configuration...\n",
      "[2020-11-21 22:10:09,171][MainProcess][lib.configurable][INFO] Configuration checked.\n",
      "[2020-11-21 22:10:09,172][MainProcess][lib.checkpoint][INFO] Loading checkpoints from ../../experiments/relation_classifier.11_21_20:05:46/82050.pt onto device 0\n",
      "[2020-11-21 22:10:09,242][MainProcess][__main__][INFO] Epochs: 7\n",
      "[2020-11-21 22:10:09,243][MainProcess][__main__][INFO] Train Dataset Size: 75900\n",
      "[2020-11-21 22:10:09,244][MainProcess][__main__][INFO] Dev Dataset Size: 10845\n",
      "[2020-11-21 22:10:09,245][MainProcess][__main__][INFO] Train Batch Size: 32\n",
      "[2020-11-21 22:10:09,245][MainProcess][__main__][INFO] Train Max Batch Size: 1024\n",
      "[2020-11-21 22:10:09,247][MainProcess][__main__][INFO] Total Parameters: 1493519\n",
      "[2020-11-21 22:10:09,247][MainProcess][__main__][INFO] Model:\n",
      "SeqToLabel(\n",
      "  (encoder): SeqEncoder(\n",
      "    (embedding): Embedding(6899, 300, padding_idx=0)\n",
      "    (rnn): GRU(300, 366, dropout=0.7921394678329655)\n",
      "    (rnn_dropout): LockedDropout(p=0.7030952127500919)\n",
      "    (embedding_dropout): Dropout(p=0.3400759438631127)\n",
      "  )\n",
      "  (out): Sequential(\n",
      "    (0): Linear(in_features=366, out_features=366, bias=True)\n",
      "    (1): BatchNorm1d(366, eps=1e-05, momentum=0.1, affine=True)\n",
      "    (2): ReLU()\n",
      "    (3): Dropout(p=0.23555474604078888)\n",
      "    (4): Linear(in_features=366, out_features=1703, bias=True)\n",
      "  )\n",
      ")\n",
      "[2020-11-21 22:10:09,249][MainProcess][__main__][INFO] Epoch: 0\n",
      "[2020-11-21 22:10:09,250][MainProcess][__main__][INFO] Training...\n"
     ]
    },
    {
     "data": {
      "application/vnd.jupyter.widget-view+json": {
       "model_id": "019b941ffc0e4607be52b12bceaca4a4",
       "version_major": 2,
       "version_minor": 0
      },
      "text/plain": [
       "HBox(children=(HTML(value=''), FloatProgress(value=0.0, max=2371.0), HTML(value='')))"
      ]
     },
     "metadata": {},
     "output_type": "display_data"
    },
    {
     "name": "stdout",
     "output_type": "stream",
     "text": [
      "\n",
      "[2020-11-21 22:10:28,419][MainProcess][lib.checkpoint][INFO] Saving checkpoint: ../../experiments/relation_classifier.11_21_20:05:46/84378.pt\n"
     ]
    },
    {
     "data": {
      "application/vnd.jupyter.widget-view+json": {
       "model_id": "1c16234708654fbca733b3b306cb1fe5",
       "version_major": 2,
       "version_minor": 0
      },
      "text/plain": [
       "HBox(children=(HTML(value=''), FloatProgress(value=0.0, max=2.0), HTML(value='')))"
      ]
     },
     "metadata": {},
     "output_type": "display_data"
    },
    {
     "name": "stdout",
     "output_type": "stream",
     "text": [
      "\n",
      "[2020-11-21 22:10:29,628][MainProcess][__main__][INFO] NLLLoss: 0.453\n",
      "[2020-11-21 22:10:29,700][MainProcess][lib.metrics.accuracy][INFO] Accuracy: 0.8809814453125 [7217 of 8192]\n",
      "––––––––––––––––––––––––––––––––––––––––––––––––––––––––––––––––––––––––––––––––––––––––––––––––––––\n",
      "[2020-11-21 22:10:29,708][MainProcess][__main__][INFO] Epoch: 1\n",
      "[2020-11-21 22:10:29,710][MainProcess][__main__][INFO] Training...\n"
     ]
    },
    {
     "data": {
      "application/vnd.jupyter.widget-view+json": {
       "model_id": "f731566a8b0145158689caa4ca81064f",
       "version_major": 2,
       "version_minor": 0
      },
      "text/plain": [
       "HBox(children=(HTML(value=''), FloatProgress(value=0.0, max=2371.0), HTML(value='')))"
      ]
     },
     "metadata": {},
     "output_type": "display_data"
    },
    {
     "name": "stdout",
     "output_type": "stream",
     "text": [
      "\n",
      "[2020-11-21 22:10:48,684][MainProcess][lib.checkpoint][INFO] Saving checkpoint: ../../experiments/relation_classifier.11_21_20:05:46/84398.pt\n"
     ]
    },
    {
     "data": {
      "application/vnd.jupyter.widget-view+json": {
       "model_id": "f5652cc29da640e689fe815f9848c6b6",
       "version_major": 2,
       "version_minor": 0
      },
      "text/plain": [
       "HBox(children=(HTML(value=''), FloatProgress(value=0.0, max=2.0), HTML(value='')))"
      ]
     },
     "metadata": {},
     "output_type": "display_data"
    },
    {
     "name": "stdout",
     "output_type": "stream",
     "text": [
      "\n",
      "[2020-11-21 22:10:50,315][MainProcess][__main__][INFO] NLLLoss: 0.465\n",
      "[2020-11-21 22:10:50,381][MainProcess][lib.metrics.accuracy][INFO] Accuracy: 0.87646484375 [7180 of 8192]\n",
      "––––––––––––––––––––––––––––––––––––––––––––––––––––––––––––––––––––––––––––––––––––––––––––––––––––\n",
      "[2020-11-21 22:10:50,389][MainProcess][__main__][INFO] Epoch: 2\n",
      "[2020-11-21 22:10:50,391][MainProcess][__main__][INFO] Training...\n"
     ]
    },
    {
     "data": {
      "application/vnd.jupyter.widget-view+json": {
       "model_id": "24c47c5c318e417db20d7e229e11fcbf",
       "version_major": 2,
       "version_minor": 0
      },
      "text/plain": [
       "HBox(children=(HTML(value=''), FloatProgress(value=0.0, max=2371.0), HTML(value='')))"
      ]
     },
     "metadata": {},
     "output_type": "display_data"
    },
    {
     "name": "stdout",
     "output_type": "stream",
     "text": [
      "\n",
      "[2020-11-21 22:11:09,868][MainProcess][lib.checkpoint][INFO] Saving checkpoint: ../../experiments/relation_classifier.11_21_20:05:46/84419.pt\n"
     ]
    },
    {
     "data": {
      "application/vnd.jupyter.widget-view+json": {
       "model_id": "17a05530619e4c0c85f51ab95b12b603",
       "version_major": 2,
       "version_minor": 0
      },
      "text/plain": [
       "HBox(children=(HTML(value=''), FloatProgress(value=0.0, max=2.0), HTML(value='')))"
      ]
     },
     "metadata": {},
     "output_type": "display_data"
    },
    {
     "name": "stdout",
     "output_type": "stream",
     "text": [
      "\n",
      "[2020-11-21 22:11:11,258][MainProcess][__main__][INFO] NLLLoss: 0.461\n",
      "[2020-11-21 22:11:11,317][MainProcess][lib.metrics.accuracy][INFO] Accuracy: 0.875244140625 [7170 of 8192]\n",
      "––––––––––––––––––––––––––––––––––––––––––––––––––––––––––––––––––––––––––––––––––––––––––––––––––––\n",
      "[2020-11-21 22:11:11,325][MainProcess][__main__][INFO] Epoch: 3\n",
      "[2020-11-21 22:11:11,327][MainProcess][__main__][INFO] Training...\n"
     ]
    },
    {
     "data": {
      "application/vnd.jupyter.widget-view+json": {
       "model_id": "ea571a07a6c04354a1783d280a0404d5",
       "version_major": 2,
       "version_minor": 0
      },
      "text/plain": [
       "HBox(children=(HTML(value=''), FloatProgress(value=0.0, max=2371.0), HTML(value='')))"
      ]
     },
     "metadata": {},
     "output_type": "display_data"
    },
    {
     "name": "stdout",
     "output_type": "stream",
     "text": [
      "\n",
      "[2020-11-21 22:11:30,233][MainProcess][lib.checkpoint][INFO] Saving checkpoint: ../../experiments/relation_classifier.11_21_20:05:46/84439.pt\n"
     ]
    },
    {
     "data": {
      "application/vnd.jupyter.widget-view+json": {
       "model_id": "94848853d64d4675a44957a06654f8c1",
       "version_major": 2,
       "version_minor": 0
      },
      "text/plain": [
       "HBox(children=(HTML(value=''), FloatProgress(value=0.0, max=2.0), HTML(value='')))"
      ]
     },
     "metadata": {},
     "output_type": "display_data"
    },
    {
     "name": "stdout",
     "output_type": "stream",
     "text": [
      "\n",
      "[2020-11-21 22:11:31,759][MainProcess][__main__][INFO] NLLLoss: 0.459\n",
      "[2020-11-21 22:11:31,863][MainProcess][lib.metrics.accuracy][INFO] Accuracy: 0.8792724609375 [7203 of 8192]\n",
      "[2020-11-21 22:11:31,875][MainProcess][__main__][INFO] Ran out of patience, increasing train batch size to: 64\n",
      "––––––––––––––––––––––––––––––––––––––––––––––––––––––––––––––––––––––––––––––––––––––––––––––––––––\n",
      "[2020-11-21 22:11:31,877][MainProcess][__main__][INFO] Epoch: 4\n",
      "[2020-11-21 22:11:31,878][MainProcess][__main__][INFO] Training...\n"
     ]
    },
    {
     "data": {
      "application/vnd.jupyter.widget-view+json": {
       "model_id": "9cb10ee39fd840e391a0b37fbc24e610",
       "version_major": 2,
       "version_minor": 0
      },
      "text/plain": [
       "HBox(children=(HTML(value=''), FloatProgress(value=0.0, max=1185.0), HTML(value='')))"
      ]
     },
     "metadata": {},
     "output_type": "display_data"
    },
    {
     "name": "stdout",
     "output_type": "stream",
     "text": [
      "\n",
      "[2020-11-21 22:11:42,812][MainProcess][lib.checkpoint][INFO] Saving checkpoint: ../../experiments/relation_classifier.11_21_20:05:46/84452.pt\n"
     ]
    },
    {
     "data": {
      "application/vnd.jupyter.widget-view+json": {
       "model_id": "121c8564528449afb54271e22d367cf0",
       "version_major": 2,
       "version_minor": 0
      },
      "text/plain": [
       "HBox(children=(HTML(value=''), FloatProgress(value=0.0, max=2.0), HTML(value='')))"
      ]
     },
     "metadata": {},
     "output_type": "display_data"
    },
    {
     "name": "stdout",
     "output_type": "stream",
     "text": [
      "\n",
      "[2020-11-21 22:11:44,349][MainProcess][__main__][INFO] NLLLoss: 0.438\n",
      "[2020-11-21 22:11:44,410][MainProcess][lib.metrics.accuracy][INFO] Accuracy: 0.8868408203125 [7265 of 8192]\n",
      "––––––––––––––––––––––––––––––––––––––––––––––––––––––––––––––––––––––––––––––––––––––––––––––––––––\n",
      "[2020-11-21 22:11:44,418][MainProcess][__main__][INFO] Epoch: 5\n",
      "[2020-11-21 22:11:44,420][MainProcess][__main__][INFO] Training...\n"
     ]
    },
    {
     "data": {
      "application/vnd.jupyter.widget-view+json": {
       "model_id": "f818378b467a43a3b674527590ec8d0c",
       "version_major": 2,
       "version_minor": 0
      },
      "text/plain": [
       "HBox(children=(HTML(value=''), FloatProgress(value=0.0, max=1185.0), HTML(value='')))"
      ]
     },
     "metadata": {},
     "output_type": "display_data"
    },
    {
     "name": "stdout",
     "output_type": "stream",
     "text": [
      "\n",
      "[2020-11-21 22:11:55,100][MainProcess][lib.checkpoint][INFO] Saving checkpoint: ../../experiments/relation_classifier.11_21_20:05:46/84464.pt\n"
     ]
    },
    {
     "data": {
      "application/vnd.jupyter.widget-view+json": {
       "model_id": "6da1ad8811a8497e93b2cd87fcf1ccb9",
       "version_major": 2,
       "version_minor": 0
      },
      "text/plain": [
       "HBox(children=(HTML(value=''), FloatProgress(value=0.0, max=2.0), HTML(value='')))"
      ]
     },
     "metadata": {},
     "output_type": "display_data"
    },
    {
     "name": "stdout",
     "output_type": "stream",
     "text": [
      "\n",
      "[2020-11-21 22:11:56,949][MainProcess][__main__][INFO] NLLLoss: 0.450\n",
      "[2020-11-21 22:11:57,008][MainProcess][lib.metrics.accuracy][INFO] Accuracy: 0.8822021484375 [7227 of 8192]\n",
      "––––––––––––––––––––––––––––––––––––––––––––––––––––––––––––––––––––––––––––––––––––––––––––––––––––\n",
      "[2020-11-21 22:11:57,016][MainProcess][__main__][INFO] Epoch: 6\n",
      "[2020-11-21 22:11:57,019][MainProcess][__main__][INFO] Training...\n"
     ]
    },
    {
     "data": {
      "application/vnd.jupyter.widget-view+json": {
       "model_id": "c78722c7902e4bd6a4188aa5c9bbe153",
       "version_major": 2,
       "version_minor": 0
      },
      "text/plain": [
       "HBox(children=(HTML(value=''), FloatProgress(value=0.0, max=1185.0), HTML(value='')))"
      ]
     },
     "metadata": {},
     "output_type": "display_data"
    },
    {
     "name": "stdout",
     "output_type": "stream",
     "text": [
      "\n",
      "[2020-11-21 22:12:06,943][MainProcess][lib.checkpoint][INFO] Saving checkpoint: ../../experiments/relation_classifier.11_21_20:05:46/84476.pt\n"
     ]
    },
    {
     "data": {
      "application/vnd.jupyter.widget-view+json": {
       "model_id": "4c22685a6d264275a563b590c4ad56ee",
       "version_major": 2,
       "version_minor": 0
      },
      "text/plain": [
       "HBox(children=(HTML(value=''), FloatProgress(value=0.0, max=2.0), HTML(value='')))"
      ]
     },
     "metadata": {},
     "output_type": "display_data"
    },
    {
     "name": "stdout",
     "output_type": "stream",
     "text": [
      "\n",
      "[2020-11-21 22:12:08,107][MainProcess][__main__][INFO] NLLLoss: 0.441\n",
      "[2020-11-21 22:12:08,168][MainProcess][lib.metrics.accuracy][INFO] Accuracy: 0.8865966796875 [7263 of 8192]\n"
     ]
    },
    {
     "name": "stderr",
     "output_type": "stream",
     "text": [
      " 17%|█▋        | 174.44444444444474/1000.0 [1:56:36<5:33:13, 24.22s/it, min_score=-.887, models_evaluated=74]"
     ]
    },
    {
     "name": "stdout",
     "output_type": "stream",
     "text": [
      "––––––––––––––––––––––––––––––––––––––––––––––––––––––––––––––––––––––––––––––––––––––––––––––––––––\n",
      "====================================================================================================\n",
      "[2020-11-21 22:12:08,218][MainProcess][lib.configurable][INFO] Checking configuration...\n",
      "[2020-11-21 22:12:08,219][MainProcess][lib.configurable][INFO] Configuration checked.\n",
      "[2020-11-21 22:12:08,220][MainProcess][lib.checkpoint][INFO] Loading checkpoints from ../../experiments/relation_classifier.11_21_20:05:46/81620.pt onto device 0\n",
      "[2020-11-21 22:12:08,278][MainProcess][__main__][INFO] Epochs: 7\n",
      "[2020-11-21 22:12:08,280][MainProcess][__main__][INFO] Train Dataset Size: 75900\n",
      "[2020-11-21 22:12:08,281][MainProcess][__main__][INFO] Dev Dataset Size: 10845\n",
      "[2020-11-21 22:12:08,282][MainProcess][__main__][INFO] Train Batch Size: 32\n",
      "[2020-11-21 22:12:08,283][MainProcess][__main__][INFO] Train Max Batch Size: 1024\n",
      "[2020-11-21 22:12:08,284][MainProcess][__main__][INFO] Total Parameters: 1674895\n",
      "[2020-11-21 22:12:08,285][MainProcess][__main__][INFO] Model:\n",
      "SeqToLabel(\n",
      "  (encoder): SeqEncoder(\n",
      "    (embedding): Embedding(6899, 300, padding_idx=0)\n",
      "    (rnn): GRU(300, 398, dropout=0.014078954309710958)\n",
      "    (rnn_dropout): LockedDropout(p=0.25900830224557775)\n",
      "    (embedding_dropout): Dropout(p=0.29588972200996544)\n",
      "  )\n",
      "  (out): Sequential(\n",
      "    (0): Linear(in_features=398, out_features=398, bias=True)\n",
      "    (1): BatchNorm1d(398, eps=1e-05, momentum=0.1, affine=True)\n",
      "    (2): ReLU()\n",
      "    (3): Dropout(p=0.06297496200573396)\n",
      "    (4): Linear(in_features=398, out_features=1703, bias=True)\n",
      "  )\n",
      ")\n",
      "[2020-11-21 22:12:08,286][MainProcess][__main__][INFO] Epoch: 0\n",
      "[2020-11-21 22:12:08,286][MainProcess][__main__][INFO] Training...\n"
     ]
    },
    {
     "data": {
      "application/vnd.jupyter.widget-view+json": {
       "model_id": "7a0aac5c17cb4ef0a98532c115e14fdf",
       "version_major": 2,
       "version_minor": 0
      },
      "text/plain": [
       "HBox(children=(HTML(value=''), FloatProgress(value=0.0, max=2371.0), HTML(value='')))"
      ]
     },
     "metadata": {},
     "output_type": "display_data"
    },
    {
     "name": "stdout",
     "output_type": "stream",
     "text": [
      "\n",
      "[2020-11-21 22:12:27,287][MainProcess][lib.checkpoint][INFO] Saving checkpoint: ../../experiments/relation_classifier.11_21_20:05:46/84497.pt\n"
     ]
    },
    {
     "data": {
      "application/vnd.jupyter.widget-view+json": {
       "model_id": "f1cda17f782f4195b6224630fad1868e",
       "version_major": 2,
       "version_minor": 0
      },
      "text/plain": [
       "HBox(children=(HTML(value=''), FloatProgress(value=0.0, max=2.0), HTML(value='')))"
      ]
     },
     "metadata": {},
     "output_type": "display_data"
    },
    {
     "name": "stdout",
     "output_type": "stream",
     "text": [
      "\n",
      "[2020-11-21 22:12:28,921][MainProcess][__main__][INFO] NLLLoss: 0.465\n",
      "[2020-11-21 22:12:29,027][MainProcess][lib.metrics.accuracy][INFO] Accuracy: 0.874755859375 [7166 of 8192]\n",
      "––––––––––––––––––––––––––––––––––––––––––––––––––––––––––––––––––––––––––––––––––––––––––––––––––––\n",
      "[2020-11-21 22:12:29,038][MainProcess][__main__][INFO] Epoch: 1\n",
      "[2020-11-21 22:12:29,040][MainProcess][__main__][INFO] Training...\n"
     ]
    },
    {
     "data": {
      "application/vnd.jupyter.widget-view+json": {
       "model_id": "12af9eb2b65548d1b42a278e279bc0fa",
       "version_major": 2,
       "version_minor": 0
      },
      "text/plain": [
       "HBox(children=(HTML(value=''), FloatProgress(value=0.0, max=2371.0), HTML(value='')))"
      ]
     },
     "metadata": {},
     "output_type": "display_data"
    },
    {
     "name": "stdout",
     "output_type": "stream",
     "text": [
      "\n",
      "[2020-11-21 22:12:48,222][MainProcess][lib.checkpoint][INFO] Saving checkpoint: ../../experiments/relation_classifier.11_21_20:05:46/84517.pt\n"
     ]
    },
    {
     "data": {
      "application/vnd.jupyter.widget-view+json": {
       "model_id": "ca1467aff91f4d3a8877086bcc90380f",
       "version_major": 2,
       "version_minor": 0
      },
      "text/plain": [
       "HBox(children=(HTML(value=''), FloatProgress(value=0.0, max=2.0), HTML(value='')))"
      ]
     },
     "metadata": {},
     "output_type": "display_data"
    },
    {
     "name": "stdout",
     "output_type": "stream",
     "text": [
      "\n",
      "[2020-11-21 22:12:49,620][MainProcess][__main__][INFO] NLLLoss: 0.474\n",
      "[2020-11-21 22:12:49,683][MainProcess][lib.metrics.accuracy][INFO] Accuracy: 0.8739013671875 [7159 of 8192]\n",
      "––––––––––––––––––––––––––––––––––––––––––––––––––––––––––––––––––––––––––––––––––––––––––––––––––––\n",
      "[2020-11-21 22:12:49,691][MainProcess][__main__][INFO] Epoch: 2\n",
      "[2020-11-21 22:12:49,693][MainProcess][__main__][INFO] Training...\n"
     ]
    },
    {
     "data": {
      "application/vnd.jupyter.widget-view+json": {
       "model_id": "c662462883f148fbbf5ade54a4d3da00",
       "version_major": 2,
       "version_minor": 0
      },
      "text/plain": [
       "HBox(children=(HTML(value=''), FloatProgress(value=0.0, max=2371.0), HTML(value='')))"
      ]
     },
     "metadata": {},
     "output_type": "display_data"
    },
    {
     "name": "stdout",
     "output_type": "stream",
     "text": [
      "\n",
      "[2020-11-21 22:13:08,133][MainProcess][lib.checkpoint][INFO] Saving checkpoint: ../../experiments/relation_classifier.11_21_20:05:46/84537.pt\n"
     ]
    },
    {
     "data": {
      "application/vnd.jupyter.widget-view+json": {
       "model_id": "8a8cdd18bec040d99c9ad7dab5730063",
       "version_major": 2,
       "version_minor": 0
      },
      "text/plain": [
       "HBox(children=(HTML(value=''), FloatProgress(value=0.0, max=2.0), HTML(value='')))"
      ]
     },
     "metadata": {},
     "output_type": "display_data"
    },
    {
     "name": "stdout",
     "output_type": "stream",
     "text": [
      "\n",
      "[2020-11-21 22:13:09,449][MainProcess][__main__][INFO] NLLLoss: 0.448\n",
      "[2020-11-21 22:13:09,511][MainProcess][lib.metrics.accuracy][INFO] Accuracy: 0.8818359375 [7224 of 8192]\n",
      "––––––––––––––––––––––––––––––––––––––––––––––––––––––––––––––––––––––––––––––––––––––––––––––––––––\n",
      "[2020-11-21 22:13:09,519][MainProcess][__main__][INFO] Epoch: 3\n",
      "[2020-11-21 22:13:09,521][MainProcess][__main__][INFO] Training...\n"
     ]
    },
    {
     "data": {
      "application/vnd.jupyter.widget-view+json": {
       "model_id": "cea4706847074762a77f7110572312c2",
       "version_major": 2,
       "version_minor": 0
      },
      "text/plain": [
       "HBox(children=(HTML(value=''), FloatProgress(value=0.0, max=2371.0), HTML(value='')))"
      ]
     },
     "metadata": {},
     "output_type": "display_data"
    },
    {
     "name": "stdout",
     "output_type": "stream",
     "text": [
      "\n",
      "[2020-11-21 22:13:28,193][MainProcess][lib.checkpoint][INFO] Saving checkpoint: ../../experiments/relation_classifier.11_21_20:05:46/84557.pt\n"
     ]
    },
    {
     "data": {
      "application/vnd.jupyter.widget-view+json": {
       "model_id": "7d19492b0578485f9f44c87281a3265c",
       "version_major": 2,
       "version_minor": 0
      },
      "text/plain": [
       "HBox(children=(HTML(value=''), FloatProgress(value=0.0, max=2.0), HTML(value='')))"
      ]
     },
     "metadata": {},
     "output_type": "display_data"
    },
    {
     "name": "stdout",
     "output_type": "stream",
     "text": [
      "\n",
      "[2020-11-21 22:13:29,560][MainProcess][__main__][INFO] NLLLoss: 0.451\n",
      "[2020-11-21 22:13:29,622][MainProcess][lib.metrics.accuracy][INFO] Accuracy: 0.8826904296875 [7231 of 8192]\n",
      "––––––––––––––––––––––––––––––––––––––––––––––––––––––––––––––––––––––––––––––––––––––––––––––––––––\n",
      "[2020-11-21 22:13:29,629][MainProcess][__main__][INFO] Epoch: 4\n",
      "[2020-11-21 22:13:29,631][MainProcess][__main__][INFO] Training...\n"
     ]
    },
    {
     "data": {
      "application/vnd.jupyter.widget-view+json": {
       "model_id": "5455c2079a9a40f98ad9c9fe5ec1b57a",
       "version_major": 2,
       "version_minor": 0
      },
      "text/plain": [
       "HBox(children=(HTML(value=''), FloatProgress(value=0.0, max=2371.0), HTML(value='')))"
      ]
     },
     "metadata": {},
     "output_type": "display_data"
    },
    {
     "name": "stdout",
     "output_type": "stream",
     "text": [
      "\n",
      "[2020-11-21 22:13:48,701][MainProcess][lib.checkpoint][INFO] Saving checkpoint: ../../experiments/relation_classifier.11_21_20:05:46/84578.pt\n"
     ]
    },
    {
     "data": {
      "application/vnd.jupyter.widget-view+json": {
       "model_id": "b34e11cb3af04c04b7bc6d8c0dfe539f",
       "version_major": 2,
       "version_minor": 0
      },
      "text/plain": [
       "HBox(children=(HTML(value=''), FloatProgress(value=0.0, max=2.0), HTML(value='')))"
      ]
     },
     "metadata": {},
     "output_type": "display_data"
    },
    {
     "name": "stdout",
     "output_type": "stream",
     "text": [
      "\n",
      "[2020-11-21 22:13:50,158][MainProcess][__main__][INFO] NLLLoss: 0.475\n",
      "[2020-11-21 22:13:50,219][MainProcess][lib.metrics.accuracy][INFO] Accuracy: 0.879150390625 [7202 of 8192]\n",
      "––––––––––––––––––––––––––––––––––––––––––––––––––––––––––––––––––––––––––––––––––––––––––––––––––––\n",
      "[2020-11-21 22:13:50,228][MainProcess][__main__][INFO] Epoch: 5\n",
      "[2020-11-21 22:13:50,230][MainProcess][__main__][INFO] Training...\n"
     ]
    },
    {
     "data": {
      "application/vnd.jupyter.widget-view+json": {
       "model_id": "2fac5310113a4acca1e56c2f1dcca05f",
       "version_major": 2,
       "version_minor": 0
      },
      "text/plain": [
       "HBox(children=(HTML(value=''), FloatProgress(value=0.0, max=2371.0), HTML(value='')))"
      ]
     },
     "metadata": {},
     "output_type": "display_data"
    },
    {
     "name": "stdout",
     "output_type": "stream",
     "text": [
      "\n",
      "[2020-11-21 22:14:09,179][MainProcess][lib.checkpoint][INFO] Saving checkpoint: ../../experiments/relation_classifier.11_21_20:05:46/84598.pt\n"
     ]
    },
    {
     "data": {
      "application/vnd.jupyter.widget-view+json": {
       "model_id": "67bc366b8b094692a6dcb49b57f34ff8",
       "version_major": 2,
       "version_minor": 0
      },
      "text/plain": [
       "HBox(children=(HTML(value=''), FloatProgress(value=0.0, max=2.0), HTML(value='')))"
      ]
     },
     "metadata": {},
     "output_type": "display_data"
    },
    {
     "name": "stdout",
     "output_type": "stream",
     "text": [
      "\n",
      "[2020-11-21 22:14:10,476][MainProcess][__main__][INFO] NLLLoss: 0.464\n",
      "[2020-11-21 22:14:10,546][MainProcess][lib.metrics.accuracy][INFO] Accuracy: 0.8831787109375 [7235 of 8192]\n",
      "––––––––––––––––––––––––––––––––––––––––––––––––––––––––––––––––––––––––––––––––––––––––––––––––––––\n",
      "[2020-11-21 22:14:10,555][MainProcess][__main__][INFO] Epoch: 6\n",
      "[2020-11-21 22:14:10,557][MainProcess][__main__][INFO] Training...\n"
     ]
    },
    {
     "data": {
      "application/vnd.jupyter.widget-view+json": {
       "model_id": "4d916e46328e402d9d7e8b827e0bb7ce",
       "version_major": 2,
       "version_minor": 0
      },
      "text/plain": [
       "HBox(children=(HTML(value=''), FloatProgress(value=0.0, max=2371.0), HTML(value='')))"
      ]
     },
     "metadata": {},
     "output_type": "display_data"
    },
    {
     "name": "stdout",
     "output_type": "stream",
     "text": [
      "\n",
      "[2020-11-21 22:14:28,994][MainProcess][lib.checkpoint][INFO] Saving checkpoint: ../../experiments/relation_classifier.11_21_20:05:46/84618.pt\n"
     ]
    },
    {
     "data": {
      "application/vnd.jupyter.widget-view+json": {
       "model_id": "d82256aad2294598b093f65ed05093d6",
       "version_major": 2,
       "version_minor": 0
      },
      "text/plain": [
       "HBox(children=(HTML(value=''), FloatProgress(value=0.0, max=2.0), HTML(value='')))"
      ]
     },
     "metadata": {},
     "output_type": "display_data"
    },
    {
     "name": "stdout",
     "output_type": "stream",
     "text": [
      "\n",
      "[2020-11-21 22:14:30,407][MainProcess][__main__][INFO] NLLLoss: 0.459\n",
      "[2020-11-21 22:14:30,482][MainProcess][lib.metrics.accuracy][INFO] Accuracy: 0.8848876953125 [7249 of 8192]\n"
     ]
    },
    {
     "name": "stderr",
     "output_type": "stream",
     "text": [
      "\r",
      " 18%|█▊        | 181.1111111111114/1000.0 [1:58:58<5:18:46, 23.36s/it, min_score=-.887, models_evaluated=74] "
     ]
    },
    {
     "name": "stdout",
     "output_type": "stream",
     "text": [
      "––––––––––––––––––––––––––––––––––––––––––––––––––––––––––––––––––––––––––––––––––––––––––––––––––––\n",
      "====================================================================================================\n",
      "[2020-11-21 22:14:30,531][MainProcess][lib.configurable][INFO] Checking configuration...\n",
      "[2020-11-21 22:14:30,533][MainProcess][lib.configurable][INFO] Configuration checked.\n",
      "[2020-11-21 22:14:30,534][MainProcess][lib.checkpoint][INFO] Loading checkpoints from ../../experiments/relation_classifier.11_21_20:05:46/82819.pt onto device 0\n",
      "[2020-11-21 22:14:30,597][MainProcess][__main__][INFO] Epochs: 7\n",
      "[2020-11-21 22:14:30,598][MainProcess][__main__][INFO] Train Dataset Size: 75900\n",
      "[2020-11-21 22:14:30,599][MainProcess][__main__][INFO] Dev Dataset Size: 10845\n",
      "[2020-11-21 22:14:30,600][MainProcess][__main__][INFO] Train Batch Size: 32\n",
      "[2020-11-21 22:14:30,601][MainProcess][__main__][INFO] Train Max Batch Size: 1024\n",
      "[2020-11-21 22:14:30,602][MainProcess][__main__][INFO] Total Parameters: 1418921\n",
      "[2020-11-21 22:14:30,603][MainProcess][__main__][INFO] Model:\n",
      "SeqToLabel(\n",
      "  (encoder): SeqEncoder(\n",
      "    (embedding): Embedding(6899, 300, padding_idx=0)\n",
      "    (rnn): GRU(300, 197, dropout=0.09295961658586765, bidirectional=True)\n",
      "    (rnn_dropout): LockedDropout(p=0.4121832977908714)\n",
      "    (embedding_dropout): Dropout(p=0.34912697478333016)\n",
      "  )\n",
      "  (out): Sequential(\n",
      "    (0): Linear(in_features=394, out_features=394, bias=True)\n",
      "    (1): BatchNorm1d(394, eps=1e-05, momentum=0.1, affine=True)\n",
      "    (2): ReLU()\n",
      "    (3): Dropout(p=0.6464779363929288)\n",
      "    (4): Linear(in_features=394, out_features=1703, bias=True)\n",
      "  )\n",
      ")\n",
      "[2020-11-21 22:14:30,603][MainProcess][__main__][INFO] Epoch: 0\n",
      "[2020-11-21 22:14:30,605][MainProcess][__main__][INFO] Training...\n"
     ]
    },
    {
     "data": {
      "application/vnd.jupyter.widget-view+json": {
       "model_id": "f988ab9725344a9fa33f82eedbe24216",
       "version_major": 2,
       "version_minor": 0
      },
      "text/plain": [
       "HBox(children=(HTML(value=''), FloatProgress(value=0.0, max=2371.0), HTML(value='')))"
      ]
     },
     "metadata": {},
     "output_type": "display_data"
    },
    {
     "name": "stdout",
     "output_type": "stream",
     "text": [
      "\n",
      "[2020-11-21 22:14:55,219][MainProcess][lib.checkpoint][INFO] Saving checkpoint: ../../experiments/relation_classifier.11_21_20:05:46/84644.pt\n"
     ]
    },
    {
     "data": {
      "application/vnd.jupyter.widget-view+json": {
       "model_id": "237090fd5edc41cfa2e3f292dc35d13b",
       "version_major": 2,
       "version_minor": 0
      },
      "text/plain": [
       "HBox(children=(HTML(value=''), FloatProgress(value=0.0, max=2.0), HTML(value='')))"
      ]
     },
     "metadata": {},
     "output_type": "display_data"
    },
    {
     "name": "stdout",
     "output_type": "stream",
     "text": [
      "\n",
      "[2020-11-21 22:14:56,652][MainProcess][__main__][INFO] NLLLoss: 0.496\n",
      "[2020-11-21 22:14:56,714][MainProcess][lib.metrics.accuracy][INFO] Accuracy: 0.8759765625 [7176 of 8192]\n",
      "––––––––––––––––––––––––––––––––––––––––––––––––––––––––––––––––––––––––––––––––––––––––––––––––––––\n",
      "[2020-11-21 22:14:56,722][MainProcess][__main__][INFO] Epoch: 1\n",
      "[2020-11-21 22:14:56,724][MainProcess][__main__][INFO] Training...\n"
     ]
    },
    {
     "data": {
      "application/vnd.jupyter.widget-view+json": {
       "model_id": "331bbc6b096a49299eaca2ff22f3603e",
       "version_major": 2,
       "version_minor": 0
      },
      "text/plain": [
       "HBox(children=(HTML(value=''), FloatProgress(value=0.0, max=2371.0), HTML(value='')))"
      ]
     },
     "metadata": {},
     "output_type": "display_data"
    },
    {
     "name": "stdout",
     "output_type": "stream",
     "text": [
      "\n",
      "[2020-11-21 22:15:20,174][MainProcess][lib.checkpoint][INFO] Saving checkpoint: ../../experiments/relation_classifier.11_21_20:05:46/84669.pt\n"
     ]
    },
    {
     "data": {
      "application/vnd.jupyter.widget-view+json": {
       "model_id": "b76a8c028d4844d790f7869dd1c851fa",
       "version_major": 2,
       "version_minor": 0
      },
      "text/plain": [
       "HBox(children=(HTML(value=''), FloatProgress(value=0.0, max=2.0), HTML(value='')))"
      ]
     },
     "metadata": {},
     "output_type": "display_data"
    },
    {
     "name": "stdout",
     "output_type": "stream",
     "text": [
      "\n",
      "[2020-11-21 22:15:21,371][MainProcess][__main__][INFO] NLLLoss: 0.487\n",
      "[2020-11-21 22:15:21,487][MainProcess][lib.metrics.accuracy][INFO] Accuracy: 0.8734130859375 [7155 of 8192]\n",
      "––––––––––––––––––––––––––––––––––––––––––––––––––––––––––––––––––––––––––––––––––––––––––––––––––––\n",
      "[2020-11-21 22:15:21,497][MainProcess][__main__][INFO] Epoch: 2\n",
      "[2020-11-21 22:15:21,500][MainProcess][__main__][INFO] Training...\n"
     ]
    },
    {
     "data": {
      "application/vnd.jupyter.widget-view+json": {
       "model_id": "a6218ae8326a4e4fb3501e0edfb50b50",
       "version_major": 2,
       "version_minor": 0
      },
      "text/plain": [
       "HBox(children=(HTML(value=''), FloatProgress(value=0.0, max=2371.0), HTML(value='')))"
      ]
     },
     "metadata": {},
     "output_type": "display_data"
    },
    {
     "name": "stdout",
     "output_type": "stream",
     "text": [
      "\n",
      "[2020-11-21 22:15:44,627][MainProcess][lib.checkpoint][INFO] Saving checkpoint: ../../experiments/relation_classifier.11_21_20:05:46/84694.pt\n"
     ]
    },
    {
     "data": {
      "application/vnd.jupyter.widget-view+json": {
       "model_id": "7ed4ca70a1ae4f17966b7cc23e578a74",
       "version_major": 2,
       "version_minor": 0
      },
      "text/plain": [
       "HBox(children=(HTML(value=''), FloatProgress(value=0.0, max=2.0), HTML(value='')))"
      ]
     },
     "metadata": {},
     "output_type": "display_data"
    },
    {
     "name": "stdout",
     "output_type": "stream",
     "text": [
      "\n",
      "[2020-11-21 22:15:45,990][MainProcess][__main__][INFO] NLLLoss: 0.471\n",
      "[2020-11-21 22:15:46,048][MainProcess][lib.metrics.accuracy][INFO] Accuracy: 0.875244140625 [7170 of 8192]\n",
      "––––––––––––––––––––––––––––––––––––––––––––––––––––––––––––––––––––––––––––––––––––––––––––––––––––\n",
      "[2020-11-21 22:15:46,055][MainProcess][__main__][INFO] Epoch: 3\n",
      "[2020-11-21 22:15:46,057][MainProcess][__main__][INFO] Training...\n"
     ]
    },
    {
     "data": {
      "application/vnd.jupyter.widget-view+json": {
       "model_id": "b24ff05db0e64945b82ca6b90f425955",
       "version_major": 2,
       "version_minor": 0
      },
      "text/plain": [
       "HBox(children=(HTML(value=''), FloatProgress(value=0.0, max=2371.0), HTML(value='')))"
      ]
     },
     "metadata": {},
     "output_type": "display_data"
    },
    {
     "name": "stdout",
     "output_type": "stream",
     "text": [
      "\n",
      "[2020-11-21 22:16:09,829][MainProcess][lib.checkpoint][INFO] Saving checkpoint: ../../experiments/relation_classifier.11_21_20:05:46/84719.pt\n"
     ]
    },
    {
     "data": {
      "application/vnd.jupyter.widget-view+json": {
       "model_id": "0aa62255945c40e28477847849ca8740",
       "version_major": 2,
       "version_minor": 0
      },
      "text/plain": [
       "HBox(children=(HTML(value=''), FloatProgress(value=0.0, max=2.0), HTML(value='')))"
      ]
     },
     "metadata": {},
     "output_type": "display_data"
    },
    {
     "name": "stdout",
     "output_type": "stream",
     "text": [
      "\n",
      "[2020-11-21 22:16:10,871][MainProcess][__main__][INFO] NLLLoss: 0.465\n",
      "[2020-11-21 22:16:10,944][MainProcess][lib.metrics.accuracy][INFO] Accuracy: 0.8818359375 [7224 of 8192]\n",
      "––––––––––––––––––––––––––––––––––––––––––––––––––––––––––––––––––––––––––––––––––––––––––––––––––––\n",
      "[2020-11-21 22:16:10,952][MainProcess][__main__][INFO] Epoch: 4\n",
      "[2020-11-21 22:16:10,954][MainProcess][__main__][INFO] Training...\n"
     ]
    },
    {
     "data": {
      "application/vnd.jupyter.widget-view+json": {
       "model_id": "b8952b2f361f4063adf1b00c1cda9440",
       "version_major": 2,
       "version_minor": 0
      },
      "text/plain": [
       "HBox(children=(HTML(value=''), FloatProgress(value=0.0, max=2371.0), HTML(value='')))"
      ]
     },
     "metadata": {},
     "output_type": "display_data"
    },
    {
     "name": "stdout",
     "output_type": "stream",
     "text": [
      "\n",
      "[2020-11-21 22:16:35,075][MainProcess][lib.checkpoint][INFO] Saving checkpoint: ../../experiments/relation_classifier.11_21_20:05:46/84744.pt\n"
     ]
    },
    {
     "data": {
      "application/vnd.jupyter.widget-view+json": {
       "model_id": "044a76dd7d6144f8ad9dff36a38caca6",
       "version_major": 2,
       "version_minor": 0
      },
      "text/plain": [
       "HBox(children=(HTML(value=''), FloatProgress(value=0.0, max=2.0), HTML(value='')))"
      ]
     },
     "metadata": {},
     "output_type": "display_data"
    },
    {
     "name": "stdout",
     "output_type": "stream",
     "text": [
      "\n",
      "[2020-11-21 22:16:36,532][MainProcess][__main__][INFO] NLLLoss: 0.445\n",
      "[2020-11-21 22:16:36,590][MainProcess][lib.metrics.accuracy][INFO] Accuracy: 0.8857421875 [7256 of 8192]\n",
      "––––––––––––––––––––––––––––––––––––––––––––––––––––––––––––––––––––––––––––––––––––––––––––––––––––\n",
      "[2020-11-21 22:16:36,598][MainProcess][__main__][INFO] Epoch: 5\n",
      "[2020-11-21 22:16:36,599][MainProcess][__main__][INFO] Training...\n"
     ]
    },
    {
     "data": {
      "application/vnd.jupyter.widget-view+json": {
       "model_id": "24c04231a4534a47b41bdbea6fd30bde",
       "version_major": 2,
       "version_minor": 0
      },
      "text/plain": [
       "HBox(children=(HTML(value=''), FloatProgress(value=0.0, max=2371.0), HTML(value='')))"
      ]
     },
     "metadata": {},
     "output_type": "display_data"
    },
    {
     "name": "stdout",
     "output_type": "stream",
     "text": [
      "\n",
      "[2020-11-21 22:16:59,588][MainProcess][lib.checkpoint][INFO] Saving checkpoint: ../../experiments/relation_classifier.11_21_20:05:46/84769.pt\n"
     ]
    },
    {
     "data": {
      "application/vnd.jupyter.widget-view+json": {
       "model_id": "f59652b314354a5ab84c6d61c549ed4d",
       "version_major": 2,
       "version_minor": 0
      },
      "text/plain": [
       "HBox(children=(HTML(value=''), FloatProgress(value=0.0, max=2.0), HTML(value='')))"
      ]
     },
     "metadata": {},
     "output_type": "display_data"
    },
    {
     "name": "stdout",
     "output_type": "stream",
     "text": [
      "\n",
      "[2020-11-21 22:17:00,477][MainProcess][__main__][INFO] NLLLoss: 0.452\n",
      "[2020-11-21 22:17:00,539][MainProcess][lib.metrics.accuracy][INFO] Accuracy: 0.884033203125 [7242 of 8192]\n",
      "––––––––––––––––––––––––––––––––––––––––––––––––––––––––––––––––––––––––––––––––––––––––––––––––––––\n",
      "[2020-11-21 22:17:00,547][MainProcess][__main__][INFO] Epoch: 6\n",
      "[2020-11-21 22:17:00,549][MainProcess][__main__][INFO] Training...\n"
     ]
    },
    {
     "data": {
      "application/vnd.jupyter.widget-view+json": {
       "model_id": "0ac6d65ef8b6438eb909e6af0aa0a251",
       "version_major": 2,
       "version_minor": 0
      },
      "text/plain": [
       "HBox(children=(HTML(value=''), FloatProgress(value=0.0, max=2371.0), HTML(value='')))"
      ]
     },
     "metadata": {},
     "output_type": "display_data"
    },
    {
     "name": "stdout",
     "output_type": "stream",
     "text": [
      "\n",
      "[2020-11-21 22:17:24,438][MainProcess][lib.checkpoint][INFO] Saving checkpoint: ../../experiments/relation_classifier.11_21_20:05:46/84794.pt\n"
     ]
    },
    {
     "data": {
      "application/vnd.jupyter.widget-view+json": {
       "model_id": "4b0cb2c0bb7f4b91a6a137aae76902da",
       "version_major": 2,
       "version_minor": 0
      },
      "text/plain": [
       "HBox(children=(HTML(value=''), FloatProgress(value=0.0, max=2.0), HTML(value='')))"
      ]
     },
     "metadata": {},
     "output_type": "display_data"
    },
    {
     "name": "stdout",
     "output_type": "stream",
     "text": [
      "\n",
      "[2020-11-21 22:17:25,654][MainProcess][__main__][INFO] NLLLoss: 0.451\n",
      "[2020-11-21 22:17:25,715][MainProcess][lib.metrics.accuracy][INFO] Accuracy: 0.88427734375 [7244 of 8192]\n"
     ]
    },
    {
     "name": "stderr",
     "output_type": "stream",
     "text": [
      "\r",
      " 19%|█▉        | 187.77777777777806/1000.0 [2:01:54<5:28:04, 24.24s/it, min_score=-.887, models_evaluated=74]"
     ]
    },
    {
     "name": "stdout",
     "output_type": "stream",
     "text": [
      "––––––––––––––––––––––––––––––––––––––––––––––––––––––––––––––––––––––––––––––––––––––––––––––––––––\n",
      "====================================================================================================\n",
      "[2020-11-21 22:17:25,767][MainProcess][lib.configurable][INFO] Checking configuration...\n",
      "[2020-11-21 22:17:25,769][MainProcess][lib.configurable][INFO] Configuration checked.\n",
      "[2020-11-21 22:17:25,770][MainProcess][lib.checkpoint][INFO] Loading checkpoints from ../../experiments/relation_classifier.11_21_20:05:46/81937.pt onto device 0\n",
      "[2020-11-21 22:17:25,897][MainProcess][__main__][INFO] Epochs: 7\n",
      "[2020-11-21 22:17:25,898][MainProcess][__main__][INFO] Train Dataset Size: 75900\n",
      "[2020-11-21 22:17:25,899][MainProcess][__main__][INFO] Dev Dataset Size: 10845\n",
      "[2020-11-21 22:17:25,900][MainProcess][__main__][INFO] Train Batch Size: 32\n",
      "[2020-11-21 22:17:25,900][MainProcess][__main__][INFO] Train Max Batch Size: 1024\n",
      "[2020-11-21 22:17:25,901][MainProcess][__main__][INFO] Total Parameters: 5980523\n",
      "[2020-11-21 22:17:25,902][MainProcess][__main__][INFO] Model:\n",
      "SeqToLabel(\n",
      "  (encoder): SeqEncoder(\n",
      "    (embedding): Embedding(6899, 300, padding_idx=0)\n",
      "    (rnn): GRU(300, 240, num_layers=3, dropout=0.6172336541314215, bidirectional=True)\n",
      "    (rnn_dropout): LockedDropout(p=0.8018937052707213)\n",
      "    (embedding_dropout): Dropout(p=0.19863375994026808)\n",
      "  )\n",
      "  (out): Sequential(\n",
      "    (0): Linear(in_features=480, out_features=480, bias=True)\n",
      "    (1): BatchNorm1d(480, eps=1e-05, momentum=0.1, affine=True)\n",
      "    (2): ReLU()\n",
      "    (3): Dropout(p=0.34505203520914157)\n",
      "    (4): Linear(in_features=480, out_features=1703, bias=True)\n",
      "  )\n",
      ")\n",
      "[2020-11-21 22:17:25,902][MainProcess][__main__][INFO] Epoch: 0\n",
      "[2020-11-21 22:17:25,903][MainProcess][__main__][INFO] Training...\n"
     ]
    },
    {
     "data": {
      "application/vnd.jupyter.widget-view+json": {
       "model_id": "454167d778114d33bb955d5d3ec7a78a",
       "version_major": 2,
       "version_minor": 0
      },
      "text/plain": [
       "HBox(children=(HTML(value=''), FloatProgress(value=0.0, max=2371.0), HTML(value='')))"
      ]
     },
     "metadata": {},
     "output_type": "display_data"
    }
   ],
   "source": [
    "import torch\n",
    "import random\n",
    "\n",
    "from skopt.space import Real, Integer, Categorical\n",
    "\n",
    "from lib.hyperparameter_optimization import hyperband\n",
    "from lib.configurable import add_config\n",
    "from lib.configurable import log_config\n",
    "\n",
    "space  = [Real(0, 0.9, name='embedding_dropout'),\n",
    "          Real(0, 0.9, name='rnn_variational_dropout'),\n",
    "          Real(0, 0.9, name='rnn_dropout'),\n",
    "          Real(0, 0.9, name='decode_dropout'),\n",
    "          Integer(50, 250, name='rnn_size'), # We multiply this hyperparameter by two to allow for bidirectional\n",
    "          Integer(1, 3, name='rnn_layers'),\n",
    "          Categorical(['lstm', 'gru'], name='rnn_cell'),\n",
    "          Categorical([True, False], name='freeze_embeddings'),\n",
    "          Categorical([True, False], name='bidirectional'),\n",
    "          Real(0, 5, name='max_grad_norm')]\n",
    "\n",
    "def objective(embedding_dropout, rnn_variational_dropout, rnn_dropout, decode_dropout,\n",
    "              rnn_size, rnn_layers, rnn_cell, freeze_embeddings, bidirectional, max_grad_norm,\n",
    "              *args, **kwargs):\n",
    "\n",
    "    add_config({\n",
    "        'lib': {\n",
    "            'nn.seq_to_label.SeqToLabel.__init__': {\n",
    "                'bidirectional': bidirectional,\n",
    "                'embedding_size': 300,\n",
    "                'rnn_size': int(rnn_size) * 2,\n",
    "                'freeze_embeddings': freeze_embeddings,\n",
    "                'rnn_cell': rnn_cell,\n",
    "                'decode_dropout': decode_dropout,  # dropout before fully connected layer in RNN\n",
    "                'rnn_layers': int(rnn_layers),\n",
    "                'rnn_variational_dropout': rnn_variational_dropout,\n",
    "                'embedding_dropout': embedding_dropout,\n",
    "                'rnn_dropout': rnn_dropout,\n",
    "            },\n",
    "            'optimizer.Optimizer.__init__.max_grad_norm': max_grad_norm,\n",
    "        },\n",
    "        'lib.optim.adam.Adam.__init__': {\n",
    "            'amsgrad': True\n",
    "        }\n",
    "    })\n",
    "\n",
    "    ret = train(*args, **kwargs)\n",
    "    print('=' * 100)\n",
    "    torch.cuda.empty_cache()\n",
    "    return ret\n",
    "\n",
    "scores, hyperparameters = hyperband(objective, space, max_resources_per_model=30, total_resources=1000)\n",
    "print('Best Accuracy: %.4f' % min(scores))"
   ]
  },
  {
   "cell_type": "code",
   "execution_count": null,
   "metadata": {},
   "outputs": [],
   "source": [
    "print('Best Accuracy: %.4f' % min(scores))"
   ]
  },
  {
   "cell_type": "code",
   "execution_count": null,
   "metadata": {},
   "outputs": [],
   "source": [
    "print(hyperparameters[12])"
   ]
  },
  {
   "cell_type": "code",
   "execution_count": null,
   "metadata": {},
   "outputs": [],
   "source": [
    "scores.index(min(scores))"
   ]
  },
  {
   "cell_type": "code",
   "execution_count": 41,
   "metadata": {},
   "outputs": [
    {
     "name": "stdout",
     "output_type": "stream",
     "text": [
      "{'embedding_dropout': 0.34912697478333016, 'rnn_variational_dropout': 0.09295961658586765, 'rnn_dropout': 0.4121832977908714, 'decode_dropout': 0.6464779363929288, 'rnn_size': 197, 'rnn_layers': 1, 'rnn_cell': 'gru', 'freeze_embeddings': True, 'bidirectional': True, 'max_grad_norm': 2.6159413866570396}\n"
     ]
    }
   ],
   "source": [
    "print(hyperparameters[scores.index(min(scores))])"
   ]
  },
  {
   "cell_type": "code",
   "execution_count": 42,
   "metadata": {},
   "outputs": [],
   "source": [
    "best_hyperparameters = hyperparameters[scores.index(min(scores))]"
   ]
  },
  {
   "cell_type": "code",
   "execution_count": null,
   "metadata": {},
   "outputs": [],
   "source": []
  }
 ],
 "metadata": {
  "kernelspec": {
   "display_name": "Python 3",
   "language": "python",
   "name": "python3"
  },
  "language_info": {
   "codemirror_mode": {
    "name": "ipython",
    "version": 3
   },
   "file_extension": ".py",
   "mimetype": "text/x-python",
   "name": "python",
   "nbconvert_exporter": "python",
   "pygments_lexer": "ipython3",
   "version": "3.6.12"
  }
 },
 "nbformat": 4,
 "nbformat_minor": 2
}
