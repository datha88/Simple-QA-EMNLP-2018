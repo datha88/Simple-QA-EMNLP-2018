{
 "cells": [
  {
   "cell_type": "markdown",
   "metadata": {},
   "source": [
    "# Relation Classifier RNN Model\n",
    "\n",
    "Our goal here is to implement a relation model. Our goal is to do basic relation classification.\n",
    "\n",
    "First things first, set up the initial configuration."
   ]
  },
  {
   "cell_type": "code",
   "execution_count": 2,
   "metadata": {},
   "outputs": [],
   "source": [
    "import sys\n",
    "sys.path.insert(0, '../../')"
   ]
  },
  {
   "cell_type": "code",
   "execution_count": 3,
   "metadata": {},
   "outputs": [
    {
     "data": {
      "application/vnd.jupyter.widget-view+json": {
       "model_id": "",
       "version_major": 2,
       "version_minor": 0
      },
      "text/plain": [
       "HBox(children=(IntProgress(value=1, bar_style='info', max=1), HTML(value='')))"
      ]
     },
     "metadata": {},
     "output_type": "display_data"
    },
    {
     "name": "stdout",
     "output_type": "stream",
     "text": [
      "\r"
     ]
    }
   ],
   "source": [
    "from tqdm import tqdm_notebook\n",
    "from functools import partial\n",
    "tqdm_notebook = partial(tqdm_notebook, leave=False)\n",
    "tqdm_notebook().pandas()"
   ]
  },
  {
   "cell_type": "code",
   "execution_count": 4,
   "metadata": {},
   "outputs": [
    {
     "name": "stdout",
     "output_type": "stream",
     "text": [
      "Experiment Folder: ../../experiments/relation_classifier.09_08_10:23:25\n",
      "[2020-09-08 10:23:27,447][MainProcess][__main__][INFO] Device: 0\n",
      "[2020-09-08 10:23:27,451][MainProcess][lib.utils][INFO] Seed: 1212212\n"
     ]
    }
   ],
   "source": [
    "import logging\n",
    "\n",
    "from lib.utils import config_logging\n",
    "from lib.utils import new_experiment_folder\n",
    "from lib.utils import seed\n",
    "from lib.utils import save_standard_streams\n",
    "from lib.utils import device_default\n",
    "\n",
    "experiment_folder = new_experiment_folder(label='relation_classifier', parent_directory='../../experiments/')\n",
    "print('Experiment Folder: %s' % experiment_folder)\n",
    "save_standard_streams(experiment_folder) # Copy Stdout and Stderr to experiments folder\n",
    "\n",
    "config_logging()\n",
    "logger = logging.getLogger(__name__)\n",
    "\n",
    "device = device_default()\n",
    "logger.info('Device: %d', device)\n",
    "is_cuda = device >= 0\n",
    "cuda = lambda t: t.cuda(device=device) if is_cuda else t\n",
    "\n",
    "random_seed = 1212212\n",
    "seed(random_seed, is_cuda=is_cuda)\n",
    "\n",
    "# Async minibatch allocation for speed\n",
    "# Reference: http://timdettmers.com/2015/03/09/deep-learning-hardware-guide/\n",
    "cuda_async = lambda t: t.cuda(device=device, async=True) if is_cuda else t"
   ]
  },
  {
   "cell_type": "markdown",
   "metadata": {},
   "source": [
    "## Dataset\n",
    "\n",
    "Load our dataset. Log a couple rows."
   ]
  },
  {
   "cell_type": "code",
   "execution_count": 5,
   "metadata": {},
   "outputs": [],
   "source": [
    "import os\n",
    "import pandas as pd\n",
    "from tqdm import tqdm_notebook\n",
    "from torchnlp.datasets import Dataset\n",
    "\n",
    "def simple_qa_predicate(directory='../../data/relation_ranking/',\n",
    "               train=False,\n",
    "               dev=False,\n",
    "               test=False,\n",
    "               train_filename='train.txt',\n",
    "               dev_filename='dev.txt',\n",
    "               test_filename=''):\n",
    "    \"\"\"\n",
    "    Example line example: \n",
    "        film/film/country\tfilm/film/country film/film/genre film/film/language\twhat country is <e> from ?\n",
    "    Vocab example: \n",
    "        /film/film/genre\n",
    "    \n",
    "    Sample Data:\n",
    "        Question: 'which genre of album is #head_entity# ?'\n",
    "        True Relation: '/music/album/genre'\n",
    "        False Relation Pool: ['/music/album/release_type', '/music/album/genre', '/music/album/artist']\n",
    "    \"\"\"\n",
    "    ret = []\n",
    "    datasets = [(train, train_filename), (dev, dev_filename), (test, test_filename)]\n",
    "    for is_requested, filename in datasets:\n",
    "        if not is_requested:\n",
    "            continue\n",
    "            \n",
    "        file_path = os.path.join(directory, filename)\n",
    "        data = pd.read_table(file_path, header=None, names=['True Relation', 'Relation Pool', 'Question', 'Entity'])\n",
    "        rows = []\n",
    "        for i, row in tqdm_notebook(data.iterrows(), total=data.shape[0]):\n",
    "            relation_pool = list(set(row['Relation Pool'].split()))\n",
    "            rows.append({\n",
    "                'text': row['Question'].strip(),\n",
    "                'relation': row['True Relation'],\n",
    "                'pool': relation_pool,\n",
    "                'entity': row['Entity'].strip()})\n",
    "            \n",
    "        ret.append(Dataset(rows))\n",
    "\n",
    "    if len(ret) == 1:\n",
    "        return ret[0]\n",
    "    else:\n",
    "        return tuple(ret)"
   ]
  },
  {
   "cell_type": "code",
   "execution_count": 6,
   "metadata": {},
   "outputs": [
    {
     "name": "stderr",
     "output_type": "stream",
     "text": [
      "/mount/arbeitsdaten46/projekte/dialog-1/kanjurva/Simple-QA-EMNLP-2018/env/lib/python3.6/site-packages/ipykernel_launcher.py:31: FutureWarning: read_table is deprecated, use read_csv instead, passing sep='\\t'.\n"
     ]
    },
    {
     "data": {
      "application/vnd.jupyter.widget-view+json": {
       "model_id": "ef607b8572d7451b875d6f0ae80bc3b7",
       "version_major": 2,
       "version_minor": 0
      },
      "text/plain": [
       "HBox(children=(IntProgress(value=0, max=75900), HTML(value='')))"
      ]
     },
     "metadata": {},
     "output_type": "display_data"
    },
    {
     "name": "stdout",
     "output_type": "stream",
     "text": [
      "\n"
     ]
    },
    {
     "data": {
      "application/vnd.jupyter.widget-view+json": {
       "model_id": "42c5d9bc517f4913aa9b85bbf460769d",
       "version_major": 2,
       "version_minor": 0
      },
      "text/plain": [
       "HBox(children=(IntProgress(value=0, max=10845), HTML(value='')))"
      ]
     },
     "metadata": {},
     "output_type": "display_data"
    },
    {
     "name": "stdout",
     "output_type": "stream",
     "text": [
      "\n",
      "Num Training Data: 75900\n",
      "Train Sample:\n"
     ]
    },
    {
     "data": {
      "text/html": [
       "<div>\n",
       "<style scoped>\n",
       "    .dataframe tbody tr th:only-of-type {\n",
       "        vertical-align: middle;\n",
       "    }\n",
       "\n",
       "    .dataframe tbody tr th {\n",
       "        vertical-align: top;\n",
       "    }\n",
       "\n",
       "    .dataframe thead th {\n",
       "        text-align: right;\n",
       "    }\n",
       "</style>\n",
       "<table border=\"1\" class=\"dataframe\">\n",
       "  <thead>\n",
       "    <tr style=\"text-align: right;\">\n",
       "      <th></th>\n",
       "      <th>entity</th>\n",
       "      <th>pool</th>\n",
       "      <th>relation</th>\n",
       "      <th>text</th>\n",
       "    </tr>\n",
       "  </thead>\n",
       "  <tbody>\n",
       "    <tr>\n",
       "      <th>0</th>\n",
       "      <td>e</td>\n",
       "      <td>[user/mt/default_domain/metabolite/biofluid_lo...</td>\n",
       "      <td>book/written_work/subjects</td>\n",
       "      <td>what is the book &lt;e&gt; about</td>\n",
       "    </tr>\n",
       "    <tr>\n",
       "      <th>1</th>\n",
       "      <td>cardiac arrest</td>\n",
       "      <td>[film/film/cinematography, music/release/album...</td>\n",
       "      <td>music/release_track/release</td>\n",
       "      <td>to what release does the release track &lt;e&gt; com...</td>\n",
       "    </tr>\n",
       "    <tr>\n",
       "      <th>2</th>\n",
       "      <td>the debt</td>\n",
       "      <td>[film/film/genre, music/album/album_content_ty...</td>\n",
       "      <td>film/film/country</td>\n",
       "      <td>what country was the film &lt;e&gt; from</td>\n",
       "    </tr>\n",
       "    <tr>\n",
       "      <th>3</th>\n",
       "      <td>nobuo uematsu</td>\n",
       "      <td>[music/producer/releases_produced, film/music_...</td>\n",
       "      <td>music/producer/tracks_produced</td>\n",
       "      <td>what songs have &lt;e&gt; produced ?</td>\n",
       "    </tr>\n",
       "    <tr>\n",
       "      <th>4</th>\n",
       "      <td>eve - olution</td>\n",
       "      <td>[music/album/release_type, music/release/regio...</td>\n",
       "      <td>music/release/producers</td>\n",
       "      <td>who produced &lt;e&gt; ?</td>\n",
       "    </tr>\n",
       "  </tbody>\n",
       "</table>\n",
       "</div>"
      ],
      "text/plain": [
       "           entity                                               pool  \\\n",
       "0               e  [user/mt/default_domain/metabolite/biofluid_lo...   \n",
       "1  cardiac arrest  [film/film/cinematography, music/release/album...   \n",
       "2        the debt  [film/film/genre, music/album/album_content_ty...   \n",
       "3   nobuo uematsu  [music/producer/releases_produced, film/music_...   \n",
       "4   eve - olution  [music/album/release_type, music/release/regio...   \n",
       "\n",
       "                         relation  \\\n",
       "0      book/written_work/subjects   \n",
       "1     music/release_track/release   \n",
       "2               film/film/country   \n",
       "3  music/producer/tracks_produced   \n",
       "4         music/release/producers   \n",
       "\n",
       "                                                text  \n",
       "0                         what is the book <e> about  \n",
       "1  to what release does the release track <e> com...  \n",
       "2                 what country was the film <e> from  \n",
       "3                     what songs have <e> produced ?  \n",
       "4                                 who produced <e> ?  "
      ]
     },
     "metadata": {},
     "output_type": "display_data"
    },
    {
     "name": "stdout",
     "output_type": "stream",
     "text": [
      "Num Development Data: 10845\n",
      "Development Sample:\n"
     ]
    },
    {
     "data": {
      "text/html": [
       "<div>\n",
       "<style scoped>\n",
       "    .dataframe tbody tr th:only-of-type {\n",
       "        vertical-align: middle;\n",
       "    }\n",
       "\n",
       "    .dataframe tbody tr th {\n",
       "        vertical-align: top;\n",
       "    }\n",
       "\n",
       "    .dataframe thead th {\n",
       "        text-align: right;\n",
       "    }\n",
       "</style>\n",
       "<table border=\"1\" class=\"dataframe\">\n",
       "  <thead>\n",
       "    <tr style=\"text-align: right;\">\n",
       "      <th></th>\n",
       "      <th>entity</th>\n",
       "      <th>pool</th>\n",
       "      <th>relation</th>\n",
       "      <th>text</th>\n",
       "    </tr>\n",
       "  </thead>\n",
       "  <tbody>\n",
       "    <tr>\n",
       "      <th>0</th>\n",
       "      <td>american</td>\n",
       "      <td>[people/ethnicity/geographic_distribution, peo...</td>\n",
       "      <td>biology/organism_classification/organisms_of_t...</td>\n",
       "      <td>name an &lt;e&gt; thoroughbread racehorse</td>\n",
       "    </tr>\n",
       "    <tr>\n",
       "      <th>1</th>\n",
       "      <td>vision racing driving simulator</td>\n",
       "      <td>[cvg/computer_videogame/gameplay_modes, cvg/co...</td>\n",
       "      <td>cvg/computer_videogame/cvg_genre</td>\n",
       "      <td>what kind of game is &lt;e&gt; ?</td>\n",
       "    </tr>\n",
       "    <tr>\n",
       "      <th>2</th>\n",
       "      <td>romance film</td>\n",
       "      <td>[theater/theater_genre/plays_in_this_genre, me...</td>\n",
       "      <td>tv/tv_genre/programs</td>\n",
       "      <td>what tv program is &lt;e&gt;</td>\n",
       "    </tr>\n",
       "    <tr>\n",
       "      <th>3</th>\n",
       "      <td>polaski</td>\n",
       "      <td>[location/location/containedby]</td>\n",
       "      <td>location/location/containedby</td>\n",
       "      <td>what state is &lt;e&gt; located in</td>\n",
       "    </tr>\n",
       "    <tr>\n",
       "      <th>4</th>\n",
       "      <td>fern emmett</td>\n",
       "      <td>[people/deceased_person/place_of_death, people...</td>\n",
       "      <td>people/deceased_person/cause_of_death</td>\n",
       "      <td>what disease claimed the life of &lt;e&gt;</td>\n",
       "    </tr>\n",
       "  </tbody>\n",
       "</table>\n",
       "</div>"
      ],
      "text/plain": [
       "                            entity  \\\n",
       "0                         american   \n",
       "1  vision racing driving simulator   \n",
       "2                     romance film   \n",
       "3                          polaski   \n",
       "4                      fern emmett   \n",
       "\n",
       "                                                pool  \\\n",
       "0  [people/ethnicity/geographic_distribution, peo...   \n",
       "1  [cvg/computer_videogame/gameplay_modes, cvg/co...   \n",
       "2  [theater/theater_genre/plays_in_this_genre, me...   \n",
       "3                    [location/location/containedby]   \n",
       "4  [people/deceased_person/place_of_death, people...   \n",
       "\n",
       "                                            relation  \\\n",
       "0  biology/organism_classification/organisms_of_t...   \n",
       "1                   cvg/computer_videogame/cvg_genre   \n",
       "2                               tv/tv_genre/programs   \n",
       "3                      location/location/containedby   \n",
       "4              people/deceased_person/cause_of_death   \n",
       "\n",
       "                                   text  \n",
       "0   name an <e> thoroughbread racehorse  \n",
       "1            what kind of game is <e> ?  \n",
       "2                what tv program is <e>  \n",
       "3          what state is <e> located in  \n",
       "4  what disease claimed the life of <e>  "
      ]
     },
     "metadata": {},
     "output_type": "display_data"
    }
   ],
   "source": [
    "train_dataset, dev_dataset = simple_qa_predicate(train=True, dev=True, test=False)\n",
    "\n",
    "print('Num Training Data: %d' % len(train_dataset))\n",
    "print('Train Sample:')\n",
    "display(pd.DataFrame(train_dataset[:5]))\n",
    "print('Num Development Data: %d' % len(dev_dataset))\n",
    "print('Development Sample:')\n",
    "display(pd.DataFrame(dev_dataset[:5]))"
   ]
  },
  {
   "cell_type": "markdown",
   "metadata": {},
   "source": [
    "## Dataset Iterators\n",
    "\n",
    "Load our dataset. Log a couple rows."
   ]
  },
  {
   "cell_type": "code",
   "execution_count": 7,
   "metadata": {},
   "outputs": [],
   "source": [
    "import torch\n",
    "from torch.autograd import Variable\n",
    "from torchnlp.utils import pad_batch\n",
    "\n",
    "# Defines how to combine a batch of rows into a tensor\n",
    "def collate_fn(batch, train=True):\n",
    "    \"\"\" list of tensors to a batch variable \"\"\"\n",
    "    # PyTorch RNN requires sorting decreasing size\n",
    "    batch = sorted(batch, key=lambda row: len(row['text']), reverse=True)\n",
    "    input_batch, _ = pad_batch([row['text'] for row in batch])\n",
    "    relations = [row['relation'] for row in batch]\n",
    "    mask = Variable(torch.stack([row['mask'] for row in batch]), volatile=not train)\n",
    "    # PyTorch RNN requires batches to be transposed for speed and integration with CUDA\n",
    "    to_variable = (\n",
    "        lambda b: Variable(torch.stack(tuple(b)).t_().squeeze(0).contiguous(), volatile=not train))\n",
    "\n",
    "    return (to_variable(input_batch), to_variable(relations), mask)"
   ]
  },
  {
   "cell_type": "code",
   "execution_count": 8,
   "metadata": {},
   "outputs": [],
   "source": [
    "from functools import partial\n",
    "from torchnlp.samplers import NoisySortedBatchSampler\n",
    "from torchnlp.samplers import SortedSampler\n",
    "\n",
    "\n",
    "sort_key = lambda r: r['text'].size()[0]\n",
    "\n",
    "def get_iterator(dataset, batch_size, train=False):\n",
    "    # Use bucket sampling to group similar sized text but with noise + random\n",
    "    drop_last=True\n",
    "    batch_sampler = NoisySortedBatchSampler(dataset, batch_size, drop_last, sort_key, sort_key_noise=0.5)\n",
    "    return DataLoader(\n",
    "        dataset,\n",
    "        batch_sampler=batch_sampler,\n",
    "        collate_fn=partial(collate_fn, train=train),\n",
    "        pin_memory=is_cuda,\n",
    "        num_workers=0)"
   ]
  },
  {
   "cell_type": "markdown",
   "metadata": {},
   "source": [
    "## Encode Text\n",
    "\n",
    "Here we encode our data into a numerical format. "
   ]
  },
  {
   "cell_type": "code",
   "execution_count": 9,
   "metadata": {
    "scrolled": true
   },
   "outputs": [
    {
     "name": "stdout",
     "output_type": "stream",
     "text": [
      "Text encoder vocab size: 6899\n",
      "Relation encoder vocab size: 1703\n"
     ]
    },
    {
     "data": {
      "application/vnd.jupyter.widget-view+json": {
       "model_id": "9b89b6ed7ccf470898839394f69474dc",
       "version_major": 2,
       "version_minor": 0
      },
      "text/plain": [
       "HBox(children=(IntProgress(value=0, max=75900), HTML(value='')))"
      ]
     },
     "metadata": {},
     "output_type": "display_data"
    },
    {
     "name": "stdout",
     "output_type": "stream",
     "text": [
      "\n"
     ]
    },
    {
     "data": {
      "application/vnd.jupyter.widget-view+json": {
       "model_id": "43fcf6919a334b2bad5871d6cdad5d25",
       "version_major": 2,
       "version_minor": 0
      },
      "text/plain": [
       "HBox(children=(IntProgress(value=0, max=10845), HTML(value='')))"
      ]
     },
     "metadata": {},
     "output_type": "display_data"
    },
    {
     "name": "stdout",
     "output_type": "stream",
     "text": [
      "\n"
     ]
    }
   ],
   "source": [
    "import torch\n",
    "from torchnlp.text_encoders import IdentityEncoder\n",
    "from torchnlp.text_encoders import WhitespaceEncoder\n",
    "\n",
    "# NOTE: Given the development vocab might be cheating if we use any statistics from that...\n",
    "text_data = [t.lower() for t in train_dataset['text'] + dev_dataset['text']]\n",
    "text_encoder = WhitespaceEncoder(text_data, append_eos=False)\n",
    "print('Text encoder vocab size: %d' % text_encoder.vocab_size)\n",
    "relation_encoder = IdentityEncoder(train_dataset['relation'] + dev_dataset['relation'])\n",
    "print('Relation encoder vocab size: %d' % relation_encoder.vocab_size)\n",
    "\n",
    "for dataset in [train_dataset, dev_dataset]:\n",
    "    for row in tqdm_notebook(dataset):\n",
    "        row['text'] = text_encoder.encode(row['text'])\n",
    "        row['relation'] = relation_encoder.encode(row['relation'])\n",
    "        row['pool'] = [relation_encoder.encode(r)[0] for r in row['pool']]\n",
    "        pool = set(row['pool'])\n",
    "        row['mask'] = torch.FloatTensor([1 if i in pool else 0 for i in range(relation_encoder.vocab_size)])"
   ]
  },
  {
   "cell_type": "markdown",
   "metadata": {},
   "source": [
    "# Model\n",
    "\n",
    "Instantiate the model."
   ]
  },
  {
   "cell_type": "code",
   "execution_count": 10,
   "metadata": {},
   "outputs": [
    {
     "name": "stdout",
     "output_type": "stream",
     "text": [
      "[2020-09-08 10:24:16,211][MainProcess][torchnlp.word_to_vector.pretrained_word_vectors][INFO] Loading vectors from ./../../.pretrained_embeddings_cache/wiki.en.vec\n"
     ]
    },
    {
     "name": "stderr",
     "output_type": "stream",
     "text": [
      "\r",
      "  0%|          | 0/2519371 [00:00<?, ?it/s]"
     ]
    },
    {
     "name": "stdout",
     "output_type": "stream",
     "text": [
      "[2020-09-08 10:24:16,215][MainProcess][torchnlp.word_to_vector.pretrained_word_vectors][WARNING] Skipping token 2519370 with 1-dimensional vector ['300']; likely a header\n"
     ]
    },
    {
     "name": "stderr",
     "output_type": "stream",
     "text": [
      "100%|██████████| 2519371/2519371 [00:41<00:00, 61224.30it/s]\n"
     ]
    },
    {
     "name": "stdout",
     "output_type": "stream",
     "text": [
      "[2020-09-08 10:24:57,449][MainProcess][torchnlp.word_to_vector.pretrained_word_vectors][INFO] Saving vectors to ./../../.pretrained_embeddings_cache/wiki.en.vec.pt\n"
     ]
    }
   ],
   "source": [
    "import torch\n",
    "from torchnlp.word_to_vector import FastText\n",
    "\n",
    "# Load embeddings\n",
    "unk_init = lambda t: torch.FloatTensor(t).uniform_(-0.1, 0.1)\n",
    "vocab = set(text_encoder.vocab)\n",
    "pretrained_embedding = FastText(language='en',\n",
    "                                cache='./../../.pretrained_embeddings_cache',\n",
    "                                is_include=lambda w: w in vocab)\n",
    "embedding_weights = torch.Tensor(text_encoder.vocab_size, pretrained_embedding.dim)\n",
    "for i, token in enumerate(text_encoder.vocab):\n",
    "    embedding_weights[i] = pretrained_embedding[token]"
   ]
  },
  {
   "cell_type": "code",
   "execution_count": 11,
   "metadata": {},
   "outputs": [],
   "source": [
    "from lib.nn import SeqToLabel\n",
    "\n",
    "def make_model():\n",
    "    # `embedding_size=300` is required by FastText\n",
    "    model = SeqToLabel(text_encoder.vocab_size, relation_encoder.vocab_size, embedding_size=300)\n",
    "    for param in model.parameters():\n",
    "        param.data.uniform_(-0.1, 0.1)\n",
    "\n",
    "    model.encoder.embedding.weight.data.copy_(embedding_weights)\n",
    "\n",
    "    cuda(model)\n",
    "    return model"
   ]
  },
  {
   "cell_type": "markdown",
   "metadata": {},
   "source": [
    "## Evaluate\n",
    "\n",
    "Instantiate a function that evaluates a model. Our evaluation is the same as \"Step 3 - Predict Relation and Finish\" to ensure consistency."
   ]
  },
  {
   "cell_type": "code",
   "execution_count": 12,
   "metadata": {},
   "outputs": [],
   "source": [
    "from tqdm import tqdm_notebook\n",
    "from torch.autograd import Variable\n",
    "import random\n",
    "import math\n",
    "from lib.utils import batch\n",
    "from torchnlp.utils import pad_batch\n",
    "\n",
    "# NOTE: Relation Ranking dataset has a pool of possible relations similar to `Step 3 - Predict Relation and Finish`\n",
    "\n",
    "def get_softmax_relation_score(model, question_batch, mask_batch, relation_pool_batch):\n",
    "    question_batch, _ = pad_batch(question_batch)\n",
    "    question_batch = cuda(Variable(torch.stack(question_batch).t_().squeeze(0).contiguous(), volatile=True))\n",
    "    mask_batch = cuda(torch.stack(mask_batch))\n",
    "    output = model(question_batch, Variable(mask_batch, volatile=True)).exp_().data\n",
    "    \n",
    "    batch_size = output.size()[0]\n",
    "    ret = []\n",
    "    for i in range(batch_size):\n",
    "        ret.append([output[i][j] for j in relation_pool_batch[i]])\n",
    "    return ret\n",
    "\n",
    "def evaluate_pool(dataset, model, batch_size=1):\n",
    "    logger.info('Evaluating...')\n",
    "    \n",
    "    model.train(False)\n",
    "    scores = []\n",
    "    for batched in tqdm_notebook(batch(dataset, batch_size), total=math.ceil(len(dataset) / batch_size)):\n",
    "        question_batch = [row['text'] for row in batched]\n",
    "        mask_batch = [row['mask'] for row in batched]\n",
    "        relation_pool_batch = [row['pool'] for row in batched]\n",
    "        scores.extend(get_softmax_relation_score(model, question_batch, mask_batch, relation_pool_batch))\n",
    "    model.train(True) # No side affects\n",
    "    \n",
    "    correct = 0\n",
    "    for i, row in tqdm_notebook(enumerate(dataset)):\n",
    "        max_score = max(scores[i])\n",
    "        # NOTE: Pool may have multiple <unk> tags\n",
    "        top_relations = set([r for j, r in enumerate(row['pool']) if scores[i][j] == max_score])\n",
    "        predicted_relation = random.choice(list(top_relations))\n",
    "        if predicted_relation == row['relation'][0]:\n",
    "            correct += 1\n",
    "\n",
    "    accuracy = correct / len(dataset)\n",
    "    logger.info('Relation Accuracy (SOTA 88.4%%): %f [%d of %d]', accuracy, correct, len(dataset))\n",
    "    return accuracy"
   ]
  },
  {
   "cell_type": "markdown",
   "metadata": {},
   "source": [
    "Similar evaluation metric to our training regime. Training the loss should directly affect this metric."
   ]
  },
  {
   "cell_type": "code",
   "execution_count": 13,
   "metadata": {},
   "outputs": [],
   "source": [
    "from lib.metrics import print_random_sample\n",
    "from lib.metrics import get_accuracy\n",
    "from torch.nn.modules.loss import NLLLoss\n",
    "\n",
    "def evaluate_softmax(dataset, model, batch_size=1):\n",
    "    # Evaluate\n",
    "    model.train(mode=False)\n",
    "    criterion = cuda(NLLLoss())\n",
    "    texts, relations, outputs = [], [], []\n",
    "    total_loss = 0\n",
    "    dev_iterator = get_iterator(dataset, batch_size)\n",
    "    for text, relation, mask in tqdm_notebook(dev_iterator):\n",
    "        output = model(cuda_async(text), cuda_async(mask))\n",
    "        # Compute metrics\n",
    "        total_loss += criterion(output, cuda_async(relation)).data[0] * relation.size()[0]\n",
    "        # Prevent memory leak by moving output from variable to tensor\n",
    "        texts.extend(text.data.cpu().transpose(0, 1).split(split_size=1, dim=0))\n",
    "        relations.extend(relation.data.cpu().split(split_size=1, dim=0))\n",
    "        outputs.extend(output.data.cpu().split(split_size=1, dim=0))\n",
    "    model.train(True) # No side affects\n",
    "    # Print metrics\n",
    "    # print_random_sample(texts, relations, outputs, text_encoder, relation_encoder, n_samples=5)\n",
    "    logger.info('NLLLoss: %.03f', (total_loss / len(dataset)))\n",
    "    return get_accuracy(relations, outputs, print_=True)[0]"
   ]
  },
  {
   "cell_type": "markdown",
   "metadata": {},
   "source": [
    "## Hyperparameters\n",
    "\n",
    "Set up the hyperparameters for our model. We use `lib.configurable` to setup arguments."
   ]
  },
  {
   "cell_type": "code",
   "execution_count": 14,
   "metadata": {},
   "outputs": [
    {
     "name": "stdout",
     "output_type": "stream",
     "text": [
      "[2020-09-08 10:24:58,343][MainProcess][lib.configurable][INFO] Checking configuration...\n",
      "[2020-09-08 10:24:58,344][MainProcess][lib.configurable][WARNING] Path ['lib', 'optim', 'Optimizer', '__init__', 'max_grad_norm'] does not contain @configurable.\n",
      "NOTE: Due to Python remaining the __main__ module, this check can be ignored here.\n",
      "NOTE: _check_configuration can be ignored for external libraries.\n",
      "[2020-09-08 10:24:58,345][MainProcess][lib.configurable][INFO] Configuration checked.\n",
      "[2020-09-08 10:24:58,346][MainProcess][lib.configurable][INFO] Global configuration:\n",
      "[2020-09-08 10:24:58,348][MainProcess][root][INFO] {   'lib': {   'nn': {   'seq_to_label': {   'SeqToLabel': {   '__init__': {   'bidirectional': True,\n",
      "                                                                               'decode_dropout': 0.6,\n",
      "                                                                               'embedding_dropout': 0.3,\n",
      "                                                                               'embedding_size': 300,\n",
      "                                                                               'freeze_embeddings': True,\n",
      "                                                                               'rnn_cell': 'gru',\n",
      "                                                                               'rnn_dropout': 0.8,\n",
      "                                                                               'rnn_layers': 1,\n",
      "                                                                               'rnn_size': 450,\n",
      "                                                                               'rnn_variational_dropout': 0.0}}}},\n",
      "               'optim': {   'Optimizer': {'__init__': {'max_grad_norm': None}},\n",
      "                            'adam': {'Adam': {'__init__': {'amsgrad': True}}}}}}\n"
     ]
    }
   ],
   "source": [
    "from lib.optim import Adam\n",
    "from lib.configurable import configurable\n",
    "from lib.configurable import add_config\n",
    "from lib.configurable import log_config\n",
    "\n",
    "Adam.__init__ = configurable(Adam.__init__)\n",
    "\n",
    "# Hyperparameters achieve 0.881564349112426%\n",
    "# Following the evaluation of 150 random models\n",
    "\n",
    "add_config({\n",
    "    'lib': {\n",
    "        'nn.seq_to_label.SeqToLabel.__init__': {\n",
    "            'bidirectional': True,\n",
    "            'embedding_size': 300,\n",
    "            'rnn_size': 450,\n",
    "            'freeze_embeddings': True,\n",
    "            'rnn_cell': 'gru',\n",
    "            'decode_dropout': 0.6,  # dropout before fully connected layer in RNN\n",
    "            'rnn_layers': 1,\n",
    "            'rnn_variational_dropout': 0.0,\n",
    "            'rnn_dropout': 0.8,\n",
    "            'embedding_dropout': 0.3\n",
    "        },\n",
    "        'optim.Optimizer.__init__.max_grad_norm': None,\n",
    "    },\n",
    "    'lib.optim.adam.Adam.__init__': {\n",
    "        'amsgrad': True\n",
    "    }\n",
    "})\n",
    "\n",
    "log_config()"
   ]
  },
  {
   "cell_type": "markdown",
   "metadata": {},
   "source": [
    "## Training Loop\n",
    "\n",
    "Below here, we do a training loop over a number of epochs."
   ]
  },
  {
   "cell_type": "code",
   "execution_count": 15,
   "metadata": {
    "scrolled": true
   },
   "outputs": [],
   "source": [
    "from tqdm import tqdm_notebook\n",
    "import random\n",
    "\n",
    "from torch.utils.data import DataLoader\n",
    "from torch.nn.modules.loss import NLLLoss\n",
    "from lib.optim import Adam\n",
    "from functools import partial\n",
    "\n",
    "from lib.checkpoint import Checkpoint\n",
    "from lib.utils import get_total_parameters\n",
    "from lib.utils import resplit_datasets\n",
    "from lib.optimizer import Optimizer\n",
    "\n",
    "# TODO: Try to concat multiple templated questions together and do a multi label classifier.\n",
    "\n",
    "def train(resources=30, checkpoint=None, **kwargs):\n",
    "    \n",
    "    if isinstance(checkpoint, str):\n",
    "        checkpoint = Checkpoint(checkpoint)\n",
    "        model = checkpoint.model\n",
    "        train_batch_size = checkpoint.train_batch_size\n",
    "        optimizer = checkpoint.optimizer\n",
    "        n_bad_epochs = checkpoint.n_bad_epochs\n",
    "        max_score = checkpoint.max_score\n",
    "    else:\n",
    "        model = make_model()\n",
    "        train_batch_size = 32\n",
    "        # NOTE: https://github.com/pytorch/pytorch/issues/679\n",
    "        params = filter(lambda p: p.requires_grad, model.parameters())\n",
    "        optimizer = Optimizer(Adam(params=params))\n",
    "        n_bad_epochs = 0\n",
    "        max_score = 0\n",
    "\n",
    "    # NOTE: Because the training dataset was used to train the subject recongition, its better; therefore,\n",
    "    # we cannot mix them\n",
    "    epochs = max(round(resources), 1)\n",
    "    train_max_batch_size = 1024\n",
    "    patience = 3\n",
    "    criterion = cuda(NLLLoss())\n",
    "    logger.info('Epochs: %d', epochs)\n",
    "    logger.info('Train Dataset Size: %d', len(train_dataset))\n",
    "    logger.info('Dev Dataset Size: %d', len(dev_dataset))\n",
    "    logger.info('Train Batch Size: %d', train_batch_size)\n",
    "    logger.info('Train Max Batch Size: %d', train_max_batch_size)\n",
    "    logger.info('Total Parameters: %d', get_total_parameters(model))\n",
    "    logger.info('Model:\\n%s' % model)\n",
    "\n",
    "    # Train!\n",
    "    for epoch in range(epochs):\n",
    "        logger.info('Epoch: %d', epoch)\n",
    "\n",
    "        # Iterate over the training data\n",
    "        logger.info('Training...')\n",
    "        model.train(mode=True)\n",
    "        train_iterator = get_iterator(train_dataset, train_batch_size, train=True)\n",
    "        for text, relation, mask in tqdm_notebook(train_iterator):\n",
    "            optimizer.zero_grad()\n",
    "            output = model(cuda_async(text), cuda_async(mask))\n",
    "            loss = criterion(output, cuda_async(relation))\n",
    "\n",
    "            # Backward propagation\n",
    "            loss.backward()\n",
    "            optimizer.step()\n",
    "\n",
    "        # Save checkpoint\n",
    "        checkpoint_path = Checkpoint.save(\n",
    "            experiment_folder,\n",
    "            {\n",
    "                'model': model,\n",
    "                'optimizer': optimizer,\n",
    "                'relation_encoder': relation_encoder,\n",
    "                'text_encoder': text_encoder,\n",
    "                'train_batch_size': train_batch_size,\n",
    "                'n_bad_epochs': n_bad_epochs,\n",
    "                'max_score': max_score\n",
    "            },\n",
    "            device=device)\n",
    "\n",
    "        # Evaluate\n",
    "        score = evaluate_softmax(dev_dataset, model, 4096)\n",
    "\n",
    "        # Scheduler for increasing batch_size inspired by this paper:\n",
    "        # https://openreview.net/forum?id=B1Yy1BxCZ\n",
    "        if max_score > score:\n",
    "            n_bad_epochs += 1\n",
    "        else:\n",
    "            n_bad_epochs = 0\n",
    "            max_score = score\n",
    "\n",
    "        if n_bad_epochs >= patience:\n",
    "            train_batch_size = min(train_max_batch_size, train_batch_size * 2)\n",
    "            logger.info('Ran out of patience, increasing train batch size to: %d', train_batch_size)\n",
    "\n",
    "        print('–' * 100)\n",
    "        \n",
    "    return -max_score, checkpoint_path"
   ]
  },
  {
   "cell_type": "code",
   "execution_count": 16,
   "metadata": {},
   "outputs": [
    {
     "name": "stdout",
     "output_type": "stream",
     "text": [
      "[2020-09-08 10:24:58,405][MainProcess][lib.configurable][INFO] seq_to_label.SeqToLabel.__init__ was configured with:\n",
      "{   'bidirectional': True,\n",
      "    'decode_dropout': 0.6,\n",
      "    'embedding_dropout': 0.3,\n",
      "    'embedding_size': 300,\n",
      "    'freeze_embeddings': True,\n",
      "    'input_vocab_size': 6899,\n",
      "    'output_vocab_size': 1703,\n",
      "    'rnn_cell': 'gru',\n",
      "    'rnn_dropout': 0.8,\n",
      "    'rnn_layers': 1,\n",
      "    'rnn_size': 450,\n",
      "    'rnn_variational_dropout': 0.0}\n",
      "[2020-09-08 10:24:58,406][MainProcess][lib.configurable][INFO] seq_encoder.SeqEncoder.__init__ no config for: lib.nn.seq_encoder.SeqEncoder.__init__\n",
      "[2020-09-08 10:24:58,407][MainProcess][lib.configurable][INFO] seq_encoder.SeqEncoder.__init__ was configured with:\n",
      "{   'bidirectional': True,\n",
      "    'embedding_dropout': 0.3,\n",
      "    'embedding_size': 300,\n",
      "    'freeze_embeddings': True,\n",
      "    'n_layers': 1,\n",
      "    'rnn_cell': 'gru',\n",
      "    'rnn_dropout': 0.8,\n",
      "    'rnn_size': 450,\n",
      "    'rnn_variational_dropout': 0.0,\n",
      "    'vocab_size': 6899}\n",
      "[2020-09-08 10:24:58,474][MainProcess][lib.configurable][INFO] adam.Adam.__init__ was configured with:\n",
      "{'amsgrad': True, 'params': <filter object at 0x7f897182e710>}\n",
      "[2020-09-08 10:24:58,475][MainProcess][lib.configurable][INFO] optimizer.Optimizer.__init__ no config for: lib.optimizer.Optimizer.__init__\n",
      "[2020-09-08 10:24:58,476][MainProcess][lib.configurable][INFO] optimizer.Optimizer.__init__ was configured with:\n",
      "{   'optim': Adam (\n",
      "Parameter Group 0\n",
      "    amsgrad: True\n",
      "    betas: (0.9, 0.999)\n",
      "    eps: 1e-08\n",
      "    lr: 0.001\n",
      "    weight_decay: 0\n",
      ")}\n",
      "[2020-09-08 10:24:58,477][MainProcess][__main__][INFO] Epochs: 30\n",
      "[2020-09-08 10:24:58,480][MainProcess][__main__][INFO] Train Dataset Size: 75900\n",
      "[2020-09-08 10:24:58,481][MainProcess][__main__][INFO] Dev Dataset Size: 10845\n",
      "[2020-09-08 10:24:58,482][MainProcess][__main__][INFO] Train Batch Size: 32\n",
      "[2020-09-08 10:24:58,483][MainProcess][__main__][INFO] Train Max Batch Size: 1024\n",
      "[2020-09-08 10:24:58,484][MainProcess][__main__][INFO] Total Parameters: 1683353\n",
      "[2020-09-08 10:24:58,485][MainProcess][__main__][INFO] Model:\n",
      "SeqToLabel(\n",
      "  (encoder): SeqEncoder(\n",
      "    (embedding): Embedding(6899, 300, padding_idx=0)\n",
      "    (rnn): GRU(300, 225, bidirectional=True)\n",
      "    (rnn_dropout): LockedDropout(p=0.8)\n",
      "    (embedding_dropout): Dropout(p=0.3)\n",
      "  )\n",
      "  (out): Sequential(\n",
      "    (0): Linear(in_features=450, out_features=450, bias=True)\n",
      "    (1): BatchNorm1d(450, eps=1e-05, momentum=0.1, affine=True, track_running_stats=True)\n",
      "    (2): ReLU()\n",
      "    (3): Dropout(p=0.6)\n",
      "    (4): Linear(in_features=450, out_features=1703, bias=True)\n",
      "  )\n",
      ")\n",
      "[2020-09-08 10:24:58,486][MainProcess][__main__][INFO] Epoch: 0\n",
      "[2020-09-08 10:24:58,487][MainProcess][__main__][INFO] Training...\n"
     ]
    },
    {
     "data": {
      "application/vnd.jupyter.widget-view+json": {
       "model_id": "a1cd79a78ecb428684ad0582aac0cb6d",
       "version_major": 2,
       "version_minor": 0
      },
      "text/plain": [
       "HBox(children=(IntProgress(value=0, max=2371), HTML(value='')))"
      ]
     },
     "metadata": {},
     "output_type": "display_data"
    },
    {
     "name": "stdout",
     "output_type": "stream",
     "text": [
      "\n",
      "[2020-09-08 10:25:11,428][MainProcess][lib.checkpoint][INFO] Saving checkpoint: ../../experiments/relation_classifier.09_08_10:23:25/13.pt\n"
     ]
    },
    {
     "data": {
      "application/vnd.jupyter.widget-view+json": {
       "model_id": "9a604a5928684465a739cff115f3b1a6",
       "version_major": 2,
       "version_minor": 0
      },
      "text/plain": [
       "HBox(children=(IntProgress(value=0, max=2), HTML(value='')))"
      ]
     },
     "metadata": {},
     "output_type": "display_data"
    },
    {
     "name": "stderr",
     "output_type": "stream",
     "text": [
      "/mount/arbeitsdaten46/projekte/dialog-1/kanjurva/Simple-QA-EMNLP-2018/env/lib/python3.6/site-packages/ipykernel_launcher.py:12: UserWarning: volatile was removed and now has no effect. Use `with torch.no_grad():` instead.\n",
      "  if sys.path[0] == '':\n",
      "/mount/arbeitsdaten46/projekte/dialog-1/kanjurva/Simple-QA-EMNLP-2018/env/lib/python3.6/site-packages/ipykernel_launcher.py:15: UserWarning: volatile was removed and now has no effect. Use `with torch.no_grad():` instead.\n",
      "  from ipykernel import kernelapp as app\n",
      "/mount/arbeitsdaten46/projekte/dialog-1/kanjurva/Simple-QA-EMNLP-2018/env/lib/python3.6/site-packages/ipykernel_launcher.py:15: UserWarning: invalid index of a 0-dim tensor. This will be an error in PyTorch 0.5. Use tensor.item() to convert a 0-dim tensor to a Python number\n",
      "  from ipykernel import kernelapp as app\n"
     ]
    },
    {
     "name": "stdout",
     "output_type": "stream",
     "text": [
      "\n",
      "[2020-09-08 10:25:13,408][MainProcess][__main__][INFO] NLLLoss: 5.620\n",
      "[2020-09-08 10:25:13,511][MainProcess][lib.metrics.accuracy][INFO] Accuracy: 0.0 [0 of 8192]\n",
      "––––––––––––––––––––––––––––––––––––––––––––––––––––––––––––––––––––––––––––––––––––––––––––––––––––\n",
      "[2020-09-08 10:25:13,519][MainProcess][__main__][INFO] Epoch: 1\n",
      "[2020-09-08 10:25:13,520][MainProcess][__main__][INFO] Training...\n"
     ]
    },
    {
     "data": {
      "application/vnd.jupyter.widget-view+json": {
       "model_id": "ff8bc6c04dc54937b89dff29ed86947b",
       "version_major": 2,
       "version_minor": 0
      },
      "text/plain": [
       "HBox(children=(IntProgress(value=0, max=2371), HTML(value='')))"
      ]
     },
     "metadata": {},
     "output_type": "display_data"
    },
    {
     "name": "stdout",
     "output_type": "stream",
     "text": [
      "\n",
      "[2020-09-08 10:25:28,612][MainProcess][lib.checkpoint][INFO] Saving checkpoint: ../../experiments/relation_classifier.09_08_10:23:25/30.pt\n"
     ]
    },
    {
     "data": {
      "application/vnd.jupyter.widget-view+json": {
       "model_id": "997d9acc2b004099908338da8c0b7fa3",
       "version_major": 2,
       "version_minor": 0
      },
      "text/plain": [
       "HBox(children=(IntProgress(value=0, max=2), HTML(value='')))"
      ]
     },
     "metadata": {},
     "output_type": "display_data"
    },
    {
     "name": "stdout",
     "output_type": "stream",
     "text": [
      "\n",
      "[2020-09-08 10:25:29,878][MainProcess][__main__][INFO] NLLLoss: 5.620\n",
      "[2020-09-08 10:25:29,951][MainProcess][lib.metrics.accuracy][INFO] Accuracy: 0.0 [0 of 8192]\n",
      "––––––––––––––––––––––––––––––––––––––––––––––––––––––––––––––––––––––––––––––––––––––––––––––––––––\n",
      "[2020-09-08 10:25:29,959][MainProcess][__main__][INFO] Epoch: 2\n",
      "[2020-09-08 10:25:29,960][MainProcess][__main__][INFO] Training...\n"
     ]
    },
    {
     "data": {
      "application/vnd.jupyter.widget-view+json": {
       "model_id": "6b2f7b87e7794c30aa84230d907999df",
       "version_major": 2,
       "version_minor": 0
      },
      "text/plain": [
       "HBox(children=(IntProgress(value=0, max=2371), HTML(value='')))"
      ]
     },
     "metadata": {},
     "output_type": "display_data"
    },
    {
     "name": "stdout",
     "output_type": "stream",
     "text": [
      "\n",
      "[2020-09-08 10:25:44,920][MainProcess][lib.checkpoint][INFO] Saving checkpoint: ../../experiments/relation_classifier.09_08_10:23:25/46.pt\n"
     ]
    },
    {
     "data": {
      "application/vnd.jupyter.widget-view+json": {
       "model_id": "2212044d4117487482ffca4c85e4eb11",
       "version_major": 2,
       "version_minor": 0
      },
      "text/plain": [
       "HBox(children=(IntProgress(value=0, max=2), HTML(value='')))"
      ]
     },
     "metadata": {},
     "output_type": "display_data"
    },
    {
     "name": "stdout",
     "output_type": "stream",
     "text": [
      "\n",
      "[2020-09-08 10:25:47,063][MainProcess][__main__][INFO] NLLLoss: 5.620\n",
      "[2020-09-08 10:25:47,133][MainProcess][lib.metrics.accuracy][INFO] Accuracy: 0.0 [0 of 8192]\n",
      "––––––––––––––––––––––––––––––––––––––––––––––––––––––––––––––––––––––––––––––––––––––––––––––––––––\n",
      "[2020-09-08 10:25:47,140][MainProcess][__main__][INFO] Epoch: 3\n",
      "[2020-09-08 10:25:47,141][MainProcess][__main__][INFO] Training...\n"
     ]
    },
    {
     "data": {
      "application/vnd.jupyter.widget-view+json": {
       "model_id": "9451969516244ec9aab58cbf9acc9c89",
       "version_major": 2,
       "version_minor": 0
      },
      "text/plain": [
       "HBox(children=(IntProgress(value=0, max=2371), HTML(value='')))"
      ]
     },
     "metadata": {},
     "output_type": "display_data"
    },
    {
     "name": "stdout",
     "output_type": "stream",
     "text": [
      "\n",
      "[2020-09-08 10:26:03,054][MainProcess][lib.checkpoint][INFO] Saving checkpoint: ../../experiments/relation_classifier.09_08_10:23:25/64.pt\n"
     ]
    },
    {
     "data": {
      "application/vnd.jupyter.widget-view+json": {
       "model_id": "3454583436e24c38a4c2ecd0d3268482",
       "version_major": 2,
       "version_minor": 0
      },
      "text/plain": [
       "HBox(children=(IntProgress(value=0, max=2), HTML(value='')))"
      ]
     },
     "metadata": {},
     "output_type": "display_data"
    },
    {
     "name": "stdout",
     "output_type": "stream",
     "text": [
      "\n",
      "[2020-09-08 10:26:04,209][MainProcess][__main__][INFO] NLLLoss: 5.620\n",
      "[2020-09-08 10:26:04,276][MainProcess][lib.metrics.accuracy][INFO] Accuracy: 0.0 [0 of 8192]\n",
      "––––––––––––––––––––––––––––––––––––––––––––––––––––––––––––––––––––––––––––––––––––––––––––––––––––\n",
      "[2020-09-08 10:26:04,283][MainProcess][__main__][INFO] Epoch: 4\n",
      "[2020-09-08 10:26:04,284][MainProcess][__main__][INFO] Training...\n"
     ]
    },
    {
     "data": {
      "application/vnd.jupyter.widget-view+json": {
       "model_id": "b397fccfa17f4a1a8baaa6996a34e36a",
       "version_major": 2,
       "version_minor": 0
      },
      "text/plain": [
       "HBox(children=(IntProgress(value=0, max=2371), HTML(value='')))"
      ]
     },
     "metadata": {},
     "output_type": "display_data"
    },
    {
     "name": "stdout",
     "output_type": "stream",
     "text": [
      "\n",
      "[2020-09-08 10:26:20,474][MainProcess][lib.checkpoint][INFO] Saving checkpoint: ../../experiments/relation_classifier.09_08_10:23:25/82.pt\n"
     ]
    },
    {
     "data": {
      "application/vnd.jupyter.widget-view+json": {
       "model_id": "be380916ee3b42c0af28a8972beeeccc",
       "version_major": 2,
       "version_minor": 0
      },
      "text/plain": [
       "HBox(children=(IntProgress(value=0, max=2), HTML(value='')))"
      ]
     },
     "metadata": {},
     "output_type": "display_data"
    },
    {
     "name": "stdout",
     "output_type": "stream",
     "text": [
      "\n",
      "[2020-09-08 10:26:21,584][MainProcess][__main__][INFO] NLLLoss: 5.620\n",
      "[2020-09-08 10:26:21,652][MainProcess][lib.metrics.accuracy][INFO] Accuracy: 0.0 [0 of 8192]\n",
      "––––––––––––––––––––––––––––––––––––––––––––––––––––––––––––––––––––––––––––––––––––––––––––––––––––\n",
      "[2020-09-08 10:26:21,660][MainProcess][__main__][INFO] Epoch: 5\n",
      "[2020-09-08 10:26:21,661][MainProcess][__main__][INFO] Training...\n"
     ]
    },
    {
     "data": {
      "application/vnd.jupyter.widget-view+json": {
       "model_id": "b8cffe902cf64cf99310a41c3323dde8",
       "version_major": 2,
       "version_minor": 0
      },
      "text/plain": [
       "HBox(children=(IntProgress(value=0, max=2371), HTML(value='')))"
      ]
     },
     "metadata": {},
     "output_type": "display_data"
    },
    {
     "name": "stdout",
     "output_type": "stream",
     "text": [
      "\n",
      "[2020-09-08 10:26:34,678][MainProcess][lib.checkpoint][INFO] Saving checkpoint: ../../experiments/relation_classifier.09_08_10:23:25/96.pt\n"
     ]
    },
    {
     "data": {
      "application/vnd.jupyter.widget-view+json": {
       "model_id": "8dcbee055b9a4415b0fe75d43109aa34",
       "version_major": 2,
       "version_minor": 0
      },
      "text/plain": [
       "HBox(children=(IntProgress(value=0, max=2), HTML(value='')))"
      ]
     },
     "metadata": {},
     "output_type": "display_data"
    },
    {
     "name": "stdout",
     "output_type": "stream",
     "text": [
      "\n",
      "[2020-09-08 10:26:35,730][MainProcess][__main__][INFO] NLLLoss: 5.620\n",
      "[2020-09-08 10:26:35,797][MainProcess][lib.metrics.accuracy][INFO] Accuracy: 0.0 [0 of 8192]\n",
      "––––––––––––––––––––––––––––––––––––––––––––––––––––––––––––––––––––––––––––––––––––––––––––––––––––\n",
      "[2020-09-08 10:26:35,804][MainProcess][__main__][INFO] Epoch: 6\n",
      "[2020-09-08 10:26:35,805][MainProcess][__main__][INFO] Training...\n"
     ]
    },
    {
     "data": {
      "application/vnd.jupyter.widget-view+json": {
       "model_id": "8d74725ba4b740988152df94ff0a43f6",
       "version_major": 2,
       "version_minor": 0
      },
      "text/plain": [
       "HBox(children=(IntProgress(value=0, max=2371), HTML(value='')))"
      ]
     },
     "metadata": {},
     "output_type": "display_data"
    },
    {
     "name": "stdout",
     "output_type": "stream",
     "text": [
      "\n",
      "[2020-09-08 10:26:48,954][MainProcess][lib.checkpoint][INFO] Saving checkpoint: ../../experiments/relation_classifier.09_08_10:23:25/110.pt\n"
     ]
    },
    {
     "data": {
      "application/vnd.jupyter.widget-view+json": {
       "model_id": "214e515894dc4ae5996cca7a3bde9a13",
       "version_major": 2,
       "version_minor": 0
      },
      "text/plain": [
       "HBox(children=(IntProgress(value=0, max=2), HTML(value='')))"
      ]
     },
     "metadata": {},
     "output_type": "display_data"
    },
    {
     "name": "stdout",
     "output_type": "stream",
     "text": [
      "\n",
      "[2020-09-08 10:26:50,764][MainProcess][__main__][INFO] NLLLoss: 5.620\n",
      "[2020-09-08 10:26:50,831][MainProcess][lib.metrics.accuracy][INFO] Accuracy: 0.0 [0 of 8192]\n",
      "––––––––––––––––––––––––––––––––––––––––––––––––––––––––––––––––––––––––––––––––––––––––––––––––––––\n",
      "[2020-09-08 10:26:50,838][MainProcess][__main__][INFO] Epoch: 7\n",
      "[2020-09-08 10:26:50,839][MainProcess][__main__][INFO] Training...\n"
     ]
    },
    {
     "data": {
      "application/vnd.jupyter.widget-view+json": {
       "model_id": "4a854bf77d7343d2bd6267b6ff058fea",
       "version_major": 2,
       "version_minor": 0
      },
      "text/plain": [
       "HBox(children=(IntProgress(value=0, max=2371), HTML(value='')))"
      ]
     },
     "metadata": {},
     "output_type": "display_data"
    },
    {
     "name": "stdout",
     "output_type": "stream",
     "text": [
      "\n",
      "[2020-09-08 10:27:03,702][MainProcess][lib.checkpoint][INFO] Saving checkpoint: ../../experiments/relation_classifier.09_08_10:23:25/125.pt\n"
     ]
    },
    {
     "data": {
      "application/vnd.jupyter.widget-view+json": {
       "model_id": "24556b918d2649bc82e11a2c20ee7ea1",
       "version_major": 2,
       "version_minor": 0
      },
      "text/plain": [
       "HBox(children=(IntProgress(value=0, max=2), HTML(value='')))"
      ]
     },
     "metadata": {},
     "output_type": "display_data"
    },
    {
     "name": "stdout",
     "output_type": "stream",
     "text": [
      "\n",
      "[2020-09-08 10:27:04,720][MainProcess][__main__][INFO] NLLLoss: 5.620\n",
      "[2020-09-08 10:27:04,785][MainProcess][lib.metrics.accuracy][INFO] Accuracy: 0.0 [0 of 8192]\n",
      "––––––––––––––––––––––––––––––––––––––––––––––––––––––––––––––––––––––––––––––––––––––––––––––––––––\n",
      "[2020-09-08 10:27:04,793][MainProcess][__main__][INFO] Epoch: 8\n",
      "[2020-09-08 10:27:04,793][MainProcess][__main__][INFO] Training...\n"
     ]
    },
    {
     "data": {
      "application/vnd.jupyter.widget-view+json": {
       "model_id": "54ce732a57954cacad0093a803da7686",
       "version_major": 2,
       "version_minor": 0
      },
      "text/plain": [
       "HBox(children=(IntProgress(value=0, max=2371), HTML(value='')))"
      ]
     },
     "metadata": {},
     "output_type": "display_data"
    },
    {
     "name": "stdout",
     "output_type": "stream",
     "text": [
      "\n",
      "[2020-09-08 10:27:19,401][MainProcess][lib.checkpoint][INFO] Saving checkpoint: ../../experiments/relation_classifier.09_08_10:23:25/141.pt\n"
     ]
    },
    {
     "data": {
      "application/vnd.jupyter.widget-view+json": {
       "model_id": "0b678d1259334e7fb49b7c5616bb127b",
       "version_major": 2,
       "version_minor": 0
      },
      "text/plain": [
       "HBox(children=(IntProgress(value=0, max=2), HTML(value='')))"
      ]
     },
     "metadata": {},
     "output_type": "display_data"
    },
    {
     "name": "stdout",
     "output_type": "stream",
     "text": [
      "\n",
      "[2020-09-08 10:27:20,377][MainProcess][__main__][INFO] NLLLoss: 5.620\n",
      "[2020-09-08 10:27:20,443][MainProcess][lib.metrics.accuracy][INFO] Accuracy: 0.0 [0 of 8192]\n",
      "––––––––––––––––––––––––––––––––––––––––––––––––––––––––––––––––––––––––––––––––––––––––––––––––––––\n",
      "[2020-09-08 10:27:20,450][MainProcess][__main__][INFO] Epoch: 9\n",
      "[2020-09-08 10:27:20,451][MainProcess][__main__][INFO] Training...\n"
     ]
    },
    {
     "data": {
      "application/vnd.jupyter.widget-view+json": {
       "model_id": "955037b0569a4e5996637f9040931a92",
       "version_major": 2,
       "version_minor": 0
      },
      "text/plain": [
       "HBox(children=(IntProgress(value=0, max=2371), HTML(value='')))"
      ]
     },
     "metadata": {},
     "output_type": "display_data"
    },
    {
     "name": "stdout",
     "output_type": "stream",
     "text": [
      "\n",
      "[2020-09-08 10:27:33,574][MainProcess][lib.checkpoint][INFO] Saving checkpoint: ../../experiments/relation_classifier.09_08_10:23:25/155.pt\n"
     ]
    },
    {
     "data": {
      "application/vnd.jupyter.widget-view+json": {
       "model_id": "e0036690820b426da29373e0b717a5b9",
       "version_major": 2,
       "version_minor": 0
      },
      "text/plain": [
       "HBox(children=(IntProgress(value=0, max=2), HTML(value='')))"
      ]
     },
     "metadata": {},
     "output_type": "display_data"
    },
    {
     "name": "stdout",
     "output_type": "stream",
     "text": [
      "\n",
      "[2020-09-08 10:27:34,664][MainProcess][__main__][INFO] NLLLoss: 5.620\n",
      "[2020-09-08 10:27:34,732][MainProcess][lib.metrics.accuracy][INFO] Accuracy: 0.0 [0 of 8192]\n",
      "––––––––––––––––––––––––––––––––––––––––––––––––––––––––––––––––––––––––––––––––––––––––––––––––––––\n",
      "[2020-09-08 10:27:34,739][MainProcess][__main__][INFO] Epoch: 10\n",
      "[2020-09-08 10:27:34,740][MainProcess][__main__][INFO] Training...\n"
     ]
    },
    {
     "data": {
      "application/vnd.jupyter.widget-view+json": {
       "model_id": "c2db670e23814e72a457dc2826d192ef",
       "version_major": 2,
       "version_minor": 0
      },
      "text/plain": [
       "HBox(children=(IntProgress(value=0, max=2371), HTML(value='')))"
      ]
     },
     "metadata": {},
     "output_type": "display_data"
    },
    {
     "name": "stdout",
     "output_type": "stream",
     "text": [
      "\n",
      "[2020-09-08 10:27:51,066][MainProcess][lib.checkpoint][INFO] Saving checkpoint: ../../experiments/relation_classifier.09_08_10:23:25/172.pt\n"
     ]
    },
    {
     "data": {
      "application/vnd.jupyter.widget-view+json": {
       "model_id": "12a0e046f9df4c869592c981b3391e35",
       "version_major": 2,
       "version_minor": 0
      },
      "text/plain": [
       "HBox(children=(IntProgress(value=0, max=2), HTML(value='')))"
      ]
     },
     "metadata": {},
     "output_type": "display_data"
    },
    {
     "name": "stdout",
     "output_type": "stream",
     "text": [
      "\n",
      "[2020-09-08 10:27:52,126][MainProcess][__main__][INFO] NLLLoss: 5.620\n",
      "[2020-09-08 10:27:52,193][MainProcess][lib.metrics.accuracy][INFO] Accuracy: 0.0 [0 of 8192]\n",
      "––––––––––––––––––––––––––––––––––––––––––––––––––––––––––––––––––––––––––––––––––––––––––––––––––––\n",
      "[2020-09-08 10:27:52,200][MainProcess][__main__][INFO] Epoch: 11\n",
      "[2020-09-08 10:27:52,201][MainProcess][__main__][INFO] Training...\n"
     ]
    },
    {
     "data": {
      "application/vnd.jupyter.widget-view+json": {
       "model_id": "206c383cf84545288fd07690299fdfbc",
       "version_major": 2,
       "version_minor": 0
      },
      "text/plain": [
       "HBox(children=(IntProgress(value=0, max=2371), HTML(value='')))"
      ]
     },
     "metadata": {},
     "output_type": "display_data"
    },
    {
     "name": "stdout",
     "output_type": "stream",
     "text": [
      "\n",
      "[2020-09-08 10:28:07,407][MainProcess][lib.checkpoint][INFO] Saving checkpoint: ../../experiments/relation_classifier.09_08_10:23:25/189.pt\n"
     ]
    },
    {
     "data": {
      "application/vnd.jupyter.widget-view+json": {
       "model_id": "9ea608147f6c4c559d7f1e99b6b0e987",
       "version_major": 2,
       "version_minor": 0
      },
      "text/plain": [
       "HBox(children=(IntProgress(value=0, max=2), HTML(value='')))"
      ]
     },
     "metadata": {},
     "output_type": "display_data"
    },
    {
     "name": "stdout",
     "output_type": "stream",
     "text": [
      "\n",
      "[2020-09-08 10:28:08,837][MainProcess][__main__][INFO] NLLLoss: 5.620\n",
      "[2020-09-08 10:28:08,903][MainProcess][lib.metrics.accuracy][INFO] Accuracy: 0.0 [0 of 8192]\n",
      "––––––––––––––––––––––––––––––––––––––––––––––––––––––––––––––––––––––––––––––––––––––––––––––––––––\n",
      "[2020-09-08 10:28:08,910][MainProcess][__main__][INFO] Epoch: 12\n",
      "[2020-09-08 10:28:08,911][MainProcess][__main__][INFO] Training...\n"
     ]
    },
    {
     "data": {
      "application/vnd.jupyter.widget-view+json": {
       "model_id": "ae4d8520063544a38e0b691b0b431202",
       "version_major": 2,
       "version_minor": 0
      },
      "text/plain": [
       "HBox(children=(IntProgress(value=0, max=2371), HTML(value='')))"
      ]
     },
     "metadata": {},
     "output_type": "display_data"
    },
    {
     "name": "stdout",
     "output_type": "stream",
     "text": [
      "\n",
      "[2020-09-08 10:28:23,141][MainProcess][lib.checkpoint][INFO] Saving checkpoint: ../../experiments/relation_classifier.09_08_10:23:25/204.pt\n"
     ]
    },
    {
     "data": {
      "application/vnd.jupyter.widget-view+json": {
       "model_id": "13b7569dafcd49cd892f1dfe52cd8834",
       "version_major": 2,
       "version_minor": 0
      },
      "text/plain": [
       "HBox(children=(IntProgress(value=0, max=2), HTML(value='')))"
      ]
     },
     "metadata": {},
     "output_type": "display_data"
    },
    {
     "name": "stdout",
     "output_type": "stream",
     "text": [
      "\n",
      "[2020-09-08 10:28:24,255][MainProcess][__main__][INFO] NLLLoss: 5.620\n",
      "[2020-09-08 10:28:24,323][MainProcess][lib.metrics.accuracy][INFO] Accuracy: 0.0 [0 of 8192]\n",
      "––––––––––––––––––––––––––––––––––––––––––––––––––––––––––––––––––––––––––––––––––––––––––––––––––––\n",
      "[2020-09-08 10:28:24,331][MainProcess][__main__][INFO] Epoch: 13\n",
      "[2020-09-08 10:28:24,332][MainProcess][__main__][INFO] Training...\n"
     ]
    },
    {
     "data": {
      "application/vnd.jupyter.widget-view+json": {
       "model_id": "bd78964722394c36a56008e7ca545e5f",
       "version_major": 2,
       "version_minor": 0
      },
      "text/plain": [
       "HBox(children=(IntProgress(value=0, max=2371), HTML(value='')))"
      ]
     },
     "metadata": {},
     "output_type": "display_data"
    },
    {
     "name": "stdout",
     "output_type": "stream",
     "text": [
      "\n",
      "[2020-09-08 10:28:39,441][MainProcess][lib.checkpoint][INFO] Saving checkpoint: ../../experiments/relation_classifier.09_08_10:23:25/221.pt\n"
     ]
    },
    {
     "data": {
      "application/vnd.jupyter.widget-view+json": {
       "model_id": "190f923e8a7547a39e95cbcdaca90b72",
       "version_major": 2,
       "version_minor": 0
      },
      "text/plain": [
       "HBox(children=(IntProgress(value=0, max=2), HTML(value='')))"
      ]
     },
     "metadata": {},
     "output_type": "display_data"
    },
    {
     "name": "stdout",
     "output_type": "stream",
     "text": [
      "\n",
      "[2020-09-08 10:28:41,218][MainProcess][__main__][INFO] NLLLoss: 5.620\n",
      "[2020-09-08 10:28:41,284][MainProcess][lib.metrics.accuracy][INFO] Accuracy: 0.0 [0 of 8192]\n",
      "––––––––––––––––––––––––––––––––––––––––––––––––––––––––––––––––––––––––––––––––––––––––––––––––––––\n",
      "[2020-09-08 10:28:41,292][MainProcess][__main__][INFO] Epoch: 14\n",
      "[2020-09-08 10:28:41,293][MainProcess][__main__][INFO] Training...\n"
     ]
    },
    {
     "data": {
      "application/vnd.jupyter.widget-view+json": {
       "model_id": "b0e8809cfbc8480a9263a3cac4a02f8e",
       "version_major": 2,
       "version_minor": 0
      },
      "text/plain": [
       "HBox(children=(IntProgress(value=0, max=2371), HTML(value='')))"
      ]
     },
     "metadata": {},
     "output_type": "display_data"
    },
    {
     "name": "stdout",
     "output_type": "stream",
     "text": [
      "\n",
      "[2020-09-08 10:28:54,211][MainProcess][lib.checkpoint][INFO] Saving checkpoint: ../../experiments/relation_classifier.09_08_10:23:25/235.pt\n"
     ]
    },
    {
     "data": {
      "application/vnd.jupyter.widget-view+json": {
       "model_id": "2e6b6862a72d4588ad6edd8d37282c58",
       "version_major": 2,
       "version_minor": 0
      },
      "text/plain": [
       "HBox(children=(IntProgress(value=0, max=2), HTML(value='')))"
      ]
     },
     "metadata": {},
     "output_type": "display_data"
    },
    {
     "name": "stdout",
     "output_type": "stream",
     "text": [
      "\n",
      "[2020-09-08 10:28:55,174][MainProcess][__main__][INFO] NLLLoss: 5.620\n",
      "[2020-09-08 10:28:55,241][MainProcess][lib.metrics.accuracy][INFO] Accuracy: 0.0 [0 of 8192]\n",
      "––––––––––––––––––––––––––––––––––––––––––––––––––––––––––––––––––––––––––––––––––––––––––––––––––––\n",
      "[2020-09-08 10:28:55,249][MainProcess][__main__][INFO] Epoch: 15\n",
      "[2020-09-08 10:28:55,250][MainProcess][__main__][INFO] Training...\n"
     ]
    },
    {
     "data": {
      "application/vnd.jupyter.widget-view+json": {
       "model_id": "a76df72e2d9148eab87804460633ff3f",
       "version_major": 2,
       "version_minor": 0
      },
      "text/plain": [
       "HBox(children=(IntProgress(value=0, max=2371), HTML(value='')))"
      ]
     },
     "metadata": {},
     "output_type": "display_data"
    },
    {
     "name": "stdout",
     "output_type": "stream",
     "text": [
      "\n",
      "[2020-09-08 10:29:08,194][MainProcess][lib.checkpoint][INFO] Saving checkpoint: ../../experiments/relation_classifier.09_08_10:23:25/249.pt\n"
     ]
    },
    {
     "data": {
      "application/vnd.jupyter.widget-view+json": {
       "model_id": "23686254a8f149489aac5079fbd0bf65",
       "version_major": 2,
       "version_minor": 0
      },
      "text/plain": [
       "HBox(children=(IntProgress(value=0, max=2), HTML(value='')))"
      ]
     },
     "metadata": {},
     "output_type": "display_data"
    },
    {
     "name": "stdout",
     "output_type": "stream",
     "text": [
      "\n",
      "[2020-09-08 10:29:09,299][MainProcess][__main__][INFO] NLLLoss: 5.620\n",
      "[2020-09-08 10:29:09,366][MainProcess][lib.metrics.accuracy][INFO] Accuracy: 0.0 [0 of 8192]\n",
      "––––––––––––––––––––––––––––––––––––––––––––––––––––––––––––––––––––––––––––––––––––––––––––––––––––\n",
      "[2020-09-08 10:29:09,373][MainProcess][__main__][INFO] Epoch: 16\n",
      "[2020-09-08 10:29:09,374][MainProcess][__main__][INFO] Training...\n"
     ]
    },
    {
     "data": {
      "application/vnd.jupyter.widget-view+json": {
       "model_id": "cfddcc4df717464ebbd90fc53a099789",
       "version_major": 2,
       "version_minor": 0
      },
      "text/plain": [
       "HBox(children=(IntProgress(value=0, max=2371), HTML(value='')))"
      ]
     },
     "metadata": {},
     "output_type": "display_data"
    },
    {
     "name": "stdout",
     "output_type": "stream",
     "text": [
      "\n",
      "[2020-09-08 10:29:22,271][MainProcess][lib.checkpoint][INFO] Saving checkpoint: ../../experiments/relation_classifier.09_08_10:23:25/263.pt\n"
     ]
    },
    {
     "data": {
      "application/vnd.jupyter.widget-view+json": {
       "model_id": "3acb1eca99d340b9971687388d7f5d82",
       "version_major": 2,
       "version_minor": 0
      },
      "text/plain": [
       "HBox(children=(IntProgress(value=0, max=2), HTML(value='')))"
      ]
     },
     "metadata": {},
     "output_type": "display_data"
    },
    {
     "name": "stdout",
     "output_type": "stream",
     "text": [
      "\n",
      "[2020-09-08 10:29:24,310][MainProcess][__main__][INFO] NLLLoss: 5.620\n",
      "[2020-09-08 10:29:24,410][MainProcess][lib.metrics.accuracy][INFO] Accuracy: 0.0 [0 of 8192]\n",
      "––––––––––––––––––––––––––––––––––––––––––––––––––––––––––––––––––––––––––––––––––––––––––––––––––––\n",
      "[2020-09-08 10:29:24,418][MainProcess][__main__][INFO] Epoch: 17\n",
      "[2020-09-08 10:29:24,419][MainProcess][__main__][INFO] Training...\n"
     ]
    },
    {
     "data": {
      "application/vnd.jupyter.widget-view+json": {
       "model_id": "88a818f3f6f9478aa692700d8aa4fa12",
       "version_major": 2,
       "version_minor": 0
      },
      "text/plain": [
       "HBox(children=(IntProgress(value=0, max=2371), HTML(value='')))"
      ]
     },
     "metadata": {},
     "output_type": "display_data"
    },
    {
     "name": "stdout",
     "output_type": "stream",
     "text": [
      "\n",
      "[2020-09-08 10:29:39,641][MainProcess][lib.checkpoint][INFO] Saving checkpoint: ../../experiments/relation_classifier.09_08_10:23:25/281.pt\n"
     ]
    },
    {
     "data": {
      "application/vnd.jupyter.widget-view+json": {
       "model_id": "5ad80d3b466f4ce3bcbb86e8a9142c0d",
       "version_major": 2,
       "version_minor": 0
      },
      "text/plain": [
       "HBox(children=(IntProgress(value=0, max=2), HTML(value='')))"
      ]
     },
     "metadata": {},
     "output_type": "display_data"
    },
    {
     "name": "stdout",
     "output_type": "stream",
     "text": [
      "\n",
      "[2020-09-08 10:29:40,722][MainProcess][__main__][INFO] NLLLoss: 5.620\n",
      "[2020-09-08 10:29:40,820][MainProcess][lib.metrics.accuracy][INFO] Accuracy: 0.0 [0 of 8192]\n",
      "––––––––––––––––––––––––––––––––––––––––––––––––––––––––––––––––––––––––––––––––––––––––––––––––––––\n",
      "[2020-09-08 10:29:40,827][MainProcess][__main__][INFO] Epoch: 18\n",
      "[2020-09-08 10:29:40,828][MainProcess][__main__][INFO] Training...\n"
     ]
    },
    {
     "data": {
      "application/vnd.jupyter.widget-view+json": {
       "model_id": "facb96062d054fc2a35b5bd08c5bda85",
       "version_major": 2,
       "version_minor": 0
      },
      "text/plain": [
       "HBox(children=(IntProgress(value=0, max=2371), HTML(value='')))"
      ]
     },
     "metadata": {},
     "output_type": "display_data"
    },
    {
     "name": "stdout",
     "output_type": "stream",
     "text": [
      "\n",
      "[2020-09-08 10:29:56,859][MainProcess][lib.checkpoint][INFO] Saving checkpoint: ../../experiments/relation_classifier.09_08_10:23:25/298.pt\n"
     ]
    },
    {
     "data": {
      "application/vnd.jupyter.widget-view+json": {
       "model_id": "b106839081ca41e1a8e1efc3cb2202ba",
       "version_major": 2,
       "version_minor": 0
      },
      "text/plain": [
       "HBox(children=(IntProgress(value=0, max=2), HTML(value='')))"
      ]
     },
     "metadata": {},
     "output_type": "display_data"
    },
    {
     "name": "stdout",
     "output_type": "stream",
     "text": [
      "\n",
      "[2020-09-08 10:29:58,236][MainProcess][__main__][INFO] NLLLoss: 5.620\n",
      "[2020-09-08 10:29:58,300][MainProcess][lib.metrics.accuracy][INFO] Accuracy: 0.0 [0 of 8192]\n",
      "––––––––––––––––––––––––––––––––––––––––––––––––––––––––––––––––––––––––––––––––––––––––––––––––––––\n",
      "[2020-09-08 10:29:58,308][MainProcess][__main__][INFO] Epoch: 19\n",
      "[2020-09-08 10:29:58,309][MainProcess][__main__][INFO] Training...\n"
     ]
    },
    {
     "data": {
      "application/vnd.jupyter.widget-view+json": {
       "model_id": "2e2794ace36e44dbb05ea7858df8ec89",
       "version_major": 2,
       "version_minor": 0
      },
      "text/plain": [
       "HBox(children=(IntProgress(value=0, max=2371), HTML(value='')))"
      ]
     },
     "metadata": {},
     "output_type": "display_data"
    },
    {
     "name": "stdout",
     "output_type": "stream",
     "text": [
      "\n",
      "[2020-09-08 10:30:11,257][MainProcess][lib.checkpoint][INFO] Saving checkpoint: ../../experiments/relation_classifier.09_08_10:23:25/312.pt\n"
     ]
    },
    {
     "data": {
      "application/vnd.jupyter.widget-view+json": {
       "model_id": "cb7b83cb94494a859334d7fdbbf57530",
       "version_major": 2,
       "version_minor": 0
      },
      "text/plain": [
       "HBox(children=(IntProgress(value=0, max=2), HTML(value='')))"
      ]
     },
     "metadata": {},
     "output_type": "display_data"
    },
    {
     "name": "stdout",
     "output_type": "stream",
     "text": [
      "\n",
      "[2020-09-08 10:30:12,523][MainProcess][__main__][INFO] NLLLoss: 5.620\n",
      "[2020-09-08 10:30:12,592][MainProcess][lib.metrics.accuracy][INFO] Accuracy: 0.0 [0 of 8192]\n",
      "––––––––––––––––––––––––––––––––––––––––––––––––––––––––––––––––––––––––––––––––––––––––––––––––––––\n",
      "[2020-09-08 10:30:12,600][MainProcess][__main__][INFO] Epoch: 20\n",
      "[2020-09-08 10:30:12,600][MainProcess][__main__][INFO] Training...\n"
     ]
    },
    {
     "data": {
      "application/vnd.jupyter.widget-view+json": {
       "model_id": "82660743671a4534a25994b88e897d09",
       "version_major": 2,
       "version_minor": 0
      },
      "text/plain": [
       "HBox(children=(IntProgress(value=0, max=2371), HTML(value='')))"
      ]
     },
     "metadata": {},
     "output_type": "display_data"
    },
    {
     "name": "stdout",
     "output_type": "stream",
     "text": [
      "\n",
      "[2020-09-08 10:30:25,656][MainProcess][lib.checkpoint][INFO] Saving checkpoint: ../../experiments/relation_classifier.09_08_10:23:25/327.pt\n"
     ]
    },
    {
     "data": {
      "application/vnd.jupyter.widget-view+json": {
       "model_id": "5f387a37d7b341caa0c22cd4087e9b1a",
       "version_major": 2,
       "version_minor": 0
      },
      "text/plain": [
       "HBox(children=(IntProgress(value=0, max=2), HTML(value='')))"
      ]
     },
     "metadata": {},
     "output_type": "display_data"
    },
    {
     "name": "stdout",
     "output_type": "stream",
     "text": [
      "\n",
      "[2020-09-08 10:30:26,652][MainProcess][__main__][INFO] NLLLoss: 5.620\n",
      "[2020-09-08 10:30:26,718][MainProcess][lib.metrics.accuracy][INFO] Accuracy: 0.0 [0 of 8192]\n",
      "––––––––––––––––––––––––––––––––––––––––––––––––––––––––––––––––––––––––––––––––––––––––––––––––––––\n",
      "[2020-09-08 10:30:26,725][MainProcess][__main__][INFO] Epoch: 21\n",
      "[2020-09-08 10:30:26,726][MainProcess][__main__][INFO] Training...\n"
     ]
    },
    {
     "data": {
      "application/vnd.jupyter.widget-view+json": {
       "model_id": "8798c8113394479d8aede8db1d351676",
       "version_major": 2,
       "version_minor": 0
      },
      "text/plain": [
       "HBox(children=(IntProgress(value=0, max=2371), HTML(value='')))"
      ]
     },
     "metadata": {},
     "output_type": "display_data"
    },
    {
     "name": "stdout",
     "output_type": "stream",
     "text": [
      "\n",
      "[2020-09-08 10:30:39,556][MainProcess][lib.checkpoint][INFO] Saving checkpoint: ../../experiments/relation_classifier.09_08_10:23:25/341.pt\n"
     ]
    },
    {
     "data": {
      "application/vnd.jupyter.widget-view+json": {
       "model_id": "e4841e030aa04a44aa9bd0c499bd9b30",
       "version_major": 2,
       "version_minor": 0
      },
      "text/plain": [
       "HBox(children=(IntProgress(value=0, max=2), HTML(value='')))"
      ]
     },
     "metadata": {},
     "output_type": "display_data"
    },
    {
     "name": "stdout",
     "output_type": "stream",
     "text": [
      "\n",
      "[2020-09-08 10:30:40,578][MainProcess][__main__][INFO] NLLLoss: 5.620\n",
      "[2020-09-08 10:30:40,648][MainProcess][lib.metrics.accuracy][INFO] Accuracy: 0.0 [0 of 8192]\n",
      "––––––––––––––––––––––––––––––––––––––––––––––––––––––––––––––––––––––––––––––––––––––––––––––––––––\n",
      "[2020-09-08 10:30:40,656][MainProcess][__main__][INFO] Epoch: 22\n",
      "[2020-09-08 10:30:40,657][MainProcess][__main__][INFO] Training...\n"
     ]
    },
    {
     "data": {
      "application/vnd.jupyter.widget-view+json": {
       "model_id": "10d82bf418754394a9f433cd9784445a",
       "version_major": 2,
       "version_minor": 0
      },
      "text/plain": [
       "HBox(children=(IntProgress(value=0, max=2371), HTML(value='')))"
      ]
     },
     "metadata": {},
     "output_type": "display_data"
    },
    {
     "name": "stdout",
     "output_type": "stream",
     "text": [
      "\n",
      "[2020-09-08 10:30:53,453][MainProcess][lib.checkpoint][INFO] Saving checkpoint: ../../experiments/relation_classifier.09_08_10:23:25/355.pt\n"
     ]
    },
    {
     "data": {
      "application/vnd.jupyter.widget-view+json": {
       "model_id": "1da13156112c447597cae67a1f22084f",
       "version_major": 2,
       "version_minor": 0
      },
      "text/plain": [
       "HBox(children=(IntProgress(value=0, max=2), HTML(value='')))"
      ]
     },
     "metadata": {},
     "output_type": "display_data"
    },
    {
     "name": "stdout",
     "output_type": "stream",
     "text": [
      "\n",
      "[2020-09-08 10:30:54,450][MainProcess][__main__][INFO] NLLLoss: 5.620\n",
      "[2020-09-08 10:30:54,516][MainProcess][lib.metrics.accuracy][INFO] Accuracy: 0.0 [0 of 8192]\n",
      "––––––––––––––––––––––––––––––––––––––––––––––––––––––––––––––––––––––––––––––––––––––––––––––––––––\n",
      "[2020-09-08 10:30:54,523][MainProcess][__main__][INFO] Epoch: 23\n",
      "[2020-09-08 10:30:54,524][MainProcess][__main__][INFO] Training...\n"
     ]
    },
    {
     "data": {
      "application/vnd.jupyter.widget-view+json": {
       "model_id": "3fa47fdd0d1c41cda7c45a27ca11e0ca",
       "version_major": 2,
       "version_minor": 0
      },
      "text/plain": [
       "HBox(children=(IntProgress(value=0, max=2371), HTML(value='')))"
      ]
     },
     "metadata": {},
     "output_type": "display_data"
    },
    {
     "name": "stdout",
     "output_type": "stream",
     "text": [
      "\n",
      "[2020-09-08 10:31:07,542][MainProcess][lib.checkpoint][INFO] Saving checkpoint: ../../experiments/relation_classifier.09_08_10:23:25/369.pt\n"
     ]
    },
    {
     "data": {
      "application/vnd.jupyter.widget-view+json": {
       "model_id": "8245e8119ad147ca83a536e2993f0c93",
       "version_major": 2,
       "version_minor": 0
      },
      "text/plain": [
       "HBox(children=(IntProgress(value=0, max=2), HTML(value='')))"
      ]
     },
     "metadata": {},
     "output_type": "display_data"
    },
    {
     "name": "stdout",
     "output_type": "stream",
     "text": [
      "\n",
      "[2020-09-08 10:31:08,572][MainProcess][__main__][INFO] NLLLoss: 5.620\n",
      "[2020-09-08 10:31:08,641][MainProcess][lib.metrics.accuracy][INFO] Accuracy: 0.0 [0 of 8192]\n",
      "––––––––––––––––––––––––––––––––––––––––––––––––––––––––––––––––––––––––––––––––––––––––––––––––––––\n",
      "[2020-09-08 10:31:08,649][MainProcess][__main__][INFO] Epoch: 24\n",
      "[2020-09-08 10:31:08,650][MainProcess][__main__][INFO] Training...\n"
     ]
    },
    {
     "data": {
      "application/vnd.jupyter.widget-view+json": {
       "model_id": "3a04191965ac4f95b4601a5580b7d31e",
       "version_major": 2,
       "version_minor": 0
      },
      "text/plain": [
       "HBox(children=(IntProgress(value=0, max=2371), HTML(value='')))"
      ]
     },
     "metadata": {},
     "output_type": "display_data"
    },
    {
     "name": "stdout",
     "output_type": "stream",
     "text": [
      "\n",
      "[2020-09-08 10:31:21,502][MainProcess][lib.checkpoint][INFO] Saving checkpoint: ../../experiments/relation_classifier.09_08_10:23:25/383.pt\n"
     ]
    },
    {
     "data": {
      "application/vnd.jupyter.widget-view+json": {
       "model_id": "85210614a0cd4087a27631ee4e851a19",
       "version_major": 2,
       "version_minor": 0
      },
      "text/plain": [
       "HBox(children=(IntProgress(value=0, max=2), HTML(value='')))"
      ]
     },
     "metadata": {},
     "output_type": "display_data"
    },
    {
     "name": "stdout",
     "output_type": "stream",
     "text": [
      "\n",
      "[2020-09-08 10:31:22,545][MainProcess][__main__][INFO] NLLLoss: 5.620\n",
      "[2020-09-08 10:31:22,611][MainProcess][lib.metrics.accuracy][INFO] Accuracy: 0.0 [0 of 8192]\n",
      "––––––––––––––––––––––––––––––––––––––––––––––––––––––––––––––––––––––––––––––––––––––––––––––––––––\n",
      "[2020-09-08 10:31:22,619][MainProcess][__main__][INFO] Epoch: 25\n",
      "[2020-09-08 10:31:22,620][MainProcess][__main__][INFO] Training...\n"
     ]
    },
    {
     "data": {
      "application/vnd.jupyter.widget-view+json": {
       "model_id": "cfb7a0a9ce2e442c91017f77204c37a0",
       "version_major": 2,
       "version_minor": 0
      },
      "text/plain": [
       "HBox(children=(IntProgress(value=0, max=2371), HTML(value='')))"
      ]
     },
     "metadata": {},
     "output_type": "display_data"
    },
    {
     "name": "stdout",
     "output_type": "stream",
     "text": [
      "\n",
      "[2020-09-08 10:31:35,364][MainProcess][lib.checkpoint][INFO] Saving checkpoint: ../../experiments/relation_classifier.09_08_10:23:25/396.pt\n"
     ]
    },
    {
     "data": {
      "application/vnd.jupyter.widget-view+json": {
       "model_id": "7484ab86413c4cfda2fd6cbc4ebb847d",
       "version_major": 2,
       "version_minor": 0
      },
      "text/plain": [
       "HBox(children=(IntProgress(value=0, max=2), HTML(value='')))"
      ]
     },
     "metadata": {},
     "output_type": "display_data"
    },
    {
     "name": "stdout",
     "output_type": "stream",
     "text": [
      "\n",
      "[2020-09-08 10:31:36,340][MainProcess][__main__][INFO] NLLLoss: 5.620\n",
      "[2020-09-08 10:31:36,409][MainProcess][lib.metrics.accuracy][INFO] Accuracy: 0.0 [0 of 8192]\n",
      "––––––––––––––––––––––––––––––––––––––––––––––––––––––––––––––––––––––––––––––––––––––––––––––––––––\n",
      "[2020-09-08 10:31:36,417][MainProcess][__main__][INFO] Epoch: 26\n",
      "[2020-09-08 10:31:36,418][MainProcess][__main__][INFO] Training...\n"
     ]
    },
    {
     "data": {
      "application/vnd.jupyter.widget-view+json": {
       "model_id": "81d256b20895416784fbecb38317230f",
       "version_major": 2,
       "version_minor": 0
      },
      "text/plain": [
       "HBox(children=(IntProgress(value=0, max=2371), HTML(value='')))"
      ]
     },
     "metadata": {},
     "output_type": "display_data"
    },
    {
     "name": "stdout",
     "output_type": "stream",
     "text": [
      "\n",
      "[2020-09-08 10:31:49,205][MainProcess][lib.checkpoint][INFO] Saving checkpoint: ../../experiments/relation_classifier.09_08_10:23:25/410.pt\n"
     ]
    },
    {
     "data": {
      "application/vnd.jupyter.widget-view+json": {
       "model_id": "5f828b4d0bbb4f08b43cf7ae39d2433f",
       "version_major": 2,
       "version_minor": 0
      },
      "text/plain": [
       "HBox(children=(IntProgress(value=0, max=2), HTML(value='')))"
      ]
     },
     "metadata": {},
     "output_type": "display_data"
    },
    {
     "name": "stdout",
     "output_type": "stream",
     "text": [
      "\n",
      "[2020-09-08 10:31:50,216][MainProcess][__main__][INFO] NLLLoss: 5.620\n",
      "[2020-09-08 10:31:50,283][MainProcess][lib.metrics.accuracy][INFO] Accuracy: 0.0 [0 of 8192]\n",
      "––––––––––––––––––––––––––––––––––––––––––––––––––––––––––––––––––––––––––––––––––––––––––––––––––––\n",
      "[2020-09-08 10:31:50,290][MainProcess][__main__][INFO] Epoch: 27\n",
      "[2020-09-08 10:31:50,291][MainProcess][__main__][INFO] Training...\n"
     ]
    },
    {
     "data": {
      "application/vnd.jupyter.widget-view+json": {
       "model_id": "b233e7b9495744519f7b8888fce1881c",
       "version_major": 2,
       "version_minor": 0
      },
      "text/plain": [
       "HBox(children=(IntProgress(value=0, max=2371), HTML(value='')))"
      ]
     },
     "metadata": {},
     "output_type": "display_data"
    },
    {
     "name": "stdout",
     "output_type": "stream",
     "text": [
      "\n",
      "[2020-09-08 10:32:03,174][MainProcess][lib.checkpoint][INFO] Saving checkpoint: ../../experiments/relation_classifier.09_08_10:23:25/424.pt\n"
     ]
    },
    {
     "data": {
      "application/vnd.jupyter.widget-view+json": {
       "model_id": "7536de1239e74a0c802b2826f1ac2c6f",
       "version_major": 2,
       "version_minor": 0
      },
      "text/plain": [
       "HBox(children=(IntProgress(value=0, max=2), HTML(value='')))"
      ]
     },
     "metadata": {},
     "output_type": "display_data"
    },
    {
     "name": "stdout",
     "output_type": "stream",
     "text": [
      "\n",
      "[2020-09-08 10:32:04,136][MainProcess][__main__][INFO] NLLLoss: 5.620\n",
      "[2020-09-08 10:32:04,206][MainProcess][lib.metrics.accuracy][INFO] Accuracy: 0.0 [0 of 8192]\n",
      "––––––––––––––––––––––––––––––––––––––––––––––––––––––––––––––––––––––––––––––––––––––––––––––––––––\n",
      "[2020-09-08 10:32:04,214][MainProcess][__main__][INFO] Epoch: 28\n",
      "[2020-09-08 10:32:04,215][MainProcess][__main__][INFO] Training...\n"
     ]
    },
    {
     "data": {
      "application/vnd.jupyter.widget-view+json": {
       "model_id": "471cb94fec5e4ebd8050e54821dd8d60",
       "version_major": 2,
       "version_minor": 0
      },
      "text/plain": [
       "HBox(children=(IntProgress(value=0, max=2371), HTML(value='')))"
      ]
     },
     "metadata": {},
     "output_type": "display_data"
    },
    {
     "name": "stdout",
     "output_type": "stream",
     "text": [
      "\n",
      "[2020-09-08 10:32:17,754][MainProcess][lib.checkpoint][INFO] Saving checkpoint: ../../experiments/relation_classifier.09_08_10:23:25/439.pt\n"
     ]
    },
    {
     "data": {
      "application/vnd.jupyter.widget-view+json": {
       "model_id": "e2e508eb1d034de590afe4cc9d84708b",
       "version_major": 2,
       "version_minor": 0
      },
      "text/plain": [
       "HBox(children=(IntProgress(value=0, max=2), HTML(value='')))"
      ]
     },
     "metadata": {},
     "output_type": "display_data"
    },
    {
     "name": "stdout",
     "output_type": "stream",
     "text": [
      "\n",
      "[2020-09-08 10:32:19,777][MainProcess][__main__][INFO] NLLLoss: 5.620\n",
      "[2020-09-08 10:32:19,845][MainProcess][lib.metrics.accuracy][INFO] Accuracy: 0.0 [0 of 8192]\n",
      "––––––––––––––––––––––––––––––––––––––––––––––––––––––––––––––––––––––––––––––––––––––––––––––––––––\n",
      "[2020-09-08 10:32:19,852][MainProcess][__main__][INFO] Epoch: 29\n",
      "[2020-09-08 10:32:19,853][MainProcess][__main__][INFO] Training...\n"
     ]
    },
    {
     "data": {
      "application/vnd.jupyter.widget-view+json": {
       "model_id": "c2c7e91904d646a3bdd82874eaa57d64",
       "version_major": 2,
       "version_minor": 0
      },
      "text/plain": [
       "HBox(children=(IntProgress(value=0, max=2371), HTML(value='')))"
      ]
     },
     "metadata": {},
     "output_type": "display_data"
    },
    {
     "name": "stdout",
     "output_type": "stream",
     "text": [
      "\n",
      "[2020-09-08 10:32:32,607][MainProcess][lib.checkpoint][INFO] Saving checkpoint: ../../experiments/relation_classifier.09_08_10:23:25/454.pt\n"
     ]
    },
    {
     "data": {
      "application/vnd.jupyter.widget-view+json": {
       "model_id": "a328e4fd025f49d681e67dbb3eb6266a",
       "version_major": 2,
       "version_minor": 0
      },
      "text/plain": [
       "HBox(children=(IntProgress(value=0, max=2), HTML(value='')))"
      ]
     },
     "metadata": {},
     "output_type": "display_data"
    },
    {
     "name": "stdout",
     "output_type": "stream",
     "text": [
      "\n",
      "[2020-09-08 10:32:33,575][MainProcess][__main__][INFO] NLLLoss: 5.620\n",
      "[2020-09-08 10:32:33,641][MainProcess][lib.metrics.accuracy][INFO] Accuracy: 0.0 [0 of 8192]\n",
      "––––––––––––––––––––––––––––––––––––––––––––––––––––––––––––––––––––––––––––––––––––––––––––––––––––\n"
     ]
    },
    {
     "data": {
      "text/plain": [
       "(-0.0, '../../experiments/relation_classifier.09_08_10:23:25/454.pt')"
      ]
     },
     "execution_count": 16,
     "metadata": {},
     "output_type": "execute_result"
    }
   ],
   "source": [
    "train()"
   ]
  },
  {
   "cell_type": "markdown",
   "metadata": {},
   "source": [
    "## Hyperparameter Optimization"
   ]
  },
  {
   "cell_type": "code",
   "execution_count": 17,
   "metadata": {},
   "outputs": [
    {
     "name": "stderr",
     "output_type": "stream",
     "text": [
      "\r",
      "  0%|          | 0/1000.0 [00:00<?, ?it/s]"
     ]
    },
    {
     "name": "stdout",
     "output_type": "stream",
     "text": [
      "[2020-09-08 10:32:33,717][MainProcess][lib.configurable][INFO] Checking configuration...\n",
      "[2020-09-08 10:32:33,718][MainProcess][lib.configurable][INFO] Configuration checked.\n",
      "[2020-09-08 10:32:33,720][MainProcess][lib.configurable][INFO] seq_to_label.SeqToLabel.__init__ was configured with:\n",
      "{   'bidirectional': True,\n",
      "    'decode_dropout': 0.41230325152559233,\n",
      "    'embedding_dropout': 0.6666982230753765,\n",
      "    'embedding_size': 300,\n",
      "    'freeze_embeddings': False,\n",
      "    'input_vocab_size': 6899,\n",
      "    'output_vocab_size': 1703,\n",
      "    'rnn_cell': 'lstm',\n",
      "    'rnn_dropout': 0.5962496209017711,\n",
      "    'rnn_layers': 2,\n",
      "    'rnn_size': 170,\n",
      "    'rnn_variational_dropout': 0.055735979776073}\n",
      "[2020-09-08 10:32:33,721][MainProcess][lib.configurable][INFO] seq_encoder.SeqEncoder.__init__ no config for: lib.nn.seq_encoder.SeqEncoder.__init__\n",
      "[2020-09-08 10:32:33,723][MainProcess][lib.configurable][INFO] seq_encoder.SeqEncoder.__init__ was configured with:\n",
      "{   'bidirectional': True,\n",
      "    'embedding_dropout': 0.6666982230753765,\n",
      "    'embedding_size': 300,\n",
      "    'freeze_embeddings': False,\n",
      "    'n_layers': 2,\n",
      "    'rnn_cell': 'lstm',\n",
      "    'rnn_dropout': 0.5962496209017711,\n",
      "    'rnn_size': 170,\n",
      "    'rnn_variational_dropout': 0.055735979776073,\n",
      "    'vocab_size': 6899}\n",
      "[2020-09-08 10:32:33,770][MainProcess][lib.configurable][INFO] adam.Adam.__init__ was configured with:\n",
      "{'amsgrad': True, 'params': <filter object at 0x7f89660f8630>}\n",
      "[2020-09-08 10:32:33,771][MainProcess][lib.configurable][INFO] optimizer.Optimizer.__init__ was configured with:\n",
      "{   'max_grad_norm': 3.652288464453354,\n",
      "    'optim': Adam (\n",
      "Parameter Group 0\n",
      "    amsgrad: True\n",
      "    betas: (0.9, 0.999)\n",
      "    eps: 1e-08\n",
      "    lr: 0.001\n",
      "    weight_decay: 0\n",
      ")}\n",
      "[2020-09-08 10:32:33,772][MainProcess][__main__][INFO] Epochs: 1\n",
      "[2020-09-08 10:32:33,773][MainProcess][__main__][INFO] Train Dataset Size: 75900\n",
      "[2020-09-08 10:32:33,775][MainProcess][__main__][INFO] Dev Dataset Size: 10845\n",
      "[2020-09-08 10:32:33,777][MainProcess][__main__][INFO] Train Batch Size: 32\n",
      "[2020-09-08 10:32:33,778][MainProcess][__main__][INFO] Train Max Batch Size: 1024\n",
      "[2020-09-08 10:32:33,779][MainProcess][__main__][INFO] Total Parameters: 2828243\n",
      "[2020-09-08 10:32:33,779][MainProcess][__main__][INFO] Model:\n",
      "SeqToLabel(\n",
      "  (encoder): SeqEncoder(\n",
      "    (embedding): Embedding(6899, 300, padding_idx=0)\n",
      "    (rnn): LSTM(300, 85, num_layers=2, dropout=0.055735979776073, bidirectional=True)\n",
      "    (rnn_dropout): LockedDropout(p=0.5962496209017711)\n",
      "    (embedding_dropout): Dropout(p=0.6666982230753765)\n",
      "  )\n",
      "  (out): Sequential(\n",
      "    (0): Linear(in_features=170, out_features=170, bias=True)\n",
      "    (1): BatchNorm1d(170, eps=1e-05, momentum=0.1, affine=True, track_running_stats=True)\n",
      "    (2): ReLU()\n",
      "    (3): Dropout(p=0.41230325152559233)\n",
      "    (4): Linear(in_features=170, out_features=1703, bias=True)\n",
      "  )\n",
      ")\n",
      "[2020-09-08 10:32:33,780][MainProcess][__main__][INFO] Epoch: 0\n",
      "[2020-09-08 10:32:33,781][MainProcess][__main__][INFO] Training...\n"
     ]
    },
    {
     "data": {
      "application/vnd.jupyter.widget-view+json": {
       "model_id": "2c968c6a7d0b441080395b600118f326",
       "version_major": 2,
       "version_minor": 0
      },
      "text/plain": [
       "HBox(children=(IntProgress(value=0, max=2371), HTML(value='')))"
      ]
     },
     "metadata": {},
     "output_type": "display_data"
    },
    {
     "name": "stderr",
     "output_type": "stream",
     "text": [
      "../../lib/optimizer.py:38: UserWarning: torch.nn.utils.clip_grad_norm is now deprecated in favor of torch.nn.utils.clip_grad_norm_.\n",
      "  torch.nn.utils.clip_grad_norm(params, self.max_grad_norm)\n"
     ]
    },
    {
     "name": "stdout",
     "output_type": "stream",
     "text": [
      "\n",
      "[2020-09-08 10:32:56,268][MainProcess][lib.checkpoint][INFO] Saving checkpoint: ../../experiments/relation_classifier.09_08_10:23:25/477.pt\n"
     ]
    },
    {
     "data": {
      "application/vnd.jupyter.widget-view+json": {
       "model_id": "6adac5c904e04965a747d89124a7f9c1",
       "version_major": 2,
       "version_minor": 0
      },
      "text/plain": [
       "HBox(children=(IntProgress(value=0, max=2), HTML(value='')))"
      ]
     },
     "metadata": {},
     "output_type": "display_data"
    },
    {
     "name": "stdout",
     "output_type": "stream",
     "text": [
      "\n",
      "[2020-09-08 10:32:57,492][MainProcess][__main__][INFO] NLLLoss: 5.620\n"
     ]
    },
    {
     "name": "stderr",
     "output_type": "stream",
     "text": [
      "/mount/arbeitsdaten46/projekte/dialog-1/kanjurva/Simple-QA-EMNLP-2018/env/lib/python3.6/site-packages/ipykernel_launcher.py:12: UserWarning: volatile was removed and now has no effect. Use `with torch.no_grad():` instead.\n",
      "  if sys.path[0] == '':\n",
      "/mount/arbeitsdaten46/projekte/dialog-1/kanjurva/Simple-QA-EMNLP-2018/env/lib/python3.6/site-packages/ipykernel_launcher.py:15: UserWarning: volatile was removed and now has no effect. Use `with torch.no_grad():` instead.\n",
      "  from ipykernel import kernelapp as app\n",
      "/mount/arbeitsdaten46/projekte/dialog-1/kanjurva/Simple-QA-EMNLP-2018/env/lib/python3.6/site-packages/ipykernel_launcher.py:15: UserWarning: invalid index of a 0-dim tensor. This will be an error in PyTorch 0.5. Use tensor.item() to convert a 0-dim tensor to a Python number\n",
      "  from ipykernel import kernelapp as app\n"
     ]
    },
    {
     "name": "stdout",
     "output_type": "stream",
     "text": [
      "[2020-09-08 10:32:57,562][MainProcess][lib.metrics.accuracy][INFO] Accuracy: 0.0 [0 of 8192]\n"
     ]
    },
    {
     "name": "stderr",
     "output_type": "stream",
     "text": [
      "  0%|          | 1.1111111111111112/1000.0 [00:23<5:58:07, 21.51s/it, min_score=-0, models_evaluated=0]"
     ]
    },
    {
     "name": "stdout",
     "output_type": "stream",
     "text": [
      "––––––––––––––––––––––––––––––––––––––––––––––––––––––––––––––––––––––––––––––––––––––––––––––––––––\n",
      "====================================================================================================\n",
      "[2020-09-08 10:32:57,617][MainProcess][lib.configurable][INFO] Checking configuration...\n",
      "[2020-09-08 10:32:57,618][MainProcess][lib.configurable][INFO] Configuration checked.\n",
      "[2020-09-08 10:32:57,620][MainProcess][lib.configurable][INFO] seq_to_label.SeqToLabel.__init__ was configured with:\n",
      "{   'bidirectional': False,\n",
      "    'decode_dropout': 0.455411047482091,\n",
      "    'embedding_dropout': 0.6697370349574399,\n",
      "    'embedding_size': 300,\n",
      "    'freeze_embeddings': True,\n",
      "    'input_vocab_size': 6899,\n",
      "    'output_vocab_size': 1703,\n",
      "    'rnn_cell': 'lstm',\n",
      "    'rnn_dropout': 0.772249782981812,\n",
      "    'rnn_layers': 2,\n",
      "    'rnn_size': 282,\n",
      "    'rnn_variational_dropout': 0.7062204135570732}\n",
      "[2020-09-08 10:32:57,621][MainProcess][lib.configurable][INFO] seq_encoder.SeqEncoder.__init__ no config for: lib.nn.seq_encoder.SeqEncoder.__init__\n",
      "[2020-09-08 10:32:57,622][MainProcess][lib.configurable][INFO] seq_encoder.SeqEncoder.__init__ was configured with:\n",
      "{   'bidirectional': False,\n",
      "    'embedding_dropout': 0.6697370349574399,\n",
      "    'embedding_size': 300,\n",
      "    'freeze_embeddings': True,\n",
      "    'n_layers': 2,\n",
      "    'rnn_cell': 'lstm',\n",
      "    'rnn_dropout': 0.772249782981812,\n",
      "    'rnn_size': 282,\n",
      "    'rnn_variational_dropout': 0.7062204135570732,\n",
      "    'vocab_size': 6899}\n",
      "[2020-09-08 10:32:57,729][MainProcess][lib.configurable][INFO] adam.Adam.__init__ was configured with:\n",
      "{'amsgrad': True, 'params': <filter object at 0x7f89769a5898>}\n",
      "[2020-09-08 10:32:57,730][MainProcess][lib.configurable][INFO] optimizer.Optimizer.__init__ was configured with:\n",
      "{   'max_grad_norm': 2.2694077275794435,\n",
      "    'optim': Adam (\n",
      "Parameter Group 0\n",
      "    amsgrad: True\n",
      "    betas: (0.9, 0.999)\n",
      "    eps: 1e-08\n",
      "    lr: 0.001\n",
      "    weight_decay: 0\n",
      ")}\n",
      "[2020-09-08 10:32:57,731][MainProcess][__main__][INFO] Epochs: 1\n",
      "[2020-09-08 10:32:57,732][MainProcess][__main__][INFO] Train Dataset Size: 75900\n",
      "[2020-09-08 10:32:57,733][MainProcess][__main__][INFO] Dev Dataset Size: 10845\n",
      "[2020-09-08 10:32:57,734][MainProcess][__main__][INFO] Train Batch Size: 32\n",
      "[2020-09-08 10:32:57,734][MainProcess][__main__][INFO] Train Max Batch Size: 1024\n",
      "[2020-09-08 10:32:57,735][MainProcess][__main__][INFO] Total Parameters: 1859519\n",
      "[2020-09-08 10:32:57,736][MainProcess][__main__][INFO] Model:\n",
      "SeqToLabel(\n",
      "  (encoder): SeqEncoder(\n",
      "    (embedding): Embedding(6899, 300, padding_idx=0)\n",
      "    (rnn): LSTM(300, 282, num_layers=2, dropout=0.7062204135570732)\n",
      "    (rnn_dropout): LockedDropout(p=0.772249782981812)\n",
      "    (embedding_dropout): Dropout(p=0.6697370349574399)\n",
      "  )\n",
      "  (out): Sequential(\n",
      "    (0): Linear(in_features=282, out_features=282, bias=True)\n",
      "    (1): BatchNorm1d(282, eps=1e-05, momentum=0.1, affine=True, track_running_stats=True)\n",
      "    (2): ReLU()\n",
      "    (3): Dropout(p=0.455411047482091)\n",
      "    (4): Linear(in_features=282, out_features=1703, bias=True)\n",
      "  )\n",
      ")\n",
      "[2020-09-08 10:32:57,743][MainProcess][__main__][INFO] Epoch: 0\n",
      "[2020-09-08 10:32:57,745][MainProcess][__main__][INFO] Training...\n"
     ]
    },
    {
     "data": {
      "application/vnd.jupyter.widget-view+json": {
       "model_id": "71283cb58a2a425496f48207334659a9",
       "version_major": 2,
       "version_minor": 0
      },
      "text/plain": [
       "HBox(children=(IntProgress(value=0, max=2371), HTML(value='')))"
      ]
     },
     "metadata": {},
     "output_type": "display_data"
    },
    {
     "name": "stdout",
     "output_type": "stream",
     "text": [
      "\n",
      "[2020-09-08 10:33:13,774][MainProcess][lib.checkpoint][INFO] Saving checkpoint: ../../experiments/relation_classifier.09_08_10:23:25/495.pt\n"
     ]
    },
    {
     "data": {
      "application/vnd.jupyter.widget-view+json": {
       "model_id": "8272db0a6d3b485d9b9a39c18802af0f",
       "version_major": 2,
       "version_minor": 0
      },
      "text/plain": [
       "HBox(children=(IntProgress(value=0, max=2), HTML(value='')))"
      ]
     },
     "metadata": {},
     "output_type": "display_data"
    },
    {
     "name": "stdout",
     "output_type": "stream",
     "text": [
      "\n",
      "[2020-09-08 10:33:14,863][MainProcess][__main__][INFO] NLLLoss: 5.620\n",
      "[2020-09-08 10:33:14,931][MainProcess][lib.metrics.accuracy][INFO] Accuracy: 0.0 [0 of 8192]\n"
     ]
    },
    {
     "name": "stderr",
     "output_type": "stream",
     "text": [
      "\r",
      "  0%|          | 2.2222222222222223/1000.0 [00:41<5:28:20, 19.74s/it, min_score=-0, models_evaluated=0]"
     ]
    },
    {
     "name": "stdout",
     "output_type": "stream",
     "text": [
      "––––––––––––––––––––––––––––––––––––––––––––––––––––––––––––––––––––––––––––––––––––––––––––––––––––\n",
      "====================================================================================================\n",
      "[2020-09-08 10:33:14,974][MainProcess][lib.configurable][INFO] Checking configuration...\n",
      "[2020-09-08 10:33:14,975][MainProcess][lib.configurable][INFO] Configuration checked.\n",
      "[2020-09-08 10:33:14,976][MainProcess][lib.configurable][INFO] seq_to_label.SeqToLabel.__init__ was configured with:\n",
      "{   'bidirectional': False,\n",
      "    'decode_dropout': 0.6122797691749841,\n",
      "    'embedding_dropout': 0.7776369838735779,\n",
      "    'embedding_size': 300,\n",
      "    'freeze_embeddings': False,\n",
      "    'input_vocab_size': 6899,\n",
      "    'output_vocab_size': 1703,\n",
      "    'rnn_cell': 'gru',\n",
      "    'rnn_dropout': 0.27173212259680507,\n",
      "    'rnn_layers': 2,\n",
      "    'rnn_size': 462,\n",
      "    'rnn_variational_dropout': 0.5595093230536727}\n",
      "[2020-09-08 10:33:14,977][MainProcess][lib.configurable][INFO] seq_encoder.SeqEncoder.__init__ no config for: lib.nn.seq_encoder.SeqEncoder.__init__\n",
      "[2020-09-08 10:33:14,978][MainProcess][lib.configurable][INFO] seq_encoder.SeqEncoder.__init__ was configured with:\n",
      "{   'bidirectional': False,\n",
      "    'embedding_dropout': 0.7776369838735779,\n",
      "    'embedding_size': 300,\n",
      "    'freeze_embeddings': False,\n",
      "    'n_layers': 2,\n",
      "    'rnn_cell': 'gru',\n",
      "    'rnn_dropout': 0.27173212259680507,\n",
      "    'rnn_size': 462,\n",
      "    'rnn_variational_dropout': 0.5595093230536727,\n",
      "    'vocab_size': 6899}\n",
      "[2020-09-08 10:33:15,063][MainProcess][lib.configurable][INFO] adam.Adam.__init__ was configured with:\n",
      "{'amsgrad': True, 'params': <filter object at 0x7f89769a5710>}\n",
      "[2020-09-08 10:33:15,064][MainProcess][lib.configurable][INFO] optimizer.Optimizer.__init__ was configured with:\n",
      "{   'max_grad_norm': 0.34998865274778307,\n",
      "    'optim': Adam (\n",
      "Parameter Group 0\n",
      "    amsgrad: True\n",
      "    betas: (0.9, 0.999)\n",
      "    eps: 1e-08\n",
      "    lr: 0.001\n",
      "    weight_decay: 0\n",
      ")}\n",
      "[2020-09-08 10:33:15,065][MainProcess][__main__][INFO] Epochs: 1\n",
      "[2020-09-08 10:33:15,066][MainProcess][__main__][INFO] Train Dataset Size: 75900\n",
      "[2020-09-08 10:33:15,067][MainProcess][__main__][INFO] Dev Dataset Size: 10845\n",
      "[2020-09-08 10:33:15,068][MainProcess][__main__][INFO] Train Batch Size: 32\n",
      "[2020-09-08 10:33:15,069][MainProcess][__main__][INFO] Train Max Batch Size: 1024\n",
      "[2020-09-08 10:33:15,070][MainProcess][__main__][INFO] Total Parameters: 5415359\n",
      "[2020-09-08 10:33:15,071][MainProcess][__main__][INFO] Model:\n",
      "SeqToLabel(\n",
      "  (encoder): SeqEncoder(\n",
      "    (embedding): Embedding(6899, 300, padding_idx=0)\n",
      "    (rnn): GRU(300, 462, num_layers=2, dropout=0.5595093230536727)\n",
      "    (rnn_dropout): LockedDropout(p=0.27173212259680507)\n",
      "    (embedding_dropout): Dropout(p=0.7776369838735779)\n",
      "  )\n",
      "  (out): Sequential(\n",
      "    (0): Linear(in_features=462, out_features=462, bias=True)\n",
      "    (1): BatchNorm1d(462, eps=1e-05, momentum=0.1, affine=True, track_running_stats=True)\n",
      "    (2): ReLU()\n",
      "    (3): Dropout(p=0.6122797691749841)\n",
      "    (4): Linear(in_features=462, out_features=1703, bias=True)\n",
      "  )\n",
      ")\n",
      "[2020-09-08 10:33:15,072][MainProcess][__main__][INFO] Epoch: 0\n",
      "[2020-09-08 10:33:15,072][MainProcess][__main__][INFO] Training...\n"
     ]
    },
    {
     "data": {
      "application/vnd.jupyter.widget-view+json": {
       "model_id": "2eb3de4761e74d148a85c10f0a97f229",
       "version_major": 2,
       "version_minor": 0
      },
      "text/plain": [
       "HBox(children=(IntProgress(value=0, max=2371), HTML(value='')))"
      ]
     },
     "metadata": {},
     "output_type": "display_data"
    },
    {
     "name": "stdout",
     "output_type": "stream",
     "text": [
      "\n",
      "[2020-09-08 10:33:33,855][MainProcess][lib.checkpoint][INFO] Saving checkpoint: ../../experiments/relation_classifier.09_08_10:23:25/515.pt\n"
     ]
    },
    {
     "data": {
      "application/vnd.jupyter.widget-view+json": {
       "model_id": "7baef19f938f4d1d8faba4cc63bb4158",
       "version_major": 2,
       "version_minor": 0
      },
      "text/plain": [
       "HBox(children=(IntProgress(value=0, max=2), HTML(value='')))"
      ]
     },
     "metadata": {},
     "output_type": "display_data"
    },
    {
     "name": "stdout",
     "output_type": "stream",
     "text": [
      "\n",
      "[2020-09-08 10:33:35,824][MainProcess][__main__][INFO] NLLLoss: 5.620\n",
      "[2020-09-08 10:33:35,893][MainProcess][lib.metrics.accuracy][INFO] Accuracy: 0.0 [0 of 8192]\n"
     ]
    },
    {
     "name": "stderr",
     "output_type": "stream",
     "text": [
      "\r",
      "  0%|          | 3.3333333333333335/1000.0 [01:02<5:23:39, 19.48s/it, min_score=-0, models_evaluated=0]"
     ]
    },
    {
     "name": "stdout",
     "output_type": "stream",
     "text": [
      "––––––––––––––––––––––––––––––––––––––––––––––––––––––––––––––––––––––––––––––––––––––––––––––––––––\n",
      "====================================================================================================\n",
      "[2020-09-08 10:33:35,948][MainProcess][lib.configurable][INFO] Checking configuration...\n",
      "[2020-09-08 10:33:35,950][MainProcess][lib.configurable][INFO] Configuration checked.\n",
      "[2020-09-08 10:33:35,951][MainProcess][lib.configurable][INFO] seq_to_label.SeqToLabel.__init__ was configured with:\n",
      "{   'bidirectional': True,\n",
      "    'decode_dropout': 0.574921817957778,\n",
      "    'embedding_dropout': 0.2757762415117202,\n",
      "    'embedding_size': 300,\n",
      "    'freeze_embeddings': True,\n",
      "    'input_vocab_size': 6899,\n",
      "    'output_vocab_size': 1703,\n",
      "    'rnn_cell': 'gru',\n",
      "    'rnn_dropout': 0.22152418915430605,\n",
      "    'rnn_layers': 2,\n",
      "    'rnn_size': 260,\n",
      "    'rnn_variational_dropout': 0.08025112723127079}\n",
      "[2020-09-08 10:33:35,952][MainProcess][lib.configurable][INFO] seq_encoder.SeqEncoder.__init__ no config for: lib.nn.seq_encoder.SeqEncoder.__init__\n",
      "[2020-09-08 10:33:35,953][MainProcess][lib.configurable][INFO] seq_encoder.SeqEncoder.__init__ was configured with:\n",
      "{   'bidirectional': True,\n",
      "    'embedding_dropout': 0.2757762415117202,\n",
      "    'embedding_size': 300,\n",
      "    'freeze_embeddings': True,\n",
      "    'n_layers': 2,\n",
      "    'rnn_cell': 'gru',\n",
      "    'rnn_dropout': 0.22152418915430605,\n",
      "    'rnn_size': 260,\n",
      "    'rnn_variational_dropout': 0.08025112723127079,\n",
      "    'vocab_size': 6899}\n",
      "[2020-09-08 10:33:36,006][MainProcess][lib.configurable][INFO] adam.Adam.__init__ was configured with:\n",
      "{'amsgrad': True, 'params': <filter object at 0x7f8970d4f400>}\n",
      "[2020-09-08 10:33:36,007][MainProcess][lib.configurable][INFO] optimizer.Optimizer.__init__ was configured with:\n",
      "{   'max_grad_norm': 0.3785979350023739,\n",
      "    'optim': Adam (\n",
      "Parameter Group 0\n",
      "    amsgrad: True\n",
      "    betas: (0.9, 0.999)\n",
      "    eps: 1e-08\n",
      "    lr: 0.001\n",
      "    weight_decay: 0\n",
      ")}\n",
      "[2020-09-08 10:33:36,008][MainProcess][__main__][INFO] Epochs: 1\n",
      "[2020-09-08 10:33:36,009][MainProcess][__main__][INFO] Train Dataset Size: 75900\n",
      "[2020-09-08 10:33:36,010][MainProcess][__main__][INFO] Dev Dataset Size: 10845\n",
      "[2020-09-08 10:33:36,010][MainProcess][__main__][INFO] Train Batch Size: 32\n",
      "[2020-09-08 10:33:36,011][MainProcess][__main__][INFO] Train Max Batch Size: 1024\n",
      "[2020-09-08 10:33:36,012][MainProcess][__main__][INFO] Total Parameters: 1155583\n",
      "[2020-09-08 10:33:36,013][MainProcess][__main__][INFO] Model:\n",
      "SeqToLabel(\n",
      "  (encoder): SeqEncoder(\n",
      "    (embedding): Embedding(6899, 300, padding_idx=0)\n",
      "    (rnn): GRU(300, 130, num_layers=2, dropout=0.08025112723127079, bidirectional=True)\n",
      "    (rnn_dropout): LockedDropout(p=0.22152418915430605)\n",
      "    (embedding_dropout): Dropout(p=0.2757762415117202)\n",
      "  )\n",
      "  (out): Sequential(\n",
      "    (0): Linear(in_features=260, out_features=260, bias=True)\n",
      "    (1): BatchNorm1d(260, eps=1e-05, momentum=0.1, affine=True, track_running_stats=True)\n",
      "    (2): ReLU()\n",
      "    (3): Dropout(p=0.574921817957778)\n",
      "    (4): Linear(in_features=260, out_features=1703, bias=True)\n",
      "  )\n",
      ")\n",
      "[2020-09-08 10:33:36,014][MainProcess][__main__][INFO] Epoch: 0\n",
      "[2020-09-08 10:33:36,015][MainProcess][__main__][INFO] Training...\n"
     ]
    },
    {
     "data": {
      "application/vnd.jupyter.widget-view+json": {
       "model_id": "fe6c3f8903a3463085f55d377debffcb",
       "version_major": 2,
       "version_minor": 0
      },
      "text/plain": [
       "HBox(children=(IntProgress(value=0, max=2371), HTML(value='')))"
      ]
     },
     "metadata": {},
     "output_type": "display_data"
    },
    {
     "name": "stdout",
     "output_type": "stream",
     "text": [
      "\n",
      "[2020-09-08 10:33:57,179][MainProcess][lib.checkpoint][INFO] Saving checkpoint: ../../experiments/relation_classifier.09_08_10:23:25/538.pt\n"
     ]
    },
    {
     "data": {
      "application/vnd.jupyter.widget-view+json": {
       "model_id": "473482b0aaf7464198761a3b5033cbfa",
       "version_major": 2,
       "version_minor": 0
      },
      "text/plain": [
       "HBox(children=(IntProgress(value=0, max=2), HTML(value='')))"
      ]
     },
     "metadata": {},
     "output_type": "display_data"
    },
    {
     "name": "stdout",
     "output_type": "stream",
     "text": [
      "\n",
      "[2020-09-08 10:33:58,006][MainProcess][__main__][INFO] NLLLoss: 5.620\n",
      "[2020-09-08 10:33:58,074][MainProcess][lib.metrics.accuracy][INFO] Accuracy: 0.0 [0 of 8192]\n"
     ]
    },
    {
     "name": "stderr",
     "output_type": "stream",
     "text": [
      "\r",
      "  0%|          | 4.444444444444445/1000.0 [01:24<5:25:35, 19.62s/it, min_score=-0, models_evaluated=0] "
     ]
    },
    {
     "name": "stdout",
     "output_type": "stream",
     "text": [
      "––––––––––––––––––––––––––––––––––––––––––––––––––––––––––––––––––––––––––––––––––––––––––––––––––––\n",
      "====================================================================================================\n",
      "[2020-09-08 10:33:58,110][MainProcess][lib.configurable][INFO] Checking configuration...\n",
      "[2020-09-08 10:33:58,112][MainProcess][lib.configurable][INFO] Configuration checked.\n",
      "[2020-09-08 10:33:58,113][MainProcess][lib.configurable][INFO] seq_to_label.SeqToLabel.__init__ was configured with:\n",
      "{   'bidirectional': True,\n",
      "    'decode_dropout': 0.8036857464746061,\n",
      "    'embedding_dropout': 0.5448478725311474,\n",
      "    'embedding_size': 300,\n",
      "    'freeze_embeddings': True,\n",
      "    'input_vocab_size': 6899,\n",
      "    'output_vocab_size': 1703,\n",
      "    'rnn_cell': 'lstm',\n",
      "    'rnn_dropout': 0.41759254601919227,\n",
      "    'rnn_layers': 1,\n",
      "    'rnn_size': 448,\n",
      "    'rnn_variational_dropout': 0.7372527640822159}\n",
      "[2020-09-08 10:33:58,114][MainProcess][lib.configurable][INFO] seq_encoder.SeqEncoder.__init__ no config for: lib.nn.seq_encoder.SeqEncoder.__init__\n",
      "[2020-09-08 10:33:58,115][MainProcess][lib.configurable][INFO] seq_encoder.SeqEncoder.__init__ was configured with:\n",
      "{   'bidirectional': True,\n",
      "    'embedding_dropout': 0.5448478725311474,\n",
      "    'embedding_size': 300,\n",
      "    'freeze_embeddings': True,\n",
      "    'n_layers': 1,\n",
      "    'rnn_cell': 'lstm',\n",
      "    'rnn_dropout': 0.41759254601919227,\n",
      "    'rnn_size': 448,\n",
      "    'rnn_variational_dropout': 0.7372527640822159,\n",
      "    'vocab_size': 6899}\n",
      "[2020-09-08 10:33:58,179][MainProcess][lib.configurable][INFO] adam.Adam.__init__ was configured with:\n",
      "{'amsgrad': True, 'params': <filter object at 0x7f8970d4f208>}\n",
      "[2020-09-08 10:33:58,180][MainProcess][lib.configurable][INFO] optimizer.Optimizer.__init__ was configured with:\n",
      "{   'max_grad_norm': 3.352233602090577,\n",
      "    'optim': Adam (\n",
      "Parameter Group 0\n",
      "    amsgrad: True\n",
      "    betas: (0.9, 0.999)\n",
      "    eps: 1e-08\n",
      "    lr: 0.001\n",
      "    weight_decay: 0\n",
      ")}\n",
      "[2020-09-08 10:33:58,181][MainProcess][__main__][INFO] Epochs: 1\n",
      "[2020-09-08 10:33:58,182][MainProcess][__main__][INFO] Train Dataset Size: 75900\n",
      "[2020-09-08 10:33:58,182][MainProcess][__main__][INFO] Dev Dataset Size: 10845\n",
      "[2020-09-08 10:33:58,183][MainProcess][__main__][INFO] Train Batch Size: 32\n",
      "[2020-09-08 10:33:58,184][MainProcess][__main__][INFO] Train Max Batch Size: 1024\n",
      "[2020-09-08 10:33:58,184][MainProcess][__main__][INFO] Total Parameters: 1909287\n",
      "[2020-09-08 10:33:58,187][MainProcess][__main__][INFO] Model:\n",
      "SeqToLabel(\n",
      "  (encoder): SeqEncoder(\n",
      "    (embedding): Embedding(6899, 300, padding_idx=0)\n",
      "    (rnn): LSTM(300, 224, dropout=0.7372527640822159, bidirectional=True)\n",
      "    (rnn_dropout): LockedDropout(p=0.41759254601919227)\n",
      "    (embedding_dropout): Dropout(p=0.5448478725311474)\n",
      "  )\n",
      "  (out): Sequential(\n",
      "    (0): Linear(in_features=448, out_features=448, bias=True)\n",
      "    (1): BatchNorm1d(448, eps=1e-05, momentum=0.1, affine=True, track_running_stats=True)\n",
      "    (2): ReLU()\n",
      "    (3): Dropout(p=0.8036857464746061)\n",
      "    (4): Linear(in_features=448, out_features=1703, bias=True)\n",
      "  )\n",
      ")\n",
      "[2020-09-08 10:33:58,188][MainProcess][__main__][INFO] Epoch: 0\n",
      "[2020-09-08 10:33:58,188][MainProcess][__main__][INFO] Training...\n"
     ]
    },
    {
     "name": "stderr",
     "output_type": "stream",
     "text": [
      "/mount/arbeitsdaten46/projekte/dialog-1/kanjurva/Simple-QA-EMNLP-2018/env/lib/python3.6/site-packages/torch/nn/modules/rnn.py:38: UserWarning: dropout option adds dropout after all but last recurrent layer, so non-zero dropout expects num_layers greater than 1, but got dropout=0.7372527640822159 and num_layers=1\n",
      "  \"num_layers={}\".format(dropout, num_layers))\n"
     ]
    },
    {
     "data": {
      "application/vnd.jupyter.widget-view+json": {
       "model_id": "724e80cecc6749e4be65a6fb8bf5f249",
       "version_major": 2,
       "version_minor": 0
      },
      "text/plain": [
       "HBox(children=(IntProgress(value=0, max=2371), HTML(value='')))"
      ]
     },
     "metadata": {},
     "output_type": "display_data"
    },
    {
     "name": "stdout",
     "output_type": "stream",
     "text": [
      "\n",
      "[2020-09-08 10:34:14,019][MainProcess][lib.checkpoint][INFO] Saving checkpoint: ../../experiments/relation_classifier.09_08_10:23:25/555.pt\n"
     ]
    },
    {
     "data": {
      "application/vnd.jupyter.widget-view+json": {
       "model_id": "f9fd22b74da94a54bf0f728f8eb79751",
       "version_major": 2,
       "version_minor": 0
      },
      "text/plain": [
       "HBox(children=(IntProgress(value=0, max=2), HTML(value='')))"
      ]
     },
     "metadata": {},
     "output_type": "display_data"
    },
    {
     "name": "stdout",
     "output_type": "stream",
     "text": [
      "\n",
      "[2020-09-08 10:34:15,148][MainProcess][__main__][INFO] NLLLoss: 5.620\n",
      "[2020-09-08 10:34:15,214][MainProcess][lib.metrics.accuracy][INFO] Accuracy: 0.0 [0 of 8192]\n"
     ]
    },
    {
     "name": "stderr",
     "output_type": "stream",
     "text": [
      "\r",
      "  1%|          | 5.555555555555555/1000.0 [01:41<5:04:23, 18.37s/it, min_score=-0, models_evaluated=0]"
     ]
    },
    {
     "name": "stdout",
     "output_type": "stream",
     "text": [
      "––––––––––––––––––––––––––––––––––––––––––––––––––––––––––––––––––––––––––––––––––––––––––––––––––––\n",
      "====================================================================================================\n",
      "[2020-09-08 10:34:15,258][MainProcess][lib.configurable][INFO] Checking configuration...\n",
      "[2020-09-08 10:34:15,259][MainProcess][lib.configurable][INFO] Configuration checked.\n",
      "[2020-09-08 10:34:15,260][MainProcess][lib.configurable][INFO] seq_to_label.SeqToLabel.__init__ was configured with:\n",
      "{   'bidirectional': False,\n",
      "    'decode_dropout': 0.08640946013779281,\n",
      "    'embedding_dropout': 0.3203089949486566,\n",
      "    'embedding_size': 300,\n",
      "    'freeze_embeddings': False,\n",
      "    'input_vocab_size': 6899,\n",
      "    'output_vocab_size': 1703,\n",
      "    'rnn_cell': 'gru',\n",
      "    'rnn_dropout': 0.3009158056581848,\n",
      "    'rnn_layers': 1,\n",
      "    'rnn_size': 326,\n",
      "    'rnn_variational_dropout': 0.4660804513197192}\n",
      "[2020-09-08 10:34:15,261][MainProcess][lib.configurable][INFO] seq_encoder.SeqEncoder.__init__ no config for: lib.nn.seq_encoder.SeqEncoder.__init__\n",
      "[2020-09-08 10:34:15,262][MainProcess][lib.configurable][INFO] seq_encoder.SeqEncoder.__init__ was configured with:\n",
      "{   'bidirectional': False,\n",
      "    'embedding_dropout': 0.3203089949486566,\n",
      "    'embedding_size': 300,\n",
      "    'freeze_embeddings': False,\n",
      "    'n_layers': 1,\n",
      "    'rnn_cell': 'gru',\n",
      "    'rnn_dropout': 0.3009158056581848,\n",
      "    'rnn_size': 326,\n",
      "    'rnn_variational_dropout': 0.4660804513197192,\n",
      "    'vocab_size': 6899}\n",
      "[2020-09-08 10:34:15,335][MainProcess][lib.configurable][INFO] adam.Adam.__init__ was configured with:\n",
      "{'amsgrad': True, 'params': <filter object at 0x7f8970d4f400>}\n",
      "[2020-09-08 10:34:15,336][MainProcess][lib.configurable][INFO] optimizer.Optimizer.__init__ was configured with:\n",
      "{   'max_grad_norm': 3.0192588853360913,\n",
      "    'optim': Adam (\n",
      "Parameter Group 0\n",
      "    amsgrad: True\n",
      "    betas: (0.9, 0.999)\n",
      "    eps: 1e-08\n",
      "    lr: 0.001\n",
      "    weight_decay: 0\n",
      ")}\n",
      "[2020-09-08 10:34:15,337][MainProcess][__main__][INFO] Epochs: 1\n",
      "[2020-09-08 10:34:15,338][MainProcess][__main__][INFO] Train Dataset Size: 75900\n",
      "[2020-09-08 10:34:15,338][MainProcess][__main__][INFO] Dev Dataset Size: 10845\n",
      "[2020-09-08 10:34:15,339][MainProcess][__main__][INFO] Train Batch Size: 32\n",
      "[2020-09-08 10:34:15,340][MainProcess][__main__][INFO] Train Max Batch Size: 1024\n",
      "[2020-09-08 10:34:15,341][MainProcess][__main__][INFO] Total Parameters: 3348019\n",
      "[2020-09-08 10:34:15,342][MainProcess][__main__][INFO] Model:\n",
      "SeqToLabel(\n",
      "  (encoder): SeqEncoder(\n",
      "    (embedding): Embedding(6899, 300, padding_idx=0)\n",
      "    (rnn): GRU(300, 326, dropout=0.4660804513197192)\n",
      "    (rnn_dropout): LockedDropout(p=0.3009158056581848)\n",
      "    (embedding_dropout): Dropout(p=0.3203089949486566)\n",
      "  )\n",
      "  (out): Sequential(\n",
      "    (0): Linear(in_features=326, out_features=326, bias=True)\n",
      "    (1): BatchNorm1d(326, eps=1e-05, momentum=0.1, affine=True, track_running_stats=True)\n",
      "    (2): ReLU()\n",
      "    (3): Dropout(p=0.08640946013779281)\n",
      "    (4): Linear(in_features=326, out_features=1703, bias=True)\n",
      "  )\n",
      ")\n",
      "[2020-09-08 10:34:15,343][MainProcess][__main__][INFO] Epoch: 0\n",
      "[2020-09-08 10:34:15,344][MainProcess][__main__][INFO] Training...\n"
     ]
    },
    {
     "name": "stderr",
     "output_type": "stream",
     "text": [
      "/mount/arbeitsdaten46/projekte/dialog-1/kanjurva/Simple-QA-EMNLP-2018/env/lib/python3.6/site-packages/torch/nn/modules/rnn.py:38: UserWarning: dropout option adds dropout after all but last recurrent layer, so non-zero dropout expects num_layers greater than 1, but got dropout=0.4660804513197192 and num_layers=1\n",
      "  \"num_layers={}\".format(dropout, num_layers))\n"
     ]
    },
    {
     "data": {
      "application/vnd.jupyter.widget-view+json": {
       "model_id": "56cf1752fe7b47d68b2e1c483538cf0a",
       "version_major": 2,
       "version_minor": 0
      },
      "text/plain": [
       "HBox(children=(IntProgress(value=0, max=2371), HTML(value='')))"
      ]
     },
     "metadata": {},
     "output_type": "display_data"
    },
    {
     "name": "stdout",
     "output_type": "stream",
     "text": [
      "\n",
      "[2020-09-08 10:34:28,643][MainProcess][lib.checkpoint][INFO] Saving checkpoint: ../../experiments/relation_classifier.09_08_10:23:25/570.pt\n"
     ]
    },
    {
     "data": {
      "application/vnd.jupyter.widget-view+json": {
       "model_id": "90552d0467364857ac511f1d27f3f66b",
       "version_major": 2,
       "version_minor": 0
      },
      "text/plain": [
       "HBox(children=(IntProgress(value=0, max=2), HTML(value='')))"
      ]
     },
     "metadata": {},
     "output_type": "display_data"
    },
    {
     "name": "stdout",
     "output_type": "stream",
     "text": [
      "\n",
      "[2020-09-08 10:34:30,001][MainProcess][__main__][INFO] NLLLoss: 5.620\n",
      "[2020-09-08 10:34:30,068][MainProcess][lib.metrics.accuracy][INFO] Accuracy: 0.0 [0 of 8192]\n"
     ]
    },
    {
     "name": "stderr",
     "output_type": "stream",
     "text": [
      "\r",
      "  1%|          | 6.666666666666666/1000.0 [01:56<4:39:13, 16.87s/it, min_score=-0, models_evaluated=0]"
     ]
    },
    {
     "name": "stdout",
     "output_type": "stream",
     "text": [
      "––––––––––––––––––––––––––––––––––––––––––––––––––––––––––––––––––––––––––––––––––––––––––––––––––––\n",
      "====================================================================================================\n",
      "[2020-09-08 10:34:30,111][MainProcess][lib.configurable][INFO] Checking configuration...\n",
      "[2020-09-08 10:34:30,112][MainProcess][lib.configurable][INFO] Configuration checked.\n",
      "[2020-09-08 10:34:30,113][MainProcess][lib.configurable][INFO] seq_to_label.SeqToLabel.__init__ was configured with:\n",
      "{   'bidirectional': True,\n",
      "    'decode_dropout': 0.4692320361472132,\n",
      "    'embedding_dropout': 0.019806054552152754,\n",
      "    'embedding_size': 300,\n",
      "    'freeze_embeddings': False,\n",
      "    'input_vocab_size': 6899,\n",
      "    'output_vocab_size': 1703,\n",
      "    'rnn_cell': 'gru',\n",
      "    'rnn_dropout': 0.8628305966429736,\n",
      "    'rnn_layers': 3,\n",
      "    'rnn_size': 418,\n",
      "    'rnn_variational_dropout': 0.5529952973323772}\n",
      "[2020-09-08 10:34:30,114][MainProcess][lib.configurable][INFO] seq_encoder.SeqEncoder.__init__ no config for: lib.nn.seq_encoder.SeqEncoder.__init__\n",
      "[2020-09-08 10:34:30,115][MainProcess][lib.configurable][INFO] seq_encoder.SeqEncoder.__init__ was configured with:\n",
      "{   'bidirectional': True,\n",
      "    'embedding_dropout': 0.019806054552152754,\n",
      "    'embedding_size': 300,\n",
      "    'freeze_embeddings': False,\n",
      "    'n_layers': 3,\n",
      "    'rnn_cell': 'gru',\n",
      "    'rnn_dropout': 0.8628305966429736,\n",
      "    'rnn_size': 418,\n",
      "    'rnn_variational_dropout': 0.5529952973323772,\n",
      "    'vocab_size': 6899}\n",
      "[2020-09-08 10:34:30,197][MainProcess][lib.configurable][INFO] adam.Adam.__init__ was configured with:\n",
      "{'amsgrad': True, 'params': <filter object at 0x7f89769a5fd0>}\n",
      "[2020-09-08 10:34:30,198][MainProcess][lib.configurable][INFO] optimizer.Optimizer.__init__ was configured with:\n",
      "{   'max_grad_norm': 1.8832910375018739,\n",
      "    'optim': Adam (\n",
      "Parameter Group 0\n",
      "    amsgrad: True\n",
      "    betas: (0.9, 0.999)\n",
      "    eps: 1e-08\n",
      "    lr: 0.001\n",
      "    weight_decay: 0\n",
      ")}\n",
      "[2020-09-08 10:34:30,199][MainProcess][__main__][INFO] Epochs: 1\n",
      "[2020-09-08 10:34:30,200][MainProcess][__main__][INFO] Train Dataset Size: 75900\n",
      "[2020-09-08 10:34:30,201][MainProcess][__main__][INFO] Dev Dataset Size: 10845\n",
      "[2020-09-08 10:34:30,202][MainProcess][__main__][INFO] Train Batch Size: 32\n",
      "[2020-09-08 10:34:30,203][MainProcess][__main__][INFO] Train Max Batch Size: 1024\n",
      "[2020-09-08 10:34:30,204][MainProcess][__main__][INFO] Total Parameters: 5177561\n",
      "[2020-09-08 10:34:30,205][MainProcess][__main__][INFO] Model:\n",
      "SeqToLabel(\n",
      "  (encoder): SeqEncoder(\n",
      "    (embedding): Embedding(6899, 300, padding_idx=0)\n",
      "    (rnn): GRU(300, 209, num_layers=3, dropout=0.5529952973323772, bidirectional=True)\n",
      "    (rnn_dropout): LockedDropout(p=0.8628305966429736)\n",
      "    (embedding_dropout): Dropout(p=0.019806054552152754)\n",
      "  )\n",
      "  (out): Sequential(\n",
      "    (0): Linear(in_features=418, out_features=418, bias=True)\n",
      "    (1): BatchNorm1d(418, eps=1e-05, momentum=0.1, affine=True, track_running_stats=True)\n",
      "    (2): ReLU()\n",
      "    (3): Dropout(p=0.4692320361472132)\n",
      "    (4): Linear(in_features=418, out_features=1703, bias=True)\n",
      "  )\n",
      ")\n",
      "[2020-09-08 10:34:30,205][MainProcess][__main__][INFO] Epoch: 0\n",
      "[2020-09-08 10:34:30,206][MainProcess][__main__][INFO] Training...\n"
     ]
    },
    {
     "data": {
      "application/vnd.jupyter.widget-view+json": {
       "model_id": "1043c42f37f845fd824bec245f323b75",
       "version_major": 2,
       "version_minor": 0
      },
      "text/plain": [
       "HBox(children=(IntProgress(value=0, max=2371), HTML(value='')))"
      ]
     },
     "metadata": {},
     "output_type": "display_data"
    },
    {
     "name": "stdout",
     "output_type": "stream",
     "text": [
      "\n",
      "[2020-09-08 10:34:59,791][MainProcess][lib.checkpoint][INFO] Saving checkpoint: ../../experiments/relation_classifier.09_08_10:23:25/601.pt\n"
     ]
    },
    {
     "data": {
      "application/vnd.jupyter.widget-view+json": {
       "model_id": "d73af0e448854100b96ae887edc78cbb",
       "version_major": 2,
       "version_minor": 0
      },
      "text/plain": [
       "HBox(children=(IntProgress(value=0, max=2), HTML(value='')))"
      ]
     },
     "metadata": {},
     "output_type": "display_data"
    },
    {
     "name": "stdout",
     "output_type": "stream",
     "text": [
      "\n",
      "[2020-09-08 10:35:01,571][MainProcess][__main__][INFO] NLLLoss: 5.620\n",
      "[2020-09-08 10:35:01,672][MainProcess][lib.metrics.accuracy][INFO] Accuracy: 0.0 [0 of 8192]\n"
     ]
    },
    {
     "name": "stderr",
     "output_type": "stream",
     "text": [
      "\r",
      "  1%|          | 7.777777777777777/1000.0 [02:28<5:36:25, 20.34s/it, min_score=-0, models_evaluated=0]"
     ]
    },
    {
     "name": "stdout",
     "output_type": "stream",
     "text": [
      "––––––––––––––––––––––––––––––––––––––––––––––––––––––––––––––––––––––––––––––––––––––––––––––––––––\n",
      "====================================================================================================\n",
      "[2020-09-08 10:35:01,729][MainProcess][lib.configurable][INFO] Checking configuration...\n",
      "[2020-09-08 10:35:01,730][MainProcess][lib.configurable][INFO] Configuration checked.\n",
      "[2020-09-08 10:35:01,732][MainProcess][lib.configurable][INFO] seq_to_label.SeqToLabel.__init__ was configured with:\n",
      "{   'bidirectional': True,\n",
      "    'decode_dropout': 0.8123955345530696,\n",
      "    'embedding_dropout': 0.8887819639314805,\n",
      "    'embedding_size': 300,\n",
      "    'freeze_embeddings': True,\n",
      "    'input_vocab_size': 6899,\n",
      "    'output_vocab_size': 1703,\n",
      "    'rnn_cell': 'lstm',\n",
      "    'rnn_dropout': 0.049686165062934794,\n",
      "    'rnn_layers': 2,\n",
      "    'rnn_size': 240,\n",
      "    'rnn_variational_dropout': 0.761690235512407}\n",
      "[2020-09-08 10:35:01,733][MainProcess][lib.configurable][INFO] seq_encoder.SeqEncoder.__init__ no config for: lib.nn.seq_encoder.SeqEncoder.__init__\n",
      "[2020-09-08 10:35:01,734][MainProcess][lib.configurable][INFO] seq_encoder.SeqEncoder.__init__ was configured with:\n",
      "{   'bidirectional': True,\n",
      "    'embedding_dropout': 0.8887819639314805,\n",
      "    'embedding_size': 300,\n",
      "    'freeze_embeddings': True,\n",
      "    'n_layers': 2,\n",
      "    'rnn_cell': 'lstm',\n",
      "    'rnn_dropout': 0.049686165062934794,\n",
      "    'rnn_size': 240,\n",
      "    'rnn_variational_dropout': 0.761690235512407,\n",
      "    'vocab_size': 6899}\n",
      "[2020-09-08 10:35:01,819][MainProcess][lib.configurable][INFO] adam.Adam.__init__ was configured with:\n",
      "{'amsgrad': True, 'params': <filter object at 0x7f8970d4f780>}\n",
      "[2020-09-08 10:35:01,821][MainProcess][lib.configurable][INFO] optimizer.Optimizer.__init__ was configured with:\n",
      "{   'max_grad_norm': 1.449266051879762,\n",
      "    'optim': Adam (\n",
      "Parameter Group 0\n",
      "    amsgrad: True\n",
      "    betas: (0.9, 0.999)\n",
      "    eps: 1e-08\n",
      "    lr: 0.001\n",
      "    weight_decay: 0\n",
      ")}\n",
      "[2020-09-08 10:35:01,821][MainProcess][__main__][INFO] Epochs: 1\n",
      "[2020-09-08 10:35:01,822][MainProcess][__main__][INFO] Train Dataset Size: 75900\n",
      "[2020-09-08 10:35:01,823][MainProcess][__main__][INFO] Dev Dataset Size: 10845\n",
      "[2020-09-08 10:35:01,824][MainProcess][__main__][INFO] Train Batch Size: 32\n",
      "[2020-09-08 10:35:01,825][MainProcess][__main__][INFO] Train Max Batch Size: 1024\n",
      "[2020-09-08 10:35:01,826][MainProcess][__main__][INFO] Total Parameters: 1221383\n",
      "[2020-09-08 10:35:01,827][MainProcess][__main__][INFO] Model:\n",
      "SeqToLabel(\n",
      "  (encoder): SeqEncoder(\n",
      "    (embedding): Embedding(6899, 300, padding_idx=0)\n",
      "    (rnn): LSTM(300, 120, num_layers=2, dropout=0.761690235512407, bidirectional=True)\n",
      "    (rnn_dropout): LockedDropout(p=0.049686165062934794)\n",
      "    (embedding_dropout): Dropout(p=0.8887819639314805)\n",
      "  )\n",
      "  (out): Sequential(\n",
      "    (0): Linear(in_features=240, out_features=240, bias=True)\n",
      "    (1): BatchNorm1d(240, eps=1e-05, momentum=0.1, affine=True, track_running_stats=True)\n",
      "    (2): ReLU()\n",
      "    (3): Dropout(p=0.8123955345530696)\n",
      "    (4): Linear(in_features=240, out_features=1703, bias=True)\n",
      "  )\n",
      ")\n",
      "[2020-09-08 10:35:01,827][MainProcess][__main__][INFO] Epoch: 0\n",
      "[2020-09-08 10:35:01,828][MainProcess][__main__][INFO] Training...\n"
     ]
    },
    {
     "data": {
      "application/vnd.jupyter.widget-view+json": {
       "model_id": "8c15416ab66544b5a62776505c22d716",
       "version_major": 2,
       "version_minor": 0
      },
      "text/plain": [
       "HBox(children=(IntProgress(value=0, max=2371), HTML(value='')))"
      ]
     },
     "metadata": {},
     "output_type": "display_data"
    },
    {
     "name": "stdout",
     "output_type": "stream",
     "text": [
      "\n",
      "[2020-09-08 10:35:28,080][MainProcess][lib.checkpoint][INFO] Saving checkpoint: ../../experiments/relation_classifier.09_08_10:23:25/629.pt\n"
     ]
    },
    {
     "data": {
      "application/vnd.jupyter.widget-view+json": {
       "model_id": "33daef4048c64f82a3b33ee7b9b5875c",
       "version_major": 2,
       "version_minor": 0
      },
      "text/plain": [
       "HBox(children=(IntProgress(value=0, max=2), HTML(value='')))"
      ]
     },
     "metadata": {},
     "output_type": "display_data"
    },
    {
     "name": "stdout",
     "output_type": "stream",
     "text": [
      "\n",
      "[2020-09-08 10:35:29,384][MainProcess][__main__][INFO] NLLLoss: 5.620\n",
      "[2020-09-08 10:35:29,481][MainProcess][lib.metrics.accuracy][INFO] Accuracy: 0.0 [0 of 8192]\n"
     ]
    },
    {
     "name": "stderr",
     "output_type": "stream",
     "text": [
      "\r",
      "  1%|          | 8.888888888888888/1000.0 [02:55<5:59:10, 21.74s/it, min_score=-0, models_evaluated=0]"
     ]
    },
    {
     "name": "stdout",
     "output_type": "stream",
     "text": [
      "––––––––––––––––––––––––––––––––––––––––––––––––––––––––––––––––––––––––––––––––––––––––––––––––––––\n",
      "====================================================================================================\n",
      "[2020-09-08 10:35:29,519][MainProcess][lib.configurable][INFO] Checking configuration...\n",
      "[2020-09-08 10:35:29,520][MainProcess][lib.configurable][INFO] Configuration checked.\n",
      "[2020-09-08 10:35:29,521][MainProcess][lib.configurable][INFO] seq_to_label.SeqToLabel.__init__ was configured with:\n",
      "{   'bidirectional': False,\n",
      "    'decode_dropout': 0.07592594726704481,\n",
      "    'embedding_dropout': 0.41894396438852116,\n",
      "    'embedding_size': 300,\n",
      "    'freeze_embeddings': False,\n",
      "    'input_vocab_size': 6899,\n",
      "    'output_vocab_size': 1703,\n",
      "    'rnn_cell': 'lstm',\n",
      "    'rnn_dropout': 0.6303183551656018,\n",
      "    'rnn_layers': 3,\n",
      "    'rnn_size': 326,\n",
      "    'rnn_variational_dropout': 0.3745235989552691}\n",
      "[2020-09-08 10:35:29,522][MainProcess][lib.configurable][INFO] seq_encoder.SeqEncoder.__init__ no config for: lib.nn.seq_encoder.SeqEncoder.__init__\n",
      "[2020-09-08 10:35:29,523][MainProcess][lib.configurable][INFO] seq_encoder.SeqEncoder.__init__ was configured with:\n",
      "{   'bidirectional': False,\n",
      "    'embedding_dropout': 0.41894396438852116,\n",
      "    'embedding_size': 300,\n",
      "    'freeze_embeddings': False,\n",
      "    'n_layers': 3,\n",
      "    'rnn_cell': 'lstm',\n",
      "    'rnn_dropout': 0.6303183551656018,\n",
      "    'rnn_size': 326,\n",
      "    'rnn_variational_dropout': 0.3745235989552691,\n",
      "    'vocab_size': 6899}\n",
      "[2020-09-08 10:35:29,607][MainProcess][lib.configurable][INFO] adam.Adam.__init__ was configured with:\n",
      "{'amsgrad': True, 'params': <filter object at 0x7f8970d4f400>}\n",
      "[2020-09-08 10:35:29,609][MainProcess][lib.configurable][INFO] optimizer.Optimizer.__init__ was configured with:\n",
      "{   'max_grad_norm': 0.4732973664083746,\n",
      "    'optim': Adam (\n",
      "Parameter Group 0\n",
      "    amsgrad: True\n",
      "    betas: (0.9, 0.999)\n",
      "    eps: 1e-08\n",
      "    lr: 0.001\n",
      "    weight_decay: 0\n",
      ")}\n",
      "[2020-09-08 10:35:29,609][MainProcess][__main__][INFO] Epochs: 1\n",
      "[2020-09-08 10:35:29,610][MainProcess][__main__][INFO] Train Dataset Size: 75900\n",
      "[2020-09-08 10:35:29,611][MainProcess][__main__][INFO] Dev Dataset Size: 10845\n",
      "[2020-09-08 10:35:29,612][MainProcess][__main__][INFO] Train Batch Size: 32\n",
      "[2020-09-08 10:35:29,613][MainProcess][__main__][INFO] Train Max Batch Size: 1024\n",
      "[2020-09-08 10:35:29,614][MainProcess][__main__][INFO] Total Parameters: 5258379\n",
      "[2020-09-08 10:35:29,614][MainProcess][__main__][INFO] Model:\n",
      "SeqToLabel(\n",
      "  (encoder): SeqEncoder(\n",
      "    (embedding): Embedding(6899, 300, padding_idx=0)\n",
      "    (rnn): LSTM(300, 326, num_layers=3, dropout=0.3745235989552691)\n",
      "    (rnn_dropout): LockedDropout(p=0.6303183551656018)\n",
      "    (embedding_dropout): Dropout(p=0.41894396438852116)\n",
      "  )\n",
      "  (out): Sequential(\n",
      "    (0): Linear(in_features=326, out_features=326, bias=True)\n",
      "    (1): BatchNorm1d(326, eps=1e-05, momentum=0.1, affine=True, track_running_stats=True)\n",
      "    (2): ReLU()\n",
      "    (3): Dropout(p=0.07592594726704481)\n",
      "    (4): Linear(in_features=326, out_features=1703, bias=True)\n",
      "  )\n",
      ")\n",
      "[2020-09-08 10:35:29,615][MainProcess][__main__][INFO] Epoch: 0\n",
      "[2020-09-08 10:35:29,616][MainProcess][__main__][INFO] Training...\n"
     ]
    },
    {
     "data": {
      "application/vnd.jupyter.widget-view+json": {
       "model_id": "c671f78e0a4f439591099d313fd4e38b",
       "version_major": 2,
       "version_minor": 0
      },
      "text/plain": [
       "HBox(children=(IntProgress(value=0, max=2371), HTML(value='')))"
      ]
     },
     "metadata": {},
     "output_type": "display_data"
    },
    {
     "name": "stdout",
     "output_type": "stream",
     "text": [
      "\n",
      "[2020-09-08 10:35:55,654][MainProcess][lib.checkpoint][INFO] Saving checkpoint: ../../experiments/relation_classifier.09_08_10:23:25/657.pt\n"
     ]
    },
    {
     "data": {
      "application/vnd.jupyter.widget-view+json": {
       "model_id": "88a126dabbcc4ce1b831e55cb68bd3fc",
       "version_major": 2,
       "version_minor": 0
      },
      "text/plain": [
       "HBox(children=(IntProgress(value=0, max=2), HTML(value='')))"
      ]
     },
     "metadata": {},
     "output_type": "display_data"
    },
    {
     "name": "stdout",
     "output_type": "stream",
     "text": [
      "\n",
      "[2020-09-08 10:35:57,520][MainProcess][__main__][INFO] NLLLoss: 5.620\n",
      "[2020-09-08 10:35:57,617][MainProcess][lib.metrics.accuracy][INFO] Accuracy: 0.0 [0 of 8192]\n"
     ]
    },
    {
     "name": "stderr",
     "output_type": "stream",
     "text": [
      "\r",
      "  1%|          | 9.999999999999998/1000.0 [03:23<6:16:33, 22.82s/it, min_score=-0, models_evaluated=0]"
     ]
    },
    {
     "name": "stdout",
     "output_type": "stream",
     "text": [
      "––––––––––––––––––––––––––––––––––––––––––––––––––––––––––––––––––––––––––––––––––––––––––––––––––––\n",
      "====================================================================================================\n",
      "[2020-09-08 10:35:57,671][MainProcess][lib.configurable][INFO] Checking configuration...\n",
      "[2020-09-08 10:35:57,673][MainProcess][lib.configurable][INFO] Configuration checked.\n",
      "[2020-09-08 10:35:57,674][MainProcess][lib.configurable][INFO] seq_to_label.SeqToLabel.__init__ was configured with:\n",
      "{   'bidirectional': False,\n",
      "    'decode_dropout': 0.8440083808801443,\n",
      "    'embedding_dropout': 0.4792671616204272,\n",
      "    'embedding_size': 300,\n",
      "    'freeze_embeddings': False,\n",
      "    'input_vocab_size': 6899,\n",
      "    'output_vocab_size': 1703,\n",
      "    'rnn_cell': 'gru',\n",
      "    'rnn_dropout': 0.4864328354367011,\n",
      "    'rnn_layers': 3,\n",
      "    'rnn_size': 124,\n",
      "    'rnn_variational_dropout': 0.8733785595246397}\n",
      "[2020-09-08 10:35:57,675][MainProcess][lib.configurable][INFO] seq_encoder.SeqEncoder.__init__ no config for: lib.nn.seq_encoder.SeqEncoder.__init__\n",
      "[2020-09-08 10:35:57,676][MainProcess][lib.configurable][INFO] seq_encoder.SeqEncoder.__init__ was configured with:\n",
      "{   'bidirectional': False,\n",
      "    'embedding_dropout': 0.4792671616204272,\n",
      "    'embedding_size': 300,\n",
      "    'freeze_embeddings': False,\n",
      "    'n_layers': 3,\n",
      "    'rnn_cell': 'gru',\n",
      "    'rnn_dropout': 0.4864328354367011,\n",
      "    'rnn_size': 124,\n",
      "    'rnn_variational_dropout': 0.8733785595246397,\n",
      "    'vocab_size': 6899}\n",
      "[2020-09-08 10:35:57,739][MainProcess][lib.configurable][INFO] adam.Adam.__init__ was configured with:\n",
      "{'amsgrad': True, 'params': <filter object at 0x7f8970d4f208>}\n",
      "[2020-09-08 10:35:57,740][MainProcess][lib.configurable][INFO] optimizer.Optimizer.__init__ was configured with:\n",
      "{   'max_grad_norm': 0.17148154749758396,\n",
      "    'optim': Adam (\n",
      "Parameter Group 0\n",
      "    amsgrad: True\n",
      "    betas: (0.9, 0.999)\n",
      "    eps: 1e-08\n",
      "    lr: 0.001\n",
      "    weight_decay: 0\n",
      ")}\n",
      "[2020-09-08 10:35:57,741][MainProcess][__main__][INFO] Epochs: 1\n",
      "[2020-09-08 10:35:57,742][MainProcess][__main__][INFO] Train Dataset Size: 75900\n",
      "[2020-09-08 10:35:57,743][MainProcess][__main__][INFO] Dev Dataset Size: 10845\n",
      "[2020-09-08 10:35:57,743][MainProcess][__main__][INFO] Train Batch Size: 32\n",
      "[2020-09-08 10:35:57,744][MainProcess][__main__][INFO] Train Max Batch Size: 1024\n",
      "[2020-09-08 10:35:57,745][MainProcess][__main__][INFO] Total Parameters: 2642795\n",
      "[2020-09-08 10:35:57,746][MainProcess][__main__][INFO] Model:\n",
      "SeqToLabel(\n",
      "  (encoder): SeqEncoder(\n",
      "    (embedding): Embedding(6899, 300, padding_idx=0)\n",
      "    (rnn): GRU(300, 124, num_layers=3, dropout=0.8733785595246397)\n",
      "    (rnn_dropout): LockedDropout(p=0.4864328354367011)\n",
      "    (embedding_dropout): Dropout(p=0.4792671616204272)\n",
      "  )\n",
      "  (out): Sequential(\n",
      "    (0): Linear(in_features=124, out_features=124, bias=True)\n",
      "    (1): BatchNorm1d(124, eps=1e-05, momentum=0.1, affine=True, track_running_stats=True)\n",
      "    (2): ReLU()\n",
      "    (3): Dropout(p=0.8440083808801443)\n",
      "    (4): Linear(in_features=124, out_features=1703, bias=True)\n",
      "  )\n",
      ")\n",
      "[2020-09-08 10:35:57,747][MainProcess][__main__][INFO] Epoch: 0\n",
      "[2020-09-08 10:35:57,748][MainProcess][__main__][INFO] Training...\n"
     ]
    },
    {
     "data": {
      "application/vnd.jupyter.widget-view+json": {
       "model_id": "1873871d00bb438f9b8d9c75b36f766e",
       "version_major": 2,
       "version_minor": 0
      },
      "text/plain": [
       "HBox(children=(IntProgress(value=0, max=2371), HTML(value='')))"
      ]
     },
     "metadata": {},
     "output_type": "display_data"
    },
    {
     "name": "stdout",
     "output_type": "stream",
     "text": [
      "\n",
      "[2020-09-08 10:36:20,244][MainProcess][lib.checkpoint][INFO] Saving checkpoint: ../../experiments/relation_classifier.09_08_10:23:25/681.pt\n"
     ]
    },
    {
     "data": {
      "application/vnd.jupyter.widget-view+json": {
       "model_id": "fbf5e048919947d38741724cbced0a1c",
       "version_major": 2,
       "version_minor": 0
      },
      "text/plain": [
       "HBox(children=(IntProgress(value=0, max=2), HTML(value='')))"
      ]
     },
     "metadata": {},
     "output_type": "display_data"
    },
    {
     "name": "stdout",
     "output_type": "stream",
     "text": [
      "\n",
      "[2020-09-08 10:36:21,606][MainProcess][__main__][INFO] NLLLoss: 5.620\n",
      "[2020-09-08 10:36:21,708][MainProcess][lib.metrics.accuracy][INFO] Accuracy: 0.0 [0 of 8192]\n"
     ]
    },
    {
     "name": "stderr",
     "output_type": "stream",
     "text": [
      "\r",
      "  1%|          | 11.111111111111109/1000.0 [03:48<6:10:25, 22.48s/it, min_score=-0, models_evaluated=0]"
     ]
    },
    {
     "name": "stdout",
     "output_type": "stream",
     "text": [
      "––––––––––––––––––––––––––––––––––––––––––––––––––––––––––––––––––––––––––––––––––––––––––––––––––––\n",
      "====================================================================================================\n",
      "[2020-09-08 10:36:21,747][MainProcess][lib.configurable][INFO] Checking configuration...\n",
      "[2020-09-08 10:36:21,748][MainProcess][lib.configurable][INFO] Configuration checked.\n",
      "[2020-09-08 10:36:21,749][MainProcess][lib.configurable][INFO] seq_to_label.SeqToLabel.__init__ was configured with:\n",
      "{   'bidirectional': True,\n",
      "    'decode_dropout': 0.24733678475814636,\n",
      "    'embedding_dropout': 0.14091896106248183,\n",
      "    'embedding_size': 300,\n",
      "    'freeze_embeddings': False,\n",
      "    'input_vocab_size': 6899,\n",
      "    'output_vocab_size': 1703,\n",
      "    'rnn_cell': 'lstm',\n",
      "    'rnn_dropout': 0.8461675741803233,\n",
      "    'rnn_layers': 1,\n",
      "    'rnn_size': 494,\n",
      "    'rnn_variational_dropout': 0.7912352574119732}\n",
      "[2020-09-08 10:36:21,751][MainProcess][lib.configurable][INFO] seq_encoder.SeqEncoder.__init__ no config for: lib.nn.seq_encoder.SeqEncoder.__init__\n",
      "[2020-09-08 10:36:21,752][MainProcess][lib.configurable][INFO] seq_encoder.SeqEncoder.__init__ was configured with:\n",
      "{   'bidirectional': True,\n",
      "    'embedding_dropout': 0.14091896106248183,\n",
      "    'embedding_size': 300,\n",
      "    'freeze_embeddings': False,\n",
      "    'n_layers': 1,\n",
      "    'rnn_cell': 'lstm',\n",
      "    'rnn_dropout': 0.8461675741803233,\n",
      "    'rnn_size': 494,\n",
      "    'rnn_variational_dropout': 0.7912352574119732,\n",
      "    'vocab_size': 6899}\n",
      "[2020-09-08 10:36:21,819][MainProcess][lib.configurable][INFO] adam.Adam.__init__ was configured with:\n",
      "{'amsgrad': True, 'params': <filter object at 0x7f8965853358>}\n",
      "[2020-09-08 10:36:21,821][MainProcess][lib.configurable][INFO] optimizer.Optimizer.__init__ was configured with:\n",
      "{   'max_grad_norm': 1.86469811285513,\n",
      "    'optim': Adam (\n",
      "Parameter Group 0\n",
      "    amsgrad: True\n",
      "    betas: (0.9, 0.999)\n",
      "    eps: 1e-08\n",
      "    lr: 0.001\n",
      "    weight_decay: 0\n",
      ")}\n",
      "[2020-09-08 10:36:21,821][MainProcess][__main__][INFO] Epochs: 1\n",
      "[2020-09-08 10:36:21,822][MainProcess][__main__][INFO] Train Dataset Size: 75900\n",
      "[2020-09-08 10:36:21,823][MainProcess][__main__][INFO] Dev Dataset Size: 10845\n",
      "[2020-09-08 10:36:21,824][MainProcess][__main__][INFO] Train Batch Size: 32\n",
      "[2020-09-08 10:36:21,824][MainProcess][__main__][INFO] Train Max Batch Size: 1024\n",
      "[2020-09-08 10:36:21,825][MainProcess][__main__][INFO] Total Parameters: 4243027\n",
      "[2020-09-08 10:36:21,826][MainProcess][__main__][INFO] Model:\n",
      "SeqToLabel(\n",
      "  (encoder): SeqEncoder(\n",
      "    (embedding): Embedding(6899, 300, padding_idx=0)\n",
      "    (rnn): LSTM(300, 247, dropout=0.7912352574119732, bidirectional=True)\n",
      "    (rnn_dropout): LockedDropout(p=0.8461675741803233)\n",
      "    (embedding_dropout): Dropout(p=0.14091896106248183)\n",
      "  )\n",
      "  (out): Sequential(\n",
      "    (0): Linear(in_features=494, out_features=494, bias=True)\n",
      "    (1): BatchNorm1d(494, eps=1e-05, momentum=0.1, affine=True, track_running_stats=True)\n",
      "    (2): ReLU()\n",
      "    (3): Dropout(p=0.24733678475814636)\n",
      "    (4): Linear(in_features=494, out_features=1703, bias=True)\n",
      "  )\n",
      ")\n",
      "[2020-09-08 10:36:21,827][MainProcess][__main__][INFO] Epoch: 0\n",
      "[2020-09-08 10:36:21,828][MainProcess][__main__][INFO] Training...\n"
     ]
    },
    {
     "name": "stderr",
     "output_type": "stream",
     "text": [
      "/mount/arbeitsdaten46/projekte/dialog-1/kanjurva/Simple-QA-EMNLP-2018/env/lib/python3.6/site-packages/torch/nn/modules/rnn.py:38: UserWarning: dropout option adds dropout after all but last recurrent layer, so non-zero dropout expects num_layers greater than 1, but got dropout=0.7912352574119732 and num_layers=1\n",
      "  \"num_layers={}\".format(dropout, num_layers))\n"
     ]
    },
    {
     "data": {
      "application/vnd.jupyter.widget-view+json": {
       "model_id": "c3664f371b4e471fa5833fa96641ee71",
       "version_major": 2,
       "version_minor": 0
      },
      "text/plain": [
       "HBox(children=(IntProgress(value=0, max=2371), HTML(value='')))"
      ]
     },
     "metadata": {},
     "output_type": "display_data"
    },
    {
     "name": "stdout",
     "output_type": "stream",
     "text": [
      "\n",
      "[2020-09-08 10:36:41,497][MainProcess][lib.checkpoint][INFO] Saving checkpoint: ../../experiments/relation_classifier.09_08_10:23:25/703.pt\n"
     ]
    },
    {
     "data": {
      "application/vnd.jupyter.widget-view+json": {
       "model_id": "63fdd50fc6954f19ba8bd12ecc2cc7d5",
       "version_major": 2,
       "version_minor": 0
      },
      "text/plain": [
       "HBox(children=(IntProgress(value=0, max=2), HTML(value='')))"
      ]
     },
     "metadata": {},
     "output_type": "display_data"
    },
    {
     "name": "stdout",
     "output_type": "stream",
     "text": [
      "\n",
      "[2020-09-08 10:36:43,083][MainProcess][__main__][INFO] NLLLoss: 5.620\n",
      "[2020-09-08 10:36:43,180][MainProcess][lib.metrics.accuracy][INFO] Accuracy: 0.0 [0 of 8192]\n"
     ]
    },
    {
     "name": "stderr",
     "output_type": "stream",
     "text": [
      "\r",
      "  1%|          | 12.22222222222222/1000.0 [04:09<5:54:29, 21.53s/it, min_score=-0, models_evaluated=0] "
     ]
    },
    {
     "name": "stdout",
     "output_type": "stream",
     "text": [
      "––––––––––––––––––––––––––––––––––––––––––––––––––––––––––––––––––––––––––––––––––––––––––––––––––––\n",
      "====================================================================================================\n",
      "[2020-09-08 10:36:43,229][MainProcess][lib.configurable][INFO] Checking configuration...\n",
      "[2020-09-08 10:36:43,230][MainProcess][lib.configurable][INFO] Configuration checked.\n",
      "[2020-09-08 10:36:43,231][MainProcess][lib.configurable][INFO] seq_to_label.SeqToLabel.__init__ was configured with:\n",
      "{   'bidirectional': False,\n",
      "    'decode_dropout': 0.8885993669701758,\n",
      "    'embedding_dropout': 0.06855545907747793,\n",
      "    'embedding_size': 300,\n",
      "    'freeze_embeddings': False,\n",
      "    'input_vocab_size': 6899,\n",
      "    'output_vocab_size': 1703,\n",
      "    'rnn_cell': 'gru',\n",
      "    'rnn_dropout': 0.05698992371824015,\n",
      "    'rnn_layers': 3,\n",
      "    'rnn_size': 418,\n",
      "    'rnn_variational_dropout': 0.7195403360337991}\n",
      "[2020-09-08 10:36:43,232][MainProcess][lib.configurable][INFO] seq_encoder.SeqEncoder.__init__ no config for: lib.nn.seq_encoder.SeqEncoder.__init__\n",
      "[2020-09-08 10:36:43,233][MainProcess][lib.configurable][INFO] seq_encoder.SeqEncoder.__init__ was configured with:\n",
      "{   'bidirectional': False,\n",
      "    'embedding_dropout': 0.06855545907747793,\n",
      "    'embedding_size': 300,\n",
      "    'freeze_embeddings': False,\n",
      "    'n_layers': 3,\n",
      "    'rnn_cell': 'gru',\n",
      "    'rnn_dropout': 0.05698992371824015,\n",
      "    'rnn_size': 418,\n",
      "    'rnn_variational_dropout': 0.7195403360337991,\n",
      "    'vocab_size': 6899}\n",
      "[2020-09-08 10:36:43,327][MainProcess][lib.configurable][INFO] adam.Adam.__init__ was configured with:\n",
      "{'amsgrad': True, 'params': <filter object at 0x7f8965c1d198>}\n",
      "[2020-09-08 10:36:43,328][MainProcess][lib.configurable][INFO] optimizer.Optimizer.__init__ was configured with:\n",
      "{   'max_grad_norm': 2.860955585979916,\n",
      "    'optim': Adam (\n",
      "Parameter Group 0\n",
      "    amsgrad: True\n",
      "    betas: (0.9, 0.999)\n",
      "    eps: 1e-08\n",
      "    lr: 0.001\n",
      "    weight_decay: 0\n",
      ")}\n",
      "[2020-09-08 10:36:43,329][MainProcess][__main__][INFO] Epochs: 1\n",
      "[2020-09-08 10:36:43,330][MainProcess][__main__][INFO] Train Dataset Size: 75900\n",
      "[2020-09-08 10:36:43,331][MainProcess][__main__][INFO] Dev Dataset Size: 10845\n",
      "[2020-09-08 10:36:43,332][MainProcess][__main__][INFO] Train Batch Size: 32\n",
      "[2020-09-08 10:36:43,333][MainProcess][__main__][INFO] Train Max Batch Size: 1024\n",
      "[2020-09-08 10:36:43,333][MainProcess][__main__][INFO] Total Parameters: 5963819\n",
      "[2020-09-08 10:36:43,334][MainProcess][__main__][INFO] Model:\n",
      "SeqToLabel(\n",
      "  (encoder): SeqEncoder(\n",
      "    (embedding): Embedding(6899, 300, padding_idx=0)\n",
      "    (rnn): GRU(300, 418, num_layers=3, dropout=0.7195403360337991)\n",
      "    (rnn_dropout): LockedDropout(p=0.05698992371824015)\n",
      "    (embedding_dropout): Dropout(p=0.06855545907747793)\n",
      "  )\n",
      "  (out): Sequential(\n",
      "    (0): Linear(in_features=418, out_features=418, bias=True)\n",
      "    (1): BatchNorm1d(418, eps=1e-05, momentum=0.1, affine=True, track_running_stats=True)\n",
      "    (2): ReLU()\n",
      "    (3): Dropout(p=0.8885993669701758)\n",
      "    (4): Linear(in_features=418, out_features=1703, bias=True)\n",
      "  )\n",
      ")\n",
      "[2020-09-08 10:36:43,335][MainProcess][__main__][INFO] Epoch: 0\n",
      "[2020-09-08 10:36:43,336][MainProcess][__main__][INFO] Training...\n"
     ]
    },
    {
     "data": {
      "application/vnd.jupyter.widget-view+json": {
       "model_id": "a5cfeb5d750d4f779bce03f07eea83f1",
       "version_major": 2,
       "version_minor": 0
      },
      "text/plain": [
       "HBox(children=(IntProgress(value=0, max=2371), HTML(value='')))"
      ]
     },
     "metadata": {},
     "output_type": "display_data"
    },
    {
     "name": "stdout",
     "output_type": "stream",
     "text": [
      "\n",
      "[2020-09-08 10:37:10,476][MainProcess][lib.checkpoint][INFO] Saving checkpoint: ../../experiments/relation_classifier.09_08_10:23:25/732.pt\n"
     ]
    },
    {
     "data": {
      "application/vnd.jupyter.widget-view+json": {
       "model_id": "a969802451794291a3e6432a72681e98",
       "version_major": 2,
       "version_minor": 0
      },
      "text/plain": [
       "HBox(children=(IntProgress(value=0, max=2), HTML(value='')))"
      ]
     },
     "metadata": {},
     "output_type": "display_data"
    },
    {
     "name": "stdout",
     "output_type": "stream",
     "text": [
      "\n",
      "[2020-09-08 10:37:12,440][MainProcess][__main__][INFO] NLLLoss: 5.620\n",
      "[2020-09-08 10:37:12,540][MainProcess][lib.metrics.accuracy][INFO] Accuracy: 0.0 [0 of 8192]\n"
     ]
    },
    {
     "name": "stderr",
     "output_type": "stream",
     "text": [
      "\r",
      "  1%|▏         | 13.33333333333333/1000.0 [04:38<6:18:16, 23.00s/it, min_score=-0, models_evaluated=0]"
     ]
    },
    {
     "name": "stdout",
     "output_type": "stream",
     "text": [
      "––––––––––––––––––––––––––––––––––––––––––––––––––––––––––––––––––––––––––––––––––––––––––––––––––––\n",
      "====================================================================================================\n",
      "[2020-09-08 10:37:12,600][MainProcess][lib.configurable][INFO] Checking configuration...\n",
      "[2020-09-08 10:37:12,601][MainProcess][lib.configurable][INFO] Configuration checked.\n",
      "[2020-09-08 10:37:12,602][MainProcess][lib.configurable][INFO] seq_to_label.SeqToLabel.__init__ was configured with:\n",
      "{   'bidirectional': False,\n",
      "    'decode_dropout': 0.4602326829251078,\n",
      "    'embedding_dropout': 0.5957291636631964,\n",
      "    'embedding_size': 300,\n",
      "    'freeze_embeddings': True,\n",
      "    'input_vocab_size': 6899,\n",
      "    'output_vocab_size': 1703,\n",
      "    'rnn_cell': 'lstm',\n",
      "    'rnn_dropout': 0.13211824086193955,\n",
      "    'rnn_layers': 3,\n",
      "    'rnn_size': 144,\n",
      "    'rnn_variational_dropout': 0.762739796959953}\n",
      "[2020-09-08 10:37:12,603][MainProcess][lib.configurable][INFO] seq_encoder.SeqEncoder.__init__ no config for: lib.nn.seq_encoder.SeqEncoder.__init__\n",
      "[2020-09-08 10:37:12,604][MainProcess][lib.configurable][INFO] seq_encoder.SeqEncoder.__init__ was configured with:\n",
      "{   'bidirectional': False,\n",
      "    'embedding_dropout': 0.5957291636631964,\n",
      "    'embedding_size': 300,\n",
      "    'freeze_embeddings': True,\n",
      "    'n_layers': 3,\n",
      "    'rnn_cell': 'lstm',\n",
      "    'rnn_dropout': 0.13211824086193955,\n",
      "    'rnn_size': 144,\n",
      "    'rnn_variational_dropout': 0.762739796959953,\n",
      "    'vocab_size': 6899}\n",
      "[2020-09-08 10:37:12,663][MainProcess][lib.configurable][INFO] adam.Adam.__init__ was configured with:\n",
      "{'amsgrad': True, 'params': <filter object at 0x7f8965c1df28>}\n",
      "[2020-09-08 10:37:12,664][MainProcess][lib.configurable][INFO] optimizer.Optimizer.__init__ was configured with:\n",
      "{   'max_grad_norm': 1.500628927201232,\n",
      "    'optim': Adam (\n",
      "Parameter Group 0\n",
      "    amsgrad: True\n",
      "    betas: (0.9, 0.999)\n",
      "    eps: 1e-08\n",
      "    lr: 0.001\n",
      "    weight_decay: 0\n",
      ")}\n",
      "[2020-09-08 10:37:12,665][MainProcess][__main__][INFO] Epochs: 1\n",
      "[2020-09-08 10:37:12,666][MainProcess][__main__][INFO] Train Dataset Size: 75900\n",
      "[2020-09-08 10:37:12,667][MainProcess][__main__][INFO] Dev Dataset Size: 10845\n",
      "[2020-09-08 10:37:12,668][MainProcess][__main__][INFO] Train Batch Size: 32\n",
      "[2020-09-08 10:37:12,668][MainProcess][__main__][INFO] Train Max Batch Size: 1024\n",
      "[2020-09-08 10:37:12,669][MainProcess][__main__][INFO] Total Parameters: 859079\n",
      "[2020-09-08 10:37:12,670][MainProcess][__main__][INFO] Model:\n",
      "SeqToLabel(\n",
      "  (encoder): SeqEncoder(\n",
      "    (embedding): Embedding(6899, 300, padding_idx=0)\n",
      "    (rnn): LSTM(300, 144, num_layers=3, dropout=0.762739796959953)\n",
      "    (rnn_dropout): LockedDropout(p=0.13211824086193955)\n",
      "    (embedding_dropout): Dropout(p=0.5957291636631964)\n",
      "  )\n",
      "  (out): Sequential(\n",
      "    (0): Linear(in_features=144, out_features=144, bias=True)\n",
      "    (1): BatchNorm1d(144, eps=1e-05, momentum=0.1, affine=True, track_running_stats=True)\n",
      "    (2): ReLU()\n",
      "    (3): Dropout(p=0.4602326829251078)\n",
      "    (4): Linear(in_features=144, out_features=1703, bias=True)\n",
      "  )\n",
      ")\n",
      "[2020-09-08 10:37:12,671][MainProcess][__main__][INFO] Epoch: 0\n",
      "[2020-09-08 10:37:12,672][MainProcess][__main__][INFO] Training...\n"
     ]
    },
    {
     "data": {
      "application/vnd.jupyter.widget-view+json": {
       "model_id": "7fabef4c9da84cbe8c7c84dc986d2017",
       "version_major": 2,
       "version_minor": 0
      },
      "text/plain": [
       "HBox(children=(IntProgress(value=0, max=2371), HTML(value='')))"
      ]
     },
     "metadata": {},
     "output_type": "display_data"
    },
    {
     "name": "stdout",
     "output_type": "stream",
     "text": [
      "\n",
      "[2020-09-08 10:37:34,538][MainProcess][lib.checkpoint][INFO] Saving checkpoint: ../../experiments/relation_classifier.09_08_10:23:25/756.pt\n"
     ]
    },
    {
     "data": {
      "application/vnd.jupyter.widget-view+json": {
       "model_id": "d5ab2cf3993c40ff9dfbad498cb64a93",
       "version_major": 2,
       "version_minor": 0
      },
      "text/plain": [
       "HBox(children=(IntProgress(value=0, max=2), HTML(value='')))"
      ]
     },
     "metadata": {},
     "output_type": "display_data"
    },
    {
     "name": "stdout",
     "output_type": "stream",
     "text": [
      "\n",
      "[2020-09-08 10:37:35,620][MainProcess][__main__][INFO] NLLLoss: 5.620\n",
      "[2020-09-08 10:37:35,733][MainProcess][lib.metrics.accuracy][INFO] Accuracy: 0.0 [0 of 8192]\n"
     ]
    },
    {
     "name": "stderr",
     "output_type": "stream",
     "text": [
      "\r",
      "  1%|▏         | 14.444444444444441/1000.0 [05:02<6:07:14, 22.36s/it, min_score=-0, models_evaluated=0]"
     ]
    },
    {
     "name": "stdout",
     "output_type": "stream",
     "text": [
      "––––––––––––––––––––––––––––––––––––––––––––––––––––––––––––––––––––––––––––––––––––––––––––––––––––\n",
      "====================================================================================================\n",
      "[2020-09-08 10:37:35,767][MainProcess][lib.configurable][INFO] Checking configuration...\n",
      "[2020-09-08 10:37:35,768][MainProcess][lib.configurable][INFO] Configuration checked.\n",
      "[2020-09-08 10:37:35,769][MainProcess][lib.configurable][INFO] seq_to_label.SeqToLabel.__init__ was configured with:\n",
      "{   'bidirectional': True,\n",
      "    'decode_dropout': 0.19572304153879677,\n",
      "    'embedding_dropout': 0.6667598566460702,\n",
      "    'embedding_size': 300,\n",
      "    'freeze_embeddings': False,\n",
      "    'input_vocab_size': 6899,\n",
      "    'output_vocab_size': 1703,\n",
      "    'rnn_cell': 'gru',\n",
      "    'rnn_dropout': 0.2539672552304953,\n",
      "    'rnn_layers': 3,\n",
      "    'rnn_size': 120,\n",
      "    'rnn_variational_dropout': 0.2893089247429726}\n",
      "[2020-09-08 10:37:35,771][MainProcess][lib.configurable][INFO] seq_encoder.SeqEncoder.__init__ no config for: lib.nn.seq_encoder.SeqEncoder.__init__\n",
      "[2020-09-08 10:37:35,772][MainProcess][lib.configurable][INFO] seq_encoder.SeqEncoder.__init__ was configured with:\n",
      "{   'bidirectional': True,\n",
      "    'embedding_dropout': 0.6667598566460702,\n",
      "    'embedding_size': 300,\n",
      "    'freeze_embeddings': False,\n",
      "    'n_layers': 3,\n",
      "    'rnn_cell': 'gru',\n",
      "    'rnn_dropout': 0.2539672552304953,\n",
      "    'rnn_size': 120,\n",
      "    'rnn_variational_dropout': 0.2893089247429726,\n",
      "    'vocab_size': 6899}\n",
      "[2020-09-08 10:37:35,816][MainProcess][lib.configurable][INFO] adam.Adam.__init__ was configured with:\n",
      "{'amsgrad': True, 'params': <filter object at 0x7f8970d4f400>}\n",
      "[2020-09-08 10:37:35,817][MainProcess][lib.configurable][INFO] optimizer.Optimizer.__init__ was configured with:\n",
      "{   'max_grad_norm': 1.8964545057918685,\n",
      "    'optim': Adam (\n",
      "Parameter Group 0\n",
      "    amsgrad: True\n",
      "    betas: (0.9, 0.999)\n",
      "    eps: 1e-08\n",
      "    lr: 0.001\n",
      "    weight_decay: 0\n",
      ")}\n",
      "[2020-09-08 10:37:35,818][MainProcess][__main__][INFO] Epochs: 1\n",
      "[2020-09-08 10:37:35,819][MainProcess][__main__][INFO] Train Dataset Size: 75900\n",
      "[2020-09-08 10:37:35,820][MainProcess][__main__][INFO] Dev Dataset Size: 10845\n",
      "[2020-09-08 10:37:35,821][MainProcess][__main__][INFO] Train Batch Size: 32\n",
      "[2020-09-08 10:37:35,821][MainProcess][__main__][INFO] Train Max Batch Size: 1024\n",
      "[2020-09-08 10:37:35,822][MainProcess][__main__][INFO] Total Parameters: 2551883\n",
      "[2020-09-08 10:37:35,823][MainProcess][__main__][INFO] Model:\n",
      "SeqToLabel(\n",
      "  (encoder): SeqEncoder(\n",
      "    (embedding): Embedding(6899, 300, padding_idx=0)\n",
      "    (rnn): GRU(300, 60, num_layers=3, dropout=0.2893089247429726, bidirectional=True)\n",
      "    (rnn_dropout): LockedDropout(p=0.2539672552304953)\n",
      "    (embedding_dropout): Dropout(p=0.6667598566460702)\n",
      "  )\n",
      "  (out): Sequential(\n",
      "    (0): Linear(in_features=120, out_features=120, bias=True)\n",
      "    (1): BatchNorm1d(120, eps=1e-05, momentum=0.1, affine=True, track_running_stats=True)\n",
      "    (2): ReLU()\n",
      "    (3): Dropout(p=0.19572304153879677)\n",
      "    (4): Linear(in_features=120, out_features=1703, bias=True)\n",
      "  )\n",
      ")\n",
      "[2020-09-08 10:37:35,824][MainProcess][__main__][INFO] Epoch: 0\n",
      "[2020-09-08 10:37:35,825][MainProcess][__main__][INFO] Training...\n"
     ]
    },
    {
     "data": {
      "application/vnd.jupyter.widget-view+json": {
       "model_id": "78a1d414173446d7ba417088bcfc7ac4",
       "version_major": 2,
       "version_minor": 0
      },
      "text/plain": [
       "HBox(children=(IntProgress(value=0, max=2371), HTML(value='')))"
      ]
     },
     "metadata": {},
     "output_type": "display_data"
    },
    {
     "name": "stdout",
     "output_type": "stream",
     "text": [
      "\n",
      "[2020-09-08 10:38:09,131][MainProcess][lib.checkpoint][INFO] Saving checkpoint: ../../experiments/relation_classifier.09_08_10:23:25/790.pt\n"
     ]
    },
    {
     "data": {
      "application/vnd.jupyter.widget-view+json": {
       "model_id": "d2cfbcaf5ca649e4adeaad3a9e5f06b2",
       "version_major": 2,
       "version_minor": 0
      },
      "text/plain": [
       "HBox(children=(IntProgress(value=0, max=2), HTML(value='')))"
      ]
     },
     "metadata": {},
     "output_type": "display_data"
    },
    {
     "name": "stdout",
     "output_type": "stream",
     "text": [
      "\n",
      "[2020-09-08 10:38:10,253][MainProcess][__main__][INFO] NLLLoss: 5.620\n",
      "[2020-09-08 10:38:10,352][MainProcess][lib.metrics.accuracy][INFO] Accuracy: 0.0 [0 of 8192]\n"
     ]
    },
    {
     "name": "stderr",
     "output_type": "stream",
     "text": [
      "\r",
      "  2%|▏         | 15.555555555555552/1000.0 [05:36<6:50:08, 25.00s/it, min_score=-0, models_evaluated=0]"
     ]
    },
    {
     "name": "stdout",
     "output_type": "stream",
     "text": [
      "––––––––––––––––––––––––––––––––––––––––––––––––––––––––––––––––––––––––––––––––––––––––––––––––––––\n",
      "====================================================================================================\n",
      "[2020-09-08 10:38:10,387][MainProcess][lib.configurable][INFO] Checking configuration...\n",
      "[2020-09-08 10:38:10,388][MainProcess][lib.configurable][INFO] Configuration checked.\n",
      "[2020-09-08 10:38:10,390][MainProcess][lib.configurable][INFO] seq_to_label.SeqToLabel.__init__ was configured with:\n",
      "{   'bidirectional': False,\n",
      "    'decode_dropout': 0.18401342174944066,\n",
      "    'embedding_dropout': 0.7431593110391715,\n",
      "    'embedding_size': 300,\n",
      "    'freeze_embeddings': False,\n",
      "    'input_vocab_size': 6899,\n",
      "    'output_vocab_size': 1703,\n",
      "    'rnn_cell': 'gru',\n",
      "    'rnn_dropout': 0.6231996540812207,\n",
      "    'rnn_layers': 3,\n",
      "    'rnn_size': 346,\n",
      "    'rnn_variational_dropout': 0.7351264575453643}\n",
      "[2020-09-08 10:38:10,391][MainProcess][lib.configurable][INFO] seq_encoder.SeqEncoder.__init__ no config for: lib.nn.seq_encoder.SeqEncoder.__init__\n",
      "[2020-09-08 10:38:10,392][MainProcess][lib.configurable][INFO] seq_encoder.SeqEncoder.__init__ was configured with:\n",
      "{   'bidirectional': False,\n",
      "    'embedding_dropout': 0.7431593110391715,\n",
      "    'embedding_size': 300,\n",
      "    'freeze_embeddings': False,\n",
      "    'n_layers': 3,\n",
      "    'rnn_cell': 'gru',\n",
      "    'rnn_dropout': 0.6231996540812207,\n",
      "    'rnn_size': 346,\n",
      "    'rnn_variational_dropout': 0.7351264575453643,\n",
      "    'vocab_size': 6899}\n",
      "[2020-09-08 10:38:10,471][MainProcess][lib.configurable][INFO] adam.Adam.__init__ was configured with:\n",
      "{'amsgrad': True, 'params': <filter object at 0x7f8965853b38>}\n",
      "[2020-09-08 10:38:10,472][MainProcess][lib.configurable][INFO] optimizer.Optimizer.__init__ was configured with:\n",
      "{   'max_grad_norm': 0.04099228488737284,\n",
      "    'optim': Adam (\n",
      "Parameter Group 0\n",
      "    amsgrad: True\n",
      "    betas: (0.9, 0.999)\n",
      "    eps: 1e-08\n",
      "    lr: 0.001\n",
      "    weight_decay: 0\n",
      ")}\n",
      "[2020-09-08 10:38:10,473][MainProcess][__main__][INFO] Epochs: 1\n",
      "[2020-09-08 10:38:10,474][MainProcess][__main__][INFO] Train Dataset Size: 75900\n",
      "[2020-09-08 10:38:10,475][MainProcess][__main__][INFO] Dev Dataset Size: 10845\n",
      "[2020-09-08 10:38:10,476][MainProcess][__main__][INFO] Train Batch Size: 32\n",
      "[2020-09-08 10:38:10,477][MainProcess][__main__][INFO] Train Max Batch Size: 1024\n",
      "[2020-09-08 10:38:10,477][MainProcess][__main__][INFO] Total Parameters: 4894763\n",
      "[2020-09-08 10:38:10,478][MainProcess][__main__][INFO] Model:\n",
      "SeqToLabel(\n",
      "  (encoder): SeqEncoder(\n",
      "    (embedding): Embedding(6899, 300, padding_idx=0)\n",
      "    (rnn): GRU(300, 346, num_layers=3, dropout=0.7351264575453643)\n",
      "    (rnn_dropout): LockedDropout(p=0.6231996540812207)\n",
      "    (embedding_dropout): Dropout(p=0.7431593110391715)\n",
      "  )\n",
      "  (out): Sequential(\n",
      "    (0): Linear(in_features=346, out_features=346, bias=True)\n",
      "    (1): BatchNorm1d(346, eps=1e-05, momentum=0.1, affine=True, track_running_stats=True)\n",
      "    (2): ReLU()\n",
      "    (3): Dropout(p=0.18401342174944066)\n",
      "    (4): Linear(in_features=346, out_features=1703, bias=True)\n",
      "  )\n",
      ")\n",
      "[2020-09-08 10:38:10,479][MainProcess][__main__][INFO] Epoch: 0\n",
      "[2020-09-08 10:38:10,480][MainProcess][__main__][INFO] Training...\n"
     ]
    },
    {
     "data": {
      "application/vnd.jupyter.widget-view+json": {
       "model_id": "8b0d19143917483e8afe0dc569cf617a",
       "version_major": 2,
       "version_minor": 0
      },
      "text/plain": [
       "HBox(children=(IntProgress(value=0, max=2371), HTML(value='')))"
      ]
     },
     "metadata": {},
     "output_type": "display_data"
    },
    {
     "name": "stdout",
     "output_type": "stream",
     "text": [
      "\n",
      "[2020-09-08 10:38:35,268][MainProcess][lib.checkpoint][INFO] Saving checkpoint: ../../experiments/relation_classifier.09_08_10:23:25/816.pt\n"
     ]
    },
    {
     "data": {
      "application/vnd.jupyter.widget-view+json": {
       "model_id": "279f72b3ce50474f9ecf60ff907d6aee",
       "version_major": 2,
       "version_minor": 0
      },
      "text/plain": [
       "HBox(children=(IntProgress(value=0, max=2), HTML(value='')))"
      ]
     },
     "metadata": {},
     "output_type": "display_data"
    },
    {
     "name": "stdout",
     "output_type": "stream",
     "text": [
      "\n",
      "[2020-09-08 10:38:36,757][MainProcess][__main__][INFO] NLLLoss: 5.620\n",
      "[2020-09-08 10:38:36,855][MainProcess][lib.metrics.accuracy][INFO] Accuracy: 0.0 [0 of 8192]\n"
     ]
    },
    {
     "name": "stderr",
     "output_type": "stream",
     "text": [
      "\r",
      "  2%|▏         | 16.666666666666664/1000.0 [06:03<6:44:07, 24.66s/it, min_score=-0, models_evaluated=0]"
     ]
    },
    {
     "name": "stdout",
     "output_type": "stream",
     "text": [
      "––––––––––––––––––––––––––––––––––––––––––––––––––––––––––––––––––––––––––––––––––––––––––––––––––––\n",
      "====================================================================================================\n",
      "[2020-09-08 10:38:36,907][MainProcess][lib.configurable][INFO] Checking configuration...\n",
      "[2020-09-08 10:38:36,908][MainProcess][lib.configurable][INFO] Configuration checked.\n",
      "[2020-09-08 10:38:36,910][MainProcess][lib.configurable][INFO] seq_to_label.SeqToLabel.__init__ was configured with:\n",
      "{   'bidirectional': False,\n",
      "    'decode_dropout': 0.03178357956990586,\n",
      "    'embedding_dropout': 0.5894847077603891,\n",
      "    'embedding_size': 300,\n",
      "    'freeze_embeddings': True,\n",
      "    'input_vocab_size': 6899,\n",
      "    'output_vocab_size': 1703,\n",
      "    'rnn_cell': 'lstm',\n",
      "    'rnn_dropout': 0.4584879804592439,\n",
      "    'rnn_layers': 3,\n",
      "    'rnn_size': 300,\n",
      "    'rnn_variational_dropout': 0.4509616443238171}\n",
      "[2020-09-08 10:38:36,911][MainProcess][lib.configurable][INFO] seq_encoder.SeqEncoder.__init__ no config for: lib.nn.seq_encoder.SeqEncoder.__init__\n",
      "[2020-09-08 10:38:36,912][MainProcess][lib.configurable][INFO] seq_encoder.SeqEncoder.__init__ was configured with:\n",
      "{   'bidirectional': False,\n",
      "    'embedding_dropout': 0.5894847077603891,\n",
      "    'embedding_size': 300,\n",
      "    'freeze_embeddings': True,\n",
      "    'n_layers': 3,\n",
      "    'rnn_cell': 'lstm',\n",
      "    'rnn_dropout': 0.4584879804592439,\n",
      "    'rnn_size': 300,\n",
      "    'rnn_variational_dropout': 0.4509616443238171,\n",
      "    'vocab_size': 6899}\n",
      "[2020-09-08 10:38:36,989][MainProcess][lib.configurable][INFO] adam.Adam.__init__ was configured with:\n",
      "{'amsgrad': True, 'params': <filter object at 0x7f8970d4f208>}\n",
      "[2020-09-08 10:38:36,991][MainProcess][lib.configurable][INFO] optimizer.Optimizer.__init__ was configured with:\n",
      "{   'max_grad_norm': 3.6465790764250743,\n",
      "    'optim': Adam (\n",
      "Parameter Group 0\n",
      "    amsgrad: True\n",
      "    betas: (0.9, 0.999)\n",
      "    eps: 1e-08\n",
      "    lr: 0.001\n",
      "    weight_decay: 0\n",
      ")}\n",
      "[2020-09-08 10:38:36,992][MainProcess][__main__][INFO] Epochs: 1\n",
      "[2020-09-08 10:38:36,992][MainProcess][__main__][INFO] Train Dataset Size: 75900\n",
      "[2020-09-08 10:38:36,993][MainProcess][__main__][INFO] Dev Dataset Size: 10845\n",
      "[2020-09-08 10:38:36,994][MainProcess][__main__][INFO] Train Batch Size: 32\n",
      "[2020-09-08 10:38:36,995][MainProcess][__main__][INFO] Train Max Batch Size: 1024\n",
      "[2020-09-08 10:38:36,996][MainProcess][__main__][INFO] Total Parameters: 2770703\n",
      "[2020-09-08 10:38:36,997][MainProcess][__main__][INFO] Model:\n",
      "SeqToLabel(\n",
      "  (encoder): SeqEncoder(\n",
      "    (embedding): Embedding(6899, 300, padding_idx=0)\n",
      "    (rnn): LSTM(300, 300, num_layers=3, dropout=0.4509616443238171)\n",
      "    (rnn_dropout): LockedDropout(p=0.4584879804592439)\n",
      "    (embedding_dropout): Dropout(p=0.5894847077603891)\n",
      "  )\n",
      "  (out): Sequential(\n",
      "    (0): Linear(in_features=300, out_features=300, bias=True)\n",
      "    (1): BatchNorm1d(300, eps=1e-05, momentum=0.1, affine=True, track_running_stats=True)\n",
      "    (2): ReLU()\n",
      "    (3): Dropout(p=0.03178357956990586)\n",
      "    (4): Linear(in_features=300, out_features=1703, bias=True)\n",
      "  )\n",
      ")\n",
      "[2020-09-08 10:38:36,997][MainProcess][__main__][INFO] Epoch: 0\n",
      "[2020-09-08 10:38:36,998][MainProcess][__main__][INFO] Training...\n"
     ]
    },
    {
     "data": {
      "application/vnd.jupyter.widget-view+json": {
       "model_id": "971f73c5477a4a04bfa14939672feda5",
       "version_major": 2,
       "version_minor": 0
      },
      "text/plain": [
       "HBox(children=(IntProgress(value=0, max=2371), HTML(value='')))"
      ]
     },
     "metadata": {},
     "output_type": "display_data"
    },
    {
     "name": "stdout",
     "output_type": "stream",
     "text": [
      "\n",
      "[2020-09-08 10:39:00,882][MainProcess][lib.checkpoint][INFO] Saving checkpoint: ../../experiments/relation_classifier.09_08_10:23:25/842.pt\n"
     ]
    },
    {
     "data": {
      "application/vnd.jupyter.widget-view+json": {
       "model_id": "6cee1c93ff0243b5852ca5c38a5387a3",
       "version_major": 2,
       "version_minor": 0
      },
      "text/plain": [
       "HBox(children=(IntProgress(value=0, max=2), HTML(value='')))"
      ]
     },
     "metadata": {},
     "output_type": "display_data"
    },
    {
     "name": "stdout",
     "output_type": "stream",
     "text": [
      "\n",
      "[2020-09-08 10:39:02,386][MainProcess][__main__][INFO] NLLLoss: 5.620\n",
      "[2020-09-08 10:39:02,484][MainProcess][lib.metrics.accuracy][INFO] Accuracy: 0.0 [0 of 8192]\n"
     ]
    },
    {
     "name": "stderr",
     "output_type": "stream",
     "text": [
      "\r",
      "  2%|▏         | 17.777777777777775/1000.0 [06:28<6:35:49, 24.18s/it, min_score=-0, models_evaluated=0]"
     ]
    },
    {
     "name": "stdout",
     "output_type": "stream",
     "text": [
      "––––––––––––––––––––––––––––––––––––––––––––––––––––––––––––––––––––––––––––––––––––––––––––––––––––\n",
      "====================================================================================================\n",
      "[2020-09-08 10:39:02,530][MainProcess][lib.configurable][INFO] Checking configuration...\n",
      "[2020-09-08 10:39:02,532][MainProcess][lib.configurable][INFO] Configuration checked.\n",
      "[2020-09-08 10:39:02,533][MainProcess][lib.configurable][INFO] seq_to_label.SeqToLabel.__init__ was configured with:\n",
      "{   'bidirectional': False,\n",
      "    'decode_dropout': 0.23520259998081305,\n",
      "    'embedding_dropout': 0.8816446810289567,\n",
      "    'embedding_size': 300,\n",
      "    'freeze_embeddings': False,\n",
      "    'input_vocab_size': 6899,\n",
      "    'output_vocab_size': 1703,\n",
      "    'rnn_cell': 'gru',\n",
      "    'rnn_dropout': 0.21164746841095372,\n",
      "    'rnn_layers': 1,\n",
      "    'rnn_size': 218,\n",
      "    'rnn_variational_dropout': 0.2957883993309522}\n",
      "[2020-09-08 10:39:02,534][MainProcess][lib.configurable][INFO] seq_encoder.SeqEncoder.__init__ no config for: lib.nn.seq_encoder.SeqEncoder.__init__\n",
      "[2020-09-08 10:39:02,535][MainProcess][lib.configurable][INFO] seq_encoder.SeqEncoder.__init__ was configured with:\n",
      "{   'bidirectional': False,\n",
      "    'embedding_dropout': 0.8816446810289567,\n",
      "    'embedding_size': 300,\n",
      "    'freeze_embeddings': False,\n",
      "    'n_layers': 1,\n",
      "    'rnn_cell': 'gru',\n",
      "    'rnn_dropout': 0.21164746841095372,\n",
      "    'rnn_size': 218,\n",
      "    'rnn_variational_dropout': 0.2957883993309522,\n",
      "    'vocab_size': 6899}\n",
      "[2020-09-08 10:39:02,593][MainProcess][lib.configurable][INFO] adam.Adam.__init__ was configured with:\n",
      "{'amsgrad': True, 'params': <filter object at 0x7f8965a71278>}\n",
      "[2020-09-08 10:39:02,594][MainProcess][lib.configurable][INFO] optimizer.Optimizer.__init__ was configured with:\n",
      "{   'max_grad_norm': 4.923009101672217,\n",
      "    'optim': Adam (\n",
      "Parameter Group 0\n",
      "    amsgrad: True\n",
      "    betas: (0.9, 0.999)\n",
      "    eps: 1e-08\n",
      "    lr: 0.001\n",
      "    weight_decay: 0\n",
      ")}\n",
      "[2020-09-08 10:39:02,595][MainProcess][__main__][INFO] Epochs: 1\n",
      "[2020-09-08 10:39:02,596][MainProcess][__main__][INFO] Train Dataset Size: 75900\n",
      "[2020-09-08 10:39:02,596][MainProcess][__main__][INFO] Dev Dataset Size: 10845\n",
      "[2020-09-08 10:39:02,597][MainProcess][__main__][INFO] Train Batch Size: 32\n",
      "[2020-09-08 10:39:02,598][MainProcess][__main__][INFO] Train Max Batch Size: 1024\n",
      "[2020-09-08 10:39:02,598][MainProcess][__main__][INFO] Total Parameters: 2830915\n",
      "[2020-09-08 10:39:02,599][MainProcess][__main__][INFO] Model:\n",
      "SeqToLabel(\n",
      "  (encoder): SeqEncoder(\n",
      "    (embedding): Embedding(6899, 300, padding_idx=0)\n",
      "    (rnn): GRU(300, 218, dropout=0.2957883993309522)\n",
      "    (rnn_dropout): LockedDropout(p=0.21164746841095372)\n",
      "    (embedding_dropout): Dropout(p=0.8816446810289567)\n",
      "  )\n",
      "  (out): Sequential(\n",
      "    (0): Linear(in_features=218, out_features=218, bias=True)\n",
      "    (1): BatchNorm1d(218, eps=1e-05, momentum=0.1, affine=True, track_running_stats=True)\n",
      "    (2): ReLU()\n",
      "    (3): Dropout(p=0.23520259998081305)\n",
      "    (4): Linear(in_features=218, out_features=1703, bias=True)\n",
      "  )\n",
      ")\n",
      "[2020-09-08 10:39:02,602][MainProcess][__main__][INFO] Epoch: 0\n",
      "[2020-09-08 10:39:02,603][MainProcess][__main__][INFO] Training...\n"
     ]
    },
    {
     "name": "stderr",
     "output_type": "stream",
     "text": [
      "/mount/arbeitsdaten46/projekte/dialog-1/kanjurva/Simple-QA-EMNLP-2018/env/lib/python3.6/site-packages/torch/nn/modules/rnn.py:38: UserWarning: dropout option adds dropout after all but last recurrent layer, so non-zero dropout expects num_layers greater than 1, but got dropout=0.2957883993309522 and num_layers=1\n",
      "  \"num_layers={}\".format(dropout, num_layers))\n"
     ]
    },
    {
     "data": {
      "application/vnd.jupyter.widget-view+json": {
       "model_id": "0c1f9f54f1b54fdc8204b4f520cd227b",
       "version_major": 2,
       "version_minor": 0
      },
      "text/plain": [
       "HBox(children=(IntProgress(value=0, max=2371), HTML(value='')))"
      ]
     },
     "metadata": {},
     "output_type": "display_data"
    },
    {
     "name": "stdout",
     "output_type": "stream",
     "text": [
      "\n",
      "[2020-09-08 10:39:17,896][MainProcess][lib.checkpoint][INFO] Saving checkpoint: ../../experiments/relation_classifier.09_08_10:23:25/859.pt\n"
     ]
    },
    {
     "data": {
      "application/vnd.jupyter.widget-view+json": {
       "model_id": "2a4e3b9e5a344987aa8f4f43686d9c9d",
       "version_major": 2,
       "version_minor": 0
      },
      "text/plain": [
       "HBox(children=(IntProgress(value=0, max=2), HTML(value='')))"
      ]
     },
     "metadata": {},
     "output_type": "display_data"
    },
    {
     "name": "stdout",
     "output_type": "stream",
     "text": [
      "\n",
      "[2020-09-08 10:39:19,067][MainProcess][__main__][INFO] NLLLoss: 5.620\n",
      "[2020-09-08 10:39:19,166][MainProcess][lib.metrics.accuracy][INFO] Accuracy: 0.0 [0 of 8192]\n"
     ]
    },
    {
     "name": "stderr",
     "output_type": "stream",
     "text": [
      "\r",
      "  2%|▏         | 18.888888888888886/1000.0 [06:45<5:50:23, 21.43s/it, min_score=-0, models_evaluated=0]"
     ]
    },
    {
     "name": "stdout",
     "output_type": "stream",
     "text": [
      "––––––––––––––––––––––––––––––––––––––––––––––––––––––––––––––––––––––––––––––––––––––––––––––––––––\n",
      "====================================================================================================\n",
      "[2020-09-08 10:39:19,209][MainProcess][lib.configurable][INFO] Checking configuration...\n",
      "[2020-09-08 10:39:19,210][MainProcess][lib.configurable][INFO] Configuration checked.\n",
      "[2020-09-08 10:39:19,211][MainProcess][lib.configurable][INFO] seq_to_label.SeqToLabel.__init__ was configured with:\n",
      "{   'bidirectional': False,\n",
      "    'decode_dropout': 0.36232550870052105,\n",
      "    'embedding_dropout': 0.7369165518338379,\n",
      "    'embedding_size': 300,\n",
      "    'freeze_embeddings': False,\n",
      "    'input_vocab_size': 6899,\n",
      "    'output_vocab_size': 1703,\n",
      "    'rnn_cell': 'lstm',\n",
      "    'rnn_dropout': 0.02748852471287508,\n",
      "    'rnn_layers': 1,\n",
      "    'rnn_size': 278,\n",
      "    'rnn_variational_dropout': 0.6771122411928767}\n",
      "[2020-09-08 10:39:19,212][MainProcess][lib.configurable][INFO] seq_encoder.SeqEncoder.__init__ no config for: lib.nn.seq_encoder.SeqEncoder.__init__\n",
      "[2020-09-08 10:39:19,213][MainProcess][lib.configurable][INFO] seq_encoder.SeqEncoder.__init__ was configured with:\n",
      "{   'bidirectional': False,\n",
      "    'embedding_dropout': 0.7369165518338379,\n",
      "    'embedding_size': 300,\n",
      "    'freeze_embeddings': False,\n",
      "    'n_layers': 1,\n",
      "    'rnn_cell': 'lstm',\n",
      "    'rnn_dropout': 0.02748852471287508,\n",
      "    'rnn_size': 278,\n",
      "    'rnn_variational_dropout': 0.6771122411928767,\n",
      "    'vocab_size': 6899}\n",
      "[2020-09-08 10:39:19,267][MainProcess][lib.configurable][INFO] adam.Adam.__init__ was configured with:\n",
      "{'amsgrad': True, 'params': <filter object at 0x7f896565d588>}\n",
      "[2020-09-08 10:39:19,268][MainProcess][lib.configurable][INFO] optimizer.Optimizer.__init__ was configured with:\n",
      "{   'max_grad_norm': 3.465565843355311,\n",
      "    'optim': Adam (\n",
      "Parameter Group 0\n",
      "    amsgrad: True\n",
      "    betas: (0.9, 0.999)\n",
      "    eps: 1e-08\n",
      "    lr: 0.001\n",
      "    weight_decay: 0\n",
      ")}\n",
      "[2020-09-08 10:39:19,269][MainProcess][__main__][INFO] Epochs: 1\n",
      "[2020-09-08 10:39:19,270][MainProcess][__main__][INFO] Train Dataset Size: 75900\n",
      "[2020-09-08 10:39:19,271][MainProcess][__main__][INFO] Dev Dataset Size: 10845\n",
      "[2020-09-08 10:39:19,271][MainProcess][__main__][INFO] Train Batch Size: 32\n",
      "[2020-09-08 10:39:19,272][MainProcess][__main__][INFO] Train Max Batch Size: 1024\n",
      "[2020-09-08 10:39:19,273][MainProcess][__main__][INFO] Total Parameters: 3267915\n",
      "[2020-09-08 10:39:19,274][MainProcess][__main__][INFO] Model:\n",
      "SeqToLabel(\n",
      "  (encoder): SeqEncoder(\n",
      "    (embedding): Embedding(6899, 300, padding_idx=0)\n",
      "    (rnn): LSTM(300, 278, dropout=0.6771122411928767)\n",
      "    (rnn_dropout): LockedDropout(p=0.02748852471287508)\n",
      "    (embedding_dropout): Dropout(p=0.7369165518338379)\n",
      "  )\n",
      "  (out): Sequential(\n",
      "    (0): Linear(in_features=278, out_features=278, bias=True)\n",
      "    (1): BatchNorm1d(278, eps=1e-05, momentum=0.1, affine=True, track_running_stats=True)\n",
      "    (2): ReLU()\n",
      "    (3): Dropout(p=0.36232550870052105)\n",
      "    (4): Linear(in_features=278, out_features=1703, bias=True)\n",
      "  )\n",
      ")\n",
      "[2020-09-08 10:39:19,275][MainProcess][__main__][INFO] Epoch: 0\n",
      "[2020-09-08 10:39:19,276][MainProcess][__main__][INFO] Training...\n"
     ]
    },
    {
     "name": "stderr",
     "output_type": "stream",
     "text": [
      "/mount/arbeitsdaten46/projekte/dialog-1/kanjurva/Simple-QA-EMNLP-2018/env/lib/python3.6/site-packages/torch/nn/modules/rnn.py:38: UserWarning: dropout option adds dropout after all but last recurrent layer, so non-zero dropout expects num_layers greater than 1, but got dropout=0.6771122411928767 and num_layers=1\n",
      "  \"num_layers={}\".format(dropout, num_layers))\n"
     ]
    },
    {
     "data": {
      "application/vnd.jupyter.widget-view+json": {
       "model_id": "59a444bcdfca416dbc0e0c3bb3d03b88",
       "version_major": 2,
       "version_minor": 0
      },
      "text/plain": [
       "HBox(children=(IntProgress(value=0, max=2371), HTML(value='')))"
      ]
     },
     "metadata": {},
     "output_type": "display_data"
    },
    {
     "name": "stdout",
     "output_type": "stream",
     "text": [
      "\n",
      "[2020-09-08 10:39:35,071][MainProcess][lib.checkpoint][INFO] Saving checkpoint: ../../experiments/relation_classifier.09_08_10:23:25/876.pt\n"
     ]
    },
    {
     "data": {
      "application/vnd.jupyter.widget-view+json": {
       "model_id": "7ee2e089708a4d86b72146acb8279b59",
       "version_major": 2,
       "version_minor": 0
      },
      "text/plain": [
       "HBox(children=(IntProgress(value=0, max=2), HTML(value='')))"
      ]
     },
     "metadata": {},
     "output_type": "display_data"
    },
    {
     "name": "stdout",
     "output_type": "stream",
     "text": [
      "\n",
      "[2020-09-08 10:39:36,467][MainProcess][__main__][INFO] NLLLoss: 5.620\n",
      "[2020-09-08 10:39:36,565][MainProcess][lib.metrics.accuracy][INFO] Accuracy: 0.0 [0 of 8192]\n"
     ]
    },
    {
     "name": "stderr",
     "output_type": "stream",
     "text": [
      "\r",
      "  2%|▏         | 19.999999999999996/1000.0 [07:02<5:21:42, 19.70s/it, min_score=-0, models_evaluated=0]"
     ]
    },
    {
     "name": "stdout",
     "output_type": "stream",
     "text": [
      "––––––––––––––––––––––––––––––––––––––––––––––––––––––––––––––––––––––––––––––––––––––––––––––––––––\n",
      "====================================================================================================\n",
      "[2020-09-08 10:39:36,604][MainProcess][lib.configurable][INFO] Checking configuration...\n",
      "[2020-09-08 10:39:36,606][MainProcess][lib.configurable][INFO] Configuration checked.\n",
      "[2020-09-08 10:39:36,607][MainProcess][lib.configurable][INFO] seq_to_label.SeqToLabel.__init__ was configured with:\n",
      "{   'bidirectional': False,\n",
      "    'decode_dropout': 0.8946969344144718,\n",
      "    'embedding_dropout': 0.13892602046717184,\n",
      "    'embedding_size': 300,\n",
      "    'freeze_embeddings': True,\n",
      "    'input_vocab_size': 6899,\n",
      "    'output_vocab_size': 1703,\n",
      "    'rnn_cell': 'gru',\n",
      "    'rnn_dropout': 0.5207634478414555,\n",
      "    'rnn_layers': 2,\n",
      "    'rnn_size': 482,\n",
      "    'rnn_variational_dropout': 0.20163698907150734}\n",
      "[2020-09-08 10:39:36,608][MainProcess][lib.configurable][INFO] seq_encoder.SeqEncoder.__init__ no config for: lib.nn.seq_encoder.SeqEncoder.__init__\n",
      "[2020-09-08 10:39:36,609][MainProcess][lib.configurable][INFO] seq_encoder.SeqEncoder.__init__ was configured with:\n",
      "{   'bidirectional': False,\n",
      "    'embedding_dropout': 0.13892602046717184,\n",
      "    'embedding_size': 300,\n",
      "    'freeze_embeddings': True,\n",
      "    'n_layers': 2,\n",
      "    'rnn_cell': 'gru',\n",
      "    'rnn_dropout': 0.5207634478414555,\n",
      "    'rnn_size': 482,\n",
      "    'rnn_variational_dropout': 0.20163698907150734,\n",
      "    'vocab_size': 6899}\n",
      "[2020-09-08 10:39:36,697][MainProcess][lib.configurable][INFO] adam.Adam.__init__ was configured with:\n",
      "{'amsgrad': True, 'params': <filter object at 0x7f8965853748>}\n",
      "[2020-09-08 10:39:36,698][MainProcess][lib.configurable][INFO] optimizer.Optimizer.__init__ was configured with:\n",
      "{   'max_grad_norm': 2.406497816637988,\n",
      "    'optim': Adam (\n",
      "Parameter Group 0\n",
      "    amsgrad: True\n",
      "    betas: (0.9, 0.999)\n",
      "    eps: 1e-08\n",
      "    lr: 0.001\n",
      "    weight_decay: 0\n",
      ")}\n",
      "[2020-09-08 10:39:36,699][MainProcess][__main__][INFO] Epochs: 1\n",
      "[2020-09-08 10:39:36,700][MainProcess][__main__][INFO] Train Dataset Size: 75900\n",
      "[2020-09-08 10:39:36,701][MainProcess][__main__][INFO] Dev Dataset Size: 10845\n",
      "[2020-09-08 10:39:36,702][MainProcess][__main__][INFO] Train Batch Size: 32\n",
      "[2020-09-08 10:39:36,703][MainProcess][__main__][INFO] Train Max Batch Size: 1024\n",
      "[2020-09-08 10:39:36,704][MainProcess][__main__][INFO] Total Parameters: 3586819\n",
      "[2020-09-08 10:39:36,705][MainProcess][__main__][INFO] Model:\n",
      "SeqToLabel(\n",
      "  (encoder): SeqEncoder(\n",
      "    (embedding): Embedding(6899, 300, padding_idx=0)\n",
      "    (rnn): GRU(300, 482, num_layers=2, dropout=0.20163698907150734)\n",
      "    (rnn_dropout): LockedDropout(p=0.5207634478414555)\n",
      "    (embedding_dropout): Dropout(p=0.13892602046717184)\n",
      "  )\n",
      "  (out): Sequential(\n",
      "    (0): Linear(in_features=482, out_features=482, bias=True)\n",
      "    (1): BatchNorm1d(482, eps=1e-05, momentum=0.1, affine=True, track_running_stats=True)\n",
      "    (2): ReLU()\n",
      "    (3): Dropout(p=0.8946969344144718)\n",
      "    (4): Linear(in_features=482, out_features=1703, bias=True)\n",
      "  )\n",
      ")\n",
      "[2020-09-08 10:39:36,705][MainProcess][__main__][INFO] Epoch: 0\n",
      "[2020-09-08 10:39:36,706][MainProcess][__main__][INFO] Training...\n"
     ]
    },
    {
     "data": {
      "application/vnd.jupyter.widget-view+json": {
       "model_id": "a3cae504e24d41cfb64653f751f134a5",
       "version_major": 2,
       "version_minor": 0
      },
      "text/plain": [
       "HBox(children=(IntProgress(value=0, max=2371), HTML(value='')))"
      ]
     },
     "metadata": {},
     "output_type": "display_data"
    },
    {
     "name": "stdout",
     "output_type": "stream",
     "text": [
      "\n",
      "[2020-09-08 10:39:57,197][MainProcess][lib.checkpoint][INFO] Saving checkpoint: ../../experiments/relation_classifier.09_08_10:23:25/898.pt\n"
     ]
    },
    {
     "data": {
      "application/vnd.jupyter.widget-view+json": {
       "model_id": "30fb1da748604666add2047f17e205c3",
       "version_major": 2,
       "version_minor": 0
      },
      "text/plain": [
       "HBox(children=(IntProgress(value=0, max=2), HTML(value='')))"
      ]
     },
     "metadata": {},
     "output_type": "display_data"
    },
    {
     "name": "stdout",
     "output_type": "stream",
     "text": [
      "\n",
      "[2020-09-08 10:39:59,375][MainProcess][__main__][INFO] NLLLoss: 5.620\n",
      "[2020-09-08 10:39:59,474][MainProcess][lib.metrics.accuracy][INFO] Accuracy: 0.0 [0 of 8192]\n"
     ]
    },
    {
     "name": "stderr",
     "output_type": "stream",
     "text": [
      "\r",
      "  2%|▏         | 21.111111111111107/1000.0 [07:25<5:25:53, 19.98s/it, min_score=-0, models_evaluated=0]"
     ]
    },
    {
     "name": "stdout",
     "output_type": "stream",
     "text": [
      "––––––––––––––––––––––––––––––––––––––––––––––––––––––––––––––––––––––––––––––––––––––––––––––––––––\n",
      "====================================================================================================\n",
      "[2020-09-08 10:39:59,522][MainProcess][lib.configurable][INFO] Checking configuration...\n",
      "[2020-09-08 10:39:59,524][MainProcess][lib.configurable][INFO] Configuration checked.\n",
      "[2020-09-08 10:39:59,525][MainProcess][lib.configurable][INFO] seq_to_label.SeqToLabel.__init__ was configured with:\n",
      "{   'bidirectional': False,\n",
      "    'decode_dropout': 0.18807789099569727,\n",
      "    'embedding_dropout': 0.6847620579094936,\n",
      "    'embedding_size': 300,\n",
      "    'freeze_embeddings': False,\n",
      "    'input_vocab_size': 6899,\n",
      "    'output_vocab_size': 1703,\n",
      "    'rnn_cell': 'lstm',\n",
      "    'rnn_dropout': 0.5527897226719037,\n",
      "    'rnn_layers': 2,\n",
      "    'rnn_size': 152,\n",
      "    'rnn_variational_dropout': 0.10752134988760846}\n",
      "[2020-09-08 10:39:59,526][MainProcess][lib.configurable][INFO] seq_encoder.SeqEncoder.__init__ no config for: lib.nn.seq_encoder.SeqEncoder.__init__\n",
      "[2020-09-08 10:39:59,527][MainProcess][lib.configurable][INFO] seq_encoder.SeqEncoder.__init__ was configured with:\n",
      "{   'bidirectional': False,\n",
      "    'embedding_dropout': 0.6847620579094936,\n",
      "    'embedding_size': 300,\n",
      "    'freeze_embeddings': False,\n",
      "    'n_layers': 2,\n",
      "    'rnn_cell': 'lstm',\n",
      "    'rnn_dropout': 0.5527897226719037,\n",
      "    'rnn_size': 152,\n",
      "    'rnn_variational_dropout': 0.10752134988760846,\n",
      "    'vocab_size': 6899}\n",
      "[2020-09-08 10:39:59,580][MainProcess][lib.configurable][INFO] adam.Adam.__init__ was configured with:\n",
      "{'amsgrad': True, 'params': <filter object at 0x7f89656fb198>}\n",
      "[2020-09-08 10:39:59,581][MainProcess][lib.configurable][INFO] optimizer.Optimizer.__init__ was configured with:\n",
      "{   'max_grad_norm': 4.277316899481204,\n",
      "    'optim': Adam (\n",
      "Parameter Group 0\n",
      "    amsgrad: True\n",
      "    betas: (0.9, 0.999)\n",
      "    eps: 1e-08\n",
      "    lr: 0.001\n",
      "    weight_decay: 0\n",
      ")}\n",
      "[2020-09-08 10:39:59,582][MainProcess][__main__][INFO] Epochs: 1\n",
      "[2020-09-08 10:39:59,583][MainProcess][__main__][INFO] Train Dataset Size: 75900\n",
      "[2020-09-08 10:39:59,584][MainProcess][__main__][INFO] Dev Dataset Size: 10845\n",
      "[2020-09-08 10:39:59,585][MainProcess][__main__][INFO] Train Batch Size: 32\n",
      "[2020-09-08 10:39:59,586][MainProcess][__main__][INFO] Train Max Batch Size: 1024\n",
      "[2020-09-08 10:39:59,587][MainProcess][__main__][INFO] Total Parameters: 2815899\n",
      "[2020-09-08 10:39:59,588][MainProcess][__main__][INFO] Model:\n",
      "SeqToLabel(\n",
      "  (encoder): SeqEncoder(\n",
      "    (embedding): Embedding(6899, 300, padding_idx=0)\n",
      "    (rnn): LSTM(300, 152, num_layers=2, dropout=0.10752134988760846)\n",
      "    (rnn_dropout): LockedDropout(p=0.5527897226719037)\n",
      "    (embedding_dropout): Dropout(p=0.6847620579094936)\n",
      "  )\n",
      "  (out): Sequential(\n",
      "    (0): Linear(in_features=152, out_features=152, bias=True)\n",
      "    (1): BatchNorm1d(152, eps=1e-05, momentum=0.1, affine=True, track_running_stats=True)\n",
      "    (2): ReLU()\n",
      "    (3): Dropout(p=0.18807789099569727)\n",
      "    (4): Linear(in_features=152, out_features=1703, bias=True)\n",
      "  )\n",
      ")\n",
      "[2020-09-08 10:39:59,588][MainProcess][__main__][INFO] Epoch: 0\n",
      "[2020-09-08 10:39:59,589][MainProcess][__main__][INFO] Training...\n"
     ]
    },
    {
     "data": {
      "application/vnd.jupyter.widget-view+json": {
       "model_id": "e8466ed8491741489b956af9b315aa9b",
       "version_major": 2,
       "version_minor": 0
      },
      "text/plain": [
       "HBox(children=(IntProgress(value=0, max=2371), HTML(value='')))"
      ]
     },
     "metadata": {},
     "output_type": "display_data"
    },
    {
     "name": "stdout",
     "output_type": "stream",
     "text": [
      "\n",
      "[2020-09-08 10:40:18,821][MainProcess][lib.checkpoint][INFO] Saving checkpoint: ../../experiments/relation_classifier.09_08_10:23:25/920.pt\n"
     ]
    },
    {
     "data": {
      "application/vnd.jupyter.widget-view+json": {
       "model_id": "c163b86b67cc456d8def0f3679e12562",
       "version_major": 2,
       "version_minor": 0
      },
      "text/plain": [
       "HBox(children=(IntProgress(value=0, max=2), HTML(value='')))"
      ]
     },
     "metadata": {},
     "output_type": "display_data"
    },
    {
     "name": "stdout",
     "output_type": "stream",
     "text": [
      "\n",
      "[2020-09-08 10:40:21,275][MainProcess][__main__][INFO] NLLLoss: 5.620\n",
      "[2020-09-08 10:40:21,345][MainProcess][lib.metrics.accuracy][INFO] Accuracy: 0.0 [0 of 8192]\n"
     ]
    },
    {
     "name": "stderr",
     "output_type": "stream",
     "text": [
      "\r",
      "  2%|▏         | 22.222222222222218/1000.0 [07:47<5:24:03, 19.89s/it, min_score=-0, models_evaluated=0]"
     ]
    },
    {
     "name": "stdout",
     "output_type": "stream",
     "text": [
      "––––––––––––––––––––––––––––––––––––––––––––––––––––––––––––––––––––––––––––––––––––––––––––––––––––\n",
      "====================================================================================================\n",
      "[2020-09-08 10:40:21,383][MainProcess][lib.configurable][INFO] Checking configuration...\n",
      "[2020-09-08 10:40:21,384][MainProcess][lib.configurable][INFO] Configuration checked.\n",
      "[2020-09-08 10:40:21,385][MainProcess][lib.configurable][INFO] seq_to_label.SeqToLabel.__init__ was configured with:\n",
      "{   'bidirectional': True,\n",
      "    'decode_dropout': 0.7425696706038016,\n",
      "    'embedding_dropout': 0.7513479938618328,\n",
      "    'embedding_size': 300,\n",
      "    'freeze_embeddings': True,\n",
      "    'input_vocab_size': 6899,\n",
      "    'output_vocab_size': 1703,\n",
      "    'rnn_cell': 'gru',\n",
      "    'rnn_dropout': 0.44684429792991354,\n",
      "    'rnn_layers': 1,\n",
      "    'rnn_size': 478,\n",
      "    'rnn_variational_dropout': 0.15716281873176002}\n",
      "[2020-09-08 10:40:21,386][MainProcess][lib.configurable][INFO] seq_encoder.SeqEncoder.__init__ no config for: lib.nn.seq_encoder.SeqEncoder.__init__\n",
      "[2020-09-08 10:40:21,387][MainProcess][lib.configurable][INFO] seq_encoder.SeqEncoder.__init__ was configured with:\n",
      "{   'bidirectional': True,\n",
      "    'embedding_dropout': 0.7513479938618328,\n",
      "    'embedding_size': 300,\n",
      "    'freeze_embeddings': True,\n",
      "    'n_layers': 1,\n",
      "    'rnn_cell': 'gru',\n",
      "    'rnn_dropout': 0.44684429792991354,\n",
      "    'rnn_size': 478,\n",
      "    'rnn_variational_dropout': 0.15716281873176002,\n",
      "    'vocab_size': 6899}\n",
      "[2020-09-08 10:40:21,452][MainProcess][lib.configurable][INFO] adam.Adam.__init__ was configured with:\n",
      "{'amsgrad': True, 'params': <filter object at 0x7f8965e62048>}\n",
      "[2020-09-08 10:40:21,453][MainProcess][lib.configurable][INFO] optimizer.Optimizer.__init__ was configured with:\n",
      "{   'max_grad_norm': 3.6743528062917035,\n",
      "    'optim': Adam (\n",
      "Parameter Group 0\n",
      "    amsgrad: True\n",
      "    betas: (0.9, 0.999)\n",
      "    eps: 1e-08\n",
      "    lr: 0.001\n",
      "    weight_decay: 0\n",
      ")}\n",
      "[2020-09-08 10:40:21,454][MainProcess][__main__][INFO] Epochs: 1\n",
      "[2020-09-08 10:40:21,455][MainProcess][__main__][INFO] Train Dataset Size: 75900\n",
      "[2020-09-08 10:40:21,455][MainProcess][__main__][INFO] Dev Dataset Size: 10845\n",
      "[2020-09-08 10:40:21,456][MainProcess][__main__][INFO] Train Batch Size: 32\n",
      "[2020-09-08 10:40:21,457][MainProcess][__main__][INFO] Train Max Batch Size: 1024\n",
      "[2020-09-08 10:40:21,458][MainProcess][__main__][INFO] Total Parameters: 1821449\n",
      "[2020-09-08 10:40:21,459][MainProcess][__main__][INFO] Model:\n",
      "SeqToLabel(\n",
      "  (encoder): SeqEncoder(\n",
      "    (embedding): Embedding(6899, 300, padding_idx=0)\n",
      "    (rnn): GRU(300, 239, dropout=0.15716281873176002, bidirectional=True)\n",
      "    (rnn_dropout): LockedDropout(p=0.44684429792991354)\n",
      "    (embedding_dropout): Dropout(p=0.7513479938618328)\n",
      "  )\n",
      "  (out): Sequential(\n",
      "    (0): Linear(in_features=478, out_features=478, bias=True)\n",
      "    (1): BatchNorm1d(478, eps=1e-05, momentum=0.1, affine=True, track_running_stats=True)\n",
      "    (2): ReLU()\n",
      "    (3): Dropout(p=0.7425696706038016)\n",
      "    (4): Linear(in_features=478, out_features=1703, bias=True)\n",
      "  )\n",
      ")\n",
      "[2020-09-08 10:40:21,460][MainProcess][__main__][INFO] Epoch: 0\n",
      "[2020-09-08 10:40:21,461][MainProcess][__main__][INFO] Training...\n"
     ]
    },
    {
     "name": "stderr",
     "output_type": "stream",
     "text": [
      "/mount/arbeitsdaten46/projekte/dialog-1/kanjurva/Simple-QA-EMNLP-2018/env/lib/python3.6/site-packages/torch/nn/modules/rnn.py:38: UserWarning: dropout option adds dropout after all but last recurrent layer, so non-zero dropout expects num_layers greater than 1, but got dropout=0.15716281873176002 and num_layers=1\n",
      "  \"num_layers={}\".format(dropout, num_layers))\n"
     ]
    },
    {
     "data": {
      "application/vnd.jupyter.widget-view+json": {
       "model_id": "c15efae945cf48ad8c2fa1f94cd4138c",
       "version_major": 2,
       "version_minor": 0
      },
      "text/plain": [
       "HBox(children=(IntProgress(value=0, max=2371), HTML(value='')))"
      ]
     },
     "metadata": {},
     "output_type": "display_data"
    },
    {
     "name": "stdout",
     "output_type": "stream",
     "text": [
      "\n",
      "[2020-09-08 10:40:37,196][MainProcess][lib.checkpoint][INFO] Saving checkpoint: ../../experiments/relation_classifier.09_08_10:23:25/938.pt\n"
     ]
    },
    {
     "data": {
      "application/vnd.jupyter.widget-view+json": {
       "model_id": "80dc97f0d7ef4df1897a4547c997a74e",
       "version_major": 2,
       "version_minor": 0
      },
      "text/plain": [
       "HBox(children=(IntProgress(value=0, max=2), HTML(value='')))"
      ]
     },
     "metadata": {},
     "output_type": "display_data"
    },
    {
     "name": "stdout",
     "output_type": "stream",
     "text": [
      "\n",
      "[2020-09-08 10:40:38,337][MainProcess][__main__][INFO] NLLLoss: 5.620\n",
      "[2020-09-08 10:40:38,404][MainProcess][lib.metrics.accuracy][INFO] Accuracy: 0.0 [0 of 8192]\n"
     ]
    },
    {
     "name": "stderr",
     "output_type": "stream",
     "text": [
      "\r",
      "  2%|▏         | 23.33333333333333/1000.0 [08:04<5:01:34, 18.53s/it, min_score=-0, models_evaluated=0] "
     ]
    },
    {
     "name": "stdout",
     "output_type": "stream",
     "text": [
      "––––––––––––––––––––––––––––––––––––––––––––––––––––––––––––––––––––––––––––––––––––––––––––––––––––\n",
      "====================================================================================================\n",
      "[2020-09-08 10:40:38,447][MainProcess][lib.configurable][INFO] Checking configuration...\n",
      "[2020-09-08 10:40:38,448][MainProcess][lib.configurable][INFO] Configuration checked.\n",
      "[2020-09-08 10:40:38,450][MainProcess][lib.configurable][INFO] seq_to_label.SeqToLabel.__init__ was configured with:\n",
      "{   'bidirectional': False,\n",
      "    'decode_dropout': 0.031149788563002528,\n",
      "    'embedding_dropout': 0.4763503157534621,\n",
      "    'embedding_size': 300,\n",
      "    'freeze_embeddings': False,\n",
      "    'input_vocab_size': 6899,\n",
      "    'output_vocab_size': 1703,\n",
      "    'rnn_cell': 'lstm',\n",
      "    'rnn_dropout': 0.3670158579946571,\n",
      "    'rnn_layers': 1,\n",
      "    'rnn_size': 368,\n",
      "    'rnn_variational_dropout': 0.3731408196823724}\n",
      "[2020-09-08 10:40:38,451][MainProcess][lib.configurable][INFO] seq_encoder.SeqEncoder.__init__ no config for: lib.nn.seq_encoder.SeqEncoder.__init__\n",
      "[2020-09-08 10:40:38,452][MainProcess][lib.configurable][INFO] seq_encoder.SeqEncoder.__init__ was configured with:\n",
      "{   'bidirectional': False,\n",
      "    'embedding_dropout': 0.4763503157534621,\n",
      "    'embedding_size': 300,\n",
      "    'freeze_embeddings': False,\n",
      "    'n_layers': 1,\n",
      "    'rnn_cell': 'lstm',\n",
      "    'rnn_dropout': 0.3670158579946571,\n",
      "    'rnn_size': 368,\n",
      "    'rnn_variational_dropout': 0.3731408196823724,\n",
      "    'vocab_size': 6899}\n",
      "[2020-09-08 10:40:38,515][MainProcess][lib.configurable][INFO] adam.Adam.__init__ was configured with:\n",
      "{'amsgrad': True, 'params': <filter object at 0x7f8965e62470>}\n",
      "[2020-09-08 10:40:38,516][MainProcess][lib.configurable][INFO] optimizer.Optimizer.__init__ was configured with:\n",
      "{   'max_grad_norm': 2.587041944060291,\n",
      "    'optim': Adam (\n",
      "Parameter Group 0\n",
      "    amsgrad: True\n",
      "    betas: (0.9, 0.999)\n",
      "    eps: 1e-08\n",
      "    lr: 0.001\n",
      "    weight_decay: 0\n",
      ")}\n",
      "[2020-09-08 10:40:38,517][MainProcess][__main__][INFO] Epochs: 1\n",
      "[2020-09-08 10:40:38,518][MainProcess][__main__][INFO] Train Dataset Size: 75900\n",
      "[2020-09-08 10:40:38,519][MainProcess][__main__][INFO] Dev Dataset Size: 10845\n",
      "[2020-09-08 10:40:38,520][MainProcess][__main__][INFO] Train Batch Size: 32\n",
      "[2020-09-08 10:40:38,521][MainProcess][__main__][INFO] Train Max Batch Size: 1024\n",
      "[2020-09-08 10:40:38,522][MainProcess][__main__][INFO] Total Parameters: 3820875\n",
      "[2020-09-08 10:40:38,522][MainProcess][__main__][INFO] Model:\n",
      "SeqToLabel(\n",
      "  (encoder): SeqEncoder(\n",
      "    (embedding): Embedding(6899, 300, padding_idx=0)\n",
      "    (rnn): LSTM(300, 368, dropout=0.3731408196823724)\n",
      "    (rnn_dropout): LockedDropout(p=0.3670158579946571)\n",
      "    (embedding_dropout): Dropout(p=0.4763503157534621)\n",
      "  )\n",
      "  (out): Sequential(\n",
      "    (0): Linear(in_features=368, out_features=368, bias=True)\n",
      "    (1): BatchNorm1d(368, eps=1e-05, momentum=0.1, affine=True, track_running_stats=True)\n",
      "    (2): ReLU()\n",
      "    (3): Dropout(p=0.031149788563002528)\n",
      "    (4): Linear(in_features=368, out_features=1703, bias=True)\n",
      "  )\n",
      ")\n",
      "[2020-09-08 10:40:38,523][MainProcess][__main__][INFO] Epoch: 0\n",
      "[2020-09-08 10:40:38,524][MainProcess][__main__][INFO] Training...\n"
     ]
    },
    {
     "name": "stderr",
     "output_type": "stream",
     "text": [
      "/mount/arbeitsdaten46/projekte/dialog-1/kanjurva/Simple-QA-EMNLP-2018/env/lib/python3.6/site-packages/torch/nn/modules/rnn.py:38: UserWarning: dropout option adds dropout after all but last recurrent layer, so non-zero dropout expects num_layers greater than 1, but got dropout=0.3731408196823724 and num_layers=1\n",
      "  \"num_layers={}\".format(dropout, num_layers))\n"
     ]
    },
    {
     "data": {
      "application/vnd.jupyter.widget-view+json": {
       "model_id": "44c6aa51c8674ae9a9ec4fc56f2d203d",
       "version_major": 2,
       "version_minor": 0
      },
      "text/plain": [
       "HBox(children=(IntProgress(value=0, max=2371), HTML(value='')))"
      ]
     },
     "metadata": {},
     "output_type": "display_data"
    },
    {
     "name": "stdout",
     "output_type": "stream",
     "text": [
      "\n",
      "[2020-09-08 10:40:52,548][MainProcess][lib.checkpoint][INFO] Saving checkpoint: ../../experiments/relation_classifier.09_08_10:23:25/954.pt\n"
     ]
    },
    {
     "data": {
      "application/vnd.jupyter.widget-view+json": {
       "model_id": "bc7f081434c645d0b6a9c5acce025cea",
       "version_major": 2,
       "version_minor": 0
      },
      "text/plain": [
       "HBox(children=(IntProgress(value=0, max=2), HTML(value='')))"
      ]
     },
     "metadata": {},
     "output_type": "display_data"
    },
    {
     "name": "stdout",
     "output_type": "stream",
     "text": [
      "\n",
      "[2020-09-08 10:40:53,992][MainProcess][__main__][INFO] NLLLoss: 5.620\n",
      "[2020-09-08 10:40:54,061][MainProcess][lib.metrics.accuracy][INFO] Accuracy: 0.0 [0 of 8192]\n"
     ]
    },
    {
     "name": "stderr",
     "output_type": "stream",
     "text": [
      "\r",
      "  2%|▏         | 24.44444444444444/1000.0 [08:20<4:39:35, 17.20s/it, min_score=-0, models_evaluated=0]"
     ]
    },
    {
     "name": "stdout",
     "output_type": "stream",
     "text": [
      "––––––––––––––––––––––––––––––––––––––––––––––––––––––––––––––––––––––––––––––––––––––––––––––––––––\n",
      "====================================================================================================\n",
      "[2020-09-08 10:40:54,102][MainProcess][lib.configurable][INFO] Checking configuration...\n",
      "[2020-09-08 10:40:54,103][MainProcess][lib.configurable][INFO] Configuration checked.\n",
      "[2020-09-08 10:40:54,104][MainProcess][lib.configurable][INFO] seq_to_label.SeqToLabel.__init__ was configured with:\n",
      "{   'bidirectional': True,\n",
      "    'decode_dropout': 0.5113071837753969,\n",
      "    'embedding_dropout': 0.1362892033265325,\n",
      "    'embedding_size': 300,\n",
      "    'freeze_embeddings': False,\n",
      "    'input_vocab_size': 6899,\n",
      "    'output_vocab_size': 1703,\n",
      "    'rnn_cell': 'gru',\n",
      "    'rnn_dropout': 0.058664923912296205,\n",
      "    'rnn_layers': 1,\n",
      "    'rnn_size': 412,\n",
      "    'rnn_variational_dropout': 0.6578908106540508}\n",
      "[2020-09-08 10:40:54,105][MainProcess][lib.configurable][INFO] seq_encoder.SeqEncoder.__init__ no config for: lib.nn.seq_encoder.SeqEncoder.__init__\n",
      "[2020-09-08 10:40:54,106][MainProcess][lib.configurable][INFO] seq_encoder.SeqEncoder.__init__ was configured with:\n",
      "{   'bidirectional': True,\n",
      "    'embedding_dropout': 0.1362892033265325,\n",
      "    'embedding_size': 300,\n",
      "    'freeze_embeddings': False,\n",
      "    'n_layers': 1,\n",
      "    'rnn_cell': 'gru',\n",
      "    'rnn_dropout': 0.058664923912296205,\n",
      "    'rnn_size': 412,\n",
      "    'rnn_variational_dropout': 0.6578908106540508,\n",
      "    'vocab_size': 6899}\n",
      "[2020-09-08 10:40:54,167][MainProcess][lib.configurable][INFO] adam.Adam.__init__ was configured with:\n",
      "{'amsgrad': True, 'params': <filter object at 0x7f8969dbe748>}\n",
      "[2020-09-08 10:40:54,168][MainProcess][lib.configurable][INFO] optimizer.Optimizer.__init__ was configured with:\n",
      "{   'max_grad_norm': 1.5069328935824753,\n",
      "    'optim': Adam (\n",
      "Parameter Group 0\n",
      "    amsgrad: True\n",
      "    betas: (0.9, 0.999)\n",
      "    eps: 1e-08\n",
      "    lr: 0.001\n",
      "    weight_decay: 0\n",
      ")}\n",
      "[2020-09-08 10:40:54,169][MainProcess][__main__][INFO] Epochs: 1\n",
      "[2020-09-08 10:40:54,169][MainProcess][__main__][INFO] Train Dataset Size: 75900\n",
      "[2020-09-08 10:40:54,170][MainProcess][__main__][INFO] Dev Dataset Size: 10845\n",
      "[2020-09-08 10:40:54,171][MainProcess][__main__][INFO] Train Batch Size: 32\n",
      "[2020-09-08 10:40:54,172][MainProcess][__main__][INFO] Train Max Batch Size: 1024\n",
      "[2020-09-08 10:40:54,173][MainProcess][__main__][INFO] Total Parameters: 3571907\n",
      "[2020-09-08 10:40:54,174][MainProcess][__main__][INFO] Model:\n",
      "SeqToLabel(\n",
      "  (encoder): SeqEncoder(\n",
      "    (embedding): Embedding(6899, 300, padding_idx=0)\n",
      "    (rnn): GRU(300, 206, dropout=0.6578908106540508, bidirectional=True)\n",
      "    (rnn_dropout): LockedDropout(p=0.058664923912296205)\n",
      "    (embedding_dropout): Dropout(p=0.1362892033265325)\n",
      "  )\n",
      "  (out): Sequential(\n",
      "    (0): Linear(in_features=412, out_features=412, bias=True)\n",
      "    (1): BatchNorm1d(412, eps=1e-05, momentum=0.1, affine=True, track_running_stats=True)\n",
      "    (2): ReLU()\n",
      "    (3): Dropout(p=0.5113071837753969)\n",
      "    (4): Linear(in_features=412, out_features=1703, bias=True)\n",
      "  )\n",
      ")\n",
      "[2020-09-08 10:40:54,174][MainProcess][__main__][INFO] Epoch: 0\n",
      "[2020-09-08 10:40:54,175][MainProcess][__main__][INFO] Training...\n"
     ]
    },
    {
     "name": "stderr",
     "output_type": "stream",
     "text": [
      "/mount/arbeitsdaten46/projekte/dialog-1/kanjurva/Simple-QA-EMNLP-2018/env/lib/python3.6/site-packages/torch/nn/modules/rnn.py:38: UserWarning: dropout option adds dropout after all but last recurrent layer, so non-zero dropout expects num_layers greater than 1, but got dropout=0.6578908106540508 and num_layers=1\n",
      "  \"num_layers={}\".format(dropout, num_layers))\n"
     ]
    },
    {
     "data": {
      "application/vnd.jupyter.widget-view+json": {
       "model_id": "8f7e38a00cdb42afb1f2d27177f7f32f",
       "version_major": 2,
       "version_minor": 0
      },
      "text/plain": [
       "HBox(children=(IntProgress(value=0, max=2371), HTML(value='')))"
      ]
     },
     "metadata": {},
     "output_type": "display_data"
    },
    {
     "name": "stdout",
     "output_type": "stream",
     "text": [
      "\n",
      "[2020-09-08 10:41:12,591][MainProcess][lib.checkpoint][INFO] Saving checkpoint: ../../experiments/relation_classifier.09_08_10:23:25/974.pt\n"
     ]
    },
    {
     "data": {
      "application/vnd.jupyter.widget-view+json": {
       "model_id": "1f615cb20d5841e58db1e2f98d2c5eca",
       "version_major": 2,
       "version_minor": 0
      },
      "text/plain": [
       "HBox(children=(IntProgress(value=0, max=2), HTML(value='')))"
      ]
     },
     "metadata": {},
     "output_type": "display_data"
    },
    {
     "name": "stdout",
     "output_type": "stream",
     "text": [
      "\n",
      "[2020-09-08 10:41:14,360][MainProcess][__main__][INFO] NLLLoss: 5.620\n",
      "[2020-09-08 10:41:14,427][MainProcess][lib.metrics.accuracy][INFO] Accuracy: 0.0 [0 of 8192]\n"
     ]
    },
    {
     "name": "stderr",
     "output_type": "stream",
     "text": [
      "\r",
      "  3%|▎         | 25.55555555555555/1000.0 [08:40<4:44:48, 17.54s/it, min_score=-0, models_evaluated=0]"
     ]
    },
    {
     "name": "stdout",
     "output_type": "stream",
     "text": [
      "––––––––––––––––––––––––––––––––––––––––––––––––––––––––––––––––––––––––––––––––––––––––––––––––––––\n",
      "====================================================================================================\n",
      "[2020-09-08 10:41:14,471][MainProcess][lib.configurable][INFO] Checking configuration...\n",
      "[2020-09-08 10:41:14,473][MainProcess][lib.configurable][INFO] Configuration checked.\n",
      "[2020-09-08 10:41:14,474][MainProcess][lib.configurable][INFO] seq_to_label.SeqToLabel.__init__ was configured with:\n",
      "{   'bidirectional': False,\n",
      "    'decode_dropout': 0.8616687501500063,\n",
      "    'embedding_dropout': 0.16289950226216882,\n",
      "    'embedding_size': 300,\n",
      "    'freeze_embeddings': True,\n",
      "    'input_vocab_size': 6899,\n",
      "    'output_vocab_size': 1703,\n",
      "    'rnn_cell': 'gru',\n",
      "    'rnn_dropout': 0.5680830182995672,\n",
      "    'rnn_layers': 1,\n",
      "    'rnn_size': 212,\n",
      "    'rnn_variational_dropout': 0.5352083619841871}\n",
      "[2020-09-08 10:41:14,475][MainProcess][lib.configurable][INFO] seq_encoder.SeqEncoder.__init__ no config for: lib.nn.seq_encoder.SeqEncoder.__init__\n",
      "[2020-09-08 10:41:14,476][MainProcess][lib.configurable][INFO] seq_encoder.SeqEncoder.__init__ was configured with:\n",
      "{   'bidirectional': False,\n",
      "    'embedding_dropout': 0.16289950226216882,\n",
      "    'embedding_size': 300,\n",
      "    'freeze_embeddings': True,\n",
      "    'n_layers': 1,\n",
      "    'rnn_cell': 'gru',\n",
      "    'rnn_dropout': 0.5680830182995672,\n",
      "    'rnn_size': 212,\n",
      "    'rnn_variational_dropout': 0.5352083619841871,\n",
      "    'vocab_size': 6899}\n",
      "[2020-09-08 10:41:14,528][MainProcess][lib.configurable][INFO] adam.Adam.__init__ was configured with:\n",
      "{'amsgrad': True, 'params': <filter object at 0x7f8969dbe748>}\n",
      "[2020-09-08 10:41:14,529][MainProcess][lib.configurable][INFO] optimizer.Optimizer.__init__ was configured with:\n",
      "{   'max_grad_norm': 0.9646405849885566,\n",
      "    'optim': Adam (\n",
      "Parameter Group 0\n",
      "    amsgrad: True\n",
      "    betas: (0.9, 0.999)\n",
      "    eps: 1e-08\n",
      "    lr: 0.001\n",
      "    weight_decay: 0\n",
      ")}\n",
      "[2020-09-08 10:41:14,530][MainProcess][__main__][INFO] Epochs: 1\n",
      "[2020-09-08 10:41:14,530][MainProcess][__main__][INFO] Train Dataset Size: 75900\n",
      "[2020-09-08 10:41:14,531][MainProcess][__main__][INFO] Dev Dataset Size: 10845\n",
      "[2020-09-08 10:41:14,532][MainProcess][__main__][INFO] Train Batch Size: 32\n",
      "[2020-09-08 10:41:14,533][MainProcess][__main__][INFO] Train Max Batch Size: 1024\n",
      "[2020-09-08 10:41:14,534][MainProcess][__main__][INFO] Total Parameters: 735223\n",
      "[2020-09-08 10:41:14,535][MainProcess][__main__][INFO] Model:\n",
      "SeqToLabel(\n",
      "  (encoder): SeqEncoder(\n",
      "    (embedding): Embedding(6899, 300, padding_idx=0)\n",
      "    (rnn): GRU(300, 212, dropout=0.5352083619841871)\n",
      "    (rnn_dropout): LockedDropout(p=0.5680830182995672)\n",
      "    (embedding_dropout): Dropout(p=0.16289950226216882)\n",
      "  )\n",
      "  (out): Sequential(\n",
      "    (0): Linear(in_features=212, out_features=212, bias=True)\n",
      "    (1): BatchNorm1d(212, eps=1e-05, momentum=0.1, affine=True, track_running_stats=True)\n",
      "    (2): ReLU()\n",
      "    (3): Dropout(p=0.8616687501500063)\n",
      "    (4): Linear(in_features=212, out_features=1703, bias=True)\n",
      "  )\n",
      ")\n",
      "[2020-09-08 10:41:14,536][MainProcess][__main__][INFO] Epoch: 0\n",
      "[2020-09-08 10:41:14,536][MainProcess][__main__][INFO] Training...\n"
     ]
    },
    {
     "name": "stderr",
     "output_type": "stream",
     "text": [
      "/mount/arbeitsdaten46/projekte/dialog-1/kanjurva/Simple-QA-EMNLP-2018/env/lib/python3.6/site-packages/torch/nn/modules/rnn.py:38: UserWarning: dropout option adds dropout after all but last recurrent layer, so non-zero dropout expects num_layers greater than 1, but got dropout=0.5352083619841871 and num_layers=1\n",
      "  \"num_layers={}\".format(dropout, num_layers))\n"
     ]
    },
    {
     "data": {
      "application/vnd.jupyter.widget-view+json": {
       "model_id": "c356f9404a374a9fa9314ccee0ce5041",
       "version_major": 2,
       "version_minor": 0
      },
      "text/plain": [
       "HBox(children=(IntProgress(value=0, max=2371), HTML(value='')))"
      ]
     },
     "metadata": {},
     "output_type": "display_data"
    },
    {
     "name": "stdout",
     "output_type": "stream",
     "text": [
      "\n",
      "[2020-09-08 10:41:26,770][MainProcess][lib.checkpoint][INFO] Saving checkpoint: ../../experiments/relation_classifier.09_08_10:23:25/988.pt\n"
     ]
    },
    {
     "data": {
      "application/vnd.jupyter.widget-view+json": {
       "model_id": "0b98633f3153427bb295c10472e92bd3",
       "version_major": 2,
       "version_minor": 0
      },
      "text/plain": [
       "HBox(children=(IntProgress(value=0, max=2), HTML(value='')))"
      ]
     },
     "metadata": {},
     "output_type": "display_data"
    },
    {
     "name": "stdout",
     "output_type": "stream",
     "text": [
      "\n",
      "[2020-09-08 10:41:27,641][MainProcess][__main__][INFO] NLLLoss: 5.620\n",
      "[2020-09-08 10:41:27,708][MainProcess][lib.metrics.accuracy][INFO] Accuracy: 0.0 [0 of 8192]\n"
     ]
    },
    {
     "name": "stderr",
     "output_type": "stream",
     "text": [
      "\r",
      "  3%|▎         | 26.66666666666666/1000.0 [08:54<4:17:17, 15.86s/it, min_score=-0, models_evaluated=0]"
     ]
    },
    {
     "name": "stdout",
     "output_type": "stream",
     "text": [
      "––––––––––––––––––––––––––––––––––––––––––––––––––––––––––––––––––––––––––––––––––––––––––––––––––––\n",
      "====================================================================================================\n",
      "[2020-09-08 10:41:27,748][MainProcess][lib.configurable][INFO] Checking configuration...\n",
      "[2020-09-08 10:41:27,749][MainProcess][lib.configurable][INFO] Configuration checked.\n",
      "[2020-09-08 10:41:27,750][MainProcess][lib.configurable][INFO] seq_to_label.SeqToLabel.__init__ was configured with:\n",
      "{   'bidirectional': False,\n",
      "    'decode_dropout': 0.4356644954396642,\n",
      "    'embedding_dropout': 0.0763166454648975,\n",
      "    'embedding_size': 300,\n",
      "    'freeze_embeddings': True,\n",
      "    'input_vocab_size': 6899,\n",
      "    'output_vocab_size': 1703,\n",
      "    'rnn_cell': 'gru',\n",
      "    'rnn_dropout': 0.6530820509584434,\n",
      "    'rnn_layers': 1,\n",
      "    'rnn_size': 388,\n",
      "    'rnn_variational_dropout': 0.4791839004458719}\n",
      "[2020-09-08 10:41:27,751][MainProcess][lib.configurable][INFO] seq_encoder.SeqEncoder.__init__ no config for: lib.nn.seq_encoder.SeqEncoder.__init__\n",
      "[2020-09-08 10:41:27,752][MainProcess][lib.configurable][INFO] seq_encoder.SeqEncoder.__init__ was configured with:\n",
      "{   'bidirectional': False,\n",
      "    'embedding_dropout': 0.0763166454648975,\n",
      "    'embedding_size': 300,\n",
      "    'freeze_embeddings': True,\n",
      "    'n_layers': 1,\n",
      "    'rnn_cell': 'gru',\n",
      "    'rnn_dropout': 0.6530820509584434,\n",
      "    'rnn_size': 388,\n",
      "    'rnn_variational_dropout': 0.4791839004458719,\n",
      "    'vocab_size': 6899}\n",
      "[2020-09-08 10:41:27,812][MainProcess][lib.configurable][INFO] adam.Adam.__init__ was configured with:\n",
      "{'amsgrad': True, 'params': <filter object at 0x7f89709cd390>}\n",
      "[2020-09-08 10:41:27,813][MainProcess][lib.configurable][INFO] optimizer.Optimizer.__init__ was configured with:\n",
      "{   'max_grad_norm': 2.459454405293418,\n",
      "    'optim': Adam (\n",
      "Parameter Group 0\n",
      "    amsgrad: True\n",
      "    betas: (0.9, 0.999)\n",
      "    eps: 1e-08\n",
      "    lr: 0.001\n",
      "    weight_decay: 0\n",
      ")}\n",
      "[2020-09-08 10:41:27,814][MainProcess][__main__][INFO] Epochs: 1\n",
      "[2020-09-08 10:41:27,815][MainProcess][__main__][INFO] Train Dataset Size: 75900\n",
      "[2020-09-08 10:41:27,815][MainProcess][__main__][INFO] Dev Dataset Size: 10845\n",
      "[2020-09-08 10:41:27,816][MainProcess][__main__][INFO] Train Batch Size: 32\n",
      "[2020-09-08 10:41:27,817][MainProcess][__main__][INFO] Train Max Batch Size: 1024\n",
      "[2020-09-08 10:41:27,818][MainProcess][__main__][INFO] Total Parameters: 1617335\n",
      "[2020-09-08 10:41:27,819][MainProcess][__main__][INFO] Model:\n",
      "SeqToLabel(\n",
      "  (encoder): SeqEncoder(\n",
      "    (embedding): Embedding(6899, 300, padding_idx=0)\n",
      "    (rnn): GRU(300, 388, dropout=0.4791839004458719)\n",
      "    (rnn_dropout): LockedDropout(p=0.6530820509584434)\n",
      "    (embedding_dropout): Dropout(p=0.0763166454648975)\n",
      "  )\n",
      "  (out): Sequential(\n",
      "    (0): Linear(in_features=388, out_features=388, bias=True)\n",
      "    (1): BatchNorm1d(388, eps=1e-05, momentum=0.1, affine=True, track_running_stats=True)\n",
      "    (2): ReLU()\n",
      "    (3): Dropout(p=0.4356644954396642)\n",
      "    (4): Linear(in_features=388, out_features=1703, bias=True)\n",
      "  )\n",
      ")\n",
      "[2020-09-08 10:41:27,820][MainProcess][__main__][INFO] Epoch: 0\n",
      "[2020-09-08 10:41:27,820][MainProcess][__main__][INFO] Training...\n"
     ]
    },
    {
     "name": "stderr",
     "output_type": "stream",
     "text": [
      "/mount/arbeitsdaten46/projekte/dialog-1/kanjurva/Simple-QA-EMNLP-2018/env/lib/python3.6/site-packages/torch/nn/modules/rnn.py:38: UserWarning: dropout option adds dropout after all but last recurrent layer, so non-zero dropout expects num_layers greater than 1, but got dropout=0.4791839004458719 and num_layers=1\n",
      "  \"num_layers={}\".format(dropout, num_layers))\n"
     ]
    },
    {
     "data": {
      "application/vnd.jupyter.widget-view+json": {
       "model_id": "cec82377a962408da0a1d2ffecf63145",
       "version_major": 2,
       "version_minor": 0
      },
      "text/plain": [
       "HBox(children=(IntProgress(value=0, max=2371), HTML(value='')))"
      ]
     },
     "metadata": {},
     "output_type": "display_data"
    },
    {
     "name": "stdout",
     "output_type": "stream",
     "text": [
      "\n",
      "[2020-09-08 10:41:40,724][MainProcess][lib.checkpoint][INFO] Saving checkpoint: ../../experiments/relation_classifier.09_08_10:23:25/1002.pt\n"
     ]
    },
    {
     "data": {
      "application/vnd.jupyter.widget-view+json": {
       "model_id": "e275997551454c76ab350899236defd0",
       "version_major": 2,
       "version_minor": 0
      },
      "text/plain": [
       "HBox(children=(IntProgress(value=0, max=2), HTML(value='')))"
      ]
     },
     "metadata": {},
     "output_type": "display_data"
    },
    {
     "name": "stdout",
     "output_type": "stream",
     "text": [
      "\n",
      "[2020-09-08 10:41:41,997][MainProcess][__main__][INFO] NLLLoss: 5.620\n",
      "[2020-09-08 10:41:42,064][MainProcess][lib.metrics.accuracy][INFO] Accuracy: 0.0 [0 of 8192]\n"
     ]
    },
    {
     "name": "stderr",
     "output_type": "stream",
     "text": [
      "\r",
      "  3%|▎         | 27.77777777777777/1000.0 [09:08<4:02:42, 14.98s/it, min_score=-0, models_evaluated=0]"
     ]
    },
    {
     "name": "stdout",
     "output_type": "stream",
     "text": [
      "––––––––––––––––––––––––––––––––––––––––––––––––––––––––––––––––––––––––––––––––––––––––––––––––––––\n",
      "====================================================================================================\n",
      "[2020-09-08 10:41:42,103][MainProcess][lib.configurable][INFO] Checking configuration...\n",
      "[2020-09-08 10:41:42,105][MainProcess][lib.configurable][INFO] Configuration checked.\n",
      "[2020-09-08 10:41:42,106][MainProcess][lib.configurable][INFO] seq_to_label.SeqToLabel.__init__ was configured with:\n",
      "{   'bidirectional': True,\n",
      "    'decode_dropout': 0.3951951526753465,\n",
      "    'embedding_dropout': 0.7230437996062097,\n",
      "    'embedding_size': 300,\n",
      "    'freeze_embeddings': True,\n",
      "    'input_vocab_size': 6899,\n",
      "    'output_vocab_size': 1703,\n",
      "    'rnn_cell': 'gru',\n",
      "    'rnn_dropout': 0.014749805802747231,\n",
      "    'rnn_layers': 1,\n",
      "    'rnn_size': 352,\n",
      "    'rnn_variational_dropout': 0.6437909558352486}\n",
      "[2020-09-08 10:41:42,107][MainProcess][lib.configurable][INFO] seq_encoder.SeqEncoder.__init__ no config for: lib.nn.seq_encoder.SeqEncoder.__init__\n",
      "[2020-09-08 10:41:42,108][MainProcess][lib.configurable][INFO] seq_encoder.SeqEncoder.__init__ was configured with:\n",
      "{   'bidirectional': True,\n",
      "    'embedding_dropout': 0.7230437996062097,\n",
      "    'embedding_size': 300,\n",
      "    'freeze_embeddings': True,\n",
      "    'n_layers': 1,\n",
      "    'rnn_cell': 'gru',\n",
      "    'rnn_dropout': 0.014749805802747231,\n",
      "    'rnn_size': 352,\n",
      "    'rnn_variational_dropout': 0.6437909558352486,\n",
      "    'vocab_size': 6899}\n",
      "[2020-09-08 10:41:42,164][MainProcess][lib.configurable][INFO] adam.Adam.__init__ was configured with:\n",
      "{'amsgrad': True, 'params': <filter object at 0x7f89658535c0>}\n",
      "[2020-09-08 10:41:42,164][MainProcess][lib.configurable][INFO] optimizer.Optimizer.__init__ was configured with:\n",
      "{   'max_grad_norm': 2.351563473396084,\n",
      "    'optim': Adam (\n",
      "Parameter Group 0\n",
      "    amsgrad: True\n",
      "    betas: (0.9, 0.999)\n",
      "    eps: 1e-08\n",
      "    lr: 0.001\n",
      "    weight_decay: 0\n",
      ")}\n",
      "[2020-09-08 10:41:42,165][MainProcess][__main__][INFO] Epochs: 1\n",
      "[2020-09-08 10:41:42,166][MainProcess][__main__][INFO] Train Dataset Size: 75900\n",
      "[2020-09-08 10:41:42,167][MainProcess][__main__][INFO] Dev Dataset Size: 10845\n",
      "[2020-09-08 10:41:42,167][MainProcess][__main__][INFO] Train Batch Size: 32\n",
      "[2020-09-08 10:41:42,168][MainProcess][__main__][INFO] Train Max Batch Size: 1024\n",
      "[2020-09-08 10:41:42,169][MainProcess][__main__][INFO] Total Parameters: 1230887\n",
      "[2020-09-08 10:41:42,170][MainProcess][__main__][INFO] Model:\n",
      "SeqToLabel(\n",
      "  (encoder): SeqEncoder(\n",
      "    (embedding): Embedding(6899, 300, padding_idx=0)\n",
      "    (rnn): GRU(300, 176, dropout=0.6437909558352486, bidirectional=True)\n",
      "    (rnn_dropout): LockedDropout(p=0.014749805802747231)\n",
      "    (embedding_dropout): Dropout(p=0.7230437996062097)\n",
      "  )\n",
      "  (out): Sequential(\n",
      "    (0): Linear(in_features=352, out_features=352, bias=True)\n",
      "    (1): BatchNorm1d(352, eps=1e-05, momentum=0.1, affine=True, track_running_stats=True)\n",
      "    (2): ReLU()\n",
      "    (3): Dropout(p=0.3951951526753465)\n",
      "    (4): Linear(in_features=352, out_features=1703, bias=True)\n",
      "  )\n",
      ")\n",
      "[2020-09-08 10:41:42,171][MainProcess][__main__][INFO] Epoch: 0\n",
      "[2020-09-08 10:41:42,171][MainProcess][__main__][INFO] Training...\n"
     ]
    },
    {
     "name": "stderr",
     "output_type": "stream",
     "text": [
      "/mount/arbeitsdaten46/projekte/dialog-1/kanjurva/Simple-QA-EMNLP-2018/env/lib/python3.6/site-packages/torch/nn/modules/rnn.py:38: UserWarning: dropout option adds dropout after all but last recurrent layer, so non-zero dropout expects num_layers greater than 1, but got dropout=0.6437909558352486 and num_layers=1\n",
      "  \"num_layers={}\".format(dropout, num_layers))\n"
     ]
    },
    {
     "data": {
      "application/vnd.jupyter.widget-view+json": {
       "model_id": "6866e65dcc2448a89cea33a3b04c92f1",
       "version_major": 2,
       "version_minor": 0
      },
      "text/plain": [
       "HBox(children=(IntProgress(value=0, max=2371), HTML(value='')))"
      ]
     },
     "metadata": {},
     "output_type": "display_data"
    },
    {
     "name": "stdout",
     "output_type": "stream",
     "text": [
      "\n",
      "[2020-09-08 10:41:57,660][MainProcess][lib.checkpoint][INFO] Saving checkpoint: ../../experiments/relation_classifier.09_08_10:23:25/1019.pt\n"
     ]
    },
    {
     "data": {
      "application/vnd.jupyter.widget-view+json": {
       "model_id": "b1047a1f354b48eb9a2d14c1eb488ffc",
       "version_major": 2,
       "version_minor": 0
      },
      "text/plain": [
       "HBox(children=(IntProgress(value=0, max=2), HTML(value='')))"
      ]
     },
     "metadata": {},
     "output_type": "display_data"
    },
    {
     "name": "stdout",
     "output_type": "stream",
     "text": [
      "\n",
      "[2020-09-08 10:41:58,610][MainProcess][__main__][INFO] NLLLoss: 5.620\n",
      "[2020-09-08 10:41:58,678][MainProcess][lib.metrics.accuracy][INFO] Accuracy: 0.0 [0 of 8192]\n"
     ]
    },
    {
     "name": "stderr",
     "output_type": "stream",
     "text": [
      "\r",
      "  3%|▎         | 28.888888888888882/1000.0 [09:25<4:02:17, 14.97s/it, min_score=-0, models_evaluated=0]"
     ]
    },
    {
     "name": "stdout",
     "output_type": "stream",
     "text": [
      "––––––––––––––––––––––––––––––––––––––––––––––––––––––––––––––––––––––––––––––––––––––––––––––––––––\n",
      "====================================================================================================\n",
      "[2020-09-08 10:41:58,716][MainProcess][lib.configurable][INFO] Checking configuration...\n",
      "[2020-09-08 10:41:58,717][MainProcess][lib.configurable][INFO] Configuration checked.\n",
      "[2020-09-08 10:41:58,718][MainProcess][lib.configurable][INFO] seq_to_label.SeqToLabel.__init__ was configured with:\n",
      "{   'bidirectional': False,\n",
      "    'decode_dropout': 0.3282719799161263,\n",
      "    'embedding_dropout': 0.5454681694315159,\n",
      "    'embedding_size': 300,\n",
      "    'freeze_embeddings': True,\n",
      "    'input_vocab_size': 6899,\n",
      "    'output_vocab_size': 1703,\n",
      "    'rnn_cell': 'gru',\n",
      "    'rnn_dropout': 0.04103003730115078,\n",
      "    'rnn_layers': 3,\n",
      "    'rnn_size': 200,\n",
      "    'rnn_variational_dropout': 0.4691527012824656}\n",
      "[2020-09-08 10:41:58,719][MainProcess][lib.configurable][INFO] seq_encoder.SeqEncoder.__init__ no config for: lib.nn.seq_encoder.SeqEncoder.__init__\n",
      "[2020-09-08 10:41:58,720][MainProcess][lib.configurable][INFO] seq_encoder.SeqEncoder.__init__ was configured with:\n",
      "{   'bidirectional': False,\n",
      "    'embedding_dropout': 0.5454681694315159,\n",
      "    'embedding_size': 300,\n",
      "    'freeze_embeddings': True,\n",
      "    'n_layers': 3,\n",
      "    'rnn_cell': 'gru',\n",
      "    'rnn_dropout': 0.04103003730115078,\n",
      "    'rnn_size': 200,\n",
      "    'rnn_variational_dropout': 0.4691527012824656,\n",
      "    'vocab_size': 6899}\n",
      "[2020-09-08 10:41:58,774][MainProcess][lib.configurable][INFO] adam.Adam.__init__ was configured with:\n",
      "{'amsgrad': True, 'params': <filter object at 0x7f89658535c0>}\n",
      "[2020-09-08 10:41:58,775][MainProcess][lib.configurable][INFO] optimizer.Optimizer.__init__ was configured with:\n",
      "{   'max_grad_norm': 4.1907979855693025,\n",
      "    'optim': Adam (\n",
      "Parameter Group 0\n",
      "    amsgrad: True\n",
      "    betas: (0.9, 0.999)\n",
      "    eps: 1e-08\n",
      "    lr: 0.001\n",
      "    weight_decay: 0\n",
      ")}\n",
      "[2020-09-08 10:41:58,775][MainProcess][__main__][INFO] Epochs: 1\n",
      "[2020-09-08 10:41:58,776][MainProcess][__main__][INFO] Train Dataset Size: 75900\n",
      "[2020-09-08 10:41:58,777][MainProcess][__main__][INFO] Dev Dataset Size: 10845\n",
      "[2020-09-08 10:41:58,778][MainProcess][__main__][INFO] Train Batch Size: 32\n",
      "[2020-09-08 10:41:58,778][MainProcess][__main__][INFO] Train Max Batch Size: 1024\n",
      "[2020-09-08 10:41:58,779][MainProcess][__main__][INFO] Total Parameters: 1166503\n",
      "[2020-09-08 10:41:58,780][MainProcess][__main__][INFO] Model:\n",
      "SeqToLabel(\n",
      "  (encoder): SeqEncoder(\n",
      "    (embedding): Embedding(6899, 300, padding_idx=0)\n",
      "    (rnn): GRU(300, 200, num_layers=3, dropout=0.4691527012824656)\n",
      "    (rnn_dropout): LockedDropout(p=0.04103003730115078)\n",
      "    (embedding_dropout): Dropout(p=0.5454681694315159)\n",
      "  )\n",
      "  (out): Sequential(\n",
      "    (0): Linear(in_features=200, out_features=200, bias=True)\n",
      "    (1): BatchNorm1d(200, eps=1e-05, momentum=0.1, affine=True, track_running_stats=True)\n",
      "    (2): ReLU()\n",
      "    (3): Dropout(p=0.3282719799161263)\n",
      "    (4): Linear(in_features=200, out_features=1703, bias=True)\n",
      "  )\n",
      ")\n",
      "[2020-09-08 10:41:58,781][MainProcess][__main__][INFO] Epoch: 0\n",
      "[2020-09-08 10:41:58,782][MainProcess][__main__][INFO] Training...\n"
     ]
    },
    {
     "data": {
      "application/vnd.jupyter.widget-view+json": {
       "model_id": "162265f2f3b14574816ed1baf02d74e5",
       "version_major": 2,
       "version_minor": 0
      },
      "text/plain": [
       "HBox(children=(IntProgress(value=0, max=2371), HTML(value='')))"
      ]
     },
     "metadata": {},
     "output_type": "display_data"
    },
    {
     "name": "stdout",
     "output_type": "stream",
     "text": [
      "\n",
      "[2020-09-08 10:42:17,130][MainProcess][lib.checkpoint][INFO] Saving checkpoint: ../../experiments/relation_classifier.09_08_10:23:25/1038.pt\n"
     ]
    },
    {
     "data": {
      "application/vnd.jupyter.widget-view+json": {
       "model_id": "63f9fefbac574ab289cfb9d9e42fa39b",
       "version_major": 2,
       "version_minor": 0
      },
      "text/plain": [
       "HBox(children=(IntProgress(value=0, max=2), HTML(value='')))"
      ]
     },
     "metadata": {},
     "output_type": "display_data"
    },
    {
     "name": "stdout",
     "output_type": "stream",
     "text": [
      "\n",
      "[2020-09-08 10:42:18,435][MainProcess][__main__][INFO] NLLLoss: 5.620\n",
      "[2020-09-08 10:42:18,503][MainProcess][lib.metrics.accuracy][INFO] Accuracy: 0.0 [0 of 8192]\n"
     ]
    },
    {
     "name": "stderr",
     "output_type": "stream",
     "text": [
      "\r",
      "  3%|▎         | 29.999999999999993/1000.0 [09:44<4:15:56, 15.83s/it, min_score=-0, models_evaluated=0]"
     ]
    },
    {
     "name": "stdout",
     "output_type": "stream",
     "text": [
      "––––––––––––––––––––––––––––––––––––––––––––––––––––––––––––––––––––––––––––––––––––––––––––––––––––\n",
      "====================================================================================================\n",
      "[2020-09-08 10:42:18,538][MainProcess][lib.configurable][INFO] Checking configuration...\n",
      "[2020-09-08 10:42:18,539][MainProcess][lib.configurable][INFO] Configuration checked.\n",
      "[2020-09-08 10:42:18,541][MainProcess][lib.configurable][INFO] seq_to_label.SeqToLabel.__init__ was configured with:\n",
      "{   'bidirectional': False,\n",
      "    'decode_dropout': 0.4076686496057491,\n",
      "    'embedding_dropout': 0.10427514882308214,\n",
      "    'embedding_size': 300,\n",
      "    'freeze_embeddings': False,\n",
      "    'input_vocab_size': 6899,\n",
      "    'output_vocab_size': 1703,\n",
      "    'rnn_cell': 'gru',\n",
      "    'rnn_dropout': 0.6367742478924269,\n",
      "    'rnn_layers': 3,\n",
      "    'rnn_size': 366,\n",
      "    'rnn_variational_dropout': 0.34688905299043016}\n",
      "[2020-09-08 10:42:18,542][MainProcess][lib.configurable][INFO] seq_encoder.SeqEncoder.__init__ no config for: lib.nn.seq_encoder.SeqEncoder.__init__\n",
      "[2020-09-08 10:42:18,543][MainProcess][lib.configurable][INFO] seq_encoder.SeqEncoder.__init__ was configured with:\n",
      "{   'bidirectional': False,\n",
      "    'embedding_dropout': 0.10427514882308214,\n",
      "    'embedding_size': 300,\n",
      "    'freeze_embeddings': False,\n",
      "    'n_layers': 3,\n",
      "    'rnn_cell': 'gru',\n",
      "    'rnn_dropout': 0.6367742478924269,\n",
      "    'rnn_size': 366,\n",
      "    'rnn_variational_dropout': 0.34688905299043016,\n",
      "    'vocab_size': 6899}\n",
      "[2020-09-08 10:42:18,626][MainProcess][lib.configurable][INFO] adam.Adam.__init__ was configured with:\n",
      "{'amsgrad': True, 'params': <filter object at 0x7f8971229c18>}\n",
      "[2020-09-08 10:42:18,627][MainProcess][lib.configurable][INFO] optimizer.Optimizer.__init__ was configured with:\n",
      "{   'max_grad_norm': 4.240978043992365,\n",
      "    'optim': Adam (\n",
      "Parameter Group 0\n",
      "    amsgrad: True\n",
      "    betas: (0.9, 0.999)\n",
      "    eps: 1e-08\n",
      "    lr: 0.001\n",
      "    weight_decay: 0\n",
      ")}\n",
      "[2020-09-08 10:42:18,628][MainProcess][__main__][INFO] Epochs: 1\n",
      "[2020-09-08 10:42:18,629][MainProcess][__main__][INFO] Train Dataset Size: 75900\n",
      "[2020-09-08 10:42:18,630][MainProcess][__main__][INFO] Dev Dataset Size: 10845\n",
      "[2020-09-08 10:42:18,631][MainProcess][__main__][INFO] Train Batch Size: 32\n",
      "[2020-09-08 10:42:18,632][MainProcess][__main__][INFO] Train Max Batch Size: 1024\n",
      "[2020-09-08 10:42:18,633][MainProcess][__main__][INFO] Total Parameters: 5175083\n",
      "[2020-09-08 10:42:18,634][MainProcess][__main__][INFO] Model:\n",
      "SeqToLabel(\n",
      "  (encoder): SeqEncoder(\n",
      "    (embedding): Embedding(6899, 300, padding_idx=0)\n",
      "    (rnn): GRU(300, 366, num_layers=3, dropout=0.34688905299043016)\n",
      "    (rnn_dropout): LockedDropout(p=0.6367742478924269)\n",
      "    (embedding_dropout): Dropout(p=0.10427514882308214)\n",
      "  )\n",
      "  (out): Sequential(\n",
      "    (0): Linear(in_features=366, out_features=366, bias=True)\n",
      "    (1): BatchNorm1d(366, eps=1e-05, momentum=0.1, affine=True, track_running_stats=True)\n",
      "    (2): ReLU()\n",
      "    (3): Dropout(p=0.4076686496057491)\n",
      "    (4): Linear(in_features=366, out_features=1703, bias=True)\n",
      "  )\n",
      ")\n",
      "[2020-09-08 10:42:18,634][MainProcess][__main__][INFO] Epoch: 0\n",
      "[2020-09-08 10:42:18,635][MainProcess][__main__][INFO] Training...\n"
     ]
    },
    {
     "data": {
      "application/vnd.jupyter.widget-view+json": {
       "model_id": "fda3505668de471f9e7e1f80cd1c4b6d",
       "version_major": 2,
       "version_minor": 0
      },
      "text/plain": [
       "HBox(children=(IntProgress(value=0, max=2371), HTML(value='')))"
      ]
     },
     "metadata": {},
     "output_type": "display_data"
    },
    {
     "name": "stdout",
     "output_type": "stream",
     "text": [
      "\n",
      "[2020-09-08 10:42:41,506][MainProcess][lib.checkpoint][INFO] Saving checkpoint: ../../experiments/relation_classifier.09_08_10:23:25/1063.pt\n"
     ]
    },
    {
     "data": {
      "application/vnd.jupyter.widget-view+json": {
       "model_id": "6ff8f51a68ba45bf8cc6b33c6d14e176",
       "version_major": 2,
       "version_minor": 0
      },
      "text/plain": [
       "HBox(children=(IntProgress(value=0, max=2), HTML(value='')))"
      ]
     },
     "metadata": {},
     "output_type": "display_data"
    },
    {
     "name": "stdout",
     "output_type": "stream",
     "text": [
      "\n",
      "[2020-09-08 10:42:43,490][MainProcess][__main__][INFO] NLLLoss: 5.620\n",
      "[2020-09-08 10:42:43,556][MainProcess][lib.metrics.accuracy][INFO] Accuracy: 0.0 [0 of 8192]\n"
     ]
    },
    {
     "name": "stderr",
     "output_type": "stream",
     "text": [
      "\r",
      "  3%|▎         | 31.111111111111104/1000.0 [10:09<4:48:15, 17.85s/it, min_score=-0, models_evaluated=0]"
     ]
    },
    {
     "name": "stdout",
     "output_type": "stream",
     "text": [
      "––––––––––––––––––––––––––––––––––––––––––––––––––––––––––––––––––––––––––––––––––––––––––––––––––––\n",
      "====================================================================================================\n",
      "[2020-09-08 10:42:43,610][MainProcess][lib.configurable][INFO] Checking configuration...\n",
      "[2020-09-08 10:42:43,611][MainProcess][lib.configurable][INFO] Configuration checked.\n",
      "[2020-09-08 10:42:43,612][MainProcess][lib.configurable][INFO] seq_to_label.SeqToLabel.__init__ was configured with:\n",
      "{   'bidirectional': True,\n",
      "    'decode_dropout': 0.015548620885337386,\n",
      "    'embedding_dropout': 0.25029090368027407,\n",
      "    'embedding_size': 300,\n",
      "    'freeze_embeddings': False,\n",
      "    'input_vocab_size': 6899,\n",
      "    'output_vocab_size': 1703,\n",
      "    'rnn_cell': 'gru',\n",
      "    'rnn_dropout': 0.7296789006711427,\n",
      "    'rnn_layers': 2,\n",
      "    'rnn_size': 430,\n",
      "    'rnn_variational_dropout': 0.43847815276598706}\n",
      "[2020-09-08 10:42:43,614][MainProcess][lib.configurable][INFO] seq_encoder.SeqEncoder.__init__ no config for: lib.nn.seq_encoder.SeqEncoder.__init__\n",
      "[2020-09-08 10:42:43,615][MainProcess][lib.configurable][INFO] seq_encoder.SeqEncoder.__init__ was configured with:\n",
      "{   'bidirectional': True,\n",
      "    'embedding_dropout': 0.25029090368027407,\n",
      "    'embedding_size': 300,\n",
      "    'freeze_embeddings': False,\n",
      "    'n_layers': 2,\n",
      "    'rnn_cell': 'gru',\n",
      "    'rnn_dropout': 0.7296789006711427,\n",
      "    'rnn_size': 430,\n",
      "    'rnn_variational_dropout': 0.43847815276598706,\n",
      "    'vocab_size': 6899}\n",
      "[2020-09-08 10:42:43,689][MainProcess][lib.configurable][INFO] adam.Adam.__init__ was configured with:\n",
      "{'amsgrad': True, 'params': <filter object at 0x7f89764ed588>}\n",
      "[2020-09-08 10:42:43,690][MainProcess][lib.configurable][INFO] optimizer.Optimizer.__init__ was configured with:\n",
      "{   'max_grad_norm': 0.17902393858184765,\n",
      "    'optim': Adam (\n",
      "Parameter Group 0\n",
      "    amsgrad: True\n",
      "    betas: (0.9, 0.999)\n",
      "    eps: 1e-08\n",
      "    lr: 0.001\n",
      "    weight_decay: 0\n",
      ")}\n",
      "[2020-09-08 10:42:43,691][MainProcess][__main__][INFO] Epochs: 1\n",
      "[2020-09-08 10:42:43,692][MainProcess][__main__][INFO] Train Dataset Size: 75900\n",
      "[2020-09-08 10:42:43,693][MainProcess][__main__][INFO] Dev Dataset Size: 10845\n",
      "[2020-09-08 10:42:43,694][MainProcess][__main__][INFO] Train Batch Size: 32\n",
      "[2020-09-08 10:42:43,694][MainProcess][__main__][INFO] Train Max Batch Size: 1024\n",
      "[2020-09-08 10:42:43,695][MainProcess][__main__][INFO] Total Parameters: 4491443\n",
      "[2020-09-08 10:42:43,696][MainProcess][__main__][INFO] Model:\n",
      "SeqToLabel(\n",
      "  (encoder): SeqEncoder(\n",
      "    (embedding): Embedding(6899, 300, padding_idx=0)\n",
      "    (rnn): GRU(300, 215, num_layers=2, dropout=0.43847815276598706, bidirectional=True)\n",
      "    (rnn_dropout): LockedDropout(p=0.7296789006711427)\n",
      "    (embedding_dropout): Dropout(p=0.25029090368027407)\n",
      "  )\n",
      "  (out): Sequential(\n",
      "    (0): Linear(in_features=430, out_features=430, bias=True)\n",
      "    (1): BatchNorm1d(430, eps=1e-05, momentum=0.1, affine=True, track_running_stats=True)\n",
      "    (2): ReLU()\n",
      "    (3): Dropout(p=0.015548620885337386)\n",
      "    (4): Linear(in_features=430, out_features=1703, bias=True)\n",
      "  )\n",
      ")\n",
      "[2020-09-08 10:42:43,697][MainProcess][__main__][INFO] Epoch: 0\n",
      "[2020-09-08 10:42:43,698][MainProcess][__main__][INFO] Training...\n"
     ]
    },
    {
     "data": {
      "application/vnd.jupyter.widget-view+json": {
       "model_id": "ed5903aabd2e47c4abb1ba2679df1bf7",
       "version_major": 2,
       "version_minor": 0
      },
      "text/plain": [
       "HBox(children=(IntProgress(value=0, max=2371), HTML(value='')))"
      ]
     },
     "metadata": {},
     "output_type": "display_data"
    },
    {
     "name": "stdout",
     "output_type": "stream",
     "text": [
      "\n",
      "[2020-09-08 10:43:06,793][MainProcess][lib.checkpoint][INFO] Saving checkpoint: ../../experiments/relation_classifier.09_08_10:23:25/1088.pt\n"
     ]
    },
    {
     "data": {
      "application/vnd.jupyter.widget-view+json": {
       "model_id": "f7fd4e6945704930907c6934b9611293",
       "version_major": 2,
       "version_minor": 0
      },
      "text/plain": [
       "HBox(children=(IntProgress(value=0, max=2), HTML(value='')))"
      ]
     },
     "metadata": {},
     "output_type": "display_data"
    },
    {
     "name": "stdout",
     "output_type": "stream",
     "text": [
      "\n",
      "[2020-09-08 10:43:08,811][MainProcess][__main__][INFO] NLLLoss: 5.620\n",
      "[2020-09-08 10:43:08,878][MainProcess][lib.metrics.accuracy][INFO] Accuracy: 0.0 [0 of 8192]\n"
     ]
    },
    {
     "name": "stderr",
     "output_type": "stream",
     "text": [
      "\r",
      "  3%|▎         | 32.222222222222214/1000.0 [10:35<5:11:49, 19.33s/it, min_score=-0, models_evaluated=0]"
     ]
    },
    {
     "name": "stdout",
     "output_type": "stream",
     "text": [
      "––––––––––––––––––––––––––––––––––––––––––––––––––––––––––––––––––––––––––––––––––––––––––––––––––––\n",
      "====================================================================================================\n",
      "[2020-09-08 10:43:08,932][MainProcess][lib.configurable][INFO] Checking configuration...\n",
      "[2020-09-08 10:43:08,934][MainProcess][lib.configurable][INFO] Configuration checked.\n",
      "[2020-09-08 10:43:08,935][MainProcess][lib.configurable][INFO] seq_to_label.SeqToLabel.__init__ was configured with:\n",
      "{   'bidirectional': True,\n",
      "    'decode_dropout': 0.40232389826236453,\n",
      "    'embedding_dropout': 0.28910608277798594,\n",
      "    'embedding_size': 300,\n",
      "    'freeze_embeddings': True,\n",
      "    'input_vocab_size': 6899,\n",
      "    'output_vocab_size': 1703,\n",
      "    'rnn_cell': 'lstm',\n",
      "    'rnn_dropout': 0.8054157942356596,\n",
      "    'rnn_layers': 3,\n",
      "    'rnn_size': 326,\n",
      "    'rnn_variational_dropout': 0.050685175125611735}\n",
      "[2020-09-08 10:43:08,936][MainProcess][lib.configurable][INFO] seq_encoder.SeqEncoder.__init__ no config for: lib.nn.seq_encoder.SeqEncoder.__init__\n",
      "[2020-09-08 10:43:08,937][MainProcess][lib.configurable][INFO] seq_encoder.SeqEncoder.__init__ was configured with:\n",
      "{   'bidirectional': True,\n",
      "    'embedding_dropout': 0.28910608277798594,\n",
      "    'embedding_size': 300,\n",
      "    'freeze_embeddings': True,\n",
      "    'n_layers': 3,\n",
      "    'rnn_cell': 'lstm',\n",
      "    'rnn_dropout': 0.8054157942356596,\n",
      "    'rnn_size': 326,\n",
      "    'rnn_variational_dropout': 0.050685175125611735,\n",
      "    'vocab_size': 6899}\n",
      "[2020-09-08 10:43:09,015][MainProcess][lib.configurable][INFO] adam.Adam.__init__ was configured with:\n",
      "{'amsgrad': True, 'params': <filter object at 0x7f89712292e8>}\n",
      "[2020-09-08 10:43:09,016][MainProcess][lib.configurable][INFO] optimizer.Optimizer.__init__ was configured with:\n",
      "{   'max_grad_norm': 1.9688664583202802,\n",
      "    'optim': Adam (\n",
      "Parameter Group 0\n",
      "    amsgrad: True\n",
      "    betas: (0.9, 0.999)\n",
      "    eps: 1e-08\n",
      "    lr: 0.001\n",
      "    weight_decay: 0\n",
      ")}\n",
      "[2020-09-08 10:43:09,017][MainProcess][__main__][INFO] Epochs: 1\n",
      "[2020-09-08 10:43:09,018][MainProcess][__main__][INFO] Train Dataset Size: 75900\n",
      "[2020-09-08 10:43:09,019][MainProcess][__main__][INFO] Dev Dataset Size: 10845\n",
      "[2020-09-08 10:43:09,020][MainProcess][__main__][INFO] Train Batch Size: 32\n",
      "[2020-09-08 10:43:09,021][MainProcess][__main__][INFO] Train Max Batch Size: 1024\n",
      "[2020-09-08 10:43:09,021][MainProcess][__main__][INFO] Total Parameters: 2551023\n",
      "[2020-09-08 10:43:09,022][MainProcess][__main__][INFO] Model:\n",
      "SeqToLabel(\n",
      "  (encoder): SeqEncoder(\n",
      "    (embedding): Embedding(6899, 300, padding_idx=0)\n",
      "    (rnn): LSTM(300, 163, num_layers=3, dropout=0.050685175125611735, bidirectional=True)\n",
      "    (rnn_dropout): LockedDropout(p=0.8054157942356596)\n",
      "    (embedding_dropout): Dropout(p=0.28910608277798594)\n",
      "  )\n",
      "  (out): Sequential(\n",
      "    (0): Linear(in_features=326, out_features=326, bias=True)\n",
      "    (1): BatchNorm1d(326, eps=1e-05, momentum=0.1, affine=True, track_running_stats=True)\n",
      "    (2): ReLU()\n",
      "    (3): Dropout(p=0.40232389826236453)\n",
      "    (4): Linear(in_features=326, out_features=1703, bias=True)\n",
      "  )\n",
      ")\n",
      "[2020-09-08 10:43:09,023][MainProcess][__main__][INFO] Epoch: 0\n",
      "[2020-09-08 10:43:09,024][MainProcess][__main__][INFO] Training...\n"
     ]
    },
    {
     "data": {
      "application/vnd.jupyter.widget-view+json": {
       "model_id": "fe8e601733704dd18f39671c1f818422",
       "version_major": 2,
       "version_minor": 0
      },
      "text/plain": [
       "HBox(children=(IntProgress(value=0, max=2371), HTML(value='')))"
      ]
     },
     "metadata": {},
     "output_type": "display_data"
    },
    {
     "name": "stdout",
     "output_type": "stream",
     "text": [
      "\n",
      "[2020-09-08 10:43:38,097][MainProcess][lib.checkpoint][INFO] Saving checkpoint: ../../experiments/relation_classifier.09_08_10:23:25/1119.pt\n"
     ]
    },
    {
     "data": {
      "application/vnd.jupyter.widget-view+json": {
       "model_id": "e075119de8d94e82a6dd4174946a2e33",
       "version_major": 2,
       "version_minor": 0
      },
      "text/plain": [
       "HBox(children=(IntProgress(value=0, max=2), HTML(value='')))"
      ]
     },
     "metadata": {},
     "output_type": "display_data"
    },
    {
     "name": "stdout",
     "output_type": "stream",
     "text": [
      "\n",
      "[2020-09-08 10:43:39,424][MainProcess][__main__][INFO] NLLLoss: 5.620\n",
      "[2020-09-08 10:43:39,493][MainProcess][lib.metrics.accuracy][INFO] Accuracy: 0.0 [0 of 8192]\n"
     ]
    },
    {
     "name": "stderr",
     "output_type": "stream",
     "text": [
      "\r",
      "  3%|▎         | 33.33333333333333/1000.0 [11:05<5:51:11, 21.80s/it, min_score=-0, models_evaluated=0] "
     ]
    },
    {
     "name": "stdout",
     "output_type": "stream",
     "text": [
      "––––––––––––––––––––––––––––––––––––––––––––––––––––––––––––––––––––––––––––––––––––––––––––––––––––\n",
      "====================================================================================================\n",
      "[2020-09-08 10:43:39,543][MainProcess][lib.configurable][INFO] Checking configuration...\n",
      "[2020-09-08 10:43:39,545][MainProcess][lib.configurable][INFO] Configuration checked.\n",
      "[2020-09-08 10:43:39,546][MainProcess][lib.configurable][INFO] seq_to_label.SeqToLabel.__init__ was configured with:\n",
      "{   'bidirectional': False,\n",
      "    'decode_dropout': 0.4477236066369015,\n",
      "    'embedding_dropout': 0.5829564616392859,\n",
      "    'embedding_size': 300,\n",
      "    'freeze_embeddings': True,\n",
      "    'input_vocab_size': 6899,\n",
      "    'output_vocab_size': 1703,\n",
      "    'rnn_cell': 'lstm',\n",
      "    'rnn_dropout': 0.5073559163130161,\n",
      "    'rnn_layers': 1,\n",
      "    'rnn_size': 222,\n",
      "    'rnn_variational_dropout': 0.5394242216274228}\n",
      "[2020-09-08 10:43:39,547][MainProcess][lib.configurable][INFO] seq_encoder.SeqEncoder.__init__ no config for: lib.nn.seq_encoder.SeqEncoder.__init__\n",
      "[2020-09-08 10:43:39,548][MainProcess][lib.configurable][INFO] seq_encoder.SeqEncoder.__init__ was configured with:\n",
      "{   'bidirectional': False,\n",
      "    'embedding_dropout': 0.5829564616392859,\n",
      "    'embedding_size': 300,\n",
      "    'freeze_embeddings': True,\n",
      "    'n_layers': 1,\n",
      "    'rnn_cell': 'lstm',\n",
      "    'rnn_dropout': 0.5073559163130161,\n",
      "    'rnn_size': 222,\n",
      "    'rnn_variational_dropout': 0.5394242216274228,\n",
      "    'vocab_size': 6899}\n",
      "[2020-09-08 10:43:39,629][MainProcess][lib.configurable][INFO] adam.Adam.__init__ was configured with:\n",
      "{'amsgrad': True, 'params': <filter object at 0x7f8970d4f400>}\n",
      "[2020-09-08 10:43:39,630][MainProcess][lib.configurable][INFO] optimizer.Optimizer.__init__ was configured with:\n",
      "{   'max_grad_norm': 0.32511382456036636,\n",
      "    'optim': Adam (\n",
      "Parameter Group 0\n",
      "    amsgrad: True\n",
      "    betas: (0.9, 0.999)\n",
      "    eps: 1e-08\n",
      "    lr: 0.001\n",
      "    weight_decay: 0\n",
      ")}\n",
      "[2020-09-08 10:43:39,630][MainProcess][__main__][INFO] Epochs: 1\n",
      "[2020-09-08 10:43:39,631][MainProcess][__main__][INFO] Train Dataset Size: 75900\n",
      "[2020-09-08 10:43:39,632][MainProcess][__main__][INFO] Dev Dataset Size: 10845\n",
      "[2020-09-08 10:43:39,633][MainProcess][__main__][INFO] Train Batch Size: 32\n",
      "[2020-09-08 10:43:39,633][MainProcess][__main__][INFO] Train Max Batch Size: 1024\n",
      "[2020-09-08 10:43:39,634][MainProcess][__main__][INFO] Total Parameters: 895031\n",
      "[2020-09-08 10:43:39,635][MainProcess][__main__][INFO] Model:\n",
      "SeqToLabel(\n",
      "  (encoder): SeqEncoder(\n",
      "    (embedding): Embedding(6899, 300, padding_idx=0)\n",
      "    (rnn): LSTM(300, 222, dropout=0.5394242216274228)\n",
      "    (rnn_dropout): LockedDropout(p=0.5073559163130161)\n",
      "    (embedding_dropout): Dropout(p=0.5829564616392859)\n",
      "  )\n",
      "  (out): Sequential(\n",
      "    (0): Linear(in_features=222, out_features=222, bias=True)\n",
      "    (1): BatchNorm1d(222, eps=1e-05, momentum=0.1, affine=True, track_running_stats=True)\n",
      "    (2): ReLU()\n",
      "    (3): Dropout(p=0.4477236066369015)\n",
      "    (4): Linear(in_features=222, out_features=1703, bias=True)\n",
      "  )\n",
      ")\n",
      "[2020-09-08 10:43:39,636][MainProcess][__main__][INFO] Epoch: 0\n",
      "[2020-09-08 10:43:39,636][MainProcess][__main__][INFO] Training...\n"
     ]
    },
    {
     "name": "stderr",
     "output_type": "stream",
     "text": [
      "/mount/arbeitsdaten46/projekte/dialog-1/kanjurva/Simple-QA-EMNLP-2018/env/lib/python3.6/site-packages/torch/nn/modules/rnn.py:38: UserWarning: dropout option adds dropout after all but last recurrent layer, so non-zero dropout expects num_layers greater than 1, but got dropout=0.5394242216274228 and num_layers=1\n",
      "  \"num_layers={}\".format(dropout, num_layers))\n"
     ]
    },
    {
     "data": {
      "application/vnd.jupyter.widget-view+json": {
       "model_id": "ba1bf2249d0c4fa1a40c95f22842dadd",
       "version_major": 2,
       "version_minor": 0
      },
      "text/plain": [
       "HBox(children=(IntProgress(value=0, max=2371), HTML(value='')))"
      ]
     },
     "metadata": {},
     "output_type": "display_data"
    },
    {
     "name": "stdout",
     "output_type": "stream",
     "text": [
      "\n",
      "[2020-09-08 10:43:52,231][MainProcess][lib.checkpoint][INFO] Saving checkpoint: ../../experiments/relation_classifier.09_08_10:23:25/1133.pt\n"
     ]
    },
    {
     "data": {
      "application/vnd.jupyter.widget-view+json": {
       "model_id": "cb321411b1854b4baf6307781a8d4880",
       "version_major": 2,
       "version_minor": 0
      },
      "text/plain": [
       "HBox(children=(IntProgress(value=0, max=2), HTML(value='')))"
      ]
     },
     "metadata": {},
     "output_type": "display_data"
    },
    {
     "name": "stdout",
     "output_type": "stream",
     "text": [
      "\n",
      "[2020-09-08 10:43:53,398][MainProcess][__main__][INFO] NLLLoss: 5.620\n",
      "[2020-09-08 10:43:53,467][MainProcess][lib.metrics.accuracy][INFO] Accuracy: 0.0 [0 of 8192]\n"
     ]
    },
    {
     "name": "stderr",
     "output_type": "stream",
     "text": [
      "\r",
      "  3%|▎         | 34.44444444444444/1000.0 [11:19<5:06:11, 19.03s/it, min_score=-0, models_evaluated=0]"
     ]
    },
    {
     "name": "stdout",
     "output_type": "stream",
     "text": [
      "––––––––––––––––––––––––––––––––––––––––––––––––––––––––––––––––––––––––––––––––––––––––––––––––––––\n",
      "====================================================================================================\n",
      "[2020-09-08 10:43:53,502][MainProcess][lib.configurable][INFO] Checking configuration...\n",
      "[2020-09-08 10:43:53,503][MainProcess][lib.configurable][INFO] Configuration checked.\n",
      "[2020-09-08 10:43:53,504][MainProcess][lib.configurable][INFO] seq_to_label.SeqToLabel.__init__ was configured with:\n",
      "{   'bidirectional': True,\n",
      "    'decode_dropout': 0.7440236511916605,\n",
      "    'embedding_dropout': 0.23018722886329956,\n",
      "    'embedding_size': 300,\n",
      "    'freeze_embeddings': False,\n",
      "    'input_vocab_size': 6899,\n",
      "    'output_vocab_size': 1703,\n",
      "    'rnn_cell': 'lstm',\n",
      "    'rnn_dropout': 0.07796647469108034,\n",
      "    'rnn_layers': 1,\n",
      "    'rnn_size': 470,\n",
      "    'rnn_variational_dropout': 0.2352221019227407}\n",
      "[2020-09-08 10:43:53,505][MainProcess][lib.configurable][INFO] seq_encoder.SeqEncoder.__init__ no config for: lib.nn.seq_encoder.SeqEncoder.__init__\n",
      "[2020-09-08 10:43:53,506][MainProcess][lib.configurable][INFO] seq_encoder.SeqEncoder.__init__ was configured with:\n",
      "{   'bidirectional': True,\n",
      "    'embedding_dropout': 0.23018722886329956,\n",
      "    'embedding_size': 300,\n",
      "    'freeze_embeddings': False,\n",
      "    'n_layers': 1,\n",
      "    'rnn_cell': 'lstm',\n",
      "    'rnn_dropout': 0.07796647469108034,\n",
      "    'rnn_size': 470,\n",
      "    'rnn_variational_dropout': 0.2352221019227407,\n",
      "    'vocab_size': 6899}\n",
      "[2020-09-08 10:43:53,573][MainProcess][lib.configurable][INFO] adam.Adam.__init__ was configured with:\n",
      "{'amsgrad': True, 'params': <filter object at 0x7f89658535c0>}\n",
      "[2020-09-08 10:43:53,574][MainProcess][lib.configurable][INFO] optimizer.Optimizer.__init__ was configured with:\n",
      "{   'max_grad_norm': 0.1758594905693789,\n",
      "    'optim': Adam (\n",
      "Parameter Group 0\n",
      "    amsgrad: True\n",
      "    betas: (0.9, 0.999)\n",
      "    eps: 1e-08\n",
      "    lr: 0.001\n",
      "    weight_decay: 0\n",
      ")}\n",
      "[2020-09-08 10:43:53,575][MainProcess][__main__][INFO] Epochs: 1\n",
      "[2020-09-08 10:43:53,576][MainProcess][__main__][INFO] Train Dataset Size: 75900\n",
      "[2020-09-08 10:43:53,577][MainProcess][__main__][INFO] Dev Dataset Size: 10845\n",
      "[2020-09-08 10:43:53,578][MainProcess][__main__][INFO] Train Batch Size: 32\n",
      "[2020-09-08 10:43:53,579][MainProcess][__main__][INFO] Train Max Batch Size: 1024\n",
      "[2020-09-08 10:43:53,579][MainProcess][__main__][INFO] Total Parameters: 4103683\n",
      "[2020-09-08 10:43:53,580][MainProcess][__main__][INFO] Model:\n",
      "SeqToLabel(\n",
      "  (encoder): SeqEncoder(\n",
      "    (embedding): Embedding(6899, 300, padding_idx=0)\n",
      "    (rnn): LSTM(300, 235, dropout=0.2352221019227407, bidirectional=True)\n",
      "    (rnn_dropout): LockedDropout(p=0.07796647469108034)\n",
      "    (embedding_dropout): Dropout(p=0.23018722886329956)\n",
      "  )\n",
      "  (out): Sequential(\n",
      "    (0): Linear(in_features=470, out_features=470, bias=True)\n",
      "    (1): BatchNorm1d(470, eps=1e-05, momentum=0.1, affine=True, track_running_stats=True)\n",
      "    (2): ReLU()\n",
      "    (3): Dropout(p=0.7440236511916605)\n",
      "    (4): Linear(in_features=470, out_features=1703, bias=True)\n",
      "  )\n",
      ")\n",
      "[2020-09-08 10:43:53,581][MainProcess][__main__][INFO] Epoch: 0\n",
      "[2020-09-08 10:43:53,582][MainProcess][__main__][INFO] Training...\n"
     ]
    },
    {
     "name": "stderr",
     "output_type": "stream",
     "text": [
      "/mount/arbeitsdaten46/projekte/dialog-1/kanjurva/Simple-QA-EMNLP-2018/env/lib/python3.6/site-packages/torch/nn/modules/rnn.py:38: UserWarning: dropout option adds dropout after all but last recurrent layer, so non-zero dropout expects num_layers greater than 1, but got dropout=0.2352221019227407 and num_layers=1\n",
      "  \"num_layers={}\".format(dropout, num_layers))\n"
     ]
    },
    {
     "data": {
      "application/vnd.jupyter.widget-view+json": {
       "model_id": "d60e332c9ee045dfa4a2134371ca71ec",
       "version_major": 2,
       "version_minor": 0
      },
      "text/plain": [
       "HBox(children=(IntProgress(value=0, max=2371), HTML(value='')))"
      ]
     },
     "metadata": {},
     "output_type": "display_data"
    },
    {
     "name": "stdout",
     "output_type": "stream",
     "text": [
      "\n",
      "[2020-09-08 10:44:10,741][MainProcess][lib.checkpoint][INFO] Saving checkpoint: ../../experiments/relation_classifier.09_08_10:23:25/1152.pt\n"
     ]
    },
    {
     "data": {
      "application/vnd.jupyter.widget-view+json": {
       "model_id": "f3c1869154ae43df883ff39d2dab62e8",
       "version_major": 2,
       "version_minor": 0
      },
      "text/plain": [
       "HBox(children=(IntProgress(value=0, max=2), HTML(value='')))"
      ]
     },
     "metadata": {},
     "output_type": "display_data"
    },
    {
     "name": "stdout",
     "output_type": "stream",
     "text": [
      "\n",
      "[2020-09-08 10:44:12,434][MainProcess][__main__][INFO] NLLLoss: 5.620\n",
      "[2020-09-08 10:44:12,500][MainProcess][lib.metrics.accuracy][INFO] Accuracy: 0.0 [0 of 8192]\n"
     ]
    },
    {
     "name": "stderr",
     "output_type": "stream",
     "text": [
      "\r",
      "  4%|▎         | 35.55555555555556/1000.0 [11:38<4:56:45, 18.46s/it, min_score=-0, models_evaluated=0]"
     ]
    },
    {
     "name": "stdout",
     "output_type": "stream",
     "text": [
      "––––––––––––––––––––––––––––––––––––––––––––––––––––––––––––––––––––––––––––––––––––––––––––––––––––\n",
      "====================================================================================================\n",
      "[2020-09-08 10:44:12,548][MainProcess][lib.configurable][INFO] Checking configuration...\n",
      "[2020-09-08 10:44:12,549][MainProcess][lib.configurable][INFO] Configuration checked.\n",
      "[2020-09-08 10:44:12,550][MainProcess][lib.configurable][INFO] seq_to_label.SeqToLabel.__init__ was configured with:\n",
      "{   'bidirectional': True,\n",
      "    'decode_dropout': 0.8333890428586237,\n",
      "    'embedding_dropout': 0.840564327483903,\n",
      "    'embedding_size': 300,\n",
      "    'freeze_embeddings': True,\n",
      "    'input_vocab_size': 6899,\n",
      "    'output_vocab_size': 1703,\n",
      "    'rnn_cell': 'lstm',\n",
      "    'rnn_dropout': 0.3992489928046511,\n",
      "    'rnn_layers': 3,\n",
      "    'rnn_size': 448,\n",
      "    'rnn_variational_dropout': 0.41462815446173373}\n",
      "[2020-09-08 10:44:12,551][MainProcess][lib.configurable][INFO] seq_encoder.SeqEncoder.__init__ no config for: lib.nn.seq_encoder.SeqEncoder.__init__\n",
      "[2020-09-08 10:44:12,552][MainProcess][lib.configurable][INFO] seq_encoder.SeqEncoder.__init__ was configured with:\n",
      "{   'bidirectional': True,\n",
      "    'embedding_dropout': 0.840564327483903,\n",
      "    'embedding_size': 300,\n",
      "    'freeze_embeddings': True,\n",
      "    'n_layers': 3,\n",
      "    'rnn_cell': 'lstm',\n",
      "    'rnn_dropout': 0.3992489928046511,\n",
      "    'rnn_size': 448,\n",
      "    'rnn_variational_dropout': 0.41462815446173373,\n",
      "    'vocab_size': 6899}\n",
      "[2020-09-08 10:44:12,655][MainProcess][lib.configurable][INFO] adam.Adam.__init__ was configured with:\n",
      "{'amsgrad': True, 'params': <filter object at 0x7f89764ed588>}\n",
      "[2020-09-08 10:44:12,656][MainProcess][lib.configurable][INFO] optimizer.Optimizer.__init__ was configured with:\n",
      "{   'max_grad_norm': 0.05421742360900817,\n",
      "    'optim': Adam (\n",
      "Parameter Group 0\n",
      "    amsgrad: True\n",
      "    betas: (0.9, 0.999)\n",
      "    eps: 1e-08\n",
      "    lr: 0.001\n",
      "    weight_decay: 0\n",
      ")}\n",
      "[2020-09-08 10:44:12,657][MainProcess][__main__][INFO] Epochs: 1\n",
      "[2020-09-08 10:44:12,658][MainProcess][__main__][INFO] Train Dataset Size: 75900\n",
      "[2020-09-08 10:44:12,659][MainProcess][__main__][INFO] Dev Dataset Size: 10845\n",
      "[2020-09-08 10:44:12,660][MainProcess][__main__][INFO] Train Batch Size: 32\n",
      "[2020-09-08 10:44:12,660][MainProcess][__main__][INFO] Train Max Batch Size: 1024\n",
      "[2020-09-08 10:44:12,661][MainProcess][__main__][INFO] Total Parameters: 4324903\n",
      "[2020-09-08 10:44:12,662][MainProcess][__main__][INFO] Model:\n",
      "SeqToLabel(\n",
      "  (encoder): SeqEncoder(\n",
      "    (embedding): Embedding(6899, 300, padding_idx=0)\n",
      "    (rnn): LSTM(300, 224, num_layers=3, dropout=0.41462815446173373, bidirectional=True)\n",
      "    (rnn_dropout): LockedDropout(p=0.3992489928046511)\n",
      "    (embedding_dropout): Dropout(p=0.840564327483903)\n",
      "  )\n",
      "  (out): Sequential(\n",
      "    (0): Linear(in_features=448, out_features=448, bias=True)\n",
      "    (1): BatchNorm1d(448, eps=1e-05, momentum=0.1, affine=True, track_running_stats=True)\n",
      "    (2): ReLU()\n",
      "    (3): Dropout(p=0.8333890428586237)\n",
      "    (4): Linear(in_features=448, out_features=1703, bias=True)\n",
      "  )\n",
      ")\n",
      "[2020-09-08 10:44:12,663][MainProcess][__main__][INFO] Epoch: 0\n",
      "[2020-09-08 10:44:12,664][MainProcess][__main__][INFO] Training...\n"
     ]
    },
    {
     "data": {
      "application/vnd.jupyter.widget-view+json": {
       "model_id": "3ec2a15122954be595b7f805873a3e30",
       "version_major": 2,
       "version_minor": 0
      },
      "text/plain": [
       "HBox(children=(IntProgress(value=0, max=2371), HTML(value='')))"
      ]
     },
     "metadata": {},
     "output_type": "display_data"
    },
    {
     "name": "stdout",
     "output_type": "stream",
     "text": [
      "\n",
      "[2020-09-08 10:44:54,813][MainProcess][lib.checkpoint][INFO] Saving checkpoint: ../../experiments/relation_classifier.09_08_10:23:25/1196.pt\n"
     ]
    },
    {
     "data": {
      "application/vnd.jupyter.widget-view+json": {
       "model_id": "1b3d0287af4046fb9fec06fdeaf0a7f2",
       "version_major": 2,
       "version_minor": 0
      },
      "text/plain": [
       "HBox(children=(IntProgress(value=0, max=2), HTML(value='')))"
      ]
     },
     "metadata": {},
     "output_type": "display_data"
    },
    {
     "name": "stdout",
     "output_type": "stream",
     "text": [
      "\n",
      "[2020-09-08 10:44:56,864][MainProcess][__main__][INFO] NLLLoss: 5.620\n",
      "[2020-09-08 10:44:56,964][MainProcess][lib.metrics.accuracy][INFO] Accuracy: 0.0 [0 of 8192]\n"
     ]
    },
    {
     "name": "stderr",
     "output_type": "stream",
     "text": [
      "\r",
      "  4%|▎         | 36.66666666666667/1000.0 [12:23<6:40:15, 24.93s/it, min_score=-0, models_evaluated=0]"
     ]
    },
    {
     "name": "stdout",
     "output_type": "stream",
     "text": [
      "––––––––––––––––––––––––––––––––––––––––––––––––––––––––––––––––––––––––––––––––––––––––––––––––––––\n",
      "====================================================================================================\n",
      "[2020-09-08 10:44:57,018][MainProcess][lib.configurable][INFO] Checking configuration...\n",
      "[2020-09-08 10:44:57,019][MainProcess][lib.configurable][INFO] Configuration checked.\n",
      "[2020-09-08 10:44:57,020][MainProcess][lib.configurable][INFO] seq_to_label.SeqToLabel.__init__ was configured with:\n",
      "{   'bidirectional': True,\n",
      "    'decode_dropout': 0.7683902662242562,\n",
      "    'embedding_dropout': 0.05580676037872388,\n",
      "    'embedding_size': 300,\n",
      "    'freeze_embeddings': False,\n",
      "    'input_vocab_size': 6899,\n",
      "    'output_vocab_size': 1703,\n",
      "    'rnn_cell': 'lstm',\n",
      "    'rnn_dropout': 0.4390939537716704,\n",
      "    'rnn_layers': 3,\n",
      "    'rnn_size': 466,\n",
      "    'rnn_variational_dropout': 0.3292432897259175}\n",
      "[2020-09-08 10:44:57,021][MainProcess][lib.configurable][INFO] seq_encoder.SeqEncoder.__init__ no config for: lib.nn.seq_encoder.SeqEncoder.__init__\n",
      "[2020-09-08 10:44:57,022][MainProcess][lib.configurable][INFO] seq_encoder.SeqEncoder.__init__ was configured with:\n",
      "{   'bidirectional': True,\n",
      "    'embedding_dropout': 0.05580676037872388,\n",
      "    'embedding_size': 300,\n",
      "    'freeze_embeddings': False,\n",
      "    'n_layers': 3,\n",
      "    'rnn_cell': 'lstm',\n",
      "    'rnn_dropout': 0.4390939537716704,\n",
      "    'rnn_size': 466,\n",
      "    'rnn_variational_dropout': 0.3292432897259175,\n",
      "    'vocab_size': 6899}\n",
      "[2020-09-08 10:44:57,152][MainProcess][lib.configurable][INFO] adam.Adam.__init__ was configured with:\n",
      "{'amsgrad': True, 'params': <filter object at 0x7f89709cd390>}\n",
      "[2020-09-08 10:44:57,154][MainProcess][lib.configurable][INFO] optimizer.Optimizer.__init__ was configured with:\n",
      "{   'max_grad_norm': 0.2965557091368182,\n",
      "    'optim': Adam (\n",
      "Parameter Group 0\n",
      "    amsgrad: True\n",
      "    betas: (0.9, 0.999)\n",
      "    eps: 1e-08\n",
      "    lr: 0.001\n",
      "    weight_decay: 0\n",
      ")}\n",
      "[2020-09-08 10:44:57,155][MainProcess][__main__][INFO] Epochs: 1\n",
      "[2020-09-08 10:44:57,156][MainProcess][__main__][INFO] Train Dataset Size: 75900\n",
      "[2020-09-08 10:44:57,156][MainProcess][__main__][INFO] Dev Dataset Size: 10845\n",
      "[2020-09-08 10:44:57,157][MainProcess][__main__][INFO] Train Batch Size: 32\n",
      "[2020-09-08 10:44:57,158][MainProcess][__main__][INFO] Train Max Batch Size: 1024\n",
      "[2020-09-08 10:44:57,159][MainProcess][__main__][INFO] Total Parameters: 6694123\n",
      "[2020-09-08 10:44:57,160][MainProcess][__main__][INFO] Model:\n",
      "SeqToLabel(\n",
      "  (encoder): SeqEncoder(\n",
      "    (embedding): Embedding(6899, 300, padding_idx=0)\n",
      "    (rnn): LSTM(300, 233, num_layers=3, dropout=0.3292432897259175, bidirectional=True)\n",
      "    (rnn_dropout): LockedDropout(p=0.4390939537716704)\n",
      "    (embedding_dropout): Dropout(p=0.05580676037872388)\n",
      "  )\n",
      "  (out): Sequential(\n",
      "    (0): Linear(in_features=466, out_features=466, bias=True)\n",
      "    (1): BatchNorm1d(466, eps=1e-05, momentum=0.1, affine=True, track_running_stats=True)\n",
      "    (2): ReLU()\n",
      "    (3): Dropout(p=0.7683902662242562)\n",
      "    (4): Linear(in_features=466, out_features=1703, bias=True)\n",
      "  )\n",
      ")\n",
      "[2020-09-08 10:44:57,161][MainProcess][__main__][INFO] Epoch: 0\n",
      "[2020-09-08 10:44:57,162][MainProcess][__main__][INFO] Training...\n"
     ]
    },
    {
     "data": {
      "application/vnd.jupyter.widget-view+json": {
       "model_id": "d47026e314254bf6883b725385250082",
       "version_major": 2,
       "version_minor": 0
      },
      "text/plain": [
       "HBox(children=(IntProgress(value=0, max=2371), HTML(value='')))"
      ]
     },
     "metadata": {},
     "output_type": "display_data"
    },
    {
     "name": "stdout",
     "output_type": "stream",
     "text": [
      "\n",
      "[2020-09-08 10:45:34,733][MainProcess][lib.checkpoint][INFO] Saving checkpoint: ../../experiments/relation_classifier.09_08_10:23:25/1236.pt\n"
     ]
    },
    {
     "data": {
      "application/vnd.jupyter.widget-view+json": {
       "model_id": "584ff2c18dd4474dba7967d81d42c43b",
       "version_major": 2,
       "version_minor": 0
      },
      "text/plain": [
       "HBox(children=(IntProgress(value=0, max=2), HTML(value='')))"
      ]
     },
     "metadata": {},
     "output_type": "display_data"
    },
    {
     "name": "stdout",
     "output_type": "stream",
     "text": [
      "\n",
      "[2020-09-08 10:45:37,395][MainProcess][__main__][INFO] NLLLoss: 5.620\n",
      "[2020-09-08 10:45:37,494][MainProcess][lib.metrics.accuracy][INFO] Accuracy: 0.0 [0 of 8192]\n"
     ]
    },
    {
     "name": "stderr",
     "output_type": "stream",
     "text": [
      "\r",
      "  4%|▍         | 37.777777777777786/1000.0 [13:03<7:35:24, 28.40s/it, min_score=-0, models_evaluated=0]"
     ]
    },
    {
     "name": "stdout",
     "output_type": "stream",
     "text": [
      "––––––––––––––––––––––––––––––––––––––––––––––––––––––––––––––––––––––––––––––––––––––––––––––––––––\n",
      "====================================================================================================\n",
      "[2020-09-08 10:45:37,559][MainProcess][lib.configurable][INFO] Checking configuration...\n",
      "[2020-09-08 10:45:37,560][MainProcess][lib.configurable][INFO] Configuration checked.\n",
      "[2020-09-08 10:45:37,562][MainProcess][lib.configurable][INFO] seq_to_label.SeqToLabel.__init__ was configured with:\n",
      "{   'bidirectional': True,\n",
      "    'decode_dropout': 0.789953590026951,\n",
      "    'embedding_dropout': 0.6460501127178716,\n",
      "    'embedding_size': 300,\n",
      "    'freeze_embeddings': False,\n",
      "    'input_vocab_size': 6899,\n",
      "    'output_vocab_size': 1703,\n",
      "    'rnn_cell': 'lstm',\n",
      "    'rnn_dropout': 0.3787037826078363,\n",
      "    'rnn_layers': 1,\n",
      "    'rnn_size': 218,\n",
      "    'rnn_variational_dropout': 0.27170196710935185}\n",
      "[2020-09-08 10:45:37,563][MainProcess][lib.configurable][INFO] seq_encoder.SeqEncoder.__init__ no config for: lib.nn.seq_encoder.SeqEncoder.__init__\n",
      "[2020-09-08 10:45:37,564][MainProcess][lib.configurable][INFO] seq_encoder.SeqEncoder.__init__ was configured with:\n",
      "{   'bidirectional': True,\n",
      "    'embedding_dropout': 0.6460501127178716,\n",
      "    'embedding_size': 300,\n",
      "    'freeze_embeddings': False,\n",
      "    'n_layers': 1,\n",
      "    'rnn_cell': 'lstm',\n",
      "    'rnn_dropout': 0.3787037826078363,\n",
      "    'rnn_size': 218,\n",
      "    'rnn_variational_dropout': 0.27170196710935185,\n",
      "    'vocab_size': 6899}\n",
      "[2020-09-08 10:45:37,646][MainProcess][lib.configurable][INFO] adam.Adam.__init__ was configured with:\n",
      "{'amsgrad': True, 'params': <filter object at 0x7f8965c1df98>}\n",
      "[2020-09-08 10:45:37,647][MainProcess][lib.configurable][INFO] optimizer.Optimizer.__init__ was configured with:\n",
      "{   'max_grad_norm': 1.8271368025785653,\n",
      "    'optim': Adam (\n",
      "Parameter Group 0\n",
      "    amsgrad: True\n",
      "    betas: (0.9, 0.999)\n",
      "    eps: 1e-08\n",
      "    lr: 0.001\n",
      "    weight_decay: 0\n",
      ")}\n",
      "[2020-09-08 10:45:37,648][MainProcess][__main__][INFO] Epochs: 1\n",
      "[2020-09-08 10:45:37,649][MainProcess][__main__][INFO] Train Dataset Size: 75900\n",
      "[2020-09-08 10:45:37,650][MainProcess][__main__][INFO] Dev Dataset Size: 10845\n",
      "[2020-09-08 10:45:37,651][MainProcess][__main__][INFO] Train Batch Size: 32\n",
      "[2020-09-08 10:45:37,652][MainProcess][__main__][INFO] Train Max Batch Size: 1024\n",
      "[2020-09-08 10:45:37,653][MainProcess][__main__][INFO] Total Parameters: 2849227\n",
      "[2020-09-08 10:45:37,654][MainProcess][__main__][INFO] Model:\n",
      "SeqToLabel(\n",
      "  (encoder): SeqEncoder(\n",
      "    (embedding): Embedding(6899, 300, padding_idx=0)\n",
      "    (rnn): LSTM(300, 109, dropout=0.27170196710935185, bidirectional=True)\n",
      "    (rnn_dropout): LockedDropout(p=0.3787037826078363)\n",
      "    (embedding_dropout): Dropout(p=0.6460501127178716)\n",
      "  )\n",
      "  (out): Sequential(\n",
      "    (0): Linear(in_features=218, out_features=218, bias=True)\n",
      "    (1): BatchNorm1d(218, eps=1e-05, momentum=0.1, affine=True, track_running_stats=True)\n",
      "    (2): ReLU()\n",
      "    (3): Dropout(p=0.789953590026951)\n",
      "    (4): Linear(in_features=218, out_features=1703, bias=True)\n",
      "  )\n",
      ")\n",
      "[2020-09-08 10:45:37,654][MainProcess][__main__][INFO] Epoch: 0\n",
      "[2020-09-08 10:45:37,655][MainProcess][__main__][INFO] Training...\n"
     ]
    },
    {
     "name": "stderr",
     "output_type": "stream",
     "text": [
      "/mount/arbeitsdaten46/projekte/dialog-1/kanjurva/Simple-QA-EMNLP-2018/env/lib/python3.6/site-packages/torch/nn/modules/rnn.py:38: UserWarning: dropout option adds dropout after all but last recurrent layer, so non-zero dropout expects num_layers greater than 1, but got dropout=0.27170196710935185 and num_layers=1\n",
      "  \"num_layers={}\".format(dropout, num_layers))\n"
     ]
    },
    {
     "data": {
      "application/vnd.jupyter.widget-view+json": {
       "model_id": "220a3416a94b4ef0ab5e451a3bfc5ca0",
       "version_major": 2,
       "version_minor": 0
      },
      "text/plain": [
       "HBox(children=(IntProgress(value=0, max=2371), HTML(value='')))"
      ]
     },
     "metadata": {},
     "output_type": "display_data"
    },
    {
     "name": "stdout",
     "output_type": "stream",
     "text": [
      "\n",
      "[2020-09-08 10:45:56,561][MainProcess][lib.checkpoint][INFO] Saving checkpoint: ../../experiments/relation_classifier.09_08_10:23:25/1258.pt\n"
     ]
    },
    {
     "data": {
      "application/vnd.jupyter.widget-view+json": {
       "model_id": "b701f9b173ce4e81952b820b5a8a811a",
       "version_major": 2,
       "version_minor": 0
      },
      "text/plain": [
       "HBox(children=(IntProgress(value=0, max=2), HTML(value='')))"
      ]
     },
     "metadata": {},
     "output_type": "display_data"
    },
    {
     "name": "stdout",
     "output_type": "stream",
     "text": [
      "\n",
      "[2020-09-08 10:45:57,826][MainProcess][__main__][INFO] NLLLoss: 5.620\n",
      "[2020-09-08 10:45:57,925][MainProcess][lib.metrics.accuracy][INFO] Accuracy: 0.0 [0 of 8192]\n"
     ]
    },
    {
     "name": "stderr",
     "output_type": "stream",
     "text": [
      "\r",
      "  4%|▍         | 38.8888888888889/1000.0 [13:24<6:46:39, 25.39s/it, min_score=-0, models_evaluated=0]  "
     ]
    },
    {
     "name": "stdout",
     "output_type": "stream",
     "text": [
      "––––––––––––––––––––––––––––––––––––––––––––––––––––––––––––––––––––––––––––––––––––––––––––––––––––\n",
      "====================================================================================================\n",
      "[2020-09-08 10:45:57,960][MainProcess][lib.configurable][INFO] Checking configuration...\n",
      "[2020-09-08 10:45:57,962][MainProcess][lib.configurable][INFO] Configuration checked.\n",
      "[2020-09-08 10:45:57,963][MainProcess][lib.configurable][INFO] seq_to_label.SeqToLabel.__init__ was configured with:\n",
      "{   'bidirectional': True,\n",
      "    'decode_dropout': 0.5441307045365086,\n",
      "    'embedding_dropout': 0.8152058317366914,\n",
      "    'embedding_size': 300,\n",
      "    'freeze_embeddings': True,\n",
      "    'input_vocab_size': 6899,\n",
      "    'output_vocab_size': 1703,\n",
      "    'rnn_cell': 'gru',\n",
      "    'rnn_dropout': 0.3970951192056854,\n",
      "    'rnn_layers': 3,\n",
      "    'rnn_size': 234,\n",
      "    'rnn_variational_dropout': 0.4867091197579228}\n",
      "[2020-09-08 10:45:57,964][MainProcess][lib.configurable][INFO] seq_encoder.SeqEncoder.__init__ no config for: lib.nn.seq_encoder.SeqEncoder.__init__\n",
      "[2020-09-08 10:45:57,965][MainProcess][lib.configurable][INFO] seq_encoder.SeqEncoder.__init__ was configured with:\n",
      "{   'bidirectional': True,\n",
      "    'embedding_dropout': 0.8152058317366914,\n",
      "    'embedding_size': 300,\n",
      "    'freeze_embeddings': True,\n",
      "    'n_layers': 3,\n",
      "    'rnn_cell': 'gru',\n",
      "    'rnn_dropout': 0.3970951192056854,\n",
      "    'rnn_size': 234,\n",
      "    'rnn_variational_dropout': 0.4867091197579228,\n",
      "    'vocab_size': 6899}\n",
      "[2020-09-08 10:45:58,021][MainProcess][lib.configurable][INFO] adam.Adam.__init__ was configured with:\n",
      "{'amsgrad': True, 'params': <filter object at 0x7f89764ed588>}\n",
      "[2020-09-08 10:45:58,022][MainProcess][lib.configurable][INFO] optimizer.Optimizer.__init__ was configured with:\n",
      "{   'max_grad_norm': 2.827755102023793,\n",
      "    'optim': Adam (\n",
      "Parameter Group 0\n",
      "    amsgrad: True\n",
      "    betas: (0.9, 0.999)\n",
      "    eps: 1e-08\n",
      "    lr: 0.001\n",
      "    weight_decay: 0\n",
      ")}\n",
      "[2020-09-08 10:45:58,023][MainProcess][__main__][INFO] Epochs: 1\n",
      "[2020-09-08 10:45:58,024][MainProcess][__main__][INFO] Train Dataset Size: 75900\n",
      "[2020-09-08 10:45:58,024][MainProcess][__main__][INFO] Dev Dataset Size: 10845\n",
      "[2020-09-08 10:45:58,025][MainProcess][__main__][INFO] Train Batch Size: 32\n",
      "[2020-09-08 10:45:58,026][MainProcess][__main__][INFO] Train Max Batch Size: 1024\n",
      "[2020-09-08 10:45:58,027][MainProcess][__main__][INFO] Total Parameters: 1245413\n",
      "[2020-09-08 10:45:58,028][MainProcess][__main__][INFO] Model:\n",
      "SeqToLabel(\n",
      "  (encoder): SeqEncoder(\n",
      "    (embedding): Embedding(6899, 300, padding_idx=0)\n",
      "    (rnn): GRU(300, 117, num_layers=3, dropout=0.4867091197579228, bidirectional=True)\n",
      "    (rnn_dropout): LockedDropout(p=0.3970951192056854)\n",
      "    (embedding_dropout): Dropout(p=0.8152058317366914)\n",
      "  )\n",
      "  (out): Sequential(\n",
      "    (0): Linear(in_features=234, out_features=234, bias=True)\n",
      "    (1): BatchNorm1d(234, eps=1e-05, momentum=0.1, affine=True, track_running_stats=True)\n",
      "    (2): ReLU()\n",
      "    (3): Dropout(p=0.5441307045365086)\n",
      "    (4): Linear(in_features=234, out_features=1703, bias=True)\n",
      "  )\n",
      ")\n",
      "[2020-09-08 10:45:58,029][MainProcess][__main__][INFO] Epoch: 0\n",
      "[2020-09-08 10:45:58,030][MainProcess][__main__][INFO] Training...\n"
     ]
    },
    {
     "data": {
      "application/vnd.jupyter.widget-view+json": {
       "model_id": "68038027a3dd4d2688d131efe4bbd5da",
       "version_major": 2,
       "version_minor": 0
      },
      "text/plain": [
       "HBox(children=(IntProgress(value=0, max=2371), HTML(value='')))"
      ]
     },
     "metadata": {},
     "output_type": "display_data"
    },
    {
     "name": "stdout",
     "output_type": "stream",
     "text": [
      "\n",
      "[2020-09-08 10:46:30,699][MainProcess][lib.checkpoint][INFO] Saving checkpoint: ../../experiments/relation_classifier.09_08_10:23:25/1292.pt\n"
     ]
    },
    {
     "data": {
      "application/vnd.jupyter.widget-view+json": {
       "model_id": "cca09ec47e274e8282cccc133d96c859",
       "version_major": 2,
       "version_minor": 0
      },
      "text/plain": [
       "HBox(children=(IntProgress(value=0, max=2), HTML(value='')))"
      ]
     },
     "metadata": {},
     "output_type": "display_data"
    },
    {
     "name": "stdout",
     "output_type": "stream",
     "text": [
      "\n",
      "[2020-09-08 10:46:31,751][MainProcess][__main__][INFO] NLLLoss: 5.620\n",
      "[2020-09-08 10:46:31,847][MainProcess][lib.metrics.accuracy][INFO] Accuracy: 0.0 [0 of 8192]\n"
     ]
    },
    {
     "name": "stderr",
     "output_type": "stream",
     "text": [
      "\r",
      "  4%|▍         | 40.000000000000014/1000.0 [13:58<7:10:52, 26.93s/it, min_score=-0, models_evaluated=0]"
     ]
    },
    {
     "name": "stdout",
     "output_type": "stream",
     "text": [
      "––––––––––––––––––––––––––––––––––––––––––––––––––––––––––––––––––––––––––––––––––––––––––––––––––––\n",
      "====================================================================================================\n",
      "[2020-09-08 10:46:31,882][MainProcess][lib.configurable][INFO] Checking configuration...\n",
      "[2020-09-08 10:46:31,884][MainProcess][lib.configurable][INFO] Configuration checked.\n",
      "[2020-09-08 10:46:31,885][MainProcess][lib.configurable][INFO] seq_to_label.SeqToLabel.__init__ was configured with:\n",
      "{   'bidirectional': False,\n",
      "    'decode_dropout': 0.6074183980595642,\n",
      "    'embedding_dropout': 0.8228723745894266,\n",
      "    'embedding_size': 300,\n",
      "    'freeze_embeddings': True,\n",
      "    'input_vocab_size': 6899,\n",
      "    'output_vocab_size': 1703,\n",
      "    'rnn_cell': 'gru',\n",
      "    'rnn_dropout': 0.40473357888832245,\n",
      "    'rnn_layers': 3,\n",
      "    'rnn_size': 202,\n",
      "    'rnn_variational_dropout': 0.42722252320534376}\n",
      "[2020-09-08 10:46:31,886][MainProcess][lib.configurable][INFO] seq_encoder.SeqEncoder.__init__ no config for: lib.nn.seq_encoder.SeqEncoder.__init__\n",
      "[2020-09-08 10:46:31,887][MainProcess][lib.configurable][INFO] seq_encoder.SeqEncoder.__init__ was configured with:\n",
      "{   'bidirectional': False,\n",
      "    'embedding_dropout': 0.8228723745894266,\n",
      "    'embedding_size': 300,\n",
      "    'freeze_embeddings': True,\n",
      "    'n_layers': 3,\n",
      "    'rnn_cell': 'gru',\n",
      "    'rnn_dropout': 0.40473357888832245,\n",
      "    'rnn_size': 202,\n",
      "    'rnn_variational_dropout': 0.42722252320534376,\n",
      "    'vocab_size': 6899}\n",
      "[2020-09-08 10:46:31,943][MainProcess][lib.configurable][INFO] adam.Adam.__init__ was configured with:\n",
      "{'amsgrad': True, 'params': <filter object at 0x7f89646d0278>}\n",
      "[2020-09-08 10:46:31,944][MainProcess][lib.configurable][INFO] optimizer.Optimizer.__init__ was configured with:\n",
      "{   'max_grad_norm': 3.1414972357771815,\n",
      "    'optim': Adam (\n",
      "Parameter Group 0\n",
      "    amsgrad: True\n",
      "    betas: (0.9, 0.999)\n",
      "    eps: 1e-08\n",
      "    lr: 0.001\n",
      "    weight_decay: 0\n",
      ")}\n",
      "[2020-09-08 10:46:31,945][MainProcess][__main__][INFO] Epochs: 1\n",
      "[2020-09-08 10:46:31,946][MainProcess][__main__][INFO] Train Dataset Size: 75900\n",
      "[2020-09-08 10:46:31,946][MainProcess][__main__][INFO] Dev Dataset Size: 10845\n",
      "[2020-09-08 10:46:31,947][MainProcess][__main__][INFO] Train Batch Size: 32\n",
      "[2020-09-08 10:46:31,948][MainProcess][__main__][INFO] Train Max Batch Size: 1024\n",
      "[2020-09-08 10:46:31,949][MainProcess][__main__][INFO] Total Parameters: 1184615\n",
      "[2020-09-08 10:46:31,950][MainProcess][__main__][INFO] Model:\n",
      "SeqToLabel(\n",
      "  (encoder): SeqEncoder(\n",
      "    (embedding): Embedding(6899, 300, padding_idx=0)\n",
      "    (rnn): GRU(300, 202, num_layers=3, dropout=0.42722252320534376)\n",
      "    (rnn_dropout): LockedDropout(p=0.40473357888832245)\n",
      "    (embedding_dropout): Dropout(p=0.8228723745894266)\n",
      "  )\n",
      "  (out): Sequential(\n",
      "    (0): Linear(in_features=202, out_features=202, bias=True)\n",
      "    (1): BatchNorm1d(202, eps=1e-05, momentum=0.1, affine=True, track_running_stats=True)\n",
      "    (2): ReLU()\n",
      "    (3): Dropout(p=0.6074183980595642)\n",
      "    (4): Linear(in_features=202, out_features=1703, bias=True)\n",
      "  )\n",
      ")\n",
      "[2020-09-08 10:46:31,951][MainProcess][__main__][INFO] Epoch: 0\n",
      "[2020-09-08 10:46:31,952][MainProcess][__main__][INFO] Training...\n"
     ]
    },
    {
     "data": {
      "application/vnd.jupyter.widget-view+json": {
       "model_id": "8a47f8bff34646c08e3f7f5b0ad343c4",
       "version_major": 2,
       "version_minor": 0
      },
      "text/plain": [
       "HBox(children=(IntProgress(value=0, max=2371), HTML(value='')))"
      ]
     },
     "metadata": {},
     "output_type": "display_data"
    },
    {
     "name": "stdout",
     "output_type": "stream",
     "text": [
      "\n",
      "[2020-09-08 10:46:54,618][MainProcess][lib.checkpoint][INFO] Saving checkpoint: ../../experiments/relation_classifier.09_08_10:23:25/1316.pt\n"
     ]
    },
    {
     "data": {
      "application/vnd.jupyter.widget-view+json": {
       "model_id": "bf8de4aa05144c848c0b9a28e97d2d5b",
       "version_major": 2,
       "version_minor": 0
      },
      "text/plain": [
       "HBox(children=(IntProgress(value=0, max=2), HTML(value='')))"
      ]
     },
     "metadata": {},
     "output_type": "display_data"
    },
    {
     "name": "stdout",
     "output_type": "stream",
     "text": [
      "\n",
      "[2020-09-08 10:46:55,652][MainProcess][__main__][INFO] NLLLoss: 5.620\n",
      "[2020-09-08 10:46:55,722][MainProcess][lib.metrics.accuracy][INFO] Accuracy: 0.0 [0 of 8192]\n"
     ]
    },
    {
     "name": "stderr",
     "output_type": "stream",
     "text": [
      "\r",
      "  4%|▍         | 41.11111111111113/1000.0 [14:22<6:44:17, 25.30s/it, min_score=-0, models_evaluated=0] "
     ]
    },
    {
     "name": "stdout",
     "output_type": "stream",
     "text": [
      "––––––––––––––––––––––––––––––––––––––––––––––––––––––––––––––––––––––––––––––––––––––––––––––––––––\n",
      "====================================================================================================\n",
      "[2020-09-08 10:46:55,760][MainProcess][lib.configurable][INFO] Checking configuration...\n",
      "[2020-09-08 10:46:55,761][MainProcess][lib.configurable][INFO] Configuration checked.\n",
      "[2020-09-08 10:46:55,762][MainProcess][lib.configurable][INFO] seq_to_label.SeqToLabel.__init__ was configured with:\n",
      "{   'bidirectional': True,\n",
      "    'decode_dropout': 0.8623957865674039,\n",
      "    'embedding_dropout': 0.06293459175633137,\n",
      "    'embedding_size': 300,\n",
      "    'freeze_embeddings': True,\n",
      "    'input_vocab_size': 6899,\n",
      "    'output_vocab_size': 1703,\n",
      "    'rnn_cell': 'gru',\n",
      "    'rnn_dropout': 0.3192512209455671,\n",
      "    'rnn_layers': 2,\n",
      "    'rnn_size': 206,\n",
      "    'rnn_variational_dropout': 0.18508507158200166}\n",
      "[2020-09-08 10:46:55,763][MainProcess][lib.configurable][INFO] seq_encoder.SeqEncoder.__init__ no config for: lib.nn.seq_encoder.SeqEncoder.__init__\n",
      "[2020-09-08 10:46:55,764][MainProcess][lib.configurable][INFO] seq_encoder.SeqEncoder.__init__ was configured with:\n",
      "{   'bidirectional': True,\n",
      "    'embedding_dropout': 0.06293459175633137,\n",
      "    'embedding_size': 300,\n",
      "    'freeze_embeddings': True,\n",
      "    'n_layers': 2,\n",
      "    'rnn_cell': 'gru',\n",
      "    'rnn_dropout': 0.3192512209455671,\n",
      "    'rnn_size': 206,\n",
      "    'rnn_variational_dropout': 0.18508507158200166,\n",
      "    'vocab_size': 6899}\n",
      "[2020-09-08 10:46:55,813][MainProcess][lib.configurable][INFO] adam.Adam.__init__ was configured with:\n",
      "{'amsgrad': True, 'params': <filter object at 0x7f8969dbe748>}\n",
      "[2020-09-08 10:46:55,814][MainProcess][lib.configurable][INFO] optimizer.Optimizer.__init__ was configured with:\n",
      "{   'max_grad_norm': 3.9186939150092566,\n",
      "    'optim': Adam (\n",
      "Parameter Group 0\n",
      "    amsgrad: True\n",
      "    betas: (0.9, 0.999)\n",
      "    eps: 1e-08\n",
      "    lr: 0.001\n",
      "    weight_decay: 0\n",
      ")}\n",
      "[2020-09-08 10:46:55,815][MainProcess][__main__][INFO] Epochs: 1\n",
      "[2020-09-08 10:46:55,816][MainProcess][__main__][INFO] Train Dataset Size: 75900\n",
      "[2020-09-08 10:46:55,817][MainProcess][__main__][INFO] Dev Dataset Size: 10845\n",
      "[2020-09-08 10:46:55,818][MainProcess][__main__][INFO] Train Batch Size: 32\n",
      "[2020-09-08 10:46:55,819][MainProcess][__main__][INFO] Train Max Batch Size: 1024\n",
      "[2020-09-08 10:46:55,820][MainProcess][__main__][INFO] Total Parameters: 838063\n",
      "[2020-09-08 10:46:55,820][MainProcess][__main__][INFO] Model:\n",
      "SeqToLabel(\n",
      "  (encoder): SeqEncoder(\n",
      "    (embedding): Embedding(6899, 300, padding_idx=0)\n",
      "    (rnn): GRU(300, 103, num_layers=2, dropout=0.18508507158200166, bidirectional=True)\n",
      "    (rnn_dropout): LockedDropout(p=0.3192512209455671)\n",
      "    (embedding_dropout): Dropout(p=0.06293459175633137)\n",
      "  )\n",
      "  (out): Sequential(\n",
      "    (0): Linear(in_features=206, out_features=206, bias=True)\n",
      "    (1): BatchNorm1d(206, eps=1e-05, momentum=0.1, affine=True, track_running_stats=True)\n",
      "    (2): ReLU()\n",
      "    (3): Dropout(p=0.8623957865674039)\n",
      "    (4): Linear(in_features=206, out_features=1703, bias=True)\n",
      "  )\n",
      ")\n",
      "[2020-09-08 10:46:55,821][MainProcess][__main__][INFO] Epoch: 0\n",
      "[2020-09-08 10:46:55,822][MainProcess][__main__][INFO] Training...\n"
     ]
    },
    {
     "data": {
      "application/vnd.jupyter.widget-view+json": {
       "model_id": "231463f13cfb4933ac2030ab75c555b4",
       "version_major": 2,
       "version_minor": 0
      },
      "text/plain": [
       "HBox(children=(IntProgress(value=0, max=2371), HTML(value='')))"
      ]
     },
     "metadata": {},
     "output_type": "display_data"
    },
    {
     "name": "stdout",
     "output_type": "stream",
     "text": [
      "\n",
      "[2020-09-08 10:47:17,093][MainProcess][lib.checkpoint][INFO] Saving checkpoint: ../../experiments/relation_classifier.09_08_10:23:25/1338.pt\n"
     ]
    },
    {
     "data": {
      "application/vnd.jupyter.widget-view+json": {
       "model_id": "3c858bb02c054e5da61260cede0ad2c0",
       "version_major": 2,
       "version_minor": 0
      },
      "text/plain": [
       "HBox(children=(IntProgress(value=0, max=2), HTML(value='')))"
      ]
     },
     "metadata": {},
     "output_type": "display_data"
    },
    {
     "name": "stdout",
     "output_type": "stream",
     "text": [
      "\n",
      "[2020-09-08 10:47:17,900][MainProcess][__main__][INFO] NLLLoss: 5.620\n",
      "[2020-09-08 10:47:17,967][MainProcess][lib.metrics.accuracy][INFO] Accuracy: 0.0 [0 of 8192]\n"
     ]
    },
    {
     "name": "stderr",
     "output_type": "stream",
     "text": [
      "\r",
      "  4%|▍         | 42.22222222222224/1000.0 [14:44<6:18:31, 23.71s/it, min_score=-0, models_evaluated=0]"
     ]
    },
    {
     "name": "stdout",
     "output_type": "stream",
     "text": [
      "––––––––––––––––––––––––––––––––––––––––––––––––––––––––––––––––––––––––––––––––––––––––––––––––––––\n",
      "====================================================================================================\n",
      "[2020-09-08 10:47:18,000][MainProcess][lib.configurable][INFO] Checking configuration...\n",
      "[2020-09-08 10:47:18,002][MainProcess][lib.configurable][INFO] Configuration checked.\n",
      "[2020-09-08 10:47:18,003][MainProcess][lib.configurable][INFO] seq_to_label.SeqToLabel.__init__ was configured with:\n",
      "{   'bidirectional': True,\n",
      "    'decode_dropout': 0.6697213639747456,\n",
      "    'embedding_dropout': 0.5910731827778384,\n",
      "    'embedding_size': 300,\n",
      "    'freeze_embeddings': False,\n",
      "    'input_vocab_size': 6899,\n",
      "    'output_vocab_size': 1703,\n",
      "    'rnn_cell': 'lstm',\n",
      "    'rnn_dropout': 0.8505401796876201,\n",
      "    'rnn_layers': 1,\n",
      "    'rnn_size': 362,\n",
      "    'rnn_variational_dropout': 0.4756438660214308}\n",
      "[2020-09-08 10:47:18,004][MainProcess][lib.configurable][INFO] seq_encoder.SeqEncoder.__init__ no config for: lib.nn.seq_encoder.SeqEncoder.__init__\n",
      "[2020-09-08 10:47:18,005][MainProcess][lib.configurable][INFO] seq_encoder.SeqEncoder.__init__ was configured with:\n",
      "{   'bidirectional': True,\n",
      "    'embedding_dropout': 0.5910731827778384,\n",
      "    'embedding_size': 300,\n",
      "    'freeze_embeddings': False,\n",
      "    'n_layers': 1,\n",
      "    'rnn_cell': 'lstm',\n",
      "    'rnn_dropout': 0.8505401796876201,\n",
      "    'rnn_size': 362,\n",
      "    'rnn_variational_dropout': 0.4756438660214308,\n",
      "    'vocab_size': 6899}\n",
      "[2020-09-08 10:47:18,062][MainProcess][lib.configurable][INFO] adam.Adam.__init__ was configured with:\n",
      "{'amsgrad': True, 'params': <filter object at 0x7f89709cd390>}\n",
      "[2020-09-08 10:47:18,063][MainProcess][lib.configurable][INFO] optimizer.Optimizer.__init__ was configured with:\n",
      "{   'max_grad_norm': 1.1140081704309908,\n",
      "    'optim': Adam (\n",
      "Parameter Group 0\n",
      "    amsgrad: True\n",
      "    betas: (0.9, 0.999)\n",
      "    eps: 1e-08\n",
      "    lr: 0.001\n",
      "    weight_decay: 0\n",
      ")}\n",
      "[2020-09-08 10:47:18,064][MainProcess][__main__][INFO] Epochs: 1\n",
      "[2020-09-08 10:47:18,065][MainProcess][__main__][INFO] Train Dataset Size: 75900\n",
      "[2020-09-08 10:47:18,066][MainProcess][__main__][INFO] Dev Dataset Size: 10845\n",
      "[2020-09-08 10:47:18,067][MainProcess][__main__][INFO] Train Batch Size: 32\n",
      "[2020-09-08 10:47:18,067][MainProcess][__main__][INFO] Train Max Batch Size: 1024\n",
      "[2020-09-08 10:47:18,068][MainProcess][__main__][INFO] Total Parameters: 3519403\n",
      "[2020-09-08 10:47:18,069][MainProcess][__main__][INFO] Model:\n",
      "SeqToLabel(\n",
      "  (encoder): SeqEncoder(\n",
      "    (embedding): Embedding(6899, 300, padding_idx=0)\n",
      "    (rnn): LSTM(300, 181, dropout=0.4756438660214308, bidirectional=True)\n",
      "    (rnn_dropout): LockedDropout(p=0.8505401796876201)\n",
      "    (embedding_dropout): Dropout(p=0.5910731827778384)\n",
      "  )\n",
      "  (out): Sequential(\n",
      "    (0): Linear(in_features=362, out_features=362, bias=True)\n",
      "    (1): BatchNorm1d(362, eps=1e-05, momentum=0.1, affine=True, track_running_stats=True)\n",
      "    (2): ReLU()\n",
      "    (3): Dropout(p=0.6697213639747456)\n",
      "    (4): Linear(in_features=362, out_features=1703, bias=True)\n",
      "  )\n",
      ")\n",
      "[2020-09-08 10:47:18,070][MainProcess][__main__][INFO] Epoch: 0\n",
      "[2020-09-08 10:47:18,071][MainProcess][__main__][INFO] Training...\n"
     ]
    },
    {
     "name": "stderr",
     "output_type": "stream",
     "text": [
      "/mount/arbeitsdaten46/projekte/dialog-1/kanjurva/Simple-QA-EMNLP-2018/env/lib/python3.6/site-packages/torch/nn/modules/rnn.py:38: UserWarning: dropout option adds dropout after all but last recurrent layer, so non-zero dropout expects num_layers greater than 1, but got dropout=0.4756438660214308 and num_layers=1\n",
      "  \"num_layers={}\".format(dropout, num_layers))\n"
     ]
    },
    {
     "data": {
      "application/vnd.jupyter.widget-view+json": {
       "model_id": "52ca64524d2b4d34b9e7cf63c8c744d9",
       "version_major": 2,
       "version_minor": 0
      },
      "text/plain": [
       "HBox(children=(IntProgress(value=0, max=2371), HTML(value='')))"
      ]
     },
     "metadata": {},
     "output_type": "display_data"
    },
    {
     "name": "stdout",
     "output_type": "stream",
     "text": [
      "\n",
      "[2020-09-08 10:47:34,850][MainProcess][lib.checkpoint][INFO] Saving checkpoint: ../../experiments/relation_classifier.09_08_10:23:25/1356.pt\n"
     ]
    },
    {
     "data": {
      "application/vnd.jupyter.widget-view+json": {
       "model_id": "4fcc1426d19042c5b6da30869f1fad49",
       "version_major": 2,
       "version_minor": 0
      },
      "text/plain": [
       "HBox(children=(IntProgress(value=0, max=2), HTML(value='')))"
      ]
     },
     "metadata": {},
     "output_type": "display_data"
    },
    {
     "name": "stdout",
     "output_type": "stream",
     "text": [
      "\n",
      "[2020-09-08 10:47:36,310][MainProcess][__main__][INFO] NLLLoss: 5.620\n",
      "[2020-09-08 10:47:36,378][MainProcess][lib.metrics.accuracy][INFO] Accuracy: 0.0 [0 of 8192]\n"
     ]
    },
    {
     "name": "stderr",
     "output_type": "stream",
     "text": [
      "\r",
      "  4%|▍         | 43.33333333333336/1000.0 [15:02<5:43:57, 21.57s/it, min_score=-0, models_evaluated=0]"
     ]
    },
    {
     "name": "stdout",
     "output_type": "stream",
     "text": [
      "––––––––––––––––––––––––––––––––––––––––––––––––––––––––––––––––––––––––––––––––––––––––––––––––––––\n",
      "====================================================================================================\n",
      "[2020-09-08 10:47:36,419][MainProcess][lib.configurable][INFO] Checking configuration...\n",
      "[2020-09-08 10:47:36,420][MainProcess][lib.configurable][INFO] Configuration checked.\n",
      "[2020-09-08 10:47:36,421][MainProcess][lib.configurable][INFO] seq_to_label.SeqToLabel.__init__ was configured with:\n",
      "{   'bidirectional': True,\n",
      "    'decode_dropout': 0.3305194524356429,\n",
      "    'embedding_dropout': 0.88417179988982,\n",
      "    'embedding_size': 300,\n",
      "    'freeze_embeddings': False,\n",
      "    'input_vocab_size': 6899,\n",
      "    'output_vocab_size': 1703,\n",
      "    'rnn_cell': 'gru',\n",
      "    'rnn_dropout': 0.6965083385221835,\n",
      "    'rnn_layers': 3,\n",
      "    'rnn_size': 412,\n",
      "    'rnn_variational_dropout': 0.1789415519879103}\n",
      "[2020-09-08 10:47:36,422][MainProcess][lib.configurable][INFO] seq_encoder.SeqEncoder.__init__ no config for: lib.nn.seq_encoder.SeqEncoder.__init__\n",
      "[2020-09-08 10:47:36,423][MainProcess][lib.configurable][INFO] seq_encoder.SeqEncoder.__init__ was configured with:\n",
      "{   'bidirectional': True,\n",
      "    'embedding_dropout': 0.88417179988982,\n",
      "    'embedding_size': 300,\n",
      "    'freeze_embeddings': False,\n",
      "    'n_layers': 3,\n",
      "    'rnn_cell': 'gru',\n",
      "    'rnn_dropout': 0.6965083385221835,\n",
      "    'rnn_size': 412,\n",
      "    'rnn_variational_dropout': 0.1789415519879103,\n",
      "    'vocab_size': 6899}\n",
      "[2020-09-08 10:47:36,508][MainProcess][lib.configurable][INFO] adam.Adam.__init__ was configured with:\n",
      "{'amsgrad': True, 'params': <filter object at 0x7f8971229c50>}\n",
      "[2020-09-08 10:47:36,509][MainProcess][lib.configurable][INFO] optimizer.Optimizer.__init__ was configured with:\n",
      "{   'max_grad_norm': 3.353013790128342,\n",
      "    'optim': Adam (\n",
      "Parameter Group 0\n",
      "    amsgrad: True\n",
      "    betas: (0.9, 0.999)\n",
      "    eps: 1e-08\n",
      "    lr: 0.001\n",
      "    weight_decay: 0\n",
      ")}\n",
      "[2020-09-08 10:47:36,510][MainProcess][__main__][INFO] Epochs: 1\n",
      "[2020-09-08 10:47:36,511][MainProcess][__main__][INFO] Train Dataset Size: 75900\n",
      "[2020-09-08 10:47:36,511][MainProcess][__main__][INFO] Dev Dataset Size: 10845\n",
      "[2020-09-08 10:47:36,512][MainProcess][__main__][INFO] Train Batch Size: 32\n",
      "[2020-09-08 10:47:36,513][MainProcess][__main__][INFO] Train Max Batch Size: 1024\n",
      "[2020-09-08 10:47:36,514][MainProcess][__main__][INFO] Total Parameters: 5104547\n",
      "[2020-09-08 10:47:36,515][MainProcess][__main__][INFO] Model:\n",
      "SeqToLabel(\n",
      "  (encoder): SeqEncoder(\n",
      "    (embedding): Embedding(6899, 300, padding_idx=0)\n",
      "    (rnn): GRU(300, 206, num_layers=3, dropout=0.1789415519879103, bidirectional=True)\n",
      "    (rnn_dropout): LockedDropout(p=0.6965083385221835)\n",
      "    (embedding_dropout): Dropout(p=0.88417179988982)\n",
      "  )\n",
      "  (out): Sequential(\n",
      "    (0): Linear(in_features=412, out_features=412, bias=True)\n",
      "    (1): BatchNorm1d(412, eps=1e-05, momentum=0.1, affine=True, track_running_stats=True)\n",
      "    (2): ReLU()\n",
      "    (3): Dropout(p=0.3305194524356429)\n",
      "    (4): Linear(in_features=412, out_features=1703, bias=True)\n",
      "  )\n",
      ")\n",
      "[2020-09-08 10:47:36,515][MainProcess][__main__][INFO] Epoch: 0\n",
      "[2020-09-08 10:47:36,516][MainProcess][__main__][INFO] Training...\n"
     ]
    },
    {
     "data": {
      "application/vnd.jupyter.widget-view+json": {
       "model_id": "6bb326c930834cbd921dadb30d9e8d4f",
       "version_major": 2,
       "version_minor": 0
      },
      "text/plain": [
       "HBox(children=(IntProgress(value=0, max=2371), HTML(value='')))"
      ]
     },
     "metadata": {},
     "output_type": "display_data"
    },
    {
     "name": "stdout",
     "output_type": "stream",
     "text": [
      "\n",
      "[2020-09-08 10:48:05,985][MainProcess][lib.checkpoint][INFO] Saving checkpoint: ../../experiments/relation_classifier.09_08_10:23:25/1387.pt\n"
     ]
    },
    {
     "data": {
      "application/vnd.jupyter.widget-view+json": {
       "model_id": "47874ef933354b129bf0b1116021bc12",
       "version_major": 2,
       "version_minor": 0
      },
      "text/plain": [
       "HBox(children=(IntProgress(value=0, max=2), HTML(value='')))"
      ]
     },
     "metadata": {},
     "output_type": "display_data"
    },
    {
     "name": "stdout",
     "output_type": "stream",
     "text": [
      "\n",
      "[2020-09-08 10:48:07,831][MainProcess][__main__][INFO] NLLLoss: 5.620\n",
      "[2020-09-08 10:48:07,898][MainProcess][lib.metrics.accuracy][INFO] Accuracy: 0.0 [0 of 8192]\n"
     ]
    },
    {
     "name": "stderr",
     "output_type": "stream",
     "text": [
      "\r",
      "  4%|▍         | 44.44444444444447/1000.0 [15:34<6:16:07, 23.62s/it, min_score=-0, models_evaluated=0]"
     ]
    },
    {
     "name": "stdout",
     "output_type": "stream",
     "text": [
      "––––––––––––––––––––––––––––––––––––––––––––––––––––––––––––––––––––––––––––––––––––––––––––––––––––\n",
      "====================================================================================================\n",
      "[2020-09-08 10:48:07,960][MainProcess][lib.configurable][INFO] Checking configuration...\n",
      "[2020-09-08 10:48:07,961][MainProcess][lib.configurable][INFO] Configuration checked.\n",
      "[2020-09-08 10:48:07,963][MainProcess][lib.configurable][INFO] seq_to_label.SeqToLabel.__init__ was configured with:\n",
      "{   'bidirectional': True,\n",
      "    'decode_dropout': 0.5155122025653616,\n",
      "    'embedding_dropout': 0.7324822849064327,\n",
      "    'embedding_size': 300,\n",
      "    'freeze_embeddings': False,\n",
      "    'input_vocab_size': 6899,\n",
      "    'output_vocab_size': 1703,\n",
      "    'rnn_cell': 'gru',\n",
      "    'rnn_dropout': 0.8797205635141708,\n",
      "    'rnn_layers': 3,\n",
      "    'rnn_size': 318,\n",
      "    'rnn_variational_dropout': 0.6905059639725517}\n",
      "[2020-09-08 10:48:07,964][MainProcess][lib.configurable][INFO] seq_encoder.SeqEncoder.__init__ no config for: lib.nn.seq_encoder.SeqEncoder.__init__\n",
      "[2020-09-08 10:48:07,965][MainProcess][lib.configurable][INFO] seq_encoder.SeqEncoder.__init__ was configured with:\n",
      "{   'bidirectional': True,\n",
      "    'embedding_dropout': 0.7324822849064327,\n",
      "    'embedding_size': 300,\n",
      "    'freeze_embeddings': False,\n",
      "    'n_layers': 3,\n",
      "    'rnn_cell': 'gru',\n",
      "    'rnn_dropout': 0.8797205635141708,\n",
      "    'rnn_size': 318,\n",
      "    'rnn_variational_dropout': 0.6905059639725517,\n",
      "    'vocab_size': 6899}\n",
      "[2020-09-08 10:48:08,050][MainProcess][lib.configurable][INFO] adam.Adam.__init__ was configured with:\n",
      "{'amsgrad': True, 'params': <filter object at 0x7f8969dbe748>}\n",
      "[2020-09-08 10:48:08,051][MainProcess][lib.configurable][INFO] optimizer.Optimizer.__init__ was configured with:\n",
      "{   'max_grad_norm': 4.9392855964601665,\n",
      "    'optim': Adam (\n",
      "Parameter Group 0\n",
      "    amsgrad: True\n",
      "    betas: (0.9, 0.999)\n",
      "    eps: 1e-08\n",
      "    lr: 0.001\n",
      "    weight_decay: 0\n",
      ")}\n",
      "[2020-09-08 10:48:08,052][MainProcess][__main__][INFO] Epochs: 1\n",
      "[2020-09-08 10:48:08,053][MainProcess][__main__][INFO] Train Dataset Size: 75900\n",
      "[2020-09-08 10:48:08,054][MainProcess][__main__][INFO] Dev Dataset Size: 10845\n",
      "[2020-09-08 10:48:08,055][MainProcess][__main__][INFO] Train Batch Size: 32\n",
      "[2020-09-08 10:48:08,055][MainProcess][__main__][INFO] Train Max Batch Size: 1024\n",
      "[2020-09-08 10:48:08,056][MainProcess][__main__][INFO] Total Parameters: 4068761\n",
      "[2020-09-08 10:48:08,057][MainProcess][__main__][INFO] Model:\n",
      "SeqToLabel(\n",
      "  (encoder): SeqEncoder(\n",
      "    (embedding): Embedding(6899, 300, padding_idx=0)\n",
      "    (rnn): GRU(300, 159, num_layers=3, dropout=0.6905059639725517, bidirectional=True)\n",
      "    (rnn_dropout): LockedDropout(p=0.8797205635141708)\n",
      "    (embedding_dropout): Dropout(p=0.7324822849064327)\n",
      "  )\n",
      "  (out): Sequential(\n",
      "    (0): Linear(in_features=318, out_features=318, bias=True)\n",
      "    (1): BatchNorm1d(318, eps=1e-05, momentum=0.1, affine=True, track_running_stats=True)\n",
      "    (2): ReLU()\n",
      "    (3): Dropout(p=0.5155122025653616)\n",
      "    (4): Linear(in_features=318, out_features=1703, bias=True)\n",
      "  )\n",
      ")\n",
      "[2020-09-08 10:48:08,058][MainProcess][__main__][INFO] Epoch: 0\n",
      "[2020-09-08 10:48:08,059][MainProcess][__main__][INFO] Training...\n"
     ]
    },
    {
     "data": {
      "application/vnd.jupyter.widget-view+json": {
       "model_id": "a458cb0ab987450a8755732a76b647fa",
       "version_major": 2,
       "version_minor": 0
      },
      "text/plain": [
       "HBox(children=(IntProgress(value=0, max=2371), HTML(value='')))"
      ]
     },
     "metadata": {},
     "output_type": "display_data"
    },
    {
     "name": "stdout",
     "output_type": "stream",
     "text": [
      "\n",
      "[2020-09-08 10:48:39,177][MainProcess][lib.checkpoint][INFO] Saving checkpoint: ../../experiments/relation_classifier.09_08_10:23:25/1420.pt\n"
     ]
    },
    {
     "data": {
      "application/vnd.jupyter.widget-view+json": {
       "model_id": "a2ff90a13c4b4b859c1beba201cfa03b",
       "version_major": 2,
       "version_minor": 0
      },
      "text/plain": [
       "HBox(children=(IntProgress(value=0, max=2), HTML(value='')))"
      ]
     },
     "metadata": {},
     "output_type": "display_data"
    },
    {
     "name": "stdout",
     "output_type": "stream",
     "text": [
      "\n",
      "[2020-09-08 10:48:41,270][MainProcess][__main__][INFO] NLLLoss: 5.620\n",
      "[2020-09-08 10:48:41,337][MainProcess][lib.metrics.accuracy][INFO] Accuracy: 0.0 [0 of 8192]\n"
     ]
    },
    {
     "name": "stderr",
     "output_type": "stream",
     "text": [
      "\r",
      "  5%|▍         | 45.555555555555586/1000.0 [16:07<6:46:33, 25.56s/it, min_score=-0, models_evaluated=0]"
     ]
    },
    {
     "name": "stdout",
     "output_type": "stream",
     "text": [
      "––––––––––––––––––––––––––––––––––––––––––––––––––––––––––––––––––––––––––––––––––––––––––––––––––––\n",
      "====================================================================================================\n",
      "[2020-09-08 10:48:41,389][MainProcess][lib.configurable][INFO] Checking configuration...\n",
      "[2020-09-08 10:48:41,390][MainProcess][lib.configurable][INFO] Configuration checked.\n",
      "[2020-09-08 10:48:41,391][MainProcess][lib.configurable][INFO] seq_to_label.SeqToLabel.__init__ was configured with:\n",
      "{   'bidirectional': False,\n",
      "    'decode_dropout': 0.5017795757651954,\n",
      "    'embedding_dropout': 0.46870761960983226,\n",
      "    'embedding_size': 300,\n",
      "    'freeze_embeddings': True,\n",
      "    'input_vocab_size': 6899,\n",
      "    'output_vocab_size': 1703,\n",
      "    'rnn_cell': 'lstm',\n",
      "    'rnn_dropout': 0.36694933791743556,\n",
      "    'rnn_layers': 2,\n",
      "    'rnn_size': 134,\n",
      "    'rnn_variational_dropout': 0.7799791894416331}\n",
      "[2020-09-08 10:48:41,392][MainProcess][lib.configurable][INFO] seq_encoder.SeqEncoder.__init__ no config for: lib.nn.seq_encoder.SeqEncoder.__init__\n",
      "[2020-09-08 10:48:41,393][MainProcess][lib.configurable][INFO] seq_encoder.SeqEncoder.__init__ was configured with:\n",
      "{   'bidirectional': False,\n",
      "    'embedding_dropout': 0.46870761960983226,\n",
      "    'embedding_size': 300,\n",
      "    'freeze_embeddings': True,\n",
      "    'n_layers': 2,\n",
      "    'rnn_cell': 'lstm',\n",
      "    'rnn_dropout': 0.36694933791743556,\n",
      "    'rnn_size': 134,\n",
      "    'rnn_variational_dropout': 0.7799791894416331,\n",
      "    'vocab_size': 6899}\n",
      "[2020-09-08 10:48:41,456][MainProcess][lib.configurable][INFO] adam.Adam.__init__ was configured with:\n",
      "{'amsgrad': True, 'params': <filter object at 0x7f897181e208>}\n",
      "[2020-09-08 10:48:41,457][MainProcess][lib.configurable][INFO] optimizer.Optimizer.__init__ was configured with:\n",
      "{   'max_grad_norm': 4.874566755926839,\n",
      "    'optim': Adam (\n",
      "Parameter Group 0\n",
      "    amsgrad: True\n",
      "    betas: (0.9, 0.999)\n",
      "    eps: 1e-08\n",
      "    lr: 0.001\n",
      "    weight_decay: 0\n",
      ")}\n",
      "[2020-09-08 10:48:41,458][MainProcess][__main__][INFO] Epochs: 1\n",
      "[2020-09-08 10:48:41,459][MainProcess][__main__][INFO] Train Dataset Size: 75900\n",
      "[2020-09-08 10:48:41,459][MainProcess][__main__][INFO] Dev Dataset Size: 10845\n",
      "[2020-09-08 10:48:41,460][MainProcess][__main__][INFO] Train Batch Size: 32\n",
      "[2020-09-08 10:48:41,461][MainProcess][__main__][INFO] Train Max Batch Size: 1024\n",
      "[2020-09-08 10:48:41,461][MainProcess][__main__][INFO] Total Parameters: 626679\n",
      "[2020-09-08 10:48:41,462][MainProcess][__main__][INFO] Model:\n",
      "SeqToLabel(\n",
      "  (encoder): SeqEncoder(\n",
      "    (embedding): Embedding(6899, 300, padding_idx=0)\n",
      "    (rnn): LSTM(300, 134, num_layers=2, dropout=0.7799791894416331)\n",
      "    (rnn_dropout): LockedDropout(p=0.36694933791743556)\n",
      "    (embedding_dropout): Dropout(p=0.46870761960983226)\n",
      "  )\n",
      "  (out): Sequential(\n",
      "    (0): Linear(in_features=134, out_features=134, bias=True)\n",
      "    (1): BatchNorm1d(134, eps=1e-05, momentum=0.1, affine=True, track_running_stats=True)\n",
      "    (2): ReLU()\n",
      "    (3): Dropout(p=0.5017795757651954)\n",
      "    (4): Linear(in_features=134, out_features=1703, bias=True)\n",
      "  )\n",
      ")\n",
      "[2020-09-08 10:48:41,463][MainProcess][__main__][INFO] Epoch: 0\n",
      "[2020-09-08 10:48:41,464][MainProcess][__main__][INFO] Training...\n"
     ]
    },
    {
     "data": {
      "application/vnd.jupyter.widget-view+json": {
       "model_id": "68fb65a3f14741c38e8fcca3d3c228a2",
       "version_major": 2,
       "version_minor": 0
      },
      "text/plain": [
       "HBox(children=(IntProgress(value=0, max=2371), HTML(value='')))"
      ]
     },
     "metadata": {},
     "output_type": "display_data"
    },
    {
     "name": "stdout",
     "output_type": "stream",
     "text": [
      "\n",
      "[2020-09-08 10:48:57,553][MainProcess][lib.checkpoint][INFO] Saving checkpoint: ../../experiments/relation_classifier.09_08_10:23:25/1439.pt\n"
     ]
    },
    {
     "data": {
      "application/vnd.jupyter.widget-view+json": {
       "model_id": "23938c69bfae4d3588b480013c6f9b68",
       "version_major": 2,
       "version_minor": 0
      },
      "text/plain": [
       "HBox(children=(IntProgress(value=0, max=2), HTML(value='')))"
      ]
     },
     "metadata": {},
     "output_type": "display_data"
    },
    {
     "name": "stdout",
     "output_type": "stream",
     "text": [
      "\n",
      "[2020-09-08 10:48:58,310][MainProcess][__main__][INFO] NLLLoss: 5.620\n",
      "[2020-09-08 10:48:58,376][MainProcess][lib.metrics.accuracy][INFO] Accuracy: 0.0 [0 of 8192]\n"
     ]
    },
    {
     "name": "stderr",
     "output_type": "stream",
     "text": [
      "\r",
      "  5%|▍         | 46.6666666666667/1000.0 [16:24<5:57:16, 22.49s/it, min_score=-0, models_evaluated=0]  "
     ]
    },
    {
     "name": "stdout",
     "output_type": "stream",
     "text": [
      "––––––––––––––––––––––––––––––––––––––––––––––––––––––––––––––––––––––––––––––––––––––––––––––––––––\n",
      "====================================================================================================\n",
      "[2020-09-08 10:48:58,411][MainProcess][lib.configurable][INFO] Checking configuration...\n",
      "[2020-09-08 10:48:58,412][MainProcess][lib.configurable][INFO] Configuration checked.\n",
      "[2020-09-08 10:48:58,414][MainProcess][lib.configurable][INFO] seq_to_label.SeqToLabel.__init__ was configured with:\n",
      "{   'bidirectional': True,\n",
      "    'decode_dropout': 0.06955272244173816,\n",
      "    'embedding_dropout': 0.7668489463028979,\n",
      "    'embedding_size': 300,\n",
      "    'freeze_embeddings': False,\n",
      "    'input_vocab_size': 6899,\n",
      "    'output_vocab_size': 1703,\n",
      "    'rnn_cell': 'gru',\n",
      "    'rnn_dropout': 0.6293126473149384,\n",
      "    'rnn_layers': 1,\n",
      "    'rnn_size': 390,\n",
      "    'rnn_variational_dropout': 0.009651002369334007}\n",
      "[2020-09-08 10:48:58,415][MainProcess][lib.configurable][INFO] seq_encoder.SeqEncoder.__init__ no config for: lib.nn.seq_encoder.SeqEncoder.__init__\n",
      "[2020-09-08 10:48:58,416][MainProcess][lib.configurable][INFO] seq_encoder.SeqEncoder.__init__ was configured with:\n",
      "{   'bidirectional': True,\n",
      "    'embedding_dropout': 0.7668489463028979,\n",
      "    'embedding_size': 300,\n",
      "    'freeze_embeddings': False,\n",
      "    'n_layers': 1,\n",
      "    'rnn_cell': 'gru',\n",
      "    'rnn_dropout': 0.6293126473149384,\n",
      "    'rnn_size': 390,\n",
      "    'rnn_variational_dropout': 0.009651002369334007,\n",
      "    'vocab_size': 6899}\n",
      "[2020-09-08 10:48:58,472][MainProcess][lib.configurable][INFO] adam.Adam.__init__ was configured with:\n",
      "{'amsgrad': True, 'params': <filter object at 0x7f896565d400>}\n",
      "[2020-09-08 10:48:58,474][MainProcess][lib.configurable][INFO] optimizer.Optimizer.__init__ was configured with:\n",
      "{   'max_grad_norm': 3.0167254638215333,\n",
      "    'optim': Adam (\n",
      "Parameter Group 0\n",
      "    amsgrad: True\n",
      "    betas: (0.9, 0.999)\n",
      "    eps: 1e-08\n",
      "    lr: 0.001\n",
      "    weight_decay: 0\n",
      ")}\n",
      "[2020-09-08 10:48:58,475][MainProcess][__main__][INFO] Epochs: 1\n",
      "[2020-09-08 10:48:58,475][MainProcess][__main__][INFO] Train Dataset Size: 75900\n",
      "[2020-09-08 10:48:58,476][MainProcess][__main__][INFO] Dev Dataset Size: 10845\n",
      "[2020-09-08 10:48:58,477][MainProcess][__main__][INFO] Train Batch Size: 32\n",
      "[2020-09-08 10:48:58,478][MainProcess][__main__][INFO] Train Max Batch Size: 1024\n",
      "[2020-09-08 10:48:58,479][MainProcess][__main__][INFO] Total Parameters: 3470333\n",
      "[2020-09-08 10:48:58,480][MainProcess][__main__][INFO] Model:\n",
      "SeqToLabel(\n",
      "  (encoder): SeqEncoder(\n",
      "    (embedding): Embedding(6899, 300, padding_idx=0)\n",
      "    (rnn): GRU(300, 195, dropout=0.009651002369334007, bidirectional=True)\n",
      "    (rnn_dropout): LockedDropout(p=0.6293126473149384)\n",
      "    (embedding_dropout): Dropout(p=0.7668489463028979)\n",
      "  )\n",
      "  (out): Sequential(\n",
      "    (0): Linear(in_features=390, out_features=390, bias=True)\n",
      "    (1): BatchNorm1d(390, eps=1e-05, momentum=0.1, affine=True, track_running_stats=True)\n",
      "    (2): ReLU()\n",
      "    (3): Dropout(p=0.06955272244173816)\n",
      "    (4): Linear(in_features=390, out_features=1703, bias=True)\n",
      "  )\n",
      ")\n",
      "[2020-09-08 10:48:58,480][MainProcess][__main__][INFO] Epoch: 0\n",
      "[2020-09-08 10:48:58,481][MainProcess][__main__][INFO] Training...\n"
     ]
    },
    {
     "name": "stderr",
     "output_type": "stream",
     "text": [
      "/mount/arbeitsdaten46/projekte/dialog-1/kanjurva/Simple-QA-EMNLP-2018/env/lib/python3.6/site-packages/torch/nn/modules/rnn.py:38: UserWarning: dropout option adds dropout after all but last recurrent layer, so non-zero dropout expects num_layers greater than 1, but got dropout=0.009651002369334007 and num_layers=1\n",
      "  \"num_layers={}\".format(dropout, num_layers))\n"
     ]
    },
    {
     "data": {
      "application/vnd.jupyter.widget-view+json": {
       "model_id": "bc47a7e4d8ed4cd59cd3b247f41bf0d9",
       "version_major": 2,
       "version_minor": 0
      },
      "text/plain": [
       "HBox(children=(IntProgress(value=0, max=2371), HTML(value='')))"
      ]
     },
     "metadata": {},
     "output_type": "display_data"
    },
    {
     "name": "stdout",
     "output_type": "stream",
     "text": [
      "\n",
      "[2020-09-08 10:49:18,066][MainProcess][lib.checkpoint][INFO] Saving checkpoint: ../../experiments/relation_classifier.09_08_10:23:25/1459.pt\n"
     ]
    },
    {
     "data": {
      "application/vnd.jupyter.widget-view+json": {
       "model_id": "a180d429ea5441edae8509c08af8c422",
       "version_major": 2,
       "version_minor": 0
      },
      "text/plain": [
       "HBox(children=(IntProgress(value=0, max=2), HTML(value='')))"
      ]
     },
     "metadata": {},
     "output_type": "display_data"
    },
    {
     "name": "stdout",
     "output_type": "stream",
     "text": [
      "\n",
      "[2020-09-08 10:49:19,648][MainProcess][__main__][INFO] NLLLoss: 5.620\n",
      "[2020-09-08 10:49:19,714][MainProcess][lib.metrics.accuracy][INFO] Accuracy: 0.0 [0 of 8192]\n"
     ]
    },
    {
     "name": "stderr",
     "output_type": "stream",
     "text": [
      "\r",
      "  5%|▍         | 47.777777777777814/1000.0 [16:46<5:41:16, 21.50s/it, min_score=-0, models_evaluated=0]"
     ]
    },
    {
     "name": "stdout",
     "output_type": "stream",
     "text": [
      "––––––––––––––––––––––––––––––––––––––––––––––––––––––––––––––––––––––––––––––––––––––––––––––––––––\n",
      "====================================================================================================\n",
      "[2020-09-08 10:49:19,756][MainProcess][lib.configurable][INFO] Checking configuration...\n",
      "[2020-09-08 10:49:19,757][MainProcess][lib.configurable][INFO] Configuration checked.\n",
      "[2020-09-08 10:49:19,758][MainProcess][lib.configurable][INFO] seq_to_label.SeqToLabel.__init__ was configured with:\n",
      "{   'bidirectional': False,\n",
      "    'decode_dropout': 0.3885318348188108,\n",
      "    'embedding_dropout': 0.8439673298105501,\n",
      "    'embedding_size': 300,\n",
      "    'freeze_embeddings': True,\n",
      "    'input_vocab_size': 6899,\n",
      "    'output_vocab_size': 1703,\n",
      "    'rnn_cell': 'lstm',\n",
      "    'rnn_dropout': 0.5389769129934144,\n",
      "    'rnn_layers': 1,\n",
      "    'rnn_size': 192,\n",
      "    'rnn_variational_dropout': 0.8631937524729231}\n",
      "[2020-09-08 10:49:19,759][MainProcess][lib.configurable][INFO] seq_encoder.SeqEncoder.__init__ no config for: lib.nn.seq_encoder.SeqEncoder.__init__\n",
      "[2020-09-08 10:49:19,760][MainProcess][lib.configurable][INFO] seq_encoder.SeqEncoder.__init__ was configured with:\n",
      "{   'bidirectional': False,\n",
      "    'embedding_dropout': 0.8439673298105501,\n",
      "    'embedding_size': 300,\n",
      "    'freeze_embeddings': True,\n",
      "    'n_layers': 1,\n",
      "    'rnn_cell': 'lstm',\n",
      "    'rnn_dropout': 0.5389769129934144,\n",
      "    'rnn_size': 192,\n",
      "    'rnn_variational_dropout': 0.8631937524729231,\n",
      "    'vocab_size': 6899}\n",
      "[2020-09-08 10:49:19,809][MainProcess][lib.configurable][INFO] adam.Adam.__init__ was configured with:\n",
      "{'amsgrad': True, 'params': <filter object at 0x7f8968a6f588>}\n",
      "[2020-09-08 10:49:19,810][MainProcess][lib.configurable][INFO] optimizer.Optimizer.__init__ was configured with:\n",
      "{   'max_grad_norm': 3.3187101574983515,\n",
      "    'optim': Adam (\n",
      "Parameter Group 0\n",
      "    amsgrad: True\n",
      "    betas: (0.9, 0.999)\n",
      "    eps: 1e-08\n",
      "    lr: 0.001\n",
      "    weight_decay: 0\n",
      ")}\n",
      "[2020-09-08 10:49:19,811][MainProcess][__main__][INFO] Epochs: 1\n",
      "[2020-09-08 10:49:19,812][MainProcess][__main__][INFO] Train Dataset Size: 75900\n",
      "[2020-09-08 10:49:19,813][MainProcess][__main__][INFO] Dev Dataset Size: 10845\n",
      "[2020-09-08 10:49:19,814][MainProcess][__main__][INFO] Train Batch Size: 32\n",
      "[2020-09-08 10:49:19,815][MainProcess][__main__][INFO] Train Max Batch Size: 1024\n",
      "[2020-09-08 10:49:19,815][MainProcess][__main__][INFO] Total Parameters: 745511\n",
      "[2020-09-08 10:49:19,816][MainProcess][__main__][INFO] Model:\n",
      "SeqToLabel(\n",
      "  (encoder): SeqEncoder(\n",
      "    (embedding): Embedding(6899, 300, padding_idx=0)\n",
      "    (rnn): LSTM(300, 192, dropout=0.8631937524729231)\n",
      "    (rnn_dropout): LockedDropout(p=0.5389769129934144)\n",
      "    (embedding_dropout): Dropout(p=0.8439673298105501)\n",
      "  )\n",
      "  (out): Sequential(\n",
      "    (0): Linear(in_features=192, out_features=192, bias=True)\n",
      "    (1): BatchNorm1d(192, eps=1e-05, momentum=0.1, affine=True, track_running_stats=True)\n",
      "    (2): ReLU()\n",
      "    (3): Dropout(p=0.3885318348188108)\n",
      "    (4): Linear(in_features=192, out_features=1703, bias=True)\n",
      "  )\n",
      ")\n",
      "[2020-09-08 10:49:19,817][MainProcess][__main__][INFO] Epoch: 0\n",
      "[2020-09-08 10:49:19,818][MainProcess][__main__][INFO] Training...\n"
     ]
    },
    {
     "name": "stderr",
     "output_type": "stream",
     "text": [
      "/mount/arbeitsdaten46/projekte/dialog-1/kanjurva/Simple-QA-EMNLP-2018/env/lib/python3.6/site-packages/torch/nn/modules/rnn.py:38: UserWarning: dropout option adds dropout after all but last recurrent layer, so non-zero dropout expects num_layers greater than 1, but got dropout=0.8631937524729231 and num_layers=1\n",
      "  \"num_layers={}\".format(dropout, num_layers))\n"
     ]
    },
    {
     "data": {
      "application/vnd.jupyter.widget-view+json": {
       "model_id": "d7f1811eb8414a89bbbf5ba66867a450",
       "version_major": 2,
       "version_minor": 0
      },
      "text/plain": [
       "HBox(children=(IntProgress(value=0, max=2371), HTML(value='')))"
      ]
     },
     "metadata": {},
     "output_type": "display_data"
    },
    {
     "name": "stdout",
     "output_type": "stream",
     "text": [
      "\n",
      "[2020-09-08 10:49:32,364][MainProcess][lib.checkpoint][INFO] Saving checkpoint: ../../experiments/relation_classifier.09_08_10:23:25/1473.pt\n"
     ]
    },
    {
     "data": {
      "application/vnd.jupyter.widget-view+json": {
       "model_id": "76bfdd47aba44d20b6550de01bdafb5c",
       "version_major": 2,
       "version_minor": 0
      },
      "text/plain": [
       "HBox(children=(IntProgress(value=0, max=2), HTML(value='')))"
      ]
     },
     "metadata": {},
     "output_type": "display_data"
    },
    {
     "name": "stdout",
     "output_type": "stream",
     "text": [
      "\n",
      "[2020-09-08 10:49:33,163][MainProcess][__main__][INFO] NLLLoss: 5.620\n",
      "[2020-09-08 10:49:33,228][MainProcess][lib.metrics.accuracy][INFO] Accuracy: 0.0 [0 of 8192]\n"
     ]
    },
    {
     "name": "stderr",
     "output_type": "stream",
     "text": [
      "\r",
      "  5%|▍         | 48.88888888888893/1000.0 [16:59<4:56:24, 18.70s/it, min_score=-0, models_evaluated=0] "
     ]
    },
    {
     "name": "stdout",
     "output_type": "stream",
     "text": [
      "––––––––––––––––––––––––––––––––––––––––––––––––––––––––––––––––––––––––––––––––––––––––––––––––––––\n",
      "====================================================================================================\n",
      "[2020-09-08 10:49:33,261][MainProcess][lib.configurable][INFO] Checking configuration...\n",
      "[2020-09-08 10:49:33,263][MainProcess][lib.configurable][INFO] Configuration checked.\n",
      "[2020-09-08 10:49:33,264][MainProcess][lib.configurable][INFO] seq_to_label.SeqToLabel.__init__ was configured with:\n",
      "{   'bidirectional': False,\n",
      "    'decode_dropout': 0.897380369296515,\n",
      "    'embedding_dropout': 0.2596662937644213,\n",
      "    'embedding_size': 300,\n",
      "    'freeze_embeddings': False,\n",
      "    'input_vocab_size': 6899,\n",
      "    'output_vocab_size': 1703,\n",
      "    'rnn_cell': 'gru',\n",
      "    'rnn_dropout': 0.21239085012503184,\n",
      "    'rnn_layers': 1,\n",
      "    'rnn_size': 416,\n",
      "    'rnn_variational_dropout': 0.12801100382116679}\n",
      "[2020-09-08 10:49:33,265][MainProcess][lib.configurable][INFO] seq_encoder.SeqEncoder.__init__ no config for: lib.nn.seq_encoder.SeqEncoder.__init__\n",
      "[2020-09-08 10:49:33,266][MainProcess][lib.configurable][INFO] seq_encoder.SeqEncoder.__init__ was configured with:\n",
      "{   'bidirectional': False,\n",
      "    'embedding_dropout': 0.2596662937644213,\n",
      "    'embedding_size': 300,\n",
      "    'freeze_embeddings': False,\n",
      "    'n_layers': 1,\n",
      "    'rnn_cell': 'gru',\n",
      "    'rnn_dropout': 0.21239085012503184,\n",
      "    'rnn_size': 416,\n",
      "    'rnn_variational_dropout': 0.12801100382116679,\n",
      "    'vocab_size': 6899}\n",
      "[2020-09-08 10:49:33,328][MainProcess][lib.configurable][INFO] adam.Adam.__init__ was configured with:\n",
      "{'amsgrad': True, 'params': <filter object at 0x7f896b4d56a0>}\n",
      "[2020-09-08 10:49:33,330][MainProcess][lib.configurable][INFO] optimizer.Optimizer.__init__ was configured with:\n",
      "{   'max_grad_norm': 2.593147414016724,\n",
      "    'optim': Adam (\n",
      "Parameter Group 0\n",
      "    amsgrad: True\n",
      "    betas: (0.9, 0.999)\n",
      "    eps: 1e-08\n",
      "    lr: 0.001\n",
      "    weight_decay: 0\n",
      ")}\n",
      "[2020-09-08 10:49:33,331][MainProcess][__main__][INFO] Epochs: 1\n",
      "[2020-09-08 10:49:33,331][MainProcess][__main__][INFO] Train Dataset Size: 75900\n",
      "[2020-09-08 10:49:33,332][MainProcess][__main__][INFO] Dev Dataset Size: 10845\n",
      "[2020-09-08 10:49:33,333][MainProcess][__main__][INFO] Train Batch Size: 32\n",
      "[2020-09-08 10:49:33,334][MainProcess][__main__][INFO] Train Max Batch Size: 1024\n",
      "[2020-09-08 10:49:33,335][MainProcess][__main__][INFO] Total Parameters: 3850219\n",
      "[2020-09-08 10:49:33,336][MainProcess][__main__][INFO] Model:\n",
      "SeqToLabel(\n",
      "  (encoder): SeqEncoder(\n",
      "    (embedding): Embedding(6899, 300, padding_idx=0)\n",
      "    (rnn): GRU(300, 416, dropout=0.12801100382116679)\n",
      "    (rnn_dropout): LockedDropout(p=0.21239085012503184)\n",
      "    (embedding_dropout): Dropout(p=0.2596662937644213)\n",
      "  )\n",
      "  (out): Sequential(\n",
      "    (0): Linear(in_features=416, out_features=416, bias=True)\n",
      "    (1): BatchNorm1d(416, eps=1e-05, momentum=0.1, affine=True, track_running_stats=True)\n",
      "    (2): ReLU()\n",
      "    (3): Dropout(p=0.897380369296515)\n",
      "    (4): Linear(in_features=416, out_features=1703, bias=True)\n",
      "  )\n",
      ")\n",
      "[2020-09-08 10:49:33,336][MainProcess][__main__][INFO] Epoch: 0\n",
      "[2020-09-08 10:49:33,337][MainProcess][__main__][INFO] Training...\n"
     ]
    },
    {
     "name": "stderr",
     "output_type": "stream",
     "text": [
      "/mount/arbeitsdaten46/projekte/dialog-1/kanjurva/Simple-QA-EMNLP-2018/env/lib/python3.6/site-packages/torch/nn/modules/rnn.py:38: UserWarning: dropout option adds dropout after all but last recurrent layer, so non-zero dropout expects num_layers greater than 1, but got dropout=0.12801100382116679 and num_layers=1\n",
      "  \"num_layers={}\".format(dropout, num_layers))\n"
     ]
    },
    {
     "data": {
      "application/vnd.jupyter.widget-view+json": {
       "model_id": "f3c82d7a93da4747bdb0b41ea8b0cc12",
       "version_major": 2,
       "version_minor": 0
      },
      "text/plain": [
       "HBox(children=(IntProgress(value=0, max=2371), HTML(value='')))"
      ]
     },
     "metadata": {},
     "output_type": "display_data"
    },
    {
     "name": "stdout",
     "output_type": "stream",
     "text": [
      "\n",
      "[2020-09-08 10:49:47,062][MainProcess][lib.checkpoint][INFO] Saving checkpoint: ../../experiments/relation_classifier.09_08_10:23:25/1488.pt\n"
     ]
    },
    {
     "data": {
      "application/vnd.jupyter.widget-view+json": {
       "model_id": "ef9fc003b5c440fe9a1e299cb97245cc",
       "version_major": 2,
       "version_minor": 0
      },
      "text/plain": [
       "HBox(children=(IntProgress(value=0, max=2), HTML(value='')))"
      ]
     },
     "metadata": {},
     "output_type": "display_data"
    },
    {
     "name": "stdout",
     "output_type": "stream",
     "text": [
      "\n",
      "[2020-09-08 10:49:48,403][MainProcess][__main__][INFO] NLLLoss: 5.620\n",
      "[2020-09-08 10:49:48,470][MainProcess][lib.metrics.accuracy][INFO] Accuracy: 0.0 [0 of 8192]\n"
     ]
    },
    {
     "name": "stderr",
     "output_type": "stream",
     "text": [
      "\r",
      "  5%|▌         | 50.00000000000004/1000.0 [17:14<4:32:26, 17.21s/it, min_score=-0, models_evaluated=0]"
     ]
    },
    {
     "name": "stdout",
     "output_type": "stream",
     "text": [
      "––––––––––––––––––––––––––––––––––––––––––––––––––––––––––––––––––––––––––––––––––––––––––––––––––––\n",
      "====================================================================================================\n",
      "[2020-09-08 10:49:48,513][MainProcess][lib.configurable][INFO] Checking configuration...\n",
      "[2020-09-08 10:49:48,515][MainProcess][lib.configurable][INFO] Configuration checked.\n",
      "[2020-09-08 10:49:48,516][MainProcess][lib.configurable][INFO] seq_to_label.SeqToLabel.__init__ was configured with:\n",
      "{   'bidirectional': True,\n",
      "    'decode_dropout': 0.6855472141296429,\n",
      "    'embedding_dropout': 0.2768165047020802,\n",
      "    'embedding_size': 300,\n",
      "    'freeze_embeddings': False,\n",
      "    'input_vocab_size': 6899,\n",
      "    'output_vocab_size': 1703,\n",
      "    'rnn_cell': 'gru',\n",
      "    'rnn_dropout': 0.17247560745191143,\n",
      "    'rnn_layers': 2,\n",
      "    'rnn_size': 126,\n",
      "    'rnn_variational_dropout': 0.823053206910732}\n",
      "[2020-09-08 10:49:48,517][MainProcess][lib.configurable][INFO] seq_encoder.SeqEncoder.__init__ no config for: lib.nn.seq_encoder.SeqEncoder.__init__\n",
      "[2020-09-08 10:49:48,518][MainProcess][lib.configurable][INFO] seq_encoder.SeqEncoder.__init__ was configured with:\n",
      "{   'bidirectional': True,\n",
      "    'embedding_dropout': 0.2768165047020802,\n",
      "    'embedding_size': 300,\n",
      "    'freeze_embeddings': False,\n",
      "    'n_layers': 2,\n",
      "    'rnn_cell': 'gru',\n",
      "    'rnn_dropout': 0.17247560745191143,\n",
      "    'rnn_size': 126,\n",
      "    'rnn_variational_dropout': 0.823053206910732,\n",
      "    'vocab_size': 6899}\n",
      "[2020-09-08 10:49:48,562][MainProcess][lib.configurable][INFO] adam.Adam.__init__ was configured with:\n",
      "{'amsgrad': True, 'params': <filter object at 0x7f8965bd7ef0>}\n",
      "[2020-09-08 10:49:48,563][MainProcess][lib.configurable][INFO] optimizer.Optimizer.__init__ was configured with:\n",
      "{   'max_grad_norm': 2.491823067544966,\n",
      "    'optim': Adam (\n",
      "Parameter Group 0\n",
      "    amsgrad: True\n",
      "    betas: (0.9, 0.999)\n",
      "    eps: 1e-08\n",
      "    lr: 0.001\n",
      "    weight_decay: 0\n",
      ")}\n",
      "[2020-09-08 10:49:48,564][MainProcess][__main__][INFO] Epochs: 1\n",
      "[2020-09-08 10:49:48,565][MainProcess][__main__][INFO] Train Dataset Size: 75900\n",
      "[2020-09-08 10:49:48,566][MainProcess][__main__][INFO] Dev Dataset Size: 10845\n",
      "[2020-09-08 10:49:48,566][MainProcess][__main__][INFO] Train Batch Size: 32\n",
      "[2020-09-08 10:49:48,567][MainProcess][__main__][INFO] Train Max Batch Size: 1024\n",
      "[2020-09-08 10:49:48,568][MainProcess][__main__][INFO] Total Parameters: 2512403\n",
      "[2020-09-08 10:49:48,569][MainProcess][__main__][INFO] Model:\n",
      "SeqToLabel(\n",
      "  (encoder): SeqEncoder(\n",
      "    (embedding): Embedding(6899, 300, padding_idx=0)\n",
      "    (rnn): GRU(300, 63, num_layers=2, dropout=0.823053206910732, bidirectional=True)\n",
      "    (rnn_dropout): LockedDropout(p=0.17247560745191143)\n",
      "    (embedding_dropout): Dropout(p=0.2768165047020802)\n",
      "  )\n",
      "  (out): Sequential(\n",
      "    (0): Linear(in_features=126, out_features=126, bias=True)\n",
      "    (1): BatchNorm1d(126, eps=1e-05, momentum=0.1, affine=True, track_running_stats=True)\n",
      "    (2): ReLU()\n",
      "    (3): Dropout(p=0.6855472141296429)\n",
      "    (4): Linear(in_features=126, out_features=1703, bias=True)\n",
      "  )\n",
      ")\n",
      "[2020-09-08 10:49:48,570][MainProcess][__main__][INFO] Epoch: 0\n",
      "[2020-09-08 10:49:48,570][MainProcess][__main__][INFO] Training...\n"
     ]
    },
    {
     "data": {
      "application/vnd.jupyter.widget-view+json": {
       "model_id": "c3f723618d6841da83c059003969293d",
       "version_major": 2,
       "version_minor": 0
      },
      "text/plain": [
       "HBox(children=(IntProgress(value=0, max=2371), HTML(value='')))"
      ]
     },
     "metadata": {},
     "output_type": "display_data"
    },
    {
     "name": "stdout",
     "output_type": "stream",
     "text": [
      "\n",
      "[2020-09-08 10:50:10,790][MainProcess][lib.checkpoint][INFO] Saving checkpoint: ../../experiments/relation_classifier.09_08_10:23:25/1512.pt\n"
     ]
    },
    {
     "data": {
      "application/vnd.jupyter.widget-view+json": {
       "model_id": "97da0e26fe6a4e6193ffedbd2aaf1a23",
       "version_major": 2,
       "version_minor": 0
      },
      "text/plain": [
       "HBox(children=(IntProgress(value=0, max=2), HTML(value='')))"
      ]
     },
     "metadata": {},
     "output_type": "display_data"
    },
    {
     "name": "stdout",
     "output_type": "stream",
     "text": [
      "\n",
      "[2020-09-08 10:50:12,883][MainProcess][__main__][INFO] NLLLoss: 5.620\n",
      "[2020-09-08 10:50:12,987][MainProcess][lib.metrics.accuracy][INFO] Accuracy: 0.0 [0 of 8192]\n"
     ]
    },
    {
     "name": "stderr",
     "output_type": "stream",
     "text": [
      "\r",
      "  5%|▌         | 51.11111111111116/1000.0 [17:39<4:55:08, 18.66s/it, min_score=-0, models_evaluated=0]"
     ]
    },
    {
     "name": "stdout",
     "output_type": "stream",
     "text": [
      "––––––––––––––––––––––––––––––––––––––––––––––––––––––––––––––––––––––––––––––––––––––––––––––––––––\n",
      "====================================================================================================\n",
      "[2020-09-08 10:50:13,021][MainProcess][lib.configurable][INFO] Checking configuration...\n",
      "[2020-09-08 10:50:13,023][MainProcess][lib.configurable][INFO] Configuration checked.\n",
      "[2020-09-08 10:50:13,024][MainProcess][lib.configurable][INFO] seq_to_label.SeqToLabel.__init__ was configured with:\n",
      "{   'bidirectional': False,\n",
      "    'decode_dropout': 0.5373852649912498,\n",
      "    'embedding_dropout': 0.465007099738011,\n",
      "    'embedding_size': 300,\n",
      "    'freeze_embeddings': False,\n",
      "    'input_vocab_size': 6899,\n",
      "    'output_vocab_size': 1703,\n",
      "    'rnn_cell': 'gru',\n",
      "    'rnn_dropout': 0.49820153175759596,\n",
      "    'rnn_layers': 1,\n",
      "    'rnn_size': 172,\n",
      "    'rnn_variational_dropout': 0.7326633712564231}\n",
      "[2020-09-08 10:50:13,025][MainProcess][lib.configurable][INFO] seq_encoder.SeqEncoder.__init__ no config for: lib.nn.seq_encoder.SeqEncoder.__init__\n",
      "[2020-09-08 10:50:13,026][MainProcess][lib.configurable][INFO] seq_encoder.SeqEncoder.__init__ was configured with:\n",
      "{   'bidirectional': False,\n",
      "    'embedding_dropout': 0.465007099738011,\n",
      "    'embedding_size': 300,\n",
      "    'freeze_embeddings': False,\n",
      "    'n_layers': 1,\n",
      "    'rnn_cell': 'gru',\n",
      "    'rnn_dropout': 0.49820153175759596,\n",
      "    'rnn_size': 172,\n",
      "    'rnn_variational_dropout': 0.7326633712564231,\n",
      "    'vocab_size': 6899}\n",
      "[2020-09-08 10:50:13,073][MainProcess][lib.configurable][INFO] adam.Adam.__init__ was configured with:\n",
      "{'amsgrad': True, 'params': <filter object at 0x7f8965ed01d0>}\n",
      "[2020-09-08 10:50:13,074][MainProcess][lib.configurable][INFO] optimizer.Optimizer.__init__ was configured with:\n",
      "{   'max_grad_norm': 1.7377811224636532,\n",
      "    'optim': Adam (\n",
      "Parameter Group 0\n",
      "    amsgrad: True\n",
      "    betas: (0.9, 0.999)\n",
      "    eps: 1e-08\n",
      "    lr: 0.001\n",
      "    weight_decay: 0\n",
      ")}\n",
      "[2020-09-08 10:50:13,075][MainProcess][__main__][INFO] Epochs: 1\n",
      "[2020-09-08 10:50:13,076][MainProcess][__main__][INFO] Train Dataset Size: 75900\n",
      "[2020-09-08 10:50:13,077][MainProcess][__main__][INFO] Dev Dataset Size: 10845\n",
      "[2020-09-08 10:50:13,078][MainProcess][__main__][INFO] Train Batch Size: 32\n",
      "[2020-09-08 10:50:13,078][MainProcess][__main__][INFO] Train Max Batch Size: 1024\n",
      "[2020-09-08 10:50:13,079][MainProcess][__main__][INFO] Total Parameters: 2639003\n",
      "[2020-09-08 10:50:13,080][MainProcess][__main__][INFO] Model:\n",
      "SeqToLabel(\n",
      "  (encoder): SeqEncoder(\n",
      "    (embedding): Embedding(6899, 300, padding_idx=0)\n",
      "    (rnn): GRU(300, 172, dropout=0.7326633712564231)\n",
      "    (rnn_dropout): LockedDropout(p=0.49820153175759596)\n",
      "    (embedding_dropout): Dropout(p=0.465007099738011)\n",
      "  )\n",
      "  (out): Sequential(\n",
      "    (0): Linear(in_features=172, out_features=172, bias=True)\n",
      "    (1): BatchNorm1d(172, eps=1e-05, momentum=0.1, affine=True, track_running_stats=True)\n",
      "    (2): ReLU()\n",
      "    (3): Dropout(p=0.5373852649912498)\n",
      "    (4): Linear(in_features=172, out_features=1703, bias=True)\n",
      "  )\n",
      ")\n",
      "[2020-09-08 10:50:13,081][MainProcess][__main__][INFO] Epoch: 0\n",
      "[2020-09-08 10:50:13,082][MainProcess][__main__][INFO] Training...\n"
     ]
    },
    {
     "name": "stderr",
     "output_type": "stream",
     "text": [
      "/mount/arbeitsdaten46/projekte/dialog-1/kanjurva/Simple-QA-EMNLP-2018/env/lib/python3.6/site-packages/torch/nn/modules/rnn.py:38: UserWarning: dropout option adds dropout after all but last recurrent layer, so non-zero dropout expects num_layers greater than 1, but got dropout=0.7326633712564231 and num_layers=1\n",
      "  \"num_layers={}\".format(dropout, num_layers))\n"
     ]
    },
    {
     "data": {
      "application/vnd.jupyter.widget-view+json": {
       "model_id": "60e84e6a49d04ae3b685434275b81f7c",
       "version_major": 2,
       "version_minor": 0
      },
      "text/plain": [
       "HBox(children=(IntProgress(value=0, max=2371), HTML(value='')))"
      ]
     },
     "metadata": {},
     "output_type": "display_data"
    },
    {
     "name": "stdout",
     "output_type": "stream",
     "text": [
      "\n",
      "[2020-09-08 10:50:26,751][MainProcess][lib.checkpoint][INFO] Saving checkpoint: ../../experiments/relation_classifier.09_08_10:23:25/1528.pt\n"
     ]
    },
    {
     "data": {
      "application/vnd.jupyter.widget-view+json": {
       "model_id": "95b16c3ae6e04559bd03e5c612e002ff",
       "version_major": 2,
       "version_minor": 0
      },
      "text/plain": [
       "HBox(children=(IntProgress(value=0, max=2), HTML(value='')))"
      ]
     },
     "metadata": {},
     "output_type": "display_data"
    },
    {
     "name": "stdout",
     "output_type": "stream",
     "text": [
      "\n",
      "[2020-09-08 10:50:28,167][MainProcess][__main__][INFO] NLLLoss: 5.620\n",
      "[2020-09-08 10:50:28,264][MainProcess][lib.metrics.accuracy][INFO] Accuracy: 0.0 [0 of 8192]\n"
     ]
    },
    {
     "name": "stderr",
     "output_type": "stream",
     "text": [
      "\r",
      "  5%|▌         | 52.22222222222227/1000.0 [17:54<4:31:32, 17.19s/it, min_score=-0, models_evaluated=0]"
     ]
    },
    {
     "name": "stdout",
     "output_type": "stream",
     "text": [
      "––––––––––––––––––––––––––––––––––––––––––––––––––––––––––––––––––––––––––––––––––––––––––––––––––––\n",
      "====================================================================================================\n",
      "[2020-09-08 10:50:28,306][MainProcess][lib.configurable][INFO] Checking configuration...\n",
      "[2020-09-08 10:50:28,308][MainProcess][lib.configurable][INFO] Configuration checked.\n",
      "[2020-09-08 10:50:28,309][MainProcess][lib.configurable][INFO] seq_to_label.SeqToLabel.__init__ was configured with:\n",
      "{   'bidirectional': True,\n",
      "    'decode_dropout': 0.1647874591795859,\n",
      "    'embedding_dropout': 0.8936896980804943,\n",
      "    'embedding_size': 300,\n",
      "    'freeze_embeddings': False,\n",
      "    'input_vocab_size': 6899,\n",
      "    'output_vocab_size': 1703,\n",
      "    'rnn_cell': 'lstm',\n",
      "    'rnn_dropout': 0.5328084492465016,\n",
      "    'rnn_layers': 2,\n",
      "    'rnn_size': 264,\n",
      "    'rnn_variational_dropout': 0.25105870993937685}\n",
      "[2020-09-08 10:50:28,310][MainProcess][lib.configurable][INFO] seq_encoder.SeqEncoder.__init__ no config for: lib.nn.seq_encoder.SeqEncoder.__init__\n",
      "[2020-09-08 10:50:28,311][MainProcess][lib.configurable][INFO] seq_encoder.SeqEncoder.__init__ was configured with:\n",
      "{   'bidirectional': True,\n",
      "    'embedding_dropout': 0.8936896980804943,\n",
      "    'embedding_size': 300,\n",
      "    'freeze_embeddings': False,\n",
      "    'n_layers': 2,\n",
      "    'rnn_cell': 'lstm',\n",
      "    'rnn_dropout': 0.5328084492465016,\n",
      "    'rnn_size': 264,\n",
      "    'rnn_variational_dropout': 0.25105870993937685,\n",
      "    'vocab_size': 6899}\n",
      "[2020-09-08 10:50:28,370][MainProcess][lib.configurable][INFO] adam.Adam.__init__ was configured with:\n",
      "{'amsgrad': True, 'params': <filter object at 0x7f89764ed9b0>}\n",
      "[2020-09-08 10:50:28,371][MainProcess][lib.configurable][INFO] optimizer.Optimizer.__init__ was configured with:\n",
      "{   'max_grad_norm': 2.25662204648576,\n",
      "    'optim': Adam (\n",
      "Parameter Group 0\n",
      "    amsgrad: True\n",
      "    betas: (0.9, 0.999)\n",
      "    eps: 1e-08\n",
      "    lr: 0.001\n",
      "    weight_decay: 0\n",
      ")}\n",
      "[2020-09-08 10:50:28,372][MainProcess][__main__][INFO] Epochs: 1\n",
      "[2020-09-08 10:50:28,373][MainProcess][__main__][INFO] Train Dataset Size: 75900\n",
      "[2020-09-08 10:50:28,374][MainProcess][__main__][INFO] Dev Dataset Size: 10845\n",
      "[2020-09-08 10:50:28,374][MainProcess][__main__][INFO] Train Batch Size: 32\n",
      "[2020-09-08 10:50:28,375][MainProcess][__main__][INFO] Train Max Batch Size: 1024\n",
      "[2020-09-08 10:50:28,376][MainProcess][__main__][INFO] Total Parameters: 3470075\n",
      "[2020-09-08 10:50:28,377][MainProcess][__main__][INFO] Model:\n",
      "SeqToLabel(\n",
      "  (encoder): SeqEncoder(\n",
      "    (embedding): Embedding(6899, 300, padding_idx=0)\n",
      "    (rnn): LSTM(300, 132, num_layers=2, dropout=0.25105870993937685, bidirectional=True)\n",
      "    (rnn_dropout): LockedDropout(p=0.5328084492465016)\n",
      "    (embedding_dropout): Dropout(p=0.8936896980804943)\n",
      "  )\n",
      "  (out): Sequential(\n",
      "    (0): Linear(in_features=264, out_features=264, bias=True)\n",
      "    (1): BatchNorm1d(264, eps=1e-05, momentum=0.1, affine=True, track_running_stats=True)\n",
      "    (2): ReLU()\n",
      "    (3): Dropout(p=0.1647874591795859)\n",
      "    (4): Linear(in_features=264, out_features=1703, bias=True)\n",
      "  )\n",
      ")\n",
      "[2020-09-08 10:50:28,377][MainProcess][__main__][INFO] Epoch: 0\n",
      "[2020-09-08 10:50:28,378][MainProcess][__main__][INFO] Training...\n"
     ]
    },
    {
     "data": {
      "application/vnd.jupyter.widget-view+json": {
       "model_id": "54482be3192f4e6c99b5c00df0a59eef",
       "version_major": 2,
       "version_minor": 0
      },
      "text/plain": [
       "HBox(children=(IntProgress(value=0, max=2371), HTML(value='')))"
      ]
     },
     "metadata": {},
     "output_type": "display_data"
    },
    {
     "name": "stdout",
     "output_type": "stream",
     "text": [
      "\n",
      "[2020-09-08 10:50:52,000][MainProcess][lib.checkpoint][INFO] Saving checkpoint: ../../experiments/relation_classifier.09_08_10:23:25/1553.pt\n"
     ]
    },
    {
     "data": {
      "application/vnd.jupyter.widget-view+json": {
       "model_id": "c2a5f67e09b74737a1becc861f9469e1",
       "version_major": 2,
       "version_minor": 0
      },
      "text/plain": [
       "HBox(children=(IntProgress(value=0, max=2), HTML(value='')))"
      ]
     },
     "metadata": {},
     "output_type": "display_data"
    },
    {
     "name": "stdout",
     "output_type": "stream",
     "text": [
      "\n",
      "[2020-09-08 10:50:53,409][MainProcess][__main__][INFO] NLLLoss: 5.620\n",
      "[2020-09-08 10:50:53,509][MainProcess][lib.metrics.accuracy][INFO] Accuracy: 0.0 [0 of 8192]\n"
     ]
    },
    {
     "name": "stderr",
     "output_type": "stream",
     "text": [
      "\r",
      "  5%|▌         | 53.333333333333385/1000.0 [18:19<4:57:24, 18.85s/it, min_score=-0, models_evaluated=0]"
     ]
    },
    {
     "name": "stdout",
     "output_type": "stream",
     "text": [
      "––––––––––––––––––––––––––––––––––––––––––––––––––––––––––––––––––––––––––––––––––––––––––––––––––––\n",
      "====================================================================================================\n",
      "[2020-09-08 10:50:53,553][MainProcess][lib.configurable][INFO] Checking configuration...\n",
      "[2020-09-08 10:50:53,554][MainProcess][lib.configurable][INFO] Configuration checked.\n",
      "[2020-09-08 10:50:53,555][MainProcess][lib.configurable][INFO] seq_to_label.SeqToLabel.__init__ was configured with:\n",
      "{   'bidirectional': True,\n",
      "    'decode_dropout': 0.8687441560709585,\n",
      "    'embedding_dropout': 0.026539138149986655,\n",
      "    'embedding_size': 300,\n",
      "    'freeze_embeddings': True,\n",
      "    'input_vocab_size': 6899,\n",
      "    'output_vocab_size': 1703,\n",
      "    'rnn_cell': 'lstm',\n",
      "    'rnn_dropout': 0.24755597163379964,\n",
      "    'rnn_layers': 2,\n",
      "    'rnn_size': 152,\n",
      "    'rnn_variational_dropout': 0.669052097819704}\n",
      "[2020-09-08 10:50:53,556][MainProcess][lib.configurable][INFO] seq_encoder.SeqEncoder.__init__ no config for: lib.nn.seq_encoder.SeqEncoder.__init__\n",
      "[2020-09-08 10:50:53,557][MainProcess][lib.configurable][INFO] seq_encoder.SeqEncoder.__init__ was configured with:\n",
      "{   'bidirectional': True,\n",
      "    'embedding_dropout': 0.026539138149986655,\n",
      "    'embedding_size': 300,\n",
      "    'freeze_embeddings': True,\n",
      "    'n_layers': 2,\n",
      "    'rnn_cell': 'lstm',\n",
      "    'rnn_dropout': 0.24755597163379964,\n",
      "    'rnn_size': 152,\n",
      "    'rnn_variational_dropout': 0.669052097819704,\n",
      "    'vocab_size': 6899}\n",
      "[2020-09-08 10:50:53,611][MainProcess][lib.configurable][INFO] adam.Adam.__init__ was configured with:\n",
      "{'amsgrad': True, 'params': <filter object at 0x7f89764ed9b0>}\n",
      "[2020-09-08 10:50:53,612][MainProcess][lib.configurable][INFO] optimizer.Optimizer.__init__ was configured with:\n",
      "{   'max_grad_norm': 3.331284186404602,\n",
      "    'optim': Adam (\n",
      "Parameter Group 0\n",
      "    amsgrad: True\n",
      "    betas: (0.9, 0.999)\n",
      "    eps: 1e-08\n",
      "    lr: 0.001\n",
      "    weight_decay: 0\n",
      ")}\n",
      "[2020-09-08 10:50:53,613][MainProcess][__main__][INFO] Epochs: 1\n",
      "[2020-09-08 10:50:53,614][MainProcess][__main__][INFO] Train Dataset Size: 75900\n",
      "[2020-09-08 10:50:53,614][MainProcess][__main__][INFO] Dev Dataset Size: 10845\n",
      "[2020-09-08 10:50:53,615][MainProcess][__main__][INFO] Train Batch Size: 32\n",
      "[2020-09-08 10:50:53,616][MainProcess][__main__][INFO] Train Max Batch Size: 1024\n",
      "[2020-09-08 10:50:53,617][MainProcess][__main__][INFO] Total Parameters: 653783\n",
      "[2020-09-08 10:50:53,618][MainProcess][__main__][INFO] Model:\n",
      "SeqToLabel(\n",
      "  (encoder): SeqEncoder(\n",
      "    (embedding): Embedding(6899, 300, padding_idx=0)\n",
      "    (rnn): LSTM(300, 76, num_layers=2, dropout=0.669052097819704, bidirectional=True)\n",
      "    (rnn_dropout): LockedDropout(p=0.24755597163379964)\n",
      "    (embedding_dropout): Dropout(p=0.026539138149986655)\n",
      "  )\n",
      "  (out): Sequential(\n",
      "    (0): Linear(in_features=152, out_features=152, bias=True)\n",
      "    (1): BatchNorm1d(152, eps=1e-05, momentum=0.1, affine=True, track_running_stats=True)\n",
      "    (2): ReLU()\n",
      "    (3): Dropout(p=0.8687441560709585)\n",
      "    (4): Linear(in_features=152, out_features=1703, bias=True)\n",
      "  )\n",
      ")\n",
      "[2020-09-08 10:50:53,619][MainProcess][__main__][INFO] Epoch: 0\n",
      "[2020-09-08 10:50:53,620][MainProcess][__main__][INFO] Training...\n"
     ]
    },
    {
     "data": {
      "application/vnd.jupyter.widget-view+json": {
       "model_id": "b0a7b002c85b414e8f3c5482f9b1782e",
       "version_major": 2,
       "version_minor": 0
      },
      "text/plain": [
       "HBox(children=(IntProgress(value=0, max=2371), HTML(value='')))"
      ]
     },
     "metadata": {},
     "output_type": "display_data"
    },
    {
     "name": "stdout",
     "output_type": "stream",
     "text": [
      "\n",
      "[2020-09-08 10:51:15,576][MainProcess][lib.checkpoint][INFO] Saving checkpoint: ../../experiments/relation_classifier.09_08_10:23:25/1577.pt\n"
     ]
    },
    {
     "data": {
      "application/vnd.jupyter.widget-view+json": {
       "model_id": "4f3cca379d354ca2b5ef33928e8cdc5a",
       "version_major": 2,
       "version_minor": 0
      },
      "text/plain": [
       "HBox(children=(IntProgress(value=0, max=2), HTML(value='')))"
      ]
     },
     "metadata": {},
     "output_type": "display_data"
    },
    {
     "name": "stdout",
     "output_type": "stream",
     "text": [
      "\n",
      "[2020-09-08 10:51:16,380][MainProcess][__main__][INFO] NLLLoss: 5.620\n",
      "[2020-09-08 10:51:16,479][MainProcess][lib.metrics.accuracy][INFO] Accuracy: 0.0 [0 of 8192]\n"
     ]
    },
    {
     "name": "stderr",
     "output_type": "stream",
     "text": [
      "\r",
      "  5%|▌         | 54.4444444444445/1000.0 [18:42<5:05:37, 19.39s/it, min_score=-0, models_evaluated=0]  "
     ]
    },
    {
     "name": "stdout",
     "output_type": "stream",
     "text": [
      "––––––––––––––––––––––––––––––––––––––––––––––––––––––––––––––––––––––––––––––––––––––––––––––––––––\n",
      "====================================================================================================\n",
      "[2020-09-08 10:51:16,510][MainProcess][lib.configurable][INFO] Checking configuration...\n",
      "[2020-09-08 10:51:16,512][MainProcess][lib.configurable][INFO] Configuration checked.\n",
      "[2020-09-08 10:51:16,513][MainProcess][lib.configurable][INFO] seq_to_label.SeqToLabel.__init__ was configured with:\n",
      "{   'bidirectional': True,\n",
      "    'decode_dropout': 0.6372936327200548,\n",
      "    'embedding_dropout': 0.5387549719433367,\n",
      "    'embedding_size': 300,\n",
      "    'freeze_embeddings': True,\n",
      "    'input_vocab_size': 6899,\n",
      "    'output_vocab_size': 1703,\n",
      "    'rnn_cell': 'lstm',\n",
      "    'rnn_dropout': 0.3952974947087902,\n",
      "    'rnn_layers': 2,\n",
      "    'rnn_size': 154,\n",
      "    'rnn_variational_dropout': 0.8657161420790906}\n",
      "[2020-09-08 10:51:16,514][MainProcess][lib.configurable][INFO] seq_encoder.SeqEncoder.__init__ no config for: lib.nn.seq_encoder.SeqEncoder.__init__\n",
      "[2020-09-08 10:51:16,515][MainProcess][lib.configurable][INFO] seq_encoder.SeqEncoder.__init__ was configured with:\n",
      "{   'bidirectional': True,\n",
      "    'embedding_dropout': 0.5387549719433367,\n",
      "    'embedding_size': 300,\n",
      "    'freeze_embeddings': True,\n",
      "    'n_layers': 2,\n",
      "    'rnn_cell': 'lstm',\n",
      "    'rnn_dropout': 0.3952974947087902,\n",
      "    'rnn_size': 154,\n",
      "    'rnn_variational_dropout': 0.8657161420790906,\n",
      "    'vocab_size': 6899}\n",
      "[2020-09-08 10:51:16,563][MainProcess][lib.configurable][INFO] adam.Adam.__init__ was configured with:\n",
      "{'amsgrad': True, 'params': <filter object at 0x7f8968abb588>}\n",
      "[2020-09-08 10:51:16,564][MainProcess][lib.configurable][INFO] optimizer.Optimizer.__init__ was configured with:\n",
      "{   'max_grad_norm': 4.6509074056163024,\n",
      "    'optim': Adam (\n",
      "Parameter Group 0\n",
      "    amsgrad: True\n",
      "    betas: (0.9, 0.999)\n",
      "    eps: 1e-08\n",
      "    lr: 0.001\n",
      "    weight_decay: 0\n",
      ")}\n",
      "[2020-09-08 10:51:16,565][MainProcess][__main__][INFO] Epochs: 1\n",
      "[2020-09-08 10:51:16,566][MainProcess][__main__][INFO] Train Dataset Size: 75900\n",
      "[2020-09-08 10:51:16,567][MainProcess][__main__][INFO] Dev Dataset Size: 10845\n",
      "[2020-09-08 10:51:16,568][MainProcess][__main__][INFO] Train Batch Size: 32\n",
      "[2020-09-08 10:51:16,569][MainProcess][__main__][INFO] Train Max Batch Size: 1024\n",
      "[2020-09-08 10:51:16,569][MainProcess][__main__][INFO] Total Parameters: 665135\n",
      "[2020-09-08 10:51:16,570][MainProcess][__main__][INFO] Model:\n",
      "SeqToLabel(\n",
      "  (encoder): SeqEncoder(\n",
      "    (embedding): Embedding(6899, 300, padding_idx=0)\n",
      "    (rnn): LSTM(300, 77, num_layers=2, dropout=0.8657161420790906, bidirectional=True)\n",
      "    (rnn_dropout): LockedDropout(p=0.3952974947087902)\n",
      "    (embedding_dropout): Dropout(p=0.5387549719433367)\n",
      "  )\n",
      "  (out): Sequential(\n",
      "    (0): Linear(in_features=154, out_features=154, bias=True)\n",
      "    (1): BatchNorm1d(154, eps=1e-05, momentum=0.1, affine=True, track_running_stats=True)\n",
      "    (2): ReLU()\n",
      "    (3): Dropout(p=0.6372936327200548)\n",
      "    (4): Linear(in_features=154, out_features=1703, bias=True)\n",
      "  )\n",
      ")\n",
      "[2020-09-08 10:51:16,571][MainProcess][__main__][INFO] Epoch: 0\n",
      "[2020-09-08 10:51:16,572][MainProcess][__main__][INFO] Training...\n"
     ]
    },
    {
     "data": {
      "application/vnd.jupyter.widget-view+json": {
       "model_id": "fddd6e6f7e2c490683371346452f55f8",
       "version_major": 2,
       "version_minor": 0
      },
      "text/plain": [
       "HBox(children=(IntProgress(value=0, max=2371), HTML(value='')))"
      ]
     },
     "metadata": {},
     "output_type": "display_data"
    },
    {
     "name": "stdout",
     "output_type": "stream",
     "text": [
      "\n",
      "[2020-09-08 10:51:38,355][MainProcess][lib.checkpoint][INFO] Saving checkpoint: ../../experiments/relation_classifier.09_08_10:23:25/1599.pt\n"
     ]
    },
    {
     "data": {
      "application/vnd.jupyter.widget-view+json": {
       "model_id": "f77352889f4e4a94b3feac188a528ce0",
       "version_major": 2,
       "version_minor": 0
      },
      "text/plain": [
       "HBox(children=(IntProgress(value=0, max=2), HTML(value='')))"
      ]
     },
     "metadata": {},
     "output_type": "display_data"
    },
    {
     "name": "stdout",
     "output_type": "stream",
     "text": [
      "\n",
      "[2020-09-08 10:51:39,115][MainProcess][__main__][INFO] NLLLoss: 5.620\n",
      "[2020-09-08 10:51:39,212][MainProcess][lib.metrics.accuracy][INFO] Accuracy: 0.0 [0 of 8192]\n"
     ]
    },
    {
     "name": "stderr",
     "output_type": "stream",
     "text": [
      "\r",
      "  6%|▌         | 55.555555555555614/1000.0 [19:05<5:10:18, 19.71s/it, min_score=-0, models_evaluated=0]"
     ]
    },
    {
     "name": "stdout",
     "output_type": "stream",
     "text": [
      "––––––––––––––––––––––––––––––––––––––––––––––––––––––––––––––––––––––––––––––––––––––––––––––––––––\n",
      "====================================================================================================\n",
      "[2020-09-08 10:51:39,245][MainProcess][lib.configurable][INFO] Checking configuration...\n",
      "[2020-09-08 10:51:39,246][MainProcess][lib.configurable][INFO] Configuration checked.\n",
      "[2020-09-08 10:51:39,248][MainProcess][lib.configurable][INFO] seq_to_label.SeqToLabel.__init__ was configured with:\n",
      "{   'bidirectional': True,\n",
      "    'decode_dropout': 0.5846609279008178,\n",
      "    'embedding_dropout': 0.3828740804271832,\n",
      "    'embedding_size': 300,\n",
      "    'freeze_embeddings': True,\n",
      "    'input_vocab_size': 6899,\n",
      "    'output_vocab_size': 1703,\n",
      "    'rnn_cell': 'gru',\n",
      "    'rnn_dropout': 0.8581578852558486,\n",
      "    'rnn_layers': 3,\n",
      "    'rnn_size': 302,\n",
      "    'rnn_variational_dropout': 0.043242440528308154}\n",
      "[2020-09-08 10:51:39,249][MainProcess][lib.configurable][INFO] seq_encoder.SeqEncoder.__init__ no config for: lib.nn.seq_encoder.SeqEncoder.__init__\n",
      "[2020-09-08 10:51:39,250][MainProcess][lib.configurable][INFO] seq_encoder.SeqEncoder.__init__ was configured with:\n",
      "{   'bidirectional': True,\n",
      "    'embedding_dropout': 0.3828740804271832,\n",
      "    'embedding_size': 300,\n",
      "    'freeze_embeddings': True,\n",
      "    'n_layers': 3,\n",
      "    'rnn_cell': 'gru',\n",
      "    'rnn_dropout': 0.8581578852558486,\n",
      "    'rnn_size': 302,\n",
      "    'rnn_variational_dropout': 0.043242440528308154,\n",
      "    'vocab_size': 6899}\n",
      "[2020-09-08 10:51:39,314][MainProcess][lib.configurable][INFO] adam.Adam.__init__ was configured with:\n",
      "{'amsgrad': True, 'params': <filter object at 0x7f896525e160>}\n",
      "[2020-09-08 10:51:39,315][MainProcess][lib.configurable][INFO] optimizer.Optimizer.__init__ was configured with:\n",
      "{   'max_grad_norm': 2.4116317418081765,\n",
      "    'optim': Adam (\n",
      "Parameter Group 0\n",
      "    amsgrad: True\n",
      "    betas: (0.9, 0.999)\n",
      "    eps: 1e-08\n",
      "    lr: 0.001\n",
      "    weight_decay: 0\n",
      ")}\n",
      "[2020-09-08 10:51:39,316][MainProcess][__main__][INFO] Epochs: 1\n",
      "[2020-09-08 10:51:39,317][MainProcess][__main__][INFO] Train Dataset Size: 75900\n",
      "[2020-09-08 10:51:39,318][MainProcess][__main__][INFO] Dev Dataset Size: 10845\n",
      "[2020-09-08 10:51:39,318][MainProcess][__main__][INFO] Train Batch Size: 32\n",
      "[2020-09-08 10:51:39,319][MainProcess][__main__][INFO] Train Max Batch Size: 1024\n",
      "[2020-09-08 10:51:39,320][MainProcess][__main__][INFO] Total Parameters: 1842997\n",
      "[2020-09-08 10:51:39,321][MainProcess][__main__][INFO] Model:\n",
      "SeqToLabel(\n",
      "  (encoder): SeqEncoder(\n",
      "    (embedding): Embedding(6899, 300, padding_idx=0)\n",
      "    (rnn): GRU(300, 151, num_layers=3, dropout=0.043242440528308154, bidirectional=True)\n",
      "    (rnn_dropout): LockedDropout(p=0.8581578852558486)\n",
      "    (embedding_dropout): Dropout(p=0.3828740804271832)\n",
      "  )\n",
      "  (out): Sequential(\n",
      "    (0): Linear(in_features=302, out_features=302, bias=True)\n",
      "    (1): BatchNorm1d(302, eps=1e-05, momentum=0.1, affine=True, track_running_stats=True)\n",
      "    (2): ReLU()\n",
      "    (3): Dropout(p=0.5846609279008178)\n",
      "    (4): Linear(in_features=302, out_features=1703, bias=True)\n",
      "  )\n",
      ")\n",
      "[2020-09-08 10:51:39,322][MainProcess][__main__][INFO] Epoch: 0\n",
      "[2020-09-08 10:51:39,323][MainProcess][__main__][INFO] Training...\n"
     ]
    },
    {
     "data": {
      "application/vnd.jupyter.widget-view+json": {
       "model_id": "13061351331d47e9a85d4b5c004a3347",
       "version_major": 2,
       "version_minor": 0
      },
      "text/plain": [
       "HBox(children=(IntProgress(value=0, max=2371), HTML(value='')))"
      ]
     },
     "metadata": {},
     "output_type": "display_data"
    },
    {
     "name": "stdout",
     "output_type": "stream",
     "text": [
      "\n",
      "[2020-09-08 10:52:08,184][MainProcess][lib.checkpoint][INFO] Saving checkpoint: ../../experiments/relation_classifier.09_08_10:23:25/1629.pt\n"
     ]
    },
    {
     "data": {
      "application/vnd.jupyter.widget-view+json": {
       "model_id": "a5421a37a7f6403f99f25d8bbddfa75c",
       "version_major": 2,
       "version_minor": 0
      },
      "text/plain": [
       "HBox(children=(IntProgress(value=0, max=2), HTML(value='')))"
      ]
     },
     "metadata": {},
     "output_type": "display_data"
    },
    {
     "name": "stdout",
     "output_type": "stream",
     "text": [
      "\n",
      "[2020-09-08 10:52:09,537][MainProcess][__main__][INFO] NLLLoss: 5.620\n",
      "[2020-09-08 10:52:09,636][MainProcess][lib.metrics.accuracy][INFO] Accuracy: 0.0 [0 of 8192]\n"
     ]
    },
    {
     "name": "stderr",
     "output_type": "stream",
     "text": [
      "\r",
      "  6%|▌         | 56.66666666666673/1000.0 [19:35<5:46:09, 22.02s/it, min_score=-0, models_evaluated=0] "
     ]
    },
    {
     "name": "stdout",
     "output_type": "stream",
     "text": [
      "––––––––––––––––––––––––––––––––––––––––––––––––––––––––––––––––––––––––––––––––––––––––––––––––––––\n",
      "====================================================================================================\n",
      "[2020-09-08 10:52:09,680][MainProcess][lib.configurable][INFO] Checking configuration...\n",
      "[2020-09-08 10:52:09,682][MainProcess][lib.configurable][INFO] Configuration checked.\n",
      "[2020-09-08 10:52:09,683][MainProcess][lib.configurable][INFO] seq_to_label.SeqToLabel.__init__ was configured with:\n",
      "{   'bidirectional': True,\n",
      "    'decode_dropout': 0.13276043490737577,\n",
      "    'embedding_dropout': 0.3663582757631382,\n",
      "    'embedding_size': 300,\n",
      "    'freeze_embeddings': True,\n",
      "    'input_vocab_size': 6899,\n",
      "    'output_vocab_size': 1703,\n",
      "    'rnn_cell': 'gru',\n",
      "    'rnn_dropout': 0.24431131954464388,\n",
      "    'rnn_layers': 2,\n",
      "    'rnn_size': 158,\n",
      "    'rnn_variational_dropout': 0.37972345652704714}\n",
      "[2020-09-08 10:52:09,684][MainProcess][lib.configurable][INFO] seq_encoder.SeqEncoder.__init__ no config for: lib.nn.seq_encoder.SeqEncoder.__init__\n",
      "[2020-09-08 10:52:09,685][MainProcess][lib.configurable][INFO] seq_encoder.SeqEncoder.__init__ was configured with:\n",
      "{   'bidirectional': True,\n",
      "    'embedding_dropout': 0.3663582757631382,\n",
      "    'embedding_size': 300,\n",
      "    'freeze_embeddings': True,\n",
      "    'n_layers': 2,\n",
      "    'rnn_cell': 'gru',\n",
      "    'rnn_dropout': 0.24431131954464388,\n",
      "    'rnn_size': 158,\n",
      "    'rnn_variational_dropout': 0.37972345652704714,\n",
      "    'vocab_size': 6899}\n",
      "[2020-09-08 10:52:09,743][MainProcess][lib.configurable][INFO] adam.Adam.__init__ was configured with:\n",
      "{'amsgrad': True, 'params': <filter object at 0x7f8afc032160>}\n",
      "[2020-09-08 10:52:09,744][MainProcess][lib.configurable][INFO] optimizer.Optimizer.__init__ was configured with:\n",
      "{   'max_grad_norm': 3.5265066367245397,\n",
      "    'optim': Adam (\n",
      "Parameter Group 0\n",
      "    amsgrad: True\n",
      "    betas: (0.9, 0.999)\n",
      "    eps: 1e-08\n",
      "    lr: 0.001\n",
      "    weight_decay: 0\n",
      ")}\n",
      "[2020-09-08 10:52:09,745][MainProcess][__main__][INFO] Epochs: 1\n",
      "[2020-09-08 10:52:09,746][MainProcess][__main__][INFO] Train Dataset Size: 75900\n",
      "[2020-09-08 10:52:09,747][MainProcess][__main__][INFO] Dev Dataset Size: 10845\n",
      "[2020-09-08 10:52:09,748][MainProcess][__main__][INFO] Train Batch Size: 32\n",
      "[2020-09-08 10:52:09,749][MainProcess][__main__][INFO] Train Max Batch Size: 1024\n",
      "[2020-09-08 10:52:09,749][MainProcess][__main__][INFO] Total Parameters: 590095\n",
      "[2020-09-08 10:52:09,750][MainProcess][__main__][INFO] Model:\n",
      "SeqToLabel(\n",
      "  (encoder): SeqEncoder(\n",
      "    (embedding): Embedding(6899, 300, padding_idx=0)\n",
      "    (rnn): GRU(300, 79, num_layers=2, dropout=0.37972345652704714, bidirectional=True)\n",
      "    (rnn_dropout): LockedDropout(p=0.24431131954464388)\n",
      "    (embedding_dropout): Dropout(p=0.3663582757631382)\n",
      "  )\n",
      "  (out): Sequential(\n",
      "    (0): Linear(in_features=158, out_features=158, bias=True)\n",
      "    (1): BatchNorm1d(158, eps=1e-05, momentum=0.1, affine=True, track_running_stats=True)\n",
      "    (2): ReLU()\n",
      "    (3): Dropout(p=0.13276043490737577)\n",
      "    (4): Linear(in_features=158, out_features=1703, bias=True)\n",
      "  )\n",
      ")\n",
      "[2020-09-08 10:52:09,751][MainProcess][__main__][INFO] Epoch: 0\n",
      "[2020-09-08 10:52:09,751][MainProcess][__main__][INFO] Training...\n"
     ]
    },
    {
     "data": {
      "application/vnd.jupyter.widget-view+json": {
       "model_id": "650c897407534038b10a60c8c7ec0599",
       "version_major": 2,
       "version_minor": 0
      },
      "text/plain": [
       "HBox(children=(IntProgress(value=0, max=2371), HTML(value='')))"
      ]
     },
     "metadata": {},
     "output_type": "display_data"
    },
    {
     "name": "stdout",
     "output_type": "stream",
     "text": [
      "\n",
      "[2020-09-08 10:52:31,211][MainProcess][lib.checkpoint][INFO] Saving checkpoint: ../../experiments/relation_classifier.09_08_10:23:25/1652.pt\n"
     ]
    },
    {
     "data": {
      "application/vnd.jupyter.widget-view+json": {
       "model_id": "6124175a2dcd44209bf50b7686f5701f",
       "version_major": 2,
       "version_minor": 0
      },
      "text/plain": [
       "HBox(children=(IntProgress(value=0, max=2), HTML(value='')))"
      ]
     },
     "metadata": {},
     "output_type": "display_data"
    },
    {
     "name": "stdout",
     "output_type": "stream",
     "text": [
      "\n",
      "[2020-09-08 10:52:31,925][MainProcess][__main__][INFO] NLLLoss: 5.620\n",
      "[2020-09-08 10:52:32,022][MainProcess][lib.metrics.accuracy][INFO] Accuracy: 0.0 [0 of 8192]\n"
     ]
    },
    {
     "name": "stderr",
     "output_type": "stream",
     "text": [
      "\r",
      "  6%|▌         | 57.77777777777784/1000.0 [19:58<5:36:53, 21.45s/it, min_score=-0, models_evaluated=0]"
     ]
    },
    {
     "name": "stdout",
     "output_type": "stream",
     "text": [
      "––––––––––––––––––––––––––––––––––––––––––––––––––––––––––––––––––––––––––––––––––––––––––––––––––––\n",
      "====================================================================================================\n",
      "[2020-09-08 10:52:32,054][MainProcess][lib.configurable][INFO] Checking configuration...\n",
      "[2020-09-08 10:52:32,055][MainProcess][lib.configurable][INFO] Configuration checked.\n",
      "[2020-09-08 10:52:32,056][MainProcess][lib.configurable][INFO] seq_to_label.SeqToLabel.__init__ was configured with:\n",
      "{   'bidirectional': True,\n",
      "    'decode_dropout': 0.01047738080441969,\n",
      "    'embedding_dropout': 0.6884030787169969,\n",
      "    'embedding_size': 300,\n",
      "    'freeze_embeddings': True,\n",
      "    'input_vocab_size': 6899,\n",
      "    'output_vocab_size': 1703,\n",
      "    'rnn_cell': 'gru',\n",
      "    'rnn_dropout': 0.02519106828362572,\n",
      "    'rnn_layers': 2,\n",
      "    'rnn_size': 208,\n",
      "    'rnn_variational_dropout': 0.46260655581547644}\n",
      "[2020-09-08 10:52:32,057][MainProcess][lib.configurable][INFO] seq_encoder.SeqEncoder.__init__ no config for: lib.nn.seq_encoder.SeqEncoder.__init__\n",
      "[2020-09-08 10:52:32,058][MainProcess][lib.configurable][INFO] seq_encoder.SeqEncoder.__init__ was configured with:\n",
      "{   'bidirectional': True,\n",
      "    'embedding_dropout': 0.6884030787169969,\n",
      "    'embedding_size': 300,\n",
      "    'freeze_embeddings': True,\n",
      "    'n_layers': 2,\n",
      "    'rnn_cell': 'gru',\n",
      "    'rnn_dropout': 0.02519106828362572,\n",
      "    'rnn_size': 208,\n",
      "    'rnn_variational_dropout': 0.46260655581547644,\n",
      "    'vocab_size': 6899}\n",
      "[2020-09-08 10:52:32,107][MainProcess][lib.configurable][INFO] adam.Adam.__init__ was configured with:\n",
      "{'amsgrad': True, 'params': <filter object at 0x7f89769a5b00>}\n",
      "[2020-09-08 10:52:32,108][MainProcess][lib.configurable][INFO] optimizer.Optimizer.__init__ was configured with:\n",
      "{   'max_grad_norm': 4.533017904004068,\n",
      "    'optim': Adam (\n",
      "Parameter Group 0\n",
      "    amsgrad: True\n",
      "    betas: (0.9, 0.999)\n",
      "    eps: 1e-08\n",
      "    lr: 0.001\n",
      "    weight_decay: 0\n",
      ")}\n",
      "[2020-09-08 10:52:32,109][MainProcess][__main__][INFO] Epochs: 1\n",
      "[2020-09-08 10:52:32,110][MainProcess][__main__][INFO] Train Dataset Size: 75900\n",
      "[2020-09-08 10:52:32,111][MainProcess][__main__][INFO] Dev Dataset Size: 10845\n",
      "[2020-09-08 10:52:32,111][MainProcess][__main__][INFO] Train Batch Size: 32\n",
      "[2020-09-08 10:52:32,112][MainProcess][__main__][INFO] Train Max Batch Size: 1024\n",
      "[2020-09-08 10:52:32,113][MainProcess][__main__][INFO] Total Parameters: 849095\n",
      "[2020-09-08 10:52:32,114][MainProcess][__main__][INFO] Model:\n",
      "SeqToLabel(\n",
      "  (encoder): SeqEncoder(\n",
      "    (embedding): Embedding(6899, 300, padding_idx=0)\n",
      "    (rnn): GRU(300, 104, num_layers=2, dropout=0.46260655581547644, bidirectional=True)\n",
      "    (rnn_dropout): LockedDropout(p=0.02519106828362572)\n",
      "    (embedding_dropout): Dropout(p=0.6884030787169969)\n",
      "  )\n",
      "  (out): Sequential(\n",
      "    (0): Linear(in_features=208, out_features=208, bias=True)\n",
      "    (1): BatchNorm1d(208, eps=1e-05, momentum=0.1, affine=True, track_running_stats=True)\n",
      "    (2): ReLU()\n",
      "    (3): Dropout(p=0.01047738080441969)\n",
      "    (4): Linear(in_features=208, out_features=1703, bias=True)\n",
      "  )\n",
      ")\n",
      "[2020-09-08 10:52:32,115][MainProcess][__main__][INFO] Epoch: 0\n",
      "[2020-09-08 10:52:32,116][MainProcess][__main__][INFO] Training...\n"
     ]
    },
    {
     "data": {
      "application/vnd.jupyter.widget-view+json": {
       "model_id": "ad11c6dfa28b4a279c3eda54e443e137",
       "version_major": 2,
       "version_minor": 0
      },
      "text/plain": [
       "HBox(children=(IntProgress(value=0, max=2371), HTML(value='')))"
      ]
     },
     "metadata": {},
     "output_type": "display_data"
    },
    {
     "name": "stdout",
     "output_type": "stream",
     "text": [
      "\n",
      "[2020-09-08 10:52:53,744][MainProcess][lib.checkpoint][INFO] Saving checkpoint: ../../experiments/relation_classifier.09_08_10:23:25/1675.pt\n"
     ]
    },
    {
     "data": {
      "application/vnd.jupyter.widget-view+json": {
       "model_id": "e20ea7969e4c4097ac2c6e9271e52b28",
       "version_major": 2,
       "version_minor": 0
      },
      "text/plain": [
       "HBox(children=(IntProgress(value=0, max=2), HTML(value='')))"
      ]
     },
     "metadata": {},
     "output_type": "display_data"
    },
    {
     "name": "stdout",
     "output_type": "stream",
     "text": [
      "\n",
      "[2020-09-08 10:52:54,518][MainProcess][__main__][INFO] NLLLoss: 5.620\n",
      "[2020-09-08 10:52:54,585][MainProcess][lib.metrics.accuracy][INFO] Accuracy: 0.0 [0 of 8192]\n"
     ]
    },
    {
     "name": "stderr",
     "output_type": "stream",
     "text": [
      "\r",
      "  6%|▌         | 58.88888888888896/1000.0 [20:20<5:31:07, 21.11s/it, min_score=-0, models_evaluated=0]"
     ]
    },
    {
     "name": "stdout",
     "output_type": "stream",
     "text": [
      "––––––––––––––––––––––––––––––––––––––––––––––––––––––––––––––––––––––––––––––––––––––––––––––––––––\n",
      "====================================================================================================\n",
      "[2020-09-08 10:52:54,621][MainProcess][lib.configurable][INFO] Checking configuration...\n",
      "[2020-09-08 10:52:54,623][MainProcess][lib.configurable][INFO] Configuration checked.\n",
      "[2020-09-08 10:52:54,624][MainProcess][lib.configurable][INFO] seq_to_label.SeqToLabel.__init__ was configured with:\n",
      "{   'bidirectional': False,\n",
      "    'decode_dropout': 0.8460496658175363,\n",
      "    'embedding_dropout': 0.659845290361933,\n",
      "    'embedding_size': 300,\n",
      "    'freeze_embeddings': True,\n",
      "    'input_vocab_size': 6899,\n",
      "    'output_vocab_size': 1703,\n",
      "    'rnn_cell': 'lstm',\n",
      "    'rnn_dropout': 0.4312694239203599,\n",
      "    'rnn_layers': 3,\n",
      "    'rnn_size': 158,\n",
      "    'rnn_variational_dropout': 0.34788278413637325}\n",
      "[2020-09-08 10:52:54,625][MainProcess][lib.configurable][INFO] seq_encoder.SeqEncoder.__init__ no config for: lib.nn.seq_encoder.SeqEncoder.__init__\n",
      "[2020-09-08 10:52:54,626][MainProcess][lib.configurable][INFO] seq_encoder.SeqEncoder.__init__ was configured with:\n",
      "{   'bidirectional': False,\n",
      "    'embedding_dropout': 0.659845290361933,\n",
      "    'embedding_size': 300,\n",
      "    'freeze_embeddings': True,\n",
      "    'n_layers': 3,\n",
      "    'rnn_cell': 'lstm',\n",
      "    'rnn_dropout': 0.4312694239203599,\n",
      "    'rnn_size': 158,\n",
      "    'rnn_variational_dropout': 0.34788278413637325,\n",
      "    'vocab_size': 6899}\n",
      "[2020-09-08 10:52:54,679][MainProcess][lib.configurable][INFO] adam.Adam.__init__ was configured with:\n",
      "{'amsgrad': True, 'params': <filter object at 0x7f89651c96a0>}\n",
      "[2020-09-08 10:52:54,680][MainProcess][lib.configurable][INFO] optimizer.Optimizer.__init__ was configured with:\n",
      "{   'max_grad_norm': 4.819498092321406,\n",
      "    'optim': Adam (\n",
      "Parameter Group 0\n",
      "    amsgrad: True\n",
      "    betas: (0.9, 0.999)\n",
      "    eps: 1e-08\n",
      "    lr: 0.001\n",
      "    weight_decay: 0\n",
      ")}\n",
      "[2020-09-08 10:52:54,681][MainProcess][__main__][INFO] Epochs: 1\n",
      "[2020-09-08 10:52:54,682][MainProcess][__main__][INFO] Train Dataset Size: 75900\n",
      "[2020-09-08 10:52:54,683][MainProcess][__main__][INFO] Dev Dataset Size: 10845\n",
      "[2020-09-08 10:52:54,684][MainProcess][__main__][INFO] Train Batch Size: 32\n",
      "[2020-09-08 10:52:54,684][MainProcess][__main__][INFO] Train Max Batch Size: 1024\n",
      "[2020-09-08 10:52:54,685][MainProcess][__main__][INFO] Total Parameters: 988887\n",
      "[2020-09-08 10:52:54,686][MainProcess][__main__][INFO] Model:\n",
      "SeqToLabel(\n",
      "  (encoder): SeqEncoder(\n",
      "    (embedding): Embedding(6899, 300, padding_idx=0)\n",
      "    (rnn): LSTM(300, 158, num_layers=3, dropout=0.34788278413637325)\n",
      "    (rnn_dropout): LockedDropout(p=0.4312694239203599)\n",
      "    (embedding_dropout): Dropout(p=0.659845290361933)\n",
      "  )\n",
      "  (out): Sequential(\n",
      "    (0): Linear(in_features=158, out_features=158, bias=True)\n",
      "    (1): BatchNorm1d(158, eps=1e-05, momentum=0.1, affine=True, track_running_stats=True)\n",
      "    (2): ReLU()\n",
      "    (3): Dropout(p=0.8460496658175363)\n",
      "    (4): Linear(in_features=158, out_features=1703, bias=True)\n",
      "  )\n",
      ")\n",
      "[2020-09-08 10:52:54,687][MainProcess][__main__][INFO] Epoch: 0\n",
      "[2020-09-08 10:52:54,688][MainProcess][__main__][INFO] Training...\n"
     ]
    },
    {
     "data": {
      "application/vnd.jupyter.widget-view+json": {
       "model_id": "2adac3f616324430b428b9a1d31c9543",
       "version_major": 2,
       "version_minor": 0
      },
      "text/plain": [
       "HBox(children=(IntProgress(value=0, max=2371), HTML(value='')))"
      ]
     },
     "metadata": {},
     "output_type": "display_data"
    },
    {
     "name": "stdout",
     "output_type": "stream",
     "text": [
      "\n",
      "[2020-09-08 10:53:10,700][MainProcess][lib.checkpoint][INFO] Saving checkpoint: ../../experiments/relation_classifier.09_08_10:23:25/1692.pt\n"
     ]
    },
    {
     "data": {
      "application/vnd.jupyter.widget-view+json": {
       "model_id": "bfb2a6ba9cc544ab8999169c2974a692",
       "version_major": 2,
       "version_minor": 0
      },
      "text/plain": [
       "HBox(children=(IntProgress(value=0, max=2), HTML(value='')))"
      ]
     },
     "metadata": {},
     "output_type": "display_data"
    },
    {
     "name": "stdout",
     "output_type": "stream",
     "text": [
      "\n",
      "[2020-09-08 10:53:12,187][MainProcess][__main__][INFO] NLLLoss: 5.620\n",
      "[2020-09-08 10:53:12,253][MainProcess][lib.metrics.accuracy][INFO] Accuracy: 0.0 [0 of 8192]\n"
     ]
    },
    {
     "name": "stderr",
     "output_type": "stream",
     "text": [
      "\r",
      "  6%|▌         | 60.00000000000007/1000.0 [20:38<5:06:14, 19.55s/it, min_score=-0, models_evaluated=0]"
     ]
    },
    {
     "name": "stdout",
     "output_type": "stream",
     "text": [
      "––––––––––––––––––––––––––––––––––––––––––––––––––––––––––––––––––––––––––––––––––––––––––––––––––––\n",
      "====================================================================================================\n",
      "[2020-09-08 10:53:12,288][MainProcess][lib.configurable][INFO] Checking configuration...\n",
      "[2020-09-08 10:53:12,289][MainProcess][lib.configurable][INFO] Configuration checked.\n",
      "[2020-09-08 10:53:12,291][MainProcess][lib.configurable][INFO] seq_to_label.SeqToLabel.__init__ was configured with:\n",
      "{   'bidirectional': False,\n",
      "    'decode_dropout': 0.44591383178959765,\n",
      "    'embedding_dropout': 0.3304226402369304,\n",
      "    'embedding_size': 300,\n",
      "    'freeze_embeddings': False,\n",
      "    'input_vocab_size': 6899,\n",
      "    'output_vocab_size': 1703,\n",
      "    'rnn_cell': 'gru',\n",
      "    'rnn_dropout': 0.31330723696509516,\n",
      "    'rnn_layers': 3,\n",
      "    'rnn_size': 408,\n",
      "    'rnn_variational_dropout': 0.5671183593907457}\n",
      "[2020-09-08 10:53:12,292][MainProcess][lib.configurable][INFO] seq_encoder.SeqEncoder.__init__ no config for: lib.nn.seq_encoder.SeqEncoder.__init__\n",
      "[2020-09-08 10:53:12,293][MainProcess][lib.configurable][INFO] seq_encoder.SeqEncoder.__init__ was configured with:\n",
      "{   'bidirectional': False,\n",
      "    'embedding_dropout': 0.3304226402369304,\n",
      "    'embedding_size': 300,\n",
      "    'freeze_embeddings': False,\n",
      "    'n_layers': 3,\n",
      "    'rnn_cell': 'gru',\n",
      "    'rnn_dropout': 0.31330723696509516,\n",
      "    'rnn_size': 408,\n",
      "    'rnn_variational_dropout': 0.5671183593907457,\n",
      "    'vocab_size': 6899}\n",
      "[2020-09-08 10:53:12,382][MainProcess][lib.configurable][INFO] adam.Adam.__init__ was configured with:\n",
      "{'amsgrad': True, 'params': <filter object at 0x7f8965c1df98>}\n",
      "[2020-09-08 10:53:12,383][MainProcess][lib.configurable][INFO] optimizer.Optimizer.__init__ was configured with:\n",
      "{   'max_grad_norm': 1.0228458868963488,\n",
      "    'optim': Adam (\n",
      "Parameter Group 0\n",
      "    amsgrad: True\n",
      "    betas: (0.9, 0.999)\n",
      "    eps: 1e-08\n",
      "    lr: 0.001\n",
      "    weight_decay: 0\n",
      ")}\n",
      "[2020-09-08 10:53:12,384][MainProcess][__main__][INFO] Epochs: 1\n",
      "[2020-09-08 10:53:12,385][MainProcess][__main__][INFO] Train Dataset Size: 75900\n",
      "[2020-09-08 10:53:12,386][MainProcess][__main__][INFO] Dev Dataset Size: 10845\n",
      "[2020-09-08 10:53:12,386][MainProcess][__main__][INFO] Train Batch Size: 32\n",
      "[2020-09-08 10:53:12,387][MainProcess][__main__][INFO] Train Max Batch Size: 1024\n",
      "[2020-09-08 10:53:12,388][MainProcess][__main__][INFO] Total Parameters: 5805419\n",
      "[2020-09-08 10:53:12,389][MainProcess][__main__][INFO] Model:\n",
      "SeqToLabel(\n",
      "  (encoder): SeqEncoder(\n",
      "    (embedding): Embedding(6899, 300, padding_idx=0)\n",
      "    (rnn): GRU(300, 408, num_layers=3, dropout=0.5671183593907457)\n",
      "    (rnn_dropout): LockedDropout(p=0.31330723696509516)\n",
      "    (embedding_dropout): Dropout(p=0.3304226402369304)\n",
      "  )\n",
      "  (out): Sequential(\n",
      "    (0): Linear(in_features=408, out_features=408, bias=True)\n",
      "    (1): BatchNorm1d(408, eps=1e-05, momentum=0.1, affine=True, track_running_stats=True)\n",
      "    (2): ReLU()\n",
      "    (3): Dropout(p=0.44591383178959765)\n",
      "    (4): Linear(in_features=408, out_features=1703, bias=True)\n",
      "  )\n",
      ")\n",
      "[2020-09-08 10:53:12,390][MainProcess][__main__][INFO] Epoch: 0\n",
      "[2020-09-08 10:53:12,391][MainProcess][__main__][INFO] Training...\n"
     ]
    },
    {
     "data": {
      "application/vnd.jupyter.widget-view+json": {
       "model_id": "0b9ac92f75d34dc9b0b8ddc9e77225c1",
       "version_major": 2,
       "version_minor": 0
      },
      "text/plain": [
       "HBox(children=(IntProgress(value=0, max=2371), HTML(value='')))"
      ]
     },
     "metadata": {},
     "output_type": "display_data"
    },
    {
     "name": "stdout",
     "output_type": "stream",
     "text": [
      "\n",
      "[2020-09-08 10:53:37,070][MainProcess][lib.checkpoint][INFO] Saving checkpoint: ../../experiments/relation_classifier.09_08_10:23:25/1718.pt\n"
     ]
    },
    {
     "data": {
      "application/vnd.jupyter.widget-view+json": {
       "model_id": "74b9fe769ee84fe2ad0f033dbd694483",
       "version_major": 2,
       "version_minor": 0
      },
      "text/plain": [
       "HBox(children=(IntProgress(value=0, max=2), HTML(value='')))"
      ]
     },
     "metadata": {},
     "output_type": "display_data"
    },
    {
     "name": "stdout",
     "output_type": "stream",
     "text": [
      "\n",
      "[2020-09-08 10:53:39,499][MainProcess][__main__][INFO] NLLLoss: 5.620\n",
      "[2020-09-08 10:53:39,565][MainProcess][lib.metrics.accuracy][INFO] Accuracy: 0.0 [0 of 8192]\n"
     ]
    },
    {
     "name": "stderr",
     "output_type": "stream",
     "text": [
      "\r",
      "  6%|▌         | 61.111111111111185/1000.0 [21:05<5:29:37, 21.06s/it, min_score=-0, models_evaluated=0]"
     ]
    },
    {
     "name": "stdout",
     "output_type": "stream",
     "text": [
      "––––––––––––––––––––––––––––––––––––––––––––––––––––––––––––––––––––––––––––––––––––––––––––––––––––\n",
      "====================================================================================================\n",
      "[2020-09-08 10:53:39,626][MainProcess][lib.configurable][INFO] Checking configuration...\n",
      "[2020-09-08 10:53:39,627][MainProcess][lib.configurable][INFO] Configuration checked.\n",
      "[2020-09-08 10:53:39,628][MainProcess][lib.configurable][INFO] seq_to_label.SeqToLabel.__init__ was configured with:\n",
      "{   'bidirectional': False,\n",
      "    'decode_dropout': 0.3669827120816458,\n",
      "    'embedding_dropout': 0.7709578023054733,\n",
      "    'embedding_size': 300,\n",
      "    'freeze_embeddings': False,\n",
      "    'input_vocab_size': 6899,\n",
      "    'output_vocab_size': 1703,\n",
      "    'rnn_cell': 'gru',\n",
      "    'rnn_dropout': 0.07381077731311611,\n",
      "    'rnn_layers': 1,\n",
      "    'rnn_size': 274,\n",
      "    'rnn_variational_dropout': 0.07428657153806044}\n",
      "[2020-09-08 10:53:39,629][MainProcess][lib.configurable][INFO] seq_encoder.SeqEncoder.__init__ no config for: lib.nn.seq_encoder.SeqEncoder.__init__\n",
      "[2020-09-08 10:53:39,630][MainProcess][lib.configurable][INFO] seq_encoder.SeqEncoder.__init__ was configured with:\n",
      "{   'bidirectional': False,\n",
      "    'embedding_dropout': 0.7709578023054733,\n",
      "    'embedding_size': 300,\n",
      "    'freeze_embeddings': False,\n",
      "    'n_layers': 1,\n",
      "    'rnn_cell': 'gru',\n",
      "    'rnn_dropout': 0.07381077731311611,\n",
      "    'rnn_size': 274,\n",
      "    'rnn_variational_dropout': 0.07428657153806044,\n",
      "    'vocab_size': 6899}\n",
      "[2020-09-08 10:53:39,687][MainProcess][lib.configurable][INFO] adam.Adam.__init__ was configured with:\n",
      "{'amsgrad': True, 'params': <filter object at 0x7f89641e1198>}\n",
      "[2020-09-08 10:53:39,688][MainProcess][lib.configurable][INFO] optimizer.Optimizer.__init__ was configured with:\n",
      "{   'max_grad_norm': 3.0157796241870143,\n",
      "    'optim': Adam (\n",
      "Parameter Group 0\n",
      "    amsgrad: True\n",
      "    betas: (0.9, 0.999)\n",
      "    eps: 1e-08\n",
      "    lr: 0.001\n",
      "    weight_decay: 0\n",
      ")}\n",
      "[2020-09-08 10:53:39,689][MainProcess][__main__][INFO] Epochs: 1\n",
      "[2020-09-08 10:53:39,690][MainProcess][__main__][INFO] Train Dataset Size: 75900\n",
      "[2020-09-08 10:53:39,691][MainProcess][__main__][INFO] Dev Dataset Size: 10845\n",
      "[2020-09-08 10:53:39,691][MainProcess][__main__][INFO] Train Batch Size: 32\n",
      "[2020-09-08 10:53:39,692][MainProcess][__main__][INFO] Train Max Batch Size: 1024\n",
      "[2020-09-08 10:53:39,693][MainProcess][__main__][INFO] Total Parameters: 3087395\n",
      "[2020-09-08 10:53:39,694][MainProcess][__main__][INFO] Model:\n",
      "SeqToLabel(\n",
      "  (encoder): SeqEncoder(\n",
      "    (embedding): Embedding(6899, 300, padding_idx=0)\n",
      "    (rnn): GRU(300, 274, dropout=0.07428657153806044)\n",
      "    (rnn_dropout): LockedDropout(p=0.07381077731311611)\n",
      "    (embedding_dropout): Dropout(p=0.7709578023054733)\n",
      "  )\n",
      "  (out): Sequential(\n",
      "    (0): Linear(in_features=274, out_features=274, bias=True)\n",
      "    (1): BatchNorm1d(274, eps=1e-05, momentum=0.1, affine=True, track_running_stats=True)\n",
      "    (2): ReLU()\n",
      "    (3): Dropout(p=0.3669827120816458)\n",
      "    (4): Linear(in_features=274, out_features=1703, bias=True)\n",
      "  )\n",
      ")\n",
      "[2020-09-08 10:53:39,695][MainProcess][__main__][INFO] Epoch: 0\n",
      "[2020-09-08 10:53:39,696][MainProcess][__main__][INFO] Training...\n"
     ]
    },
    {
     "name": "stderr",
     "output_type": "stream",
     "text": [
      "/mount/arbeitsdaten46/projekte/dialog-1/kanjurva/Simple-QA-EMNLP-2018/env/lib/python3.6/site-packages/torch/nn/modules/rnn.py:38: UserWarning: dropout option adds dropout after all but last recurrent layer, so non-zero dropout expects num_layers greater than 1, but got dropout=0.07428657153806044 and num_layers=1\n",
      "  \"num_layers={}\".format(dropout, num_layers))\n"
     ]
    },
    {
     "data": {
      "application/vnd.jupyter.widget-view+json": {
       "model_id": "905084ed313e4264978b5cbc5f59adf5",
       "version_major": 2,
       "version_minor": 0
      },
      "text/plain": [
       "HBox(children=(IntProgress(value=0, max=2371), HTML(value='')))"
      ]
     },
     "metadata": {},
     "output_type": "display_data"
    },
    {
     "name": "stdout",
     "output_type": "stream",
     "text": [
      "\n",
      "[2020-09-08 10:53:53,136][MainProcess][lib.checkpoint][INFO] Saving checkpoint: ../../experiments/relation_classifier.09_08_10:23:25/1734.pt\n"
     ]
    },
    {
     "data": {
      "application/vnd.jupyter.widget-view+json": {
       "model_id": "eb5d9b25b5c94a7a81c2d90a523a277d",
       "version_major": 2,
       "version_minor": 0
      },
      "text/plain": [
       "HBox(children=(IntProgress(value=0, max=2), HTML(value='')))"
      ]
     },
     "metadata": {},
     "output_type": "display_data"
    },
    {
     "name": "stdout",
     "output_type": "stream",
     "text": [
      "\n",
      "[2020-09-08 10:53:54,361][MainProcess][__main__][INFO] NLLLoss: 5.620\n",
      "[2020-09-08 10:53:54,428][MainProcess][lib.metrics.accuracy][INFO] Accuracy: 0.0 [0 of 8192]\n"
     ]
    },
    {
     "name": "stderr",
     "output_type": "stream",
     "text": [
      "\r",
      "  6%|▌         | 62.2222222222223/1000.0 [21:20<4:53:05, 18.75s/it, min_score=-0, models_evaluated=0]  "
     ]
    },
    {
     "name": "stdout",
     "output_type": "stream",
     "text": [
      "––––––––––––––––––––––––––––––––––––––––––––––––––––––––––––––––––––––––––––––––––––––––––––––––––––\n",
      "====================================================================================================\n",
      "[2020-09-08 10:53:54,469][MainProcess][lib.configurable][INFO] Checking configuration...\n",
      "[2020-09-08 10:53:54,470][MainProcess][lib.configurable][INFO] Configuration checked.\n",
      "[2020-09-08 10:53:54,471][MainProcess][lib.configurable][INFO] seq_to_label.SeqToLabel.__init__ was configured with:\n",
      "{   'bidirectional': False,\n",
      "    'decode_dropout': 0.37200164450334405,\n",
      "    'embedding_dropout': 0.17564423509121033,\n",
      "    'embedding_size': 300,\n",
      "    'freeze_embeddings': True,\n",
      "    'input_vocab_size': 6899,\n",
      "    'output_vocab_size': 1703,\n",
      "    'rnn_cell': 'gru',\n",
      "    'rnn_dropout': 0.8363443177448259,\n",
      "    'rnn_layers': 3,\n",
      "    'rnn_size': 276,\n",
      "    'rnn_variational_dropout': 0.6616741632917297}\n",
      "[2020-09-08 10:53:54,472][MainProcess][lib.configurable][INFO] seq_encoder.SeqEncoder.__init__ no config for: lib.nn.seq_encoder.SeqEncoder.__init__\n",
      "[2020-09-08 10:53:54,473][MainProcess][lib.configurable][INFO] seq_encoder.SeqEncoder.__init__ was configured with:\n",
      "{   'bidirectional': False,\n",
      "    'embedding_dropout': 0.17564423509121033,\n",
      "    'embedding_size': 300,\n",
      "    'freeze_embeddings': True,\n",
      "    'n_layers': 3,\n",
      "    'rnn_cell': 'gru',\n",
      "    'rnn_dropout': 0.8363443177448259,\n",
      "    'rnn_size': 276,\n",
      "    'rnn_variational_dropout': 0.6616741632917297,\n",
      "    'vocab_size': 6899}\n",
      "[2020-09-08 10:53:54,540][MainProcess][lib.configurable][INFO] adam.Adam.__init__ was configured with:\n",
      "{'amsgrad': True, 'params': <filter object at 0x7f89a304f710>}\n",
      "[2020-09-08 10:53:54,541][MainProcess][lib.configurable][INFO] optimizer.Optimizer.__init__ was configured with:\n",
      "{   'max_grad_norm': 0.4685794098027835,\n",
      "    'optim': Adam (\n",
      "Parameter Group 0\n",
      "    amsgrad: True\n",
      "    betas: (0.9, 0.999)\n",
      "    eps: 1e-08\n",
      "    lr: 0.001\n",
      "    weight_decay: 0\n",
      ")}\n",
      "[2020-09-08 10:53:54,542][MainProcess][__main__][INFO] Epochs: 1\n",
      "[2020-09-08 10:53:54,543][MainProcess][__main__][INFO] Train Dataset Size: 75900\n",
      "[2020-09-08 10:53:54,543][MainProcess][__main__][INFO] Dev Dataset Size: 10845\n",
      "[2020-09-08 10:53:54,544][MainProcess][__main__][INFO] Train Batch Size: 32\n",
      "[2020-09-08 10:53:54,545][MainProcess][__main__][INFO] Train Max Batch Size: 1024\n",
      "[2020-09-08 10:53:54,546][MainProcess][__main__][INFO] Total Parameters: 1944743\n",
      "[2020-09-08 10:53:54,547][MainProcess][__main__][INFO] Model:\n",
      "SeqToLabel(\n",
      "  (encoder): SeqEncoder(\n",
      "    (embedding): Embedding(6899, 300, padding_idx=0)\n",
      "    (rnn): GRU(300, 276, num_layers=3, dropout=0.6616741632917297)\n",
      "    (rnn_dropout): LockedDropout(p=0.8363443177448259)\n",
      "    (embedding_dropout): Dropout(p=0.17564423509121033)\n",
      "  )\n",
      "  (out): Sequential(\n",
      "    (0): Linear(in_features=276, out_features=276, bias=True)\n",
      "    (1): BatchNorm1d(276, eps=1e-05, momentum=0.1, affine=True, track_running_stats=True)\n",
      "    (2): ReLU()\n",
      "    (3): Dropout(p=0.37200164450334405)\n",
      "    (4): Linear(in_features=276, out_features=1703, bias=True)\n",
      "  )\n",
      ")\n",
      "[2020-09-08 10:53:54,548][MainProcess][__main__][INFO] Epoch: 0\n",
      "[2020-09-08 10:53:54,548][MainProcess][__main__][INFO] Training...\n"
     ]
    },
    {
     "data": {
      "application/vnd.jupyter.widget-view+json": {
       "model_id": "147d328b3d4846319ff064baa9c8b6a2",
       "version_major": 2,
       "version_minor": 0
      },
      "text/plain": [
       "HBox(children=(IntProgress(value=0, max=2371), HTML(value='')))"
      ]
     },
     "metadata": {},
     "output_type": "display_data"
    },
    {
     "name": "stdout",
     "output_type": "stream",
     "text": [
      "\n",
      "[2020-09-08 10:54:14,200][MainProcess][lib.checkpoint][INFO] Saving checkpoint: ../../experiments/relation_classifier.09_08_10:23:25/1755.pt\n"
     ]
    },
    {
     "data": {
      "application/vnd.jupyter.widget-view+json": {
       "model_id": "a4e719c47503443c809d89525405f378",
       "version_major": 2,
       "version_minor": 0
      },
      "text/plain": [
       "HBox(children=(IntProgress(value=0, max=2), HTML(value='')))"
      ]
     },
     "metadata": {},
     "output_type": "display_data"
    },
    {
     "name": "stdout",
     "output_type": "stream",
     "text": [
      "\n",
      "[2020-09-08 10:54:15,248][MainProcess][__main__][INFO] NLLLoss: 5.620\n",
      "[2020-09-08 10:54:15,315][MainProcess][lib.metrics.accuracy][INFO] Accuracy: 0.0 [0 of 8192]\n"
     ]
    },
    {
     "name": "stderr",
     "output_type": "stream",
     "text": [
      "\r",
      "  6%|▋         | 63.333333333333414/1000.0 [21:41<4:52:58, 18.77s/it, min_score=-0, models_evaluated=0]"
     ]
    },
    {
     "name": "stdout",
     "output_type": "stream",
     "text": [
      "––––––––––––––––––––––––––––––––––––––––––––––––––––––––––––––––––––––––––––––––––––––––––––––––––––\n",
      "====================================================================================================\n",
      "[2020-09-08 10:54:15,360][MainProcess][lib.configurable][INFO] Checking configuration...\n",
      "[2020-09-08 10:54:15,361][MainProcess][lib.configurable][INFO] Configuration checked.\n",
      "[2020-09-08 10:54:15,363][MainProcess][lib.configurable][INFO] seq_to_label.SeqToLabel.__init__ was configured with:\n",
      "{   'bidirectional': False,\n",
      "    'decode_dropout': 0.7848169306205375,\n",
      "    'embedding_dropout': 0.8239249668335041,\n",
      "    'embedding_size': 300,\n",
      "    'freeze_embeddings': True,\n",
      "    'input_vocab_size': 6899,\n",
      "    'output_vocab_size': 1703,\n",
      "    'rnn_cell': 'gru',\n",
      "    'rnn_dropout': 0.29720493260787495,\n",
      "    'rnn_layers': 2,\n",
      "    'rnn_size': 328,\n",
      "    'rnn_variational_dropout': 0.6044681002392187}\n",
      "[2020-09-08 10:54:15,364][MainProcess][lib.configurable][INFO] seq_encoder.SeqEncoder.__init__ no config for: lib.nn.seq_encoder.SeqEncoder.__init__\n",
      "[2020-09-08 10:54:15,365][MainProcess][lib.configurable][INFO] seq_encoder.SeqEncoder.__init__ was configured with:\n",
      "{   'bidirectional': False,\n",
      "    'embedding_dropout': 0.8239249668335041,\n",
      "    'embedding_size': 300,\n",
      "    'freeze_embeddings': True,\n",
      "    'n_layers': 2,\n",
      "    'rnn_cell': 'gru',\n",
      "    'rnn_dropout': 0.29720493260787495,\n",
      "    'rnn_size': 328,\n",
      "    'rnn_variational_dropout': 0.6044681002392187,\n",
      "    'vocab_size': 6899}\n",
      "[2020-09-08 10:54:15,431][MainProcess][lib.configurable][INFO] adam.Adam.__init__ was configured with:\n",
      "{'amsgrad': True, 'params': <filter object at 0x7f8971819048>}\n",
      "[2020-09-08 10:54:15,432][MainProcess][lib.configurable][INFO] optimizer.Optimizer.__init__ was configured with:\n",
      "{   'max_grad_norm': 0.5171340557727856,\n",
      "    'optim': Adam (\n",
      "Parameter Group 0\n",
      "    amsgrad: True\n",
      "    betas: (0.9, 0.999)\n",
      "    eps: 1e-08\n",
      "    lr: 0.001\n",
      "    weight_decay: 0\n",
      ")}\n",
      "[2020-09-08 10:54:15,433][MainProcess][__main__][INFO] Epochs: 1\n",
      "[2020-09-08 10:54:15,434][MainProcess][__main__][INFO] Train Dataset Size: 75900\n",
      "[2020-09-08 10:54:15,435][MainProcess][__main__][INFO] Dev Dataset Size: 10845\n",
      "[2020-09-08 10:54:15,436][MainProcess][__main__][INFO] Train Batch Size: 32\n",
      "[2020-09-08 10:54:15,436][MainProcess][__main__][INFO] Train Max Batch Size: 1024\n",
      "[2020-09-08 10:54:15,437][MainProcess][__main__][INFO] Total Parameters: 1936247\n",
      "[2020-09-08 10:54:15,438][MainProcess][__main__][INFO] Model:\n",
      "SeqToLabel(\n",
      "  (encoder): SeqEncoder(\n",
      "    (embedding): Embedding(6899, 300, padding_idx=0)\n",
      "    (rnn): GRU(300, 328, num_layers=2, dropout=0.6044681002392187)\n",
      "    (rnn_dropout): LockedDropout(p=0.29720493260787495)\n",
      "    (embedding_dropout): Dropout(p=0.8239249668335041)\n",
      "  )\n",
      "  (out): Sequential(\n",
      "    (0): Linear(in_features=328, out_features=328, bias=True)\n",
      "    (1): BatchNorm1d(328, eps=1e-05, momentum=0.1, affine=True, track_running_stats=True)\n",
      "    (2): ReLU()\n",
      "    (3): Dropout(p=0.7848169306205375)\n",
      "    (4): Linear(in_features=328, out_features=1703, bias=True)\n",
      "  )\n",
      ")\n",
      "[2020-09-08 10:54:15,439][MainProcess][__main__][INFO] Epoch: 0\n",
      "[2020-09-08 10:54:15,440][MainProcess][__main__][INFO] Training...\n"
     ]
    },
    {
     "data": {
      "application/vnd.jupyter.widget-view+json": {
       "model_id": "212ed4c77e0148b6a44912a166db040c",
       "version_major": 2,
       "version_minor": 0
      },
      "text/plain": [
       "HBox(children=(IntProgress(value=0, max=2371), HTML(value='')))"
      ]
     },
     "metadata": {},
     "output_type": "display_data"
    },
    {
     "name": "stdout",
     "output_type": "stream",
     "text": [
      "\n",
      "[2020-09-08 10:54:31,444][MainProcess][lib.checkpoint][INFO] Saving checkpoint: ../../experiments/relation_classifier.09_08_10:23:25/1773.pt\n"
     ]
    },
    {
     "data": {
      "application/vnd.jupyter.widget-view+json": {
       "model_id": "ea0b093e7a694a1f8ccb4a6eff8e2d96",
       "version_major": 2,
       "version_minor": 0
      },
      "text/plain": [
       "HBox(children=(IntProgress(value=0, max=2), HTML(value='')))"
      ]
     },
     "metadata": {},
     "output_type": "display_data"
    },
    {
     "name": "stdout",
     "output_type": "stream",
     "text": [
      "\n",
      "[2020-09-08 10:54:32,883][MainProcess][__main__][INFO] NLLLoss: 5.620\n",
      "[2020-09-08 10:54:32,953][MainProcess][lib.metrics.accuracy][INFO] Accuracy: 0.0 [0 of 8192]\n"
     ]
    },
    {
     "name": "stderr",
     "output_type": "stream",
     "text": [
      "\r",
      "  6%|▋         | 64.44444444444453/1000.0 [21:59<4:39:05, 17.90s/it, min_score=-0, models_evaluated=0] "
     ]
    },
    {
     "name": "stdout",
     "output_type": "stream",
     "text": [
      "––––––––––––––––––––––––––––––––––––––––––––––––––––––––––––––––––––––––––––––––––––––––––––––––––––\n",
      "====================================================================================================\n",
      "[2020-09-08 10:54:32,996][MainProcess][lib.configurable][INFO] Checking configuration...\n",
      "[2020-09-08 10:54:32,998][MainProcess][lib.configurable][INFO] Configuration checked.\n",
      "[2020-09-08 10:54:32,999][MainProcess][lib.configurable][INFO] seq_to_label.SeqToLabel.__init__ was configured with:\n",
      "{   'bidirectional': False,\n",
      "    'decode_dropout': 0.20890756142281236,\n",
      "    'embedding_dropout': 0.18192052503359019,\n",
      "    'embedding_size': 300,\n",
      "    'freeze_embeddings': False,\n",
      "    'input_vocab_size': 6899,\n",
      "    'output_vocab_size': 1703,\n",
      "    'rnn_cell': 'gru',\n",
      "    'rnn_dropout': 0.8705322992217309,\n",
      "    'rnn_layers': 3,\n",
      "    'rnn_size': 240,\n",
      "    'rnn_variational_dropout': 0.06483948186734495}\n",
      "[2020-09-08 10:54:33,000][MainProcess][lib.configurable][INFO] seq_encoder.SeqEncoder.__init__ no config for: lib.nn.seq_encoder.SeqEncoder.__init__\n",
      "[2020-09-08 10:54:33,001][MainProcess][lib.configurable][INFO] seq_encoder.SeqEncoder.__init__ was configured with:\n",
      "{   'bidirectional': False,\n",
      "    'embedding_dropout': 0.18192052503359019,\n",
      "    'embedding_size': 300,\n",
      "    'freeze_embeddings': False,\n",
      "    'n_layers': 3,\n",
      "    'rnn_cell': 'gru',\n",
      "    'rnn_dropout': 0.8705322992217309,\n",
      "    'rnn_size': 240,\n",
      "    'rnn_variational_dropout': 0.06483948186734495,\n",
      "    'vocab_size': 6899}\n",
      "[2020-09-08 10:54:33,062][MainProcess][lib.configurable][INFO] adam.Adam.__init__ was configured with:\n",
      "{'amsgrad': True, 'params': <filter object at 0x7f8965d41630>}\n",
      "[2020-09-08 10:54:33,063][MainProcess][lib.configurable][INFO] optimizer.Optimizer.__init__ was configured with:\n",
      "{   'max_grad_norm': 0.5667432461621492,\n",
      "    'optim': Adam (\n",
      "Parameter Group 0\n",
      "    amsgrad: True\n",
      "    betas: (0.9, 0.999)\n",
      "    eps: 1e-08\n",
      "    lr: 0.001\n",
      "    weight_decay: 0\n",
      ")}\n",
      "[2020-09-08 10:54:33,064][MainProcess][__main__][INFO] Epochs: 1\n",
      "[2020-09-08 10:54:33,065][MainProcess][__main__][INFO] Train Dataset Size: 75900\n",
      "[2020-09-08 10:54:33,066][MainProcess][__main__][INFO] Dev Dataset Size: 10845\n",
      "[2020-09-08 10:54:33,067][MainProcess][__main__][INFO] Train Batch Size: 32\n",
      "[2020-09-08 10:54:33,068][MainProcess][__main__][INFO] Train Max Batch Size: 1024\n",
      "[2020-09-08 10:54:33,068][MainProcess][__main__][INFO] Total Parameters: 3622763\n",
      "[2020-09-08 10:54:33,069][MainProcess][__main__][INFO] Model:\n",
      "SeqToLabel(\n",
      "  (encoder): SeqEncoder(\n",
      "    (embedding): Embedding(6899, 300, padding_idx=0)\n",
      "    (rnn): GRU(300, 240, num_layers=3, dropout=0.06483948186734495)\n",
      "    (rnn_dropout): LockedDropout(p=0.8705322992217309)\n",
      "    (embedding_dropout): Dropout(p=0.18192052503359019)\n",
      "  )\n",
      "  (out): Sequential(\n",
      "    (0): Linear(in_features=240, out_features=240, bias=True)\n",
      "    (1): BatchNorm1d(240, eps=1e-05, momentum=0.1, affine=True, track_running_stats=True)\n",
      "    (2): ReLU()\n",
      "    (3): Dropout(p=0.20890756142281236)\n",
      "    (4): Linear(in_features=240, out_features=1703, bias=True)\n",
      "  )\n",
      ")\n",
      "[2020-09-08 10:54:33,070][MainProcess][__main__][INFO] Epoch: 0\n",
      "[2020-09-08 10:54:33,071][MainProcess][__main__][INFO] Training...\n"
     ]
    },
    {
     "data": {
      "application/vnd.jupyter.widget-view+json": {
       "model_id": "9cb5e9fb7de14504a4c8216c8924f187",
       "version_major": 2,
       "version_minor": 0
      },
      "text/plain": [
       "HBox(children=(IntProgress(value=0, max=2371), HTML(value='')))"
      ]
     },
     "metadata": {},
     "output_type": "display_data"
    },
    {
     "name": "stdout",
     "output_type": "stream",
     "text": [
      "\n",
      "[2020-09-08 10:54:52,727][MainProcess][lib.checkpoint][INFO] Saving checkpoint: ../../experiments/relation_classifier.09_08_10:23:25/1794.pt\n"
     ]
    },
    {
     "data": {
      "application/vnd.jupyter.widget-view+json": {
       "model_id": "d731ca71b7bc4684ad0683c0dc7f249d",
       "version_major": 2,
       "version_minor": 0
      },
      "text/plain": [
       "HBox(children=(IntProgress(value=0, max=2), HTML(value='')))"
      ]
     },
     "metadata": {},
     "output_type": "display_data"
    },
    {
     "name": "stdout",
     "output_type": "stream",
     "text": [
      "\n",
      "[2020-09-08 10:54:53,946][MainProcess][__main__][INFO] NLLLoss: 5.620\n",
      "[2020-09-08 10:54:54,013][MainProcess][lib.metrics.accuracy][INFO] Accuracy: 0.0 [0 of 8192]\n"
     ]
    },
    {
     "name": "stderr",
     "output_type": "stream",
     "text": [
      "\r",
      "  7%|▋         | 65.55555555555564/1000.0 [22:20<4:43:41, 18.22s/it, min_score=-0, models_evaluated=0]"
     ]
    },
    {
     "name": "stdout",
     "output_type": "stream",
     "text": [
      "––––––––––––––––––––––––––––––––––––––––––––––––––––––––––––––––––––––––––––––––––––––––––––––––––––\n",
      "====================================================================================================\n",
      "[2020-09-08 10:54:54,059][MainProcess][lib.configurable][INFO] Checking configuration...\n",
      "[2020-09-08 10:54:54,060][MainProcess][lib.configurable][INFO] Configuration checked.\n",
      "[2020-09-08 10:54:54,061][MainProcess][lib.configurable][INFO] seq_to_label.SeqToLabel.__init__ was configured with:\n",
      "{   'bidirectional': False,\n",
      "    'decode_dropout': 0.3016102369509498,\n",
      "    'embedding_dropout': 0.40213457350912213,\n",
      "    'embedding_size': 300,\n",
      "    'freeze_embeddings': True,\n",
      "    'input_vocab_size': 6899,\n",
      "    'output_vocab_size': 1703,\n",
      "    'rnn_cell': 'lstm',\n",
      "    'rnn_dropout': 0.5664319056218534,\n",
      "    'rnn_layers': 3,\n",
      "    'rnn_size': 332,\n",
      "    'rnn_variational_dropout': 0.5026740758492362}\n",
      "[2020-09-08 10:54:54,062][MainProcess][lib.configurable][INFO] seq_encoder.SeqEncoder.__init__ no config for: lib.nn.seq_encoder.SeqEncoder.__init__\n",
      "[2020-09-08 10:54:54,063][MainProcess][lib.configurable][INFO] seq_encoder.SeqEncoder.__init__ was configured with:\n",
      "{   'bidirectional': False,\n",
      "    'embedding_dropout': 0.40213457350912213,\n",
      "    'embedding_size': 300,\n",
      "    'freeze_embeddings': True,\n",
      "    'n_layers': 3,\n",
      "    'rnn_cell': 'lstm',\n",
      "    'rnn_dropout': 0.5664319056218534,\n",
      "    'rnn_size': 332,\n",
      "    'rnn_variational_dropout': 0.5026740758492362,\n",
      "    'vocab_size': 6899}\n",
      "[2020-09-08 10:54:54,146][MainProcess][lib.configurable][INFO] adam.Adam.__init__ was configured with:\n",
      "{'amsgrad': True, 'params': <filter object at 0x7f8964334588>}\n",
      "[2020-09-08 10:54:54,147][MainProcess][lib.configurable][INFO] optimizer.Optimizer.__init__ was configured with:\n",
      "{   'max_grad_norm': 3.2437939370087068,\n",
      "    'optim': Adam (\n",
      "Parameter Group 0\n",
      "    amsgrad: True\n",
      "    betas: (0.9, 0.999)\n",
      "    eps: 1e-08\n",
      "    lr: 0.001\n",
      "    weight_decay: 0\n",
      ")}\n",
      "[2020-09-08 10:54:54,148][MainProcess][__main__][INFO] Epochs: 1\n",
      "[2020-09-08 10:54:54,149][MainProcess][__main__][INFO] Train Dataset Size: 75900\n",
      "[2020-09-08 10:54:54,150][MainProcess][__main__][INFO] Dev Dataset Size: 10845\n",
      "[2020-09-08 10:54:54,151][MainProcess][__main__][INFO] Train Batch Size: 32\n",
      "[2020-09-08 10:54:54,152][MainProcess][__main__][INFO] Train Max Batch Size: 1024\n",
      "[2020-09-08 10:54:54,153][MainProcess][__main__][INFO] Total Parameters: 3289167\n",
      "[2020-09-08 10:54:54,153][MainProcess][__main__][INFO] Model:\n",
      "SeqToLabel(\n",
      "  (encoder): SeqEncoder(\n",
      "    (embedding): Embedding(6899, 300, padding_idx=0)\n",
      "    (rnn): LSTM(300, 332, num_layers=3, dropout=0.5026740758492362)\n",
      "    (rnn_dropout): LockedDropout(p=0.5664319056218534)\n",
      "    (embedding_dropout): Dropout(p=0.40213457350912213)\n",
      "  )\n",
      "  (out): Sequential(\n",
      "    (0): Linear(in_features=332, out_features=332, bias=True)\n",
      "    (1): BatchNorm1d(332, eps=1e-05, momentum=0.1, affine=True, track_running_stats=True)\n",
      "    (2): ReLU()\n",
      "    (3): Dropout(p=0.3016102369509498)\n",
      "    (4): Linear(in_features=332, out_features=1703, bias=True)\n",
      "  )\n",
      ")\n",
      "[2020-09-08 10:54:54,154][MainProcess][__main__][INFO] Epoch: 0\n",
      "[2020-09-08 10:54:54,155][MainProcess][__main__][INFO] Training...\n"
     ]
    },
    {
     "data": {
      "application/vnd.jupyter.widget-view+json": {
       "model_id": "00849df230d8422e84bd9e7ef50abb54",
       "version_major": 2,
       "version_minor": 0
      },
      "text/plain": [
       "HBox(children=(IntProgress(value=0, max=2371), HTML(value='')))"
      ]
     },
     "metadata": {},
     "output_type": "display_data"
    },
    {
     "name": "stdout",
     "output_type": "stream",
     "text": [
      "\n",
      "[2020-09-08 10:55:16,622][MainProcess][lib.checkpoint][INFO] Saving checkpoint: ../../experiments/relation_classifier.09_08_10:23:25/1818.pt\n"
     ]
    },
    {
     "data": {
      "application/vnd.jupyter.widget-view+json": {
       "model_id": "6f750ed0e07c44ae8fc580ea8cc5c6a8",
       "version_major": 2,
       "version_minor": 0
      },
      "text/plain": [
       "HBox(children=(IntProgress(value=0, max=2), HTML(value='')))"
      ]
     },
     "metadata": {},
     "output_type": "display_data"
    },
    {
     "name": "stdout",
     "output_type": "stream",
     "text": [
      "\n",
      "[2020-09-08 10:55:19,338][MainProcess][__main__][INFO] NLLLoss: 5.620\n",
      "[2020-09-08 10:55:19,407][MainProcess][lib.metrics.accuracy][INFO] Accuracy: 0.0 [0 of 8192]\n"
     ]
    },
    {
     "name": "stderr",
     "output_type": "stream",
     "text": [
      "\r",
      "  7%|▋         | 66.66666666666676/1000.0 [22:45<5:05:01, 19.61s/it, min_score=-0, models_evaluated=0]"
     ]
    },
    {
     "name": "stdout",
     "output_type": "stream",
     "text": [
      "––––––––––––––––––––––––––––––––––––––––––––––––––––––––––––––––––––––––––––––––––––––––––––––––––––\n",
      "====================================================================================================\n",
      "[2020-09-08 10:55:19,457][MainProcess][lib.configurable][INFO] Checking configuration...\n",
      "[2020-09-08 10:55:19,458][MainProcess][lib.configurable][INFO] Configuration checked.\n",
      "[2020-09-08 10:55:19,459][MainProcess][lib.configurable][INFO] seq_to_label.SeqToLabel.__init__ was configured with:\n",
      "{   'bidirectional': False,\n",
      "    'decode_dropout': 0.8236552139647821,\n",
      "    'embedding_dropout': 0.025615001085774317,\n",
      "    'embedding_size': 300,\n",
      "    'freeze_embeddings': True,\n",
      "    'input_vocab_size': 6899,\n",
      "    'output_vocab_size': 1703,\n",
      "    'rnn_cell': 'lstm',\n",
      "    'rnn_dropout': 0.4759782922542531,\n",
      "    'rnn_layers': 2,\n",
      "    'rnn_size': 298,\n",
      "    'rnn_variational_dropout': 0.730399650513103}\n",
      "[2020-09-08 10:55:19,460][MainProcess][lib.configurable][INFO] seq_encoder.SeqEncoder.__init__ no config for: lib.nn.seq_encoder.SeqEncoder.__init__\n",
      "[2020-09-08 10:55:19,461][MainProcess][lib.configurable][INFO] seq_encoder.SeqEncoder.__init__ was configured with:\n",
      "{   'bidirectional': False,\n",
      "    'embedding_dropout': 0.025615001085774317,\n",
      "    'embedding_size': 300,\n",
      "    'freeze_embeddings': True,\n",
      "    'n_layers': 2,\n",
      "    'rnn_cell': 'lstm',\n",
      "    'rnn_dropout': 0.4759782922542531,\n",
      "    'rnn_size': 298,\n",
      "    'rnn_variational_dropout': 0.730399650513103,\n",
      "    'vocab_size': 6899}\n",
      "[2020-09-08 10:55:19,529][MainProcess][lib.configurable][INFO] adam.Adam.__init__ was configured with:\n",
      "{'amsgrad': True, 'params': <filter object at 0x7f897181e208>}\n",
      "[2020-09-08 10:55:19,530][MainProcess][lib.configurable][INFO] optimizer.Optimizer.__init__ was configured with:\n",
      "{   'max_grad_norm': 3.9396220367130463,\n",
      "    'optim': Adam (\n",
      "Parameter Group 0\n",
      "    amsgrad: True\n",
      "    betas: (0.9, 0.999)\n",
      "    eps: 1e-08\n",
      "    lr: 0.001\n",
      "    weight_decay: 0\n",
      ")}\n",
      "[2020-09-08 10:55:19,531][MainProcess][__main__][INFO] Epochs: 1\n",
      "[2020-09-08 10:55:19,532][MainProcess][__main__][INFO] Train Dataset Size: 75900\n",
      "[2020-09-08 10:55:19,533][MainProcess][__main__][INFO] Dev Dataset Size: 10845\n",
      "[2020-09-08 10:55:19,533][MainProcess][__main__][INFO] Train Batch Size: 32\n",
      "[2020-09-08 10:55:19,534][MainProcess][__main__][INFO] Train Max Batch Size: 1024\n",
      "[2020-09-08 10:55:19,535][MainProcess][__main__][INFO] Total Parameters: 2026911\n",
      "[2020-09-08 10:55:19,536][MainProcess][__main__][INFO] Model:\n",
      "SeqToLabel(\n",
      "  (encoder): SeqEncoder(\n",
      "    (embedding): Embedding(6899, 300, padding_idx=0)\n",
      "    (rnn): LSTM(300, 298, num_layers=2, dropout=0.730399650513103)\n",
      "    (rnn_dropout): LockedDropout(p=0.4759782922542531)\n",
      "    (embedding_dropout): Dropout(p=0.025615001085774317)\n",
      "  )\n",
      "  (out): Sequential(\n",
      "    (0): Linear(in_features=298, out_features=298, bias=True)\n",
      "    (1): BatchNorm1d(298, eps=1e-05, momentum=0.1, affine=True, track_running_stats=True)\n",
      "    (2): ReLU()\n",
      "    (3): Dropout(p=0.8236552139647821)\n",
      "    (4): Linear(in_features=298, out_features=1703, bias=True)\n",
      "  )\n",
      ")\n",
      "[2020-09-08 10:55:19,537][MainProcess][__main__][INFO] Epoch: 0\n",
      "[2020-09-08 10:55:19,538][MainProcess][__main__][INFO] Training...\n"
     ]
    },
    {
     "data": {
      "application/vnd.jupyter.widget-view+json": {
       "model_id": "750a71de601240208311f285e8a51cd9",
       "version_major": 2,
       "version_minor": 0
      },
      "text/plain": [
       "HBox(children=(IntProgress(value=0, max=2371), HTML(value='')))"
      ]
     },
     "metadata": {},
     "output_type": "display_data"
    },
    {
     "name": "stdout",
     "output_type": "stream",
     "text": [
      "\n",
      "[2020-09-08 10:55:34,857][MainProcess][lib.checkpoint][INFO] Saving checkpoint: ../../experiments/relation_classifier.09_08_10:23:25/1836.pt\n"
     ]
    },
    {
     "data": {
      "application/vnd.jupyter.widget-view+json": {
       "model_id": "769f6a28695444ada338ba7289ae680f",
       "version_major": 2,
       "version_minor": 0
      },
      "text/plain": [
       "HBox(children=(IntProgress(value=0, max=2), HTML(value='')))"
      ]
     },
     "metadata": {},
     "output_type": "display_data"
    },
    {
     "name": "stdout",
     "output_type": "stream",
     "text": [
      "\n",
      "[2020-09-08 10:55:35,894][MainProcess][__main__][INFO] NLLLoss: 5.620\n",
      "[2020-09-08 10:55:35,962][MainProcess][lib.metrics.accuracy][INFO] Accuracy: 0.0 [0 of 8192]\n"
     ]
    },
    {
     "name": "stderr",
     "output_type": "stream",
     "text": [
      "\r",
      "  7%|▋         | 67.77777777777787/1000.0 [23:02<4:42:40, 18.19s/it, min_score=-0, models_evaluated=0]"
     ]
    },
    {
     "name": "stdout",
     "output_type": "stream",
     "text": [
      "––––––––––––––––––––––––––––––––––––––––––––––––––––––––––––––––––––––––––––––––––––––––––––––––––––\n",
      "====================================================================================================\n",
      "[2020-09-08 10:55:36,001][MainProcess][lib.configurable][INFO] Checking configuration...\n",
      "[2020-09-08 10:55:36,003][MainProcess][lib.configurable][INFO] Configuration checked.\n",
      "[2020-09-08 10:55:36,004][MainProcess][lib.configurable][INFO] seq_to_label.SeqToLabel.__init__ was configured with:\n",
      "{   'bidirectional': True,\n",
      "    'decode_dropout': 0.20150987665484862,\n",
      "    'embedding_dropout': 0.7554275896551184,\n",
      "    'embedding_size': 300,\n",
      "    'freeze_embeddings': True,\n",
      "    'input_vocab_size': 6899,\n",
      "    'output_vocab_size': 1703,\n",
      "    'rnn_cell': 'gru',\n",
      "    'rnn_dropout': 0.15906490872487855,\n",
      "    'rnn_layers': 3,\n",
      "    'rnn_size': 358,\n",
      "    'rnn_variational_dropout': 0.37715864827150575}\n",
      "[2020-09-08 10:55:36,005][MainProcess][lib.configurable][INFO] seq_encoder.SeqEncoder.__init__ no config for: lib.nn.seq_encoder.SeqEncoder.__init__\n",
      "[2020-09-08 10:55:36,006][MainProcess][lib.configurable][INFO] seq_encoder.SeqEncoder.__init__ was configured with:\n",
      "{   'bidirectional': True,\n",
      "    'embedding_dropout': 0.7554275896551184,\n",
      "    'embedding_size': 300,\n",
      "    'freeze_embeddings': True,\n",
      "    'n_layers': 3,\n",
      "    'rnn_cell': 'gru',\n",
      "    'rnn_dropout': 0.15906490872487855,\n",
      "    'rnn_size': 358,\n",
      "    'rnn_variational_dropout': 0.37715864827150575,\n",
      "    'vocab_size': 6899}\n",
      "[2020-09-08 10:55:36,081][MainProcess][lib.configurable][INFO] adam.Adam.__init__ was configured with:\n",
      "{'amsgrad': True, 'params': <filter object at 0x7f89769a5b00>}\n",
      "[2020-09-08 10:55:36,082][MainProcess][lib.configurable][INFO] optimizer.Optimizer.__init__ was configured with:\n",
      "{   'max_grad_norm': 4.628294229342213,\n",
      "    'optim': Adam (\n",
      "Parameter Group 0\n",
      "    amsgrad: True\n",
      "    betas: (0.9, 0.999)\n",
      "    eps: 1e-08\n",
      "    lr: 0.001\n",
      "    weight_decay: 0\n",
      ")}\n",
      "[2020-09-08 10:55:36,082][MainProcess][__main__][INFO] Epochs: 1\n",
      "[2020-09-08 10:55:36,083][MainProcess][__main__][INFO] Train Dataset Size: 75900\n",
      "[2020-09-08 10:55:36,083][MainProcess][__main__][INFO] Dev Dataset Size: 10845\n",
      "[2020-09-08 10:55:36,084][MainProcess][__main__][INFO] Train Batch Size: 32\n",
      "[2020-09-08 10:55:36,085][MainProcess][__main__][INFO] Train Max Batch Size: 1024\n",
      "[2020-09-08 10:55:36,085][MainProcess][__main__][INFO] Total Parameters: 2414981\n",
      "[2020-09-08 10:55:36,086][MainProcess][__main__][INFO] Model:\n",
      "SeqToLabel(\n",
      "  (encoder): SeqEncoder(\n",
      "    (embedding): Embedding(6899, 300, padding_idx=0)\n",
      "    (rnn): GRU(300, 179, num_layers=3, dropout=0.37715864827150575, bidirectional=True)\n",
      "    (rnn_dropout): LockedDropout(p=0.15906490872487855)\n",
      "    (embedding_dropout): Dropout(p=0.7554275896551184)\n",
      "  )\n",
      "  (out): Sequential(\n",
      "    (0): Linear(in_features=358, out_features=358, bias=True)\n",
      "    (1): BatchNorm1d(358, eps=1e-05, momentum=0.1, affine=True, track_running_stats=True)\n",
      "    (2): ReLU()\n",
      "    (3): Dropout(p=0.20150987665484862)\n",
      "    (4): Linear(in_features=358, out_features=1703, bias=True)\n",
      "  )\n",
      ")\n",
      "[2020-09-08 10:55:36,087][MainProcess][__main__][INFO] Epoch: 0\n",
      "[2020-09-08 10:55:36,087][MainProcess][__main__][INFO] Training...\n"
     ]
    },
    {
     "data": {
      "application/vnd.jupyter.widget-view+json": {
       "model_id": "10fee270a38f47b7b242c12b58d8555c",
       "version_major": 2,
       "version_minor": 0
      },
      "text/plain": [
       "HBox(children=(IntProgress(value=0, max=2371), HTML(value='')))"
      ]
     },
     "metadata": {},
     "output_type": "display_data"
    },
    {
     "name": "stdout",
     "output_type": "stream",
     "text": [
      "\n",
      "[2020-09-08 10:56:11,352][MainProcess][lib.checkpoint][INFO] Saving checkpoint: ../../experiments/relation_classifier.09_08_10:23:25/1872.pt\n"
     ]
    },
    {
     "data": {
      "application/vnd.jupyter.widget-view+json": {
       "model_id": "a9d06a2f26a74c0ea96493d8c912808c",
       "version_major": 2,
       "version_minor": 0
      },
      "text/plain": [
       "HBox(children=(IntProgress(value=0, max=2), HTML(value='')))"
      ]
     },
     "metadata": {},
     "output_type": "display_data"
    },
    {
     "name": "stdout",
     "output_type": "stream",
     "text": [
      "\n",
      "[2020-09-08 10:56:13,750][MainProcess][__main__][INFO] NLLLoss: 5.620\n",
      "[2020-09-08 10:56:13,817][MainProcess][lib.metrics.accuracy][INFO] Accuracy: 0.0 [0 of 8192]\n"
     ]
    },
    {
     "name": "stderr",
     "output_type": "stream",
     "text": [
      "\r",
      "  7%|▋         | 68.88888888888899/1000.0 [23:40<5:56:16, 22.96s/it, min_score=-0, models_evaluated=0]"
     ]
    },
    {
     "name": "stdout",
     "output_type": "stream",
     "text": [
      "––––––––––––––––––––––––––––––––––––––––––––––––––––––––––––––––––––––––––––––––––––––––––––––––––––\n",
      "====================================================================================================\n",
      "[2020-09-08 10:56:13,864][MainProcess][lib.configurable][INFO] Checking configuration...\n",
      "[2020-09-08 10:56:13,866][MainProcess][lib.configurable][INFO] Configuration checked.\n",
      "[2020-09-08 10:56:13,867][MainProcess][lib.configurable][INFO] seq_to_label.SeqToLabel.__init__ was configured with:\n",
      "{   'bidirectional': True,\n",
      "    'decode_dropout': 0.558097834763117,\n",
      "    'embedding_dropout': 0.6362326484510071,\n",
      "    'embedding_size': 300,\n",
      "    'freeze_embeddings': False,\n",
      "    'input_vocab_size': 6899,\n",
      "    'output_vocab_size': 1703,\n",
      "    'rnn_cell': 'gru',\n",
      "    'rnn_dropout': 0.3352828294654029,\n",
      "    'rnn_layers': 3,\n",
      "    'rnn_size': 462,\n",
      "    'rnn_variational_dropout': 0.8580811317693255}\n",
      "[2020-09-08 10:56:13,868][MainProcess][lib.configurable][INFO] seq_encoder.SeqEncoder.__init__ no config for: lib.nn.seq_encoder.SeqEncoder.__init__\n",
      "[2020-09-08 10:56:13,869][MainProcess][lib.configurable][INFO] seq_encoder.SeqEncoder.__init__ was configured with:\n",
      "{   'bidirectional': True,\n",
      "    'embedding_dropout': 0.6362326484510071,\n",
      "    'embedding_size': 300,\n",
      "    'freeze_embeddings': False,\n",
      "    'n_layers': 3,\n",
      "    'rnn_cell': 'gru',\n",
      "    'rnn_dropout': 0.3352828294654029,\n",
      "    'rnn_size': 462,\n",
      "    'rnn_variational_dropout': 0.8580811317693255,\n",
      "    'vocab_size': 6899}\n",
      "[2020-09-08 10:56:13,962][MainProcess][lib.configurable][INFO] adam.Adam.__init__ was configured with:\n",
      "{'amsgrad': True, 'params': <filter object at 0x7f89a304f710>}\n",
      "[2020-09-08 10:56:13,963][MainProcess][lib.configurable][INFO] optimizer.Optimizer.__init__ was configured with:\n",
      "{   'max_grad_norm': 2.620306887545106,\n",
      "    'optim': Adam (\n",
      "Parameter Group 0\n",
      "    amsgrad: True\n",
      "    betas: (0.9, 0.999)\n",
      "    eps: 1e-08\n",
      "    lr: 0.001\n",
      "    weight_decay: 0\n",
      ")}\n",
      "[2020-09-08 10:56:13,964][MainProcess][__main__][INFO] Epochs: 1\n",
      "[2020-09-08 10:56:13,965][MainProcess][__main__][INFO] Train Dataset Size: 75900\n",
      "[2020-09-08 10:56:13,966][MainProcess][__main__][INFO] Dev Dataset Size: 10845\n",
      "[2020-09-08 10:56:13,966][MainProcess][__main__][INFO] Train Batch Size: 32\n",
      "[2020-09-08 10:56:13,967][MainProcess][__main__][INFO] Train Max Batch Size: 1024\n",
      "[2020-09-08 10:56:13,968][MainProcess][__main__][INFO] Total Parameters: 5738297\n",
      "[2020-09-08 10:56:13,969][MainProcess][__main__][INFO] Model:\n",
      "SeqToLabel(\n",
      "  (encoder): SeqEncoder(\n",
      "    (embedding): Embedding(6899, 300, padding_idx=0)\n",
      "    (rnn): GRU(300, 231, num_layers=3, dropout=0.8580811317693255, bidirectional=True)\n",
      "    (rnn_dropout): LockedDropout(p=0.3352828294654029)\n",
      "    (embedding_dropout): Dropout(p=0.6362326484510071)\n",
      "  )\n",
      "  (out): Sequential(\n",
      "    (0): Linear(in_features=462, out_features=462, bias=True)\n",
      "    (1): BatchNorm1d(462, eps=1e-05, momentum=0.1, affine=True, track_running_stats=True)\n",
      "    (2): ReLU()\n",
      "    (3): Dropout(p=0.558097834763117)\n",
      "    (4): Linear(in_features=462, out_features=1703, bias=True)\n",
      "  )\n",
      ")\n",
      "[2020-09-08 10:56:13,970][MainProcess][__main__][INFO] Epoch: 0\n",
      "[2020-09-08 10:56:13,971][MainProcess][__main__][INFO] Training...\n"
     ]
    },
    {
     "data": {
      "application/vnd.jupyter.widget-view+json": {
       "model_id": "c17f78d1101b48a7b85baa23cbfaf33a",
       "version_major": 2,
       "version_minor": 0
      },
      "text/plain": [
       "HBox(children=(IntProgress(value=0, max=2371), HTML(value='')))"
      ]
     },
     "metadata": {},
     "output_type": "display_data"
    },
    {
     "name": "stdout",
     "output_type": "stream",
     "text": [
      "\n",
      "[2020-09-08 10:56:44,588][MainProcess][lib.checkpoint][INFO] Saving checkpoint: ../../experiments/relation_classifier.09_08_10:23:25/1906.pt\n"
     ]
    },
    {
     "data": {
      "application/vnd.jupyter.widget-view+json": {
       "model_id": "1d6f221a08e04bb8b05fb8c3d2469dbd",
       "version_major": 2,
       "version_minor": 0
      },
      "text/plain": [
       "HBox(children=(IntProgress(value=0, max=2), HTML(value='')))"
      ]
     },
     "metadata": {},
     "output_type": "display_data"
    },
    {
     "name": "stdout",
     "output_type": "stream",
     "text": [
      "\n",
      "[2020-09-08 10:56:46,468][MainProcess][__main__][INFO] NLLLoss: 5.620\n",
      "[2020-09-08 10:56:46,537][MainProcess][lib.metrics.accuracy][INFO] Accuracy: 0.0 [0 of 8192]\n"
     ]
    },
    {
     "name": "stderr",
     "output_type": "stream",
     "text": [
      "\r",
      "  7%|▋         | 70.0000000000001/1000.0 [24:12<6:26:05, 24.91s/it, min_score=-0, models_evaluated=0] "
     ]
    },
    {
     "name": "stdout",
     "output_type": "stream",
     "text": [
      "––––––––––––––––––––––––––––––––––––––––––––––––––––––––––––––––––––––––––––––––––––––––––––––––––––\n",
      "====================================================================================================\n",
      "[2020-09-08 10:56:46,598][MainProcess][lib.configurable][INFO] Checking configuration...\n",
      "[2020-09-08 10:56:46,599][MainProcess][lib.configurable][INFO] Configuration checked.\n",
      "[2020-09-08 10:56:46,600][MainProcess][lib.configurable][INFO] seq_to_label.SeqToLabel.__init__ was configured with:\n",
      "{   'bidirectional': True,\n",
      "    'decode_dropout': 0.11577737916902947,\n",
      "    'embedding_dropout': 0.5408196861549041,\n",
      "    'embedding_size': 300,\n",
      "    'freeze_embeddings': False,\n",
      "    'input_vocab_size': 6899,\n",
      "    'output_vocab_size': 1703,\n",
      "    'rnn_cell': 'gru',\n",
      "    'rnn_dropout': 0.5691611805842394,\n",
      "    'rnn_layers': 3,\n",
      "    'rnn_size': 426,\n",
      "    'rnn_variational_dropout': 0.536633104866349}\n",
      "[2020-09-08 10:56:46,601][MainProcess][lib.configurable][INFO] seq_encoder.SeqEncoder.__init__ no config for: lib.nn.seq_encoder.SeqEncoder.__init__\n",
      "[2020-09-08 10:56:46,602][MainProcess][lib.configurable][INFO] seq_encoder.SeqEncoder.__init__ was configured with:\n",
      "{   'bidirectional': True,\n",
      "    'embedding_dropout': 0.5408196861549041,\n",
      "    'embedding_size': 300,\n",
      "    'freeze_embeddings': False,\n",
      "    'n_layers': 3,\n",
      "    'rnn_cell': 'gru',\n",
      "    'rnn_dropout': 0.5691611805842394,\n",
      "    'rnn_size': 426,\n",
      "    'rnn_variational_dropout': 0.536633104866349,\n",
      "    'vocab_size': 6899}\n",
      "[2020-09-08 10:56:46,702][MainProcess][lib.configurable][INFO] adam.Adam.__init__ was configured with:\n",
      "{'amsgrad': True, 'params': <filter object at 0x7f89646d0278>}\n",
      "[2020-09-08 10:56:46,703][MainProcess][lib.configurable][INFO] optimizer.Optimizer.__init__ was configured with:\n",
      "{   'max_grad_norm': 0.8576989958479915,\n",
      "    'optim': Adam (\n",
      "Parameter Group 0\n",
      "    amsgrad: True\n",
      "    betas: (0.9, 0.999)\n",
      "    eps: 1e-08\n",
      "    lr: 0.001\n",
      "    weight_decay: 0\n",
      ")}\n",
      "[2020-09-08 10:56:46,704][MainProcess][__main__][INFO] Epochs: 1\n",
      "[2020-09-08 10:56:46,704][MainProcess][__main__][INFO] Train Dataset Size: 75900\n",
      "[2020-09-08 10:56:46,705][MainProcess][__main__][INFO] Dev Dataset Size: 10845\n",
      "[2020-09-08 10:56:46,706][MainProcess][__main__][INFO] Train Batch Size: 32\n",
      "[2020-09-08 10:56:46,707][MainProcess][__main__][INFO] Train Max Batch Size: 1024\n",
      "[2020-09-08 10:56:46,707][MainProcess][__main__][INFO] Total Parameters: 5276201\n",
      "[2020-09-08 10:56:46,708][MainProcess][__main__][INFO] Model:\n",
      "SeqToLabel(\n",
      "  (encoder): SeqEncoder(\n",
      "    (embedding): Embedding(6899, 300, padding_idx=0)\n",
      "    (rnn): GRU(300, 213, num_layers=3, dropout=0.536633104866349, bidirectional=True)\n",
      "    (rnn_dropout): LockedDropout(p=0.5691611805842394)\n",
      "    (embedding_dropout): Dropout(p=0.5408196861549041)\n",
      "  )\n",
      "  (out): Sequential(\n",
      "    (0): Linear(in_features=426, out_features=426, bias=True)\n",
      "    (1): BatchNorm1d(426, eps=1e-05, momentum=0.1, affine=True, track_running_stats=True)\n",
      "    (2): ReLU()\n",
      "    (3): Dropout(p=0.11577737916902947)\n",
      "    (4): Linear(in_features=426, out_features=1703, bias=True)\n",
      "  )\n",
      ")\n",
      "[2020-09-08 10:56:46,709][MainProcess][__main__][INFO] Epoch: 0\n",
      "[2020-09-08 10:56:46,710][MainProcess][__main__][INFO] Training...\n"
     ]
    },
    {
     "data": {
      "application/vnd.jupyter.widget-view+json": {
       "model_id": "70f881a4f94345aab578c43f34be1b92",
       "version_major": 2,
       "version_minor": 0
      },
      "text/plain": [
       "HBox(children=(IntProgress(value=0, max=2371), HTML(value='')))"
      ]
     },
     "metadata": {},
     "output_type": "display_data"
    },
    {
     "name": "stdout",
     "output_type": "stream",
     "text": [
      "\n",
      "[2020-09-08 10:57:21,862][MainProcess][lib.checkpoint][INFO] Saving checkpoint: ../../experiments/relation_classifier.09_08_10:23:25/1943.pt\n"
     ]
    },
    {
     "data": {
      "application/vnd.jupyter.widget-view+json": {
       "model_id": "327936ea56cf4532931c13759245d23b",
       "version_major": 2,
       "version_minor": 0
      },
      "text/plain": [
       "HBox(children=(IntProgress(value=0, max=2), HTML(value='')))"
      ]
     },
     "metadata": {},
     "output_type": "display_data"
    },
    {
     "name": "stdout",
     "output_type": "stream",
     "text": [
      "\n",
      "[2020-09-08 10:57:23,681][MainProcess][__main__][INFO] NLLLoss: 5.620\n",
      "[2020-09-08 10:57:23,747][MainProcess][lib.metrics.accuracy][INFO] Accuracy: 0.0 [0 of 8192]\n"
     ]
    },
    {
     "name": "stderr",
     "output_type": "stream",
     "text": [
      "\r",
      "  7%|▋         | 71.11111111111121/1000.0 [24:50<7:05:28, 27.48s/it, min_score=-0, models_evaluated=0]"
     ]
    },
    {
     "name": "stdout",
     "output_type": "stream",
     "text": [
      "––––––––––––––––––––––––––––––––––––––––––––––––––––––––––––––––––––––––––––––––––––––––––––––––––––\n",
      "====================================================================================================\n",
      "[2020-09-08 10:57:23,809][MainProcess][lib.configurable][INFO] Checking configuration...\n",
      "[2020-09-08 10:57:23,810][MainProcess][lib.configurable][INFO] Configuration checked.\n",
      "[2020-09-08 10:57:23,811][MainProcess][lib.configurable][INFO] seq_to_label.SeqToLabel.__init__ was configured with:\n",
      "{   'bidirectional': True,\n",
      "    'decode_dropout': 0.4898207455061508,\n",
      "    'embedding_dropout': 0.4153659671064559,\n",
      "    'embedding_size': 300,\n",
      "    'freeze_embeddings': True,\n",
      "    'input_vocab_size': 6899,\n",
      "    'output_vocab_size': 1703,\n",
      "    'rnn_cell': 'gru',\n",
      "    'rnn_dropout': 0.6797491151611358,\n",
      "    'rnn_layers': 2,\n",
      "    'rnn_size': 238,\n",
      "    'rnn_variational_dropout': 0.38746653792243096}\n",
      "[2020-09-08 10:57:23,812][MainProcess][lib.configurable][INFO] seq_encoder.SeqEncoder.__init__ no config for: lib.nn.seq_encoder.SeqEncoder.__init__\n",
      "[2020-09-08 10:57:23,813][MainProcess][lib.configurable][INFO] seq_encoder.SeqEncoder.__init__ was configured with:\n",
      "{   'bidirectional': True,\n",
      "    'embedding_dropout': 0.4153659671064559,\n",
      "    'embedding_size': 300,\n",
      "    'freeze_embeddings': True,\n",
      "    'n_layers': 2,\n",
      "    'rnn_cell': 'gru',\n",
      "    'rnn_dropout': 0.6797491151611358,\n",
      "    'rnn_size': 238,\n",
      "    'rnn_variational_dropout': 0.38746653792243096,\n",
      "    'vocab_size': 6899}\n",
      "[2020-09-08 10:57:23,901][MainProcess][lib.configurable][INFO] adam.Adam.__init__ was configured with:\n",
      "{'amsgrad': True, 'params': <filter object at 0x7f8965bd7ef0>}\n",
      "[2020-09-08 10:57:23,903][MainProcess][lib.configurable][INFO] optimizer.Optimizer.__init__ was configured with:\n",
      "{   'max_grad_norm': 0.8773641871976025,\n",
      "    'optim': Adam (\n",
      "Parameter Group 0\n",
      "    amsgrad: True\n",
      "    betas: (0.9, 0.999)\n",
      "    eps: 1e-08\n",
      "    lr: 0.001\n",
      "    weight_decay: 0\n",
      ")}\n",
      "[2020-09-08 10:57:23,904][MainProcess][__main__][INFO] Epochs: 1\n",
      "[2020-09-08 10:57:23,904][MainProcess][__main__][INFO] Train Dataset Size: 75900\n",
      "[2020-09-08 10:57:23,905][MainProcess][__main__][INFO] Dev Dataset Size: 10845\n",
      "[2020-09-08 10:57:23,906][MainProcess][__main__][INFO] Train Batch Size: 32\n",
      "[2020-09-08 10:57:23,907][MainProcess][__main__][INFO] Train Max Batch Size: 1024\n",
      "[2020-09-08 10:57:23,908][MainProcess][__main__][INFO] Total Parameters: 1021295\n",
      "[2020-09-08 10:57:23,909][MainProcess][__main__][INFO] Model:\n",
      "SeqToLabel(\n",
      "  (encoder): SeqEncoder(\n",
      "    (embedding): Embedding(6899, 300, padding_idx=0)\n",
      "    (rnn): GRU(300, 119, num_layers=2, dropout=0.38746653792243096, bidirectional=True)\n",
      "    (rnn_dropout): LockedDropout(p=0.6797491151611358)\n",
      "    (embedding_dropout): Dropout(p=0.4153659671064559)\n",
      "  )\n",
      "  (out): Sequential(\n",
      "    (0): Linear(in_features=238, out_features=238, bias=True)\n",
      "    (1): BatchNorm1d(238, eps=1e-05, momentum=0.1, affine=True, track_running_stats=True)\n",
      "    (2): ReLU()\n",
      "    (3): Dropout(p=0.4898207455061508)\n",
      "    (4): Linear(in_features=238, out_features=1703, bias=True)\n",
      "  )\n",
      ")\n",
      "[2020-09-08 10:57:23,909][MainProcess][__main__][INFO] Epoch: 0\n",
      "[2020-09-08 10:57:23,910][MainProcess][__main__][INFO] Training...\n"
     ]
    },
    {
     "data": {
      "application/vnd.jupyter.widget-view+json": {
       "model_id": "08c517f02a384720b27c0e132a11b6d5",
       "version_major": 2,
       "version_minor": 0
      },
      "text/plain": [
       "HBox(children=(IntProgress(value=0, max=2371), HTML(value='')))"
      ]
     },
     "metadata": {},
     "output_type": "display_data"
    },
    {
     "name": "stdout",
     "output_type": "stream",
     "text": [
      "\n",
      "[2020-09-08 10:57:45,083][MainProcess][lib.checkpoint][INFO] Saving checkpoint: ../../experiments/relation_classifier.09_08_10:23:25/1966.pt\n"
     ]
    },
    {
     "data": {
      "application/vnd.jupyter.widget-view+json": {
       "model_id": "f0b1647f26ad4768bbd3a6d1886a3687",
       "version_major": 2,
       "version_minor": 0
      },
      "text/plain": [
       "HBox(children=(IntProgress(value=0, max=2), HTML(value='')))"
      ]
     },
     "metadata": {},
     "output_type": "display_data"
    },
    {
     "name": "stdout",
     "output_type": "stream",
     "text": [
      "\n",
      "[2020-09-08 10:57:45,856][MainProcess][__main__][INFO] NLLLoss: 5.620\n",
      "[2020-09-08 10:57:45,922][MainProcess][lib.metrics.accuracy][INFO] Accuracy: 0.0 [0 of 8192]\n"
     ]
    },
    {
     "name": "stderr",
     "output_type": "stream",
     "text": [
      "\r",
      "  7%|▋         | 72.22222222222233/1000.0 [25:12<6:29:56, 25.22s/it, min_score=-0, models_evaluated=0]"
     ]
    },
    {
     "name": "stdout",
     "output_type": "stream",
     "text": [
      "––––––––––––––––––––––––––––––––––––––––––––––––––––––––––––––––––––––––––––––––––––––––––––––––––––\n",
      "====================================================================================================\n",
      "[2020-09-08 10:57:45,957][MainProcess][lib.configurable][INFO] Checking configuration...\n",
      "[2020-09-08 10:57:45,959][MainProcess][lib.configurable][INFO] Configuration checked.\n",
      "[2020-09-08 10:57:45,960][MainProcess][lib.configurable][INFO] seq_to_label.SeqToLabel.__init__ was configured with:\n",
      "{   'bidirectional': True,\n",
      "    'decode_dropout': 0.8386628740215062,\n",
      "    'embedding_dropout': 0.16870258054764556,\n",
      "    'embedding_size': 300,\n",
      "    'freeze_embeddings': False,\n",
      "    'input_vocab_size': 6899,\n",
      "    'output_vocab_size': 1703,\n",
      "    'rnn_cell': 'gru',\n",
      "    'rnn_dropout': 0.8752189293977342,\n",
      "    'rnn_layers': 3,\n",
      "    'rnn_size': 268,\n",
      "    'rnn_variational_dropout': 0.2882506088921788}\n",
      "[2020-09-08 10:57:45,961][MainProcess][lib.configurable][INFO] seq_encoder.SeqEncoder.__init__ no config for: lib.nn.seq_encoder.SeqEncoder.__init__\n",
      "[2020-09-08 10:57:45,962][MainProcess][lib.configurable][INFO] seq_encoder.SeqEncoder.__init__ was configured with:\n",
      "{   'bidirectional': True,\n",
      "    'embedding_dropout': 0.16870258054764556,\n",
      "    'embedding_size': 300,\n",
      "    'freeze_embeddings': False,\n",
      "    'n_layers': 3,\n",
      "    'rnn_cell': 'gru',\n",
      "    'rnn_dropout': 0.8752189293977342,\n",
      "    'rnn_size': 268,\n",
      "    'rnn_variational_dropout': 0.2882506088921788,\n",
      "    'vocab_size': 6899}\n",
      "[2020-09-08 10:57:46,020][MainProcess][lib.configurable][INFO] adam.Adam.__init__ was configured with:\n",
      "{'amsgrad': True, 'params': <filter object at 0x7f896525e160>}\n",
      "[2020-09-08 10:57:46,022][MainProcess][lib.configurable][INFO] optimizer.Optimizer.__init__ was configured with:\n",
      "{   'max_grad_norm': 0.13158764977119877,\n",
      "    'optim': Adam (\n",
      "Parameter Group 0\n",
      "    amsgrad: True\n",
      "    betas: (0.9, 0.999)\n",
      "    eps: 1e-08\n",
      "    lr: 0.001\n",
      "    weight_decay: 0\n",
      ")}\n",
      "[2020-09-08 10:57:46,022][MainProcess][__main__][INFO] Epochs: 1\n",
      "[2020-09-08 10:57:46,023][MainProcess][__main__][INFO] Train Dataset Size: 75900\n",
      "[2020-09-08 10:57:46,024][MainProcess][__main__][INFO] Dev Dataset Size: 10845\n",
      "[2020-09-08 10:57:46,025][MainProcess][__main__][INFO] Train Batch Size: 32\n",
      "[2020-09-08 10:57:46,026][MainProcess][__main__][INFO] Train Max Batch Size: 1024\n",
      "[2020-09-08 10:57:46,027][MainProcess][__main__][INFO] Total Parameters: 3600611\n",
      "[2020-09-08 10:57:46,028][MainProcess][__main__][INFO] Model:\n",
      "SeqToLabel(\n",
      "  (encoder): SeqEncoder(\n",
      "    (embedding): Embedding(6899, 300, padding_idx=0)\n",
      "    (rnn): GRU(300, 134, num_layers=3, dropout=0.2882506088921788, bidirectional=True)\n",
      "    (rnn_dropout): LockedDropout(p=0.8752189293977342)\n",
      "    (embedding_dropout): Dropout(p=0.16870258054764556)\n",
      "  )\n",
      "  (out): Sequential(\n",
      "    (0): Linear(in_features=268, out_features=268, bias=True)\n",
      "    (1): BatchNorm1d(268, eps=1e-05, momentum=0.1, affine=True, track_running_stats=True)\n",
      "    (2): ReLU()\n",
      "    (3): Dropout(p=0.8386628740215062)\n",
      "    (4): Linear(in_features=268, out_features=1703, bias=True)\n",
      "  )\n",
      ")\n",
      "[2020-09-08 10:57:46,029][MainProcess][__main__][INFO] Epoch: 0\n",
      "[2020-09-08 10:57:46,029][MainProcess][__main__][INFO] Training...\n"
     ]
    },
    {
     "data": {
      "application/vnd.jupyter.widget-view+json": {
       "model_id": "714f9034c393477c83e556323186c36c",
       "version_major": 2,
       "version_minor": 0
      },
      "text/plain": [
       "HBox(children=(IntProgress(value=0, max=2371), HTML(value='')))"
      ]
     },
     "metadata": {},
     "output_type": "display_data"
    },
    {
     "name": "stdout",
     "output_type": "stream",
     "text": [
      "\n",
      "[2020-09-08 10:58:14,589][MainProcess][lib.checkpoint][INFO] Saving checkpoint: ../../experiments/relation_classifier.09_08_10:23:25/1996.pt\n"
     ]
    },
    {
     "data": {
      "application/vnd.jupyter.widget-view+json": {
       "model_id": "d1d7ffa3f7b945ceb2fc3263777183b7",
       "version_major": 2,
       "version_minor": 0
      },
      "text/plain": [
       "HBox(children=(IntProgress(value=0, max=2), HTML(value='')))"
      ]
     },
     "metadata": {},
     "output_type": "display_data"
    },
    {
     "name": "stdout",
     "output_type": "stream",
     "text": [
      "\n",
      "[2020-09-08 10:58:15,999][MainProcess][__main__][INFO] NLLLoss: 5.620\n",
      "[2020-09-08 10:58:16,065][MainProcess][lib.metrics.accuracy][INFO] Accuracy: 0.0 [0 of 8192]\n"
     ]
    },
    {
     "name": "stderr",
     "output_type": "stream",
     "text": [
      "\r",
      "  7%|▋         | 73.33333333333344/1000.0 [25:42<6:38:22, 25.79s/it, min_score=-0, models_evaluated=0]"
     ]
    },
    {
     "name": "stdout",
     "output_type": "stream",
     "text": [
      "––––––––––––––––––––––––––––––––––––––––––––––––––––––––––––––––––––––––––––––––––––––––––––––––––––\n",
      "====================================================================================================\n",
      "[2020-09-08 10:58:16,109][MainProcess][lib.configurable][INFO] Checking configuration...\n",
      "[2020-09-08 10:58:16,110][MainProcess][lib.configurable][INFO] Configuration checked.\n",
      "[2020-09-08 10:58:16,111][MainProcess][lib.configurable][INFO] seq_to_label.SeqToLabel.__init__ was configured with:\n",
      "{   'bidirectional': False,\n",
      "    'decode_dropout': 0.6071762660567858,\n",
      "    'embedding_dropout': 0.21148275445413386,\n",
      "    'embedding_size': 300,\n",
      "    'freeze_embeddings': False,\n",
      "    'input_vocab_size': 6899,\n",
      "    'output_vocab_size': 1703,\n",
      "    'rnn_cell': 'gru',\n",
      "    'rnn_dropout': 0.0003057232635637397,\n",
      "    'rnn_layers': 3,\n",
      "    'rnn_size': 426,\n",
      "    'rnn_variational_dropout': 0.6824445088154953}\n",
      "[2020-09-08 10:58:16,112][MainProcess][lib.configurable][INFO] seq_encoder.SeqEncoder.__init__ no config for: lib.nn.seq_encoder.SeqEncoder.__init__\n",
      "[2020-09-08 10:58:16,113][MainProcess][lib.configurable][INFO] seq_encoder.SeqEncoder.__init__ was configured with:\n",
      "{   'bidirectional': False,\n",
      "    'embedding_dropout': 0.21148275445413386,\n",
      "    'embedding_size': 300,\n",
      "    'freeze_embeddings': False,\n",
      "    'n_layers': 3,\n",
      "    'rnn_cell': 'gru',\n",
      "    'rnn_dropout': 0.0003057232635637397,\n",
      "    'rnn_size': 426,\n",
      "    'rnn_variational_dropout': 0.6824445088154953,\n",
      "    'vocab_size': 6899}\n",
      "[2020-09-08 10:58:16,208][MainProcess][lib.configurable][INFO] adam.Adam.__init__ was configured with:\n",
      "{'amsgrad': True, 'params': <filter object at 0x7f89769a5278>}\n",
      "[2020-09-08 10:58:16,210][MainProcess][lib.configurable][INFO] optimizer.Optimizer.__init__ was configured with:\n",
      "{   'max_grad_norm': 1.9366706373419404,\n",
      "    'optim': Adam (\n",
      "Parameter Group 0\n",
      "    amsgrad: True\n",
      "    betas: (0.9, 0.999)\n",
      "    eps: 1e-08\n",
      "    lr: 0.001\n",
      "    weight_decay: 0\n",
      ")}\n",
      "[2020-09-08 10:58:16,211][MainProcess][__main__][INFO] Epochs: 1\n",
      "[2020-09-08 10:58:16,211][MainProcess][__main__][INFO] Train Dataset Size: 75900\n",
      "[2020-09-08 10:58:16,212][MainProcess][__main__][INFO] Dev Dataset Size: 10845\n",
      "[2020-09-08 10:58:16,213][MainProcess][__main__][INFO] Train Batch Size: 32\n",
      "[2020-09-08 10:58:16,214][MainProcess][__main__][INFO] Train Max Batch Size: 1024\n",
      "[2020-09-08 10:58:16,215][MainProcess][__main__][INFO] Total Parameters: 6092843\n",
      "[2020-09-08 10:58:16,216][MainProcess][__main__][INFO] Model:\n",
      "SeqToLabel(\n",
      "  (encoder): SeqEncoder(\n",
      "    (embedding): Embedding(6899, 300, padding_idx=0)\n",
      "    (rnn): GRU(300, 426, num_layers=3, dropout=0.6824445088154953)\n",
      "    (rnn_dropout): LockedDropout(p=0.0003057232635637397)\n",
      "    (embedding_dropout): Dropout(p=0.21148275445413386)\n",
      "  )\n",
      "  (out): Sequential(\n",
      "    (0): Linear(in_features=426, out_features=426, bias=True)\n",
      "    (1): BatchNorm1d(426, eps=1e-05, momentum=0.1, affine=True, track_running_stats=True)\n",
      "    (2): ReLU()\n",
      "    (3): Dropout(p=0.6071762660567858)\n",
      "    (4): Linear(in_features=426, out_features=1703, bias=True)\n",
      "  )\n",
      ")\n",
      "[2020-09-08 10:58:16,217][MainProcess][__main__][INFO] Epoch: 0\n",
      "[2020-09-08 10:58:16,217][MainProcess][__main__][INFO] Training...\n"
     ]
    },
    {
     "data": {
      "application/vnd.jupyter.widget-view+json": {
       "model_id": "9f5531a0533442fa88a2b738f6221738",
       "version_major": 2,
       "version_minor": 0
      },
      "text/plain": [
       "HBox(children=(IntProgress(value=0, max=2371), HTML(value='')))"
      ]
     },
     "metadata": {},
     "output_type": "display_data"
    },
    {
     "name": "stdout",
     "output_type": "stream",
     "text": [
      "\n",
      "[2020-09-08 10:58:41,174][MainProcess][lib.checkpoint][INFO] Saving checkpoint: ../../experiments/relation_classifier.09_08_10:23:25/2022.pt\n"
     ]
    },
    {
     "data": {
      "application/vnd.jupyter.widget-view+json": {
       "model_id": "733263d9a39b4d69a68c5968bc6507ac",
       "version_major": 2,
       "version_minor": 0
      },
      "text/plain": [
       "HBox(children=(IntProgress(value=0, max=2), HTML(value='')))"
      ]
     },
     "metadata": {},
     "output_type": "display_data"
    },
    {
     "name": "stdout",
     "output_type": "stream",
     "text": [
      "\n",
      "[2020-09-08 10:58:43,043][MainProcess][__main__][INFO] NLLLoss: 5.620\n",
      "[2020-09-08 10:58:43,110][MainProcess][lib.metrics.accuracy][INFO] Accuracy: 0.0 [0 of 8192]\n"
     ]
    },
    {
     "name": "stderr",
     "output_type": "stream",
     "text": [
      "\r",
      "  7%|▋         | 74.44444444444456/1000.0 [26:09<6:31:13, 25.36s/it, min_score=-0, models_evaluated=0]"
     ]
    },
    {
     "name": "stdout",
     "output_type": "stream",
     "text": [
      "––––––––––––––––––––––––––––––––––––––––––––––––––––––––––––––––––––––––––––––––––––––––––––––––––––\n",
      "====================================================================================================\n",
      "[2020-09-08 10:58:43,170][MainProcess][lib.configurable][INFO] Checking configuration...\n",
      "[2020-09-08 10:58:43,171][MainProcess][lib.configurable][INFO] Configuration checked.\n",
      "[2020-09-08 10:58:43,172][MainProcess][lib.configurable][INFO] seq_to_label.SeqToLabel.__init__ was configured with:\n",
      "{   'bidirectional': False,\n",
      "    'decode_dropout': 0.6142169819948097,\n",
      "    'embedding_dropout': 0.4569014376646053,\n",
      "    'embedding_size': 300,\n",
      "    'freeze_embeddings': False,\n",
      "    'input_vocab_size': 6899,\n",
      "    'output_vocab_size': 1703,\n",
      "    'rnn_cell': 'lstm',\n",
      "    'rnn_dropout': 0.831529911903184,\n",
      "    'rnn_layers': 3,\n",
      "    'rnn_size': 422,\n",
      "    'rnn_variational_dropout': 0.8388478495738889}\n",
      "[2020-09-08 10:58:43,173][MainProcess][lib.configurable][INFO] seq_encoder.SeqEncoder.__init__ no config for: lib.nn.seq_encoder.SeqEncoder.__init__\n",
      "[2020-09-08 10:58:43,174][MainProcess][lib.configurable][INFO] seq_encoder.SeqEncoder.__init__ was configured with:\n",
      "{   'bidirectional': False,\n",
      "    'embedding_dropout': 0.4569014376646053,\n",
      "    'embedding_size': 300,\n",
      "    'freeze_embeddings': False,\n",
      "    'n_layers': 3,\n",
      "    'rnn_cell': 'lstm',\n",
      "    'rnn_dropout': 0.831529911903184,\n",
      "    'rnn_size': 422,\n",
      "    'rnn_variational_dropout': 0.8388478495738889,\n",
      "    'vocab_size': 6899}\n",
      "[2020-09-08 10:58:43,280][MainProcess][lib.configurable][INFO] adam.Adam.__init__ was configured with:\n",
      "{'amsgrad': True, 'params': <filter object at 0x7f896565d588>}\n",
      "[2020-09-08 10:58:43,282][MainProcess][lib.configurable][INFO] optimizer.Optimizer.__init__ was configured with:\n",
      "{   'max_grad_norm': 2.232935101867072,\n",
      "    'optim': Adam (\n",
      "Parameter Group 0\n",
      "    amsgrad: True\n",
      "    betas: (0.9, 0.999)\n",
      "    eps: 1e-08\n",
      "    lr: 0.001\n",
      "    weight_decay: 0\n",
      ")}\n",
      "[2020-09-08 10:58:43,283][MainProcess][__main__][INFO] Epochs: 1\n",
      "[2020-09-08 10:58:43,283][MainProcess][__main__][INFO] Train Dataset Size: 75900\n",
      "[2020-09-08 10:58:43,284][MainProcess][__main__][INFO] Dev Dataset Size: 10845\n",
      "[2020-09-08 10:58:43,285][MainProcess][__main__][INFO] Train Batch Size: 32\n",
      "[2020-09-08 10:58:43,285][MainProcess][__main__][INFO] Train Max Batch Size: 1024\n",
      "[2020-09-08 10:58:43,286][MainProcess][__main__][INFO] Total Parameters: 7047627\n",
      "[2020-09-08 10:58:43,287][MainProcess][__main__][INFO] Model:\n",
      "SeqToLabel(\n",
      "  (encoder): SeqEncoder(\n",
      "    (embedding): Embedding(6899, 300, padding_idx=0)\n",
      "    (rnn): LSTM(300, 422, num_layers=3, dropout=0.8388478495738889)\n",
      "    (rnn_dropout): LockedDropout(p=0.831529911903184)\n",
      "    (embedding_dropout): Dropout(p=0.4569014376646053)\n",
      "  )\n",
      "  (out): Sequential(\n",
      "    (0): Linear(in_features=422, out_features=422, bias=True)\n",
      "    (1): BatchNorm1d(422, eps=1e-05, momentum=0.1, affine=True, track_running_stats=True)\n",
      "    (2): ReLU()\n",
      "    (3): Dropout(p=0.6142169819948097)\n",
      "    (4): Linear(in_features=422, out_features=1703, bias=True)\n",
      "  )\n",
      ")\n",
      "[2020-09-08 10:58:43,288][MainProcess][__main__][INFO] Epoch: 0\n",
      "[2020-09-08 10:58:43,288][MainProcess][__main__][INFO] Training...\n"
     ]
    },
    {
     "data": {
      "application/vnd.jupyter.widget-view+json": {
       "model_id": "b790e89af0df4916a32e6e820efa4492",
       "version_major": 2,
       "version_minor": 0
      },
      "text/plain": [
       "HBox(children=(IntProgress(value=0, max=2371), HTML(value='')))"
      ]
     },
     "metadata": {},
     "output_type": "display_data"
    },
    {
     "name": "stdout",
     "output_type": "stream",
     "text": [
      "\n",
      "[2020-09-08 10:59:11,870][MainProcess][lib.checkpoint][INFO] Saving checkpoint: ../../experiments/relation_classifier.09_08_10:23:25/2053.pt\n"
     ]
    },
    {
     "data": {
      "application/vnd.jupyter.widget-view+json": {
       "model_id": "1537fa678ee74ecd81de82da079c0dba",
       "version_major": 2,
       "version_minor": 0
      },
      "text/plain": [
       "HBox(children=(IntProgress(value=0, max=2), HTML(value='')))"
      ]
     },
     "metadata": {},
     "output_type": "display_data"
    },
    {
     "name": "stdout",
     "output_type": "stream",
     "text": [
      "\n",
      "[2020-09-08 10:59:14,464][MainProcess][__main__][INFO] NLLLoss: 5.620\n",
      "[2020-09-08 10:59:14,531][MainProcess][lib.metrics.accuracy][INFO] Accuracy: 0.0 [0 of 8192]\n"
     ]
    },
    {
     "name": "stderr",
     "output_type": "stream",
     "text": [
      "\r",
      "  8%|▊         | 75.55555555555567/1000.0 [26:40<6:44:15, 26.24s/it, min_score=-0, models_evaluated=0]"
     ]
    },
    {
     "name": "stdout",
     "output_type": "stream",
     "text": [
      "––––––––––––––––––––––––––––––––––––––––––––––––––––––––––––––––––––––––––––––––––––––––––––––––––––\n",
      "====================================================================================================\n",
      "[2020-09-08 10:59:14,592][MainProcess][lib.configurable][INFO] Checking configuration...\n",
      "[2020-09-08 10:59:14,593][MainProcess][lib.configurable][INFO] Configuration checked.\n",
      "[2020-09-08 10:59:14,594][MainProcess][lib.configurable][INFO] seq_to_label.SeqToLabel.__init__ was configured with:\n",
      "{   'bidirectional': True,\n",
      "    'decode_dropout': 0.4852628287543545,\n",
      "    'embedding_dropout': 0.6876934814477133,\n",
      "    'embedding_size': 300,\n",
      "    'freeze_embeddings': True,\n",
      "    'input_vocab_size': 6899,\n",
      "    'output_vocab_size': 1703,\n",
      "    'rnn_cell': 'gru',\n",
      "    'rnn_dropout': 0.24226764134759718,\n",
      "    'rnn_layers': 3,\n",
      "    'rnn_size': 248,\n",
      "    'rnn_variational_dropout': 0.1435586747685301}\n",
      "[2020-09-08 10:59:14,595][MainProcess][lib.configurable][INFO] seq_encoder.SeqEncoder.__init__ no config for: lib.nn.seq_encoder.SeqEncoder.__init__\n",
      "[2020-09-08 10:59:14,596][MainProcess][lib.configurable][INFO] seq_encoder.SeqEncoder.__init__ was configured with:\n",
      "{   'bidirectional': True,\n",
      "    'embedding_dropout': 0.6876934814477133,\n",
      "    'embedding_size': 300,\n",
      "    'freeze_embeddings': True,\n",
      "    'n_layers': 3,\n",
      "    'rnn_cell': 'gru',\n",
      "    'rnn_dropout': 0.24226764134759718,\n",
      "    'rnn_size': 248,\n",
      "    'rnn_variational_dropout': 0.1435586747685301,\n",
      "    'vocab_size': 6899}\n",
      "[2020-09-08 10:59:14,684][MainProcess][lib.configurable][INFO] adam.Adam.__init__ was configured with:\n",
      "{'amsgrad': True, 'params': <filter object at 0x7f8971819048>}\n",
      "[2020-09-08 10:59:14,685][MainProcess][lib.configurable][INFO] optimizer.Optimizer.__init__ was configured with:\n",
      "{   'max_grad_norm': 2.0263242432334425,\n",
      "    'optim': Adam (\n",
      "Parameter Group 0\n",
      "    amsgrad: True\n",
      "    betas: (0.9, 0.999)\n",
      "    eps: 1e-08\n",
      "    lr: 0.001\n",
      "    weight_decay: 0\n",
      ")}\n",
      "[2020-09-08 10:59:14,686][MainProcess][__main__][INFO] Epochs: 1\n",
      "[2020-09-08 10:59:14,687][MainProcess][__main__][INFO] Train Dataset Size: 75900\n",
      "[2020-09-08 10:59:14,687][MainProcess][__main__][INFO] Dev Dataset Size: 10845\n",
      "[2020-09-08 10:59:14,688][MainProcess][__main__][INFO] Train Batch Size: 32\n",
      "[2020-09-08 10:59:14,689][MainProcess][__main__][INFO] Train Max Batch Size: 1024\n",
      "[2020-09-08 10:59:14,690][MainProcess][__main__][INFO] Total Parameters: 1359751\n",
      "[2020-09-08 10:59:14,691][MainProcess][__main__][INFO] Model:\n",
      "SeqToLabel(\n",
      "  (encoder): SeqEncoder(\n",
      "    (embedding): Embedding(6899, 300, padding_idx=0)\n",
      "    (rnn): GRU(300, 124, num_layers=3, dropout=0.1435586747685301, bidirectional=True)\n",
      "    (rnn_dropout): LockedDropout(p=0.24226764134759718)\n",
      "    (embedding_dropout): Dropout(p=0.6876934814477133)\n",
      "  )\n",
      "  (out): Sequential(\n",
      "    (0): Linear(in_features=248, out_features=248, bias=True)\n",
      "    (1): BatchNorm1d(248, eps=1e-05, momentum=0.1, affine=True, track_running_stats=True)\n",
      "    (2): ReLU()\n",
      "    (3): Dropout(p=0.4852628287543545)\n",
      "    (4): Linear(in_features=248, out_features=1703, bias=True)\n",
      "  )\n",
      ")\n",
      "[2020-09-08 10:59:14,691][MainProcess][__main__][INFO] Epoch: 0\n",
      "[2020-09-08 10:59:14,692][MainProcess][__main__][INFO] Training...\n"
     ]
    },
    {
     "data": {
      "application/vnd.jupyter.widget-view+json": {
       "model_id": "90b07ff8f71348928136c8e69d7c5d04",
       "version_major": 2,
       "version_minor": 0
      },
      "text/plain": [
       "HBox(children=(IntProgress(value=0, max=2371), HTML(value='')))"
      ]
     },
     "metadata": {},
     "output_type": "display_data"
    },
    {
     "name": "stdout",
     "output_type": "stream",
     "text": [
      "\n",
      "[2020-09-08 10:59:42,284][MainProcess][lib.checkpoint][INFO] Saving checkpoint: ../../experiments/relation_classifier.09_08_10:23:25/2083.pt\n"
     ]
    },
    {
     "data": {
      "application/vnd.jupyter.widget-view+json": {
       "model_id": "f4d9255a47154aa8ba3b58e558d5c98a",
       "version_major": 2,
       "version_minor": 0
      },
      "text/plain": [
       "HBox(children=(IntProgress(value=0, max=2), HTML(value='')))"
      ]
     },
     "metadata": {},
     "output_type": "display_data"
    },
    {
     "name": "stdout",
     "output_type": "stream",
     "text": [
      "\n",
      "[2020-09-08 10:59:43,164][MainProcess][__main__][INFO] NLLLoss: 5.620\n",
      "[2020-09-08 10:59:43,231][MainProcess][lib.metrics.accuracy][INFO] Accuracy: 0.0 [0 of 8192]\n"
     ]
    },
    {
     "name": "stderr",
     "output_type": "stream",
     "text": [
      "\r",
      "  8%|▊         | 76.66666666666679/1000.0 [27:09<6:41:47, 26.11s/it, min_score=-0, models_evaluated=0]"
     ]
    },
    {
     "name": "stdout",
     "output_type": "stream",
     "text": [
      "––––––––––––––––––––––––––––––––––––––––––––––––––––––––––––––––––––––––––––––––––––––––––––––––––––\n",
      "====================================================================================================\n",
      "[2020-09-08 10:59:43,270][MainProcess][lib.configurable][INFO] Checking configuration...\n",
      "[2020-09-08 10:59:43,272][MainProcess][lib.configurable][INFO] Configuration checked.\n",
      "[2020-09-08 10:59:43,273][MainProcess][lib.configurable][INFO] seq_to_label.SeqToLabel.__init__ was configured with:\n",
      "{   'bidirectional': False,\n",
      "    'decode_dropout': 0.15898924501713552,\n",
      "    'embedding_dropout': 0.5656936927575474,\n",
      "    'embedding_size': 300,\n",
      "    'freeze_embeddings': True,\n",
      "    'input_vocab_size': 6899,\n",
      "    'output_vocab_size': 1703,\n",
      "    'rnn_cell': 'gru',\n",
      "    'rnn_dropout': 0.5730955016510523,\n",
      "    'rnn_layers': 2,\n",
      "    'rnn_size': 286,\n",
      "    'rnn_variational_dropout': 0.13258948996286013}\n",
      "[2020-09-08 10:59:43,274][MainProcess][lib.configurable][INFO] seq_encoder.SeqEncoder.__init__ no config for: lib.nn.seq_encoder.SeqEncoder.__init__\n",
      "[2020-09-08 10:59:43,275][MainProcess][lib.configurable][INFO] seq_encoder.SeqEncoder.__init__ was configured with:\n",
      "{   'bidirectional': False,\n",
      "    'embedding_dropout': 0.5656936927575474,\n",
      "    'embedding_size': 300,\n",
      "    'freeze_embeddings': True,\n",
      "    'n_layers': 2,\n",
      "    'rnn_cell': 'gru',\n",
      "    'rnn_dropout': 0.5730955016510523,\n",
      "    'rnn_size': 286,\n",
      "    'rnn_variational_dropout': 0.13258948996286013,\n",
      "    'vocab_size': 6899}\n",
      "[2020-09-08 10:59:43,334][MainProcess][lib.configurable][INFO] adam.Adam.__init__ was configured with:\n",
      "{'amsgrad': True, 'params': <filter object at 0x7f8971819048>}\n",
      "[2020-09-08 10:59:43,335][MainProcess][lib.configurable][INFO] optimizer.Optimizer.__init__ was configured with:\n",
      "{   'max_grad_norm': 0.8849266516528627,\n",
      "    'optim': Adam (\n",
      "Parameter Group 0\n",
      "    amsgrad: True\n",
      "    betas: (0.9, 0.999)\n",
      "    eps: 1e-08\n",
      "    lr: 0.001\n",
      "    weight_decay: 0\n",
      ")}\n",
      "[2020-09-08 10:59:43,336][MainProcess][__main__][INFO] Epochs: 1\n",
      "[2020-09-08 10:59:43,337][MainProcess][__main__][INFO] Train Dataset Size: 75900\n",
      "[2020-09-08 10:59:43,338][MainProcess][__main__][INFO] Dev Dataset Size: 10845\n",
      "[2020-09-08 10:59:43,338][MainProcess][__main__][INFO] Train Batch Size: 32\n",
      "[2020-09-08 10:59:43,339][MainProcess][__main__][INFO] Train Max Batch Size: 1024\n",
      "[2020-09-08 10:59:43,340][MainProcess][__main__][INFO] Total Parameters: 1568411\n",
      "[2020-09-08 10:59:43,341][MainProcess][__main__][INFO] Model:\n",
      "SeqToLabel(\n",
      "  (encoder): SeqEncoder(\n",
      "    (embedding): Embedding(6899, 300, padding_idx=0)\n",
      "    (rnn): GRU(300, 286, num_layers=2, dropout=0.13258948996286013)\n",
      "    (rnn_dropout): LockedDropout(p=0.5730955016510523)\n",
      "    (embedding_dropout): Dropout(p=0.5656936927575474)\n",
      "  )\n",
      "  (out): Sequential(\n",
      "    (0): Linear(in_features=286, out_features=286, bias=True)\n",
      "    (1): BatchNorm1d(286, eps=1e-05, momentum=0.1, affine=True, track_running_stats=True)\n",
      "    (2): ReLU()\n",
      "    (3): Dropout(p=0.15898924501713552)\n",
      "    (4): Linear(in_features=286, out_features=1703, bias=True)\n",
      "  )\n",
      ")\n",
      "[2020-09-08 10:59:43,342][MainProcess][__main__][INFO] Epoch: 0\n",
      "[2020-09-08 10:59:43,342][MainProcess][__main__][INFO] Training...\n"
     ]
    },
    {
     "data": {
      "application/vnd.jupyter.widget-view+json": {
       "model_id": "1f071a5b8bfa4b289838820e3dbf326d",
       "version_major": 2,
       "version_minor": 0
      },
      "text/plain": [
       "HBox(children=(IntProgress(value=0, max=2371), HTML(value='')))"
      ]
     },
     "metadata": {},
     "output_type": "display_data"
    },
    {
     "name": "stdout",
     "output_type": "stream",
     "text": [
      "\n",
      "[2020-09-08 10:59:59,265][MainProcess][lib.checkpoint][INFO] Saving checkpoint: ../../experiments/relation_classifier.09_08_10:23:25/2100.pt\n"
     ]
    },
    {
     "data": {
      "application/vnd.jupyter.widget-view+json": {
       "model_id": "5358fb19666e44c2ab4c187e9f1a1e53",
       "version_major": 2,
       "version_minor": 0
      },
      "text/plain": [
       "HBox(children=(IntProgress(value=0, max=2), HTML(value='')))"
      ]
     },
     "metadata": {},
     "output_type": "display_data"
    },
    {
     "name": "stdout",
     "output_type": "stream",
     "text": [
      "\n",
      "[2020-09-08 11:00:00,262][MainProcess][__main__][INFO] NLLLoss: 5.620\n",
      "[2020-09-08 11:00:00,328][MainProcess][lib.metrics.accuracy][INFO] Accuracy: 0.0 [0 of 8192]\n"
     ]
    },
    {
     "name": "stderr",
     "output_type": "stream",
     "text": [
      "\r",
      "  8%|▊         | 77.7777777777779/1000.0 [27:26<5:51:52, 22.89s/it, min_score=-0, models_evaluated=0] "
     ]
    },
    {
     "name": "stdout",
     "output_type": "stream",
     "text": [
      "––––––––––––––––––––––––––––––––––––––––––––––––––––––––––––––––––––––––––––––––––––––––––––––––––––\n",
      "====================================================================================================\n",
      "[2020-09-08 11:00:00,368][MainProcess][lib.configurable][INFO] Checking configuration...\n",
      "[2020-09-08 11:00:00,369][MainProcess][lib.configurable][INFO] Configuration checked.\n",
      "[2020-09-08 11:00:00,370][MainProcess][lib.configurable][INFO] seq_to_label.SeqToLabel.__init__ was configured with:\n",
      "{   'bidirectional': False,\n",
      "    'decode_dropout': 0.3530497969201162,\n",
      "    'embedding_dropout': 0.47783143312997445,\n",
      "    'embedding_size': 300,\n",
      "    'freeze_embeddings': True,\n",
      "    'input_vocab_size': 6899,\n",
      "    'output_vocab_size': 1703,\n",
      "    'rnn_cell': 'gru',\n",
      "    'rnn_dropout': 0.2330694303545841,\n",
      "    'rnn_layers': 3,\n",
      "    'rnn_size': 254,\n",
      "    'rnn_variational_dropout': 0.20300303165624592}\n",
      "[2020-09-08 11:00:00,371][MainProcess][lib.configurable][INFO] seq_encoder.SeqEncoder.__init__ no config for: lib.nn.seq_encoder.SeqEncoder.__init__\n",
      "[2020-09-08 11:00:00,372][MainProcess][lib.configurable][INFO] seq_encoder.SeqEncoder.__init__ was configured with:\n",
      "{   'bidirectional': False,\n",
      "    'embedding_dropout': 0.47783143312997445,\n",
      "    'embedding_size': 300,\n",
      "    'freeze_embeddings': True,\n",
      "    'n_layers': 3,\n",
      "    'rnn_cell': 'gru',\n",
      "    'rnn_dropout': 0.2330694303545841,\n",
      "    'rnn_size': 254,\n",
      "    'rnn_variational_dropout': 0.20300303165624592,\n",
      "    'vocab_size': 6899}\n",
      "[2020-09-08 11:00:00,435][MainProcess][lib.configurable][INFO] adam.Adam.__init__ was configured with:\n",
      "{'amsgrad': True, 'params': <filter object at 0x7f8965d41630>}\n",
      "[2020-09-08 11:00:00,436][MainProcess][lib.configurable][INFO] optimizer.Optimizer.__init__ was configured with:\n",
      "{   'max_grad_norm': 2.560180457777772,\n",
      "    'optim': Adam (\n",
      "Parameter Group 0\n",
      "    amsgrad: True\n",
      "    betas: (0.9, 0.999)\n",
      "    eps: 1e-08\n",
      "    lr: 0.001\n",
      "    weight_decay: 0\n",
      ")}\n",
      "[2020-09-08 11:00:00,437][MainProcess][__main__][INFO] Epochs: 1\n",
      "[2020-09-08 11:00:00,438][MainProcess][__main__][INFO] Train Dataset Size: 75900\n",
      "[2020-09-08 11:00:00,439][MainProcess][__main__][INFO] Dev Dataset Size: 10845\n",
      "[2020-09-08 11:00:00,439][MainProcess][__main__][INFO] Train Batch Size: 32\n",
      "[2020-09-08 11:00:00,440][MainProcess][__main__][INFO] Train Max Batch Size: 1024\n",
      "[2020-09-08 11:00:00,441][MainProcess][__main__][INFO] Total Parameters: 1700455\n",
      "[2020-09-08 11:00:00,442][MainProcess][__main__][INFO] Model:\n",
      "SeqToLabel(\n",
      "  (encoder): SeqEncoder(\n",
      "    (embedding): Embedding(6899, 300, padding_idx=0)\n",
      "    (rnn): GRU(300, 254, num_layers=3, dropout=0.20300303165624592)\n",
      "    (rnn_dropout): LockedDropout(p=0.2330694303545841)\n",
      "    (embedding_dropout): Dropout(p=0.47783143312997445)\n",
      "  )\n",
      "  (out): Sequential(\n",
      "    (0): Linear(in_features=254, out_features=254, bias=True)\n",
      "    (1): BatchNorm1d(254, eps=1e-05, momentum=0.1, affine=True, track_running_stats=True)\n",
      "    (2): ReLU()\n",
      "    (3): Dropout(p=0.3530497969201162)\n",
      "    (4): Linear(in_features=254, out_features=1703, bias=True)\n",
      "  )\n",
      ")\n",
      "[2020-09-08 11:00:00,442][MainProcess][__main__][INFO] Epoch: 0\n",
      "[2020-09-08 11:00:00,443][MainProcess][__main__][INFO] Training...\n"
     ]
    },
    {
     "data": {
      "application/vnd.jupyter.widget-view+json": {
       "model_id": "f3bcc4ae478b4fe2b0b245d3bd7486c2",
       "version_major": 2,
       "version_minor": 0
      },
      "text/plain": [
       "HBox(children=(IntProgress(value=0, max=2371), HTML(value='')))"
      ]
     },
     "metadata": {},
     "output_type": "display_data"
    },
    {
     "name": "stdout",
     "output_type": "stream",
     "text": [
      "\n",
      "[2020-09-08 11:00:20,961][MainProcess][lib.checkpoint][INFO] Saving checkpoint: ../../experiments/relation_classifier.09_08_10:23:25/2122.pt\n"
     ]
    },
    {
     "data": {
      "application/vnd.jupyter.widget-view+json": {
       "model_id": "473ba16ea9e54e79a43c211677ed97ef",
       "version_major": 2,
       "version_minor": 0
      },
      "text/plain": [
       "HBox(children=(IntProgress(value=0, max=2), HTML(value='')))"
      ]
     },
     "metadata": {},
     "output_type": "display_data"
    },
    {
     "name": "stdout",
     "output_type": "stream",
     "text": [
      "\n",
      "[2020-09-08 11:00:22,264][MainProcess][__main__][INFO] NLLLoss: 5.620\n",
      "[2020-09-08 11:00:22,360][MainProcess][lib.metrics.accuracy][INFO] Accuracy: 0.0 [0 of 8192]\n"
     ]
    },
    {
     "name": "stderr",
     "output_type": "stream",
     "text": [
      "\r",
      "  8%|▊         | 78.88888888888901/1000.0 [27:48<5:37:20, 21.97s/it, min_score=-0, models_evaluated=0]"
     ]
    },
    {
     "name": "stdout",
     "output_type": "stream",
     "text": [
      "––––––––––––––––––––––––––––––––––––––––––––––––––––––––––––––––––––––––––––––––––––––––––––––––––––\n",
      "====================================================================================================\n",
      "[2020-09-08 11:00:22,402][MainProcess][lib.configurable][INFO] Checking configuration...\n",
      "[2020-09-08 11:00:22,403][MainProcess][lib.configurable][INFO] Configuration checked.\n",
      "[2020-09-08 11:00:22,405][MainProcess][lib.configurable][INFO] seq_to_label.SeqToLabel.__init__ was configured with:\n",
      "{   'bidirectional': False,\n",
      "    'decode_dropout': 0.3739541855781824,\n",
      "    'embedding_dropout': 0.36704722700816544,\n",
      "    'embedding_size': 300,\n",
      "    'freeze_embeddings': False,\n",
      "    'input_vocab_size': 6899,\n",
      "    'output_vocab_size': 1703,\n",
      "    'rnn_cell': 'lstm',\n",
      "    'rnn_dropout': 0.4101965741079075,\n",
      "    'rnn_layers': 3,\n",
      "    'rnn_size': 324,\n",
      "    'rnn_variational_dropout': 0.2979465840609326}\n",
      "[2020-09-08 11:00:22,406][MainProcess][lib.configurable][INFO] seq_encoder.SeqEncoder.__init__ no config for: lib.nn.seq_encoder.SeqEncoder.__init__\n",
      "[2020-09-08 11:00:22,407][MainProcess][lib.configurable][INFO] seq_encoder.SeqEncoder.__init__ was configured with:\n",
      "{   'bidirectional': False,\n",
      "    'embedding_dropout': 0.36704722700816544,\n",
      "    'embedding_size': 300,\n",
      "    'freeze_embeddings': False,\n",
      "    'n_layers': 3,\n",
      "    'rnn_cell': 'lstm',\n",
      "    'rnn_dropout': 0.4101965741079075,\n",
      "    'rnn_size': 324,\n",
      "    'rnn_variational_dropout': 0.2979465840609326,\n",
      "    'vocab_size': 6899}\n",
      "[2020-09-08 11:00:22,488][MainProcess][lib.configurable][INFO] adam.Adam.__init__ was configured with:\n",
      "{'amsgrad': True, 'params': <filter object at 0x7f8971819048>}\n",
      "[2020-09-08 11:00:22,489][MainProcess][lib.configurable][INFO] optimizer.Optimizer.__init__ was configured with:\n",
      "{   'max_grad_norm': 2.1131772593008495,\n",
      "    'optim': Adam (\n",
      "Parameter Group 0\n",
      "    amsgrad: True\n",
      "    betas: (0.9, 0.999)\n",
      "    eps: 1e-08\n",
      "    lr: 0.001\n",
      "    weight_decay: 0\n",
      ")}\n",
      "[2020-09-08 11:00:22,490][MainProcess][__main__][INFO] Epochs: 1\n",
      "[2020-09-08 11:00:22,491][MainProcess][__main__][INFO] Train Dataset Size: 75900\n",
      "[2020-09-08 11:00:22,492][MainProcess][__main__][INFO] Dev Dataset Size: 10845\n",
      "[2020-09-08 11:00:22,493][MainProcess][__main__][INFO] Train Batch Size: 32\n",
      "[2020-09-08 11:00:22,494][MainProcess][__main__][INFO] Train Max Batch Size: 1024\n",
      "[2020-09-08 11:00:22,495][MainProcess][__main__][INFO] Total Parameters: 5225219\n",
      "[2020-09-08 11:00:22,496][MainProcess][__main__][INFO] Model:\n",
      "SeqToLabel(\n",
      "  (encoder): SeqEncoder(\n",
      "    (embedding): Embedding(6899, 300, padding_idx=0)\n",
      "    (rnn): LSTM(300, 324, num_layers=3, dropout=0.2979465840609326)\n",
      "    (rnn_dropout): LockedDropout(p=0.4101965741079075)\n",
      "    (embedding_dropout): Dropout(p=0.36704722700816544)\n",
      "  )\n",
      "  (out): Sequential(\n",
      "    (0): Linear(in_features=324, out_features=324, bias=True)\n",
      "    (1): BatchNorm1d(324, eps=1e-05, momentum=0.1, affine=True, track_running_stats=True)\n",
      "    (2): ReLU()\n",
      "    (3): Dropout(p=0.3739541855781824)\n",
      "    (4): Linear(in_features=324, out_features=1703, bias=True)\n",
      "  )\n",
      ")\n",
      "[2020-09-08 11:00:22,497][MainProcess][__main__][INFO] Epoch: 0\n",
      "[2020-09-08 11:00:22,497][MainProcess][__main__][INFO] Training...\n"
     ]
    },
    {
     "data": {
      "application/vnd.jupyter.widget-view+json": {
       "model_id": "969860582b6b4beba5b7dcfd89150bdb",
       "version_major": 2,
       "version_minor": 0
      },
      "text/plain": [
       "HBox(children=(IntProgress(value=0, max=2371), HTML(value='')))"
      ]
     },
     "metadata": {},
     "output_type": "display_data"
    },
    {
     "name": "stdout",
     "output_type": "stream",
     "text": [
      "\n",
      "[2020-09-08 11:00:48,526][MainProcess][lib.checkpoint][INFO] Saving checkpoint: ../../experiments/relation_classifier.09_08_10:23:25/2150.pt\n"
     ]
    },
    {
     "data": {
      "application/vnd.jupyter.widget-view+json": {
       "model_id": "018210e8943842f38940133eb72b1b5e",
       "version_major": 2,
       "version_minor": 0
      },
      "text/plain": [
       "HBox(children=(IntProgress(value=0, max=2), HTML(value='')))"
      ]
     },
     "metadata": {},
     "output_type": "display_data"
    },
    {
     "name": "stdout",
     "output_type": "stream",
     "text": [
      "\n",
      "[2020-09-08 11:00:50,340][MainProcess][__main__][INFO] NLLLoss: 5.620\n",
      "[2020-09-08 11:00:50,439][MainProcess][lib.metrics.accuracy][INFO] Accuracy: 0.0 [0 of 8192]\n"
     ]
    },
    {
     "name": "stderr",
     "output_type": "stream",
     "text": [
      "\r",
      "  8%|▊         | 80.00000000000013/1000.0 [28:16<5:52:07, 22.97s/it, min_score=-0, models_evaluated=0]"
     ]
    },
    {
     "name": "stdout",
     "output_type": "stream",
     "text": [
      "––––––––––––––––––––––––––––––––––––––––––––––––––––––––––––––––––––––––––––––––––––––––––––––––––––\n",
      "====================================================================================================\n",
      "[2020-09-08 11:00:50,488][MainProcess][lib.configurable][INFO] Checking configuration...\n",
      "[2020-09-08 11:00:50,489][MainProcess][lib.configurable][INFO] Configuration checked.\n",
      "[2020-09-08 11:00:50,490][MainProcess][lib.configurable][INFO] seq_to_label.SeqToLabel.__init__ was configured with:\n",
      "{   'bidirectional': True,\n",
      "    'decode_dropout': 0.14679735614982523,\n",
      "    'embedding_dropout': 0.8711034414843462,\n",
      "    'embedding_size': 300,\n",
      "    'freeze_embeddings': False,\n",
      "    'input_vocab_size': 6899,\n",
      "    'output_vocab_size': 1703,\n",
      "    'rnn_cell': 'lstm',\n",
      "    'rnn_dropout': 0.6762942176510423,\n",
      "    'rnn_layers': 2,\n",
      "    'rnn_size': 240,\n",
      "    'rnn_variational_dropout': 0.4285424591506035}\n",
      "[2020-09-08 11:00:50,491][MainProcess][lib.configurable][INFO] seq_encoder.SeqEncoder.__init__ no config for: lib.nn.seq_encoder.SeqEncoder.__init__\n",
      "[2020-09-08 11:00:50,493][MainProcess][lib.configurable][INFO] seq_encoder.SeqEncoder.__init__ was configured with:\n",
      "{   'bidirectional': True,\n",
      "    'embedding_dropout': 0.8711034414843462,\n",
      "    'embedding_size': 300,\n",
      "    'freeze_embeddings': False,\n",
      "    'n_layers': 2,\n",
      "    'rnn_cell': 'lstm',\n",
      "    'rnn_dropout': 0.6762942176510423,\n",
      "    'rnn_size': 240,\n",
      "    'rnn_variational_dropout': 0.4285424591506035,\n",
      "    'vocab_size': 6899}\n",
      "[2020-09-08 11:00:50,558][MainProcess][lib.configurable][INFO] adam.Adam.__init__ was configured with:\n",
      "{'amsgrad': True, 'params': <filter object at 0x7f8965d41630>}\n",
      "[2020-09-08 11:00:50,559][MainProcess][lib.configurable][INFO] optimizer.Optimizer.__init__ was configured with:\n",
      "{   'max_grad_norm': 1.5402736531768377,\n",
      "    'optim': Adam (\n",
      "Parameter Group 0\n",
      "    amsgrad: True\n",
      "    betas: (0.9, 0.999)\n",
      "    eps: 1e-08\n",
      "    lr: 0.001\n",
      "    weight_decay: 0\n",
      ")}\n",
      "[2020-09-08 11:00:50,560][MainProcess][__main__][INFO] Epochs: 1\n",
      "[2020-09-08 11:00:50,560][MainProcess][__main__][INFO] Train Dataset Size: 75900\n",
      "[2020-09-08 11:00:50,561][MainProcess][__main__][INFO] Dev Dataset Size: 10845\n",
      "[2020-09-08 11:00:50,562][MainProcess][__main__][INFO] Train Batch Size: 32\n",
      "[2020-09-08 11:00:50,563][MainProcess][__main__][INFO] Train Max Batch Size: 1024\n",
      "[2020-09-08 11:00:50,564][MainProcess][__main__][INFO] Total Parameters: 3291083\n",
      "[2020-09-08 11:00:50,565][MainProcess][__main__][INFO] Model:\n",
      "SeqToLabel(\n",
      "  (encoder): SeqEncoder(\n",
      "    (embedding): Embedding(6899, 300, padding_idx=0)\n",
      "    (rnn): LSTM(300, 120, num_layers=2, dropout=0.4285424591506035, bidirectional=True)\n",
      "    (rnn_dropout): LockedDropout(p=0.6762942176510423)\n",
      "    (embedding_dropout): Dropout(p=0.8711034414843462)\n",
      "  )\n",
      "  (out): Sequential(\n",
      "    (0): Linear(in_features=240, out_features=240, bias=True)\n",
      "    (1): BatchNorm1d(240, eps=1e-05, momentum=0.1, affine=True, track_running_stats=True)\n",
      "    (2): ReLU()\n",
      "    (3): Dropout(p=0.14679735614982523)\n",
      "    (4): Linear(in_features=240, out_features=1703, bias=True)\n",
      "  )\n",
      ")\n",
      "[2020-09-08 11:00:50,565][MainProcess][__main__][INFO] Epoch: 0\n",
      "[2020-09-08 11:00:50,566][MainProcess][__main__][INFO] Training...\n"
     ]
    },
    {
     "data": {
      "application/vnd.jupyter.widget-view+json": {
       "model_id": "6705c81889884642bdf1fad74fea0c85",
       "version_major": 2,
       "version_minor": 0
      },
      "text/plain": [
       "HBox(children=(IntProgress(value=0, max=2371), HTML(value='')))"
      ]
     },
     "metadata": {},
     "output_type": "display_data"
    },
    {
     "name": "stdout",
     "output_type": "stream",
     "text": [
      "\n",
      "[2020-09-08 11:01:17,603][MainProcess][lib.checkpoint][INFO] Saving checkpoint: ../../experiments/relation_classifier.09_08_10:23:25/2179.pt\n"
     ]
    },
    {
     "data": {
      "application/vnd.jupyter.widget-view+json": {
       "model_id": "a23db54b2cd5419f904965c320ee5bdb",
       "version_major": 2,
       "version_minor": 0
      },
      "text/plain": [
       "HBox(children=(IntProgress(value=0, max=2), HTML(value='')))"
      ]
     },
     "metadata": {},
     "output_type": "display_data"
    },
    {
     "name": "stdout",
     "output_type": "stream",
     "text": [
      "\n",
      "[2020-09-08 11:01:18,826][MainProcess][__main__][INFO] NLLLoss: 5.620\n",
      "[2020-09-08 11:01:18,924][MainProcess][lib.metrics.accuracy][INFO] Accuracy: 0.0 [0 of 8192]\n"
     ]
    },
    {
     "name": "stderr",
     "output_type": "stream",
     "text": [
      "\r",
      "  8%|▊         | 81.11111111111124/1000.0 [28:45<6:03:56, 23.76s/it, min_score=-0, models_evaluated=0]"
     ]
    },
    {
     "name": "stdout",
     "output_type": "stream",
     "text": [
      "––––––––––––––––––––––––––––––––––––––––––––––––––––––––––––––––––––––––––––––––––––––––––––––––––––\n",
      "====================================================================================================\n",
      "[2020-09-08 11:01:18,964][MainProcess][lib.configurable][INFO] Checking configuration...\n",
      "[2020-09-08 11:01:18,965][MainProcess][lib.configurable][INFO] Configuration checked.\n",
      "[2020-09-08 11:01:18,966][MainProcess][lib.configurable][INFO] seq_to_label.SeqToLabel.__init__ was configured with:\n",
      "{   'bidirectional': False,\n",
      "    'decode_dropout': 0.855638969950517,\n",
      "    'embedding_dropout': 0.4584075211612793,\n",
      "    'embedding_size': 300,\n",
      "    'freeze_embeddings': True,\n",
      "    'input_vocab_size': 6899,\n",
      "    'output_vocab_size': 1703,\n",
      "    'rnn_cell': 'lstm',\n",
      "    'rnn_dropout': 0.10493089439535516,\n",
      "    'rnn_layers': 2,\n",
      "    'rnn_size': 326,\n",
      "    'rnn_variational_dropout': 0.20252872401835387}\n",
      "[2020-09-08 11:01:18,967][MainProcess][lib.configurable][INFO] seq_encoder.SeqEncoder.__init__ no config for: lib.nn.seq_encoder.SeqEncoder.__init__\n",
      "[2020-09-08 11:01:18,968][MainProcess][lib.configurable][INFO] seq_encoder.SeqEncoder.__init__ was configured with:\n",
      "{   'bidirectional': False,\n",
      "    'embedding_dropout': 0.4584075211612793,\n",
      "    'embedding_size': 300,\n",
      "    'freeze_embeddings': True,\n",
      "    'n_layers': 2,\n",
      "    'rnn_cell': 'lstm',\n",
      "    'rnn_dropout': 0.10493089439535516,\n",
      "    'rnn_size': 326,\n",
      "    'rnn_variational_dropout': 0.20252872401835387,\n",
      "    'vocab_size': 6899}\n",
      "[2020-09-08 11:01:19,040][MainProcess][lib.configurable][INFO] adam.Adam.__init__ was configured with:\n",
      "{'amsgrad': True, 'params': <filter object at 0x7f8965d41630>}\n",
      "[2020-09-08 11:01:19,041][MainProcess][lib.configurable][INFO] optimizer.Optimizer.__init__ was configured with:\n",
      "{   'max_grad_norm': 4.036365936649977,\n",
      "    'optim': Adam (\n",
      "Parameter Group 0\n",
      "    amsgrad: True\n",
      "    betas: (0.9, 0.999)\n",
      "    eps: 1e-08\n",
      "    lr: 0.001\n",
      "    weight_decay: 0\n",
      ")}\n",
      "[2020-09-08 11:01:19,042][MainProcess][__main__][INFO] Epochs: 1\n",
      "[2020-09-08 11:01:19,043][MainProcess][__main__][INFO] Train Dataset Size: 75900\n",
      "[2020-09-08 11:01:19,044][MainProcess][__main__][INFO] Dev Dataset Size: 10845\n",
      "[2020-09-08 11:01:19,044][MainProcess][__main__][INFO] Train Batch Size: 32\n",
      "[2020-09-08 11:01:19,045][MainProcess][__main__][INFO] Train Max Batch Size: 1024\n",
      "[2020-09-08 11:01:19,046][MainProcess][__main__][INFO] Total Parameters: 2335863\n",
      "[2020-09-08 11:01:19,047][MainProcess][__main__][INFO] Model:\n",
      "SeqToLabel(\n",
      "  (encoder): SeqEncoder(\n",
      "    (embedding): Embedding(6899, 300, padding_idx=0)\n",
      "    (rnn): LSTM(300, 326, num_layers=2, dropout=0.20252872401835387)\n",
      "    (rnn_dropout): LockedDropout(p=0.10493089439535516)\n",
      "    (embedding_dropout): Dropout(p=0.4584075211612793)\n",
      "  )\n",
      "  (out): Sequential(\n",
      "    (0): Linear(in_features=326, out_features=326, bias=True)\n",
      "    (1): BatchNorm1d(326, eps=1e-05, momentum=0.1, affine=True, track_running_stats=True)\n",
      "    (2): ReLU()\n",
      "    (3): Dropout(p=0.855638969950517)\n",
      "    (4): Linear(in_features=326, out_features=1703, bias=True)\n",
      "  )\n",
      ")\n",
      "[2020-09-08 11:01:19,048][MainProcess][__main__][INFO] Epoch: 0\n",
      "[2020-09-08 11:01:19,048][MainProcess][__main__][INFO] Training...\n"
     ]
    },
    {
     "data": {
      "application/vnd.jupyter.widget-view+json": {
       "model_id": "b5fa763ebbc04c479fcdad0ea28cdb79",
       "version_major": 2,
       "version_minor": 0
      },
      "text/plain": [
       "HBox(children=(IntProgress(value=0, max=2371), HTML(value='')))"
      ]
     },
     "metadata": {},
     "output_type": "display_data"
    },
    {
     "name": "stdout",
     "output_type": "stream",
     "text": [
      "\n",
      "[2020-09-08 11:01:38,324][MainProcess][lib.checkpoint][INFO] Saving checkpoint: ../../experiments/relation_classifier.09_08_10:23:25/2199.pt\n"
     ]
    },
    {
     "data": {
      "application/vnd.jupyter.widget-view+json": {
       "model_id": "a7793dd172b34073b30b449fce81bff6",
       "version_major": 2,
       "version_minor": 0
      },
      "text/plain": [
       "HBox(children=(IntProgress(value=0, max=2), HTML(value='')))"
      ]
     },
     "metadata": {},
     "output_type": "display_data"
    },
    {
     "name": "stdout",
     "output_type": "stream",
     "text": [
      "\n",
      "[2020-09-08 11:01:39,959][MainProcess][__main__][INFO] NLLLoss: 5.620\n",
      "[2020-09-08 11:01:40,059][MainProcess][lib.metrics.accuracy][INFO] Accuracy: 0.0 [0 of 8192]\n"
     ]
    },
    {
     "name": "stderr",
     "output_type": "stream",
     "text": [
      "\r",
      "  8%|▊         | 82.22222222222236/1000.0 [29:06<5:41:44, 22.34s/it, min_score=-0, models_evaluated=0]"
     ]
    },
    {
     "name": "stdout",
     "output_type": "stream",
     "text": [
      "––––––––––––––––––––––––––––––––––––––––––––––––––––––––––––––––––––––––––––––––––––––––––––––––––––\n",
      "====================================================================================================\n",
      "[2020-09-08 11:01:40,100][MainProcess][lib.configurable][INFO] Checking configuration...\n",
      "[2020-09-08 11:01:40,102][MainProcess][lib.configurable][INFO] Configuration checked.\n",
      "[2020-09-08 11:01:40,103][MainProcess][lib.configurable][INFO] seq_to_label.SeqToLabel.__init__ was configured with:\n",
      "{   'bidirectional': True,\n",
      "    'decode_dropout': 0.5425964286772788,\n",
      "    'embedding_dropout': 0.8091877890272742,\n",
      "    'embedding_size': 300,\n",
      "    'freeze_embeddings': True,\n",
      "    'input_vocab_size': 6899,\n",
      "    'output_vocab_size': 1703,\n",
      "    'rnn_cell': 'gru',\n",
      "    'rnn_dropout': 0.6379867723472259,\n",
      "    'rnn_layers': 2,\n",
      "    'rnn_size': 116,\n",
      "    'rnn_variational_dropout': 0.21293521018240352}\n",
      "[2020-09-08 11:01:40,104][MainProcess][lib.configurable][INFO] seq_encoder.SeqEncoder.__init__ no config for: lib.nn.seq_encoder.SeqEncoder.__init__\n",
      "[2020-09-08 11:01:40,105][MainProcess][lib.configurable][INFO] seq_encoder.SeqEncoder.__init__ was configured with:\n",
      "{   'bidirectional': True,\n",
      "    'embedding_dropout': 0.8091877890272742,\n",
      "    'embedding_size': 300,\n",
      "    'freeze_embeddings': True,\n",
      "    'n_layers': 2,\n",
      "    'rnn_cell': 'gru',\n",
      "    'rnn_dropout': 0.6379867723472259,\n",
      "    'rnn_size': 116,\n",
      "    'rnn_variational_dropout': 0.21293521018240352,\n",
      "    'vocab_size': 6899}\n",
      "[2020-09-08 11:01:40,154][MainProcess][lib.configurable][INFO] adam.Adam.__init__ was configured with:\n",
      "{'amsgrad': True, 'params': <filter object at 0x7f89641775c0>}\n",
      "[2020-09-08 11:01:40,155][MainProcess][lib.configurable][INFO] optimizer.Optimizer.__init__ was configured with:\n",
      "{   'max_grad_norm': 4.953817397798188,\n",
      "    'optim': Adam (\n",
      "Parameter Group 0\n",
      "    amsgrad: True\n",
      "    betas: (0.9, 0.999)\n",
      "    eps: 1e-08\n",
      "    lr: 0.001\n",
      "    weight_decay: 0\n",
      ")}\n",
      "[2020-09-08 11:01:40,156][MainProcess][__main__][INFO] Epochs: 1\n",
      "[2020-09-08 11:01:40,156][MainProcess][__main__][INFO] Train Dataset Size: 75900\n",
      "[2020-09-08 11:01:40,157][MainProcess][__main__][INFO] Dev Dataset Size: 10845\n",
      "[2020-09-08 11:01:40,158][MainProcess][__main__][INFO] Train Batch Size: 32\n",
      "[2020-09-08 11:01:40,160][MainProcess][__main__][INFO] Train Max Batch Size: 1024\n",
      "[2020-09-08 11:01:40,161][MainProcess][__main__][INFO] Total Parameters: 399583\n",
      "[2020-09-08 11:01:40,161][MainProcess][__main__][INFO] Model:\n",
      "SeqToLabel(\n",
      "  (encoder): SeqEncoder(\n",
      "    (embedding): Embedding(6899, 300, padding_idx=0)\n",
      "    (rnn): GRU(300, 58, num_layers=2, dropout=0.21293521018240352, bidirectional=True)\n",
      "    (rnn_dropout): LockedDropout(p=0.6379867723472259)\n",
      "    (embedding_dropout): Dropout(p=0.8091877890272742)\n",
      "  )\n",
      "  (out): Sequential(\n",
      "    (0): Linear(in_features=116, out_features=116, bias=True)\n",
      "    (1): BatchNorm1d(116, eps=1e-05, momentum=0.1, affine=True, track_running_stats=True)\n",
      "    (2): ReLU()\n",
      "    (3): Dropout(p=0.5425964286772788)\n",
      "    (4): Linear(in_features=116, out_features=1703, bias=True)\n",
      "  )\n",
      ")\n",
      "[2020-09-08 11:01:40,162][MainProcess][__main__][INFO] Epoch: 0\n",
      "[2020-09-08 11:01:40,163][MainProcess][__main__][INFO] Training...\n"
     ]
    },
    {
     "data": {
      "application/vnd.jupyter.widget-view+json": {
       "model_id": "44bc5b6e58b54463a3ccb01a3ce4210f",
       "version_major": 2,
       "version_minor": 0
      },
      "text/plain": [
       "HBox(children=(IntProgress(value=0, max=2371), HTML(value='')))"
      ]
     },
     "metadata": {},
     "output_type": "display_data"
    },
    {
     "name": "stdout",
     "output_type": "stream",
     "text": [
      "\n",
      "[2020-09-08 11:02:05,308][MainProcess][lib.checkpoint][INFO] Saving checkpoint: ../../experiments/relation_classifier.09_08_10:23:25/2226.pt\n"
     ]
    },
    {
     "data": {
      "application/vnd.jupyter.widget-view+json": {
       "model_id": "e064449b760546b0a755915758721bd0",
       "version_major": 2,
       "version_minor": 0
      },
      "text/plain": [
       "HBox(children=(IntProgress(value=0, max=2), HTML(value='')))"
      ]
     },
     "metadata": {},
     "output_type": "display_data"
    },
    {
     "name": "stdout",
     "output_type": "stream",
     "text": [
      "\n",
      "[2020-09-08 11:02:05,993][MainProcess][__main__][INFO] NLLLoss: 5.620\n",
      "[2020-09-08 11:02:06,089][MainProcess][lib.metrics.accuracy][INFO] Accuracy: 0.0 [0 of 8192]\n"
     ]
    },
    {
     "name": "stderr",
     "output_type": "stream",
     "text": [
      "\r",
      "  8%|▊         | 83.33333333333347/1000.0 [29:32<5:46:16, 22.66s/it, min_score=-0, models_evaluated=0]"
     ]
    },
    {
     "name": "stdout",
     "output_type": "stream",
     "text": [
      "––––––––––––––––––––––––––––––––––––––––––––––––––––––––––––––––––––––––––––––––––––––––––––––––––––\n",
      "====================================================================================================\n",
      "[2020-09-08 11:02:06,121][MainProcess][lib.configurable][INFO] Checking configuration...\n",
      "[2020-09-08 11:02:06,122][MainProcess][lib.configurable][INFO] Configuration checked.\n",
      "[2020-09-08 11:02:06,123][MainProcess][lib.configurable][INFO] seq_to_label.SeqToLabel.__init__ was configured with:\n",
      "{   'bidirectional': False,\n",
      "    'decode_dropout': 0.2062594354837608,\n",
      "    'embedding_dropout': 0.8624815743949615,\n",
      "    'embedding_size': 300,\n",
      "    'freeze_embeddings': True,\n",
      "    'input_vocab_size': 6899,\n",
      "    'output_vocab_size': 1703,\n",
      "    'rnn_cell': 'gru',\n",
      "    'rnn_dropout': 0.20350470667860712,\n",
      "    'rnn_layers': 3,\n",
      "    'rnn_size': 488,\n",
      "    'rnn_variational_dropout': 0.18910204864128097}\n",
      "[2020-09-08 11:02:06,124][MainProcess][lib.configurable][INFO] seq_encoder.SeqEncoder.__init__ no config for: lib.nn.seq_encoder.SeqEncoder.__init__\n",
      "[2020-09-08 11:02:06,125][MainProcess][lib.configurable][INFO] seq_encoder.SeqEncoder.__init__ was configured with:\n",
      "{   'bidirectional': False,\n",
      "    'embedding_dropout': 0.8624815743949615,\n",
      "    'embedding_size': 300,\n",
      "    'freeze_embeddings': True,\n",
      "    'n_layers': 3,\n",
      "    'rnn_cell': 'gru',\n",
      "    'rnn_dropout': 0.20350470667860712,\n",
      "    'rnn_size': 488,\n",
      "    'rnn_variational_dropout': 0.18910204864128097,\n",
      "    'vocab_size': 6899}\n",
      "[2020-09-08 11:02:06,234][MainProcess][lib.configurable][INFO] adam.Adam.__init__ was configured with:\n",
      "{'amsgrad': True, 'params': <filter object at 0x7f89646d0278>}\n",
      "[2020-09-08 11:02:06,235][MainProcess][lib.configurable][INFO] optimizer.Optimizer.__init__ was configured with:\n",
      "{   'max_grad_norm': 0.9712275749695223,\n",
      "    'optim': Adam (\n",
      "Parameter Group 0\n",
      "    amsgrad: True\n",
      "    betas: (0.9, 0.999)\n",
      "    eps: 1e-08\n",
      "    lr: 0.001\n",
      "    weight_decay: 0\n",
      ")}\n",
      "[2020-09-08 11:02:06,236][MainProcess][__main__][INFO] Epochs: 1\n",
      "[2020-09-08 11:02:06,237][MainProcess][__main__][INFO] Train Dataset Size: 75900\n",
      "[2020-09-08 11:02:06,238][MainProcess][__main__][INFO] Dev Dataset Size: 10845\n",
      "[2020-09-08 11:02:06,238][MainProcess][__main__][INFO] Train Batch Size: 32\n",
      "[2020-09-08 11:02:06,239][MainProcess][__main__][INFO] Train Max Batch Size: 1024\n",
      "[2020-09-08 11:02:06,240][MainProcess][__main__][INFO] Total Parameters: 5092519\n",
      "[2020-09-08 11:02:06,241][MainProcess][__main__][INFO] Model:\n",
      "SeqToLabel(\n",
      "  (encoder): SeqEncoder(\n",
      "    (embedding): Embedding(6899, 300, padding_idx=0)\n",
      "    (rnn): GRU(300, 488, num_layers=3, dropout=0.18910204864128097)\n",
      "    (rnn_dropout): LockedDropout(p=0.20350470667860712)\n",
      "    (embedding_dropout): Dropout(p=0.8624815743949615)\n",
      "  )\n",
      "  (out): Sequential(\n",
      "    (0): Linear(in_features=488, out_features=488, bias=True)\n",
      "    (1): BatchNorm1d(488, eps=1e-05, momentum=0.1, affine=True, track_running_stats=True)\n",
      "    (2): ReLU()\n",
      "    (3): Dropout(p=0.2062594354837608)\n",
      "    (4): Linear(in_features=488, out_features=1703, bias=True)\n",
      "  )\n",
      ")\n",
      "[2020-09-08 11:02:06,242][MainProcess][__main__][INFO] Epoch: 0\n",
      "[2020-09-08 11:02:06,243][MainProcess][__main__][INFO] Training...\n"
     ]
    },
    {
     "data": {
      "application/vnd.jupyter.widget-view+json": {
       "model_id": "3f39cc641b3a4a0ebb030701b54ab171",
       "version_major": 2,
       "version_minor": 0
      },
      "text/plain": [
       "HBox(children=(IntProgress(value=0, max=2371), HTML(value='')))"
      ]
     },
     "metadata": {},
     "output_type": "display_data"
    },
    {
     "name": "stdout",
     "output_type": "stream",
     "text": [
      "\n",
      "[2020-09-08 11:02:34,995][MainProcess][lib.checkpoint][INFO] Saving checkpoint: ../../experiments/relation_classifier.09_08_10:23:25/2256.pt\n"
     ]
    },
    {
     "data": {
      "application/vnd.jupyter.widget-view+json": {
       "model_id": "f94e13ec36784ddd851c759f28ebef6a",
       "version_major": 2,
       "version_minor": 0
      },
      "text/plain": [
       "HBox(children=(IntProgress(value=0, max=2), HTML(value='')))"
      ]
     },
     "metadata": {},
     "output_type": "display_data"
    },
    {
     "name": "stdout",
     "output_type": "stream",
     "text": [
      "\n",
      "[2020-09-08 11:02:36,739][MainProcess][__main__][INFO] NLLLoss: 5.620\n",
      "[2020-09-08 11:02:36,838][MainProcess][lib.metrics.accuracy][INFO] Accuracy: 0.0 [0 of 8192]\n"
     ]
    },
    {
     "name": "stderr",
     "output_type": "stream",
     "text": [
      "\r",
      "  8%|▊         | 84.44444444444458/1000.0 [30:03<6:08:53, 24.18s/it, min_score=-0, models_evaluated=0]"
     ]
    },
    {
     "name": "stdout",
     "output_type": "stream",
     "text": [
      "––––––––––––––––––––––––––––––––––––––––––––––––––––––––––––––––––––––––––––––––––––––––––––––––––––\n",
      "====================================================================================================\n",
      "[2020-09-08 11:02:36,899][MainProcess][lib.configurable][INFO] Checking configuration...\n",
      "[2020-09-08 11:02:36,900][MainProcess][lib.configurable][INFO] Configuration checked.\n",
      "[2020-09-08 11:02:36,901][MainProcess][lib.configurable][INFO] seq_to_label.SeqToLabel.__init__ was configured with:\n",
      "{   'bidirectional': False,\n",
      "    'decode_dropout': 0.7345683597544762,\n",
      "    'embedding_dropout': 0.8724299542966151,\n",
      "    'embedding_size': 300,\n",
      "    'freeze_embeddings': False,\n",
      "    'input_vocab_size': 6899,\n",
      "    'output_vocab_size': 1703,\n",
      "    'rnn_cell': 'lstm',\n",
      "    'rnn_dropout': 0.8942261933014336,\n",
      "    'rnn_layers': 3,\n",
      "    'rnn_size': 470,\n",
      "    'rnn_variational_dropout': 0.5051190426291364}\n",
      "[2020-09-08 11:02:36,902][MainProcess][lib.configurable][INFO] seq_encoder.SeqEncoder.__init__ no config for: lib.nn.seq_encoder.SeqEncoder.__init__\n",
      "[2020-09-08 11:02:36,903][MainProcess][lib.configurable][INFO] seq_encoder.SeqEncoder.__init__ was configured with:\n",
      "{   'bidirectional': False,\n",
      "    'embedding_dropout': 0.8724299542966151,\n",
      "    'embedding_size': 300,\n",
      "    'freeze_embeddings': False,\n",
      "    'n_layers': 3,\n",
      "    'rnn_cell': 'lstm',\n",
      "    'rnn_dropout': 0.8942261933014336,\n",
      "    'rnn_size': 470,\n",
      "    'rnn_variational_dropout': 0.5051190426291364,\n",
      "    'vocab_size': 6899}\n",
      "[2020-09-08 11:02:37,029][MainProcess][lib.configurable][INFO] adam.Adam.__init__ was configured with:\n",
      "{'amsgrad': True, 'params': <filter object at 0x7f89651987f0>}\n",
      "[2020-09-08 11:02:37,030][MainProcess][lib.configurable][INFO] optimizer.Optimizer.__init__ was configured with:\n",
      "{   'max_grad_norm': 0.002596390059316778,\n",
      "    'optim': Adam (\n",
      "Parameter Group 0\n",
      "    amsgrad: True\n",
      "    betas: (0.9, 0.999)\n",
      "    eps: 1e-08\n",
      "    lr: 0.001\n",
      "    weight_decay: 0\n",
      ")}\n",
      "[2020-09-08 11:02:37,031][MainProcess][__main__][INFO] Epochs: 1\n",
      "[2020-09-08 11:02:37,032][MainProcess][__main__][INFO] Train Dataset Size: 75900\n",
      "[2020-09-08 11:02:37,033][MainProcess][__main__][INFO] Dev Dataset Size: 10845\n",
      "[2020-09-08 11:02:37,034][MainProcess][__main__][INFO] Train Batch Size: 32\n",
      "[2020-09-08 11:02:37,035][MainProcess][__main__][INFO] Train Max Batch Size: 1024\n",
      "[2020-09-08 11:02:37,036][MainProcess][__main__][INFO] Total Parameters: 8087403\n",
      "[2020-09-08 11:02:37,037][MainProcess][__main__][INFO] Model:\n",
      "SeqToLabel(\n",
      "  (encoder): SeqEncoder(\n",
      "    (embedding): Embedding(6899, 300, padding_idx=0)\n",
      "    (rnn): LSTM(300, 470, num_layers=3, dropout=0.5051190426291364)\n",
      "    (rnn_dropout): LockedDropout(p=0.8942261933014336)\n",
      "    (embedding_dropout): Dropout(p=0.8724299542966151)\n",
      "  )\n",
      "  (out): Sequential(\n",
      "    (0): Linear(in_features=470, out_features=470, bias=True)\n",
      "    (1): BatchNorm1d(470, eps=1e-05, momentum=0.1, affine=True, track_running_stats=True)\n",
      "    (2): ReLU()\n",
      "    (3): Dropout(p=0.7345683597544762)\n",
      "    (4): Linear(in_features=470, out_features=1703, bias=True)\n",
      "  )\n",
      ")\n",
      "[2020-09-08 11:02:37,037][MainProcess][__main__][INFO] Epoch: 0\n",
      "[2020-09-08 11:02:37,038][MainProcess][__main__][INFO] Training...\n"
     ]
    },
    {
     "data": {
      "application/vnd.jupyter.widget-view+json": {
       "model_id": "628e525aba0c4b3dbccc04d7af8c24e8",
       "version_major": 2,
       "version_minor": 0
      },
      "text/plain": [
       "HBox(children=(IntProgress(value=0, max=2371), HTML(value='')))"
      ]
     },
     "metadata": {},
     "output_type": "display_data"
    },
    {
     "name": "stdout",
     "output_type": "stream",
     "text": [
      "\n",
      "[2020-09-08 11:03:09,393][MainProcess][lib.checkpoint][INFO] Saving checkpoint: ../../experiments/relation_classifier.09_08_10:23:25/2290.pt\n"
     ]
    },
    {
     "data": {
      "application/vnd.jupyter.widget-view+json": {
       "model_id": "bdf3cec77a4744abae1311f631fca608",
       "version_major": 2,
       "version_minor": 0
      },
      "text/plain": [
       "HBox(children=(IntProgress(value=0, max=2), HTML(value='')))"
      ]
     },
     "metadata": {},
     "output_type": "display_data"
    },
    {
     "name": "stdout",
     "output_type": "stream",
     "text": [
      "\n",
      "[2020-09-08 11:03:11,691][MainProcess][__main__][INFO] NLLLoss: 5.620\n",
      "[2020-09-08 11:03:11,757][MainProcess][lib.metrics.accuracy][INFO] Accuracy: 0.0 [0 of 8192]\n"
     ]
    },
    {
     "name": "stderr",
     "output_type": "stream",
     "text": [
      "\r",
      "  9%|▊         | 85.5555555555557/1000.0 [30:38<6:41:36, 26.35s/it, min_score=-0, models_evaluated=0] "
     ]
    },
    {
     "name": "stdout",
     "output_type": "stream",
     "text": [
      "––––––––––––––––––––––––––––––––––––––––––––––––––––––––––––––––––––––––––––––––––––––––––––––––––––\n",
      "====================================================================================================\n",
      "[2020-09-08 11:03:11,820][MainProcess][lib.configurable][INFO] Checking configuration...\n",
      "[2020-09-08 11:03:11,821][MainProcess][lib.configurable][INFO] Configuration checked.\n",
      "[2020-09-08 11:03:11,822][MainProcess][lib.configurable][INFO] seq_to_label.SeqToLabel.__init__ was configured with:\n",
      "{   'bidirectional': True,\n",
      "    'decode_dropout': 0.645720073102939,\n",
      "    'embedding_dropout': 0.6639118286763225,\n",
      "    'embedding_size': 300,\n",
      "    'freeze_embeddings': True,\n",
      "    'input_vocab_size': 6899,\n",
      "    'output_vocab_size': 1703,\n",
      "    'rnn_cell': 'lstm',\n",
      "    'rnn_dropout': 0.1792197073284226,\n",
      "    'rnn_layers': 1,\n",
      "    'rnn_size': 398,\n",
      "    'rnn_variational_dropout': 0.7428591227705722}\n",
      "[2020-09-08 11:03:11,823][MainProcess][lib.configurable][INFO] seq_encoder.SeqEncoder.__init__ no config for: lib.nn.seq_encoder.SeqEncoder.__init__\n",
      "[2020-09-08 11:03:11,824][MainProcess][lib.configurable][INFO] seq_encoder.SeqEncoder.__init__ was configured with:\n",
      "{   'bidirectional': True,\n",
      "    'embedding_dropout': 0.6639118286763225,\n",
      "    'embedding_size': 300,\n",
      "    'freeze_embeddings': True,\n",
      "    'n_layers': 1,\n",
      "    'rnn_cell': 'lstm',\n",
      "    'rnn_dropout': 0.1792197073284226,\n",
      "    'rnn_size': 398,\n",
      "    'rnn_variational_dropout': 0.7428591227705722,\n",
      "    'vocab_size': 6899}\n",
      "[2020-09-08 11:03:11,922][MainProcess][lib.configurable][INFO] adam.Adam.__init__ was configured with:\n",
      "{'amsgrad': True, 'params': <filter object at 0x7f89709cd390>}\n",
      "[2020-09-08 11:03:11,923][MainProcess][lib.configurable][INFO] optimizer.Optimizer.__init__ was configured with:\n",
      "{   'max_grad_norm': 0.6146779630047778,\n",
      "    'optim': Adam (\n",
      "Parameter Group 0\n",
      "    amsgrad: True\n",
      "    betas: (0.9, 0.999)\n",
      "    eps: 1e-08\n",
      "    lr: 0.001\n",
      "    weight_decay: 0\n",
      ")}\n",
      "[2020-09-08 11:03:11,924][MainProcess][__main__][INFO] Epochs: 1\n",
      "[2020-09-08 11:03:11,925][MainProcess][__main__][INFO] Train Dataset Size: 75900\n",
      "[2020-09-08 11:03:11,925][MainProcess][__main__][INFO] Dev Dataset Size: 10845\n",
      "[2020-09-08 11:03:11,926][MainProcess][__main__][INFO] Train Batch Size: 32\n",
      "[2020-09-08 11:03:11,927][MainProcess][__main__][INFO] Train Max Batch Size: 1024\n",
      "[2020-09-08 11:03:11,928][MainProcess][__main__][INFO] Total Parameters: 1636687\n",
      "[2020-09-08 11:03:11,929][MainProcess][__main__][INFO] Model:\n",
      "SeqToLabel(\n",
      "  (encoder): SeqEncoder(\n",
      "    (embedding): Embedding(6899, 300, padding_idx=0)\n",
      "    (rnn): LSTM(300, 199, dropout=0.7428591227705722, bidirectional=True)\n",
      "    (rnn_dropout): LockedDropout(p=0.1792197073284226)\n",
      "    (embedding_dropout): Dropout(p=0.6639118286763225)\n",
      "  )\n",
      "  (out): Sequential(\n",
      "    (0): Linear(in_features=398, out_features=398, bias=True)\n",
      "    (1): BatchNorm1d(398, eps=1e-05, momentum=0.1, affine=True, track_running_stats=True)\n",
      "    (2): ReLU()\n",
      "    (3): Dropout(p=0.645720073102939)\n",
      "    (4): Linear(in_features=398, out_features=1703, bias=True)\n",
      "  )\n",
      ")\n",
      "[2020-09-08 11:03:11,930][MainProcess][__main__][INFO] Epoch: 0\n",
      "[2020-09-08 11:03:11,931][MainProcess][__main__][INFO] Training...\n"
     ]
    },
    {
     "name": "stderr",
     "output_type": "stream",
     "text": [
      "/mount/arbeitsdaten46/projekte/dialog-1/kanjurva/Simple-QA-EMNLP-2018/env/lib/python3.6/site-packages/torch/nn/modules/rnn.py:38: UserWarning: dropout option adds dropout after all but last recurrent layer, so non-zero dropout expects num_layers greater than 1, but got dropout=0.7428591227705722 and num_layers=1\n",
      "  \"num_layers={}\".format(dropout, num_layers))\n"
     ]
    },
    {
     "data": {
      "application/vnd.jupyter.widget-view+json": {
       "model_id": "dc022056f5614eb3ac1b90c1ba045ce0",
       "version_major": 2,
       "version_minor": 0
      },
      "text/plain": [
       "HBox(children=(IntProgress(value=0, max=2371), HTML(value='')))"
      ]
     },
     "metadata": {},
     "output_type": "display_data"
    },
    {
     "name": "stdout",
     "output_type": "stream",
     "text": [
      "\n",
      "[2020-09-08 11:03:27,976][MainProcess][lib.checkpoint][INFO] Saving checkpoint: ../../experiments/relation_classifier.09_08_10:23:25/2309.pt\n"
     ]
    },
    {
     "data": {
      "application/vnd.jupyter.widget-view+json": {
       "model_id": "6b5d335f94e34d23a667d96a0ba72adb",
       "version_major": 2,
       "version_minor": 0
      },
      "text/plain": [
       "HBox(children=(IntProgress(value=0, max=2), HTML(value='')))"
      ]
     },
     "metadata": {},
     "output_type": "display_data"
    },
    {
     "name": "stdout",
     "output_type": "stream",
     "text": [
      "\n",
      "[2020-09-08 11:03:28,911][MainProcess][__main__][INFO] NLLLoss: 5.620\n",
      "[2020-09-08 11:03:28,980][MainProcess][lib.metrics.accuracy][INFO] Accuracy: 0.0 [0 of 8192]\n"
     ]
    },
    {
     "name": "stderr",
     "output_type": "stream",
     "text": [
      "\r",
      "  9%|▊         | 86.66666666666681/1000.0 [30:55<5:51:29, 23.09s/it, min_score=-0, models_evaluated=0]"
     ]
    },
    {
     "name": "stdout",
     "output_type": "stream",
     "text": [
      "––––––––––––––––––––––––––––––––––––––––––––––––––––––––––––––––––––––––––––––––––––––––––––––––––––\n",
      "====================================================================================================\n",
      "[2020-09-08 11:03:29,022][MainProcess][lib.configurable][INFO] Checking configuration...\n",
      "[2020-09-08 11:03:29,023][MainProcess][lib.configurable][INFO] Configuration checked.\n",
      "[2020-09-08 11:03:29,024][MainProcess][lib.configurable][INFO] seq_to_label.SeqToLabel.__init__ was configured with:\n",
      "{   'bidirectional': True,\n",
      "    'decode_dropout': 0.868825465120931,\n",
      "    'embedding_dropout': 0.6962369779862547,\n",
      "    'embedding_size': 300,\n",
      "    'freeze_embeddings': False,\n",
      "    'input_vocab_size': 6899,\n",
      "    'output_vocab_size': 1703,\n",
      "    'rnn_cell': 'gru',\n",
      "    'rnn_dropout': 0.7833631623066871,\n",
      "    'rnn_layers': 2,\n",
      "    'rnn_size': 334,\n",
      "    'rnn_variational_dropout': 0.4267193709636001}\n",
      "[2020-09-08 11:03:29,026][MainProcess][lib.configurable][INFO] seq_encoder.SeqEncoder.__init__ no config for: lib.nn.seq_encoder.SeqEncoder.__init__\n",
      "[2020-09-08 11:03:29,027][MainProcess][lib.configurable][INFO] seq_encoder.SeqEncoder.__init__ was configured with:\n",
      "{   'bidirectional': True,\n",
      "    'embedding_dropout': 0.6962369779862547,\n",
      "    'embedding_size': 300,\n",
      "    'freeze_embeddings': False,\n",
      "    'n_layers': 2,\n",
      "    'rnn_cell': 'gru',\n",
      "    'rnn_dropout': 0.7833631623066871,\n",
      "    'rnn_size': 334,\n",
      "    'rnn_variational_dropout': 0.4267193709636001,\n",
      "    'vocab_size': 6899}\n",
      "[2020-09-08 11:03:29,092][MainProcess][lib.configurable][INFO] adam.Adam.__init__ was configured with:\n",
      "{'amsgrad': True, 'params': <filter object at 0x7f8965bd7ef0>}\n",
      "[2020-09-08 11:03:29,093][MainProcess][lib.configurable][INFO] optimizer.Optimizer.__init__ was configured with:\n",
      "{   'max_grad_norm': 1.7997649949929375,\n",
      "    'optim': Adam (\n",
      "Parameter Group 0\n",
      "    amsgrad: True\n",
      "    betas: (0.9, 0.999)\n",
      "    eps: 1e-08\n",
      "    lr: 0.001\n",
      "    weight_decay: 0\n",
      ")}\n",
      "[2020-09-08 11:03:29,094][MainProcess][__main__][INFO] Epochs: 1\n",
      "[2020-09-08 11:03:29,095][MainProcess][__main__][INFO] Train Dataset Size: 75900\n",
      "[2020-09-08 11:03:29,096][MainProcess][__main__][INFO] Dev Dataset Size: 10845\n",
      "[2020-09-08 11:03:29,097][MainProcess][__main__][INFO] Train Batch Size: 32\n",
      "[2020-09-08 11:03:29,098][MainProcess][__main__][INFO] Train Max Batch Size: 1024\n",
      "[2020-09-08 11:03:29,098][MainProcess][__main__][INFO] Total Parameters: 3726707\n",
      "[2020-09-08 11:03:29,099][MainProcess][__main__][INFO] Model:\n",
      "SeqToLabel(\n",
      "  (encoder): SeqEncoder(\n",
      "    (embedding): Embedding(6899, 300, padding_idx=0)\n",
      "    (rnn): GRU(300, 167, num_layers=2, dropout=0.4267193709636001, bidirectional=True)\n",
      "    (rnn_dropout): LockedDropout(p=0.7833631623066871)\n",
      "    (embedding_dropout): Dropout(p=0.6962369779862547)\n",
      "  )\n",
      "  (out): Sequential(\n",
      "    (0): Linear(in_features=334, out_features=334, bias=True)\n",
      "    (1): BatchNorm1d(334, eps=1e-05, momentum=0.1, affine=True, track_running_stats=True)\n",
      "    (2): ReLU()\n",
      "    (3): Dropout(p=0.868825465120931)\n",
      "    (4): Linear(in_features=334, out_features=1703, bias=True)\n",
      "  )\n",
      ")\n",
      "[2020-09-08 11:03:29,100][MainProcess][__main__][INFO] Epoch: 0\n",
      "[2020-09-08 11:03:29,100][MainProcess][__main__][INFO] Training...\n"
     ]
    },
    {
     "data": {
      "application/vnd.jupyter.widget-view+json": {
       "model_id": "31ae672f215f4571b4f8e82ebddd9d92",
       "version_major": 2,
       "version_minor": 0
      },
      "text/plain": [
       "HBox(children=(IntProgress(value=0, max=2371), HTML(value='')))"
      ]
     },
     "metadata": {},
     "output_type": "display_data"
    },
    {
     "name": "stdout",
     "output_type": "stream",
     "text": [
      "\n",
      "[2020-09-08 11:03:51,512][MainProcess][lib.checkpoint][INFO] Saving checkpoint: ../../experiments/relation_classifier.09_08_10:23:25/2333.pt\n"
     ]
    },
    {
     "data": {
      "application/vnd.jupyter.widget-view+json": {
       "model_id": "716a6a76270044d7a3e585527e28a387",
       "version_major": 2,
       "version_minor": 0
      },
      "text/plain": [
       "HBox(children=(IntProgress(value=0, max=2), HTML(value='')))"
      ]
     },
     "metadata": {},
     "output_type": "display_data"
    },
    {
     "name": "stdout",
     "output_type": "stream",
     "text": [
      "\n",
      "[2020-09-08 11:03:53,026][MainProcess][__main__][INFO] NLLLoss: 5.620\n",
      "[2020-09-08 11:03:53,092][MainProcess][lib.metrics.accuracy][INFO] Accuracy: 0.0 [0 of 8192]\n"
     ]
    },
    {
     "name": "stderr",
     "output_type": "stream",
     "text": [
      "\r",
      "  9%|▉         | 87.77777777777793/1000.0 [31:19<5:44:44, 22.67s/it, min_score=-0, models_evaluated=0]"
     ]
    },
    {
     "name": "stdout",
     "output_type": "stream",
     "text": [
      "––––––––––––––––––––––––––––––––––––––––––––––––––––––––––––––––––––––––––––––––––––––––––––––––––––\n",
      "====================================================================================================\n",
      "[2020-09-08 11:03:53,138][MainProcess][lib.configurable][INFO] Checking configuration...\n",
      "[2020-09-08 11:03:53,139][MainProcess][lib.configurable][INFO] Configuration checked.\n",
      "[2020-09-08 11:03:53,140][MainProcess][lib.configurable][INFO] seq_to_label.SeqToLabel.__init__ was configured with:\n",
      "{   'bidirectional': True,\n",
      "    'decode_dropout': 0.7049813213882143,\n",
      "    'embedding_dropout': 0.4591691767720237,\n",
      "    'embedding_size': 300,\n",
      "    'freeze_embeddings': True,\n",
      "    'input_vocab_size': 6899,\n",
      "    'output_vocab_size': 1703,\n",
      "    'rnn_cell': 'lstm',\n",
      "    'rnn_dropout': 0.5170589998511231,\n",
      "    'rnn_layers': 3,\n",
      "    'rnn_size': 408,\n",
      "    'rnn_variational_dropout': 0.4962278190358243}\n",
      "[2020-09-08 11:03:53,141][MainProcess][lib.configurable][INFO] seq_encoder.SeqEncoder.__init__ no config for: lib.nn.seq_encoder.SeqEncoder.__init__\n",
      "[2020-09-08 11:03:53,143][MainProcess][lib.configurable][INFO] seq_encoder.SeqEncoder.__init__ was configured with:\n",
      "{   'bidirectional': True,\n",
      "    'embedding_dropout': 0.4591691767720237,\n",
      "    'embedding_size': 300,\n",
      "    'freeze_embeddings': True,\n",
      "    'n_layers': 3,\n",
      "    'rnn_cell': 'lstm',\n",
      "    'rnn_dropout': 0.5170589998511231,\n",
      "    'rnn_size': 408,\n",
      "    'rnn_variational_dropout': 0.4962278190358243,\n",
      "    'vocab_size': 6899}\n",
      "[2020-09-08 11:03:53,233][MainProcess][lib.configurable][INFO] adam.Adam.__init__ was configured with:\n",
      "{'amsgrad': True, 'params': <filter object at 0x7f89640570f0>}\n",
      "[2020-09-08 11:03:53,235][MainProcess][lib.configurable][INFO] optimizer.Optimizer.__init__ was configured with:\n",
      "{   'max_grad_norm': 0.7940069823562258,\n",
      "    'optim': Adam (\n",
      "Parameter Group 0\n",
      "    amsgrad: True\n",
      "    betas: (0.9, 0.999)\n",
      "    eps: 1e-08\n",
      "    lr: 0.001\n",
      "    weight_decay: 0\n",
      ")}\n",
      "[2020-09-08 11:03:53,235][MainProcess][__main__][INFO] Epochs: 1\n",
      "[2020-09-08 11:03:53,236][MainProcess][__main__][INFO] Train Dataset Size: 75900\n",
      "[2020-09-08 11:03:53,237][MainProcess][__main__][INFO] Dev Dataset Size: 10845\n",
      "[2020-09-08 11:03:53,238][MainProcess][__main__][INFO] Train Batch Size: 32\n",
      "[2020-09-08 11:03:53,239][MainProcess][__main__][INFO] Train Max Batch Size: 1024\n",
      "[2020-09-08 11:03:53,240][MainProcess][__main__][INFO] Total Parameters: 3694103\n",
      "[2020-09-08 11:03:53,240][MainProcess][__main__][INFO] Model:\n",
      "SeqToLabel(\n",
      "  (encoder): SeqEncoder(\n",
      "    (embedding): Embedding(6899, 300, padding_idx=0)\n",
      "    (rnn): LSTM(300, 204, num_layers=3, dropout=0.4962278190358243, bidirectional=True)\n",
      "    (rnn_dropout): LockedDropout(p=0.5170589998511231)\n",
      "    (embedding_dropout): Dropout(p=0.4591691767720237)\n",
      "  )\n",
      "  (out): Sequential(\n",
      "    (0): Linear(in_features=408, out_features=408, bias=True)\n",
      "    (1): BatchNorm1d(408, eps=1e-05, momentum=0.1, affine=True, track_running_stats=True)\n",
      "    (2): ReLU()\n",
      "    (3): Dropout(p=0.7049813213882143)\n",
      "    (4): Linear(in_features=408, out_features=1703, bias=True)\n",
      "  )\n",
      ")\n",
      "[2020-09-08 11:03:53,241][MainProcess][__main__][INFO] Epoch: 0\n",
      "[2020-09-08 11:03:53,242][MainProcess][__main__][INFO] Training...\n"
     ]
    },
    {
     "data": {
      "application/vnd.jupyter.widget-view+json": {
       "model_id": "b1872e79b26f4cf9a2f76c6039e4968c",
       "version_major": 2,
       "version_minor": 0
      },
      "text/plain": [
       "HBox(children=(IntProgress(value=0, max=2371), HTML(value='')))"
      ]
     },
     "metadata": {},
     "output_type": "display_data"
    },
    {
     "name": "stdout",
     "output_type": "stream",
     "text": [
      "\n",
      "[2020-09-08 11:04:23,532][MainProcess][lib.checkpoint][INFO] Saving checkpoint: ../../experiments/relation_classifier.09_08_10:23:25/2365.pt\n"
     ]
    },
    {
     "data": {
      "application/vnd.jupyter.widget-view+json": {
       "model_id": "213b13e060be49d4a8b7f999db681314",
       "version_major": 2,
       "version_minor": 0
      },
      "text/plain": [
       "HBox(children=(IntProgress(value=0, max=2), HTML(value='')))"
      ]
     },
     "metadata": {},
     "output_type": "display_data"
    },
    {
     "name": "stdout",
     "output_type": "stream",
     "text": [
      "\n",
      "[2020-09-08 11:04:24,912][MainProcess][__main__][INFO] NLLLoss: 5.620\n",
      "[2020-09-08 11:04:24,978][MainProcess][lib.metrics.accuracy][INFO] Accuracy: 0.0 [0 of 8192]\n"
     ]
    },
    {
     "name": "stderr",
     "output_type": "stream",
     "text": [
      "\r",
      "  9%|▉         | 88.88888888888904/1000.0 [31:51<6:11:47, 24.48s/it, min_score=-0, models_evaluated=0]"
     ]
    },
    {
     "name": "stdout",
     "output_type": "stream",
     "text": [
      "––––––––––––––––––––––––––––––––––––––––––––––––––––––––––––––––––––––––––––––––––––––––––––––––––––\n",
      "====================================================================================================\n",
      "[2020-09-08 11:04:25,031][MainProcess][lib.configurable][INFO] Checking configuration...\n",
      "[2020-09-08 11:04:25,032][MainProcess][lib.configurable][INFO] Configuration checked.\n",
      "[2020-09-08 11:04:25,034][MainProcess][lib.configurable][INFO] seq_to_label.SeqToLabel.__init__ was configured with:\n",
      "{   'bidirectional': False,\n",
      "    'decode_dropout': 0.8720102555476325,\n",
      "    'embedding_dropout': 0.7899132425701468,\n",
      "    'embedding_size': 300,\n",
      "    'freeze_embeddings': False,\n",
      "    'input_vocab_size': 6899,\n",
      "    'output_vocab_size': 1703,\n",
      "    'rnn_cell': 'gru',\n",
      "    'rnn_dropout': 0.6327762772870498,\n",
      "    'rnn_layers': 3,\n",
      "    'rnn_size': 482,\n",
      "    'rnn_variational_dropout': 0.3559810110707784}\n",
      "[2020-09-08 11:04:25,035][MainProcess][lib.configurable][INFO] seq_encoder.SeqEncoder.__init__ no config for: lib.nn.seq_encoder.SeqEncoder.__init__\n",
      "[2020-09-08 11:04:25,036][MainProcess][lib.configurable][INFO] seq_encoder.SeqEncoder.__init__ was configured with:\n",
      "{   'bidirectional': False,\n",
      "    'embedding_dropout': 0.7899132425701468,\n",
      "    'embedding_size': 300,\n",
      "    'freeze_embeddings': False,\n",
      "    'n_layers': 3,\n",
      "    'rnn_cell': 'gru',\n",
      "    'rnn_dropout': 0.6327762772870498,\n",
      "    'rnn_size': 482,\n",
      "    'rnn_variational_dropout': 0.3559810110707784,\n",
      "    'vocab_size': 6899}\n",
      "[2020-09-08 11:04:25,149][MainProcess][lib.configurable][INFO] adam.Adam.__init__ was configured with:\n",
      "{'amsgrad': True, 'params': <filter object at 0x7f896525e160>}\n",
      "[2020-09-08 11:04:25,150][MainProcess][lib.configurable][INFO] optimizer.Optimizer.__init__ was configured with:\n",
      "{   'max_grad_norm': 4.425009655988796,\n",
      "    'optim': Adam (\n",
      "Parameter Group 0\n",
      "    amsgrad: True\n",
      "    betas: (0.9, 0.999)\n",
      "    eps: 1e-08\n",
      "    lr: 0.001\n",
      "    weight_decay: 0\n",
      ")}\n",
      "[2020-09-08 11:04:25,151][MainProcess][__main__][INFO] Epochs: 1\n",
      "[2020-09-08 11:04:25,152][MainProcess][__main__][INFO] Train Dataset Size: 75900\n",
      "[2020-09-08 11:04:25,153][MainProcess][__main__][INFO] Dev Dataset Size: 10845\n",
      "[2020-09-08 11:04:25,154][MainProcess][__main__][INFO] Train Batch Size: 32\n",
      "[2020-09-08 11:04:25,155][MainProcess][__main__][INFO] Train Max Batch Size: 1024\n",
      "[2020-09-08 11:04:25,155][MainProcess][__main__][INFO] Total Parameters: 7053355\n",
      "[2020-09-08 11:04:25,156][MainProcess][__main__][INFO] Model:\n",
      "SeqToLabel(\n",
      "  (encoder): SeqEncoder(\n",
      "    (embedding): Embedding(6899, 300, padding_idx=0)\n",
      "    (rnn): GRU(300, 482, num_layers=3, dropout=0.3559810110707784)\n",
      "    (rnn_dropout): LockedDropout(p=0.6327762772870498)\n",
      "    (embedding_dropout): Dropout(p=0.7899132425701468)\n",
      "  )\n",
      "  (out): Sequential(\n",
      "    (0): Linear(in_features=482, out_features=482, bias=True)\n",
      "    (1): BatchNorm1d(482, eps=1e-05, momentum=0.1, affine=True, track_running_stats=True)\n",
      "    (2): ReLU()\n",
      "    (3): Dropout(p=0.8720102555476325)\n",
      "    (4): Linear(in_features=482, out_features=1703, bias=True)\n",
      "  )\n",
      ")\n",
      "[2020-09-08 11:04:25,157][MainProcess][__main__][INFO] Epoch: 0\n",
      "[2020-09-08 11:04:25,158][MainProcess][__main__][INFO] Training...\n"
     ]
    },
    {
     "data": {
      "application/vnd.jupyter.widget-view+json": {
       "model_id": "da3eec0b76274594808f47db31d2660a",
       "version_major": 2,
       "version_minor": 0
      },
      "text/plain": [
       "HBox(children=(IntProgress(value=0, max=2371), HTML(value='')))"
      ]
     },
     "metadata": {},
     "output_type": "display_data"
    },
    {
     "name": "stdout",
     "output_type": "stream",
     "text": [
      "\n",
      "[2020-09-08 11:04:53,323][MainProcess][lib.checkpoint][INFO] Saving checkpoint: ../../experiments/relation_classifier.09_08_10:23:25/2394.pt\n"
     ]
    },
    {
     "data": {
      "application/vnd.jupyter.widget-view+json": {
       "model_id": "aa6aa6271b9c430bbbaf734db656b1cc",
       "version_major": 2,
       "version_minor": 0
      },
      "text/plain": [
       "HBox(children=(IntProgress(value=0, max=2), HTML(value='')))"
      ]
     },
     "metadata": {},
     "output_type": "display_data"
    },
    {
     "name": "stdout",
     "output_type": "stream",
     "text": [
      "\n",
      "[2020-09-08 11:04:55,945][MainProcess][__main__][INFO] NLLLoss: 5.620\n",
      "[2020-09-08 11:04:56,012][MainProcess][lib.metrics.accuracy][INFO] Accuracy: 0.0 [0 of 8192]\n"
     ]
    },
    {
     "name": "stderr",
     "output_type": "stream",
     "text": [
      "\r",
      "  9%|▉         | 90.00000000000016/1000.0 [32:22<6:27:04, 25.52s/it, min_score=-0, models_evaluated=0]"
     ]
    },
    {
     "name": "stdout",
     "output_type": "stream",
     "text": [
      "––––––––––––––––––––––––––––––––––––––––––––––––––––––––––––––––––––––––––––––––––––––––––––––––––––\n",
      "====================================================================================================\n",
      "[2020-09-08 11:04:56,078][MainProcess][lib.configurable][INFO] Checking configuration...\n",
      "[2020-09-08 11:04:56,079][MainProcess][lib.configurable][INFO] Configuration checked.\n",
      "[2020-09-08 11:04:56,080][MainProcess][lib.configurable][INFO] seq_to_label.SeqToLabel.__init__ was configured with:\n",
      "{   'bidirectional': True,\n",
      "    'decode_dropout': 0.21303899912452093,\n",
      "    'embedding_dropout': 0.3872713494614304,\n",
      "    'embedding_size': 300,\n",
      "    'freeze_embeddings': True,\n",
      "    'input_vocab_size': 6899,\n",
      "    'output_vocab_size': 1703,\n",
      "    'rnn_cell': 'lstm',\n",
      "    'rnn_dropout': 0.4087169716083169,\n",
      "    'rnn_layers': 2,\n",
      "    'rnn_size': 234,\n",
      "    'rnn_variational_dropout': 0.7595388608030615}\n",
      "[2020-09-08 11:04:56,081][MainProcess][lib.configurable][INFO] seq_encoder.SeqEncoder.__init__ no config for: lib.nn.seq_encoder.SeqEncoder.__init__\n",
      "[2020-09-08 11:04:56,082][MainProcess][lib.configurable][INFO] seq_encoder.SeqEncoder.__init__ was configured with:\n",
      "{   'bidirectional': True,\n",
      "    'embedding_dropout': 0.3872713494614304,\n",
      "    'embedding_size': 300,\n",
      "    'freeze_embeddings': True,\n",
      "    'n_layers': 2,\n",
      "    'rnn_cell': 'lstm',\n",
      "    'rnn_dropout': 0.4087169716083169,\n",
      "    'rnn_size': 234,\n",
      "    'rnn_variational_dropout': 0.7595388608030615,\n",
      "    'vocab_size': 6899}\n",
      "[2020-09-08 11:04:56,153][MainProcess][lib.configurable][INFO] adam.Adam.__init__ was configured with:\n",
      "{'amsgrad': True, 'params': <filter object at 0x7f89646d0278>}\n",
      "[2020-09-08 11:04:56,154][MainProcess][lib.configurable][INFO] optimizer.Optimizer.__init__ was configured with:\n",
      "{   'max_grad_norm': 0.448156641171823,\n",
      "    'optim': Adam (\n",
      "Parameter Group 0\n",
      "    amsgrad: True\n",
      "    betas: (0.9, 0.999)\n",
      "    eps: 1e-08\n",
      "    lr: 0.001\n",
      "    weight_decay: 0\n",
      ")}\n",
      "[2020-09-08 11:04:56,155][MainProcess][__main__][INFO] Epochs: 1\n",
      "[2020-09-08 11:04:56,156][MainProcess][__main__][INFO] Train Dataset Size: 75900\n",
      "[2020-09-08 11:04:56,157][MainProcess][__main__][INFO] Dev Dataset Size: 10845\n",
      "[2020-09-08 11:04:56,158][MainProcess][__main__][INFO] Train Batch Size: 32\n",
      "[2020-09-08 11:04:56,158][MainProcess][__main__][INFO] Train Max Batch Size: 1024\n",
      "[2020-09-08 11:04:56,159][MainProcess][__main__][INFO] Total Parameters: 1178255\n",
      "[2020-09-08 11:04:56,160][MainProcess][__main__][INFO] Model:\n",
      "SeqToLabel(\n",
      "  (encoder): SeqEncoder(\n",
      "    (embedding): Embedding(6899, 300, padding_idx=0)\n",
      "    (rnn): LSTM(300, 117, num_layers=2, dropout=0.7595388608030615, bidirectional=True)\n",
      "    (rnn_dropout): LockedDropout(p=0.4087169716083169)\n",
      "    (embedding_dropout): Dropout(p=0.3872713494614304)\n",
      "  )\n",
      "  (out): Sequential(\n",
      "    (0): Linear(in_features=234, out_features=234, bias=True)\n",
      "    (1): BatchNorm1d(234, eps=1e-05, momentum=0.1, affine=True, track_running_stats=True)\n",
      "    (2): ReLU()\n",
      "    (3): Dropout(p=0.21303899912452093)\n",
      "    (4): Linear(in_features=234, out_features=1703, bias=True)\n",
      "  )\n",
      ")\n",
      "[2020-09-08 11:04:56,161][MainProcess][__main__][INFO] Epoch: 0\n",
      "[2020-09-08 11:04:56,161][MainProcess][__main__][INFO] Training...\n"
     ]
    },
    {
     "data": {
      "application/vnd.jupyter.widget-view+json": {
       "model_id": "9bebc71038cd4a8fbc7f724eb6e70b6b",
       "version_major": 2,
       "version_minor": 0
      },
      "text/plain": [
       "HBox(children=(IntProgress(value=0, max=2371), HTML(value='')))"
      ]
     },
     "metadata": {},
     "output_type": "display_data"
    },
    {
     "name": "stdout",
     "output_type": "stream",
     "text": [
      "\n",
      "[2020-09-08 11:05:17,972][MainProcess][lib.checkpoint][INFO] Saving checkpoint: ../../experiments/relation_classifier.09_08_10:23:25/2419.pt\n"
     ]
    },
    {
     "data": {
      "application/vnd.jupyter.widget-view+json": {
       "model_id": "821d68b60cc4440e9e12a07bf26d0e7d",
       "version_major": 2,
       "version_minor": 0
      },
      "text/plain": [
       "HBox(children=(IntProgress(value=0, max=2), HTML(value='')))"
      ]
     },
     "metadata": {},
     "output_type": "display_data"
    },
    {
     "name": "stdout",
     "output_type": "stream",
     "text": [
      "\n",
      "[2020-09-08 11:05:18,854][MainProcess][__main__][INFO] NLLLoss: 5.620\n",
      "[2020-09-08 11:05:18,923][MainProcess][lib.metrics.accuracy][INFO] Accuracy: 0.0 [0 of 8192]\n"
     ]
    },
    {
     "name": "stderr",
     "output_type": "stream",
     "text": [
      "\r",
      "  9%|▉         | 91.11111111111127/1000.0 [32:45<6:04:12, 24.04s/it, min_score=-0, models_evaluated=0]"
     ]
    },
    {
     "name": "stdout",
     "output_type": "stream",
     "text": [
      "––––––––––––––––––––––––––––––––––––––––––––––––––––––––––––––––––––––––––––––––––––––––––––––––––––\n",
      "====================================================================================================\n",
      "[2020-09-08 11:05:18,961][MainProcess][lib.configurable][INFO] Checking configuration...\n",
      "[2020-09-08 11:05:18,962][MainProcess][lib.configurable][INFO] Configuration checked.\n",
      "[2020-09-08 11:05:18,963][MainProcess][lib.configurable][INFO] seq_to_label.SeqToLabel.__init__ was configured with:\n",
      "{   'bidirectional': False,\n",
      "    'decode_dropout': 0.7549154527056483,\n",
      "    'embedding_dropout': 0.8407761084864727,\n",
      "    'embedding_size': 300,\n",
      "    'freeze_embeddings': True,\n",
      "    'input_vocab_size': 6899,\n",
      "    'output_vocab_size': 1703,\n",
      "    'rnn_cell': 'gru',\n",
      "    'rnn_dropout': 0.6707630136772746,\n",
      "    'rnn_layers': 1,\n",
      "    'rnn_size': 392,\n",
      "    'rnn_variational_dropout': 0.8291968819811729}\n",
      "[2020-09-08 11:05:18,964][MainProcess][lib.configurable][INFO] seq_encoder.SeqEncoder.__init__ no config for: lib.nn.seq_encoder.SeqEncoder.__init__\n",
      "[2020-09-08 11:05:18,965][MainProcess][lib.configurable][INFO] seq_encoder.SeqEncoder.__init__ was configured with:\n",
      "{   'bidirectional': False,\n",
      "    'embedding_dropout': 0.8407761084864727,\n",
      "    'embedding_size': 300,\n",
      "    'freeze_embeddings': True,\n",
      "    'n_layers': 1,\n",
      "    'rnn_cell': 'gru',\n",
      "    'rnn_dropout': 0.6707630136772746,\n",
      "    'rnn_size': 392,\n",
      "    'rnn_variational_dropout': 0.8291968819811729,\n",
      "    'vocab_size': 6899}\n",
      "[2020-09-08 11:05:19,025][MainProcess][lib.configurable][INFO] adam.Adam.__init__ was configured with:\n",
      "{'amsgrad': True, 'params': <filter object at 0x7f8947e4d5c0>}\n",
      "[2020-09-08 11:05:19,026][MainProcess][lib.configurable][INFO] optimizer.Optimizer.__init__ was configured with:\n",
      "{   'max_grad_norm': 2.7316414507038007,\n",
      "    'optim': Adam (\n",
      "Parameter Group 0\n",
      "    amsgrad: True\n",
      "    betas: (0.9, 0.999)\n",
      "    eps: 1e-08\n",
      "    lr: 0.001\n",
      "    weight_decay: 0\n",
      ")}\n",
      "[2020-09-08 11:05:19,027][MainProcess][__main__][INFO] Epochs: 1\n",
      "[2020-09-08 11:05:19,028][MainProcess][__main__][INFO] Train Dataset Size: 75900\n",
      "[2020-09-08 11:05:19,028][MainProcess][__main__][INFO] Dev Dataset Size: 10845\n",
      "[2020-09-08 11:05:19,029][MainProcess][__main__][INFO] Train Batch Size: 32\n",
      "[2020-09-08 11:05:19,030][MainProcess][__main__][INFO] Train Max Batch Size: 1024\n",
      "[2020-09-08 11:05:19,031][MainProcess][__main__][INFO] Total Parameters: 1640263\n",
      "[2020-09-08 11:05:19,032][MainProcess][__main__][INFO] Model:\n",
      "SeqToLabel(\n",
      "  (encoder): SeqEncoder(\n",
      "    (embedding): Embedding(6899, 300, padding_idx=0)\n",
      "    (rnn): GRU(300, 392, dropout=0.8291968819811729)\n",
      "    (rnn_dropout): LockedDropout(p=0.6707630136772746)\n",
      "    (embedding_dropout): Dropout(p=0.8407761084864727)\n",
      "  )\n",
      "  (out): Sequential(\n",
      "    (0): Linear(in_features=392, out_features=392, bias=True)\n",
      "    (1): BatchNorm1d(392, eps=1e-05, momentum=0.1, affine=True, track_running_stats=True)\n",
      "    (2): ReLU()\n",
      "    (3): Dropout(p=0.7549154527056483)\n",
      "    (4): Linear(in_features=392, out_features=1703, bias=True)\n",
      "  )\n",
      ")\n",
      "[2020-09-08 11:05:19,033][MainProcess][__main__][INFO] Epoch: 0\n",
      "[2020-09-08 11:05:19,033][MainProcess][__main__][INFO] Training...\n"
     ]
    },
    {
     "name": "stderr",
     "output_type": "stream",
     "text": [
      "/mount/arbeitsdaten46/projekte/dialog-1/kanjurva/Simple-QA-EMNLP-2018/env/lib/python3.6/site-packages/torch/nn/modules/rnn.py:38: UserWarning: dropout option adds dropout after all but last recurrent layer, so non-zero dropout expects num_layers greater than 1, but got dropout=0.8291968819811729 and num_layers=1\n",
      "  \"num_layers={}\".format(dropout, num_layers))\n"
     ]
    },
    {
     "data": {
      "application/vnd.jupyter.widget-view+json": {
       "model_id": "4b262f409cae43449f3cd4c3aa3c0913",
       "version_major": 2,
       "version_minor": 0
      },
      "text/plain": [
       "HBox(children=(IntProgress(value=0, max=2371), HTML(value='')))"
      ]
     },
     "metadata": {},
     "output_type": "display_data"
    },
    {
     "name": "stdout",
     "output_type": "stream",
     "text": [
      "\n",
      "[2020-09-08 11:05:31,842][MainProcess][lib.checkpoint][INFO] Saving checkpoint: ../../experiments/relation_classifier.09_08_10:23:25/2433.pt\n"
     ]
    },
    {
     "data": {
      "application/vnd.jupyter.widget-view+json": {
       "model_id": "ec1b839a15704a4a9d49553961a2df3c",
       "version_major": 2,
       "version_minor": 0
      },
      "text/plain": [
       "HBox(children=(IntProgress(value=0, max=2), HTML(value='')))"
      ]
     },
     "metadata": {},
     "output_type": "display_data"
    },
    {
     "name": "stdout",
     "output_type": "stream",
     "text": [
      "\n",
      "[2020-09-08 11:05:32,838][MainProcess][__main__][INFO] NLLLoss: 5.620\n",
      "[2020-09-08 11:05:32,905][MainProcess][lib.metrics.accuracy][INFO] Accuracy: 0.0 [0 of 8192]\n"
     ]
    },
    {
     "name": "stderr",
     "output_type": "stream",
     "text": [
      "  9%|▉         | 92.22222222222238/1000.0 [32:59<5:11:45, 20.61s/it, min_score=-0, models_evaluated=55]"
     ]
    },
    {
     "name": "stdout",
     "output_type": "stream",
     "text": [
      "––––––––––––––––––––––––––––––––––––––––––––––––––––––––––––––––––––––––––––––––––––––––––––––––––––\n",
      "====================================================================================================\n",
      "[2020-09-08 11:05:32,948][MainProcess][lib.configurable][INFO] Checking configuration...\n",
      "[2020-09-08 11:05:32,949][MainProcess][lib.configurable][INFO] Configuration checked.\n",
      "[2020-09-08 11:05:32,950][MainProcess][lib.checkpoint][INFO] Loading checkpoints from ../../experiments/relation_classifier.09_08_10:23:25/477.pt onto device 0\n",
      "[2020-09-08 11:05:33,013][MainProcess][__main__][INFO] Epochs: 2\n",
      "[2020-09-08 11:05:33,014][MainProcess][__main__][INFO] Train Dataset Size: 75900\n",
      "[2020-09-08 11:05:33,015][MainProcess][__main__][INFO] Dev Dataset Size: 10845\n",
      "[2020-09-08 11:05:33,016][MainProcess][__main__][INFO] Train Batch Size: 32\n",
      "[2020-09-08 11:05:33,017][MainProcess][__main__][INFO] Train Max Batch Size: 1024\n",
      "[2020-09-08 11:05:33,018][MainProcess][__main__][INFO] Total Parameters: 2828243\n",
      "[2020-09-08 11:05:33,019][MainProcess][__main__][INFO] Model:\n",
      "SeqToLabel(\n",
      "  (encoder): SeqEncoder(\n",
      "    (embedding): Embedding(6899, 300, padding_idx=0)\n",
      "    (rnn): LSTM(300, 85, num_layers=2, dropout=0.055735979776073, bidirectional=True)\n",
      "    (rnn_dropout): LockedDropout(p=0.5962496209017711)\n",
      "    (embedding_dropout): Dropout(p=0.6666982230753765)\n",
      "  )\n",
      "  (out): Sequential(\n",
      "    (0): Linear(in_features=170, out_features=170, bias=True)\n",
      "    (1): BatchNorm1d(170, eps=1e-05, momentum=0.1, affine=True, track_running_stats=True)\n",
      "    (2): ReLU()\n",
      "    (3): Dropout(p=0.41230325152559233)\n",
      "    (4): Linear(in_features=170, out_features=1703, bias=True)\n",
      "  )\n",
      ")\n",
      "[2020-09-08 11:05:33,020][MainProcess][__main__][INFO] Epoch: 0\n",
      "[2020-09-08 11:05:33,020][MainProcess][__main__][INFO] Training...\n"
     ]
    },
    {
     "data": {
      "application/vnd.jupyter.widget-view+json": {
       "model_id": "8be0901b294b4d6eb1bd58bf4d713db5",
       "version_major": 2,
       "version_minor": 0
      },
      "text/plain": [
       "HBox(children=(IntProgress(value=0, max=2371), HTML(value='')))"
      ]
     },
     "metadata": {},
     "output_type": "display_data"
    },
    {
     "name": "stderr",
     "output_type": "stream",
     "text": [
      "../../lib/nn/seq_encoder.py:107: UserWarning: RNN module weights are not part of single contiguous chunk of memory. This means they need to be compacted at every call, possibly greatly increasing memory usage. To compact weights again call flatten_parameters().\n",
      "  output, hidden = self.rnn(embedded)\n"
     ]
    },
    {
     "name": "stdout",
     "output_type": "stream",
     "text": [
      "\n",
      "[2020-09-08 11:05:56,214][MainProcess][lib.checkpoint][INFO] Saving checkpoint: ../../experiments/relation_classifier.09_08_10:23:25/2457.pt\n"
     ]
    },
    {
     "data": {
      "application/vnd.jupyter.widget-view+json": {
       "model_id": "932d6700f86c4be2bf47c09eff78601c",
       "version_major": 2,
       "version_minor": 0
      },
      "text/plain": [
       "HBox(children=(IntProgress(value=0, max=2), HTML(value='')))"
      ]
     },
     "metadata": {},
     "output_type": "display_data"
    },
    {
     "name": "stdout",
     "output_type": "stream",
     "text": [
      "\n",
      "[2020-09-08 11:05:57,905][MainProcess][__main__][INFO] NLLLoss: 5.620\n",
      "[2020-09-08 11:05:57,972][MainProcess][lib.metrics.accuracy][INFO] Accuracy: 0.0 [0 of 8192]\n",
      "––––––––––––––––––––––––––––––––––––––––––––––––––––––––––––––––––––––––––––––––––––––––––––––––––––\n",
      "[2020-09-08 11:05:57,980][MainProcess][__main__][INFO] Epoch: 1\n",
      "[2020-09-08 11:05:57,981][MainProcess][__main__][INFO] Training...\n"
     ]
    },
    {
     "data": {
      "application/vnd.jupyter.widget-view+json": {
       "model_id": "26181e9ae53e4c4ab798c1bbd6db9dfa",
       "version_major": 2,
       "version_minor": 0
      },
      "text/plain": [
       "HBox(children=(IntProgress(value=0, max=2371), HTML(value='')))"
      ]
     },
     "metadata": {},
     "output_type": "display_data"
    },
    {
     "name": "stdout",
     "output_type": "stream",
     "text": [
      "\n",
      "[2020-09-08 11:06:21,315][MainProcess][lib.checkpoint][INFO] Saving checkpoint: ../../experiments/relation_classifier.09_08_10:23:25/2482.pt\n"
     ]
    },
    {
     "data": {
      "application/vnd.jupyter.widget-view+json": {
       "model_id": "827bf75a0ed54ce6932e2517a23962a2",
       "version_major": 2,
       "version_minor": 0
      },
      "text/plain": [
       "HBox(children=(IntProgress(value=0, max=2), HTML(value='')))"
      ]
     },
     "metadata": {},
     "output_type": "display_data"
    },
    {
     "name": "stdout",
     "output_type": "stream",
     "text": [
      "\n",
      "[2020-09-08 11:06:22,302][MainProcess][__main__][INFO] NLLLoss: 5.620\n",
      "[2020-09-08 11:06:22,369][MainProcess][lib.metrics.accuracy][INFO] Accuracy: 0.0 [0 of 8192]\n"
     ]
    },
    {
     "name": "stderr",
     "output_type": "stream",
     "text": [
      "\r",
      "  9%|▉         | 94.44444444444461/1000.0 [33:48<5:18:29, 21.10s/it, min_score=-0, models_evaluated=55]"
     ]
    },
    {
     "name": "stdout",
     "output_type": "stream",
     "text": [
      "––––––––––––––––––––––––––––––––––––––––––––––––––––––––––––––––––––––––––––––––––––––––––––––––––––\n",
      "====================================================================================================\n",
      "[2020-09-08 11:06:22,412][MainProcess][lib.configurable][INFO] Checking configuration...\n",
      "[2020-09-08 11:06:22,413][MainProcess][lib.configurable][INFO] Configuration checked.\n",
      "[2020-09-08 11:06:22,414][MainProcess][lib.checkpoint][INFO] Loading checkpoints from ../../experiments/relation_classifier.09_08_10:23:25/495.pt onto device 0\n",
      "[2020-09-08 11:06:22,487][MainProcess][__main__][INFO] Epochs: 2\n",
      "[2020-09-08 11:06:22,489][MainProcess][__main__][INFO] Train Dataset Size: 75900\n",
      "[2020-09-08 11:06:22,489][MainProcess][__main__][INFO] Dev Dataset Size: 10845\n",
      "[2020-09-08 11:06:22,490][MainProcess][__main__][INFO] Train Batch Size: 32\n",
      "[2020-09-08 11:06:22,491][MainProcess][__main__][INFO] Train Max Batch Size: 1024\n",
      "[2020-09-08 11:06:22,492][MainProcess][__main__][INFO] Total Parameters: 1859519\n",
      "[2020-09-08 11:06:22,493][MainProcess][__main__][INFO] Model:\n",
      "SeqToLabel(\n",
      "  (encoder): SeqEncoder(\n",
      "    (embedding): Embedding(6899, 300, padding_idx=0)\n",
      "    (rnn): LSTM(300, 282, num_layers=2, dropout=0.7062204135570732)\n",
      "    (rnn_dropout): LockedDropout(p=0.772249782981812)\n",
      "    (embedding_dropout): Dropout(p=0.6697370349574399)\n",
      "  )\n",
      "  (out): Sequential(\n",
      "    (0): Linear(in_features=282, out_features=282, bias=True)\n",
      "    (1): BatchNorm1d(282, eps=1e-05, momentum=0.1, affine=True, track_running_stats=True)\n",
      "    (2): ReLU()\n",
      "    (3): Dropout(p=0.455411047482091)\n",
      "    (4): Linear(in_features=282, out_features=1703, bias=True)\n",
      "  )\n",
      ")\n",
      "[2020-09-08 11:06:22,494][MainProcess][__main__][INFO] Epoch: 0\n",
      "[2020-09-08 11:06:22,495][MainProcess][__main__][INFO] Training...\n"
     ]
    },
    {
     "data": {
      "application/vnd.jupyter.widget-view+json": {
       "model_id": "f7f418265eb545d2a45818878f33e5af",
       "version_major": 2,
       "version_minor": 0
      },
      "text/plain": [
       "HBox(children=(IntProgress(value=0, max=2371), HTML(value='')))"
      ]
     },
     "metadata": {},
     "output_type": "display_data"
    },
    {
     "name": "stdout",
     "output_type": "stream",
     "text": [
      "\n",
      "[2020-09-08 11:06:39,019][MainProcess][lib.checkpoint][INFO] Saving checkpoint: ../../experiments/relation_classifier.09_08_10:23:25/2500.pt\n"
     ]
    },
    {
     "data": {
      "application/vnd.jupyter.widget-view+json": {
       "model_id": "a6d70534a3c1433aa626fe07ab7a3353",
       "version_major": 2,
       "version_minor": 0
      },
      "text/plain": [
       "HBox(children=(IntProgress(value=0, max=2), HTML(value='')))"
      ]
     },
     "metadata": {},
     "output_type": "display_data"
    },
    {
     "name": "stdout",
     "output_type": "stream",
     "text": [
      "\n",
      "[2020-09-08 11:06:40,115][MainProcess][__main__][INFO] NLLLoss: 5.620\n",
      "[2020-09-08 11:06:40,182][MainProcess][lib.metrics.accuracy][INFO] Accuracy: 0.0 [0 of 8192]\n",
      "––––––––––––––––––––––––––––––––––––––––––––––––––––––––––––––––––––––––––––––––––––––––––––––––––––\n",
      "[2020-09-08 11:06:40,190][MainProcess][__main__][INFO] Epoch: 1\n",
      "[2020-09-08 11:06:40,191][MainProcess][__main__][INFO] Training...\n"
     ]
    },
    {
     "data": {
      "application/vnd.jupyter.widget-view+json": {
       "model_id": "2f6e87af366345a69c735e5579218c61",
       "version_major": 2,
       "version_minor": 0
      },
      "text/plain": [
       "HBox(children=(IntProgress(value=0, max=2371), HTML(value='')))"
      ]
     },
     "metadata": {},
     "output_type": "display_data"
    },
    {
     "name": "stdout",
     "output_type": "stream",
     "text": [
      "\n",
      "[2020-09-08 11:06:56,650][MainProcess][lib.checkpoint][INFO] Saving checkpoint: ../../experiments/relation_classifier.09_08_10:23:25/2518.pt\n"
     ]
    },
    {
     "data": {
      "application/vnd.jupyter.widget-view+json": {
       "model_id": "12e85c4704c44fb19cb82372a4cfe019",
       "version_major": 2,
       "version_minor": 0
      },
      "text/plain": [
       "HBox(children=(IntProgress(value=0, max=2), HTML(value='')))"
      ]
     },
     "metadata": {},
     "output_type": "display_data"
    },
    {
     "name": "stdout",
     "output_type": "stream",
     "text": [
      "\n",
      "[2020-09-08 11:06:57,592][MainProcess][__main__][INFO] NLLLoss: 5.620\n",
      "[2020-09-08 11:06:57,658][MainProcess][lib.metrics.accuracy][INFO] Accuracy: 0.0 [0 of 8192]\n"
     ]
    },
    {
     "name": "stderr",
     "output_type": "stream",
     "text": [
      "\r",
      " 10%|▉         | 96.66666666666684/1000.0 [34:23<4:54:06, 19.54s/it, min_score=-0, models_evaluated=55]"
     ]
    },
    {
     "name": "stdout",
     "output_type": "stream",
     "text": [
      "––––––––––––––––––––––––––––––––––––––––––––––––––––––––––––––––––––––––––––––––––––––––––––––––––––\n",
      "====================================================================================================\n",
      "[2020-09-08 11:06:57,699][MainProcess][lib.configurable][INFO] Checking configuration...\n",
      "[2020-09-08 11:06:57,700][MainProcess][lib.configurable][INFO] Configuration checked.\n",
      "[2020-09-08 11:06:57,701][MainProcess][lib.checkpoint][INFO] Loading checkpoints from ../../experiments/relation_classifier.09_08_10:23:25/515.pt onto device 0\n",
      "[2020-09-08 11:06:57,793][MainProcess][__main__][INFO] Epochs: 2\n",
      "[2020-09-08 11:06:57,794][MainProcess][__main__][INFO] Train Dataset Size: 75900\n",
      "[2020-09-08 11:06:57,795][MainProcess][__main__][INFO] Dev Dataset Size: 10845\n",
      "[2020-09-08 11:06:57,796][MainProcess][__main__][INFO] Train Batch Size: 32\n",
      "[2020-09-08 11:06:57,796][MainProcess][__main__][INFO] Train Max Batch Size: 1024\n",
      "[2020-09-08 11:06:57,797][MainProcess][__main__][INFO] Total Parameters: 5415359\n",
      "[2020-09-08 11:06:57,798][MainProcess][__main__][INFO] Model:\n",
      "SeqToLabel(\n",
      "  (encoder): SeqEncoder(\n",
      "    (embedding): Embedding(6899, 300, padding_idx=0)\n",
      "    (rnn): GRU(300, 462, num_layers=2, dropout=0.5595093230536727)\n",
      "    (rnn_dropout): LockedDropout(p=0.27173212259680507)\n",
      "    (embedding_dropout): Dropout(p=0.7776369838735779)\n",
      "  )\n",
      "  (out): Sequential(\n",
      "    (0): Linear(in_features=462, out_features=462, bias=True)\n",
      "    (1): BatchNorm1d(462, eps=1e-05, momentum=0.1, affine=True, track_running_stats=True)\n",
      "    (2): ReLU()\n",
      "    (3): Dropout(p=0.6122797691749841)\n",
      "    (4): Linear(in_features=462, out_features=1703, bias=True)\n",
      "  )\n",
      ")\n",
      "[2020-09-08 11:06:57,799][MainProcess][__main__][INFO] Epoch: 0\n",
      "[2020-09-08 11:06:57,800][MainProcess][__main__][INFO] Training...\n"
     ]
    },
    {
     "data": {
      "application/vnd.jupyter.widget-view+json": {
       "model_id": "030a33a745814c2282011ec2305cf368",
       "version_major": 2,
       "version_minor": 0
      },
      "text/plain": [
       "HBox(children=(IntProgress(value=0, max=2371), HTML(value='')))"
      ]
     },
     "metadata": {},
     "output_type": "display_data"
    },
    {
     "name": "stdout",
     "output_type": "stream",
     "text": [
      "\n",
      "[2020-09-08 11:07:17,174][MainProcess][lib.checkpoint][INFO] Saving checkpoint: ../../experiments/relation_classifier.09_08_10:23:25/2538.pt\n"
     ]
    },
    {
     "data": {
      "application/vnd.jupyter.widget-view+json": {
       "model_id": "80f0cc59d47849e880f368cce15edd46",
       "version_major": 2,
       "version_minor": 0
      },
      "text/plain": [
       "HBox(children=(IntProgress(value=0, max=2), HTML(value='')))"
      ]
     },
     "metadata": {},
     "output_type": "display_data"
    },
    {
     "name": "stdout",
     "output_type": "stream",
     "text": [
      "\n",
      "[2020-09-08 11:07:20,135][MainProcess][__main__][INFO] NLLLoss: 5.620\n",
      "[2020-09-08 11:07:20,203][MainProcess][lib.metrics.accuracy][INFO] Accuracy: 0.0 [0 of 8192]\n",
      "––––––––––––––––––––––––––––––––––––––––––––––––––––––––––––––––––––––––––––––––––––––––––––––––––––\n",
      "[2020-09-08 11:07:20,210][MainProcess][__main__][INFO] Epoch: 1\n",
      "[2020-09-08 11:07:20,211][MainProcess][__main__][INFO] Training...\n"
     ]
    },
    {
     "data": {
      "application/vnd.jupyter.widget-view+json": {
       "model_id": "7e6f3b9fa727492a81117ea1251c6d21",
       "version_major": 2,
       "version_minor": 0
      },
      "text/plain": [
       "HBox(children=(IntProgress(value=0, max=2371), HTML(value='')))"
      ]
     },
     "metadata": {},
     "output_type": "display_data"
    },
    {
     "name": "stdout",
     "output_type": "stream",
     "text": [
      "\n",
      "[2020-09-08 11:07:40,176][MainProcess][lib.checkpoint][INFO] Saving checkpoint: ../../experiments/relation_classifier.09_08_10:23:25/2561.pt\n"
     ]
    },
    {
     "data": {
      "application/vnd.jupyter.widget-view+json": {
       "model_id": "10334fee79bd488ebc02d59f72d3ec9f",
       "version_major": 2,
       "version_minor": 0
      },
      "text/plain": [
       "HBox(children=(IntProgress(value=0, max=2), HTML(value='')))"
      ]
     },
     "metadata": {},
     "output_type": "display_data"
    },
    {
     "name": "stdout",
     "output_type": "stream",
     "text": [
      "\n",
      "[2020-09-08 11:07:42,215][MainProcess][__main__][INFO] NLLLoss: 5.620\n",
      "[2020-09-08 11:07:42,283][MainProcess][lib.metrics.accuracy][INFO] Accuracy: 0.0 [0 of 8192]\n"
     ]
    },
    {
     "name": "stderr",
     "output_type": "stream",
     "text": [
      "\r",
      " 10%|▉         | 98.88888888888907/1000.0 [35:08<4:55:52, 19.70s/it, min_score=-0, models_evaluated=55]"
     ]
    },
    {
     "name": "stdout",
     "output_type": "stream",
     "text": [
      "––––––––––––––––––––––––––––––––––––––––––––––––––––––––––––––––––––––––––––––––––––––––––––––––––––\n",
      "====================================================================================================\n",
      "[2020-09-08 11:07:42,334][MainProcess][lib.configurable][INFO] Checking configuration...\n",
      "[2020-09-08 11:07:42,336][MainProcess][lib.configurable][INFO] Configuration checked.\n",
      "[2020-09-08 11:07:42,337][MainProcess][lib.checkpoint][INFO] Loading checkpoints from ../../experiments/relation_classifier.09_08_10:23:25/538.pt onto device 0\n",
      "[2020-09-08 11:07:42,408][MainProcess][__main__][INFO] Epochs: 2\n",
      "[2020-09-08 11:07:42,409][MainProcess][__main__][INFO] Train Dataset Size: 75900\n",
      "[2020-09-08 11:07:42,410][MainProcess][__main__][INFO] Dev Dataset Size: 10845\n",
      "[2020-09-08 11:07:42,411][MainProcess][__main__][INFO] Train Batch Size: 32\n",
      "[2020-09-08 11:07:42,412][MainProcess][__main__][INFO] Train Max Batch Size: 1024\n",
      "[2020-09-08 11:07:42,412][MainProcess][__main__][INFO] Total Parameters: 1155583\n",
      "[2020-09-08 11:07:42,413][MainProcess][__main__][INFO] Model:\n",
      "SeqToLabel(\n",
      "  (encoder): SeqEncoder(\n",
      "    (embedding): Embedding(6899, 300, padding_idx=0)\n",
      "    (rnn): GRU(300, 130, num_layers=2, dropout=0.08025112723127079, bidirectional=True)\n",
      "    (rnn_dropout): LockedDropout(p=0.22152418915430605)\n",
      "    (embedding_dropout): Dropout(p=0.2757762415117202)\n",
      "  )\n",
      "  (out): Sequential(\n",
      "    (0): Linear(in_features=260, out_features=260, bias=True)\n",
      "    (1): BatchNorm1d(260, eps=1e-05, momentum=0.1, affine=True, track_running_stats=True)\n",
      "    (2): ReLU()\n",
      "    (3): Dropout(p=0.574921817957778)\n",
      "    (4): Linear(in_features=260, out_features=1703, bias=True)\n",
      "  )\n",
      ")\n",
      "[2020-09-08 11:07:42,414][MainProcess][__main__][INFO] Epoch: 0\n",
      "[2020-09-08 11:07:42,415][MainProcess][__main__][INFO] Training...\n"
     ]
    },
    {
     "data": {
      "application/vnd.jupyter.widget-view+json": {
       "model_id": "9c8fe22970c3485c8affa2e7403c75a3",
       "version_major": 2,
       "version_minor": 0
      },
      "text/plain": [
       "HBox(children=(IntProgress(value=0, max=2371), HTML(value='')))"
      ]
     },
     "metadata": {},
     "output_type": "display_data"
    },
    {
     "name": "stdout",
     "output_type": "stream",
     "text": [
      "\n",
      "[2020-09-08 11:08:05,101][MainProcess][lib.checkpoint][INFO] Saving checkpoint: ../../experiments/relation_classifier.09_08_10:23:25/2586.pt\n"
     ]
    },
    {
     "data": {
      "application/vnd.jupyter.widget-view+json": {
       "model_id": "ede889343f37459eb7429d6433e5be55",
       "version_major": 2,
       "version_minor": 0
      },
      "text/plain": [
       "HBox(children=(IntProgress(value=0, max=2), HTML(value='')))"
      ]
     },
     "metadata": {},
     "output_type": "display_data"
    },
    {
     "name": "stdout",
     "output_type": "stream",
     "text": [
      "\n",
      "[2020-09-08 11:08:05,991][MainProcess][__main__][INFO] NLLLoss: 5.620\n",
      "[2020-09-08 11:08:06,058][MainProcess][lib.metrics.accuracy][INFO] Accuracy: 0.0 [0 of 8192]\n",
      "––––––––––––––––––––––––––––––––––––––––––––––––––––––––––––––––––––––––––––––––––––––––––––––––––––\n",
      "[2020-09-08 11:08:06,066][MainProcess][__main__][INFO] Epoch: 1\n",
      "[2020-09-08 11:08:06,067][MainProcess][__main__][INFO] Training...\n"
     ]
    },
    {
     "data": {
      "application/vnd.jupyter.widget-view+json": {
       "model_id": "408fc2f8dd124204b6f0501ae154a46a",
       "version_major": 2,
       "version_minor": 0
      },
      "text/plain": [
       "HBox(children=(IntProgress(value=0, max=2371), HTML(value='')))"
      ]
     },
     "metadata": {},
     "output_type": "display_data"
    },
    {
     "name": "stdout",
     "output_type": "stream",
     "text": [
      "\n",
      "[2020-09-08 11:08:29,730][MainProcess][lib.checkpoint][INFO] Saving checkpoint: ../../experiments/relation_classifier.09_08_10:23:25/2611.pt\n"
     ]
    },
    {
     "data": {
      "application/vnd.jupyter.widget-view+json": {
       "model_id": "12576d8ff71547ad8ae71259d48e97f0",
       "version_major": 2,
       "version_minor": 0
      },
      "text/plain": [
       "HBox(children=(IntProgress(value=0, max=2), HTML(value='')))"
      ]
     },
     "metadata": {},
     "output_type": "display_data"
    },
    {
     "name": "stdout",
     "output_type": "stream",
     "text": [
      "\n",
      "[2020-09-08 11:08:30,652][MainProcess][__main__][INFO] NLLLoss: 5.620\n",
      "[2020-09-08 11:08:30,718][MainProcess][lib.metrics.accuracy][INFO] Accuracy: 0.0 [0 of 8192]\n"
     ]
    },
    {
     "name": "stderr",
     "output_type": "stream",
     "text": [
      "\r",
      " 10%|█         | 101.1111111111113/1000.0 [35:57<5:04:32, 20.33s/it, min_score=-0, models_evaluated=55]"
     ]
    },
    {
     "name": "stdout",
     "output_type": "stream",
     "text": [
      "––––––––––––––––––––––––––––––––––––––––––––––––––––––––––––––––––––––––––––––––––––––––––––––––––––\n",
      "====================================================================================================\n",
      "[2020-09-08 11:08:30,757][MainProcess][lib.configurable][INFO] Checking configuration...\n",
      "[2020-09-08 11:08:30,759][MainProcess][lib.configurable][INFO] Configuration checked.\n",
      "[2020-09-08 11:08:30,759][MainProcess][lib.checkpoint][INFO] Loading checkpoints from ../../experiments/relation_classifier.09_08_10:23:25/555.pt onto device 0\n",
      "[2020-09-08 11:08:30,826][MainProcess][__main__][INFO] Epochs: 2\n",
      "[2020-09-08 11:08:30,827][MainProcess][__main__][INFO] Train Dataset Size: 75900\n",
      "[2020-09-08 11:08:30,828][MainProcess][__main__][INFO] Dev Dataset Size: 10845\n",
      "[2020-09-08 11:08:30,828][MainProcess][__main__][INFO] Train Batch Size: 32\n",
      "[2020-09-08 11:08:30,829][MainProcess][__main__][INFO] Train Max Batch Size: 1024\n",
      "[2020-09-08 11:08:30,830][MainProcess][__main__][INFO] Total Parameters: 1909287\n",
      "[2020-09-08 11:08:30,831][MainProcess][__main__][INFO] Model:\n",
      "SeqToLabel(\n",
      "  (encoder): SeqEncoder(\n",
      "    (embedding): Embedding(6899, 300, padding_idx=0)\n",
      "    (rnn): LSTM(300, 224, dropout=0.7372527640822159, bidirectional=True)\n",
      "    (rnn_dropout): LockedDropout(p=0.41759254601919227)\n",
      "    (embedding_dropout): Dropout(p=0.5448478725311474)\n",
      "  )\n",
      "  (out): Sequential(\n",
      "    (0): Linear(in_features=448, out_features=448, bias=True)\n",
      "    (1): BatchNorm1d(448, eps=1e-05, momentum=0.1, affine=True, track_running_stats=True)\n",
      "    (2): ReLU()\n",
      "    (3): Dropout(p=0.8036857464746061)\n",
      "    (4): Linear(in_features=448, out_features=1703, bias=True)\n",
      "  )\n",
      ")\n",
      "[2020-09-08 11:08:30,831][MainProcess][__main__][INFO] Epoch: 0\n",
      "[2020-09-08 11:08:30,832][MainProcess][__main__][INFO] Training...\n"
     ]
    },
    {
     "data": {
      "application/vnd.jupyter.widget-view+json": {
       "model_id": "20e39ed85263482e9278c228db93decd",
       "version_major": 2,
       "version_minor": 0
      },
      "text/plain": [
       "HBox(children=(IntProgress(value=0, max=2371), HTML(value='')))"
      ]
     },
     "metadata": {},
     "output_type": "display_data"
    },
    {
     "name": "stdout",
     "output_type": "stream",
     "text": [
      "\n",
      "[2020-09-08 11:08:47,819][MainProcess][lib.checkpoint][INFO] Saving checkpoint: ../../experiments/relation_classifier.09_08_10:23:25/2629.pt\n"
     ]
    },
    {
     "data": {
      "application/vnd.jupyter.widget-view+json": {
       "model_id": "f72970f75e774ebc9b546ff1b541c4f5",
       "version_major": 2,
       "version_minor": 0
      },
      "text/plain": [
       "HBox(children=(IntProgress(value=0, max=2), HTML(value='')))"
      ]
     },
     "metadata": {},
     "output_type": "display_data"
    },
    {
     "name": "stdout",
     "output_type": "stream",
     "text": [
      "\n",
      "[2020-09-08 11:08:48,772][MainProcess][__main__][INFO] NLLLoss: 5.620\n",
      "[2020-09-08 11:08:48,838][MainProcess][lib.metrics.accuracy][INFO] Accuracy: 0.0 [0 of 8192]\n",
      "––––––––––––––––––––––––––––––––––––––––––––––––––––––––––––––––––––––––––––––––––––––––––––––––––––\n",
      "[2020-09-08 11:08:48,846][MainProcess][__main__][INFO] Epoch: 1\n",
      "[2020-09-08 11:08:48,847][MainProcess][__main__][INFO] Training...\n"
     ]
    },
    {
     "data": {
      "application/vnd.jupyter.widget-view+json": {
       "model_id": "4658435095104bf190b73a100264123b",
       "version_major": 2,
       "version_minor": 0
      },
      "text/plain": [
       "HBox(children=(IntProgress(value=0, max=2371), HTML(value='')))"
      ]
     },
     "metadata": {},
     "output_type": "display_data"
    },
    {
     "name": "stdout",
     "output_type": "stream",
     "text": [
      "\n",
      "[2020-09-08 11:09:03,726][MainProcess][lib.checkpoint][INFO] Saving checkpoint: ../../experiments/relation_classifier.09_08_10:23:25/2645.pt\n"
     ]
    },
    {
     "data": {
      "application/vnd.jupyter.widget-view+json": {
       "model_id": "74fd576ee1934ff085f0310773b9878f",
       "version_major": 2,
       "version_minor": 0
      },
      "text/plain": [
       "HBox(children=(IntProgress(value=0, max=2), HTML(value='')))"
      ]
     },
     "metadata": {},
     "output_type": "display_data"
    },
    {
     "name": "stdout",
     "output_type": "stream",
     "text": [
      "\n",
      "[2020-09-08 11:09:04,777][MainProcess][__main__][INFO] NLLLoss: 5.620\n",
      "[2020-09-08 11:09:04,848][MainProcess][lib.metrics.accuracy][INFO] Accuracy: 0.0 [0 of 8192]\n"
     ]
    },
    {
     "name": "stderr",
     "output_type": "stream",
     "text": [
      "\r",
      " 10%|█         | 103.33333333333353/1000.0 [36:31<4:41:30, 18.84s/it, min_score=-0, models_evaluated=55]"
     ]
    },
    {
     "name": "stdout",
     "output_type": "stream",
     "text": [
      "––––––––––––––––––––––––––––––––––––––––––––––––––––––––––––––––––––––––––––––––––––––––––––––––––––\n",
      "====================================================================================================\n",
      "[2020-09-08 11:09:04,893][MainProcess][lib.configurable][INFO] Checking configuration...\n",
      "[2020-09-08 11:09:04,894][MainProcess][lib.configurable][INFO] Configuration checked.\n",
      "[2020-09-08 11:09:04,895][MainProcess][lib.checkpoint][INFO] Loading checkpoints from ../../experiments/relation_classifier.09_08_10:23:25/570.pt onto device 0\n",
      "[2020-09-08 11:09:04,996][MainProcess][__main__][INFO] Epochs: 2\n",
      "[2020-09-08 11:09:04,997][MainProcess][__main__][INFO] Train Dataset Size: 75900\n",
      "[2020-09-08 11:09:04,998][MainProcess][__main__][INFO] Dev Dataset Size: 10845\n",
      "[2020-09-08 11:09:04,999][MainProcess][__main__][INFO] Train Batch Size: 32\n",
      "[2020-09-08 11:09:05,000][MainProcess][__main__][INFO] Train Max Batch Size: 1024\n",
      "[2020-09-08 11:09:05,001][MainProcess][__main__][INFO] Total Parameters: 3348019\n",
      "[2020-09-08 11:09:05,001][MainProcess][__main__][INFO] Model:\n",
      "SeqToLabel(\n",
      "  (encoder): SeqEncoder(\n",
      "    (embedding): Embedding(6899, 300, padding_idx=0)\n",
      "    (rnn): GRU(300, 326, dropout=0.4660804513197192)\n",
      "    (rnn_dropout): LockedDropout(p=0.3009158056581848)\n",
      "    (embedding_dropout): Dropout(p=0.3203089949486566)\n",
      "  )\n",
      "  (out): Sequential(\n",
      "    (0): Linear(in_features=326, out_features=326, bias=True)\n",
      "    (1): BatchNorm1d(326, eps=1e-05, momentum=0.1, affine=True, track_running_stats=True)\n",
      "    (2): ReLU()\n",
      "    (3): Dropout(p=0.08640946013779281)\n",
      "    (4): Linear(in_features=326, out_features=1703, bias=True)\n",
      "  )\n",
      ")\n",
      "[2020-09-08 11:09:05,002][MainProcess][__main__][INFO] Epoch: 0\n",
      "[2020-09-08 11:09:05,003][MainProcess][__main__][INFO] Training...\n"
     ]
    },
    {
     "data": {
      "application/vnd.jupyter.widget-view+json": {
       "model_id": "f810dd0980764cda86e8baeca3170cb7",
       "version_major": 2,
       "version_minor": 0
      },
      "text/plain": [
       "HBox(children=(IntProgress(value=0, max=2371), HTML(value='')))"
      ]
     },
     "metadata": {},
     "output_type": "display_data"
    },
    {
     "name": "stdout",
     "output_type": "stream",
     "text": [
      "\n",
      "[2020-09-08 11:09:18,568][MainProcess][lib.checkpoint][INFO] Saving checkpoint: ../../experiments/relation_classifier.09_08_10:23:25/2660.pt\n"
     ]
    },
    {
     "data": {
      "application/vnd.jupyter.widget-view+json": {
       "model_id": "8d2d0ab70e9b4d478da995a71919cbfc",
       "version_major": 2,
       "version_minor": 0
      },
      "text/plain": [
       "HBox(children=(IntProgress(value=0, max=2), HTML(value='')))"
      ]
     },
     "metadata": {},
     "output_type": "display_data"
    },
    {
     "name": "stdout",
     "output_type": "stream",
     "text": [
      "\n",
      "[2020-09-08 11:09:20,013][MainProcess][__main__][INFO] NLLLoss: 5.620\n",
      "[2020-09-08 11:09:20,079][MainProcess][lib.metrics.accuracy][INFO] Accuracy: 0.0 [0 of 8192]\n",
      "––––––––––––––––––––––––––––––––––––––––––––––––––––––––––––––––––––––––––––––––––––––––––––––––––––\n",
      "[2020-09-08 11:09:20,087][MainProcess][__main__][INFO] Epoch: 1\n",
      "[2020-09-08 11:09:20,088][MainProcess][__main__][INFO] Training...\n"
     ]
    },
    {
     "data": {
      "application/vnd.jupyter.widget-view+json": {
       "model_id": "015b1616d29a41d7b49422d8ceb39d6d",
       "version_major": 2,
       "version_minor": 0
      },
      "text/plain": [
       "HBox(children=(IntProgress(value=0, max=2371), HTML(value='')))"
      ]
     },
     "metadata": {},
     "output_type": "display_data"
    },
    {
     "name": "stdout",
     "output_type": "stream",
     "text": [
      "\n",
      "[2020-09-08 11:09:33,585][MainProcess][lib.checkpoint][INFO] Saving checkpoint: ../../experiments/relation_classifier.09_08_10:23:25/2675.pt\n"
     ]
    },
    {
     "data": {
      "application/vnd.jupyter.widget-view+json": {
       "model_id": "db0519dfcdf04146af184f127fd7b8ff",
       "version_major": 2,
       "version_minor": 0
      },
      "text/plain": [
       "HBox(children=(IntProgress(value=0, max=2), HTML(value='')))"
      ]
     },
     "metadata": {},
     "output_type": "display_data"
    },
    {
     "name": "stdout",
     "output_type": "stream",
     "text": [
      "\n",
      "[2020-09-08 11:09:34,744][MainProcess][__main__][INFO] NLLLoss: 5.620\n",
      "[2020-09-08 11:09:34,812][MainProcess][lib.metrics.accuracy][INFO] Accuracy: 0.0 [0 of 8192]\n"
     ]
    },
    {
     "name": "stderr",
     "output_type": "stream",
     "text": [
      "\r",
      " 11%|█         | 105.55555555555576/1000.0 [37:01<4:16:52, 17.23s/it, min_score=-0, models_evaluated=55]"
     ]
    },
    {
     "name": "stdout",
     "output_type": "stream",
     "text": [
      "––––––––––––––––––––––––––––––––––––––––––––––––––––––––––––––––––––––––––––––––––––––––––––––––––––\n",
      "====================================================================================================\n",
      "[2020-09-08 11:09:34,857][MainProcess][lib.configurable][INFO] Checking configuration...\n",
      "[2020-09-08 11:09:34,858][MainProcess][lib.configurable][INFO] Configuration checked.\n",
      "[2020-09-08 11:09:34,859][MainProcess][lib.checkpoint][INFO] Loading checkpoints from ../../experiments/relation_classifier.09_08_10:23:25/601.pt onto device 0\n",
      "[2020-09-08 11:09:34,938][MainProcess][__main__][INFO] Epochs: 2\n",
      "[2020-09-08 11:09:34,939][MainProcess][__main__][INFO] Train Dataset Size: 75900\n",
      "[2020-09-08 11:09:34,940][MainProcess][__main__][INFO] Dev Dataset Size: 10845\n",
      "[2020-09-08 11:09:34,941][MainProcess][__main__][INFO] Train Batch Size: 32\n",
      "[2020-09-08 11:09:34,942][MainProcess][__main__][INFO] Train Max Batch Size: 1024\n",
      "[2020-09-08 11:09:34,943][MainProcess][__main__][INFO] Total Parameters: 5177561\n",
      "[2020-09-08 11:09:34,944][MainProcess][__main__][INFO] Model:\n",
      "SeqToLabel(\n",
      "  (encoder): SeqEncoder(\n",
      "    (embedding): Embedding(6899, 300, padding_idx=0)\n",
      "    (rnn): GRU(300, 209, num_layers=3, dropout=0.5529952973323772, bidirectional=True)\n",
      "    (rnn_dropout): LockedDropout(p=0.8628305966429736)\n",
      "    (embedding_dropout): Dropout(p=0.019806054552152754)\n",
      "  )\n",
      "  (out): Sequential(\n",
      "    (0): Linear(in_features=418, out_features=418, bias=True)\n",
      "    (1): BatchNorm1d(418, eps=1e-05, momentum=0.1, affine=True, track_running_stats=True)\n",
      "    (2): ReLU()\n",
      "    (3): Dropout(p=0.4692320361472132)\n",
      "    (4): Linear(in_features=418, out_features=1703, bias=True)\n",
      "  )\n",
      ")\n",
      "[2020-09-08 11:09:34,944][MainProcess][__main__][INFO] Epoch: 0\n",
      "[2020-09-08 11:09:34,945][MainProcess][__main__][INFO] Training...\n"
     ]
    },
    {
     "data": {
      "application/vnd.jupyter.widget-view+json": {
       "model_id": "72b4623d00774cadb1b1a353600b5a32",
       "version_major": 2,
       "version_minor": 0
      },
      "text/plain": [
       "HBox(children=(IntProgress(value=0, max=2371), HTML(value='')))"
      ]
     },
     "metadata": {},
     "output_type": "display_data"
    },
    {
     "name": "stdout",
     "output_type": "stream",
     "text": [
      "\n",
      "[2020-09-08 11:10:05,575][MainProcess][lib.checkpoint][INFO] Saving checkpoint: ../../experiments/relation_classifier.09_08_10:23:25/2707.pt\n"
     ]
    },
    {
     "data": {
      "application/vnd.jupyter.widget-view+json": {
       "model_id": "a2382b72c7d147ef8f3096fd374ba1be",
       "version_major": 2,
       "version_minor": 0
      },
      "text/plain": [
       "HBox(children=(IntProgress(value=0, max=2), HTML(value='')))"
      ]
     },
     "metadata": {},
     "output_type": "display_data"
    },
    {
     "name": "stdout",
     "output_type": "stream",
     "text": [
      "\n",
      "[2020-09-08 11:10:07,581][MainProcess][__main__][INFO] NLLLoss: 5.620\n",
      "[2020-09-08 11:10:07,648][MainProcess][lib.metrics.accuracy][INFO] Accuracy: 0.0 [0 of 8192]\n",
      "––––––––––––––––––––––––––––––––––––––––––––––––––––––––––––––––––––––––––––––––––––––––––––––––––––\n",
      "[2020-09-08 11:10:07,655][MainProcess][__main__][INFO] Epoch: 1\n",
      "[2020-09-08 11:10:07,656][MainProcess][__main__][INFO] Training...\n"
     ]
    },
    {
     "data": {
      "application/vnd.jupyter.widget-view+json": {
       "model_id": "d4714947289d4ddbb86533e3c48b7e7f",
       "version_major": 2,
       "version_minor": 0
      },
      "text/plain": [
       "HBox(children=(IntProgress(value=0, max=2371), HTML(value='')))"
      ]
     },
     "metadata": {},
     "output_type": "display_data"
    },
    {
     "name": "stdout",
     "output_type": "stream",
     "text": [
      "\n",
      "[2020-09-08 11:10:37,281][MainProcess][lib.checkpoint][INFO] Saving checkpoint: ../../experiments/relation_classifier.09_08_10:23:25/2738.pt\n"
     ]
    },
    {
     "data": {
      "application/vnd.jupyter.widget-view+json": {
       "model_id": "6c5f84dca0c44431800f594cf997768f",
       "version_major": 2,
       "version_minor": 0
      },
      "text/plain": [
       "HBox(children=(IntProgress(value=0, max=2), HTML(value='')))"
      ]
     },
     "metadata": {},
     "output_type": "display_data"
    },
    {
     "name": "stdout",
     "output_type": "stream",
     "text": [
      "\n",
      "[2020-09-08 11:10:38,720][MainProcess][__main__][INFO] NLLLoss: 5.620\n",
      "[2020-09-08 11:10:38,787][MainProcess][lib.metrics.accuracy][INFO] Accuracy: 0.0 [0 of 8192]\n"
     ]
    },
    {
     "name": "stderr",
     "output_type": "stream",
     "text": [
      "\r",
      " 11%|█         | 107.77777777777798/1000.0 [38:05<5:07:49, 20.70s/it, min_score=-0, models_evaluated=55]"
     ]
    },
    {
     "name": "stdout",
     "output_type": "stream",
     "text": [
      "––––––––––––––––––––––––––––––––––––––––––––––––––––––––––––––––––––––––––––––––––––––––––––––––––––\n",
      "====================================================================================================\n",
      "[2020-09-08 11:10:38,847][MainProcess][lib.configurable][INFO] Checking configuration...\n",
      "[2020-09-08 11:10:38,849][MainProcess][lib.configurable][INFO] Configuration checked.\n",
      "[2020-09-08 11:10:38,850][MainProcess][lib.checkpoint][INFO] Loading checkpoints from ../../experiments/relation_classifier.09_08_10:23:25/629.pt onto device 0\n",
      "[2020-09-08 11:10:38,998][MainProcess][__main__][INFO] Epochs: 2\n",
      "[2020-09-08 11:10:38,999][MainProcess][__main__][INFO] Train Dataset Size: 75900\n",
      "[2020-09-08 11:10:39,000][MainProcess][__main__][INFO] Dev Dataset Size: 10845\n",
      "[2020-09-08 11:10:39,001][MainProcess][__main__][INFO] Train Batch Size: 32\n",
      "[2020-09-08 11:10:39,002][MainProcess][__main__][INFO] Train Max Batch Size: 1024\n",
      "[2020-09-08 11:10:39,003][MainProcess][__main__][INFO] Total Parameters: 1221383\n",
      "[2020-09-08 11:10:39,004][MainProcess][__main__][INFO] Model:\n",
      "SeqToLabel(\n",
      "  (encoder): SeqEncoder(\n",
      "    (embedding): Embedding(6899, 300, padding_idx=0)\n",
      "    (rnn): LSTM(300, 120, num_layers=2, dropout=0.761690235512407, bidirectional=True)\n",
      "    (rnn_dropout): LockedDropout(p=0.049686165062934794)\n",
      "    (embedding_dropout): Dropout(p=0.8887819639314805)\n",
      "  )\n",
      "  (out): Sequential(\n",
      "    (0): Linear(in_features=240, out_features=240, bias=True)\n",
      "    (1): BatchNorm1d(240, eps=1e-05, momentum=0.1, affine=True, track_running_stats=True)\n",
      "    (2): ReLU()\n",
      "    (3): Dropout(p=0.8123955345530696)\n",
      "    (4): Linear(in_features=240, out_features=1703, bias=True)\n",
      "  )\n",
      ")\n",
      "[2020-09-08 11:10:39,005][MainProcess][__main__][INFO] Epoch: 0\n",
      "[2020-09-08 11:10:39,005][MainProcess][__main__][INFO] Training...\n"
     ]
    },
    {
     "data": {
      "application/vnd.jupyter.widget-view+json": {
       "model_id": "0703111906874df2b88b0cdeab0535c4",
       "version_major": 2,
       "version_minor": 0
      },
      "text/plain": [
       "HBox(children=(IntProgress(value=0, max=2371), HTML(value='')))"
      ]
     },
     "metadata": {},
     "output_type": "display_data"
    },
    {
     "name": "stdout",
     "output_type": "stream",
     "text": [
      "\n",
      "[2020-09-08 11:11:01,139][MainProcess][lib.checkpoint][INFO] Saving checkpoint: ../../experiments/relation_classifier.09_08_10:23:25/2762.pt\n"
     ]
    },
    {
     "data": {
      "application/vnd.jupyter.widget-view+json": {
       "model_id": "e88188399b23488797a54372ab5e0197",
       "version_major": 2,
       "version_minor": 0
      },
      "text/plain": [
       "HBox(children=(IntProgress(value=0, max=2), HTML(value='')))"
      ]
     },
     "metadata": {},
     "output_type": "display_data"
    },
    {
     "name": "stdout",
     "output_type": "stream",
     "text": [
      "\n",
      "[2020-09-08 11:11:02,011][MainProcess][__main__][INFO] NLLLoss: 5.620\n",
      "[2020-09-08 11:11:02,078][MainProcess][lib.metrics.accuracy][INFO] Accuracy: 0.0 [0 of 8192]\n",
      "––––––––––––––––––––––––––––––––––––––––––––––––––––––––––––––––––––––––––––––––––––––––––––––––––––\n",
      "[2020-09-08 11:11:02,086][MainProcess][__main__][INFO] Epoch: 1\n",
      "[2020-09-08 11:11:02,086][MainProcess][__main__][INFO] Training...\n"
     ]
    },
    {
     "data": {
      "application/vnd.jupyter.widget-view+json": {
       "model_id": "8d181ba75ec748b289c4e76fa2b9d6be",
       "version_major": 2,
       "version_minor": 0
      },
      "text/plain": [
       "HBox(children=(IntProgress(value=0, max=2371), HTML(value='')))"
      ]
     },
     "metadata": {},
     "output_type": "display_data"
    },
    {
     "name": "stdout",
     "output_type": "stream",
     "text": [
      "\n",
      "[2020-09-08 11:11:24,328][MainProcess][lib.checkpoint][INFO] Saving checkpoint: ../../experiments/relation_classifier.09_08_10:23:25/2785.pt\n"
     ]
    },
    {
     "data": {
      "application/vnd.jupyter.widget-view+json": {
       "model_id": "b8475a0d6f0f4e70808d309328021680",
       "version_major": 2,
       "version_minor": 0
      },
      "text/plain": [
       "HBox(children=(IntProgress(value=0, max=2), HTML(value='')))"
      ]
     },
     "metadata": {},
     "output_type": "display_data"
    },
    {
     "name": "stdout",
     "output_type": "stream",
     "text": [
      "\n",
      "[2020-09-08 11:11:25,181][MainProcess][__main__][INFO] NLLLoss: 5.620\n",
      "[2020-09-08 11:11:25,249][MainProcess][lib.metrics.accuracy][INFO] Accuracy: 0.0 [0 of 8192]\n"
     ]
    },
    {
     "name": "stderr",
     "output_type": "stream",
     "text": [
      "\r",
      " 11%|█         | 110.00000000000021/1000.0 [38:51<5:07:56, 20.76s/it, min_score=-0, models_evaluated=55]"
     ]
    },
    {
     "name": "stdout",
     "output_type": "stream",
     "text": [
      "––––––––––––––––––––––––––––––––––––––––––––––––––––––––––––––––––––––––––––––––––––––––––––––––––––\n",
      "====================================================================================================\n",
      "[2020-09-08 11:11:25,288][MainProcess][lib.configurable][INFO] Checking configuration...\n",
      "[2020-09-08 11:11:25,290][MainProcess][lib.configurable][INFO] Configuration checked.\n",
      "[2020-09-08 11:11:25,290][MainProcess][lib.checkpoint][INFO] Loading checkpoints from ../../experiments/relation_classifier.09_08_10:23:25/657.pt onto device 0\n",
      "[2020-09-08 11:11:25,387][MainProcess][__main__][INFO] Epochs: 2\n",
      "[2020-09-08 11:11:25,388][MainProcess][__main__][INFO] Train Dataset Size: 75900\n",
      "[2020-09-08 11:11:25,389][MainProcess][__main__][INFO] Dev Dataset Size: 10845\n",
      "[2020-09-08 11:11:25,390][MainProcess][__main__][INFO] Train Batch Size: 32\n",
      "[2020-09-08 11:11:25,391][MainProcess][__main__][INFO] Train Max Batch Size: 1024\n",
      "[2020-09-08 11:11:25,391][MainProcess][__main__][INFO] Total Parameters: 5258379\n",
      "[2020-09-08 11:11:25,392][MainProcess][__main__][INFO] Model:\n",
      "SeqToLabel(\n",
      "  (encoder): SeqEncoder(\n",
      "    (embedding): Embedding(6899, 300, padding_idx=0)\n",
      "    (rnn): LSTM(300, 326, num_layers=3, dropout=0.3745235989552691)\n",
      "    (rnn_dropout): LockedDropout(p=0.6303183551656018)\n",
      "    (embedding_dropout): Dropout(p=0.41894396438852116)\n",
      "  )\n",
      "  (out): Sequential(\n",
      "    (0): Linear(in_features=326, out_features=326, bias=True)\n",
      "    (1): BatchNorm1d(326, eps=1e-05, momentum=0.1, affine=True, track_running_stats=True)\n",
      "    (2): ReLU()\n",
      "    (3): Dropout(p=0.07592594726704481)\n",
      "    (4): Linear(in_features=326, out_features=1703, bias=True)\n",
      "  )\n",
      ")\n",
      "[2020-09-08 11:11:25,393][MainProcess][__main__][INFO] Epoch: 0\n",
      "[2020-09-08 11:11:25,394][MainProcess][__main__][INFO] Training...\n"
     ]
    },
    {
     "data": {
      "application/vnd.jupyter.widget-view+json": {
       "model_id": "04a88ad99ecd4401881f2b78fa1d5b63",
       "version_major": 2,
       "version_minor": 0
      },
      "text/plain": [
       "HBox(children=(IntProgress(value=0, max=2371), HTML(value='')))"
      ]
     },
     "metadata": {},
     "output_type": "display_data"
    },
    {
     "name": "stdout",
     "output_type": "stream",
     "text": [
      "\n",
      "[2020-09-08 11:11:49,015][MainProcess][lib.checkpoint][INFO] Saving checkpoint: ../../experiments/relation_classifier.09_08_10:23:25/2810.pt\n"
     ]
    },
    {
     "data": {
      "application/vnd.jupyter.widget-view+json": {
       "model_id": "75e9c4e4d8384478aef2b042c550858d",
       "version_major": 2,
       "version_minor": 0
      },
      "text/plain": [
       "HBox(children=(IntProgress(value=0, max=2), HTML(value='')))"
      ]
     },
     "metadata": {},
     "output_type": "display_data"
    },
    {
     "name": "stdout",
     "output_type": "stream",
     "text": [
      "\n",
      "[2020-09-08 11:11:50,529][MainProcess][__main__][INFO] NLLLoss: 5.620\n",
      "[2020-09-08 11:11:50,595][MainProcess][lib.metrics.accuracy][INFO] Accuracy: 0.0 [0 of 8192]\n",
      "––––––––––––––––––––––––––––––––––––––––––––––––––––––––––––––––––––––––––––––––––––––––––––––––––––\n",
      "[2020-09-08 11:11:50,603][MainProcess][__main__][INFO] Epoch: 1\n",
      "[2020-09-08 11:11:50,604][MainProcess][__main__][INFO] Training...\n"
     ]
    },
    {
     "data": {
      "application/vnd.jupyter.widget-view+json": {
       "model_id": "7335247cca1c4159b83b2567a15853af",
       "version_major": 2,
       "version_minor": 0
      },
      "text/plain": [
       "HBox(children=(IntProgress(value=0, max=2371), HTML(value='')))"
      ]
     },
     "metadata": {},
     "output_type": "display_data"
    },
    {
     "name": "stdout",
     "output_type": "stream",
     "text": [
      "\n",
      "[2020-09-08 11:12:14,246][MainProcess][lib.checkpoint][INFO] Saving checkpoint: ../../experiments/relation_classifier.09_08_10:23:25/2835.pt\n"
     ]
    },
    {
     "data": {
      "application/vnd.jupyter.widget-view+json": {
       "model_id": "a0799df9b33a4ee0ba411720822dd0eb",
       "version_major": 2,
       "version_minor": 0
      },
      "text/plain": [
       "HBox(children=(IntProgress(value=0, max=2), HTML(value='')))"
      ]
     },
     "metadata": {},
     "output_type": "display_data"
    },
    {
     "name": "stdout",
     "output_type": "stream",
     "text": [
      "\n",
      "[2020-09-08 11:12:15,822][MainProcess][__main__][INFO] NLLLoss: 5.620\n",
      "[2020-09-08 11:12:15,889][MainProcess][lib.metrics.accuracy][INFO] Accuracy: 0.0 [0 of 8192]\n"
     ]
    },
    {
     "name": "stderr",
     "output_type": "stream",
     "text": [
      "\r",
      " 11%|█         | 112.22222222222244/1000.0 [39:42<5:16:12, 21.37s/it, min_score=-0, models_evaluated=55]"
     ]
    },
    {
     "name": "stdout",
     "output_type": "stream",
     "text": [
      "––––––––––––––––––––––––––––––––––––––––––––––––––––––––––––––––––––––––––––––––––––––––––––––––––––\n",
      "====================================================================================================\n",
      "[2020-09-08 11:12:15,944][MainProcess][lib.configurable][INFO] Checking configuration...\n",
      "[2020-09-08 11:12:15,945][MainProcess][lib.configurable][INFO] Configuration checked.\n",
      "[2020-09-08 11:12:15,946][MainProcess][lib.checkpoint][INFO] Loading checkpoints from ../../experiments/relation_classifier.09_08_10:23:25/681.pt onto device 0\n",
      "[2020-09-08 11:12:16,067][MainProcess][__main__][INFO] Epochs: 2\n",
      "[2020-09-08 11:12:16,068][MainProcess][__main__][INFO] Train Dataset Size: 75900\n",
      "[2020-09-08 11:12:16,069][MainProcess][__main__][INFO] Dev Dataset Size: 10845\n",
      "[2020-09-08 11:12:16,070][MainProcess][__main__][INFO] Train Batch Size: 32\n",
      "[2020-09-08 11:12:16,071][MainProcess][__main__][INFO] Train Max Batch Size: 1024\n",
      "[2020-09-08 11:12:16,072][MainProcess][__main__][INFO] Total Parameters: 2642795\n",
      "[2020-09-08 11:12:16,073][MainProcess][__main__][INFO] Model:\n",
      "SeqToLabel(\n",
      "  (encoder): SeqEncoder(\n",
      "    (embedding): Embedding(6899, 300, padding_idx=0)\n",
      "    (rnn): GRU(300, 124, num_layers=3, dropout=0.8733785595246397)\n",
      "    (rnn_dropout): LockedDropout(p=0.4864328354367011)\n",
      "    (embedding_dropout): Dropout(p=0.4792671616204272)\n",
      "  )\n",
      "  (out): Sequential(\n",
      "    (0): Linear(in_features=124, out_features=124, bias=True)\n",
      "    (1): BatchNorm1d(124, eps=1e-05, momentum=0.1, affine=True, track_running_stats=True)\n",
      "    (2): ReLU()\n",
      "    (3): Dropout(p=0.8440083808801443)\n",
      "    (4): Linear(in_features=124, out_features=1703, bias=True)\n",
      "  )\n",
      ")\n",
      "[2020-09-08 11:12:16,073][MainProcess][__main__][INFO] Epoch: 0\n",
      "[2020-09-08 11:12:16,074][MainProcess][__main__][INFO] Training...\n"
     ]
    },
    {
     "data": {
      "application/vnd.jupyter.widget-view+json": {
       "model_id": "9f1190edd55641278ef4f429ca2ed138",
       "version_major": 2,
       "version_minor": 0
      },
      "text/plain": [
       "HBox(children=(IntProgress(value=0, max=2371), HTML(value='')))"
      ]
     },
     "metadata": {},
     "output_type": "display_data"
    },
    {
     "name": "stdout",
     "output_type": "stream",
     "text": [
      "\n",
      "[2020-09-08 11:12:34,652][MainProcess][lib.checkpoint][INFO] Saving checkpoint: ../../experiments/relation_classifier.09_08_10:23:25/2856.pt\n"
     ]
    },
    {
     "data": {
      "application/vnd.jupyter.widget-view+json": {
       "model_id": "078e5cd90a734e049adb03ca7d99efe6",
       "version_major": 2,
       "version_minor": 0
      },
      "text/plain": [
       "HBox(children=(IntProgress(value=0, max=2), HTML(value='')))"
      ]
     },
     "metadata": {},
     "output_type": "display_data"
    },
    {
     "name": "stdout",
     "output_type": "stream",
     "text": [
      "\n",
      "[2020-09-08 11:12:35,931][MainProcess][__main__][INFO] NLLLoss: 5.620\n",
      "[2020-09-08 11:12:35,998][MainProcess][lib.metrics.accuracy][INFO] Accuracy: 0.0 [0 of 8192]\n",
      "––––––––––––––––––––––––––––––––––––––––––––––––––––––––––––––––––––––––––––––––––––––––––––––––––––\n",
      "[2020-09-08 11:12:36,006][MainProcess][__main__][INFO] Epoch: 1\n",
      "[2020-09-08 11:12:36,007][MainProcess][__main__][INFO] Training...\n"
     ]
    },
    {
     "data": {
      "application/vnd.jupyter.widget-view+json": {
       "model_id": "017c8badfd0f4cb3817a9c22d135a2a5",
       "version_major": 2,
       "version_minor": 0
      },
      "text/plain": [
       "HBox(children=(IntProgress(value=0, max=2371), HTML(value='')))"
      ]
     },
     "metadata": {},
     "output_type": "display_data"
    },
    {
     "name": "stdout",
     "output_type": "stream",
     "text": [
      "\n",
      "[2020-09-08 11:12:52,458][MainProcess][lib.checkpoint][INFO] Saving checkpoint: ../../experiments/relation_classifier.09_08_10:23:25/2874.pt\n"
     ]
    },
    {
     "data": {
      "application/vnd.jupyter.widget-view+json": {
       "model_id": "f977d2bd01c441fc8bd69a3f25d4fa2c",
       "version_major": 2,
       "version_minor": 0
      },
      "text/plain": [
       "HBox(children=(IntProgress(value=0, max=2), HTML(value='')))"
      ]
     },
     "metadata": {},
     "output_type": "display_data"
    },
    {
     "name": "stdout",
     "output_type": "stream",
     "text": [
      "\n",
      "[2020-09-08 11:12:53,452][MainProcess][__main__][INFO] NLLLoss: 5.620\n",
      "[2020-09-08 11:12:53,518][MainProcess][lib.metrics.accuracy][INFO] Accuracy: 0.0 [0 of 8192]\n"
     ]
    },
    {
     "name": "stderr",
     "output_type": "stream",
     "text": [
      "\r",
      " 11%|█▏        | 114.44444444444467/1000.0 [40:19<4:55:44, 20.04s/it, min_score=-0, models_evaluated=55]"
     ]
    },
    {
     "name": "stdout",
     "output_type": "stream",
     "text": [
      "––––––––––––––––––––––––––––––––––––––––––––––––––––––––––––––––––––––––––––––––––––––––––––––––––––\n",
      "====================================================================================================\n",
      "[2020-09-08 11:12:53,563][MainProcess][lib.configurable][INFO] Checking configuration...\n",
      "[2020-09-08 11:12:53,564][MainProcess][lib.configurable][INFO] Configuration checked.\n",
      "[2020-09-08 11:12:53,565][MainProcess][lib.checkpoint][INFO] Loading checkpoints from ../../experiments/relation_classifier.09_08_10:23:25/703.pt onto device 0\n",
      "[2020-09-08 11:12:53,623][MainProcess][__main__][INFO] Epochs: 2\n",
      "[2020-09-08 11:12:53,624][MainProcess][__main__][INFO] Train Dataset Size: 75900\n",
      "[2020-09-08 11:12:53,625][MainProcess][__main__][INFO] Dev Dataset Size: 10845\n",
      "[2020-09-08 11:12:53,625][MainProcess][__main__][INFO] Train Batch Size: 32\n",
      "[2020-09-08 11:12:53,626][MainProcess][__main__][INFO] Train Max Batch Size: 1024\n",
      "[2020-09-08 11:12:53,627][MainProcess][__main__][INFO] Total Parameters: 4243027\n",
      "[2020-09-08 11:12:53,628][MainProcess][__main__][INFO] Model:\n",
      "SeqToLabel(\n",
      "  (encoder): SeqEncoder(\n",
      "    (embedding): Embedding(6899, 300, padding_idx=0)\n",
      "    (rnn): LSTM(300, 247, dropout=0.7912352574119732, bidirectional=True)\n",
      "    (rnn_dropout): LockedDropout(p=0.8461675741803233)\n",
      "    (embedding_dropout): Dropout(p=0.14091896106248183)\n",
      "  )\n",
      "  (out): Sequential(\n",
      "    (0): Linear(in_features=494, out_features=494, bias=True)\n",
      "    (1): BatchNorm1d(494, eps=1e-05, momentum=0.1, affine=True, track_running_stats=True)\n",
      "    (2): ReLU()\n",
      "    (3): Dropout(p=0.24733678475814636)\n",
      "    (4): Linear(in_features=494, out_features=1703, bias=True)\n",
      "  )\n",
      ")\n",
      "[2020-09-08 11:12:53,629][MainProcess][__main__][INFO] Epoch: 0\n",
      "[2020-09-08 11:12:53,630][MainProcess][__main__][INFO] Training...\n"
     ]
    },
    {
     "data": {
      "application/vnd.jupyter.widget-view+json": {
       "model_id": "2771b2f11650436ab9cd90de3d73d99c",
       "version_major": 2,
       "version_minor": 0
      },
      "text/plain": [
       "HBox(children=(IntProgress(value=0, max=2371), HTML(value='')))"
      ]
     },
     "metadata": {},
     "output_type": "display_data"
    },
    {
     "name": "stdout",
     "output_type": "stream",
     "text": [
      "\n",
      "[2020-09-08 11:13:08,374][MainProcess][lib.checkpoint][INFO] Saving checkpoint: ../../experiments/relation_classifier.09_08_10:23:25/2889.pt\n"
     ]
    },
    {
     "data": {
      "application/vnd.jupyter.widget-view+json": {
       "model_id": "5f8dc25dfa004365a8cd587a980dab41",
       "version_major": 2,
       "version_minor": 0
      },
      "text/plain": [
       "HBox(children=(IntProgress(value=0, max=2), HTML(value='')))"
      ]
     },
     "metadata": {},
     "output_type": "display_data"
    },
    {
     "name": "stdout",
     "output_type": "stream",
     "text": [
      "\n",
      "[2020-09-08 11:13:09,625][MainProcess][__main__][INFO] NLLLoss: 5.620\n",
      "[2020-09-08 11:13:09,692][MainProcess][lib.metrics.accuracy][INFO] Accuracy: 0.0 [0 of 8192]\n",
      "––––––––––––––––––––––––––––––––––––––––––––––––––––––––––––––––––––––––––––––––––––––––––––––––––––\n",
      "[2020-09-08 11:13:09,700][MainProcess][__main__][INFO] Epoch: 1\n",
      "[2020-09-08 11:13:09,701][MainProcess][__main__][INFO] Training...\n"
     ]
    },
    {
     "data": {
      "application/vnd.jupyter.widget-view+json": {
       "model_id": "338509da783e41caa3b1d835cc459d4c",
       "version_major": 2,
       "version_minor": 0
      },
      "text/plain": [
       "HBox(children=(IntProgress(value=0, max=2371), HTML(value='')))"
      ]
     },
     "metadata": {},
     "output_type": "display_data"
    },
    {
     "name": "stdout",
     "output_type": "stream",
     "text": [
      "\n",
      "[2020-09-08 11:13:28,723][MainProcess][lib.checkpoint][INFO] Saving checkpoint: ../../experiments/relation_classifier.09_08_10:23:25/2910.pt\n"
     ]
    },
    {
     "data": {
      "application/vnd.jupyter.widget-view+json": {
       "model_id": "acd43498162946bb87bc7ea3c3506168",
       "version_major": 2,
       "version_minor": 0
      },
      "text/plain": [
       "HBox(children=(IntProgress(value=0, max=2), HTML(value='')))"
      ]
     },
     "metadata": {},
     "output_type": "display_data"
    },
    {
     "name": "stdout",
     "output_type": "stream",
     "text": [
      "\n",
      "[2020-09-08 11:13:31,048][MainProcess][__main__][INFO] NLLLoss: 5.620\n",
      "[2020-09-08 11:13:31,114][MainProcess][lib.metrics.accuracy][INFO] Accuracy: 0.0 [0 of 8192]\n"
     ]
    },
    {
     "name": "stderr",
     "output_type": "stream",
     "text": [
      "\r",
      " 12%|█▏        | 116.6666666666669/1000.0 [40:57<4:41:13, 19.10s/it, min_score=-0, models_evaluated=55] "
     ]
    },
    {
     "name": "stdout",
     "output_type": "stream",
     "text": [
      "––––––––––––––––––––––––––––––––––––––––––––––––––––––––––––––––––––––––––––––––––––––––––––––––––––\n",
      "====================================================================================================\n",
      "[2020-09-08 11:13:31,161][MainProcess][lib.configurable][INFO] Checking configuration...\n",
      "[2020-09-08 11:13:31,162][MainProcess][lib.configurable][INFO] Configuration checked.\n",
      "[2020-09-08 11:13:31,163][MainProcess][lib.checkpoint][INFO] Loading checkpoints from ../../experiments/relation_classifier.09_08_10:23:25/732.pt onto device 0\n",
      "[2020-09-08 11:13:31,293][MainProcess][__main__][INFO] Epochs: 2\n",
      "[2020-09-08 11:13:31,295][MainProcess][__main__][INFO] Train Dataset Size: 75900\n",
      "[2020-09-08 11:13:31,295][MainProcess][__main__][INFO] Dev Dataset Size: 10845\n",
      "[2020-09-08 11:13:31,296][MainProcess][__main__][INFO] Train Batch Size: 32\n",
      "[2020-09-08 11:13:31,297][MainProcess][__main__][INFO] Train Max Batch Size: 1024\n",
      "[2020-09-08 11:13:31,298][MainProcess][__main__][INFO] Total Parameters: 5963819\n",
      "[2020-09-08 11:13:31,299][MainProcess][__main__][INFO] Model:\n",
      "SeqToLabel(\n",
      "  (encoder): SeqEncoder(\n",
      "    (embedding): Embedding(6899, 300, padding_idx=0)\n",
      "    (rnn): GRU(300, 418, num_layers=3, dropout=0.7195403360337991)\n",
      "    (rnn_dropout): LockedDropout(p=0.05698992371824015)\n",
      "    (embedding_dropout): Dropout(p=0.06855545907747793)\n",
      "  )\n",
      "  (out): Sequential(\n",
      "    (0): Linear(in_features=418, out_features=418, bias=True)\n",
      "    (1): BatchNorm1d(418, eps=1e-05, momentum=0.1, affine=True, track_running_stats=True)\n",
      "    (2): ReLU()\n",
      "    (3): Dropout(p=0.8885993669701758)\n",
      "    (4): Linear(in_features=418, out_features=1703, bias=True)\n",
      "  )\n",
      ")\n",
      "[2020-09-08 11:13:31,300][MainProcess][__main__][INFO] Epoch: 0\n",
      "[2020-09-08 11:13:31,301][MainProcess][__main__][INFO] Training...\n"
     ]
    },
    {
     "data": {
      "application/vnd.jupyter.widget-view+json": {
       "model_id": "4787d5448f514cd59642089e65f4fbb1",
       "version_major": 2,
       "version_minor": 0
      },
      "text/plain": [
       "HBox(children=(IntProgress(value=0, max=2371), HTML(value='')))"
      ]
     },
     "metadata": {},
     "output_type": "display_data"
    },
    {
     "name": "stdout",
     "output_type": "stream",
     "text": [
      "\n",
      "[2020-09-08 11:13:56,568][MainProcess][lib.checkpoint][INFO] Saving checkpoint: ../../experiments/relation_classifier.09_08_10:23:25/2938.pt\n"
     ]
    },
    {
     "data": {
      "application/vnd.jupyter.widget-view+json": {
       "model_id": "e4cf3333e67944ca8e45cf669afa4440",
       "version_major": 2,
       "version_minor": 0
      },
      "text/plain": [
       "HBox(children=(IntProgress(value=0, max=2), HTML(value='')))"
      ]
     },
     "metadata": {},
     "output_type": "display_data"
    },
    {
     "name": "stdout",
     "output_type": "stream",
     "text": [
      "\n",
      "[2020-09-08 11:13:58,668][MainProcess][__main__][INFO] NLLLoss: 5.620\n",
      "[2020-09-08 11:13:58,734][MainProcess][lib.metrics.accuracy][INFO] Accuracy: 0.0 [0 of 8192]\n",
      "––––––––––––––––––––––––––––––––––––––––––––––––––––––––––––––––––––––––––––––––––––––––––––––––––––\n",
      "[2020-09-08 11:13:58,742][MainProcess][__main__][INFO] Epoch: 1\n",
      "[2020-09-08 11:13:58,743][MainProcess][__main__][INFO] Training...\n"
     ]
    },
    {
     "data": {
      "application/vnd.jupyter.widget-view+json": {
       "model_id": "8bbc402721474ed5b21161015f179644",
       "version_major": 2,
       "version_minor": 0
      },
      "text/plain": [
       "HBox(children=(IntProgress(value=0, max=2371), HTML(value='')))"
      ]
     },
     "metadata": {},
     "output_type": "display_data"
    },
    {
     "name": "stdout",
     "output_type": "stream",
     "text": [
      "\n",
      "[2020-09-08 11:14:23,911][MainProcess][lib.checkpoint][INFO] Saving checkpoint: ../../experiments/relation_classifier.09_08_10:23:25/2965.pt\n"
     ]
    },
    {
     "data": {
      "application/vnd.jupyter.widget-view+json": {
       "model_id": "aac66695b359408793941da180f632f4",
       "version_major": 2,
       "version_minor": 0
      },
      "text/plain": [
       "HBox(children=(IntProgress(value=0, max=2), HTML(value='')))"
      ]
     },
     "metadata": {},
     "output_type": "display_data"
    },
    {
     "name": "stdout",
     "output_type": "stream",
     "text": [
      "\n",
      "[2020-09-08 11:14:25,673][MainProcess][__main__][INFO] NLLLoss: 5.620\n",
      "[2020-09-08 11:14:25,739][MainProcess][lib.metrics.accuracy][INFO] Accuracy: 0.0 [0 of 8192]\n"
     ]
    },
    {
     "name": "stderr",
     "output_type": "stream",
     "text": [
      "\r",
      " 12%|█▏        | 118.88888888888913/1000.0 [41:52<5:04:40, 20.75s/it, min_score=-0, models_evaluated=55]"
     ]
    },
    {
     "name": "stdout",
     "output_type": "stream",
     "text": [
      "––––––––––––––––––––––––––––––––––––––––––––––––––––––––––––––––––––––––––––––––––––––––––––––––––––\n",
      "====================================================================================================\n",
      "[2020-09-08 11:14:25,792][MainProcess][lib.configurable][INFO] Checking configuration...\n",
      "[2020-09-08 11:14:25,794][MainProcess][lib.configurable][INFO] Configuration checked.\n",
      "[2020-09-08 11:14:25,795][MainProcess][lib.checkpoint][INFO] Loading checkpoints from ../../experiments/relation_classifier.09_08_10:23:25/756.pt onto device 0\n",
      "[2020-09-08 11:14:25,871][MainProcess][__main__][INFO] Epochs: 2\n",
      "[2020-09-08 11:14:25,872][MainProcess][__main__][INFO] Train Dataset Size: 75900\n",
      "[2020-09-08 11:14:25,872][MainProcess][__main__][INFO] Dev Dataset Size: 10845\n",
      "[2020-09-08 11:14:25,873][MainProcess][__main__][INFO] Train Batch Size: 32\n",
      "[2020-09-08 11:14:25,874][MainProcess][__main__][INFO] Train Max Batch Size: 1024\n",
      "[2020-09-08 11:14:25,875][MainProcess][__main__][INFO] Total Parameters: 859079\n",
      "[2020-09-08 11:14:25,876][MainProcess][__main__][INFO] Model:\n",
      "SeqToLabel(\n",
      "  (encoder): SeqEncoder(\n",
      "    (embedding): Embedding(6899, 300, padding_idx=0)\n",
      "    (rnn): LSTM(300, 144, num_layers=3, dropout=0.762739796959953)\n",
      "    (rnn_dropout): LockedDropout(p=0.13211824086193955)\n",
      "    (embedding_dropout): Dropout(p=0.5957291636631964)\n",
      "  )\n",
      "  (out): Sequential(\n",
      "    (0): Linear(in_features=144, out_features=144, bias=True)\n",
      "    (1): BatchNorm1d(144, eps=1e-05, momentum=0.1, affine=True, track_running_stats=True)\n",
      "    (2): ReLU()\n",
      "    (3): Dropout(p=0.4602326829251078)\n",
      "    (4): Linear(in_features=144, out_features=1703, bias=True)\n",
      "  )\n",
      ")\n",
      "[2020-09-08 11:14:25,876][MainProcess][__main__][INFO] Epoch: 0\n",
      "[2020-09-08 11:14:25,877][MainProcess][__main__][INFO] Training...\n"
     ]
    },
    {
     "data": {
      "application/vnd.jupyter.widget-view+json": {
       "model_id": "43610dbbec0e4fb7b61640cd46974e6b",
       "version_major": 2,
       "version_minor": 0
      },
      "text/plain": [
       "HBox(children=(IntProgress(value=0, max=2371), HTML(value='')))"
      ]
     },
     "metadata": {},
     "output_type": "display_data"
    },
    {
     "name": "stdout",
     "output_type": "stream",
     "text": [
      "\n",
      "[2020-09-08 11:14:45,447][MainProcess][lib.checkpoint][INFO] Saving checkpoint: ../../experiments/relation_classifier.09_08_10:23:25/2987.pt\n"
     ]
    },
    {
     "data": {
      "application/vnd.jupyter.widget-view+json": {
       "model_id": "2bf9b48cf38946b4b0633fa0bfefff14",
       "version_major": 2,
       "version_minor": 0
      },
      "text/plain": [
       "HBox(children=(IntProgress(value=0, max=2), HTML(value='')))"
      ]
     },
     "metadata": {},
     "output_type": "display_data"
    },
    {
     "name": "stdout",
     "output_type": "stream",
     "text": [
      "\n",
      "[2020-09-08 11:14:46,256][MainProcess][__main__][INFO] NLLLoss: 5.620\n",
      "[2020-09-08 11:14:46,325][MainProcess][lib.metrics.accuracy][INFO] Accuracy: 0.0 [0 of 8192]\n",
      "––––––––––––––––––––––––––––––––––––––––––––––––––––––––––––––––––––––––––––––––––––––––––––––––––––\n",
      "[2020-09-08 11:14:46,333][MainProcess][__main__][INFO] Epoch: 1\n",
      "[2020-09-08 11:14:46,334][MainProcess][__main__][INFO] Training...\n"
     ]
    },
    {
     "data": {
      "application/vnd.jupyter.widget-view+json": {
       "model_id": "0ab0827358f846fd85d05cb54acf0fc2",
       "version_major": 2,
       "version_minor": 0
      },
      "text/plain": [
       "HBox(children=(IntProgress(value=0, max=2371), HTML(value='')))"
      ]
     },
     "metadata": {},
     "output_type": "display_data"
    },
    {
     "name": "stdout",
     "output_type": "stream",
     "text": [
      "\n",
      "[2020-09-08 11:15:05,409][MainProcess][lib.checkpoint][INFO] Saving checkpoint: ../../experiments/relation_classifier.09_08_10:23:25/3007.pt\n"
     ]
    },
    {
     "data": {
      "application/vnd.jupyter.widget-view+json": {
       "model_id": "ee7b3fdd706448fda8689b7fb14d2a5a",
       "version_major": 2,
       "version_minor": 0
      },
      "text/plain": [
       "HBox(children=(IntProgress(value=0, max=2), HTML(value='')))"
      ]
     },
     "metadata": {},
     "output_type": "display_data"
    },
    {
     "name": "stdout",
     "output_type": "stream",
     "text": [
      "\n",
      "[2020-09-08 11:15:06,306][MainProcess][__main__][INFO] NLLLoss: 5.620\n",
      "[2020-09-08 11:15:06,373][MainProcess][lib.metrics.accuracy][INFO] Accuracy: 0.0 [0 of 8192]\n"
     ]
    },
    {
     "name": "stderr",
     "output_type": "stream",
     "text": [
      "\r",
      " 12%|█▏        | 121.11111111111136/1000.0 [42:32<4:53:03, 20.01s/it, min_score=-0, models_evaluated=55]"
     ]
    },
    {
     "name": "stdout",
     "output_type": "stream",
     "text": [
      "––––––––––––––––––––––––––––––––––––––––––––––––––––––––––––––––––––––––––––––––––––––––––––––––––––\n",
      "====================================================================================================\n",
      "[2020-09-08 11:15:06,412][MainProcess][lib.configurable][INFO] Checking configuration...\n",
      "[2020-09-08 11:15:06,413][MainProcess][lib.configurable][INFO] Configuration checked.\n",
      "[2020-09-08 11:15:06,414][MainProcess][lib.checkpoint][INFO] Loading checkpoints from ../../experiments/relation_classifier.09_08_10:23:25/790.pt onto device 0\n",
      "[2020-09-08 11:15:06,471][MainProcess][__main__][INFO] Epochs: 2\n",
      "[2020-09-08 11:15:06,472][MainProcess][__main__][INFO] Train Dataset Size: 75900\n",
      "[2020-09-08 11:15:06,473][MainProcess][__main__][INFO] Dev Dataset Size: 10845\n",
      "[2020-09-08 11:15:06,474][MainProcess][__main__][INFO] Train Batch Size: 32\n",
      "[2020-09-08 11:15:06,475][MainProcess][__main__][INFO] Train Max Batch Size: 1024\n",
      "[2020-09-08 11:15:06,476][MainProcess][__main__][INFO] Total Parameters: 2551883\n",
      "[2020-09-08 11:15:06,477][MainProcess][__main__][INFO] Model:\n",
      "SeqToLabel(\n",
      "  (encoder): SeqEncoder(\n",
      "    (embedding): Embedding(6899, 300, padding_idx=0)\n",
      "    (rnn): GRU(300, 60, num_layers=3, dropout=0.2893089247429726, bidirectional=True)\n",
      "    (rnn_dropout): LockedDropout(p=0.2539672552304953)\n",
      "    (embedding_dropout): Dropout(p=0.6667598566460702)\n",
      "  )\n",
      "  (out): Sequential(\n",
      "    (0): Linear(in_features=120, out_features=120, bias=True)\n",
      "    (1): BatchNorm1d(120, eps=1e-05, momentum=0.1, affine=True, track_running_stats=True)\n",
      "    (2): ReLU()\n",
      "    (3): Dropout(p=0.19572304153879677)\n",
      "    (4): Linear(in_features=120, out_features=1703, bias=True)\n",
      "  )\n",
      ")\n",
      "[2020-09-08 11:15:06,477][MainProcess][__main__][INFO] Epoch: 0\n",
      "[2020-09-08 11:15:06,478][MainProcess][__main__][INFO] Training...\n"
     ]
    },
    {
     "data": {
      "application/vnd.jupyter.widget-view+json": {
       "model_id": "4b0ccaed59284db18ff316cd0636ece1",
       "version_major": 2,
       "version_minor": 0
      },
      "text/plain": [
       "HBox(children=(IntProgress(value=0, max=2371), HTML(value='')))"
      ]
     },
     "metadata": {},
     "output_type": "display_data"
    },
    {
     "name": "stdout",
     "output_type": "stream",
     "text": [
      "\n",
      "[2020-09-08 11:15:34,489][MainProcess][lib.checkpoint][INFO] Saving checkpoint: ../../experiments/relation_classifier.09_08_10:23:25/3036.pt\n"
     ]
    },
    {
     "data": {
      "application/vnd.jupyter.widget-view+json": {
       "model_id": "b9ddd7f1d7494960b7ac90f75673d8cd",
       "version_major": 2,
       "version_minor": 0
      },
      "text/plain": [
       "HBox(children=(IntProgress(value=0, max=2), HTML(value='')))"
      ]
     },
     "metadata": {},
     "output_type": "display_data"
    },
    {
     "name": "stdout",
     "output_type": "stream",
     "text": [
      "\n",
      "[2020-09-08 11:15:35,750][MainProcess][__main__][INFO] NLLLoss: 5.620\n",
      "[2020-09-08 11:15:35,819][MainProcess][lib.metrics.accuracy][INFO] Accuracy: 0.0 [0 of 8192]\n",
      "––––––––––––––––––––––––––––––––––––––––––––––––––––––––––––––––––––––––––––––––––––––––––––––––––––\n",
      "[2020-09-08 11:15:35,828][MainProcess][__main__][INFO] Epoch: 1\n",
      "[2020-09-08 11:15:35,829][MainProcess][__main__][INFO] Training...\n"
     ]
    },
    {
     "data": {
      "application/vnd.jupyter.widget-view+json": {
       "model_id": "9724dd41f3264b6fb9b7432bd0674913",
       "version_major": 2,
       "version_minor": 0
      },
      "text/plain": [
       "HBox(children=(IntProgress(value=0, max=2371), HTML(value='')))"
      ]
     },
     "metadata": {},
     "output_type": "display_data"
    },
    {
     "name": "stdout",
     "output_type": "stream",
     "text": [
      "\n",
      "[2020-09-08 11:16:03,925][MainProcess][lib.checkpoint][INFO] Saving checkpoint: ../../experiments/relation_classifier.09_08_10:23:25/3065.pt\n"
     ]
    },
    {
     "data": {
      "application/vnd.jupyter.widget-view+json": {
       "model_id": "4751f984feb84f9cbdc38862901fcfc2",
       "version_major": 2,
       "version_minor": 0
      },
      "text/plain": [
       "HBox(children=(IntProgress(value=0, max=2), HTML(value='')))"
      ]
     },
     "metadata": {},
     "output_type": "display_data"
    },
    {
     "name": "stdout",
     "output_type": "stream",
     "text": [
      "\n",
      "[2020-09-08 11:16:04,954][MainProcess][__main__][INFO] NLLLoss: 5.620\n",
      "[2020-09-08 11:16:05,020][MainProcess][lib.metrics.accuracy][INFO] Accuracy: 0.0 [0 of 8192]\n"
     ]
    },
    {
     "name": "stderr",
     "output_type": "stream",
     "text": [
      "\r",
      " 12%|█▏        | 123.33333333333358/1000.0 [43:31<5:20:17, 21.92s/it, min_score=-0, models_evaluated=55]"
     ]
    },
    {
     "name": "stdout",
     "output_type": "stream",
     "text": [
      "––––––––––––––––––––––––––––––––––––––––––––––––––––––––––––––––––––––––––––––––––––––––––––––––––––\n",
      "====================================================================================================\n",
      "[2020-09-08 11:16:05,054][MainProcess][lib.configurable][INFO] Checking configuration...\n",
      "[2020-09-08 11:16:05,056][MainProcess][lib.configurable][INFO] Configuration checked.\n",
      "[2020-09-08 11:16:05,057][MainProcess][lib.checkpoint][INFO] Loading checkpoints from ../../experiments/relation_classifier.09_08_10:23:25/816.pt onto device 0\n",
      "[2020-09-08 11:16:05,124][MainProcess][__main__][INFO] Epochs: 2\n",
      "[2020-09-08 11:16:05,125][MainProcess][__main__][INFO] Train Dataset Size: 75900\n",
      "[2020-09-08 11:16:05,126][MainProcess][__main__][INFO] Dev Dataset Size: 10845\n",
      "[2020-09-08 11:16:05,127][MainProcess][__main__][INFO] Train Batch Size: 32\n",
      "[2020-09-08 11:16:05,127][MainProcess][__main__][INFO] Train Max Batch Size: 1024\n",
      "[2020-09-08 11:16:05,128][MainProcess][__main__][INFO] Total Parameters: 4894763\n",
      "[2020-09-08 11:16:05,129][MainProcess][__main__][INFO] Model:\n",
      "SeqToLabel(\n",
      "  (encoder): SeqEncoder(\n",
      "    (embedding): Embedding(6899, 300, padding_idx=0)\n",
      "    (rnn): GRU(300, 346, num_layers=3, dropout=0.7351264575453643)\n",
      "    (rnn_dropout): LockedDropout(p=0.6231996540812207)\n",
      "    (embedding_dropout): Dropout(p=0.7431593110391715)\n",
      "  )\n",
      "  (out): Sequential(\n",
      "    (0): Linear(in_features=346, out_features=346, bias=True)\n",
      "    (1): BatchNorm1d(346, eps=1e-05, momentum=0.1, affine=True, track_running_stats=True)\n",
      "    (2): ReLU()\n",
      "    (3): Dropout(p=0.18401342174944066)\n",
      "    (4): Linear(in_features=346, out_features=1703, bias=True)\n",
      "  )\n",
      ")\n",
      "[2020-09-08 11:16:05,130][MainProcess][__main__][INFO] Epoch: 0\n",
      "[2020-09-08 11:16:05,131][MainProcess][__main__][INFO] Training...\n"
     ]
    },
    {
     "data": {
      "application/vnd.jupyter.widget-view+json": {
       "model_id": "444608f52c144748b0f72589faa53425",
       "version_major": 2,
       "version_minor": 0
      },
      "text/plain": [
       "HBox(children=(IntProgress(value=0, max=2371), HTML(value='')))"
      ]
     },
     "metadata": {},
     "output_type": "display_data"
    },
    {
     "name": "stdout",
     "output_type": "stream",
     "text": [
      "\n",
      "[2020-09-08 11:16:27,488][MainProcess][lib.checkpoint][INFO] Saving checkpoint: ../../experiments/relation_classifier.09_08_10:23:25/3089.pt\n"
     ]
    },
    {
     "data": {
      "application/vnd.jupyter.widget-view+json": {
       "model_id": "15139aeea27b469b9f5297ede2241e46",
       "version_major": 2,
       "version_minor": 0
      },
      "text/plain": [
       "HBox(children=(IntProgress(value=0, max=2), HTML(value='')))"
      ]
     },
     "metadata": {},
     "output_type": "display_data"
    },
    {
     "name": "stdout",
     "output_type": "stream",
     "text": [
      "\n",
      "[2020-09-08 11:16:29,154][MainProcess][__main__][INFO] NLLLoss: 5.620\n",
      "[2020-09-08 11:16:29,223][MainProcess][lib.metrics.accuracy][INFO] Accuracy: 0.0 [0 of 8192]\n",
      "––––––––––––––––––––––––––––––––––––––––––––––––––––––––––––––––––––––––––––––––––––––––––––––––––––\n",
      "[2020-09-08 11:16:29,231][MainProcess][__main__][INFO] Epoch: 1\n",
      "[2020-09-08 11:16:29,232][MainProcess][__main__][INFO] Training...\n"
     ]
    },
    {
     "data": {
      "application/vnd.jupyter.widget-view+json": {
       "model_id": "b2bca2731dd8462fa05593b14c289d50",
       "version_major": 2,
       "version_minor": 0
      },
      "text/plain": [
       "HBox(children=(IntProgress(value=0, max=2371), HTML(value='')))"
      ]
     },
     "metadata": {},
     "output_type": "display_data"
    },
    {
     "name": "stdout",
     "output_type": "stream",
     "text": [
      "\n",
      "[2020-09-08 11:16:51,805][MainProcess][lib.checkpoint][INFO] Saving checkpoint: ../../experiments/relation_classifier.09_08_10:23:25/3113.pt\n"
     ]
    },
    {
     "data": {
      "application/vnd.jupyter.widget-view+json": {
       "model_id": "36439a91d26f483d83ecf79b135a6f60",
       "version_major": 2,
       "version_minor": 0
      },
      "text/plain": [
       "HBox(children=(IntProgress(value=0, max=2), HTML(value='')))"
      ]
     },
     "metadata": {},
     "output_type": "display_data"
    },
    {
     "name": "stdout",
     "output_type": "stream",
     "text": [
      "\n",
      "[2020-09-08 11:16:54,447][MainProcess][__main__][INFO] NLLLoss: 5.620\n",
      "[2020-09-08 11:16:54,516][MainProcess][lib.metrics.accuracy][INFO] Accuracy: 0.0 [0 of 8192]\n"
     ]
    },
    {
     "name": "stderr",
     "output_type": "stream",
     "text": [
      "\r",
      " 13%|█▎        | 125.55555555555581/1000.0 [44:20<5:21:02, 22.03s/it, min_score=-0, models_evaluated=55]"
     ]
    },
    {
     "name": "stdout",
     "output_type": "stream",
     "text": [
      "––––––––––––––––––––––––––––––––––––––––––––––––––––––––––––––––––––––––––––––––––––––––––––––––––––\n",
      "====================================================================================================\n",
      "[2020-09-08 11:16:54,564][MainProcess][lib.configurable][INFO] Checking configuration...\n",
      "[2020-09-08 11:16:54,565][MainProcess][lib.configurable][INFO] Configuration checked.\n",
      "[2020-09-08 11:16:54,566][MainProcess][lib.checkpoint][INFO] Loading checkpoints from ../../experiments/relation_classifier.09_08_10:23:25/842.pt onto device 0\n",
      "[2020-09-08 11:16:54,647][MainProcess][__main__][INFO] Epochs: 2\n",
      "[2020-09-08 11:16:54,648][MainProcess][__main__][INFO] Train Dataset Size: 75900\n",
      "[2020-09-08 11:16:54,648][MainProcess][__main__][INFO] Dev Dataset Size: 10845\n",
      "[2020-09-08 11:16:54,649][MainProcess][__main__][INFO] Train Batch Size: 32\n",
      "[2020-09-08 11:16:54,650][MainProcess][__main__][INFO] Train Max Batch Size: 1024\n",
      "[2020-09-08 11:16:54,651][MainProcess][__main__][INFO] Total Parameters: 2770703\n",
      "[2020-09-08 11:16:54,652][MainProcess][__main__][INFO] Model:\n",
      "SeqToLabel(\n",
      "  (encoder): SeqEncoder(\n",
      "    (embedding): Embedding(6899, 300, padding_idx=0)\n",
      "    (rnn): LSTM(300, 300, num_layers=3, dropout=0.4509616443238171)\n",
      "    (rnn_dropout): LockedDropout(p=0.4584879804592439)\n",
      "    (embedding_dropout): Dropout(p=0.5894847077603891)\n",
      "  )\n",
      "  (out): Sequential(\n",
      "    (0): Linear(in_features=300, out_features=300, bias=True)\n",
      "    (1): BatchNorm1d(300, eps=1e-05, momentum=0.1, affine=True, track_running_stats=True)\n",
      "    (2): ReLU()\n",
      "    (3): Dropout(p=0.03178357956990586)\n",
      "    (4): Linear(in_features=300, out_features=1703, bias=True)\n",
      "  )\n",
      ")\n",
      "[2020-09-08 11:16:54,653][MainProcess][__main__][INFO] Epoch: 0\n",
      "[2020-09-08 11:16:54,653][MainProcess][__main__][INFO] Training...\n"
     ]
    },
    {
     "data": {
      "application/vnd.jupyter.widget-view+json": {
       "model_id": "671c64de357b452190578c5e68ae0727",
       "version_major": 2,
       "version_minor": 0
      },
      "text/plain": [
       "HBox(children=(IntProgress(value=0, max=2371), HTML(value='')))"
      ]
     },
     "metadata": {},
     "output_type": "display_data"
    },
    {
     "name": "stdout",
     "output_type": "stream",
     "text": [
      "\n",
      "[2020-09-08 11:17:16,576][MainProcess][lib.checkpoint][INFO] Saving checkpoint: ../../experiments/relation_classifier.09_08_10:23:25/3138.pt\n"
     ]
    },
    {
     "data": {
      "application/vnd.jupyter.widget-view+json": {
       "model_id": "0ee2d4b0b3794cb7b44e887e88eaa2c1",
       "version_major": 2,
       "version_minor": 0
      },
      "text/plain": [
       "HBox(children=(IntProgress(value=0, max=2), HTML(value='')))"
      ]
     },
     "metadata": {},
     "output_type": "display_data"
    },
    {
     "name": "stdout",
     "output_type": "stream",
     "text": [
      "\n",
      "[2020-09-08 11:17:17,809][MainProcess][__main__][INFO] NLLLoss: 5.620\n",
      "[2020-09-08 11:17:17,877][MainProcess][lib.metrics.accuracy][INFO] Accuracy: 0.0 [0 of 8192]\n",
      "––––––––––––––––––––––––––––––––––––––––––––––––––––––––––––––––––––––––––––––––––––––––––––––––––––\n",
      "[2020-09-08 11:17:17,885][MainProcess][__main__][INFO] Epoch: 1\n",
      "[2020-09-08 11:17:17,886][MainProcess][__main__][INFO] Training...\n"
     ]
    },
    {
     "data": {
      "application/vnd.jupyter.widget-view+json": {
       "model_id": "97ca50177eef4a729900c629eb1fa3fe",
       "version_major": 2,
       "version_minor": 0
      },
      "text/plain": [
       "HBox(children=(IntProgress(value=0, max=2371), HTML(value='')))"
      ]
     },
     "metadata": {},
     "output_type": "display_data"
    },
    {
     "name": "stdout",
     "output_type": "stream",
     "text": [
      "\n",
      "[2020-09-08 11:17:40,090][MainProcess][lib.checkpoint][INFO] Saving checkpoint: ../../experiments/relation_classifier.09_08_10:23:25/3161.pt\n"
     ]
    },
    {
     "data": {
      "application/vnd.jupyter.widget-view+json": {
       "model_id": "a5d50f329f084ec59493794b2fc965ce",
       "version_major": 2,
       "version_minor": 0
      },
      "text/plain": [
       "HBox(children=(IntProgress(value=0, max=2), HTML(value='')))"
      ]
     },
     "metadata": {},
     "output_type": "display_data"
    },
    {
     "name": "stdout",
     "output_type": "stream",
     "text": [
      "\n",
      "[2020-09-08 11:17:41,316][MainProcess][__main__][INFO] NLLLoss: 5.620\n",
      "[2020-09-08 11:17:41,386][MainProcess][lib.metrics.accuracy][INFO] Accuracy: 0.0 [0 of 8192]\n"
     ]
    },
    {
     "name": "stderr",
     "output_type": "stream",
     "text": [
      "\r",
      " 13%|█▎        | 127.77777777777804/1000.0 [45:07<5:16:08, 21.75s/it, min_score=-0, models_evaluated=55]"
     ]
    },
    {
     "name": "stdout",
     "output_type": "stream",
     "text": [
      "––––––––––––––––––––––––––––––––––––––––––––––––––––––––––––––––––––––––––––––––––––––––––––––––––––\n",
      "====================================================================================================\n",
      "[2020-09-08 11:17:41,432][MainProcess][lib.configurable][INFO] Checking configuration...\n",
      "[2020-09-08 11:17:41,433][MainProcess][lib.configurable][INFO] Configuration checked.\n",
      "[2020-09-08 11:17:41,434][MainProcess][lib.checkpoint][INFO] Loading checkpoints from ../../experiments/relation_classifier.09_08_10:23:25/859.pt onto device 0\n",
      "[2020-09-08 11:17:41,518][MainProcess][__main__][INFO] Epochs: 2\n",
      "[2020-09-08 11:17:41,519][MainProcess][__main__][INFO] Train Dataset Size: 75900\n",
      "[2020-09-08 11:17:41,520][MainProcess][__main__][INFO] Dev Dataset Size: 10845\n",
      "[2020-09-08 11:17:41,521][MainProcess][__main__][INFO] Train Batch Size: 32\n",
      "[2020-09-08 11:17:41,521][MainProcess][__main__][INFO] Train Max Batch Size: 1024\n",
      "[2020-09-08 11:17:41,522][MainProcess][__main__][INFO] Total Parameters: 2830915\n",
      "[2020-09-08 11:17:41,523][MainProcess][__main__][INFO] Model:\n",
      "SeqToLabel(\n",
      "  (encoder): SeqEncoder(\n",
      "    (embedding): Embedding(6899, 300, padding_idx=0)\n",
      "    (rnn): GRU(300, 218, dropout=0.2957883993309522)\n",
      "    (rnn_dropout): LockedDropout(p=0.21164746841095372)\n",
      "    (embedding_dropout): Dropout(p=0.8816446810289567)\n",
      "  )\n",
      "  (out): Sequential(\n",
      "    (0): Linear(in_features=218, out_features=218, bias=True)\n",
      "    (1): BatchNorm1d(218, eps=1e-05, momentum=0.1, affine=True, track_running_stats=True)\n",
      "    (2): ReLU()\n",
      "    (3): Dropout(p=0.23520259998081305)\n",
      "    (4): Linear(in_features=218, out_features=1703, bias=True)\n",
      "  )\n",
      ")\n",
      "[2020-09-08 11:17:41,524][MainProcess][__main__][INFO] Epoch: 0\n",
      "[2020-09-08 11:17:41,525][MainProcess][__main__][INFO] Training...\n"
     ]
    },
    {
     "data": {
      "application/vnd.jupyter.widget-view+json": {
       "model_id": "c9c8ecaf98484b15a4ca11338c0812a7",
       "version_major": 2,
       "version_minor": 0
      },
      "text/plain": [
       "HBox(children=(IntProgress(value=0, max=2371), HTML(value='')))"
      ]
     },
     "metadata": {},
     "output_type": "display_data"
    },
    {
     "name": "stdout",
     "output_type": "stream",
     "text": [
      "\n",
      "[2020-09-08 11:17:55,407][MainProcess][lib.checkpoint][INFO] Saving checkpoint: ../../experiments/relation_classifier.09_08_10:23:25/3177.pt\n"
     ]
    },
    {
     "data": {
      "application/vnd.jupyter.widget-view+json": {
       "model_id": "f1f7bc80a7a847638487506a407b1311",
       "version_major": 2,
       "version_minor": 0
      },
      "text/plain": [
       "HBox(children=(IntProgress(value=0, max=2), HTML(value='')))"
      ]
     },
     "metadata": {},
     "output_type": "display_data"
    },
    {
     "name": "stdout",
     "output_type": "stream",
     "text": [
      "\n",
      "[2020-09-08 11:17:56,406][MainProcess][__main__][INFO] NLLLoss: 5.620\n",
      "[2020-09-08 11:17:56,474][MainProcess][lib.metrics.accuracy][INFO] Accuracy: 0.0 [0 of 8192]\n",
      "––––––––––––––––––––––––––––––––––––––––––––––––––––––––––––––––––––––––––––––––––––––––––––––––––––\n",
      "[2020-09-08 11:17:56,481][MainProcess][__main__][INFO] Epoch: 1\n",
      "[2020-09-08 11:17:56,482][MainProcess][__main__][INFO] Training...\n"
     ]
    },
    {
     "data": {
      "application/vnd.jupyter.widget-view+json": {
       "model_id": "62853a8a422746a885347674e255f492",
       "version_major": 2,
       "version_minor": 0
      },
      "text/plain": [
       "HBox(children=(IntProgress(value=0, max=2371), HTML(value='')))"
      ]
     },
     "metadata": {},
     "output_type": "display_data"
    },
    {
     "name": "stdout",
     "output_type": "stream",
     "text": [
      "\n",
      "[2020-09-08 11:18:09,635][MainProcess][lib.checkpoint][INFO] Saving checkpoint: ../../experiments/relation_classifier.09_08_10:23:25/3191.pt\n"
     ]
    },
    {
     "data": {
      "application/vnd.jupyter.widget-view+json": {
       "model_id": "e9e1837f27ed49f99b9245fafe102570",
       "version_major": 2,
       "version_minor": 0
      },
      "text/plain": [
       "HBox(children=(IntProgress(value=0, max=2), HTML(value='')))"
      ]
     },
     "metadata": {},
     "output_type": "display_data"
    },
    {
     "name": "stdout",
     "output_type": "stream",
     "text": [
      "\n",
      "[2020-09-08 11:18:10,766][MainProcess][__main__][INFO] NLLLoss: 5.620\n",
      "[2020-09-08 11:18:10,831][MainProcess][lib.metrics.accuracy][INFO] Accuracy: 0.0 [0 of 8192]\n"
     ]
    },
    {
     "name": "stderr",
     "output_type": "stream",
     "text": [
      "\r",
      " 13%|█▎        | 130.00000000000026/1000.0 [45:37<4:38:22, 19.20s/it, min_score=-0, models_evaluated=55]"
     ]
    },
    {
     "name": "stdout",
     "output_type": "stream",
     "text": [
      "––––––––––––––––––––––––––––––––––––––––––––––––––––––––––––––––––––––––––––––––––––––––––––––––––––\n",
      "====================================================================================================\n",
      "[2020-09-08 11:18:10,879][MainProcess][lib.configurable][INFO] Checking configuration...\n",
      "[2020-09-08 11:18:10,880][MainProcess][lib.configurable][INFO] Configuration checked.\n",
      "[2020-09-08 11:18:10,880][MainProcess][lib.checkpoint][INFO] Loading checkpoints from ../../experiments/relation_classifier.09_08_10:23:25/876.pt onto device 0\n",
      "[2020-09-08 11:18:10,931][MainProcess][__main__][INFO] Epochs: 2\n",
      "[2020-09-08 11:18:10,932][MainProcess][__main__][INFO] Train Dataset Size: 75900\n",
      "[2020-09-08 11:18:10,932][MainProcess][__main__][INFO] Dev Dataset Size: 10845\n",
      "[2020-09-08 11:18:10,933][MainProcess][__main__][INFO] Train Batch Size: 32\n",
      "[2020-09-08 11:18:10,934][MainProcess][__main__][INFO] Train Max Batch Size: 1024\n",
      "[2020-09-08 11:18:10,934][MainProcess][__main__][INFO] Total Parameters: 3267915\n",
      "[2020-09-08 11:18:10,935][MainProcess][__main__][INFO] Model:\n",
      "SeqToLabel(\n",
      "  (encoder): SeqEncoder(\n",
      "    (embedding): Embedding(6899, 300, padding_idx=0)\n",
      "    (rnn): LSTM(300, 278, dropout=0.6771122411928767)\n",
      "    (rnn_dropout): LockedDropout(p=0.02748852471287508)\n",
      "    (embedding_dropout): Dropout(p=0.7369165518338379)\n",
      "  )\n",
      "  (out): Sequential(\n",
      "    (0): Linear(in_features=278, out_features=278, bias=True)\n",
      "    (1): BatchNorm1d(278, eps=1e-05, momentum=0.1, affine=True, track_running_stats=True)\n",
      "    (2): ReLU()\n",
      "    (3): Dropout(p=0.36232550870052105)\n",
      "    (4): Linear(in_features=278, out_features=1703, bias=True)\n",
      "  )\n",
      ")\n",
      "[2020-09-08 11:18:10,936][MainProcess][__main__][INFO] Epoch: 0\n",
      "[2020-09-08 11:18:10,937][MainProcess][__main__][INFO] Training...\n"
     ]
    },
    {
     "data": {
      "application/vnd.jupyter.widget-view+json": {
       "model_id": "fda0c9cd021d4ce3899b36c8335a5560",
       "version_major": 2,
       "version_minor": 0
      },
      "text/plain": [
       "HBox(children=(IntProgress(value=0, max=2371), HTML(value='')))"
      ]
     },
     "metadata": {},
     "output_type": "display_data"
    },
    {
     "name": "stdout",
     "output_type": "stream",
     "text": [
      "\n",
      "[2020-09-08 11:18:24,500][MainProcess][lib.checkpoint][INFO] Saving checkpoint: ../../experiments/relation_classifier.09_08_10:23:25/3206.pt\n"
     ]
    },
    {
     "data": {
      "application/vnd.jupyter.widget-view+json": {
       "model_id": "ce0f7315ce8642d6892c233f325775ac",
       "version_major": 2,
       "version_minor": 0
      },
      "text/plain": [
       "HBox(children=(IntProgress(value=0, max=2), HTML(value='')))"
      ]
     },
     "metadata": {},
     "output_type": "display_data"
    },
    {
     "name": "stdout",
     "output_type": "stream",
     "text": [
      "\n",
      "[2020-09-08 11:18:25,939][MainProcess][__main__][INFO] NLLLoss: 5.620\n",
      "[2020-09-08 11:18:26,004][MainProcess][lib.metrics.accuracy][INFO] Accuracy: 0.0 [0 of 8192]\n",
      "––––––––––––––––––––––––––––––––––––––––––––––––––––––––––––––––––––––––––––––––––––––––––––––––––––\n",
      "[2020-09-08 11:18:26,011][MainProcess][__main__][INFO] Epoch: 1\n",
      "[2020-09-08 11:18:26,012][MainProcess][__main__][INFO] Training...\n"
     ]
    },
    {
     "data": {
      "application/vnd.jupyter.widget-view+json": {
       "model_id": "2a777a66f6df4e73a46b2eb25919d3cc",
       "version_major": 2,
       "version_minor": 0
      },
      "text/plain": [
       "HBox(children=(IntProgress(value=0, max=2371), HTML(value='')))"
      ]
     },
     "metadata": {},
     "output_type": "display_data"
    },
    {
     "name": "stdout",
     "output_type": "stream",
     "text": [
      "\n",
      "[2020-09-08 11:18:39,814][MainProcess][lib.checkpoint][INFO] Saving checkpoint: ../../experiments/relation_classifier.09_08_10:23:25/3221.pt\n"
     ]
    },
    {
     "data": {
      "application/vnd.jupyter.widget-view+json": {
       "model_id": "1221f208520f4485845de5b0ccf8940e",
       "version_major": 2,
       "version_minor": 0
      },
      "text/plain": [
       "HBox(children=(IntProgress(value=0, max=2), HTML(value='')))"
      ]
     },
     "metadata": {},
     "output_type": "display_data"
    },
    {
     "name": "stdout",
     "output_type": "stream",
     "text": [
      "\n",
      "[2020-09-08 11:18:41,394][MainProcess][__main__][INFO] NLLLoss: 5.620\n",
      "[2020-09-08 11:18:41,493][MainProcess][lib.metrics.accuracy][INFO] Accuracy: 0.0 [0 of 8192]\n"
     ]
    },
    {
     "name": "stderr",
     "output_type": "stream",
     "text": [
      "\r",
      " 13%|█▎        | 132.22222222222248/1000.0 [46:07<4:14:13, 17.58s/it, min_score=-0, models_evaluated=55]"
     ]
    },
    {
     "name": "stdout",
     "output_type": "stream",
     "text": [
      "––––––––––––––––––––––––––––––––––––––––––––––––––––––––––––––––––––––––––––––––––––––––––––––––––––\n",
      "====================================================================================================\n",
      "[2020-09-08 11:18:41,533][MainProcess][lib.configurable][INFO] Checking configuration...\n",
      "[2020-09-08 11:18:41,534][MainProcess][lib.configurable][INFO] Configuration checked.\n",
      "[2020-09-08 11:18:41,535][MainProcess][lib.checkpoint][INFO] Loading checkpoints from ../../experiments/relation_classifier.09_08_10:23:25/898.pt onto device 0\n",
      "[2020-09-08 11:18:41,607][MainProcess][__main__][INFO] Epochs: 2\n",
      "[2020-09-08 11:18:41,608][MainProcess][__main__][INFO] Train Dataset Size: 75900\n",
      "[2020-09-08 11:18:41,609][MainProcess][__main__][INFO] Dev Dataset Size: 10845\n",
      "[2020-09-08 11:18:41,609][MainProcess][__main__][INFO] Train Batch Size: 32\n",
      "[2020-09-08 11:18:41,610][MainProcess][__main__][INFO] Train Max Batch Size: 1024\n",
      "[2020-09-08 11:18:41,611][MainProcess][__main__][INFO] Total Parameters: 3586819\n",
      "[2020-09-08 11:18:41,612][MainProcess][__main__][INFO] Model:\n",
      "SeqToLabel(\n",
      "  (encoder): SeqEncoder(\n",
      "    (embedding): Embedding(6899, 300, padding_idx=0)\n",
      "    (rnn): GRU(300, 482, num_layers=2, dropout=0.20163698907150734)\n",
      "    (rnn_dropout): LockedDropout(p=0.5207634478414555)\n",
      "    (embedding_dropout): Dropout(p=0.13892602046717184)\n",
      "  )\n",
      "  (out): Sequential(\n",
      "    (0): Linear(in_features=482, out_features=482, bias=True)\n",
      "    (1): BatchNorm1d(482, eps=1e-05, momentum=0.1, affine=True, track_running_stats=True)\n",
      "    (2): ReLU()\n",
      "    (3): Dropout(p=0.8946969344144718)\n",
      "    (4): Linear(in_features=482, out_features=1703, bias=True)\n",
      "  )\n",
      ")\n",
      "[2020-09-08 11:18:41,613][MainProcess][__main__][INFO] Epoch: 0\n",
      "[2020-09-08 11:18:41,614][MainProcess][__main__][INFO] Training...\n"
     ]
    },
    {
     "data": {
      "application/vnd.jupyter.widget-view+json": {
       "model_id": "6a4dee9d0b474096b34f15b02c7ea717",
       "version_major": 2,
       "version_minor": 0
      },
      "text/plain": [
       "HBox(children=(IntProgress(value=0, max=2371), HTML(value='')))"
      ]
     },
     "metadata": {},
     "output_type": "display_data"
    },
    {
     "name": "stdout",
     "output_type": "stream",
     "text": [
      "\n",
      "[2020-09-08 11:19:02,921][MainProcess][lib.checkpoint][INFO] Saving checkpoint: ../../experiments/relation_classifier.09_08_10:23:25/3244.pt\n"
     ]
    },
    {
     "data": {
      "application/vnd.jupyter.widget-view+json": {
       "model_id": "4949c5bc03d64966952dd5cc5b1b6034",
       "version_major": 2,
       "version_minor": 0
      },
      "text/plain": [
       "HBox(children=(IntProgress(value=0, max=2), HTML(value='')))"
      ]
     },
     "metadata": {},
     "output_type": "display_data"
    },
    {
     "name": "stdout",
     "output_type": "stream",
     "text": [
      "\n",
      "[2020-09-08 11:19:04,374][MainProcess][__main__][INFO] NLLLoss: 5.620\n",
      "[2020-09-08 11:19:04,473][MainProcess][lib.metrics.accuracy][INFO] Accuracy: 0.0 [0 of 8192]\n",
      "––––––––––––––––––––––––––––––––––––––––––––––––––––––––––––––––––––––––––––––––––––––––––––––––––––\n",
      "[2020-09-08 11:19:04,480][MainProcess][__main__][INFO] Epoch: 1\n",
      "[2020-09-08 11:19:04,481][MainProcess][__main__][INFO] Training...\n"
     ]
    },
    {
     "data": {
      "application/vnd.jupyter.widget-view+json": {
       "model_id": "ed53d1e04ac44a97914cc8150d0f9a6c",
       "version_major": 2,
       "version_minor": 0
      },
      "text/plain": [
       "HBox(children=(IntProgress(value=0, max=2371), HTML(value='')))"
      ]
     },
     "metadata": {},
     "output_type": "display_data"
    },
    {
     "name": "stdout",
     "output_type": "stream",
     "text": [
      "\n",
      "[2020-09-08 11:19:25,608][MainProcess][lib.checkpoint][INFO] Saving checkpoint: ../../experiments/relation_classifier.09_08_10:23:25/3267.pt\n"
     ]
    },
    {
     "data": {
      "application/vnd.jupyter.widget-view+json": {
       "model_id": "e1761a545a674e48b206b20d9b8ac1fd",
       "version_major": 2,
       "version_minor": 0
      },
      "text/plain": [
       "HBox(children=(IntProgress(value=0, max=2), HTML(value='')))"
      ]
     },
     "metadata": {},
     "output_type": "display_data"
    },
    {
     "name": "stdout",
     "output_type": "stream",
     "text": [
      "\n",
      "[2020-09-08 11:19:27,391][MainProcess][__main__][INFO] NLLLoss: 5.620\n",
      "[2020-09-08 11:19:27,491][MainProcess][lib.metrics.accuracy][INFO] Accuracy: 0.0 [0 of 8192]\n"
     ]
    },
    {
     "name": "stderr",
     "output_type": "stream",
     "text": [
      "\r",
      " 13%|█▎        | 134.4444444444447/1000.0 [46:53<4:27:06, 18.52s/it, min_score=-0, models_evaluated=55] "
     ]
    },
    {
     "name": "stdout",
     "output_type": "stream",
     "text": [
      "––––––––––––––––––––––––––––––––––––––––––––––––––––––––––––––––––––––––––––––––––––––––––––––––––––\n",
      "====================================================================================================\n",
      "[2020-09-08 11:19:27,544][MainProcess][lib.configurable][INFO] Checking configuration...\n",
      "[2020-09-08 11:19:27,545][MainProcess][lib.configurable][INFO] Configuration checked.\n",
      "[2020-09-08 11:19:27,546][MainProcess][lib.checkpoint][INFO] Loading checkpoints from ../../experiments/relation_classifier.09_08_10:23:25/920.pt onto device 0\n",
      "[2020-09-08 11:19:27,625][MainProcess][__main__][INFO] Epochs: 2\n",
      "[2020-09-08 11:19:27,627][MainProcess][__main__][INFO] Train Dataset Size: 75900\n",
      "[2020-09-08 11:19:27,627][MainProcess][__main__][INFO] Dev Dataset Size: 10845\n",
      "[2020-09-08 11:19:27,628][MainProcess][__main__][INFO] Train Batch Size: 32\n",
      "[2020-09-08 11:19:27,629][MainProcess][__main__][INFO] Train Max Batch Size: 1024\n",
      "[2020-09-08 11:19:27,630][MainProcess][__main__][INFO] Total Parameters: 2815899\n",
      "[2020-09-08 11:19:27,631][MainProcess][__main__][INFO] Model:\n",
      "SeqToLabel(\n",
      "  (encoder): SeqEncoder(\n",
      "    (embedding): Embedding(6899, 300, padding_idx=0)\n",
      "    (rnn): LSTM(300, 152, num_layers=2, dropout=0.10752134988760846)\n",
      "    (rnn_dropout): LockedDropout(p=0.5527897226719037)\n",
      "    (embedding_dropout): Dropout(p=0.6847620579094936)\n",
      "  )\n",
      "  (out): Sequential(\n",
      "    (0): Linear(in_features=152, out_features=152, bias=True)\n",
      "    (1): BatchNorm1d(152, eps=1e-05, momentum=0.1, affine=True, track_running_stats=True)\n",
      "    (2): ReLU()\n",
      "    (3): Dropout(p=0.18807789099569727)\n",
      "    (4): Linear(in_features=152, out_features=1703, bias=True)\n",
      "  )\n",
      ")\n",
      "[2020-09-08 11:19:27,632][MainProcess][__main__][INFO] Epoch: 0\n",
      "[2020-09-08 11:19:27,633][MainProcess][__main__][INFO] Training...\n"
     ]
    },
    {
     "data": {
      "application/vnd.jupyter.widget-view+json": {
       "model_id": "52e8b557233d4536a5850d04a5cd7d36",
       "version_major": 2,
       "version_minor": 0
      },
      "text/plain": [
       "HBox(children=(IntProgress(value=0, max=2371), HTML(value='')))"
      ]
     },
     "metadata": {},
     "output_type": "display_data"
    },
    {
     "name": "stdout",
     "output_type": "stream",
     "text": [
      "\n",
      "[2020-09-08 11:19:47,121][MainProcess][lib.checkpoint][INFO] Saving checkpoint: ../../experiments/relation_classifier.09_08_10:23:25/3288.pt\n"
     ]
    },
    {
     "data": {
      "application/vnd.jupyter.widget-view+json": {
       "model_id": "06d08558c60045d88bf2039f352fb9b3",
       "version_major": 2,
       "version_minor": 0
      },
      "text/plain": [
       "HBox(children=(IntProgress(value=0, max=2), HTML(value='')))"
      ]
     },
     "metadata": {},
     "output_type": "display_data"
    },
    {
     "name": "stdout",
     "output_type": "stream",
     "text": [
      "\n",
      "[2020-09-08 11:19:48,176][MainProcess][__main__][INFO] NLLLoss: 5.620\n",
      "[2020-09-08 11:19:48,274][MainProcess][lib.metrics.accuracy][INFO] Accuracy: 0.0 [0 of 8192]\n",
      "––––––––––––––––––––––––––––––––––––––––––––––––––––––––––––––––––––––––––––––––––––––––––––––––––––\n",
      "[2020-09-08 11:19:48,282][MainProcess][__main__][INFO] Epoch: 1\n",
      "[2020-09-08 11:19:48,283][MainProcess][__main__][INFO] Training...\n"
     ]
    },
    {
     "data": {
      "application/vnd.jupyter.widget-view+json": {
       "model_id": "12afec3b33a3429cb1d569419b6202f9",
       "version_major": 2,
       "version_minor": 0
      },
      "text/plain": [
       "HBox(children=(IntProgress(value=0, max=2371), HTML(value='')))"
      ]
     },
     "metadata": {},
     "output_type": "display_data"
    },
    {
     "name": "stdout",
     "output_type": "stream",
     "text": [
      "\n",
      "[2020-09-08 11:20:07,602][MainProcess][lib.checkpoint][INFO] Saving checkpoint: ../../experiments/relation_classifier.09_08_10:23:25/3309.pt\n"
     ]
    },
    {
     "data": {
      "application/vnd.jupyter.widget-view+json": {
       "model_id": "22fb560572d14338b8aa89973411fb29",
       "version_major": 2,
       "version_minor": 0
      },
      "text/plain": [
       "HBox(children=(IntProgress(value=0, max=2), HTML(value='')))"
      ]
     },
     "metadata": {},
     "output_type": "display_data"
    },
    {
     "name": "stdout",
     "output_type": "stream",
     "text": [
      "\n",
      "[2020-09-08 11:20:08,912][MainProcess][__main__][INFO] NLLLoss: 5.620\n",
      "[2020-09-08 11:20:09,012][MainProcess][lib.metrics.accuracy][INFO] Accuracy: 0.0 [0 of 8192]\n"
     ]
    },
    {
     "name": "stderr",
     "output_type": "stream",
     "text": [
      "\r",
      " 14%|█▎        | 136.66666666666694/1000.0 [47:35<4:27:07, 18.56s/it, min_score=-0, models_evaluated=55]"
     ]
    },
    {
     "name": "stdout",
     "output_type": "stream",
     "text": [
      "––––––––––––––––––––––––––––––––––––––––––––––––––––––––––––––––––––––––––––––––––––––––––––––––––––\n",
      "====================================================================================================\n",
      "[2020-09-08 11:20:09,051][MainProcess][lib.configurable][INFO] Checking configuration...\n",
      "[2020-09-08 11:20:09,052][MainProcess][lib.configurable][INFO] Configuration checked.\n",
      "[2020-09-08 11:20:09,053][MainProcess][lib.checkpoint][INFO] Loading checkpoints from ../../experiments/relation_classifier.09_08_10:23:25/938.pt onto device 0\n",
      "[2020-09-08 11:20:09,105][MainProcess][__main__][INFO] Epochs: 2\n",
      "[2020-09-08 11:20:09,106][MainProcess][__main__][INFO] Train Dataset Size: 75900\n",
      "[2020-09-08 11:20:09,107][MainProcess][__main__][INFO] Dev Dataset Size: 10845\n",
      "[2020-09-08 11:20:09,108][MainProcess][__main__][INFO] Train Batch Size: 32\n",
      "[2020-09-08 11:20:09,109][MainProcess][__main__][INFO] Train Max Batch Size: 1024\n",
      "[2020-09-08 11:20:09,110][MainProcess][__main__][INFO] Total Parameters: 1821449\n",
      "[2020-09-08 11:20:09,111][MainProcess][__main__][INFO] Model:\n",
      "SeqToLabel(\n",
      "  (encoder): SeqEncoder(\n",
      "    (embedding): Embedding(6899, 300, padding_idx=0)\n",
      "    (rnn): GRU(300, 239, dropout=0.15716281873176002, bidirectional=True)\n",
      "    (rnn_dropout): LockedDropout(p=0.44684429792991354)\n",
      "    (embedding_dropout): Dropout(p=0.7513479938618328)\n",
      "  )\n",
      "  (out): Sequential(\n",
      "    (0): Linear(in_features=478, out_features=478, bias=True)\n",
      "    (1): BatchNorm1d(478, eps=1e-05, momentum=0.1, affine=True, track_running_stats=True)\n",
      "    (2): ReLU()\n",
      "    (3): Dropout(p=0.7425696706038016)\n",
      "    (4): Linear(in_features=478, out_features=1703, bias=True)\n",
      "  )\n",
      ")\n",
      "[2020-09-08 11:20:09,112][MainProcess][__main__][INFO] Epoch: 0\n",
      "[2020-09-08 11:20:09,112][MainProcess][__main__][INFO] Training...\n"
     ]
    },
    {
     "data": {
      "application/vnd.jupyter.widget-view+json": {
       "model_id": "13d55b185ecb4af28d3941b3741479a7",
       "version_major": 2,
       "version_minor": 0
      },
      "text/plain": [
       "HBox(children=(IntProgress(value=0, max=2371), HTML(value='')))"
      ]
     },
     "metadata": {},
     "output_type": "display_data"
    },
    {
     "name": "stdout",
     "output_type": "stream",
     "text": [
      "\n",
      "[2020-09-08 11:20:27,784][MainProcess][lib.checkpoint][INFO] Saving checkpoint: ../../experiments/relation_classifier.09_08_10:23:25/3329.pt\n"
     ]
    },
    {
     "data": {
      "application/vnd.jupyter.widget-view+json": {
       "model_id": "2085241ca0fe4a39b0a63eafdfc05215",
       "version_major": 2,
       "version_minor": 0
      },
      "text/plain": [
       "HBox(children=(IntProgress(value=0, max=2), HTML(value='')))"
      ]
     },
     "metadata": {},
     "output_type": "display_data"
    },
    {
     "name": "stdout",
     "output_type": "stream",
     "text": [
      "\n",
      "[2020-09-08 11:20:28,743][MainProcess][__main__][INFO] NLLLoss: 5.620\n",
      "[2020-09-08 11:20:28,842][MainProcess][lib.metrics.accuracy][INFO] Accuracy: 0.0 [0 of 8192]\n",
      "––––––––––––––––––––––––––––––––––––––––––––––––––––––––––––––––––––––––––––––––––––––––––––––––––––\n",
      "[2020-09-08 11:20:28,850][MainProcess][__main__][INFO] Epoch: 1\n",
      "[2020-09-08 11:20:28,851][MainProcess][__main__][INFO] Training...\n"
     ]
    },
    {
     "data": {
      "application/vnd.jupyter.widget-view+json": {
       "model_id": "9e0bc61a8a924c65832d380e0315db4e",
       "version_major": 2,
       "version_minor": 0
      },
      "text/plain": [
       "HBox(children=(IntProgress(value=0, max=2371), HTML(value='')))"
      ]
     },
     "metadata": {},
     "output_type": "display_data"
    },
    {
     "name": "stdout",
     "output_type": "stream",
     "text": [
      "\n",
      "[2020-09-08 11:20:47,274][MainProcess][lib.checkpoint][INFO] Saving checkpoint: ../../experiments/relation_classifier.09_08_10:23:25/3348.pt\n"
     ]
    },
    {
     "data": {
      "application/vnd.jupyter.widget-view+json": {
       "model_id": "145761ff42414fa5bc61452178c960d1",
       "version_major": 2,
       "version_minor": 0
      },
      "text/plain": [
       "HBox(children=(IntProgress(value=0, max=2), HTML(value='')))"
      ]
     },
     "metadata": {},
     "output_type": "display_data"
    },
    {
     "name": "stdout",
     "output_type": "stream",
     "text": [
      "\n",
      "[2020-09-08 11:20:48,521][MainProcess][__main__][INFO] NLLLoss: 5.620\n",
      "[2020-09-08 11:20:48,619][MainProcess][lib.metrics.accuracy][INFO] Accuracy: 0.0 [0 of 8192]\n"
     ]
    },
    {
     "name": "stderr",
     "output_type": "stream",
     "text": [
      "\r",
      " 14%|█▍        | 138.88888888888917/1000.0 [48:14<4:23:15, 18.34s/it, min_score=-0, models_evaluated=55]"
     ]
    },
    {
     "name": "stdout",
     "output_type": "stream",
     "text": [
      "––––––––––––––––––––––––––––––––––––––––––––––––––––––––––––––––––––––––––––––––––––––––––––––––––––\n",
      "====================================================================================================\n",
      "[2020-09-08 11:20:48,663][MainProcess][lib.configurable][INFO] Checking configuration...\n",
      "[2020-09-08 11:20:48,665][MainProcess][lib.configurable][INFO] Configuration checked.\n",
      "[2020-09-08 11:20:48,666][MainProcess][lib.checkpoint][INFO] Loading checkpoints from ../../experiments/relation_classifier.09_08_10:23:25/954.pt onto device 0\n",
      "[2020-09-08 11:20:48,761][MainProcess][__main__][INFO] Epochs: 2\n",
      "[2020-09-08 11:20:48,762][MainProcess][__main__][INFO] Train Dataset Size: 75900\n",
      "[2020-09-08 11:20:48,763][MainProcess][__main__][INFO] Dev Dataset Size: 10845\n",
      "[2020-09-08 11:20:48,764][MainProcess][__main__][INFO] Train Batch Size: 32\n",
      "[2020-09-08 11:20:48,765][MainProcess][__main__][INFO] Train Max Batch Size: 1024\n",
      "[2020-09-08 11:20:48,765][MainProcess][__main__][INFO] Total Parameters: 3820875\n",
      "[2020-09-08 11:20:48,766][MainProcess][__main__][INFO] Model:\n",
      "SeqToLabel(\n",
      "  (encoder): SeqEncoder(\n",
      "    (embedding): Embedding(6899, 300, padding_idx=0)\n",
      "    (rnn): LSTM(300, 368, dropout=0.3731408196823724)\n",
      "    (rnn_dropout): LockedDropout(p=0.3670158579946571)\n",
      "    (embedding_dropout): Dropout(p=0.4763503157534621)\n",
      "  )\n",
      "  (out): Sequential(\n",
      "    (0): Linear(in_features=368, out_features=368, bias=True)\n",
      "    (1): BatchNorm1d(368, eps=1e-05, momentum=0.1, affine=True, track_running_stats=True)\n",
      "    (2): ReLU()\n",
      "    (3): Dropout(p=0.031149788563002528)\n",
      "    (4): Linear(in_features=368, out_features=1703, bias=True)\n",
      "  )\n",
      ")\n",
      "[2020-09-08 11:20:48,767][MainProcess][__main__][INFO] Epoch: 0\n",
      "[2020-09-08 11:20:48,768][MainProcess][__main__][INFO] Training...\n"
     ]
    },
    {
     "data": {
      "application/vnd.jupyter.widget-view+json": {
       "model_id": "a2e95c94fa304587853a033451241478",
       "version_major": 2,
       "version_minor": 0
      },
      "text/plain": [
       "HBox(children=(IntProgress(value=0, max=2371), HTML(value='')))"
      ]
     },
     "metadata": {},
     "output_type": "display_data"
    },
    {
     "name": "stdout",
     "output_type": "stream",
     "text": [
      "\n",
      "[2020-09-08 11:21:03,869][MainProcess][lib.checkpoint][INFO] Saving checkpoint: ../../experiments/relation_classifier.09_08_10:23:25/3365.pt\n"
     ]
    },
    {
     "data": {
      "application/vnd.jupyter.widget-view+json": {
       "model_id": "a03ce6c136bf453692923d4c0b542da1",
       "version_major": 2,
       "version_minor": 0
      },
      "text/plain": [
       "HBox(children=(IntProgress(value=0, max=2), HTML(value='')))"
      ]
     },
     "metadata": {},
     "output_type": "display_data"
    },
    {
     "name": "stdout",
     "output_type": "stream",
     "text": [
      "\n",
      "[2020-09-08 11:21:05,914][MainProcess][__main__][INFO] NLLLoss: 5.620\n",
      "[2020-09-08 11:21:05,985][MainProcess][lib.metrics.accuracy][INFO] Accuracy: 0.0 [0 of 8192]\n",
      "––––––––––––––––––––––––––––––––––––––––––––––––––––––––––––––––––––––––––––––––––––––––––––––––––––\n",
      "[2020-09-08 11:21:05,993][MainProcess][__main__][INFO] Epoch: 1\n",
      "[2020-09-08 11:21:05,994][MainProcess][__main__][INFO] Training...\n"
     ]
    },
    {
     "data": {
      "application/vnd.jupyter.widget-view+json": {
       "model_id": "b390ae98c0644b6a87ff502d4a0b1a6c",
       "version_major": 2,
       "version_minor": 0
      },
      "text/plain": [
       "HBox(children=(IntProgress(value=0, max=2371), HTML(value='')))"
      ]
     },
     "metadata": {},
     "output_type": "display_data"
    },
    {
     "name": "stdout",
     "output_type": "stream",
     "text": [
      "\n",
      "[2020-09-08 11:21:20,051][MainProcess][lib.checkpoint][INFO] Saving checkpoint: ../../experiments/relation_classifier.09_08_10:23:25/3381.pt\n"
     ]
    },
    {
     "data": {
      "application/vnd.jupyter.widget-view+json": {
       "model_id": "a7401c584d4f43a69018e9fa393cfef1",
       "version_major": 2,
       "version_minor": 0
      },
      "text/plain": [
       "HBox(children=(IntProgress(value=0, max=2), HTML(value='')))"
      ]
     },
     "metadata": {},
     "output_type": "display_data"
    },
    {
     "name": "stdout",
     "output_type": "stream",
     "text": [
      "\n",
      "[2020-09-08 11:21:21,360][MainProcess][__main__][INFO] NLLLoss: 5.620\n",
      "[2020-09-08 11:21:21,428][MainProcess][lib.metrics.accuracy][INFO] Accuracy: 0.0 [0 of 8192]\n"
     ]
    },
    {
     "name": "stderr",
     "output_type": "stream",
     "text": [
      "\r",
      " 14%|█▍        | 141.1111111111114/1000.0 [48:47<4:07:12, 17.27s/it, min_score=-0, models_evaluated=55] "
     ]
    },
    {
     "name": "stdout",
     "output_type": "stream",
     "text": [
      "––––––––––––––––––––––––––––––––––––––––––––––––––––––––––––––––––––––––––––––––––––––––––––––––––––\n",
      "====================================================================================================\n",
      "[2020-09-08 11:21:21,471][MainProcess][lib.configurable][INFO] Checking configuration...\n",
      "[2020-09-08 11:21:21,473][MainProcess][lib.configurable][INFO] Configuration checked.\n",
      "[2020-09-08 11:21:21,474][MainProcess][lib.checkpoint][INFO] Loading checkpoints from ../../experiments/relation_classifier.09_08_10:23:25/974.pt onto device 0\n",
      "[2020-09-08 11:21:21,544][MainProcess][__main__][INFO] Epochs: 2\n",
      "[2020-09-08 11:21:21,545][MainProcess][__main__][INFO] Train Dataset Size: 75900\n",
      "[2020-09-08 11:21:21,546][MainProcess][__main__][INFO] Dev Dataset Size: 10845\n",
      "[2020-09-08 11:21:21,547][MainProcess][__main__][INFO] Train Batch Size: 32\n",
      "[2020-09-08 11:21:21,547][MainProcess][__main__][INFO] Train Max Batch Size: 1024\n",
      "[2020-09-08 11:21:21,548][MainProcess][__main__][INFO] Total Parameters: 3571907\n",
      "[2020-09-08 11:21:21,549][MainProcess][__main__][INFO] Model:\n",
      "SeqToLabel(\n",
      "  (encoder): SeqEncoder(\n",
      "    (embedding): Embedding(6899, 300, padding_idx=0)\n",
      "    (rnn): GRU(300, 206, dropout=0.6578908106540508, bidirectional=True)\n",
      "    (rnn_dropout): LockedDropout(p=0.058664923912296205)\n",
      "    (embedding_dropout): Dropout(p=0.1362892033265325)\n",
      "  )\n",
      "  (out): Sequential(\n",
      "    (0): Linear(in_features=412, out_features=412, bias=True)\n",
      "    (1): BatchNorm1d(412, eps=1e-05, momentum=0.1, affine=True, track_running_stats=True)\n",
      "    (2): ReLU()\n",
      "    (3): Dropout(p=0.5113071837753969)\n",
      "    (4): Linear(in_features=412, out_features=1703, bias=True)\n",
      "  )\n",
      ")\n",
      "[2020-09-08 11:21:21,550][MainProcess][__main__][INFO] Epoch: 0\n",
      "[2020-09-08 11:21:21,551][MainProcess][__main__][INFO] Training...\n"
     ]
    },
    {
     "data": {
      "application/vnd.jupyter.widget-view+json": {
       "model_id": "b5b2657c50e24ba6a351227adb2e50a2",
       "version_major": 2,
       "version_minor": 0
      },
      "text/plain": [
       "HBox(children=(IntProgress(value=0, max=2371), HTML(value='')))"
      ]
     },
     "metadata": {},
     "output_type": "display_data"
    },
    {
     "name": "stdout",
     "output_type": "stream",
     "text": [
      "\n",
      "[2020-09-08 11:21:41,585][MainProcess][lib.checkpoint][INFO] Saving checkpoint: ../../experiments/relation_classifier.09_08_10:23:25/3403.pt\n"
     ]
    },
    {
     "data": {
      "application/vnd.jupyter.widget-view+json": {
       "model_id": "4ace3ab995e14b898774c12c482b9d1a",
       "version_major": 2,
       "version_minor": 0
      },
      "text/plain": [
       "HBox(children=(IntProgress(value=0, max=2), HTML(value='')))"
      ]
     },
     "metadata": {},
     "output_type": "display_data"
    },
    {
     "name": "stdout",
     "output_type": "stream",
     "text": [
      "\n",
      "[2020-09-08 11:21:42,998][MainProcess][__main__][INFO] NLLLoss: 5.620\n",
      "[2020-09-08 11:21:43,066][MainProcess][lib.metrics.accuracy][INFO] Accuracy: 0.0 [0 of 8192]\n",
      "––––––––––––––––––––––––––––––––––––––––––––––––––––––––––––––––––––––––––––––––––––––––––––––––––––\n",
      "[2020-09-08 11:21:43,073][MainProcess][__main__][INFO] Epoch: 1\n",
      "[2020-09-08 11:21:43,074][MainProcess][__main__][INFO] Training...\n"
     ]
    },
    {
     "data": {
      "application/vnd.jupyter.widget-view+json": {
       "model_id": "a82fea18e08d4296b5176656f439e86c",
       "version_major": 2,
       "version_minor": 0
      },
      "text/plain": [
       "HBox(children=(IntProgress(value=0, max=2371), HTML(value='')))"
      ]
     },
     "metadata": {},
     "output_type": "display_data"
    },
    {
     "name": "stdout",
     "output_type": "stream",
     "text": [
      "\n",
      "[2020-09-08 11:21:59,932][MainProcess][lib.checkpoint][INFO] Saving checkpoint: ../../experiments/relation_classifier.09_08_10:23:25/3421.pt\n"
     ]
    },
    {
     "data": {
      "application/vnd.jupyter.widget-view+json": {
       "model_id": "b250203a29614d9aaeea6a82b5e6220d",
       "version_major": 2,
       "version_minor": 0
      },
      "text/plain": [
       "HBox(children=(IntProgress(value=0, max=2), HTML(value='')))"
      ]
     },
     "metadata": {},
     "output_type": "display_data"
    },
    {
     "name": "stdout",
     "output_type": "stream",
     "text": [
      "\n",
      "[2020-09-08 11:22:01,173][MainProcess][__main__][INFO] NLLLoss: 5.620\n",
      "[2020-09-08 11:22:01,240][MainProcess][lib.metrics.accuracy][INFO] Accuracy: 0.0 [0 of 8192]\n"
     ]
    },
    {
     "name": "stderr",
     "output_type": "stream",
     "text": [
      "\r",
      " 14%|█▍        | 143.33333333333363/1000.0 [49:27<4:09:19, 17.46s/it, min_score=-0, models_evaluated=55]"
     ]
    },
    {
     "name": "stdout",
     "output_type": "stream",
     "text": [
      "––––––––––––––––––––––––––––––––––––––––––––––––––––––––––––––––––––––––––––––––––––––––––––––––––––\n",
      "====================================================================================================\n",
      "[2020-09-08 11:22:01,284][MainProcess][lib.configurable][INFO] Checking configuration...\n",
      "[2020-09-08 11:22:01,285][MainProcess][lib.configurable][INFO] Configuration checked.\n",
      "[2020-09-08 11:22:01,286][MainProcess][lib.checkpoint][INFO] Loading checkpoints from ../../experiments/relation_classifier.09_08_10:23:25/988.pt onto device 0\n",
      "[2020-09-08 11:22:01,353][MainProcess][__main__][INFO] Epochs: 2\n",
      "[2020-09-08 11:22:01,354][MainProcess][__main__][INFO] Train Dataset Size: 75900\n",
      "[2020-09-08 11:22:01,355][MainProcess][__main__][INFO] Dev Dataset Size: 10845\n",
      "[2020-09-08 11:22:01,355][MainProcess][__main__][INFO] Train Batch Size: 32\n",
      "[2020-09-08 11:22:01,356][MainProcess][__main__][INFO] Train Max Batch Size: 1024\n",
      "[2020-09-08 11:22:01,357][MainProcess][__main__][INFO] Total Parameters: 735223\n",
      "[2020-09-08 11:22:01,358][MainProcess][__main__][INFO] Model:\n",
      "SeqToLabel(\n",
      "  (encoder): SeqEncoder(\n",
      "    (embedding): Embedding(6899, 300, padding_idx=0)\n",
      "    (rnn): GRU(300, 212, dropout=0.5352083619841871)\n",
      "    (rnn_dropout): LockedDropout(p=0.5680830182995672)\n",
      "    (embedding_dropout): Dropout(p=0.16289950226216882)\n",
      "  )\n",
      "  (out): Sequential(\n",
      "    (0): Linear(in_features=212, out_features=212, bias=True)\n",
      "    (1): BatchNorm1d(212, eps=1e-05, momentum=0.1, affine=True, track_running_stats=True)\n",
      "    (2): ReLU()\n",
      "    (3): Dropout(p=0.8616687501500063)\n",
      "    (4): Linear(in_features=212, out_features=1703, bias=True)\n",
      "  )\n",
      ")\n",
      "[2020-09-08 11:22:01,359][MainProcess][__main__][INFO] Epoch: 0\n",
      "[2020-09-08 11:22:01,360][MainProcess][__main__][INFO] Training...\n"
     ]
    },
    {
     "data": {
      "application/vnd.jupyter.widget-view+json": {
       "model_id": "7ef49fb4e6af48469537c469b30b5dda",
       "version_major": 2,
       "version_minor": 0
      },
      "text/plain": [
       "HBox(children=(IntProgress(value=0, max=2371), HTML(value='')))"
      ]
     },
     "metadata": {},
     "output_type": "display_data"
    },
    {
     "name": "stdout",
     "output_type": "stream",
     "text": [
      "\n",
      "[2020-09-08 11:22:13,811][MainProcess][lib.checkpoint][INFO] Saving checkpoint: ../../experiments/relation_classifier.09_08_10:23:25/3435.pt\n"
     ]
    },
    {
     "data": {
      "application/vnd.jupyter.widget-view+json": {
       "model_id": "195c3fd0959e4a49bbec4eba482936be",
       "version_major": 2,
       "version_minor": 0
      },
      "text/plain": [
       "HBox(children=(IntProgress(value=0, max=2), HTML(value='')))"
      ]
     },
     "metadata": {},
     "output_type": "display_data"
    },
    {
     "name": "stdout",
     "output_type": "stream",
     "text": [
      "\n",
      "[2020-09-08 11:22:14,528][MainProcess][__main__][INFO] NLLLoss: 5.620\n",
      "[2020-09-08 11:22:14,594][MainProcess][lib.metrics.accuracy][INFO] Accuracy: 0.0 [0 of 8192]\n",
      "––––––––––––––––––––––––––––––––––––––––––––––––––––––––––––––––––––––––––––––––––––––––––––––––––––\n",
      "[2020-09-08 11:22:14,602][MainProcess][__main__][INFO] Epoch: 1\n",
      "[2020-09-08 11:22:14,603][MainProcess][__main__][INFO] Training...\n"
     ]
    },
    {
     "data": {
      "application/vnd.jupyter.widget-view+json": {
       "model_id": "ac778bb15f9f4a059ac8655c27f7692f",
       "version_major": 2,
       "version_minor": 0
      },
      "text/plain": [
       "HBox(children=(IntProgress(value=0, max=2371), HTML(value='')))"
      ]
     },
     "metadata": {},
     "output_type": "display_data"
    },
    {
     "name": "stdout",
     "output_type": "stream",
     "text": [
      "\n",
      "[2020-09-08 11:22:26,822][MainProcess][lib.checkpoint][INFO] Saving checkpoint: ../../experiments/relation_classifier.09_08_10:23:25/3448.pt\n"
     ]
    },
    {
     "data": {
      "application/vnd.jupyter.widget-view+json": {
       "model_id": "b4cb3a7df674492195d7c23c2d9b8bbe",
       "version_major": 2,
       "version_minor": 0
      },
      "text/plain": [
       "HBox(children=(IntProgress(value=0, max=2), HTML(value='')))"
      ]
     },
     "metadata": {},
     "output_type": "display_data"
    },
    {
     "name": "stdout",
     "output_type": "stream",
     "text": [
      "\n",
      "[2020-09-08 11:22:27,491][MainProcess][__main__][INFO] NLLLoss: 5.620\n",
      "[2020-09-08 11:22:27,558][MainProcess][lib.metrics.accuracy][INFO] Accuracy: 0.0 [0 of 8192]\n"
     ]
    },
    {
     "name": "stderr",
     "output_type": "stream",
     "text": [
      "\r",
      " 15%|█▍        | 145.55555555555586/1000.0 [49:53<3:44:40, 15.78s/it, min_score=-0, models_evaluated=55]"
     ]
    },
    {
     "name": "stdout",
     "output_type": "stream",
     "text": [
      "––––––––––––––––––––––––––––––––––––––––––––––––––––––––––––––––––––––––––––––––––––––––––––––––––––\n",
      "====================================================================================================\n",
      "[2020-09-08 11:22:27,605][MainProcess][lib.configurable][INFO] Checking configuration...\n",
      "[2020-09-08 11:22:27,606][MainProcess][lib.configurable][INFO] Configuration checked.\n",
      "[2020-09-08 11:22:27,607][MainProcess][lib.checkpoint][INFO] Loading checkpoints from ../../experiments/relation_classifier.09_08_10:23:25/1002.pt onto device 0\n",
      "[2020-09-08 11:22:27,650][MainProcess][__main__][INFO] Epochs: 2\n",
      "[2020-09-08 11:22:27,652][MainProcess][__main__][INFO] Train Dataset Size: 75900\n",
      "[2020-09-08 11:22:27,652][MainProcess][__main__][INFO] Dev Dataset Size: 10845\n",
      "[2020-09-08 11:22:27,653][MainProcess][__main__][INFO] Train Batch Size: 32\n",
      "[2020-09-08 11:22:27,654][MainProcess][__main__][INFO] Train Max Batch Size: 1024\n",
      "[2020-09-08 11:22:27,655][MainProcess][__main__][INFO] Total Parameters: 1617335\n",
      "[2020-09-08 11:22:27,656][MainProcess][__main__][INFO] Model:\n",
      "SeqToLabel(\n",
      "  (encoder): SeqEncoder(\n",
      "    (embedding): Embedding(6899, 300, padding_idx=0)\n",
      "    (rnn): GRU(300, 388, dropout=0.4791839004458719)\n",
      "    (rnn_dropout): LockedDropout(p=0.6530820509584434)\n",
      "    (embedding_dropout): Dropout(p=0.0763166454648975)\n",
      "  )\n",
      "  (out): Sequential(\n",
      "    (0): Linear(in_features=388, out_features=388, bias=True)\n",
      "    (1): BatchNorm1d(388, eps=1e-05, momentum=0.1, affine=True, track_running_stats=True)\n",
      "    (2): ReLU()\n",
      "    (3): Dropout(p=0.4356644954396642)\n",
      "    (4): Linear(in_features=388, out_features=1703, bias=True)\n",
      "  )\n",
      ")\n",
      "[2020-09-08 11:22:27,657][MainProcess][__main__][INFO] Epoch: 0\n",
      "[2020-09-08 11:22:27,657][MainProcess][__main__][INFO] Training...\n"
     ]
    },
    {
     "data": {
      "application/vnd.jupyter.widget-view+json": {
       "model_id": "9e502182b63b44f587adf5bdfbe09ff2",
       "version_major": 2,
       "version_minor": 0
      },
      "text/plain": [
       "HBox(children=(IntProgress(value=0, max=2371), HTML(value='')))"
      ]
     },
     "metadata": {},
     "output_type": "display_data"
    },
    {
     "name": "stdout",
     "output_type": "stream",
     "text": [
      "\n",
      "[2020-09-08 11:22:40,590][MainProcess][lib.checkpoint][INFO] Saving checkpoint: ../../experiments/relation_classifier.09_08_10:23:25/3462.pt\n"
     ]
    },
    {
     "data": {
      "application/vnd.jupyter.widget-view+json": {
       "model_id": "1afc68af42bf486a922e3d74c06cb207",
       "version_major": 2,
       "version_minor": 0
      },
      "text/plain": [
       "HBox(children=(IntProgress(value=0, max=2), HTML(value='')))"
      ]
     },
     "metadata": {},
     "output_type": "display_data"
    },
    {
     "name": "stdout",
     "output_type": "stream",
     "text": [
      "\n",
      "[2020-09-08 11:22:41,664][MainProcess][__main__][INFO] NLLLoss: 5.620\n",
      "[2020-09-08 11:22:41,730][MainProcess][lib.metrics.accuracy][INFO] Accuracy: 0.0 [0 of 8192]\n",
      "––––––––––––––––––––––––––––––––––––––––––––––––––––––––––––––––––––––––––––––––––––––––––––––––––––\n",
      "[2020-09-08 11:22:41,738][MainProcess][__main__][INFO] Epoch: 1\n",
      "[2020-09-08 11:22:41,739][MainProcess][__main__][INFO] Training...\n"
     ]
    },
    {
     "data": {
      "application/vnd.jupyter.widget-view+json": {
       "model_id": "290cf160de934e6798f42f2d3f9b2e80",
       "version_major": 2,
       "version_minor": 0
      },
      "text/plain": [
       "HBox(children=(IntProgress(value=0, max=2371), HTML(value='')))"
      ]
     },
     "metadata": {},
     "output_type": "display_data"
    },
    {
     "name": "stdout",
     "output_type": "stream",
     "text": [
      "\n",
      "[2020-09-08 11:22:54,876][MainProcess][lib.checkpoint][INFO] Saving checkpoint: ../../experiments/relation_classifier.09_08_10:23:25/3476.pt\n"
     ]
    },
    {
     "data": {
      "application/vnd.jupyter.widget-view+json": {
       "model_id": "e8bdf2e4bec44df1ae4fd2a5c6f068f6",
       "version_major": 2,
       "version_minor": 0
      },
      "text/plain": [
       "HBox(children=(IntProgress(value=0, max=2), HTML(value='')))"
      ]
     },
     "metadata": {},
     "output_type": "display_data"
    },
    {
     "name": "stdout",
     "output_type": "stream",
     "text": [
      "\n",
      "[2020-09-08 11:22:56,153][MainProcess][__main__][INFO] NLLLoss: 5.620\n",
      "[2020-09-08 11:22:56,220][MainProcess][lib.metrics.accuracy][INFO] Accuracy: 0.0 [0 of 8192]\n"
     ]
    },
    {
     "name": "stderr",
     "output_type": "stream",
     "text": [
      "\r",
      " 15%|█▍        | 147.77777777777808/1000.0 [50:22<3:31:49, 14.91s/it, min_score=-0, models_evaluated=55]"
     ]
    },
    {
     "name": "stdout",
     "output_type": "stream",
     "text": [
      "––––––––––––––––––––––––––––––––––––––––––––––––––––––––––––––––––––––––––––––––––––––––––––––––––––\n",
      "====================================================================================================\n",
      "[2020-09-08 11:22:56,265][MainProcess][lib.configurable][INFO] Checking configuration...\n",
      "[2020-09-08 11:22:56,267][MainProcess][lib.configurable][INFO] Configuration checked.\n",
      "[2020-09-08 11:22:56,267][MainProcess][lib.checkpoint][INFO] Loading checkpoints from ../../experiments/relation_classifier.09_08_10:23:25/1019.pt onto device 0\n",
      "[2020-09-08 11:22:56,327][MainProcess][__main__][INFO] Epochs: 2\n",
      "[2020-09-08 11:22:56,328][MainProcess][__main__][INFO] Train Dataset Size: 75900\n",
      "[2020-09-08 11:22:56,329][MainProcess][__main__][INFO] Dev Dataset Size: 10845\n",
      "[2020-09-08 11:22:56,329][MainProcess][__main__][INFO] Train Batch Size: 32\n",
      "[2020-09-08 11:22:56,330][MainProcess][__main__][INFO] Train Max Batch Size: 1024\n",
      "[2020-09-08 11:22:56,331][MainProcess][__main__][INFO] Total Parameters: 1230887\n",
      "[2020-09-08 11:22:56,332][MainProcess][__main__][INFO] Model:\n",
      "SeqToLabel(\n",
      "  (encoder): SeqEncoder(\n",
      "    (embedding): Embedding(6899, 300, padding_idx=0)\n",
      "    (rnn): GRU(300, 176, dropout=0.6437909558352486, bidirectional=True)\n",
      "    (rnn_dropout): LockedDropout(p=0.014749805802747231)\n",
      "    (embedding_dropout): Dropout(p=0.7230437996062097)\n",
      "  )\n",
      "  (out): Sequential(\n",
      "    (0): Linear(in_features=352, out_features=352, bias=True)\n",
      "    (1): BatchNorm1d(352, eps=1e-05, momentum=0.1, affine=True, track_running_stats=True)\n",
      "    (2): ReLU()\n",
      "    (3): Dropout(p=0.3951951526753465)\n",
      "    (4): Linear(in_features=352, out_features=1703, bias=True)\n",
      "  )\n",
      ")\n",
      "[2020-09-08 11:22:56,333][MainProcess][__main__][INFO] Epoch: 0\n",
      "[2020-09-08 11:22:56,333][MainProcess][__main__][INFO] Training...\n"
     ]
    },
    {
     "data": {
      "application/vnd.jupyter.widget-view+json": {
       "model_id": "187095a5d8ce4a5b9d1d98fb2260993b",
       "version_major": 2,
       "version_minor": 0
      },
      "text/plain": [
       "HBox(children=(IntProgress(value=0, max=2371), HTML(value='')))"
      ]
     },
     "metadata": {},
     "output_type": "display_data"
    },
    {
     "name": "stdout",
     "output_type": "stream",
     "text": [
      "\n",
      "[2020-09-08 11:23:12,215][MainProcess][lib.checkpoint][INFO] Saving checkpoint: ../../experiments/relation_classifier.09_08_10:23:25/3493.pt\n"
     ]
    },
    {
     "data": {
      "application/vnd.jupyter.widget-view+json": {
       "model_id": "036e109e7f054fde9992eaa680e658fb",
       "version_major": 2,
       "version_minor": 0
      },
      "text/plain": [
       "HBox(children=(IntProgress(value=0, max=2), HTML(value='')))"
      ]
     },
     "metadata": {},
     "output_type": "display_data"
    },
    {
     "name": "stdout",
     "output_type": "stream",
     "text": [
      "\n",
      "[2020-09-08 11:23:13,148][MainProcess][__main__][INFO] NLLLoss: 5.620\n",
      "[2020-09-08 11:23:13,214][MainProcess][lib.metrics.accuracy][INFO] Accuracy: 0.0 [0 of 8192]\n",
      "––––––––––––––––––––––––––––––––––––––––––––––––––––––––––––––––––––––––––––––––––––––––––––––––––––\n",
      "[2020-09-08 11:23:13,222][MainProcess][__main__][INFO] Epoch: 1\n",
      "[2020-09-08 11:23:13,223][MainProcess][__main__][INFO] Training...\n"
     ]
    },
    {
     "data": {
      "application/vnd.jupyter.widget-view+json": {
       "model_id": "c1c93b8a6ae34389a1d12b252ddba24a",
       "version_major": 2,
       "version_minor": 0
      },
      "text/plain": [
       "HBox(children=(IntProgress(value=0, max=2371), HTML(value='')))"
      ]
     },
     "metadata": {},
     "output_type": "display_data"
    },
    {
     "name": "stdout",
     "output_type": "stream",
     "text": [
      "\n",
      "[2020-09-08 11:23:30,855][MainProcess][lib.checkpoint][INFO] Saving checkpoint: ../../experiments/relation_classifier.09_08_10:23:25/3512.pt\n"
     ]
    },
    {
     "data": {
      "application/vnd.jupyter.widget-view+json": {
       "model_id": "a054f742ecbc4bbc8322811540d5cdf9",
       "version_major": 2,
       "version_minor": 0
      },
      "text/plain": [
       "HBox(children=(IntProgress(value=0, max=2), HTML(value='')))"
      ]
     },
     "metadata": {},
     "output_type": "display_data"
    },
    {
     "name": "stdout",
     "output_type": "stream",
     "text": [
      "\n",
      "[2020-09-08 11:23:31,891][MainProcess][__main__][INFO] NLLLoss: 5.620\n",
      "[2020-09-08 11:23:31,958][MainProcess][lib.metrics.accuracy][INFO] Accuracy: 0.0 [0 of 8192]\n"
     ]
    },
    {
     "name": "stderr",
     "output_type": "stream",
     "text": [
      "\r",
      " 15%|█▌        | 150.0000000000003/1000.0 [50:58<3:36:13, 15.26s/it, min_score=-0, models_evaluated=55] "
     ]
    },
    {
     "name": "stdout",
     "output_type": "stream",
     "text": [
      "––––––––––––––––––––––––––––––––––––––––––––––––––––––––––––––––––––––––––––––––––––––––––––––––––––\n",
      "====================================================================================================\n",
      "[2020-09-08 11:23:31,996][MainProcess][lib.configurable][INFO] Checking configuration...\n",
      "[2020-09-08 11:23:31,998][MainProcess][lib.configurable][INFO] Configuration checked.\n",
      "[2020-09-08 11:23:31,999][MainProcess][lib.checkpoint][INFO] Loading checkpoints from ../../experiments/relation_classifier.09_08_10:23:25/1038.pt onto device 0\n",
      "[2020-09-08 11:23:32,072][MainProcess][__main__][INFO] Epochs: 2\n",
      "[2020-09-08 11:23:32,073][MainProcess][__main__][INFO] Train Dataset Size: 75900\n",
      "[2020-09-08 11:23:32,074][MainProcess][__main__][INFO] Dev Dataset Size: 10845\n",
      "[2020-09-08 11:23:32,075][MainProcess][__main__][INFO] Train Batch Size: 32\n",
      "[2020-09-08 11:23:32,075][MainProcess][__main__][INFO] Train Max Batch Size: 1024\n",
      "[2020-09-08 11:23:32,076][MainProcess][__main__][INFO] Total Parameters: 1166503\n",
      "[2020-09-08 11:23:32,077][MainProcess][__main__][INFO] Model:\n",
      "SeqToLabel(\n",
      "  (encoder): SeqEncoder(\n",
      "    (embedding): Embedding(6899, 300, padding_idx=0)\n",
      "    (rnn): GRU(300, 200, num_layers=3, dropout=0.4691527012824656)\n",
      "    (rnn_dropout): LockedDropout(p=0.04103003730115078)\n",
      "    (embedding_dropout): Dropout(p=0.5454681694315159)\n",
      "  )\n",
      "  (out): Sequential(\n",
      "    (0): Linear(in_features=200, out_features=200, bias=True)\n",
      "    (1): BatchNorm1d(200, eps=1e-05, momentum=0.1, affine=True, track_running_stats=True)\n",
      "    (2): ReLU()\n",
      "    (3): Dropout(p=0.3282719799161263)\n",
      "    (4): Linear(in_features=200, out_features=1703, bias=True)\n",
      "  )\n",
      ")\n",
      "[2020-09-08 11:23:32,078][MainProcess][__main__][INFO] Epoch: 0\n",
      "[2020-09-08 11:23:32,079][MainProcess][__main__][INFO] Training...\n"
     ]
    },
    {
     "data": {
      "application/vnd.jupyter.widget-view+json": {
       "model_id": "5dab85acfdf8480eaab838e35e53b866",
       "version_major": 2,
       "version_minor": 0
      },
      "text/plain": [
       "HBox(children=(IntProgress(value=0, max=2371), HTML(value='')))"
      ]
     },
     "metadata": {},
     "output_type": "display_data"
    },
    {
     "name": "stdout",
     "output_type": "stream",
     "text": [
      "\n",
      "[2020-09-08 11:23:51,207][MainProcess][lib.checkpoint][INFO] Saving checkpoint: ../../experiments/relation_classifier.09_08_10:23:25/3532.pt\n"
     ]
    },
    {
     "data": {
      "application/vnd.jupyter.widget-view+json": {
       "model_id": "d7e20c382fe247309bfe24267b44f33a",
       "version_major": 2,
       "version_minor": 0
      },
      "text/plain": [
       "HBox(children=(IntProgress(value=0, max=2), HTML(value='')))"
      ]
     },
     "metadata": {},
     "output_type": "display_data"
    },
    {
     "name": "stdout",
     "output_type": "stream",
     "text": [
      "\n",
      "[2020-09-08 11:23:52,064][MainProcess][__main__][INFO] NLLLoss: 5.620\n",
      "[2020-09-08 11:23:52,131][MainProcess][lib.metrics.accuracy][INFO] Accuracy: 0.0 [0 of 8192]\n",
      "––––––––––––––––––––––––––––––––––––––––––––––––––––––––––––––––––––––––––––––––––––––––––––––––––––\n",
      "[2020-09-08 11:23:52,139][MainProcess][__main__][INFO] Epoch: 1\n",
      "[2020-09-08 11:23:52,140][MainProcess][__main__][INFO] Training...\n"
     ]
    },
    {
     "data": {
      "application/vnd.jupyter.widget-view+json": {
       "model_id": "7395cc610e324e058b97562a1d5ff808",
       "version_major": 2,
       "version_minor": 0
      },
      "text/plain": [
       "HBox(children=(IntProgress(value=0, max=2371), HTML(value='')))"
      ]
     },
     "metadata": {},
     "output_type": "display_data"
    },
    {
     "name": "stdout",
     "output_type": "stream",
     "text": [
      "\n",
      "[2020-09-08 11:24:11,194][MainProcess][lib.checkpoint][INFO] Saving checkpoint: ../../experiments/relation_classifier.09_08_10:23:25/3552.pt\n"
     ]
    },
    {
     "data": {
      "application/vnd.jupyter.widget-view+json": {
       "model_id": "8b53813ebec044938dcdb9a5f1a7c0c2",
       "version_major": 2,
       "version_minor": 0
      },
      "text/plain": [
       "HBox(children=(IntProgress(value=0, max=2), HTML(value='')))"
      ]
     },
     "metadata": {},
     "output_type": "display_data"
    },
    {
     "name": "stdout",
     "output_type": "stream",
     "text": [
      "\n",
      "[2020-09-08 11:24:12,056][MainProcess][__main__][INFO] NLLLoss: 5.620\n",
      "[2020-09-08 11:24:12,122][MainProcess][lib.metrics.accuracy][INFO] Accuracy: 0.0 [0 of 8192]\n"
     ]
    },
    {
     "name": "stderr",
     "output_type": "stream",
     "text": [
      "\r",
      " 15%|█▌        | 152.22222222222254/1000.0 [51:38<3:47:34, 16.11s/it, min_score=-0, models_evaluated=55]"
     ]
    },
    {
     "name": "stdout",
     "output_type": "stream",
     "text": [
      "––––––––––––––––––––––––––––––––––––––––––––––––––––––––––––––––––––––––––––––––––––––––––––––––––––\n",
      "====================================================================================================\n",
      "[2020-09-08 11:24:12,159][MainProcess][lib.configurable][INFO] Checking configuration...\n",
      "[2020-09-08 11:24:12,160][MainProcess][lib.configurable][INFO] Configuration checked.\n",
      "[2020-09-08 11:24:12,161][MainProcess][lib.checkpoint][INFO] Loading checkpoints from ../../experiments/relation_classifier.09_08_10:23:25/1063.pt onto device 0\n",
      "[2020-09-08 11:24:12,234][MainProcess][__main__][INFO] Epochs: 2\n",
      "[2020-09-08 11:24:12,235][MainProcess][__main__][INFO] Train Dataset Size: 75900\n",
      "[2020-09-08 11:24:12,236][MainProcess][__main__][INFO] Dev Dataset Size: 10845\n",
      "[2020-09-08 11:24:12,237][MainProcess][__main__][INFO] Train Batch Size: 32\n",
      "[2020-09-08 11:24:12,237][MainProcess][__main__][INFO] Train Max Batch Size: 1024\n",
      "[2020-09-08 11:24:12,238][MainProcess][__main__][INFO] Total Parameters: 5175083\n",
      "[2020-09-08 11:24:12,239][MainProcess][__main__][INFO] Model:\n",
      "SeqToLabel(\n",
      "  (encoder): SeqEncoder(\n",
      "    (embedding): Embedding(6899, 300, padding_idx=0)\n",
      "    (rnn): GRU(300, 366, num_layers=3, dropout=0.34688905299043016)\n",
      "    (rnn_dropout): LockedDropout(p=0.6367742478924269)\n",
      "    (embedding_dropout): Dropout(p=0.10427514882308214)\n",
      "  )\n",
      "  (out): Sequential(\n",
      "    (0): Linear(in_features=366, out_features=366, bias=True)\n",
      "    (1): BatchNorm1d(366, eps=1e-05, momentum=0.1, affine=True, track_running_stats=True)\n",
      "    (2): ReLU()\n",
      "    (3): Dropout(p=0.4076686496057491)\n",
      "    (4): Linear(in_features=366, out_features=1703, bias=True)\n",
      "  )\n",
      ")\n",
      "[2020-09-08 11:24:12,240][MainProcess][__main__][INFO] Epoch: 0\n",
      "[2020-09-08 11:24:12,241][MainProcess][__main__][INFO] Training...\n"
     ]
    },
    {
     "data": {
      "application/vnd.jupyter.widget-view+json": {
       "model_id": "7a38c649655d4b24b83b123d44d63694",
       "version_major": 2,
       "version_minor": 0
      },
      "text/plain": [
       "HBox(children=(IntProgress(value=0, max=2371), HTML(value='')))"
      ]
     },
     "metadata": {},
     "output_type": "display_data"
    },
    {
     "name": "stdout",
     "output_type": "stream",
     "text": [
      "\n",
      "[2020-09-08 11:24:35,169][MainProcess][lib.checkpoint][INFO] Saving checkpoint: ../../experiments/relation_classifier.09_08_10:23:25/3576.pt\n"
     ]
    },
    {
     "data": {
      "application/vnd.jupyter.widget-view+json": {
       "model_id": "102f210a3a0542f285b9bbe84eafcf9d",
       "version_major": 2,
       "version_minor": 0
      },
      "text/plain": [
       "HBox(children=(IntProgress(value=0, max=2), HTML(value='')))"
      ]
     },
     "metadata": {},
     "output_type": "display_data"
    },
    {
     "name": "stdout",
     "output_type": "stream",
     "text": [
      "\n",
      "[2020-09-08 11:24:36,700][MainProcess][__main__][INFO] NLLLoss: 5.620\n",
      "[2020-09-08 11:24:36,768][MainProcess][lib.metrics.accuracy][INFO] Accuracy: 0.0 [0 of 8192]\n",
      "––––––––––––––––––––––––––––––––––––––––––––––––––––––––––––––––––––––––––––––––––––––––––––––––––––\n",
      "[2020-09-08 11:24:36,776][MainProcess][__main__][INFO] Epoch: 1\n",
      "[2020-09-08 11:24:36,777][MainProcess][__main__][INFO] Training...\n"
     ]
    },
    {
     "data": {
      "application/vnd.jupyter.widget-view+json": {
       "model_id": "87a2233c17a34b54b4f66a8c5fa794f0",
       "version_major": 2,
       "version_minor": 0
      },
      "text/plain": [
       "HBox(children=(IntProgress(value=0, max=2371), HTML(value='')))"
      ]
     },
     "metadata": {},
     "output_type": "display_data"
    },
    {
     "name": "stdout",
     "output_type": "stream",
     "text": [
      "\n",
      "[2020-09-08 11:25:00,030][MainProcess][lib.checkpoint][INFO] Saving checkpoint: ../../experiments/relation_classifier.09_08_10:23:25/3601.pt\n"
     ]
    },
    {
     "data": {
      "application/vnd.jupyter.widget-view+json": {
       "model_id": "a8495373c69d4780b1a8f4f9e95680a3",
       "version_major": 2,
       "version_minor": 0
      },
      "text/plain": [
       "HBox(children=(IntProgress(value=0, max=2), HTML(value='')))"
      ]
     },
     "metadata": {},
     "output_type": "display_data"
    },
    {
     "name": "stdout",
     "output_type": "stream",
     "text": [
      "\n",
      "[2020-09-08 11:25:02,127][MainProcess][__main__][INFO] NLLLoss: 5.620\n",
      "[2020-09-08 11:25:02,225][MainProcess][lib.metrics.accuracy][INFO] Accuracy: 0.0 [0 of 8192]\n"
     ]
    },
    {
     "name": "stderr",
     "output_type": "stream",
     "text": [
      " 15%|█▌        | 154.44444444444477/1000.0 [52:28<4:14:13, 18.04s/it, min_score=-0, models_evaluated=74]"
     ]
    },
    {
     "name": "stdout",
     "output_type": "stream",
     "text": [
      "––––––––––––––––––––––––––––––––––––––––––––––––––––––––––––––––––––––––––––––––––––––––––––––––––––\n",
      "====================================================================================================\n",
      "[2020-09-08 11:25:02,276][MainProcess][lib.configurable][INFO] Checking configuration...\n",
      "[2020-09-08 11:25:02,278][MainProcess][lib.configurable][INFO] Configuration checked.\n",
      "[2020-09-08 11:25:02,278][MainProcess][lib.checkpoint][INFO] Loading checkpoints from ../../experiments/relation_classifier.09_08_10:23:25/2482.pt onto device 0\n",
      "[2020-09-08 11:25:02,361][MainProcess][__main__][INFO] Epochs: 7\n",
      "[2020-09-08 11:25:02,362][MainProcess][__main__][INFO] Train Dataset Size: 75900\n",
      "[2020-09-08 11:25:02,363][MainProcess][__main__][INFO] Dev Dataset Size: 10845\n",
      "[2020-09-08 11:25:02,364][MainProcess][__main__][INFO] Train Batch Size: 32\n",
      "[2020-09-08 11:25:02,365][MainProcess][__main__][INFO] Train Max Batch Size: 1024\n",
      "[2020-09-08 11:25:02,366][MainProcess][__main__][INFO] Total Parameters: 2828243\n",
      "[2020-09-08 11:25:02,367][MainProcess][__main__][INFO] Model:\n",
      "SeqToLabel(\n",
      "  (encoder): SeqEncoder(\n",
      "    (embedding): Embedding(6899, 300, padding_idx=0)\n",
      "    (rnn): LSTM(300, 85, num_layers=2, dropout=0.055735979776073, bidirectional=True)\n",
      "    (rnn_dropout): LockedDropout(p=0.5962496209017711)\n",
      "    (embedding_dropout): Dropout(p=0.6666982230753765)\n",
      "  )\n",
      "  (out): Sequential(\n",
      "    (0): Linear(in_features=170, out_features=170, bias=True)\n",
      "    (1): BatchNorm1d(170, eps=1e-05, momentum=0.1, affine=True, track_running_stats=True)\n",
      "    (2): ReLU()\n",
      "    (3): Dropout(p=0.41230325152559233)\n",
      "    (4): Linear(in_features=170, out_features=1703, bias=True)\n",
      "  )\n",
      ")\n",
      "[2020-09-08 11:25:02,368][MainProcess][__main__][INFO] Epoch: 0\n",
      "[2020-09-08 11:25:02,369][MainProcess][__main__][INFO] Training...\n"
     ]
    },
    {
     "data": {
      "application/vnd.jupyter.widget-view+json": {
       "model_id": "aa703e95c9564153bc9d26505f577356",
       "version_major": 2,
       "version_minor": 0
      },
      "text/plain": [
       "HBox(children=(IntProgress(value=0, max=2371), HTML(value='')))"
      ]
     },
     "metadata": {},
     "output_type": "display_data"
    },
    {
     "name": "stdout",
     "output_type": "stream",
     "text": [
      "\n",
      "[2020-09-08 11:25:26,506][MainProcess][lib.checkpoint][INFO] Saving checkpoint: ../../experiments/relation_classifier.09_08_10:23:25/3628.pt\n"
     ]
    },
    {
     "data": {
      "application/vnd.jupyter.widget-view+json": {
       "model_id": "8b3bcb00316f45e180b81cc5efa36ab5",
       "version_major": 2,
       "version_minor": 0
      },
      "text/plain": [
       "HBox(children=(IntProgress(value=0, max=2), HTML(value='')))"
      ]
     },
     "metadata": {},
     "output_type": "display_data"
    },
    {
     "name": "stdout",
     "output_type": "stream",
     "text": [
      "\n",
      "[2020-09-08 11:25:27,611][MainProcess][__main__][INFO] NLLLoss: 5.620\n",
      "[2020-09-08 11:25:27,680][MainProcess][lib.metrics.accuracy][INFO] Accuracy: 0.0 [0 of 8192]\n",
      "––––––––––––––––––––––––––––––––––––––––––––––––––––––––––––––––––––––––––––––––––––––––––––––––––––\n",
      "[2020-09-08 11:25:27,688][MainProcess][__main__][INFO] Epoch: 1\n",
      "[2020-09-08 11:25:27,689][MainProcess][__main__][INFO] Training...\n"
     ]
    },
    {
     "data": {
      "application/vnd.jupyter.widget-view+json": {
       "model_id": "5f59108b764b4983a98390410393de89",
       "version_major": 2,
       "version_minor": 0
      },
      "text/plain": [
       "HBox(children=(IntProgress(value=0, max=2371), HTML(value='')))"
      ]
     },
     "metadata": {},
     "output_type": "display_data"
    },
    {
     "name": "stdout",
     "output_type": "stream",
     "text": [
      "\n",
      "[2020-09-08 11:25:51,205][MainProcess][lib.checkpoint][INFO] Saving checkpoint: ../../experiments/relation_classifier.09_08_10:23:25/3652.pt\n"
     ]
    },
    {
     "data": {
      "application/vnd.jupyter.widget-view+json": {
       "model_id": "67c9a0bab52d4f9c97ad5b12b9218ce7",
       "version_major": 2,
       "version_minor": 0
      },
      "text/plain": [
       "HBox(children=(IntProgress(value=0, max=2), HTML(value='')))"
      ]
     },
     "metadata": {},
     "output_type": "display_data"
    },
    {
     "name": "stdout",
     "output_type": "stream",
     "text": [
      "\n",
      "[2020-09-08 11:25:52,224][MainProcess][__main__][INFO] NLLLoss: 5.620\n",
      "[2020-09-08 11:25:52,295][MainProcess][lib.metrics.accuracy][INFO] Accuracy: 0.0 [0 of 8192]\n",
      "––––––––––––––––––––––––––––––––––––––––––––––––––––––––––––––––––––––––––––––––––––––––––––––––––––\n",
      "[2020-09-08 11:25:52,303][MainProcess][__main__][INFO] Epoch: 2\n",
      "[2020-09-08 11:25:52,304][MainProcess][__main__][INFO] Training...\n"
     ]
    },
    {
     "data": {
      "application/vnd.jupyter.widget-view+json": {
       "model_id": "af89a011551b4fee8f787be6f371e92f",
       "version_major": 2,
       "version_minor": 0
      },
      "text/plain": [
       "HBox(children=(IntProgress(value=0, max=2371), HTML(value='')))"
      ]
     },
     "metadata": {},
     "output_type": "display_data"
    },
    {
     "name": "stdout",
     "output_type": "stream",
     "text": [
      "\n",
      "[2020-09-08 11:26:19,802][MainProcess][lib.checkpoint][INFO] Saving checkpoint: ../../experiments/relation_classifier.09_08_10:23:25/3681.pt\n"
     ]
    },
    {
     "data": {
      "application/vnd.jupyter.widget-view+json": {
       "model_id": "d9ef69959c114eb18b696ffb7a78760d",
       "version_major": 2,
       "version_minor": 0
      },
      "text/plain": [
       "HBox(children=(IntProgress(value=0, max=2), HTML(value='')))"
      ]
     },
     "metadata": {},
     "output_type": "display_data"
    },
    {
     "name": "stdout",
     "output_type": "stream",
     "text": [
      "\n",
      "[2020-09-08 11:26:20,927][MainProcess][__main__][INFO] NLLLoss: 5.620\n",
      "[2020-09-08 11:26:21,034][MainProcess][lib.metrics.accuracy][INFO] Accuracy: 0.0 [0 of 8192]\n",
      "––––––––––––––––––––––––––––––––––––––––––––––––––––––––––––––––––––––––––––––––––––––––––––––––––––\n",
      "[2020-09-08 11:26:21,042][MainProcess][__main__][INFO] Epoch: 3\n",
      "[2020-09-08 11:26:21,044][MainProcess][__main__][INFO] Training...\n"
     ]
    },
    {
     "data": {
      "application/vnd.jupyter.widget-view+json": {
       "model_id": "6d520c5cd4364ad88dbcfe867810b5b5",
       "version_major": 2,
       "version_minor": 0
      },
      "text/plain": [
       "HBox(children=(IntProgress(value=0, max=2371), HTML(value='')))"
      ]
     },
     "metadata": {},
     "output_type": "display_data"
    },
    {
     "name": "stdout",
     "output_type": "stream",
     "text": [
      "\n",
      "[2020-09-08 11:26:46,537][MainProcess][lib.checkpoint][INFO] Saving checkpoint: ../../experiments/relation_classifier.09_08_10:23:25/3708.pt\n"
     ]
    },
    {
     "data": {
      "application/vnd.jupyter.widget-view+json": {
       "model_id": "5b5d18319738418f8bbaca0873b957de",
       "version_major": 2,
       "version_minor": 0
      },
      "text/plain": [
       "HBox(children=(IntProgress(value=0, max=2), HTML(value='')))"
      ]
     },
     "metadata": {},
     "output_type": "display_data"
    },
    {
     "name": "stdout",
     "output_type": "stream",
     "text": [
      "\n",
      "[2020-09-08 11:26:47,841][MainProcess][__main__][INFO] NLLLoss: 5.620\n",
      "[2020-09-08 11:26:47,914][MainProcess][lib.metrics.accuracy][INFO] Accuracy: 0.0 [0 of 8192]\n",
      "––––––––––––––––––––––––––––––––––––––––––––––––––––––––––––––––––––––––––––––––––––––––––––––––––––\n",
      "[2020-09-08 11:26:47,923][MainProcess][__main__][INFO] Epoch: 4\n",
      "[2020-09-08 11:26:47,924][MainProcess][__main__][INFO] Training...\n"
     ]
    },
    {
     "data": {
      "application/vnd.jupyter.widget-view+json": {
       "model_id": "2b5ffb63f25e4f808b839f1a27fe2860",
       "version_major": 2,
       "version_minor": 0
      },
      "text/plain": [
       "HBox(children=(IntProgress(value=0, max=2371), HTML(value='')))"
      ]
     },
     "metadata": {},
     "output_type": "display_data"
    },
    {
     "name": "stdout",
     "output_type": "stream",
     "text": [
      "\n",
      "[2020-09-08 11:27:12,476][MainProcess][lib.checkpoint][INFO] Saving checkpoint: ../../experiments/relation_classifier.09_08_10:23:25/3734.pt\n"
     ]
    },
    {
     "data": {
      "application/vnd.jupyter.widget-view+json": {
       "model_id": "c8ad470d8ebd46d4bda5191c537718b5",
       "version_major": 2,
       "version_minor": 0
      },
      "text/plain": [
       "HBox(children=(IntProgress(value=0, max=2), HTML(value='')))"
      ]
     },
     "metadata": {},
     "output_type": "display_data"
    },
    {
     "name": "stdout",
     "output_type": "stream",
     "text": [
      "\n",
      "[2020-09-08 11:27:13,517][MainProcess][__main__][INFO] NLLLoss: 5.620\n",
      "[2020-09-08 11:27:13,585][MainProcess][lib.metrics.accuracy][INFO] Accuracy: 0.0 [0 of 8192]\n",
      "––––––––––––––––––––––––––––––––––––––––––––––––––––––––––––––––––––––––––––––––––––––––––––––––––––\n",
      "[2020-09-08 11:27:13,594][MainProcess][__main__][INFO] Epoch: 5\n",
      "[2020-09-08 11:27:13,595][MainProcess][__main__][INFO] Training...\n"
     ]
    },
    {
     "data": {
      "application/vnd.jupyter.widget-view+json": {
       "model_id": "06326c2af174412995892a8d61de00c3",
       "version_major": 2,
       "version_minor": 0
      },
      "text/plain": [
       "HBox(children=(IntProgress(value=0, max=2371), HTML(value='')))"
      ]
     },
     "metadata": {},
     "output_type": "display_data"
    },
    {
     "name": "stdout",
     "output_type": "stream",
     "text": [
      "\n",
      "[2020-09-08 11:27:37,723][MainProcess][lib.checkpoint][INFO] Saving checkpoint: ../../experiments/relation_classifier.09_08_10:23:25/3759.pt\n"
     ]
    },
    {
     "data": {
      "application/vnd.jupyter.widget-view+json": {
       "model_id": "e56d767d414e4d93a0aff6f5ffb862fa",
       "version_major": 2,
       "version_minor": 0
      },
      "text/plain": [
       "HBox(children=(IntProgress(value=0, max=2), HTML(value='')))"
      ]
     },
     "metadata": {},
     "output_type": "display_data"
    },
    {
     "name": "stdout",
     "output_type": "stream",
     "text": [
      "\n",
      "[2020-09-08 11:27:38,818][MainProcess][__main__][INFO] NLLLoss: 5.620\n",
      "[2020-09-08 11:27:38,886][MainProcess][lib.metrics.accuracy][INFO] Accuracy: 0.0 [0 of 8192]\n",
      "––––––––––––––––––––––––––––––––––––––––––––––––––––––––––––––––––––––––––––––––––––––––––––––––––––\n",
      "[2020-09-08 11:27:38,895][MainProcess][__main__][INFO] Epoch: 6\n",
      "[2020-09-08 11:27:38,896][MainProcess][__main__][INFO] Training...\n"
     ]
    },
    {
     "data": {
      "application/vnd.jupyter.widget-view+json": {
       "model_id": "46a9114b688f499b8c026823440a1a93",
       "version_major": 2,
       "version_minor": 0
      },
      "text/plain": [
       "HBox(children=(IntProgress(value=0, max=2371), HTML(value='')))"
      ]
     },
     "metadata": {},
     "output_type": "display_data"
    },
    {
     "name": "stdout",
     "output_type": "stream",
     "text": [
      "\n",
      "[2020-09-08 11:28:03,505][MainProcess][lib.checkpoint][INFO] Saving checkpoint: ../../experiments/relation_classifier.09_08_10:23:25/3785.pt\n"
     ]
    },
    {
     "data": {
      "application/vnd.jupyter.widget-view+json": {
       "model_id": "5427c44117fc4ad8a970c054823050e9",
       "version_major": 2,
       "version_minor": 0
      },
      "text/plain": [
       "HBox(children=(IntProgress(value=0, max=2), HTML(value='')))"
      ]
     },
     "metadata": {},
     "output_type": "display_data"
    },
    {
     "name": "stdout",
     "output_type": "stream",
     "text": [
      "\n",
      "[2020-09-08 11:28:04,893][MainProcess][__main__][INFO] NLLLoss: 5.620\n",
      "[2020-09-08 11:28:04,962][MainProcess][lib.metrics.accuracy][INFO] Accuracy: 0.0 [0 of 8192]\n"
     ]
    },
    {
     "name": "stderr",
     "output_type": "stream",
     "text": [
      "\r",
      " 16%|█▌        | 161.11111111111143/1000.0 [55:31<4:51:31, 20.85s/it, min_score=-0, models_evaluated=74]"
     ]
    },
    {
     "name": "stdout",
     "output_type": "stream",
     "text": [
      "––––––––––––––––––––––––––––––––––––––––––––––––––––––––––––––––––––––––––––––––––––––––––––––––––––\n",
      "====================================================================================================\n",
      "[2020-09-08 11:28:05,011][MainProcess][lib.configurable][INFO] Checking configuration...\n",
      "[2020-09-08 11:28:05,012][MainProcess][lib.configurable][INFO] Configuration checked.\n",
      "[2020-09-08 11:28:05,013][MainProcess][lib.checkpoint][INFO] Loading checkpoints from ../../experiments/relation_classifier.09_08_10:23:25/2518.pt onto device 0\n",
      "[2020-09-08 11:28:05,102][MainProcess][__main__][INFO] Epochs: 7\n",
      "[2020-09-08 11:28:05,103][MainProcess][__main__][INFO] Train Dataset Size: 75900\n",
      "[2020-09-08 11:28:05,104][MainProcess][__main__][INFO] Dev Dataset Size: 10845\n",
      "[2020-09-08 11:28:05,105][MainProcess][__main__][INFO] Train Batch Size: 32\n",
      "[2020-09-08 11:28:05,105][MainProcess][__main__][INFO] Train Max Batch Size: 1024\n",
      "[2020-09-08 11:28:05,106][MainProcess][__main__][INFO] Total Parameters: 1859519\n",
      "[2020-09-08 11:28:05,107][MainProcess][__main__][INFO] Model:\n",
      "SeqToLabel(\n",
      "  (encoder): SeqEncoder(\n",
      "    (embedding): Embedding(6899, 300, padding_idx=0)\n",
      "    (rnn): LSTM(300, 282, num_layers=2, dropout=0.7062204135570732)\n",
      "    (rnn_dropout): LockedDropout(p=0.772249782981812)\n",
      "    (embedding_dropout): Dropout(p=0.6697370349574399)\n",
      "  )\n",
      "  (out): Sequential(\n",
      "    (0): Linear(in_features=282, out_features=282, bias=True)\n",
      "    (1): BatchNorm1d(282, eps=1e-05, momentum=0.1, affine=True, track_running_stats=True)\n",
      "    (2): ReLU()\n",
      "    (3): Dropout(p=0.455411047482091)\n",
      "    (4): Linear(in_features=282, out_features=1703, bias=True)\n",
      "  )\n",
      ")\n",
      "[2020-09-08 11:28:05,108][MainProcess][__main__][INFO] Epoch: 0\n",
      "[2020-09-08 11:28:05,109][MainProcess][__main__][INFO] Training...\n"
     ]
    },
    {
     "data": {
      "application/vnd.jupyter.widget-view+json": {
       "model_id": "4db799b88b19467c8a92c7dc94a179ac",
       "version_major": 2,
       "version_minor": 0
      },
      "text/plain": [
       "HBox(children=(IntProgress(value=0, max=2371), HTML(value='')))"
      ]
     },
     "metadata": {},
     "output_type": "display_data"
    },
    {
     "name": "stdout",
     "output_type": "stream",
     "text": [
      "\n",
      "[2020-09-08 11:28:22,801][MainProcess][lib.checkpoint][INFO] Saving checkpoint: ../../experiments/relation_classifier.09_08_10:23:25/3804.pt\n"
     ]
    },
    {
     "data": {
      "application/vnd.jupyter.widget-view+json": {
       "model_id": "f69bbf56df604d669ccd27c060579d88",
       "version_major": 2,
       "version_minor": 0
      },
      "text/plain": [
       "HBox(children=(IntProgress(value=0, max=2), HTML(value='')))"
      ]
     },
     "metadata": {},
     "output_type": "display_data"
    },
    {
     "name": "stdout",
     "output_type": "stream",
     "text": [
      "\n",
      "[2020-09-08 11:28:23,773][MainProcess][__main__][INFO] NLLLoss: 5.620\n",
      "[2020-09-08 11:28:23,840][MainProcess][lib.metrics.accuracy][INFO] Accuracy: 0.0 [0 of 8192]\n",
      "––––––––––––––––––––––––––––––––––––––––––––––––––––––––––––––––––––––––––––––––––––––––––––––––––––\n",
      "[2020-09-08 11:28:23,848][MainProcess][__main__][INFO] Epoch: 1\n",
      "[2020-09-08 11:28:23,849][MainProcess][__main__][INFO] Training...\n"
     ]
    },
    {
     "data": {
      "application/vnd.jupyter.widget-view+json": {
       "model_id": "1148247bb347406992f8d902c7734380",
       "version_major": 2,
       "version_minor": 0
      },
      "text/plain": [
       "HBox(children=(IntProgress(value=0, max=2371), HTML(value='')))"
      ]
     },
     "metadata": {},
     "output_type": "display_data"
    },
    {
     "name": "stdout",
     "output_type": "stream",
     "text": [
      "\n",
      "[2020-09-08 11:28:41,552][MainProcess][lib.checkpoint][INFO] Saving checkpoint: ../../experiments/relation_classifier.09_08_10:23:25/3823.pt\n"
     ]
    },
    {
     "data": {
      "application/vnd.jupyter.widget-view+json": {
       "model_id": "59065e85d16f44849314515611204d79",
       "version_major": 2,
       "version_minor": 0
      },
      "text/plain": [
       "HBox(children=(IntProgress(value=0, max=2), HTML(value='')))"
      ]
     },
     "metadata": {},
     "output_type": "display_data"
    },
    {
     "name": "stdout",
     "output_type": "stream",
     "text": [
      "\n",
      "[2020-09-08 11:28:42,625][MainProcess][__main__][INFO] NLLLoss: 5.620\n",
      "[2020-09-08 11:28:42,691][MainProcess][lib.metrics.accuracy][INFO] Accuracy: 0.0 [0 of 8192]\n",
      "––––––––––––––––––––––––––––––––––––––––––––––––––––––––––––––––––––––––––––––––––––––––––––––––––––\n",
      "[2020-09-08 11:28:42,699][MainProcess][__main__][INFO] Epoch: 2\n",
      "[2020-09-08 11:28:42,700][MainProcess][__main__][INFO] Training...\n"
     ]
    },
    {
     "data": {
      "application/vnd.jupyter.widget-view+json": {
       "model_id": "4148e1d62c4c41d88ea9b767458b998f",
       "version_major": 2,
       "version_minor": 0
      },
      "text/plain": [
       "HBox(children=(IntProgress(value=0, max=2371), HTML(value='')))"
      ]
     },
     "metadata": {},
     "output_type": "display_data"
    },
    {
     "name": "stdout",
     "output_type": "stream",
     "text": [
      "\n",
      "[2020-09-08 11:29:00,255][MainProcess][lib.checkpoint][INFO] Saving checkpoint: ../../experiments/relation_classifier.09_08_10:23:25/3841.pt\n"
     ]
    },
    {
     "data": {
      "application/vnd.jupyter.widget-view+json": {
       "model_id": "96d6b90424034e3ca2419cc1be519482",
       "version_major": 2,
       "version_minor": 0
      },
      "text/plain": [
       "HBox(children=(IntProgress(value=0, max=2), HTML(value='')))"
      ]
     },
     "metadata": {},
     "output_type": "display_data"
    },
    {
     "name": "stdout",
     "output_type": "stream",
     "text": [
      "\n",
      "[2020-09-08 11:29:02,035][MainProcess][__main__][INFO] NLLLoss: 5.620\n",
      "[2020-09-08 11:29:02,103][MainProcess][lib.metrics.accuracy][INFO] Accuracy: 0.0 [0 of 8192]\n",
      "––––––––––––––––––––––––––––––––––––––––––––––––––––––––––––––––––––––––––––––––––––––––––––––––––––\n",
      "[2020-09-08 11:29:02,111][MainProcess][__main__][INFO] Epoch: 3\n",
      "[2020-09-08 11:29:02,112][MainProcess][__main__][INFO] Training...\n"
     ]
    },
    {
     "data": {
      "application/vnd.jupyter.widget-view+json": {
       "model_id": "3295eff9512149c7b327f7cb02a23158",
       "version_major": 2,
       "version_minor": 0
      },
      "text/plain": [
       "HBox(children=(IntProgress(value=0, max=2371), HTML(value='')))"
      ]
     },
     "metadata": {},
     "output_type": "display_data"
    },
    {
     "name": "stdout",
     "output_type": "stream",
     "text": [
      "\n",
      "[2020-09-08 11:29:19,123][MainProcess][lib.checkpoint][INFO] Saving checkpoint: ../../experiments/relation_classifier.09_08_10:23:25/3860.pt\n"
     ]
    },
    {
     "data": {
      "application/vnd.jupyter.widget-view+json": {
       "model_id": "09c9b19c1dd44b13ab7a039b8e6289b4",
       "version_major": 2,
       "version_minor": 0
      },
      "text/plain": [
       "HBox(children=(IntProgress(value=0, max=2), HTML(value='')))"
      ]
     },
     "metadata": {},
     "output_type": "display_data"
    },
    {
     "name": "stdout",
     "output_type": "stream",
     "text": [
      "\n",
      "[2020-09-08 11:29:20,105][MainProcess][__main__][INFO] NLLLoss: 5.620\n",
      "[2020-09-08 11:29:20,173][MainProcess][lib.metrics.accuracy][INFO] Accuracy: 0.0 [0 of 8192]\n",
      "––––––––––––––––––––––––––––––––––––––––––––––––––––––––––––––––––––––––––––––––––––––––––––––––––––\n",
      "[2020-09-08 11:29:20,181][MainProcess][__main__][INFO] Epoch: 4\n",
      "[2020-09-08 11:29:20,182][MainProcess][__main__][INFO] Training...\n"
     ]
    },
    {
     "data": {
      "application/vnd.jupyter.widget-view+json": {
       "model_id": "78356be5c7854b6dbae34696aa02e7b4",
       "version_major": 2,
       "version_minor": 0
      },
      "text/plain": [
       "HBox(children=(IntProgress(value=0, max=2371), HTML(value='')))"
      ]
     },
     "metadata": {},
     "output_type": "display_data"
    },
    {
     "name": "stdout",
     "output_type": "stream",
     "text": [
      "\n",
      "[2020-09-08 11:29:37,249][MainProcess][lib.checkpoint][INFO] Saving checkpoint: ../../experiments/relation_classifier.09_08_10:23:25/3878.pt\n"
     ]
    },
    {
     "data": {
      "application/vnd.jupyter.widget-view+json": {
       "model_id": "ce57ec61f0034b1f81c4d2d099c6afbe",
       "version_major": 2,
       "version_minor": 0
      },
      "text/plain": [
       "HBox(children=(IntProgress(value=0, max=2), HTML(value='')))"
      ]
     },
     "metadata": {},
     "output_type": "display_data"
    },
    {
     "name": "stdout",
     "output_type": "stream",
     "text": [
      "\n",
      "[2020-09-08 11:29:38,184][MainProcess][__main__][INFO] NLLLoss: 5.620\n",
      "[2020-09-08 11:29:38,251][MainProcess][lib.metrics.accuracy][INFO] Accuracy: 0.0 [0 of 8192]\n",
      "––––––––––––––––––––––––––––––––––––––––––––––––––––––––––––––––––––––––––––––––––––––––––––––––––––\n",
      "[2020-09-08 11:29:38,260][MainProcess][__main__][INFO] Epoch: 5\n",
      "[2020-09-08 11:29:38,261][MainProcess][__main__][INFO] Training...\n"
     ]
    },
    {
     "data": {
      "application/vnd.jupyter.widget-view+json": {
       "model_id": "4294058e6cd4473e8fa71ea5e1c5f323",
       "version_major": 2,
       "version_minor": 0
      },
      "text/plain": [
       "HBox(children=(IntProgress(value=0, max=2371), HTML(value='')))"
      ]
     },
     "metadata": {},
     "output_type": "display_data"
    },
    {
     "name": "stdout",
     "output_type": "stream",
     "text": [
      "\n",
      "[2020-09-08 11:29:55,593][MainProcess][lib.checkpoint][INFO] Saving checkpoint: ../../experiments/relation_classifier.09_08_10:23:25/3897.pt\n"
     ]
    },
    {
     "data": {
      "application/vnd.jupyter.widget-view+json": {
       "model_id": "4e4f097ea9304480ba09b265e8faef8e",
       "version_major": 2,
       "version_minor": 0
      },
      "text/plain": [
       "HBox(children=(IntProgress(value=0, max=2), HTML(value='')))"
      ]
     },
     "metadata": {},
     "output_type": "display_data"
    },
    {
     "name": "stdout",
     "output_type": "stream",
     "text": [
      "\n",
      "[2020-09-08 11:29:56,649][MainProcess][__main__][INFO] NLLLoss: 5.620\n",
      "[2020-09-08 11:29:56,716][MainProcess][lib.metrics.accuracy][INFO] Accuracy: 0.0 [0 of 8192]\n",
      "––––––––––––––––––––––––––––––––––––––––––––––––––––––––––––––––––––––––––––––––––––––––––––––––––––\n",
      "[2020-09-08 11:29:56,724][MainProcess][__main__][INFO] Epoch: 6\n",
      "[2020-09-08 11:29:56,725][MainProcess][__main__][INFO] Training...\n"
     ]
    },
    {
     "data": {
      "application/vnd.jupyter.widget-view+json": {
       "model_id": "e7f015d6029441e79bce0e5ffbbf0e50",
       "version_major": 2,
       "version_minor": 0
      },
      "text/plain": [
       "HBox(children=(IntProgress(value=0, max=2371), HTML(value='')))"
      ]
     },
     "metadata": {},
     "output_type": "display_data"
    },
    {
     "name": "stdout",
     "output_type": "stream",
     "text": [
      "\n",
      "[2020-09-08 11:30:13,823][MainProcess][lib.checkpoint][INFO] Saving checkpoint: ../../experiments/relation_classifier.09_08_10:23:25/3915.pt\n"
     ]
    },
    {
     "data": {
      "application/vnd.jupyter.widget-view+json": {
       "model_id": "f640d3e2dace4959953586837981a748",
       "version_major": 2,
       "version_minor": 0
      },
      "text/plain": [
       "HBox(children=(IntProgress(value=0, max=2), HTML(value='')))"
      ]
     },
     "metadata": {},
     "output_type": "display_data"
    },
    {
     "name": "stdout",
     "output_type": "stream",
     "text": [
      "\n",
      "[2020-09-08 11:30:14,988][MainProcess][__main__][INFO] NLLLoss: 5.620\n",
      "[2020-09-08 11:30:15,056][MainProcess][lib.metrics.accuracy][INFO] Accuracy: 0.0 [0 of 8192]\n"
     ]
    },
    {
     "name": "stderr",
     "output_type": "stream",
     "text": [
      "\r",
      " 17%|█▋        | 167.77777777777808/1000.0 [57:41<4:43:38, 20.45s/it, min_score=-0, models_evaluated=74]"
     ]
    },
    {
     "name": "stdout",
     "output_type": "stream",
     "text": [
      "––––––––––––––––––––––––––––––––––––––––––––––––––––––––––––––––––––––––––––––––––––––––––––––––––––\n",
      "====================================================================================================\n",
      "[2020-09-08 11:30:15,103][MainProcess][lib.configurable][INFO] Checking configuration...\n",
      "[2020-09-08 11:30:15,105][MainProcess][lib.configurable][INFO] Configuration checked.\n",
      "[2020-09-08 11:30:15,106][MainProcess][lib.checkpoint][INFO] Loading checkpoints from ../../experiments/relation_classifier.09_08_10:23:25/2561.pt onto device 0\n",
      "[2020-09-08 11:30:15,197][MainProcess][__main__][INFO] Epochs: 7\n",
      "[2020-09-08 11:30:15,198][MainProcess][__main__][INFO] Train Dataset Size: 75900\n",
      "[2020-09-08 11:30:15,199][MainProcess][__main__][INFO] Dev Dataset Size: 10845\n",
      "[2020-09-08 11:30:15,199][MainProcess][__main__][INFO] Train Batch Size: 32\n",
      "[2020-09-08 11:30:15,200][MainProcess][__main__][INFO] Train Max Batch Size: 1024\n",
      "[2020-09-08 11:30:15,201][MainProcess][__main__][INFO] Total Parameters: 5415359\n",
      "[2020-09-08 11:30:15,202][MainProcess][__main__][INFO] Model:\n",
      "SeqToLabel(\n",
      "  (encoder): SeqEncoder(\n",
      "    (embedding): Embedding(6899, 300, padding_idx=0)\n",
      "    (rnn): GRU(300, 462, num_layers=2, dropout=0.5595093230536727)\n",
      "    (rnn_dropout): LockedDropout(p=0.27173212259680507)\n",
      "    (embedding_dropout): Dropout(p=0.7776369838735779)\n",
      "  )\n",
      "  (out): Sequential(\n",
      "    (0): Linear(in_features=462, out_features=462, bias=True)\n",
      "    (1): BatchNorm1d(462, eps=1e-05, momentum=0.1, affine=True, track_running_stats=True)\n",
      "    (2): ReLU()\n",
      "    (3): Dropout(p=0.6122797691749841)\n",
      "    (4): Linear(in_features=462, out_features=1703, bias=True)\n",
      "  )\n",
      ")\n",
      "[2020-09-08 11:30:15,203][MainProcess][__main__][INFO] Epoch: 0\n",
      "[2020-09-08 11:30:15,204][MainProcess][__main__][INFO] Training...\n"
     ]
    },
    {
     "data": {
      "application/vnd.jupyter.widget-view+json": {
       "model_id": "af9d9db2074a4352a1198b57311ccaf8",
       "version_major": 2,
       "version_minor": 0
      },
      "text/plain": [
       "HBox(children=(IntProgress(value=0, max=2371), HTML(value='')))"
      ]
     },
     "metadata": {},
     "output_type": "display_data"
    },
    {
     "name": "stdout",
     "output_type": "stream",
     "text": [
      "\n",
      "[2020-09-08 11:30:35,383][MainProcess][lib.checkpoint][INFO] Saving checkpoint: ../../experiments/relation_classifier.09_08_10:23:25/3936.pt\n"
     ]
    },
    {
     "data": {
      "application/vnd.jupyter.widget-view+json": {
       "model_id": "b97259bfce264393b3a059ebf46455a8",
       "version_major": 2,
       "version_minor": 0
      },
      "text/plain": [
       "HBox(children=(IntProgress(value=0, max=2), HTML(value='')))"
      ]
     },
     "metadata": {},
     "output_type": "display_data"
    },
    {
     "name": "stdout",
     "output_type": "stream",
     "text": [
      "\n",
      "[2020-09-08 11:30:37,275][MainProcess][__main__][INFO] NLLLoss: 5.620\n",
      "[2020-09-08 11:30:37,342][MainProcess][lib.metrics.accuracy][INFO] Accuracy: 0.0 [0 of 8192]\n",
      "––––––––––––––––––––––––––––––––––––––––––––––––––––––––––––––––––––––––––––––––––––––––––––––––––––\n",
      "[2020-09-08 11:30:37,350][MainProcess][__main__][INFO] Epoch: 1\n",
      "[2020-09-08 11:30:37,351][MainProcess][__main__][INFO] Training...\n"
     ]
    },
    {
     "data": {
      "application/vnd.jupyter.widget-view+json": {
       "model_id": "5b33dbe20c16421690c51f79f095a3e5",
       "version_major": 2,
       "version_minor": 0
      },
      "text/plain": [
       "HBox(children=(IntProgress(value=0, max=2371), HTML(value='')))"
      ]
     },
     "metadata": {},
     "output_type": "display_data"
    },
    {
     "name": "stdout",
     "output_type": "stream",
     "text": [
      "\n",
      "[2020-09-08 11:30:57,253][MainProcess][lib.checkpoint][INFO] Saving checkpoint: ../../experiments/relation_classifier.09_08_10:23:25/3958.pt\n"
     ]
    },
    {
     "data": {
      "application/vnd.jupyter.widget-view+json": {
       "model_id": "6741b6a9bb914dbea5aa28078c7ba477",
       "version_major": 2,
       "version_minor": 0
      },
      "text/plain": [
       "HBox(children=(IntProgress(value=0, max=2), HTML(value='')))"
      ]
     },
     "metadata": {},
     "output_type": "display_data"
    },
    {
     "name": "stdout",
     "output_type": "stream",
     "text": [
      "\n",
      "[2020-09-08 11:30:58,892][MainProcess][__main__][INFO] NLLLoss: 5.620\n",
      "[2020-09-08 11:30:58,960][MainProcess][lib.metrics.accuracy][INFO] Accuracy: 0.0 [0 of 8192]\n",
      "––––––––––––––––––––––––––––––––––––––––––––––––––––––––––––––––––––––––––––––––––––––––––––––––––––\n",
      "[2020-09-08 11:30:58,969][MainProcess][__main__][INFO] Epoch: 2\n",
      "[2020-09-08 11:30:58,970][MainProcess][__main__][INFO] Training...\n"
     ]
    },
    {
     "data": {
      "application/vnd.jupyter.widget-view+json": {
       "model_id": "b2f78aa1a9e44b5c9a97c46f1be4e302",
       "version_major": 2,
       "version_minor": 0
      },
      "text/plain": [
       "HBox(children=(IntProgress(value=0, max=2371), HTML(value='')))"
      ]
     },
     "metadata": {},
     "output_type": "display_data"
    },
    {
     "name": "stdout",
     "output_type": "stream",
     "text": [
      "\n",
      "[2020-09-08 11:31:18,727][MainProcess][lib.checkpoint][INFO] Saving checkpoint: ../../experiments/relation_classifier.09_08_10:23:25/3980.pt\n"
     ]
    },
    {
     "data": {
      "application/vnd.jupyter.widget-view+json": {
       "model_id": "40eae4f41056408195916e84d8a02aec",
       "version_major": 2,
       "version_minor": 0
      },
      "text/plain": [
       "HBox(children=(IntProgress(value=0, max=2), HTML(value='')))"
      ]
     },
     "metadata": {},
     "output_type": "display_data"
    },
    {
     "name": "stdout",
     "output_type": "stream",
     "text": [
      "\n",
      "[2020-09-08 11:31:20,899][MainProcess][__main__][INFO] NLLLoss: 5.620\n",
      "[2020-09-08 11:31:20,968][MainProcess][lib.metrics.accuracy][INFO] Accuracy: 0.0 [0 of 8192]\n",
      "––––––––––––––––––––––––––––––––––––––––––––––––––––––––––––––––––––––––––––––––––––––––––––––––––––\n",
      "[2020-09-08 11:31:20,977][MainProcess][__main__][INFO] Epoch: 3\n",
      "[2020-09-08 11:31:20,978][MainProcess][__main__][INFO] Training...\n"
     ]
    },
    {
     "data": {
      "application/vnd.jupyter.widget-view+json": {
       "model_id": "e9bed5435d6c41c7b882ee8f2a2a34e4",
       "version_major": 2,
       "version_minor": 0
      },
      "text/plain": [
       "HBox(children=(IntProgress(value=0, max=2371), HTML(value='')))"
      ]
     },
     "metadata": {},
     "output_type": "display_data"
    },
    {
     "name": "stdout",
     "output_type": "stream",
     "text": [
      "\n",
      "[2020-09-08 11:31:40,770][MainProcess][lib.checkpoint][INFO] Saving checkpoint: ../../experiments/relation_classifier.09_08_10:23:25/4002.pt\n"
     ]
    },
    {
     "data": {
      "application/vnd.jupyter.widget-view+json": {
       "model_id": "55c0c3902c274d5b909856b1d609000f",
       "version_major": 2,
       "version_minor": 0
      },
      "text/plain": [
       "HBox(children=(IntProgress(value=0, max=2), HTML(value='')))"
      ]
     },
     "metadata": {},
     "output_type": "display_data"
    },
    {
     "name": "stdout",
     "output_type": "stream",
     "text": [
      "\n",
      "[2020-09-08 11:31:42,367][MainProcess][__main__][INFO] NLLLoss: 5.620\n",
      "[2020-09-08 11:31:42,431][MainProcess][lib.metrics.accuracy][INFO] Accuracy: 0.0 [0 of 8192]\n",
      "––––––––––––––––––––––––––––––––––––––––––––––––––––––––––––––––––––––––––––––––––––––––––––––––––––\n",
      "[2020-09-08 11:31:42,439][MainProcess][__main__][INFO] Epoch: 4\n",
      "[2020-09-08 11:31:42,440][MainProcess][__main__][INFO] Training...\n"
     ]
    },
    {
     "data": {
      "application/vnd.jupyter.widget-view+json": {
       "model_id": "d63cf15059d842f482a4393ec9188ad3",
       "version_major": 2,
       "version_minor": 0
      },
      "text/plain": [
       "HBox(children=(IntProgress(value=0, max=2371), HTML(value='')))"
      ]
     },
     "metadata": {},
     "output_type": "display_data"
    },
    {
     "name": "stdout",
     "output_type": "stream",
     "text": [
      "\n",
      "[2020-09-08 11:32:02,110][MainProcess][lib.checkpoint][INFO] Saving checkpoint: ../../experiments/relation_classifier.09_08_10:23:25/4023.pt\n"
     ]
    },
    {
     "data": {
      "application/vnd.jupyter.widget-view+json": {
       "model_id": "3922183e3e444ed8b9da318aa981f532",
       "version_major": 2,
       "version_minor": 0
      },
      "text/plain": [
       "HBox(children=(IntProgress(value=0, max=2), HTML(value='')))"
      ]
     },
     "metadata": {},
     "output_type": "display_data"
    },
    {
     "name": "stdout",
     "output_type": "stream",
     "text": [
      "\n",
      "[2020-09-08 11:32:03,872][MainProcess][__main__][INFO] NLLLoss: 5.620\n",
      "[2020-09-08 11:32:03,940][MainProcess][lib.metrics.accuracy][INFO] Accuracy: 0.0 [0 of 8192]\n",
      "––––––––––––––––––––––––––––––––––––––––––––––––––––––––––––––––––––––––––––––––––––––––––––––––––––\n",
      "[2020-09-08 11:32:03,948][MainProcess][__main__][INFO] Epoch: 5\n",
      "[2020-09-08 11:32:03,949][MainProcess][__main__][INFO] Training...\n"
     ]
    },
    {
     "data": {
      "application/vnd.jupyter.widget-view+json": {
       "model_id": "120e455b86cb435d884e1b3d8a52ccec",
       "version_major": 2,
       "version_minor": 0
      },
      "text/plain": [
       "HBox(children=(IntProgress(value=0, max=2371), HTML(value='')))"
      ]
     },
     "metadata": {},
     "output_type": "display_data"
    },
    {
     "name": "stdout",
     "output_type": "stream",
     "text": [
      "\n",
      "[2020-09-08 11:32:23,598][MainProcess][lib.checkpoint][INFO] Saving checkpoint: ../../experiments/relation_classifier.09_08_10:23:25/4045.pt\n"
     ]
    },
    {
     "data": {
      "application/vnd.jupyter.widget-view+json": {
       "model_id": "4dd37759b63f4b4584f1063ca968109f",
       "version_major": 2,
       "version_minor": 0
      },
      "text/plain": [
       "HBox(children=(IntProgress(value=0, max=2), HTML(value='')))"
      ]
     },
     "metadata": {},
     "output_type": "display_data"
    },
    {
     "name": "stdout",
     "output_type": "stream",
     "text": [
      "\n",
      "[2020-09-08 11:32:25,554][MainProcess][__main__][INFO] NLLLoss: 5.620\n",
      "[2020-09-08 11:32:25,620][MainProcess][lib.metrics.accuracy][INFO] Accuracy: 0.0 [0 of 8192]\n",
      "––––––––––––––––––––––––––––––––––––––––––––––––––––––––––––––––––––––––––––––––––––––––––––––––––––\n",
      "[2020-09-08 11:32:25,628][MainProcess][__main__][INFO] Epoch: 6\n",
      "[2020-09-08 11:32:25,629][MainProcess][__main__][INFO] Training...\n"
     ]
    },
    {
     "data": {
      "application/vnd.jupyter.widget-view+json": {
       "model_id": "0b577bea9b004945be2f5b968787ee0a",
       "version_major": 2,
       "version_minor": 0
      },
      "text/plain": [
       "HBox(children=(IntProgress(value=0, max=2371), HTML(value='')))"
      ]
     },
     "metadata": {},
     "output_type": "display_data"
    },
    {
     "name": "stdout",
     "output_type": "stream",
     "text": [
      "\n",
      "[2020-09-08 11:32:45,315][MainProcess][lib.checkpoint][INFO] Saving checkpoint: ../../experiments/relation_classifier.09_08_10:23:25/4066.pt\n"
     ]
    },
    {
     "data": {
      "application/vnd.jupyter.widget-view+json": {
       "model_id": "2358227c8dce426ca4a01ccea032eed1",
       "version_major": 2,
       "version_minor": 0
      },
      "text/plain": [
       "HBox(children=(IntProgress(value=0, max=2), HTML(value='')))"
      ]
     },
     "metadata": {},
     "output_type": "display_data"
    },
    {
     "name": "stdout",
     "output_type": "stream",
     "text": [
      "\n",
      "[2020-09-08 11:32:47,504][MainProcess][__main__][INFO] NLLLoss: 5.620\n",
      "[2020-09-08 11:32:47,573][MainProcess][lib.metrics.accuracy][INFO] Accuracy: 0.0 [0 of 8192]\n"
     ]
    },
    {
     "name": "stderr",
     "output_type": "stream",
     "text": [
      "\r",
      " 17%|█▋        | 174.44444444444474/1000.0 [1:00:13<4:51:23, 21.18s/it, min_score=-0, models_evaluated=74]"
     ]
    },
    {
     "name": "stdout",
     "output_type": "stream",
     "text": [
      "––––––––––––––––––––––––––––––––––––––––––––––––––––––––––––––––––––––––––––––––––––––––––––––––––––\n",
      "====================================================================================================\n",
      "[2020-09-08 11:32:47,624][MainProcess][lib.configurable][INFO] Checking configuration...\n",
      "[2020-09-08 11:32:47,626][MainProcess][lib.configurable][INFO] Configuration checked.\n",
      "[2020-09-08 11:32:47,627][MainProcess][lib.checkpoint][INFO] Loading checkpoints from ../../experiments/relation_classifier.09_08_10:23:25/2611.pt onto device 0\n",
      "[2020-09-08 11:32:47,698][MainProcess][__main__][INFO] Epochs: 7\n",
      "[2020-09-08 11:32:47,700][MainProcess][__main__][INFO] Train Dataset Size: 75900\n",
      "[2020-09-08 11:32:47,700][MainProcess][__main__][INFO] Dev Dataset Size: 10845\n",
      "[2020-09-08 11:32:47,701][MainProcess][__main__][INFO] Train Batch Size: 32\n",
      "[2020-09-08 11:32:47,702][MainProcess][__main__][INFO] Train Max Batch Size: 1024\n",
      "[2020-09-08 11:32:47,703][MainProcess][__main__][INFO] Total Parameters: 1155583\n",
      "[2020-09-08 11:32:47,704][MainProcess][__main__][INFO] Model:\n",
      "SeqToLabel(\n",
      "  (encoder): SeqEncoder(\n",
      "    (embedding): Embedding(6899, 300, padding_idx=0)\n",
      "    (rnn): GRU(300, 130, num_layers=2, dropout=0.08025112723127079, bidirectional=True)\n",
      "    (rnn_dropout): LockedDropout(p=0.22152418915430605)\n",
      "    (embedding_dropout): Dropout(p=0.2757762415117202)\n",
      "  )\n",
      "  (out): Sequential(\n",
      "    (0): Linear(in_features=260, out_features=260, bias=True)\n",
      "    (1): BatchNorm1d(260, eps=1e-05, momentum=0.1, affine=True, track_running_stats=True)\n",
      "    (2): ReLU()\n",
      "    (3): Dropout(p=0.574921817957778)\n",
      "    (4): Linear(in_features=260, out_features=1703, bias=True)\n",
      "  )\n",
      ")\n",
      "[2020-09-08 11:32:47,705][MainProcess][__main__][INFO] Epoch: 0\n",
      "[2020-09-08 11:32:47,705][MainProcess][__main__][INFO] Training...\n"
     ]
    },
    {
     "data": {
      "application/vnd.jupyter.widget-view+json": {
       "model_id": "a211a21f43754a9ab21fabdd788bc329",
       "version_major": 2,
       "version_minor": 0
      },
      "text/plain": [
       "HBox(children=(IntProgress(value=0, max=2371), HTML(value='')))"
      ]
     },
     "metadata": {},
     "output_type": "display_data"
    },
    {
     "name": "stdout",
     "output_type": "stream",
     "text": [
      "\n",
      "[2020-09-08 11:33:06,220][MainProcess][lib.checkpoint][INFO] Saving checkpoint: ../../experiments/relation_classifier.09_08_10:23:25/4087.pt\n"
     ]
    },
    {
     "data": {
      "application/vnd.jupyter.widget-view+json": {
       "model_id": "6ca818096a984403909e79e02f04058f",
       "version_major": 2,
       "version_minor": 0
      },
      "text/plain": [
       "HBox(children=(IntProgress(value=0, max=2), HTML(value='')))"
      ]
     },
     "metadata": {},
     "output_type": "display_data"
    },
    {
     "name": "stdout",
     "output_type": "stream",
     "text": [
      "\n",
      "[2020-09-08 11:33:07,104][MainProcess][__main__][INFO] NLLLoss: 5.620\n",
      "[2020-09-08 11:33:07,171][MainProcess][lib.metrics.accuracy][INFO] Accuracy: 0.0 [0 of 8192]\n",
      "––––––––––––––––––––––––––––––––––––––––––––––––––––––––––––––––––––––––––––––––––––––––––––––––––––\n",
      "[2020-09-08 11:33:07,179][MainProcess][__main__][INFO] Epoch: 1\n",
      "[2020-09-08 11:33:07,180][MainProcess][__main__][INFO] Training...\n"
     ]
    },
    {
     "data": {
      "application/vnd.jupyter.widget-view+json": {
       "model_id": "9712810b2c4e4fd689b4d859d90b8292",
       "version_major": 2,
       "version_minor": 0
      },
      "text/plain": [
       "HBox(children=(IntProgress(value=0, max=2371), HTML(value='')))"
      ]
     },
     "metadata": {},
     "output_type": "display_data"
    },
    {
     "name": "stdout",
     "output_type": "stream",
     "text": [
      "\n",
      "[2020-09-08 11:33:25,814][MainProcess][lib.checkpoint][INFO] Saving checkpoint: ../../experiments/relation_classifier.09_08_10:23:25/4107.pt\n"
     ]
    },
    {
     "data": {
      "application/vnd.jupyter.widget-view+json": {
       "model_id": "0de40f55f59f49748c62a62d58f03b56",
       "version_major": 2,
       "version_minor": 0
      },
      "text/plain": [
       "HBox(children=(IntProgress(value=0, max=2), HTML(value='')))"
      ]
     },
     "metadata": {},
     "output_type": "display_data"
    },
    {
     "name": "stdout",
     "output_type": "stream",
     "text": [
      "\n",
      "[2020-09-08 11:33:26,812][MainProcess][__main__][INFO] NLLLoss: 5.620\n",
      "[2020-09-08 11:33:26,880][MainProcess][lib.metrics.accuracy][INFO] Accuracy: 0.0 [0 of 8192]\n",
      "––––––––––––––––––––––––––––––––––––––––––––––––––––––––––––––––––––––––––––––––––––––––––––––––––––\n",
      "[2020-09-08 11:33:26,889][MainProcess][__main__][INFO] Epoch: 2\n",
      "[2020-09-08 11:33:26,890][MainProcess][__main__][INFO] Training...\n"
     ]
    },
    {
     "data": {
      "application/vnd.jupyter.widget-view+json": {
       "model_id": "9286fec71f0d40a4b70e457d2b78874f",
       "version_major": 2,
       "version_minor": 0
      },
      "text/plain": [
       "HBox(children=(IntProgress(value=0, max=2371), HTML(value='')))"
      ]
     },
     "metadata": {},
     "output_type": "display_data"
    },
    {
     "name": "stdout",
     "output_type": "stream",
     "text": [
      "\n",
      "[2020-09-08 11:33:45,310][MainProcess][lib.checkpoint][INFO] Saving checkpoint: ../../experiments/relation_classifier.09_08_10:23:25/4126.pt\n"
     ]
    },
    {
     "data": {
      "application/vnd.jupyter.widget-view+json": {
       "model_id": "1002a8d38edf441f812d01770bc5c4bc",
       "version_major": 2,
       "version_minor": 0
      },
      "text/plain": [
       "HBox(children=(IntProgress(value=0, max=2), HTML(value='')))"
      ]
     },
     "metadata": {},
     "output_type": "display_data"
    },
    {
     "name": "stdout",
     "output_type": "stream",
     "text": [
      "\n",
      "[2020-09-08 11:33:46,106][MainProcess][__main__][INFO] NLLLoss: 5.620\n",
      "[2020-09-08 11:33:46,175][MainProcess][lib.metrics.accuracy][INFO] Accuracy: 0.0 [0 of 8192]\n",
      "––––––––––––––––––––––––––––––––––––––––––––––––––––––––––––––––––––––––––––––––––––––––––––––––––––\n",
      "[2020-09-08 11:33:46,184][MainProcess][__main__][INFO] Epoch: 3\n",
      "[2020-09-08 11:33:46,186][MainProcess][__main__][INFO] Training...\n"
     ]
    },
    {
     "data": {
      "application/vnd.jupyter.widget-view+json": {
       "model_id": "a5144a3ae5474a7bbf52a79f4e9a8c7b",
       "version_major": 2,
       "version_minor": 0
      },
      "text/plain": [
       "HBox(children=(IntProgress(value=0, max=2371), HTML(value='')))"
      ]
     },
     "metadata": {},
     "output_type": "display_data"
    },
    {
     "name": "stdout",
     "output_type": "stream",
     "text": [
      "\n",
      "[2020-09-08 11:34:08,962][MainProcess][lib.checkpoint][INFO] Saving checkpoint: ../../experiments/relation_classifier.09_08_10:23:25/4150.pt\n"
     ]
    },
    {
     "data": {
      "application/vnd.jupyter.widget-view+json": {
       "model_id": "c3421d62383a42e7b8d6e496b5cf41c4",
       "version_major": 2,
       "version_minor": 0
      },
      "text/plain": [
       "HBox(children=(IntProgress(value=0, max=2), HTML(value='')))"
      ]
     },
     "metadata": {},
     "output_type": "display_data"
    },
    {
     "name": "stdout",
     "output_type": "stream",
     "text": [
      "\n",
      "[2020-09-08 11:34:09,869][MainProcess][__main__][INFO] NLLLoss: 5.620\n",
      "[2020-09-08 11:34:09,936][MainProcess][lib.metrics.accuracy][INFO] Accuracy: 0.0 [0 of 8192]\n",
      "––––––––––––––––––––––––––––––––––––––––––––––––––––––––––––––––––––––––––––––––––––––––––––––––––––\n",
      "[2020-09-08 11:34:09,944][MainProcess][__main__][INFO] Epoch: 4\n",
      "[2020-09-08 11:34:09,945][MainProcess][__main__][INFO] Training...\n"
     ]
    },
    {
     "data": {
      "application/vnd.jupyter.widget-view+json": {
       "model_id": "3ba3d9a4046e4fb4a634074d609e5fe4",
       "version_major": 2,
       "version_minor": 0
      },
      "text/plain": [
       "HBox(children=(IntProgress(value=0, max=2371), HTML(value='')))"
      ]
     },
     "metadata": {},
     "output_type": "display_data"
    },
    {
     "name": "stdout",
     "output_type": "stream",
     "text": [
      "\n",
      "[2020-09-08 11:34:32,807][MainProcess][lib.checkpoint][INFO] Saving checkpoint: ../../experiments/relation_classifier.09_08_10:23:25/4174.pt\n"
     ]
    },
    {
     "data": {
      "application/vnd.jupyter.widget-view+json": {
       "model_id": "f7cc7c4171e04c15b37b8a2d76b82524",
       "version_major": 2,
       "version_minor": 0
      },
      "text/plain": [
       "HBox(children=(IntProgress(value=0, max=2), HTML(value='')))"
      ]
     },
     "metadata": {},
     "output_type": "display_data"
    },
    {
     "name": "stdout",
     "output_type": "stream",
     "text": [
      "\n",
      "[2020-09-08 11:34:33,699][MainProcess][__main__][INFO] NLLLoss: 5.620\n",
      "[2020-09-08 11:34:33,768][MainProcess][lib.metrics.accuracy][INFO] Accuracy: 0.0 [0 of 8192]\n",
      "––––––––––––––––––––––––––––––––––––––––––––––––––––––––––––––––––––––––––––––––––––––––––––––––––––\n",
      "[2020-09-08 11:34:33,776][MainProcess][__main__][INFO] Epoch: 5\n",
      "[2020-09-08 11:34:33,777][MainProcess][__main__][INFO] Training...\n"
     ]
    },
    {
     "data": {
      "application/vnd.jupyter.widget-view+json": {
       "model_id": "5d4672d73c0746dd97f5ec5a5cd46fcb",
       "version_major": 2,
       "version_minor": 0
      },
      "text/plain": [
       "HBox(children=(IntProgress(value=0, max=2371), HTML(value='')))"
      ]
     },
     "metadata": {},
     "output_type": "display_data"
    },
    {
     "name": "stdout",
     "output_type": "stream",
     "text": [
      "\n",
      "[2020-09-08 11:34:55,800][MainProcess][lib.checkpoint][INFO] Saving checkpoint: ../../experiments/relation_classifier.09_08_10:23:25/4197.pt\n"
     ]
    },
    {
     "data": {
      "application/vnd.jupyter.widget-view+json": {
       "model_id": "74fd66e6ea9f4eaf95e7d1effb12dd09",
       "version_major": 2,
       "version_minor": 0
      },
      "text/plain": [
       "HBox(children=(IntProgress(value=0, max=2), HTML(value='')))"
      ]
     },
     "metadata": {},
     "output_type": "display_data"
    },
    {
     "name": "stdout",
     "output_type": "stream",
     "text": [
      "\n",
      "[2020-09-08 11:34:56,664][MainProcess][__main__][INFO] NLLLoss: 5.620\n",
      "[2020-09-08 11:34:56,733][MainProcess][lib.metrics.accuracy][INFO] Accuracy: 0.0 [0 of 8192]\n",
      "––––––––––––––––––––––––––––––––––––––––––––––––––––––––––––––––––––––––––––––––––––––––––––––––––––\n",
      "[2020-09-08 11:34:56,740][MainProcess][__main__][INFO] Epoch: 6\n",
      "[2020-09-08 11:34:56,741][MainProcess][__main__][INFO] Training...\n"
     ]
    },
    {
     "data": {
      "application/vnd.jupyter.widget-view+json": {
       "model_id": "5c85eb275a644062841561d8afa644bd",
       "version_major": 2,
       "version_minor": 0
      },
      "text/plain": [
       "HBox(children=(IntProgress(value=0, max=2371), HTML(value='')))"
      ]
     },
     "metadata": {},
     "output_type": "display_data"
    },
    {
     "name": "stdout",
     "output_type": "stream",
     "text": [
      "\n",
      "[2020-09-08 11:35:19,021][MainProcess][lib.checkpoint][INFO] Saving checkpoint: ../../experiments/relation_classifier.09_08_10:23:25/4220.pt\n"
     ]
    },
    {
     "data": {
      "application/vnd.jupyter.widget-view+json": {
       "model_id": "decbe7eb3165460a9d1ee9879ed7c67b",
       "version_major": 2,
       "version_minor": 0
      },
      "text/plain": [
       "HBox(children=(IntProgress(value=0, max=2), HTML(value='')))"
      ]
     },
     "metadata": {},
     "output_type": "display_data"
    },
    {
     "name": "stdout",
     "output_type": "stream",
     "text": [
      "\n",
      "[2020-09-08 11:35:19,923][MainProcess][__main__][INFO] NLLLoss: 5.620\n",
      "[2020-09-08 11:35:19,991][MainProcess][lib.metrics.accuracy][INFO] Accuracy: 0.0 [0 of 8192]\n"
     ]
    },
    {
     "name": "stderr",
     "output_type": "stream",
     "text": [
      "\r",
      " 18%|█▊        | 181.1111111111114/1000.0 [1:02:46<4:55:56, 21.68s/it, min_score=-0, models_evaluated=74] "
     ]
    },
    {
     "name": "stdout",
     "output_type": "stream",
     "text": [
      "––––––––––––––––––––––––––––––––––––––––––––––––––––––––––––––––––––––––––––––––––––––––––––––––––––\n",
      "====================================================================================================\n",
      "[2020-09-08 11:35:20,036][MainProcess][lib.configurable][INFO] Checking configuration...\n",
      "[2020-09-08 11:35:20,038][MainProcess][lib.configurable][INFO] Configuration checked.\n",
      "[2020-09-08 11:35:20,038][MainProcess][lib.checkpoint][INFO] Loading checkpoints from ../../experiments/relation_classifier.09_08_10:23:25/2645.pt onto device 0\n",
      "[2020-09-08 11:35:20,123][MainProcess][__main__][INFO] Epochs: 7\n",
      "[2020-09-08 11:35:20,125][MainProcess][__main__][INFO] Train Dataset Size: 75900\n",
      "[2020-09-08 11:35:20,125][MainProcess][__main__][INFO] Dev Dataset Size: 10845\n",
      "[2020-09-08 11:35:20,126][MainProcess][__main__][INFO] Train Batch Size: 32\n",
      "[2020-09-08 11:35:20,127][MainProcess][__main__][INFO] Train Max Batch Size: 1024\n",
      "[2020-09-08 11:35:20,128][MainProcess][__main__][INFO] Total Parameters: 1909287\n",
      "[2020-09-08 11:35:20,129][MainProcess][__main__][INFO] Model:\n",
      "SeqToLabel(\n",
      "  (encoder): SeqEncoder(\n",
      "    (embedding): Embedding(6899, 300, padding_idx=0)\n",
      "    (rnn): LSTM(300, 224, dropout=0.7372527640822159, bidirectional=True)\n",
      "    (rnn_dropout): LockedDropout(p=0.41759254601919227)\n",
      "    (embedding_dropout): Dropout(p=0.5448478725311474)\n",
      "  )\n",
      "  (out): Sequential(\n",
      "    (0): Linear(in_features=448, out_features=448, bias=True)\n",
      "    (1): BatchNorm1d(448, eps=1e-05, momentum=0.1, affine=True, track_running_stats=True)\n",
      "    (2): ReLU()\n",
      "    (3): Dropout(p=0.8036857464746061)\n",
      "    (4): Linear(in_features=448, out_features=1703, bias=True)\n",
      "  )\n",
      ")\n",
      "[2020-09-08 11:35:20,130][MainProcess][__main__][INFO] Epoch: 0\n",
      "[2020-09-08 11:35:20,130][MainProcess][__main__][INFO] Training...\n"
     ]
    },
    {
     "data": {
      "application/vnd.jupyter.widget-view+json": {
       "model_id": "7d8813a1997e47baba023ca8019710b3",
       "version_major": 2,
       "version_minor": 0
      },
      "text/plain": [
       "HBox(children=(IntProgress(value=0, max=2371), HTML(value='')))"
      ]
     },
     "metadata": {},
     "output_type": "display_data"
    },
    {
     "name": "stdout",
     "output_type": "stream",
     "text": [
      "\n",
      "[2020-09-08 11:35:36,458][MainProcess][lib.checkpoint][INFO] Saving checkpoint: ../../experiments/relation_classifier.09_08_10:23:25/4238.pt\n"
     ]
    },
    {
     "data": {
      "application/vnd.jupyter.widget-view+json": {
       "model_id": "314a6491c644421c8ecbc9c638974877",
       "version_major": 2,
       "version_minor": 0
      },
      "text/plain": [
       "HBox(children=(IntProgress(value=0, max=2), HTML(value='')))"
      ]
     },
     "metadata": {},
     "output_type": "display_data"
    },
    {
     "name": "stdout",
     "output_type": "stream",
     "text": [
      "\n",
      "[2020-09-08 11:35:37,306][MainProcess][__main__][INFO] NLLLoss: 5.620\n",
      "[2020-09-08 11:35:37,374][MainProcess][lib.metrics.accuracy][INFO] Accuracy: 0.0 [0 of 8192]\n",
      "––––––––––––––––––––––––––––––––––––––––––––––––––––––––––––––––––––––––––––––––––––––––––––––––––––\n",
      "[2020-09-08 11:35:37,382][MainProcess][__main__][INFO] Epoch: 1\n",
      "[2020-09-08 11:35:37,383][MainProcess][__main__][INFO] Training...\n"
     ]
    },
    {
     "data": {
      "application/vnd.jupyter.widget-view+json": {
       "model_id": "85e424cf16794daa858ba63421e0ae54",
       "version_major": 2,
       "version_minor": 0
      },
      "text/plain": [
       "HBox(children=(IntProgress(value=0, max=2371), HTML(value='')))"
      ]
     },
     "metadata": {},
     "output_type": "display_data"
    },
    {
     "name": "stdout",
     "output_type": "stream",
     "text": [
      "\n",
      "[2020-09-08 11:35:54,755][MainProcess][lib.checkpoint][INFO] Saving checkpoint: ../../experiments/relation_classifier.09_08_10:23:25/4256.pt\n"
     ]
    },
    {
     "data": {
      "application/vnd.jupyter.widget-view+json": {
       "model_id": "646f63f5ee224deeaa85fa46f23bd21e",
       "version_major": 2,
       "version_minor": 0
      },
      "text/plain": [
       "HBox(children=(IntProgress(value=0, max=2), HTML(value='')))"
      ]
     },
     "metadata": {},
     "output_type": "display_data"
    },
    {
     "name": "stdout",
     "output_type": "stream",
     "text": [
      "\n",
      "[2020-09-08 11:35:56,106][MainProcess][__main__][INFO] NLLLoss: 5.620\n",
      "[2020-09-08 11:35:56,180][MainProcess][lib.metrics.accuracy][INFO] Accuracy: 0.0 [0 of 8192]\n",
      "––––––––––––––––––––––––––––––––––––––––––––––––––––––––––––––––––––––––––––––––––––––––––––––––––––\n",
      "[2020-09-08 11:35:56,189][MainProcess][__main__][INFO] Epoch: 2\n",
      "[2020-09-08 11:35:56,190][MainProcess][__main__][INFO] Training...\n"
     ]
    },
    {
     "data": {
      "application/vnd.jupyter.widget-view+json": {
       "model_id": "22ad287e812042858c13b246e865d31f",
       "version_major": 2,
       "version_minor": 0
      },
      "text/plain": [
       "HBox(children=(IntProgress(value=0, max=2371), HTML(value='')))"
      ]
     },
     "metadata": {},
     "output_type": "display_data"
    },
    {
     "name": "stdout",
     "output_type": "stream",
     "text": [
      "\n",
      "[2020-09-08 11:36:12,702][MainProcess][lib.checkpoint][INFO] Saving checkpoint: ../../experiments/relation_classifier.09_08_10:23:25/4274.pt\n"
     ]
    },
    {
     "ename": "OSError",
     "evalue": "[Errno 28] No space left on device",
     "output_type": "error",
     "traceback": [
      "\u001b[0;31m---------------------------------------------------------------------------\u001b[0m",
      "\u001b[0;31mOSError\u001b[0m                                   Traceback (most recent call last)",
      "\u001b[0;32m<ipython-input-17-69bd425ef2c5>\u001b[0m in \u001b[0;36m<module>\u001b[0;34m\u001b[0m\n\u001b[1;32m     49\u001b[0m     \u001b[0;32mreturn\u001b[0m \u001b[0mret\u001b[0m\u001b[0;34m\u001b[0m\u001b[0;34m\u001b[0m\u001b[0m\n\u001b[1;32m     50\u001b[0m \u001b[0;34m\u001b[0m\u001b[0m\n\u001b[0;32m---> 51\u001b[0;31m \u001b[0mscores\u001b[0m\u001b[0;34m,\u001b[0m \u001b[0mhyperparameters\u001b[0m \u001b[0;34m=\u001b[0m \u001b[0mhyperband\u001b[0m\u001b[0;34m(\u001b[0m\u001b[0mobjective\u001b[0m\u001b[0;34m,\u001b[0m \u001b[0mspace\u001b[0m\u001b[0;34m,\u001b[0m \u001b[0mmax_resources_per_model\u001b[0m\u001b[0;34m=\u001b[0m\u001b[0;36m30\u001b[0m\u001b[0;34m,\u001b[0m \u001b[0mtotal_resources\u001b[0m\u001b[0;34m=\u001b[0m\u001b[0;36m1000\u001b[0m\u001b[0;34m)\u001b[0m\u001b[0;34m\u001b[0m\u001b[0;34m\u001b[0m\u001b[0m\n\u001b[0m\u001b[1;32m     52\u001b[0m \u001b[0mprint\u001b[0m\u001b[0;34m(\u001b[0m\u001b[0;34m'Best Accuracy: %.4f'\u001b[0m \u001b[0;34m%\u001b[0m \u001b[0mmin\u001b[0m\u001b[0;34m(\u001b[0m\u001b[0mscores\u001b[0m\u001b[0;34m)\u001b[0m\u001b[0;34m)\u001b[0m\u001b[0;34m\u001b[0m\u001b[0;34m\u001b[0m\u001b[0m\n",
      "\u001b[0;32m/mount/arbeitsdaten46/projekte/dialog-1/kanjurva/Simple-QA-EMNLP-2018/lib/hyperparameter_optimization.py\u001b[0m in \u001b[0;36mhyperband\u001b[0;34m(objective, dimensions, max_resources_per_model, downsample, total_resources, random_seed, progress_bar)\u001b[0m\n\u001b[1;32m    242\u001b[0m             \u001b[0mn_models\u001b[0m\u001b[0;34m=\u001b[0m\u001b[0mn_models\u001b[0m\u001b[0;34m,\u001b[0m\u001b[0;34m\u001b[0m\u001b[0;34m\u001b[0m\u001b[0m\n\u001b[1;32m    243\u001b[0m             \u001b[0mrandom_seed\u001b[0m\u001b[0;34m=\u001b[0m\u001b[0mrandom_seed\u001b[0m\u001b[0;34m,\u001b[0m\u001b[0;34m\u001b[0m\u001b[0;34m\u001b[0m\u001b[0m\n\u001b[0;32m--> 244\u001b[0;31m             progress_bar=progress_bar)\n\u001b[0m\u001b[1;32m    245\u001b[0m         logger.info('Finished hyperband round: %d of %d', n_hyperband_rounds - i - 1,\n\u001b[1;32m    246\u001b[0m                     n_hyperband_rounds - 1)\n",
      "\u001b[0;32m/mount/arbeitsdaten46/projekte/dialog-1/kanjurva/Simple-QA-EMNLP-2018/lib/hyperparameter_optimization.py\u001b[0m in \u001b[0;36msuccessive_halving\u001b[0;34m(objective, dimensions, max_resources_per_model, downsample, initial_resources, n_models, random_seed, progress_bar)\u001b[0m\n\u001b[1;32m    107\u001b[0m         \u001b[0;32mfor\u001b[0m \u001b[0mscore\u001b[0m\u001b[0;34m,\u001b[0m \u001b[0mcheckpoint\u001b[0m\u001b[0;34m,\u001b[0m \u001b[0mparams\u001b[0m \u001b[0;32min\u001b[0m \u001b[0mzip\u001b[0m\u001b[0;34m(\u001b[0m\u001b[0mscores\u001b[0m\u001b[0;34m,\u001b[0m \u001b[0mcheckpoints\u001b[0m\u001b[0;34m,\u001b[0m \u001b[0mhyperparameters\u001b[0m\u001b[0;34m)\u001b[0m\u001b[0;34m:\u001b[0m\u001b[0;34m\u001b[0m\u001b[0;34m\u001b[0m\u001b[0m\n\u001b[1;32m    108\u001b[0m             new_score, new_checkpoint = objective(\n\u001b[0;32m--> 109\u001b[0;31m                 resources=update_n_resources, checkpoint=checkpoint, **params)\n\u001b[0m\u001b[1;32m    110\u001b[0m             \u001b[0mnew_score\u001b[0m \u001b[0;34m=\u001b[0m \u001b[0mmin\u001b[0m\u001b[0;34m(\u001b[0m\u001b[0mscore\u001b[0m\u001b[0;34m,\u001b[0m \u001b[0mnew_score\u001b[0m\u001b[0;34m)\u001b[0m\u001b[0;34m\u001b[0m\u001b[0;34m\u001b[0m\u001b[0m\n\u001b[1;32m    111\u001b[0m             \u001b[0mresults\u001b[0m\u001b[0;34m.\u001b[0m\u001b[0mappend\u001b[0m\u001b[0;34m(\u001b[0m\u001b[0mtuple\u001b[0m\u001b[0;34m(\u001b[0m\u001b[0;34m[\u001b[0m\u001b[0mnew_score\u001b[0m\u001b[0;34m,\u001b[0m \u001b[0mnew_checkpoint\u001b[0m\u001b[0;34m]\u001b[0m\u001b[0;34m)\u001b[0m\u001b[0;34m)\u001b[0m\u001b[0;34m\u001b[0m\u001b[0;34m\u001b[0m\u001b[0m\n",
      "\u001b[0;32m<ipython-input-17-69bd425ef2c5>\u001b[0m in \u001b[0;36mobjective\u001b[0;34m(embedding_dropout, rnn_variational_dropout, rnn_dropout, decode_dropout, rnn_size, rnn_layers, rnn_cell, freeze_embeddings, bidirectional, max_grad_norm, *args, **kwargs)\u001b[0m\n\u001b[1;32m     44\u001b[0m     })\n\u001b[1;32m     45\u001b[0m \u001b[0;34m\u001b[0m\u001b[0m\n\u001b[0;32m---> 46\u001b[0;31m     \u001b[0mret\u001b[0m \u001b[0;34m=\u001b[0m \u001b[0mtrain\u001b[0m\u001b[0;34m(\u001b[0m\u001b[0;34m*\u001b[0m\u001b[0margs\u001b[0m\u001b[0;34m,\u001b[0m \u001b[0;34m**\u001b[0m\u001b[0mkwargs\u001b[0m\u001b[0;34m)\u001b[0m\u001b[0;34m\u001b[0m\u001b[0;34m\u001b[0m\u001b[0m\n\u001b[0m\u001b[1;32m     47\u001b[0m     \u001b[0mprint\u001b[0m\u001b[0;34m(\u001b[0m\u001b[0;34m'='\u001b[0m \u001b[0;34m*\u001b[0m \u001b[0;36m100\u001b[0m\u001b[0;34m)\u001b[0m\u001b[0;34m\u001b[0m\u001b[0;34m\u001b[0m\u001b[0m\n\u001b[1;32m     48\u001b[0m     \u001b[0mtorch\u001b[0m\u001b[0;34m.\u001b[0m\u001b[0mcuda\u001b[0m\u001b[0;34m.\u001b[0m\u001b[0mempty_cache\u001b[0m\u001b[0;34m(\u001b[0m\u001b[0;34m)\u001b[0m\u001b[0;34m\u001b[0m\u001b[0;34m\u001b[0m\u001b[0m\n",
      "\u001b[0;32m<ipython-input-15-51411db82969>\u001b[0m in \u001b[0;36mtrain\u001b[0;34m(resources, checkpoint, **kwargs)\u001b[0m\n\u001b[1;32m     75\u001b[0m                 \u001b[0;34m'max_score'\u001b[0m\u001b[0;34m:\u001b[0m \u001b[0mmax_score\u001b[0m\u001b[0;34m\u001b[0m\u001b[0;34m\u001b[0m\u001b[0m\n\u001b[1;32m     76\u001b[0m             },\n\u001b[0;32m---> 77\u001b[0;31m             device=device)\n\u001b[0m\u001b[1;32m     78\u001b[0m \u001b[0;34m\u001b[0m\u001b[0m\n\u001b[1;32m     79\u001b[0m         \u001b[0;31m# Evaluate\u001b[0m\u001b[0;34m\u001b[0m\u001b[0;34m\u001b[0m\u001b[0;34m\u001b[0m\u001b[0m\n",
      "\u001b[0;32m/mount/arbeitsdaten46/projekte/dialog-1/kanjurva/Simple-QA-EMNLP-2018/lib/checkpoint.py\u001b[0m in \u001b[0;36msave\u001b[0;34m(cls, folder, data, device)\u001b[0m\n\u001b[1;32m     84\u001b[0m         \u001b[0mlogger\u001b[0m\u001b[0;34m.\u001b[0m\u001b[0minfo\u001b[0m\u001b[0;34m(\u001b[0m\u001b[0;34m'Saving checkpoint: %s'\u001b[0m\u001b[0;34m,\u001b[0m \u001b[0mpath\u001b[0m\u001b[0;34m)\u001b[0m\u001b[0;34m\u001b[0m\u001b[0;34m\u001b[0m\u001b[0m\n\u001b[1;32m     85\u001b[0m \u001b[0;34m\u001b[0m\u001b[0m\n\u001b[0;32m---> 86\u001b[0;31m         \u001b[0mtorch\u001b[0m\u001b[0;34m.\u001b[0m\u001b[0msave\u001b[0m\u001b[0;34m(\u001b[0m\u001b[0mdata\u001b[0m\u001b[0;34m,\u001b[0m \u001b[0mpath\u001b[0m\u001b[0;34m,\u001b[0m \u001b[0mpickle_module\u001b[0m\u001b[0;34m=\u001b[0m\u001b[0mdill\u001b[0m\u001b[0;34m)\u001b[0m\u001b[0;34m\u001b[0m\u001b[0;34m\u001b[0m\u001b[0m\n\u001b[0m\u001b[1;32m     87\u001b[0m \u001b[0;34m\u001b[0m\u001b[0m\n\u001b[1;32m     88\u001b[0m         \u001b[0;32mreturn\u001b[0m \u001b[0mpath\u001b[0m\u001b[0;34m\u001b[0m\u001b[0;34m\u001b[0m\u001b[0m\n",
      "\u001b[0;32m/mount/arbeitsdaten46/projekte/dialog-1/kanjurva/Simple-QA-EMNLP-2018/env/lib/python3.6/site-packages/torch/serialization.py\u001b[0m in \u001b[0;36msave\u001b[0;34m(obj, f, pickle_module, pickle_protocol)\u001b[0m\n\u001b[1;32m    159\u001b[0m         \u001b[0;34m>>\u001b[0m\u001b[0;34m>\u001b[0m \u001b[0mtorch\u001b[0m\u001b[0;34m.\u001b[0m\u001b[0msave\u001b[0m\u001b[0;34m(\u001b[0m\u001b[0mx\u001b[0m\u001b[0;34m,\u001b[0m \u001b[0mbuffer\u001b[0m\u001b[0;34m)\u001b[0m\u001b[0;34m\u001b[0m\u001b[0;34m\u001b[0m\u001b[0m\n\u001b[1;32m    160\u001b[0m     \"\"\"\n\u001b[0;32m--> 161\u001b[0;31m     \u001b[0;32mreturn\u001b[0m \u001b[0m_with_file_like\u001b[0m\u001b[0;34m(\u001b[0m\u001b[0mf\u001b[0m\u001b[0;34m,\u001b[0m \u001b[0;34m\"wb\"\u001b[0m\u001b[0;34m,\u001b[0m \u001b[0;32mlambda\u001b[0m \u001b[0mf\u001b[0m\u001b[0;34m:\u001b[0m \u001b[0m_save\u001b[0m\u001b[0;34m(\u001b[0m\u001b[0mobj\u001b[0m\u001b[0;34m,\u001b[0m \u001b[0mf\u001b[0m\u001b[0;34m,\u001b[0m \u001b[0mpickle_module\u001b[0m\u001b[0;34m,\u001b[0m \u001b[0mpickle_protocol\u001b[0m\u001b[0;34m)\u001b[0m\u001b[0;34m)\u001b[0m\u001b[0;34m\u001b[0m\u001b[0;34m\u001b[0m\u001b[0m\n\u001b[0m\u001b[1;32m    162\u001b[0m \u001b[0;34m\u001b[0m\u001b[0m\n\u001b[1;32m    163\u001b[0m \u001b[0;34m\u001b[0m\u001b[0m\n",
      "\u001b[0;32m/mount/arbeitsdaten46/projekte/dialog-1/kanjurva/Simple-QA-EMNLP-2018/env/lib/python3.6/site-packages/torch/serialization.py\u001b[0m in \u001b[0;36m_with_file_like\u001b[0;34m(f, mode, body)\u001b[0m\n\u001b[1;32m    119\u001b[0m     \u001b[0;32mfinally\u001b[0m\u001b[0;34m:\u001b[0m\u001b[0;34m\u001b[0m\u001b[0;34m\u001b[0m\u001b[0m\n\u001b[1;32m    120\u001b[0m         \u001b[0;32mif\u001b[0m \u001b[0mnew_fd\u001b[0m\u001b[0;34m:\u001b[0m\u001b[0;34m\u001b[0m\u001b[0;34m\u001b[0m\u001b[0m\n\u001b[0;32m--> 121\u001b[0;31m             \u001b[0mf\u001b[0m\u001b[0;34m.\u001b[0m\u001b[0mclose\u001b[0m\u001b[0;34m(\u001b[0m\u001b[0;34m)\u001b[0m\u001b[0;34m\u001b[0m\u001b[0;34m\u001b[0m\u001b[0m\n\u001b[0m\u001b[1;32m    122\u001b[0m \u001b[0;34m\u001b[0m\u001b[0m\n\u001b[1;32m    123\u001b[0m \u001b[0;34m\u001b[0m\u001b[0m\n",
      "\u001b[0;31mOSError\u001b[0m: [Errno 28] No space left on device"
     ]
    }
   ],
   "source": [
    "import torch\n",
    "import random\n",
    "\n",
    "from skopt.space import Real, Integer, Categorical\n",
    "\n",
    "from lib.hyperparameter_optimization import hyperband\n",
    "from lib.configurable import add_config\n",
    "from lib.configurable import log_config\n",
    "\n",
    "space  = [Real(0, 0.9, name='embedding_dropout'),\n",
    "          Real(0, 0.9, name='rnn_variational_dropout'),\n",
    "          Real(0, 0.9, name='rnn_dropout'),\n",
    "          Real(0, 0.9, name='decode_dropout'),\n",
    "          Integer(50, 250, name='rnn_size'), # We multiply this hyperparameter by two to allow for bidirectional\n",
    "          Integer(1, 3, name='rnn_layers'),\n",
    "          Categorical(['lstm', 'gru'], name='rnn_cell'),\n",
    "          Categorical([True, False], name='freeze_embeddings'),\n",
    "          Categorical([True, False], name='bidirectional'),\n",
    "          Real(0, 5, name='max_grad_norm')]\n",
    "\n",
    "def objective(embedding_dropout, rnn_variational_dropout, rnn_dropout, decode_dropout,\n",
    "              rnn_size, rnn_layers, rnn_cell, freeze_embeddings, bidirectional, max_grad_norm,\n",
    "              *args, **kwargs):\n",
    "\n",
    "    add_config({\n",
    "        'lib': {\n",
    "            'nn.seq_to_label.SeqToLabel.__init__': {\n",
    "                'bidirectional': bidirectional,\n",
    "                'embedding_size': 300,\n",
    "                'rnn_size': int(rnn_size) * 2,\n",
    "                'freeze_embeddings': freeze_embeddings,\n",
    "                'rnn_cell': rnn_cell,\n",
    "                'decode_dropout': decode_dropout,  # dropout before fully connected layer in RNN\n",
    "                'rnn_layers': int(rnn_layers),\n",
    "                'rnn_variational_dropout': rnn_variational_dropout,\n",
    "                'embedding_dropout': embedding_dropout,\n",
    "                'rnn_dropout': rnn_dropout,\n",
    "            },\n",
    "            'optimizer.Optimizer.__init__.max_grad_norm': max_grad_norm,\n",
    "        },\n",
    "        'lib.optim.adam.Adam.__init__': {\n",
    "            'amsgrad': True\n",
    "        }\n",
    "    })\n",
    "\n",
    "    ret = train(*args, **kwargs)\n",
    "    print('=' * 100)\n",
    "    torch.cuda.empty_cache()\n",
    "    return ret\n",
    "\n",
    "scores, hyperparameters = hyperband(objective, space, max_resources_per_model=30, total_resources=1000)\n",
    "print('Best Accuracy: %.4f' % min(scores))"
   ]
  },
  {
   "cell_type": "code",
   "execution_count": null,
   "metadata": {},
   "outputs": [],
   "source": []
  }
 ],
 "metadata": {
  "kernelspec": {
   "display_name": "Python 3",
   "language": "python",
   "name": "python3"
  },
  "language_info": {
   "codemirror_mode": {
    "name": "ipython",
    "version": 3
   },
   "file_extension": ".py",
   "mimetype": "text/x-python",
   "name": "python",
   "nbconvert_exporter": "python",
   "pygments_lexer": "ipython3",
   "version": "3.6.12"
  }
 },
 "nbformat": 4,
 "nbformat_minor": 2
}
