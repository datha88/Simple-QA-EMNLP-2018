{
 "cells": [
  {
   "cell_type": "markdown",
   "metadata": {},
   "source": [
    "# Subject Recognition Data\n",
    "\n",
    "The goal of this notebook is to create data for subject recognition tagging. For every token in a question, we tag it with a I for inside subject or O for outside subject."
   ]
  },
  {
   "cell_type": "code",
   "execution_count": 1,
   "metadata": {},
   "outputs": [
    {
     "data": {
      "application/vnd.jupyter.widget-view+json": {
       "model_id": "a4b8cc06d0a54ea8ab472ab6a3ec20cd",
       "version_major": 2,
       "version_minor": 0
      },
      "text/plain": [
       "HBox(children=(IntProgress(value=1, bar_style='info', max=1), HTML(value='')))"
      ]
     },
     "metadata": {},
     "output_type": "display_data"
    },
    {
     "name": "stdout",
     "output_type": "stream",
     "text": [
      "\n"
     ]
    }
   ],
   "source": [
    "import sys\n",
    "sys.path.insert(0, '../../')\n",
    "import pandas as pd\n",
    "from tqdm import tqdm_notebook\n",
    "import lib.import_notebook\n",
    "from lib.utils import get_connection \n",
    "\n",
    "tqdm_notebook().pandas()\n",
    "\n",
    "connection = get_connection()\n",
    "cursor = connection.cursor()"
   ]
  },
  {
   "cell_type": "code",
   "execution_count": 2,
   "metadata": {},
   "outputs": [
    {
     "name": "stderr",
     "output_type": "stream",
     "text": [
      "../../lib/simple_qa.py:36: FutureWarning: read_table is deprecated, use read_csv instead, passing sep='\\t'.\n",
      "  filename, header=None, names=['subject', 'relation', 'object', 'question'])\n"
     ]
    },
    {
     "name": "stdout",
     "output_type": "stream",
     "text": [
      "Dev:\n"
     ]
    },
    {
     "data": {
      "text/html": [
       "<div>\n",
       "<style scoped>\n",
       "    .dataframe tbody tr th:only-of-type {\n",
       "        vertical-align: middle;\n",
       "    }\n",
       "\n",
       "    .dataframe tbody tr th {\n",
       "        vertical-align: top;\n",
       "    }\n",
       "\n",
       "    .dataframe thead th {\n",
       "        text-align: right;\n",
       "    }\n",
       "</style>\n",
       "<table border=\"1\" class=\"dataframe\">\n",
       "  <thead>\n",
       "    <tr style=\"text-align: right;\">\n",
       "      <th></th>\n",
       "      <th>subject</th>\n",
       "      <th>relation</th>\n",
       "      <th>object</th>\n",
       "      <th>question</th>\n",
       "    </tr>\n",
       "  </thead>\n",
       "  <tbody>\n",
       "    <tr>\n",
       "      <th>0</th>\n",
       "      <td>0f3xg_</td>\n",
       "      <td>symbols/namesake/named_after</td>\n",
       "      <td>0cqt90</td>\n",
       "      <td>Who was the trump ocean club international hot...</td>\n",
       "    </tr>\n",
       "    <tr>\n",
       "      <th>1</th>\n",
       "      <td>07f3jg</td>\n",
       "      <td>people/person/place_of_birth</td>\n",
       "      <td>0565d</td>\n",
       "      <td>where was sasha vujačić born</td>\n",
       "    </tr>\n",
       "    <tr>\n",
       "      <th>2</th>\n",
       "      <td>031j8nn</td>\n",
       "      <td>music/release/region</td>\n",
       "      <td>07ssc</td>\n",
       "      <td>What is a region that dead combo was released in</td>\n",
       "    </tr>\n",
       "    <tr>\n",
       "      <th>3</th>\n",
       "      <td>0c1cyhd</td>\n",
       "      <td>film/director/film</td>\n",
       "      <td>0wxsz5y</td>\n",
       "      <td>What is a film directed by wiebke von carolsfeld?</td>\n",
       "    </tr>\n",
       "    <tr>\n",
       "      <th>4</th>\n",
       "      <td>0fvhc0g</td>\n",
       "      <td>music/release/region</td>\n",
       "      <td>0345h</td>\n",
       "      <td>what country was music for stock exchange  rel...</td>\n",
       "    </tr>\n",
       "  </tbody>\n",
       "</table>\n",
       "</div>"
      ],
      "text/plain": [
       "   subject                      relation   object  \\\n",
       "0   0f3xg_  symbols/namesake/named_after   0cqt90   \n",
       "1   07f3jg  people/person/place_of_birth    0565d   \n",
       "2  031j8nn          music/release/region    07ssc   \n",
       "3  0c1cyhd            film/director/film  0wxsz5y   \n",
       "4  0fvhc0g          music/release/region    0345h   \n",
       "\n",
       "                                            question  \n",
       "0  Who was the trump ocean club international hot...  \n",
       "1                       where was sasha vujačić born  \n",
       "2   What is a region that dead combo was released in  \n",
       "3  What is a film directed by wiebke von carolsfeld?  \n",
       "4  what country was music for stock exchange  rel...  "
      ]
     },
     "metadata": {},
     "output_type": "display_data"
    },
    {
     "name": "stdout",
     "output_type": "stream",
     "text": [
      "Train:\n"
     ]
    },
    {
     "data": {
      "text/html": [
       "<div>\n",
       "<style scoped>\n",
       "    .dataframe tbody tr th:only-of-type {\n",
       "        vertical-align: middle;\n",
       "    }\n",
       "\n",
       "    .dataframe tbody tr th {\n",
       "        vertical-align: top;\n",
       "    }\n",
       "\n",
       "    .dataframe thead th {\n",
       "        text-align: right;\n",
       "    }\n",
       "</style>\n",
       "<table border=\"1\" class=\"dataframe\">\n",
       "  <thead>\n",
       "    <tr style=\"text-align: right;\">\n",
       "      <th></th>\n",
       "      <th>subject</th>\n",
       "      <th>relation</th>\n",
       "      <th>object</th>\n",
       "      <th>question</th>\n",
       "    </tr>\n",
       "  </thead>\n",
       "  <tbody>\n",
       "    <tr>\n",
       "      <th>0</th>\n",
       "      <td>04whkz5</td>\n",
       "      <td>book/written_work/subjects</td>\n",
       "      <td>01cj3p</td>\n",
       "      <td>what is the book e about</td>\n",
       "    </tr>\n",
       "    <tr>\n",
       "      <th>1</th>\n",
       "      <td>0tp2p24</td>\n",
       "      <td>music/release_track/release</td>\n",
       "      <td>0sjc7c1</td>\n",
       "      <td>to what release does the release track cardiac...</td>\n",
       "    </tr>\n",
       "    <tr>\n",
       "      <th>2</th>\n",
       "      <td>04j0t75</td>\n",
       "      <td>film/film/country</td>\n",
       "      <td>07ssc</td>\n",
       "      <td>what country was the film the debt from</td>\n",
       "    </tr>\n",
       "    <tr>\n",
       "      <th>3</th>\n",
       "      <td>0ftqr</td>\n",
       "      <td>music/producer/tracks_produced</td>\n",
       "      <td>0p600l</td>\n",
       "      <td>what songs have nobuo uematsu produced?</td>\n",
       "    </tr>\n",
       "    <tr>\n",
       "      <th>4</th>\n",
       "      <td>036p007</td>\n",
       "      <td>music/release/producers</td>\n",
       "      <td>0677ng</td>\n",
       "      <td>Who produced eve-olution?</td>\n",
       "    </tr>\n",
       "  </tbody>\n",
       "</table>\n",
       "</div>"
      ],
      "text/plain": [
       "   subject                        relation   object  \\\n",
       "0  04whkz5      book/written_work/subjects   01cj3p   \n",
       "1  0tp2p24     music/release_track/release  0sjc7c1   \n",
       "2  04j0t75               film/film/country    07ssc   \n",
       "3    0ftqr  music/producer/tracks_produced   0p600l   \n",
       "4  036p007         music/release/producers   0677ng   \n",
       "\n",
       "                                            question  \n",
       "0                           what is the book e about  \n",
       "1  to what release does the release track cardiac...  \n",
       "2            what country was the film the debt from  \n",
       "3            what songs have nobuo uematsu produced?  \n",
       "4                          Who produced eve-olution?  "
      ]
     },
     "metadata": {},
     "output_type": "display_data"
    }
   ],
   "source": [
    "from lib.simple_qa import load_simple_qa \n",
    "\n",
    "# Destination Filename\n",
    "DEST_TRAIN = './../../data/subject_recognition/train.txt'\n",
    "DEST_DEV = './../../data/subject_recognition/dev.txt'\n",
    "\n",
    "df_dev, = load_simple_qa(dev=True)\n",
    "print('Dev:')\n",
    "display(df_dev[:5])\n",
    "df_train, = load_simple_qa(train=True)\n",
    "print('Train:')\n",
    "display(df_train[:5])"
   ]
  },
  {
   "cell_type": "markdown",
   "metadata": {},
   "source": [
    "## Step 1 - Link Question to Subject Name"
   ]
  },
  {
   "cell_type": "code",
   "execution_count": 3,
   "metadata": {},
   "outputs": [
    {
     "name": "stdout",
     "output_type": "stream",
     "text": [
      "importing Jupyter notebook from ../../notebooks/Simple QA Numbers/HYPOTHESIS - Question Refers to Multiple Subjects.ipynb\n",
      "importing Jupyter notebook from ../../notebooks/Simple QA Numbers/HYPOTHESIS - Subject Name not in Question.ipynb\n"
     ]
    },
    {
     "data": {
      "application/vnd.jupyter.widget-view+json": {
       "model_id": "ae7177f30cec48d083e4706305ff5e9b",
       "version_major": 2,
       "version_minor": 0
      },
      "text/plain": [
       "HBox(children=(IntProgress(value=0, max=10845), HTML(value='')))"
      ]
     },
     "metadata": {},
     "output_type": "display_data"
    },
    {
     "name": "stdout",
     "output_type": "stream",
     "text": [
      "\n",
      "Dev Linked 10648 examples\n"
     ]
    },
    {
     "data": {
      "text/html": [
       "<div>\n",
       "<style scoped>\n",
       "    .dataframe tbody tr th:only-of-type {\n",
       "        vertical-align: middle;\n",
       "    }\n",
       "\n",
       "    .dataframe tbody tr th {\n",
       "        vertical-align: top;\n",
       "    }\n",
       "\n",
       "    .dataframe thead th {\n",
       "        text-align: right;\n",
       "    }\n",
       "</style>\n",
       "<table border=\"1\" class=\"dataframe\">\n",
       "  <thead>\n",
       "    <tr style=\"text-align: right;\">\n",
       "      <th></th>\n",
       "      <th>subject</th>\n",
       "      <th>relation</th>\n",
       "      <th>object</th>\n",
       "      <th>question</th>\n",
       "      <th>subject_name</th>\n",
       "    </tr>\n",
       "  </thead>\n",
       "  <tbody>\n",
       "    <tr>\n",
       "      <th>0</th>\n",
       "      <td>0f3xg_</td>\n",
       "      <td>symbols/namesake/named_after</td>\n",
       "      <td>0cqt90</td>\n",
       "      <td>Who was the trump ocean club international hot...</td>\n",
       "      <td>trump ocean club international hotel and tower</td>\n",
       "    </tr>\n",
       "    <tr>\n",
       "      <th>1</th>\n",
       "      <td>07f3jg</td>\n",
       "      <td>people/person/place_of_birth</td>\n",
       "      <td>0565d</td>\n",
       "      <td>where was sasha vujačić born</td>\n",
       "      <td>sasha vujacic</td>\n",
       "    </tr>\n",
       "    <tr>\n",
       "      <th>2</th>\n",
       "      <td>031j8nn</td>\n",
       "      <td>music/release/region</td>\n",
       "      <td>07ssc</td>\n",
       "      <td>What is a region that dead combo was released in</td>\n",
       "      <td>dead combo</td>\n",
       "    </tr>\n",
       "    <tr>\n",
       "      <th>3</th>\n",
       "      <td>0c1cyhd</td>\n",
       "      <td>film/director/film</td>\n",
       "      <td>0wxsz5y</td>\n",
       "      <td>What is a film directed by wiebke von carolsfeld?</td>\n",
       "      <td>wiebke von carolsfeld</td>\n",
       "    </tr>\n",
       "    <tr>\n",
       "      <th>4</th>\n",
       "      <td>0fvhc0g</td>\n",
       "      <td>music/release/region</td>\n",
       "      <td>0345h</td>\n",
       "      <td>what country was music for stock exchange  rel...</td>\n",
       "      <td>music for stock exchange</td>\n",
       "    </tr>\n",
       "  </tbody>\n",
       "</table>\n",
       "</div>"
      ],
      "text/plain": [
       "   subject                      relation   object  \\\n",
       "0   0f3xg_  symbols/namesake/named_after   0cqt90   \n",
       "1   07f3jg  people/person/place_of_birth    0565d   \n",
       "2  031j8nn          music/release/region    07ssc   \n",
       "3  0c1cyhd            film/director/film  0wxsz5y   \n",
       "4  0fvhc0g          music/release/region    0345h   \n",
       "\n",
       "                                            question  \\\n",
       "0  Who was the trump ocean club international hot...   \n",
       "1                       where was sasha vujačić born   \n",
       "2   What is a region that dead combo was released in   \n",
       "3  What is a film directed by wiebke von carolsfeld?   \n",
       "4  what country was music for stock exchange  rel...   \n",
       "\n",
       "                                     subject_name  \n",
       "0  trump ocean club international hotel and tower  \n",
       "1                                   sasha vujacic  \n",
       "2                                      dead combo  \n",
       "3                           wiebke von carolsfeld  \n",
       "4                        music for stock exchange  "
      ]
     },
     "metadata": {},
     "output_type": "display_data"
    },
    {
     "data": {
      "application/vnd.jupyter.widget-view+json": {
       "model_id": "8c1ada6d0da34468aecdc3ca83514109",
       "version_major": 2,
       "version_minor": 0
      },
      "text/plain": [
       "HBox(children=(IntProgress(value=0, max=75910), HTML(value='')))"
      ]
     },
     "metadata": {},
     "output_type": "display_data"
    },
    {
     "name": "stdout",
     "output_type": "stream",
     "text": [
      "\n",
      "Train Linked 74520 examples\n"
     ]
    },
    {
     "data": {
      "text/html": [
       "<div>\n",
       "<style scoped>\n",
       "    .dataframe tbody tr th:only-of-type {\n",
       "        vertical-align: middle;\n",
       "    }\n",
       "\n",
       "    .dataframe tbody tr th {\n",
       "        vertical-align: top;\n",
       "    }\n",
       "\n",
       "    .dataframe thead th {\n",
       "        text-align: right;\n",
       "    }\n",
       "</style>\n",
       "<table border=\"1\" class=\"dataframe\">\n",
       "  <thead>\n",
       "    <tr style=\"text-align: right;\">\n",
       "      <th></th>\n",
       "      <th>subject</th>\n",
       "      <th>relation</th>\n",
       "      <th>object</th>\n",
       "      <th>question</th>\n",
       "      <th>subject_name</th>\n",
       "    </tr>\n",
       "  </thead>\n",
       "  <tbody>\n",
       "    <tr>\n",
       "      <th>0</th>\n",
       "      <td>04whkz5</td>\n",
       "      <td>book/written_work/subjects</td>\n",
       "      <td>01cj3p</td>\n",
       "      <td>what is the book e about</td>\n",
       "      <td>e</td>\n",
       "    </tr>\n",
       "    <tr>\n",
       "      <th>1</th>\n",
       "      <td>0tp2p24</td>\n",
       "      <td>music/release_track/release</td>\n",
       "      <td>0sjc7c1</td>\n",
       "      <td>to what release does the release track cardiac...</td>\n",
       "      <td>cardiac arrest</td>\n",
       "    </tr>\n",
       "    <tr>\n",
       "      <th>2</th>\n",
       "      <td>04j0t75</td>\n",
       "      <td>film/film/country</td>\n",
       "      <td>07ssc</td>\n",
       "      <td>what country was the film the debt from</td>\n",
       "      <td>the debt</td>\n",
       "    </tr>\n",
       "    <tr>\n",
       "      <th>3</th>\n",
       "      <td>0ftqr</td>\n",
       "      <td>music/producer/tracks_produced</td>\n",
       "      <td>0p600l</td>\n",
       "      <td>what songs have nobuo uematsu produced?</td>\n",
       "      <td>nobuo uematsu</td>\n",
       "    </tr>\n",
       "    <tr>\n",
       "      <th>4</th>\n",
       "      <td>036p007</td>\n",
       "      <td>music/release/producers</td>\n",
       "      <td>0677ng</td>\n",
       "      <td>Who produced eve-olution?</td>\n",
       "      <td>eve-olution</td>\n",
       "    </tr>\n",
       "  </tbody>\n",
       "</table>\n",
       "</div>"
      ],
      "text/plain": [
       "   subject                        relation   object  \\\n",
       "0  04whkz5      book/written_work/subjects   01cj3p   \n",
       "1  0tp2p24     music/release_track/release  0sjc7c1   \n",
       "2  04j0t75               film/film/country    07ssc   \n",
       "3    0ftqr  music/producer/tracks_produced   0p600l   \n",
       "4  036p007         music/release/producers   0677ng   \n",
       "\n",
       "                                            question    subject_name  \n",
       "0                           what is the book e about               e  \n",
       "1  to what release does the release track cardiac...  cardiac arrest  \n",
       "2            what country was the film the debt from        the debt  \n",
       "3            what songs have nobuo uematsu produced?   nobuo uematsu  \n",
       "4                          Who produced eve-olution?     eve-olution  "
      ]
     },
     "metadata": {},
     "output_type": "display_data"
    }
   ],
   "source": [
    "import importlib\n",
    "from functools import partial\n",
    "edit_distance_link_alias = importlib.import_module(\n",
    "                \"notebooks.Simple QA Numbers.HYPOTHESIS - Question Refers to Multiple Subjects\").edit_distance_link_alias\n",
    "normalize = importlib.import_module(\n",
    "                \"notebooks.Simple QA Numbers.HYPOTHESIS - Subject Name not in Question\").normalize\n",
    "\n",
    "# Create a column with the subject_name linked per example\n",
    "df_dev['subject_name'] = df_dev.progress_apply(partial(edit_distance_link_alias, cursor, normalize), axis=1)\n",
    "print('Dev Linked', sum(df_dev.subject_name.notnull()), 'examples')\n",
    "display(df_dev[:5])\n",
    "df_train['subject_name'] = df_train.progress_apply(partial(edit_distance_link_alias, cursor, normalize), axis=1)\n",
    "print('Train Linked', sum(df_train.subject_name.notnull()), 'examples')\n",
    "display(df_train[:5])"
   ]
  },
  {
   "cell_type": "markdown",
   "metadata": {},
   "source": [
    "## Step 2 - Determine the Span of the Subject Name\n",
    "\n",
    "During the first step, we determined the subject name that best fits the question. We now need to determine the span of the subject name inside the question"
   ]
  },
  {
   "cell_type": "code",
   "execution_count": 4,
   "metadata": {},
   "outputs": [
    {
     "data": {
      "text/plain": [
       "'ACDC'"
      ]
     },
     "execution_count": 4,
     "metadata": {},
     "output_type": "execute_result"
    }
   ],
   "source": [
    "import importlib\n",
    "import re\n",
    "\n",
    "# Otherwise, importing this notebook the strip_accents wont be picked up as a definition\n",
    "def strip_accents(*args, **kwargs):\n",
    "    return importlib.import_module(\n",
    "                \"notebooks.Simple QA Numbers.HYPOTHESIS - Subject Name not in Question\"\n",
    "    ).strip_accents(*args, **kwargs)\n",
    "\n",
    "def preprocess(s):\n",
    "    \"\"\"\n",
    "    Preprocess before tagging with IO.\n",
    "    \"\"\"\n",
    "    # Represent characters in ASCII\n",
    "    s = strip_accents(s)\n",
    "    s = s.strip()\n",
    "    s = s.lower()\n",
    "    # Normalize quatations\n",
    "    s = s.replace('“', '\"').replace('”', '\"').replace('’', \"'\").replace('‘', \"'\")\n",
    "    # Substitue multiple spaces with one\n",
    "    s = re.sub('\\s+', ' ', s)\n",
    "    return s\n",
    "\n",
    "def normalize_abbreviations(s):\n",
    "    # Only remove punctuation from words with punctuation\n",
    "    if sum([c.isalnum() for c in s]) > 0 and s.count('.') > 0:\n",
    "        s = s.replace('.', '')\n",
    "    return s\n",
    "\n",
    "normalize_abbreviations('A.C.D.C.')"
   ]
  },
  {
   "cell_type": "code",
   "execution_count": 5,
   "metadata": {},
   "outputs": [],
   "source": [
    "import spacy\n",
    "\n",
    "NLP = spacy.load('en_core_web_sm')\n",
    "    \n",
    "def spacy_tokenize(s):\n",
    "    doc = NLP(s, disable=['parser', 'tagger', 'ner'])\n",
    "    return [w.text for w in doc]"
   ]
  },
  {
   "cell_type": "code",
   "execution_count": 6,
   "metadata": {},
   "outputs": [
    {
     "data": {
      "application/vnd.jupyter.widget-view+json": {
       "model_id": "f4324c290ea840d2a40643cbee2e587e",
       "version_major": 2,
       "version_minor": 0
      },
      "text/plain": [
       "HBox(children=(IntProgress(value=0, max=10845), HTML(value='')))"
      ]
     },
     "metadata": {},
     "output_type": "display_data"
    },
    {
     "name": "stdout",
     "output_type": "stream",
     "text": [
      "\n"
     ]
    },
    {
     "ename": "AttributeError",
     "evalue": "'LazyConfigValue' object has no attribute 'lower'",
     "output_type": "error",
     "traceback": [
      "\u001b[0;31m---------------------------------------------------------------------------\u001b[0m",
      "\u001b[0;31mAttributeError\u001b[0m                            Traceback (most recent call last)",
      "\u001b[0;32m/mount/arbeitsdaten46/projekte/dialog-1/kanjurva/Simple-QA-EMNLP-2018/env/lib/python3.6/site-packages/IPython/core/formatters.py\u001b[0m in \u001b[0;36m__call__\u001b[0;34m(self, obj)\u001b[0m\n\u001b[1;32m    343\u001b[0m             \u001b[0mmethod\u001b[0m \u001b[0;34m=\u001b[0m \u001b[0mget_real_method\u001b[0m\u001b[0;34m(\u001b[0m\u001b[0mobj\u001b[0m\u001b[0;34m,\u001b[0m \u001b[0mself\u001b[0m\u001b[0;34m.\u001b[0m\u001b[0mprint_method\u001b[0m\u001b[0;34m)\u001b[0m\u001b[0;34m\u001b[0m\u001b[0;34m\u001b[0m\u001b[0m\n\u001b[1;32m    344\u001b[0m             \u001b[0;32mif\u001b[0m \u001b[0mmethod\u001b[0m \u001b[0;32mis\u001b[0m \u001b[0;32mnot\u001b[0m \u001b[0;32mNone\u001b[0m\u001b[0;34m:\u001b[0m\u001b[0;34m\u001b[0m\u001b[0;34m\u001b[0m\u001b[0m\n\u001b[0;32m--> 345\u001b[0;31m                 \u001b[0;32mreturn\u001b[0m \u001b[0mmethod\u001b[0m\u001b[0;34m(\u001b[0m\u001b[0;34m)\u001b[0m\u001b[0;34m\u001b[0m\u001b[0;34m\u001b[0m\u001b[0m\n\u001b[0m\u001b[1;32m    346\u001b[0m             \u001b[0;32mreturn\u001b[0m \u001b[0;32mNone\u001b[0m\u001b[0;34m\u001b[0m\u001b[0;34m\u001b[0m\u001b[0m\n\u001b[1;32m    347\u001b[0m         \u001b[0;32melse\u001b[0m\u001b[0;34m:\u001b[0m\u001b[0;34m\u001b[0m\u001b[0;34m\u001b[0m\u001b[0m\n",
      "\u001b[0;32m/mount/arbeitsdaten46/projekte/dialog-1/kanjurva/Simple-QA-EMNLP-2018/env/lib/python3.6/site-packages/pandas/core/frame.py\u001b[0m in \u001b[0;36m_repr_html_\u001b[0;34m(self)\u001b[0m\n\u001b[1;32m    647\u001b[0m         \u001b[0;31m# display HTML, so this check can be removed when support for\u001b[0m\u001b[0;34m\u001b[0m\u001b[0;34m\u001b[0m\u001b[0;34m\u001b[0m\u001b[0m\n\u001b[1;32m    648\u001b[0m         \u001b[0;31m# IPython 2.x is no longer needed.\u001b[0m\u001b[0;34m\u001b[0m\u001b[0;34m\u001b[0m\u001b[0;34m\u001b[0m\u001b[0m\n\u001b[0;32m--> 649\u001b[0;31m         \u001b[0;32mif\u001b[0m \u001b[0mconsole\u001b[0m\u001b[0;34m.\u001b[0m\u001b[0min_qtconsole\u001b[0m\u001b[0;34m(\u001b[0m\u001b[0;34m)\u001b[0m\u001b[0;34m:\u001b[0m\u001b[0;34m\u001b[0m\u001b[0;34m\u001b[0m\u001b[0m\n\u001b[0m\u001b[1;32m    650\u001b[0m             \u001b[0;31m# 'HTML output is disabled in QtConsole'\u001b[0m\u001b[0;34m\u001b[0m\u001b[0;34m\u001b[0m\u001b[0;34m\u001b[0m\u001b[0m\n\u001b[1;32m    651\u001b[0m             \u001b[0;32mreturn\u001b[0m \u001b[0;32mNone\u001b[0m\u001b[0;34m\u001b[0m\u001b[0;34m\u001b[0m\u001b[0m\n",
      "\u001b[0;32m/mount/arbeitsdaten46/projekte/dialog-1/kanjurva/Simple-QA-EMNLP-2018/env/lib/python3.6/site-packages/pandas/io/formats/console.py\u001b[0m in \u001b[0;36min_qtconsole\u001b[0;34m()\u001b[0m\n\u001b[1;32m    121\u001b[0m             \u001b[0mip\u001b[0m\u001b[0;34m.\u001b[0m\u001b[0mconfig\u001b[0m\u001b[0;34m.\u001b[0m\u001b[0mget\u001b[0m\u001b[0;34m(\u001b[0m\u001b[0;34m'KernelApp'\u001b[0m\u001b[0;34m,\u001b[0m \u001b[0;34m{\u001b[0m\u001b[0;34m}\u001b[0m\u001b[0;34m)\u001b[0m\u001b[0;34m.\u001b[0m\u001b[0mget\u001b[0m\u001b[0;34m(\u001b[0m\u001b[0;34m'parent_appname'\u001b[0m\u001b[0;34m,\u001b[0m \u001b[0;34m\"\"\u001b[0m\u001b[0;34m)\u001b[0m \u001b[0;32mor\u001b[0m\u001b[0;34m\u001b[0m\u001b[0;34m\u001b[0m\u001b[0m\n\u001b[1;32m    122\u001b[0m             ip.config.get('IPKernelApp', {}).get('parent_appname', \"\"))\n\u001b[0;32m--> 123\u001b[0;31m         \u001b[0;32mif\u001b[0m \u001b[0;34m'qtconsole'\u001b[0m \u001b[0;32min\u001b[0m \u001b[0mfront_end\u001b[0m\u001b[0;34m.\u001b[0m\u001b[0mlower\u001b[0m\u001b[0;34m(\u001b[0m\u001b[0;34m)\u001b[0m\u001b[0;34m:\u001b[0m\u001b[0;34m\u001b[0m\u001b[0;34m\u001b[0m\u001b[0m\n\u001b[0m\u001b[1;32m    124\u001b[0m             \u001b[0;32mreturn\u001b[0m \u001b[0;32mTrue\u001b[0m\u001b[0;34m\u001b[0m\u001b[0;34m\u001b[0m\u001b[0m\n\u001b[1;32m    125\u001b[0m     \u001b[0;32mexcept\u001b[0m \u001b[0mNameError\u001b[0m\u001b[0;34m:\u001b[0m\u001b[0;34m\u001b[0m\u001b[0;34m\u001b[0m\u001b[0m\n",
      "\u001b[0;31mAttributeError\u001b[0m: 'LazyConfigValue' object has no attribute 'lower'"
     ]
    },
    {
     "data": {
      "text/plain": [
       "   end_index   object                                           question  \\\n",
       "0       10.0   0cqt90  Who was the trump ocean club international hot...   \n",
       "1        4.0    0565d                       where was sasha vujačić born   \n",
       "2        7.0    07ssc   What is a region that dead combo was released in   \n",
       "3        9.0  0wxsz5y  What is a film directed by wiebke von carolsfeld?   \n",
       "4        7.0    0345h  what country was music for stock exchange  rel...   \n",
       "\n",
       "                                     question_tokens  \\\n",
       "0  [who, was, the, trump, ocean, club, internatio...   \n",
       "1                 [where, was, sasha, vujacic, born]   \n",
       "2  [what, is, a, region, that, dead, combo, was, ...   \n",
       "3  [what, is, a, film, directed, by, wiebke, von,...   \n",
       "4  [what, country, was, music, for, stock, exchan...   \n",
       "\n",
       "                       relation  start_index  subject  \\\n",
       "0  symbols/namesake/named_after          3.0   0f3xg_   \n",
       "1  people/person/place_of_birth          2.0   07f3jg   \n",
       "2          music/release/region          5.0  031j8nn   \n",
       "3            film/director/film          6.0  0c1cyhd   \n",
       "4          music/release/region          3.0  0fvhc0g   \n",
       "\n",
       "                                     subject_name  \\\n",
       "0  trump ocean club international hotel and tower   \n",
       "1                                   sasha vujacic   \n",
       "2                                      dead combo   \n",
       "3                           wiebke von carolsfeld   \n",
       "4                        music for stock exchange   \n",
       "\n",
       "                                 subject_name_tokens  \n",
       "0  (trump, ocean, club, international, hotel, and...  \n",
       "1                                   (sasha, vujacic)  \n",
       "2                                      (dead, combo)  \n",
       "3                          (wiebke, von, carolsfeld)  \n",
       "4                      (music, for, stock, exchange)  "
      ]
     },
     "metadata": {},
     "output_type": "display_data"
    }
   ],
   "source": [
    "import math\n",
    "from numpy import nan\n",
    "from lib.edit_distance import edit_token_distance\n",
    "\n",
    "def find_subject_name_span(row):\n",
    "    if not isinstance(row['subject_name'], str):\n",
    "        return row\n",
    "    \n",
    "    # Get the start character and end character that best match\n",
    "    question_tokens = spacy_tokenize(preprocess(row['question']))\n",
    "    question_tokens_no_abbreviations = tuple([normalize_abbreviations(t) for t in question_tokens])\n",
    "    best_token_distance = math.inf\n",
    "    best_start_index = None\n",
    "    best_end_index = None\n",
    "    best_subject_name_tokens = None\n",
    "\n",
    "    # NOTE: Try multiple tokenization techiniques to line up the subject name with question\n",
    "    for tokenize in [lambda s: s.split(), spacy_tokenize]:\n",
    "        subject_name_tokens = tokenize(preprocess(row['subject_name']))\n",
    "        subject_name_tokens = tuple([normalize_abbreviations(t) for t in subject_name_tokens])\n",
    "        token_distance, start_index, end_index = edit_token_distance(subject_name_tokens,\n",
    "                                                                     question_tokens_no_abbreviations)\n",
    "            \n",
    "        assert start_index <= end_index\n",
    "        if token_distance < best_token_distance:\n",
    "            best_token_distance = token_distance\n",
    "            best_start_index = start_index\n",
    "            best_end_index = end_index\n",
    "            best_subject_name_tokens = subject_name_tokens\n",
    "            \n",
    "    # Edge case\n",
    "    # Include the closing parentheses if one was opened\n",
    "    if best_end_index < len(question_tokens) and question_tokens[best_end_index] == ')':\n",
    "        best_end_index += 1\n",
    "        \n",
    "    row['start_index'] = best_start_index\n",
    "    row['end_index'] = best_end_index\n",
    "    row['subject_name_tokens'] = best_subject_name_tokens\n",
    "    row['question_tokens'] = question_tokens\n",
    "    return row\n",
    "    \n",
    "\n",
    "df_dev = df_dev.progress_apply(find_subject_name_span, axis=1)\n",
    "display(df_dev[:5])"
   ]
  },
  {
   "cell_type": "markdown",
   "metadata": {},
   "source": [
    "## Analysis - Worst Spans\n",
    "\n",
    "Empirical analysis of the worst question tokens to subject name tokens link. "
   ]
  },
  {
   "cell_type": "code",
   "execution_count": 7,
   "metadata": {},
   "outputs": [
    {
     "data": {
      "application/vnd.jupyter.widget-view+json": {
       "model_id": "bece5e03c0094d989e813d058eaf9097",
       "version_major": 2,
       "version_minor": 0
      },
      "text/plain": [
       "HBox(children=(IntProgress(value=0, max=10845), HTML(value='')))"
      ]
     },
     "metadata": {},
     "output_type": "display_data"
    },
    {
     "name": "stdout",
     "output_type": "stream",
     "text": [
      "\n",
      "Exact Match: 0.977179 [10405 of 10648]\n",
      "Not Matched:\n",
      "\n",
      "| Index | Normalized Edit Distance | Original Subject Name | Predicted Subject Name | Question Tokens |\n",
      "| --- | --- | --- | --- | --- |\n",
      "| 0 | 0.8333333333333334 | mecca | meccas | ['what', 'is', 'the', 'name', 'for', 'meccas', 'canonical', 'version'] |\n",
      "| 1 | 0.9310344827586207 | assassin's creed: revelations | assassins creed : revelations | ['what', 'kind', 'of', 'game', 'is', 'assassins', 'creed', ':', 'revelations'] |\n",
      "| 2 | 0.9285714285714286 | lim, hyung joo | lim hyung joo | ['what', 'kind', 'of', 'music', 'does', 'lim', 'hyung', 'joo', 'do'] |\n",
      "| 3 | 0.9444444444444444 | this pud's for you | this puds for you | ['what', 'is', 'the', 'series', 'where', 'the', 'episode', 'this', 'puds', 'for', 'you', 'comes', 'from'] |\n",
      "| 4 | 0.6666666666666666 | t-town | town | ['what', 'newspaper', 'circulates', 'in', 'the', 'town', 'of', 'kearny'] |\n",
      "| 5 | 0.9259259259259259 | who want's to live forever? | who wants to live forever | ['who', 'is', 'the', 'producer', 'of', 'who', 'wants', 'to', 'live', 'forever'] |\n",
      "| 6 | 0.9166666666666666 | paranoia: 1.0 | paranoia 10 | ['which', 'language', 'is', 'paranoia', '1.0', 'filmed', 'in', '?'] |\n",
      "| 7 | 0.8571428571428571 | ¡three amigos! | three amigos | ['who', 'did', 'the', 'music', 'for', 'three', 'amigos'] |\n",
      "| 8 | 0.9545454545454546 | mexican-american war | mexican – american war | ['who', 'was', 'involved', 'in', 'mexican', '–', 'american', 'war'] |\n",
      "| 9 | 0.9722222222222222 | the best of daniel o'donnell on film | the best of daniel odonnell on film | ['what', 'kind', 'of', 'music', 'is', 'the', 'film', 'the', 'best', 'of', 'daniel', 'odonnell', 'on', 'film', 'about', '?'] |\n",
      "| 10 | 0.9333333333333333 | philip pullman | phillip pullman | ['what', 'works', 'written', 'by', 'phillip', 'pullman', '?'] |\n",
      "| 11 | 0.975 | harry potter and the philosopher's stone | harry potter and the philosophers stone | ['what', 'genre', 'is', 'harry', 'potter', 'and', 'the', 'philosophers', 'stone'] |\n",
      "| 12 | 0.95 | .977 the '80s channel | 977 the 80s channel | ['which', 'soul', 'artist', 'is', 'featured', 'on', 'the', '.977', 'the', '80s', 'channel'] |\n",
      "| 13 | 0.9166666666666666 | kim hee-chul | kim heechul | ['which', 'city', 'is', 'kim', 'heechul', 'from'] |\n",
      "| 14 | 0.9772727272727273 | intégrale, volume 2: the guitar don't lie | integrale , volume 2 : the guitar do nt lie | ['what', \"'s\", 'a', 'song', 'released', 'on', 'integrale', ',', 'volume', '2', ':', 'the', 'guitar', 'do', 'nt', 'lie'] |\n",
      "| 15 | 0.9615384615384616 | bill & ted's bogus journey | bill & teds bogus journey | ['what', 'foreign', 'language', 'is', 'an', 'option', 'for', 'the', 'film', 'bill', '&', 'teds', 'bogus', 'journey'] |\n",
      "| 16 | 0.8846153846153846 | single-player video game | single - player mode game | ['what', 'is', 'a', 'single', '-', 'player', 'mode', 'game', '?'] |\n",
      "| 17 | 0.9473684210526315 | eve's beach fantasy | eves beach fantasy | ['what', 'language', 'is', 'spoken', 'in', 'eves', 'beach', 'fantasy'] |\n",
      "| 18 | 0.9473684210526315 | live in denmark '72 | live in denmark 72 | ['what', 'are', 'songs', 'of', 'the', 'live', 'in', 'denmark', '72', 'album'] |\n",
      "| 19 | 0.9230769230769231 | bonnie's kids | bonnies kids | ['what', 'is', 'the', 'genre', 'of', 'the', 'film', 'bonnies', 'kids', '?'] |\n",
      "| 20 | 0.9166666666666666 | men's badminton, singles | mens badminton , singles | ['what', 'olympic', 'games', 'was', 'mens', 'badminton', ',', 'singles', 'apart', 'of'] |\n",
      "| 21 | 0.8571428571428571 | germans | german | ['who', 'is', 'german', '?'] |\n",
      "| 22 | 0.9444444444444444 | action-adventure | action / adventure | ['what', 'is', 'an', 'action', '/', 'adventure', 'netflix', 'title'] |\n",
      "| 23 | 0.9 | love's labour's lost | loves labours lost | ['who', 'produced', 'the', 'film', 'loves', 'labours', 'lost'] |\n",
      "| 24 | 0.9565217391304348 | rogers-o'daniel house | rogers - odaniel house | ['what', 'county', 'is', 'rogers', '-', 'odaniel', 'house', 'apart', 'of'] |\n",
      "| 25 | 0.9285714285714286 | curtis pulley | curtis pulleys | ['what', 's', 'curtis', 'pulleys', 'profession'] |\n",
      "| 26 | 0.9743589743589743 | manos hajidakis - eidolo ston kathrefti | manos hajidakis : eidolo ston kathrefti | ['what', 'country', 'is', 'manos', 'hajidakis', ':', 'eidolo', 'ston', 'kathrefti', 'from'] |\n",
      "| 27 | 0.9 | supernews! | supernews | ['what', 'genre', 'of', 'program', 'is', 'supernews'] |\n",
      "| 28 | 0.9375 | showgirls 2: penny's from heaven | showgirls 2 : pennys from heaven | ['what', 'language', 'is', 'showgirls', '2', ':', 'pennys', 'from', 'heaven', 'in', '?'] |\n",
      "| 29 | 0.9230769230769231 | pop rock 80's | pop rock 80s | ['what', 'artists', 'broadcast', \"'s\", 'pop', 'rock', '80s', 'music'] |\n",
      "| 30 | 0.7777777777777778 | macedonia | macedon | ['what', 'invasions', 'happened', 'in', 'macedon'] |\n",
      "| 31 | 0.9565217391304348 | mockingbird don't sing | mockingbird do nt sing | ['what', 'kind', 'of', 'film', 'is', 'mockingbird', 'do', 'nt', 'sing'] |\n",
      "| 32 | 0.9285714285714286 | zalman shazar | zalman shazars | ['what', 'is', 'zalman', 'shazars', 'area', 'of', 'activism'] |\n",
      "| 33 | 0.9696969696969697 | atomic - the very best of blondie | atomic : the very best of blondie | ['what', 'type', 'of', 'release', 'is', 'atomic', ':', 'the', 'very', 'best', 'of', 'blondie', '?'] |\n",
      "| 34 | 0.8333333333333334 | album | albums | ['what', 'albums', 'were', 'released', 'in', '2000', '?'] |\n",
      "| 35 | 0.9 | zeke's pad | zekes pad | ['is', 'zekes', 'pad', 'an', 'action', ',', 'romance', ',', 'or', 'comedy', 'tv', 'program'] |\n",
      "| 36 | 0.9565217391304348 | raffi's christmas album | raffis christmas album | ['what', 'kind', 'of', 'album', 'is', 'raffis', 'christmas', 'album'] |\n",
      "| 37 | 0.8928571428571429 | u.s. office of war information | office of war information | ['which', 'film', 'did', 'the', 'office', 'of', 'war', 'information', 'help', 'produce'] |\n",
      "| 38 | 0.967741935483871 | phillipa lord: she's the shit | phillipa lord : she s the shit | ['which', 'country', 'released', 'phillipa', 'lord', ':', 'she', 's', 'the', 'shit'] |\n",
      "| 39 | 0.875 | pillows & prayers: cherry red 1982–1983 | pillows & prayers : cherry red 1982 | ['what', 'is', 'the', 'name', 'of', 'the', 'track', 'list', 'for', 'the', 'release', 'pillows', '&', 'prayers', ':', 'cherry', 'red', '1982', '-', '1983', '?'] |\n",
      "| 40 | 0.625 | eagle‐eye cherry | eye cherry | ['what', 'is', 'the', 'profession', 'of', 'eagle', '-', 'eye', 'cherry', '?'] |\n",
      "| 41 | 0.8636363636363636 | victoria, australia | victoria ( australia ) | ['which', 'places', 'are', 'located', 'in', 'victoria', '(', 'australia', ')', '?'] |\n",
      "| 42 | 0.8666666666666667 | eat, pray, love | eat pray love | ['who', 'composed', 'the', 'music', 'for', 'eat', 'pray', 'love'] |\n",
      "| 43 | 0.8888888888888888 | lost (12\\\" inch version) | lost ( 12 inch version ) | ['what', 's', 'the', 'canonical', 'version', 'of', 'lost', '(', '12', 'inch', 'version', ')'] |\n",
      "| 44 | 0.8 | “you don’t dream in cryo. ....” | \" you do n't dream in cryo \" | ['what', 'artist', 'recorded', '\"', 'you', 'do', \"n't\", 'dream', 'in', 'cryo', '\"', '?'] |\n",
      "| 45 | 0.8 | drums | drum | ['which', 'musician', 'plays', 'the', 'drum', 'kit'] |\n",
      "| 46 | 0.75 | the crystal city | crystal city | ['what', 'genre', 'is', 'crystal', 'city'] |\n",
      "| 47 | 0.9130434782608695 | william e. mcanulty jr. | william e mcanulty , jr | ['what', 'is', 'william', 'e.', 'mcanulty', ',', 'jr', '.', \"'s\", 'gender'] |\n",
      "| 48 | 0.8571428571428571 | somalis | somali | ['who', \"'s\", 'somebody', 'that', 'identifies', 'with', 'the', 'somali', 'people'] |\n",
      "| 49 | 0.975 | san josé state spartans men's basketball | san jose state spartans mens basketball | ['which', 'sport', 'does', 'the', 'san', 'jose', 'state', 'spartans', 'mens', 'basketball', 'team', 'play'] |\n",
      "| 50 | 0.9375 | don't look down | do nt look down | ['what', 'is', 'do', 'nt', 'look', 'down', '?'] |\n",
      "| 51 | 0.9705882352941176 | now that's what i call music! 28 | now that s what i call music ! 28 | ['where', 'was', 'now', 'that', 's', 'what', 'i', 'call', 'music', '!', '28', 'released', '?'] |\n",
      "| 52 | 0.9523809523809523 | cosimo iii de' medici | cosimo iii de medici | ['which', 'family', 'is', 'cosimo', 'iii', 'de', 'medici', 'from'] |\n",
      "| 53 | 0.8 | drums | drum | ['who', 'played', 'the', 'drum', 'in', 'the', 'los', 'angeles', 'rock', 'quintet', 'rooney'] |\n",
      "| 54 | 0.75 | atb* | atb | ['what', \"'s\", 'a', 'remix', 'made', 'by', 'atb'] |\n",
      "| 55 | 0.9411764705882353 | timothy treadwell | timothy treadwall | ['what', 'gender', 'is', 'timothy', 'treadwall', '?'] |\n",
      "| 56 | 0.8571428571428571 | hawai`i | hawaii | ['name', 'a', 'volcano', 'located', 'in', 'hawaii'] |\n",
      "| 57 | 0.9473684210526315 | i'll be missing you | ill be missing you | ['what', 'is', 'the', 'name', 'of', 'the', 'artist', 'that', 'recorded', 'ill', 'be', 'missing', 'you'] |\n",
      "| 58 | 0.9565217391304348 | 20 classics of the '80s | 20 classics of the 80s | ['which', 'country', 'was', 'the', 'album', '20', 'classics', 'of', 'the', '80s', 'released', 'in', '?'] |\n",
      "| 59 | 0.9130434782608695 | happy birthday, lola! | happy birthday , lola | ['what', 'language', 'is', 'happy', 'birthday', ',', 'lola', 'in', '?'] |\n",
      "| 60 | 0.9411764705882353 | flannery o'connor | flannery oconnor | ['what', 'condition', 'did', 'flannery', 'oconnor', 'have'] |\n",
      "| 61 | 0.9428571428571428 | b'nai b'rith district grand lodge 1 | bnai brith district grand lodge 1 | ['what', 'state', 'is', 'bnai', 'brith', 'district', 'grand', 'lodge', '1', 'in'] |\n",
      "| 62 | 0.9259259259259259 | ahmed mubarak al-mahaijri | ahmed mubarak al mahaijri | ['what', 'is', 'the', 'birth', 'location', 'of', 'ahmed', 'mubarak', 'al', 'mahaijri', '?'] |\n",
      "| 63 | 0.9166666666666666 | mary o'grady | mary ogrady | ['mary', 'ogrady', 'was', 'born', 'in', 'what', 'country', '?'] |\n",
      "| 64 | 0.9473684210526315 | symphony no. 1 including \\\"blumine\\ | symphony no . 1 including \\\\\"blumine\\\\ | ['who', 'released', 'the', 'album', 'symphony', 'no', '.', '1', 'including', '\\\\\\\\\"blumine\\\\\\\\', '\"'] |\n",
      "| 65 | 0.9333333333333333 | half-a-mill | half - a - mil | ['what', 'was', 'half', '-', 'a', '-', 'mil', \"'s\", 'cause', 'of', 'death', '?'] |\n",
      "| 66 | 0.9333333333333333 | red cloud's war | red clouds war | ['what', 'was', 'involved', 'in', 'the', 'red', 'clouds', 'war', '?'] |\n",
      "| 67 | 0.9615384615384616 | it takes diff'rent strokes | it takes diffrent strokes | ['what', 'musician', 'recorded', 'the', 'track', 'it', 'takes', 'diffrent', 'strokes'] |\n",
      "| 68 | 0.9285714285714286 | fleetwood mack | fleetwood mac | ['where', 'play', 'fleetwood', 'mac', \"'s\", 'music'] |\n",
      "| 69 | 0.9523809523809523 | you can't hurry love | you ca nt hurry love | ['where', 'was', 'you', 'ca', 'nt', 'hurry', 'love', 'filmed', 'in', '?'] |\n",
      "| 70 | 0.975 | star wars: episode i - battle for naboo | star wars : episode i : battle for naboo | ['who', 'was', 'the', 'publisher', 'that', 'released', 'star', 'wars', ':', 'episode', 'i', ':', 'battle', 'for', 'naboo'] |\n",
      "| 71 | 0.9473684210526315 | mithun chakraborty | mithun chakrabortys | ['what', 'are', 'the', 'names', 'of', 'mithun', 'chakrabortys', 'children'] |\n",
      "| 72 | 0.9411764705882353 | the cryin' shames | the cryin shames | ['where', 'is', 'the', 'cryin', 'shames', 'from'] |\n",
      "| 73 | 0.9375 | barack obama, sr. | barack obama sr | ['what', 's', 'barack', 'obama', 'sr', '.', \"'s\", 'ethnicity'] |\n",
      "| 74 | 0.9166666666666666 | mick o'brien | mick obrien | ['what', 'gender', 'is', 'mick', 'obrien', '?'] |\n",
      "| 75 | 0.7272727272727273 | multiplayer video game | multiplayer game | ['what', 'is', 'a', 'multiplayer', 'game', '?'] |\n",
      "| 76 | 0.84 | daniel \\\"2dark\\\" richards | daniel 2dark richards | ['what', 'genre', 'does', 'daniel', '2dark', 'richards', 'produce', '?'] |\n",
      "| 77 | 0.9285714285714286 | kracker jack'd | kracker jackd | ['which', 'language', 'is', 'spoken', 'in', 'kracker', 'jackd'] |\n",
      "| 78 | 0.9583333333333334 | it’s the way you love me | its the way you love me | ['which', 'female', 'artist', 'sang', 'its', 'the', 'way', 'you', 'love', 'me'] |\n",
      "| 79 | 0.8333333333333334 | album | albums | ['what', 'are', 'albums', '?'] |\n",
      "| 80 | 0.8333333333333334 | st. peter's church | st . peters church | ['what', 'is', 'st', '.', 'peters', 'church'] |\n",
      "| 81 | 0.9487179487179487 | gunnar \\\"the ghost pilot\\\" andersson | gunnar \\\\\"the ghost pilot\\\\ \" andersson | ['what', 'caused', 'gunnar', '\\\\\\\\\"the', 'ghost', 'pilot\\\\\\\\', '\"', 'andersson', \"'s\", 'death'] |\n",
      "| 82 | 0.8 | 'snaz | snaz | ['what', 'format', 'was', 'snaz', 'released', 'in'] |\n",
      "| 83 | 0.9310344827586207 | stompin' at the savoy: live | stompin at the savoy : live | ['where', 'was', 'stompin', 'at', 'the', 'savoy', ':', 'live', 'released', '?'] |\n",
      "| 84 | 0.8333333333333334 | get in the ring | get in the ring?\\\\ | ['what', 'is', 'the', 'release', 'typ', 'eof', 'the', 'album', 'get', 'in', 'the', 'ring?\\\\\\\\'] |\n",
      "| 85 | 0.9487179487179487 | screwed: al goldstein's kingdom of porn | screwed : al goldsteins kingdom of porn | ['what', 'is', 'the', 'type', 'of', 'release', 'of', 'screwed', ':', 'al', 'goldsteins', 'kingdom', 'of', 'porn', '?'] |\n",
      "| 86 | 0.9090909090909091 | no baggage? | no baggage | ['what', 'was', 'the', 'album', 'no', 'baggage', \"'s\", 'genre'] |\n",
      "| 87 | 0.8 | new american soldier | american soldier | ['what', 'is', 'the', 'language', 'spoken', 'in', 'the', 'filmnew', 'american', 'soldier', '?'] |\n",
      "| 88 | 0.9411764705882353 | james a. michener | james a micheners | ['what', 'is', 'james', 'a.', 'micheners', 'ethnicity'] |\n",
      "| 89 | 0.8148148148148148 | single-player video game | single - player horror game | ['what', \"'s\", 'the', 'name', 'of', 'a', 'single', '-', 'player', 'horror', 'game'] |\n",
      "| 90 | 0.8461538461538461 | david dodge | david f dodge | ['which', 'bay', 'area', 'city', 'was', 'david', 'f.', 'dodge', 'born', 'in'] |\n",
      "| 91 | 0.9230769230769231 | ann holbrook | anna holbrook | ['what', 'country', 'is', 'anna', 'holbrook', 'from'] |\n",
      "| 92 | 0.8 | unix® | unix | ['what', 'language', 'is', 'used', 'in', 'the', 'software', 'unix'] |\n",
      "| 93 | 0.9583333333333334 | peter's point plantation | peters point plantation | ['what', 'is', 'peters', 'point', 'plantation', \"'s\", 'architectural', 'style'] |\n",
      "| 94 | 0.9090909090909091 | chet's speech, part ii | chets speech , part ii | ['who', 'sings', 'chets', 'speech', ',', 'part', 'ii'] |\n",
      "| 95 | 0.95 | you're not a number | you re not a number | ['who', 'was', 'the', 'composer', 'for', 'you', 're', 'not', 'a', 'number'] |\n",
      "| 96 | 0.9473684210526315 | heaton's crossroads | heatons crossroads | ['which', 'war', 'did', 'the', 'heatons', 'crossroads', 'take', 'place'] |\n",
      "| 97 | 0.975 | what's the flavor ? : the black mixtape | what s the flavor ? : the black mixtape | ['what', \"'s\", 'a', 'track', 'featured', 'on', 'what', 's', 'the', 'flavor', '?', ':', 'the', 'black', 'mixtape'] |\n",
      "| 98 | 0.967741935483871 | clemson tigers men's basketball | clemson tigers mens basketball | ['what', 'conference', 'do', 'the', 'clemson', 'tigers', 'mens', 'basketball', 'play', 'in'] |\n",
      "| 99 | 0.9523809523809523 | roman-parthian wars | roman – parthian wars | ['who', 'is', 'an', 'entity', 'that', 'was', 'involved', 'in', 'roman', '–', 'parthian', 'wars'] |\n",
      "| 100 | 0.8666666666666667 | pablo longueira | pablo longueria | ['name', 'the', 'profession', 'of', 'pablo', 'longueria', '.'] |\n",
      "| 101 | 0.9090909090909091 | peter ford | peter fords | ['what', 'is', 'the', 'name', 'of', 'peter', 'fords', 'parent'] |\n",
      "| 102 | 0.9473684210526315 | uncle jasper's will | uncle jaspers will | ['who', 'produced', 'uncle', 'jaspers', 'will'] |\n",
      "| 103 | 0.7777777777777778 | topical medication | topical medicine | ['name', 'a', 'topical', 'medicine'] |\n",
      "| 104 | 0.9230769230769231 | french movies | french movie | ['what', 'is', 'the', 'name', 'of', 'a', 'woman', 'that', 'is', 'also', 'the', 'title', 'of', 'a', 'netflix', 'french', 'movie', '?'] |\n",
      "| 105 | 0.9761904761904762 | wallace and gromit's cracking contraptions | wallace and gromits cracking contraptions | ['what', 'kind', 'of', 'film', 'is', 'wallace', 'and', 'gromits', 'cracking', 'contraptions', '?'] |\n",
      "| 106 | 0.9629629629629629 | lewis–clark state college | lewis - clark state college | ['what', 'are', 'lewis', '-', 'clark', 'state', 'college', \"'s\", 'school', 'colors'] |\n",
      "| 107 | 0.8 | nicol | nico | ['what', 'is', 'the', 'name', 'of', 'one', 'of', 'nico', \"'s\", 'songs'] |\n",
      "| 108 | 0.7272727272727273 | multiplayer video game | multiplayer game | ['what', \"'s\", 'a', 'text', 'based', 'multiplayer', 'game'] |\n",
      "| 109 | 0.8333333333333334 | album | albums | ['which', 'albums', 'were', 'released', 'by', 'deep', 'purple', '?'] |\n",
      "| 110 | 0.8095238095238095 | sign \\\"o\\\" the times | sign ' o ' the times | ['what', 'kind', 'of', 'album', 'is', 'sign', \"'\", 'o', \"'\", 'the', 'times'] |\n",
      "| 111 | 0.9655172413793104 | dimillo's floating restaurant | dimillos floating restaurant | ['what', 'state', 'is', 'dimillos', 'floating', 'restaurant', 'in', '?'] |\n",
      "| 112 | 0.8 | drums | drum | ['which', 'instrumentalists', 'play', 'the', 'drum', 'kit', '?'] |\n",
      "| 113 | 0.9565217391304348 | ich wär' so gern wie du | ich war so gern wie du | ['who', 'recorded', 'ich', 'war', 'so', 'gern', 'wie', 'du'] |\n",
      "| 114 | 0.9583333333333334 | battle of drewry's bluff | battle of drewrys bluff | ['what', 'campaign', 'was', 'the', 'battle', 'of', 'drewrys', 'bluff', 'a', 'part', 'of'] |\n",
      "| 115 | 0.9583333333333334 | rockin' with judy jetson | rockin with judy jetson | ['who', 's', 'the', 'producer', 'of', 'the', 'film', 'rockin', 'with', 'judy', 'jetson'] |\n",
      "| 116 | 0.96875 | there are things you don't know | there are things you do nt know | ['what', 'language', 'is', 'there', 'are', 'things', 'you', 'do', 'nt', 'know', 'shot', 'in'] |\n",
      "| 117 | 0.9583333333333334 | britain's next top model | britains next top model | ['what', 'kind', 'of', 'show', 'is', 'britains', 'next', 'top', 'model', '?'] |\n",
      "| 118 | 0.7222222222222222 | ready.. set.. zoom! | ready , set , zoom | ['who', 'was', 'the', 'director', 'of', 'the', 'film', 'ready', ',', 'set', ',', 'zoom', '!'] |\n",
      "| 119 | 0.8571428571428571 | peanut | peanuts | ['what', 'indonesian', 'food', 'contains', 'chilis', 'and', 'peanuts', '?'] |\n",
      "| 120 | 0.9565217391304348 | the godfather's revenge | the godfathers revenge | ['what', 'is', 'the', 'genre', 'for', 'the', 'book', 'the', 'godfathers', 'revenge'] |\n",
      "| 121 | 0.875 | 80's box | 80s box | ['in', 'what', 'region', 'did', '80s', 'box', 'release'] |\n",
      "| 122 | 0.9487179487179487 | the national parks: america's best idea | the national parks : americas best idea | ['who', 'produced', 'the', 'film', 'the', 'national', 'parks', ':', 'americas', 'best', 'idea'] |\n",
      "| 123 | 0.96 | it doesn't really matter | it does nt really matter | ['which', '1990s', 'singer', 'wrote', 'the', 'lyrics', 'for', 'it', 'does', 'nt', 'really', 'matter', '?'] |\n",
      "| 124 | 0.7058823529411765 | texas a&m university school of law | university school of law | ['where', 'is', 'texas', 'wesleyan', 'university', 'school', 'of', 'law', 'located', '?'] |\n",
      "| 125 | 0.9230769230769231 | dynamite cop! | dynamite cop | ['what', 'is', 'the', 'computer', 'video', 'game', 'genre', 'of', 'dynamite', 'cop'] |\n",
      "| 126 | 0.972972972972973 | alabama crimson tide men's basketball | alabama crimson tide mens basketball | ['what', 'division', 'is', 'alabama', 'crimson', 'tide', 'mens', 'basketball', '?'] |\n",
      "| 127 | 0.6666666666666666 | ac\\\\dc | acdc | ['which', 'label', 'company', 'is', 'acdc', 'signed', 'to'] |\n",
      "| 128 | 0.8571428571428571 | bretons | breton | ['name', 'one', 'of', 'the', 'breton', 'people'] |\n",
      "| 129 | 0.9259259259259259 | fido's summer fun, volume 2 | fidos summer fun , volume 2 | ['what', \"'s\", 'a', 'track', 'listed', 'on', 'fidos', 'summer', 'fun', ',', 'volume', '2'] |\n",
      "| 130 | 0.8571428571428571 | live at \\\"sweet basil\\\", volume 2 | live at sweet basil , volume 2 | ['what', 'is', 'the', 'release', 'type', 'of', 'live', 'at', 'sweet', 'basil', ',', 'volume', '2'] |\n",
      "| 131 | 0.9615384615384616 | sid meier's alpha centauri | sid meiers alpha centauri | ['what', 'is', 'the', 'name', 'of', 'the', 'game', 'that', 'has', 'a', 'version', 'titled', 'sid', 'meiers', 'alpha', 'centauri'] |\n",
      "| 132 | 0.9354838709677419 | a sides win: singles 1992-2005 | a sides win : singles 1992–2005 | ['what', 'type', 'of', 'content', 'album', 'is', 'a', 'sides', 'win', ':', 'singles', '1992–2005', '?'] |\n",
      "| 133 | 0.7777777777777778 | blackhawk band | blackhawk ( band ) | ['what', 'is', 'the', 'album', 'of', 'blackhawk', '(', 'band', ')'] |\n",
      "| 134 | 0.9545454545454546 | kleines, dickes müller | kleines dickes muller | ['what', 'country', 'is', 'kleines', 'dickes', 'muller', 'from', '?'] |\n",
      "| 135 | 0.9285714285714286 | acorna's world | acornas world | ['who', 'wrote', 'acornas', 'world', '?'] |\n",
      "| 136 | 0.8620689655172413 | salvatore \\\"the boss\\\" maroni | salvatore the boss maroni | ['what', 'gender', 'is', 'salvatore', 'the', 'boss', 'maroni', '?'] |\n",
      "| 137 | 0.9230769230769231 | quartet live! | quartet live | ['who', 'is', 'the', 'artist', 'of', 'the', 'album', 'quartet', 'live'] |\n",
      "| 138 | 0.9444444444444444 | tabu \\\"thick n' sassy\\\" magazine | tabu \\\\\"thick n ' sassy\\\\ \" magazine | ['what', 'does', 'tabu', '\\\\\\\\\"thick', 'n', \"'\", 'sassy\\\\\\\\', '\"', 'magazine', 'write', 'about'] |\n",
      "| 139 | 0.926829268292683 | disney's kim possible 2: drakken's demise | disneys kim possible 2 : drakkens demise | ['what', 'is', 'a', 'gameplay', 'mode', 'supported', 'on', 'disneys', 'kim', 'possible', '2', ':', 'drakkens', 'demise', '?'] |\n",
      "| 140 | 0.8888888888888888 | greco–punic wars | greek – punic wars | ['where', 'did', 'greek', '–', 'punic', 'wars', 'take', 'place', '?'] |\n",
      "| 141 | 0.875 | d'scover | dscover | ['what', 'rock', 'genre', 'does', 'dscover', 'fall', 'under'] |\n",
      "| 142 | 0.7142857142857143 | maurice merleau­ponty | maurice merleau | ['who', 'did', 'maurice', 'merleau', '-', 'ponty', 'help', 'to', 'influence'] |\n",
      "| 143 | 0.9090909090909091 | beat 'em up | beat em up | ['what', 'is', 'the', 'name', 'of', 'a', 'video', 'game', 'of', 'the', 'beat', 'em', 'up', 'collection'] |\n",
      "| 144 | 0.96 | richard scarry's busytown | richard scarrys busytown | ['what', 'is', 'a', 'gameplay', 'mode', 'featured', 'on', 'richard', 'scarrys', 'busytown'] |\n",
      "| 145 | 0.9166666666666666 | shoot 'em up | shoot em up | ['where', 'was', 'the', 'movie', 'shoot', 'em', 'up', 'shot'] |\n",
      "| 146 | 0.9230769230769231 | minor planets | minor planet | ['what', 'is', 'a', 'main', '-', 'belt', 'minor', 'planet', 'discovered', 'in', '1999', '?'] |\n",
      "| 147 | 0.9333333333333333 | that's my mama | that s my mama | ['that', 's', 'my', 'mama', 'is', 'labeled', 'under', 'what', 'netflix', 'genre', 'title', '?'] |\n",
      "| 148 | 0.8461538461538461 | foghat (rock 'n' roll) | foghat ( rock n roll ) | ['what', 'type', 'of', 'music', 'is', 'foghat', '(', 'rock', 'n', 'roll', ')', '?'] |\n",
      "| 149 | 0.9090909090909091 | indie film | indie films | ['what', 'are', 'indie', 'films', '?'] |\n",
      "| 150 | 0.8928571428571429 | st. peter's episcopal church | st . peters episcopal church | ['what', 'state', 'and', 'city', 'is', 'st', '.', 'peters', 'episcopal', 'church', 'located', 'in', '?'] |\n",
      "| 151 | 0.9 | ĭn’terview | interview | ['what', 'kind', 'of', 'music', 'is', 'the', 'interview', 'album'] |\n",
      "| 152 | 0.972972972972973 | can’t get blue monday out of my head | ca nt get blue monday out of my head | ['which', 'song', 'was', 'part', 'of', 'ca', 'nt', 'get', 'blue', 'monday', 'out', 'of', 'my', 'head'] |\n",
      "| 153 | 0.9642857142857143 | the wonderful wizard of ha's | the wonderful wizard of has | ['what', 'film', 'series', 'is', 'the', 'wonderful', 'wizard', 'of', 'has', 'from', '?'] |\n",
      "| 154 | 0.9285714285714286 | solid gold '68 | solid gold 68 | ['what', 'genre', 'was', 'the', 'musical', 'album', 'solid', 'gold', '68', '.'] |\n",
      "| 155 | 0.9166666666666666 | cartel, 1882 | cartel 1882 | ['which', 'country', 'is', 'cartel', '1882', 'filmed', 'in', '?'] |\n",
      "| 156 | 0.7241379310344828 | godbout v longueuil (city of) | godbout v longueuil case | ['what', 'court', 'handled', 'the', 'godbout', 'v.', 'longueuil', 'case', '?'] |\n",
      "| 157 | 0.9444444444444444 | action-adventure | action / adventure | ['what', 'is', 'a', 'action', '/', 'adventure', 'film'] |\n",
      "| 158 | 0.9166666666666666 | death eaters | death eater | ['which', 'is', 'the', 'name', 'of', 'a', 'death', 'eater', 'in', 'harry', 'potter', '?'] |\n",
      "| 159 | 0.9615384615384616 | pretend you don't see her | pretend you do nt see her | ['what', 'netflix', 'genre', 'was', 'the', 'title', 'pretend', 'you', 'do', 'nt', 'see', 'her'] |\n",
      "| 160 | 0.8636363636363636 | victoria, australia | victoria ( australia ) | ['what', 'secondary', 'college', 'is', 'located', 'in', 'victoria', '(', 'australia', ')'] |\n",
      "| 161 | 0.9473684210526315 | thursday's children | thursdays children | ['who', 'directed', 'thursdays', 'children'] |\n",
      "| 162 | 0.9 | defenseman | defenceman | ['what', 'player', 'is', 'a', 'defenceman', '(', 'ice', 'hockey', ')'] |\n",
      "| 163 | 0.9411764705882353 | can’t get enough | ca nt get enough | ['which', 'artist', 'sang', 'the', 'song', 'ca', 'nt', 'get', 'enough'] |\n",
      "| 164 | 0.875 | cruisin' | cruisin | ['what', \"'s\", 'the', 'original', 'version', 'of', 'cruisin'] |\n",
      "| 165 | 0.8666666666666667 | elliot eisner | elliot w eisner | ['which', 'city', 'was', 'elliot', 'w.', 'eisner', 'born'] |\n",
      "| 166 | 0.9375 | love's boomerang | loves boomerang | ['what', 'is', 'the', 'genre', 'associated', 'with', 'loves', 'boomerang'] |\n",
      "| 167 | 0.9767441860465116 | a connecticut yankee in king arthur's court | a connecticut yankee in king arthurs court | ['where', 'published', 'a', 'connecticut', 'yankee', 'in', 'king', 'arthurs', 'court'] |\n",
      "| 168 | 0.9166666666666666 | kevin walsh | kevin walshs | ['what', 'is', 'kevin', 'walshs', 'nationality'] |\n",
      "| 169 | 0.9473684210526315 | emmanuel college: st. paul's campus | emmanuel college : st . pauls campus | ['this', 'color', 'is', 'one', 'of', 'three', 'that', 'represent', 'emmanuel', 'college', ':', 'st', '.', 'pauls', 'campus', '.'] |\n",
      "| 170 | 0.9333333333333333 | timothy's quest | timothys quest | ['what', 'type', 'of', 'film', 'is', 'timothys', 'quest', '?'] |\n",
      "| 171 | 0.8620689655172413 | the return of 'allo 'allo! | the return of allo allo ! | ['what', 'kind', 'of', 'tv', 'show', 'is', 'the', 'return', 'of', 'allo', 'allo', '!'] |\n",
      "| 172 | 0.8461538461538461 | alvin \\\"youngblood\\\" hart | alvin ' youngblood ' hart | ['what', 'is', 'the', 'nationality', 'of', 'alvin', \"'\", 'youngblood', \"'\", 'hart', '?'] |\n",
      "| 173 | 0.95 | strategy video game | strategy video games | ['what', 'are', 'some', 'strategy', 'video', 'games'] |\n",
      "| 174 | 0.9666666666666667 | double easy - the u.s. singles | double easy : the us . singles | ['what', 'format', 'was', 'double', 'easy', ':', 'the', 'u.s', '.', 'singles', 'released', 'in', '?'] |\n",
      "| 175 | 0.8260869565217391 | william \\\"bull\\\" nelson | william bull nelson | ['what', 'caused', 'william', 'bull', 'nelson', \"'s\", 'death'] |\n",
      "| 176 | 0.9285714285714286 | hilo, hawai'i | hilo , hawaii | ['what', 'is', 'the', 'postal', 'code', 'in', 'hilo', ',', 'hawaii'] |\n",
      "| 177 | 0.9090909090909091 | 'little' jimmy dickens | little jimmy dickens | ['where', 'is', 'little', 'jimmy', 'dickens', 'from', '?'] |\n",
      "| 178 | 0.7857142857142857 | first battle of james island | battle of james island | ['name', 'a', 'soldier', 'involved', 'in', 'the', 'battle', 'of', 'james', 'island', '.'] |\n",
      "| 179 | 0.9411764705882353 | swingin' with bud | swingin with bud | ['what', 'kinds', 'of', 'music', 'is', 'swingin', 'with', 'bud'] |\n",
      "| 180 | 0.9230769230769231 | sandry's book | sandrys book | ['what', 'kind', 'of', 'book', 'is', 'sandrys', 'book'] |\n",
      "| 181 | 0.7777777777777778 | dr. c.h.u.d. | dr . chud | ['does', 'dr', '.', 'chud', 'play', 'the', 'drum', 'kit', 'or', 'guitar'] |\n",
      "| 182 | 0.8823529411764706 | millard s drexler | millard drexler | ['what', 'organization', 'did', 'millard', 'drexler', 'found'] |\n",
      "| 183 | 0.9473684210526315 | guy's grocery games | guys grocery games | ['what', 'type', 'of', 'show', 'is', 'guys', 'grocery', 'games', '?'] |\n",
      "| 184 | 0.9166666666666666 | megan cheng | megan chengs | ['what', 's', 'megan', 'chengs', 'ethnicity'] |\n",
      "| 185 | 0.9375 | soumodip sarkar | soumodip sarkars | ['what', 'is', 'soumodip', 'sarkars', 'place', 'of', 'birth'] |\n",
      "| 186 | 0.9523809523809523 | durban girls' college | durban girls college | ['what', 'kind', 'of', 'school', 'is', 'durban', 'girls', 'college', '?'] |\n",
      "| 187 | 0.9375 | beretta's island | berettas island | ['what', 'type', 'of', 'film', 'is', 'berettas', 'island'] |\n",
      "| 188 | 0.8666666666666667 | kim, jin-man | kim jin - man | ['which', 'country', 'is', 'kim', 'jin', '-', 'man', 'from'] |\n",
      "| 189 | 0.9444444444444444 | what's this?!! | what s this ? ! ! | ['who', 'is', 'the', 'lyricist', 'for', 'the', 'composition', 'what', 's', 'this', '?', '!', '!'] |\n",
      "| 190 | 0.875 | cruisin' | cruisin | ['what', 'release', 'is', 'cruisin', 'on', '?'] |\n",
      "| 191 | 0.9545454545454546 | prince george's county | prince georges county | ['what', 'is', 'in', 'prince', 'georges', 'county'] |\n",
      "| 192 | 0.9629629629629629 | improvized explosive device | improvised explosive device | ['what', 'is', 'a', 'type', 'of', 'disaster', 'from', 'a', 'improvised', 'explosive', 'device', '?'] |\n",
      "| 193 | 0.9285714285714286 | when it's over | when its over | ['what', 'film', 'genre', 'is', 'when', 'its', 'over'] |\n",
      "| 194 | 0.9375 | who's an expert | who s an expert | ['what', 'is', 'the', 'subject', 'of', 'who', 's', 'an', 'expert', '?'] |\n",
      "| 195 | 0.9629629629629629 | you can't take it with you | you ca nt take it with you | ['who', 'created', 'the', 'story', 'for', 'the', 'film', 'you', 'ca', 'nt', 'take', 'it', 'with', 'you'] |\n",
      "| 196 | 0.8571428571428571 | dory funk jr. | dory funk , jr | ['where', 'was', 'dory', 'funk', ',', 'jr', '.', 'born', '?'] |\n",
      "| 197 | 0.96 | blue's clues kindergarten | blues clues kindergarten | ['who', 'published', 'the', 'game', 'blues', 'clues', 'kindergarten'] |\n",
      "| 198 | 0.9285714285714286 | mount grant, south georgia | mount grant in south georgia | ['what', 'country', 'is', 'mount', 'grant', 'in', 'south', 'georgia', 'located', '?'] |\n",
      "| 199 | 0.9545454545454546 | battle of hudson's bay | battle of hudsons bay | ['where', 'did', 'the', 'battle', 'of', 'hudsons', 'bay', 'take', 'place'] |\n",
      "| 200 | 0.8333333333333334 | album | albums | ['what', 'albums', 'did', 'willie', 'nelson', 'release', '?'] |\n",
      "| 201 | 0.7894736842105263 | the regatta mystery | regatta mystery | ['what', 'theme', 'is', 'in', 'the', 'piece', 'regatta', 'mystery'] |\n",
      "| 202 | 0.8333333333333334 | album | albums | ['which', 'albums', 'were', 'released', 'by', 'the', 'century', 'media', 'label', '?'] |\n",
      "| 203 | 0.9767441860465116 | hms pinafore: i’m called little buttercup | hms pinafore : i m called little buttercup | ['who', 'is', 'the', 'artist', 'that', 'recorded', 'hms', 'pinafore', ':', 'i', 'm', 'called', 'little', 'buttercup', '?'] |\n",
      "| 204 | 0.9565217391304348 | álvaro d'ataide da gama | alvaro dataide da gama | ['what', 'is', 'alvaro', 'dataide', 'da', 'gama'] |\n",
      "| 205 | 0.9705882352941176 | chara the best: baby baby baby xxx | chara the best baby baby baby xxx | ['what', 'type', 'of', 'music', 'did', 'chara', 'the', 'best', 'baby', 'baby', 'baby', 'xxx', 'play', '?'] |\n",
      "| 206 | 0.9655172413793104 | santa claus is comin' to town | santa claus is comin to town | ['what', 'is', 'a', 'song', 'on', 'the', 'recording', 'santa', 'claus', 'is', 'comin', 'to', 'town'] |\n",
      "| 207 | 0.9090909090909091 | coup d'etat | coup detat | ['what', 'format', 'was', 'coup', 'detat', 'released', 'in'] |\n",
      "| 208 | 0.9428571428571428 | don't tell me (what love can do) | do n't tell me 9what love can do ) | ['who', 'composed', '\"', 'do', \"n't\", 'tell', 'me', '9what', 'love', 'can', 'do', ')', '\"', '?'] |\n",
      "| 209 | 0.8666666666666667 | raymond a. meier | raymond meier | ['which', 'city', 'was', 'raymond', 'meier', 'born', 'in'] |\n",
      "| 210 | 0.9375 | edwina armstrong | edwina armstron | ['who', 'is', 'edwina', 'armstron', \"'s\", 'parent', '?'] |\n",
      "| 211 | 0.9565217391304348 | the emperor's new cloak | the emperors new cloak | ['who', 'wrote', 'the', 'emperors', 'new', 'cloak'] |\n",
      "| 212 | 0.9444444444444444 | men's pommel horse | mens pommel horse | ['what', 'olympic', 'games', 'featured', 'mens', 'pommel', 'horse'] |\n",
      "| 213 | 0.9473684210526315 | parkinson's disease | parkinsons disease | ['which', 'american', 'judge', 'died', 'due', 'to', 'parkinsons', 'disease'] |\n",
      "| 214 | 0.9166666666666666 | d'atra hicks | datra hicks | ['where', 'in', 'manhattan', 'was', 'datra', 'hicks', \"'s\", 'birthplace', '?'] |\n",
      "| 215 | 0.9705882352941176 | the best of martin denny's exotica | the best of martin dennys exotica | ['what', 'kind', 'of', 'album', 'the', 'best', 'of', 'martin', 'dennys', 'exotica'] |\n",
      "| 216 | 0.9565217391304348 | the girl from tomorrow part ii: tomorrow's end | the girl from tomorrow part ii : tomorrows end | ['what', 'language', 'is', 'the', 'girl', 'from', 'tomorrow', 'part', 'ii', ':', 'tomorrows', 'end', 'in', '?'] |\n",
      "| 217 | 0.9130434782608695 | john d. rockefeller jr. | john d rockefeller , jr | ['who', 'is', 'john', 'd.', 'rockefeller', ',', 'jr', '.', 'named', 'after'] |\n",
      "| 218 | 0.9166666666666666 | woody's gone | woodys gone | ['who', 'recorded', 'woodys', 'gone'] |\n",
      "| 219 | 0.9333333333333333 | st barnabas' church, chester | st barnabas church , chester | ['where', 'is', 'st', 'barnabas', 'church', ',', 'chester', 'located', '?'] |\n",
      "| 220 | 0.9166666666666666 | yann songo'o | yann songoo | ['what', 'is', 'the', 'nation', 'to', 'which', 'yann', 'songoo', 'belongs'] |\n",
      "| 221 | 0.7894736842105263 | luxembourg city | luxembourg ( city ) | ['what', 'is', 'an', 'attraction', 'is', 'luxembourg', '(', 'city', ')'] |\n",
      "| 222 | 0.8 | drums | drum | ['who', 'uses', 'a', 'drum', 'kit', '?'] |\n",
      "| 223 | 0.7777777777777778 | ian kamau | is kamau | ['which', 'city', 'is', 'kamau', 'from'] |\n",
      "| 224 | 0.8333333333333334 | bikash malla | bikash malal | ['what', 'is', 'bikash', 'malal', \"'s\", 'nationality', '?'] |\n",
      "| 225 | 0.96 | classics: the early years | classics the early years | ['who', 'released', 'the', 'album', 'classics', 'the', 'early', 'years'] |\n",
      "| 226 | 0.9459459459459459 | all the stuff (and more!) volume 2 | all the stuff ( and more ) , volume 2 | ['what', 'type', 'of', 'album', 'was', 'all', 'the', 'stuff', '(', 'and', 'more', ')', ',', 'volume', '2'] |\n",
      "| 227 | 0.9166666666666666 | brian o'shea | brian oshea | ['brian', 'oshea', 'performs', 'what', 'type', 'of', 'martial', 'art'] |\n",
      "| 228 | 0.9285714285714286 | willie \\\"the lion\\\" smith | willie \\\\\"the lion\\\\ \" smith | ['what', 's', 'the', 'genre', 'of', 'music', 'that', 'the', 'artist', 'willie', '\\\\\\\\\"the', 'lion\\\\\\\\', '\"', 'smith', 'makes'] |\n",
      "| 229 | 0.9 | pakistanis | pakistani | ['who', 'is', 'a', 'bollywood', 'actor', 'who', 'belongs', 'to', 'pakistani', 'people'] |\n",
      "| 230 | 0.84 | alvin \\\"youngblood\\\" hart | alvin youngblood hart | ['what', 'radio', 'station', 'plays', 'music', 'from', 'alvin', 'youngblood', 'hart', '?'] |\n",
      "| 231 | 0.9722222222222222 | npr: wait wait... don't tell me! | npr : wait wait ... do nt tell me ! | ['who', 'produces', 'npr', ':', 'wait', 'wait', '...', 'do', 'nt', 'tell', 'me', '!', 'podcast'] |\n",
      "| 232 | 0.5714285714285714 | aqua??? | aqua | ['what', 'kind', 'of', 'music', 'does', 'aqua', '(', 'band', ')', 'play'] |\n",
      "| 233 | 0.95 | william wilson \\\"buffalo bill\\\" quinn | william wilson \\\\\"buffalo bill\\\\ \" quinn | ['where', 'did', 'william', 'wilson', '\\\\\\\\\"buffalo', 'bill\\\\\\\\', '\"', 'quinn', 'die'] |\n",
      "| 234 | 0.8823529411764706 | lee, hyung-min | lee hyung - min | ['what', 'is', 'the', 'gender', 'of', 'lee', 'hyung', '-', 'min', '?'] |\n",
      "| 235 | 0.9583333333333334 | online news association | online news associations | ['what', 'is', 'online', 'news', 'associations', 'sector'] |\n",
      "| 236 | 0.9230769230769231 | jim beggarly | jim beggarlys | ['what', 's', 'jim', 'beggarlys', 'gender'] |\n",
      "| 237 | 0.9285714285714286 | roy nicholson | roy nicholsons | ['what', 'is', 'roy', 'nicholsons', 'profession'] |\n",
      "| 238 | 0.5714285714285714 | aqua??? | aqua | ['what', 'kind', 'of', 'artist', 'is', 'aqua', '(', 'band', ')', '?'] |\n",
      "| 239 | 0.9090909090909091 | piranha 3dd | piranha dd | ['what', 'company', 'produced', 'piranha', 'dd'] |\n",
      "| 240 | 0.9375 | regan gascoigne | regan gascoignes | ['who', 'is', 'regan', 'gascoignes', 'parent'] |\n",
      "| 241 | 0.8 | st. catharine's | st . catharines | ['what', \"'s\", 'a', 'lake', 'that', 'can', 'be', 'visited', 'near', 'st', '.', 'catharines'] |\n",
      "| 242 | 0.9615384615384616 | german wire-haired pointer | german wirehaired pointer | ['what', 'kind', 'of', 'personality', 'do', 'german', 'wirehaired', 'pointer', 'have', '?'] |\n",
      "\n"
     ]
    }
   ],
   "source": [
    "from Levenshtein import distance\n",
    "from lib.utils import format_pipe_table\n",
    "\n",
    "print_data = []\n",
    "\n",
    "for index, row in tqdm_notebook(df_dev.iterrows(), total=df_dev.shape[0]):  \n",
    "    if not isinstance(row['subject_name'], str):\n",
    "        continue\n",
    "\n",
    "    # Print the worst fit subject_name's just in case\n",
    "    tagged_subject_name = row['question_tokens'][int(row['start_index']):int(row['end_index'])]\n",
    "    tagged_subject_name = ' '.join([normalize_abbreviations(t) for t in tagged_subject_name])\n",
    "    edit_distance = distance(tagged_subject_name, ' '.join(row['subject_name_tokens']))\n",
    "    max_length = max(len(' '.join(row['subject_name_tokens'])), len(tagged_subject_name))\n",
    "    normalized_edit_distance = (max_length - edit_distance) / max_length\n",
    "    print_data.append({\n",
    "        'Predicted Subject Name': tagged_subject_name,\n",
    "        'Original Subject Name': row['subject_name'],\n",
    "        'Normalized Edit Distance': normalized_edit_distance,\n",
    "        'Question Tokens': row['question_tokens'],\n",
    "    })\n",
    "\n",
    "exact_match = [d for d in print_data if d['Normalized Edit Distance'] == 1.0]\n",
    "not_matched = [d for d in print_data if d['Normalized Edit Distance'] != 1.0]\n",
    "print('Exact Match: %f [%d of %d]' % (len(exact_match) / len(print_data), len(exact_match), len(print_data)))\n",
    "print('Not Matched:\\n')\n",
    "print(format_pipe_table(not_matched))"
   ]
  },
  {
   "cell_type": "markdown",
   "metadata": {},
   "source": [
    "### Discussion\n",
    "\n",
    "#### Numbers:\n",
    "\n",
    "Exact Match: 0.976991 [10403 of 10648]\n",
    "\n",
    "We find that most of the time, we are able to determine exactly the span in the question that refers to the linked subject name.\n",
    "\n",
    "#### Error Bucket:\n",
    "\n",
    "**Discussion:**\n",
    "\n",
    "We are able to determine the correct span 98% of time that there is not an exact match; therefore, we approximate that overall 10643/10648 (0.9995%). This makes sense due to the fact that subject name was only linked if it had a high similarity with the question.\n",
    "\n",
    "**Buckets:**\n",
    "- (49 / 50) Correct: The span correctly locations the subject name in the question.\n",
    "- (1 / 50) Other: The alias is incorrect; therefore, the span is incorrect.\n",
    "\n",
    "| Index | Bucket | Normalized Edit Distance | Original Subject Name | Predicted Subject Name | Question Tokens |\n",
    "| --- | --- | --- | --- | --- | --- |\n",
    "| 0 | Correct | 0.9655172413793104 | roman-parthian war of 58–63 | roman – parthian war of 58–63 | ['what', 'entity', 'was', 'involved', 'in', 'the', 'roman', '–', 'parthian', 'war', 'of', '58–63'] |\n",
    "| 1 | Correct | 0.8333333333333334 | mecca | meccas | ['what', 'is', 'the', 'name', 'for', 'meccas', 'canonical', 'version'] |\n",
    "| 2 | Correct | 0.9310344827586207 | assassin's creed: revelations | assassins creed : revelations | ['what', 'kind', 'of', 'game', 'is', 'assassins', 'creed', ':', 'revelations'] | \n",
    "| 3 | Correct | 0.9285714285714286 | lim, hyung joo | lim hyung joo | ['what', 'kind', 'of', 'music', 'does', 'lim', 'hyung', 'joo', 'do'] |\n",
    "| 4 | Correct | 0.9444444444444444 | this pud's for you | this puds for you | ['what', 'is', 'the', 'series', 'where', 'the', 'episode', 'this', 'puds', 'for', 'you', 'comes', 'from'] |\n",
    "| 5 | Other | 0.6666666666666666 | t-town | town | ['what', 'newspaper', 'circulates', 'in', 'the', 'town', 'of', 'kearny'] |\n",
    "| 6 | Correct | 0.9259259259259259 | who want's to live forever? | who wants to live forever | ['who', 'is', 'the', 'producer', 'of', 'who', 'wants', 'to', 'live', 'forever'] |\n",
    "| 7 | Correct | 0.9166666666666666 | paranoia: 1.0 | paranoia 10 | ['which', 'language', 'is', 'paranoia', '1.0', 'filmed', 'in', '?'] |\n",
    "| 8 | Correct | 0.8571428571428571 | ¡three amigos! | three amigos | ['who', 'did', 'the', 'music', 'for', 'three', 'amigos'] |\n",
    "| 9 | Correct  | 0.9545454545454546 | mexican-american war | mexican – american war | ['who', 'was', 'involved', 'in', 'mexican', '–', 'american', 'war'] |\n",
    "| 10 | Correct | 0.9722222222222222 | the best of daniel o'donnell on film | the best of daniel odonnell on film | ['what', 'kind', 'of', 'music', 'is', 'the', 'film', 'the', 'best', 'of', 'daniel', 'odonnell', 'on', 'film', 'about', '?'] |\n",
    "| 11 | Correct | 0.9333333333333333 | philip pullman | phillip pullman | ['what', 'works', 'written', 'by', 'phillip', 'pullman', '?'] |\n",
    "| 12 | Correct | 0.975 | harry potter and the philosopher's stone | harry potter and the philosophers stone | ['what', 'genre', 'is', 'harry', 'potter', 'and', 'the', 'philosophers', 'stone'] |\n",
    "| 13 | Correct | 0.95 | .977 the '80s channel | 977 the 80s channel | ['which', 'soul', 'artist', 'is', 'featured', 'on', 'the', '.977', 'the', '80s', 'channel'] |\n",
    "| 14 | Correct | 0.9166666666666666 | kim hee-chul | kim heechul | ['which', 'city', 'is', 'kim', 'heechul', 'from'] |\n",
    "| 15 | Correct | 0.9772727272727273 | intégrale, volume 2: the guitar don't lie | integrale , volume 2 : the guitar do nt lie | ['what', \"'s\", 'a', 'song', 'released', 'on', 'integrale', ',', 'volume', '2', ':', 'the', 'guitar', 'do', 'nt', 'lie'] |\n",
    "| 16 | Correct | 0.9615384615384616 | bill & ted's bogus journey | bill & teds bogus journey | ['what', 'foreign', 'language', 'is', 'an', 'option', 'for', 'the', 'film', 'bill', '&', 'teds', 'bogus', 'journey'] |\n",
    "| 17 | Correct | 0.8846153846153846 | single-player video game | single - player mode game | ['what', 'is', 'a', 'single', '-', 'player', 'mode', 'game', '?'] |\n",
    "| 18 | Correct | 0.9473684210526315 | eve's beach fantasy | eves beach fantasy | ['what', 'language', 'is', 'spoken', 'in', 'eves', 'beach', 'fantasy'] |\n",
    "| 19 | Correct | 0.9473684210526315 | live in denmark '72 | live in denmark 72 | ['what', 'are', 'songs', 'of', 'the', 'live', 'in', 'denmark', '72', 'album'] |\n",
    "| 20 | Correct | 0.9230769230769231 | bonnie's kids | bonnies kids | ['what', 'is', 'the', 'genre', 'of', 'the', 'film', 'bonnies', 'kids', '?'] |\n",
    "| 21 | Correct | 0.9166666666666666 | men's badminton, singles | mens badminton , singles | ['what', 'olympic', 'games', 'was', 'mens', 'badminton', ',', 'singles', 'apart', 'of'] |\n",
    "| 22 | Correct | 0.8571428571428571 | germans | german | ['who', 'is', 'german', '?'] |\n",
    "| 23 | Correct | 0.9444444444444444 | action-adventure | action / adventure | ['what', 'is', 'an', 'action', '/', 'adventure', 'netflix', 'title'] |\n",
    "| 24 | Correct | 0.9 | love's labour's lost | loves labours lost | ['who', 'produced', 'the', 'film', 'loves', 'labours', 'lost'] |\n",
    "| 25 | Correct | 0.9565217391304348 | rogers-o'daniel house | rogers - odaniel house | ['what', 'county', 'is', 'rogers', '-', 'odaniel', 'house', 'apart', 'of'] |\n",
    "| 26 | Correct | 0.9285714285714286 | curtis pulley | curtis pulleys | ['what', 's', 'curtis', 'pulleys', 'profession'] |\n",
    "| 27 | Correct | 0.9743589743589743 | manos hajidakis - eidolo ston kathrefti | manos hajidakis : eidolo ston kathrefti | ['what', 'country', 'is', 'manos', 'hajidakis', ':', 'eidolo', 'ston', 'kathrefti', 'from'] |\n",
    "| 28 | Correct | 0.9 | supernews! | supernews | ['what', 'genre', 'of', 'program', 'is', 'supernews'] |\n",
    "| 29 | Correct | 0.9375 | showgirls 2: penny's from heaven | showgirls 2 : pennys from heaven | ['what', 'language', 'is', 'showgirls', '2', ':', 'pennys', 'from', 'heaven', 'in', '?'] |\n",
    "| 30 | Correct | 0.9230769230769231 | pop rock 80's | pop rock 80s | ['what', 'artists', 'broadcast', \"'s\", 'pop', 'rock', '80s', 'music'] |\n",
    "| 31 | Correct | 0.7777777777777778 | macedonia | macedon | ['what', 'invasions', 'happened', 'in', 'macedon'] |\n",
    "| 32 | Correct | 0.9565217391304348 | mockingbird don't sing | mockingbird do nt sing | ['what', 'kind', 'of', 'film', 'is', 'mockingbird', 'do', 'nt', 'sing'] |\n",
    "| 33 | Correct | 0.9285714285714286 | zalman shazar | zalman shazars | ['what', 'is', 'zalman', 'shazars', 'area', 'of', 'activism'] |\n",
    "| 34 | Correct | 0.9696969696969697 | atomic - the very best of blondie | atomic : the very best of blondie | ['what', 'type', 'of', 'release', 'is', 'atomic', ':', 'the', 'very', 'best', 'of', 'blondie', '?'] |\n",
    "| 35 | Correct | 0.8333333333333334 | album | albums | ['what', 'albums', 'were', 'released', 'in', '2000', '?'] |\n",
    "| 36 | Correct | 0.9 | zeke's pad | zekes pad | ['is', 'zekes', 'pad', 'an', 'action', ',', 'romance', ',', 'or', 'comedy', 'tv', 'program'] |\n",
    "| 37 | Correct | 0.9565217391304348 | raffi's christmas album | raffis christmas album | ['what', 'kind', 'of', 'album', 'is', 'raffis', 'christmas', 'album'] |\n",
    "| 38 | Correct | 0.8928571428571429 | u.s. office of war information | office of war information | ['which', 'film', 'did', 'the', 'office', 'of', 'war', 'information', 'help', 'produce'] |\n",
    "| 39 | Correct | 0.967741935483871 | phillipa lord: she's the shit | phillipa lord : she s the shit | ['which', 'country', 'released', 'phillipa', 'lord', ':', 'she', 's', 'the', 'shit'] |\n",
    "| 40 | Correct | 0.875 | pillows & prayers: cherry red 1982–1983 | pillows & prayers : cherry red 1982 | ['what', 'is', 'the', 'name', 'of', 'the', 'track', 'list', 'for', 'the', 'release', 'pillows', '&', 'prayers', ':', 'cherry', 'red', '1982', '-', '1983', '?'] |\n",
    "| 41 | Correct | 0.9375 | wichita [kansas | wichita , kansas | ['who', 'was', 'born', 'in', 'wichita', ',', 'kansas'] |\n",
    "| 42 | Correct | 0.8636363636363636 | victoria, australia | victoria ( australia ) | ['which', 'places', 'are', 'located', 'in', 'victoria', '(', 'australia', ')', '?'] |\n",
    "| 43 | Correct | 0.8666666666666667 | eat, pray, love | eat pray love | ['who', 'composed', 'the', 'music', 'for', 'eat', 'pray', 'love'] |\n",
    "| 44 | Correct | 0.8888888888888888 | lost (12\\\" inch version) | lost ( 12 inch version ) | ['what', 's', 'the', 'canonical', 'version', 'of', 'lost', '(', '12', 'inch', 'version', ')'] |\n",
    "| 45 | Correct | 0.8 | “you don’t dream in cryo. ....” | \" you do n't dream in cryo \" | ['what', 'artist', 'recorded', '\"', 'you', 'do', \"n't\", 'dream', 'in', 'cryo', '\"', '?'] |\n",
    "| 46 | Correct | 0.8 | drums | drum | ['which', 'musician', 'plays', 'the', 'drum', 'kit'] |\n",
    "| 47 | Correct | 0.75 | the crystal city | crystal city | ['what', 'genre', 'is', 'crystal', 'city'] |\n",
    "| 48 | Correct | 0.9130434782608695 | william e. mcanulty jr. | william e mcanulty , jr | ['what', 'is', 'william', 'e.', 'mcanulty', ',', 'jr', '.', \"'s\", 'gender'] |\n",
    "| 49 | Correct | 0.8571428571428571 | somalis | somali | ['who', \"'s\", 'somebody', 'that', 'identifies', 'with', 'the', 'somali', 'people'] |"
   ]
  },
  {
   "cell_type": "markdown",
   "metadata": {},
   "source": [
    "## Step 2 - Continued"
   ]
  },
  {
   "cell_type": "code",
   "execution_count": 8,
   "metadata": {},
   "outputs": [
    {
     "data": {
      "application/vnd.jupyter.widget-view+json": {
       "model_id": "d1b04d7c29b646c495b6f869be1bb61d",
       "version_major": 2,
       "version_minor": 0
      },
      "text/plain": [
       "HBox(children=(IntProgress(value=0, max=75910), HTML(value='')))"
      ]
     },
     "metadata": {},
     "output_type": "display_data"
    },
    {
     "name": "stdout",
     "output_type": "stream",
     "text": [
      "\n"
     ]
    },
    {
     "ename": "AttributeError",
     "evalue": "'LazyConfigValue' object has no attribute 'lower'",
     "output_type": "error",
     "traceback": [
      "\u001b[0;31m---------------------------------------------------------------------------\u001b[0m",
      "\u001b[0;31mAttributeError\u001b[0m                            Traceback (most recent call last)",
      "\u001b[0;32m/mount/arbeitsdaten46/projekte/dialog-1/kanjurva/Simple-QA-EMNLP-2018/env/lib/python3.6/site-packages/IPython/core/formatters.py\u001b[0m in \u001b[0;36m__call__\u001b[0;34m(self, obj)\u001b[0m\n\u001b[1;32m    343\u001b[0m             \u001b[0mmethod\u001b[0m \u001b[0;34m=\u001b[0m \u001b[0mget_real_method\u001b[0m\u001b[0;34m(\u001b[0m\u001b[0mobj\u001b[0m\u001b[0;34m,\u001b[0m \u001b[0mself\u001b[0m\u001b[0;34m.\u001b[0m\u001b[0mprint_method\u001b[0m\u001b[0;34m)\u001b[0m\u001b[0;34m\u001b[0m\u001b[0;34m\u001b[0m\u001b[0m\n\u001b[1;32m    344\u001b[0m             \u001b[0;32mif\u001b[0m \u001b[0mmethod\u001b[0m \u001b[0;32mis\u001b[0m \u001b[0;32mnot\u001b[0m \u001b[0;32mNone\u001b[0m\u001b[0;34m:\u001b[0m\u001b[0;34m\u001b[0m\u001b[0;34m\u001b[0m\u001b[0m\n\u001b[0;32m--> 345\u001b[0;31m                 \u001b[0;32mreturn\u001b[0m \u001b[0mmethod\u001b[0m\u001b[0;34m(\u001b[0m\u001b[0;34m)\u001b[0m\u001b[0;34m\u001b[0m\u001b[0;34m\u001b[0m\u001b[0m\n\u001b[0m\u001b[1;32m    346\u001b[0m             \u001b[0;32mreturn\u001b[0m \u001b[0;32mNone\u001b[0m\u001b[0;34m\u001b[0m\u001b[0;34m\u001b[0m\u001b[0m\n\u001b[1;32m    347\u001b[0m         \u001b[0;32melse\u001b[0m\u001b[0;34m:\u001b[0m\u001b[0;34m\u001b[0m\u001b[0;34m\u001b[0m\u001b[0m\n",
      "\u001b[0;32m/mount/arbeitsdaten46/projekte/dialog-1/kanjurva/Simple-QA-EMNLP-2018/env/lib/python3.6/site-packages/pandas/core/frame.py\u001b[0m in \u001b[0;36m_repr_html_\u001b[0;34m(self)\u001b[0m\n\u001b[1;32m    647\u001b[0m         \u001b[0;31m# display HTML, so this check can be removed when support for\u001b[0m\u001b[0;34m\u001b[0m\u001b[0;34m\u001b[0m\u001b[0;34m\u001b[0m\u001b[0m\n\u001b[1;32m    648\u001b[0m         \u001b[0;31m# IPython 2.x is no longer needed.\u001b[0m\u001b[0;34m\u001b[0m\u001b[0;34m\u001b[0m\u001b[0;34m\u001b[0m\u001b[0m\n\u001b[0;32m--> 649\u001b[0;31m         \u001b[0;32mif\u001b[0m \u001b[0mconsole\u001b[0m\u001b[0;34m.\u001b[0m\u001b[0min_qtconsole\u001b[0m\u001b[0;34m(\u001b[0m\u001b[0;34m)\u001b[0m\u001b[0;34m:\u001b[0m\u001b[0;34m\u001b[0m\u001b[0;34m\u001b[0m\u001b[0m\n\u001b[0m\u001b[1;32m    650\u001b[0m             \u001b[0;31m# 'HTML output is disabled in QtConsole'\u001b[0m\u001b[0;34m\u001b[0m\u001b[0;34m\u001b[0m\u001b[0;34m\u001b[0m\u001b[0m\n\u001b[1;32m    651\u001b[0m             \u001b[0;32mreturn\u001b[0m \u001b[0;32mNone\u001b[0m\u001b[0;34m\u001b[0m\u001b[0;34m\u001b[0m\u001b[0m\n",
      "\u001b[0;32m/mount/arbeitsdaten46/projekte/dialog-1/kanjurva/Simple-QA-EMNLP-2018/env/lib/python3.6/site-packages/pandas/io/formats/console.py\u001b[0m in \u001b[0;36min_qtconsole\u001b[0;34m()\u001b[0m\n\u001b[1;32m    121\u001b[0m             \u001b[0mip\u001b[0m\u001b[0;34m.\u001b[0m\u001b[0mconfig\u001b[0m\u001b[0;34m.\u001b[0m\u001b[0mget\u001b[0m\u001b[0;34m(\u001b[0m\u001b[0;34m'KernelApp'\u001b[0m\u001b[0;34m,\u001b[0m \u001b[0;34m{\u001b[0m\u001b[0;34m}\u001b[0m\u001b[0;34m)\u001b[0m\u001b[0;34m.\u001b[0m\u001b[0mget\u001b[0m\u001b[0;34m(\u001b[0m\u001b[0;34m'parent_appname'\u001b[0m\u001b[0;34m,\u001b[0m \u001b[0;34m\"\"\u001b[0m\u001b[0;34m)\u001b[0m \u001b[0;32mor\u001b[0m\u001b[0;34m\u001b[0m\u001b[0;34m\u001b[0m\u001b[0m\n\u001b[1;32m    122\u001b[0m             ip.config.get('IPKernelApp', {}).get('parent_appname', \"\"))\n\u001b[0;32m--> 123\u001b[0;31m         \u001b[0;32mif\u001b[0m \u001b[0;34m'qtconsole'\u001b[0m \u001b[0;32min\u001b[0m \u001b[0mfront_end\u001b[0m\u001b[0;34m.\u001b[0m\u001b[0mlower\u001b[0m\u001b[0;34m(\u001b[0m\u001b[0;34m)\u001b[0m\u001b[0;34m:\u001b[0m\u001b[0;34m\u001b[0m\u001b[0;34m\u001b[0m\u001b[0m\n\u001b[0m\u001b[1;32m    124\u001b[0m             \u001b[0;32mreturn\u001b[0m \u001b[0;32mTrue\u001b[0m\u001b[0;34m\u001b[0m\u001b[0;34m\u001b[0m\u001b[0m\n\u001b[1;32m    125\u001b[0m     \u001b[0;32mexcept\u001b[0m \u001b[0mNameError\u001b[0m\u001b[0;34m:\u001b[0m\u001b[0;34m\u001b[0m\u001b[0;34m\u001b[0m\u001b[0m\n",
      "\u001b[0;31mAttributeError\u001b[0m: 'LazyConfigValue' object has no attribute 'lower'"
     ]
    },
    {
     "data": {
      "text/plain": [
       "   end_index   object                                           question  \\\n",
       "0        5.0   01cj3p                           what is the book e about   \n",
       "1        9.0  0sjc7c1  to what release does the release track cardiac...   \n",
       "2        7.0    07ssc            what country was the film the debt from   \n",
       "3        5.0   0p600l            what songs have nobuo uematsu produced?   \n",
       "4        5.0   0677ng                          Who produced eve-olution?   \n",
       "\n",
       "                                     question_tokens  \\\n",
       "0                    [what, is, the, book, e, about]   \n",
       "1  [to, what, release, does, the, release, track,...   \n",
       "2   [what, country, was, the, film, the, debt, from]   \n",
       "3   [what, songs, have, nobuo, uematsu, produced, ?]   \n",
       "4                [who, produced, eve, -, olution, ?]   \n",
       "\n",
       "                         relation  start_index  subject    subject_name  \\\n",
       "0      book/written_work/subjects          4.0  04whkz5               e   \n",
       "1     music/release_track/release          7.0  0tp2p24  cardiac arrest   \n",
       "2               film/film/country          5.0  04j0t75        the debt   \n",
       "3  music/producer/tracks_produced          3.0    0ftqr   nobuo uematsu   \n",
       "4         music/release/producers          2.0  036p007     eve-olution   \n",
       "\n",
       "  subject_name_tokens  \n",
       "0                (e,)  \n",
       "1   (cardiac, arrest)  \n",
       "2         (the, debt)  \n",
       "3    (nobuo, uematsu)  \n",
       "4   (eve, -, olution)  "
      ]
     },
     "metadata": {},
     "output_type": "display_data"
    }
   ],
   "source": [
    "df_train = df_train.progress_apply(find_subject_name_span, axis=1)\n",
    "display(df_train[:5])"
   ]
  },
  {
   "cell_type": "markdown",
   "metadata": {},
   "source": [
    "## Step 3 - Format Examples"
   ]
  },
  {
   "cell_type": "code",
   "execution_count": 9,
   "metadata": {},
   "outputs": [
    {
     "data": {
      "application/vnd.jupyter.widget-view+json": {
       "model_id": "fe789012db9242b8ae8d50286f6cca8e",
       "version_major": 2,
       "version_minor": 0
      },
      "text/plain": [
       "HBox(children=(IntProgress(value=0, max=75910), HTML(value='')))"
      ]
     },
     "metadata": {},
     "output_type": "display_data"
    },
    {
     "name": "stdout",
     "output_type": "stream",
     "text": [
      "\n",
      "Train:\n",
      "['what/O is/O the/O book/O e/I about/O', 'to/O what/O release/O does/O the/O release/O track/O cardiac/I arrest/I come/O from/O', 'what/O country/O was/O the/O film/O the/I debt/I from/O', 'what/O songs/O have/O nobuo/I uematsu/I produced/O ?/O', 'who/O produced/O eve/I -/I olution/I ?/O']\n"
     ]
    },
    {
     "data": {
      "application/vnd.jupyter.widget-view+json": {
       "model_id": "233d9205d3294ead9d6a927bd23a2c27",
       "version_major": 2,
       "version_minor": 0
      },
      "text/plain": [
       "HBox(children=(IntProgress(value=0, max=10845), HTML(value='')))"
      ]
     },
     "metadata": {},
     "output_type": "display_data"
    },
    {
     "name": "stdout",
     "output_type": "stream",
     "text": [
      "\n",
      "Dev:\n",
      "['who/O was/O the/O trump/I ocean/I club/I international/I hotel/I and/I tower/I named/O after/O', 'where/O was/O sasha/I vujacic/I born/O', 'what/O is/O a/O region/O that/O dead/I combo/I was/O released/O in/O', 'what/O is/O a/O film/O directed/O by/O wiebke/I von/I carolsfeld/I ?/O', 'what/O country/O was/O music/I for/I stock/I exchange/I released/O in/O']\n"
     ]
    }
   ],
   "source": [
    "from tqdm import tqdm_notebook\n",
    "\n",
    "\n",
    "def get_formatted_examples(df):\n",
    "    examples = []\n",
    "    for index, row in tqdm_notebook(df.iterrows(), total=df.shape[0]):\n",
    "        if not isinstance(row['subject_name'], str):\n",
    "            continue\n",
    "\n",
    "        ret =  ''\n",
    "        for i, token in enumerate(row['question_tokens']):\n",
    "            ret += token\n",
    "            if i >= row['start_index'] and i < row['end_index']:\n",
    "                ret += '/I '\n",
    "            else:\n",
    "                ret += '/O ' # IO – Inside Outside tagging schema\n",
    "        examples.append(ret.strip())\n",
    "    return examples\n",
    "\n",
    "train_examples = get_formatted_examples(df_train)\n",
    "print('Train:')\n",
    "print(train_examples[:5])\n",
    "dev_examples = get_formatted_examples(df_dev)\n",
    "print('Dev:')\n",
    "print(dev_examples[:5])"
   ]
  },
  {
   "cell_type": "markdown",
   "metadata": {},
   "source": [
    "## Step 4 - Write"
   ]
  },
  {
   "cell_type": "code",
   "execution_count": 11,
   "metadata": {},
   "outputs": [
    {
     "data": {
      "text/plain": [
       "633151"
      ]
     },
     "execution_count": 11,
     "metadata": {},
     "output_type": "execute_result"
    }
   ],
   "source": [
    "file_ = open(DEST_TRAIN, 'w')\n",
    "file_.write('\\n'.join(train_examples))"
   ]
  },
  {
   "cell_type": "code",
   "execution_count": 12,
   "metadata": {},
   "outputs": [
    {
     "data": {
      "text/plain": [
       "633151"
      ]
     },
     "execution_count": 12,
     "metadata": {},
     "output_type": "execute_result"
    }
   ],
   "source": [
    "file_ = open(DEST_DEV, 'w')\n",
    "file_.write('\\n'.join(dev_examples))"
   ]
  },
  {
   "cell_type": "code",
   "execution_count": null,
   "metadata": {},
   "outputs": [],
   "source": []
  }
 ],
 "metadata": {
  "kernelspec": {
   "display_name": "Python 3",
   "language": "python",
   "name": "python3"
  },
  "language_info": {
   "codemirror_mode": {
    "name": "ipython",
    "version": 3
   },
   "file_extension": ".py",
   "mimetype": "text/x-python",
   "name": "python",
   "nbconvert_exporter": "python",
   "pygments_lexer": "ipython3",
   "version": "3.6.12"
  }
 },
 "nbformat": 4,
 "nbformat_minor": 2
}
