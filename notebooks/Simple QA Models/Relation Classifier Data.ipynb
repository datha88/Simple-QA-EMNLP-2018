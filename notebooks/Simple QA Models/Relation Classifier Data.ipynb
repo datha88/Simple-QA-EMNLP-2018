{
 "cells": [
  {
   "cell_type": "markdown",
   "metadata": {},
   "source": [
    "# Relation Classifier Data\n",
    "\n",
    "The goal of this notebook is to create training examples for the relation classifier.\n",
    "\n",
    "Simple Questions already provides such data but here we do extra preprocessing. The preprocessing we do is to replace the entity with <e>. This is important because given the entity name the model will learn that some entities map to some relations more often. \n",
    "    \n",
    "This is true but that can be more accurately determined by measuring the bias in FB2M / FB5M. We can simply count the number of relations a particular subject maps too. "
   ]
  },
  {
   "cell_type": "code",
   "execution_count": 1,
   "metadata": {},
   "outputs": [
    {
     "data": {
      "application/vnd.jupyter.widget-view+json": {
       "model_id": "1e50c4d137f94576b13a6399ffb27683",
       "version_major": 2,
       "version_minor": 0
      },
      "text/plain": [
       "HBox(children=(IntProgress(value=1, bar_style='info', max=1), HTML(value='')))"
      ]
     },
     "metadata": {},
     "output_type": "display_data"
    },
    {
     "name": "stdout",
     "output_type": "stream",
     "text": [
      "\n"
     ]
    }
   ],
   "source": [
    "import sys\n",
    "sys.path.insert(0, '../../')\n",
    "import pandas as pd\n",
    "from tqdm import tqdm_notebook\n",
    "import lib.import_notebook\n",
    "from lib.utils import get_connection \n",
    "\n",
    "tqdm_notebook().pandas()\n",
    "\n",
    "connection = get_connection()\n",
    "cursor = connection.cursor()"
   ]
  },
  {
   "cell_type": "code",
   "execution_count": 2,
   "metadata": {},
   "outputs": [
    {
     "name": "stderr",
     "output_type": "stream",
     "text": [
      "../../lib/simple_qa.py:36: FutureWarning: read_table is deprecated, use read_csv instead, passing sep='\\t'.\n",
      "  filename, header=None, names=['subject', 'relation', 'object', 'question'])\n"
     ]
    },
    {
     "name": "stdout",
     "output_type": "stream",
     "text": [
      "Dev:\n"
     ]
    },
    {
     "data": {
      "text/html": [
       "<div>\n",
       "<style scoped>\n",
       "    .dataframe tbody tr th:only-of-type {\n",
       "        vertical-align: middle;\n",
       "    }\n",
       "\n",
       "    .dataframe tbody tr th {\n",
       "        vertical-align: top;\n",
       "    }\n",
       "\n",
       "    .dataframe thead th {\n",
       "        text-align: right;\n",
       "    }\n",
       "</style>\n",
       "<table border=\"1\" class=\"dataframe\">\n",
       "  <thead>\n",
       "    <tr style=\"text-align: right;\">\n",
       "      <th></th>\n",
       "      <th>subject</th>\n",
       "      <th>relation</th>\n",
       "      <th>object</th>\n",
       "      <th>question</th>\n",
       "    </tr>\n",
       "  </thead>\n",
       "  <tbody>\n",
       "    <tr>\n",
       "      <th>0</th>\n",
       "      <td>0f3xg_</td>\n",
       "      <td>symbols/namesake/named_after</td>\n",
       "      <td>0cqt90</td>\n",
       "      <td>Who was the trump ocean club international hot...</td>\n",
       "    </tr>\n",
       "    <tr>\n",
       "      <th>1</th>\n",
       "      <td>07f3jg</td>\n",
       "      <td>people/person/place_of_birth</td>\n",
       "      <td>0565d</td>\n",
       "      <td>where was sasha vujačić born</td>\n",
       "    </tr>\n",
       "    <tr>\n",
       "      <th>2</th>\n",
       "      <td>031j8nn</td>\n",
       "      <td>music/release/region</td>\n",
       "      <td>07ssc</td>\n",
       "      <td>What is a region that dead combo was released in</td>\n",
       "    </tr>\n",
       "    <tr>\n",
       "      <th>3</th>\n",
       "      <td>0c1cyhd</td>\n",
       "      <td>film/director/film</td>\n",
       "      <td>0wxsz5y</td>\n",
       "      <td>What is a film directed by wiebke von carolsfeld?</td>\n",
       "    </tr>\n",
       "    <tr>\n",
       "      <th>4</th>\n",
       "      <td>0fvhc0g</td>\n",
       "      <td>music/release/region</td>\n",
       "      <td>0345h</td>\n",
       "      <td>what country was music for stock exchange  rel...</td>\n",
       "    </tr>\n",
       "  </tbody>\n",
       "</table>\n",
       "</div>"
      ],
      "text/plain": [
       "   subject                      relation   object  \\\n",
       "0   0f3xg_  symbols/namesake/named_after   0cqt90   \n",
       "1   07f3jg  people/person/place_of_birth    0565d   \n",
       "2  031j8nn          music/release/region    07ssc   \n",
       "3  0c1cyhd            film/director/film  0wxsz5y   \n",
       "4  0fvhc0g          music/release/region    0345h   \n",
       "\n",
       "                                            question  \n",
       "0  Who was the trump ocean club international hot...  \n",
       "1                       where was sasha vujačić born  \n",
       "2   What is a region that dead combo was released in  \n",
       "3  What is a film directed by wiebke von carolsfeld?  \n",
       "4  what country was music for stock exchange  rel...  "
      ]
     },
     "metadata": {},
     "output_type": "display_data"
    },
    {
     "name": "stdout",
     "output_type": "stream",
     "text": [
      "Train:\n"
     ]
    },
    {
     "data": {
      "text/html": [
       "<div>\n",
       "<style scoped>\n",
       "    .dataframe tbody tr th:only-of-type {\n",
       "        vertical-align: middle;\n",
       "    }\n",
       "\n",
       "    .dataframe tbody tr th {\n",
       "        vertical-align: top;\n",
       "    }\n",
       "\n",
       "    .dataframe thead th {\n",
       "        text-align: right;\n",
       "    }\n",
       "</style>\n",
       "<table border=\"1\" class=\"dataframe\">\n",
       "  <thead>\n",
       "    <tr style=\"text-align: right;\">\n",
       "      <th></th>\n",
       "      <th>subject</th>\n",
       "      <th>relation</th>\n",
       "      <th>object</th>\n",
       "      <th>question</th>\n",
       "    </tr>\n",
       "  </thead>\n",
       "  <tbody>\n",
       "    <tr>\n",
       "      <th>0</th>\n",
       "      <td>04whkz5</td>\n",
       "      <td>book/written_work/subjects</td>\n",
       "      <td>01cj3p</td>\n",
       "      <td>what is the book e about</td>\n",
       "    </tr>\n",
       "    <tr>\n",
       "      <th>1</th>\n",
       "      <td>0tp2p24</td>\n",
       "      <td>music/release_track/release</td>\n",
       "      <td>0sjc7c1</td>\n",
       "      <td>to what release does the release track cardiac...</td>\n",
       "    </tr>\n",
       "    <tr>\n",
       "      <th>2</th>\n",
       "      <td>04j0t75</td>\n",
       "      <td>film/film/country</td>\n",
       "      <td>07ssc</td>\n",
       "      <td>what country was the film the debt from</td>\n",
       "    </tr>\n",
       "    <tr>\n",
       "      <th>3</th>\n",
       "      <td>0ftqr</td>\n",
       "      <td>music/producer/tracks_produced</td>\n",
       "      <td>0p600l</td>\n",
       "      <td>what songs have nobuo uematsu produced?</td>\n",
       "    </tr>\n",
       "    <tr>\n",
       "      <th>4</th>\n",
       "      <td>036p007</td>\n",
       "      <td>music/release/producers</td>\n",
       "      <td>0677ng</td>\n",
       "      <td>Who produced eve-olution?</td>\n",
       "    </tr>\n",
       "  </tbody>\n",
       "</table>\n",
       "</div>"
      ],
      "text/plain": [
       "   subject                        relation   object  \\\n",
       "0  04whkz5      book/written_work/subjects   01cj3p   \n",
       "1  0tp2p24     music/release_track/release  0sjc7c1   \n",
       "2  04j0t75               film/film/country    07ssc   \n",
       "3    0ftqr  music/producer/tracks_produced   0p600l   \n",
       "4  036p007         music/release/producers   0677ng   \n",
       "\n",
       "                                            question  \n",
       "0                           what is the book e about  \n",
       "1  to what release does the release track cardiac...  \n",
       "2            what country was the film the debt from  \n",
       "3            what songs have nobuo uematsu produced?  \n",
       "4                          Who produced eve-olution?  "
      ]
     },
     "metadata": {},
     "output_type": "display_data"
    }
   ],
   "source": [
    "from lib.simple_qa import load_simple_qa \n",
    "\n",
    "# Destination Filename\n",
    "DEST_TRAIN = './../../data/relation_classifier/train.txt'\n",
    "DEST_DEV = './../../data/relation_classifier/dev.txt'\n",
    "\n",
    "df_dev, = load_simple_qa(dev=True)\n",
    "print('Dev:')\n",
    "display(df_dev[:5])\n",
    "df_train, = load_simple_qa(train=True)\n",
    "print('Train:')\n",
    "display(df_train[:5])"
   ]
  },
  {
   "cell_type": "markdown",
   "metadata": {},
   "source": [
    "## Step 1 - Link Question to Subject Name"
   ]
  },
  {
   "cell_type": "code",
   "execution_count": 3,
   "metadata": {},
   "outputs": [
    {
     "name": "stdout",
     "output_type": "stream",
     "text": [
      "importing Jupyter notebook from ../../notebooks/Simple QA Numbers/HYPOTHESIS - Question Refers to Multiple Subjects.ipynb\n",
      "importing Jupyter notebook from ../../notebooks/Simple QA Numbers/HYPOTHESIS - Subject Name not in Question.ipynb\n"
     ]
    },
    {
     "data": {
      "application/vnd.jupyter.widget-view+json": {
       "model_id": "a538d295d8ed47a795d2908eeabca153",
       "version_major": 2,
       "version_minor": 0
      },
      "text/plain": [
       "HBox(children=(IntProgress(value=0, max=10845), HTML(value='')))"
      ]
     },
     "metadata": {},
     "output_type": "display_data"
    },
    {
     "name": "stdout",
     "output_type": "stream",
     "text": [
      "\n",
      "Dev Linked 10648 examples\n"
     ]
    },
    {
     "data": {
      "text/html": [
       "<div>\n",
       "<style scoped>\n",
       "    .dataframe tbody tr th:only-of-type {\n",
       "        vertical-align: middle;\n",
       "    }\n",
       "\n",
       "    .dataframe tbody tr th {\n",
       "        vertical-align: top;\n",
       "    }\n",
       "\n",
       "    .dataframe thead th {\n",
       "        text-align: right;\n",
       "    }\n",
       "</style>\n",
       "<table border=\"1\" class=\"dataframe\">\n",
       "  <thead>\n",
       "    <tr style=\"text-align: right;\">\n",
       "      <th></th>\n",
       "      <th>subject</th>\n",
       "      <th>relation</th>\n",
       "      <th>object</th>\n",
       "      <th>question</th>\n",
       "      <th>subject_name</th>\n",
       "    </tr>\n",
       "  </thead>\n",
       "  <tbody>\n",
       "    <tr>\n",
       "      <th>0</th>\n",
       "      <td>0f3xg_</td>\n",
       "      <td>symbols/namesake/named_after</td>\n",
       "      <td>0cqt90</td>\n",
       "      <td>Who was the trump ocean club international hot...</td>\n",
       "      <td>trump ocean club international hotel and tower</td>\n",
       "    </tr>\n",
       "    <tr>\n",
       "      <th>1</th>\n",
       "      <td>07f3jg</td>\n",
       "      <td>people/person/place_of_birth</td>\n",
       "      <td>0565d</td>\n",
       "      <td>where was sasha vujačić born</td>\n",
       "      <td>sasha vujacic</td>\n",
       "    </tr>\n",
       "    <tr>\n",
       "      <th>2</th>\n",
       "      <td>031j8nn</td>\n",
       "      <td>music/release/region</td>\n",
       "      <td>07ssc</td>\n",
       "      <td>What is a region that dead combo was released in</td>\n",
       "      <td>dead combo</td>\n",
       "    </tr>\n",
       "    <tr>\n",
       "      <th>3</th>\n",
       "      <td>0c1cyhd</td>\n",
       "      <td>film/director/film</td>\n",
       "      <td>0wxsz5y</td>\n",
       "      <td>What is a film directed by wiebke von carolsfeld?</td>\n",
       "      <td>wiebke von carolsfeld</td>\n",
       "    </tr>\n",
       "    <tr>\n",
       "      <th>4</th>\n",
       "      <td>0fvhc0g</td>\n",
       "      <td>music/release/region</td>\n",
       "      <td>0345h</td>\n",
       "      <td>what country was music for stock exchange  rel...</td>\n",
       "      <td>music for stock exchange</td>\n",
       "    </tr>\n",
       "  </tbody>\n",
       "</table>\n",
       "</div>"
      ],
      "text/plain": [
       "   subject                      relation   object  \\\n",
       "0   0f3xg_  symbols/namesake/named_after   0cqt90   \n",
       "1   07f3jg  people/person/place_of_birth    0565d   \n",
       "2  031j8nn          music/release/region    07ssc   \n",
       "3  0c1cyhd            film/director/film  0wxsz5y   \n",
       "4  0fvhc0g          music/release/region    0345h   \n",
       "\n",
       "                                            question  \\\n",
       "0  Who was the trump ocean club international hot...   \n",
       "1                       where was sasha vujačić born   \n",
       "2   What is a region that dead combo was released in   \n",
       "3  What is a film directed by wiebke von carolsfeld?   \n",
       "4  what country was music for stock exchange  rel...   \n",
       "\n",
       "                                     subject_name  \n",
       "0  trump ocean club international hotel and tower  \n",
       "1                                   sasha vujacic  \n",
       "2                                      dead combo  \n",
       "3                           wiebke von carolsfeld  \n",
       "4                        music for stock exchange  "
      ]
     },
     "metadata": {},
     "output_type": "display_data"
    },
    {
     "data": {
      "application/vnd.jupyter.widget-view+json": {
       "model_id": "a9f2635d2b254502a456ad33190241a8",
       "version_major": 2,
       "version_minor": 0
      },
      "text/plain": [
       "HBox(children=(IntProgress(value=0, max=75910), HTML(value='')))"
      ]
     },
     "metadata": {},
     "output_type": "display_data"
    },
    {
     "name": "stdout",
     "output_type": "stream",
     "text": [
      "\n",
      "Train Linked 74520 examples\n"
     ]
    },
    {
     "data": {
      "text/html": [
       "<div>\n",
       "<style scoped>\n",
       "    .dataframe tbody tr th:only-of-type {\n",
       "        vertical-align: middle;\n",
       "    }\n",
       "\n",
       "    .dataframe tbody tr th {\n",
       "        vertical-align: top;\n",
       "    }\n",
       "\n",
       "    .dataframe thead th {\n",
       "        text-align: right;\n",
       "    }\n",
       "</style>\n",
       "<table border=\"1\" class=\"dataframe\">\n",
       "  <thead>\n",
       "    <tr style=\"text-align: right;\">\n",
       "      <th></th>\n",
       "      <th>subject</th>\n",
       "      <th>relation</th>\n",
       "      <th>object</th>\n",
       "      <th>question</th>\n",
       "      <th>subject_name</th>\n",
       "    </tr>\n",
       "  </thead>\n",
       "  <tbody>\n",
       "    <tr>\n",
       "      <th>0</th>\n",
       "      <td>04whkz5</td>\n",
       "      <td>book/written_work/subjects</td>\n",
       "      <td>01cj3p</td>\n",
       "      <td>what is the book e about</td>\n",
       "      <td>e</td>\n",
       "    </tr>\n",
       "    <tr>\n",
       "      <th>1</th>\n",
       "      <td>0tp2p24</td>\n",
       "      <td>music/release_track/release</td>\n",
       "      <td>0sjc7c1</td>\n",
       "      <td>to what release does the release track cardiac...</td>\n",
       "      <td>cardiac arrest</td>\n",
       "    </tr>\n",
       "    <tr>\n",
       "      <th>2</th>\n",
       "      <td>04j0t75</td>\n",
       "      <td>film/film/country</td>\n",
       "      <td>07ssc</td>\n",
       "      <td>what country was the film the debt from</td>\n",
       "      <td>the debt</td>\n",
       "    </tr>\n",
       "    <tr>\n",
       "      <th>3</th>\n",
       "      <td>0ftqr</td>\n",
       "      <td>music/producer/tracks_produced</td>\n",
       "      <td>0p600l</td>\n",
       "      <td>what songs have nobuo uematsu produced?</td>\n",
       "      <td>nobuo uematsu</td>\n",
       "    </tr>\n",
       "    <tr>\n",
       "      <th>4</th>\n",
       "      <td>036p007</td>\n",
       "      <td>music/release/producers</td>\n",
       "      <td>0677ng</td>\n",
       "      <td>Who produced eve-olution?</td>\n",
       "      <td>eve-olution</td>\n",
       "    </tr>\n",
       "  </tbody>\n",
       "</table>\n",
       "</div>"
      ],
      "text/plain": [
       "   subject                        relation   object  \\\n",
       "0  04whkz5      book/written_work/subjects   01cj3p   \n",
       "1  0tp2p24     music/release_track/release  0sjc7c1   \n",
       "2  04j0t75               film/film/country    07ssc   \n",
       "3    0ftqr  music/producer/tracks_produced   0p600l   \n",
       "4  036p007         music/release/producers   0677ng   \n",
       "\n",
       "                                            question    subject_name  \n",
       "0                           what is the book e about               e  \n",
       "1  to what release does the release track cardiac...  cardiac arrest  \n",
       "2            what country was the film the debt from        the debt  \n",
       "3            what songs have nobuo uematsu produced?   nobuo uematsu  \n",
       "4                          Who produced eve-olution?     eve-olution  "
      ]
     },
     "metadata": {},
     "output_type": "display_data"
    }
   ],
   "source": [
    "import importlib\n",
    "from functools import partial\n",
    "edit_distance_link_alias = importlib.import_module(\n",
    "                \"notebooks.Simple QA Numbers.HYPOTHESIS - Question Refers to Multiple Subjects\").edit_distance_link_alias\n",
    "normalize = importlib.import_module(\n",
    "                \"notebooks.Simple QA Numbers.HYPOTHESIS - Subject Name not in Question\").normalize\n",
    "\n",
    "# Create a column with the subject_name linked per example\n",
    "df_dev['subject_name'] = df_dev.progress_apply(partial(edit_distance_link_alias, cursor, normalize), axis=1)\n",
    "print('Dev Linked', sum(df_dev.subject_name.notnull()), 'examples')\n",
    "display(df_dev[:5])\n",
    "df_train['subject_name'] = df_train.progress_apply(partial(edit_distance_link_alias, cursor, normalize), axis=1)\n",
    "print('Train Linked', sum(df_train.subject_name.notnull()), 'examples')\n",
    "display(df_train[:5])"
   ]
  },
  {
   "cell_type": "markdown",
   "metadata": {},
   "source": [
    "## Step 2 - Determine the Span of the Subject Name"
   ]
  },
  {
   "cell_type": "code",
   "execution_count": 1,
   "metadata": {},
   "outputs": [
    {
     "ename": "ModuleNotFoundError",
     "evalue": "No module named 'notebooks'",
     "output_type": "error",
     "traceback": [
      "\u001b[0;31m---------------------------------------------------------------------------\u001b[0m",
      "\u001b[0;31mModuleNotFoundError\u001b[0m                       Traceback (most recent call last)",
      "\u001b[0;32m<ipython-input-1-1ce48dfd366b>\u001b[0m in \u001b[0;36m<module>\u001b[0;34m\u001b[0m\n\u001b[1;32m      1\u001b[0m \u001b[0;32mimport\u001b[0m \u001b[0mimportlib\u001b[0m\u001b[0;34m\u001b[0m\u001b[0;34m\u001b[0m\u001b[0m\n\u001b[1;32m      2\u001b[0m find_subject_name_span = importlib.import_module(\n\u001b[0;32m----> 3\u001b[0;31m                 \"notebooks.Simple QA Models.Subject Recognition Data\").find_subject_name_span\n\u001b[0m\u001b[1;32m      4\u001b[0m \u001b[0;34m\u001b[0m\u001b[0m\n\u001b[1;32m      5\u001b[0m \u001b[0;31m# Create a column with the subject_name linked per example\u001b[0m\u001b[0;34m\u001b[0m\u001b[0;34m\u001b[0m\u001b[0;34m\u001b[0m\u001b[0m\n",
      "\u001b[0;32m/mount/arbeitsdaten46/projekte/dialog-1/kanjurva/Simple-QA-EMNLP-2018/env/lib64/python3.6/importlib/__init__.py\u001b[0m in \u001b[0;36mimport_module\u001b[0;34m(name, package)\u001b[0m\n\u001b[1;32m    124\u001b[0m                 \u001b[0;32mbreak\u001b[0m\u001b[0;34m\u001b[0m\u001b[0;34m\u001b[0m\u001b[0m\n\u001b[1;32m    125\u001b[0m             \u001b[0mlevel\u001b[0m \u001b[0;34m+=\u001b[0m \u001b[0;36m1\u001b[0m\u001b[0;34m\u001b[0m\u001b[0;34m\u001b[0m\u001b[0m\n\u001b[0;32m--> 126\u001b[0;31m     \u001b[0;32mreturn\u001b[0m \u001b[0m_bootstrap\u001b[0m\u001b[0;34m.\u001b[0m\u001b[0m_gcd_import\u001b[0m\u001b[0;34m(\u001b[0m\u001b[0mname\u001b[0m\u001b[0;34m[\u001b[0m\u001b[0mlevel\u001b[0m\u001b[0;34m:\u001b[0m\u001b[0;34m]\u001b[0m\u001b[0;34m,\u001b[0m \u001b[0mpackage\u001b[0m\u001b[0;34m,\u001b[0m \u001b[0mlevel\u001b[0m\u001b[0;34m)\u001b[0m\u001b[0;34m\u001b[0m\u001b[0;34m\u001b[0m\u001b[0m\n\u001b[0m\u001b[1;32m    127\u001b[0m \u001b[0;34m\u001b[0m\u001b[0m\n\u001b[1;32m    128\u001b[0m \u001b[0;34m\u001b[0m\u001b[0m\n",
      "\u001b[0;32m/mount/arbeitsdaten46/projekte/dialog-1/kanjurva/Simple-QA-EMNLP-2018/env/lib64/python3.6/importlib/_bootstrap.py\u001b[0m in \u001b[0;36m_gcd_import\u001b[0;34m(name, package, level)\u001b[0m\n",
      "\u001b[0;32m/mount/arbeitsdaten46/projekte/dialog-1/kanjurva/Simple-QA-EMNLP-2018/env/lib64/python3.6/importlib/_bootstrap.py\u001b[0m in \u001b[0;36m_find_and_load\u001b[0;34m(name, import_)\u001b[0m\n",
      "\u001b[0;32m/mount/arbeitsdaten46/projekte/dialog-1/kanjurva/Simple-QA-EMNLP-2018/env/lib64/python3.6/importlib/_bootstrap.py\u001b[0m in \u001b[0;36m_find_and_load_unlocked\u001b[0;34m(name, import_)\u001b[0m\n",
      "\u001b[0;32m/mount/arbeitsdaten46/projekte/dialog-1/kanjurva/Simple-QA-EMNLP-2018/env/lib64/python3.6/importlib/_bootstrap.py\u001b[0m in \u001b[0;36m_call_with_frames_removed\u001b[0;34m(f, *args, **kwds)\u001b[0m\n",
      "\u001b[0;32m/mount/arbeitsdaten46/projekte/dialog-1/kanjurva/Simple-QA-EMNLP-2018/env/lib64/python3.6/importlib/_bootstrap.py\u001b[0m in \u001b[0;36m_gcd_import\u001b[0;34m(name, package, level)\u001b[0m\n",
      "\u001b[0;32m/mount/arbeitsdaten46/projekte/dialog-1/kanjurva/Simple-QA-EMNLP-2018/env/lib64/python3.6/importlib/_bootstrap.py\u001b[0m in \u001b[0;36m_find_and_load\u001b[0;34m(name, import_)\u001b[0m\n",
      "\u001b[0;32m/mount/arbeitsdaten46/projekte/dialog-1/kanjurva/Simple-QA-EMNLP-2018/env/lib64/python3.6/importlib/_bootstrap.py\u001b[0m in \u001b[0;36m_find_and_load_unlocked\u001b[0;34m(name, import_)\u001b[0m\n",
      "\u001b[0;32m/mount/arbeitsdaten46/projekte/dialog-1/kanjurva/Simple-QA-EMNLP-2018/env/lib64/python3.6/importlib/_bootstrap.py\u001b[0m in \u001b[0;36m_call_with_frames_removed\u001b[0;34m(f, *args, **kwds)\u001b[0m\n",
      "\u001b[0;32m/mount/arbeitsdaten46/projekte/dialog-1/kanjurva/Simple-QA-EMNLP-2018/env/lib64/python3.6/importlib/_bootstrap.py\u001b[0m in \u001b[0;36m_gcd_import\u001b[0;34m(name, package, level)\u001b[0m\n",
      "\u001b[0;32m/mount/arbeitsdaten46/projekte/dialog-1/kanjurva/Simple-QA-EMNLP-2018/env/lib64/python3.6/importlib/_bootstrap.py\u001b[0m in \u001b[0;36m_find_and_load\u001b[0;34m(name, import_)\u001b[0m\n",
      "\u001b[0;32m/mount/arbeitsdaten46/projekte/dialog-1/kanjurva/Simple-QA-EMNLP-2018/env/lib64/python3.6/importlib/_bootstrap.py\u001b[0m in \u001b[0;36m_find_and_load_unlocked\u001b[0;34m(name, import_)\u001b[0m\n",
      "\u001b[0;31mModuleNotFoundError\u001b[0m: No module named 'notebooks'"
     ]
    }
   ],
   "source": [
    "import importlib\n",
    "find_subject_name_span = importlib.import_module(\n",
    "                \"notebooks.Simple QA Models.Subject Recognition Data\").find_subject_name_span\n",
    "\n",
    "# Create a column with the subject_name linked per example\n",
    "df_dev = df_dev.progress_apply(find_subject_name_span, axis=1)\n",
    "print('Dev:')\n",
    "display(df_dev[:5])\n",
    "df_train = df_train.progress_apply(find_subject_name_span, axis=1)\n",
    "print('Train:')\n",
    "display(df_train[:5])"
   ]
  },
  {
   "cell_type": "markdown",
   "metadata": {},
   "source": [
    "## Step 3 - Format Examples"
   ]
  },
  {
   "cell_type": "code",
   "execution_count": null,
   "metadata": {},
   "outputs": [],
   "source": [
    "from tqdm import tqdm_notebook\n",
    "\n",
    "def get_formatted_examples(df):\n",
    "    examples = []\n",
    "    for index, row in tqdm_notebook(df.iterrows(), total=df.shape[0]):\n",
    "        if not isinstance(row['subject_name'], str):\n",
    "            continue\n",
    "        \n",
    "        ret =  ''\n",
    "        for i, token in enumerate(row['question_tokens']):\n",
    "            if i == row['start_index']:\n",
    "                ret += '<e>'\n",
    "            elif i > row['start_index'] and i < row['end_index']:\n",
    "                continue\n",
    "            else:\n",
    "                ret += token.lower().strip()\n",
    "            ret += ' '\n",
    "            \n",
    "        examples.append(ret.strip())\n",
    "    return examples\n",
    "\n",
    "# TODO: Create a notebook summarizing this\n",
    "train_examples = get_formatted_examples(df_train)\n",
    "print(len(set(train_examples)))\n",
    "print(len(train_examples))\n",
    "print('Train:')\n",
    "print(train_examples[:5])\n",
    "dev_examples = get_formatted_examples(df_dev)\n",
    "print('Dev:')\n",
    "print(dev_examples[:5])"
   ]
  },
  {
   "cell_type": "markdown",
   "metadata": {},
   "source": [
    "## Step 4 - Write"
   ]
  },
  {
   "cell_type": "code",
   "execution_count": null,
   "metadata": {},
   "outputs": [],
   "source": [
    "file_ = open(DEST_TRAIN, 'w')\n",
    "file_.write('\\n'.join(train_examples))\n",
    "\n",
    "file_ = open(DEST_DEV, 'w')\n",
    "file_.write('\\n'.join(dev_examples))"
   ]
  }
 ],
 "metadata": {
  "kernelspec": {
   "display_name": "Python 3",
   "language": "python",
   "name": "python3"
  },
  "language_info": {
   "codemirror_mode": {
    "name": "ipython",
    "version": 3
   },
   "file_extension": ".py",
   "mimetype": "text/x-python",
   "name": "python",
   "nbconvert_exporter": "python",
   "pygments_lexer": "ipython3",
   "version": "3.6.12"
  }
 },
 "nbformat": 4,
 "nbformat_minor": 2
}
