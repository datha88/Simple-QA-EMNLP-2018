{
 "cells": [
  {
   "cell_type": "markdown",
   "metadata": {},
   "source": [
    "# FB5M & FB2M File Numbers\n",
    "\n",
    "Here we compute some basic numbers for FB5M and FB2M to sanity check with the original paper: https://research.fb.com/wp-content/uploads/2016/11/large-scale_simple_question_answering_with_memory_networks.pdf?"
   ]
  },
  {
   "cell_type": "code",
   "execution_count": 4,
   "metadata": {},
   "outputs": [],
   "source": [
    "import sys\n",
    "sys.path.insert(0, '../../')\n",
    "from notebooksutils.data import FB5M_KG\n",
    "from notebooksutils.data import FB2M_KG\n",
    "\n",
    "fb2m_lines = [l for l in open(FB2M_KG)]\n",
    "fb5m_lines = [l for l in open(FB5M_KG)]"
   ]
  },
  {
   "cell_type": "code",
   "execution_count": 5,
   "metadata": {},
   "outputs": [
    {
     "name": "stdout",
     "output_type": "stream",
     "text": [
      "FB2M Grouped Facts:        10,843,106 (Original Paper: 10,843,106)\n",
      "FB2M Unique Grouped Facts: 7,188,636 (Original Paper: 10,843,106)\n",
      "FB5M Grouped Facts:        12,010,500 (Original Paper: 12,010,500)\n",
      "FB5M Unique Grouped Facts: 7,688,234 (Original Paper: 12,010,500)\n"
     ]
    }
   ],
   "source": [
    "print('FB2M Grouped Facts:        {:,} (Original Paper: 10,843,106)'.format(len(fb2m_lines)))\n",
    "print('FB2M Unique Grouped Facts: {:,} (Original Paper: 10,843,106)'.format(len(set(fb2m_lines))))\n",
    "print('FB5M Grouped Facts:        {:,} (Original Paper: 12,010,500)'.format(len(fb5m_lines)))\n",
    "print('FB5M Unique Grouped Facts: {:,} (Original Paper: 12,010,500)'.format(len(set(fb5m_lines))))"
   ]
  }
 ],
 "metadata": {
  "kernelspec": {
   "display_name": "Python 3",
   "language": "python",
   "name": "python3"
  },
  "language_info": {
   "codemirror_mode": {
    "name": "ipython",
    "version": 3
   },
   "file_extension": ".py",
   "mimetype": "text/x-python",
   "name": "python",
   "nbconvert_exporter": "python",
   "pygments_lexer": "ipython3",
   "version": "3.6.4"
  }
 },
 "nbformat": 4,
 "nbformat_minor": 2
}
