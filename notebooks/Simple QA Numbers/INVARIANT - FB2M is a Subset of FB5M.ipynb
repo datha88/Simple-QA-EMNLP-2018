{
 "cells": [
  {
   "cell_type": "markdown",
   "metadata": {},
   "source": [
    "# Check if FB2M is a Subset of FB5M\n",
    "\n",
    "Check if FB2M is intended to be a subset of FB5M. It's not clear if this is the case in the original paper."
   ]
  },
  {
   "cell_type": "code",
   "execution_count": 4,
   "metadata": {},
   "outputs": [],
   "source": [
    "import sys\n",
    "sys.path.insert(0, '../../')\n",
    "from lib.utils import FB5M_KG_TABLE\n",
    "from lib.utils import FB2M_KG_TABLE\n",
    "from lib.utils import get_connection \n",
    "\n",
    "connection = get_connection()\n",
    "cursor = connection.cursor()"
   ]
  },
  {
   "cell_type": "code",
   "execution_count": 5,
   "metadata": {},
   "outputs": [
    {
     "name": "stdout",
     "output_type": "stream",
     "text": [
      "MID not in FB5M but in FB2M: 01g4wmh\n"
     ]
    }
   ],
   "source": [
    "def get_all_mids(kg):\n",
    "    \"\"\" Get all MIDs in the KG \"\"\"\n",
    "    all_mids = set()\n",
    "    for column in ['object_mid', 'subject_mid']:\n",
    "        cursor.execute('SELECT ' + column + ' FROM ' + kg)\n",
    "        for (mid,) in cursor.fetchall():\n",
    "            all_mids.add(mid)\n",
    "    return all_mids\n",
    "\n",
    "fb5m_kg_mids = get_all_mids(FB5M_KG_TABLE)\n",
    "for mid in get_all_mids(FB2M_KG_TABLE):\n",
    "    if mid not in fb5m_kg_mids:\n",
    "        print('MID not in FB5M but in FB2M:', mid)"
   ]
  }
 ],
 "metadata": {
  "kernelspec": {
   "display_name": "Python 3",
   "language": "python",
   "name": "python3"
  },
  "language_info": {
   "codemirror_mode": {
    "name": "ipython",
    "version": 3
   },
   "file_extension": ".py",
   "mimetype": "text/x-python",
   "name": "python",
   "nbconvert_exporter": "python",
   "pygments_lexer": "ipython3",
   "version": "3.6.4"
  }
 },
 "nbformat": 4,
 "nbformat_minor": 2
}
