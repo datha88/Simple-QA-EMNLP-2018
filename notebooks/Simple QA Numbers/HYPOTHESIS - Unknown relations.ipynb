{
 "cells": [
  {
   "cell_type": "markdown",
   "metadata": {},
   "source": [
    "# HYPOTHESIS - Unknown relations\n",
    "\n",
    "Here we check how many relations in the development set are not seen during training time. This should give us a good handle at how many relations our model is not learning during training.\n",
    "\n",
    "# Discussion\n",
    "\n",
    "Only .6% (71 / 10845) of examples in development have a unseen relationship; therefore, we do not believe this a large issue."
   ]
  },
  {
   "cell_type": "code",
   "execution_count": 2,
   "metadata": {},
   "outputs": [],
   "source": [
    "import sys\n",
    "sys.path.insert(0, '../../')"
   ]
  },
  {
   "cell_type": "code",
   "execution_count": 3,
   "metadata": {},
   "outputs": [
    {
     "data": {
      "text/html": [
       "<div>\n",
       "<style scoped>\n",
       "    .dataframe tbody tr th:only-of-type {\n",
       "        vertical-align: middle;\n",
       "    }\n",
       "\n",
       "    .dataframe tbody tr th {\n",
       "        vertical-align: top;\n",
       "    }\n",
       "\n",
       "    .dataframe thead th {\n",
       "        text-align: right;\n",
       "    }\n",
       "</style>\n",
       "<table border=\"1\" class=\"dataframe\">\n",
       "  <thead>\n",
       "    <tr style=\"text-align: right;\">\n",
       "      <th></th>\n",
       "      <th>subject</th>\n",
       "      <th>relation</th>\n",
       "      <th>object</th>\n",
       "      <th>question</th>\n",
       "    </tr>\n",
       "  </thead>\n",
       "  <tbody>\n",
       "    <tr>\n",
       "      <th>0</th>\n",
       "      <td>0f3xg_</td>\n",
       "      <td>symbols/namesake/named_after</td>\n",
       "      <td>0cqt90</td>\n",
       "      <td>Who was the trump ocean club international hot...</td>\n",
       "    </tr>\n",
       "    <tr>\n",
       "      <th>1</th>\n",
       "      <td>07f3jg</td>\n",
       "      <td>people/person/place_of_birth</td>\n",
       "      <td>0565d</td>\n",
       "      <td>where was sasha vujačić born</td>\n",
       "    </tr>\n",
       "    <tr>\n",
       "      <th>2</th>\n",
       "      <td>031j8nn</td>\n",
       "      <td>music/release/region</td>\n",
       "      <td>07ssc</td>\n",
       "      <td>What is a region that dead combo was released in</td>\n",
       "    </tr>\n",
       "    <tr>\n",
       "      <th>3</th>\n",
       "      <td>0c1cyhd</td>\n",
       "      <td>film/director/film</td>\n",
       "      <td>0wxsz5y</td>\n",
       "      <td>What is a film directed by wiebke von carolsfeld?</td>\n",
       "    </tr>\n",
       "    <tr>\n",
       "      <th>4</th>\n",
       "      <td>0fvhc0g</td>\n",
       "      <td>music/release/region</td>\n",
       "      <td>0345h</td>\n",
       "      <td>what country was music for stock exchange  rel...</td>\n",
       "    </tr>\n",
       "  </tbody>\n",
       "</table>\n",
       "</div>"
      ],
      "text/plain": [
       "   subject                      relation   object  \\\n",
       "0   0f3xg_  symbols/namesake/named_after   0cqt90   \n",
       "1   07f3jg  people/person/place_of_birth    0565d   \n",
       "2  031j8nn          music/release/region    07ssc   \n",
       "3  0c1cyhd            film/director/film  0wxsz5y   \n",
       "4  0fvhc0g          music/release/region    0345h   \n",
       "\n",
       "                                            question  \n",
       "0  Who was the trump ocean club international hot...  \n",
       "1                       where was sasha vujačić born  \n",
       "2   What is a region that dead combo was released in  \n",
       "3  What is a film directed by wiebke von carolsfeld?  \n",
       "4  what country was music for stock exchange  rel...  "
      ]
     },
     "execution_count": 3,
     "metadata": {},
     "output_type": "execute_result"
    }
   ],
   "source": [
    "from scripts.utils.simple_qa import load_simple_qa \n",
    "\n",
    "# Load development set because its a magnitude smaller than the training set.\n",
    "df_dev, = load_simple_qa(dev=True)\n",
    "df_dev[:5]"
   ]
  },
  {
   "cell_type": "code",
   "execution_count": 4,
   "metadata": {},
   "outputs": [
    {
     "data": {
      "text/html": [
       "<div>\n",
       "<style scoped>\n",
       "    .dataframe tbody tr th:only-of-type {\n",
       "        vertical-align: middle;\n",
       "    }\n",
       "\n",
       "    .dataframe tbody tr th {\n",
       "        vertical-align: top;\n",
       "    }\n",
       "\n",
       "    .dataframe thead th {\n",
       "        text-align: right;\n",
       "    }\n",
       "</style>\n",
       "<table border=\"1\" class=\"dataframe\">\n",
       "  <thead>\n",
       "    <tr style=\"text-align: right;\">\n",
       "      <th></th>\n",
       "      <th>subject</th>\n",
       "      <th>relation</th>\n",
       "      <th>object</th>\n",
       "      <th>question</th>\n",
       "    </tr>\n",
       "  </thead>\n",
       "  <tbody>\n",
       "    <tr>\n",
       "      <th>0</th>\n",
       "      <td>04whkz5</td>\n",
       "      <td>book/written_work/subjects</td>\n",
       "      <td>01cj3p</td>\n",
       "      <td>what is the book e about</td>\n",
       "    </tr>\n",
       "    <tr>\n",
       "      <th>1</th>\n",
       "      <td>0tp2p24</td>\n",
       "      <td>music/release_track/release</td>\n",
       "      <td>0sjc7c1</td>\n",
       "      <td>to what release does the release track cardiac...</td>\n",
       "    </tr>\n",
       "    <tr>\n",
       "      <th>2</th>\n",
       "      <td>04j0t75</td>\n",
       "      <td>film/film/country</td>\n",
       "      <td>07ssc</td>\n",
       "      <td>what country was the film the debt from</td>\n",
       "    </tr>\n",
       "    <tr>\n",
       "      <th>3</th>\n",
       "      <td>0ftqr</td>\n",
       "      <td>music/producer/tracks_produced</td>\n",
       "      <td>0p600l</td>\n",
       "      <td>what songs have nobuo uematsu produced?</td>\n",
       "    </tr>\n",
       "    <tr>\n",
       "      <th>4</th>\n",
       "      <td>036p007</td>\n",
       "      <td>music/release/producers</td>\n",
       "      <td>0677ng</td>\n",
       "      <td>Who produced eve-olution?</td>\n",
       "    </tr>\n",
       "  </tbody>\n",
       "</table>\n",
       "</div>"
      ],
      "text/plain": [
       "   subject                        relation   object  \\\n",
       "0  04whkz5      book/written_work/subjects   01cj3p   \n",
       "1  0tp2p24     music/release_track/release  0sjc7c1   \n",
       "2  04j0t75               film/film/country    07ssc   \n",
       "3    0ftqr  music/producer/tracks_produced   0p600l   \n",
       "4  036p007         music/release/producers   0677ng   \n",
       "\n",
       "                                            question  \n",
       "0                           what is the book e about  \n",
       "1  to what release does the release track cardiac...  \n",
       "2            what country was the film the debt from  \n",
       "3            what songs have nobuo uematsu produced?  \n",
       "4                          Who produced eve-olution?  "
      ]
     },
     "execution_count": 4,
     "metadata": {},
     "output_type": "execute_result"
    }
   ],
   "source": [
    "df_train, = load_simple_qa(train=True)\n",
    "df_train[:5]"
   ]
  },
  {
   "cell_type": "code",
   "execution_count": 5,
   "metadata": {},
   "outputs": [
    {
     "name": "stdout",
     "output_type": "stream",
     "text": [
      "1629 unique relations in train\n",
      "Sample: ['people/ethnicity/geographic_distribution', 'book/journal/discipline', 'cvg/cvg_developer/game_versions_developed', 'user/sue_anne/default_domain/olympic_medal_event/gold_medalist', 'royalty/monarch/kingdom']\n"
     ]
    }
   ],
   "source": [
    "train_relations = set(df_train.relation.unique())\n",
    "print('%d unique relations in train' % (len(train_relations)))\n",
    "print('Sample:', list(train_relations)[:5])"
   ]
  },
  {
   "cell_type": "code",
   "execution_count": 7,
   "metadata": {},
   "outputs": [
    {
     "data": {
      "application/vnd.jupyter.widget-view+json": {
       "model_id": "c8bb49ae3d9942dcb48a48c96913e1c8",
       "version_major": 2,
       "version_minor": 0
      },
      "text/html": [
       "<p>Failed to display Jupyter Widget of type <code>HBox</code>.</p>\n",
       "<p>\n",
       "  If you're reading this message in the Jupyter Notebook or JupyterLab Notebook, it may mean\n",
       "  that the widgets JavaScript is still loading. If this message persists, it\n",
       "  likely means that the widgets JavaScript library is either not installed or\n",
       "  not enabled. See the <a href=\"https://ipywidgets.readthedocs.io/en/stable/user_install.html\">Jupyter\n",
       "  Widgets Documentation</a> for setup instructions.\n",
       "</p>\n",
       "<p>\n",
       "  If you're reading this message in another frontend (for example, a static\n",
       "  rendering on GitHub or <a href=\"https://nbviewer.jupyter.org/\">NBViewer</a>),\n",
       "  it may mean that your frontend doesn't currently support widgets.\n",
       "</p>\n"
      ],
      "text/plain": [
       "HBox(children=(IntProgress(value=0, max=10845), HTML(value='')))"
      ]
     },
     "metadata": {},
     "output_type": "display_data"
    },
    {
     "name": "stdout",
     "output_type": "stream",
     "text": [
      "\n",
      "0.006547% rows with unseen relations in dev [71 of 10845]\n"
     ]
    }
   ],
   "source": [
    "from tqdm import tqdm_notebook\n",
    "\n",
    "unseen = 0\n",
    "for index, row in tqdm_notebook(df_dev.iterrows(), total=df_dev.shape[0]):\n",
    "    if row['relation'] not in train_relations:\n",
    "        unseen += 1\n",
    "print('%f%% rows with unseen relations in dev [%d of %d]' % (unseen / df_dev.shape[0], unseen, df_dev.shape[0]))"
   ]
  }
 ],
 "metadata": {
  "kernelspec": {
   "display_name": "Python 3",
   "language": "python",
   "name": "python3"
  },
  "language_info": {
   "codemirror_mode": {
    "name": "ipython",
    "version": 3
   },
   "file_extension": ".py",
   "mimetype": "text/x-python",
   "name": "python",
   "nbconvert_exporter": "python",
   "pygments_lexer": "ipython3",
   "version": "3.6.4"
  }
 },
 "nbformat": 4,
 "nbformat_minor": 2
}
