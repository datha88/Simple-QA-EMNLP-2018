{
 "cells": [
  {
   "cell_type": "markdown",
   "metadata": {},
   "source": [
    "# FB5M & FB2M KG DB Numbers"
   ]
  },
  {
   "cell_type": "code",
   "execution_count": 1,
   "metadata": {},
   "outputs": [],
   "source": [
    "import sys\n",
    "sys.path.insert(0, '../../')\n",
    "from lib.data import FB5M_KG\n",
    "from lib.data import FB2M_KG\n",
    "from lib.data import FB2M_KG_TABLE\n",
    "from lib.data import FB5M_KG_TABLE\n",
    "from lib.connect import get_connection \n",
    "\n",
    "connection = get_connection()\n",
    "cursor = connection.cursor()\n",
    "\n",
    "def sql_fetchone(sql):\n",
    "    cursor.execute(sql)\n",
    "    return cursor.fetchone()[0]"
   ]
  },
  {
   "cell_type": "code",
   "execution_count": 2,
   "metadata": {},
   "outputs": [],
   "source": [
    "n_unique_facts_fb2m = sql_fetchone('SELECT count(*) FROM ' + FB2M_KG_TABLE)\n",
    "n_unique_facts_fb5m = sql_fetchone('SELECT count(*) FROM ' + FB5M_KG_TABLE)"
   ]
  },
  {
   "cell_type": "code",
   "execution_count": 3,
   "metadata": {},
   "outputs": [],
   "source": [
    "n_grouped_facts_fb2m = sql_fetchone('SELECT count(DISTINCT(subject_mid, relation)) FROM ' + FB2M_KG_TABLE)\n",
    "n_grouped_facts_fb5m = sql_fetchone('SELECT count(DISTINCT(subject_mid, relation)) FROM ' + FB5M_KG_TABLE)"
   ]
  },
  {
   "cell_type": "code",
   "execution_count": 4,
   "metadata": {},
   "outputs": [],
   "source": [
    "n_relations_fb2m = sql_fetchone('SELECT count(DISTINCT(relation)) FROM ' + FB2M_KG_TABLE)\n",
    "n_relations_fb5m = sql_fetchone('SELECT count(DISTINCT(relation)) FROM ' + FB5M_KG_TABLE)"
   ]
  },
  {
   "cell_type": "code",
   "execution_count": 5,
   "metadata": {},
   "outputs": [],
   "source": [
    "def get_all_entities(kg_table_name):\n",
    "    \"\"\" Get all MIDs in the FB5M KG \"\"\"\n",
    "    all_entities = set()\n",
    "    for column in ['object_mid', 'subject_mid']:\n",
    "        cursor.execute('SELECT ' + column + ' FROM %s' % (kg_table_name,))\n",
    "        for (mid,) in cursor.fetchall():\n",
    "            all_entities.add(mid)\n",
    "    return all_entities\n",
    "\n",
    "n_entities_fb2m = len(get_all_entities(FB2M_KG_TABLE))\n",
    "n_entities_fb5m = len(get_all_entities(FB5M_KG_TABLE))"
   ]
  },
  {
   "cell_type": "code",
   "execution_count": 7,
   "metadata": {},
   "outputs": [
    {
     "data": {
      "text/markdown": [
       "#### FB5M and FB2M Numbers:\n",
       "- FB5M Unique Facts: 17872174 (Original Paper: 22,441,880) (https://github.com/zihangdai/CFO: 17,872,174)\n",
       "- FB2M Unique Facts: 14174246 (Original Paper: 14,180,937)\n",
       "- FB5M Group Facts: 7688234 (Original Paper: 12,010,500)\n",
       "- FB2M Group Facts: 7188636 (Original Paper: 10,843,106)\n",
       "- FB5M Relations: 7523 (Original Paper: 7,523)\n",
       "- FB2M Relations: 6701 (Original Paper: 6,701)\n",
       "- FB5M Entities: 3988105 (Original Paper: 4,904,397) (https://github.com/zihangdai/CFO: 3,988,105)\n",
       "- FB2M Entities: 1963130 (Original Paper: 2,150,604)\n"
      ],
      "text/plain": [
       "<IPython.core.display.Markdown object>"
      ]
     },
     "metadata": {},
     "output_type": "display_data"
    }
   ],
   "source": [
    "from IPython.display import display, Markdown\n",
    "\n",
    "display(Markdown(\n",
    "\"\"\"#### FB5M and FB2M Numbers:\n",
    "- FB5M Unique Facts: %d (Original Paper: 22,441,880) (https://github.com/zihangdai/CFO: 17,872,174)\n",
    "- FB2M Unique Facts: %d (Original Paper: 14,180,937)\n",
    "- FB5M Group Facts: %d (Original Paper: 12,010,500)\n",
    "- FB2M Group Facts: %d (Original Paper: 10,843,106)\n",
    "- FB5M Relations: %d (Original Paper: 7,523)\n",
    "- FB2M Relations: %d (Original Paper: 6,701)\n",
    "- FB5M Entities: %d (Original Paper: 4,904,397) (https://github.com/zihangdai/CFO: 3,988,105)\n",
    "- FB2M Entities: %d (Original Paper: 2,150,604)\n",
    "\"\"\" % (\n",
    "    n_unique_facts_fb5m,\n",
    "    n_unique_facts_fb2m,\n",
    "    n_grouped_facts_fb5m,\n",
    "    n_grouped_facts_fb2m,\n",
    "    n_relations_fb5m,\n",
    "    n_relations_fb2m,\n",
    "    n_entities_fb5m,\n",
    "    n_entities_fb2m,\n",
    ")))"
   ]
  }
 ],
 "metadata": {
  "kernelspec": {
   "display_name": "Python 3",
   "language": "python",
   "name": "python3"
  },
  "language_info": {
   "codemirror_mode": {
    "name": "ipython",
    "version": 3
   },
   "file_extension": ".py",
   "mimetype": "text/x-python",
   "name": "python",
   "nbconvert_exporter": "python",
   "pygments_lexer": "ipython3",
   "version": "3.6.4"
  }
 },
 "nbformat": 4,
 "nbformat_minor": 2
}
