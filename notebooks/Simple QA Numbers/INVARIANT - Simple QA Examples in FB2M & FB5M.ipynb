{
 "cells": [
  {
   "cell_type": "markdown",
   "metadata": {},
   "source": [
    "# Simple QA Examples in FB2M & FB5M\n",
    "\n",
    "Ensure that the examples facts in the SimpleQuestions dataset are present in the FB2M & FB5M KG. Otherwise those examples are unanswerable."
   ]
  },
  {
   "cell_type": "code",
   "execution_count": 5,
   "metadata": {},
   "outputs": [
    {
     "data": {
      "application/vnd.jupyter.widget-view+json": {
       "model_id": "198fa7205e6f4b8cbdd23745c8d58f43",
       "version_major": 2,
       "version_minor": 0
      },
      "text/html": [
       "<p>Failed to display Jupyter Widget of type <code>HBox</code>.</p>\n",
       "<p>\n",
       "  If you're reading this message in the Jupyter Notebook or JupyterLab Notebook, it may mean\n",
       "  that the widgets JavaScript is still loading. If this message persists, it\n",
       "  likely means that the widgets JavaScript library is either not installed or\n",
       "  not enabled. See the <a href=\"https://ipywidgets.readthedocs.io/en/stable/user_install.html\">Jupyter\n",
       "  Widgets Documentation</a> for setup instructions.\n",
       "</p>\n",
       "<p>\n",
       "  If you're reading this message in another frontend (for example, a static\n",
       "  rendering on GitHub or <a href=\"https://nbviewer.jupyter.org/\">NBViewer</a>),\n",
       "  it may mean that your frontend doesn't currently support widgets.\n",
       "</p>\n"
      ],
      "text/plain": [
       "HBox(children=(IntProgress(value=1, bar_style='info', max=1), HTML(value='')))"
      ]
     },
     "metadata": {},
     "output_type": "display_data"
    },
    {
     "name": "stdout",
     "output_type": "stream",
     "text": [
      "\n"
     ]
    }
   ],
   "source": [
    "import sys\n",
    "sys.path.insert(0, '../../')\n",
    "import pandas as pd\n",
    "from tqdm import tqdm_notebook\n",
    "tqdm_notebook().pandas()"
   ]
  },
  {
   "cell_type": "code",
   "execution_count": 6,
   "metadata": {},
   "outputs": [],
   "source": [
    "from lib.connect import get_connection \n",
    "\n",
    "connection = get_connection()\n",
    "cursor = connection.cursor()"
   ]
  },
  {
   "cell_type": "code",
   "execution_count": 10,
   "metadata": {},
   "outputs": [
    {
     "data": {
      "text/html": [
       "<div>\n",
       "<style scoped>\n",
       "    .dataframe tbody tr th:only-of-type {\n",
       "        vertical-align: middle;\n",
       "    }\n",
       "\n",
       "    .dataframe tbody tr th {\n",
       "        vertical-align: top;\n",
       "    }\n",
       "\n",
       "    .dataframe thead th {\n",
       "        text-align: right;\n",
       "    }\n",
       "</style>\n",
       "<table border=\"1\" class=\"dataframe\">\n",
       "  <thead>\n",
       "    <tr style=\"text-align: right;\">\n",
       "      <th></th>\n",
       "      <th>subject</th>\n",
       "      <th>relation</th>\n",
       "      <th>object</th>\n",
       "      <th>question</th>\n",
       "    </tr>\n",
       "  </thead>\n",
       "  <tbody>\n",
       "    <tr>\n",
       "      <th>0</th>\n",
       "      <td>04whkz5</td>\n",
       "      <td>book/written_work/subjects</td>\n",
       "      <td>01cj3p</td>\n",
       "      <td>what is the book e about</td>\n",
       "    </tr>\n",
       "    <tr>\n",
       "      <th>1</th>\n",
       "      <td>0tp2p24</td>\n",
       "      <td>music/release_track/release</td>\n",
       "      <td>0sjc7c1</td>\n",
       "      <td>to what release does the release track cardiac...</td>\n",
       "    </tr>\n",
       "    <tr>\n",
       "      <th>2</th>\n",
       "      <td>04j0t75</td>\n",
       "      <td>film/film/country</td>\n",
       "      <td>07ssc</td>\n",
       "      <td>what country was the film the debt from</td>\n",
       "    </tr>\n",
       "    <tr>\n",
       "      <th>3</th>\n",
       "      <td>0ftqr</td>\n",
       "      <td>music/producer/tracks_produced</td>\n",
       "      <td>0p600l</td>\n",
       "      <td>what songs have nobuo uematsu produced?</td>\n",
       "    </tr>\n",
       "    <tr>\n",
       "      <th>4</th>\n",
       "      <td>036p007</td>\n",
       "      <td>music/release/producers</td>\n",
       "      <td>0677ng</td>\n",
       "      <td>Who produced eve-olution?</td>\n",
       "    </tr>\n",
       "  </tbody>\n",
       "</table>\n",
       "</div>"
      ],
      "text/plain": [
       "   subject                        relation   object  \\\n",
       "0  04whkz5      book/written_work/subjects   01cj3p   \n",
       "1  0tp2p24     music/release_track/release  0sjc7c1   \n",
       "2  04j0t75               film/film/country    07ssc   \n",
       "3    0ftqr  music/producer/tracks_produced   0p600l   \n",
       "4  036p007         music/release/producers   0677ng   \n",
       "\n",
       "                                            question  \n",
       "0                           what is the book e about  \n",
       "1  to what release does the release track cardiac...  \n",
       "2            what country was the film the debt from  \n",
       "3            what songs have nobuo uematsu produced?  \n",
       "4                          Who produced eve-olution?  "
      ]
     },
     "execution_count": 10,
     "metadata": {},
     "output_type": "execute_result"
    }
   ],
   "source": [
    "from lib.simple_qa import load_simple_qa \n",
    "\n",
    "df_train, df_dev, df_test = load_simple_qa(dev=True, train=True, test=True)\n",
    "df_train[:5]"
   ]
  },
  {
   "cell_type": "code",
   "execution_count": 14,
   "metadata": {},
   "outputs": [],
   "source": [
    "from IPython.display import display, Markdown\n",
    "from lib.data import FB2M_KG_TABLE\n",
    "\n",
    "def check_fact_invariant(df, kg=FB2M_KG_TABLE):\n",
    "    n_failed = 0.0\n",
    "    for _, row in tqdm_notebook(df.iterrows(), total=df.shape[0]):\n",
    "        sql = \"\"\"SELECT count(*)\n",
    "        FROM {kg}\n",
    "        WHERE object_mid='{object_mid}'\n",
    "        AND relation='{relation}'\n",
    "        AND subject_mid='{subject_mid}'\n",
    "        \"\"\".format(kg=kg,\n",
    "                   object_mid=row['object'],\n",
    "                   relation=row['relation'],\n",
    "                   subject_mid=row['subject'])\n",
    "\n",
    "        cursor.execute(sql)\n",
    "        n_rows = cursor.fetchone()[0]\n",
    "        if n_rows == 0:\n",
    "            print('\\n[%d] FACT NOT FOUND' % n_failed)\n",
    "            print('Question: %s' % (row['question']))\n",
    "            print('SQL: %s' % (sql))\n",
    "            n_failed += 1\n",
    "            \n",
    "\n",
    "    \n",
    "    display(Markdown(\n",
    "        '### Numbers\\n' + \n",
    "        'Facts in not found in KG\\n' + \n",
    "        'Failed %%%f [%d of %d]' % ((n_failed / df.shape[0]) * 100, n_failed, df.shape[0])\n",
    "    ))"
   ]
  },
  {
   "cell_type": "code",
   "execution_count": 15,
   "metadata": {},
   "outputs": [
    {
     "data": {
      "application/vnd.jupyter.widget-view+json": {
       "model_id": "958fe7577bce4734aae8c2484d9d922a",
       "version_major": 2,
       "version_minor": 0
      },
      "text/html": [
       "<p>Failed to display Jupyter Widget of type <code>HBox</code>.</p>\n",
       "<p>\n",
       "  If you're reading this message in the Jupyter Notebook or JupyterLab Notebook, it may mean\n",
       "  that the widgets JavaScript is still loading. If this message persists, it\n",
       "  likely means that the widgets JavaScript library is either not installed or\n",
       "  not enabled. See the <a href=\"https://ipywidgets.readthedocs.io/en/stable/user_install.html\">Jupyter\n",
       "  Widgets Documentation</a> for setup instructions.\n",
       "</p>\n",
       "<p>\n",
       "  If you're reading this message in another frontend (for example, a static\n",
       "  rendering on GitHub or <a href=\"https://nbviewer.jupyter.org/\">NBViewer</a>),\n",
       "  it may mean that your frontend doesn't currently support widgets.\n",
       "</p>\n"
      ],
      "text/plain": [
       "HBox(children=(IntProgress(value=0, max=10845), HTML(value='')))"
      ]
     },
     "metadata": {},
     "output_type": "display_data"
    },
    {
     "name": "stdout",
     "output_type": "stream",
     "text": [
      "\n",
      "[0] FACT NOT FOUND\n",
      "Question: the film mom and dad is what genre? \n",
      "SQL: SELECT count(*)\n",
      "        FROM fb_two_kg\n",
      "        WHERE object_mid='07s9rl0'\n",
      "        AND relation='film/film/genre'\n",
      "        AND subject_mid='07gkcf'\n",
      "        \n",
      "\n",
      "[1] FACT NOT FOUND\n",
      "Question: what is the name of a professional basketball player?\n",
      "SQL: SELECT count(*)\n",
      "        FROM fb_two_kg\n",
      "        WHERE object_mid='0kg1cyw'\n",
      "        AND relation='people/profession/people_with_this_profession'\n",
      "        AND subject_mid='02h664x'\n",
      "        \n",
      "\n"
     ]
    },
    {
     "data": {
      "text/markdown": [
       "### Numbers\n",
       "Facts in not found in KG\n",
       "Failed %0.018442 [2 of 10845]"
      ],
      "text/plain": [
       "<IPython.core.display.Markdown object>"
      ]
     },
     "metadata": {},
     "output_type": "display_data"
    }
   ],
   "source": [
    "check_fact_invariant(df_dev)"
   ]
  },
  {
   "cell_type": "code",
   "execution_count": 11,
   "metadata": {},
   "outputs": [
    {
     "data": {
      "application/vnd.jupyter.widget-view+json": {
       "model_id": "3deaafe635a54bb988d81aef80e2a1bf",
       "version_major": 2,
       "version_minor": 0
      },
      "text/html": [
       "<p>Failed to display Jupyter Widget of type <code>HBox</code>.</p>\n",
       "<p>\n",
       "  If you're reading this message in the Jupyter Notebook or JupyterLab Notebook, it may mean\n",
       "  that the widgets JavaScript is still loading. If this message persists, it\n",
       "  likely means that the widgets JavaScript library is either not installed or\n",
       "  not enabled. See the <a href=\"https://ipywidgets.readthedocs.io/en/stable/user_install.html\">Jupyter\n",
       "  Widgets Documentation</a> for setup instructions.\n",
       "</p>\n",
       "<p>\n",
       "  If you're reading this message in another frontend (for example, a static\n",
       "  rendering on GitHub or <a href=\"https://nbviewer.jupyter.org/\">NBViewer</a>),\n",
       "  it may mean that your frontend doesn't currently support widgets.\n",
       "</p>\n"
      ],
      "text/plain": [
       "HBox(children=(IntProgress(value=0, max=21687), HTML(value='')))"
      ]
     },
     "metadata": {},
     "output_type": "display_data"
    },
    {
     "name": "stdout",
     "output_type": "stream",
     "text": [
      "\n",
      "[0] FACT NOT FOUND\n",
      "Question: what are the names of russian basketball players?\n",
      "SQL: SELECT count(*)\n",
      "        FROM fb_two_kg\n",
      "        WHERE object_mid='03y9cqy'\n",
      "        AND relation='people/profession/people_with_this_profession'\n",
      "        AND subject_mid='02h664x'\n",
      "        \n",
      "\n",
      "[1] FACT NOT FOUND\n",
      "Question: What is a track on the release in paris?\n",
      "SQL: SELECT count(*)\n",
      "        FROM fb_two_kg\n",
      "        WHERE object_mid='0fr432l'\n",
      "        AND relation='music/release/track'\n",
      "        AND subject_mid='0g1vb16'\n",
      "        \n",
      "\n",
      "[2] FACT NOT FOUND\n",
      "Question: What is the last time released under?\n",
      "SQL: SELECT count(*)\n",
      "        FROM fb_two_kg\n",
      "        WHERE object_mid='02lx2r'\n",
      "        AND relation='music/album/release_type'\n",
      "        AND subject_mid='07kg0mk'\n",
      "        \n",
      "\n",
      "[3] FACT NOT FOUND\n",
      "Question: which basketball player is from bulgaria\n",
      "SQL: SELECT count(*)\n",
      "        FROM fb_two_kg\n",
      "        WHERE object_mid='0jwydj2'\n",
      "        AND relation='people/profession/people_with_this_profession'\n",
      "        AND subject_mid='02h664x'\n",
      "        \n",
      "\n",
      "[4] FACT NOT FOUND\n",
      "Question: What basketball player played for the pacers\n",
      "SQL: SELECT count(*)\n",
      "        FROM fb_two_kg\n",
      "        WHERE object_mid='0gjc9wy'\n",
      "        AND relation='people/profession/people_with_this_profession'\n",
      "        AND subject_mid='02h664x'\n",
      "        \n",
      "\n",
      "[5] FACT NOT FOUND\n",
      "Question: who was the author of worship\n",
      "SQL: SELECT count(*)\n",
      "        FROM fb_two_kg\n",
      "        WHERE object_mid='02c3_1'\n",
      "        AND relation='book/written_work/author'\n",
      "        AND subject_mid='04w2yxm'\n",
      "        \n",
      "\n",
      "[6] FACT NOT FOUND\n",
      "Question: Who recorded the album titled the voice\n",
      "SQL: SELECT count(*)\n",
      "        FROM fb_two_kg\n",
      "        WHERE object_mid='02_fj'\n",
      "        AND relation='music/album/artist'\n",
      "        AND subject_mid='0fjg6cy'\n",
      "        \n",
      "\n"
     ]
    },
    {
     "data": {
      "text/markdown": [
       "### Numbers\n",
       "Facts in not found in KG\n",
       "Failed %0.032277 [7 of 21687]"
      ],
      "text/plain": [
       "<IPython.core.display.Markdown object>"
      ]
     },
     "metadata": {},
     "output_type": "display_data"
    }
   ],
   "source": [
    "check_fact_invariant(df_test)"
   ]
  },
  {
   "cell_type": "code",
   "execution_count": 12,
   "metadata": {},
   "outputs": [
    {
     "data": {
      "application/vnd.jupyter.widget-view+json": {
       "model_id": "2314a3629adb47ceaa55ed1570329a95",
       "version_major": 2,
       "version_minor": 0
      },
      "text/html": [
       "<p>Failed to display Jupyter Widget of type <code>HBox</code>.</p>\n",
       "<p>\n",
       "  If you're reading this message in the Jupyter Notebook or JupyterLab Notebook, it may mean\n",
       "  that the widgets JavaScript is still loading. If this message persists, it\n",
       "  likely means that the widgets JavaScript library is either not installed or\n",
       "  not enabled. See the <a href=\"https://ipywidgets.readthedocs.io/en/stable/user_install.html\">Jupyter\n",
       "  Widgets Documentation</a> for setup instructions.\n",
       "</p>\n",
       "<p>\n",
       "  If you're reading this message in another frontend (for example, a static\n",
       "  rendering on GitHub or <a href=\"https://nbviewer.jupyter.org/\">NBViewer</a>),\n",
       "  it may mean that your frontend doesn't currently support widgets.\n",
       "</p>\n"
      ],
      "text/plain": [
       "HBox(children=(IntProgress(value=0, max=75910), HTML(value='')))"
      ]
     },
     "metadata": {},
     "output_type": "display_data"
    },
    {
     "name": "stdout",
     "output_type": "stream",
     "text": [
      "\n",
      "[0] FACT NOT FOUND\n",
      "Question: what kind of movie is the world\n",
      "SQL: SELECT count(*)\n",
      "        FROM fb_two_kg\n",
      "        WHERE object_mid='07s9rl0'\n",
      "        AND relation='film/film/genre'\n",
      "        AND subject_mid='07m_vq'\n",
      "        \n",
      "\n",
      "[1] FACT NOT FOUND\n",
      "Question: What region was the best released in?\n",
      "SQL: SELECT count(*)\n",
      "        FROM fb_two_kg\n",
      "        WHERE object_mid='0345h'\n",
      "        AND relation='music/release/region'\n",
      "        AND subject_mid='0318_03'\n",
      "        \n",
      "\n",
      "[2] FACT NOT FOUND\n",
      "Question: what type of release is the best?\n",
      "SQL: SELECT count(*)\n",
      "        FROM fb_two_kg\n",
      "        WHERE object_mid='02lx2r'\n",
      "        AND relation='music/album/release_type'\n",
      "        AND subject_mid='01hh6cr'\n",
      "        \n",
      "\n",
      "[3] FACT NOT FOUND\n",
      "Question: who is the artist on when the last time?\n",
      "SQL: SELECT count(*)\n",
      "        FROM fb_two_kg\n",
      "        WHERE object_mid='054yql'\n",
      "        AND relation='music/album/artist'\n",
      "        AND subject_mid='0w9c45l'\n",
      "        \n",
      "\n",
      "[4] FACT NOT FOUND\n",
      "Question: is the italian an art film or documentary \n",
      "SQL: SELECT count(*)\n",
      "        FROM fb_two_kg\n",
      "        WHERE object_mid='02n4lw'\n",
      "        AND relation='film/film/genre'\n",
      "        AND subject_mid='02qqqtd'\n",
      "        \n",
      "\n",
      "[5] FACT NOT FOUND\n",
      "Question: Name a track off the musical release, the city.\n",
      "SQL: SELECT count(*)\n",
      "        FROM fb_two_kg\n",
      "        WHERE object_mid='0n1d0py'\n",
      "        AND relation='music/release/track_list'\n",
      "        AND subject_mid='0gf5l4n'\n",
      "        \n",
      "\n",
      "[6] FACT NOT FOUND\n",
      "Question: who is a retired basketball player\n",
      "SQL: SELECT count(*)\n",
      "        FROM fb_two_kg\n",
      "        WHERE object_mid='03m9y59'\n",
      "        AND relation='people/profession/people_with_this_profession'\n",
      "        AND subject_mid='02h664x'\n",
      "        \n",
      "\n",
      "[7] FACT NOT FOUND\n",
      "Question: Name a basketball player.\n",
      "SQL: SELECT count(*)\n",
      "        FROM fb_two_kg\n",
      "        WHERE object_mid='0tkg6cp'\n",
      "        AND relation='people/profession/people_with_this_profession'\n",
      "        AND subject_mid='02h664x'\n",
      "        \n",
      "\n",
      "[8] FACT NOT FOUND\n",
      "Question: which artists were featured in the last time?\n",
      "SQL: SELECT count(*)\n",
      "        FROM fb_two_kg\n",
      "        WHERE object_mid='0frv2g'\n",
      "        AND relation='music/album/featured_artists'\n",
      "        AND subject_mid='0y603xz'\n",
      "        \n",
      "\n",
      "[9] FACT NOT FOUND\n",
      "Question: which company published the names?\n",
      "SQL: SELECT count(*)\n",
      "        FROM fb_two_kg\n",
      "        WHERE object_mid='08f97q'\n",
      "        AND relation='book/book_edition/publisher'\n",
      "        AND subject_mid='04vd3rl'\n",
      "        \n",
      "\n",
      "[10] FACT NOT FOUND\n",
      "Question: Name a basketball player.\n",
      "SQL: SELECT count(*)\n",
      "        FROM fb_two_kg\n",
      "        WHERE object_mid='0cnxnm_'\n",
      "        AND relation='people/profession/people_with_this_profession'\n",
      "        AND subject_mid='02h664x'\n",
      "        \n",
      "\n",
      "[11] FACT NOT FOUND\n",
      "Question: what artist released the album in japan \n",
      "SQL: SELECT count(*)\n",
      "        FROM fb_two_kg\n",
      "        WHERE object_mid='01wd_x_'\n",
      "        AND relation='music/album/artist'\n",
      "        AND subject_mid='01jxwrn'\n",
      "        \n",
      "\n",
      "[12] FACT NOT FOUND\n",
      "Question: what is a basketball player\n",
      "SQL: SELECT count(*)\n",
      "        FROM fb_two_kg\n",
      "        WHERE object_mid='02nsjl9'\n",
      "        AND relation='common/topic/notable_types'\n",
      "        AND subject_mid='0ymrldg'\n",
      "        \n",
      "\n",
      "[13] FACT NOT FOUND\n",
      "Question: who produced the best recording\n",
      "SQL: SELECT count(*)\n",
      "        FROM fb_two_kg\n",
      "        WHERE object_mid='01vwyqp'\n",
      "        AND relation='music/recording/producer'\n",
      "        AND subject_mid='0101l0v'\n",
      "        \n",
      "\n",
      "[14] FACT NOT FOUND\n",
      "Question: What is a fictional political party?\n",
      "SQL: SELECT count(*)\n",
      "        FROM fb_two_kg\n",
      "        WHERE object_mid='0pm7r'\n",
      "        AND relation='fictional_universe/fictional_organization_type/organizations'\n",
      "        AND subject_mid='05_5d'\n",
      "        \n",
      "\n"
     ]
    },
    {
     "data": {
      "text/markdown": [
       "### Numbers\n",
       "Facts in not found in KG\n",
       "Failed %0.019760 [15 of 75910]"
      ],
      "text/plain": [
       "<IPython.core.display.Markdown object>"
      ]
     },
     "metadata": {},
     "output_type": "display_data"
    }
   ],
   "source": [
    "check_fact_invariant(df_train)"
   ]
  },
  {
   "cell_type": "markdown",
   "metadata": {},
   "source": [
    "## Discussion\n",
    "\n",
    "FB5M and FB2M do not have a triple for 24 and 36 examples in SimpleQuestions dataset respectively. Those examples are impossible to answer. They should be removed in future iterations of the dataset."
   ]
  }
 ],
 "metadata": {
  "kernelspec": {
   "display_name": "Python 3",
   "language": "python",
   "name": "python3"
  },
  "language_info": {
   "codemirror_mode": {
    "name": "ipython",
    "version": 3
   },
   "file_extension": ".py",
   "mimetype": "text/x-python",
   "name": "python",
   "nbconvert_exporter": "python",
   "pygments_lexer": "ipython3",
   "version": "3.6.4"
  }
 },
 "nbformat": 4,
 "nbformat_minor": 2
}
