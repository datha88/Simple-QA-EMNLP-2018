{
 "cells": [
  {
   "cell_type": "markdown",
   "metadata": {},
   "source": [
    "# Step 3 - Predict Relation and Finish\n",
    "\n",
    "Our goal during this step is to predict the relation and compute the end-to-end accuracy."
   ]
  },
  {
   "cell_type": "code",
   "execution_count": 1,
   "metadata": {},
   "outputs": [],
   "source": [
    "import sys\n",
    "sys.path.insert(0, '../../')"
   ]
  },
  {
   "cell_type": "code",
   "execution_count": 2,
   "metadata": {},
   "outputs": [],
   "source": [
    "from lib.utils import get_connection \n",
    "from lib.utils import FB2M_NAME_TABLE\n",
    "from lib.utils import FB2M_KG_TABLE\n",
    "\n",
    "connection = get_connection()\n",
    "cursor = connection.cursor()"
   ]
  },
  {
   "cell_type": "code",
   "execution_count": 3,
   "metadata": {},
   "outputs": [
    {
     "data": {
      "application/vnd.jupyter.widget-view+json": {
       "model_id": "",
       "version_major": 2,
       "version_minor": 0
      },
      "text/plain": [
       "HBox(children=(IntProgress(value=1, bar_style='info', max=1), HTML(value='')))"
      ]
     },
     "metadata": {},
     "output_type": "display_data"
    },
    {
     "name": "stdout",
     "output_type": "stream",
     "text": [
      "\r"
     ]
    },
    {
     "data": {
      "text/html": [
       "<div>\n",
       "<style scoped>\n",
       "    .dataframe tbody tr th:only-of-type {\n",
       "        vertical-align: middle;\n",
       "    }\n",
       "\n",
       "    .dataframe tbody tr th {\n",
       "        vertical-align: top;\n",
       "    }\n",
       "\n",
       "    .dataframe thead th {\n",
       "        text-align: right;\n",
       "    }\n",
       "</style>\n",
       "<table border=\"1\" class=\"dataframe\">\n",
       "  <thead>\n",
       "    <tr style=\"text-align: right;\">\n",
       "      <th></th>\n",
       "      <th>end_index</th>\n",
       "      <th>object</th>\n",
       "      <th>predicted_question_tokens</th>\n",
       "      <th>predicted_subject_names</th>\n",
       "      <th>question</th>\n",
       "      <th>question_tokens</th>\n",
       "      <th>relation</th>\n",
       "      <th>start_index</th>\n",
       "      <th>subject</th>\n",
       "      <th>subject_name</th>\n",
       "      <th>subject_name_tokens</th>\n",
       "      <th>candidate_mids</th>\n",
       "      <th>predicted_start_index</th>\n",
       "      <th>predicted_end_index</th>\n",
       "      <th>predicted_subject_name</th>\n",
       "    </tr>\n",
       "  </thead>\n",
       "  <tbody>\n",
       "    <tr>\n",
       "      <th>6219</th>\n",
       "      <td>NaN</td>\n",
       "      <td>0bs56bp</td>\n",
       "      <td>[name, an, american, thoroughbread, racehorse]</td>\n",
       "      <td>[{'name': 'american thoroughbread', 'score': 4...</td>\n",
       "      <td>Name an American Thoroughbread racehorse</td>\n",
       "      <td>NaN</td>\n",
       "      <td>biology/organism_classification/organisms_of_t...</td>\n",
       "      <td>NaN</td>\n",
       "      <td>03k3r</td>\n",
       "      <td>NaN</td>\n",
       "      <td>NaN</td>\n",
       "      <td>[01z1jf2, 04q7gbh]</td>\n",
       "      <td>2.0</td>\n",
       "      <td>3.0</td>\n",
       "      <td>american</td>\n",
       "    </tr>\n",
       "    <tr>\n",
       "      <th>3364</th>\n",
       "      <td>9.0</td>\n",
       "      <td>01sjng</td>\n",
       "      <td>[what, kind, of, game, is, vision, racing, dri...</td>\n",
       "      <td>[{'name': 'vision racing driving simulator', '...</td>\n",
       "      <td>what kind of game is vision racing driving sim...</td>\n",
       "      <td>[what, kind, of, game, is, vision, racing, dri...</td>\n",
       "      <td>cvg/computer_videogame/cvg_genre</td>\n",
       "      <td>5.0</td>\n",
       "      <td>02qlppc</td>\n",
       "      <td>vision racing driving simulator</td>\n",
       "      <td>(vision, racing, driving, simulator)</td>\n",
       "      <td>[02qlppc]</td>\n",
       "      <td>5.0</td>\n",
       "      <td>9.0</td>\n",
       "      <td>vision racing driving simulator</td>\n",
       "    </tr>\n",
       "    <tr>\n",
       "      <th>9374</th>\n",
       "      <td>6.0</td>\n",
       "      <td>0dlmm88</td>\n",
       "      <td>[what, tv, program, is, romance, film]</td>\n",
       "      <td>[{'name': 'romance film', 'score': 55.87209701...</td>\n",
       "      <td>what tv program is romance film</td>\n",
       "      <td>[what, tv, program, is, romance, film]</td>\n",
       "      <td>tv/tv_genre/programs</td>\n",
       "      <td>4.0</td>\n",
       "      <td>02l7c8</td>\n",
       "      <td>romance film</td>\n",
       "      <td>(romance, film)</td>\n",
       "      <td>[02l7c8]</td>\n",
       "      <td>4.0</td>\n",
       "      <td>6.0</td>\n",
       "      <td>romance film</td>\n",
       "    </tr>\n",
       "    <tr>\n",
       "      <th>10142</th>\n",
       "      <td>4.0</td>\n",
       "      <td>04rrx</td>\n",
       "      <td>[what, state, is, polaski, located, in]</td>\n",
       "      <td>[{'name': 'polaski', 'score': 57.6216735839843...</td>\n",
       "      <td>what state is  polaski located in</td>\n",
       "      <td>[what, state, is, polaski, located, in]</td>\n",
       "      <td>location/location/containedby</td>\n",
       "      <td>3.0</td>\n",
       "      <td>049_zj3</td>\n",
       "      <td>polaski</td>\n",
       "      <td>(polaski,)</td>\n",
       "      <td>[049_zj3]</td>\n",
       "      <td>3.0</td>\n",
       "      <td>4.0</td>\n",
       "      <td>polaski</td>\n",
       "    </tr>\n",
       "    <tr>\n",
       "      <th>97</th>\n",
       "      <td>8.0</td>\n",
       "      <td>0qcr0</td>\n",
       "      <td>[what, disease, claimed, the, life, of, fern, ...</td>\n",
       "      <td>[{'name': 'fern emmett', 'score': 69.716217041...</td>\n",
       "      <td>what disease claimed the life of fern emmett</td>\n",
       "      <td>[what, disease, claimed, the, life, of, fern, ...</td>\n",
       "      <td>people/deceased_person/cause_of_death</td>\n",
       "      <td>6.0</td>\n",
       "      <td>02w9ycr</td>\n",
       "      <td>fern emmett</td>\n",
       "      <td>(fern, emmett)</td>\n",
       "      <td>[02w9ycr]</td>\n",
       "      <td>6.0</td>\n",
       "      <td>8.0</td>\n",
       "      <td>fern emmett</td>\n",
       "    </tr>\n",
       "  </tbody>\n",
       "</table>\n",
       "</div>"
      ],
      "text/plain": [
       "       end_index   object                          predicted_question_tokens  \\\n",
       "6219         NaN  0bs56bp     [name, an, american, thoroughbread, racehorse]   \n",
       "3364         9.0   01sjng  [what, kind, of, game, is, vision, racing, dri...   \n",
       "9374         6.0  0dlmm88             [what, tv, program, is, romance, film]   \n",
       "10142        4.0    04rrx            [what, state, is, polaski, located, in]   \n",
       "97           8.0    0qcr0  [what, disease, claimed, the, life, of, fern, ...   \n",
       "\n",
       "                                 predicted_subject_names  \\\n",
       "6219   [{'name': 'american thoroughbread', 'score': 4...   \n",
       "3364   [{'name': 'vision racing driving simulator', '...   \n",
       "9374   [{'name': 'romance film', 'score': 55.87209701...   \n",
       "10142  [{'name': 'polaski', 'score': 57.6216735839843...   \n",
       "97     [{'name': 'fern emmett', 'score': 69.716217041...   \n",
       "\n",
       "                                                question  \\\n",
       "6219           Name an American Thoroughbread racehorse    \n",
       "3364   what kind of game is vision racing driving sim...   \n",
       "9374                     what tv program is romance film   \n",
       "10142                  what state is  polaski located in   \n",
       "97          what disease claimed the life of fern emmett   \n",
       "\n",
       "                                         question_tokens  \\\n",
       "6219                                                 NaN   \n",
       "3364   [what, kind, of, game, is, vision, racing, dri...   \n",
       "9374              [what, tv, program, is, romance, film]   \n",
       "10142            [what, state, is, polaski, located, in]   \n",
       "97     [what, disease, claimed, the, life, of, fern, ...   \n",
       "\n",
       "                                                relation  start_index  \\\n",
       "6219   biology/organism_classification/organisms_of_t...          NaN   \n",
       "3364                    cvg/computer_videogame/cvg_genre          5.0   \n",
       "9374                                tv/tv_genre/programs          4.0   \n",
       "10142                      location/location/containedby          3.0   \n",
       "97                 people/deceased_person/cause_of_death          6.0   \n",
       "\n",
       "       subject                     subject_name  \\\n",
       "6219     03k3r                              NaN   \n",
       "3364   02qlppc  vision racing driving simulator   \n",
       "9374    02l7c8                     romance film   \n",
       "10142  049_zj3                          polaski   \n",
       "97     02w9ycr                      fern emmett   \n",
       "\n",
       "                        subject_name_tokens      candidate_mids  \\\n",
       "6219                                    NaN  [01z1jf2, 04q7gbh]   \n",
       "3364   (vision, racing, driving, simulator)           [02qlppc]   \n",
       "9374                        (romance, film)            [02l7c8]   \n",
       "10142                            (polaski,)           [049_zj3]   \n",
       "97                           (fern, emmett)           [02w9ycr]   \n",
       "\n",
       "       predicted_start_index  predicted_end_index  \\\n",
       "6219                     2.0                  3.0   \n",
       "3364                     5.0                  9.0   \n",
       "9374                     4.0                  6.0   \n",
       "10142                    3.0                  4.0   \n",
       "97                       6.0                  8.0   \n",
       "\n",
       "                predicted_subject_name  \n",
       "6219                          american  \n",
       "3364   vision racing driving simulator  \n",
       "9374                      romance film  \n",
       "10142                          polaski  \n",
       "97                         fern emmett  "
      ]
     },
     "execution_count": 3,
     "metadata": {},
     "output_type": "execute_result"
    }
   ],
   "source": [
    "import pandas as pd\n",
    "from tqdm import tqdm_notebook\n",
    "from functools import partial\n",
    "\n",
    "tqdm_notebook = partial(tqdm_notebook, leave=False)\n",
    "tqdm_notebook().pandas()\n",
    "\n",
    "df = pd.read_pickle('step_2_generate_candidates.pkl')\n",
    "df[:5]"
   ]
  },
  {
   "cell_type": "markdown",
   "metadata": {},
   "source": [
    "## Generate Facts\n",
    "\n",
    "Given the candidate mids, the we generate candidate facts."
   ]
  },
  {
   "cell_type": "code",
   "execution_count": 4,
   "metadata": {},
   "outputs": [],
   "source": [
    "from collections import defaultdict\n",
    "\n",
    "def generate_facts(row):\n",
    "    cursor.execute(\"\"\"SELECT subject_mid, relation, object_mid\n",
    "                      FROM {kg}\n",
    "                      WHERE subject_mid = ANY(%s)\"\"\".format(kg=FB2M_KG_TABLE), (row['candidate_mids'],))\n",
    "    rows = cursor.fetchall()\n",
    "    candidate_facts = defaultdict(lambda: defaultdict(set))\n",
    "    \n",
    "    for subject_mid, relation, object_mid in rows:\n",
    "        candidate_facts[relation][subject_mid].add(object_mid)\n",
    "    \n",
    "    # Convert it back to dict\n",
    "    for relation in candidate_facts:\n",
    "        candidate_facts[relation] = dict(candidate_facts[relation])\n",
    "    candidate_facts = dict(candidate_facts)\n",
    "        \n",
    "    return candidate_facts"
   ]
  },
  {
   "cell_type": "code",
   "execution_count": 5,
   "metadata": {},
   "outputs": [
    {
     "data": {
      "application/vnd.jupyter.widget-view+json": {
       "model_id": "9c61fab58ebe44799e2813adc2ad4c51",
       "version_major": 2,
       "version_minor": 0
      },
      "text/plain": [
       "HBox(children=(IntProgress(value=0, max=10845), HTML(value='')))"
      ]
     },
     "metadata": {},
     "output_type": "display_data"
    },
    {
     "name": "stdout",
     "output_type": "stream",
     "text": [
      "\n"
     ]
    }
   ],
   "source": [
    "df['candidate_facts'] = df.progress_apply(generate_facts, axis=1)"
   ]
  },
  {
   "cell_type": "code",
   "execution_count": 6,
   "metadata": {},
   "outputs": [
    {
     "name": "stdout",
     "output_type": "stream",
     "text": [
      "Average Number of Relations: 17.962010142923006\n"
     ]
    }
   ],
   "source": [
    "print('Average Number of Relations:', sum(len(r) for r in df['candidate_facts']) / df.shape[0])"
   ]
  },
  {
   "cell_type": "markdown",
   "metadata": {},
   "source": [
    "## Upperbounds\n",
    "\n",
    "Check the accuracy of the candidates."
   ]
  },
  {
   "cell_type": "code",
   "execution_count": 7,
   "metadata": {},
   "outputs": [
    {
     "data": {
      "application/vnd.jupyter.widget-view+json": {
       "model_id": "caca8d4a86fd482a94d54d5015777dcf",
       "version_major": 2,
       "version_minor": 0
      },
      "text/plain": [
       "HBox(children=(IntProgress(value=0, max=10845), HTML(value='')))"
      ]
     },
     "metadata": {},
     "output_type": "display_data"
    },
    {
     "name": "stdout",
     "output_type": "stream",
     "text": [
      "\n",
      "Object Canditate Accuracy: 0.9550023052097741\n",
      "Relation Canditate Accuracy: 0.9674504379898571\n",
      "Subject Canditate Accuracy: 0.9550023052097741\n"
     ]
    }
   ],
   "source": [
    "from tqdm import tqdm_notebook\n",
    "\n",
    "correct_object = 0\n",
    "correct_relation = 0\n",
    "correct_subject = 0\n",
    "for index, row in tqdm_notebook(df.iterrows(), total=df.shape[0]):\n",
    "    facts = row['candidate_facts']\n",
    "\n",
    "    if row['relation'] in facts:\n",
    "        correct_relation += 1\n",
    "        if row['subject'] in facts[row['relation']]:\n",
    "            correct_subject += 1\n",
    "            if row['object'] in facts[row['relation']][row['subject']]:\n",
    "                correct_object += 1    \n",
    "        \n",
    "\n",
    "print('Object Canditate Accuracy:', correct_object / df.shape[0])\n",
    "print('Relation Canditate Accuracy:', correct_relation / df.shape[0])\n",
    "print('Subject Canditate Accuracy:', correct_subject / df.shape[0])\n",
    "\n",
    "# Object Canditate Accuracy: 0.9566620562471185\n",
    "# Relation Canditate Accuracy: 0.9678192715537114\n",
    "# Subject Canditate Accuracy: 0.9566620562471185"
   ]
  },
  {
   "cell_type": "markdown",
   "metadata": {},
   "source": [
    "## Models\n",
    "\n",
    "Load models to be used in our final step."
   ]
  },
  {
   "cell_type": "code",
   "execution_count": 8,
   "metadata": {},
   "outputs": [],
   "source": [
    "from lib.checkpoint import Checkpoint\n",
    "\n",
    "def load_checkpoint(path):\n",
    "    checkpoint = Checkpoint(checkpoint_path=path, device=0)\n",
    "    checkpoint.model.train(mode=False)\n",
    "    checkpoint.model.apply(lambda m: m.flatten_parameters() if hasattr(m, 'flatten_parameters') else None)\n",
    "    return checkpoint\n",
    "\n",
    "cuda = lambda v: v.cuda() if torch.cuda.is_available() else t"
   ]
  },
  {
   "cell_type": "code",
   "execution_count": 9,
   "metadata": {},
   "outputs": [
    {
     "data": {
      "application/vnd.jupyter.widget-view+json": {
       "model_id": "ffee460dd51d4017a8a4c118291dc307",
       "version_major": 2,
       "version_minor": 0
      },
      "text/plain": [
       "HBox(children=(IntProgress(value=0, max=10845), HTML(value='')))"
      ]
     },
     "metadata": {},
     "output_type": "display_data"
    },
    {
     "name": "stdout",
     "output_type": "stream",
     "text": [
      "\n"
     ]
    },
    {
     "data": {
      "text/html": [
       "<div>\n",
       "<style scoped>\n",
       "    .dataframe tbody tr th:only-of-type {\n",
       "        vertical-align: middle;\n",
       "    }\n",
       "\n",
       "    .dataframe tbody tr th {\n",
       "        vertical-align: top;\n",
       "    }\n",
       "\n",
       "    .dataframe thead th {\n",
       "        text-align: right;\n",
       "    }\n",
       "</style>\n",
       "<table border=\"1\" class=\"dataframe\">\n",
       "  <thead>\n",
       "    <tr style=\"text-align: right;\">\n",
       "      <th></th>\n",
       "      <th>end_index</th>\n",
       "      <th>object</th>\n",
       "      <th>predicted_question_tokens</th>\n",
       "      <th>predicted_subject_names</th>\n",
       "      <th>question</th>\n",
       "      <th>question_tokens</th>\n",
       "      <th>relation</th>\n",
       "      <th>start_index</th>\n",
       "      <th>subject</th>\n",
       "      <th>subject_name</th>\n",
       "      <th>subject_name_tokens</th>\n",
       "      <th>candidate_mids</th>\n",
       "      <th>predicted_start_index</th>\n",
       "      <th>predicted_end_index</th>\n",
       "      <th>predicted_subject_name</th>\n",
       "      <th>candidate_facts</th>\n",
       "      <th>predicted_predicate</th>\n",
       "    </tr>\n",
       "  </thead>\n",
       "  <tbody>\n",
       "    <tr>\n",
       "      <th>6219</th>\n",
       "      <td>NaN</td>\n",
       "      <td>0bs56bp</td>\n",
       "      <td>[name, an, american, thoroughbread, racehorse]</td>\n",
       "      <td>[{'name': 'american thoroughbread', 'score': 4...</td>\n",
       "      <td>Name an American Thoroughbread racehorse</td>\n",
       "      <td>NaN</td>\n",
       "      <td>biology/organism_classification/organisms_of_t...</td>\n",
       "      <td>NaN</td>\n",
       "      <td>03k3r</td>\n",
       "      <td>NaN</td>\n",
       "      <td>NaN</td>\n",
       "      <td>[01z1jf2, 04q7gbh]</td>\n",
       "      <td>2.0</td>\n",
       "      <td>3.0</td>\n",
       "      <td>american</td>\n",
       "      <td>{'symbols/namesake/named_after': {'04q7gbh': {...</td>\n",
       "      <td>name an &lt;e&gt; thoroughbread racehorse</td>\n",
       "    </tr>\n",
       "    <tr>\n",
       "      <th>3364</th>\n",
       "      <td>9.0</td>\n",
       "      <td>01sjng</td>\n",
       "      <td>[what, kind, of, game, is, vision, racing, dri...</td>\n",
       "      <td>[{'name': 'vision racing driving simulator', '...</td>\n",
       "      <td>what kind of game is vision racing driving sim...</td>\n",
       "      <td>[what, kind, of, game, is, vision, racing, dri...</td>\n",
       "      <td>cvg/computer_videogame/cvg_genre</td>\n",
       "      <td>5.0</td>\n",
       "      <td>02qlppc</td>\n",
       "      <td>vision racing driving simulator</td>\n",
       "      <td>(vision, racing, driving, simulator)</td>\n",
       "      <td>[02qlppc]</td>\n",
       "      <td>5.0</td>\n",
       "      <td>9.0</td>\n",
       "      <td>vision racing driving simulator</td>\n",
       "      <td>{'cvg/computer_videogame/gameplay_modes': {'02...</td>\n",
       "      <td>what kind of game is &lt;e&gt; ?</td>\n",
       "    </tr>\n",
       "    <tr>\n",
       "      <th>9374</th>\n",
       "      <td>6.0</td>\n",
       "      <td>0dlmm88</td>\n",
       "      <td>[what, tv, program, is, romance, film]</td>\n",
       "      <td>[{'name': 'romance film', 'score': 55.87209701...</td>\n",
       "      <td>what tv program is romance film</td>\n",
       "      <td>[what, tv, program, is, romance, film]</td>\n",
       "      <td>tv/tv_genre/programs</td>\n",
       "      <td>4.0</td>\n",
       "      <td>02l7c8</td>\n",
       "      <td>romance film</td>\n",
       "      <td>(romance, film)</td>\n",
       "      <td>[02l7c8]</td>\n",
       "      <td>4.0</td>\n",
       "      <td>6.0</td>\n",
       "      <td>romance film</td>\n",
       "      <td>{'tv/tv_genre/programs': {'02l7c8': {'0j42ndm'...</td>\n",
       "      <td>what tv program is &lt;e&gt;</td>\n",
       "    </tr>\n",
       "    <tr>\n",
       "      <th>10142</th>\n",
       "      <td>4.0</td>\n",
       "      <td>04rrx</td>\n",
       "      <td>[what, state, is, polaski, located, in]</td>\n",
       "      <td>[{'name': 'polaski', 'score': 57.6216735839843...</td>\n",
       "      <td>what state is  polaski located in</td>\n",
       "      <td>[what, state, is, polaski, located, in]</td>\n",
       "      <td>location/location/containedby</td>\n",
       "      <td>3.0</td>\n",
       "      <td>049_zj3</td>\n",
       "      <td>polaski</td>\n",
       "      <td>(polaski,)</td>\n",
       "      <td>[049_zj3]</td>\n",
       "      <td>3.0</td>\n",
       "      <td>4.0</td>\n",
       "      <td>polaski</td>\n",
       "      <td>{'location/location/containedby': {'049_zj3': ...</td>\n",
       "      <td>what state is &lt;e&gt; located in</td>\n",
       "    </tr>\n",
       "    <tr>\n",
       "      <th>97</th>\n",
       "      <td>8.0</td>\n",
       "      <td>0qcr0</td>\n",
       "      <td>[what, disease, claimed, the, life, of, fern, ...</td>\n",
       "      <td>[{'name': 'fern emmett', 'score': 69.716217041...</td>\n",
       "      <td>what disease claimed the life of fern emmett</td>\n",
       "      <td>[what, disease, claimed, the, life, of, fern, ...</td>\n",
       "      <td>people/deceased_person/cause_of_death</td>\n",
       "      <td>6.0</td>\n",
       "      <td>02w9ycr</td>\n",
       "      <td>fern emmett</td>\n",
       "      <td>(fern, emmett)</td>\n",
       "      <td>[02w9ycr]</td>\n",
       "      <td>6.0</td>\n",
       "      <td>8.0</td>\n",
       "      <td>fern emmett</td>\n",
       "      <td>{'people/person/nationality': {'02w9ycr': {'09...</td>\n",
       "      <td>what disease claimed the life of &lt;e&gt;</td>\n",
       "    </tr>\n",
       "  </tbody>\n",
       "</table>\n",
       "</div>"
      ],
      "text/plain": [
       "       end_index   object                          predicted_question_tokens  \\\n",
       "6219         NaN  0bs56bp     [name, an, american, thoroughbread, racehorse]   \n",
       "3364         9.0   01sjng  [what, kind, of, game, is, vision, racing, dri...   \n",
       "9374         6.0  0dlmm88             [what, tv, program, is, romance, film]   \n",
       "10142        4.0    04rrx            [what, state, is, polaski, located, in]   \n",
       "97           8.0    0qcr0  [what, disease, claimed, the, life, of, fern, ...   \n",
       "\n",
       "                                 predicted_subject_names  \\\n",
       "6219   [{'name': 'american thoroughbread', 'score': 4...   \n",
       "3364   [{'name': 'vision racing driving simulator', '...   \n",
       "9374   [{'name': 'romance film', 'score': 55.87209701...   \n",
       "10142  [{'name': 'polaski', 'score': 57.6216735839843...   \n",
       "97     [{'name': 'fern emmett', 'score': 69.716217041...   \n",
       "\n",
       "                                                question  \\\n",
       "6219           Name an American Thoroughbread racehorse    \n",
       "3364   what kind of game is vision racing driving sim...   \n",
       "9374                     what tv program is romance film   \n",
       "10142                  what state is  polaski located in   \n",
       "97          what disease claimed the life of fern emmett   \n",
       "\n",
       "                                         question_tokens  \\\n",
       "6219                                                 NaN   \n",
       "3364   [what, kind, of, game, is, vision, racing, dri...   \n",
       "9374              [what, tv, program, is, romance, film]   \n",
       "10142            [what, state, is, polaski, located, in]   \n",
       "97     [what, disease, claimed, the, life, of, fern, ...   \n",
       "\n",
       "                                                relation  start_index  \\\n",
       "6219   biology/organism_classification/organisms_of_t...          NaN   \n",
       "3364                    cvg/computer_videogame/cvg_genre          5.0   \n",
       "9374                                tv/tv_genre/programs          4.0   \n",
       "10142                      location/location/containedby          3.0   \n",
       "97                 people/deceased_person/cause_of_death          6.0   \n",
       "\n",
       "       subject                     subject_name  \\\n",
       "6219     03k3r                              NaN   \n",
       "3364   02qlppc  vision racing driving simulator   \n",
       "9374    02l7c8                     romance film   \n",
       "10142  049_zj3                          polaski   \n",
       "97     02w9ycr                      fern emmett   \n",
       "\n",
       "                        subject_name_tokens      candidate_mids  \\\n",
       "6219                                    NaN  [01z1jf2, 04q7gbh]   \n",
       "3364   (vision, racing, driving, simulator)           [02qlppc]   \n",
       "9374                        (romance, film)            [02l7c8]   \n",
       "10142                            (polaski,)           [049_zj3]   \n",
       "97                           (fern, emmett)           [02w9ycr]   \n",
       "\n",
       "       predicted_start_index  predicted_end_index  \\\n",
       "6219                     2.0                  3.0   \n",
       "3364                     5.0                  9.0   \n",
       "9374                     4.0                  6.0   \n",
       "10142                    3.0                  4.0   \n",
       "97                       6.0                  8.0   \n",
       "\n",
       "                predicted_subject_name  \\\n",
       "6219                          american   \n",
       "3364   vision racing driving simulator   \n",
       "9374                      romance film   \n",
       "10142                          polaski   \n",
       "97                         fern emmett   \n",
       "\n",
       "                                         candidate_facts  \\\n",
       "6219   {'symbols/namesake/named_after': {'04q7gbh': {...   \n",
       "3364   {'cvg/computer_videogame/gameplay_modes': {'02...   \n",
       "9374   {'tv/tv_genre/programs': {'02l7c8': {'0j42ndm'...   \n",
       "10142  {'location/location/containedby': {'049_zj3': ...   \n",
       "97     {'people/person/nationality': {'02w9ycr': {'09...   \n",
       "\n",
       "                        predicted_predicate  \n",
       "6219    name an <e> thoroughbread racehorse  \n",
       "3364             what kind of game is <e> ?  \n",
       "9374                 what tv program is <e>  \n",
       "10142          what state is <e> located in  \n",
       "97     what disease claimed the life of <e>  "
      ]
     },
     "execution_count": 9,
     "metadata": {},
     "output_type": "execute_result"
    }
   ],
   "source": [
    "def get_predicted_predicate(row):\n",
    "    formatted_question =  ''\n",
    "    for i, token in enumerate(row['predicted_question_tokens']):\n",
    "        if i == row['predicted_start_index']:\n",
    "            formatted_question += '<e>'\n",
    "        elif i > row['predicted_start_index'] and i < row['predicted_end_index']:\n",
    "            continue\n",
    "        else:\n",
    "            formatted_question += token.lower().strip()\n",
    "        formatted_question += ' '\n",
    "    formatted_question = formatted_question.strip()\n",
    "    return formatted_question\n",
    "\n",
    "df['predicted_predicate'] = df.progress_apply(get_predicted_predicate, axis=1)\n",
    "df[:5]"
   ]
  },
  {
   "cell_type": "markdown",
   "metadata": {},
   "source": [
    "### Softmax Relation Model\n",
    "\n",
    "Load the softmax relation model."
   ]
  },
  {
   "cell_type": "code",
   "execution_count": 10,
   "metadata": {},
   "outputs": [
    {
     "name": "stdout",
     "output_type": "stream",
     "text": [
      "Question: where was <e> born?\n",
      "Scores:\n",
      "[tensor(1.00000e-04 *\n",
      "       5.6025, device='cuda:0'), tensor(1.00000e-04 *\n",
      "       6.3373, device='cuda:0')]\n"
     ]
    },
    {
     "name": "stderr",
     "output_type": "stream",
     "text": [
      "/mount/arbeitsdaten46/projekte/dialog-1/kanjurva/Simple-QA-EMNLP-2018/env/lib/python3.6/site-packages/ipykernel_launcher.py:10: UserWarning: volatile was removed and now has no effect. Use `with torch.no_grad():` instead.\n",
      "  # Remove the CWD from sys.path while we load stuff.\n",
      "/mount/arbeitsdaten46/projekte/dialog-1/kanjurva/Simple-QA-EMNLP-2018/env/lib/python3.6/site-packages/ipykernel_launcher.py:12: UserWarning: volatile was removed and now has no effect. Use `with torch.no_grad():` instead.\n",
      "  if sys.path[0] == '':\n"
     ]
    }
   ],
   "source": [
    "from torch.autograd import Variable\n",
    "import math\n",
    "import torch\n",
    "\n",
    "def get_softmax_relation_score(checkpoint, question, relations):\n",
    "    relations = [r for r in relations]\n",
    "    relations = [checkpoint.relation_encoder.encode(r)[0] for r in relations]\n",
    "    mask = set(relations)\n",
    "    mask = [1 if i in relations else 0 for i in range(checkpoint.relation_encoder.vocab_size)]\n",
    "    mask = cuda(Variable(torch.FloatTensor(mask), volatile=True))\n",
    "    question = checkpoint.text_encoder.encode(question)\n",
    "    question = cuda(Variable(torch.LongTensor(question).unsqueeze(1), volatile=True))\n",
    "    output_batch = checkpoint.model(question, mask).exp_().data\n",
    "    output_batch = output_batch.squeeze(0)\n",
    "    return [output_batch[r] for r in relations]\n",
    "    \n",
    "## Test ##\n",
    "# Checkpoint with 0.880\n",
    "#checkpoint = load_checkpoint('../../pretrained_models/relation_classifier.02_02_07:59:28/1746.pt')\n",
    "checkpoint = load_checkpoint('../../experiments/relation_classifier.09_08_10:23:25/3309.pt')\n",
    "question = 'where was <e> born?'\n",
    "print('Question:', question)\n",
    "print('Scores:')\n",
    "print(get_softmax_relation_score(checkpoint, question, ['people/person/place_of_birth',\n",
    "                                                        'location/location/people_born_here']))"
   ]
  },
  {
   "cell_type": "code",
   "execution_count": 16,
   "metadata": {},
   "outputs": [
    {
     "data": {
      "application/vnd.jupyter.widget-view+json": {
       "model_id": "3ff849f3816f48cb91b647d1d93b8c36",
       "version_major": 2,
       "version_minor": 0
      },
      "text/plain": [
       "HBox(children=(IntProgress(value=0, max=10845), HTML(value='')))"
      ]
     },
     "metadata": {},
     "output_type": "display_data"
    },
    {
     "name": "stderr",
     "output_type": "stream",
     "text": [
      "/mount/arbeitsdaten46/projekte/dialog-1/kanjurva/Simple-QA-EMNLP-2018/env/lib/python3.6/site-packages/ipykernel_launcher.py:10: UserWarning: volatile was removed and now has no effect. Use `with torch.no_grad():` instead.\n",
      "  # Remove the CWD from sys.path while we load stuff.\n",
      "/mount/arbeitsdaten46/projekte/dialog-1/kanjurva/Simple-QA-EMNLP-2018/env/lib/python3.6/site-packages/ipykernel_launcher.py:12: UserWarning: volatile was removed and now has no effect. Use `with torch.no_grad():` instead.\n",
      "  if sys.path[0] == '':\n"
     ]
    },
    {
     "name": "stdout",
     "output_type": "stream",
     "text": [
      "\n"
     ]
    }
   ],
   "source": [
    "#checkpoint = load_checkpoint('../../pretrained_models/relation_classifier.02_02_13:31:11/189.pt')\n",
    "checkpoint = load_checkpoint('../../experiments/relation_classifier.09_08_10:23:25/4238.pt')\n",
    "def add_softmax_scores(row):\n",
    "    if len(row['candidate_facts']) != 0:\n",
    "        candidate_relations = list(row['candidate_facts'].keys())\n",
    "        return get_softmax_relation_score(checkpoint, row['predicted_predicate'], candidate_relations)\n",
    "    else:\n",
    "        return None\n",
    "    \n",
    "df['softmax_scores'] = df.progress_apply(add_softmax_scores, axis=1)"
   ]
  },
  {
   "cell_type": "code",
   "execution_count": 19,
   "metadata": {},
   "outputs": [
    {
     "data": {
      "application/vnd.jupyter.widget-view+json": {
       "model_id": "211af96e7a9b4ae1b72bf9eccc5985b2",
       "version_major": 2,
       "version_minor": 0
      },
      "text/plain": [
       "HBox(children=(IntProgress(value=0, max=10845), HTML(value='')))"
      ]
     },
     "metadata": {},
     "output_type": "display_data"
    },
    {
     "name": "stderr",
     "output_type": "stream",
     "text": [
      "/mount/arbeitsdaten46/projekte/dialog-1/kanjurva/Simple-QA-EMNLP-2018/env/lib/python3.6/site-packages/ipykernel_launcher.py:10: UserWarning: volatile was removed and now has no effect. Use `with torch.no_grad():` instead.\n",
      "  # Remove the CWD from sys.path while we load stuff.\n",
      "/mount/arbeitsdaten46/projekte/dialog-1/kanjurva/Simple-QA-EMNLP-2018/env/lib/python3.6/site-packages/ipykernel_launcher.py:12: UserWarning: volatile was removed and now has no effect. Use `with torch.no_grad():` instead.\n",
      "  if sys.path[0] == '':\n"
     ]
    },
    {
     "name": "stdout",
     "output_type": "stream",
     "text": [
      "\n"
     ]
    },
    {
     "data": {
      "application/vnd.jupyter.widget-view+json": {
       "model_id": "6841060986714594ac8e94738cb12f20",
       "version_major": 2,
       "version_minor": 0
      },
      "text/plain": [
       "HBox(children=(IntProgress(value=0, max=10845), HTML(value='')))"
      ]
     },
     "metadata": {},
     "output_type": "display_data"
    },
    {
     "name": "stdout",
     "output_type": "stream",
     "text": [
      "\n"
     ]
    }
   ],
   "source": [
    "import torch\n",
    "from functools import partial\n",
    "\n",
    "def add_softmax_ensemble_scores(row, checkpoint):\n",
    "    if len(row['candidate_facts']) != 0:\n",
    "        candidate_relations = list(row['candidate_facts'].keys())\n",
    "        scores = get_softmax_relation_score(checkpoint, row['predicted_predicate'], candidate_relations)\n",
    "        # Sum together...\n",
    "        return [ensemble_score + score for ensemble_score, score in zip(row['softmax_ensemble_scores'], scores)]\n",
    "    else:\n",
    "        return None\n",
    "\n",
    "# Copy previous single model scores\n",
    "df['softmax_ensemble_scores'] = df['softmax_scores']\n",
    "ensemble = [\n",
    "#     '../../pretrained_models/relation_classifier.02_02_13:31:11/189.pt', # 1212212=seed, 88.38%=dev_accuracy\n",
    "    #'../../pretrained_models/relation_classifier.02_02_13:23:02/223.pt', # 457=seed, 88.26%=dev_accuracy\n",
    "    #'../../pretrained_models/relation_classifier.02_02_07:59:28/1746.pt', # 123=seed, 88.25%=dev_accuracy\n",
    "    '../../experiments/relation_classifier.09_08_10:23:25/4238.pt',\n",
    "    '../../experiments/relation_classifier.09_08_10:23:25/4238.pt'\n",
    "]\n",
    "\n",
    "for path in ensemble:\n",
    "    checkpoint = load_checkpoint(path)\n",
    "    df['softmax_ensemble_scores'] = df.progress_apply(partial(add_softmax_ensemble_scores,\n",
    "                                                              checkpoint=checkpoint), axis=1)\n",
    "    torch.cuda.empty_cache()"
   ]
  },
  {
   "cell_type": "markdown",
   "metadata": {},
   "source": [
    "## Final End-To-End Metric\n",
    "\n",
    "Given candidate facts compute the end-to-end metric. Below we start a couple code blocks with basic utilities used by each version."
   ]
  },
  {
   "cell_type": "markdown",
   "metadata": {},
   "source": [
    "#### FB2M Probability to Train Probability"
   ]
  },
  {
   "cell_type": "code",
   "execution_count": 20,
   "metadata": {},
   "outputs": [],
   "source": [
    "cursor.execute('SELECT relation, count(*) FROM ' + FB2M_KG_TABLE + ' GROUP BY relation')\n",
    "relation_count_fb2m = {}\n",
    "for relation, n_rows_fb2m in cursor.fetchall():\n",
    "    relation_count_fb2m[relation] = n_rows_fb2m"
   ]
  },
  {
   "cell_type": "code",
   "execution_count": 21,
   "metadata": {},
   "outputs": [
    {
     "name": "stderr",
     "output_type": "stream",
     "text": [
      "../../lib/simple_qa.py:36: FutureWarning: read_table is deprecated, use read_csv instead, passing sep='\\t'.\n",
      "  filename, header=None, names=['subject', 'relation', 'object', 'question'])\n"
     ]
    }
   ],
   "source": [
    "from collections import defaultdict\n",
    "from lib.simple_qa import load_simple_qa \n",
    "from tqdm import tqdm_notebook\n",
    "\n",
    "df_train, = load_simple_qa(train=True)\n",
    "\n",
    "total_rows_train = df_train.shape[0]\n",
    "cursor.execute('SELECT count(*) FROM ' + FB2M_KG_TABLE)\n",
    "total_rows_fb_two_kg = cursor.fetchone()[0]\n",
    "\n",
    "# Given we see a relation occuring with %x probability in KG, we use `transform_probability_from_kg_to_train`\n",
    "# to get the probability of the relation occuring in SimpleQuestions.\n",
    "transform_probability_from_kg_to_train = defaultdict(int)\n",
    "for relation, n_rows_train in df_train.relation.value_counts().iteritems():\n",
    "    n_facts_fb2m = relation_count_fb2m[relation]\n",
    "    \n",
    "    relation_probability_kg = n_facts_fb2m / total_rows_fb_two_kg\n",
    "    relation_probability_train = n_rows_train / total_rows_train\n",
    "    \n",
    "    transform_probability_from_kg_to_train[relation] = relation_probability_train / relation_probability_kg"
   ]
  },
  {
   "cell_type": "markdown",
   "metadata": {},
   "source": [
    "#### Evaluation\n",
    "\n",
    "Question interpretations allow us to allow questions to be interpreted multiple times."
   ]
  },
  {
   "cell_type": "code",
   "execution_count": 22,
   "metadata": {},
   "outputs": [],
   "source": [
    "import json\n",
    "\n",
    "question_interpretations = json.load(open('../Simple QA Numbers/question_interpretations.txt'))\n",
    "question_interpretations = [set([tuple(pair) for pair in row]) for row in question_interpretations]"
   ]
  },
  {
   "cell_type": "markdown",
   "metadata": {},
   "source": [
    "Get the predicate row for every training example. We use this to analyze the closest negative predicate to confirm if the data supports the false relation."
   ]
  },
  {
   "cell_type": "code",
   "execution_count": 23,
   "metadata": {},
   "outputs": [
    {
     "data": {
      "application/vnd.jupyter.widget-view+json": {
       "model_id": "a757a29c49434f27b6a1d7590380c968",
       "version_major": 2,
       "version_minor": 0
      },
      "text/plain": [
       "HBox(children=(IntProgress(value=0, max=75910), HTML(value='')))"
      ]
     },
     "metadata": {},
     "output_type": "display_data"
    },
    {
     "name": "stdout",
     "output_type": "stream",
     "text": [
      "\n",
      "importing Jupyter notebook from ../../notebooks/Simple QA Models/Subject Recognition Data.ipynb\n"
     ]
    },
    {
     "data": {
      "application/vnd.jupyter.widget-view+json": {
       "model_id": "8ec70525a5c34d04b749ef532df4b6a6",
       "version_major": 2,
       "version_minor": 0
      },
      "text/plain": [
       "HBox(children=(IntProgress(value=0, max=75910), HTML(value='')))"
      ]
     },
     "metadata": {},
     "output_type": "display_data"
    },
    {
     "name": "stdout",
     "output_type": "stream",
     "text": [
      "\n"
     ]
    }
   ],
   "source": [
    "from functools import partial\n",
    "import importlib\n",
    "import lib.import_notebook\n",
    "\n",
    "edit_distance_link_alias = importlib.import_module(\n",
    "                \"notebooks.Simple QA Numbers.HYPOTHESIS - Question Refers to Multiple Subjects\").edit_distance_link_alias\n",
    "normalize = importlib.import_module(\n",
    "                \"notebooks.Simple QA Numbers.HYPOTHESIS - Subject Name not in Question\").normalize\n",
    "\n",
    "# Create a column with the subject_name linked per example\n",
    "df_train['subject_name'] = df_train.progress_apply(partial(edit_distance_link_alias, cursor, normalize), axis=1)\n",
    "\n",
    "find_subject_name_span = importlib.import_module(\n",
    "                \"notebooks.Simple QA Models.Subject Recognition Data\").find_subject_name_span\n",
    "\n",
    "df_train = df_train.progress_apply(find_subject_name_span, axis=1)"
   ]
  },
  {
   "cell_type": "code",
   "execution_count": 24,
   "metadata": {},
   "outputs": [
    {
     "data": {
      "application/vnd.jupyter.widget-view+json": {
       "model_id": "a402360d58c6421c8af0c18197eceff7",
       "version_major": 2,
       "version_minor": 0
      },
      "text/plain": [
       "HBox(children=(IntProgress(value=0, max=75910), HTML(value='')))"
      ]
     },
     "metadata": {},
     "output_type": "display_data"
    },
    {
     "name": "stdout",
     "output_type": "stream",
     "text": [
      "\n"
     ]
    },
    {
     "ename": "AttributeError",
     "evalue": "'LazyConfigValue' object has no attribute 'lower'",
     "output_type": "error",
     "traceback": [
      "\u001b[0;31m---------------------------------------------------------------------------\u001b[0m",
      "\u001b[0;31mAttributeError\u001b[0m                            Traceback (most recent call last)",
      "\u001b[0;32m/mount/arbeitsdaten46/projekte/dialog-1/kanjurva/Simple-QA-EMNLP-2018/env/lib/python3.6/site-packages/IPython/core/formatters.py\u001b[0m in \u001b[0;36m__call__\u001b[0;34m(self, obj)\u001b[0m\n\u001b[1;32m    343\u001b[0m             \u001b[0mmethod\u001b[0m \u001b[0;34m=\u001b[0m \u001b[0mget_real_method\u001b[0m\u001b[0;34m(\u001b[0m\u001b[0mobj\u001b[0m\u001b[0;34m,\u001b[0m \u001b[0mself\u001b[0m\u001b[0;34m.\u001b[0m\u001b[0mprint_method\u001b[0m\u001b[0;34m)\u001b[0m\u001b[0;34m\u001b[0m\u001b[0;34m\u001b[0m\u001b[0m\n\u001b[1;32m    344\u001b[0m             \u001b[0;32mif\u001b[0m \u001b[0mmethod\u001b[0m \u001b[0;32mis\u001b[0m \u001b[0;32mnot\u001b[0m \u001b[0;32mNone\u001b[0m\u001b[0;34m:\u001b[0m\u001b[0;34m\u001b[0m\u001b[0;34m\u001b[0m\u001b[0m\n\u001b[0;32m--> 345\u001b[0;31m                 \u001b[0;32mreturn\u001b[0m \u001b[0mmethod\u001b[0m\u001b[0;34m(\u001b[0m\u001b[0;34m)\u001b[0m\u001b[0;34m\u001b[0m\u001b[0;34m\u001b[0m\u001b[0m\n\u001b[0m\u001b[1;32m    346\u001b[0m             \u001b[0;32mreturn\u001b[0m \u001b[0;32mNone\u001b[0m\u001b[0;34m\u001b[0m\u001b[0;34m\u001b[0m\u001b[0m\n\u001b[1;32m    347\u001b[0m         \u001b[0;32melse\u001b[0m\u001b[0;34m:\u001b[0m\u001b[0;34m\u001b[0m\u001b[0;34m\u001b[0m\u001b[0m\n",
      "\u001b[0;32m/mount/arbeitsdaten46/projekte/dialog-1/kanjurva/Simple-QA-EMNLP-2018/env/lib/python3.6/site-packages/pandas/core/frame.py\u001b[0m in \u001b[0;36m_repr_html_\u001b[0;34m(self)\u001b[0m\n\u001b[1;32m    647\u001b[0m         \u001b[0;31m# display HTML, so this check can be removed when support for\u001b[0m\u001b[0;34m\u001b[0m\u001b[0;34m\u001b[0m\u001b[0;34m\u001b[0m\u001b[0m\n\u001b[1;32m    648\u001b[0m         \u001b[0;31m# IPython 2.x is no longer needed.\u001b[0m\u001b[0;34m\u001b[0m\u001b[0;34m\u001b[0m\u001b[0;34m\u001b[0m\u001b[0m\n\u001b[0;32m--> 649\u001b[0;31m         \u001b[0;32mif\u001b[0m \u001b[0mconsole\u001b[0m\u001b[0;34m.\u001b[0m\u001b[0min_qtconsole\u001b[0m\u001b[0;34m(\u001b[0m\u001b[0;34m)\u001b[0m\u001b[0;34m:\u001b[0m\u001b[0;34m\u001b[0m\u001b[0;34m\u001b[0m\u001b[0m\n\u001b[0m\u001b[1;32m    650\u001b[0m             \u001b[0;31m# 'HTML output is disabled in QtConsole'\u001b[0m\u001b[0;34m\u001b[0m\u001b[0;34m\u001b[0m\u001b[0;34m\u001b[0m\u001b[0m\n\u001b[1;32m    651\u001b[0m             \u001b[0;32mreturn\u001b[0m \u001b[0;32mNone\u001b[0m\u001b[0;34m\u001b[0m\u001b[0;34m\u001b[0m\u001b[0m\n",
      "\u001b[0;32m/mount/arbeitsdaten46/projekte/dialog-1/kanjurva/Simple-QA-EMNLP-2018/env/lib/python3.6/site-packages/pandas/io/formats/console.py\u001b[0m in \u001b[0;36min_qtconsole\u001b[0;34m()\u001b[0m\n\u001b[1;32m    121\u001b[0m             \u001b[0mip\u001b[0m\u001b[0;34m.\u001b[0m\u001b[0mconfig\u001b[0m\u001b[0;34m.\u001b[0m\u001b[0mget\u001b[0m\u001b[0;34m(\u001b[0m\u001b[0;34m'KernelApp'\u001b[0m\u001b[0;34m,\u001b[0m \u001b[0;34m{\u001b[0m\u001b[0;34m}\u001b[0m\u001b[0;34m)\u001b[0m\u001b[0;34m.\u001b[0m\u001b[0mget\u001b[0m\u001b[0;34m(\u001b[0m\u001b[0;34m'parent_appname'\u001b[0m\u001b[0;34m,\u001b[0m \u001b[0;34m\"\"\u001b[0m\u001b[0;34m)\u001b[0m \u001b[0;32mor\u001b[0m\u001b[0;34m\u001b[0m\u001b[0;34m\u001b[0m\u001b[0m\n\u001b[1;32m    122\u001b[0m             ip.config.get('IPKernelApp', {}).get('parent_appname', \"\"))\n\u001b[0;32m--> 123\u001b[0;31m         \u001b[0;32mif\u001b[0m \u001b[0;34m'qtconsole'\u001b[0m \u001b[0;32min\u001b[0m \u001b[0mfront_end\u001b[0m\u001b[0;34m.\u001b[0m\u001b[0mlower\u001b[0m\u001b[0;34m(\u001b[0m\u001b[0;34m)\u001b[0m\u001b[0;34m:\u001b[0m\u001b[0;34m\u001b[0m\u001b[0;34m\u001b[0m\u001b[0m\n\u001b[0m\u001b[1;32m    124\u001b[0m             \u001b[0;32mreturn\u001b[0m \u001b[0;32mTrue\u001b[0m\u001b[0;34m\u001b[0m\u001b[0;34m\u001b[0m\u001b[0m\n\u001b[1;32m    125\u001b[0m     \u001b[0;32mexcept\u001b[0m \u001b[0mNameError\u001b[0m\u001b[0;34m:\u001b[0m\u001b[0;34m\u001b[0m\u001b[0;34m\u001b[0m\u001b[0m\n",
      "\u001b[0;31mAttributeError\u001b[0m: 'LazyConfigValue' object has no attribute 'lower'"
     ]
    },
    {
     "data": {
      "text/plain": [
       "   end_index   object                                           question  \\\n",
       "0        5.0   01cj3p                           what is the book e about   \n",
       "1        9.0  0sjc7c1  to what release does the release track cardiac...   \n",
       "2        7.0    07ssc            what country was the film the debt from   \n",
       "3        5.0   0p600l            what songs have nobuo uematsu produced?   \n",
       "4        5.0   0677ng                          Who produced eve-olution?   \n",
       "\n",
       "                                     question_tokens  \\\n",
       "0                    [what, is, the, book, e, about]   \n",
       "1  [to, what, release, does, the, release, track,...   \n",
       "2   [what, country, was, the, film, the, debt, from]   \n",
       "3   [what, songs, have, nobuo, uematsu, produced, ?]   \n",
       "4                [who, produced, eve, -, olution, ?]   \n",
       "\n",
       "                         relation  start_index  subject    subject_name  \\\n",
       "0      book/written_work/subjects          4.0  04whkz5               e   \n",
       "1     music/release_track/release          7.0  0tp2p24  cardiac arrest   \n",
       "2               film/film/country          5.0  04j0t75        the debt   \n",
       "3  music/producer/tracks_produced          3.0    0ftqr   nobuo uematsu   \n",
       "4         music/release/producers          2.0  036p007     eve-olution   \n",
       "\n",
       "  subject_name_tokens                                          predicate  \n",
       "0                (e,)                         what is the book <e> about  \n",
       "1   (cardiac, arrest)  to what release does the release track <e> com...  \n",
       "2         (the, debt)                 what country was the film <e> from  \n",
       "3    (nobuo, uematsu)                     what songs have <e> produced ?  \n",
       "4   (eve, -, olution)                                 who produced <e> ?  "
      ]
     },
     "execution_count": 24,
     "metadata": {},
     "output_type": "execute_result"
    }
   ],
   "source": [
    "def get_predicate(row):\n",
    "    if not isinstance(row['question_tokens'], list):\n",
    "        return ''\n",
    "        \n",
    "    formatted_question =  ''\n",
    "    for i, token in enumerate(row['question_tokens']):\n",
    "        if i == row['start_index']:\n",
    "            formatted_question += '<e>'\n",
    "        elif i > row['start_index'] and i < row['end_index']:\n",
    "            continue\n",
    "        else:\n",
    "            formatted_question += token.lower().strip()\n",
    "        formatted_question += ' '\n",
    "    formatted_question = formatted_question.strip()\n",
    "    return formatted_question\n",
    "\n",
    "df_train['predicate'] = df_train.progress_apply(get_predicate, axis=1)\n",
    "df_train[:5]"
   ]
  },
  {
   "cell_type": "markdown",
   "metadata": {},
   "source": [
    "Evaluation function with negative sampling for error analysis."
   ]
  },
  {
   "cell_type": "code",
   "execution_count": 27,
   "metadata": {},
   "outputs": [],
   "source": [
    "from lib.utils import format_pipe_table\n",
    "from Levenshtein import distance\n",
    "from heapq import nsmallest\n",
    "\n",
    "relation_count_train = df_train.relation.value_counts().to_dict()\n",
    "\n",
    "def evaluate(predicted):\n",
    "    subject_and_relation_correct = 0 # Official metric from the Simple Questions dataset\n",
    "    object_correct = 0\n",
    "    relation_correct = 0\n",
    "    subject_correct = 0\n",
    "    correct_interpretation = 0\n",
    "    no_interpretation = 0\n",
    "    negative_samples = []\n",
    "    \n",
    "    for i, (_, row) in tqdm_notebook(enumerate(df.iterrows()), total=df.shape[0]):\n",
    "        relation, subject, objects = predicted[i]\n",
    "        if tuple([relation, subject]) in question_interpretations[i]:\n",
    "            correct_interpretation += 1\n",
    "        elif len(question_interpretations[i]) != 0:\n",
    "            count = relation_count_train[row['relation']] if row['relation'] in relation_count_train else 0\n",
    "            false_predicates = df_train[df_train['relation'] == relation]['predicate']\n",
    "            if len(false_predicates) > 0:\n",
    "                closest_false_predicate = nsmallest(3, false_predicates,\n",
    "                    key=lambda p: distance(p, row['predicted_predicate']))\n",
    "            negative_samples.append({\n",
    "                'Question': row['question'],\n",
    "                'Closest False Predicate': closest_false_predicate,\n",
    "                'False Relation': relation,\n",
    "                'True Relation': row['relation'],\n",
    "                'True Relation Count': count,\n",
    "                'Predicted Subject Name': row['predicted_subject_name'],\n",
    "                'Subject Name': row['subject_name'],\n",
    "            })\n",
    "        else:\n",
    "            no_interpretation += 1\n",
    "            \n",
    "        if relation == row['relation'] and subject == row['subject']:\n",
    "            subject_and_relation_correct += 1\n",
    "        else:\n",
    "            if relation and relation in row['candidate_facts']:\n",
    "                subjects = list(row['candidate_facts'][relation].keys())[:3]\n",
    "                cursor.execute('SELECT mid, alias FROM fb_two_subject_name WHERE mid = ANY(%s)', (subjects,))\n",
    "                subject_aliases = list(cursor.fetchall())[:3]\n",
    "            else:\n",
    "                subjects = None\n",
    "                subject_aliases = None\n",
    "        if objects and row['object'] in objects:\n",
    "            object_correct += 1\n",
    "        if relation == row['relation']:\n",
    "            relation_correct += 1\n",
    "        if subject == row['subject']:\n",
    "            subject_correct += 1\n",
    "        \n",
    "    print('Subject & Relation Accuracy (SOTA 78.7%%): %f [%d of %d]' %\n",
    "          (subject_and_relation_correct / df.shape[0], subject_and_relation_correct, df.shape[0]))\n",
    "    print('Object Accuracy: %f [%d of %d]' %\n",
    "              (object_correct / df.shape[0], object_correct, df.shape[0]))\n",
    "    print('Relation Accuracy (SOTA 88.4%%): %f [%d of %d]' %\n",
    "              (relation_correct / df.shape[0], relation_correct, df.shape[0]))\n",
    "    print('Subject Accuracy (SOTA 79%%): %f [%d of %d]' %\n",
    "              (subject_correct / df.shape[0], subject_correct, df.shape[0]))\n",
    "    # Is this a valid interpretation of the question\n",
    "    print('Correct Interpretation: %f [%d of %d]' %\n",
    "              (correct_interpretation / df.shape[0], correct_interpretation, df.shape[0]))\n",
    "    print('No Interpretation: %f [%d of %d]' %\n",
    "              (no_interpretation / df.shape[0], no_interpretation, df.shape[0]))\n",
    "    print('Negative Sample:')\n",
    "    print(format_pipe_table(negative_samples[:50], columns=['Bucket', 'Closest False Predicate', 'True Relation Count', 'Question', 'True Relation',\n",
    "                                                            'False Relation', 'Subject Name', 'Predicted Subject Name']))"
   ]
  },
  {
   "cell_type": "markdown",
   "metadata": {},
   "source": [
    "### Version: Softmax\n",
    "\n",
    "For the version 0 of softmax, we use the highest predicted relation with not additional considerations."
   ]
  },
  {
   "cell_type": "code",
   "execution_count": 31,
   "metadata": {},
   "outputs": [
    {
     "data": {
      "application/vnd.jupyter.widget-view+json": {
       "model_id": "cf0afebbb41340a09060b52b701950f3",
       "version_major": 2,
       "version_minor": 0
      },
      "text/plain": [
       "HBox(children=(IntProgress(value=0, max=10845), HTML(value='')))"
      ]
     },
     "metadata": {},
     "output_type": "display_data"
    },
    {
     "name": "stdout",
     "output_type": "stream",
     "text": [
      "\n"
     ]
    },
    {
     "data": {
      "application/vnd.jupyter.widget-view+json": {
       "model_id": "5816bed108564e07a59098cfd4eef163",
       "version_major": 2,
       "version_minor": 0
      },
      "text/plain": [
       "HBox(children=(IntProgress(value=0, max=10845), HTML(value='')))"
      ]
     },
     "metadata": {},
     "output_type": "display_data"
    },
    {
     "name": "stdout",
     "output_type": "stream",
     "text": [
      "\n",
      "Subject & Relation Accuracy (SOTA 78.7%): 0.178792 [1939 of 10845]\n",
      "Object Accuracy: 0.197695 [2144 of 10845]\n",
      "Relation Accuracy (SOTA 88.4%): 0.187644 [2035 of 10845]\n",
      "Subject Accuracy (SOTA 79%): 0.690088 [7484 of 10845]\n",
      "Correct Interpretation: 0.000184 [2 of 10845]\n",
      "No Interpretation: 0.021669 [235 of 10845]\n",
      "Negative Sample:\n",
      "| Index | Bucket | Closest False Predicate | True Relation Count | Question | True Relation | False Relation | Subject Name | Predicted Subject Name |\n",
      "| --- | --- | --- | --- | --- | --- | --- | --- | --- |\n",
      "| 0 | nan | ['who is <e> recognized as', 'what is <e> regarded as', 'what is <e> recognized as'] | 13 | Name an American Thoroughbread racehorse  | biology/organism_classification/organisms_of_this_type | common/topic/notable_types | nan | american |\n",
      "| 1 | nan | ['what kind of game is <e> ?', 'what kind of game is <e> ?', 'what kind of game is <e> ?'] | 335 | what kind of game is vision racing driving simulator? | cvg/computer_videogame/cvg_genre | cvg/computer_videogame/cvg_genre | vision racing driving simulator | vision racing driving simulator |\n",
      "| 2 | nan | ['what movie is <e>', 'what movie is <e>', \"what 's a romantic <e>\"] | 203 | what tv program is romance film | tv/tv_genre/programs | film/film_genre/films_in_this_genre | romance film | romance film |\n",
      "| 3 | nan | ['what state is <e> located in', 'what state is <e> located in', 'what state is <e> located in'] | 2472 | what state is  polaski located in | location/location/containedby | location/location/containedby | polaski | polaski |\n",
      "| 4 | nan | ['what disease claimed the life of <e>', 'what disease did <e> die of ?', 'what disease did <e> die of'] | 445 | what disease claimed the life of fern emmett | people/deceased_person/cause_of_death | people/deceased_person/cause_of_death | fern emmett | fern emmett |\n",
      "| 5 | nan | ['what is the label that <e> is on', 'what is the label that <e> is under ?', 'what is the label that <e> is under ?'] | 656 | what is tristeza's album that starts with an s | music/artist/album | music/artist/label | tristeza | tristeza |\n",
      "| 6 | nan | ['who was the artist of the album <e>', 'who was the artist in the album <e>', 'who was the artist of the album <e>'] | 1044 | who was the artist on the album just you, just me | music/album/artist | music/album/artist | just you, just me | just you , just me |\n",
      "| 7 | nan | ['what position does <e> play', 'what position does <e> play', 'what position does <e> play'] | 42 | what position does max bentley play  | ice_hockey/hockey_player/hockey_position | ice_hockey/hockey_player/hockey_position | max bentley | max bentley |\n",
      "| 8 | nan | ['what game method has <e>', \"what 's a computer that uses the <e>\"] | 3 | what company made intel core 2? | computer/computer_processor/manufacturers | computer/computer_processor/used_in_computers | intel core 2 | intel core 2 |\n",
      "| 9 | nan | ['what band released <e>', 'what band made <e>', 'what band wrote <e>'] | 335 | what kind of game is the legend of zelda: twilight princess | cvg/computer_videogame/cvg_genre | music/album/artist | the legend of zelda: twilight princess | the legend of zelda : twilight princess |\n",
      "| 10 | nan | ['what school was founded by <e>', 'what company did <e> found', 'what company has <e> created'] | 6 | What type of media is burne hogarth | type/content/media_type | organization/organization_founder/organizations_founded | burne hogarth | burne hogarth |\n",
      "| 11 | nan | ['what do <e> speak', 'what is the language of <e> ?', 'what to the <e> speak'] | 180 | what person is an ashkenazi jews? | people/ethnicity/people | people/ethnicity/languages_spoken | ashkenazi jews | ashkenazi jews |\n",
      "| 12 | nan | ['what is the last grade offered at <e>', 'what is the highest grade taught at <e>', 'what is the highest grade taught at <e> ?'] | 303 | what type of school is central high school | education/educational_institution/school_type | education/school/highest_grade_taught | central high school | central high school |\n",
      "| 13 | nan | ['who is <e>', 'who is <e>', 'who is <e>'] | 1610 | Who is rick mcnair | common/topic/notable_types | common/topic/notable_types | rick mcnair | rick mcnair |\n",
      "| 14 | nan | [\"what 's a <e> released in 2000\", 'name a <e> ( genre ) film', 'name a hbo show featured on <e>'] | 1070 | Name a short documentary film released in 2011 | film/film_genre/films_in_this_genre | media_common/netflix_genre/titles | short | documentary film |\n",
      "| 15 | nan | ['who is the artist for the album <e>', 'who is the artist for the album <e>', 'who was the artist for the album <e>'] | 34 | who designed the costume for the movie copenhagen | film/film/costume_design_by | music/album/artist | copenhagen | copenhagen |\n",
      "| 16 | nan | ['what is the region <e> ?', 'what is the purpose of <e> ?', 'who is the author of <e> ?'] | 727 | whats the name of an indie rock album | music/genre/albums | common/topic/notable_types | indie rock | indie rock |\n",
      "| 17 | nan | [\"who 's a chemist born in <e>\", \"who 's a wrestler born in <e>\", 'who is a person born in <e>'] | 1243 | What's a temple found in chiang mai | location/location/contains | location/location/people_born_here | chiang mai | chiang mai |\n",
      "| 18 | nan | ['what profession does <e> have ?', 'what profession does <e> have ?', 'what operations does <e> deal with'] | 36 | what major city does nebraska highway 70 pass through | transportation/road/major_cities | common/topic/notable_types | nebraska highway 70 | nebraska highway 70 |\n",
      "| 19 | nan | ['what is a quote from <e> ?', \"what 's a famous quote about <e>\"] | 131 | what is canonical version of ethics? | music/recording/canonical_version | media_common/quotation_subject/quotations_about_this_subject | ethics | ethics |\n",
      "| 20 | nan | [\"who is <e> 's father\", \"what is <e> 's parent\", \"who is <e> 's father\"] | 1928 | what is marc singer's gender | people/person/gender | people/person/parents | marc singer | marc singer |\n",
      "| 21 | nan | ['what does <e> do ?', 'what did <e> work as', 'what is <e> ?'] | 2720 | Where was Ruth Turner born? | people/person/place_of_birth | people/person/profession | ruth turner | ruth turner |\n",
      "| 22 | nan | ['what singer released <e>', 'who is the creator of <e>', 'who is the artist of <e>'] | 1044 | whats the release type of  the last thing on my mind | music/album/release_type | music/album/artist | the last thing on my mind | the last thing on my mind |\n",
      "| 23 | nan | ['who is the artist for the album <e>', 'who is the artist for the album <e>', 'who is the artist for the album <e>'] | 39 | what is the mpaa rating for the movie sahara | film/film/rating | music/album/artist | sahara | sahara |\n",
      "| 24 | nan | ['what is the film <e> rated', 'what was rating of <e>', 'what is the rating for <e>'] | 208 | who wrote the film jindabyne | film/film/written_by | film/film/rating | jindabyne | jindabyne |\n",
      "| 25 | nan | ['where is <e> located', 'where is <e> located', 'where is <e> located in'] | 163 | where is crossing of the andes located | time/event/locations | time/event/locations | crossing of the andes | crossing of the andes |\n",
      "| 26 | nan | ['what musician recorded <e>', 'what singer recorded <e>', 'what artist recorded <e>'] | 0 | what university sponsored lc | internet/top_level_domain/sponsor | music/album/artist | lc | lc |\n",
      "| 27 | nan | ['what music is in <e>', 'what music is in <e>', 'what music was in <e>'] | 2173 | what type of film is deadly blessing | film/film/genre | film/film/music | deadly blessing | deadly blessing |\n",
      "| 28 | nan | ['what type of music does <e> radio station play', 'what type of music does <e> play ?', 'what type of music does <e> play'] | 53 | What type of music does krgy station play? | broadcast/radio_station/format | broadcast/radio_station/format | krgy | krgy |\n",
      "| 29 | nan | ['what genre of music is the album <e>', 'what genre of music is the album <e>', 'what genre of music is the album <e>'] | 1537 | what genre of music is the album almanac live 2004 | music/album/genre | music/album/genre | almanac live 2004 | almanac live 2004 |\n",
      "| 30 | nan | ['what is a subject of <e> ?', 'what is a book about <e>', 'what is a company involved in <e>'] | 579 | Who is a famous Austrailian screenwriter? | people/profession/people_with_this_profession | common/topic/subject_of | screenwriter | screenwriter |\n",
      "| 31 | nan | ['what label does the artist <e> come from', 'what label is the artist <e> from', 'what label is the artist <e> from'] | 1553 | in what genre does the musician the juan maclean perform | music/artist/genre | music/artist/label | the juan maclean | the juan maclean |\n",
      "| 32 | nan | ['which language class is <e> in', 'which languoid class does <e> fall within ?', 'what languoid class is <e>'] | 59 | which language did tharaka language originate from | language/human_language/language_family | base/rosetta/languoid/languoid_class | tharaka language | tharaka language |\n",
      "| 33 | nan | ['what type of reserve is the <e>', 'which kind of person was <e>', 'which form of media is <e>'] | 125 | which event in 2003 was held at the millennium stadium | location/location/events | common/topic/notable_types | millennium stadium | millennium stadium |\n",
      "| 34 | nan | ['which profession did <e> have ?', 'which profession is <e> in ?', 'what line of work is <e> in'] | 1380 | Which city in America did joseph curran die in | people/deceased_person/place_of_death | people/person/profession | joseph curran | joseph curran |\n",
      "| 35 | nan | [\"who 's album is <e>\", \"who 's album is <e>\", 'whose album is <e>'] | 656 | Name an album by miles davis | music/artist/album | music/album/artist | miles davis | miles davis |\n",
      "| 36 | nan | ['who was the artist of the music album <e>', 'what is the name of the musician from <e>', 'who is the artist of the album <e> ?'] | 1537 | what is the genre of the music album soulfully live in the city of angels? | music/album/genre | music/album/artist | soulfully live in the city of angels | soulfully live in the city of angels |\n",
      "| 37 | nan | ['what language is <e> recorded in', 'what language is <e> recorded in', 'what language is <e> offered in ?'] | 960 | What netflix genre is stripteaser 2 categorized under | media_common/netflix_title/netflix_genres | film/film/language | stripteaser 2 | stripteaser 2 |\n",
      "| 38 | nan | ['what nation filmed <e>', 'what nation filmed <e>', 'what nation filmed <e>'] | 2173 | what genre of film is donna on demand? | film/film/genre | film/film/country | donna on demand | donna on demand |\n",
      "| 39 | nan | ['what is the career of <e>', 'what is the profession of <e> ?', 'what is the profession of <e> ?'] | 1928 | What is the gender of kathie sullivan? | people/person/gender | people/person/profession | kathie sullivan | kathie sullivan |\n",
      "| 40 | nan | ['which artist performed the album <e>', 'what artist performed the \" <e> \" ?', 'what artist performs the album <e> ?'] | 724 | which artist performs the disco genre? | music/genre/artists | music/album/artist | disco | disco |\n",
      "| 41 | nan | ['what is a school color of <e>', 'what is a school color for <e>', 'what is a school color of <e> ?'] | 177 | what was a school color of south garland high school | education/educational_institution/colors | education/educational_institution/colors | south garland high school | south garland high school |\n",
      "| 42 | nan | ['what was the song <e>', 'what type of reserve is the <e>', 'what type of format is <e>'] | 724 | which artist performs the genre post-punk | music/genre/artists | common/topic/notable_types | post-punk | post - punk |\n",
      "| 43 | nan | ['where does the <e> originate ?', 'where is the origin of <e>', 'where does the <e> start ?'] | 22 | where does the water in the canche come from | geography/river/mouth | geography/river/origin | canche | canche |\n",
      "| 44 | nan | ['what is the genre of the book <e> ?', 'what is the genre of the book <e> ?', 'what is the genre of the book <e> ?'] | 864 | What is the genre of the book between lovers? | book/book/genre | book/book/genre | between lovers | between lovers |\n",
      "| 45 | nan | ['what kind of album is <e>', 'what kind of album is <e>', 'what kind of album is <e> ?'] | 892 | what kind of album is canti randagi 2 | music/album/album_content_type | music/album/release_type | canti randagi 2 | canti randagi 2 |\n",
      "| 46 | nan | ['what is the nationality of <e>', 'what is the nationality of <e>', 'what is the nationality of <e>'] | 1928 | What is the gender of tony sealy | people/person/gender | people/person/nationality | tony sealy | tony sealy |\n",
      "| 47 | nan | ['which country filmed <e>', 'which country filmed <e>', 'which country filmed <e>'] | 1374 | Which country filmed when hell broke loose. | film/film/country | film/film/country | when hell broke loose | when hell broke loose |\n",
      "| 48 | nan | ['who was involved in the <e>', 'what event is included in the <e> ?', 'what event occurred in the <e>'] | 237 | what was involved in the red clouds war? | base/culturalevent/event/entity_involved | time/event/includes_event | red cloud's war | red clouds war |\n",
      "| 49 | nan | ['what is the original language of <e>', 'what is the original language of <e>', 'what is the original language of <e>'] | 210 | What is the original language of the first stone | book/written_work/original_language | book/written_work/original_language | the first stone | the first stone |\n",
      "\n"
     ]
    }
   ],
   "source": [
    "from tqdm import tqdm_notebook\n",
    "import random\n",
    "\n",
    "predicted = []\n",
    "for index, row in tqdm_notebook(df.iterrows(), total=df.shape[0]):\n",
    "    if len(row['candidate_facts']) != 0:\n",
    "        candidate_relations = list(row['candidate_facts'].keys())\n",
    "        max_score = max(row['softmax_scores'])\n",
    "        predicted_relations = [r for i, r in enumerate(candidate_relations)\n",
    "                               if row['softmax_scores'][i] == max_score]\n",
    "        predicted_relation = random.choice(predicted_relations)\n",
    "        subject_mid, object_mids = random.choice(list(row['candidate_facts'][predicted_relation].items()))\n",
    "        predicted.append(tuple([predicted_relation, subject_mid, object_mids]))\n",
    "    else:\n",
    "        predicted.append(tuple([None, None, None]))\n",
    "\n",
    "evaluate(predicted)"
   ]
  },
  {
   "cell_type": "markdown",
   "metadata": {},
   "source": [
    "### Version: Softmax & Most Facts\n",
    "\n",
    "For the version 1 of softmax, we use the highest predicted relation and additionally guess the subject with the most objects associated with it."
   ]
  },
  {
   "cell_type": "code",
   "execution_count": 32,
   "metadata": {},
   "outputs": [
    {
     "data": {
      "application/vnd.jupyter.widget-view+json": {
       "model_id": "89775b5c813f4ba28656d96e1c77650b",
       "version_major": 2,
       "version_minor": 0
      },
      "text/plain": [
       "HBox(children=(IntProgress(value=0, max=10845), HTML(value='')))"
      ]
     },
     "metadata": {},
     "output_type": "display_data"
    },
    {
     "name": "stdout",
     "output_type": "stream",
     "text": [
      "\n"
     ]
    },
    {
     "data": {
      "application/vnd.jupyter.widget-view+json": {
       "model_id": "744b1df9d7e0444494e156d92bd6dd2a",
       "version_major": 2,
       "version_minor": 0
      },
      "text/plain": [
       "HBox(children=(IntProgress(value=0, max=10845), HTML(value='')))"
      ]
     },
     "metadata": {},
     "output_type": "display_data"
    },
    {
     "name": "stdout",
     "output_type": "stream",
     "text": [
      "\n",
      "Subject & Relation Accuracy (SOTA 78.7%): 0.180083 [1953 of 10845]\n",
      "Object Accuracy: 0.198801 [2156 of 10845]\n",
      "Relation Accuracy (SOTA 88.4%): 0.187644 [2035 of 10845]\n",
      "Subject Accuracy (SOTA 79%): 0.690088 [7484 of 10845]\n",
      "Correct Interpretation: 0.000184 [2 of 10845]\n",
      "No Interpretation: 0.021669 [235 of 10845]\n",
      "Negative Sample:\n",
      "| Index | Bucket | Closest False Predicate | True Relation Count | Question | True Relation | False Relation | Subject Name | Predicted Subject Name |\n",
      "| --- | --- | --- | --- | --- | --- | --- | --- | --- |\n",
      "| 0 | nan | ['who is <e> recognized as', 'what is <e> regarded as', 'what is <e> recognized as'] | 13 | Name an American Thoroughbread racehorse  | biology/organism_classification/organisms_of_this_type | common/topic/notable_types | nan | american |\n",
      "| 1 | nan | ['what kind of game is <e> ?', 'what kind of game is <e> ?', 'what kind of game is <e> ?'] | 335 | what kind of game is vision racing driving simulator? | cvg/computer_videogame/cvg_genre | cvg/computer_videogame/cvg_genre | vision racing driving simulator | vision racing driving simulator |\n",
      "| 2 | nan | ['what movie is <e>', 'what movie is <e>', \"what 's a romantic <e>\"] | 203 | what tv program is romance film | tv/tv_genre/programs | film/film_genre/films_in_this_genre | romance film | romance film |\n",
      "| 3 | nan | ['what state is <e> located in', 'what state is <e> located in', 'what state is <e> located in'] | 2472 | what state is  polaski located in | location/location/containedby | location/location/containedby | polaski | polaski |\n",
      "| 4 | nan | ['what disease claimed the life of <e>', 'what disease did <e> die of ?', 'what disease did <e> die of'] | 445 | what disease claimed the life of fern emmett | people/deceased_person/cause_of_death | people/deceased_person/cause_of_death | fern emmett | fern emmett |\n",
      "| 5 | nan | ['what is the label that <e> is on', 'what is the label that <e> is under ?', 'what is the label that <e> is under ?'] | 656 | what is tristeza's album that starts with an s | music/artist/album | music/artist/label | tristeza | tristeza |\n",
      "| 6 | nan | ['who was the artist of the album <e>', 'who was the artist in the album <e>', 'who was the artist of the album <e>'] | 1044 | who was the artist on the album just you, just me | music/album/artist | music/album/artist | just you, just me | just you , just me |\n",
      "| 7 | nan | ['what position does <e> play', 'what position does <e> play', 'what position does <e> play'] | 42 | what position does max bentley play  | ice_hockey/hockey_player/hockey_position | ice_hockey/hockey_player/hockey_position | max bentley | max bentley |\n",
      "| 8 | nan | ['what game method has <e>', \"what 's a computer that uses the <e>\"] | 3 | what company made intel core 2? | computer/computer_processor/manufacturers | computer/computer_processor/used_in_computers | intel core 2 | intel core 2 |\n",
      "| 9 | nan | ['what band released <e>', 'what band made <e>', 'what band wrote <e>'] | 335 | what kind of game is the legend of zelda: twilight princess | cvg/computer_videogame/cvg_genre | music/album/artist | the legend of zelda: twilight princess | the legend of zelda : twilight princess |\n",
      "| 10 | nan | ['what school was founded by <e>', 'what company did <e> found', 'what company has <e> created'] | 6 | What type of media is burne hogarth | type/content/media_type | organization/organization_founder/organizations_founded | burne hogarth | burne hogarth |\n",
      "| 11 | nan | ['what do <e> speak', 'what is the language of <e> ?', 'what to the <e> speak'] | 180 | what person is an ashkenazi jews? | people/ethnicity/people | people/ethnicity/languages_spoken | ashkenazi jews | ashkenazi jews |\n",
      "| 12 | nan | ['what is the last grade offered at <e>', 'what is the highest grade taught at <e>', 'what is the highest grade taught at <e> ?'] | 303 | what type of school is central high school | education/educational_institution/school_type | education/school/highest_grade_taught | central high school | central high school |\n",
      "| 13 | nan | ['who is <e>', 'who is <e>', 'who is <e>'] | 1610 | Who is rick mcnair | common/topic/notable_types | common/topic/notable_types | rick mcnair | rick mcnair |\n",
      "| 14 | nan | [\"what 's a <e> released in 2000\", 'name a <e> ( genre ) film', 'name a hbo show featured on <e>'] | 1070 | Name a short documentary film released in 2011 | film/film_genre/films_in_this_genre | media_common/netflix_genre/titles | short | documentary film |\n",
      "| 15 | nan | ['who is the artist for the album <e>', 'who is the artist for the album <e>', 'who was the artist for the album <e>'] | 34 | who designed the costume for the movie copenhagen | film/film/costume_design_by | music/album/artist | copenhagen | copenhagen |\n",
      "| 16 | nan | ['what is the region <e> ?', 'what is the purpose of <e> ?', 'who is the author of <e> ?'] | 727 | whats the name of an indie rock album | music/genre/albums | common/topic/notable_types | indie rock | indie rock |\n",
      "| 17 | nan | [\"who 's a chemist born in <e>\", \"who 's a wrestler born in <e>\", 'who is a person born in <e>'] | 1243 | What's a temple found in chiang mai | location/location/contains | location/location/people_born_here | chiang mai | chiang mai |\n",
      "| 18 | nan | ['what profession does <e> have ?', 'what profession does <e> have ?', 'what operations does <e> deal with'] | 36 | what major city does nebraska highway 70 pass through | transportation/road/major_cities | common/topic/notable_types | nebraska highway 70 | nebraska highway 70 |\n",
      "| 19 | nan | ['what is a quote from <e> ?', \"what 's a famous quote about <e>\"] | 131 | what is canonical version of ethics? | music/recording/canonical_version | media_common/quotation_subject/quotations_about_this_subject | ethics | ethics |\n",
      "| 20 | nan | [\"who is <e> 's father\", \"what is <e> 's parent\", \"who is <e> 's father\"] | 1928 | what is marc singer's gender | people/person/gender | people/person/parents | marc singer | marc singer |\n",
      "| 21 | nan | ['what does <e> do ?', 'what did <e> work as', 'what is <e> ?'] | 2720 | Where was Ruth Turner born? | people/person/place_of_birth | people/person/profession | ruth turner | ruth turner |\n",
      "| 22 | nan | ['what singer released <e>', 'who is the creator of <e>', 'who is the artist of <e>'] | 1044 | whats the release type of  the last thing on my mind | music/album/release_type | music/album/artist | the last thing on my mind | the last thing on my mind |\n",
      "| 23 | nan | ['who is the artist for the album <e>', 'who is the artist for the album <e>', 'who is the artist for the album <e>'] | 39 | what is the mpaa rating for the movie sahara | film/film/rating | music/album/artist | sahara | sahara |\n",
      "| 24 | nan | ['what is the film <e> rated', 'what was rating of <e>', 'what is the rating for <e>'] | 208 | who wrote the film jindabyne | film/film/written_by | film/film/rating | jindabyne | jindabyne |\n",
      "| 25 | nan | ['where is <e> located', 'where is <e> located', 'where is <e> located in'] | 163 | where is crossing of the andes located | time/event/locations | time/event/locations | crossing of the andes | crossing of the andes |\n",
      "| 26 | nan | ['what musician recorded <e>', 'what singer recorded <e>', 'what artist recorded <e>'] | 0 | what university sponsored lc | internet/top_level_domain/sponsor | music/album/artist | lc | lc |\n",
      "| 27 | nan | ['what music is in <e>', 'what music is in <e>', 'what music was in <e>'] | 2173 | what type of film is deadly blessing | film/film/genre | film/film/music | deadly blessing | deadly blessing |\n",
      "| 28 | nan | ['what type of music does <e> radio station play', 'what type of music does <e> play ?', 'what type of music does <e> play'] | 53 | What type of music does krgy station play? | broadcast/radio_station/format | broadcast/radio_station/format | krgy | krgy |\n",
      "| 29 | nan | ['what genre of music is the album <e>', 'what genre of music is the album <e>', 'what genre of music is the album <e>'] | 1537 | what genre of music is the album almanac live 2004 | music/album/genre | music/album/genre | almanac live 2004 | almanac live 2004 |\n",
      "| 30 | nan | ['what is a subject of <e> ?', 'what is a book about <e>', 'what is a company involved in <e>'] | 579 | Who is a famous Austrailian screenwriter? | people/profession/people_with_this_profession | common/topic/subject_of | screenwriter | screenwriter |\n",
      "| 31 | nan | ['what label does the artist <e> come from', 'what label is the artist <e> from', 'what label is the artist <e> from'] | 1553 | in what genre does the musician the juan maclean perform | music/artist/genre | music/artist/label | the juan maclean | the juan maclean |\n",
      "| 32 | nan | ['which language class is <e> in', 'which languoid class does <e> fall within ?', 'what languoid class is <e>'] | 59 | which language did tharaka language originate from | language/human_language/language_family | base/rosetta/languoid/languoid_class | tharaka language | tharaka language |\n",
      "| 33 | nan | ['what type of reserve is the <e>', 'which kind of person was <e>', 'which form of media is <e>'] | 125 | which event in 2003 was held at the millennium stadium | location/location/events | common/topic/notable_types | millennium stadium | millennium stadium |\n",
      "| 34 | nan | ['which profession did <e> have ?', 'which profession is <e> in ?', 'what line of work is <e> in'] | 1380 | Which city in America did joseph curran die in | people/deceased_person/place_of_death | people/person/profession | joseph curran | joseph curran |\n",
      "| 35 | nan | [\"who 's album is <e>\", \"who 's album is <e>\", 'whose album is <e>'] | 656 | Name an album by miles davis | music/artist/album | music/album/artist | miles davis | miles davis |\n",
      "| 36 | nan | ['who was the artist of the music album <e>', 'what is the name of the musician from <e>', 'who is the artist of the album <e> ?'] | 1537 | what is the genre of the music album soulfully live in the city of angels? | music/album/genre | music/album/artist | soulfully live in the city of angels | soulfully live in the city of angels |\n",
      "| 37 | nan | ['what language is <e> recorded in', 'what language is <e> recorded in', 'what language is <e> offered in ?'] | 960 | What netflix genre is stripteaser 2 categorized under | media_common/netflix_title/netflix_genres | film/film/language | stripteaser 2 | stripteaser 2 |\n",
      "| 38 | nan | ['what nation filmed <e>', 'what nation filmed <e>', 'what nation filmed <e>'] | 2173 | what genre of film is donna on demand? | film/film/genre | film/film/country | donna on demand | donna on demand |\n",
      "| 39 | nan | ['what is the career of <e>', 'what is the profession of <e> ?', 'what is the profession of <e> ?'] | 1928 | What is the gender of kathie sullivan? | people/person/gender | people/person/profession | kathie sullivan | kathie sullivan |\n",
      "| 40 | nan | ['which artist performed the album <e>', 'what artist performed the \" <e> \" ?', 'what artist performs the album <e> ?'] | 724 | which artist performs the disco genre? | music/genre/artists | music/album/artist | disco | disco |\n",
      "| 41 | nan | ['what is a school color of <e>', 'what is a school color for <e>', 'what is a school color of <e> ?'] | 177 | what was a school color of south garland high school | education/educational_institution/colors | education/educational_institution/colors | south garland high school | south garland high school |\n",
      "| 42 | nan | ['what was the song <e>', 'what type of reserve is the <e>', 'what type of format is <e>'] | 724 | which artist performs the genre post-punk | music/genre/artists | common/topic/notable_types | post-punk | post - punk |\n",
      "| 43 | nan | ['where does the <e> originate ?', 'where is the origin of <e>', 'where does the <e> start ?'] | 22 | where does the water in the canche come from | geography/river/mouth | geography/river/origin | canche | canche |\n",
      "| 44 | nan | ['what is the genre of the book <e> ?', 'what is the genre of the book <e> ?', 'what is the genre of the book <e> ?'] | 864 | What is the genre of the book between lovers? | book/book/genre | book/book/genre | between lovers | between lovers |\n",
      "| 45 | nan | ['what kind of album is <e>', 'what kind of album is <e>', 'what kind of album is <e> ?'] | 892 | what kind of album is canti randagi 2 | music/album/album_content_type | music/album/release_type | canti randagi 2 | canti randagi 2 |\n",
      "| 46 | nan | ['what is the nationality of <e>', 'what is the nationality of <e>', 'what is the nationality of <e>'] | 1928 | What is the gender of tony sealy | people/person/gender | people/person/nationality | tony sealy | tony sealy |\n",
      "| 47 | nan | ['which country filmed <e>', 'which country filmed <e>', 'which country filmed <e>'] | 1374 | Which country filmed when hell broke loose. | film/film/country | film/film/country | when hell broke loose | when hell broke loose |\n",
      "| 48 | nan | ['who was involved in the <e>', 'what event is included in the <e> ?', 'what event occurred in the <e>'] | 237 | what was involved in the red clouds war? | base/culturalevent/event/entity_involved | time/event/includes_event | red cloud's war | red clouds war |\n",
      "| 49 | nan | ['what is the original language of <e>', 'what is the original language of <e>', 'what is the original language of <e>'] | 210 | What is the original language of the first stone | book/written_work/original_language | book/written_work/original_language | the first stone | the first stone |\n",
      "\n"
     ]
    }
   ],
   "source": [
    "from tqdm import tqdm_notebook\n",
    "import random\n",
    "\n",
    "predicted = []\n",
    "for index, row in tqdm_notebook(df.iterrows(), total=df.shape[0]):\n",
    "    if len(row['candidate_facts']) != 0:\n",
    "        candidate_relations = list(row['candidate_facts'].keys())\n",
    "        max_score = max(row['softmax_scores'])\n",
    "        predicted_relations = [r for i, r in enumerate(candidate_relations)\n",
    "                               if row['softmax_scores'][i] == max_score]\n",
    "        predicted_relation = random.choice(predicted_relations)\n",
    "        \n",
    "        # We use the `Better than random guessing` from notebook \n",
    "        # `HYPOTHESIS - Question Refers to Multiple Subjects`.\n",
    "        subject_mid, object_mids = sorted(row['candidate_facts'][predicted_relation].items(),\n",
    "                                          key=lambda i: len(i[1]), reverse=True)[0]\n",
    "        predicted.append(tuple([predicted_relation, subject_mid, object_mids]))\n",
    "    else:\n",
    "        predicted.append(tuple([None, None, None]))\n",
    "\n",
    "evaluate(predicted)"
   ]
  },
  {
   "cell_type": "markdown",
   "metadata": {},
   "source": [
    "### Version: Softmax & Most Facts & Entity Relation Distribution\n",
    "\n",
    "The hypothesis of version 2 is that we can use the distribution of relations for a particular set of facts to our advantage. Particular entities favor some relations more than others; therefore, we use that probability in a product of experts model."
   ]
  },
  {
   "cell_type": "code",
   "execution_count": 33,
   "metadata": {},
   "outputs": [
    {
     "data": {
      "application/vnd.jupyter.widget-view+json": {
       "model_id": "78ea583cb2dd446cb0f8d6d3c8080173",
       "version_major": 2,
       "version_minor": 0
      },
      "text/plain": [
       "HBox(children=(IntProgress(value=0, max=10845), HTML(value='')))"
      ]
     },
     "metadata": {},
     "output_type": "display_data"
    },
    {
     "name": "stdout",
     "output_type": "stream",
     "text": [
      "\n"
     ]
    },
    {
     "data": {
      "application/vnd.jupyter.widget-view+json": {
       "model_id": "cdd9f570cab3408180019ff1e86d5e39",
       "version_major": 2,
       "version_minor": 0
      },
      "text/plain": [
       "HBox(children=(IntProgress(value=0, max=10845), HTML(value='')))"
      ]
     },
     "metadata": {},
     "output_type": "display_data"
    },
    {
     "name": "stdout",
     "output_type": "stream",
     "text": [
      "\n",
      "Subject & Relation Accuracy (SOTA 78.7%): 0.390134 [4231 of 10845]\n",
      "Object Accuracy: 0.432918 [4695 of 10845]\n",
      "Relation Accuracy (SOTA 88.4%): 0.416690 [4519 of 10845]\n",
      "Subject Accuracy (SOTA 79%): 0.769756 [8348 of 10845]\n",
      "Correct Interpretation: 0.000184 [2 of 10845]\n",
      "No Interpretation: 0.021669 [235 of 10845]\n",
      "Negative Sample:\n",
      "| Index | Bucket | Closest False Predicate | True Relation Count | Question | True Relation | False Relation | Subject Name | Predicted Subject Name |\n",
      "| --- | --- | --- | --- | --- | --- | --- | --- | --- |\n",
      "| 0 | nan | ['name a <e> restaurant .', 'what restaurant serves <e> cuisine', 'which restaurant serves <e> ?'] | 13 | Name an American Thoroughbread racehorse  | biology/organism_classification/organisms_of_this_type | dining/cuisine/restaurant | nan | american |\n",
      "| 1 | nan | ['what kind of game is <e> ?', 'what kind of game is <e>', 'what kind of gameplay is <e>'] | 335 | what kind of game is vision racing driving simulator? | cvg/computer_videogame/cvg_genre | cvg/computer_videogame/gameplay_modes | vision racing driving simulator | vision racing driving simulator |\n",
      "| 2 | nan | ['what movie is <e>', 'what movie is <e>', \"what 's a romantic <e>\"] | 203 | what tv program is romance film | tv/tv_genre/programs | film/film_genre/films_in_this_genre | romance film | romance film |\n",
      "| 3 | nan | ['what state is <e> located in', 'what state is <e> located in', 'what state is <e> located in'] | 2472 | what state is  polaski located in | location/location/containedby | location/location/containedby | polaski | polaski |\n",
      "| 4 | nan | ['what disease claimed the life of <e>', 'what disease did <e> die of ?', 'what disease did <e> die of'] | 445 | what disease claimed the life of fern emmett | people/deceased_person/cause_of_death | people/deceased_person/cause_of_death | fern emmett | fern emmett |\n",
      "| 5 | nan | ['what is an album that <e> has released', 'what is an album that <e> created ?', 'what is an album that <e> created ?'] | 656 | what is tristeza's album that starts with an s | music/artist/album | music/artist/album | tristeza | tristeza |\n",
      "| 6 | nan | ['who was the artist for the single <e>', 'who is the artist of the song <e>', 'who was the artist in the recording <e>'] | 1044 | who was the artist on the album just you, just me | music/album/artist | music/recording/artist | just you, just me | just you , just me |\n",
      "| 7 | nan | ['which hand does <e> use', 'how does <e> shoot', 'how does <e> shoot'] | 42 | what position does max bentley play  | ice_hockey/hockey_player/hockey_position | ice_hockey/hockey_player/shoots | max bentley | max bentley |\n",
      "| 8 | nan | ['what game method has <e>', \"what 's a computer that uses the <e>\"] | 3 | what company made intel core 2? | computer/computer_processor/manufacturers | computer/computer_processor/used_in_computers | intel core 2 | intel core 2 |\n",
      "| 9 | nan | ['where was <e> released', 'which region was <e> released in', 'the region of release for <e> is what ?'] | 335 | what kind of game is the legend of zelda: twilight princess | cvg/computer_videogame/cvg_genre | cvg/game_version/regions | the legend of zelda: twilight princess | the legend of zelda : twilight princess |\n",
      "| 10 | nan | ['what school was founded by <e>', 'what company did <e> found', 'what company has <e> created'] | 6 | What type of media is burne hogarth | type/content/media_type | organization/organization_founder/organizations_founded | burne hogarth | burne hogarth |\n",
      "| 11 | nan | ['what person is <e> ?', 'what person is <e> ?', 'who is an <e> ?'] | 180 | what person is an ashkenazi jews? | people/ethnicity/people | people/ethnicity/people | ashkenazi jews | ashkenazi jews |\n",
      "| 12 | nan | ['what type of school is <e>', 'what type of school is <e>', 'what type of school is <e>'] | 303 | what type of school is central high school | education/educational_institution/school_type | education/educational_institution/school_type | central high school | central high school |\n",
      "| 13 | nan | ['where did <e>', 'where did <e>', 'where did <e> die'] | 1610 | Who is rick mcnair | common/topic/notable_types | people/deceased_person/place_of_death | rick mcnair | rick mcnair |\n",
      "| 14 | nan | ['what is a short <e> released in 2010', 'what s a <e> released in 2014', \"what 's a <e> released in 2001\"] | 1070 | Name a short documentary film released in 2011 | film/film_genre/films_in_this_genre | film/film_genre/films_in_this_genre | short | documentary film |\n",
      "| 15 | nan | ['who in the world was born in <e>', 'whose mom gave birth to them in <e>', \"who 's a chemist born in <e>\"] | 34 | who designed the costume for the movie copenhagen | film/film/costume_design_by | location/location/people_born_here | copenhagen | copenhagen |\n",
      "| 16 | nan | ['what s the name of an <e> album', 'what is the name of an <e> album', 'what s the name of a <e> album'] | 727 | whats the name of an indie rock album | music/genre/albums | music/genre/albums | indie rock | indie rock |\n",
      "| 17 | nan | [\"who 's a chemist born in <e>\", \"who 's a wrestler born in <e>\", 'who is a person born in <e>'] | 1243 | What's a temple found in chiang mai | location/location/contains | location/location/people_born_here | chiang mai | chiang mai |\n",
      "| 18 | nan | ['what major city does <e> run through', 'what major city does <e> run through', 'what major city does <e> go through ?'] | 36 | what major city does nebraska highway 70 pass through | transportation/road/major_cities | transportation/road/major_cities | nebraska highway 70 | nebraska highway 70 |\n",
      "| 19 | nan | ['what is an example of <e>', 'what is a book on <e> ?', 'what is a novel about <e> ?'] | 131 | what is canonical version of ethics? | music/recording/canonical_version | book/book_subject/works | ethics | ethics |\n",
      "| 20 | nan | [\"who is <e> 's father\", \"what is <e> 's parent\", \"who is <e> 's father\"] | 1928 | what is marc singer's gender | people/person/gender | people/person/parents | marc singer | marc singer |\n",
      "| 21 | nan | ['where was <e> born ?', 'where was <e> born ?', 'where was <e> born ?'] | 2720 | Where was Ruth Turner born? | people/person/place_of_birth | people/person/place_of_birth | ruth turner | ruth turner |\n",
      "| 22 | nan | ['what singer released <e>', 'who is the creator of <e>', 'who is the artist of <e>'] | 1044 | whats the release type of  the last thing on my mind | music/album/release_type | music/album/artist | the last thing on my mind | the last thing on my mind |\n",
      "| 23 | nan | ['what is the release on the track <e>', 'what is the release from the track <e>', 'what is the release of the track <e>'] | 39 | what is the mpaa rating for the movie sahara | film/film/rating | music/release_track/release | sahara | sahara |\n",
      "| 24 | nan | ['what genre is the film <e>', 'what genre is the film <e>', 'what genre is the film <e> ?'] | 208 | who wrote the film jindabyne | film/film/written_by | media_common/netflix_title/netflix_genres | jindabyne | jindabyne |\n",
      "| 25 | nan | ['where is <e> located', 'where is <e> located', 'where is <e> located in'] | 163 | where is crossing of the andes located | time/event/locations | time/event/locations | crossing of the andes | crossing of the andes |\n",
      "| 26 | nan | ['what is a work by <e>', 'what is a movie by <e>', 'what is a work done by <e>'] | 0 | what university sponsored lc | internet/top_level_domain/sponsor | film/writer/film | lc | lc |\n",
      "| 27 | nan | ['what type of film is <e>', 'what type of film is <e>', 'what type of film is <e>'] | 2173 | what type of film is deadly blessing | film/film/genre | film/film/genre | deadly blessing | deadly blessing |\n",
      "| 28 | nan | ['what type of music does <e> radio station play', 'what type of music does <e> play ?', 'what type of music does <e> play'] | 53 | What type of music does krgy station play? | broadcast/radio_station/format | broadcast/radio_station/format | krgy | krgy |\n",
      "| 29 | nan | ['what genre of music is the album <e>', 'what genre of music is the album <e>', 'what genre of music is the album <e>'] | 1537 | what genre of music is the album almanac live 2004 | music/album/genre | music/album/genre | almanac live 2004 | almanac live 2004 |\n",
      "| 30 | nan | ['who is an italian <e> ?', 'who is a famous <e> ?', 'who is a russian <e> ?'] | 579 | Who is a famous Austrailian screenwriter? | people/profession/people_with_this_profession | people/profession/people_with_this_profession | screenwriter | screenwriter |\n",
      "| 31 | nan | ['what genre does the artist <e> perform', 'in what genre does the artist <e> perform in', 'what genre does the artist <e> perform'] | 1553 | in what genre does the musician the juan maclean perform | music/artist/genre | music/artist/genre | the juan maclean | the juan maclean |\n",
      "| 32 | nan | ['what language does <e> come from', 'where did the <e> originate from', 'what language does <e> belong to'] | 59 | which language did tharaka language originate from | language/human_language/language_family | language/human_language/language_family | tharaka language | tharaka language |\n",
      "| 33 | nan | ['what sports event look place at <e> ?'] | 125 | which event in 2003 was held at the millennium stadium | location/location/events | soccer/football_pitch/matches | millennium stadium | millennium stadium |\n",
      "| 34 | nan | ['what condition did <e> die of', 'what disease did <e> die of', 'what cancer did <e> die from'] | 1380 | Which city in America did joseph curran die in | people/deceased_person/place_of_death | people/deceased_person/cause_of_death | joseph curran | joseph curran |\n",
      "| 35 | nan | ['name an album by <e>', 'name an album by <e>', 'name an album by <e>'] | 656 | Name an album by miles davis | music/artist/album | music/artist/album | miles davis | miles davis |\n",
      "| 36 | nan | ['what is a song off the album <e> ?', 'what is a song off the album <e> ?', 'what is the title of a song from <e> ?'] | 1537 | what is the genre of the music album soulfully live in the city of angels? | music/album/genre | music/release/track_list | soulfully live in the city of angels | soulfully live in the city of angels |\n",
      "| 37 | nan | ['what netflix genre is <e> categorized under ?', 'which netflix genre is <e> categorized under', 'what netflix genre is <e> found under'] | 960 | What netflix genre is stripteaser 2 categorized under | media_common/netflix_title/netflix_genres | media_common/netflix_title/netflix_genres | stripteaser 2 | stripteaser 2 |\n",
      "| 38 | nan | ['what genre of film is <e> ?', 'what genre of film is <e> ?', 'what genre of film is <e> ?'] | 2173 | what genre of film is donna on demand? | film/film/genre | film/film/genre | donna on demand | donna on demand |\n",
      "| 39 | nan | ['what is the genre of <e> ?', 'what is the genre of <e> ?', 'what is the genre of <e> ?'] | 1928 | What is the gender of kathie sullivan? | people/person/gender | music/artist/genre | kathie sullivan | kathie sullivan |\n",
      "| 40 | nan | ['which album is part of the <e> genre ?', 'what album is from the <e> genre ?', 'which album is of the <e> genre'] | 724 | which artist performs the disco genre? | music/genre/artists | music/genre/albums | disco | disco |\n",
      "| 41 | nan | ['what is a school color of <e>', 'what is a school color for <e>', 'what is a school color of <e> ?'] | 177 | what was a school color of south garland high school | education/educational_institution/colors | education/educational_institution/colors | south garland high school | south garland high school |\n",
      "| 42 | nan | ['which album is of the genre <e>', 'which album is in the genre <e>', 'what album is from the genre <e>'] | 724 | which artist performs the genre post-punk | music/genre/artists | music/genre/albums | post-punk | post - punk |\n",
      "| 43 | nan | ['where does the <e> originate ?', 'where is the origin of <e>', 'where does the <e> start ?'] | 22 | where does the water in the canche come from | geography/river/mouth | geography/river/origin | canche | canche |\n",
      "| 44 | nan | ['what is the genre of the book <e> ?', 'what is the genre of the book <e> ?', 'what is the genre of the book <e> ?'] | 864 | What is the genre of the book between lovers? | book/book/genre | book/book/genre | between lovers | between lovers |\n",
      "| 45 | nan | ['what kind of album is <e>', 'what kind of album is <e>', 'what kind of album is <e>'] | 892 | what kind of album is canti randagi 2 | music/album/album_content_type | music/album/album_content_type | canti randagi 2 | canti randagi 2 |\n",
      "| 46 | nan | ['what is the position of <e>', 'what position is <e>', 'what position is <e>'] | 1928 | What is the gender of tony sealy | people/person/gender | soccer/football_player/position_s | tony sealy | tony sealy |\n",
      "| 47 | nan | ['which genre is <e> ?', 'which genre is <e>', 'which type of film is <e>'] | 1374 | Which country filmed when hell broke loose. | film/film/country | film/film/genre | when hell broke loose | when hell broke loose |\n",
      "| 48 | nan | ['what was involved in the <e> ?', 'who was involved in the <e> ?', 'who was involved in the <e> ?'] | 237 | what was involved in the red clouds war? | base/culturalevent/event/entity_involved | base/culturalevent/event/entity_involved | red cloud's war | red clouds war |\n",
      "| 49 | nan | ['what is the main topic of <e>', 'what is the prevailing subject of <e>', 'what is the main subject of <e>'] | 210 | What is the original language of the first stone | book/written_work/original_language | book/written_work/subjects | the first stone | the first stone |\n",
      "\n"
     ]
    }
   ],
   "source": [
    "from tqdm import tqdm_notebook\n",
    "import random\n",
    "\n",
    "predicted = []\n",
    "for index, row in tqdm_notebook(df.iterrows(), total=df.shape[0]):\n",
    "    if len(row['candidate_facts']) != 0:\n",
    "        candidate_relations = list(row['candidate_facts'].keys())\n",
    "        kg_relation_probability = [sum(len(row['candidate_facts'][r][mid]) for mid in row['candidate_facts'][r])\n",
    "                                     for r in candidate_relations]\n",
    "        scores = [(row['softmax_scores'][i] *\n",
    "                   transform_probability_from_kg_to_train[r] *\n",
    "                   kg_relation_probability[i]) for i, r in enumerate(candidate_relations)]\n",
    "        max_score = max(scores)\n",
    "        predicted_relations = [r for i, r in enumerate(candidate_relations) if scores[i] == max_score]\n",
    "        predicted_relation = random.choice(predicted_relations)\n",
    "        \n",
    "        # We use the `Better than random guessing` from notebook \n",
    "        # `HYPOTHESIS - Question Refers to Multiple Subjects`.\n",
    "        subject_mid, object_mids = sorted(row['candidate_facts'][predicted_relation].items(),\n",
    "                                          key=lambda i: len(i[1]), reverse=True)[0]\n",
    "        predicted.append(tuple([predicted_relation, subject_mid, object_mids]))\n",
    "    else:\n",
    "        predicted.append(tuple([None, None, None]))\n",
    "\n",
    "evaluate(predicted)"
   ]
  },
  {
   "cell_type": "markdown",
   "metadata": {},
   "source": [
    "**Numbers:**\n",
    "\n",
    "- Subject & Relation Accuracy (SOTA 78.7%): 0.781067 [16939 of 21687]\n",
    "- Object Accuracy: 0.835662 [18123 of 21687]\n",
    "- Relation Accuracy (SOTA 88.4%): 0.881680 [19121 of 21687]\n",
    "- Subject Accuracy (SOTA 79%): 0.830451 [18010 of 21687]\n",
    "- Correct Interpretation: 0.915479 [19854 of 21687]\n",
    "- No Interpretation: 0.019413 [421 of 21687]\n",
    "\n",
    "**Discussion:**\n",
    "\n",
    "Following the error bucket given that 14/50 were marked correctly, we revaluate our model at 0.065108 * (14/ 50) + 0.915479 = 0.93370924% correct.\n",
    "\n",
    "Given that 34/50 are incorrect, excluding noise, we find that there exists at most 0.065108 * (34/50) = 4.4\\% room for improvement with 0.02083456 (2.1%) due to modeling low shot relations.\n",
    "\n",
    "**Error Buckets: (1 - (0.019413 + 0.915479) = 0.065108% of Examples)**\n",
    "\n",
    "**Buckets:**\n",
    "- Incorrect, Low (16/50): The relation choosen was incorrect and there are less than 7 examples in the training data for the true relation.\n",
    "- Correct (14/50): The model interpreted the question correctly. \n",
    "- Incorrect (36/50): The model interpreted the question incorrectly.\n",
    "- Incorrect, Noise (2/50): The question was interpreted incorrectly and did not make sense.\n",
    "- Incorrect, Relation (30/50): The model failed to get the correct relation.\n",
    "- Incorrect, Subject (14/50): The model failed to get the correct subject.\n",
    "\n",
    "\n",
    "| Index | Bucket | Closest False Predicate | True Relation Count | Question | True Relation | False Relation | Subject Name | Predicted Subject Name |\n",
    "| --- | --- | --- | --- | --- | --- | --- | --- | --- |\n",
    "| 0 | Correct | ['what town is in <e>', 'which city is in <e>', 'what town is in <e> ?'] | 39 | which town is in new york city | location/place_with_neighborhoods/neighborhoods | location/location/contains | new york city | new york city |\n",
    "| 1 | Incorrect, Low, Relation | ['what types of hotel is <e>', 'what type of location is the <e>', 'what accommodation type is <e> ?'] | 1 | who operates the fairfield inn & suites austin northwest/arboretum | travel/hotel/operated_by | travel/accommodation/accommodation_type | fairfield inn & suites austin northwest/arboretum | fairfield inn & suites austin northwest / arboretum |\n",
    "| 2 | Incorrect, Subject, Relation | ['what is the license for <e>', 'what license does <e> have', 'what license does <e> have'] | 30 | whats the name of a law enforcement agency | organization/organization_sector/organizations_in_this_sector | computer/software/license | law enforcement agency | enforcement |\n",
    "| 3 | Incorrect, Subject, Relation | ['what is a notable type of <e> ?', 'what is a notable type of a <e> ?', 'what is a notable type about <e> ?'] | 1243 | What is an island located in united states minor outlying islands? | location/location/contains | common/topic/notable_types | united states minor outlying islands | outlying islands |\n",
    "| 4 | Correct | ['in which country was <e> album released', 'in which country was <e> album released', 'in what country was <e> album released'] | 761 | in which country was the greatest hits album released | music/release/region | music/release/region | greatest hits | the greatest hits |\n",
    "| 5 | Incorrect, Low, Relation | [\"what 's an example of a <e> organization\"] | 2 | What's an ad campaign focused on health care | user/micahsaul/advertising/advertised_thing/ad_campaigns | government/government_service/operating_organization | health care | health care |\n",
    "| 6 | Incorrect | ['what is an album recorded by <e> ?', 'what is an album recorded by <e> ?', 'what is an album recorded by <e> ?'] | 1044 | jackie is an album recorded by what artist? | music/album/artist | music/artist/album | jackie | jackie |\n",
    "| 7 | Correct | ['what is a live <e> by archer prewitt ?', 'what is an <e> released by a dominican singer in 1998', 'what is an <e> by jetplane landing ?'] | 656 | what is the cover album by Japanese pop singer Ken Hirai | music/artist/album | music/album_release_type/albums | ken hirai | album |\n",
    "| 8 | Incorrect, Low, Relation | ['what is the area code for <e>', 'what is the location of <e>', 'what is the location of <e>'] | 0 | what is the parent institution for cohn-haddow center for judaic studies | base/jewlib/research_center/parent_institution | location/location/containedby | cohn-haddow center for judaic studies | cohn - haddow center for judaic studies |\n",
    "| 9 | Incorrect, Low, Relation | ['where released <e>', 'where is <e>', 'where is <e> from'] | 5 | where is produced by closer | theater/theater_production/performed_at | music/release/region | closer | closer |\n",
    "| 10 | Incorrect, Relation | ['which state is <e> located in', 'which state is <e> located in ?', 'which state is <e> in'] | 2472 | Which country is kenai fjords national park located in | location/location/containedby | base/usnationalparks/us_national_park/state | kenai fjords national park | kenai fjords national park |\n",
    "| 11 | Incorrect, Relation | ['who was born in the <e> ?', 'who is an author from <e> ?', 'who was born in the <e> ?'] | 37 | What is a color of the st helens rlfc | sports/sports_team/colors | location/location/people_born_here | st helens rfc | st helens |\n",
    "| 12 | Incorrect, Subject, Relation | ['which city is in <e>', 'what city is in <e> ?', 'what city is in <e> ?'] | 16 | which city is river dee, aberdeenshire in  | geography/river/cities | location/location/contains | river dee | dee , aberdeenshire |\n",
    "| 13 | Incorrect, Low, Relation | ['what country is <e> in', 'what does <e> pertain to', 'what does the <e> belong to'] | 1 | which city is in bosnian county | base/aareas/schema/administrative_area_type/subdivides_place | base/aareas/schema/administrative_area_type/pertains_to | bosnian county | bosnian county |\n",
    "| 14 | Correct | ['what classification is <e>', 'what kind of classification is <e> given', 'what is the classification of <e>'] | 159 | what classification is the drug sodium sulfacetamide and sulfur 0.05 kit | medicine/drug_formulation/legal_status | medicine/drug_formulation/drug_category | sodium sulfacetamide and sulfur 0.05 kit | sodium sulfacetamide and sulfur 0.05 kit |\n",
    "| 15 | Incorrect, Low, Subject, Relation | [\"what is <e> 's gender identity\", \"what is <e> 's gender identity\", \"what is <e> 's sex ?\"] | 0 | what is mandy bright's sexual orientation  | base/adultentertainment/adult_entertainer/sexual_orientation | people/person/gender | mandy | mandy bright |\n",
    "| 16 | Correct | ['which releases has <e> as a track ?', 'which release has the track <e>', 'which releases has the track <e> ?'] | 646 | which releases have gold as the track? | music/recording/releases | music/release_track/release | gold | gold |\n",
    "| 17 | Incorrect, Subject, Relation | ['what movie was directed by <e>', 'what movie was directed by <e>', 'what film was directed by <e>'] | 1070 | what thriller was directed by Félix Enríquez Alcalá | film/film_genre/films_in_this_genre | film/director/film | thriller | felix enriquez alcala |\n",
    "| 18 | Incorrect, Subject, Relation | ['what is the country of origin of the movie <e> ?', 'what is the country of origin of the film <e> ?', 'what is the country of origin for the film <e> ?'] | 19 | what's the first episode of the fifth season of deja vu (the outer limits) | tv/tv_series_episode/next_episode | film/film/country | deja vu | the fifth season of |\n",
    "| 19 | Incorrect, Relation | ['where did the film <e> originate ?', 'where did the film <e> originate ?', 'where did the film <e> originate ?'] | 441 | Where is the artist the lab originate  | music/artist/origin | film/film/country | the lab | the lab |\n",
    "| 20 | Incorrect, Low, Relation | ['what type of storage does the <e> support', 'what type of storage card does the <e> use', 'what types of card does <e> need'] | 2 | What type of sensor does the nikon d3 have? | digicams/digital_camera/sensor_type | digicams/digital_camera/supported_storage_types | nikon d3 | nikon d3 |\n",
    "| 21 | Incorrect, Low, Relation | ['what color is <e>', 'what color is worn by <e> ?', 'what color is <e>'] | 7 | What color of horse is george washington | base/thoroughbredracing/thoroughbred_racehorse/color | education/educational_institution/colors | george washington | george washington |\n",
    "| 22 | Correct | ['the song <e> is from which album', '<e> is from what album', 'what is a song from the album <e>'] | 676 | die in your arms is the single from which album  | music/release_track/release | music/release_track/recording | die in your arms | die in your arms |\n",
    "| 23 | Incorrect, Subject, Relation | ['what is the title of a film with the <e> genre ?', 'what is the name of a film where the genre is <e>', 'what is the name of an italian <e> ?'] | 1070 | What is the drama film where black-and-white technique was used? | film/film_genre/films_in_this_genre | film/film_genre/films_in_this_genre | black-and-white | drama film |\n",
    "| 24 | Incorrect | ['what entity governs the <e>', 'what is the governing body over the <e>', 'who is in charge of the <e>'] | 123 | what American politician gave her name for the eleanor roosevelt national historic site | symbols/namesake/named_after | protected_sites/protected_site/governing_body | eleanor roosevelt national historic site | eleanor roosevelt national historic |\n",
    "| 25 | Incorrect, Subject | [\"what is <e> 's profession ?\", \"what is <e> 's profession ?\", \"what is <e> 's profession ?\"] | 847 | What is aninuddha roy chowdhury's profession? | people/person/profession | common/topic/notable_types | aniruddha roy chowdhury | chowdhury |\n",
    "| 26 | Correct | ['what time of media is <e>', 'what type of music is <e>', 'what type of model is <e>'] | 6 | What type of media is lemon | type/content/media_type | common/topic/notable_types | lemon | lemon |\n",
    "| 27 | Incorrect, Low, Subject, Relation | ['what fires were started as a result of <e>'] | 1 | what scandinavian airlines flight was involved in an accident | aviation/airline/accidents | base/fires/fire_cause/fires_caused_this_way | scandinavian airlines | accident |\n",
    "| 28 | Correct | ['what mountains are located in the <e>', 'what mountain is located in the <e>', 'what mountain is in the <e> ?'] | 1243 | what mountains are located within white mountains? | location/location/contains | geography/mountain_range/mountains | white mountains | white mountains |\n",
    "| 29 | Incorrect, Noise, Relation | ['what is a <e> group', 'what is a <e> band', \"what 's a <e> band\"] | 727 | what is an electro-industrial genre  | music/genre/albums | music/genre/artists | electro-industrial | electro - industrial |\n",
    "| 30 | Incorrect, Relation | ['what is a mode of <e>', 'what is a mode in <e>', 'what is a feature of <e>'] | 169 | What is an adventure cvg game? | cvg/cvg_genre/games | cvg/computer_videogame/gameplay_modes | adeventure | adventure |\n",
    "| 31 | Correct | ['name a film that was shown at the <e>', 'what film was shown at the <e>', 'what film was shown at the <e>'] | 19 | What's a movie that was shown at the 2010 fantasia festival | film/film_festival_event/films | film/film_festival_event/films | 2010 fantasia film festival | 2010 fantasia festival |\n",
    "| 32 | Incorrect, Subject, Relation | ['name an <e> person', 'name a <e> .', 'who is a <e> mayor'] | 1070 | name a 2007 American film parody  | film/film_genre/films_in_this_genre | people/ethnicity/people | parody | american |\n",
    "| 33 | Incorrect, Low, Relation | ['which german city is <e> from', 'which european city is <e> from', 'which state is <e> from'] | 1 | which department contains caroline bynum | education/academic/departments_old | people/person/place_of_birth | caroline bynum | caroline bynum |\n",
    "| 34 | Correct | [\"what 's one of the songs on the album <e>\", \"what 's one of the songs on the album <e>\", \"what 's one of the songs on the release <e>\"] | 411 | What is one of the songs on the free album? | music/release_track/recording | music/release/track | free | free |\n",
    "| 35 | Incorrect, Subject | ['is <e> pop music or folk', 'is <e> rock music or hip - hop', 'is <e> dance - pop or k - pop'] | 1553 | is jane child pop music or j-pop | music/artist/genre | music/artist/genre | jane child | jane |\n",
    "| 36 | Incorrect, Low, Subject, Relation | ['who is the featured artist on the album <e> ?', 'what pretty girl rock singer is featured on <e>', 'who is a featured artist on the album <e> ?'] | 7 | what is the tittle of an entrepreneur who opens and runs restaurants professionally | people/profession/specializations | music/album/featured_artists | entrepreneur | opens |\n",
    "| 37 | Incorrect, Low, Relation | ['what is the country code for <e>', 'what is the country code for <e>', 'what are the expected codes of <e> ?'] | 1 | which country locates japanese city | base/aareas/schema/administrative_area_type/iso_country | base/aareas/schema/administrative_area_type/expected_codes | japanese city | japanese city |\n",
    "| 38 | Incorrect, Low, Relation | ['which biological process is <e> a part of'] | 0 | What kind of gas does a nitrogen fixation produce | base/process/process/output | base/change/process/part_of_process | nitrogen fixation | nitrogen fixation |\n",
    "| 39 | Correct | ['what type of game is <e>', 'what type of game is <e>', 'what type of game is <e>'] | 226 | what type of game is the ncaa football 07 | cvg/computer_videogame/gameplay_modes | cvg/computer_videogame/cvg_genre | ncaa football 07 | ncaa football 07 |\n",
    "| 40 | Incorrect, Low, Relation | ['what is the name of a woman born in <e> ?', 'what is the name of a man born in <e> ?', 'who was the scientist born in <e> ?'] | 2 | Who was the father of the famous horse Cincinnati? | biology/organism/parents | location/location/people_born_here | cincinnati | cincinnati |\n",
    "| 41 | Incorrect, Low, Relation | ['what event took place in <e> in 1993 ?', 'what event took place at <e> in 1943 ?', 'what event took place in <e> ?'] | 0 | what event tournament did uganda participate in | sports/sport_country/multi_event_tournaments_participated_in | location/location/events | uganda | uganda |\n",
    "| 42 | Correct | ['what is the genre of <e> .', 'what is the genre of <e> ?', 'what is the genre of <e> ?'] | 1553 | what is the genre of trout fishing in america's work | music/artist/genre | book/book/genre | trout fishing in america | trout fishing in america |\n",
    "| 43 | Incorrect, Relation | ['who is a parent of <e>', 'who is father of <e>', 'who is a parent of <e>'] | 114 | who boradcasts olivia newton-john | broadcast/artist/content | people/person/parents | olivia newton-john | olivia newton - john |\n",
    "| 44 | Incorrect, Subject | ['where is the movie <e> from', 'where is the movie <e> from ?', 'where is the film <e> from'] | 1374 | where is the movie music for madame from | film/film/country | film/film/country | music for madame | madame |\n",
    "| 45 | Correct | ['where was <e> from', 'where is <e> from', 'where is <e> from'] | 2720 | where was nat king cole from | people/person/place_of_birth | music/release/region | nat \\\"king\\\" cole | nat king cole |\n",
    "| 46 | Incorrect, Noise | ['what is the ninth track on the album <e>', 'what was a track on the album <e>', 'what was a track on the album <e>'] | 679 | travellin light was the fourth track on this album. | music/release/track_list | music/release/track | travellin' light | travellin light |\n",
    "| 47 | Incorrect, Relation, Subject | [\"what 's a drug with <e> in it\", \"what 's a drug that uses <e>\", 'what drug has <e> as the active ingredient'] | 23 | What's a hydrogen peroxide formula available in liquid | medicine/drug_dosage_form/formulations_available_in_this_form | medicine/drug_ingredient/active_ingredient_of_formulation | liquid | hydrogen peroxide |\n",
    "| 48 | Incorrect, Low, Relation | ['does <e> follow taoism or buddhism', \"what is <e> 's theology\", '<e> ascribes to what church ?'] | 1 | does gerald j. rip work at the federal court | base/morelaw/canadian_judge/court | people/person/religion | gerald j. rip | gerald j. rip |\n",
    "| 49 | Correct | ['<e> is what gender ?', '<e> is what gender ?', '<e> self - identifies as which gender ?'] | 1928 | john binder identifies with what gender? | people/person/gender | people/person/gender | john binden | john binder |"
   ]
  },
  {
   "cell_type": "markdown",
   "metadata": {},
   "source": [
    "### Version: Softmax & Most Facts & Entity Relation Distribution & Ensemble\n",
    "\n",
    "In version 3, we try to ensemble 3 similary performing softmax models."
   ]
  },
  {
   "cell_type": "code",
   "execution_count": 34,
   "metadata": {},
   "outputs": [
    {
     "data": {
      "application/vnd.jupyter.widget-view+json": {
       "model_id": "fc52d1128fab4a58b2f9d4927526adbb",
       "version_major": 2,
       "version_minor": 0
      },
      "text/plain": [
       "HBox(children=(IntProgress(value=0, max=10845), HTML(value='')))"
      ]
     },
     "metadata": {},
     "output_type": "display_data"
    },
    {
     "name": "stdout",
     "output_type": "stream",
     "text": [
      "\n"
     ]
    },
    {
     "data": {
      "application/vnd.jupyter.widget-view+json": {
       "model_id": "3eceb88f1d4e41f88d439bce8ef97956",
       "version_major": 2,
       "version_minor": 0
      },
      "text/plain": [
       "HBox(children=(IntProgress(value=0, max=10845), HTML(value='')))"
      ]
     },
     "metadata": {},
     "output_type": "display_data"
    },
    {
     "name": "stdout",
     "output_type": "stream",
     "text": [
      "\n",
      "Subject & Relation Accuracy (SOTA 78.7%): 0.390134 [4231 of 10845]\n",
      "Object Accuracy: 0.432918 [4695 of 10845]\n",
      "Relation Accuracy (SOTA 88.4%): 0.416690 [4519 of 10845]\n",
      "Subject Accuracy (SOTA 79%): 0.769756 [8348 of 10845]\n",
      "Correct Interpretation: 0.000184 [2 of 10845]\n",
      "No Interpretation: 0.021669 [235 of 10845]\n",
      "Negative Sample:\n",
      "| Index | Bucket | Closest False Predicate | True Relation Count | Question | True Relation | False Relation | Subject Name | Predicted Subject Name |\n",
      "| --- | --- | --- | --- | --- | --- | --- | --- | --- |\n",
      "| 0 | nan | ['name a <e> restaurant .', 'what restaurant serves <e> cuisine', 'which restaurant serves <e> ?'] | 13 | Name an American Thoroughbread racehorse  | biology/organism_classification/organisms_of_this_type | dining/cuisine/restaurant | nan | american |\n",
      "| 1 | nan | ['what kind of game is <e> ?', 'what kind of game is <e>', 'what kind of gameplay is <e>'] | 335 | what kind of game is vision racing driving simulator? | cvg/computer_videogame/cvg_genre | cvg/computer_videogame/gameplay_modes | vision racing driving simulator | vision racing driving simulator |\n",
      "| 2 | nan | ['what movie is <e>', 'what movie is <e>', \"what 's a romantic <e>\"] | 203 | what tv program is romance film | tv/tv_genre/programs | film/film_genre/films_in_this_genre | romance film | romance film |\n",
      "| 3 | nan | ['what state is <e> located in', 'what state is <e> located in', 'what state is <e> located in'] | 2472 | what state is  polaski located in | location/location/containedby | location/location/containedby | polaski | polaski |\n",
      "| 4 | nan | ['what disease claimed the life of <e>', 'what disease did <e> die of ?', 'what disease did <e> die of'] | 445 | what disease claimed the life of fern emmett | people/deceased_person/cause_of_death | people/deceased_person/cause_of_death | fern emmett | fern emmett |\n",
      "| 5 | nan | ['what is an album that <e> has released', 'what is an album that <e> created ?', 'what is an album that <e> created ?'] | 656 | what is tristeza's album that starts with an s | music/artist/album | music/artist/album | tristeza | tristeza |\n",
      "| 6 | nan | ['who was the artist for the single <e>', 'who is the artist of the song <e>', 'who was the artist in the recording <e>'] | 1044 | who was the artist on the album just you, just me | music/album/artist | music/recording/artist | just you, just me | just you , just me |\n",
      "| 7 | nan | ['which hand does <e> use', 'how does <e> shoot', 'how does <e> shoot'] | 42 | what position does max bentley play  | ice_hockey/hockey_player/hockey_position | ice_hockey/hockey_player/shoots | max bentley | max bentley |\n",
      "| 8 | nan | ['what game method has <e>', \"what 's a computer that uses the <e>\"] | 3 | what company made intel core 2? | computer/computer_processor/manufacturers | computer/computer_processor/used_in_computers | intel core 2 | intel core 2 |\n",
      "| 9 | nan | ['where was <e> released', 'which region was <e> released in', 'the region of release for <e> is what ?'] | 335 | what kind of game is the legend of zelda: twilight princess | cvg/computer_videogame/cvg_genre | cvg/game_version/regions | the legend of zelda: twilight princess | the legend of zelda : twilight princess |\n",
      "| 10 | nan | ['what school was founded by <e>', 'what company did <e> found', 'what company has <e> created'] | 6 | What type of media is burne hogarth | type/content/media_type | organization/organization_founder/organizations_founded | burne hogarth | burne hogarth |\n",
      "| 11 | nan | ['what person is <e> ?', 'what person is <e> ?', 'who is an <e> ?'] | 180 | what person is an ashkenazi jews? | people/ethnicity/people | people/ethnicity/people | ashkenazi jews | ashkenazi jews |\n",
      "| 12 | nan | ['what type of school is <e>', 'what type of school is <e>', 'what type of school is <e>'] | 303 | what type of school is central high school | education/educational_institution/school_type | education/educational_institution/school_type | central high school | central high school |\n",
      "| 13 | nan | ['where did <e>', 'where did <e>', 'where did <e> die'] | 1610 | Who is rick mcnair | common/topic/notable_types | people/deceased_person/place_of_death | rick mcnair | rick mcnair |\n",
      "| 14 | nan | ['what is a short <e> released in 2010', 'what s a <e> released in 2014', \"what 's a <e> released in 2001\"] | 1070 | Name a short documentary film released in 2011 | film/film_genre/films_in_this_genre | film/film_genre/films_in_this_genre | short | documentary film |\n",
      "| 15 | nan | ['who in the world was born in <e>', 'whose mom gave birth to them in <e>', \"who 's a chemist born in <e>\"] | 34 | who designed the costume for the movie copenhagen | film/film/costume_design_by | location/location/people_born_here | copenhagen | copenhagen |\n",
      "| 16 | nan | ['what s the name of an <e> album', 'what is the name of an <e> album', 'what s the name of a <e> album'] | 727 | whats the name of an indie rock album | music/genre/albums | music/genre/albums | indie rock | indie rock |\n",
      "| 17 | nan | [\"who 's a chemist born in <e>\", \"who 's a wrestler born in <e>\", 'who is a person born in <e>'] | 1243 | What's a temple found in chiang mai | location/location/contains | location/location/people_born_here | chiang mai | chiang mai |\n",
      "| 18 | nan | ['what major city does <e> run through', 'what major city does <e> run through', 'what major city does <e> go through ?'] | 36 | what major city does nebraska highway 70 pass through | transportation/road/major_cities | transportation/road/major_cities | nebraska highway 70 | nebraska highway 70 |\n",
      "| 19 | nan | ['what is an example of <e>', 'what is a book on <e> ?', 'what is a novel about <e> ?'] | 131 | what is canonical version of ethics? | music/recording/canonical_version | book/book_subject/works | ethics | ethics |\n",
      "| 20 | nan | [\"who is <e> 's father\", \"what is <e> 's parent\", \"who is <e> 's father\"] | 1928 | what is marc singer's gender | people/person/gender | people/person/parents | marc singer | marc singer |\n",
      "| 21 | nan | ['where was <e> born ?', 'where was <e> born ?', 'where was <e> born ?'] | 2720 | Where was Ruth Turner born? | people/person/place_of_birth | people/person/place_of_birth | ruth turner | ruth turner |\n",
      "| 22 | nan | ['what singer released <e>', 'who is the creator of <e>', 'who is the artist of <e>'] | 1044 | whats the release type of  the last thing on my mind | music/album/release_type | music/album/artist | the last thing on my mind | the last thing on my mind |\n",
      "| 23 | nan | ['what is the release on the track <e>', 'what is the release from the track <e>', 'what is the release of the track <e>'] | 39 | what is the mpaa rating for the movie sahara | film/film/rating | music/release_track/release | sahara | sahara |\n",
      "| 24 | nan | ['what genre is the film <e>', 'what genre is the film <e>', 'what genre is the film <e> ?'] | 208 | who wrote the film jindabyne | film/film/written_by | media_common/netflix_title/netflix_genres | jindabyne | jindabyne |\n",
      "| 25 | nan | ['where is <e> located', 'where is <e> located', 'where is <e> located in'] | 163 | where is crossing of the andes located | time/event/locations | time/event/locations | crossing of the andes | crossing of the andes |\n",
      "| 26 | nan | ['what is a work by <e>', 'what is a movie by <e>', 'what is a work done by <e>'] | 0 | what university sponsored lc | internet/top_level_domain/sponsor | film/writer/film | lc | lc |\n",
      "| 27 | nan | ['what type of film is <e>', 'what type of film is <e>', 'what type of film is <e>'] | 2173 | what type of film is deadly blessing | film/film/genre | film/film/genre | deadly blessing | deadly blessing |\n",
      "| 28 | nan | ['what type of music does <e> radio station play', 'what type of music does <e> play ?', 'what type of music does <e> play'] | 53 | What type of music does krgy station play? | broadcast/radio_station/format | broadcast/radio_station/format | krgy | krgy |\n",
      "| 29 | nan | ['what genre of music is the album <e>', 'what genre of music is the album <e>', 'what genre of music is the album <e>'] | 1537 | what genre of music is the album almanac live 2004 | music/album/genre | music/album/genre | almanac live 2004 | almanac live 2004 |\n",
      "| 30 | nan | ['who is an italian <e> ?', 'who is a famous <e> ?', 'who is a russian <e> ?'] | 579 | Who is a famous Austrailian screenwriter? | people/profession/people_with_this_profession | people/profession/people_with_this_profession | screenwriter | screenwriter |\n",
      "| 31 | nan | ['what genre does the artist <e> perform', 'in what genre does the artist <e> perform in', 'what genre does the artist <e> perform'] | 1553 | in what genre does the musician the juan maclean perform | music/artist/genre | music/artist/genre | the juan maclean | the juan maclean |\n",
      "| 32 | nan | ['what language does <e> come from', 'where did the <e> originate from', 'what language does <e> belong to'] | 59 | which language did tharaka language originate from | language/human_language/language_family | language/human_language/language_family | tharaka language | tharaka language |\n",
      "| 33 | nan | ['what sports event look place at <e> ?'] | 125 | which event in 2003 was held at the millennium stadium | location/location/events | soccer/football_pitch/matches | millennium stadium | millennium stadium |\n",
      "| 34 | nan | ['what condition did <e> die of', 'what disease did <e> die of', 'what cancer did <e> die from'] | 1380 | Which city in America did joseph curran die in | people/deceased_person/place_of_death | people/deceased_person/cause_of_death | joseph curran | joseph curran |\n",
      "| 35 | nan | ['name an album by <e>', 'name an album by <e>', 'name an album by <e>'] | 656 | Name an album by miles davis | music/artist/album | music/artist/album | miles davis | miles davis |\n",
      "| 36 | nan | ['what is a song off the album <e> ?', 'what is a song off the album <e> ?', 'what is the title of a song from <e> ?'] | 1537 | what is the genre of the music album soulfully live in the city of angels? | music/album/genre | music/release/track_list | soulfully live in the city of angels | soulfully live in the city of angels |\n",
      "| 37 | nan | ['what netflix genre is <e> categorized under ?', 'which netflix genre is <e> categorized under', 'what netflix genre is <e> found under'] | 960 | What netflix genre is stripteaser 2 categorized under | media_common/netflix_title/netflix_genres | media_common/netflix_title/netflix_genres | stripteaser 2 | stripteaser 2 |\n",
      "| 38 | nan | ['what genre of film is <e> ?', 'what genre of film is <e> ?', 'what genre of film is <e> ?'] | 2173 | what genre of film is donna on demand? | film/film/genre | film/film/genre | donna on demand | donna on demand |\n",
      "| 39 | nan | ['what is the genre of <e> ?', 'what is the genre of <e> ?', 'what is the genre of <e> ?'] | 1928 | What is the gender of kathie sullivan? | people/person/gender | music/artist/genre | kathie sullivan | kathie sullivan |\n",
      "| 40 | nan | ['which album is part of the <e> genre ?', 'what album is from the <e> genre ?', 'which album is of the <e> genre'] | 724 | which artist performs the disco genre? | music/genre/artists | music/genre/albums | disco | disco |\n",
      "| 41 | nan | ['what is a school color of <e>', 'what is a school color for <e>', 'what is a school color of <e> ?'] | 177 | what was a school color of south garland high school | education/educational_institution/colors | education/educational_institution/colors | south garland high school | south garland high school |\n",
      "| 42 | nan | ['which album is of the genre <e>', 'which album is in the genre <e>', 'what album is from the genre <e>'] | 724 | which artist performs the genre post-punk | music/genre/artists | music/genre/albums | post-punk | post - punk |\n",
      "| 43 | nan | ['where does the <e> originate ?', 'where is the origin of <e>', 'where does the <e> start ?'] | 22 | where does the water in the canche come from | geography/river/mouth | geography/river/origin | canche | canche |\n",
      "| 44 | nan | ['what is the genre of the book <e> ?', 'what is the genre of the book <e> ?', 'what is the genre of the book <e> ?'] | 864 | What is the genre of the book between lovers? | book/book/genre | book/book/genre | between lovers | between lovers |\n",
      "| 45 | nan | ['what kind of album is <e>', 'what kind of album is <e>', 'what kind of album is <e>'] | 892 | what kind of album is canti randagi 2 | music/album/album_content_type | music/album/album_content_type | canti randagi 2 | canti randagi 2 |\n",
      "| 46 | nan | ['what is the position of <e>', 'what position is <e>', 'what position is <e>'] | 1928 | What is the gender of tony sealy | people/person/gender | soccer/football_player/position_s | tony sealy | tony sealy |\n",
      "| 47 | nan | ['which genre is <e> ?', 'which genre is <e>', 'which type of film is <e>'] | 1374 | Which country filmed when hell broke loose. | film/film/country | film/film/genre | when hell broke loose | when hell broke loose |\n",
      "| 48 | nan | ['what was involved in the <e> ?', 'who was involved in the <e> ?', 'who was involved in the <e> ?'] | 237 | what was involved in the red clouds war? | base/culturalevent/event/entity_involved | base/culturalevent/event/entity_involved | red cloud's war | red clouds war |\n",
      "| 49 | nan | ['what is the main topic of <e>', 'what is the prevailing subject of <e>', 'what is the main subject of <e>'] | 210 | What is the original language of the first stone | book/written_work/original_language | book/written_work/subjects | the first stone | the first stone |\n",
      "\n"
     ]
    }
   ],
   "source": [
    "from tqdm import tqdm_notebook\n",
    "import random\n",
    "\n",
    "predicted = []\n",
    "for index, row in tqdm_notebook(df.iterrows(), total=df.shape[0]):\n",
    "    if len(row['candidate_facts']) != 0:\n",
    "        candidate_relations = list(row['candidate_facts'].keys())\n",
    "        kg_relation_probability = [sum(len(row['candidate_facts'][r][mid]) for mid in row['candidate_facts'][r])\n",
    "                                     for r in candidate_relations]\n",
    "        scores = [(row['softmax_ensemble_scores'][i] *\n",
    "                   transform_probability_from_kg_to_train[r] *\n",
    "                   kg_relation_probability[i]) for i, r in enumerate(candidate_relations)]\n",
    "        max_score = max(scores)\n",
    "        predicted_relations = [r for i, r in enumerate(candidate_relations) if scores[i] == max_score]\n",
    "        predicted_relation = random.choice(predicted_relations)\n",
    "        \n",
    "        # We use the `Better than random guessing` from notebook \n",
    "        # `HYPOTHESIS - Question Refers to Multiple Subjects`.\n",
    "        subject_mid, object_mids = sorted(row['candidate_facts'][predicted_relation].items(),\n",
    "                                          key=lambda i: len(i[1]), reverse=True)[0]\n",
    "        predicted.append(tuple([predicted_relation, subject_mid, object_mids]))\n",
    "    else:\n",
    "        predicted.append(tuple([None, None, None]))\n",
    "\n",
    "evaluate(predicted)"
   ]
  },
  {
   "cell_type": "code",
   "execution_count": 35,
   "metadata": {},
   "outputs": [],
   "source": [
    "curs = connection.cursor()\n",
    "curs.execute(\"ROLLBACK\")\n",
    "connection.commit()"
   ]
  },
  {
   "cell_type": "code",
   "execution_count": null,
   "metadata": {},
   "outputs": [],
   "source": []
  }
 ],
 "metadata": {
  "kernelspec": {
   "display_name": "Python 3",
   "language": "python",
   "name": "python3"
  },
  "language_info": {
   "codemirror_mode": {
    "name": "ipython",
    "version": 3
   },
   "file_extension": ".py",
   "mimetype": "text/x-python",
   "name": "python",
   "nbconvert_exporter": "python",
   "pygments_lexer": "ipython3",
   "version": "3.6.12"
  }
 },
 "nbformat": 4,
 "nbformat_minor": 2
}
