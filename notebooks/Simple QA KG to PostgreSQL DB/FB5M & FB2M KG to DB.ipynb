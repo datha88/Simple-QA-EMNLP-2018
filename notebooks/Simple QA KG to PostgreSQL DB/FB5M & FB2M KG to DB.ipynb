{
 "cells": [
  {
   "cell_type": "markdown",
   "metadata": {},
   "source": [
    "# FB5M / FB2M KG to DB\n",
    "\n"
   ]
  },
  {
   "cell_type": "code",
   "execution_count": 12,
   "metadata": {},
   "outputs": [],
   "source": [
    "import sys\n",
    "sys.path.insert(0, '../../')\n",
    "from lib.utils import FB5M_KG\n",
    "from lib.utils import FB2M_KG\n",
    "from lib.utils import FB2M_KG_TABLE\n",
    "from lib.utils import FB5M_KG_TABLE\n",
    "from lib.utils import get_connection \n",
    "\n",
    "connection = get_connection()\n",
    "cursor = connection.cursor()\n",
    "\n",
    "tables = [(FB5M_KG_TABLE, FB5M_KG), (FB2M_KG_TABLE, FB2M_KG)]"
   ]
  },
  {
   "cell_type": "code",
   "execution_count": 13,
   "metadata": {},
   "outputs": [],
   "source": [
    "for (table_name, _) in tables:\n",
    "    cursor.execute(\"\"\"\n",
    "        CREATE TABLE %s\n",
    "            (object_mid varchar NOT NULL,\n",
    "            relation varchar NOT NULL,\n",
    "            subject_mid varchar NOT NULL,\n",
    "            PRIMARY KEY(object_mid, relation, subject_mid));\"\"\" % (table_name,))"
   ]
  },
  {
   "cell_type": "code",
   "execution_count": 14,
   "metadata": {},
   "outputs": [
    {
     "data": {
      "application/vnd.jupyter.widget-view+json": {
       "model_id": "b87b210d48fb45adb4215c0cabeae5aa",
       "version_major": 2,
       "version_minor": 0
      },
      "text/plain": [
       "HBox(children=(IntProgress(value=0, max=12010500), HTML(value='')))"
      ]
     },
     "metadata": {},
     "output_type": "display_data"
    },
    {
     "name": "stdout",
     "output_type": "stream",
     "text": [
      "\n"
     ]
    },
    {
     "data": {
      "application/vnd.jupyter.widget-view+json": {
       "model_id": "9bd5fbac83c9428fbc0382823abf5413",
       "version_major": 2,
       "version_minor": 0
      },
      "text/plain": [
       "HBox(children=(IntProgress(value=0, max=12010500), HTML(value='')))"
      ]
     },
     "metadata": {},
     "output_type": "display_data"
    },
    {
     "name": "stdout",
     "output_type": "stream",
     "text": [
      "\n"
     ]
    }
   ],
   "source": [
    "import psycopg2\n",
    "from tqdm import tqdm_notebook\n",
    "\n",
    "chunk_size = 20000\n",
    "\n",
    "def insert_chunk(rows, table_name):\n",
    "    insert_query = 'INSERT INTO ' + table_name + ' (object_mid, relation, subject_mid) VALUES %s ON CONFLICT DO NOTHING;'\n",
    "    psycopg2.extras.execute_values(\n",
    "        cursor, insert_query, rows, template=None, page_size=100\n",
    "    )\n",
    "    \n",
    "for (table_name, data_path) in tables:\n",
    "    rows = []\n",
    "    for line in tqdm_notebook(open(data_path, 'r'), total=12010500):\n",
    "        # Build Chunks\n",
    "        split = line.split('\\t')\n",
    "        assert len(split) == 3, 'Malformed row'\n",
    "        subject = split[0].replace('www.freebase.com/m/', '').strip()\n",
    "        property_ = split[1].replace('www.freebase.com/', '').strip()\n",
    "        objects = [url.replace('www.freebase.com/m/', '').strip() for url in split[2].split()]\n",
    "        rows.extend([tuple([str(object_), str(property_), str(subject)]) for object_ in objects])\n",
    "\n",
    "        # Insert Chunk\n",
    "        if len(rows) > chunk_size:\n",
    "            insert_chunk(rows, table_name)\n",
    "            rows = []\n",
    "\n",
    "    insert_chunk(rows, table_name)\n"
   ]
  },
  {
   "cell_type": "code",
   "execution_count": 15,
   "metadata": {},
   "outputs": [],
   "source": [
    "connection.commit()"
   ]
  },
  {
   "cell_type": "markdown",
   "metadata": {},
   "source": [
    "Add indexes to the DB that will be useful in other notebooks."
   ]
  },
  {
   "cell_type": "code",
   "execution_count": 16,
   "metadata": {},
   "outputs": [],
   "source": [
    "for (table_name, _) in tables:\n",
    "    cursor.execute(\"\"\"\n",
    "        CREATE INDEX %s_relation_index ON %s (relation);\n",
    "        CREATE INDEX %s_subject_mid_index ON %s (subject_mid);\"\"\" % (table_name, table_name, \n",
    "                                                                     table_name, table_name))\n",
    "    connection.commit()"
   ]
  },
  {
   "cell_type": "code",
   "execution_count": 17,
   "metadata": {},
   "outputs": [],
   "source": [
    "cursor.close()\n",
    "connection.close()"
   ]
  }
 ],
 "metadata": {
  "kernelspec": {
   "display_name": "Python 3",
   "language": "python",
   "name": "python3"
  },
  "language_info": {
   "codemirror_mode": {
    "name": "ipython",
    "version": 3
   },
   "file_extension": ".py",
   "mimetype": "text/x-python",
   "name": "python",
   "nbconvert_exporter": "python",
   "pygments_lexer": "ipython3",
   "version": "3.6.12"
  }
 },
 "nbformat": 4,
 "nbformat_minor": 2
}
