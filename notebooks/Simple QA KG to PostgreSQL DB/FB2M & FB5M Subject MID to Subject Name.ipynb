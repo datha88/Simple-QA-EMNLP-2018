{
 "cells": [
  {
   "cell_type": "markdown",
   "metadata": {},
   "source": [
    "# FB2M & FB5M Subject MID to Subject Name\n",
    "\n",
    "Using the full Freebase KG we query for subject aliases per every MID with relations like `type.object.name`, `common.topic.alias`, `rdf-schema#label` and `medicine.drug_formulation.brand_names`."
   ]
  },
  {
   "cell_type": "code",
   "execution_count": 4,
   "metadata": {},
   "outputs": [],
   "source": [
    "import sys\n",
    "sys.path.insert(0, '../../')\n",
    "from lib.data import FB5M_KG\n",
    "from lib.data import FB2M_KG\n",
    "from lib.data import FB2M_NAME_TABLE\n",
    "from lib.data import FB5M_NAME_TABLE\n",
    "from lib.connect import get_connection \n",
    "\n",
    "connection = get_connection()\n",
    "cursor = connection.cursor()\n",
    "\n",
    "tables = [(FB5M_KG, FB5M_NAME_TABLE), (FB2M_KG, FB2M_NAME_TABLE)]"
   ]
  },
  {
   "cell_type": "code",
   "execution_count": 5,
   "metadata": {},
   "outputs": [],
   "source": [
    "def get_all_subject_mids(kg_table_name):\n",
    "    \"\"\" Get all subject MIDs in the KG \"\"\"\n",
    "    all_subject_mids = set()\n",
    "    cursor.execute(\"\"\"SELECT subject_mid FROM %s\"\"\" % (kg_table_name,))\n",
    "    for (mid,) in cursor.fetchall():\n",
    "        all_subject_mids.add(mid)\n",
    "    return all_subject_mids"
   ]
  },
  {
   "cell_type": "code",
   "execution_count": 6,
   "metadata": {},
   "outputs": [
    {
     "name": "stderr",
     "output_type": "stream",
     "text": [
      "ERROR:root:An unexpected error occurred while tokenizing input\n",
      "The following traceback may be corrupted or invalid\n",
      "The error message is: ('EOF in multi-line string', (1, 37))\n",
      "\n"
     ]
    },
    {
     "ename": "ProgrammingError",
     "evalue": "relation \"fb_two_subject_name\" already exists\n",
     "output_type": "error",
     "traceback": [
      "\u001b[0;31m---------------------------------------------------------------------------\u001b[0m",
      "\u001b[0;31mProgrammingError\u001b[0m                          Traceback (most recent call last)",
      "\u001b[0;32m<ipython-input-6-eb2fd185ddf5>\u001b[0m in \u001b[0;36m<module>\u001b[0;34m()\u001b[0m\n\u001b[1;32m      4\u001b[0m             (mid varchar NOT NULL,\n\u001b[1;32m      5\u001b[0m             \u001b[0malias\u001b[0m \u001b[0mvarchar\u001b[0m \u001b[0mNOT\u001b[0m \u001b[0mNULL\u001b[0m\u001b[0;34m,\u001b[0m\u001b[0;34m\u001b[0m\u001b[0m\n\u001b[0;32m----> 6\u001b[0;31m             PRIMARY KEY(mid, alias));\"\"\" % (alias_table_name,))\n\u001b[0m",
      "\u001b[0;31mProgrammingError\u001b[0m: relation \"fb_two_subject_name\" already exists\n"
     ]
    }
   ],
   "source": [
    "for (_, alias_table_name) in tables:\n",
    "    cursor.execute(\"\"\"\n",
    "        CREATE TABLE %s\n",
    "            (mid varchar NOT NULL,\n",
    "            alias varchar NOT NULL,\n",
    "            PRIMARY KEY(mid, alias));\"\"\" % (alias_table_name,))"
   ]
  },
  {
   "cell_type": "code",
   "execution_count": null,
   "metadata": {},
   "outputs": [],
   "source": [
    "import psycopg2\n",
    "from tqdm import tqdm_notebook\n",
    "\n",
    "chunk_size = 10000\n",
    "\n",
    "def insert_chunk(rows, alias_table_name):\n",
    "    insert_query = 'INSERT INTO ' + alias_table_name + ' (mid, alias) VALUES %s ON CONFLICT DO NOTHING;'\n",
    "    psycopg2.extras.execute_values(\n",
    "        cursor, insert_query, rows, template=None\n",
    "    )\n",
    "    \n",
    "def get_aliases(mid):\n",
    "    sql = \"\"\"\n",
    "        SELECT object\n",
    "        FROM fb\n",
    "        WHERE subject = '<http://rdf.freebase.com/ns/m.%s>'\n",
    "        AND object LIKE '%%@en'\n",
    "        AND relation IN ('<http://rdf.freebase.com/ns/type.object.name>',\n",
    "                         '<http://rdf.freebase.com/ns/common.topic.alias>',\n",
    "                         '<http://www.w3.org/2000/01/rdf-schema#label>',\n",
    "                         '<http://rdf.freebase.com/ns/medicine.drug_formulation.brand_names>')\n",
    "        \"\"\" % (mid,)\n",
    "    cursor.execute(sql)\n",
    "    aliases = [row[0].replace('@en', '').strip('\"').lower() for row in cursor.fetchall()]\n",
    "    # NOTE: Questions are all under 300 characters some aliases are not\n",
    "    return set([a for a in aliases if len(a) < 300])\n",
    "\n",
    "def get_replace_mid(mid):\n",
    "    # MID may have been replaced if there are no aliases \n",
    "    # <http://rdf.freebase.com/ns/dataworld.gardening_hint.replaced_by>\n",
    "    sql = \"\"\"\n",
    "        SELECT object\n",
    "        FROM fb\n",
    "        WHERE subject = '<http://rdf.freebase.com/ns/m.%s>'\n",
    "        AND relation = '<http://rdf.freebase.com/ns/dataworld.gardening_hint.replaced_by>'\n",
    "    \"\"\" % (mid,)\n",
    "    cursor.execute(sql)\n",
    "    mids = [row[0] for row in cursor.fetchall()]\n",
    "    assert len(mids) <= 1\n",
    "    if len(mids) == 1:\n",
    "        return mids[0].replace('<http://rdf.freebase.com/ns/m.', '').rstrip('>')\n",
    "    return None\n",
    "\n",
    "for (kg_table_name, alias_table_name) in tables:\n",
    "    all_mids = get_all_subject_mids(kg_table_name)\n",
    "    print('Got %d mids' % len(all_mids))\n",
    "    print('Sample:', list(all_mids)[:5])\n",
    "\n",
    "    rows = []\n",
    "    for mid in tqdm_notebook(all_mids):\n",
    "        # Build Chunks\n",
    "        aliases = get_aliases(mid)\n",
    "        if len(aliases) == 0:\n",
    "            other_mid = get_replace_mid(mid)\n",
    "            if other_mid is not None:\n",
    "                aliases = get_aliases(other_mid)\n",
    "\n",
    "        rows.extend([tuple([mid, alias]) for alias in aliases])\n",
    "\n",
    "        # Insert Chunk\n",
    "        if len(rows) > chunk_size:\n",
    "            insert_chunk(rows, alias_table_name)\n",
    "            rows = []\n",
    "\n",
    "    insert_chunk(rows, alias_table_name)"
   ]
  },
  {
   "cell_type": "code",
   "execution_count": null,
   "metadata": {},
   "outputs": [],
   "source": [
    "connection.commit()"
   ]
  },
  {
   "cell_type": "markdown",
   "metadata": {},
   "source": [
    "Add indexes to the DB that will be useful in other notebooks."
   ]
  },
  {
   "cell_type": "code",
   "execution_count": null,
   "metadata": {},
   "outputs": [],
   "source": [
    "for (_, alias_table_name) in tables:\n",
    "    cursor.execute('CREATE INDEX %s_alias_index ON %s (alias);' % (alias_table_name, alias_table_name))\n",
    "    cursor.execute('CREATE INDEX %s_mid_index ON %s (mid);' % (alias_table_name, alias_table_name))\n",
    "    cursor.execute('CREATE INDEX %s_mid_alias_index ON %s (mid, alias);' % (alias_table_name, alias_table_name))\n",
    "    connection.commit()"
   ]
  },
  {
   "cell_type": "code",
   "execution_count": null,
   "metadata": {},
   "outputs": [],
   "source": [
    "cursor.close()\n",
    "connection.close()"
   ]
  }
 ],
 "metadata": {
  "kernelspec": {
   "display_name": "Python 3",
   "language": "python",
   "name": "python3"
  },
  "language_info": {
   "codemirror_mode": {
    "name": "ipython",
    "version": 3
   },
   "file_extension": ".py",
   "mimetype": "text/x-python",
   "name": "python",
   "nbconvert_exporter": "python",
   "pygments_lexer": "ipython3",
   "version": "3.6.4"
  }
 },
 "nbformat": 4,
 "nbformat_minor": 2
}
