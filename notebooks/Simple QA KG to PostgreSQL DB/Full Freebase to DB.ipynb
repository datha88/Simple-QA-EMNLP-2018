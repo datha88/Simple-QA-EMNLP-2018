{
 "cells": [
  {
   "cell_type": "markdown",
   "metadata": {},
   "source": [
    "# Full Freebase to DB\n",
    "\n",
    "The dump of Freebase can be found here: https://developers.google.com/freebase\n",
    "\n",
    "Here are some of the ids in Freebase: https://stackoverflow.com/questions/24272840/freebase-g-vs-m-namespace-ids"
   ]
  },
  {
   "cell_type": "code",
   "execution_count": 2,
   "metadata": {},
   "outputs": [],
   "source": [
    "import sys\n",
    "sys.path.insert(0, '../../')\n",
    "from scripts.utils.connect import get_connection \n",
    "\n",
    "connection = get_connection()\n",
    "cursor = connection.cursor()\n",
    "\n",
    "fb = '../../data/freebase-rdf-latest.gz'"
   ]
  },
  {
   "cell_type": "code",
   "execution_count": null,
   "metadata": {},
   "outputs": [],
   "source": [
    "cursor.execute(\"\"\"\n",
    "    CREATE TABLE fb\n",
    "        (id SERIAL PRIMARY KEY,,\n",
    "        subject varchar NOT NULL,\n",
    "        relation varchar NOT NULL,\n",
    "        object varchar NOT NULL);\"\"\")"
   ]
  },
  {
   "cell_type": "code",
   "execution_count": null,
   "metadata": {},
   "outputs": [],
   "source": [
    "from tqdm import tqdm_notebook\n",
    "import subprocess\n",
    "import random\n",
    "\n",
    "chunk_size = 10000\n",
    "\n",
    "    \n",
    "def insert_chunk(rows):\n",
    "    insert_query = 'INSERT INTO fb (subject, relation, object) VALUES %s ON CONFLICT DO NOTHING;'\n",
    "    psycopg2.extras.execute_values(\n",
    "        cursor, insert_query, rows, template=None, page_size=100\n",
    "    )\n",
    "    \n",
    "def is_relevant(split, all_mids):\n",
    "    for token in split:\n",
    "        if 'http://rdf.freebase.com/ns/m.' in token:\n",
    "            mid = token.rstrip('>')\n",
    "            mid = mid.lstrip('<')\n",
    "            mid = mid.replace('http://rdf.freebase.com/ns/m.', '')\n",
    "            if mid in all_mids:\n",
    "                return True\n",
    "    return False\n",
    "\n",
    "rows = []\n",
    "gzip = subprocess.Popen(['gzip', '-cdfq', fb], stdout=subprocess.PIPE)\n",
    "for i, line in tqdm_notebook(enumerate(gzip.stdout), total=3130696870):\n",
    "    line = line.decode('UTF-8')\n",
    "\n",
    "    # Build Chunks\n",
    "    split = line.split('\\t')[:3]\n",
    "    assert len(split) == 3, 'Malformed row'\n",
    "    if is_relevant(split, all_mids):\n",
    "        rows.append(tuple(split))\n",
    "    \n",
    "    # Insert Chunk\n",
    "    if len(rows) > chunk_size:\n",
    "        insert_chunk(rows)\n",
    "        rows = []\n",
    "\n",
    "insert_chunk(rows)"
   ]
  },
  {
   "cell_type": "code",
   "execution_count": null,
   "metadata": {},
   "outputs": [],
   "source": [
    "connection.commit()"
   ]
  },
  {
   "cell_type": "code",
   "execution_count": null,
   "metadata": {},
   "outputs": [],
   "source": [
    "cursor.execute(\"\"\"\n",
    "    CREATE INDEX fb_subject_index ON fb(subject);\"\"\")\n",
    "connection.commit()"
   ]
  },
  {
   "cell_type": "code",
   "execution_count": null,
   "metadata": {},
   "outputs": [],
   "source": [
    "cursor.close()\n",
    "connection.close()"
   ]
  }
 ],
 "metadata": {
  "kernelspec": {
   "display_name": "Python 3",
   "language": "python",
   "name": "python3"
  },
  "language_info": {
   "codemirror_mode": {
    "name": "ipython",
    "version": 3
   },
   "file_extension": ".py",
   "mimetype": "text/x-python",
   "name": "python",
   "nbconvert_exporter": "python",
   "pygments_lexer": "ipython3",
   "version": "3.6.4"
  }
 },
 "nbformat": 4,
 "nbformat_minor": 2
}
